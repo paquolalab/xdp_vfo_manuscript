{
 "cells": [
  {
   "cell_type": "markdown",
   "id": "b7bb6041-7731-4547-9056-a480b4d87546",
   "metadata": {
    "jp-MarkdownHeadingCollapsed": true,
    "tags": []
   },
   "source": [
    "# Table of Contents\n",
    "\n",
    "* [Introduction](#Introduction)\n",
    "* [Analysis](#Analysis)\n",
    "* [Report](#Report)\n",
    "\n",
    "# Introduction\n",
    "\n",
    "Author: Alan Lorenzetti  \n",
    "Date: 06/06/2024    \n",
    "\n",
    "In this analysis, I explored the results for a Nanopore cDNA sequencing for the 5' RACE experiment of the putative XDP-SVA transcript."
   ]
  },
  {
   "cell_type": "markdown",
   "id": "e6e60e65-5ca6-46c8-8d24-e5bccb4754d6",
   "metadata": {},
   "source": [
    "# Analysis"
   ]
  },
  {
   "cell_type": "markdown",
   "id": "14acb80b-8c2e-49bc-9c46-52993bc029b8",
   "metadata": {},
   "source": [
    "## Setup"
   ]
  },
  {
   "cell_type": "code",
   "execution_count": 1,
   "id": "f21d3047-64a0-45a8-9a8e-a225e6f10513",
   "metadata": {
    "execution": {
     "iopub.execute_input": "2024-06-10T21:15:28.730251Z",
     "iopub.status.busy": "2024-06-10T21:15:28.724375Z",
     "iopub.status.idle": "2024-06-10T21:15:47.633704Z",
     "shell.execute_reply": "2024-06-10T21:15:47.630747Z"
    },
    "scrolled": true,
    "vscode": {
     "languageId": "r"
    }
   },
   "outputs": [
    {
     "name": "stderr",
     "output_type": "stream",
     "text": [
      "Loading required package: tidyverse\n",
      "\n"
     ]
    },
    {
     "name": "stderr",
     "output_type": "stream",
     "text": [
      "── \u001b[1mAttaching core tidyverse packages\u001b[22m ──────────────────────── tidyverse 2.0.0 ──\n",
      "\u001b[32m✔\u001b[39m \u001b[34mdplyr    \u001b[39m 1.1.4     \u001b[32m✔\u001b[39m \u001b[34mreadr    \u001b[39m 2.1.5\n",
      "\u001b[32m✔\u001b[39m \u001b[34mforcats  \u001b[39m 1.0.0     \u001b[32m✔\u001b[39m \u001b[34mstringr  \u001b[39m 1.5.1\n",
      "\u001b[32m✔\u001b[39m \u001b[34mggplot2  \u001b[39m 3.5.1     \u001b[32m✔\u001b[39m \u001b[34mtibble   \u001b[39m 3.2.1\n",
      "\u001b[32m✔\u001b[39m \u001b[34mlubridate\u001b[39m 1.9.3     \u001b[32m✔\u001b[39m \u001b[34mtidyr    \u001b[39m 1.3.1\n",
      "\u001b[32m✔\u001b[39m \u001b[34mpurrr    \u001b[39m 1.0.2     \n"
     ]
    },
    {
     "name": "stderr",
     "output_type": "stream",
     "text": [
      "── \u001b[1mConflicts\u001b[22m ────────────────────────────────────────── tidyverse_conflicts() ──\n",
      "\u001b[31m✖\u001b[39m \u001b[34mdplyr\u001b[39m::\u001b[32mfilter()\u001b[39m masks \u001b[34mstats\u001b[39m::filter()\n",
      "\u001b[31m✖\u001b[39m \u001b[34mdplyr\u001b[39m::\u001b[32mlag()\u001b[39m    masks \u001b[34mstats\u001b[39m::lag()\n",
      "\u001b[36mℹ\u001b[39m Use the conflicted package (\u001b[3m\u001b[34m<http://conflicted.r-lib.org/>\u001b[39m\u001b[23m) to force all conflicts to become errors\n"
     ]
    },
    {
     "name": "stderr",
     "output_type": "stream",
     "text": [
      "Loading required package: openxlsx\n",
      "\n"
     ]
    },
    {
     "name": "stderr",
     "output_type": "stream",
     "text": [
      "Loading required package: Rsamtools\n",
      "\n"
     ]
    },
    {
     "name": "stderr",
     "output_type": "stream",
     "text": [
      "Loading required package: GenomeInfoDb\n",
      "\n"
     ]
    },
    {
     "name": "stderr",
     "output_type": "stream",
     "text": [
      "Loading required package: BiocGenerics\n",
      "\n"
     ]
    },
    {
     "name": "stderr",
     "output_type": "stream",
     "text": [
      "\n",
      "Attaching package: ‘BiocGenerics’\n",
      "\n",
      "\n"
     ]
    },
    {
     "name": "stderr",
     "output_type": "stream",
     "text": [
      "The following objects are masked from ‘package:lubridate’:\n",
      "\n",
      "    intersect, setdiff, union\n",
      "\n",
      "\n"
     ]
    },
    {
     "name": "stderr",
     "output_type": "stream",
     "text": [
      "The following objects are masked from ‘package:dplyr’:\n",
      "\n",
      "    combine, intersect, setdiff, union\n",
      "\n",
      "\n"
     ]
    },
    {
     "name": "stderr",
     "output_type": "stream",
     "text": [
      "The following objects are masked from ‘package:stats’:\n",
      "\n",
      "    IQR, mad, sd, var, xtabs\n",
      "\n",
      "\n"
     ]
    },
    {
     "name": "stderr",
     "output_type": "stream",
     "text": [
      "The following objects are masked from ‘package:base’:\n",
      "\n",
      "    anyDuplicated, aperm, append, as.data.frame, basename, cbind,\n",
      "    colnames, dirname, do.call, duplicated, eval, evalq, Filter, Find,\n",
      "    get, grep, grepl, intersect, is.unsorted, lapply, Map, mapply,\n",
      "    match, mget, order, paste, pmax, pmax.int, pmin, pmin.int,\n",
      "    Position, rank, rbind, Reduce, rownames, sapply, setdiff, table,\n",
      "    tapply, union, unique, unsplit, which.max, which.min\n",
      "\n",
      "\n"
     ]
    },
    {
     "name": "stderr",
     "output_type": "stream",
     "text": [
      "Loading required package: S4Vectors\n",
      "\n"
     ]
    },
    {
     "name": "stderr",
     "output_type": "stream",
     "text": [
      "Loading required package: stats4\n",
      "\n"
     ]
    },
    {
     "name": "stderr",
     "output_type": "stream",
     "text": [
      "\n",
      "Attaching package: ‘S4Vectors’\n",
      "\n",
      "\n"
     ]
    },
    {
     "name": "stderr",
     "output_type": "stream",
     "text": [
      "The following objects are masked from ‘package:lubridate’:\n",
      "\n",
      "    second, second<-\n",
      "\n",
      "\n"
     ]
    },
    {
     "name": "stderr",
     "output_type": "stream",
     "text": [
      "The following objects are masked from ‘package:dplyr’:\n",
      "\n",
      "    first, rename\n",
      "\n",
      "\n"
     ]
    },
    {
     "name": "stderr",
     "output_type": "stream",
     "text": [
      "The following object is masked from ‘package:tidyr’:\n",
      "\n",
      "    expand\n",
      "\n",
      "\n"
     ]
    },
    {
     "name": "stderr",
     "output_type": "stream",
     "text": [
      "The following object is masked from ‘package:utils’:\n",
      "\n",
      "    findMatches\n",
      "\n",
      "\n"
     ]
    },
    {
     "name": "stderr",
     "output_type": "stream",
     "text": [
      "The following objects are masked from ‘package:base’:\n",
      "\n",
      "    expand.grid, I, unname\n",
      "\n",
      "\n"
     ]
    },
    {
     "name": "stderr",
     "output_type": "stream",
     "text": [
      "Loading required package: IRanges\n",
      "\n"
     ]
    },
    {
     "name": "stderr",
     "output_type": "stream",
     "text": [
      "\n",
      "Attaching package: ‘IRanges’\n",
      "\n",
      "\n"
     ]
    },
    {
     "name": "stderr",
     "output_type": "stream",
     "text": [
      "The following object is masked from ‘package:lubridate’:\n",
      "\n",
      "    %within%\n",
      "\n",
      "\n"
     ]
    },
    {
     "name": "stderr",
     "output_type": "stream",
     "text": [
      "The following objects are masked from ‘package:dplyr’:\n",
      "\n",
      "    collapse, desc, slice\n",
      "\n",
      "\n"
     ]
    },
    {
     "name": "stderr",
     "output_type": "stream",
     "text": [
      "The following object is masked from ‘package:purrr’:\n",
      "\n",
      "    reduce\n",
      "\n",
      "\n"
     ]
    },
    {
     "name": "stderr",
     "output_type": "stream",
     "text": [
      "Loading required package: GenomicRanges\n",
      "\n"
     ]
    },
    {
     "name": "stderr",
     "output_type": "stream",
     "text": [
      "Loading required package: Biostrings\n",
      "\n"
     ]
    },
    {
     "name": "stderr",
     "output_type": "stream",
     "text": [
      "Loading required package: XVector\n",
      "\n"
     ]
    },
    {
     "name": "stderr",
     "output_type": "stream",
     "text": [
      "\n",
      "Attaching package: ‘XVector’\n",
      "\n",
      "\n"
     ]
    },
    {
     "name": "stderr",
     "output_type": "stream",
     "text": [
      "The following object is masked from ‘package:purrr’:\n",
      "\n",
      "    compact\n",
      "\n",
      "\n"
     ]
    },
    {
     "name": "stderr",
     "output_type": "stream",
     "text": [
      "\n",
      "Attaching package: ‘Biostrings’\n",
      "\n",
      "\n"
     ]
    },
    {
     "name": "stderr",
     "output_type": "stream",
     "text": [
      "The following object is masked from ‘package:base’:\n",
      "\n",
      "    strsplit\n",
      "\n",
      "\n"
     ]
    },
    {
     "name": "stderr",
     "output_type": "stream",
     "text": [
      "Loading required package: GenomicAlignments\n",
      "\n"
     ]
    },
    {
     "name": "stderr",
     "output_type": "stream",
     "text": [
      "Loading required package: SummarizedExperiment\n",
      "\n"
     ]
    },
    {
     "name": "stderr",
     "output_type": "stream",
     "text": [
      "Loading required package: MatrixGenerics\n",
      "\n"
     ]
    },
    {
     "name": "stderr",
     "output_type": "stream",
     "text": [
      "Loading required package: matrixStats\n",
      "\n"
     ]
    },
    {
     "name": "stderr",
     "output_type": "stream",
     "text": [
      "\n",
      "Attaching package: ‘matrixStats’\n",
      "\n",
      "\n"
     ]
    },
    {
     "name": "stderr",
     "output_type": "stream",
     "text": [
      "The following object is masked from ‘package:dplyr’:\n",
      "\n",
      "    count\n",
      "\n",
      "\n"
     ]
    },
    {
     "name": "stderr",
     "output_type": "stream",
     "text": [
      "\n",
      "Attaching package: ‘MatrixGenerics’\n",
      "\n",
      "\n"
     ]
    },
    {
     "name": "stderr",
     "output_type": "stream",
     "text": [
      "The following objects are masked from ‘package:matrixStats’:\n",
      "\n",
      "    colAlls, colAnyNAs, colAnys, colAvgsPerRowSet, colCollapse,\n",
      "    colCounts, colCummaxs, colCummins, colCumprods, colCumsums,\n",
      "    colDiffs, colIQRDiffs, colIQRs, colLogSumExps, colMadDiffs,\n",
      "    colMads, colMaxs, colMeans2, colMedians, colMins, colOrderStats,\n",
      "    colProds, colQuantiles, colRanges, colRanks, colSdDiffs, colSds,\n",
      "    colSums2, colTabulates, colVarDiffs, colVars, colWeightedMads,\n",
      "    colWeightedMeans, colWeightedMedians, colWeightedSds,\n",
      "    colWeightedVars, rowAlls, rowAnyNAs, rowAnys, rowAvgsPerColSet,\n",
      "    rowCollapse, rowCounts, rowCummaxs, rowCummins, rowCumprods,\n",
      "    rowCumsums, rowDiffs, rowIQRDiffs, rowIQRs, rowLogSumExps,\n",
      "    rowMadDiffs, rowMads, rowMaxs, rowMeans2, rowMedians, rowMins,\n",
      "    rowOrderStats, rowProds, rowQuantiles, rowRanges, rowRanks,\n",
      "    rowSdDiffs, rowSds, rowSums2, rowTabulates, rowVarDiffs, rowVars,\n",
      "    rowWeightedMads, rowWeightedMeans, rowWeightedMedians,\n",
      "    rowWeightedSds, rowWeightedVars\n",
      "\n",
      "\n"
     ]
    },
    {
     "name": "stderr",
     "output_type": "stream",
     "text": [
      "Loading required package: Biobase\n",
      "\n"
     ]
    },
    {
     "name": "stderr",
     "output_type": "stream",
     "text": [
      "Welcome to Bioconductor\n",
      "\n",
      "    Vignettes contain introductory material; view with\n",
      "    'browseVignettes()'. To cite Bioconductor, see\n",
      "    'citation(\"Biobase\")', and for packages 'citation(\"pkgname\")'.\n",
      "\n",
      "\n"
     ]
    },
    {
     "name": "stderr",
     "output_type": "stream",
     "text": [
      "\n",
      "Attaching package: ‘Biobase’\n",
      "\n",
      "\n"
     ]
    },
    {
     "name": "stderr",
     "output_type": "stream",
     "text": [
      "The following object is masked from ‘package:MatrixGenerics’:\n",
      "\n",
      "    rowMedians\n",
      "\n",
      "\n"
     ]
    },
    {
     "name": "stderr",
     "output_type": "stream",
     "text": [
      "The following objects are masked from ‘package:matrixStats’:\n",
      "\n",
      "    anyMissing, rowMedians\n",
      "\n",
      "\n"
     ]
    },
    {
     "name": "stderr",
     "output_type": "stream",
     "text": [
      "\n",
      "Attaching package: ‘GenomicAlignments’\n",
      "\n",
      "\n"
     ]
    },
    {
     "name": "stderr",
     "output_type": "stream",
     "text": [
      "The following object is masked from ‘package:dplyr’:\n",
      "\n",
      "    last\n",
      "\n",
      "\n"
     ]
    },
    {
     "name": "stderr",
     "output_type": "stream",
     "text": [
      "Loading required package: foreach\n",
      "\n"
     ]
    },
    {
     "name": "stderr",
     "output_type": "stream",
     "text": [
      "\n",
      "Attaching package: ‘foreach’\n",
      "\n",
      "\n"
     ]
    },
    {
     "name": "stderr",
     "output_type": "stream",
     "text": [
      "The following objects are masked from ‘package:purrr’:\n",
      "\n",
      "    accumulate, when\n",
      "\n",
      "\n"
     ]
    },
    {
     "name": "stderr",
     "output_type": "stream",
     "text": [
      "Loading required package: doParallel\n",
      "\n"
     ]
    },
    {
     "name": "stderr",
     "output_type": "stream",
     "text": [
      "Loading required package: iterators\n",
      "\n"
     ]
    },
    {
     "name": "stderr",
     "output_type": "stream",
     "text": [
      "Loading required package: parallel\n",
      "\n"
     ]
    },
    {
     "name": "stderr",
     "output_type": "stream",
     "text": [
      "Loading required package: pwalign\n",
      "\n"
     ]
    },
    {
     "name": "stderr",
     "output_type": "stream",
     "text": [
      "\n",
      "Attaching package: ‘pwalign’\n",
      "\n",
      "\n"
     ]
    },
    {
     "name": "stderr",
     "output_type": "stream",
     "text": [
      "The following objects are masked from ‘package:Biostrings’:\n",
      "\n",
      "    aligned, alignedPattern, alignedSubject, compareStrings, deletion,\n",
      "    errorSubstitutionMatrices, indel, insertion, mismatchSummary,\n",
      "    mismatchTable, nedit, nindel, nucleotideSubstitutionMatrix,\n",
      "    pairwiseAlignment, PairwiseAlignments,\n",
      "    PairwiseAlignmentsSingleSubject, pid, qualitySubstitutionMatrices,\n",
      "    stringDist, unaligned, writePairwiseAlignments\n",
      "\n",
      "\n"
     ]
    },
    {
     "name": "stderr",
     "output_type": "stream",
     "text": [
      "Loading required package: data.table\n",
      "\n"
     ]
    },
    {
     "name": "stderr",
     "output_type": "stream",
     "text": [
      "\n",
      "Attaching package: ‘data.table’\n",
      "\n",
      "\n"
     ]
    },
    {
     "name": "stderr",
     "output_type": "stream",
     "text": [
      "The following objects are masked from ‘package:GenomicAlignments’:\n",
      "\n",
      "    first, last, second\n",
      "\n",
      "\n"
     ]
    },
    {
     "name": "stderr",
     "output_type": "stream",
     "text": [
      "The following object is masked from ‘package:SummarizedExperiment’:\n",
      "\n",
      "    shift\n",
      "\n",
      "\n"
     ]
    },
    {
     "name": "stderr",
     "output_type": "stream",
     "text": [
      "The following object is masked from ‘package:GenomicRanges’:\n",
      "\n",
      "    shift\n",
      "\n",
      "\n"
     ]
    },
    {
     "name": "stderr",
     "output_type": "stream",
     "text": [
      "The following object is masked from ‘package:IRanges’:\n",
      "\n",
      "    shift\n",
      "\n",
      "\n"
     ]
    },
    {
     "name": "stderr",
     "output_type": "stream",
     "text": [
      "The following objects are masked from ‘package:S4Vectors’:\n",
      "\n",
      "    first, second\n",
      "\n",
      "\n"
     ]
    },
    {
     "name": "stderr",
     "output_type": "stream",
     "text": [
      "The following objects are masked from ‘package:lubridate’:\n",
      "\n",
      "    hour, isoweek, mday, minute, month, quarter, second, wday, week,\n",
      "    yday, year\n",
      "\n",
      "\n"
     ]
    },
    {
     "name": "stderr",
     "output_type": "stream",
     "text": [
      "The following objects are masked from ‘package:dplyr’:\n",
      "\n",
      "    between, first, last\n",
      "\n",
      "\n"
     ]
    },
    {
     "name": "stderr",
     "output_type": "stream",
     "text": [
      "The following object is masked from ‘package:purrr’:\n",
      "\n",
      "    transpose\n",
      "\n",
      "\n"
     ]
    },
    {
     "name": "stderr",
     "output_type": "stream",
     "text": [
      "Loading required package: scales\n",
      "\n"
     ]
    },
    {
     "name": "stderr",
     "output_type": "stream",
     "text": [
      "\n",
      "Attaching package: ‘scales’\n",
      "\n",
      "\n"
     ]
    },
    {
     "name": "stderr",
     "output_type": "stream",
     "text": [
      "The following object is masked from ‘package:purrr’:\n",
      "\n",
      "    discard\n",
      "\n",
      "\n"
     ]
    },
    {
     "name": "stderr",
     "output_type": "stream",
     "text": [
      "The following object is masked from ‘package:readr’:\n",
      "\n",
      "    col_factor\n",
      "\n",
      "\n"
     ]
    },
    {
     "name": "stderr",
     "output_type": "stream",
     "text": [
      "Loading required package: heatmaps\n",
      "\n"
     ]
    },
    {
     "name": "stderr",
     "output_type": "stream",
     "text": [
      "\n",
      "Attaching package: ‘heatmaps’\n",
      "\n",
      "\n"
     ]
    },
    {
     "name": "stderr",
     "output_type": "stream",
     "text": [
      "The following object is masked from ‘package:SummarizedExperiment’:\n",
      "\n",
      "    metadata<-\n",
      "\n",
      "\n"
     ]
    },
    {
     "name": "stderr",
     "output_type": "stream",
     "text": [
      "The following objects are masked from ‘package:S4Vectors’:\n",
      "\n",
      "    metadata, metadata<-\n",
      "\n",
      "\n"
     ]
    },
    {
     "name": "stderr",
     "output_type": "stream",
     "text": [
      "The following object is masked from ‘package:lubridate’:\n",
      "\n",
      "    ym\n",
      "\n",
      "\n"
     ]
    },
    {
     "name": "stderr",
     "output_type": "stream",
     "text": [
      "The following object is masked from ‘package:base’:\n",
      "\n",
      "    scale\n",
      "\n",
      "\n"
     ]
    },
    {
     "name": "stderr",
     "output_type": "stream",
     "text": [
      "Loading required package: IRdisplay\n",
      "\n"
     ]
    },
    {
     "data": {
      "text/html": [
       "<ol>\n",
       "\t<li>TRUE</li>\n",
       "\t<li>TRUE</li>\n",
       "\t<li>TRUE</li>\n",
       "\t<li>TRUE</li>\n",
       "\t<li>TRUE</li>\n",
       "\t<li>TRUE</li>\n",
       "\t<li>TRUE</li>\n",
       "\t<li>TRUE</li>\n",
       "\t<li>TRUE</li>\n",
       "\t<li>TRUE</li>\n",
       "\t<li>TRUE</li>\n",
       "\t<li>TRUE</li>\n",
       "</ol>\n"
      ],
      "text/latex": [
       "\\begin{enumerate}\n",
       "\\item TRUE\n",
       "\\item TRUE\n",
       "\\item TRUE\n",
       "\\item TRUE\n",
       "\\item TRUE\n",
       "\\item TRUE\n",
       "\\item TRUE\n",
       "\\item TRUE\n",
       "\\item TRUE\n",
       "\\item TRUE\n",
       "\\item TRUE\n",
       "\\item TRUE\n",
       "\\end{enumerate}\n"
      ],
      "text/markdown": [
       "1. TRUE\n",
       "2. TRUE\n",
       "3. TRUE\n",
       "4. TRUE\n",
       "5. TRUE\n",
       "6. TRUE\n",
       "7. TRUE\n",
       "8. TRUE\n",
       "9. TRUE\n",
       "10. TRUE\n",
       "11. TRUE\n",
       "12. TRUE\n",
       "\n",
       "\n"
      ],
      "text/plain": [
       "[[1]]\n",
       "[1] TRUE\n",
       "\n",
       "[[2]]\n",
       "[1] TRUE\n",
       "\n",
       "[[3]]\n",
       "[1] TRUE\n",
       "\n",
       "[[4]]\n",
       "[1] TRUE\n",
       "\n",
       "[[5]]\n",
       "[1] TRUE\n",
       "\n",
       "[[6]]\n",
       "[1] TRUE\n",
       "\n",
       "[[7]]\n",
       "[1] TRUE\n",
       "\n",
       "[[8]]\n",
       "[1] TRUE\n",
       "\n",
       "[[9]]\n",
       "[1] TRUE\n",
       "\n",
       "[[10]]\n",
       "[1] TRUE\n",
       "\n",
       "[[11]]\n",
       "[1] TRUE\n",
       "\n",
       "[[12]]\n",
       "[1] TRUE\n"
      ]
     },
     "metadata": {},
     "output_type": "display_data"
    }
   ],
   "source": [
    "# 20240606 alorenzetti\n",
    "\n",
    "# description ####\n",
    "# this script will analyze\n",
    "# the 5 RACE nanopore seq\n",
    "# results\n",
    "\n",
    "# setting up ####\n",
    "# loading libs\n",
    "packs = c(\n",
    " \"tidyverse\",\n",
    " \"openxlsx\",\n",
    " \"Rsamtools\",\n",
    " \"GenomicAlignments\",\n",
    " \"foreach\",\n",
    " \"doParallel\",\n",
    " \"Biostrings\",\n",
    " \"pwalign\",\n",
    " \"data.table\",\n",
    " \"scales\",\n",
    " \"heatmaps\",\n",
    " \"IRdisplay\"\n",
    ")\n",
    "\n",
    "lapply(packs, require, character.only = TRUE)\n",
    "\n",
    "# setting theme\n",
    "theme_set(theme_bw())\n",
    "\n",
    "# loading ggthemes data\n",
    "load(\"../_h/ggthemes_data.rda\")\n",
    "tab10_pal = ggthemes_data[[\"tableau\"]][[\"color-palettes\"]][[\"regular\"]][[\"Tableau 10\"]]\n",
    "tab10_pal_colblind = ggthemes_data[[\"tableau\"]][[\"color-palettes\"]][[\"regular\"]][[\"Color Blind\"]]\n",
    "\n",
    "# setting working directory relative to _h\n",
    "if(!dir.exists(\"../_m\")){dir.create(\"../_m\")}\n",
    "setwd(\"../_m/\")"
   ]
  },
  {
   "cell_type": "code",
   "execution_count": 2,
   "id": "138b2be8-2c22-40fa-aebf-40c5176dd85f",
   "metadata": {
    "execution": {
     "iopub.execute_input": "2024-06-10T21:15:47.685606Z",
     "iopub.status.busy": "2024-06-10T21:15:47.641479Z",
     "iopub.status.idle": "2024-06-10T21:15:47.702328Z",
     "shell.execute_reply": "2024-06-10T21:15:47.699604Z"
    },
    "vscode": {
     "languageId": "r"
    }
   },
   "outputs": [],
   "source": [
    "# # workaround to install new packages inside the container\n",
    "# # while it is not ready\n",
    "# if(!dir.exists(\"~/R_libs\")){dir.create(\"~/R_libs\")}\n",
    "# .libPaths(c(\"~/R_libs\", .libPaths()))\n",
    "# BiocManager::install(\"heatmaps\")"
   ]
  },
  {
   "cell_type": "code",
   "execution_count": 3,
   "id": "3cc00d12-232b-47fb-8028-07e8bcb84dc0",
   "metadata": {
    "execution": {
     "iopub.execute_input": "2024-06-10T21:15:47.712019Z",
     "iopub.status.busy": "2024-06-10T21:15:47.709797Z",
     "iopub.status.idle": "2024-06-10T21:15:47.730986Z",
     "shell.execute_reply": "2024-06-10T21:15:47.728230Z"
    },
    "vscode": {
     "languageId": "r"
    }
   },
   "outputs": [],
   "source": [
    "# defining theme pubr\n",
    "# from ggpubr package\n",
    "# https://github.com/kassambara/ggpubr/blob/master/R/theme_pubr.R\n",
    "theme_pubr <- function (base_size = 12, base_family = \"\",\n",
    "                        border = FALSE, margin = TRUE,\n",
    "                        legend = c(\"top\", \"bottom\", \"left\", \"right\", \"none\"),\n",
    "                        x.text.angle = 0)\n",
    "{\n",
    "  half_line <- base_size/2\n",
    "  if(!is.numeric(legend)) legend <- match.arg(legend)\n",
    "  if(x.text.angle > 5) xhjust <- 1 else xhjust <- NULL\n",
    "\n",
    "  if(border){\n",
    "    panel.border <- element_rect(fill = NA, colour = \"black\", size = 0.7)\n",
    "    axis.line <- element_blank()\n",
    "  }\n",
    "  else{\n",
    "    panel.border <- element_blank()\n",
    "    axis.line = element_line(colour = \"black\", size = 0.5)\n",
    "  }\n",
    "\n",
    "\n",
    "  if(margin)\n",
    "    plot.margin <- margin(half_line, half_line, half_line,\n",
    "                          half_line)\n",
    "  else plot.margin <- unit(c(0.5,0.3,0.3,0.3),\"mm\")\n",
    "\n",
    "  .theme <- theme_bw(base_size = base_size, base_family = base_family) %+replace%\n",
    "    theme(panel.border = panel.border,\n",
    "          panel.grid.major = element_blank(),\n",
    "          panel.grid.minor = element_blank(),\n",
    "          axis.line = axis.line, axis.text = element_text(color = \"black\"),\n",
    "          legend.key = element_blank(),\n",
    "          strip.background = element_rect(fill = \"#F2F2F2\", colour = \"black\", size = 0.7),\n",
    "          plot.margin = plot.margin,\n",
    "          legend.position = legend,\n",
    "          complete = TRUE)\n",
    "\n",
    "  if(x.text.angle!=0)\n",
    "    .theme <- .theme + theme(axis.text.x = element_text(angle = x.text.angle, hjust = xhjust))\n",
    "\n",
    "  .theme\n",
    "}"
   ]
  },
  {
   "cell_type": "code",
   "execution_count": 4,
   "id": "fd85ba5f-f6df-4573-84a5-750bfc039f21",
   "metadata": {
    "execution": {
     "iopub.execute_input": "2024-06-10T21:15:47.740655Z",
     "iopub.status.busy": "2024-06-10T21:15:47.738479Z",
     "iopub.status.idle": "2024-06-10T21:15:47.759503Z",
     "shell.execute_reply": "2024-06-10T21:15:47.756763Z"
    },
    "vscode": {
     "languageId": "r"
    }
   },
   "outputs": [],
   "source": [
    "# setting up functions ####\n",
    "# read bam files\n",
    "read_bam = function(bamfile, libname, region = NULL){\n",
    "\n",
    "    filepath = bamfile\n",
    "    \n",
    "    params = ScanBamParam(what = c(\"flag\",\n",
    "                                   \"qname\",\n",
    "                                   \"rname\",\n",
    "                                   \"strand\",\n",
    "                                   \"pos\",\n",
    "                                   \"qwidth\",\n",
    "                                   \"cigar\",\n",
    "                                   \"seq\",\n",
    "                                   \"qual\",\n",
    "                                   \"mapq\"),\n",
    "                          flag = scanBamFlag(isSecondaryAlignment = F,\n",
    "                                             isSupplementaryAlignment = F),\n",
    "                          tag = c(\"qs\", \"dx\", \"RG\")\n",
    "                         )\n",
    "    \n",
    "    if(!is.null(region)){\n",
    "        roi = makeGRangesFromDataFrame(df = region,\n",
    "                                       ignore.strand = T)\n",
    "        params = ScanBamParam(what = c(\"flag\",\n",
    "                                       \"qname\",\n",
    "                                       \"rname\",\n",
    "                                       \"strand\",\n",
    "                                       \"pos\",\n",
    "                                       \"qwidth\",\n",
    "                                       \"cigar\",\n",
    "                                       \"seq\",\n",
    "                                       \"qual\",\n",
    "                                       \"mapq\"),\n",
    "                          which = roi,\n",
    "                          flag = scanBamFlag(isSecondaryAlignment = F,\n",
    "                                             isSupplementaryAlignment = F),\n",
    "                          tag = c(\"qs\", \"dx\", \"RG\")\n",
    "                         )\n",
    "    }\n",
    "    \n",
    "    bam = list()\n",
    "    bam$ori = scanBam(file = filepath, param = params)\n",
    "    bam$parsed = tibble(flag = bam$ori[[1]]$flag,\n",
    "                        qname = bam$ori[[1]]$qname,\n",
    "                        rname = bam$ori[[1]]$rname,\n",
    "                        strand = bam$ori[[1]]$strand,\n",
    "                        pos = bam$ori[[1]]$pos,\n",
    "                        qwidth = bam$ori[[1]]$qwidth,\n",
    "                        qwidth_after_softclipping = cigarWidthAlongQuerySpace(bam$ori[[1]]$cigar, after.soft.clipping = T),\n",
    "                        qs_tag = bam$ori[[1]]$tag$qs,\n",
    "                        dx_tag = bam$ori[[1]]$tag$dx,\n",
    "                        RG_tag = bam$ori[[1]]$tag$RG,\n",
    "                        seq = bam$ori[[1]]$seq %>% as.character(),\n",
    "                        qual = bam$ori[[1]]$qual %>% as.character(),\n",
    "                        cigar = bam$ori[[1]]$cigar,\n",
    "                        mapq = bam$ori[[1]]$mapq\n",
    "                       )\n",
    "    \n",
    "    return(bam$parsed)\n",
    "}"
   ]
  },
  {
   "cell_type": "code",
   "execution_count": 5,
   "id": "19032499-5bdd-4388-b6ef-d79a366cc80a",
   "metadata": {
    "execution": {
     "iopub.execute_input": "2024-06-10T21:15:47.769404Z",
     "iopub.status.busy": "2024-06-10T21:15:47.767265Z",
     "iopub.status.idle": "2024-06-10T21:15:47.788189Z",
     "shell.execute_reply": "2024-06-10T21:15:47.785417Z"
    },
    "vscode": {
     "languageId": "r"
    }
   },
   "outputs": [],
   "source": [
    "# these functions will detect whether there is more\n",
    "# than one hit of a string in a sequence\n",
    "count_str_nhits = function(input_line, pattern, col_names){\n",
    "\n",
    "    max_mm = round(0.2 * nchar(pattern))\n",
    "    \n",
    "    pw = countPattern(pattern = pattern,\n",
    "                      subject = input_line$seq,\n",
    "                      max.mismatch = max_mm,\n",
    "                      with.indels = T,\n",
    "                      algorithm = \"auto\")\n",
    "\n",
    "    new = tibble(!!col_names[1] := input_line$qname,\n",
    "                 !!col_names[2] := input_line$RG_tag,\n",
    "                 !!col_names[3] := pw)\n",
    "\n",
    "    return(new)\n",
    "}"
   ]
  },
  {
   "cell_type": "code",
   "execution_count": 6,
   "id": "04f66d1c-6ea8-44f8-b7df-b0a4ee793515",
   "metadata": {
    "execution": {
     "iopub.execute_input": "2024-06-10T21:15:47.797868Z",
     "iopub.status.busy": "2024-06-10T21:15:47.795622Z",
     "iopub.status.idle": "2024-06-10T21:15:47.816145Z",
     "shell.execute_reply": "2024-06-10T21:15:47.813411Z"
    },
    "vscode": {
     "languageId": "r"
    }
   },
   "outputs": [],
   "source": [
    "search_str_nhits = function(input_table, prefix, pattern, threads = 1){\n",
    "    registerDoParallel(threads)\n",
    "    \n",
    "    column_names = c(\"qname\", \"RG_tag\", paste0(prefix, \"__\", c(\"n_hits\")))\n",
    "\n",
    "    res = foreach(k = 1:dim(input_table)[1], .combine=\"c\") %dopar% {\n",
    "        list(\n",
    "            count_str_nhits(input_line = input_table[k,],\n",
    "                            pattern = pattern,\n",
    "                            col_names = column_names)\n",
    "        )\n",
    "    }\n",
    "\n",
    "    res = rbindlist(res)\n",
    "    \n",
    "    registerDoSEQ()\n",
    "    \n",
    "    return(res)\n",
    "}"
   ]
  },
  {
   "cell_type": "code",
   "execution_count": 7,
   "id": "a9343b31-8d65-4ea2-a604-f7feee12fff5",
   "metadata": {
    "execution": {
     "iopub.execute_input": "2024-06-10T21:15:47.825995Z",
     "iopub.status.busy": "2024-06-10T21:15:47.823850Z",
     "iopub.status.idle": "2024-06-10T21:15:47.844858Z",
     "shell.execute_reply": "2024-06-10T21:15:47.842025Z"
    },
    "vscode": {
     "languageId": "r"
    }
   },
   "outputs": [],
   "source": [
    "# this helper function will run\n",
    "# a pairwise alignment and return a tibble\n",
    "run_pw = function(input_line, pattern, col_names){\n",
    "\n",
    "    pw = pwalign::pairwiseAlignment(pattern = pattern,\n",
    "                                    subject = input_line$seq,\n",
    "                                    type = \"overlap\")\n",
    "    \n",
    "    pat = ranges(pattern(pw))\n",
    "    sub = ranges(subject(pw))\n",
    "\n",
    "    new = tibble(!!col_names[1] := input_line$qname,\n",
    "                 !!col_names[2] := input_line$RG_tag,\n",
    "                 !!col_names[3] := start(sub),\n",
    "                 !!col_names[4] := end(sub),\n",
    "                 !!col_names[5] := width(sub)/nchar(pattern),\n",
    "                 !!col_names[6] := score(pw))\n",
    "\n",
    "    return(new)\n",
    "}"
   ]
  },
  {
   "cell_type": "code",
   "execution_count": 8,
   "id": "88d041ff-e4b4-47dd-9888-231caa1b7826",
   "metadata": {
    "execution": {
     "iopub.execute_input": "2024-06-10T21:15:47.854289Z",
     "iopub.status.busy": "2024-06-10T21:15:47.852098Z",
     "iopub.status.idle": "2024-06-10T21:15:47.872551Z",
     "shell.execute_reply": "2024-06-10T21:15:47.869784Z"
    },
    "vscode": {
     "languageId": "r"
    }
   },
   "outputs": [],
   "source": [
    "# this function will take a table bam table with\n",
    "# seqs and will search for a pattern\n",
    "search_pattern = function(input_table, prefix, pattern, threads = 1){\n",
    "    registerDoParallel(threads)\n",
    "    \n",
    "    column_names = c(\"qname\", \"RG_tag\", paste0(prefix, \"__\", c(\"start\", \"end\", \"coverage\", \"score\")))\n",
    "\n",
    "    res = foreach(k = 1:dim(input_table)[1], .combine=\"c\") %dopar% {\n",
    "        list(\n",
    "            run_pw(input_line = input_table[k,],\n",
    "            pattern = pattern,\n",
    "            col_names = column_names)\n",
    "        )\n",
    "    }\n",
    "\n",
    "    res = rbindlist(res)\n",
    "    \n",
    "    registerDoSEQ()\n",
    "    \n",
    "    return(res)\n",
    "}"
   ]
  },
  {
   "cell_type": "markdown",
   "id": "c633b7a5-751c-420c-9062-c23efdc70ead",
   "metadata": {},
   "source": [
    "## Reading and inspecting source files"
   ]
  },
  {
   "cell_type": "code",
   "execution_count": 9,
   "id": "68bf49f2-7b1a-4e83-a457-7d49b9fa607f",
   "metadata": {
    "execution": {
     "iopub.execute_input": "2024-06-10T21:15:47.882499Z",
     "iopub.status.busy": "2024-06-10T21:15:47.880341Z",
     "iopub.status.idle": "2024-06-10T21:15:58.364103Z",
     "shell.execute_reply": "2024-06-10T21:15:58.361775Z"
    },
    "vscode": {
     "languageId": "r"
    }
   },
   "outputs": [
    {
     "name": "stderr",
     "output_type": "stream",
     "text": [
      "\u001b[1mRows: \u001b[22m\u001b[34m1419347\u001b[39m \u001b[1mColumns: \u001b[22m\u001b[34m12\u001b[39m\n"
     ]
    },
    {
     "name": "stderr",
     "output_type": "stream",
     "text": [
      "\u001b[36m──\u001b[39m \u001b[1mColumn specification\u001b[22m \u001b[36m────────────────────────────────────────────────────────\u001b[39m\n",
      "\u001b[1mDelimiter:\u001b[22m \"\\t\"\n",
      "\u001b[31mchr\u001b[39m (4): filename, read_id, run_id, barcode\n",
      "\u001b[32mdbl\u001b[39m (8): channel, mux, start_time, duration, template_start, template_durati...\n"
     ]
    },
    {
     "name": "stderr",
     "output_type": "stream",
     "text": [
      "\n",
      "\u001b[36mℹ\u001b[39m Use `spec()` to retrieve the full column specification for this data.\n",
      "\u001b[36mℹ\u001b[39m Specify the column types or set `show_col_types = FALSE` to quiet this message.\n"
     ]
    }
   ],
   "source": [
    "# main code ####\n",
    "# reading metadata\n",
    "# metadata = read.xlsx(xlsxFile = \"5_RACE_PCRs_2024_by_AMcC.xlsx\")\n",
    "\n",
    "# reading base call summary\n",
    "bc_summary = read_tsv(\"base_called__summary.tsv\")"
   ]
  },
  {
   "cell_type": "code",
   "execution_count": 10,
   "id": "35cca3df-ae96-4d2b-b1da-f8fe9451a7b1",
   "metadata": {
    "execution": {
     "iopub.execute_input": "2024-06-10T21:15:58.373613Z",
     "iopub.status.busy": "2024-06-10T21:15:58.370856Z",
     "iopub.status.idle": "2024-06-10T21:15:58.544212Z",
     "shell.execute_reply": "2024-06-10T21:15:58.541931Z"
    },
    "scrolled": true,
    "vscode": {
     "languageId": "r"
    }
   },
   "outputs": [
    {
     "data": {
      "text/html": [
       "<table class=\"dataframe\">\n",
       "<caption>A spec_tbl_df: 1419347 × 12</caption>\n",
       "<thead>\n",
       "\t<tr><th scope=col>filename</th><th scope=col>read_id</th><th scope=col>run_id</th><th scope=col>channel</th><th scope=col>mux</th><th scope=col>start_time</th><th scope=col>duration</th><th scope=col>template_start</th><th scope=col>template_duration</th><th scope=col>sequence_length_template</th><th scope=col>mean_qscore_template</th><th scope=col>barcode</th></tr>\n",
       "\t<tr><th scope=col>&lt;chr&gt;</th><th scope=col>&lt;chr&gt;</th><th scope=col>&lt;chr&gt;</th><th scope=col>&lt;dbl&gt;</th><th scope=col>&lt;dbl&gt;</th><th scope=col>&lt;dbl&gt;</th><th scope=col>&lt;dbl&gt;</th><th scope=col>&lt;dbl&gt;</th><th scope=col>&lt;dbl&gt;</th><th scope=col>&lt;dbl&gt;</th><th scope=col>&lt;dbl&gt;</th><th scope=col>&lt;chr&gt;</th></tr>\n",
       "</thead>\n",
       "<tbody>\n",
       "\t<tr><td>channel-2.pod5</td><td>7f5c30ff-06d5-40ca-a158-0bf8f0006e45</td><td>abec48112e16db78870dfa2608a493c37f72289c</td><td>2</td><td>1</td><td>3835.59</td><td>0.3924</td><td>3835.60</td><td>0.3904</td><td> 199</td><td>17</td><td>unclassified</td></tr>\n",
       "\t<tr><td>channel-2.pod5</td><td>5d847f49-2c48-4409-a677-a6b0eb65a7f2</td><td>abec48112e16db78870dfa2608a493c37f72289c</td><td>2</td><td>1</td><td>3834.08</td><td>0.5558</td><td>3834.08</td><td>0.5538</td><td> 202</td><td>13</td><td>unclassified</td></tr>\n",
       "\t<tr><td>channel-2.pod5</td><td>9385e408-3691-49b9-b742-87f729d273b8</td><td>abec48112e16db78870dfa2608a493c37f72289c</td><td>2</td><td>1</td><td>3830.02</td><td>0.4296</td><td>3830.02</td><td>0.4276</td><td> 198</td><td>15</td><td>unclassified</td></tr>\n",
       "\t<tr><td>channel-2.pod5</td><td>a479d54a-8bf1-40f0-8faa-e7b93b512f0f</td><td>abec48112e16db78870dfa2608a493c37f72289c</td><td>2</td><td>1</td><td>3829.58</td><td>0.4366</td><td>3829.58</td><td>0.4346</td><td> 208</td><td>12</td><td>unclassified</td></tr>\n",
       "\t<tr><td>channel-2.pod5</td><td>39f19aca-7ccc-4810-8e75-696e294ad4fd</td><td>abec48112e16db78870dfa2608a493c37f72289c</td><td>2</td><td>1</td><td>3823.14</td><td>0.4852</td><td>3823.14</td><td>0.4832</td><td> 217</td><td>13</td><td>unclassified</td></tr>\n",
       "\t<tr><td>channel-2.pod5</td><td>4f5f24bb-f02f-4c55-aada-25ad98c065ab</td><td>abec48112e16db78870dfa2608a493c37f72289c</td><td>2</td><td>1</td><td>3828.19</td><td>0.4680</td><td>3828.19</td><td>0.4660</td><td> 239</td><td>16</td><td>unclassified</td></tr>\n",
       "\t<tr><td>channel-2.pod5</td><td>66d564e3-1409-46bd-b318-780e1075612a</td><td>abec48112e16db78870dfa2608a493c37f72289c</td><td>2</td><td>1</td><td>3821.87</td><td>0.8538</td><td>3821.87</td><td>0.8518</td><td> 372</td><td>13</td><td>unclassified</td></tr>\n",
       "\t<tr><td>channel-2.pod5</td><td>240658e5-fc5b-4f93-8e28-08595952cd5a</td><td>abec48112e16db78870dfa2608a493c37f72289c</td><td>2</td><td>1</td><td>3821.29</td><td>0.5264</td><td>3821.29</td><td>0.5244</td><td> 219</td><td>13</td><td>unclassified</td></tr>\n",
       "\t<tr><td>channel-2.pod5</td><td>cd989f6e-bdd7-4963-b240-b3a12a9583b1</td><td>abec48112e16db78870dfa2608a493c37f72289c</td><td>2</td><td>1</td><td>3820.37</td><td>0.3436</td><td>3820.38</td><td>0.3416</td><td> 193</td><td>17</td><td>unclassified</td></tr>\n",
       "\t<tr><td>channel-2.pod5</td><td>4d1215f9-58c4-4f3a-b001-ea3e25c10f4e</td><td>abec48112e16db78870dfa2608a493c37f72289c</td><td>2</td><td>1</td><td>3820.74</td><td>0.4844</td><td>3820.75</td><td>0.4824</td><td> 217</td><td>20</td><td>unclassified</td></tr>\n",
       "\t<tr><td>channel-2.pod5</td><td>c9b00b93-82df-42f5-9008-2413c647ae21</td><td>abec48112e16db78870dfa2608a493c37f72289c</td><td>2</td><td>1</td><td>3817.53</td><td>0.4740</td><td>3817.53</td><td>0.4720</td><td> 197</td><td>26</td><td>unclassified</td></tr>\n",
       "\t<tr><td>channel-2.pod5</td><td>279fa084-6d49-4889-b12d-e58c08cab7f7</td><td>abec48112e16db78870dfa2608a493c37f72289c</td><td>2</td><td>1</td><td>3816.95</td><td>0.5386</td><td>3816.95</td><td>0.5366</td><td> 242</td><td>19</td><td>unclassified</td></tr>\n",
       "\t<tr><td>channel-2.pod5</td><td>60da76d3-ac49-4a96-9c28-a0289add5bd9</td><td>abec48112e16db78870dfa2608a493c37f72289c</td><td>2</td><td>1</td><td>3818.07</td><td>2.1900</td><td>3818.07</td><td>2.1880</td><td>1096</td><td>18</td><td>unclassified</td></tr>\n",
       "\t<tr><td>channel-2.pod5</td><td>1fe00cb2-3a01-49ff-868e-57592a482d47</td><td>abec48112e16db78870dfa2608a493c37f72289c</td><td>2</td><td>1</td><td>3815.73</td><td>0.6318</td><td>3815.73</td><td>0.6298</td><td> 330</td><td>17</td><td>unclassified</td></tr>\n",
       "\t<tr><td>channel-2.pod5</td><td>d7d6b552-e4d4-4d43-ade0-2ce6d2ae4ceb</td><td>abec48112e16db78870dfa2608a493c37f72289c</td><td>2</td><td>1</td><td>3814.07</td><td>0.4116</td><td>3814.07</td><td>0.4096</td><td> 194</td><td>24</td><td>unclassified</td></tr>\n",
       "\t<tr><td>channel-2.pod5</td><td>dede9d79-2927-4a9c-a525-55fc38ab0a12</td><td>abec48112e16db78870dfa2608a493c37f72289c</td><td>2</td><td>1</td><td>3814.74</td><td>0.3586</td><td>3814.74</td><td>0.3566</td><td> 187</td><td>19</td><td>unclassified</td></tr>\n",
       "\t<tr><td>channel-2.pod5</td><td>94db3e45-9bcb-4d95-88c9-c6c024f30439</td><td>abec48112e16db78870dfa2608a493c37f72289c</td><td>2</td><td>1</td><td>3810.91</td><td>0.4868</td><td>3810.91</td><td>0.4848</td><td> 195</td><td>14</td><td>unclassified</td></tr>\n",
       "\t<tr><td>channel-2.pod5</td><td>274d588f-4f83-47de-9623-55465774f4ec</td><td>abec48112e16db78870dfa2608a493c37f72289c</td><td>2</td><td>1</td><td>3808.65</td><td>2.1200</td><td>3808.65</td><td>2.1180</td><td>1094</td><td>17</td><td>unclassified</td></tr>\n",
       "\t<tr><td>channel-2.pod5</td><td>20ea354c-98db-4700-89bc-da040b34a8c2</td><td>abec48112e16db78870dfa2608a493c37f72289c</td><td>2</td><td>1</td><td>3811.42</td><td>2.0972</td><td>3811.42</td><td>2.0952</td><td>1071</td><td>13</td><td>unclassified</td></tr>\n",
       "\t<tr><td>channel-2.pod5</td><td>39dac8e6-2cb8-40a1-aff4-06814acd24bf</td><td>abec48112e16db78870dfa2608a493c37f72289c</td><td>2</td><td>1</td><td>3805.52</td><td>0.5328</td><td>3805.53</td><td>0.5308</td><td> 242</td><td>19</td><td>unclassified</td></tr>\n",
       "\t<tr><td>channel-2.pod5</td><td>6678c995-5441-40e4-8e10-56783f993b08</td><td>abec48112e16db78870dfa2608a493c37f72289c</td><td>2</td><td>1</td><td>3804.93</td><td>0.4024</td><td>3804.93</td><td>0.4004</td><td> 197</td><td>13</td><td>unclassified</td></tr>\n",
       "\t<tr><td>channel-2.pod5</td><td>49ddadf6-5101-4bf8-a716-e0011ce0c5ab</td><td>abec48112e16db78870dfa2608a493c37f72289c</td><td>2</td><td>1</td><td>3804.44</td><td>0.4894</td><td>3804.44</td><td>0.4874</td><td> 234</td><td>16</td><td>unclassified</td></tr>\n",
       "\t<tr><td>channel-2.pod5</td><td>91d30ad9-e38c-4967-8954-9661feb19e69</td><td>abec48112e16db78870dfa2608a493c37f72289c</td><td>2</td><td>1</td><td>3802.27</td><td>0.4740</td><td>3802.27</td><td>0.4720</td><td> 220</td><td>14</td><td>unclassified</td></tr>\n",
       "\t<tr><td>channel-2.pod5</td><td>6906387b-e00f-42c2-a692-d5bb6a10bbef</td><td>abec48112e16db78870dfa2608a493c37f72289c</td><td>2</td><td>1</td><td>3832.55</td><td>0.4016</td><td>3832.55</td><td>0.3996</td><td> 201</td><td>14</td><td>unclassified</td></tr>\n",
       "\t<tr><td>channel-2.pod5</td><td>dc6d80f0-896e-4f41-b379-27b2aca01c99</td><td>abec48112e16db78870dfa2608a493c37f72289c</td><td>2</td><td>1</td><td>3801.54</td><td>0.5074</td><td>3801.54</td><td>0.5054</td><td> 238</td><td>18</td><td>unclassified</td></tr>\n",
       "\t<tr><td>channel-2.pod5</td><td>f8e06bf0-023f-49a6-94b7-fdaf64902fc9</td><td>abec48112e16db78870dfa2608a493c37f72289c</td><td>2</td><td>1</td><td>3785.51</td><td>2.0322</td><td>3785.51</td><td>2.0302</td><td>1070</td><td>18</td><td>unclassified</td></tr>\n",
       "\t<tr><td>channel-2.pod5</td><td>40d705fc-9dce-4250-a3b2-e5efe7156815</td><td>abec48112e16db78870dfa2608a493c37f72289c</td><td>2</td><td>1</td><td>3788.82</td><td>0.4362</td><td>3788.82</td><td>0.4342</td><td> 196</td><td>12</td><td>unclassified</td></tr>\n",
       "\t<tr><td>channel-2.pod5</td><td>91c0a817-37b5-405d-a9d1-e49c8f9133df</td><td>abec48112e16db78870dfa2608a493c37f72289c</td><td>2</td><td>1</td><td>3791.86</td><td>0.3924</td><td>3791.86</td><td>0.3904</td><td> 198</td><td>13</td><td>unclassified</td></tr>\n",
       "\t<tr><td>channel-2.pod5</td><td>34cf2424-ed20-479d-b0f2-2cf23b88cbc9</td><td>abec48112e16db78870dfa2608a493c37f72289c</td><td>2</td><td>1</td><td>3792.29</td><td>8.7064</td><td>3792.29</td><td>8.7044</td><td>4535</td><td>17</td><td>unclassified</td></tr>\n",
       "\t<tr><td>channel-2.pod5</td><td>055d7f92-074d-4d22-8905-4d0adbb83a03</td><td>abec48112e16db78870dfa2608a493c37f72289c</td><td>2</td><td>1</td><td>3783.49</td><td>0.4844</td><td>3783.50</td><td>0.4824</td><td> 209</td><td>15</td><td>unclassified</td></tr>\n",
       "\t<tr><td>⋮</td><td>⋮</td><td>⋮</td><td>⋮</td><td>⋮</td><td>⋮</td><td>⋮</td><td>⋮</td><td>⋮</td><td>⋮</td><td>⋮</td><td>⋮</td></tr>\n",
       "\t<tr><td>NA              </td><td>9a56c25e-30e3-4153-8a7a-a59cf0cec2ee;307feca0-1bdb-4c53-bcc4-9ee49bbc5979</td><td>abec48112e16db78870dfa2608a493c37f72289c</td><td>126</td><td>1</td><td> 9440.63</td><td>0.0000</td><td>     NaN</td><td>   NaN</td><td>3494</td><td>29</td><td>unclassified</td></tr>\n",
       "\t<tr><td>channel-126.pod5</td><td>9a56c25e-30e3-4153-8a7a-a59cf0cec2ee                                     </td><td>abec48112e16db78870dfa2608a493c37f72289c</td><td>126</td><td>1</td><td> 9440.63</td><td>7.6478</td><td> 9440.63</td><td>7.6458</td><td>3588</td><td>18</td><td>unclassified</td></tr>\n",
       "\t<tr><td>NA              </td><td>21475f4f-e5b2-4f12-9718-f40b8733929b;e78e8465-04e5-4f28-b7a5-8d2823a857f5</td><td>abec48112e16db78870dfa2608a493c37f72289c</td><td>126</td><td>1</td><td> 9457.52</td><td>0.0000</td><td>     NaN</td><td>   NaN</td><td> 987</td><td>12</td><td>unclassified</td></tr>\n",
       "\t<tr><td>channel-126.pod5</td><td>307feca0-1bdb-4c53-bcc4-9ee49bbc5979                                     </td><td>abec48112e16db78870dfa2608a493c37f72289c</td><td>126</td><td>1</td><td> 9448.28</td><td>7.1320</td><td> 9448.28</td><td>7.1300</td><td>3559</td><td>16</td><td>unclassified</td></tr>\n",
       "\t<tr><td>channel-126.pod5</td><td>21475f4f-e5b2-4f12-9718-f40b8733929b                                     </td><td>abec48112e16db78870dfa2608a493c37f72289c</td><td>126</td><td>1</td><td> 9457.52</td><td>2.5500</td><td> 9457.52</td><td>2.5500</td><td>1195</td><td>16</td><td>unclassified</td></tr>\n",
       "\t<tr><td>NA              </td><td>a295b320-acc4-4f25-8f1c-1eab8cd06ae6;b98d5de5-7a9c-4288-9bfd-2eb18f96d262</td><td>abec48112e16db78870dfa2608a493c37f72289c</td><td>126</td><td>1</td><td> 9809.59</td><td>0.0000</td><td>     NaN</td><td>   NaN</td><td> 996</td><td>30</td><td>unclassified</td></tr>\n",
       "\t<tr><td>channel-126.pod5</td><td>e78e8465-04e5-4f28-b7a5-8d2823a857f5                                     </td><td>abec48112e16db78870dfa2608a493c37f72289c</td><td>126</td><td>1</td><td> 9460.07</td><td>3.0234</td><td> 9460.07</td><td>3.0234</td><td>1504</td><td>10</td><td>unclassified</td></tr>\n",
       "\t<tr><td>channel-126.pod5</td><td>a295b320-acc4-4f25-8f1c-1eab8cd06ae6                                     </td><td>abec48112e16db78870dfa2608a493c37f72289c</td><td>126</td><td>1</td><td> 9809.59</td><td>2.2426</td><td> 9809.59</td><td>2.2406</td><td>1068</td><td>18</td><td>unclassified</td></tr>\n",
       "\t<tr><td>channel-126.pod5</td><td>b98d5de5-7a9c-4288-9bfd-2eb18f96d262                                     </td><td>abec48112e16db78870dfa2608a493c37f72289c</td><td>126</td><td>1</td><td> 9811.91</td><td>2.3668</td><td> 9811.92</td><td>2.3648</td><td>1078</td><td>18</td><td>unclassified</td></tr>\n",
       "\t<tr><td>NA              </td><td>6dbd05e3-7a75-485e-8184-9196a7fbb637;bd23e21f-b542-4708-a67e-9387f14ef032</td><td>abec48112e16db78870dfa2608a493c37f72289c</td><td>126</td><td>1</td><td> 9828.42</td><td>0.0000</td><td>     NaN</td><td>   NaN</td><td>1009</td><td>26</td><td>unclassified</td></tr>\n",
       "\t<tr><td>channel-126.pod5</td><td>6dbd05e3-7a75-485e-8184-9196a7fbb637                                     </td><td>abec48112e16db78870dfa2608a493c37f72289c</td><td>126</td><td>1</td><td> 9828.42</td><td>2.3700</td><td> 9828.42</td><td>2.3700</td><td>1090</td><td>17</td><td>unclassified</td></tr>\n",
       "\t<tr><td>channel-126.pod5</td><td>bd23e21f-b542-4708-a67e-9387f14ef032                                     </td><td>abec48112e16db78870dfa2608a493c37f72289c</td><td>126</td><td>1</td><td> 9830.83</td><td>2.0418</td><td> 9830.83</td><td>2.0418</td><td>1090</td><td>16</td><td>unclassified</td></tr>\n",
       "\t<tr><td>NA              </td><td>4a690883-b596-4a24-b4f7-e6201cab7d4e;f0976dee-7e7a-44b5-b83e-28a2f5811543</td><td>abec48112e16db78870dfa2608a493c37f72289c</td><td>126</td><td>1</td><td> 9891.03</td><td>0.0000</td><td>     NaN</td><td>   NaN</td><td>2146</td><td>26</td><td>unclassified</td></tr>\n",
       "\t<tr><td>channel-126.pod5</td><td>4a690883-b596-4a24-b4f7-e6201cab7d4e                                     </td><td>abec48112e16db78870dfa2608a493c37f72289c</td><td>126</td><td>1</td><td> 9891.03</td><td>5.2368</td><td> 9891.03</td><td>5.2368</td><td>2382</td><td>21</td><td>unclassified</td></tr>\n",
       "\t<tr><td>channel-126.pod5</td><td>f0976dee-7e7a-44b5-b83e-28a2f5811543                                     </td><td>abec48112e16db78870dfa2608a493c37f72289c</td><td>126</td><td>1</td><td> 9896.26</td><td>4.5200</td><td> 9896.26</td><td>4.5200</td><td>2343</td><td>12</td><td>unclassified</td></tr>\n",
       "\t<tr><td>NA              </td><td>65d7f270-51c3-439b-8aff-2e6bcc611ead;9791626e-aa5a-4c74-ba35-ac4778061cbb</td><td>abec48112e16db78870dfa2608a493c37f72289c</td><td>126</td><td>1</td><td> 8473.07</td><td>0.0000</td><td>     NaN</td><td>   NaN</td><td>1555</td><td>22</td><td>unclassified</td></tr>\n",
       "\t<tr><td>channel-126.pod5</td><td>65d7f270-51c3-439b-8aff-2e6bcc611ead                                     </td><td>abec48112e16db78870dfa2608a493c37f72289c</td><td>126</td><td>1</td><td> 8473.07</td><td>3.9696</td><td> 8473.07</td><td>3.9696</td><td>1755</td><td>18</td><td>unclassified</td></tr>\n",
       "\t<tr><td>NA              </td><td>a9dd61dc-75ff-4ccb-8003-dabee84bd1b7;fff10b56-0c85-41be-85a6-36f80a30caf1</td><td>abec48112e16db78870dfa2608a493c37f72289c</td><td>126</td><td>1</td><td>10357.90</td><td>0.0000</td><td>     NaN</td><td>   NaN</td><td>1010</td><td>21</td><td>unclassified</td></tr>\n",
       "\t<tr><td>channel-126.pod5</td><td>9791626e-aa5a-4c74-ba35-ac4778061cbb                                     </td><td>abec48112e16db78870dfa2608a493c37f72289c</td><td>126</td><td>1</td><td> 8477.05</td><td>3.2454</td><td> 8477.05</td><td>3.2454</td><td>1696</td><td>10</td><td>unclassified</td></tr>\n",
       "\t<tr><td>channel-126.pod5</td><td>a9dd61dc-75ff-4ccb-8003-dabee84bd1b7                                     </td><td>abec48112e16db78870dfa2608a493c37f72289c</td><td>126</td><td>1</td><td>10357.90</td><td>2.2074</td><td>10357.90</td><td>2.2054</td><td>1082</td><td>17</td><td>unclassified</td></tr>\n",
       "\t<tr><td>channel-126.pod5</td><td>fff10b56-0c85-41be-85a6-36f80a30caf1                                     </td><td>abec48112e16db78870dfa2608a493c37f72289c</td><td>126</td><td>1</td><td>10360.10</td><td>2.1550</td><td>10360.10</td><td>2.1530</td><td>1089</td><td>16</td><td>unclassified</td></tr>\n",
       "\t<tr><td>NA              </td><td>21efc035-c695-4172-92e8-6240cce23149;5398182f-47d7-4d06-8383-c7007ae62266</td><td>abec48112e16db78870dfa2608a493c37f72289c</td><td>126</td><td>1</td><td>10267.40</td><td>0.0000</td><td>     NaN</td><td>   NaN</td><td>3499</td><td>27</td><td>unclassified</td></tr>\n",
       "\t<tr><td>channel-126.pod5</td><td>21efc035-c695-4172-92e8-6240cce23149                                     </td><td>abec48112e16db78870dfa2608a493c37f72289c</td><td>126</td><td>1</td><td>10267.40</td><td>7.7894</td><td>10267.40</td><td>7.7874</td><td>3594</td><td>18</td><td>unclassified</td></tr>\n",
       "\t<tr><td>NA              </td><td>9cbc8d76-8b1b-46b5-ab1d-5a15ec646fad;1f8fc5dc-6e56-437e-9d67-77e6888dbcee</td><td>abec48112e16db78870dfa2608a493c37f72289c</td><td>126</td><td>1</td><td>10550.20</td><td>0.0000</td><td>     NaN</td><td>   NaN</td><td> 973</td><td>22</td><td>unclassified</td></tr>\n",
       "\t<tr><td>channel-126.pod5</td><td>5398182f-47d7-4d06-8383-c7007ae62266                                     </td><td>abec48112e16db78870dfa2608a493c37f72289c</td><td>126</td><td>1</td><td>10275.20</td><td>7.2550</td><td>10275.20</td><td>7.2530</td><td>3601</td><td>17</td><td>unclassified</td></tr>\n",
       "\t<tr><td>channel-126.pod5</td><td>9cbc8d76-8b1b-46b5-ab1d-5a15ec646fad                                     </td><td>abec48112e16db78870dfa2608a493c37f72289c</td><td>126</td><td>1</td><td>10550.20</td><td>2.2654</td><td>10550.20</td><td>2.2634</td><td>1049</td><td>21</td><td>unclassified</td></tr>\n",
       "\t<tr><td>channel-126.pod5</td><td>1f8fc5dc-6e56-437e-9d67-77e6888dbcee                                     </td><td>abec48112e16db78870dfa2608a493c37f72289c</td><td>126</td><td>1</td><td>10552.50</td><td>2.3686</td><td>10552.50</td><td>2.3666</td><td>1051</td><td>19</td><td>unclassified</td></tr>\n",
       "\t<tr><td>NA              </td><td>0418ef8a-0b37-49e0-a171-d7c44936e19c;49c569d0-c168-4bf1-9e04-a2b9d701ad54</td><td>abec48112e16db78870dfa2608a493c37f72289c</td><td>126</td><td>1</td><td>10714.20</td><td>0.0000</td><td>     NaN</td><td>   NaN</td><td>3492</td><td>25</td><td>unclassified</td></tr>\n",
       "\t<tr><td>channel-126.pod5</td><td>0418ef8a-0b37-49e0-a171-d7c44936e19c                                     </td><td>abec48112e16db78870dfa2608a493c37f72289c</td><td>126</td><td>1</td><td>10714.20</td><td>7.6270</td><td>10714.20</td><td>7.6250</td><td>3576</td><td>19</td><td>unclassified</td></tr>\n",
       "\t<tr><td>channel-126.pod5</td><td>49c569d0-c168-4bf1-9e04-a2b9d701ad54                                     </td><td>abec48112e16db78870dfa2608a493c37f72289c</td><td>126</td><td>1</td><td>10721.80</td><td>7.1310</td><td>10721.80</td><td>7.1290</td><td>3590</td><td>17</td><td>unclassified</td></tr>\n",
       "</tbody>\n",
       "</table>\n"
      ],
      "text/latex": [
       "A spec\\_tbl\\_df: 1419347 × 12\n",
       "\\begin{tabular}{llllllllllll}\n",
       " filename & read\\_id & run\\_id & channel & mux & start\\_time & duration & template\\_start & template\\_duration & sequence\\_length\\_template & mean\\_qscore\\_template & barcode\\\\\n",
       " <chr> & <chr> & <chr> & <dbl> & <dbl> & <dbl> & <dbl> & <dbl> & <dbl> & <dbl> & <dbl> & <chr>\\\\\n",
       "\\hline\n",
       "\t channel-2.pod5 & 7f5c30ff-06d5-40ca-a158-0bf8f0006e45 & abec48112e16db78870dfa2608a493c37f72289c & 2 & 1 & 3835.59 & 0.3924 & 3835.60 & 0.3904 &  199 & 17 & unclassified\\\\\n",
       "\t channel-2.pod5 & 5d847f49-2c48-4409-a677-a6b0eb65a7f2 & abec48112e16db78870dfa2608a493c37f72289c & 2 & 1 & 3834.08 & 0.5558 & 3834.08 & 0.5538 &  202 & 13 & unclassified\\\\\n",
       "\t channel-2.pod5 & 9385e408-3691-49b9-b742-87f729d273b8 & abec48112e16db78870dfa2608a493c37f72289c & 2 & 1 & 3830.02 & 0.4296 & 3830.02 & 0.4276 &  198 & 15 & unclassified\\\\\n",
       "\t channel-2.pod5 & a479d54a-8bf1-40f0-8faa-e7b93b512f0f & abec48112e16db78870dfa2608a493c37f72289c & 2 & 1 & 3829.58 & 0.4366 & 3829.58 & 0.4346 &  208 & 12 & unclassified\\\\\n",
       "\t channel-2.pod5 & 39f19aca-7ccc-4810-8e75-696e294ad4fd & abec48112e16db78870dfa2608a493c37f72289c & 2 & 1 & 3823.14 & 0.4852 & 3823.14 & 0.4832 &  217 & 13 & unclassified\\\\\n",
       "\t channel-2.pod5 & 4f5f24bb-f02f-4c55-aada-25ad98c065ab & abec48112e16db78870dfa2608a493c37f72289c & 2 & 1 & 3828.19 & 0.4680 & 3828.19 & 0.4660 &  239 & 16 & unclassified\\\\\n",
       "\t channel-2.pod5 & 66d564e3-1409-46bd-b318-780e1075612a & abec48112e16db78870dfa2608a493c37f72289c & 2 & 1 & 3821.87 & 0.8538 & 3821.87 & 0.8518 &  372 & 13 & unclassified\\\\\n",
       "\t channel-2.pod5 & 240658e5-fc5b-4f93-8e28-08595952cd5a & abec48112e16db78870dfa2608a493c37f72289c & 2 & 1 & 3821.29 & 0.5264 & 3821.29 & 0.5244 &  219 & 13 & unclassified\\\\\n",
       "\t channel-2.pod5 & cd989f6e-bdd7-4963-b240-b3a12a9583b1 & abec48112e16db78870dfa2608a493c37f72289c & 2 & 1 & 3820.37 & 0.3436 & 3820.38 & 0.3416 &  193 & 17 & unclassified\\\\\n",
       "\t channel-2.pod5 & 4d1215f9-58c4-4f3a-b001-ea3e25c10f4e & abec48112e16db78870dfa2608a493c37f72289c & 2 & 1 & 3820.74 & 0.4844 & 3820.75 & 0.4824 &  217 & 20 & unclassified\\\\\n",
       "\t channel-2.pod5 & c9b00b93-82df-42f5-9008-2413c647ae21 & abec48112e16db78870dfa2608a493c37f72289c & 2 & 1 & 3817.53 & 0.4740 & 3817.53 & 0.4720 &  197 & 26 & unclassified\\\\\n",
       "\t channel-2.pod5 & 279fa084-6d49-4889-b12d-e58c08cab7f7 & abec48112e16db78870dfa2608a493c37f72289c & 2 & 1 & 3816.95 & 0.5386 & 3816.95 & 0.5366 &  242 & 19 & unclassified\\\\\n",
       "\t channel-2.pod5 & 60da76d3-ac49-4a96-9c28-a0289add5bd9 & abec48112e16db78870dfa2608a493c37f72289c & 2 & 1 & 3818.07 & 2.1900 & 3818.07 & 2.1880 & 1096 & 18 & unclassified\\\\\n",
       "\t channel-2.pod5 & 1fe00cb2-3a01-49ff-868e-57592a482d47 & abec48112e16db78870dfa2608a493c37f72289c & 2 & 1 & 3815.73 & 0.6318 & 3815.73 & 0.6298 &  330 & 17 & unclassified\\\\\n",
       "\t channel-2.pod5 & d7d6b552-e4d4-4d43-ade0-2ce6d2ae4ceb & abec48112e16db78870dfa2608a493c37f72289c & 2 & 1 & 3814.07 & 0.4116 & 3814.07 & 0.4096 &  194 & 24 & unclassified\\\\\n",
       "\t channel-2.pod5 & dede9d79-2927-4a9c-a525-55fc38ab0a12 & abec48112e16db78870dfa2608a493c37f72289c & 2 & 1 & 3814.74 & 0.3586 & 3814.74 & 0.3566 &  187 & 19 & unclassified\\\\\n",
       "\t channel-2.pod5 & 94db3e45-9bcb-4d95-88c9-c6c024f30439 & abec48112e16db78870dfa2608a493c37f72289c & 2 & 1 & 3810.91 & 0.4868 & 3810.91 & 0.4848 &  195 & 14 & unclassified\\\\\n",
       "\t channel-2.pod5 & 274d588f-4f83-47de-9623-55465774f4ec & abec48112e16db78870dfa2608a493c37f72289c & 2 & 1 & 3808.65 & 2.1200 & 3808.65 & 2.1180 & 1094 & 17 & unclassified\\\\\n",
       "\t channel-2.pod5 & 20ea354c-98db-4700-89bc-da040b34a8c2 & abec48112e16db78870dfa2608a493c37f72289c & 2 & 1 & 3811.42 & 2.0972 & 3811.42 & 2.0952 & 1071 & 13 & unclassified\\\\\n",
       "\t channel-2.pod5 & 39dac8e6-2cb8-40a1-aff4-06814acd24bf & abec48112e16db78870dfa2608a493c37f72289c & 2 & 1 & 3805.52 & 0.5328 & 3805.53 & 0.5308 &  242 & 19 & unclassified\\\\\n",
       "\t channel-2.pod5 & 6678c995-5441-40e4-8e10-56783f993b08 & abec48112e16db78870dfa2608a493c37f72289c & 2 & 1 & 3804.93 & 0.4024 & 3804.93 & 0.4004 &  197 & 13 & unclassified\\\\\n",
       "\t channel-2.pod5 & 49ddadf6-5101-4bf8-a716-e0011ce0c5ab & abec48112e16db78870dfa2608a493c37f72289c & 2 & 1 & 3804.44 & 0.4894 & 3804.44 & 0.4874 &  234 & 16 & unclassified\\\\\n",
       "\t channel-2.pod5 & 91d30ad9-e38c-4967-8954-9661feb19e69 & abec48112e16db78870dfa2608a493c37f72289c & 2 & 1 & 3802.27 & 0.4740 & 3802.27 & 0.4720 &  220 & 14 & unclassified\\\\\n",
       "\t channel-2.pod5 & 6906387b-e00f-42c2-a692-d5bb6a10bbef & abec48112e16db78870dfa2608a493c37f72289c & 2 & 1 & 3832.55 & 0.4016 & 3832.55 & 0.3996 &  201 & 14 & unclassified\\\\\n",
       "\t channel-2.pod5 & dc6d80f0-896e-4f41-b379-27b2aca01c99 & abec48112e16db78870dfa2608a493c37f72289c & 2 & 1 & 3801.54 & 0.5074 & 3801.54 & 0.5054 &  238 & 18 & unclassified\\\\\n",
       "\t channel-2.pod5 & f8e06bf0-023f-49a6-94b7-fdaf64902fc9 & abec48112e16db78870dfa2608a493c37f72289c & 2 & 1 & 3785.51 & 2.0322 & 3785.51 & 2.0302 & 1070 & 18 & unclassified\\\\\n",
       "\t channel-2.pod5 & 40d705fc-9dce-4250-a3b2-e5efe7156815 & abec48112e16db78870dfa2608a493c37f72289c & 2 & 1 & 3788.82 & 0.4362 & 3788.82 & 0.4342 &  196 & 12 & unclassified\\\\\n",
       "\t channel-2.pod5 & 91c0a817-37b5-405d-a9d1-e49c8f9133df & abec48112e16db78870dfa2608a493c37f72289c & 2 & 1 & 3791.86 & 0.3924 & 3791.86 & 0.3904 &  198 & 13 & unclassified\\\\\n",
       "\t channel-2.pod5 & 34cf2424-ed20-479d-b0f2-2cf23b88cbc9 & abec48112e16db78870dfa2608a493c37f72289c & 2 & 1 & 3792.29 & 8.7064 & 3792.29 & 8.7044 & 4535 & 17 & unclassified\\\\\n",
       "\t channel-2.pod5 & 055d7f92-074d-4d22-8905-4d0adbb83a03 & abec48112e16db78870dfa2608a493c37f72289c & 2 & 1 & 3783.49 & 0.4844 & 3783.50 & 0.4824 &  209 & 15 & unclassified\\\\\n",
       "\t ⋮ & ⋮ & ⋮ & ⋮ & ⋮ & ⋮ & ⋮ & ⋮ & ⋮ & ⋮ & ⋮ & ⋮\\\\\n",
       "\t NA               & 9a56c25e-30e3-4153-8a7a-a59cf0cec2ee;307feca0-1bdb-4c53-bcc4-9ee49bbc5979 & abec48112e16db78870dfa2608a493c37f72289c & 126 & 1 &  9440.63 & 0.0000 &      NaN &    NaN & 3494 & 29 & unclassified\\\\\n",
       "\t channel-126.pod5 & 9a56c25e-30e3-4153-8a7a-a59cf0cec2ee                                      & abec48112e16db78870dfa2608a493c37f72289c & 126 & 1 &  9440.63 & 7.6478 &  9440.63 & 7.6458 & 3588 & 18 & unclassified\\\\\n",
       "\t NA               & 21475f4f-e5b2-4f12-9718-f40b8733929b;e78e8465-04e5-4f28-b7a5-8d2823a857f5 & abec48112e16db78870dfa2608a493c37f72289c & 126 & 1 &  9457.52 & 0.0000 &      NaN &    NaN &  987 & 12 & unclassified\\\\\n",
       "\t channel-126.pod5 & 307feca0-1bdb-4c53-bcc4-9ee49bbc5979                                      & abec48112e16db78870dfa2608a493c37f72289c & 126 & 1 &  9448.28 & 7.1320 &  9448.28 & 7.1300 & 3559 & 16 & unclassified\\\\\n",
       "\t channel-126.pod5 & 21475f4f-e5b2-4f12-9718-f40b8733929b                                      & abec48112e16db78870dfa2608a493c37f72289c & 126 & 1 &  9457.52 & 2.5500 &  9457.52 & 2.5500 & 1195 & 16 & unclassified\\\\\n",
       "\t NA               & a295b320-acc4-4f25-8f1c-1eab8cd06ae6;b98d5de5-7a9c-4288-9bfd-2eb18f96d262 & abec48112e16db78870dfa2608a493c37f72289c & 126 & 1 &  9809.59 & 0.0000 &      NaN &    NaN &  996 & 30 & unclassified\\\\\n",
       "\t channel-126.pod5 & e78e8465-04e5-4f28-b7a5-8d2823a857f5                                      & abec48112e16db78870dfa2608a493c37f72289c & 126 & 1 &  9460.07 & 3.0234 &  9460.07 & 3.0234 & 1504 & 10 & unclassified\\\\\n",
       "\t channel-126.pod5 & a295b320-acc4-4f25-8f1c-1eab8cd06ae6                                      & abec48112e16db78870dfa2608a493c37f72289c & 126 & 1 &  9809.59 & 2.2426 &  9809.59 & 2.2406 & 1068 & 18 & unclassified\\\\\n",
       "\t channel-126.pod5 & b98d5de5-7a9c-4288-9bfd-2eb18f96d262                                      & abec48112e16db78870dfa2608a493c37f72289c & 126 & 1 &  9811.91 & 2.3668 &  9811.92 & 2.3648 & 1078 & 18 & unclassified\\\\\n",
       "\t NA               & 6dbd05e3-7a75-485e-8184-9196a7fbb637;bd23e21f-b542-4708-a67e-9387f14ef032 & abec48112e16db78870dfa2608a493c37f72289c & 126 & 1 &  9828.42 & 0.0000 &      NaN &    NaN & 1009 & 26 & unclassified\\\\\n",
       "\t channel-126.pod5 & 6dbd05e3-7a75-485e-8184-9196a7fbb637                                      & abec48112e16db78870dfa2608a493c37f72289c & 126 & 1 &  9828.42 & 2.3700 &  9828.42 & 2.3700 & 1090 & 17 & unclassified\\\\\n",
       "\t channel-126.pod5 & bd23e21f-b542-4708-a67e-9387f14ef032                                      & abec48112e16db78870dfa2608a493c37f72289c & 126 & 1 &  9830.83 & 2.0418 &  9830.83 & 2.0418 & 1090 & 16 & unclassified\\\\\n",
       "\t NA               & 4a690883-b596-4a24-b4f7-e6201cab7d4e;f0976dee-7e7a-44b5-b83e-28a2f5811543 & abec48112e16db78870dfa2608a493c37f72289c & 126 & 1 &  9891.03 & 0.0000 &      NaN &    NaN & 2146 & 26 & unclassified\\\\\n",
       "\t channel-126.pod5 & 4a690883-b596-4a24-b4f7-e6201cab7d4e                                      & abec48112e16db78870dfa2608a493c37f72289c & 126 & 1 &  9891.03 & 5.2368 &  9891.03 & 5.2368 & 2382 & 21 & unclassified\\\\\n",
       "\t channel-126.pod5 & f0976dee-7e7a-44b5-b83e-28a2f5811543                                      & abec48112e16db78870dfa2608a493c37f72289c & 126 & 1 &  9896.26 & 4.5200 &  9896.26 & 4.5200 & 2343 & 12 & unclassified\\\\\n",
       "\t NA               & 65d7f270-51c3-439b-8aff-2e6bcc611ead;9791626e-aa5a-4c74-ba35-ac4778061cbb & abec48112e16db78870dfa2608a493c37f72289c & 126 & 1 &  8473.07 & 0.0000 &      NaN &    NaN & 1555 & 22 & unclassified\\\\\n",
       "\t channel-126.pod5 & 65d7f270-51c3-439b-8aff-2e6bcc611ead                                      & abec48112e16db78870dfa2608a493c37f72289c & 126 & 1 &  8473.07 & 3.9696 &  8473.07 & 3.9696 & 1755 & 18 & unclassified\\\\\n",
       "\t NA               & a9dd61dc-75ff-4ccb-8003-dabee84bd1b7;fff10b56-0c85-41be-85a6-36f80a30caf1 & abec48112e16db78870dfa2608a493c37f72289c & 126 & 1 & 10357.90 & 0.0000 &      NaN &    NaN & 1010 & 21 & unclassified\\\\\n",
       "\t channel-126.pod5 & 9791626e-aa5a-4c74-ba35-ac4778061cbb                                      & abec48112e16db78870dfa2608a493c37f72289c & 126 & 1 &  8477.05 & 3.2454 &  8477.05 & 3.2454 & 1696 & 10 & unclassified\\\\\n",
       "\t channel-126.pod5 & a9dd61dc-75ff-4ccb-8003-dabee84bd1b7                                      & abec48112e16db78870dfa2608a493c37f72289c & 126 & 1 & 10357.90 & 2.2074 & 10357.90 & 2.2054 & 1082 & 17 & unclassified\\\\\n",
       "\t channel-126.pod5 & fff10b56-0c85-41be-85a6-36f80a30caf1                                      & abec48112e16db78870dfa2608a493c37f72289c & 126 & 1 & 10360.10 & 2.1550 & 10360.10 & 2.1530 & 1089 & 16 & unclassified\\\\\n",
       "\t NA               & 21efc035-c695-4172-92e8-6240cce23149;5398182f-47d7-4d06-8383-c7007ae62266 & abec48112e16db78870dfa2608a493c37f72289c & 126 & 1 & 10267.40 & 0.0000 &      NaN &    NaN & 3499 & 27 & unclassified\\\\\n",
       "\t channel-126.pod5 & 21efc035-c695-4172-92e8-6240cce23149                                      & abec48112e16db78870dfa2608a493c37f72289c & 126 & 1 & 10267.40 & 7.7894 & 10267.40 & 7.7874 & 3594 & 18 & unclassified\\\\\n",
       "\t NA               & 9cbc8d76-8b1b-46b5-ab1d-5a15ec646fad;1f8fc5dc-6e56-437e-9d67-77e6888dbcee & abec48112e16db78870dfa2608a493c37f72289c & 126 & 1 & 10550.20 & 0.0000 &      NaN &    NaN &  973 & 22 & unclassified\\\\\n",
       "\t channel-126.pod5 & 5398182f-47d7-4d06-8383-c7007ae62266                                      & abec48112e16db78870dfa2608a493c37f72289c & 126 & 1 & 10275.20 & 7.2550 & 10275.20 & 7.2530 & 3601 & 17 & unclassified\\\\\n",
       "\t channel-126.pod5 & 9cbc8d76-8b1b-46b5-ab1d-5a15ec646fad                                      & abec48112e16db78870dfa2608a493c37f72289c & 126 & 1 & 10550.20 & 2.2654 & 10550.20 & 2.2634 & 1049 & 21 & unclassified\\\\\n",
       "\t channel-126.pod5 & 1f8fc5dc-6e56-437e-9d67-77e6888dbcee                                      & abec48112e16db78870dfa2608a493c37f72289c & 126 & 1 & 10552.50 & 2.3686 & 10552.50 & 2.3666 & 1051 & 19 & unclassified\\\\\n",
       "\t NA               & 0418ef8a-0b37-49e0-a171-d7c44936e19c;49c569d0-c168-4bf1-9e04-a2b9d701ad54 & abec48112e16db78870dfa2608a493c37f72289c & 126 & 1 & 10714.20 & 0.0000 &      NaN &    NaN & 3492 & 25 & unclassified\\\\\n",
       "\t channel-126.pod5 & 0418ef8a-0b37-49e0-a171-d7c44936e19c                                      & abec48112e16db78870dfa2608a493c37f72289c & 126 & 1 & 10714.20 & 7.6270 & 10714.20 & 7.6250 & 3576 & 19 & unclassified\\\\\n",
       "\t channel-126.pod5 & 49c569d0-c168-4bf1-9e04-a2b9d701ad54                                      & abec48112e16db78870dfa2608a493c37f72289c & 126 & 1 & 10721.80 & 7.1310 & 10721.80 & 7.1290 & 3590 & 17 & unclassified\\\\\n",
       "\\end{tabular}\n"
      ],
      "text/markdown": [
       "\n",
       "A spec_tbl_df: 1419347 × 12\n",
       "\n",
       "| filename &lt;chr&gt; | read_id &lt;chr&gt; | run_id &lt;chr&gt; | channel &lt;dbl&gt; | mux &lt;dbl&gt; | start_time &lt;dbl&gt; | duration &lt;dbl&gt; | template_start &lt;dbl&gt; | template_duration &lt;dbl&gt; | sequence_length_template &lt;dbl&gt; | mean_qscore_template &lt;dbl&gt; | barcode &lt;chr&gt; |\n",
       "|---|---|---|---|---|---|---|---|---|---|---|---|\n",
       "| channel-2.pod5 | 7f5c30ff-06d5-40ca-a158-0bf8f0006e45 | abec48112e16db78870dfa2608a493c37f72289c | 2 | 1 | 3835.59 | 0.3924 | 3835.60 | 0.3904 |  199 | 17 | unclassified |\n",
       "| channel-2.pod5 | 5d847f49-2c48-4409-a677-a6b0eb65a7f2 | abec48112e16db78870dfa2608a493c37f72289c | 2 | 1 | 3834.08 | 0.5558 | 3834.08 | 0.5538 |  202 | 13 | unclassified |\n",
       "| channel-2.pod5 | 9385e408-3691-49b9-b742-87f729d273b8 | abec48112e16db78870dfa2608a493c37f72289c | 2 | 1 | 3830.02 | 0.4296 | 3830.02 | 0.4276 |  198 | 15 | unclassified |\n",
       "| channel-2.pod5 | a479d54a-8bf1-40f0-8faa-e7b93b512f0f | abec48112e16db78870dfa2608a493c37f72289c | 2 | 1 | 3829.58 | 0.4366 | 3829.58 | 0.4346 |  208 | 12 | unclassified |\n",
       "| channel-2.pod5 | 39f19aca-7ccc-4810-8e75-696e294ad4fd | abec48112e16db78870dfa2608a493c37f72289c | 2 | 1 | 3823.14 | 0.4852 | 3823.14 | 0.4832 |  217 | 13 | unclassified |\n",
       "| channel-2.pod5 | 4f5f24bb-f02f-4c55-aada-25ad98c065ab | abec48112e16db78870dfa2608a493c37f72289c | 2 | 1 | 3828.19 | 0.4680 | 3828.19 | 0.4660 |  239 | 16 | unclassified |\n",
       "| channel-2.pod5 | 66d564e3-1409-46bd-b318-780e1075612a | abec48112e16db78870dfa2608a493c37f72289c | 2 | 1 | 3821.87 | 0.8538 | 3821.87 | 0.8518 |  372 | 13 | unclassified |\n",
       "| channel-2.pod5 | 240658e5-fc5b-4f93-8e28-08595952cd5a | abec48112e16db78870dfa2608a493c37f72289c | 2 | 1 | 3821.29 | 0.5264 | 3821.29 | 0.5244 |  219 | 13 | unclassified |\n",
       "| channel-2.pod5 | cd989f6e-bdd7-4963-b240-b3a12a9583b1 | abec48112e16db78870dfa2608a493c37f72289c | 2 | 1 | 3820.37 | 0.3436 | 3820.38 | 0.3416 |  193 | 17 | unclassified |\n",
       "| channel-2.pod5 | 4d1215f9-58c4-4f3a-b001-ea3e25c10f4e | abec48112e16db78870dfa2608a493c37f72289c | 2 | 1 | 3820.74 | 0.4844 | 3820.75 | 0.4824 |  217 | 20 | unclassified |\n",
       "| channel-2.pod5 | c9b00b93-82df-42f5-9008-2413c647ae21 | abec48112e16db78870dfa2608a493c37f72289c | 2 | 1 | 3817.53 | 0.4740 | 3817.53 | 0.4720 |  197 | 26 | unclassified |\n",
       "| channel-2.pod5 | 279fa084-6d49-4889-b12d-e58c08cab7f7 | abec48112e16db78870dfa2608a493c37f72289c | 2 | 1 | 3816.95 | 0.5386 | 3816.95 | 0.5366 |  242 | 19 | unclassified |\n",
       "| channel-2.pod5 | 60da76d3-ac49-4a96-9c28-a0289add5bd9 | abec48112e16db78870dfa2608a493c37f72289c | 2 | 1 | 3818.07 | 2.1900 | 3818.07 | 2.1880 | 1096 | 18 | unclassified |\n",
       "| channel-2.pod5 | 1fe00cb2-3a01-49ff-868e-57592a482d47 | abec48112e16db78870dfa2608a493c37f72289c | 2 | 1 | 3815.73 | 0.6318 | 3815.73 | 0.6298 |  330 | 17 | unclassified |\n",
       "| channel-2.pod5 | d7d6b552-e4d4-4d43-ade0-2ce6d2ae4ceb | abec48112e16db78870dfa2608a493c37f72289c | 2 | 1 | 3814.07 | 0.4116 | 3814.07 | 0.4096 |  194 | 24 | unclassified |\n",
       "| channel-2.pod5 | dede9d79-2927-4a9c-a525-55fc38ab0a12 | abec48112e16db78870dfa2608a493c37f72289c | 2 | 1 | 3814.74 | 0.3586 | 3814.74 | 0.3566 |  187 | 19 | unclassified |\n",
       "| channel-2.pod5 | 94db3e45-9bcb-4d95-88c9-c6c024f30439 | abec48112e16db78870dfa2608a493c37f72289c | 2 | 1 | 3810.91 | 0.4868 | 3810.91 | 0.4848 |  195 | 14 | unclassified |\n",
       "| channel-2.pod5 | 274d588f-4f83-47de-9623-55465774f4ec | abec48112e16db78870dfa2608a493c37f72289c | 2 | 1 | 3808.65 | 2.1200 | 3808.65 | 2.1180 | 1094 | 17 | unclassified |\n",
       "| channel-2.pod5 | 20ea354c-98db-4700-89bc-da040b34a8c2 | abec48112e16db78870dfa2608a493c37f72289c | 2 | 1 | 3811.42 | 2.0972 | 3811.42 | 2.0952 | 1071 | 13 | unclassified |\n",
       "| channel-2.pod5 | 39dac8e6-2cb8-40a1-aff4-06814acd24bf | abec48112e16db78870dfa2608a493c37f72289c | 2 | 1 | 3805.52 | 0.5328 | 3805.53 | 0.5308 |  242 | 19 | unclassified |\n",
       "| channel-2.pod5 | 6678c995-5441-40e4-8e10-56783f993b08 | abec48112e16db78870dfa2608a493c37f72289c | 2 | 1 | 3804.93 | 0.4024 | 3804.93 | 0.4004 |  197 | 13 | unclassified |\n",
       "| channel-2.pod5 | 49ddadf6-5101-4bf8-a716-e0011ce0c5ab | abec48112e16db78870dfa2608a493c37f72289c | 2 | 1 | 3804.44 | 0.4894 | 3804.44 | 0.4874 |  234 | 16 | unclassified |\n",
       "| channel-2.pod5 | 91d30ad9-e38c-4967-8954-9661feb19e69 | abec48112e16db78870dfa2608a493c37f72289c | 2 | 1 | 3802.27 | 0.4740 | 3802.27 | 0.4720 |  220 | 14 | unclassified |\n",
       "| channel-2.pod5 | 6906387b-e00f-42c2-a692-d5bb6a10bbef | abec48112e16db78870dfa2608a493c37f72289c | 2 | 1 | 3832.55 | 0.4016 | 3832.55 | 0.3996 |  201 | 14 | unclassified |\n",
       "| channel-2.pod5 | dc6d80f0-896e-4f41-b379-27b2aca01c99 | abec48112e16db78870dfa2608a493c37f72289c | 2 | 1 | 3801.54 | 0.5074 | 3801.54 | 0.5054 |  238 | 18 | unclassified |\n",
       "| channel-2.pod5 | f8e06bf0-023f-49a6-94b7-fdaf64902fc9 | abec48112e16db78870dfa2608a493c37f72289c | 2 | 1 | 3785.51 | 2.0322 | 3785.51 | 2.0302 | 1070 | 18 | unclassified |\n",
       "| channel-2.pod5 | 40d705fc-9dce-4250-a3b2-e5efe7156815 | abec48112e16db78870dfa2608a493c37f72289c | 2 | 1 | 3788.82 | 0.4362 | 3788.82 | 0.4342 |  196 | 12 | unclassified |\n",
       "| channel-2.pod5 | 91c0a817-37b5-405d-a9d1-e49c8f9133df | abec48112e16db78870dfa2608a493c37f72289c | 2 | 1 | 3791.86 | 0.3924 | 3791.86 | 0.3904 |  198 | 13 | unclassified |\n",
       "| channel-2.pod5 | 34cf2424-ed20-479d-b0f2-2cf23b88cbc9 | abec48112e16db78870dfa2608a493c37f72289c | 2 | 1 | 3792.29 | 8.7064 | 3792.29 | 8.7044 | 4535 | 17 | unclassified |\n",
       "| channel-2.pod5 | 055d7f92-074d-4d22-8905-4d0adbb83a03 | abec48112e16db78870dfa2608a493c37f72289c | 2 | 1 | 3783.49 | 0.4844 | 3783.50 | 0.4824 |  209 | 15 | unclassified |\n",
       "| ⋮ | ⋮ | ⋮ | ⋮ | ⋮ | ⋮ | ⋮ | ⋮ | ⋮ | ⋮ | ⋮ | ⋮ |\n",
       "| NA               | 9a56c25e-30e3-4153-8a7a-a59cf0cec2ee;307feca0-1bdb-4c53-bcc4-9ee49bbc5979 | abec48112e16db78870dfa2608a493c37f72289c | 126 | 1 |  9440.63 | 0.0000 |      NaN |    NaN | 3494 | 29 | unclassified |\n",
       "| channel-126.pod5 | 9a56c25e-30e3-4153-8a7a-a59cf0cec2ee                                      | abec48112e16db78870dfa2608a493c37f72289c | 126 | 1 |  9440.63 | 7.6478 |  9440.63 | 7.6458 | 3588 | 18 | unclassified |\n",
       "| NA               | 21475f4f-e5b2-4f12-9718-f40b8733929b;e78e8465-04e5-4f28-b7a5-8d2823a857f5 | abec48112e16db78870dfa2608a493c37f72289c | 126 | 1 |  9457.52 | 0.0000 |      NaN |    NaN |  987 | 12 | unclassified |\n",
       "| channel-126.pod5 | 307feca0-1bdb-4c53-bcc4-9ee49bbc5979                                      | abec48112e16db78870dfa2608a493c37f72289c | 126 | 1 |  9448.28 | 7.1320 |  9448.28 | 7.1300 | 3559 | 16 | unclassified |\n",
       "| channel-126.pod5 | 21475f4f-e5b2-4f12-9718-f40b8733929b                                      | abec48112e16db78870dfa2608a493c37f72289c | 126 | 1 |  9457.52 | 2.5500 |  9457.52 | 2.5500 | 1195 | 16 | unclassified |\n",
       "| NA               | a295b320-acc4-4f25-8f1c-1eab8cd06ae6;b98d5de5-7a9c-4288-9bfd-2eb18f96d262 | abec48112e16db78870dfa2608a493c37f72289c | 126 | 1 |  9809.59 | 0.0000 |      NaN |    NaN |  996 | 30 | unclassified |\n",
       "| channel-126.pod5 | e78e8465-04e5-4f28-b7a5-8d2823a857f5                                      | abec48112e16db78870dfa2608a493c37f72289c | 126 | 1 |  9460.07 | 3.0234 |  9460.07 | 3.0234 | 1504 | 10 | unclassified |\n",
       "| channel-126.pod5 | a295b320-acc4-4f25-8f1c-1eab8cd06ae6                                      | abec48112e16db78870dfa2608a493c37f72289c | 126 | 1 |  9809.59 | 2.2426 |  9809.59 | 2.2406 | 1068 | 18 | unclassified |\n",
       "| channel-126.pod5 | b98d5de5-7a9c-4288-9bfd-2eb18f96d262                                      | abec48112e16db78870dfa2608a493c37f72289c | 126 | 1 |  9811.91 | 2.3668 |  9811.92 | 2.3648 | 1078 | 18 | unclassified |\n",
       "| NA               | 6dbd05e3-7a75-485e-8184-9196a7fbb637;bd23e21f-b542-4708-a67e-9387f14ef032 | abec48112e16db78870dfa2608a493c37f72289c | 126 | 1 |  9828.42 | 0.0000 |      NaN |    NaN | 1009 | 26 | unclassified |\n",
       "| channel-126.pod5 | 6dbd05e3-7a75-485e-8184-9196a7fbb637                                      | abec48112e16db78870dfa2608a493c37f72289c | 126 | 1 |  9828.42 | 2.3700 |  9828.42 | 2.3700 | 1090 | 17 | unclassified |\n",
       "| channel-126.pod5 | bd23e21f-b542-4708-a67e-9387f14ef032                                      | abec48112e16db78870dfa2608a493c37f72289c | 126 | 1 |  9830.83 | 2.0418 |  9830.83 | 2.0418 | 1090 | 16 | unclassified |\n",
       "| NA               | 4a690883-b596-4a24-b4f7-e6201cab7d4e;f0976dee-7e7a-44b5-b83e-28a2f5811543 | abec48112e16db78870dfa2608a493c37f72289c | 126 | 1 |  9891.03 | 0.0000 |      NaN |    NaN | 2146 | 26 | unclassified |\n",
       "| channel-126.pod5 | 4a690883-b596-4a24-b4f7-e6201cab7d4e                                      | abec48112e16db78870dfa2608a493c37f72289c | 126 | 1 |  9891.03 | 5.2368 |  9891.03 | 5.2368 | 2382 | 21 | unclassified |\n",
       "| channel-126.pod5 | f0976dee-7e7a-44b5-b83e-28a2f5811543                                      | abec48112e16db78870dfa2608a493c37f72289c | 126 | 1 |  9896.26 | 4.5200 |  9896.26 | 4.5200 | 2343 | 12 | unclassified |\n",
       "| NA               | 65d7f270-51c3-439b-8aff-2e6bcc611ead;9791626e-aa5a-4c74-ba35-ac4778061cbb | abec48112e16db78870dfa2608a493c37f72289c | 126 | 1 |  8473.07 | 0.0000 |      NaN |    NaN | 1555 | 22 | unclassified |\n",
       "| channel-126.pod5 | 65d7f270-51c3-439b-8aff-2e6bcc611ead                                      | abec48112e16db78870dfa2608a493c37f72289c | 126 | 1 |  8473.07 | 3.9696 |  8473.07 | 3.9696 | 1755 | 18 | unclassified |\n",
       "| NA               | a9dd61dc-75ff-4ccb-8003-dabee84bd1b7;fff10b56-0c85-41be-85a6-36f80a30caf1 | abec48112e16db78870dfa2608a493c37f72289c | 126 | 1 | 10357.90 | 0.0000 |      NaN |    NaN | 1010 | 21 | unclassified |\n",
       "| channel-126.pod5 | 9791626e-aa5a-4c74-ba35-ac4778061cbb                                      | abec48112e16db78870dfa2608a493c37f72289c | 126 | 1 |  8477.05 | 3.2454 |  8477.05 | 3.2454 | 1696 | 10 | unclassified |\n",
       "| channel-126.pod5 | a9dd61dc-75ff-4ccb-8003-dabee84bd1b7                                      | abec48112e16db78870dfa2608a493c37f72289c | 126 | 1 | 10357.90 | 2.2074 | 10357.90 | 2.2054 | 1082 | 17 | unclassified |\n",
       "| channel-126.pod5 | fff10b56-0c85-41be-85a6-36f80a30caf1                                      | abec48112e16db78870dfa2608a493c37f72289c | 126 | 1 | 10360.10 | 2.1550 | 10360.10 | 2.1530 | 1089 | 16 | unclassified |\n",
       "| NA               | 21efc035-c695-4172-92e8-6240cce23149;5398182f-47d7-4d06-8383-c7007ae62266 | abec48112e16db78870dfa2608a493c37f72289c | 126 | 1 | 10267.40 | 0.0000 |      NaN |    NaN | 3499 | 27 | unclassified |\n",
       "| channel-126.pod5 | 21efc035-c695-4172-92e8-6240cce23149                                      | abec48112e16db78870dfa2608a493c37f72289c | 126 | 1 | 10267.40 | 7.7894 | 10267.40 | 7.7874 | 3594 | 18 | unclassified |\n",
       "| NA               | 9cbc8d76-8b1b-46b5-ab1d-5a15ec646fad;1f8fc5dc-6e56-437e-9d67-77e6888dbcee | abec48112e16db78870dfa2608a493c37f72289c | 126 | 1 | 10550.20 | 0.0000 |      NaN |    NaN |  973 | 22 | unclassified |\n",
       "| channel-126.pod5 | 5398182f-47d7-4d06-8383-c7007ae62266                                      | abec48112e16db78870dfa2608a493c37f72289c | 126 | 1 | 10275.20 | 7.2550 | 10275.20 | 7.2530 | 3601 | 17 | unclassified |\n",
       "| channel-126.pod5 | 9cbc8d76-8b1b-46b5-ab1d-5a15ec646fad                                      | abec48112e16db78870dfa2608a493c37f72289c | 126 | 1 | 10550.20 | 2.2654 | 10550.20 | 2.2634 | 1049 | 21 | unclassified |\n",
       "| channel-126.pod5 | 1f8fc5dc-6e56-437e-9d67-77e6888dbcee                                      | abec48112e16db78870dfa2608a493c37f72289c | 126 | 1 | 10552.50 | 2.3686 | 10552.50 | 2.3666 | 1051 | 19 | unclassified |\n",
       "| NA               | 0418ef8a-0b37-49e0-a171-d7c44936e19c;49c569d0-c168-4bf1-9e04-a2b9d701ad54 | abec48112e16db78870dfa2608a493c37f72289c | 126 | 1 | 10714.20 | 0.0000 |      NaN |    NaN | 3492 | 25 | unclassified |\n",
       "| channel-126.pod5 | 0418ef8a-0b37-49e0-a171-d7c44936e19c                                      | abec48112e16db78870dfa2608a493c37f72289c | 126 | 1 | 10714.20 | 7.6270 | 10714.20 | 7.6250 | 3576 | 19 | unclassified |\n",
       "| channel-126.pod5 | 49c569d0-c168-4bf1-9e04-a2b9d701ad54                                      | abec48112e16db78870dfa2608a493c37f72289c | 126 | 1 | 10721.80 | 7.1310 | 10721.80 | 7.1290 | 3590 | 17 | unclassified |\n",
       "\n"
      ],
      "text/plain": [
       "        filename        \n",
       "1       channel-2.pod5  \n",
       "2       channel-2.pod5  \n",
       "3       channel-2.pod5  \n",
       "4       channel-2.pod5  \n",
       "5       channel-2.pod5  \n",
       "6       channel-2.pod5  \n",
       "7       channel-2.pod5  \n",
       "8       channel-2.pod5  \n",
       "9       channel-2.pod5  \n",
       "10      channel-2.pod5  \n",
       "11      channel-2.pod5  \n",
       "12      channel-2.pod5  \n",
       "13      channel-2.pod5  \n",
       "14      channel-2.pod5  \n",
       "15      channel-2.pod5  \n",
       "16      channel-2.pod5  \n",
       "17      channel-2.pod5  \n",
       "18      channel-2.pod5  \n",
       "19      channel-2.pod5  \n",
       "20      channel-2.pod5  \n",
       "21      channel-2.pod5  \n",
       "22      channel-2.pod5  \n",
       "23      channel-2.pod5  \n",
       "24      channel-2.pod5  \n",
       "25      channel-2.pod5  \n",
       "26      channel-2.pod5  \n",
       "27      channel-2.pod5  \n",
       "28      channel-2.pod5  \n",
       "29      channel-2.pod5  \n",
       "30      channel-2.pod5  \n",
       "⋮       ⋮               \n",
       "1419318 NA              \n",
       "1419319 channel-126.pod5\n",
       "1419320 NA              \n",
       "1419321 channel-126.pod5\n",
       "1419322 channel-126.pod5\n",
       "1419323 NA              \n",
       "1419324 channel-126.pod5\n",
       "1419325 channel-126.pod5\n",
       "1419326 channel-126.pod5\n",
       "1419327 NA              \n",
       "1419328 channel-126.pod5\n",
       "1419329 channel-126.pod5\n",
       "1419330 NA              \n",
       "1419331 channel-126.pod5\n",
       "1419332 channel-126.pod5\n",
       "1419333 NA              \n",
       "1419334 channel-126.pod5\n",
       "1419335 NA              \n",
       "1419336 channel-126.pod5\n",
       "1419337 channel-126.pod5\n",
       "1419338 channel-126.pod5\n",
       "1419339 NA              \n",
       "1419340 channel-126.pod5\n",
       "1419341 NA              \n",
       "1419342 channel-126.pod5\n",
       "1419343 channel-126.pod5\n",
       "1419344 channel-126.pod5\n",
       "1419345 NA              \n",
       "1419346 channel-126.pod5\n",
       "1419347 channel-126.pod5\n",
       "        read_id                                                                  \n",
       "1       7f5c30ff-06d5-40ca-a158-0bf8f0006e45                                     \n",
       "2       5d847f49-2c48-4409-a677-a6b0eb65a7f2                                     \n",
       "3       9385e408-3691-49b9-b742-87f729d273b8                                     \n",
       "4       a479d54a-8bf1-40f0-8faa-e7b93b512f0f                                     \n",
       "5       39f19aca-7ccc-4810-8e75-696e294ad4fd                                     \n",
       "6       4f5f24bb-f02f-4c55-aada-25ad98c065ab                                     \n",
       "7       66d564e3-1409-46bd-b318-780e1075612a                                     \n",
       "8       240658e5-fc5b-4f93-8e28-08595952cd5a                                     \n",
       "9       cd989f6e-bdd7-4963-b240-b3a12a9583b1                                     \n",
       "10      4d1215f9-58c4-4f3a-b001-ea3e25c10f4e                                     \n",
       "11      c9b00b93-82df-42f5-9008-2413c647ae21                                     \n",
       "12      279fa084-6d49-4889-b12d-e58c08cab7f7                                     \n",
       "13      60da76d3-ac49-4a96-9c28-a0289add5bd9                                     \n",
       "14      1fe00cb2-3a01-49ff-868e-57592a482d47                                     \n",
       "15      d7d6b552-e4d4-4d43-ade0-2ce6d2ae4ceb                                     \n",
       "16      dede9d79-2927-4a9c-a525-55fc38ab0a12                                     \n",
       "17      94db3e45-9bcb-4d95-88c9-c6c024f30439                                     \n",
       "18      274d588f-4f83-47de-9623-55465774f4ec                                     \n",
       "19      20ea354c-98db-4700-89bc-da040b34a8c2                                     \n",
       "20      39dac8e6-2cb8-40a1-aff4-06814acd24bf                                     \n",
       "21      6678c995-5441-40e4-8e10-56783f993b08                                     \n",
       "22      49ddadf6-5101-4bf8-a716-e0011ce0c5ab                                     \n",
       "23      91d30ad9-e38c-4967-8954-9661feb19e69                                     \n",
       "24      6906387b-e00f-42c2-a692-d5bb6a10bbef                                     \n",
       "25      dc6d80f0-896e-4f41-b379-27b2aca01c99                                     \n",
       "26      f8e06bf0-023f-49a6-94b7-fdaf64902fc9                                     \n",
       "27      40d705fc-9dce-4250-a3b2-e5efe7156815                                     \n",
       "28      91c0a817-37b5-405d-a9d1-e49c8f9133df                                     \n",
       "29      34cf2424-ed20-479d-b0f2-2cf23b88cbc9                                     \n",
       "30      055d7f92-074d-4d22-8905-4d0adbb83a03                                     \n",
       "⋮       ⋮                                                                        \n",
       "1419318 9a56c25e-30e3-4153-8a7a-a59cf0cec2ee;307feca0-1bdb-4c53-bcc4-9ee49bbc5979\n",
       "1419319 9a56c25e-30e3-4153-8a7a-a59cf0cec2ee                                     \n",
       "1419320 21475f4f-e5b2-4f12-9718-f40b8733929b;e78e8465-04e5-4f28-b7a5-8d2823a857f5\n",
       "1419321 307feca0-1bdb-4c53-bcc4-9ee49bbc5979                                     \n",
       "1419322 21475f4f-e5b2-4f12-9718-f40b8733929b                                     \n",
       "1419323 a295b320-acc4-4f25-8f1c-1eab8cd06ae6;b98d5de5-7a9c-4288-9bfd-2eb18f96d262\n",
       "1419324 e78e8465-04e5-4f28-b7a5-8d2823a857f5                                     \n",
       "1419325 a295b320-acc4-4f25-8f1c-1eab8cd06ae6                                     \n",
       "1419326 b98d5de5-7a9c-4288-9bfd-2eb18f96d262                                     \n",
       "1419327 6dbd05e3-7a75-485e-8184-9196a7fbb637;bd23e21f-b542-4708-a67e-9387f14ef032\n",
       "1419328 6dbd05e3-7a75-485e-8184-9196a7fbb637                                     \n",
       "1419329 bd23e21f-b542-4708-a67e-9387f14ef032                                     \n",
       "1419330 4a690883-b596-4a24-b4f7-e6201cab7d4e;f0976dee-7e7a-44b5-b83e-28a2f5811543\n",
       "1419331 4a690883-b596-4a24-b4f7-e6201cab7d4e                                     \n",
       "1419332 f0976dee-7e7a-44b5-b83e-28a2f5811543                                     \n",
       "1419333 65d7f270-51c3-439b-8aff-2e6bcc611ead;9791626e-aa5a-4c74-ba35-ac4778061cbb\n",
       "1419334 65d7f270-51c3-439b-8aff-2e6bcc611ead                                     \n",
       "1419335 a9dd61dc-75ff-4ccb-8003-dabee84bd1b7;fff10b56-0c85-41be-85a6-36f80a30caf1\n",
       "1419336 9791626e-aa5a-4c74-ba35-ac4778061cbb                                     \n",
       "1419337 a9dd61dc-75ff-4ccb-8003-dabee84bd1b7                                     \n",
       "1419338 fff10b56-0c85-41be-85a6-36f80a30caf1                                     \n",
       "1419339 21efc035-c695-4172-92e8-6240cce23149;5398182f-47d7-4d06-8383-c7007ae62266\n",
       "1419340 21efc035-c695-4172-92e8-6240cce23149                                     \n",
       "1419341 9cbc8d76-8b1b-46b5-ab1d-5a15ec646fad;1f8fc5dc-6e56-437e-9d67-77e6888dbcee\n",
       "1419342 5398182f-47d7-4d06-8383-c7007ae62266                                     \n",
       "1419343 9cbc8d76-8b1b-46b5-ab1d-5a15ec646fad                                     \n",
       "1419344 1f8fc5dc-6e56-437e-9d67-77e6888dbcee                                     \n",
       "1419345 0418ef8a-0b37-49e0-a171-d7c44936e19c;49c569d0-c168-4bf1-9e04-a2b9d701ad54\n",
       "1419346 0418ef8a-0b37-49e0-a171-d7c44936e19c                                     \n",
       "1419347 49c569d0-c168-4bf1-9e04-a2b9d701ad54                                     \n",
       "        run_id                                   channel mux start_time\n",
       "1       abec48112e16db78870dfa2608a493c37f72289c 2       1   3835.59   \n",
       "2       abec48112e16db78870dfa2608a493c37f72289c 2       1   3834.08   \n",
       "3       abec48112e16db78870dfa2608a493c37f72289c 2       1   3830.02   \n",
       "4       abec48112e16db78870dfa2608a493c37f72289c 2       1   3829.58   \n",
       "5       abec48112e16db78870dfa2608a493c37f72289c 2       1   3823.14   \n",
       "6       abec48112e16db78870dfa2608a493c37f72289c 2       1   3828.19   \n",
       "7       abec48112e16db78870dfa2608a493c37f72289c 2       1   3821.87   \n",
       "8       abec48112e16db78870dfa2608a493c37f72289c 2       1   3821.29   \n",
       "9       abec48112e16db78870dfa2608a493c37f72289c 2       1   3820.37   \n",
       "10      abec48112e16db78870dfa2608a493c37f72289c 2       1   3820.74   \n",
       "11      abec48112e16db78870dfa2608a493c37f72289c 2       1   3817.53   \n",
       "12      abec48112e16db78870dfa2608a493c37f72289c 2       1   3816.95   \n",
       "13      abec48112e16db78870dfa2608a493c37f72289c 2       1   3818.07   \n",
       "14      abec48112e16db78870dfa2608a493c37f72289c 2       1   3815.73   \n",
       "15      abec48112e16db78870dfa2608a493c37f72289c 2       1   3814.07   \n",
       "16      abec48112e16db78870dfa2608a493c37f72289c 2       1   3814.74   \n",
       "17      abec48112e16db78870dfa2608a493c37f72289c 2       1   3810.91   \n",
       "18      abec48112e16db78870dfa2608a493c37f72289c 2       1   3808.65   \n",
       "19      abec48112e16db78870dfa2608a493c37f72289c 2       1   3811.42   \n",
       "20      abec48112e16db78870dfa2608a493c37f72289c 2       1   3805.52   \n",
       "21      abec48112e16db78870dfa2608a493c37f72289c 2       1   3804.93   \n",
       "22      abec48112e16db78870dfa2608a493c37f72289c 2       1   3804.44   \n",
       "23      abec48112e16db78870dfa2608a493c37f72289c 2       1   3802.27   \n",
       "24      abec48112e16db78870dfa2608a493c37f72289c 2       1   3832.55   \n",
       "25      abec48112e16db78870dfa2608a493c37f72289c 2       1   3801.54   \n",
       "26      abec48112e16db78870dfa2608a493c37f72289c 2       1   3785.51   \n",
       "27      abec48112e16db78870dfa2608a493c37f72289c 2       1   3788.82   \n",
       "28      abec48112e16db78870dfa2608a493c37f72289c 2       1   3791.86   \n",
       "29      abec48112e16db78870dfa2608a493c37f72289c 2       1   3792.29   \n",
       "30      abec48112e16db78870dfa2608a493c37f72289c 2       1   3783.49   \n",
       "⋮       ⋮                                        ⋮       ⋮   ⋮         \n",
       "1419318 abec48112e16db78870dfa2608a493c37f72289c 126     1    9440.63  \n",
       "1419319 abec48112e16db78870dfa2608a493c37f72289c 126     1    9440.63  \n",
       "1419320 abec48112e16db78870dfa2608a493c37f72289c 126     1    9457.52  \n",
       "1419321 abec48112e16db78870dfa2608a493c37f72289c 126     1    9448.28  \n",
       "1419322 abec48112e16db78870dfa2608a493c37f72289c 126     1    9457.52  \n",
       "1419323 abec48112e16db78870dfa2608a493c37f72289c 126     1    9809.59  \n",
       "1419324 abec48112e16db78870dfa2608a493c37f72289c 126     1    9460.07  \n",
       "1419325 abec48112e16db78870dfa2608a493c37f72289c 126     1    9809.59  \n",
       "1419326 abec48112e16db78870dfa2608a493c37f72289c 126     1    9811.91  \n",
       "1419327 abec48112e16db78870dfa2608a493c37f72289c 126     1    9828.42  \n",
       "1419328 abec48112e16db78870dfa2608a493c37f72289c 126     1    9828.42  \n",
       "1419329 abec48112e16db78870dfa2608a493c37f72289c 126     1    9830.83  \n",
       "1419330 abec48112e16db78870dfa2608a493c37f72289c 126     1    9891.03  \n",
       "1419331 abec48112e16db78870dfa2608a493c37f72289c 126     1    9891.03  \n",
       "1419332 abec48112e16db78870dfa2608a493c37f72289c 126     1    9896.26  \n",
       "1419333 abec48112e16db78870dfa2608a493c37f72289c 126     1    8473.07  \n",
       "1419334 abec48112e16db78870dfa2608a493c37f72289c 126     1    8473.07  \n",
       "1419335 abec48112e16db78870dfa2608a493c37f72289c 126     1   10357.90  \n",
       "1419336 abec48112e16db78870dfa2608a493c37f72289c 126     1    8477.05  \n",
       "1419337 abec48112e16db78870dfa2608a493c37f72289c 126     1   10357.90  \n",
       "1419338 abec48112e16db78870dfa2608a493c37f72289c 126     1   10360.10  \n",
       "1419339 abec48112e16db78870dfa2608a493c37f72289c 126     1   10267.40  \n",
       "1419340 abec48112e16db78870dfa2608a493c37f72289c 126     1   10267.40  \n",
       "1419341 abec48112e16db78870dfa2608a493c37f72289c 126     1   10550.20  \n",
       "1419342 abec48112e16db78870dfa2608a493c37f72289c 126     1   10275.20  \n",
       "1419343 abec48112e16db78870dfa2608a493c37f72289c 126     1   10550.20  \n",
       "1419344 abec48112e16db78870dfa2608a493c37f72289c 126     1   10552.50  \n",
       "1419345 abec48112e16db78870dfa2608a493c37f72289c 126     1   10714.20  \n",
       "1419346 abec48112e16db78870dfa2608a493c37f72289c 126     1   10714.20  \n",
       "1419347 abec48112e16db78870dfa2608a493c37f72289c 126     1   10721.80  \n",
       "        duration template_start template_duration sequence_length_template\n",
       "1       0.3924   3835.60        0.3904             199                    \n",
       "2       0.5558   3834.08        0.5538             202                    \n",
       "3       0.4296   3830.02        0.4276             198                    \n",
       "4       0.4366   3829.58        0.4346             208                    \n",
       "5       0.4852   3823.14        0.4832             217                    \n",
       "6       0.4680   3828.19        0.4660             239                    \n",
       "7       0.8538   3821.87        0.8518             372                    \n",
       "8       0.5264   3821.29        0.5244             219                    \n",
       "9       0.3436   3820.38        0.3416             193                    \n",
       "10      0.4844   3820.75        0.4824             217                    \n",
       "11      0.4740   3817.53        0.4720             197                    \n",
       "12      0.5386   3816.95        0.5366             242                    \n",
       "13      2.1900   3818.07        2.1880            1096                    \n",
       "14      0.6318   3815.73        0.6298             330                    \n",
       "15      0.4116   3814.07        0.4096             194                    \n",
       "16      0.3586   3814.74        0.3566             187                    \n",
       "17      0.4868   3810.91        0.4848             195                    \n",
       "18      2.1200   3808.65        2.1180            1094                    \n",
       "19      2.0972   3811.42        2.0952            1071                    \n",
       "20      0.5328   3805.53        0.5308             242                    \n",
       "21      0.4024   3804.93        0.4004             197                    \n",
       "22      0.4894   3804.44        0.4874             234                    \n",
       "23      0.4740   3802.27        0.4720             220                    \n",
       "24      0.4016   3832.55        0.3996             201                    \n",
       "25      0.5074   3801.54        0.5054             238                    \n",
       "26      2.0322   3785.51        2.0302            1070                    \n",
       "27      0.4362   3788.82        0.4342             196                    \n",
       "28      0.3924   3791.86        0.3904             198                    \n",
       "29      8.7064   3792.29        8.7044            4535                    \n",
       "30      0.4844   3783.50        0.4824             209                    \n",
       "⋮       ⋮        ⋮              ⋮                 ⋮                       \n",
       "1419318 0.0000        NaN          NaN            3494                    \n",
       "1419319 7.6478    9440.63       7.6458            3588                    \n",
       "1419320 0.0000        NaN          NaN             987                    \n",
       "1419321 7.1320    9448.28       7.1300            3559                    \n",
       "1419322 2.5500    9457.52       2.5500            1195                    \n",
       "1419323 0.0000        NaN          NaN             996                    \n",
       "1419324 3.0234    9460.07       3.0234            1504                    \n",
       "1419325 2.2426    9809.59       2.2406            1068                    \n",
       "1419326 2.3668    9811.92       2.3648            1078                    \n",
       "1419327 0.0000        NaN          NaN            1009                    \n",
       "1419328 2.3700    9828.42       2.3700            1090                    \n",
       "1419329 2.0418    9830.83       2.0418            1090                    \n",
       "1419330 0.0000        NaN          NaN            2146                    \n",
       "1419331 5.2368    9891.03       5.2368            2382                    \n",
       "1419332 4.5200    9896.26       4.5200            2343                    \n",
       "1419333 0.0000        NaN          NaN            1555                    \n",
       "1419334 3.9696    8473.07       3.9696            1755                    \n",
       "1419335 0.0000        NaN          NaN            1010                    \n",
       "1419336 3.2454    8477.05       3.2454            1696                    \n",
       "1419337 2.2074   10357.90       2.2054            1082                    \n",
       "1419338 2.1550   10360.10       2.1530            1089                    \n",
       "1419339 0.0000        NaN          NaN            3499                    \n",
       "1419340 7.7894   10267.40       7.7874            3594                    \n",
       "1419341 0.0000        NaN          NaN             973                    \n",
       "1419342 7.2550   10275.20       7.2530            3601                    \n",
       "1419343 2.2654   10550.20       2.2634            1049                    \n",
       "1419344 2.3686   10552.50       2.3666            1051                    \n",
       "1419345 0.0000        NaN          NaN            3492                    \n",
       "1419346 7.6270   10714.20       7.6250            3576                    \n",
       "1419347 7.1310   10721.80       7.1290            3590                    \n",
       "        mean_qscore_template barcode     \n",
       "1       17                   unclassified\n",
       "2       13                   unclassified\n",
       "3       15                   unclassified\n",
       "4       12                   unclassified\n",
       "5       13                   unclassified\n",
       "6       16                   unclassified\n",
       "7       13                   unclassified\n",
       "8       13                   unclassified\n",
       "9       17                   unclassified\n",
       "10      20                   unclassified\n",
       "11      26                   unclassified\n",
       "12      19                   unclassified\n",
       "13      18                   unclassified\n",
       "14      17                   unclassified\n",
       "15      24                   unclassified\n",
       "16      19                   unclassified\n",
       "17      14                   unclassified\n",
       "18      17                   unclassified\n",
       "19      13                   unclassified\n",
       "20      19                   unclassified\n",
       "21      13                   unclassified\n",
       "22      16                   unclassified\n",
       "23      14                   unclassified\n",
       "24      14                   unclassified\n",
       "25      18                   unclassified\n",
       "26      18                   unclassified\n",
       "27      12                   unclassified\n",
       "28      13                   unclassified\n",
       "29      17                   unclassified\n",
       "30      15                   unclassified\n",
       "⋮       ⋮                    ⋮           \n",
       "1419318 29                   unclassified\n",
       "1419319 18                   unclassified\n",
       "1419320 12                   unclassified\n",
       "1419321 16                   unclassified\n",
       "1419322 16                   unclassified\n",
       "1419323 30                   unclassified\n",
       "1419324 10                   unclassified\n",
       "1419325 18                   unclassified\n",
       "1419326 18                   unclassified\n",
       "1419327 26                   unclassified\n",
       "1419328 17                   unclassified\n",
       "1419329 16                   unclassified\n",
       "1419330 26                   unclassified\n",
       "1419331 21                   unclassified\n",
       "1419332 12                   unclassified\n",
       "1419333 22                   unclassified\n",
       "1419334 18                   unclassified\n",
       "1419335 21                   unclassified\n",
       "1419336 10                   unclassified\n",
       "1419337 17                   unclassified\n",
       "1419338 16                   unclassified\n",
       "1419339 27                   unclassified\n",
       "1419340 18                   unclassified\n",
       "1419341 22                   unclassified\n",
       "1419342 17                   unclassified\n",
       "1419343 21                   unclassified\n",
       "1419344 19                   unclassified\n",
       "1419345 25                   unclassified\n",
       "1419346 19                   unclassified\n",
       "1419347 17                   unclassified"
      ]
     },
     "metadata": {},
     "output_type": "display_data"
    }
   ],
   "source": [
    "bc_summary"
   ]
  },
  {
   "cell_type": "code",
   "execution_count": 11,
   "id": "460caccd-213e-4df8-9ebe-a6dd3aedfb15",
   "metadata": {
    "execution": {
     "iopub.execute_input": "2024-06-10T21:15:58.553398Z",
     "iopub.status.busy": "2024-06-10T21:15:58.551479Z",
     "iopub.status.idle": "2024-06-10T21:16:44.402278Z",
     "shell.execute_reply": "2024-06-10T21:16:44.400340Z"
    },
    "vscode": {
     "languageId": "r"
    }
   },
   "outputs": [
    {
     "name": "stderr",
     "output_type": "stream",
     "text": [
      "Warning message:\n",
      "“\u001b[1m\u001b[22mThe `size` argument of `element_line()` is deprecated as of ggplot2 3.4.0.\n",
      "\u001b[36mℹ\u001b[39m Please use the `linewidth` argument instead.”\n"
     ]
    },
    {
     "name": "stderr",
     "output_type": "stream",
     "text": [
      "Warning message:\n",
      "“\u001b[1m\u001b[22mThe `size` argument of `element_rect()` is deprecated as of ggplot2 3.4.0.\n",
      "\u001b[36mℹ\u001b[39m Please use the `linewidth` argument instead.”\n"
     ]
    },
    {
     "data": {
      "image/png": "[encoded data removed]",
      "text/plain": [
       "plot without title"
      ]
     },
     "metadata": {
      "image/png": {
       "height": 300,
       "width": 360
      }
     },
     "output_type": "display_data"
    }
   ],
   "source": [
    "options(repr.plot.width = 6, repr.plot.height = 5)\n",
    "bc_summary %>%\n",
    "    ggplot(aes(x = log10(sequence_length_template),\n",
    "               y = mean_qscore_template)) +\n",
    "    geom_density_2d_filled() +\n",
    "    xlab(\"log10(Read length)\") +\n",
    "    ylab(\"Mean quality (Phred)\") +\n",
    "    theme_pubr()"
   ]
  },
  {
   "cell_type": "code",
   "execution_count": 12,
   "id": "b652ad0b-bc59-4b33-af21-26241e130ace",
   "metadata": {
    "execution": {
     "iopub.execute_input": "2024-06-10T21:16:44.412078Z",
     "iopub.status.busy": "2024-06-10T21:16:44.410224Z",
     "iopub.status.idle": "2024-06-10T21:16:44.536800Z",
     "shell.execute_reply": "2024-06-10T21:16:44.534547Z"
    },
    "vscode": {
     "languageId": "r"
    }
   },
   "outputs": [],
   "source": [
    "# getting read names with Q >= 12\n",
    "good_qual_reads = bc_summary %>%\n",
    "    filter(mean_qscore_template >= 12) %>%\n",
    "    pull(read_id)"
   ]
  },
  {
   "cell_type": "code",
   "execution_count": 13,
   "id": "312985bc-a66c-4547-a515-a547f7134f9b",
   "metadata": {
    "execution": {
     "iopub.execute_input": "2024-06-10T21:16:44.545126Z",
     "iopub.status.busy": "2024-06-10T21:16:44.543388Z",
     "iopub.status.idle": "2024-06-10T21:17:04.761220Z",
     "shell.execute_reply": "2024-06-10T21:17:04.758964Z"
    },
    "vscode": {
     "languageId": "r"
    }
   },
   "outputs": [],
   "source": [
    "# reading bam file\n",
    "my_bam = \"GRCh38_with_XDP_SVA__20240606_AL5RACE002__map-ont__minimap2.bam\"\n",
    "\n",
    "bam_reads = read_bam(bamfile = my_bam,\n",
    "                     libname = sample,\n",
    "                     region = tibble(chr = \"chrX\",\n",
    "                                     start = 71440515-5000,\n",
    "                                     end = 71443141+5000))\n",
    "\n",
    "# filtering only the samples\n",
    "# we wanna work with and filtering in\n",
    "# only reads with Q >= 12\n",
    "bams = list()\n",
    "for(sample in unique(bam_reads$RG_tag)){\n",
    "    bams[[sample]] = bam_reads %>%\n",
    "        filter(RG_tag == sample) %>%\n",
    "        filter(qname %in% good_qual_reads)\n",
    "        \n",
    "}"
   ]
  },
  {
   "cell_type": "code",
   "execution_count": 14,
   "id": "f4fa3611-027b-4be4-928d-7c348dcb380b",
   "metadata": {
    "execution": {
     "iopub.execute_input": "2024-06-10T21:17:04.770354Z",
     "iopub.status.busy": "2024-06-10T21:17:04.768551Z",
     "iopub.status.idle": "2024-06-10T21:17:04.954218Z",
     "shell.execute_reply": "2024-06-10T21:17:04.952093Z"
    },
    "scrolled": true,
    "vscode": {
     "languageId": "r"
    }
   },
   "outputs": [
    {
     "data": {
      "text/html": [
       "<table class=\"dataframe\">\n",
       "<caption>A tibble: 921018 × 12</caption>\n",
       "<thead>\n",
       "\t<tr><th scope=col>flag</th><th scope=col>qname</th><th scope=col>rname</th><th scope=col>strand</th><th scope=col>pos</th><th scope=col>qwidth</th><th scope=col>qwidth_after_softclipping</th><th scope=col>RG_tag</th><th scope=col>seq</th><th scope=col>qual</th><th scope=col>cigar</th><th scope=col>mapq</th></tr>\n",
       "\t<tr><th scope=col>&lt;int&gt;</th><th scope=col>&lt;chr&gt;</th><th scope=col>&lt;fct&gt;</th><th scope=col>&lt;fct&gt;</th><th scope=col>&lt;int&gt;</th><th scope=col>&lt;int&gt;</th><th scope=col>&lt;int&gt;</th><th scope=col>&lt;chr&gt;</th><th scope=col>&lt;chr&gt;</th><th scope=col>&lt;chr&gt;</th><th scope=col>&lt;chr&gt;</th><th scope=col>&lt;int&gt;</th></tr>\n",
       "</thead>\n",
       "<tbody>\n",
       "\t<tr><td> 0</td><td>b686d2a5-b586-4411-8af0-251ef2fb041f</td><td>chrX</td><td>+</td><td>71442976</td><td>297</td><td>208</td><td>20240606_AL5RACE002</td><td><span style=white-space:pre-wrap>TTTTTTTTTTTTTGTACTTCGTTCAGTTACGTATTGTTCTAATACGACTCACTATAGGGCAAGCAGTGGTATCAACGCAGAGGGAGAGGGAGAGGGAGAGGGAGAGGGAGAGGGAGAGGGGAGGGAGAGGGAGAGGGAGAGGGAGAGGGAGAGGGAGAGGGAGAGGGAGAGGGAGAGGGAGAGGGAGAGGGAGAGGGAGAGGGAGAGGGAGAGGGAGAGGGAGAGGGAGAGCTATTTCATTTTTTTTTTTTCCACATCAGATGTGGAAAAAGAATGTACTGGCATTGTAATAAGGCT                                                                                                                                                                                             </span></td><td><span style=white-space:pre-wrap>#####$$$$$$\"\"\"\"#$%((+/0/0//////22672*+)'')0@BBBAABDGFGD@A?AACDCEEFHFEFEEEFDCCCA&gt;;&lt;;DGHGHFEFGHJCECEGG@&lt;9&lt;;984+(*),*)*)))****&amp;&amp;&amp;,46894=@BA?=BDH@GDGHH&gt;:&gt;ADGECCDDEC::&gt;HECA@@CEA=9:&gt;E==8&gt;DFBA&gt;==B@AADFMCACHHHDFDFGIEC@ACFA@@ABFB=;9623328:=A@?@ACA&gt;&lt;;4&lt;:ALSSSJLGD99CEDDKGHIGC?8233/3'&amp;&amp;%++--012ABBABA@&gt;=753/-                                                                                                                                                                                             </span></td><td><span style=white-space:pre-wrap>89S10M5D14M2I182M                                          </span></td><td>19</td></tr>\n",
       "\t<tr><td> 0</td><td>d19dc28f-5c84-477e-bb3f-f535767cb666</td><td>chrX</td><td>+</td><td>71442976</td><td>348</td><td>271</td><td>20240606_AL5RACE002</td><td><span style=white-space:pre-wrap>TTGTCCTGTACTTCGTTCAGTTACGTATTGCTCTAATACGACTCACTATAGGGCAAGCAGTGGTATCAACGCAGAGGGAGAGAGAGAGGGGGAGAGGGAGAGGGAGAGGGAGAGGGAGAGGGAGAGGGAGAGGGAGAGGGAGAGGTAGACCTACTTGGTTCAGTTGGTGTTCTAATACGACTCACTATAGGGCAAGCAGTGGTATCAACGCAGAGTGAGAGGGAGAGGGAGAGAGGGAGAGGGAGAGGGAGAGGGAGAGGGAGAGGGAGAGGGAGAGGGAGAGGGAGAGCTATTTCATTTTTTTTTTTCCACATCAGATGGAAAAAAAATGTACTGGCATTGTAATAA                                                                                                                                          </span></td><td><span style=white-space:pre-wrap>####$$$&amp;)*++,,,24,,,,-4656676668;;98872/---+)))*+778ACBBBBBCDCA@@?==??;84335::894/,*))()*,0,-18477-B==&gt;&gt;&lt;BDGCAACEIGDDDHMDCDDEJEC@@@OB&gt;;&gt;==93,,,*(&amp;##$$%%%&amp;'++,./05533('''&amp;+''(,.454333333334=&lt;===GGIGGFHFAAAA@BCBBBFFFKHB:/.;:@?@A@4,+.,'&amp;+(-01&lt;&lt;9::::99835???@?CCD@@&gt;AB&gt;&lt;&lt;&gt;AED?EFJIGH@?FECD&gt;7:66669995......23321001800==11111,))0152**,--/07878:&lt;&gt;@==,++*(                                                                                                                                          </span></td><td><span style=white-space:pre-wrap>77S10M2D1M1D17M3I37M64I1M1I17M2I67M1D21M2D30M              </span></td><td> 9</td></tr>\n",
       "\t<tr><td>16</td><td>f4d6c430-3974-4d1e-b8e4-a6a6af3b90e8</td><td>chrX</td><td>-</td><td>71442976</td><td>221</td><td>134</td><td>20240606_AL5RACE002</td><td><span style=white-space:pre-wrap>AATGTATTGCTCTAATACGACTCACTATAGGGCAAGCAGTGGTATCAACGCAGAGGGAGAGGGAGAGGGAGAGGGAGAGGGAGGAGAGGGAGAGGGAGAGGGAGAGGGAGAGGGAGAGGAGGCCATCATTTTCCCTTTTATCAGATGTGGAAAAAAATGTACTGCATTGTAATAAGGCTTGAGGGAGGCAGCATATGTACTGACTCAAGGTAAGAGGACAG                                                                                                                                                                                                                                                                         </span></td><td><span style=white-space:pre-wrap>(((*+993221247534425544889FEGIFLFHHFGFEJIGGHGGHIHJIIJFJCAAA59&lt;=;?@GDDJHFHFEDE8@8..&gt;&gt;@22=CADB/668BD=E?&lt;&gt;&gt;&gt;CB;9((*,,-('*('&amp;$$%%%&amp;&amp;')('()(&amp;%%&amp;225=&gt;BB..9=8,*))))),'''14565566&lt;=&lt;=&gt;==?==1157++*(('&amp;&amp;'%$$$#$$$$&amp;%%&amp;&amp;%%$$%$$%%$%$$#                                                                                                                                                                                                                                                                         </span></td><td><span style=white-space:pre-wrap>56S10M5D51M73D4M1D4M2D14M5D11M1D13M1D27M31S                </span></td><td> 1</td></tr>\n",
       "\t<tr><td> 0</td><td>c0c92636-b2dc-472d-a723-fad002f5892e</td><td>chrX</td><td>+</td><td>71442977</td><td>219</td><td> 79</td><td>20240606_AL5RACE002</td><td><span style=white-space:pre-wrap>ATGTTTTATGTTAACCTACTAAACATAGTATTGCTCTAATACGACTCACTATAGGGCAAGCAGTGGTATCAACGCAGAGGGAGAGGGAGAGGGAGAGGGAGGAGAGGGAGAGGGAGAGGGAGAGGGAGAGGGAGAGGGAGAGGGAGAGGGAGAGCTATTTAGTTTTTTTTTTTCCACATCAATTAAAAAAAGAAAATGTACTGGCATTGTAATAAGGCT                                                                                                                                                                                                                                                                           </span></td><td><span style=white-space:pre-wrap>)))453.,01/.*('&amp;&amp;%%&amp;&amp;'()*,***,,3779&lt;=899DC&gt;====&gt;&gt;??@;::::JNFLDEDDCDCB1///----,-&lt;==DIHDA9&lt;:=&gt;@9IEFE7-4,*,5DEHFGJFGEFHGJLHHGHREGEFJJHGFHGJHFFEEC;434&gt;&lt;&lt;&lt;CGEDCCCDFD544434&lt;??CIG@1/++.-*))))''(,////../0.*('&amp;&amp;(-2;=???544489923                                                                                                                                                                                                                                                                           </span></td><td><span style=white-space:pre-wrap>75S9M5D70M65S                                              </span></td><td> 1</td></tr>\n",
       "\t<tr><td> 0</td><td>10c8bf21-6671-4835-bbdd-8bfcb545c823</td><td>chrX</td><td>+</td><td>71442991</td><td>270</td><td>191</td><td>20240606_AL5RACE002</td><td><span style=white-space:pre-wrap>ACCTTTTTATGTAGTCTACTCATTCGTCGTCTTGCTCTAATACGACTCACTATAGGGCAAGCAGTGGTATCAACGCAGAGGGAGAGGGAGAGGGAGAGGGAGAGGGAAAGGGAGAGGGAGAGGGAGAGGGAGAGGGAGAGGGAGAGGGAGAGGGAGAGGGAGAGGGAGAGGGAGAGGGAGAGGGAGAGGGAGAGGGAGAGGGAGAGGGAGAGCTATTTTCGTTTTCCACATCAGATGTGGAAAAAAAATGTACTGGCATTGTAATAAGGC                                                                                                                                                                                                                        </span></td><td><span style=white-space:pre-wrap>#$%%%%)+('''%$%%%%%%%$$%%%%%%&amp;&amp;'''(&gt;BB@AADEEEDIIEFHDD21112FECCBBCECDCD64331242114201??CDCCEDC&gt;&gt;?&gt;&lt;;5+()('(''*)+.0689:5232311*+216=BCEE??@ABDEFFFFHBC&lt;@=&gt;6&lt;;::80,*),*))'''+--.1334415764'*-&lt;??BADBBE:8&gt;=&gt;&lt;851//.-+&amp;('''(((().22-)6=7./99)))))79988;&lt;DB@;887=&gt;&gt;&gt;ABBGLLGJ@??&gt;??&gt;7                                                                                                                                                                                                                        </span></td><td><span style=white-space:pre-wrap>79S16M3I117M7D55M                                          </span></td><td>12</td></tr>\n",
       "\t<tr><td> 0</td><td>17bda126-a0d3-4207-a38e-cad865096260</td><td>chrX</td><td>+</td><td>71442991</td><td>269</td><td>194</td><td>20240606_AL5RACE002</td><td><span style=white-space:pre-wrap>GTGTGTGCTTGGTTCAGATTACGTATTGCTCTAATACGACTCACTATAAGGGCAAGCAGTGGTATCAACGCAGAGGGAGAGGGAGAGGGAGAGGGAGAGGGAGAGGGAGAGGGGGAGGGAGAGGGAGAGGGAGAGGGAGAGGGAGAGGGAGAGGGAGAGGGAGAGGGAGAGGGAGAGGGAGAGGGAGAGGGAGAGGGAGAGCTATTTCATTTTTTTTTTTTTCCACATCAGATGTGGAAAAAAAATGTACTGGCATTGTAATAAGGCTG                                                                                                                                                                                                                         </span></td><td><span style=white-space:pre-wrap>###$$####$$%&amp;(&amp;'''%&amp;&amp;''*+0479;@@BDCD?????DEEFEEEECACABDGFFJGDBBBB322223BBABEDGFGLD@=?BDCB?DEGFEDFEKA@@@AJBAAABI?@BABGFGDFEE@??@CGIA?7AGFDEDEFB?@ACE@&gt;&gt;?@GGD&gt;@EFDAAABH@=&gt;&gt;?J&gt;&gt;?&gt;?IA@A@AFAAAB@O?&gt;&gt;&gt;?G?===&gt;CBBCFHIFA&gt;?:@&gt;CHIJSSKKE=11DFCDCCDCDB@&gt;;&lt;&gt;@DBAA@ECDEGFGGGEHGBBA&gt;;;:44*                                                                                                                                                                                                                         </span></td><td><span style=white-space:pre-wrap>74S13M3D122M1I58M1S                                        </span></td><td>28</td></tr>\n",
       "\t<tr><td> 0</td><td>c514f2ff-bee5-4cdc-b763-8c0882bb555a</td><td>chrX</td><td>+</td><td>71442991</td><td>221</td><td>198</td><td>20240606_AL5RACE002</td><td><span style=white-space:pre-wrap>GGGGATGGAGTGGCTGGGGAGGAGGGAGGGGAGATGGAGGGGAGGGAAGGGACACTGGGAGACAGTGGTATCAACGCAGAGGGAGAGGGAGAGGGAGAGGGAGAGGGAGAGGGAGAGGGAGAGGGAGAGGGAGAGGGAGAGGGAGAGGGAGAGCTATTTCATTTTTTTTTTTTTTTCCACATCAGATGTGGAAAAAAAATGTACTGGCATTCTGATGAGGC                                                                                                                                                                                                                                                                         </span></td><td><span style=white-space:pre-wrap>##$%(%%&amp;%%$##\"#$$$$%%%%$$$$$$&amp;'((&amp;&amp;%%$$$$$%&amp;%%$$$$&amp;%%$#$#%%&amp;&amp;&amp;%&amp;'(-----,,/00566779:4&gt;@@@@=?AECCBCCECB@BBJBA@C??@&gt;:=;::6100..118667546=?CEBDED=99:?@@@=?&gt;?AA&lt;;;;679:99:&gt;ACGHHIEC?&gt;=56?@@?????B@&gt;&lt;&lt;:872---.///.//1667*)&amp;&amp;&amp;&amp;&amp;&amp;&amp;'                                                                                                                                                                                                                                                                         </span></td><td><span style=white-space:pre-wrap>23S5M1D19M1D7M2I6M2D8M2I89M3I57M                           </span></td><td>18</td></tr>\n",
       "\t<tr><td>16</td><td>3635f172-3177-4af1-9c71-fde56643375d</td><td>chrX</td><td>-</td><td>71442991</td><td>358</td><td>294</td><td>20240606_AL5RACE002</td><td><span style=white-space:pre-wrap>CACCATAGGGCAAGCAGTGGTATCAACGCAGAGGGAGAGGGAGAGGGAGAGGGAGAGGGAGAGGGAGAGGGAGAGGGAGAGGGAGAGGGAGAGGGAGAGGGAGAGCTATTTCATTTTTTTTTTTCCACATCAGATGTGGAAAAAAAATGTACTGGCATTGTAATAAGGCTTGAGGGGAGGCAGCAATACGTAACTGAACGAGTAGATGAGAGAGAGAGGGAGAGGGAGAGGGAGAGGGAGAGGGAGAGGGAGAGCTATTTCATTTTTTTTTTTCCACATCAGATGTGGAAAAAAAATGTACTGGCATTGTAATAAGGCTTGAGGGATACATATGTAACTGAACCAAGTACAGGGACAT                                                                                                                                </span></td><td><span style=white-space:pre-wrap>%&amp;&amp;&amp;78;&gt;@&gt;@DECEHBACCBCAABC&gt;==&lt;55,*)421566@A1C@@AB4:&gt;&gt;@@6ACBBC7FBA@A0657&lt;85676=&lt;49:960/497885==&lt;;104&gt;@A&gt;===&lt;9;:54;&lt;&lt;&gt;=&lt;;&lt;;89??HIRLGHGEFF@@IDGKJSDGEKFFGG??@@?BJGFFFEFFKHHEDCE+56&lt;//''''%&amp;&amp;%%%%(()),*''&amp;$$###%%$$$%%&amp;&amp;'(.3677690/231466;&gt;;7757&gt;&gt;&gt;=&lt;&gt;B&lt;;:075.(''''(,,,-/1112347;=4789;B955443BB))5?AADD&gt;@AABBSPISLGFGDEIIIGGKLHHF=&lt;1/++''&amp;%$%$$%%(000100/,)*'''+'&amp;''%&amp;%##                                                                                                                                </span></td><td><span style=white-space:pre-wrap>32S13M3D60M90I4M1I2M2I1M2I55M1D64M32S                      </span></td><td> 8</td></tr>\n",
       "\t<tr><td>16</td><td>03e3f937-826a-4f09-82bd-bf93686b0d63</td><td>chrX</td><td>-</td><td>71442991</td><td>364</td><td>282</td><td>20240606_AL5RACE002</td><td><span style=white-space:pre-wrap>TACCATTGCTGAGACGACTCACTATAGGGCAAGCAGTGGTATCAACGCAGAGGGAGAGGGAGAGGGAGAGGAGAGGGAGAGGGAGAGGGAGAGGGAGAGGGAGAGGGAGAGGGAGAGGGAGAGCTATTTCATTTTTTTTTTTTTTTCCACATCAGATGTGGAAAAAAAGCAATACGTAACTGAACGAAGTAGGAGAGAGAAGCAGTGGTATCAACGCAGAGTACATGGGGGAGAGGGAGAGGAGAGGAGAGCTATTTCATTTTTTTTTTTTTTTTTCCACATCAGATGTGGAAAAAAAATGTACTGGCATTGTAATAAGGCTTGAGGGAGGCAGCAATACGTAACTGAACGAAGTAGAGGACAC                                                                                                                          </span></td><td><span style=white-space:pre-wrap>&amp;('),+'(''&amp;''))''&amp;''111@&gt;99989@A@A@&lt;9510111===MJHJIILKGFDIDCFE9@A&gt;=)(29==&lt;B@&gt;?))-88&gt;?:@&gt;;:..2@@CD;==&lt;???CB@AA2CB@BA&gt;DD?&lt;;&lt;==&gt;;875454113975558&lt;A?=;;&lt;?@===&gt;&gt;AA66?;@@&gt;=776679955555&lt;=@@762)'&amp;%$####$#$%''++**-*(('(/--000&lt;9989:&gt;?&gt;=:88114&lt;=69522*(,+7*).BDJEHDF=&lt;&lt;&lt;33339KGFEHJSOKCHSGGIKPOFGGGFEGDEHHG::99&gt;&lt;;;&lt;&gt;HEDFDDHED?&gt;&gt;&gt;&gt;LKIJIEEF6GF:94440//0/,,,..9:&lt;&lt;==1/,,)('((''%%$##                                                                                                                          </span></td><td>51S14M2I56M68I9M2I3M1I2M4I1M1D7M1D8M3D12M1D5M1D14M5I69M31S </td><td>33</td></tr>\n",
       "\t<tr><td>16</td><td>44c16572-3fc1-491e-bf19-45762f8c662e</td><td>chrX</td><td>-</td><td>71442991</td><td>347</td><td>259</td><td>20240606_AL5RACE002</td><td><span style=white-space:pre-wrap>CCTATTGCTCTAATACGACTCACTATAGGGCAAGCAGTGGTATCAACGCAGAGGGAGAGGGAGAGGGGAGAGGGAGAGGGAGAGGGAGAGGGAGAGGGAGAGGGAGAGGGAGAGGGAGGGAGAGCTATTTCATTTTTTTTTTTCCACATCAGATGTGGAAACTAATACGACTCACTATAGGGCAGCAGTGGATCCACGAGAGTACATGGGGGAGAGGGAGAGGGAGAGGGAGAGCTATTTCATTTTTTTTTTTTTTCCACATCAGATGTGGAAAAAAAATGTACTGGCATTGTAATAAGGCTTGAGGGAGGGAGCAAGACGACTGGTTCGAAGCAGGTCAGACATAT                                                                                                                                           </span></td><td><span style=white-space:pre-wrap>&amp;)/9&lt;;;::;FGEEGFJJOSIFNHMMCJOKQKSOKSKIGFEGFJHSJIGFFEGFEED6@&lt;444,/3/,-,46;==6006378);;:?&gt;98108969&gt;=&gt;@01?@D&lt;:?CAC@1B*.67:COJKHJHGHGHDFFFF@@BAFHECGDA&lt;&lt;&lt;=AFKIHJNLKRMSMPNJNSMOJGDFFCCA33333A&gt;&gt;&gt;))(%%%%%)(''''()7779;&gt;;88CE@JG@@?=BCBBB9BBCKKLIJSGBBAAMOSSSSSSIKCHBDAB&lt;&gt;@98899BC10FDCIMNDE????@=&gt;?CG866667EPFJSNQHJ@//7;..//0+**,%$###%####%&amp;'&amp;&amp;%$$$%$$$'&amp;**)&amp;&amp;&amp;                                                                                                                                           </span></td><td><span style=white-space:pre-wrap>52S14M2D49M2D9M55I5M1D7M6I4M1D8M3D33M2I67M36S              </span></td><td>30</td></tr>\n",
       "\t<tr><td>16</td><td>ae20cb84-27f4-4f42-acd3-696fba3a247f</td><td>chrX</td><td>-</td><td>71442991</td><td>300</td><td>211</td><td>20240606_AL5RACE002</td><td><span style=white-space:pre-wrap>TACGCATTGAAATACGACTCACTATAGGGCAAGCAGTGGTATCAACGCAGAGGGAGAGGGAGAGGGAGAGGGAGAGGGAGAGGGAGAGGGAGAGGGAGAGGGAGAGGAGAGGGAGAGGGAGAGGGAGAGGGAGAGGGAGAGGGAGAGGGAGAGGGAGAGGGAGAGGGAGAGGGAGAGGGAGAGCTATTTCATTTTTTTTTTTTTTCCACATCAGATGTGGAAAAAAAATGTACTGGCATTGTAATAAGGCTTGAGGGAGGCAGCAATACGTAACTGAACGAAGTAGAGGAAACAAAACAT                                                                                                                                                                                          </span></td><td><span style=white-space:pre-wrap>%&amp;&amp;''&amp;$$$$$$$%%)99::A@@77DFEGGLLHFCBBCCICCD@@???A@?C&gt;&lt;==&lt;HA&gt;&gt;106?@@@8AB@A@)103?@=@D@?4.9:45127BBD@=&gt;&gt;&gt;A//6BD&gt;:CB?B@;&gt;B&gt;?405229:/2/0&gt;@:=@=?@&gt;EBAAB@CAAAB,,,0@&lt;&lt;AECG76;C@??.:45843;?=910000----/56&lt;GNGBACE:==&gt;ESLMKMRHIIHH&gt;&gt;FLKJKSA@;;77770/1/.-,,,-522344&gt;=,,,+378@;8863312244;&lt;BBDB;:8-++('&amp;%&amp;&amp;&amp;$%%$'((('%$$                                                                                                                                                                                          </span></td><td><span style=white-space:pre-wrap>51S16M3I35M1D86M2I69M38S                                   </span></td><td>38</td></tr>\n",
       "\t<tr><td> 0</td><td>0f742f0c-889f-4285-95d0-e766c629a28a</td><td>chrX</td><td>+</td><td>71442993</td><td>446</td><td>194</td><td>20240606_AL5RACE002</td><td><span style=white-space:pre-wrap>ATGACTTACTTGGTTCAGTTGAGTATTGCTCTAATACAAGTCGCTATAGGGCAAGCAGTGGTACTAAACACAGAGGGAGAGGGAGAGGGAGAGAGAGAGAGAGAGAGAGAGAGAGAGAGAGAGAGAGTGTGTGTGTGTGTGTGTGTGTGTGTGTGTGTGTGTGTGTGTGTGTGTGTGTGTGTGTGTGTGTGTGTGTGTGTGTGTGTGTGTGTGTGTGTGAGAGAGAGAGAGAGAGAGAGAGAGAGAGAGAGAGAGAGAGAGAGAGAGAGAGAGAGAGAGAGAGAGAGAGAGAGAGAGAGAGAGAGAGAGAGAGAGAGAGAGAGAGAGGGAGAGGGAGAGGGAGAGGGAGAGGGAGAGGGAGAGGGAGAGGGAGAGGGAGAGCTATTTCATTTTTTTTTTTCCACATCAGATGTGGAAAAAAAATGTACTGGCATTGTAATAAGGCT                                        </span></td><td><span style=white-space:pre-wrap>#$##\"\"##$'(')**+--,+'%&amp;&amp;&amp;(1001,++,-*)('%%%%&amp;++,+++(%&amp;&amp;&amp;&amp;(((''&amp;&amp;%$$$$)+-,-.39;;&lt;;:72*(('''&amp;'&amp;&amp;%&amp;'****+*,-/1111000/..-,*)((&amp;&amp;%%%%##'/022345555778999:9:9::::9999888889998988888877765666777766554444444443333220/....--,,+**)&amp;$',,--./1122333355666666666555566677777676766666766666554555555554432210//001122222213444555555555555555440*()*0:&lt;=:98741**.897/831.768=FBC@@&gt;BB==ACDE;&lt;8&gt;&lt;&gt;&gt;:=A???777741114;;@@KMPN8:0000,*(''(+**+/3699;===@@CDFGFDFGGHFGEBB?&gt;87                                        </span></td><td><span style=white-space:pre-wrap>252S15M1I121M1D57M                                         </span></td><td>14</td></tr>\n",
       "\t<tr><td> 0</td><td>dffad2c5-c6eb-451d-8818-4729bdb39d20</td><td>chrX</td><td>+</td><td>71442993</td><td>399</td><td>198</td><td>20240606_AL5RACE002</td><td><span style=white-space:pre-wrap>ATAATTTATTGGTTCAGTTAGGTATTGTTTGAATACGACTCGCTATAGGGCAAGCAGATATAAACGCAAGTGAGAGAGAGAGAGAGAGAGAGAGAGAGAGAGAGAGAGAGAGAGAGAGAGAGAGAGAGAGAGAGAGAGAGAGAGAGAGAGAGAGAGAGAGAGAGAGAGAGAGAGAGAGAGAGAGAGAGAGAGAGAGAGAGAGAGAGAGAGAGAGAGAGAGAGAGAGAGAGAGAGAGAGAGAGAGAGAGAGAGAGAGAGAGAGAGAGAGGGAGAGGGAGAGGGGGAGGGAGAGGAAAGGAGAGGGAGAGGGAGAGGGAGAGGGAGAGGGAGAGCTATTTCATTTTTTTTTTTTTCCACATCAGATGTGGAAAAAAAAATGTACTGGCATTGTAATAAGCT                                                                                       </span></td><td><span style=white-space:pre-wrap>%&amp;$$$$%%#$##()))('(&amp;&amp;''&amp;&amp;'&amp;&amp;''%$$$%++++,-(((*-0///-./.-*('%$$#$&amp;&amp;'**(()),,-+'2053655645343434363434341/0/////00//./000120032300/115388:9&lt;&lt;?&gt;@&gt;?&gt;?&lt;64=7978787878689::;;;:995./05../34666664867898:9&lt;;==?@CACDDDCCDCBB@@@@@=3012212241137788:::999978777999999887441211122333/))*+,,,+*)(&amp;''())*(&amp;%%&amp;%&amp;%&amp;'&amp;((),,/1-38A?&lt;;8&lt;=@=&lt;?;;&lt;743769;:&lt;:99987553455565&lt;==&gt;?&gt;&gt;&gt;89217767888532/+,-320.-.--/022334EFEA@..-)*(&amp;%                                                                                       </span></td><td><span style=white-space:pre-wrap>199S15M1I77M4I44M1I27M1I28M2S                              </span></td><td>10</td></tr>\n",
       "\t<tr><td> 0</td><td>0e4c523d-13fd-4afd-b039-119e2417f4b5</td><td>chrX</td><td>+</td><td>71442993</td><td>305</td><td>163</td><td>20240606_AL5RACE002</td><td><span style=white-space:pre-wrap>ATATGTAGCATCTACTCGTTTCAGTTACGTATTGCTCTAATACGACTCACTATGGGCGAGCAGTGGTATCAACGCAGAGTGAGAGAGAGAGAGAGAGAGAGAGAGAGAGAGAGAGAGAGAGAGAGAGAGAGAGAGAGAGAGAGAGAGAGAGAGAGAGAGAGAGAGAGAGAGAGAGGGAGAGGGAGAGGGAGAGGGAGAGGGAGAGGGGGAGGGAGAGGGAGAGGGAGAGGGAGAGGGAGAGCTATTTCATTTTTTTTTTCCACATCAGATGTGGATAATAAGGCTGAGGGAGCAAGCAATACGTT                                                                                                                                                                                     </span></td><td><span style=white-space:pre-wrap>$%$%%&amp;$$#$$$&amp;'''%%'))&amp;&amp;'''(''''((((9;;:==FD;::::::::;...-322112665556312+,20+)*)((&amp;&amp;*+./6490*78;;=&lt;&lt;:;89788===&gt;?@BBDDDDCEDDCDFDDECEDDDFEFCCCDCCBBCBBBBBA@?A@AABABBBBBBCCCCB:87?;;&lt;=&gt;@&lt;8664261.3;;&lt;&gt;?FHFBBCEEPBADCEGFFCEHHGACEGOIEIHFSFJBIOPHGEFDJLJGHCC@@BDFBAGFHQD=A))996666673)$####$&amp;,,,-2***--*/+)&amp;&amp;&amp;&amp;(('%%$#                                                                                                                                                                                     </span></td><td><span style=white-space:pre-wrap>112S15M1I121M2D26M30S                                      </span></td><td> 1</td></tr>\n",
       "\t<tr><td> 0</td><td>81a25f73-6e27-4982-97f3-f8f378b5c9e0</td><td>chrX</td><td>+</td><td>71442993</td><td>315</td><td>204</td><td>20240606_AL5RACE002</td><td><span style=white-space:pre-wrap>ATGTGCATCTACTCGTTCAGTTCAGTATTGTTCTAATACGACTCACTATAGGGCAAGCAGTGGTATGGAGAGAGAGAGAGAGAGAGAGAGAGAGAGAGAGAGAGAGAGAGAGAGAGAGAGAGAGAGAGAGAGAGAGAGAGAGAGAGAGAGAGAGAGGGAGAGGGAGAGGGAGAGGGAGAGGGAGAGGGAGAGGGAGAGGGAGAGGGAGAGGGAGAGGAAGGGAGAGCTATTTCATTTTTTTTTTTCCACATCAGATGTGGAAAAAAAAATGTACTGGCATTGTAATAAGGCTTGAGGGAGGCAGCAATACGTGGT                                                                                                                                                                           </span></td><td><span style=white-space:pre-wrap>''()((%%%&amp;&amp;)*.-.0.00/0&amp;&amp;((((7922222&gt;?ECBBBCD&gt;&gt;&gt;&gt;?KGFHFFJPKGFKC?&gt;;8&amp;&amp;&amp;%%'(-./2266&gt;&gt;CBFHOLJNLQOPRSSRSMSRNNKHHEECCBCCCCCCDCCA?&gt;===&gt;&gt;??@@@@@@ABBCCCDEFFEGEGHGA;BECBDBA@&gt;&gt;?BGEB@@CEGEDEEHD@@CHHCECFGIHHFGKIHCDEHIC;9&gt;2/00))))*'(())89AAACCCAD@868&lt;DGIKLJIMMS@@IIHECBDCH@BCCDFA=&lt;:656:;@?DEFDDBDFFHMGGGGJK&gt;;;&lt;;CA@?&gt;&gt;&gt;@@AA?&lt;20)'&amp;                                                                                                                                                                           </span></td><td><span style=white-space:pre-wrap>99S15M1I100M1D3M1D16M1D26M1I42M12S                         </span></td><td>25</td></tr>\n",
       "\t<tr><td> 0</td><td>995ef14f-64ab-4d30-a14c-370f36ff2c22</td><td>chrX</td><td>+</td><td>71442993</td><td>486</td><td>196</td><td>20240606_AL5RACE002</td><td>GTGCATGTACTTCGTTCAGTTACGTATTGCTCTAATACGACTCACTATAGGGCAAGCAGTGGTATCAACGCAGAGTGGAGAGAGAGAGAGAGAGAGAGAGAGAGAGAGAGAGAGAGAGAGAGAGAGAGAGAGAGAGAGAGAGAGAGAGAGAGAGAGAGAGAGAGAGAGAGAGAGAGAGAGAGAGAGAGAGAGAGAGAGAGAGAGAGAGAGAGAGAGAGAGAGAGAGAGAGAGAGAGAGAGAGAGAGAGAGAGAGAGAGAGAGAGAGAGAGAGAGAGAGAGAGAGAGAGAGAGAGAGAGAGAGAGAGAGAGAGAGAGAGAGAGAGAGAGAGGAGAGAGAGAGAGAGAGAGAGAGAGAGAGGGAGAGGGAGAGGGAGAGGGAGAGGGAGAGGGAGAGGGAGAGGGAGAGGGAGAGGGAGAGCTATTTCATTTTTTTTTTTTCCACATCAGATGTGGAAAAAAAATGTACTGGCATTGTAATAAGGCTA</td><td>$'&amp;&amp;$%%&amp;&amp;('(%&amp;'0//...+++++000009:9:&lt;&gt;A????@CDGEEEECDEBCEEDFFFCCCDCDDCAA&gt;87564)(()2.002266;;??ABCCCCCAB@?&lt;=&lt;=&lt;&gt;&gt;?@ABBA@@@A@@@??&gt;&lt;;:&lt;=@@AABBBBABBBBBCCCCCCBBAAACAAAABAA?A=&gt;:&gt;&gt;@@A@BBBBCDDDDEDDDDCDCDDDDCDDDFEEDFDEDEEFFDEDCAA@AAAAAABBBBAAB@@&gt;?&gt;?&gt;??@?@?@&gt;?&gt;??@BBCCCCCCBABACACBDDDEEFEFDCBBAABA?&gt;?@@BACCCCCDDDCEDFFHFFEDFEDEEEEDEEEDECDBAAABGGGGGHFGFFEEEEFHHIHHGGFEDCCC346/49;&lt;73/---/7*((((79&lt;=&gt;?3?&gt;?CB?BA@??;&lt;;:&lt;78?DCCCBDC&lt;&lt;==AACA@&gt;??;757466;?CCHOKHFA77EGD????@A&gt;;:;&lt;@@&gt;&gt;BABCBEDEGFGEGHFGGFD@&gt;&lt;51'</td><td><span style=white-space:pre-wrap>289S15M1I23M1I156M1S                                       </span></td><td>13</td></tr>\n",
       "\t<tr><td> 0</td><td>1d147ff3-e866-4a78-bd6c-c4a9d5294a03</td><td>chrX</td><td>+</td><td>71442993</td><td>320</td><td>205</td><td>20240606_AL5RACE002</td><td><span style=white-space:pre-wrap>ATGTTTATGTCTAGTGACACAACCAGAGTTTACGTATTGCTCTAATAGACTCTCGCTATCAGGCAAGCAGTGGTATCAACGCAGAGTGAGGCATTGTAATAAGGCTGAGAGGGAGAGGGAGAGGGAGAGGGAGAGGGAGAGGGAGAGGGAGAGGGAGAGGGAGAGGGAGAGGGAGAAGGAGAAGGAGGAGGAGGAGAAGGAGGGAGAGGGAGAGGGAGAGGGAGAGGGAGAGCTATTTCATTTTTTTTTTTTCCCACATCAGATGTGGAAAAAAAAATGTACTGGCATTGTAATAAGGCTTGAGGGAGGCAGCAAATGGT                                                                                                                                                                      </span></td><td><span style=white-space:pre-wrap>$$$&amp;()&amp;'&amp;&amp;%%$$###$%%&amp;&amp;&amp;')((('''%&amp;$%%(---00//23.((((('''(((0******;;;99841000/00338&lt;:&lt;&lt;=&gt;973.--222111199978**)),/53;&lt;;==;?A@&gt;6,&lt;&lt;=BA&lt;@GHJNEFLICDBFFHEB@B=:;4/31+**5=A@BCEIFHEA@;D@@A:DFEBA@HHLGEDFDABACA52102*+89;&gt;ADOGJGCC@:&gt;/.-11248&lt;ABCDBCDDDIE?@GAJJIKSJFDC7)*CCDGDCIHSCB@BCIECDHSGFFEFHIGKKLE00000&lt;CEEFGJCBABA@AD&gt;;:::&lt;AA@A?                                                                                                                                                                      </span></td><td><span style=white-space:pre-wrap>106S11M3D69M1I3M2I7M2D53M1I15M1I42M9S                      </span></td><td>41</td></tr>\n",
       "\t<tr><td> 0</td><td>9760892d-25fd-4258-9ff6-9e809a728cf2</td><td>chrX</td><td>+</td><td>71442993</td><td>483</td><td>191</td><td>20240606_AL5RACE002</td><td><span style=white-space:pre-wrap>TTTATGTATACCTCGTTCGTCAGTTTATTGCTCTAATACAACTAGCTATAGGGCAAGCAGTGAGTGACAGAAGTGAGAGAGAGAGAGAGAGAGAGAGAGAGAGAGAGAGAGAGAGAGAGAGAGAGAGAGAGAGAGAGAGAGAGAGAGAGAGAGAGAGAGAGAGAGAGAGAGAGAGAGAGAGAGAGAGAGAGAGAGAGAGAGAGAGAGAGAGAGAGAGAGAGAGAGAGAGAGAGAGAGAGAGAGAGAGAGAGAGAGAGAGAGAGAGAGAGAGAGAGAGAGAGAGAGAGAGAGAGAGAGAGAGAGAGAGAGAGAGAGAGAGAGAGAGAGAGAGAGAGAGAGAGAGAGAGAGAGAGAGAGAGAGGGAGAGGAAGGGAGAGACAGACAGAGCGGGGAGAGGGAGAGGGAGAGGGAGAGGGAGAGCTATTTCATTTTTTTTTTTCCACATCAGATGTGGAAAAAAAATGTACTGGCATTGTAATAAGG   </span></td><td><span style=white-space:pre-wrap>'())***)*('''%%%%$$%##$$$%&amp;').-//./03&lt;95555((((((100155666544,+***++*))'&amp;'(--..099&lt;&lt;??=&gt;;&lt;9:9;899&gt;&gt;A@@?@&gt;?;&lt;457&lt;&lt;==@@BBCBBBCCEDEFFEFDEDDBBBCCDEBCBBBDDDECCECGEEECCBB???@?=&gt;&lt;=;&lt;;;4124:898::??AABCBBDDCCBA@?@@BACBCBCABBACBCCCDED@@???&gt;?&gt;&gt;;&lt;9;8866444-+,,07:;=&gt;&gt;?@@@A@@A@BABBBABAAA@A@???@??==&lt;=&lt;:79:==&gt;&gt;?&gt;??&gt;&gt;&lt;&lt;9976,*+0489:=??@@A@AAAABBAABBBBBBDCDCDDDCBA@???@@@????&gt;&gt;6,0/0/.-'&amp;%%&amp;&amp;&amp;&amp;%$$$$$%$$$$%#$$%)/13265&lt;&gt;?&gt;=987772655443.137&lt;;889;;AA=&gt;B@JJKJSSME??CH;:::;;=/...///----,,&amp;%$$$$%%&amp;%%%)(%%%&amp;   </span></td><td><span style=white-space:pre-wrap>292S15M1I58M1D3M1D18M1I40M1D55M                            </span></td><td> 8</td></tr>\n",
       "\t<tr><td> 0</td><td>510ffdec-f3a8-40f2-a5df-4e7db93d1f46</td><td>chrX</td><td>+</td><td>71442994</td><td>291</td><td>207</td><td>20240606_AL5RACE002</td><td><span style=white-space:pre-wrap>TGTGTGTAGCTTACTTCGTTCAGTTACGTATTTGTGATTCAACTAGCTATAGGGCAAGCAGTGGTATCAACGCAGAGTGAGAGAGAGAGAGAGAGAGAGAGAGAGAGAGAGAGAGAGAGAGAGAGAGAGAGAGAGAGAGAGGGAGAGGGAGAGGGAGAGGGAGAGGGAGAGGGAGAGGGGAGAGGGAGAGGGAGAGGGAGAGCTATTTCATTTTTTTTTTTTTCCACATCAGATGTGGAAAAAAAATGTACTGGCATTGTAATAAGGCTTGAGGGAGGCAGCAATACATAA                                                                                                                                                                                                   </span></td><td><span style=white-space:pre-wrap>####\"\"\"##\"###%(-,./2./...1113111,&amp;'&amp;%%&amp;%$$%''+++++,,,=&gt;ACBA&lt;;;&lt;=ECFDEDFDEHGKGF=::9?3=9EAHEJGIGIEDBCEIIIIHIFFEGEFFGFGGFDDDDDEFFGGGCB&gt;&gt;=?==:;7.9:6877610,,,,2,&gt;?@@ACDGGECACCEEDCCGCB@3:&lt;:9;4-08::98875458CEDDEHGGFDCA9;&gt;9=BHSSSSJJHAAFHFEGKHGJ&gt;=&lt;=&gt;&gt;;6578:;::::;=LGIFJFGFEGFEDGIEFHGFEDFDDEC@&gt;=;9,+'&amp;                                                                                                                                                                                                   </span></td><td><span style=white-space:pre-wrap>73S14M1I88M1I33M1I69M11S                                   </span></td><td>38</td></tr>\n",
       "\t<tr><td> 0</td><td>0ddeae47-3376-45aa-962a-ecdab142188f</td><td>chrX</td><td>+</td><td>71442994</td><td>262</td><td>191</td><td>20240606_AL5RACE002</td><td><span style=white-space:pre-wrap>TCTGTTAGCCCCTGGACCGTTGGTCTTGCTCTAATACGACTCACTATAGGGCAAGCAGTGGTATCAACGCAGAGGGAGAGGGAGAGGGAGAGGGAGAGGGAGAGGGAGAGGGAGAGGGAGAGGGAGAGGGAGAGGGAGAGGGAGAGGGAGAGGGAGAGGGAGAGGGAGAGGGAGAGGGAGAGGGAGAGGGAGAGCTATTTCATTTTTTTTTTTTTCCCACATCAGATGTGGAAAAAAAAATGTACTGGCATTGTAATAAGGT                                                                                                                                                                                                                                </span></td><td><span style=white-space:pre-wrap>&amp;%%%&amp;&amp;%$$$%$%$%%%%%''&amp;&amp;&amp;%%%%(1???ABGGFFHHLJHKKGCDCCECBCBBFED=655,,,,+,+)()5859&lt;A@@@BIJHGGHKJFGAEHNHFDLGHF@&gt;&gt;GE@9;&lt;=&gt;?&gt;&lt;&gt;?&lt;&lt;9778778&gt;BCCCA3EFFFECEMGGFJISPOHFHIGFFCGMKKGBJNLSMIJIIE?AAFEA735&gt;?BCEHFFFFCCCC&gt;&lt;&lt;77&lt;:=@ABFJSA@9.&amp;*;&lt;;&gt;&gt;&gt;&gt;BD@&lt;::&lt;GHDD@AAADDFEHJHKIGGD@@?&lt;874,                                                                                                                                                                                                                                </span></td><td><span style=white-space:pre-wrap>70S10M3D134M2I15M1I29M1S                                   </span></td><td>12</td></tr>\n",
       "\t<tr><td> 0</td><td>40f7db95-cf4b-4801-8a01-2a8fd7b1e16c</td><td>chrX</td><td>+</td><td>71442994</td><td>237</td><td>170</td><td>20240606_AL5RACE002</td><td><span style=white-space:pre-wrap>GTGCCTGTACTCGTTCAGTTACGTATTGTAATTTGACTCGCTGTCGGGCAAGCAGTGGTATCAACGCAGAGTGAGAGGGAGAGGGAGAGGGAGAGGGAGAGGGAGAGGGAGAGGGAGAGGGAGAGGGAGAGGGAGAGGGAGAGGGAGAGGGAGAGGGAGAGGGAGAGGGAGAGGGAGAGGGAGAGGGAGAGCTATTTCATTTTTTTTTTTTCCACATCAGATGTGAAAAAGAAAATG                                                                                                                                                                                                                                                         </span></td><td><span style=white-space:pre-wrap>##$$$$$&amp;&amp;''%%%&amp;&amp;())*((**)*+*('''(&amp;$##$+++,./.---.8&gt;&gt;&gt;:::9&lt;=;;66662222111287689645667659;:&gt;&gt;5CBBBB?BDCFEBFHIGGEFLHGHFGHMHKIHISJBDEIPKJHGGJJLFHJNDDDDFJGECDIHE?;??EFDCFDCFFBHHEFCBDFOEFDFHLHGFGHJGG@@?&gt;/////324679&lt;?B&gt;;2366.,,,../-'''+)5'()33-                                                                                                                                                                                                                                                         </span></td><td><span style=white-space:pre-wrap>67S10M3D153M1I6M                                           </span></td><td> 3</td></tr>\n",
       "\t<tr><td> 0</td><td>3e6440ca-0b78-4bf1-8746-62b42c8bcf08</td><td>chrX</td><td>+</td><td>71442994</td><td>255</td><td>190</td><td>20240606_AL5RACE002</td><td><span style=white-space:pre-wrap>ATGTATTCATTCATGCCGTCTTGCTCTAATACGACTCACTATAGGGCAAGCAGTGGTATCAACGCAGAGGGAGAGGGAGAGGGAGAGGGAGAGGGAGAGGGAGAGGGAGAGGGAGAGGGAGAGGGAGAGGGAGAGGGAGAGGGAGAGGGAGAGGGAGAGGGAGAGGGAGAGGGAGAGGGAGAGGGAGAGCTATTTCATTTTTTTTTTTCCCACATCAGATGTGGAAAAAAAATGTACTGGCATTGTAATAAGGCT                                                                                                                                                                                                                                       </span></td><td><span style=white-space:pre-wrap>%&amp;&amp;*$####$$$$$((((()-...489;&gt;&gt;HLGHFNEFDGCC:99::AHDEBDDHKLJMLJIJD@::88;4.9?@FC=BA&gt;B?&gt;FIGEDBCHJF;&lt;98//0/399=?&gt;CFCEB?B&lt;9;:1;988836==&gt;;98620/,+++.-*5?&gt;?&gt;;@CEE@@&lt;IJKKCEEAJDEHMKIA@BGNLFBF?;&lt;@CDGJJIHGHGE@??&lt;7689&lt;GKAC;9**DLDDHFGGODCCGIJKECB?98899=ADGKIDDA@;999887                                                                                                                                                                                                                                       </span></td><td><span style=white-space:pre-wrap>65S10M3D180M                                               </span></td><td>23</td></tr>\n",
       "\t<tr><td>16</td><td>4d395886-d224-4c73-84a3-53f22baa188e</td><td>chrX</td><td>-</td><td>71442994</td><td>244</td><td>209</td><td>20240606_AL5RACE002</td><td><span style=white-space:pre-wrap>AGAGGGAGAGGGAGAGGGAGAGGGAGAGGGAGAGGGAGAGGGAGAGGGAGAGGGAGAGGGAGAGGGAGAGAGGGAGAGGGAGAGGGAGAGGGAGAGGGAGAGGGAGAGGGAGAGGGAGAGGGAGAGGGAGAGCTATTTCATTTTTTTTTTTTCCACATCAGATGTGGAAAAAAACTAGCTGCATTTTGGTAGAAGGCTTGAGGGAGGCAGCAATAGGAATCTTAGCTAAGGTAGGACATAACAT                                                                                                                                                                                                                                                  </span></td><td><span style=white-space:pre-wrap>'*036451,,2-210//07203&lt;;:;+8986985++2445:9;&lt;8&gt;548:;@;9;&lt;4;66891476*,38&lt;?=;&lt;;9=;455466443553/6744657866568927757996449*).33:94,+***//12*--,,68;:30/064/.+**..)((()/3::;8741)&amp;&amp;''())*+10)-&amp;&amp;&amp;'))))&lt;&lt;;;8**),/4020000////)('&amp;''()+&amp;&amp;&amp;&amp;&amp;&amp;%%%%%%&amp;''&amp;&amp;+,'''                                                                                                                                                                                                                                                  </span></td><td><span style=white-space:pre-wrap>13M3I49M2I109M1I1M2D2M1D5M3I2M1D19M35S                     </span></td><td>13</td></tr>\n",
       "\t<tr><td>16</td><td>43462524-974d-463b-839e-2e9aa427bbd8</td><td>chrX</td><td>-</td><td>71442994</td><td>330</td><td>267</td><td>20240606_AL5RACE002</td><td><span style=white-space:pre-wrap>AATGATAGGGCAAGCAGTGGTATCAACGCAGAGGGAGAGGAGAGGAGAGGAGAGGGAGAGGAGAGGGAGAGGGAGAGGGAGAGGGAGAGGGAGAGGGAGAGCTATTTTCTTTTACATCAGATGTGGAAAATGATCTGGCATTGTAATAAGGCTTGAGGGAGGCAGCAATACGCAACTGAACCAGGTCAAAGGAGGGGATTAGGAGAGGGAGAGCTATTTCATTCTTTTTTTTTTTTTTTCCACATCAGATGTGGGAAAAAAATGTACTGGCATTGTAATAAGGCTTGAGGGAGGCAGCAATACGTAACTGAACGAAGTAGGTTACAACAA                                                                                                                                                            </span></td><td><span style=white-space:pre-wrap>$$%&amp;,-*)***453:B;9999:99&gt;@?EIDECDAB?((657+*4:&gt;??CDEC-9@&gt;@87=&lt;&gt;328&gt;=&gt;('***5646:97658??@@-A=;&lt;*)/;&lt;643333/2-,+-'&amp;&amp;&amp;;9999&lt;=&gt;=AAC&gt;?7522238+*:3311112&gt;?&gt;DFDCCCDA@C@876-.,,/0+**)+,/0121)''&amp;###$%&amp;$$%&amp;&amp;($#$$%&amp;*/77649&lt;=&gt;&gt;BBBB8774****79:;;;&lt;;;:83&lt;;&gt;&gt;CGSGFFDEDGD.-3;7710001//14=&lt;&lt;?33333CCEDCDEEEGGF:9&gt;&gt;=A66666&gt;==&lt;&gt;=&lt;;:::6--+(()&amp;$$#####$####$#                                                                                                                                                            </span></td><td>29S11M1I7M1D11M1D42M48I2M1D1M3I6M2I9M5I2M2I13M1D27M6I69M34S</td><td> 9</td></tr>\n",
       "\t<tr><td> 0</td><td>bfcbf9f7-2047-435a-b0da-7ef14a407324</td><td>chrX</td><td>+</td><td>71442998</td><td>202</td><td>193</td><td>20240606_AL5RACE002</td><td><span style=white-space:pre-wrap>AGGCTGGAGAGAGAGAGAGAGAGAGAGAGAGAGAGAGGGAAGCGGTGGTATCAACGCAGAGTGAGAGGGAGAGGGAGAGGGAGAGGGAGAGGGAGAGGGAGAGGGAGAGGGAGAGGGAGAGGGAGAGGGAGAGCTATTTCATTTTTTTTTTTTTCCACATCAGATGTGGAAAAAAAATGTACTGGCATTGTGATAAGGGCTT                                                                                                                                                                                                                                                                                            </span></td><td><span style=white-space:pre-wrap>\"##\"\"\"########\"\"\"\"##$##$%$$$$$$$$$$$%$$$%%%%%$%%'++***+,.11122497666&lt;&lt;=&gt;E????@F@????H@??@AF&lt;&lt;&lt;&lt;&gt;GA@@@@D@&gt;&gt;?AHBAAACHEB@BBABA=?AF?=&lt;&lt;&lt;@&gt;=552/--./0/014677&lt;&gt;==;778869899:822221,+)),.//078;&lt;?A??==,,,,,562-/3                                                                                                                                                                                                                                                                                            </span></td><td><span style=white-space:pre-wrap>5S9M1D26M1D2M1I4M6I88M1I56M4S                              </span></td><td>19</td></tr>\n",
       "\t<tr><td> 0</td><td>87fc901d-b39a-449c-92bb-ca5f66e357c3</td><td>chrX</td><td>+</td><td>71442998</td><td>279</td><td>197</td><td>20240606_AL5RACE002</td><td><span style=white-space:pre-wrap>GTGTAGCCCCTCGACTAGTACGTATTGCTCTAATACGACTCACTATAGGGCAAGCAGTGGTATAGAGACAGGAAGGAGAGAGAGAGAGAGAGAGAGAGAGAGAGAGAGAGAGAGAGAGAGAGAGGGAGAGGGAGAGGGAGAGGGAGAGGGAGAGGGAGAGGGAGAGGGAGAGGGAAGGGAGAGGGAAGGGAGAGCTATTTCATTTTTTTTTTTCCACATCAGATGTGGAAAAAAAAATGTACTGGCATTGTAATAAGGCTTGAGGGAGGCAGCAATTGA                                                                                                                                                                                                               </span></td><td><span style=white-space:pre-wrap>#$$''''''''%%&amp;%&amp;%%%%&amp;&amp;***1225=&lt;;&gt;@BDA@AA@?&gt;&gt;=&lt;0/.($%%%%*-...//.+'&amp;&amp;&amp;)('''&amp;&amp;&amp;&amp;'(458;;&lt;&lt;==&gt;&gt;??@AABBDCCBCCBA@A@B@@?????&gt;???72/1.,)*'&amp;')(-,*./-4899:&lt;@CFF&lt;&lt;==&lt;:5/2&lt;;=&gt;?@A?&lt;4/165754''++,-,()(()(()(*/110/0587;;&lt;9&lt;;CDFKRKF9./CFA?=&lt;&lt;&lt;&gt;C&gt;=;&lt;HGCCC@7776;:::BHSNFG@&gt;&gt;&gt;&gt;:::@&gt;11020+1,''(('(((''                                                                                                                                                                                                               </span></td><td><span style=white-space:pre-wrap>74S9M1D92M1D11M1D16M1D26M1I42M8S                           </span></td><td>32</td></tr>\n",
       "\t<tr><td> 0</td><td>f7a08879-f311-48f3-ba8f-a6d8262a7a63</td><td>chrX</td><td>+</td><td>71442999</td><td>262</td><td>185</td><td>20240606_AL5RACE002</td><td><span style=white-space:pre-wrap>ATATTTTTTTTTTACTCGTTGAGTTTACGTATTGCTCTAATACGACTCACTATAGGGCAAGCAGTGGTATCAACGCAGAGAGAGAGAGAGAGAGAGAGAGAGAGAGAGAGAGAGAGAGAGAGAGAGAGGGAGAGGGAGAGGGAGAGGGAGAGGGAGGGGGAGAGGGAGAGGGAGAAGGAGAGGGAGAGGGAGAGGGAGAGCTATTTCATTTTTTTTTTTACATCAGATGTGGAAAAAAAATGTACTGGCATTGTAATAAGGC                                                                                                                                                                                                                                </span></td><td><span style=white-space:pre-wrap>##$%%&amp;&amp;&amp;&amp;'&amp;#\"\"\"###$%%%&amp;&amp;'(&amp;&amp;()(**+-799889;=&gt;&gt;&gt;=8&lt;=&gt;&gt;&gt;11112CLEHAAAABE@@5555541,*)'$+*-,---..14343457788::::7-+,+,+,+.13331131442488;&gt;ACB@?AAA?5/163457;ACD?&gt;&gt;856430.,-.--,++,*('&amp;&amp;&amp;&amp;%')*,*+/56657767739BDCBBACFD&gt;:6474568EF@/,))),4566665234:52289&lt;@@ABCEFEGEBBA@AAABCA                                                                                                                                                                                                                                </span></td><td><span style=white-space:pre-wrap>77S9M1I132M3D43M                                           </span></td><td>17</td></tr>\n",
       "\t<tr><td> 0</td><td>557f51a0-8ea8-4d7e-a6e3-917a0c172a53</td><td>chrX</td><td>+</td><td>71443000</td><td>261</td><td>184</td><td>20240606_AL5RACE002</td><td><span style=white-space:pre-wrap>CTGTCTACGTCTACACTCGTTCGTGCGTATTGCTCTAATACGACTCACTATGGCAAGGGCTGCAGTGGTATCAACGCAGAGAGAGAGAGAGAGAGAGAGAGAGAGAGAGAGAGAGAGAGAGAGAGAGAGAGAGGGAGAGGGAGAGGGAGAGGGAGAGGGAGAGGGAGAGGGAGAGGGAGAGGGAGAGGGAGAGGGAGAGCTATTTCATTTTTTTTTTCCACATCAGATGTCGAAAAGAAATACTATGGCATTGTAATAAGG                                                                                                                                                                                                                                 </span></td><td><span style=white-space:pre-wrap>###$#$$$$&amp;&amp;'&amp;&amp;&amp;%%$$$%%%&amp;%%&amp;&amp;&amp;''''(665568&gt;88888=&lt;&lt;99/.*&amp;&amp;&amp;'(*+-,,,369==&gt;&lt;&lt;&lt;&lt;&lt;?=;;=4)-34;:A@GFNKNOPLNMSNPQNPSRMMSSPONORSNNOKLJIIHHGHGEB&lt;&lt;&lt;&lt;EC?&lt;8=?BBA@EHKECBBCECAABCCCDAFIHJF=@AG?&lt;=:CAA59@AED&gt;6=ADFDABFDA@8766/-,,)'',567&gt;=&gt;7798(''''(('&amp;'*+12-.-)-+((()45;&lt;?&gt;&gt;/-,*))(                                                                                                                                                                                                                                 </span></td><td><span style=white-space:pre-wrap>77S8M1I121M2D34M1I3M1D16M                                  </span></td><td> 1</td></tr>\n",
       "\t<tr><td> 0</td><td>259f638a-b157-4417-970b-689ab3ce9e6e</td><td>chrX</td><td>+</td><td>71443001</td><td>228</td><td>211</td><td>20240606_AL5RACE002</td><td><span style=white-space:pre-wrap>GGGAGGGAGGGAGGGAGAGGGGAGGGGAGGGAGGGAGGGAGGGAGGGAGGGAGGATATAACACCAGAGTGAGAGGGAGAGGGAGAGGGAGAGGGAGAGGGAGAGGGAGAGGGAGAGGGAGAGGGAGAGGGAGAGGGAGAGCTATTTCATTTTTTTTTTTTCCACATCAGATGTGGAAAAAAAATGTACTGGCATTGTAATAAGGCTTGAGGGAGGCAGCAATACGTGG                                                                                                                                                                                                                                                                  </span></td><td><span style=white-space:pre-wrap>########$$$#$$$#$$$$$%%%%%%%$$##########%$$$###$$$%%&amp;()*++,,,,/0,,...013477779:;999;&lt;?&lt;;;&lt;=A&lt;;;;&lt;C:9::;A&gt;=;&lt;=@&lt;;&lt;&lt;=D=&lt;;&lt;=C:999:B:9999@====&gt;?&gt;=&lt;&lt;;;;9999:?FGFJMIB&gt;;44==&lt;&lt;===&lt;&lt;&lt;;;&lt;@DGCB@@?====?BA&gt;&lt;&lt;&lt;:;&lt;::&lt;&lt;=AB9766687765557777420/'%                                                                                                                                                                                                                                                                  </span></td><td><span style=white-space:pre-wrap>6S6M1I8M1D5M1D6M2I6M2I6M2I4M9I154M11S                      </span></td><td>45</td></tr>\n",
       "\t<tr><td> 0</td><td>647c3b53-d08c-4d52-90fe-4530e922b355</td><td>chrX</td><td>+</td><td>71443007</td><td>275</td><td>175</td><td>20240606_AL5RACE002</td><td><span style=white-space:pre-wrap>TGCTGCACCTACTCGTTCAGTTACGTATTGCTCTAATACGACTCACTATAGGGCAAGCAGTGGTATCAACGCAGAGTGAGGCATTGTAATAAGGCTTGAGGGAGAGGGAGAGGGAGAGGGAGAGGGAGAGGGAGAGGGAGAGGGAGAGGGAGAGGGAGAGGGAGAGGGAGAGGGAGAGGGAGAGGGAGAGGGAGAGGGAGAGGGAGAGGGAGAGCTATTTCATTTTTTTTTTCCACATCAGATCGAAAAGAAATACTATGGCATTGTAATAAGGC                                                                                                                                                                                                                   </span></td><td><span style=white-space:pre-wrap>##\"\"\"##\"#$&amp;''&amp;&amp;'2254,,,--77775587778:ADFFGGHGGJHHSGHHMNSHL@@@&gt;@DCDDBCCBGGFLRKIMSNSMNQJLLILJSSJSKSGCCIE&gt;@IKKHOGJLIFADD@SNNJRIJFBFJJSGCEKFHDCJJGK@G&lt;EDED8&lt;=?B:78?DA&lt;89B=;?&lt;&gt;AHLNCIFHDEMNKI@98AGGKEFIIHC?ABFDCC?@ABFGGEA?=4/0257:;&lt;?&gt;&lt;DEIHEDC:9..+*+-+)&amp;&amp;&amp;'/28:;4=&lt;&lt;&lt;;&gt;?AGIQEE97669985                                                                                                                                                                                                                   </span></td><td><span style=white-space:pre-wrap>100S122M2D20M2D12M1I3M1D17M                                </span></td><td> 9</td></tr>\n",
       "\t<tr><td>⋮</td><td>⋮</td><td>⋮</td><td>⋮</td><td>⋮</td><td>⋮</td><td>⋮</td><td>⋮</td><td>⋮</td><td>⋮</td><td>⋮</td><td>⋮</td></tr>\n",
       "\t<tr><td>16</td><td>fc6bdf1a-ac95-4717-b485-15b1c6d6d574</td><td>chrX</td><td>-</td><td>71443401</td><td>192</td><td>42</td><td>20240606_AL5RACE002</td><td><span style=white-space:pre-wrap>GACCAGAGGGCAAGCAGTGGAATCACTAGAGTACATGGGACTGGCATTTTTCTTTTTTTAAATTAAAAACATTTTCTTGCTCTAACTTTTTTTCTTTTCACATCAGATGTGGAAAAAAAGTTACTGGCATTGTAATAAGGCTTGAGGGAGGGAGCAAGATACTTAAAATGAACCAAGTAGGTTACACATAAA                             </span></td><td><span style=white-space:pre-wrap>&amp;(((()21///13452+***.+'&amp;''(46&gt;&gt;BFG;:&gt;@+++;&gt;@BGGFAB@KKEC966:DDFOMIFGFGH?FGCA;95/&amp;&amp;&amp;&amp;(),00.0)))/.***/233223355:9&gt;;;9::..--,+,****))'''''')&gt;&gt;=&lt;:::2,*)(((224*)&amp;$$$$$$$%(*(('')'&amp;&amp;)(&amp;&amp;&amp;%%%'))+*&amp;%(%$                             </span></td><td><span style=white-space:pre-wrap>41S42M109S     </span></td><td> 1</td></tr>\n",
       "\t<tr><td>16</td><td>5e840763-7308-40f6-945c-e9b3cfaec483</td><td>chrX</td><td>-</td><td>71443401</td><td>207</td><td>49</td><td>20240606_AL5RACE002</td><td><span style=white-space:pre-wrap>AACGTATTGTCTTTAATACGAATCACTATAGGGCAAGCAGTGGTATCAACGCAGAGTACATGACTGGCATTTTTCTTTTTTTAAATTAAAAACATTTTCTTGCTCTCGGTCTTTTTTTTTTCCACATCAGATGTGGAAAAAATGTACTGCGTTCGTAATAAGGCTTGAGGGAGGCAGCAATACGTAACTGAACGAAGTGACACAACA              </span></td><td><span style=white-space:pre-wrap>%&amp;''')%%&amp;(&amp;'())'&amp;&amp;'())*+445HGGHGIEFGEFGCCECEC&gt;===&lt;4..../44'&amp;&amp;&amp;&amp;&amp;*8=CMHIGAEIJKJ7866@88=&gt;NIGLSGFJNHA@?BA?&lt;8-,++,0./.246=8445?NE&lt;;;;&gt;B@32=:&gt;:;@9=;;;:3,)&amp;&amp;''+115678;;:;;=1/8:6710000&gt;AEEFHEFGEFC@72/,*&amp;%%%&amp;'(*+,''              </span></td><td><span style=white-space:pre-wrap>64S49M94S      </span></td><td>10</td></tr>\n",
       "\t<tr><td>16</td><td>46bd0c36-1557-4831-ae20-d6a35bc2ecc5</td><td>chrX</td><td>-</td><td>71443401</td><td>197</td><td>43</td><td>20240606_AL5RACE002</td><td><span style=white-space:pre-wrap>ACCTATTGCTTAATACGACTCACTATAGGGCAAGCAGTGGTATCAACGCAGAGTACATGGGACTGGCATTTTTCTTTTTTTAAATTAAAAACATTTTCTTGCTCTCAAGTTTTCTTCTCATCAGATGTGGAAAAAAAGTGCTGGCATTGTAATAAGGCTTGAGGGAGGCAGACGTAACTGAACGAAGTACAGGACAT                        </span></td><td><span style=white-space:pre-wrap>%&amp;()526:9::=&gt;&gt;@?-----DCCIGCEBB@EHGNKGHGGFHEDCDDGFISJJHLHH@DD/..79ACMIHEC@INL98=&lt;&lt;@CCGKKQHKDLMLIIKKGC@?0.----,0''&amp;&amp;&amp;%%%),++,-//;;7110,(''%%&amp;()*+,/0.../112?B76211('((((&amp;&amp;&amp;('''''(())(''''0)(''%##$&amp;$##                        </span></td><td><span style=white-space:pre-wrap>63S43M91S      </span></td><td> 1</td></tr>\n",
       "\t<tr><td>16</td><td>91966f1d-e763-4ba7-8107-7f0b48592bf4</td><td>chrX</td><td>-</td><td>71443401</td><td>205</td><td>49</td><td>20240606_AL5RACE002</td><td><span style=white-space:pre-wrap>CGCATCGAGATGACTCACTATAGGGCAAGCAGTGGTATCAACGCAGAGTACATGGGACTGGCATTTTTCTTTTTTTAAATTAAAAACATTTTCTTGCTCTCGGTCTTCTTTTTTTTCCACATCAGATGTGGAAAAAATGTACTGGCATTGTAAGACAGGCTTTCTAGGGAGGAGCAAGACGATGAGTCGAAAGAAGAGGCACATA                </span></td><td><span style=white-space:pre-wrap>*('%%%'((((4;;::77777/22368:;BFFDDCB?=&lt;=&gt;::,+++-6;;,+0*(('(())**,-.2:&lt;CE;:99&lt;;:&lt;@EIJG?KHMKJIJCHKHHDA&lt;==66978:&lt;&gt;=;;778893/.0:::333744//*,0/0122111)))(&amp;&amp;&amp;((**,,.+++(((.,,*'%%'&amp;))('$$%%%%&amp;$%%%(*(()*(******)'&amp;                </span></td><td><span style=white-space:pre-wrap>58S49M98S      </span></td><td>10</td></tr>\n",
       "\t<tr><td>16</td><td>c2245326-9d07-484d-b8f6-d14fac26b338</td><td>chrX</td><td>-</td><td>71443401</td><td>202</td><td>41</td><td>20240606_AL5RACE002</td><td><span style=white-space:pre-wrap>CACCATTTGAGATGACTCACTATAGGGCAAGCAGTGGATCAACGCAGAGTACATGGGGACTGGCATTTTTCTTTTTTTAAATTAAAAACATTTTCTTGCTCGGTTTTTTCTTTTCACATCAGATGTGGGAAAAAAAATGTACTGGCATTGTAATAAGGCTTGAGGGAGGCAGCAATACGTAACTGAACGAATAGGTTACACA                   </span></td><td><span style=white-space:pre-wrap>)'()*+(((()..0;:::@@&gt;?=99666999::....6689;;;?BAACA@&gt;.,.,.'''((..101238;;=EA=:9&lt;&lt;=@FLHLRHOCGGCB?/,)-00011=A&amp;&amp;&amp;09)))5?ABBDDABA/.;EHEDA@ABCCDLNSJLIPJMKGGIIKJHHGKLGJH@IF@@?7633332$$$$$%%%$%&amp;&amp;%$$#$##&amp;&amp;'(()(%                   </span></td><td><span style=white-space:pre-wrap>60S41M101S     </span></td><td> 1</td></tr>\n",
       "\t<tr><td>16</td><td>bdd6025d-ff14-4ef1-9d96-78f8ef860bb9</td><td>chrX</td><td>-</td><td>71443401</td><td>203</td><td>46</td><td>20240606_AL5RACE002</td><td><span style=white-space:pre-wrap>AATGTATTGCTCTAATACGACTCACTATAGGGCAAGCAGTGGTATCAACGCAGAGTACATGGCAATGGCATTTTTCTTTTTTTAAATTAAAAACATTTTCTTGCTCTCGGTTTTTTTTTTTTTCCACATCAGATGTGGGAAAAATGTACTGGCATTGTAATAAGGTCTGAGGGAGGAGCAAGACGCAACTGAACGAAGTACAT                  </span></td><td><span style=white-space:pre-wrap>235::;:77778:&lt;&lt;=CCBCCCDEIE@&gt;=&gt;?CEMIKSSJFGGFMHJKECB@@?&lt;;;83,++*+-.....0/32326&gt;;9211499:;AIIKHOIHSSSE&gt;&lt;7200-,,,.187679;:&gt;GGHHGHHHHFDD@&gt;=,,0:=98*,77:;&gt;2222/*)))),))&amp;&amp;&amp;%%&amp;'(368+*/.-+++,(''''--//24/,'%$$$&amp;%$$                  </span></td><td><span style=white-space:pre-wrap>65S46M92S      </span></td><td> 6</td></tr>\n",
       "\t<tr><td>16</td><td>98e5578a-828d-4a0b-bf0b-4a8e6d3b0c5b</td><td>chrX</td><td>-</td><td>71443401</td><td>189</td><td>46</td><td>20240606_AL5RACE002</td><td><span style=white-space:pre-wrap>ATAGGGCAAGCAGTGGTATCAACGAACATGGGACTGGCATTTTTCTTTTTTTAAATTAAAAACATTTTCTTGCTCTCGGTTTTTTTTTTTCCACATCAGATGTGGAAAAAACGGTTGGCATTGTAATAAGGCTTGGAGGGAGGCAGCAAGACCGTAACTGAACGAAGTACAGACACTACACATAAACAT                                </span></td><td><span style=white-space:pre-wrap>,-457549&lt;&lt;@CBDECA&gt;0*'&amp;&amp;&amp;')-3/41(((.0:8999::&lt;@JSR@CA@DAA?FLCBB&lt;A5784220.-,./+)((+.....28&lt;44ADHFHHEFECB644..**'&amp;&amp;%%%&amp;(/8888666645998&lt;1114;44?-****4))))'')*,/00001/,*(($%&amp;'$%$$##$$&amp;'+*('*,,(('                                </span></td><td><span style=white-space:pre-wrap>34S46M109S     </span></td><td> 9</td></tr>\n",
       "\t<tr><td>16</td><td>2b584f64-f23a-4057-b6fa-c10249bbf0a2</td><td>chrX</td><td>-</td><td>71443401</td><td>203</td><td>42</td><td>20240606_AL5RACE002</td><td><span style=white-space:pre-wrap>AACGCATTGCTTGTACACGACTCACTATAGGGCAAGCAGTGGTATCAACGCAGAGTACATGGACTGGCATTTTTCTTTTTTTAAATTAAAAACATTTTCTTGCTCTAACTTTTTTCTTTCATATTACAGGTGGAAAAAAAAATGTACTGGCATTGTAATAAGGCTTAGGAGGCAGCAATACGTAACTGAACGAGTACGTTACA                  </span></td><td><span style=white-space:pre-wrap>---('(((336897744433223:::&gt;??BBBA@?=&lt;8+++*+221122366790000/22((',,,,202//07666776455569:;&lt;;;;===&gt;&lt;87('%$#$%%&amp;*)*''('*)*-.....71166677;42111245558;&gt;AHGA?&gt;:90///5654/.**)''(''*())-.1142223542,++$$$$%&amp;%&amp;&amp;%%                  </span></td><td><span style=white-space:pre-wrap>64S42M97S      </span></td><td> 1</td></tr>\n",
       "\t<tr><td>16</td><td>a46002a8-1643-4258-bab0-e3f2481a64dc</td><td>chrX</td><td>-</td><td>71443401</td><td>218</td><td>46</td><td>20240606_AL5RACE002</td><td><span style=white-space:pre-wrap>ACCATTTGCTCTAATACTCAACTCCACTATAGGCAAGTAGTGGGTATCAGAACGCAGAGTACATGGGACTGGCATTTTTCTTTTTTTAAATTAAAAACATTTTCTTGCTCTCGGTTTTTTTTTTTTCCAATATCATGGAAAAAAAAATGTACTGGCATTGTAATAAGGCTTGAGGGAGGCAGCAATACGTAACTGAACGAGTAGGTTACACATAACAC   </span></td><td><span style=white-space:pre-wrap>34557&lt;3//.,,,,(()))100013::;C210('*)+-1)&amp;(('())))+---424445?AD81320/-....638656&lt;;;:776;&gt;AEEHOFGEEEEH&lt;500/1/+**)&amp;()+--.2348:54%%%%%*&amp;&amp;&amp;'+37&gt;?&gt;==5:?ABEBBCGHLKDEDEEFFDDFB&lt;&lt;;;74::-,)&amp;&amp;'&amp;&amp;()))*./3232,+)((+++++))(('**((('%%&amp;   </span></td><td><span style=white-space:pre-wrap>69S46M103S     </span></td><td> 9</td></tr>\n",
       "\t<tr><td>16</td><td>78c3ab08-9884-4b52-80e6-20393fbbee38</td><td>chrX</td><td>-</td><td>71443401</td><td>207</td><td>50</td><td>20240606_AL5RACE002</td><td><span style=white-space:pre-wrap>ATGTATTGCTCAGATGACTCACTATAGGGCAAGCAGTGGTATCAACGCAGAGTACATGGGACTGGCATTTTTCTTTTTTTAAATTAAAAACATTTTCTTGCTCTCTGGTCTTCTTTTTTTCCACATCAGATGTGGGAAAAAAAATGTACTGGCATTGTATAGAAGGTTCTTTAGGGAGGAGCAGACCAACTGAACGAAGAGACATAA              </span></td><td><span style=white-space:pre-wrap>$%'(*)''()'((((*::87889:899999?ABBBA@AABB&lt;66667&gt;?&gt;&lt;;;60('()**,-0224454134120314;=&lt;&lt;&lt;CHDDB?DBFA@?&lt;:873+*)''((()++256&lt;D????@&gt;&gt;:99::CB++18BACDEBA&gt;?&lt;&lt;;:9:;5/-.**'&amp;%%$&amp;%%&amp;))'((')*'&amp;'&amp;'%$%$$$$&amp;---+*))'&amp;%$#%'**))*(              </span></td><td><span style=white-space:pre-wrap>62S43M1I6M95S  </span></td><td> 1</td></tr>\n",
       "\t<tr><td>16</td><td>8f40db8d-09b2-47dd-856d-8106d7b1db7f</td><td>chrX</td><td>-</td><td>71443401</td><td>182</td><td>49</td><td>20240606_AL5RACE002</td><td><span style=white-space:pre-wrap>CAGTGGCATCAAATGCAGAGTACATGGGGACTGGCATTTTTCTTTTTTTAAATTAAAAACATTTTCTTGCTCTCGGTCTTCTTTTTTTTCCACATCTAAGATGTGGAAAAAAATGTACTGGGCATTGTAATAAGGCTTGGAGGGAGGCAGCAATACTAACGAACCAGTAAGTTACATATACA                                       </span></td><td><span style=white-space:pre-wrap>$%%)***-,,---,10.//02777)556221;&lt;;;:96446;:;:::&lt;&lt;?:9:=JJIGFGISJKGF@&gt;&lt;8422///.--+---/340.-,+*'&amp;%$$'*+A@**4153/26&lt;&lt;&lt;&gt;&lt;&lt;/.4AA98;100300877@+++152555A@?@&gt;530)('&amp;&amp;&amp;&amp;&amp;&amp;('&amp;'%$$$$$$%*'''(&amp;'%$                                       </span></td><td><span style=white-space:pre-wrap>31S49M102S     </span></td><td>10</td></tr>\n",
       "\t<tr><td>16</td><td>877879c8-d4ca-4634-9e75-1a4bf07ce377</td><td>chrX</td><td>-</td><td>71443401</td><td>205</td><td>45</td><td>20240606_AL5RACE002</td><td><span style=white-space:pre-wrap>CAACGTATTGTAATACGACTCACTATAGGGCAAGCAGTGGTATCAACGCAGAGTACATGGGACTGGCATTTTTCTTTTTTTAAATTAAAAACATTTTCTTGCTCTCGGCTTTTTTTTTTCCACATCATGTGGAAAAAAATGTACTGGCATTGTAATAAGGCTTGAGGGAGGAGCAATACGTAACTGAACGAGTAGGTTACACACA                </span></td><td><span style=white-space:pre-wrap>&amp;(***+&amp;&amp;&amp;&amp;(*())*)*(''**+ABABB5-----/000012/.,--56;;@BCDA7578/..1499??A?&gt;&lt;CCFIACA@AADDEFCCCB@7110001*'''(''++./-,-.46/.../5*(''*/**4&lt;:3236:=&gt;AFHMJIIHDGDFHIGLMSJIF7777&gt;&lt;)&amp;&amp;&amp;)(*+--/./-,,,-))(&amp;&amp;)+,,,))()&amp;'''&amp;%                </span></td><td><span style=white-space:pre-wrap>63S45M97S      </span></td><td> 1</td></tr>\n",
       "\t<tr><td>16</td><td>af9138a0-bb60-48e9-b41b-dbb462526ee9</td><td>chrX</td><td>-</td><td>71443401</td><td>192</td><td>50</td><td>20240606_AL5RACE002</td><td><span style=white-space:pre-wrap>ACTATAGGGTAGTAGTGGTATTCAATGGTAATAGTACTGGACTGGCATTTTTCTTTTTTTTAAATTAAAAACATTTTCTTGCTCTCGGTCTTTTTTTTTTTTTTCCACATCATGTGGAAAAAAAAATGTACTGGCATTGTAATAAGGCTTGAGGGAGGAACAATACGAACTGAACCAGTAGGTAGGGCATAA                             </span></td><td><span style=white-space:pre-wrap>'2498)))))---:8786342101--+***((%$$&amp;'(((((,/.)(((+37:&lt;&gt;@@222&gt;EDFGISMKHGI@HFBC?;=&gt;&lt;&lt;&lt;9444332248;65567?&gt;=&gt;&gt;??&lt;.**9@99&gt;&gt;?&gt;;887779:?FIRNIFHBA*))))),;:;&lt;&lt;&gt;A=A:&amp;&amp;&amp;&amp;)(-,*))''(%%%&amp;*)'&amp;'&amp;%%%&amp;&amp;&amp;'%%'''&amp;%                             </span></td><td>42S11M1I38M100S</td><td> 7</td></tr>\n",
       "\t<tr><td>16</td><td>1d6c9f88-9045-4159-b845-dde7e0a8fe23</td><td>chrX</td><td>-</td><td>71443401</td><td>221</td><td>49</td><td>20240606_AL5RACE002</td><td>CGTATCGCCTAGAATACCAAAGATTCTCGACTATAGGGCAAGCAGTGGTATCAACGCAGAGTACATGGACCTGGCATTTTTCTTTTTTTAAATTAAAAACATTTTCTTGCTCTCGGTCTTTTTTTTTTTCCACATCAGATGTGGAAAAAAAGTGACTGGCATTGGGAGCTCCAGGGAGCAGCAAAGACGATGAGTTGAAGCAAGTGTACACACAGACATGG</td><td>))**((*))'''(%%'%&amp;*+.,-,%%%%'+,-AB;==&lt;9;;;=FDCCDDG@====ACEDDCFFD&gt;&gt;&gt;;::666669991113343.,78???ACJGBBGFEEC??&gt;=775//.//111.+/56:&lt;A=&gt;;;;;::20//340/611/-*''')+,/./3..)&amp;&amp;&amp;%$$&amp;&amp;%&amp;')*(((((/)&amp;+*('&amp;&amp;'))'&amp;&amp;&amp;&amp;')''''&amp;%#########$$%$$$$#</td><td><span style=white-space:pre-wrap>71S49M101S     </span></td><td>10</td></tr>\n",
       "\t<tr><td>16</td><td>2b5273cc-8704-4403-ab3b-9e6fc6cf248e</td><td>chrX</td><td>-</td><td>71443401</td><td>194</td><td>49</td><td>20240606_AL5RACE002</td><td><span style=white-space:pre-wrap>CATCACCAGAGGGCAAGCAGTGGTATCAACGCAGAGTACATGGGACTGGCATTTTTCTTTTTTTAAATTAAAAACATTTTCTTGCTCTCGGTCTTCTTTTTTTTCCGACATCAGAGATGTGGAAAAAAAATGTACTGGCATTGTAATAAGGCTTAGGAGGTAGCAAGACGTAACGAACCAAGGGACGCAAAAAA                           </span></td><td><span style=white-space:pre-wrap>$&amp;&amp;&amp;'&amp;%&amp;(029:9989?@41111778=@?DEEFCCBDD;/4=)))8@BCGHHFEAGOMS9&lt;&gt;AGDEESMSKMCMKLMMJGLDDBA=8211(')(++++./*&amp;%&amp;'*++))'&amp;'+,..679:9:;738=A=&gt;=&lt;=&gt;BC&gt;97/++*)))(()(((*)'''')4''((&amp;***)****(('$$#######$%%&amp;%$\"                           </span></td><td><span style=white-space:pre-wrap>46S49M99S      </span></td><td>10</td></tr>\n",
       "\t<tr><td>16</td><td>51f9a5c6-ce6f-4b4a-9945-a1fc3eb04ce7</td><td>chrX</td><td>-</td><td>71443401</td><td>216</td><td>49</td><td>20240606_AL5RACE002</td><td><span style=white-space:pre-wrap>AAATGTATTGCTCTAATACGACTCACTATAGGGCAAGCAGTGGTATCAACGCAGAGTACATGGGACTGGCATTTTTCTTTTTTTAAATTAAAAACATTTTCTTGCTCTCGGTCTTTTTTTTTTTTCCACATCATGTGGAAAAAAAAATGTACTGGCATTGTAATAAGGCTTGAGGGAGGCAGCAATACGTAACTGAACGAATAAATTAAAAAAATA     </span></td><td><span style=white-space:pre-wrap>$'++667768888:B====AA@??CC0/.-02237JEIILNLIJMPFFGDF322229=&lt;,+.''&amp;&amp;(-45888:;;LHKSLD667888:KKEEHGIEC?:/.,(()*)(((-544312765@8::&lt;&gt;;9***@?00&gt;DBG&gt;425?AGEKJLMJIQQILHSKMNJKSKLPSILNQQJKFFF@@AAAEFDCA+++++=3+++)**(%%%&amp;(('&amp;%$##     </span></td><td><span style=white-space:pre-wrap>66S49M101S     </span></td><td>10</td></tr>\n",
       "\t<tr><td>16</td><td>ce33d94e-7b4d-4e33-beed-425f0ec11889</td><td>chrX</td><td>-</td><td>71443401</td><td>220</td><td>45</td><td>20240606_AL5RACE002</td><td>GGAACGTATTGCTTGAATACGACTCACTATAGGGCAAGCAGTGGTATCAACGCAGAGTACATGGGACTGGCATTTTTCTTTTTTTAAATTAAAAACATTTTCTTGCTCTCGGCTTTTTTTTTTTTTTTCCACATCAGATGTGGAAAACGGTACTGGGGATTGCATAGGCTTGAGGGAGGCAGCAATACGGTACCTAACCAAGGTAGACGTACATAAACAT </td><td>()+--0021-**'''('',,02222==&gt;EFFHKHHHFEFFCFCB@?@&lt;&lt;&lt;=&gt;66656?@&gt;//2/(('))))208899BDHOFA=&lt;=77779AGCB@@A@@=::7740,''''*.0024686668966666=922225&lt;7667:5)$$$%%''--056-,0---..333)(),/56----.2.--,*))))('&amp;&amp;&amp;('&amp;%''%&amp;$##\"\"##%%%$%%%%%$ </td><td><span style=white-space:pre-wrap>67S45M108S     </span></td><td> 1</td></tr>\n",
       "\t<tr><td>16</td><td>eb1e4fa0-9869-4e93-a658-c66af673ccb0</td><td>chrX</td><td>-</td><td>71443401</td><td>192</td><td>46</td><td>20240606_AL5RACE002</td><td><span style=white-space:pre-wrap>CACGATAGGGCAAGCAGTGGTATCAACGCAGAGTACATGGACTCTGGCATTTTTCTTTTTTTAAATTAAAAACATTTTCTTGCTCTCGGTTTTTTCTTTTTCCACATCAGATGTGGAAAAAAAAATGTACTGGCATTGTAGAGGCTTTAGGGAGGCAGCAATACGTAACTGAACGAAGTACAGGACATAACA                             </span></td><td><span style=white-space:pre-wrap>))))ABCFEGDFDEFJSJHJIJJKKKHNMKFEBBB?(%&amp;%%$%(/223@??333A&gt;@?B&lt;;9:;=@BNNJKSN@KIDC@?&gt;?=,+*&amp;&amp;((/0'''1'(*,--/DDECDGIFF;:CAA&lt;5//14BCGGKNOJLFC=&lt;('&amp;&amp;'40+''''03557544447;&lt;;;9::999:564325--)(&amp;%%&amp;*('''%%%                             </span></td><td><span style=white-space:pre-wrap>44S46M102S     </span></td><td> 9</td></tr>\n",
       "\t<tr><td>16</td><td>5a2ee741-e477-4175-8232-1e4a3d925f50</td><td>chrX</td><td>-</td><td>71443401</td><td>206</td><td>49</td><td>20240606_AL5RACE002</td><td><span style=white-space:pre-wrap>ACGTATTGCTCTAATACGACTCACTATAGGGCAAGCAGTGGTATCAACGCAGAGTACATGGGACTGGCATTTTTCTTTTTTTAAATTAAAAACATTTTCTTGCTCTCGGTCTTCTTTCCTTCTATTATGTGGAAAAAAAATGTACTGGCATTGTAATAAGGCTTGAGGGAGGCAGCAATACGTAACTGAACGAAGTAGAATACACA               </span></td><td><span style=white-space:pre-wrap>)*68==432222778::&gt;A@AAFHEGC)22/3GJISPJJJLHMJIKSLLFDDCDFSE=8;;)((9=B&gt;@??@&gt;@HMSHHIJFIJHSSSSSGIDLJJGB??&lt;:8-,*'''&amp;%'&amp;''&amp;))(()('&amp;&amp;'45((58&gt;=:97&lt;=&gt;?GGHKSKJGPJKQIHLRJNJFIGIFANJDC==;==@=31103477::987+))''$####%%%&amp;%%               </span></td><td><span style=white-space:pre-wrap>64S49M93S      </span></td><td>10</td></tr>\n",
       "\t<tr><td>16</td><td>a405f7ff-0fd9-4cd5-b752-4ff29aab472d</td><td>chrX</td><td>-</td><td>71443401</td><td>211</td><td>49</td><td>20240606_AL5RACE002</td><td><span style=white-space:pre-wrap>TAATGCATTGCTTAATACGACTCACTATAGGGCAAGCAGTGGTATCAACGCAGAGTACATGGGACTGGCATTTTTCTTTTTTTAAATTAAAAACATTTTCTTGCTCTCGGTCTTTTTTTTCCACATCAGATGTGGAAAAAAATGTACTGGCATTGTAATAACTCTAGGGAAACAGCAGATATGAAATTTGAACCAGAGAGGTTAGTACACA          </span></td><td><span style=white-space:pre-wrap>$&amp;&amp;'&amp;'+**.,,+,+++,-2123777EB&gt;@???FECCD@???=&gt;6555245554447;98;8667:&gt;BBDEDA?@DDH=8999?7789ICA@@?EB&gt;:1.-.55320+***.-,-/511&lt;=EJIKSGHGHGC?@&gt;&gt;@@=@@DBDEFEDEHDED&gt;=;8+)(%%%(*(.*'))&amp;''(&amp;&amp;&amp;&amp;&amp;&amp;&amp;'*(&amp;''))*'&amp;&amp;&amp;$$$%%&amp;&amp;&amp;%%%&amp;&amp;'%$          </span></td><td><span style=white-space:pre-wrap>65S49M97S      </span></td><td>10</td></tr>\n",
       "\t<tr><td>16</td><td>3f380486-cb6e-4f15-b12d-29948dfc4826</td><td>chrX</td><td>-</td><td>71443401</td><td>214</td><td>46</td><td>20240606_AL5RACE002</td><td><span style=white-space:pre-wrap>TTACGTATTGCTCTAATACGACTCACTATAGGGCAAGCAGTGGTATCAACGCAGAGTACATGGGATTCTGGCATTTTTCTTTTTTTAAATTAAAAACATTTTCTTGCTCTCGGTTTTTCTTTTATATCAGACGTGGAAAAAAAAATGTACTGGCATTGTAATAAGGCTTAGGAGGCAGCAATACGTAAATTCTAACCAAGTACACACACAACAT       </span></td><td><span style=white-space:pre-wrap>&amp;)22678668888:&gt;=&lt;===@@?@IGGOIIPIFFHHGIKHEFEHEDCGEAB&gt;&lt;;.....*(+*))**-0233667668CFHG&gt;?@BBEFFQKSMHIEINSMOKHMMKFFCC?&gt;=7((*.*(()**+''&amp;&amp;&amp;&amp;62---/0+*.7:&gt;&gt;A&gt;&gt;)))))567:;&lt;=&gt;@B@5445;@98778&lt;:;==;&lt;&lt;6/&amp;%%%%%&amp;)(''*''&amp;$##$$%&amp;'++(((       </span></td><td><span style=white-space:pre-wrap>68S46M100S     </span></td><td> 9</td></tr>\n",
       "\t<tr><td>16</td><td>3302a813-95f3-4c8c-a601-3b2eb00c8699</td><td>chrX</td><td>-</td><td>71443401</td><td>220</td><td>46</td><td>20240606_AL5RACE002</td><td>AATGTATTGCTCTAATACGACTCACTATAGGGCAAGCAGTGGTATCAACGCAGAGTACATGGGACTGGCATTTTTCTTTTTTTAAATTAAAAACATTTTCTTGCTCTCGGTTTTTTTTTTTTTCCACATTCAGTGGGAAAAAAAATGTACTGGCATTGTAATAAGGCTTGAGGGAGGCAGCAATACTTAATGACTGAACCAAGTAAGAGGGCATAAACAT </td><td>%'*+,32*((((*+****/....::;EFBDDBCFIFHFGDBBBB&lt;;;;;ACBA=&lt;&lt;=&lt;0-200146::&lt;A@A666:7&lt;&lt;7;9&lt;22222HCBAAA&lt;?7551/.,+***)()+.+++++-584300.)))////**-//510///11/000///--..*+++**4321+***)/1,,,,,/*))&amp;$$$$$%%%%())'(''&amp;*'$$''%&amp;&amp;%%&amp;&amp;%'()''% </td><td><span style=white-space:pre-wrap>65S46M109S     </span></td><td> 6</td></tr>\n",
       "\t<tr><td>16</td><td>3788c6bf-cb72-4cc3-bec7-ac9d745d2576</td><td>chrX</td><td>-</td><td>71443401</td><td>213</td><td>49</td><td>20240606_AL5RACE002</td><td><span style=white-space:pre-wrap>TACCGTATTGCTCTAATACGACTCACTATAGGGCAAGCAGTGGTATCAACGCAGAGTACATGGGAATGGCATTTTTCTTTTTTTAAATTAAAAACATTTTCTTGCTCTCGGTCTTTTTTTTTTTCCACATCTTATGTGGAAAAAAAATGTACTGGCATTGTAATAAGGCTTGGAGGGAGGGAGCAAGACGCAACTGAACCAAGTAAGCTACAT        </span></td><td><span style=white-space:pre-wrap>##$(,.00*****&lt;@=======66770/('))&amp;%%%%'+-.134769???E&gt;=&lt;&lt;&lt;&gt;&gt;=1/**))).0234449::@ADCA;755457&gt;&gt;;9999;&lt;=&lt;&gt;&gt;:@@?=;,,../0./0,*).720+*),-***+-;:&gt;?BBDFHOCFEGFK???GGGHEDDBABABDD@@)((09(03,+,-./*)))&amp;&amp;%%%&amp;&amp;&amp;'%%%$$&amp;&amp;%#####$&amp;%%%        </span></td><td><span style=white-space:pre-wrap>66S49M98S      </span></td><td>10</td></tr>\n",
       "\t<tr><td>16</td><td>fd42d94b-d8e2-4680-b691-f2b9689b472e</td><td>chrX</td><td>-</td><td>71443401</td><td>204</td><td>50</td><td>20240606_AL5RACE002</td><td><span style=white-space:pre-wrap>ACGCATTGCCGTAATACGACTCACTATAGGGCAAGCAGTGGTATCAACGCAGAGTACATGGGAATTCCTGGCATTTTTCTTTTTTTTAAATTAAAAACATTTTCTTGCTCTCGGTCTTTCTTTTTCCACATCAGATGTGGAAAAACGTACTGGCATTGTAGAAGGCTTGCTTAGCAATACGTAACGAACCAAGTACAATGACAT                 </span></td><td><span style=white-space:pre-wrap>&amp;'./333987610001101001444GD&lt;&gt;&gt;&gt;&gt;FICSIIKOJNJHMSJHFBAA@@::98664..**,./0222222346=?A@45326?CIGJLSSRHHIMR??&gt;&gt;::90/+*))*)-//&lt;;&lt;?&gt;===HDA?@@?B@--;A;0&amp;&amp;&amp;&amp;:9;:&lt;C&lt;:88110-,/.-*%$$%%%'/158:78832666:94213''&amp;&amp;%&amp;&amp;&amp;'(%$#                 </span></td><td>68S11M1I38M86S </td><td> 7</td></tr>\n",
       "\t<tr><td>16</td><td>a8014f5a-b4df-47ed-a521-a6ac91b5f124</td><td>chrX</td><td>-</td><td>71443401</td><td>200</td><td>46</td><td>20240606_AL5RACE002</td><td><span style=white-space:pre-wrap>AATGTATTGCTTAGGGCAAGCAGTGGTATCAACGCAGAGTACATGGGACTTCTGGCATTTTTCTTTTTTTAAATTAAAAACATTTTCTTGCTCTCGGTTTTTCTTTTTCCAAATCAGATGTGGAAAAAAAAATGTACTGGCATTGTAATAAGGCTTGAGGGAGGCAGCAATACTATGAATGAGTATATGATACATAAACA                     </span></td><td><span style=white-space:pre-wrap>(*+./584444555556CDALLFFFFEHDAAAADKFFHHHHJF?B@&gt;)(((16999:9:99:JJI;&lt;AAAGFFEKSGECDCJJHACA?862*))'')*-(((3)+.-,-./144555IGDDLIHLOIACB@CECEEIGNIGFFGFFGEE&gt;FFOCCBA?A@--/.-)(('&amp;&amp;&amp;%&amp;((')((*,+)&amp;%###$$%%%%)'&amp;&amp;&amp;                     </span></td><td><span style=white-space:pre-wrap>52S46M102S     </span></td><td> 9</td></tr>\n",
       "\t<tr><td>16</td><td>86d8481a-50ce-4463-825e-a99afe463a87</td><td>chrX</td><td>-</td><td>71443401</td><td>200</td><td>45</td><td>20240606_AL5RACE002</td><td><span style=white-space:pre-wrap>TACGTATTGCTCTAATACGACTCACTATAGGGCAAGCAGTGGTATCAACGCAGAGTACATGGGACTGGCATTTTTCTTTTTTTAAATTAAAAACATTTTCTTGCTCTCGGCTTCTTTTTTTCCACATCAGATGTGGAAAAACGTACTGGCATTGTATAAGGCTTGAGGGAGGCAGCAATACGAAACTGAACGAGGTTACA                     </span></td><td><span style=white-space:pre-wrap>$%&amp;)1222====&gt;IEEFF////0@@ALJLNILIIMSLSJIQKIOSROSLNHDDEFGSLIDIK988DFFCIFGL@EIKSM@@&gt;=?986675567&lt;3781/..*+**)()-,+,,1115::999:?;:9:&gt;&gt;FD;;@EHC8888BCFFGHEA??21-))..-***(*/6821/-./-./-(&amp;&amp;%&amp;''''&amp;&amp;%$%&amp;&amp;%%$&amp;$#                     </span></td><td><span style=white-space:pre-wrap>65S45M90S      </span></td><td> 1</td></tr>\n",
       "\t<tr><td>16</td><td>715a4210-3a01-4670-a24c-2588216f36b0</td><td>chrX</td><td>-</td><td>71443401</td><td>188</td><td>49</td><td>20240606_AL5RACE002</td><td><span style=white-space:pre-wrap>CACTATAGGGCAAGCAGTGGTATCAACGCAGAATACATGGACCTGGCATTTTTCTTTTTTTAAATTAAAAACATTTTCTTGCTCTCGGTCTTTTTTTTTCCACATCAGATGTGGAAAAAAAAATGTACTGGGATCGCAATAAGGCTTGAGGGAGGAGCAAGACGGTACTGAAACGAAGTACAGGACAT                                 </span></td><td><span style=white-space:pre-wrap>'(((4588888BC=DJJGEDD;::&gt;B*)''',.178,+8+++*-/1164445=BEHE;;:3@,,==SSJSDGJLOMHHCFE@;87***),**+,.322235CDEEFGDD&gt;==&lt;99876515-))((((%('&amp;'))),113&gt;DC@:43,,5:-,,,4-,,*&amp;&amp;&amp;%%%'('%&amp;''&amp;%&amp;%%%'%%%&amp;(&amp;&amp;%                                 </span></td><td><span style=white-space:pre-wrap>43S49M96S      </span></td><td>10</td></tr>\n",
       "\t<tr><td>16</td><td>f0ac3f47-8bd7-4d9c-8a84-e660786b2d6d</td><td>chrX</td><td>-</td><td>71443401</td><td>213</td><td>49</td><td>20240606_AL5RACE002</td><td><span style=white-space:pre-wrap>ACCATTGCTTAAATACGACTCACTATAGGGCAAGCAGTGGTATCAACGCAGAGTACATGGGACTGGCATTTTTCTTTTTTTAAATTAAAAACATTTTCTTGCTCTCGGTCTTTTTTTTTTTCCACATCAGATGTGGAAAAAAAATGTACTGGCATTCTGCAATAAGGCTTGAGGGGGAGGCAACAATACGTAACTGAACGAGTACAGGACACA        </span></td><td><span style=white-space:pre-wrap>&amp;*()*)**('()))*+'((''--.&gt;@22223DECBDCBDCAC@@AAAGFGHEEED@&lt;&amp;&amp;&amp;&amp;)(((++,+*((*.....///6@A@CNSMOFMIISFSIKFFDA&gt;0...1530001668/,,--@@D?97778&lt;&lt;@BA9877433234,(((&amp;&amp;&amp;&amp;&amp;''((++,:;::9667..//5-,++,/&amp;&amp;&amp;&amp;&amp;&amp;&amp;&amp;%&amp;&amp;&amp;(*+'&amp;&amp;&amp;&amp;&amp;'''''('('&amp;        </span></td><td><span style=white-space:pre-wrap>63S49M101S     </span></td><td>10</td></tr>\n",
       "\t<tr><td> 0</td><td>4e3b2df6-3570-47a8-add4-4a92bd90cca9</td><td>chrX</td><td>+</td><td>71443406</td><td>191</td><td>44</td><td>20240606_AL5RACE002</td><td><span style=white-space:pre-wrap>TGTATATGTAACCCTACCTTGGAACCATACGTATTGCTGGGCAAGCAGTGGTATCAACGCAGAGTACATGGGACTTGGCATTTTTCTTTTTTTTTTTTTTTTAAATTAAAAACATTTTCTTGCTCTCGGTCTTTTTTTTTTTTTCCACATCAGATGTGGAAAAAAAATGTCCTGGCATTGTAATAAGGCTA                              </span></td><td><span style=white-space:pre-wrap>%&amp;)&amp;&amp;&amp;&amp;')&amp;&amp;&amp;'&amp;&amp;%%%&amp;'%$#######$%**,/126&lt;&lt;=@BGGEEMIHJKHGDAAA?@AABKJKIRMCBBBBBA???ACB@A@@51.,+--/568&gt;IKMJDEDDEEDFGQJLJKIOKNLGEEEDCCCC?31/9027ABEHNGEF;;IEEDEDFEJGFGHGNMGFEFCC/.../9&lt;==:977743210+(                              </span></td><td><span style=white-space:pre-wrap>89S44M58S      </span></td><td> 5</td></tr>\n",
       "\t<tr><td> 0</td><td>08705693-dfb4-4499-93a9-aee631026474</td><td>chrX</td><td>+</td><td>71443406</td><td>207</td><td>44</td><td>20240606_AL5RACE002</td><td><span style=white-space:pre-wrap>ATGTTTTCCCTGTACTTCATTAGTACGTATTGCTCTAATACGACTCACTATAGGGCAAGCAGTGGTATCAACGCAGAGTACCGTGGGACTTGGCATTTTTCTTTTTTTTTTTTTTTTAAATTAAAAACATTTTCTTGCTCTCGGTCTTTTTTTTTTCCAGCGATTAAGAAATGTGGAAAAAAAAATGTACTGGCATTGTAATAAGGT              </span></td><td><span style=white-space:pre-wrap>####$$%&amp;&amp;'&amp;),+,,.&amp;$$$#%%%%&amp;''+,,-44558;&gt;?&gt;&gt;&gt;?@;::::4222468888=&lt;;=&gt;::,++++////23010****,/,---.6?EFHKNB/-**)**++,03=@HN@&gt;&gt;=&gt;CDEDKJIHIMQSNPBBKEEDEKPGIAAA7HLIJJ@@;9:3,,,,,++)(((*++,2278667&lt;&lt;&lt;&gt;&gt;@@IIIHHEDD&lt;;:221.*              </span></td><td><span style=white-space:pre-wrap>104S44M59S     </span></td><td> 5</td></tr>\n",
       "</tbody>\n",
       "</table>\n"
      ],
      "text/latex": [
       "A tibble: 921018 × 12\n",
       "\\begin{tabular}{llllllllllll}\n",
       " flag & qname & rname & strand & pos & qwidth & qwidth\\_after\\_softclipping & RG\\_tag & seq & qual & cigar & mapq\\\\\n",
       " <int> & <chr> & <fct> & <fct> & <int> & <int> & <int> & <chr> & <chr> & <chr> & <chr> & <int>\\\\\n",
       "\\hline\n",
       "\t  0 & b686d2a5-b586-4411-8af0-251ef2fb041f & chrX & + & 71442976 & 297 & 208 & 20240606\\_AL5RACE002 & TTTTTTTTTTTTTGTACTTCGTTCAGTTACGTATTGTTCTAATACGACTCACTATAGGGCAAGCAGTGGTATCAACGCAGAGGGAGAGGGAGAGGGAGAGGGAGAGGGAGAGGGAGAGGGGAGGGAGAGGGAGAGGGAGAGGGAGAGGGAGAGGGAGAGGGAGAGGGAGAGGGAGAGGGAGAGGGAGAGGGAGAGGGAGAGGGAGAGGGAGAGGGAGAGGGAGAGGGAGAGCTATTTCATTTTTTTTTTTTCCACATCAGATGTGGAAAAAGAATGTACTGGCATTGTAATAAGGCT                                                                                                                                                                                              & \\#\\#\\#\\#\\#\\$\\$\\$\\$\\$\\$\"\"\"\"\\#\\$\\%((+/0/0//////22672*+)'')0@BBBAABDGFGD@A?AACDCEEFHFEFEEEFDCCCA>;<;DGHGHFEFGHJCECEGG@<9<;984+(*),*)*)))****\\&\\&\\&,46894=@BA?=BDH@GDGHH>:>ADGECCDDEC::>HECA@@CEA=9:>E==8>DFBA>==B@AADFMCACHHHDFDFGIEC@ACFA@@ABFB=;9623328:=A@?@ACA><;4<:ALSSSJLGD99CEDDKGHIGC?8233/3'\\&\\&\\%++--012ABBABA@>=753/-                                                                                                                                                                                              & 89S10M5D14M2I182M                                           & 19\\\\\n",
       "\t  0 & d19dc28f-5c84-477e-bb3f-f535767cb666 & chrX & + & 71442976 & 348 & 271 & 20240606\\_AL5RACE002 & TTGTCCTGTACTTCGTTCAGTTACGTATTGCTCTAATACGACTCACTATAGGGCAAGCAGTGGTATCAACGCAGAGGGAGAGAGAGAGGGGGAGAGGGAGAGGGAGAGGGAGAGGGAGAGGGAGAGGGAGAGGGAGAGGGAGAGGTAGACCTACTTGGTTCAGTTGGTGTTCTAATACGACTCACTATAGGGCAAGCAGTGGTATCAACGCAGAGTGAGAGGGAGAGGGAGAGAGGGAGAGGGAGAGGGAGAGGGAGAGGGAGAGGGAGAGGGAGAGGGAGAGGGAGAGCTATTTCATTTTTTTTTTTCCACATCAGATGGAAAAAAAATGTACTGGCATTGTAATAA                                                                                                                                           & \\#\\#\\#\\#\\$\\$\\$\\&)*++,,,24,,,,-4656676668;;98872/---+)))*+778ACBBBBBCDCA@@?==??;84335::894/,*))()*,0,-18477-B==>><BDGCAACEIGDDDHMDCDDEJEC@@@OB>;>==93,,,*(\\&\\#\\#\\$\\$\\%\\%\\%\\&'++,./05533('''\\&+''(,.454333333334=<===GGIGGFHFAAAA@BCBBBFFFKHB:/.;:@?@A@4,+.,'\\&+(-01<<9::::99835???@?CCD@@>AB><<>AED?EFJIGH@?FECD>7:66669995......23321001800==11111,))0152**,--/07878:<>@==,++*(                                                                                                                                           & 77S10M2D1M1D17M3I37M64I1M1I17M2I67M1D21M2D30M               &  9\\\\\n",
       "\t 16 & f4d6c430-3974-4d1e-b8e4-a6a6af3b90e8 & chrX & - & 71442976 & 221 & 134 & 20240606\\_AL5RACE002 & AATGTATTGCTCTAATACGACTCACTATAGGGCAAGCAGTGGTATCAACGCAGAGGGAGAGGGAGAGGGAGAGGGAGAGGGAGGAGAGGGAGAGGGAGAGGGAGAGGGAGAGGGAGAGGAGGCCATCATTTTCCCTTTTATCAGATGTGGAAAAAAATGTACTGCATTGTAATAAGGCTTGAGGGAGGCAGCATATGTACTGACTCAAGGTAAGAGGACAG                                                                                                                                                                                                                                                                          & (((*+993221247534425544889FEGIFLFHHFGFEJIGGHGGHIHJIIJFJCAAA59<=;?@GDDJHFHFEDE8@8..>>@22=CADB/668BD=E?<>>>CB;9((*,,-('*('\\&\\$\\$\\%\\%\\%\\&\\&')('()(\\&\\%\\%\\&225=>BB..9=8,*))))),'''14565566<=<=>==?==1157++*(('\\&\\&'\\%\\$\\$\\$\\#\\$\\$\\$\\$\\&\\%\\%\\&\\&\\%\\%\\$\\$\\%\\$\\$\\%\\%\\$\\%\\$\\$\\#                                                                                                                                                                                                                                                                          & 56S10M5D51M73D4M1D4M2D14M5D11M1D13M1D27M31S                 &  1\\\\\n",
       "\t  0 & c0c92636-b2dc-472d-a723-fad002f5892e & chrX & + & 71442977 & 219 &  79 & 20240606\\_AL5RACE002 & ATGTTTTATGTTAACCTACTAAACATAGTATTGCTCTAATACGACTCACTATAGGGCAAGCAGTGGTATCAACGCAGAGGGAGAGGGAGAGGGAGAGGGAGGAGAGGGAGAGGGAGAGGGAGAGGGAGAGGGAGAGGGAGAGGGAGAGGGAGAGCTATTTAGTTTTTTTTTTTCCACATCAATTAAAAAAAGAAAATGTACTGGCATTGTAATAAGGCT                                                                                                                                                                                                                                                                            & )))453.,01/.*('\\&\\&\\%\\%\\&\\&'()*,***,,3779<=899DC>====>>??@;::::JNFLDEDDCDCB1///----,-<==DIHDA9<:=>@9IEFE7-4,*,5DEHFGJFGEFHGJLHHGHREGEFJJHGFHGJHFFEEC;434><<<CGEDCCCDFD544434<??CIG@1/++.-*))))''(,////../0.*('\\&\\&(-2;=???544489923                                                                                                                                                                                                                                                                            & 75S9M5D70M65S                                               &  1\\\\\n",
       "\t  0 & 10c8bf21-6671-4835-bbdd-8bfcb545c823 & chrX & + & 71442991 & 270 & 191 & 20240606\\_AL5RACE002 & ACCTTTTTATGTAGTCTACTCATTCGTCGTCTTGCTCTAATACGACTCACTATAGGGCAAGCAGTGGTATCAACGCAGAGGGAGAGGGAGAGGGAGAGGGAGAGGGAAAGGGAGAGGGAGAGGGAGAGGGAGAGGGAGAGGGAGAGGGAGAGGGAGAGGGAGAGGGAGAGGGAGAGGGAGAGGGAGAGGGAGAGGGAGAGGGAGAGGGAGAGCTATTTTCGTTTTCCACATCAGATGTGGAAAAAAAATGTACTGGCATTGTAATAAGGC                                                                                                                                                                                                                         & \\#\\$\\%\\%\\%\\%)+('''\\%\\$\\%\\%\\%\\%\\%\\%\\%\\$\\$\\%\\%\\%\\%\\%\\%\\&\\&'''(>BB@AADEEEDIIEFHDD21112FECCBBCECDCD64331242114201??CDCCEDC>>?><;5+()('(''*)+.0689:5232311*+216=BCEE??@ABDEFFFFHBC<@=>6<;::80,*),*))'''+--.1334415764'*-<??BADBBE:8>=><851//.-+\\&('''(((().22-)6=7./99)))))79988;<DB@;887=>>>ABBGLLGJ@??>??>7                                                                                                                                                                                                                         & 79S16M3I117M7D55M                                           & 12\\\\\n",
       "\t  0 & 17bda126-a0d3-4207-a38e-cad865096260 & chrX & + & 71442991 & 269 & 194 & 20240606\\_AL5RACE002 & GTGTGTGCTTGGTTCAGATTACGTATTGCTCTAATACGACTCACTATAAGGGCAAGCAGTGGTATCAACGCAGAGGGAGAGGGAGAGGGAGAGGGAGAGGGAGAGGGAGAGGGGGAGGGAGAGGGAGAGGGAGAGGGAGAGGGAGAGGGAGAGGGAGAGGGAGAGGGAGAGGGAGAGGGAGAGGGAGAGGGAGAGGGAGAGCTATTTCATTTTTTTTTTTTTCCACATCAGATGTGGAAAAAAAATGTACTGGCATTGTAATAAGGCTG                                                                                                                                                                                                                          & \\#\\#\\#\\$\\$\\#\\#\\#\\#\\$\\$\\%\\&(\\&'''\\%\\&\\&''*+0479;@@BDCD?????DEEFEEEECACABDGFFJGDBBBB322223BBABEDGFGLD@=?BDCB?DEGFEDFEKA@@@AJBAAABI?@BABGFGDFEE@??@CGIA?7AGFDEDEFB?@ACE@>>?@GGD>@EFDAAABH@=>>?J>>?>?IA@A@AFAAAB@O?>>>?G?===>CBBCFHIFA>?:@>CHIJSSKKE=11DFCDCCDCDB@>;<>@DBAA@ECDEGFGGGEHGBBA>;;:44*                                                                                                                                                                                                                          & 74S13M3D122M1I58M1S                                         & 28\\\\\n",
       "\t  0 & c514f2ff-bee5-4cdc-b763-8c0882bb555a & chrX & + & 71442991 & 221 & 198 & 20240606\\_AL5RACE002 & GGGGATGGAGTGGCTGGGGAGGAGGGAGGGGAGATGGAGGGGAGGGAAGGGACACTGGGAGACAGTGGTATCAACGCAGAGGGAGAGGGAGAGGGAGAGGGAGAGGGAGAGGGAGAGGGAGAGGGAGAGGGAGAGGGAGAGGGAGAGGGAGAGCTATTTCATTTTTTTTTTTTTTTCCACATCAGATGTGGAAAAAAAATGTACTGGCATTCTGATGAGGC                                                                                                                                                                                                                                                                          & \\#\\#\\$\\%(\\%\\%\\&\\%\\%\\$\\#\\#\"\\#\\$\\$\\$\\$\\%\\%\\%\\%\\$\\$\\$\\$\\$\\$\\&'((\\&\\&\\%\\%\\$\\$\\$\\$\\$\\%\\&\\%\\%\\$\\$\\$\\$\\&\\%\\%\\$\\#\\$\\#\\%\\%\\&\\&\\&\\%\\&'(-----,,/00566779:4>@@@@=?AECCBCCECB@BBJBA@C??@>:=;::6100..118667546=?CEBDED=99:?@@@=?>?AA<;;;679:99:>ACGHHIEC?>=56?@@?????B@><<:872---.///.//1667*)\\&\\&\\&\\&\\&\\&\\&'                                                                                                                                                                                                                                                                          & 23S5M1D19M1D7M2I6M2D8M2I89M3I57M                            & 18\\\\\n",
       "\t 16 & 3635f172-3177-4af1-9c71-fde56643375d & chrX & - & 71442991 & 358 & 294 & 20240606\\_AL5RACE002 & CACCATAGGGCAAGCAGTGGTATCAACGCAGAGGGAGAGGGAGAGGGAGAGGGAGAGGGAGAGGGAGAGGGAGAGGGAGAGGGAGAGGGAGAGGGAGAGGGAGAGCTATTTCATTTTTTTTTTTCCACATCAGATGTGGAAAAAAAATGTACTGGCATTGTAATAAGGCTTGAGGGGAGGCAGCAATACGTAACTGAACGAGTAGATGAGAGAGAGAGGGAGAGGGAGAGGGAGAGGGAGAGGGAGAGGGAGAGCTATTTCATTTTTTTTTTTCCACATCAGATGTGGAAAAAAAATGTACTGGCATTGTAATAAGGCTTGAGGGATACATATGTAACTGAACCAAGTACAGGGACAT                                                                                                                                 & \\%\\&\\&\\&78;>@>@DECEHBACCBCAABC>==<55,*)421566@A1C@@AB4:>>@@6ACBBC7FBA@A0657<85676=<49:960/497885==<;104>@A>===<9;:54;<<>=<;<;89??HIRLGHGEFF@@IDGKJSDGEKFFGG??@@?BJGFFFEFFKHHEDCE+56<//''''\\%\\&\\&\\%\\%\\%\\%(()),*''\\&\\$\\$\\#\\#\\#\\%\\%\\$\\$\\$\\%\\%\\&\\&'(.3677690/231466;>;7757>>>=<>B<;:075.(''''(,,,-/1112347;=4789;B955443BB))5?AADD>@AABBSPISLGFGDEIIIGGKLHHF=<1/++''\\&\\%\\$\\%\\$\\$\\%\\%(000100/,)*'''+'\\&''\\%\\&\\%\\#\\#                                                                                                                                 & 32S13M3D60M90I4M1I2M2I1M2I55M1D64M32S                       &  8\\\\\n",
       "\t 16 & 03e3f937-826a-4f09-82bd-bf93686b0d63 & chrX & - & 71442991 & 364 & 282 & 20240606\\_AL5RACE002 & TACCATTGCTGAGACGACTCACTATAGGGCAAGCAGTGGTATCAACGCAGAGGGAGAGGGAGAGGGAGAGGAGAGGGAGAGGGAGAGGGAGAGGGAGAGGGAGAGGGAGAGGGAGAGGGAGAGCTATTTCATTTTTTTTTTTTTTTCCACATCAGATGTGGAAAAAAAGCAATACGTAACTGAACGAAGTAGGAGAGAGAAGCAGTGGTATCAACGCAGAGTACATGGGGGAGAGGGAGAGGAGAGGAGAGCTATTTCATTTTTTTTTTTTTTTTTCCACATCAGATGTGGAAAAAAAATGTACTGGCATTGTAATAAGGCTTGAGGGAGGCAGCAATACGTAACTGAACGAAGTAGAGGACAC                                                                                                                           & \\&('),+'(''\\&''))''\\&''111@>99989@A@A@<9510111===MJHJIILKGFDIDCFE9@A>=)(29==<B@>?))-88>?:@>;:..2@@CD;==<???CB@AA2CB@BA>DD?<;<==>;875454113975558<A?=;;<?@===>>AA66?;@@>=776679955555<=@@762)'\\&\\%\\$\\#\\#\\#\\#\\$\\#\\$\\%''++**-*(('(/--000<9989:>?>=:88114<=69522*(,+7*).BDJEHDF=<<<33339KGFEHJSOKCHSGGIKPOFGGGFEGDEHHG::99><;;<>HEDFDDHED?>>>>LKIJIEEF6GF:94440//0/,,,..9:<<==1/,,)('((''\\%\\%\\$\\#\\#                                                                                                                           & 51S14M2I56M68I9M2I3M1I2M4I1M1D7M1D8M3D12M1D5M1D14M5I69M31S  & 33\\\\\n",
       "\t 16 & 44c16572-3fc1-491e-bf19-45762f8c662e & chrX & - & 71442991 & 347 & 259 & 20240606\\_AL5RACE002 & CCTATTGCTCTAATACGACTCACTATAGGGCAAGCAGTGGTATCAACGCAGAGGGAGAGGGAGAGGGGAGAGGGAGAGGGAGAGGGAGAGGGAGAGGGAGAGGGAGAGGGAGAGGGAGGGAGAGCTATTTCATTTTTTTTTTTCCACATCAGATGTGGAAACTAATACGACTCACTATAGGGCAGCAGTGGATCCACGAGAGTACATGGGGGAGAGGGAGAGGGAGAGGGAGAGCTATTTCATTTTTTTTTTTTTTCCACATCAGATGTGGAAAAAAAATGTACTGGCATTGTAATAAGGCTTGAGGGAGGGAGCAAGACGACTGGTTCGAAGCAGGTCAGACATAT                                                                                                                                            & \\&)/9<;;::;FGEEGFJJOSIFNHMMCJOKQKSOKSKIGFEGFJHSJIGFFEGFEED6@<444,/3/,-,46;==6006378);;:?>98108969>=>@01?@D<:?CAC@1B*.67:COJKHJHGHGHDFFFF@@BAFHECGDA<<<=AFKIHJNLKRMSMPNJNSMOJGDFFCCA33333A>>>))(\\%\\%\\%\\%\\%)(''''()7779;>;88CE@JG@@?=BCBBB9BBCKKLIJSGBBAAMOSSSSSSIKCHBDAB<>@98899BC10FDCIMNDE????@=>?CG866667EPFJSNQHJ@//7;..//0+**,\\%\\$\\#\\#\\#\\%\\#\\#\\#\\#\\%\\&'\\&\\&\\%\\$\\$\\$\\%\\$\\$\\$'\\&**)\\&\\&\\&                                                                                                                                            & 52S14M2D49M2D9M55I5M1D7M6I4M1D8M3D33M2I67M36S               & 30\\\\\n",
       "\t 16 & ae20cb84-27f4-4f42-acd3-696fba3a247f & chrX & - & 71442991 & 300 & 211 & 20240606\\_AL5RACE002 & TACGCATTGAAATACGACTCACTATAGGGCAAGCAGTGGTATCAACGCAGAGGGAGAGGGAGAGGGAGAGGGAGAGGGAGAGGGAGAGGGAGAGGGAGAGGGAGAGGAGAGGGAGAGGGAGAGGGAGAGGGAGAGGGAGAGGGAGAGGGAGAGGGAGAGGGAGAGGGAGAGGGAGAGGGAGAGCTATTTCATTTTTTTTTTTTTTCCACATCAGATGTGGAAAAAAAATGTACTGGCATTGTAATAAGGCTTGAGGGAGGCAGCAATACGTAACTGAACGAAGTAGAGGAAACAAAACAT                                                                                                                                                                                           & \\%\\&\\&''\\&\\$\\$\\$\\$\\$\\$\\$\\%\\%)99::A@@77DFEGGLLHFCBBCCICCD@@???A@?C><==<HA>>106?@@@8AB@A@)103?@=@D@?4.9:45127BBD@=>>>A//6BD>:CB?B@;>B>?405229:/2/0>@:=@=?@>EBAAB@CAAAB,,,0@<<AECG76;C@??.:45843;?=910000----/56<GNGBACE:==>ESLMKMRHIIHH>>FLKJKSA@;;77770/1/.-,,,-522344>=,,,+378@;8863312244;<BBDB;:8-++('\\&\\%\\&\\&\\&\\$\\%\\%\\$'((('\\%\\$\\$                                                                                                                                                                                           & 51S16M3I35M1D86M2I69M38S                                    & 38\\\\\n",
       "\t  0 & 0f742f0c-889f-4285-95d0-e766c629a28a & chrX & + & 71442993 & 446 & 194 & 20240606\\_AL5RACE002 & ATGACTTACTTGGTTCAGTTGAGTATTGCTCTAATACAAGTCGCTATAGGGCAAGCAGTGGTACTAAACACAGAGGGAGAGGGAGAGGGAGAGAGAGAGAGAGAGAGAGAGAGAGAGAGAGAGAGAGTGTGTGTGTGTGTGTGTGTGTGTGTGTGTGTGTGTGTGTGTGTGTGTGTGTGTGTGTGTGTGTGTGTGTGTGTGTGTGTGTGTGTGTGTGTGAGAGAGAGAGAGAGAGAGAGAGAGAGAGAGAGAGAGAGAGAGAGAGAGAGAGAGAGAGAGAGAGAGAGAGAGAGAGAGAGAGAGAGAGAGAGAGAGAGAGAGAGAGAGGGAGAGGGAGAGGGAGAGGGAGAGGGAGAGGGAGAGGGAGAGGGAGAGGGAGAGCTATTTCATTTTTTTTTTTCCACATCAGATGTGGAAAAAAAATGTACTGGCATTGTAATAAGGCT                                         & \\#\\$\\#\\#\"\"\\#\\#\\$'(')**+--,+'\\%\\&\\&\\&(1001,++,-*)('\\%\\%\\%\\%\\&++,+++(\\%\\&\\&\\&\\&(((''\\&\\&\\%\\$\\$\\$\\$)+-,-.39;;<;:72*(('''\\&'\\&\\&\\%\\&'****+*,-/1111000/..-,*)((\\&\\&\\%\\%\\%\\%\\#\\#'/022345555778999:9:9::::9999888889998988888877765666777766554444444443333220/....--,,+**)\\&\\$',,--./1122333355666666666555566677777676766666766666554555555554432210//001122222213444555555555555555440*()*0:<=:98741**.897/831.768=FBC@@>BB==ACDE;<8><>>:=A???777741114;;@@KMPN8:0000,*(''(+**+/3699;===@@CDFGFDFGGHFGEBB?>87                                         & 252S15M1I121M1D57M                                          & 14\\\\\n",
       "\t  0 & dffad2c5-c6eb-451d-8818-4729bdb39d20 & chrX & + & 71442993 & 399 & 198 & 20240606\\_AL5RACE002 & ATAATTTATTGGTTCAGTTAGGTATTGTTTGAATACGACTCGCTATAGGGCAAGCAGATATAAACGCAAGTGAGAGAGAGAGAGAGAGAGAGAGAGAGAGAGAGAGAGAGAGAGAGAGAGAGAGAGAGAGAGAGAGAGAGAGAGAGAGAGAGAGAGAGAGAGAGAGAGAGAGAGAGAGAGAGAGAGAGAGAGAGAGAGAGAGAGAGAGAGAGAGAGAGAGAGAGAGAGAGAGAGAGAGAGAGAGAGAGAGAGAGAGAGAGAGAGAGAGGGAGAGGGAGAGGGGGAGGGAGAGGAAAGGAGAGGGAGAGGGAGAGGGAGAGGGAGAGGGAGAGCTATTTCATTTTTTTTTTTTTCCACATCAGATGTGGAAAAAAAAATGTACTGGCATTGTAATAAGCT                                                                                        & \\%\\&\\$\\$\\$\\$\\%\\%\\#\\$\\#\\#()))('(\\&\\&''\\&\\&'\\&\\&''\\%\\$\\$\\$\\%++++,-(((*-0///-./.-*('\\%\\$\\$\\#\\$\\&\\&'**(()),,-+'2053655645343434363434341/0/////00//./000120032300/115388:9<<?>@>?>?<64=7978787878689::;;;:995./05../34666664867898:9<;==?@CACDDDCCDCBB@@@@@=3012212241137788:::999978777999999887441211122333/))*+,,,+*)(\\&''())*(\\&\\%\\%\\&\\%\\&\\%\\&'\\&((),,/1-38A?<;8<=@=<?;;<743769;:<:99987553455565<==>?>>>89217767888532/+,-320.-.--/022334EFEA@..-)*(\\&\\%                                                                                        & 199S15M1I77M4I44M1I27M1I28M2S                               & 10\\\\\n",
       "\t  0 & 0e4c523d-13fd-4afd-b039-119e2417f4b5 & chrX & + & 71442993 & 305 & 163 & 20240606\\_AL5RACE002 & ATATGTAGCATCTACTCGTTTCAGTTACGTATTGCTCTAATACGACTCACTATGGGCGAGCAGTGGTATCAACGCAGAGTGAGAGAGAGAGAGAGAGAGAGAGAGAGAGAGAGAGAGAGAGAGAGAGAGAGAGAGAGAGAGAGAGAGAGAGAGAGAGAGAGAGAGAGAGAGAGAGGGAGAGGGAGAGGGAGAGGGAGAGGGAGAGGGGGAGGGAGAGGGAGAGGGAGAGGGAGAGGGAGAGCTATTTCATTTTTTTTTTCCACATCAGATGTGGATAATAAGGCTGAGGGAGCAAGCAATACGTT                                                                                                                                                                                      & \\$\\%\\$\\%\\%\\&\\$\\$\\#\\$\\$\\$\\&'''\\%\\%'))\\&\\&'''(''''((((9;;:==FD;::::::::;...-322112665556312+,20+)*)((\\&\\&*+./6490*78;;=<<:;89788===>?@BBDDDDCEDDCDFDDECEDDDFEFCCCDCCBBCBBBBBA@?A@AABABBBBBBCCCCB:87?;;<=>@<8664261.3;;<>?FHFBBCEEPBADCEGFFCEHHGACEGOIEIHFSFJBIOPHGEFDJLJGHCC@@BDFBAGFHQD=A))996666673)\\$\\#\\#\\#\\#\\$\\&,,,-2***--*/+)\\&\\&\\&\\&(('\\%\\%\\$\\#                                                                                                                                                                                      & 112S15M1I121M2D26M30S                                       &  1\\\\\n",
       "\t  0 & 81a25f73-6e27-4982-97f3-f8f378b5c9e0 & chrX & + & 71442993 & 315 & 204 & 20240606\\_AL5RACE002 & ATGTGCATCTACTCGTTCAGTTCAGTATTGTTCTAATACGACTCACTATAGGGCAAGCAGTGGTATGGAGAGAGAGAGAGAGAGAGAGAGAGAGAGAGAGAGAGAGAGAGAGAGAGAGAGAGAGAGAGAGAGAGAGAGAGAGAGAGAGAGAGAGAGGGAGAGGGAGAGGGAGAGGGAGAGGGAGAGGGAGAGGGAGAGGGAGAGGGAGAGGGAGAGGAAGGGAGAGCTATTTCATTTTTTTTTTTCCACATCAGATGTGGAAAAAAAAATGTACTGGCATTGTAATAAGGCTTGAGGGAGGCAGCAATACGTGGT                                                                                                                                                                            & ''()((\\%\\%\\%\\&\\&)*.-.0.00/0\\&\\&((((7922222>?ECBBBCD>>>>?KGFHFFJPKGFKC?>;8\\&\\&\\&\\%\\%'(-./2266>>CBFHOLJNLQOPRSSRSMSRNNKHHEECCBCCCCCCDCCA?>===>>??@@@@@@ABBCCCDEFFEGEGHGA;BECBDBA@>>?BGEB@@CEGEDEEHD@@CHHCECFGIHHFGKIHCDEHIC;9>2/00))))*'(())89AAACCCAD@868<DGIKLJIMMS@@IIHECBDCH@BCCDFA=<:656:;@?DEFDDBDFFHMGGGGJK>;;<;CA@?>>>@@AA?<20)'\\&                                                                                                                                                                            & 99S15M1I100M1D3M1D16M1D26M1I42M12S                          & 25\\\\\n",
       "\t  0 & 995ef14f-64ab-4d30-a14c-370f36ff2c22 & chrX & + & 71442993 & 486 & 196 & 20240606\\_AL5RACE002 & GTGCATGTACTTCGTTCAGTTACGTATTGCTCTAATACGACTCACTATAGGGCAAGCAGTGGTATCAACGCAGAGTGGAGAGAGAGAGAGAGAGAGAGAGAGAGAGAGAGAGAGAGAGAGAGAGAGAGAGAGAGAGAGAGAGAGAGAGAGAGAGAGAGAGAGAGAGAGAGAGAGAGAGAGAGAGAGAGAGAGAGAGAGAGAGAGAGAGAGAGAGAGAGAGAGAGAGAGAGAGAGAGAGAGAGAGAGAGAGAGAGAGAGAGAGAGAGAGAGAGAGAGAGAGAGAGAGAGAGAGAGAGAGAGAGAGAGAGAGAGAGAGAGAGAGAGAGAGAGGAGAGAGAGAGAGAGAGAGAGAGAGAGAGGGAGAGGGAGAGGGAGAGGGAGAGGGAGAGGGAGAGGGAGAGGGAGAGGGAGAGGGAGAGCTATTTCATTTTTTTTTTTTCCACATCAGATGTGGAAAAAAAATGTACTGGCATTGTAATAAGGCTA & \\$'\\&\\&\\$\\%\\%\\&\\&('(\\%\\&'0//...+++++000009:9:<>A????@CDGEEEECDEBCEEDFFFCCCDCDDCAA>87564)(()2.002266;;??ABCCCCCAB@?<=<=<>>?@ABBA@@@A@@@??><;:<=@@AABBBBABBBBBCCCCCCBBAAACAAAABAA?A=>:>>@@A@BBBBCDDDDEDDDDCDCDDDDCDDDFEEDFDEDEEFFDEDCAA@AAAAAABBBBAAB@@>?>?>??@?@?@>?>??@BBCCCCCCBABACACBDDDEEFEFDCBBAABA?>?@@BACCCCCDDDCEDFFHFFEDFEDEEEEDEEEDECDBAAABGGGGGHFGFFEEEEFHHIHHGGFEDCCC346/49;<73/---/7*((((79<=>?3?>?CB?BA@??;<;:<78?DCCCBDC<<==AACA@>??;757466;?CCHOKHFA77EGD????@A>;:;<@@>>BABCBEDEGFGEGHFGGFD@><51' & 289S15M1I23M1I156M1S                                        & 13\\\\\n",
       "\t  0 & 1d147ff3-e866-4a78-bd6c-c4a9d5294a03 & chrX & + & 71442993 & 320 & 205 & 20240606\\_AL5RACE002 & ATGTTTATGTCTAGTGACACAACCAGAGTTTACGTATTGCTCTAATAGACTCTCGCTATCAGGCAAGCAGTGGTATCAACGCAGAGTGAGGCATTGTAATAAGGCTGAGAGGGAGAGGGAGAGGGAGAGGGAGAGGGAGAGGGAGAGGGAGAGGGAGAGGGAGAGGGAGAGGGAGAAGGAGAAGGAGGAGGAGGAGAAGGAGGGAGAGGGAGAGGGAGAGGGAGAGGGAGAGCTATTTCATTTTTTTTTTTTCCCACATCAGATGTGGAAAAAAAAATGTACTGGCATTGTAATAAGGCTTGAGGGAGGCAGCAAATGGT                                                                                                                                                                       & \\$\\$\\$\\&()\\&'\\&\\&\\%\\%\\$\\$\\#\\#\\#\\$\\%\\%\\&\\&\\&')((('''\\%\\&\\$\\%\\%(---00//23.((((('''(((0******;;;99841000/00338<:<<=>973.--222111199978**)),/53;<;==;?A@>6,<<=BA<@GHJNEFLICDBFFHEB@B=:;4/31+**5=A@BCEIFHEA@;D@@A:DFEBA@HHLGEDFDABACA52102*+89;>ADOGJGCC@:>/.-11248<ABCDBCDDDIE?@GAJJIKSJFDC7)*CCDGDCIHSCB@BCIECDHSGFFEFHIGKKLE00000<CEEFGJCBABA@AD>;:::<AA@A?                                                                                                                                                                       & 106S11M3D69M1I3M2I7M2D53M1I15M1I42M9S                       & 41\\\\\n",
       "\t  0 & 9760892d-25fd-4258-9ff6-9e809a728cf2 & chrX & + & 71442993 & 483 & 191 & 20240606\\_AL5RACE002 & TTTATGTATACCTCGTTCGTCAGTTTATTGCTCTAATACAACTAGCTATAGGGCAAGCAGTGAGTGACAGAAGTGAGAGAGAGAGAGAGAGAGAGAGAGAGAGAGAGAGAGAGAGAGAGAGAGAGAGAGAGAGAGAGAGAGAGAGAGAGAGAGAGAGAGAGAGAGAGAGAGAGAGAGAGAGAGAGAGAGAGAGAGAGAGAGAGAGAGAGAGAGAGAGAGAGAGAGAGAGAGAGAGAGAGAGAGAGAGAGAGAGAGAGAGAGAGAGAGAGAGAGAGAGAGAGAGAGAGAGAGAGAGAGAGAGAGAGAGAGAGAGAGAGAGAGAGAGAGAGAGAGAGAGAGAGAGAGAGAGAGAGAGAGAGAGGGAGAGGAAGGGAGAGACAGACAGAGCGGGGAGAGGGAGAGGGAGAGGGAGAGGGAGAGCTATTTCATTTTTTTTTTTCCACATCAGATGTGGAAAAAAAATGTACTGGCATTGTAATAAGG    & '())***)*('''\\%\\%\\%\\%\\$\\$\\%\\#\\#\\$\\$\\$\\%\\&').-//./03<95555((((((100155666544,+***++*))'\\&'(--..099<<??=>;<9:9;899>>A@@?@>?;<457<<==@@BBCBBBCCEDEFFEFDEDDBBBCCDEBCBBBDDDECCECGEEECCBB???@?=><=;<;;4124:898::??AABCBBDDCCBA@?@@BACBCBCABBACBCCCDED@@???>?>>;<9;8866444-+,,07:;=>>?@@@A@@A@BABBBABAAA@A@???@??==<=<:79:==>>?>??>><<9976,*+0489:=??@@A@AAAABBAABBBBBBDCDCDDDCBA@???@@@????>>6,0/0/.-'\\&\\%\\%\\&\\&\\&\\&\\%\\$\\$\\$\\$\\$\\%\\$\\$\\$\\$\\%\\#\\$\\$\\%)/13265<>?>=987772655443.137<;889;;AA=>B@JJKJSSME??CH;:::;;=/...///----,,\\&\\%\\$\\$\\$\\$\\%\\%\\&\\%\\%\\%)(\\%\\%\\%\\&    & 292S15M1I58M1D3M1D18M1I40M1D55M                             &  8\\\\\n",
       "\t  0 & 510ffdec-f3a8-40f2-a5df-4e7db93d1f46 & chrX & + & 71442994 & 291 & 207 & 20240606\\_AL5RACE002 & TGTGTGTAGCTTACTTCGTTCAGTTACGTATTTGTGATTCAACTAGCTATAGGGCAAGCAGTGGTATCAACGCAGAGTGAGAGAGAGAGAGAGAGAGAGAGAGAGAGAGAGAGAGAGAGAGAGAGAGAGAGAGAGAGAGAGGGAGAGGGAGAGGGAGAGGGAGAGGGAGAGGGAGAGGGGAGAGGGAGAGGGAGAGGGAGAGCTATTTCATTTTTTTTTTTTTCCACATCAGATGTGGAAAAAAAATGTACTGGCATTGTAATAAGGCTTGAGGGAGGCAGCAATACATAA                                                                                                                                                                                                    & \\#\\#\\#\\#\"\"\"\\#\\#\"\\#\\#\\#\\%(-,./2./...1113111,\\&'\\&\\%\\%\\&\\%\\$\\$\\%''+++++,,,=>ACBA<;;<=ECFDEDFDEHGKGF=::9?3=9EAHEJGIGIEDBCEIIIIHIFFEGEFFGFGGFDDDDDEFFGGGCB>>=?==:;7.9:6877610,,,,2,>?@@ACDGGECACCEEDCCGCB@3:<:9;4-08::98875458CEDDEHGGFDCA9;>9=BHSSSSJJHAAFHFEGKHGJ>=<=>>;6578:;::::;=LGIFJFGFEGFEDGIEFHGFEDFDDEC@>=;9,+'\\&                                                                                                                                                                                                    & 73S14M1I88M1I33M1I69M11S                                    & 38\\\\\n",
       "\t  0 & 0ddeae47-3376-45aa-962a-ecdab142188f & chrX & + & 71442994 & 262 & 191 & 20240606\\_AL5RACE002 & TCTGTTAGCCCCTGGACCGTTGGTCTTGCTCTAATACGACTCACTATAGGGCAAGCAGTGGTATCAACGCAGAGGGAGAGGGAGAGGGAGAGGGAGAGGGAGAGGGAGAGGGAGAGGGAGAGGGAGAGGGAGAGGGAGAGGGAGAGGGAGAGGGAGAGGGAGAGGGAGAGGGAGAGGGAGAGGGAGAGGGAGAGCTATTTCATTTTTTTTTTTTTCCCACATCAGATGTGGAAAAAAAAATGTACTGGCATTGTAATAAGGT                                                                                                                                                                                                                                 & \\&\\%\\%\\%\\&\\&\\%\\$\\$\\$\\%\\$\\%\\$\\%\\%\\%\\%\\%''\\&\\&\\&\\%\\%\\%\\%(1???ABGGFFHHLJHKKGCDCCECBCBBFED=655,,,,+,+)()5859<A@@@BIJHGGHKJFGAEHNHFDLGHF@>>GE@9;<=>?><>?<<9778778>BCCCA3EFFFECEMGGFJISPOHFHIGFFCGMKKGBJNLSMIJIIE?AAFEA735>?BCEHFFFFCCCC><<77<:=@ABFJSA@9.\\&*;<;>>>>BD@<::<GHDD@AAADDFEHJHKIGGD@@?<874,                                                                                                                                                                                                                                 & 70S10M3D134M2I15M1I29M1S                                    & 12\\\\\n",
       "\t  0 & 40f7db95-cf4b-4801-8a01-2a8fd7b1e16c & chrX & + & 71442994 & 237 & 170 & 20240606\\_AL5RACE002 & GTGCCTGTACTCGTTCAGTTACGTATTGTAATTTGACTCGCTGTCGGGCAAGCAGTGGTATCAACGCAGAGTGAGAGGGAGAGGGAGAGGGAGAGGGAGAGGGAGAGGGAGAGGGAGAGGGAGAGGGAGAGGGAGAGGGAGAGGGAGAGGGAGAGGGAGAGGGAGAGGGAGAGGGAGAGGGAGAGGGAGAGCTATTTCATTTTTTTTTTTTCCACATCAGATGTGAAAAAGAAAATG                                                                                                                                                                                                                                                          & \\#\\#\\$\\$\\$\\$\\$\\&\\&''\\%\\%\\%\\&\\&())*((**)*+*('''(\\&\\$\\#\\#\\$+++,./.---.8>>>:::9<=;;66662222111287689645667659;:>>5CBBBB?BDCFEBFHIGGEFLHGHFGHMHKIHISJBDEIPKJHGGJJLFHJNDDDDFJGECDIHE?;??EFDCFDCFFBHHEFCBDFOEFDFHLHGFGHJGG@@?>/////324679<?B>;2366.,,,../-'''+)5'()33-                                                                                                                                                                                                                                                          & 67S10M3D153M1I6M                                            &  3\\\\\n",
       "\t  0 & 3e6440ca-0b78-4bf1-8746-62b42c8bcf08 & chrX & + & 71442994 & 255 & 190 & 20240606\\_AL5RACE002 & ATGTATTCATTCATGCCGTCTTGCTCTAATACGACTCACTATAGGGCAAGCAGTGGTATCAACGCAGAGGGAGAGGGAGAGGGAGAGGGAGAGGGAGAGGGAGAGGGAGAGGGAGAGGGAGAGGGAGAGGGAGAGGGAGAGGGAGAGGGAGAGGGAGAGGGAGAGGGAGAGGGAGAGGGAGAGGGAGAGCTATTTCATTTTTTTTTTTCCCACATCAGATGTGGAAAAAAAATGTACTGGCATTGTAATAAGGCT                                                                                                                                                                                                                                        & \\%\\&\\&*\\$\\#\\#\\#\\#\\$\\$\\$\\$\\$((((()-...489;>>HLGHFNEFDGCC:99::AHDEBDDHKLJMLJIJD@::88;4.9?@FC=BA>B?>FIGEDBCHJF;<98//0/399=?>CFCEB?B<9;:1;988836==>;98620/,+++.-*5?>?>;@CEE@@<IJKKCEEAJDEHMKIA@BGNLFBF?;<@CDGJJIHGHGE@??<7689<GKAC;9**DLDDHFGGODCCGIJKECB?98899=ADGKIDDA@;999887                                                                                                                                                                                                                                        & 65S10M3D180M                                                & 23\\\\\n",
       "\t 16 & 4d395886-d224-4c73-84a3-53f22baa188e & chrX & - & 71442994 & 244 & 209 & 20240606\\_AL5RACE002 & AGAGGGAGAGGGAGAGGGAGAGGGAGAGGGAGAGGGAGAGGGAGAGGGAGAGGGAGAGGGAGAGGGAGAGAGGGAGAGGGAGAGGGAGAGGGAGAGGGAGAGGGAGAGGGAGAGGGAGAGGGAGAGGGAGAGCTATTTCATTTTTTTTTTTTCCACATCAGATGTGGAAAAAAACTAGCTGCATTTTGGTAGAAGGCTTGAGGGAGGCAGCAATAGGAATCTTAGCTAAGGTAGGACATAACAT                                                                                                                                                                                                                                                   & '*036451,,2-210//07203<;:;+8986985++2445:9;<8>548:;@;9;<4;66891476*,38<?=;<;9=;455466443553/6744657866568927757996449*).33:94,+***//12*--,,68;:30/064/.+**..)((()/3::;8741)\\&\\&''())*+10)-\\&\\&\\&'))))<<;;8**),/4020000////)('\\&''()+\\&\\&\\&\\&\\&\\&\\%\\%\\%\\%\\%\\%\\&''\\&\\&+,'''                                                                                                                                                                                                                                                   & 13M3I49M2I109M1I1M2D2M1D5M3I2M1D19M35S                      & 13\\\\\n",
       "\t 16 & 43462524-974d-463b-839e-2e9aa427bbd8 & chrX & - & 71442994 & 330 & 267 & 20240606\\_AL5RACE002 & AATGATAGGGCAAGCAGTGGTATCAACGCAGAGGGAGAGGAGAGGAGAGGAGAGGGAGAGGAGAGGGAGAGGGAGAGGGAGAGGGAGAGGGAGAGGGAGAGCTATTTTCTTTTACATCAGATGTGGAAAATGATCTGGCATTGTAATAAGGCTTGAGGGAGGCAGCAATACGCAACTGAACCAGGTCAAAGGAGGGGATTAGGAGAGGGAGAGCTATTTCATTCTTTTTTTTTTTTTTTCCACATCAGATGTGGGAAAAAAATGTACTGGCATTGTAATAAGGCTTGAGGGAGGCAGCAATACGTAACTGAACGAAGTAGGTTACAACAA                                                                                                                                                             & \\$\\$\\%\\&,-*)***453:B;9999:99>@?EIDECDAB?((657+*4:>??CDEC-9@>@87=<>328>=>('***5646:97658??@@-A=;<*)/;<643333/2-,+-'\\&\\&\\&;9999<=>=AAC>?7522238+*:3311112>?>DFDCCCDA@C@876-.,,/0+**)+,/0121)''\\&\\#\\#\\#\\$\\%\\&\\$\\$\\%\\&\\&(\\$\\#\\$\\$\\%\\&*/77649<=>>BBBB8774****79:;;;<;;:83<;>>CGSGFFDEDGD.-3;7710001//14=<<?33333CCEDCDEEEGGF:9>>=A66666>==<>=<;:::6--+(()\\&\\$\\$\\#\\#\\#\\#\\#\\$\\#\\#\\#\\#\\$\\#                                                                                                                                                             & 29S11M1I7M1D11M1D42M48I2M1D1M3I6M2I9M5I2M2I13M1D27M6I69M34S &  9\\\\\n",
       "\t  0 & bfcbf9f7-2047-435a-b0da-7ef14a407324 & chrX & + & 71442998 & 202 & 193 & 20240606\\_AL5RACE002 & AGGCTGGAGAGAGAGAGAGAGAGAGAGAGAGAGAGAGGGAAGCGGTGGTATCAACGCAGAGTGAGAGGGAGAGGGAGAGGGAGAGGGAGAGGGAGAGGGAGAGGGAGAGGGAGAGGGAGAGGGAGAGGGAGAGCTATTTCATTTTTTTTTTTTTCCACATCAGATGTGGAAAAAAAATGTACTGGCATTGTGATAAGGGCTT                                                                                                                                                                                                                                                                                             & \"\\#\\#\"\"\"\\#\\#\\#\\#\\#\\#\\#\\#\"\"\"\"\\#\\#\\$\\#\\#\\$\\%\\$\\$\\$\\$\\$\\$\\$\\$\\$\\$\\$\\%\\$\\$\\$\\%\\%\\%\\%\\%\\$\\%\\%'++***+,.11122497666<<=>E????@F@????H@??@AF<<<<>GA@@@@D@>>?AHBAAACHEB@BBABA=?AF?=<<<@>=552/--./0/014677<>==;778869899:822221,+)),.//078;<?A??==,,,,,562-/3                                                                                                                                                                                                                                                                                             & 5S9M1D26M1D2M1I4M6I88M1I56M4S                               & 19\\\\\n",
       "\t  0 & 87fc901d-b39a-449c-92bb-ca5f66e357c3 & chrX & + & 71442998 & 279 & 197 & 20240606\\_AL5RACE002 & GTGTAGCCCCTCGACTAGTACGTATTGCTCTAATACGACTCACTATAGGGCAAGCAGTGGTATAGAGACAGGAAGGAGAGAGAGAGAGAGAGAGAGAGAGAGAGAGAGAGAGAGAGAGAGAGAGGGAGAGGGAGAGGGAGAGGGAGAGGGAGAGGGAGAGGGAGAGGGAGAGGGAAGGGAGAGGGAAGGGAGAGCTATTTCATTTTTTTTTTTCCACATCAGATGTGGAAAAAAAAATGTACTGGCATTGTAATAAGGCTTGAGGGAGGCAGCAATTGA                                                                                                                                                                                                                & \\#\\$\\$''''''''\\%\\%\\&\\%\\&\\%\\%\\%\\%\\&\\&***1225=<;>@BDA@AA@?>>=<0/.(\\$\\%\\%\\%\\%*-...//.+'\\&\\&\\&)('''\\&\\&\\&\\&'(458;;<<==>>??@AABBDCCBCCBA@A@B@@?????>???72/1.,)*'\\&')(-,*./-4899:<@CFF<<==<:5/2<;=>?@A?<4/165754''++,-,()(()(()(*/110/0587;;<9<;CDFKRKF9./CFA?=<<<>C>=;<HGCCC@7776;:::BHSNFG@>>>>:::@>11020+1,''(('(((''                                                                                                                                                                                                                & 74S9M1D92M1D11M1D16M1D26M1I42M8S                            & 32\\\\\n",
       "\t  0 & f7a08879-f311-48f3-ba8f-a6d8262a7a63 & chrX & + & 71442999 & 262 & 185 & 20240606\\_AL5RACE002 & ATATTTTTTTTTTACTCGTTGAGTTTACGTATTGCTCTAATACGACTCACTATAGGGCAAGCAGTGGTATCAACGCAGAGAGAGAGAGAGAGAGAGAGAGAGAGAGAGAGAGAGAGAGAGAGAGAGAGGGAGAGGGAGAGGGAGAGGGAGAGGGAGGGGGAGAGGGAGAGGGAGAAGGAGAGGGAGAGGGAGAGGGAGAGCTATTTCATTTTTTTTTTTACATCAGATGTGGAAAAAAAATGTACTGGCATTGTAATAAGGC                                                                                                                                                                                                                                 & \\#\\#\\$\\%\\%\\&\\&\\&\\&'\\&\\#\"\"\"\\#\\#\\#\\$\\%\\%\\%\\&\\&'(\\&\\&()(**+-799889;=>>>=8<=>>>11112CLEHAAAABE@@5555541,*)'\\$+*-,---..14343457788::::7-+,+,+,+.13331131442488;>ACB@?AAA?5/163457;ACD?>>856430.,-.--,++,*('\\&\\&\\&\\&\\%')*,*+/56657767739BDCBBACFD>:6474568EF@/,))),4566665234:52289<@@ABCEFEGEBBA@AAABCA                                                                                                                                                                                                                                 & 77S9M1I132M3D43M                                            & 17\\\\\n",
       "\t  0 & 557f51a0-8ea8-4d7e-a6e3-917a0c172a53 & chrX & + & 71443000 & 261 & 184 & 20240606\\_AL5RACE002 & CTGTCTACGTCTACACTCGTTCGTGCGTATTGCTCTAATACGACTCACTATGGCAAGGGCTGCAGTGGTATCAACGCAGAGAGAGAGAGAGAGAGAGAGAGAGAGAGAGAGAGAGAGAGAGAGAGAGAGAGAGGGAGAGGGAGAGGGAGAGGGAGAGGGAGAGGGAGAGGGAGAGGGAGAGGGAGAGGGAGAGGGAGAGCTATTTCATTTTTTTTTTCCACATCAGATGTCGAAAAGAAATACTATGGCATTGTAATAAGG                                                                                                                                                                                                                                  & \\#\\#\\#\\$\\#\\$\\$\\$\\$\\&\\&'\\&\\&\\&\\%\\%\\$\\$\\$\\%\\%\\%\\&\\%\\%\\&\\&\\&''''(665568>88888=<<99/.*\\&\\&\\&'(*+-,,,369==><<<<<?=;;=4)-34;:A@GFNKNOPLNMSNPQNPSRMMSSPONORSNNOKLJIIHHGHGEB<<<<EC?<8=?BBA@EHKECBBCECAABCCCDAFIHJF=@AG?<=:CAA59@AED>6=ADFDABFDA@8766/-,,)'',567>=>7798(''''(('\\&'*+12-.-)-+((()45;<?>>/-,*))(                                                                                                                                                                                                                                  & 77S8M1I121M2D34M1I3M1D16M                                   &  1\\\\\n",
       "\t  0 & 259f638a-b157-4417-970b-689ab3ce9e6e & chrX & + & 71443001 & 228 & 211 & 20240606\\_AL5RACE002 & GGGAGGGAGGGAGGGAGAGGGGAGGGGAGGGAGGGAGGGAGGGAGGGAGGGAGGATATAACACCAGAGTGAGAGGGAGAGGGAGAGGGAGAGGGAGAGGGAGAGGGAGAGGGAGAGGGAGAGGGAGAGGGAGAGGGAGAGCTATTTCATTTTTTTTTTTTCCACATCAGATGTGGAAAAAAAATGTACTGGCATTGTAATAAGGCTTGAGGGAGGCAGCAATACGTGG                                                                                                                                                                                                                                                                   & \\#\\#\\#\\#\\#\\#\\#\\#\\$\\$\\$\\#\\$\\$\\$\\#\\$\\$\\$\\$\\$\\%\\%\\%\\%\\%\\%\\%\\$\\$\\#\\#\\#\\#\\#\\#\\#\\#\\#\\#\\%\\$\\$\\$\\#\\#\\#\\$\\$\\$\\%\\%\\&()*++,,,,/0,,...013477779:;999;<?<;;<=A<;;;<C:9::;A>=;<=@<;<<=D=<;<=C:999:B:9999@====>?>=<<;;;9999:?FGFJMIB>;44==<<===<<<;;<@DGCB@@?====?BA><<<:;<::<<=AB9766687765557777420/'\\%                                                                                                                                                                                                                                                                   & 6S6M1I8M1D5M1D6M2I6M2I6M2I4M9I154M11S                       & 45\\\\\n",
       "\t  0 & 647c3b53-d08c-4d52-90fe-4530e922b355 & chrX & + & 71443007 & 275 & 175 & 20240606\\_AL5RACE002 & TGCTGCACCTACTCGTTCAGTTACGTATTGCTCTAATACGACTCACTATAGGGCAAGCAGTGGTATCAACGCAGAGTGAGGCATTGTAATAAGGCTTGAGGGAGAGGGAGAGGGAGAGGGAGAGGGAGAGGGAGAGGGAGAGGGAGAGGGAGAGGGAGAGGGAGAGGGAGAGGGAGAGGGAGAGGGAGAGGGAGAGGGAGAGGGAGAGGGAGAGCTATTTCATTTTTTTTTTCCACATCAGATCGAAAAGAAATACTATGGCATTGTAATAAGGC                                                                                                                                                                                                                    & \\#\\#\"\"\"\\#\\#\"\\#\\$\\&''\\&\\&'2254,,,--77775587778:ADFFGGHGGJHHSGHHMNSHL@@@>@DCDDBCCBGGFLRKIMSNSMNQJLLILJSSJSKSGCCIE>@IKKHOGJLIFADD@SNNJRIJFBFJJSGCEKFHDCJJGK@G<EDED8<=?B:78?DA<89B=;?<>AHLNCIFHDEMNKI@98AGGKEFIIHC?ABFDCC?@ABFGGEA?=4/0257:;<?><DEIHEDC:9..+*+-+)\\&\\&\\&'/28:;4=<<<;>?AGIQEE97669985                                                                                                                                                                                                                    & 100S122M2D20M2D12M1I3M1D17M                                 &  9\\\\\n",
       "\t ⋮ & ⋮ & ⋮ & ⋮ & ⋮ & ⋮ & ⋮ & ⋮ & ⋮ & ⋮ & ⋮ & ⋮\\\\\n",
       "\t 16 & fc6bdf1a-ac95-4717-b485-15b1c6d6d574 & chrX & - & 71443401 & 192 & 42 & 20240606\\_AL5RACE002 & GACCAGAGGGCAAGCAGTGGAATCACTAGAGTACATGGGACTGGCATTTTTCTTTTTTTAAATTAAAAACATTTTCTTGCTCTAACTTTTTTTCTTTTCACATCAGATGTGGAAAAAAAGTTACTGGCATTGTAATAAGGCTTGAGGGAGGGAGCAAGATACTTAAAATGAACCAAGTAGGTTACACATAAA                              & \\&(((()21///13452+***.+'\\&''(46>>BFG;:>@+++;>@BGGFAB@KKEC966:DDFOMIFGFGH?FGCA;95/\\&\\&\\&\\&(),00.0)))/.***/233223355:9>;;9::..--,+,****))'''''')>>=<:::2,*)(((224*)\\&\\$\\$\\$\\$\\$\\$\\$\\%(*(('')'\\&\\&)(\\&\\&\\&\\%\\%\\%'))+*\\&\\%(\\%\\$                              & 41S42M109S      &  1\\\\\n",
       "\t 16 & 5e840763-7308-40f6-945c-e9b3cfaec483 & chrX & - & 71443401 & 207 & 49 & 20240606\\_AL5RACE002 & AACGTATTGTCTTTAATACGAATCACTATAGGGCAAGCAGTGGTATCAACGCAGAGTACATGACTGGCATTTTTCTTTTTTTAAATTAAAAACATTTTCTTGCTCTCGGTCTTTTTTTTTTCCACATCAGATGTGGAAAAAATGTACTGCGTTCGTAATAAGGCTTGAGGGAGGCAGCAATACGTAACTGAACGAAGTGACACAACA               & \\%\\&''')\\%\\%\\&(\\&'())'\\&\\&'())*+445HGGHGIEFGEFGCCECEC>===<4..../44'\\&\\&\\&\\&\\&*8=CMHIGAEIJKJ7866@88=>NIGLSGFJNHA@?BA?<8-,++,0./.246=8445?NE<;;;>B@32=:>:;@9=;;;:3,)\\&\\&''+115678;;:;;=1/8:6710000>AEEFHEFGEFC@72/,*\\&\\%\\%\\%\\&'(*+,''               & 64S49M94S       & 10\\\\\n",
       "\t 16 & 46bd0c36-1557-4831-ae20-d6a35bc2ecc5 & chrX & - & 71443401 & 197 & 43 & 20240606\\_AL5RACE002 & ACCTATTGCTTAATACGACTCACTATAGGGCAAGCAGTGGTATCAACGCAGAGTACATGGGACTGGCATTTTTCTTTTTTTAAATTAAAAACATTTTCTTGCTCTCAAGTTTTCTTCTCATCAGATGTGGAAAAAAAGTGCTGGCATTGTAATAAGGCTTGAGGGAGGCAGACGTAACTGAACGAAGTACAGGACAT                         & \\%\\&()526:9::=>>@?-----DCCIGCEBB@EHGNKGHGGFHEDCDDGFISJJHLHH@DD/..79ACMIHEC@INL98=<<@CCGKKQHKDLMLIIKKGC@?0.----,0''\\&\\&\\&\\%\\%\\%),++,-//;;7110,(''\\%\\%\\&()*+,/0.../112?B76211('((((\\&\\&\\&('''''(())(''''0)(''\\%\\#\\#\\$\\&\\$\\#\\#                         & 63S43M91S       &  1\\\\\n",
       "\t 16 & 91966f1d-e763-4ba7-8107-7f0b48592bf4 & chrX & - & 71443401 & 205 & 49 & 20240606\\_AL5RACE002 & CGCATCGAGATGACTCACTATAGGGCAAGCAGTGGTATCAACGCAGAGTACATGGGACTGGCATTTTTCTTTTTTTAAATTAAAAACATTTTCTTGCTCTCGGTCTTCTTTTTTTTCCACATCAGATGTGGAAAAAATGTACTGGCATTGTAAGACAGGCTTTCTAGGGAGGAGCAAGACGATGAGTCGAAAGAAGAGGCACATA                 & *('\\%\\%\\%'((((4;;::77777/22368:;BFFDDCB?=<=>::,+++-6;;,+0*(('(())**,-.2:<CE;:99<;:<@EIJG?KHMKJIJCHKHHDA<==66978:<>=;;778893/.0:::333744//*,0/0122111)))(\\&\\&\\&((**,,.+++(((.,,*'\\%\\%'\\&))('\\$\\$\\%\\%\\%\\%\\&\\$\\%\\%\\%(*(()*(******)'\\&                 & 58S49M98S       & 10\\\\\n",
       "\t 16 & c2245326-9d07-484d-b8f6-d14fac26b338 & chrX & - & 71443401 & 202 & 41 & 20240606\\_AL5RACE002 & CACCATTTGAGATGACTCACTATAGGGCAAGCAGTGGATCAACGCAGAGTACATGGGGACTGGCATTTTTCTTTTTTTAAATTAAAAACATTTTCTTGCTCGGTTTTTTCTTTTCACATCAGATGTGGGAAAAAAAATGTACTGGCATTGTAATAAGGCTTGAGGGAGGCAGCAATACGTAACTGAACGAATAGGTTACACA                    & )'()*+(((()..0;:::@@>?=99666999::....6689;;;?BAACA@>.,.,.'''((..101238;;=EA=:9<<=@FLHLRHOCGGCB?/,)-00011=A\\&\\&\\&09)))5?ABBDDABA/.;EHEDA@ABCCDLNSJLIPJMKGGIIKJHHGKLGJH@IF@@?7633332\\$\\$\\$\\$\\$\\%\\%\\%\\$\\%\\&\\&\\%\\$\\$\\#\\$\\#\\#\\&\\&'(()(\\%                    & 60S41M101S      &  1\\\\\n",
       "\t 16 & bdd6025d-ff14-4ef1-9d96-78f8ef860bb9 & chrX & - & 71443401 & 203 & 46 & 20240606\\_AL5RACE002 & AATGTATTGCTCTAATACGACTCACTATAGGGCAAGCAGTGGTATCAACGCAGAGTACATGGCAATGGCATTTTTCTTTTTTTAAATTAAAAACATTTTCTTGCTCTCGGTTTTTTTTTTTTTCCACATCAGATGTGGGAAAAATGTACTGGCATTGTAATAAGGTCTGAGGGAGGAGCAAGACGCAACTGAACGAAGTACAT                   & 235::;:77778:<<=CCBCCCDEIE@>=>?CEMIKSSJFGGFMHJKECB@@?<;;83,++*+-.....0/32326>;9211499:;AIIKHOIHSSSE><7200-,,,.187679;:>GGHHGHHHHFDD@>=,,0:=98*,77:;>2222/*)))),))\\&\\&\\&\\%\\%\\&'(368+*/.-+++,(''''--//24/,'\\%\\$\\$\\$\\&\\%\\$\\$                   & 65S46M92S       &  6\\\\\n",
       "\t 16 & 98e5578a-828d-4a0b-bf0b-4a8e6d3b0c5b & chrX & - & 71443401 & 189 & 46 & 20240606\\_AL5RACE002 & ATAGGGCAAGCAGTGGTATCAACGAACATGGGACTGGCATTTTTCTTTTTTTAAATTAAAAACATTTTCTTGCTCTCGGTTTTTTTTTTTCCACATCAGATGTGGAAAAAACGGTTGGCATTGTAATAAGGCTTGGAGGGAGGCAGCAAGACCGTAACTGAACGAAGTACAGACACTACACATAAACAT                                 & ,-457549<<@CBDECA>0*'\\&\\&\\&')-3/41(((.0:8999::<@JSR@CA@DAA?FLCBB<A5784220.-,./+)((+.....28<44ADHFHHEFECB644..**'\\&\\&\\%\\%\\%\\&(/8888666645998<1114;44?-****4))))'')*,/00001/,*((\\$\\%\\&'\\$\\%\\$\\$\\#\\#\\$\\$\\&'+*('*,,(('                                 & 34S46M109S      &  9\\\\\n",
       "\t 16 & 2b584f64-f23a-4057-b6fa-c10249bbf0a2 & chrX & - & 71443401 & 203 & 42 & 20240606\\_AL5RACE002 & AACGCATTGCTTGTACACGACTCACTATAGGGCAAGCAGTGGTATCAACGCAGAGTACATGGACTGGCATTTTTCTTTTTTTAAATTAAAAACATTTTCTTGCTCTAACTTTTTTCTTTCATATTACAGGTGGAAAAAAAAATGTACTGGCATTGTAATAAGGCTTAGGAGGCAGCAATACGTAACTGAACGAGTACGTTACA                   & ---('(((336897744433223:::>??BBBA@?=<8+++*+221122366790000/22((',,,,202//07666776455569:;<;;;===><87('\\%\\$\\#\\$\\%\\%\\&*)*''('*)*-.....71166677;42111245558;>AHGA?>:90///5654/.**)''(''*())-.1142223542,++\\$\\$\\$\\$\\%\\&\\%\\&\\&\\%\\%                   & 64S42M97S       &  1\\\\\n",
       "\t 16 & a46002a8-1643-4258-bab0-e3f2481a64dc & chrX & - & 71443401 & 218 & 46 & 20240606\\_AL5RACE002 & ACCATTTGCTCTAATACTCAACTCCACTATAGGCAAGTAGTGGGTATCAGAACGCAGAGTACATGGGACTGGCATTTTTCTTTTTTTAAATTAAAAACATTTTCTTGCTCTCGGTTTTTTTTTTTTCCAATATCATGGAAAAAAAAATGTACTGGCATTGTAATAAGGCTTGAGGGAGGCAGCAATACGTAACTGAACGAGTAGGTTACACATAACAC    & 34557<3//.,,,,(()))100013::;C210('*)+-1)\\&(('())))+---424445?AD81320/-....638656<;;:776;>AEEHOFGEEEEH<500/1/+**)\\&()+--.2348:54\\%\\%\\%\\%\\%*\\&\\&\\&'+37>?>==5:?ABEBBCGHLKDEDEEFFDDFB<<;;74::-,)\\&\\&'\\&\\&()))*./3232,+)((+++++))(('**((('\\%\\%\\&    & 69S46M103S      &  9\\\\\n",
       "\t 16 & 78c3ab08-9884-4b52-80e6-20393fbbee38 & chrX & - & 71443401 & 207 & 50 & 20240606\\_AL5RACE002 & ATGTATTGCTCAGATGACTCACTATAGGGCAAGCAGTGGTATCAACGCAGAGTACATGGGACTGGCATTTTTCTTTTTTTAAATTAAAAACATTTTCTTGCTCTCTGGTCTTCTTTTTTTCCACATCAGATGTGGGAAAAAAAATGTACTGGCATTGTATAGAAGGTTCTTTAGGGAGGAGCAGACCAACTGAACGAAGAGACATAA               & \\$\\%'(*)''()'((((*::87889:899999?ABBBA@AABB<66667>?><;;60('()**,-0224454134120314;=<<<CHDDB?DBFA@?<:873+*)''((()++256<D????@>>:99::CB++18BACDEBA>?<<;:9:;5/-.**'\\&\\%\\%\\$\\&\\%\\%\\&))'((')*'\\&'\\&'\\%\\$\\%\\$\\$\\$\\$\\&---+*))'\\&\\%\\$\\#\\%'**))*(               & 62S43M1I6M95S   &  1\\\\\n",
       "\t 16 & 8f40db8d-09b2-47dd-856d-8106d7b1db7f & chrX & - & 71443401 & 182 & 49 & 20240606\\_AL5RACE002 & CAGTGGCATCAAATGCAGAGTACATGGGGACTGGCATTTTTCTTTTTTTAAATTAAAAACATTTTCTTGCTCTCGGTCTTCTTTTTTTTCCACATCTAAGATGTGGAAAAAAATGTACTGGGCATTGTAATAAGGCTTGGAGGGAGGCAGCAATACTAACGAACCAGTAAGTTACATATACA                                        & \\$\\%\\%)***-,,---,10.//02777)556221;<;;:96446;:;:::<<?:9:=JJIGFGISJKGF@><8422///.--+---/340.-,+*'\\&\\%\\$\\$'*+A@**4153/26<<<><</.4AA98;100300877@+++152555A@?@>530)('\\&\\&\\&\\&\\&\\&('\\&'\\%\\$\\$\\$\\$\\$\\$\\%*'''(\\&'\\%\\$                                        & 31S49M102S      & 10\\\\\n",
       "\t 16 & 877879c8-d4ca-4634-9e75-1a4bf07ce377 & chrX & - & 71443401 & 205 & 45 & 20240606\\_AL5RACE002 & CAACGTATTGTAATACGACTCACTATAGGGCAAGCAGTGGTATCAACGCAGAGTACATGGGACTGGCATTTTTCTTTTTTTAAATTAAAAACATTTTCTTGCTCTCGGCTTTTTTTTTTCCACATCATGTGGAAAAAAATGTACTGGCATTGTAATAAGGCTTGAGGGAGGAGCAATACGTAACTGAACGAGTAGGTTACACACA                 & \\&(***+\\&\\&\\&\\&(*())*)*(''**+ABABB5-----/000012/.,--56;;@BCDA7578/..1499??A?><CCFIACA@AADDEFCCCB@7110001*'''(''++./-,-.46/.../5*(''*/**4<:3236:=>AFHMJIIHDGDFHIGLMSJIF7777><)\\&\\&\\&)(*+--/./-,,,-))(\\&\\&)+,,,))()\\&'''\\&\\%                 & 63S45M97S       &  1\\\\\n",
       "\t 16 & af9138a0-bb60-48e9-b41b-dbb462526ee9 & chrX & - & 71443401 & 192 & 50 & 20240606\\_AL5RACE002 & ACTATAGGGTAGTAGTGGTATTCAATGGTAATAGTACTGGACTGGCATTTTTCTTTTTTTTAAATTAAAAACATTTTCTTGCTCTCGGTCTTTTTTTTTTTTTTCCACATCATGTGGAAAAAAAAATGTACTGGCATTGTAATAAGGCTTGAGGGAGGAACAATACGAACTGAACCAGTAGGTAGGGCATAA                              & '2498)))))---:8786342101--+***((\\%\\$\\$\\&'(((((,/.)(((+37:<>@@222>EDFGISMKHGI@HFBC?;=><<<9444332248;65567?>=>>??<.**9@99>>?>;887779:?FIRNIFHBA*))))),;:;<<>A=A:\\&\\&\\&\\&)(-,*))''(\\%\\%\\%\\&*)'\\&'\\&\\%\\%\\%\\&\\&\\&'\\%\\%'''\\&\\%                              & 42S11M1I38M100S &  7\\\\\n",
       "\t 16 & 1d6c9f88-9045-4159-b845-dde7e0a8fe23 & chrX & - & 71443401 & 221 & 49 & 20240606\\_AL5RACE002 & CGTATCGCCTAGAATACCAAAGATTCTCGACTATAGGGCAAGCAGTGGTATCAACGCAGAGTACATGGACCTGGCATTTTTCTTTTTTTAAATTAAAAACATTTTCTTGCTCTCGGTCTTTTTTTTTTTCCACATCAGATGTGGAAAAAAAGTGACTGGCATTGGGAGCTCCAGGGAGCAGCAAAGACGATGAGTTGAAGCAAGTGTACACACAGACATGG & ))**((*))'''(\\%\\%'\\%\\&*+.,-,\\%\\%\\%\\%'+,-AB;==<9;;;=FDCCDDG@====ACEDDCFFD>>>;::666669991113343.,78???ACJGBBGFEEC??>=775//.//111.+/56:<A=>;;;;::20//340/611/-*''')+,/./3..)\\&\\&\\&\\%\\$\\$\\&\\&\\%\\&')*(((((/)\\&+*('\\&\\&'))'\\&\\&\\&\\&')''''\\&\\%\\#\\#\\#\\#\\#\\#\\#\\#\\#\\$\\$\\%\\$\\$\\$\\$\\# & 71S49M101S      & 10\\\\\n",
       "\t 16 & 2b5273cc-8704-4403-ab3b-9e6fc6cf248e & chrX & - & 71443401 & 194 & 49 & 20240606\\_AL5RACE002 & CATCACCAGAGGGCAAGCAGTGGTATCAACGCAGAGTACATGGGACTGGCATTTTTCTTTTTTTAAATTAAAAACATTTTCTTGCTCTCGGTCTTCTTTTTTTTCCGACATCAGAGATGTGGAAAAAAAATGTACTGGCATTGTAATAAGGCTTAGGAGGTAGCAAGACGTAACGAACCAAGGGACGCAAAAAA                            & \\$\\&\\&\\&'\\&\\%\\&(029:9989?@41111778=@?DEEFCCBDD;/4=)))8@BCGHHFEAGOMS9<>AGDEESMSKMCMKLMMJGLDDBA=8211(')(++++./*\\&\\%\\&'*++))'\\&'+,..679:9:;738=A=>=<=>BC>97/++*)))(()(((*)'''')4''((\\&***)****(('\\$\\$\\#\\#\\#\\#\\#\\#\\#\\$\\%\\%\\&\\%\\$\"                            & 46S49M99S       & 10\\\\\n",
       "\t 16 & 51f9a5c6-ce6f-4b4a-9945-a1fc3eb04ce7 & chrX & - & 71443401 & 216 & 49 & 20240606\\_AL5RACE002 & AAATGTATTGCTCTAATACGACTCACTATAGGGCAAGCAGTGGTATCAACGCAGAGTACATGGGACTGGCATTTTTCTTTTTTTAAATTAAAAACATTTTCTTGCTCTCGGTCTTTTTTTTTTTTCCACATCATGTGGAAAAAAAAATGTACTGGCATTGTAATAAGGCTTGAGGGAGGCAGCAATACGTAACTGAACGAATAAATTAAAAAAATA      & \\$'++667768888:B====AA@??CC0/.-02237JEIILNLIJMPFFGDF322229=<,+.''\\&\\&(-45888:;;LHKSLD667888:KKEEHGIEC?:/.,(()*)(((-544312765@8::<>;9***@?00>DBG>425?AGEKJLMJIQQILHSKMNJKSKLPSILNQQJKFFF@@AAAEFDCA+++++=3+++)**(\\%\\%\\%\\&(('\\&\\%\\$\\#\\#      & 66S49M101S      & 10\\\\\n",
       "\t 16 & ce33d94e-7b4d-4e33-beed-425f0ec11889 & chrX & - & 71443401 & 220 & 45 & 20240606\\_AL5RACE002 & GGAACGTATTGCTTGAATACGACTCACTATAGGGCAAGCAGTGGTATCAACGCAGAGTACATGGGACTGGCATTTTTCTTTTTTTAAATTAAAAACATTTTCTTGCTCTCGGCTTTTTTTTTTTTTTTCCACATCAGATGTGGAAAACGGTACTGGGGATTGCATAGGCTTGAGGGAGGCAGCAATACGGTACCTAACCAAGGTAGACGTACATAAACAT  & ()+--0021-**'''('',,02222==>EFFHKHHHFEFFCFCB@?@<<<=>66656?@>//2/(('))))208899BDHOFA=<=77779AGCB@@A@@=::7740,''''*.0024686668966666=922225<7667:5)\\$\\$\\$\\%\\%''--056-,0---..333)(),/56----.2.--,*))))('\\&\\&\\&('\\&\\%''\\%\\&\\$\\#\\#\"\"\\#\\#\\%\\%\\%\\$\\%\\%\\%\\%\\%\\$  & 67S45M108S      &  1\\\\\n",
       "\t 16 & eb1e4fa0-9869-4e93-a658-c66af673ccb0 & chrX & - & 71443401 & 192 & 46 & 20240606\\_AL5RACE002 & CACGATAGGGCAAGCAGTGGTATCAACGCAGAGTACATGGACTCTGGCATTTTTCTTTTTTTAAATTAAAAACATTTTCTTGCTCTCGGTTTTTTCTTTTTCCACATCAGATGTGGAAAAAAAAATGTACTGGCATTGTAGAGGCTTTAGGGAGGCAGCAATACGTAACTGAACGAAGTACAGGACATAACA                              & ))))ABCFEGDFDEFJSJHJIJJKKKHNMKFEBBB?(\\%\\&\\%\\%\\$\\%(/223@??333A>@?B<;9:;=@BNNJKSN@KIDC@?>?=,+*\\&\\&((/0'''1'(*,--/DDECDGIFF;:CAA<5//14BCGGKNOJLFC=<('\\&\\&'40+''''03557544447;<;;9::999:564325--)(\\&\\%\\%\\&*('''\\%\\%\\%                              & 44S46M102S      &  9\\\\\n",
       "\t 16 & 5a2ee741-e477-4175-8232-1e4a3d925f50 & chrX & - & 71443401 & 206 & 49 & 20240606\\_AL5RACE002 & ACGTATTGCTCTAATACGACTCACTATAGGGCAAGCAGTGGTATCAACGCAGAGTACATGGGACTGGCATTTTTCTTTTTTTAAATTAAAAACATTTTCTTGCTCTCGGTCTTCTTTCCTTCTATTATGTGGAAAAAAAATGTACTGGCATTGTAATAAGGCTTGAGGGAGGCAGCAATACGTAACTGAACGAAGTAGAATACACA                & )*68==432222778::>A@AAFHEGC)22/3GJISPJJJLHMJIKSLLFDDCDFSE=8;;)((9=B>@??@>@HMSHHIJFIJHSSSSSGIDLJJGB??<:8-,*'''\\&\\%'\\&''\\&))(()('\\&\\&'45((58>=:97<=>?GGHKSKJGPJKQIHLRJNJFIGIFANJDC==;==@=31103477::987+))''\\$\\#\\#\\#\\#\\%\\%\\%\\&\\%\\%                & 64S49M93S       & 10\\\\\n",
       "\t 16 & a405f7ff-0fd9-4cd5-b752-4ff29aab472d & chrX & - & 71443401 & 211 & 49 & 20240606\\_AL5RACE002 & TAATGCATTGCTTAATACGACTCACTATAGGGCAAGCAGTGGTATCAACGCAGAGTACATGGGACTGGCATTTTTCTTTTTTTAAATTAAAAACATTTTCTTGCTCTCGGTCTTTTTTTTCCACATCAGATGTGGAAAAAAATGTACTGGCATTGTAATAACTCTAGGGAAACAGCAGATATGAAATTTGAACCAGAGAGGTTAGTACACA           & \\$\\&\\&'\\&'+**.,,+,+++,-2123777EB>@???FECCD@???=>6555245554447;98;8667:>BBDEDA?@DDH=8999?7789ICA@@?EB>:1.-.55320+***.-,-/511<=EJIKSGHGHGC?@>>@@=@@DBDEFEDEHDED>=;8+)(\\%\\%\\%(*(.*'))\\&''(\\&\\&\\&\\&\\&\\&\\&'*(\\&''))*'\\&\\&\\&\\$\\$\\$\\%\\%\\&\\&\\&\\%\\%\\%\\&\\&'\\%\\$           & 65S49M97S       & 10\\\\\n",
       "\t 16 & 3f380486-cb6e-4f15-b12d-29948dfc4826 & chrX & - & 71443401 & 214 & 46 & 20240606\\_AL5RACE002 & TTACGTATTGCTCTAATACGACTCACTATAGGGCAAGCAGTGGTATCAACGCAGAGTACATGGGATTCTGGCATTTTTCTTTTTTTAAATTAAAAACATTTTCTTGCTCTCGGTTTTTCTTTTATATCAGACGTGGAAAAAAAAATGTACTGGCATTGTAATAAGGCTTAGGAGGCAGCAATACGTAAATTCTAACCAAGTACACACACAACAT        & \\&)22678668888:>=<===@@?@IGGOIIPIFFHHGIKHEFEHEDCGEAB><;.....*(+*))**-0233667668CFHG>?@BBEFFQKSMHIEINSMOKHMMKFFCC?>=7((*.*(()**+''\\&\\&\\&\\&62---/0+*.7:>>A>>)))))567:;<=>@B@5445;@98778<:;==;<<6/\\&\\%\\%\\%\\%\\%\\&)(''*''\\&\\$\\#\\#\\$\\$\\%\\&'++(((        & 68S46M100S      &  9\\\\\n",
       "\t 16 & 3302a813-95f3-4c8c-a601-3b2eb00c8699 & chrX & - & 71443401 & 220 & 46 & 20240606\\_AL5RACE002 & AATGTATTGCTCTAATACGACTCACTATAGGGCAAGCAGTGGTATCAACGCAGAGTACATGGGACTGGCATTTTTCTTTTTTTAAATTAAAAACATTTTCTTGCTCTCGGTTTTTTTTTTTTTCCACATTCAGTGGGAAAAAAAATGTACTGGCATTGTAATAAGGCTTGAGGGAGGCAGCAATACTTAATGACTGAACCAAGTAAGAGGGCATAAACAT  & \\%'*+,32*((((*+****/....::;EFBDDBCFIFHFGDBBBB<;;;;ACBA=<<=<0-200146::<A@A666:7<<7;9<22222HCBAAA<?7551/.,+***)()+.+++++-584300.)))////**-//510///11/000///--..*+++**4321+***)/1,,,,,/*))\\&\\$\\$\\$\\$\\$\\%\\%\\%\\%())'(''\\&*'\\$\\$''\\%\\&\\&\\%\\%\\&\\&\\%'()''\\%  & 65S46M109S      &  6\\\\\n",
       "\t 16 & 3788c6bf-cb72-4cc3-bec7-ac9d745d2576 & chrX & - & 71443401 & 213 & 49 & 20240606\\_AL5RACE002 & TACCGTATTGCTCTAATACGACTCACTATAGGGCAAGCAGTGGTATCAACGCAGAGTACATGGGAATGGCATTTTTCTTTTTTTAAATTAAAAACATTTTCTTGCTCTCGGTCTTTTTTTTTTTCCACATCTTATGTGGAAAAAAAATGTACTGGCATTGTAATAAGGCTTGGAGGGAGGGAGCAAGACGCAACTGAACCAAGTAAGCTACAT         & \\#\\#\\$(,.00*****<@=======66770/('))\\&\\%\\%\\%\\%'+-.134769???E>=<<<>>=1/**))).0234449::@ADCA;755457>>;9999;<=<>>:@@?=;,,../0./0,*).720+*),-***+-;:>?BBDFHOCFEGFK???GGGHEDDBABABDD@@)((09(03,+,-./*)))\\&\\&\\%\\%\\%\\&\\&\\&'\\%\\%\\%\\$\\$\\&\\&\\%\\#\\#\\#\\#\\#\\$\\&\\%\\%\\%         & 66S49M98S       & 10\\\\\n",
       "\t 16 & fd42d94b-d8e2-4680-b691-f2b9689b472e & chrX & - & 71443401 & 204 & 50 & 20240606\\_AL5RACE002 & ACGCATTGCCGTAATACGACTCACTATAGGGCAAGCAGTGGTATCAACGCAGAGTACATGGGAATTCCTGGCATTTTTCTTTTTTTTAAATTAAAAACATTTTCTTGCTCTCGGTCTTTCTTTTTCCACATCAGATGTGGAAAAACGTACTGGCATTGTAGAAGGCTTGCTTAGCAATACGTAACGAACCAAGTACAATGACAT                  & \\&'./333987610001101001444GD<>>>>FICSIIKOJNJHMSJHFBAA@@::98664..**,./0222222346=?A@45326?CIGJLSSRHHIMR??>>::90/+*))*)-//<;<?>===HDA?@@?B@--;A;0\\&\\&\\&\\&:9;:<C<:88110-,/.-*\\%\\$\\$\\%\\%\\%'/158:78832666:94213''\\&\\&\\%\\&\\&\\&'(\\%\\$\\#                  & 68S11M1I38M86S  &  7\\\\\n",
       "\t 16 & a8014f5a-b4df-47ed-a521-a6ac91b5f124 & chrX & - & 71443401 & 200 & 46 & 20240606\\_AL5RACE002 & AATGTATTGCTTAGGGCAAGCAGTGGTATCAACGCAGAGTACATGGGACTTCTGGCATTTTTCTTTTTTTAAATTAAAAACATTTTCTTGCTCTCGGTTTTTCTTTTTCCAAATCAGATGTGGAAAAAAAAATGTACTGGCATTGTAATAAGGCTTGAGGGAGGCAGCAATACTATGAATGAGTATATGATACATAAACA                      & (*+./584444555556CDALLFFFFEHDAAAADKFFHHHHJF?B@>)(((16999:9:99:JJI;<AAAGFFEKSGECDCJJHACA?862*))'')*-(((3)+.-,-./144555IGDDLIHLOIACB@CECEEIGNIGFFGFFGEE>FFOCCBA?A@--/.-)(('\\&\\&\\&\\%\\&((')((*,+)\\&\\%\\#\\#\\#\\$\\$\\%\\%\\%\\%)'\\&\\&\\&                      & 52S46M102S      &  9\\\\\n",
       "\t 16 & 86d8481a-50ce-4463-825e-a99afe463a87 & chrX & - & 71443401 & 200 & 45 & 20240606\\_AL5RACE002 & TACGTATTGCTCTAATACGACTCACTATAGGGCAAGCAGTGGTATCAACGCAGAGTACATGGGACTGGCATTTTTCTTTTTTTAAATTAAAAACATTTTCTTGCTCTCGGCTTCTTTTTTTCCACATCAGATGTGGAAAAACGTACTGGCATTGTATAAGGCTTGAGGGAGGCAGCAATACGAAACTGAACGAGGTTACA                      & \\$\\%\\&)1222====>IEEFF////0@@ALJLNILIIMSLSJIQKIOSROSLNHDDEFGSLIDIK988DFFCIFGL@EIKSM@@>=?986675567<3781/..*+**)()-,+,,1115::999:?;:9:>>FD;;@EHC8888BCFFGHEA??21-))..-***(*/6821/-./-./-(\\&\\&\\%\\&''''\\&\\&\\%\\$\\%\\&\\&\\%\\%\\$\\&\\$\\#                      & 65S45M90S       &  1\\\\\n",
       "\t 16 & 715a4210-3a01-4670-a24c-2588216f36b0 & chrX & - & 71443401 & 188 & 49 & 20240606\\_AL5RACE002 & CACTATAGGGCAAGCAGTGGTATCAACGCAGAATACATGGACCTGGCATTTTTCTTTTTTTAAATTAAAAACATTTTCTTGCTCTCGGTCTTTTTTTTTCCACATCAGATGTGGAAAAAAAAATGTACTGGGATCGCAATAAGGCTTGAGGGAGGAGCAAGACGGTACTGAAACGAAGTACAGGACAT                                  & '(((4588888BC=DJJGEDD;::>B*)''',.178,+8+++*-/1164445=BEHE;;:3@,,==SSJSDGJLOMHHCFE@;87***),**+,.322235CDEEFGDD>==<99876515-))((((\\%('\\&'))),113>DC@:43,,5:-,,,4-,,*\\&\\&\\&\\%\\%\\%'('\\%\\&''\\&\\%\\&\\%\\%\\%'\\%\\%\\%\\&(\\&\\&\\%                                  & 43S49M96S       & 10\\\\\n",
       "\t 16 & f0ac3f47-8bd7-4d9c-8a84-e660786b2d6d & chrX & - & 71443401 & 213 & 49 & 20240606\\_AL5RACE002 & ACCATTGCTTAAATACGACTCACTATAGGGCAAGCAGTGGTATCAACGCAGAGTACATGGGACTGGCATTTTTCTTTTTTTAAATTAAAAACATTTTCTTGCTCTCGGTCTTTTTTTTTTTCCACATCAGATGTGGAAAAAAAATGTACTGGCATTCTGCAATAAGGCTTGAGGGGGAGGCAACAATACGTAACTGAACGAGTACAGGACACA         & \\&*()*)**('()))*+'((''--.>@22223DECBDCBDCAC@@AAAGFGHEEED@<\\&\\&\\&\\&)(((++,+*((*.....///6@A@CNSMOFMIISFSIKFFDA>0...1530001668/,,--@@D?97778<<@BA9877433234,(((\\&\\&\\&\\&\\&''((++,:;::9667..//5-,++,/\\&\\&\\&\\&\\&\\&\\&\\&\\%\\&\\&\\&(*+'\\&\\&\\&\\&\\&'''''('('\\&         & 63S49M101S      & 10\\\\\n",
       "\t  0 & 4e3b2df6-3570-47a8-add4-4a92bd90cca9 & chrX & + & 71443406 & 191 & 44 & 20240606\\_AL5RACE002 & TGTATATGTAACCCTACCTTGGAACCATACGTATTGCTGGGCAAGCAGTGGTATCAACGCAGAGTACATGGGACTTGGCATTTTTCTTTTTTTTTTTTTTTTAAATTAAAAACATTTTCTTGCTCTCGGTCTTTTTTTTTTTTTCCACATCAGATGTGGAAAAAAAATGTCCTGGCATTGTAATAAGGCTA                               & \\%\\&)\\&\\&\\&\\&')\\&\\&\\&'\\&\\&\\%\\%\\%\\&'\\%\\$\\#\\#\\#\\#\\#\\#\\#\\$\\%**,/126<<=@BGGEEMIHJKHGDAAA?@AABKJKIRMCBBBBBA???ACB@A@@51.,+--/568>IKMJDEDDEEDFGQJLJKIOKNLGEEEDCCCC?31/9027ABEHNGEF;;IEEDEDFEJGFGHGNMGFEFCC/.../9<==:977743210+(                               & 89S44M58S       &  5\\\\\n",
       "\t  0 & 08705693-dfb4-4499-93a9-aee631026474 & chrX & + & 71443406 & 207 & 44 & 20240606\\_AL5RACE002 & ATGTTTTCCCTGTACTTCATTAGTACGTATTGCTCTAATACGACTCACTATAGGGCAAGCAGTGGTATCAACGCAGAGTACCGTGGGACTTGGCATTTTTCTTTTTTTTTTTTTTTTAAATTAAAAACATTTTCTTGCTCTCGGTCTTTTTTTTTTCCAGCGATTAAGAAATGTGGAAAAAAAAATGTACTGGCATTGTAATAAGGT               & \\#\\#\\#\\#\\$\\$\\%\\&\\&'\\&),+,,.\\&\\$\\$\\$\\#\\%\\%\\%\\%\\&''+,,-44558;>?>>>?@;::::4222468888=<;=>::,++++////23010****,/,---.6?EFHKNB/-**)**++,03=@HN@>>=>CDEDKJIHIMQSNPBBKEEDEKPGIAAA7HLIJJ@@;9:3,,,,,++)(((*++,2278667<<<>>@@IIIHHEDD<;:221.*               & 104S44M59S      &  5\\\\\n",
       "\\end{tabular}\n"
      ],
      "text/markdown": [
       "\n",
       "A tibble: 921018 × 12\n",
       "\n",
       "| flag &lt;int&gt; | qname &lt;chr&gt; | rname &lt;fct&gt; | strand &lt;fct&gt; | pos &lt;int&gt; | qwidth &lt;int&gt; | qwidth_after_softclipping &lt;int&gt; | RG_tag &lt;chr&gt; | seq &lt;chr&gt; | qual &lt;chr&gt; | cigar &lt;chr&gt; | mapq &lt;int&gt; |\n",
       "|---|---|---|---|---|---|---|---|---|---|---|---|\n",
       "|  0 | b686d2a5-b586-4411-8af0-251ef2fb041f | chrX | + | 71442976 | 297 | 208 | 20240606_AL5RACE002 | TTTTTTTTTTTTTGTACTTCGTTCAGTTACGTATTGTTCTAATACGACTCACTATAGGGCAAGCAGTGGTATCAACGCAGAGGGAGAGGGAGAGGGAGAGGGAGAGGGAGAGGGAGAGGGGAGGGAGAGGGAGAGGGAGAGGGAGAGGGAGAGGGAGAGGGAGAGGGAGAGGGAGAGGGAGAGGGAGAGGGAGAGGGAGAGGGAGAGGGAGAGGGAGAGGGAGAGGGAGAGCTATTTCATTTTTTTTTTTTCCACATCAGATGTGGAAAAAGAATGTACTGGCATTGTAATAAGGCT                                                                                                                                                                                              | #####$$$$$$\"\"\"\"#$%((+/0/0//////22672*+)'')0@BBBAABDGFGD@A?AACDCEEFHFEFEEEFDCCCA&gt;;&lt;;DGHGHFEFGHJCECEGG@&lt;9&lt;;984+(*),*)*)))****&amp;&amp;&amp;,46894=@BA?=BDH@GDGHH&gt;:&gt;ADGECCDDEC::&gt;HECA@@CEA=9:&gt;E==8&gt;DFBA&gt;==B@AADFMCACHHHDFDFGIEC@ACFA@@ABFB=;9623328:=A@?@ACA&gt;&lt;;4&lt;:ALSSSJLGD99CEDDKGHIGC?8233/3'&amp;&amp;%++--012ABBABA@&gt;=753/-                                                                                                                                                                                              | 89S10M5D14M2I182M                                           | 19 |\n",
       "|  0 | d19dc28f-5c84-477e-bb3f-f535767cb666 | chrX | + | 71442976 | 348 | 271 | 20240606_AL5RACE002 | TTGTCCTGTACTTCGTTCAGTTACGTATTGCTCTAATACGACTCACTATAGGGCAAGCAGTGGTATCAACGCAGAGGGAGAGAGAGAGGGGGAGAGGGAGAGGGAGAGGGAGAGGGAGAGGGAGAGGGAGAGGGAGAGGGAGAGGTAGACCTACTTGGTTCAGTTGGTGTTCTAATACGACTCACTATAGGGCAAGCAGTGGTATCAACGCAGAGTGAGAGGGAGAGGGAGAGAGGGAGAGGGAGAGGGAGAGGGAGAGGGAGAGGGAGAGGGAGAGGGAGAGGGAGAGCTATTTCATTTTTTTTTTTCCACATCAGATGGAAAAAAAATGTACTGGCATTGTAATAA                                                                                                                                           | ####$$$&amp;)*++,,,24,,,,-4656676668;;98872/---+)))*+778ACBBBBBCDCA@@?==??;84335::894/,*))()*,0,-18477-B==&gt;&gt;&lt;BDGCAACEIGDDDHMDCDDEJEC@@@OB&gt;;&gt;==93,,,*(&amp;##$$%%%&amp;'++,./05533('''&amp;+''(,.454333333334=&lt;===GGIGGFHFAAAA@BCBBBFFFKHB:/.;:@?@A@4,+.,'&amp;+(-01&lt;&lt;9::::99835???@?CCD@@&gt;AB&gt;&lt;&lt;&gt;AED?EFJIGH@?FECD&gt;7:66669995......23321001800==11111,))0152**,--/07878:&lt;&gt;@==,++*(                                                                                                                                           | 77S10M2D1M1D17M3I37M64I1M1I17M2I67M1D21M2D30M               |  9 |\n",
       "| 16 | f4d6c430-3974-4d1e-b8e4-a6a6af3b90e8 | chrX | - | 71442976 | 221 | 134 | 20240606_AL5RACE002 | AATGTATTGCTCTAATACGACTCACTATAGGGCAAGCAGTGGTATCAACGCAGAGGGAGAGGGAGAGGGAGAGGGAGAGGGAGGAGAGGGAGAGGGAGAGGGAGAGGGAGAGGGAGAGGAGGCCATCATTTTCCCTTTTATCAGATGTGGAAAAAAATGTACTGCATTGTAATAAGGCTTGAGGGAGGCAGCATATGTACTGACTCAAGGTAAGAGGACAG                                                                                                                                                                                                                                                                          | (((*+993221247534425544889FEGIFLFHHFGFEJIGGHGGHIHJIIJFJCAAA59&lt;=;?@GDDJHFHFEDE8@8..&gt;&gt;@22=CADB/668BD=E?&lt;&gt;&gt;&gt;CB;9((*,,-('*('&amp;$$%%%&amp;&amp;')('()(&amp;%%&amp;225=&gt;BB..9=8,*))))),'''14565566&lt;=&lt;=&gt;==?==1157++*(('&amp;&amp;'%$$$#$$$$&amp;%%&amp;&amp;%%$$%$$%%$%$$#                                                                                                                                                                                                                                                                          | 56S10M5D51M73D4M1D4M2D14M5D11M1D13M1D27M31S                 |  1 |\n",
       "|  0 | c0c92636-b2dc-472d-a723-fad002f5892e | chrX | + | 71442977 | 219 |  79 | 20240606_AL5RACE002 | ATGTTTTATGTTAACCTACTAAACATAGTATTGCTCTAATACGACTCACTATAGGGCAAGCAGTGGTATCAACGCAGAGGGAGAGGGAGAGGGAGAGGGAGGAGAGGGAGAGGGAGAGGGAGAGGGAGAGGGAGAGGGAGAGGGAGAGGGAGAGCTATTTAGTTTTTTTTTTTCCACATCAATTAAAAAAAGAAAATGTACTGGCATTGTAATAAGGCT                                                                                                                                                                                                                                                                            | )))453.,01/.*('&amp;&amp;%%&amp;&amp;'()*,***,,3779&lt;=899DC&gt;====&gt;&gt;??@;::::JNFLDEDDCDCB1///----,-&lt;==DIHDA9&lt;:=&gt;@9IEFE7-4,*,5DEHFGJFGEFHGJLHHGHREGEFJJHGFHGJHFFEEC;434&gt;&lt;&lt;&lt;CGEDCCCDFD544434&lt;??CIG@1/++.-*))))''(,////../0.*('&amp;&amp;(-2;=???544489923                                                                                                                                                                                                                                                                            | 75S9M5D70M65S                                               |  1 |\n",
       "|  0 | 10c8bf21-6671-4835-bbdd-8bfcb545c823 | chrX | + | 71442991 | 270 | 191 | 20240606_AL5RACE002 | ACCTTTTTATGTAGTCTACTCATTCGTCGTCTTGCTCTAATACGACTCACTATAGGGCAAGCAGTGGTATCAACGCAGAGGGAGAGGGAGAGGGAGAGGGAGAGGGAAAGGGAGAGGGAGAGGGAGAGGGAGAGGGAGAGGGAGAGGGAGAGGGAGAGGGAGAGGGAGAGGGAGAGGGAGAGGGAGAGGGAGAGGGAGAGGGAGAGGGAGAGCTATTTTCGTTTTCCACATCAGATGTGGAAAAAAAATGTACTGGCATTGTAATAAGGC                                                                                                                                                                                                                         | #$%%%%)+('''%$%%%%%%%$$%%%%%%&amp;&amp;'''(&gt;BB@AADEEEDIIEFHDD21112FECCBBCECDCD64331242114201??CDCCEDC&gt;&gt;?&gt;&lt;;5+()('(''*)+.0689:5232311*+216=BCEE??@ABDEFFFFHBC&lt;@=&gt;6&lt;;::80,*),*))'''+--.1334415764'*-&lt;??BADBBE:8&gt;=&gt;&lt;851//.-+&amp;('''(((().22-)6=7./99)))))79988;&lt;DB@;887=&gt;&gt;&gt;ABBGLLGJ@??&gt;??&gt;7                                                                                                                                                                                                                         | 79S16M3I117M7D55M                                           | 12 |\n",
       "|  0 | 17bda126-a0d3-4207-a38e-cad865096260 | chrX | + | 71442991 | 269 | 194 | 20240606_AL5RACE002 | GTGTGTGCTTGGTTCAGATTACGTATTGCTCTAATACGACTCACTATAAGGGCAAGCAGTGGTATCAACGCAGAGGGAGAGGGAGAGGGAGAGGGAGAGGGAGAGGGAGAGGGGGAGGGAGAGGGAGAGGGAGAGGGAGAGGGAGAGGGAGAGGGAGAGGGAGAGGGAGAGGGAGAGGGAGAGGGAGAGGGAGAGGGAGAGCTATTTCATTTTTTTTTTTTTCCACATCAGATGTGGAAAAAAAATGTACTGGCATTGTAATAAGGCTG                                                                                                                                                                                                                          | ###$$####$$%&amp;(&amp;'''%&amp;&amp;''*+0479;@@BDCD?????DEEFEEEECACABDGFFJGDBBBB322223BBABEDGFGLD@=?BDCB?DEGFEDFEKA@@@AJBAAABI?@BABGFGDFEE@??@CGIA?7AGFDEDEFB?@ACE@&gt;&gt;?@GGD&gt;@EFDAAABH@=&gt;&gt;?J&gt;&gt;?&gt;?IA@A@AFAAAB@O?&gt;&gt;&gt;?G?===&gt;CBBCFHIFA&gt;?:@&gt;CHIJSSKKE=11DFCDCCDCDB@&gt;;&lt;&gt;@DBAA@ECDEGFGGGEHGBBA&gt;;;:44*                                                                                                                                                                                                                          | 74S13M3D122M1I58M1S                                         | 28 |\n",
       "|  0 | c514f2ff-bee5-4cdc-b763-8c0882bb555a | chrX | + | 71442991 | 221 | 198 | 20240606_AL5RACE002 | GGGGATGGAGTGGCTGGGGAGGAGGGAGGGGAGATGGAGGGGAGGGAAGGGACACTGGGAGACAGTGGTATCAACGCAGAGGGAGAGGGAGAGGGAGAGGGAGAGGGAGAGGGAGAGGGAGAGGGAGAGGGAGAGGGAGAGGGAGAGGGAGAGCTATTTCATTTTTTTTTTTTTTTCCACATCAGATGTGGAAAAAAAATGTACTGGCATTCTGATGAGGC                                                                                                                                                                                                                                                                          | ##$%(%%&amp;%%$##\"#$$$$%%%%$$$$$$&amp;'((&amp;&amp;%%$$$$$%&amp;%%$$$$&amp;%%$#$#%%&amp;&amp;&amp;%&amp;'(-----,,/00566779:4&gt;@@@@=?AECCBCCECB@BBJBA@C??@&gt;:=;::6100..118667546=?CEBDED=99:?@@@=?&gt;?AA&lt;;;;679:99:&gt;ACGHHIEC?&gt;=56?@@?????B@&gt;&lt;&lt;:872---.///.//1667*)&amp;&amp;&amp;&amp;&amp;&amp;&amp;'                                                                                                                                                                                                                                                                          | 23S5M1D19M1D7M2I6M2D8M2I89M3I57M                            | 18 |\n",
       "| 16 | 3635f172-3177-4af1-9c71-fde56643375d | chrX | - | 71442991 | 358 | 294 | 20240606_AL5RACE002 | CACCATAGGGCAAGCAGTGGTATCAACGCAGAGGGAGAGGGAGAGGGAGAGGGAGAGGGAGAGGGAGAGGGAGAGGGAGAGGGAGAGGGAGAGGGAGAGGGAGAGCTATTTCATTTTTTTTTTTCCACATCAGATGTGGAAAAAAAATGTACTGGCATTGTAATAAGGCTTGAGGGGAGGCAGCAATACGTAACTGAACGAGTAGATGAGAGAGAGAGGGAGAGGGAGAGGGAGAGGGAGAGGGAGAGGGAGAGCTATTTCATTTTTTTTTTTCCACATCAGATGTGGAAAAAAAATGTACTGGCATTGTAATAAGGCTTGAGGGATACATATGTAACTGAACCAAGTACAGGGACAT                                                                                                                                 | %&amp;&amp;&amp;78;&gt;@&gt;@DECEHBACCBCAABC&gt;==&lt;55,*)421566@A1C@@AB4:&gt;&gt;@@6ACBBC7FBA@A0657&lt;85676=&lt;49:960/497885==&lt;;104&gt;@A&gt;===&lt;9;:54;&lt;&lt;&gt;=&lt;;&lt;;89??HIRLGHGEFF@@IDGKJSDGEKFFGG??@@?BJGFFFEFFKHHEDCE+56&lt;//''''%&amp;&amp;%%%%(()),*''&amp;$$###%%$$$%%&amp;&amp;'(.3677690/231466;&gt;;7757&gt;&gt;&gt;=&lt;&gt;B&lt;;:075.(''''(,,,-/1112347;=4789;B955443BB))5?AADD&gt;@AABBSPISLGFGDEIIIGGKLHHF=&lt;1/++''&amp;%$%$$%%(000100/,)*'''+'&amp;''%&amp;%##                                                                                                                                 | 32S13M3D60M90I4M1I2M2I1M2I55M1D64M32S                       |  8 |\n",
       "| 16 | 03e3f937-826a-4f09-82bd-bf93686b0d63 | chrX | - | 71442991 | 364 | 282 | 20240606_AL5RACE002 | TACCATTGCTGAGACGACTCACTATAGGGCAAGCAGTGGTATCAACGCAGAGGGAGAGGGAGAGGGAGAGGAGAGGGAGAGGGAGAGGGAGAGGGAGAGGGAGAGGGAGAGGGAGAGGGAGAGCTATTTCATTTTTTTTTTTTTTTCCACATCAGATGTGGAAAAAAAGCAATACGTAACTGAACGAAGTAGGAGAGAGAAGCAGTGGTATCAACGCAGAGTACATGGGGGAGAGGGAGAGGAGAGGAGAGCTATTTCATTTTTTTTTTTTTTTTTCCACATCAGATGTGGAAAAAAAATGTACTGGCATTGTAATAAGGCTTGAGGGAGGCAGCAATACGTAACTGAACGAAGTAGAGGACAC                                                                                                                           | &amp;('),+'(''&amp;''))''&amp;''111@&gt;99989@A@A@&lt;9510111===MJHJIILKGFDIDCFE9@A&gt;=)(29==&lt;B@&gt;?))-88&gt;?:@&gt;;:..2@@CD;==&lt;???CB@AA2CB@BA&gt;DD?&lt;;&lt;==&gt;;875454113975558&lt;A?=;;&lt;?@===&gt;&gt;AA66?;@@&gt;=776679955555&lt;=@@762)'&amp;%$####$#$%''++**-*(('(/--000&lt;9989:&gt;?&gt;=:88114&lt;=69522*(,+7*).BDJEHDF=&lt;&lt;&lt;33339KGFEHJSOKCHSGGIKPOFGGGFEGDEHHG::99&gt;&lt;;;&lt;&gt;HEDFDDHED?&gt;&gt;&gt;&gt;LKIJIEEF6GF:94440//0/,,,..9:&lt;&lt;==1/,,)('((''%%$##                                                                                                                           | 51S14M2I56M68I9M2I3M1I2M4I1M1D7M1D8M3D12M1D5M1D14M5I69M31S  | 33 |\n",
       "| 16 | 44c16572-3fc1-491e-bf19-45762f8c662e | chrX | - | 71442991 | 347 | 259 | 20240606_AL5RACE002 | CCTATTGCTCTAATACGACTCACTATAGGGCAAGCAGTGGTATCAACGCAGAGGGAGAGGGAGAGGGGAGAGGGAGAGGGAGAGGGAGAGGGAGAGGGAGAGGGAGAGGGAGAGGGAGGGAGAGCTATTTCATTTTTTTTTTTCCACATCAGATGTGGAAACTAATACGACTCACTATAGGGCAGCAGTGGATCCACGAGAGTACATGGGGGAGAGGGAGAGGGAGAGGGAGAGCTATTTCATTTTTTTTTTTTTTCCACATCAGATGTGGAAAAAAAATGTACTGGCATTGTAATAAGGCTTGAGGGAGGGAGCAAGACGACTGGTTCGAAGCAGGTCAGACATAT                                                                                                                                            | &amp;)/9&lt;;;::;FGEEGFJJOSIFNHMMCJOKQKSOKSKIGFEGFJHSJIGFFEGFEED6@&lt;444,/3/,-,46;==6006378);;:?&gt;98108969&gt;=&gt;@01?@D&lt;:?CAC@1B*.67:COJKHJHGHGHDFFFF@@BAFHECGDA&lt;&lt;&lt;=AFKIHJNLKRMSMPNJNSMOJGDFFCCA33333A&gt;&gt;&gt;))(%%%%%)(''''()7779;&gt;;88CE@JG@@?=BCBBB9BBCKKLIJSGBBAAMOSSSSSSIKCHBDAB&lt;&gt;@98899BC10FDCIMNDE????@=&gt;?CG866667EPFJSNQHJ@//7;..//0+**,%$###%####%&amp;'&amp;&amp;%$$$%$$$'&amp;**)&amp;&amp;&amp;                                                                                                                                            | 52S14M2D49M2D9M55I5M1D7M6I4M1D8M3D33M2I67M36S               | 30 |\n",
       "| 16 | ae20cb84-27f4-4f42-acd3-696fba3a247f | chrX | - | 71442991 | 300 | 211 | 20240606_AL5RACE002 | TACGCATTGAAATACGACTCACTATAGGGCAAGCAGTGGTATCAACGCAGAGGGAGAGGGAGAGGGAGAGGGAGAGGGAGAGGGAGAGGGAGAGGGAGAGGGAGAGGAGAGGGAGAGGGAGAGGGAGAGGGAGAGGGAGAGGGAGAGGGAGAGGGAGAGGGAGAGGGAGAGGGAGAGGGAGAGCTATTTCATTTTTTTTTTTTTTCCACATCAGATGTGGAAAAAAAATGTACTGGCATTGTAATAAGGCTTGAGGGAGGCAGCAATACGTAACTGAACGAAGTAGAGGAAACAAAACAT                                                                                                                                                                                           | %&amp;&amp;''&amp;$$$$$$$%%)99::A@@77DFEGGLLHFCBBCCICCD@@???A@?C&gt;&lt;==&lt;HA&gt;&gt;106?@@@8AB@A@)103?@=@D@?4.9:45127BBD@=&gt;&gt;&gt;A//6BD&gt;:CB?B@;&gt;B&gt;?405229:/2/0&gt;@:=@=?@&gt;EBAAB@CAAAB,,,0@&lt;&lt;AECG76;C@??.:45843;?=910000----/56&lt;GNGBACE:==&gt;ESLMKMRHIIHH&gt;&gt;FLKJKSA@;;77770/1/.-,,,-522344&gt;=,,,+378@;8863312244;&lt;BBDB;:8-++('&amp;%&amp;&amp;&amp;$%%$'((('%$$                                                                                                                                                                                           | 51S16M3I35M1D86M2I69M38S                                    | 38 |\n",
       "|  0 | 0f742f0c-889f-4285-95d0-e766c629a28a | chrX | + | 71442993 | 446 | 194 | 20240606_AL5RACE002 | ATGACTTACTTGGTTCAGTTGAGTATTGCTCTAATACAAGTCGCTATAGGGCAAGCAGTGGTACTAAACACAGAGGGAGAGGGAGAGGGAGAGAGAGAGAGAGAGAGAGAGAGAGAGAGAGAGAGAGTGTGTGTGTGTGTGTGTGTGTGTGTGTGTGTGTGTGTGTGTGTGTGTGTGTGTGTGTGTGTGTGTGTGTGTGTGTGTGTGTGTGTGTGTGTGAGAGAGAGAGAGAGAGAGAGAGAGAGAGAGAGAGAGAGAGAGAGAGAGAGAGAGAGAGAGAGAGAGAGAGAGAGAGAGAGAGAGAGAGAGAGAGAGAGAGAGAGAGAGGGAGAGGGAGAGGGAGAGGGAGAGGGAGAGGGAGAGGGAGAGGGAGAGGGAGAGCTATTTCATTTTTTTTTTTCCACATCAGATGTGGAAAAAAAATGTACTGGCATTGTAATAAGGCT                                         | #$##\"\"##$'(')**+--,+'%&amp;&amp;&amp;(1001,++,-*)('%%%%&amp;++,+++(%&amp;&amp;&amp;&amp;(((''&amp;&amp;%$$$$)+-,-.39;;&lt;;:72*(('''&amp;'&amp;&amp;%&amp;'****+*,-/1111000/..-,*)((&amp;&amp;%%%%##'/022345555778999:9:9::::9999888889998988888877765666777766554444444443333220/....--,,+**)&amp;$',,--./1122333355666666666555566677777676766666766666554555555554432210//001122222213444555555555555555440*()*0:&lt;=:98741**.897/831.768=FBC@@&gt;BB==ACDE;&lt;8&gt;&lt;&gt;&gt;:=A???777741114;;@@KMPN8:0000,*(''(+**+/3699;===@@CDFGFDFGGHFGEBB?&gt;87                                         | 252S15M1I121M1D57M                                          | 14 |\n",
       "|  0 | dffad2c5-c6eb-451d-8818-4729bdb39d20 | chrX | + | 71442993 | 399 | 198 | 20240606_AL5RACE002 | ATAATTTATTGGTTCAGTTAGGTATTGTTTGAATACGACTCGCTATAGGGCAAGCAGATATAAACGCAAGTGAGAGAGAGAGAGAGAGAGAGAGAGAGAGAGAGAGAGAGAGAGAGAGAGAGAGAGAGAGAGAGAGAGAGAGAGAGAGAGAGAGAGAGAGAGAGAGAGAGAGAGAGAGAGAGAGAGAGAGAGAGAGAGAGAGAGAGAGAGAGAGAGAGAGAGAGAGAGAGAGAGAGAGAGAGAGAGAGAGAGAGAGAGAGAGAGAGAGGGAGAGGGAGAGGGGGAGGGAGAGGAAAGGAGAGGGAGAGGGAGAGGGAGAGGGAGAGGGAGAGCTATTTCATTTTTTTTTTTTTCCACATCAGATGTGGAAAAAAAAATGTACTGGCATTGTAATAAGCT                                                                                        | %&amp;$$$$%%#$##()))('(&amp;&amp;''&amp;&amp;'&amp;&amp;''%$$$%++++,-(((*-0///-./.-*('%$$#$&amp;&amp;'**(()),,-+'2053655645343434363434341/0/////00//./000120032300/115388:9&lt;&lt;?&gt;@&gt;?&gt;?&lt;64=7978787878689::;;;:995./05../34666664867898:9&lt;;==?@CACDDDCCDCBB@@@@@=3012212241137788:::999978777999999887441211122333/))*+,,,+*)(&amp;''())*(&amp;%%&amp;%&amp;%&amp;'&amp;((),,/1-38A?&lt;;8&lt;=@=&lt;?;;&lt;743769;:&lt;:99987553455565&lt;==&gt;?&gt;&gt;&gt;89217767888532/+,-320.-.--/022334EFEA@..-)*(&amp;%                                                                                        | 199S15M1I77M4I44M1I27M1I28M2S                               | 10 |\n",
       "|  0 | 0e4c523d-13fd-4afd-b039-119e2417f4b5 | chrX | + | 71442993 | 305 | 163 | 20240606_AL5RACE002 | ATATGTAGCATCTACTCGTTTCAGTTACGTATTGCTCTAATACGACTCACTATGGGCGAGCAGTGGTATCAACGCAGAGTGAGAGAGAGAGAGAGAGAGAGAGAGAGAGAGAGAGAGAGAGAGAGAGAGAGAGAGAGAGAGAGAGAGAGAGAGAGAGAGAGAGAGAGAGAGAGAGGGAGAGGGAGAGGGAGAGGGAGAGGGAGAGGGGGAGGGAGAGGGAGAGGGAGAGGGAGAGGGAGAGCTATTTCATTTTTTTTTTCCACATCAGATGTGGATAATAAGGCTGAGGGAGCAAGCAATACGTT                                                                                                                                                                                      | $%$%%&amp;$$#$$$&amp;'''%%'))&amp;&amp;'''(''''((((9;;:==FD;::::::::;...-322112665556312+,20+)*)((&amp;&amp;*+./6490*78;;=&lt;&lt;:;89788===&gt;?@BBDDDDCEDDCDFDDECEDDDFEFCCCDCCBBCBBBBBA@?A@AABABBBBBBCCCCB:87?;;&lt;=&gt;@&lt;8664261.3;;&lt;&gt;?FHFBBCEEPBADCEGFFCEHHGACEGOIEIHFSFJBIOPHGEFDJLJGHCC@@BDFBAGFHQD=A))996666673)$####$&amp;,,,-2***--*/+)&amp;&amp;&amp;&amp;(('%%$#                                                                                                                                                                                      | 112S15M1I121M2D26M30S                                       |  1 |\n",
       "|  0 | 81a25f73-6e27-4982-97f3-f8f378b5c9e0 | chrX | + | 71442993 | 315 | 204 | 20240606_AL5RACE002 | ATGTGCATCTACTCGTTCAGTTCAGTATTGTTCTAATACGACTCACTATAGGGCAAGCAGTGGTATGGAGAGAGAGAGAGAGAGAGAGAGAGAGAGAGAGAGAGAGAGAGAGAGAGAGAGAGAGAGAGAGAGAGAGAGAGAGAGAGAGAGAGAGAGGGAGAGGGAGAGGGAGAGGGAGAGGGAGAGGGAGAGGGAGAGGGAGAGGGAGAGGGAGAGGAAGGGAGAGCTATTTCATTTTTTTTTTTCCACATCAGATGTGGAAAAAAAAATGTACTGGCATTGTAATAAGGCTTGAGGGAGGCAGCAATACGTGGT                                                                                                                                                                            | ''()((%%%&amp;&amp;)*.-.0.00/0&amp;&amp;((((7922222&gt;?ECBBBCD&gt;&gt;&gt;&gt;?KGFHFFJPKGFKC?&gt;;8&amp;&amp;&amp;%%'(-./2266&gt;&gt;CBFHOLJNLQOPRSSRSMSRNNKHHEECCBCCCCCCDCCA?&gt;===&gt;&gt;??@@@@@@ABBCCCDEFFEGEGHGA;BECBDBA@&gt;&gt;?BGEB@@CEGEDEEHD@@CHHCECFGIHHFGKIHCDEHIC;9&gt;2/00))))*'(())89AAACCCAD@868&lt;DGIKLJIMMS@@IIHECBDCH@BCCDFA=&lt;:656:;@?DEFDDBDFFHMGGGGJK&gt;;;&lt;;CA@?&gt;&gt;&gt;@@AA?&lt;20)'&amp;                                                                                                                                                                            | 99S15M1I100M1D3M1D16M1D26M1I42M12S                          | 25 |\n",
       "|  0 | 995ef14f-64ab-4d30-a14c-370f36ff2c22 | chrX | + | 71442993 | 486 | 196 | 20240606_AL5RACE002 | GTGCATGTACTTCGTTCAGTTACGTATTGCTCTAATACGACTCACTATAGGGCAAGCAGTGGTATCAACGCAGAGTGGAGAGAGAGAGAGAGAGAGAGAGAGAGAGAGAGAGAGAGAGAGAGAGAGAGAGAGAGAGAGAGAGAGAGAGAGAGAGAGAGAGAGAGAGAGAGAGAGAGAGAGAGAGAGAGAGAGAGAGAGAGAGAGAGAGAGAGAGAGAGAGAGAGAGAGAGAGAGAGAGAGAGAGAGAGAGAGAGAGAGAGAGAGAGAGAGAGAGAGAGAGAGAGAGAGAGAGAGAGAGAGAGAGAGAGAGAGAGAGAGAGAGAGAGAGAGGAGAGAGAGAGAGAGAGAGAGAGAGAGAGGGAGAGGGAGAGGGAGAGGGAGAGGGAGAGGGAGAGGGAGAGGGAGAGGGAGAGGGAGAGCTATTTCATTTTTTTTTTTTCCACATCAGATGTGGAAAAAAAATGTACTGGCATTGTAATAAGGCTA | $'&amp;&amp;$%%&amp;&amp;('(%&amp;'0//...+++++000009:9:&lt;&gt;A????@CDGEEEECDEBCEEDFFFCCCDCDDCAA&gt;87564)(()2.002266;;??ABCCCCCAB@?&lt;=&lt;=&lt;&gt;&gt;?@ABBA@@@A@@@??&gt;&lt;;:&lt;=@@AABBBBABBBBBCCCCCCBBAAACAAAABAA?A=&gt;:&gt;&gt;@@A@BBBBCDDDDEDDDDCDCDDDDCDDDFEEDFDEDEEFFDEDCAA@AAAAAABBBBAAB@@&gt;?&gt;?&gt;??@?@?@&gt;?&gt;??@BBCCCCCCBABACACBDDDEEFEFDCBBAABA?&gt;?@@BACCCCCDDDCEDFFHFFEDFEDEEEEDEEEDECDBAAABGGGGGHFGFFEEEEFHHIHHGGFEDCCC346/49;&lt;73/---/7*((((79&lt;=&gt;?3?&gt;?CB?BA@??;&lt;;:&lt;78?DCCCBDC&lt;&lt;==AACA@&gt;??;757466;?CCHOKHFA77EGD????@A&gt;;:;&lt;@@&gt;&gt;BABCBEDEGFGEGHFGGFD@&gt;&lt;51' | 289S15M1I23M1I156M1S                                        | 13 |\n",
       "|  0 | 1d147ff3-e866-4a78-bd6c-c4a9d5294a03 | chrX | + | 71442993 | 320 | 205 | 20240606_AL5RACE002 | ATGTTTATGTCTAGTGACACAACCAGAGTTTACGTATTGCTCTAATAGACTCTCGCTATCAGGCAAGCAGTGGTATCAACGCAGAGTGAGGCATTGTAATAAGGCTGAGAGGGAGAGGGAGAGGGAGAGGGAGAGGGAGAGGGAGAGGGAGAGGGAGAGGGAGAGGGAGAGGGAGAAGGAGAAGGAGGAGGAGGAGAAGGAGGGAGAGGGAGAGGGAGAGGGAGAGGGAGAGCTATTTCATTTTTTTTTTTTCCCACATCAGATGTGGAAAAAAAAATGTACTGGCATTGTAATAAGGCTTGAGGGAGGCAGCAAATGGT                                                                                                                                                                       | $$$&amp;()&amp;'&amp;&amp;%%$$###$%%&amp;&amp;&amp;')((('''%&amp;$%%(---00//23.((((('''(((0******;;;99841000/00338&lt;:&lt;&lt;=&gt;973.--222111199978**)),/53;&lt;;==;?A@&gt;6,&lt;&lt;=BA&lt;@GHJNEFLICDBFFHEB@B=:;4/31+**5=A@BCEIFHEA@;D@@A:DFEBA@HHLGEDFDABACA52102*+89;&gt;ADOGJGCC@:&gt;/.-11248&lt;ABCDBCDDDIE?@GAJJIKSJFDC7)*CCDGDCIHSCB@BCIECDHSGFFEFHIGKKLE00000&lt;CEEFGJCBABA@AD&gt;;:::&lt;AA@A?                                                                                                                                                                       | 106S11M3D69M1I3M2I7M2D53M1I15M1I42M9S                       | 41 |\n",
       "|  0 | 9760892d-25fd-4258-9ff6-9e809a728cf2 | chrX | + | 71442993 | 483 | 191 | 20240606_AL5RACE002 | TTTATGTATACCTCGTTCGTCAGTTTATTGCTCTAATACAACTAGCTATAGGGCAAGCAGTGAGTGACAGAAGTGAGAGAGAGAGAGAGAGAGAGAGAGAGAGAGAGAGAGAGAGAGAGAGAGAGAGAGAGAGAGAGAGAGAGAGAGAGAGAGAGAGAGAGAGAGAGAGAGAGAGAGAGAGAGAGAGAGAGAGAGAGAGAGAGAGAGAGAGAGAGAGAGAGAGAGAGAGAGAGAGAGAGAGAGAGAGAGAGAGAGAGAGAGAGAGAGAGAGAGAGAGAGAGAGAGAGAGAGAGAGAGAGAGAGAGAGAGAGAGAGAGAGAGAGAGAGAGAGAGAGAGAGAGAGAGAGAGAGAGAGAGAGAGGGAGAGGAAGGGAGAGACAGACAGAGCGGGGAGAGGGAGAGGGAGAGGGAGAGGGAGAGCTATTTCATTTTTTTTTTTCCACATCAGATGTGGAAAAAAAATGTACTGGCATTGTAATAAGG    | '())***)*('''%%%%$$%##$$$%&amp;').-//./03&lt;95555((((((100155666544,+***++*))'&amp;'(--..099&lt;&lt;??=&gt;;&lt;9:9;899&gt;&gt;A@@?@&gt;?;&lt;457&lt;&lt;==@@BBCBBBCCEDEFFEFDEDDBBBCCDEBCBBBDDDECCECGEEECCBB???@?=&gt;&lt;=;&lt;;;4124:898::??AABCBBDDCCBA@?@@BACBCBCABBACBCCCDED@@???&gt;?&gt;&gt;;&lt;9;8866444-+,,07:;=&gt;&gt;?@@@A@@A@BABBBABAAA@A@???@??==&lt;=&lt;:79:==&gt;&gt;?&gt;??&gt;&gt;&lt;&lt;9976,*+0489:=??@@A@AAAABBAABBBBBBDCDCDDDCBA@???@@@????&gt;&gt;6,0/0/.-'&amp;%%&amp;&amp;&amp;&amp;%$$$$$%$$$$%#$$%)/13265&lt;&gt;?&gt;=987772655443.137&lt;;889;;AA=&gt;B@JJKJSSME??CH;:::;;=/...///----,,&amp;%$$$$%%&amp;%%%)(%%%&amp;    | 292S15M1I58M1D3M1D18M1I40M1D55M                             |  8 |\n",
       "|  0 | 510ffdec-f3a8-40f2-a5df-4e7db93d1f46 | chrX | + | 71442994 | 291 | 207 | 20240606_AL5RACE002 | TGTGTGTAGCTTACTTCGTTCAGTTACGTATTTGTGATTCAACTAGCTATAGGGCAAGCAGTGGTATCAACGCAGAGTGAGAGAGAGAGAGAGAGAGAGAGAGAGAGAGAGAGAGAGAGAGAGAGAGAGAGAGAGAGAGAGGGAGAGGGAGAGGGAGAGGGAGAGGGAGAGGGAGAGGGGAGAGGGAGAGGGAGAGGGAGAGCTATTTCATTTTTTTTTTTTTCCACATCAGATGTGGAAAAAAAATGTACTGGCATTGTAATAAGGCTTGAGGGAGGCAGCAATACATAA                                                                                                                                                                                                    | ####\"\"\"##\"###%(-,./2./...1113111,&amp;'&amp;%%&amp;%$$%''+++++,,,=&gt;ACBA&lt;;;&lt;=ECFDEDFDEHGKGF=::9?3=9EAHEJGIGIEDBCEIIIIHIFFEGEFFGFGGFDDDDDEFFGGGCB&gt;&gt;=?==:;7.9:6877610,,,,2,&gt;?@@ACDGGECACCEEDCCGCB@3:&lt;:9;4-08::98875458CEDDEHGGFDCA9;&gt;9=BHSSSSJJHAAFHFEGKHGJ&gt;=&lt;=&gt;&gt;;6578:;::::;=LGIFJFGFEGFEDGIEFHGFEDFDDEC@&gt;=;9,+'&amp;                                                                                                                                                                                                    | 73S14M1I88M1I33M1I69M11S                                    | 38 |\n",
       "|  0 | 0ddeae47-3376-45aa-962a-ecdab142188f | chrX | + | 71442994 | 262 | 191 | 20240606_AL5RACE002 | TCTGTTAGCCCCTGGACCGTTGGTCTTGCTCTAATACGACTCACTATAGGGCAAGCAGTGGTATCAACGCAGAGGGAGAGGGAGAGGGAGAGGGAGAGGGAGAGGGAGAGGGAGAGGGAGAGGGAGAGGGAGAGGGAGAGGGAGAGGGAGAGGGAGAGGGAGAGGGAGAGGGAGAGGGAGAGGGAGAGGGAGAGCTATTTCATTTTTTTTTTTTTCCCACATCAGATGTGGAAAAAAAAATGTACTGGCATTGTAATAAGGT                                                                                                                                                                                                                                 | &amp;%%%&amp;&amp;%$$$%$%$%%%%%''&amp;&amp;&amp;%%%%(1???ABGGFFHHLJHKKGCDCCECBCBBFED=655,,,,+,+)()5859&lt;A@@@BIJHGGHKJFGAEHNHFDLGHF@&gt;&gt;GE@9;&lt;=&gt;?&gt;&lt;&gt;?&lt;&lt;9778778&gt;BCCCA3EFFFECEMGGFJISPOHFHIGFFCGMKKGBJNLSMIJIIE?AAFEA735&gt;?BCEHFFFFCCCC&gt;&lt;&lt;77&lt;:=@ABFJSA@9.&amp;*;&lt;;&gt;&gt;&gt;&gt;BD@&lt;::&lt;GHDD@AAADDFEHJHKIGGD@@?&lt;874,                                                                                                                                                                                                                                 | 70S10M3D134M2I15M1I29M1S                                    | 12 |\n",
       "|  0 | 40f7db95-cf4b-4801-8a01-2a8fd7b1e16c | chrX | + | 71442994 | 237 | 170 | 20240606_AL5RACE002 | GTGCCTGTACTCGTTCAGTTACGTATTGTAATTTGACTCGCTGTCGGGCAAGCAGTGGTATCAACGCAGAGTGAGAGGGAGAGGGAGAGGGAGAGGGAGAGGGAGAGGGAGAGGGAGAGGGAGAGGGAGAGGGAGAGGGAGAGGGAGAGGGAGAGGGAGAGGGAGAGGGAGAGGGAGAGGGAGAGGGAGAGCTATTTCATTTTTTTTTTTTCCACATCAGATGTGAAAAAGAAAATG                                                                                                                                                                                                                                                          | ##$$$$$&amp;&amp;''%%%&amp;&amp;())*((**)*+*('''(&amp;$##$+++,./.---.8&gt;&gt;&gt;:::9&lt;=;;66662222111287689645667659;:&gt;&gt;5CBBBB?BDCFEBFHIGGEFLHGHFGHMHKIHISJBDEIPKJHGGJJLFHJNDDDDFJGECDIHE?;??EFDCFDCFFBHHEFCBDFOEFDFHLHGFGHJGG@@?&gt;/////324679&lt;?B&gt;;2366.,,,../-'''+)5'()33-                                                                                                                                                                                                                                                          | 67S10M3D153M1I6M                                            |  3 |\n",
       "|  0 | 3e6440ca-0b78-4bf1-8746-62b42c8bcf08 | chrX | + | 71442994 | 255 | 190 | 20240606_AL5RACE002 | ATGTATTCATTCATGCCGTCTTGCTCTAATACGACTCACTATAGGGCAAGCAGTGGTATCAACGCAGAGGGAGAGGGAGAGGGAGAGGGAGAGGGAGAGGGAGAGGGAGAGGGAGAGGGAGAGGGAGAGGGAGAGGGAGAGGGAGAGGGAGAGGGAGAGGGAGAGGGAGAGGGAGAGGGAGAGGGAGAGCTATTTCATTTTTTTTTTTCCCACATCAGATGTGGAAAAAAAATGTACTGGCATTGTAATAAGGCT                                                                                                                                                                                                                                        | %&amp;&amp;*$####$$$$$((((()-...489;&gt;&gt;HLGHFNEFDGCC:99::AHDEBDDHKLJMLJIJD@::88;4.9?@FC=BA&gt;B?&gt;FIGEDBCHJF;&lt;98//0/399=?&gt;CFCEB?B&lt;9;:1;988836==&gt;;98620/,+++.-*5?&gt;?&gt;;@CEE@@&lt;IJKKCEEAJDEHMKIA@BGNLFBF?;&lt;@CDGJJIHGHGE@??&lt;7689&lt;GKAC;9**DLDDHFGGODCCGIJKECB?98899=ADGKIDDA@;999887                                                                                                                                                                                                                                        | 65S10M3D180M                                                | 23 |\n",
       "| 16 | 4d395886-d224-4c73-84a3-53f22baa188e | chrX | - | 71442994 | 244 | 209 | 20240606_AL5RACE002 | AGAGGGAGAGGGAGAGGGAGAGGGAGAGGGAGAGGGAGAGGGAGAGGGAGAGGGAGAGGGAGAGGGAGAGAGGGAGAGGGAGAGGGAGAGGGAGAGGGAGAGGGAGAGGGAGAGGGAGAGGGAGAGGGAGAGCTATTTCATTTTTTTTTTTTCCACATCAGATGTGGAAAAAAACTAGCTGCATTTTGGTAGAAGGCTTGAGGGAGGCAGCAATAGGAATCTTAGCTAAGGTAGGACATAACAT                                                                                                                                                                                                                                                   | '*036451,,2-210//07203&lt;;:;+8986985++2445:9;&lt;8&gt;548:;@;9;&lt;4;66891476*,38&lt;?=;&lt;;9=;455466443553/6744657866568927757996449*).33:94,+***//12*--,,68;:30/064/.+**..)((()/3::;8741)&amp;&amp;''())*+10)-&amp;&amp;&amp;'))))&lt;&lt;;;8**),/4020000////)('&amp;''()+&amp;&amp;&amp;&amp;&amp;&amp;%%%%%%&amp;''&amp;&amp;+,'''                                                                                                                                                                                                                                                   | 13M3I49M2I109M1I1M2D2M1D5M3I2M1D19M35S                      | 13 |\n",
       "| 16 | 43462524-974d-463b-839e-2e9aa427bbd8 | chrX | - | 71442994 | 330 | 267 | 20240606_AL5RACE002 | AATGATAGGGCAAGCAGTGGTATCAACGCAGAGGGAGAGGAGAGGAGAGGAGAGGGAGAGGAGAGGGAGAGGGAGAGGGAGAGGGAGAGGGAGAGGGAGAGCTATTTTCTTTTACATCAGATGTGGAAAATGATCTGGCATTGTAATAAGGCTTGAGGGAGGCAGCAATACGCAACTGAACCAGGTCAAAGGAGGGGATTAGGAGAGGGAGAGCTATTTCATTCTTTTTTTTTTTTTTTCCACATCAGATGTGGGAAAAAAATGTACTGGCATTGTAATAAGGCTTGAGGGAGGCAGCAATACGTAACTGAACGAAGTAGGTTACAACAA                                                                                                                                                             | $$%&amp;,-*)***453:B;9999:99&gt;@?EIDECDAB?((657+*4:&gt;??CDEC-9@&gt;@87=&lt;&gt;328&gt;=&gt;('***5646:97658??@@-A=;&lt;*)/;&lt;643333/2-,+-'&amp;&amp;&amp;;9999&lt;=&gt;=AAC&gt;?7522238+*:3311112&gt;?&gt;DFDCCCDA@C@876-.,,/0+**)+,/0121)''&amp;###$%&amp;$$%&amp;&amp;($#$$%&amp;*/77649&lt;=&gt;&gt;BBBB8774****79:;;;&lt;;;:83&lt;;&gt;&gt;CGSGFFDEDGD.-3;7710001//14=&lt;&lt;?33333CCEDCDEEEGGF:9&gt;&gt;=A66666&gt;==&lt;&gt;=&lt;;:::6--+(()&amp;$$#####$####$#                                                                                                                                                             | 29S11M1I7M1D11M1D42M48I2M1D1M3I6M2I9M5I2M2I13M1D27M6I69M34S |  9 |\n",
       "|  0 | bfcbf9f7-2047-435a-b0da-7ef14a407324 | chrX | + | 71442998 | 202 | 193 | 20240606_AL5RACE002 | AGGCTGGAGAGAGAGAGAGAGAGAGAGAGAGAGAGAGGGAAGCGGTGGTATCAACGCAGAGTGAGAGGGAGAGGGAGAGGGAGAGGGAGAGGGAGAGGGAGAGGGAGAGGGAGAGGGAGAGGGAGAGGGAGAGCTATTTCATTTTTTTTTTTTTCCACATCAGATGTGGAAAAAAAATGTACTGGCATTGTGATAAGGGCTT                                                                                                                                                                                                                                                                                             | \"##\"\"\"########\"\"\"\"##$##$%$$$$$$$$$$$%$$$%%%%%$%%'++***+,.11122497666&lt;&lt;=&gt;E????@F@????H@??@AF&lt;&lt;&lt;&lt;&gt;GA@@@@D@&gt;&gt;?AHBAAACHEB@BBABA=?AF?=&lt;&lt;&lt;@&gt;=552/--./0/014677&lt;&gt;==;778869899:822221,+)),.//078;&lt;?A??==,,,,,562-/3                                                                                                                                                                                                                                                                                             | 5S9M1D26M1D2M1I4M6I88M1I56M4S                               | 19 |\n",
       "|  0 | 87fc901d-b39a-449c-92bb-ca5f66e357c3 | chrX | + | 71442998 | 279 | 197 | 20240606_AL5RACE002 | GTGTAGCCCCTCGACTAGTACGTATTGCTCTAATACGACTCACTATAGGGCAAGCAGTGGTATAGAGACAGGAAGGAGAGAGAGAGAGAGAGAGAGAGAGAGAGAGAGAGAGAGAGAGAGAGAGGGAGAGGGAGAGGGAGAGGGAGAGGGAGAGGGAGAGGGAGAGGGAGAGGGAAGGGAGAGGGAAGGGAGAGCTATTTCATTTTTTTTTTTCCACATCAGATGTGGAAAAAAAAATGTACTGGCATTGTAATAAGGCTTGAGGGAGGCAGCAATTGA                                                                                                                                                                                                                | #$$''''''''%%&amp;%&amp;%%%%&amp;&amp;***1225=&lt;;&gt;@BDA@AA@?&gt;&gt;=&lt;0/.($%%%%*-...//.+'&amp;&amp;&amp;)('''&amp;&amp;&amp;&amp;'(458;;&lt;&lt;==&gt;&gt;??@AABBDCCBCCBA@A@B@@?????&gt;???72/1.,)*'&amp;')(-,*./-4899:&lt;@CFF&lt;&lt;==&lt;:5/2&lt;;=&gt;?@A?&lt;4/165754''++,-,()(()(()(*/110/0587;;&lt;9&lt;;CDFKRKF9./CFA?=&lt;&lt;&lt;&gt;C&gt;=;&lt;HGCCC@7776;:::BHSNFG@&gt;&gt;&gt;&gt;:::@&gt;11020+1,''(('(((''                                                                                                                                                                                                                | 74S9M1D92M1D11M1D16M1D26M1I42M8S                            | 32 |\n",
       "|  0 | f7a08879-f311-48f3-ba8f-a6d8262a7a63 | chrX | + | 71442999 | 262 | 185 | 20240606_AL5RACE002 | ATATTTTTTTTTTACTCGTTGAGTTTACGTATTGCTCTAATACGACTCACTATAGGGCAAGCAGTGGTATCAACGCAGAGAGAGAGAGAGAGAGAGAGAGAGAGAGAGAGAGAGAGAGAGAGAGAGAGGGAGAGGGAGAGGGAGAGGGAGAGGGAGGGGGAGAGGGAGAGGGAGAAGGAGAGGGAGAGGGAGAGGGAGAGCTATTTCATTTTTTTTTTTACATCAGATGTGGAAAAAAAATGTACTGGCATTGTAATAAGGC                                                                                                                                                                                                                                 | ##$%%&amp;&amp;&amp;&amp;'&amp;#\"\"\"###$%%%&amp;&amp;'(&amp;&amp;()(**+-799889;=&gt;&gt;&gt;=8&lt;=&gt;&gt;&gt;11112CLEHAAAABE@@5555541,*)'$+*-,---..14343457788::::7-+,+,+,+.13331131442488;&gt;ACB@?AAA?5/163457;ACD?&gt;&gt;856430.,-.--,++,*('&amp;&amp;&amp;&amp;%')*,*+/56657767739BDCBBACFD&gt;:6474568EF@/,))),4566665234:52289&lt;@@ABCEFEGEBBA@AAABCA                                                                                                                                                                                                                                 | 77S9M1I132M3D43M                                            | 17 |\n",
       "|  0 | 557f51a0-8ea8-4d7e-a6e3-917a0c172a53 | chrX | + | 71443000 | 261 | 184 | 20240606_AL5RACE002 | CTGTCTACGTCTACACTCGTTCGTGCGTATTGCTCTAATACGACTCACTATGGCAAGGGCTGCAGTGGTATCAACGCAGAGAGAGAGAGAGAGAGAGAGAGAGAGAGAGAGAGAGAGAGAGAGAGAGAGAGAGGGAGAGGGAGAGGGAGAGGGAGAGGGAGAGGGAGAGGGAGAGGGAGAGGGAGAGGGAGAGGGAGAGCTATTTCATTTTTTTTTTCCACATCAGATGTCGAAAAGAAATACTATGGCATTGTAATAAGG                                                                                                                                                                                                                                  | ###$#$$$$&amp;&amp;'&amp;&amp;&amp;%%$$$%%%&amp;%%&amp;&amp;&amp;''''(665568&gt;88888=&lt;&lt;99/.*&amp;&amp;&amp;'(*+-,,,369==&gt;&lt;&lt;&lt;&lt;&lt;?=;;=4)-34;:A@GFNKNOPLNMSNPQNPSRMMSSPONORSNNOKLJIIHHGHGEB&lt;&lt;&lt;&lt;EC?&lt;8=?BBA@EHKECBBCECAABCCCDAFIHJF=@AG?&lt;=:CAA59@AED&gt;6=ADFDABFDA@8766/-,,)'',567&gt;=&gt;7798(''''(('&amp;'*+12-.-)-+((()45;&lt;?&gt;&gt;/-,*))(                                                                                                                                                                                                                                  | 77S8M1I121M2D34M1I3M1D16M                                   |  1 |\n",
       "|  0 | 259f638a-b157-4417-970b-689ab3ce9e6e | chrX | + | 71443001 | 228 | 211 | 20240606_AL5RACE002 | GGGAGGGAGGGAGGGAGAGGGGAGGGGAGGGAGGGAGGGAGGGAGGGAGGGAGGATATAACACCAGAGTGAGAGGGAGAGGGAGAGGGAGAGGGAGAGGGAGAGGGAGAGGGAGAGGGAGAGGGAGAGGGAGAGGGAGAGCTATTTCATTTTTTTTTTTTCCACATCAGATGTGGAAAAAAAATGTACTGGCATTGTAATAAGGCTTGAGGGAGGCAGCAATACGTGG                                                                                                                                                                                                                                                                   | ########$$$#$$$#$$$$$%%%%%%%$$##########%$$$###$$$%%&amp;()*++,,,,/0,,...013477779:;999;&lt;?&lt;;;&lt;=A&lt;;;;&lt;C:9::;A&gt;=;&lt;=@&lt;;&lt;&lt;=D=&lt;;&lt;=C:999:B:9999@====&gt;?&gt;=&lt;&lt;;;;9999:?FGFJMIB&gt;;44==&lt;&lt;===&lt;&lt;&lt;;;&lt;@DGCB@@?====?BA&gt;&lt;&lt;&lt;:;&lt;::&lt;&lt;=AB9766687765557777420/'%                                                                                                                                                                                                                                                                   | 6S6M1I8M1D5M1D6M2I6M2I6M2I4M9I154M11S                       | 45 |\n",
       "|  0 | 647c3b53-d08c-4d52-90fe-4530e922b355 | chrX | + | 71443007 | 275 | 175 | 20240606_AL5RACE002 | TGCTGCACCTACTCGTTCAGTTACGTATTGCTCTAATACGACTCACTATAGGGCAAGCAGTGGTATCAACGCAGAGTGAGGCATTGTAATAAGGCTTGAGGGAGAGGGAGAGGGAGAGGGAGAGGGAGAGGGAGAGGGAGAGGGAGAGGGAGAGGGAGAGGGAGAGGGAGAGGGAGAGGGAGAGGGAGAGGGAGAGGGAGAGGGAGAGGGAGAGCTATTTCATTTTTTTTTTCCACATCAGATCGAAAAGAAATACTATGGCATTGTAATAAGGC                                                                                                                                                                                                                    | ##\"\"\"##\"#$&amp;''&amp;&amp;'2254,,,--77775587778:ADFFGGHGGJHHSGHHMNSHL@@@&gt;@DCDDBCCBGGFLRKIMSNSMNQJLLILJSSJSKSGCCIE&gt;@IKKHOGJLIFADD@SNNJRIJFBFJJSGCEKFHDCJJGK@G&lt;EDED8&lt;=?B:78?DA&lt;89B=;?&lt;&gt;AHLNCIFHDEMNKI@98AGGKEFIIHC?ABFDCC?@ABFGGEA?=4/0257:;&lt;?&gt;&lt;DEIHEDC:9..+*+-+)&amp;&amp;&amp;'/28:;4=&lt;&lt;&lt;;&gt;?AGIQEE97669985                                                                                                                                                                                                                    | 100S122M2D20M2D12M1I3M1D17M                                 |  9 |\n",
       "| ⋮ | ⋮ | ⋮ | ⋮ | ⋮ | ⋮ | ⋮ | ⋮ | ⋮ | ⋮ | ⋮ | ⋮ |\n",
       "| 16 | fc6bdf1a-ac95-4717-b485-15b1c6d6d574 | chrX | - | 71443401 | 192 | 42 | 20240606_AL5RACE002 | GACCAGAGGGCAAGCAGTGGAATCACTAGAGTACATGGGACTGGCATTTTTCTTTTTTTAAATTAAAAACATTTTCTTGCTCTAACTTTTTTTCTTTTCACATCAGATGTGGAAAAAAAGTTACTGGCATTGTAATAAGGCTTGAGGGAGGGAGCAAGATACTTAAAATGAACCAAGTAGGTTACACATAAA                              | &amp;(((()21///13452+***.+'&amp;''(46&gt;&gt;BFG;:&gt;@+++;&gt;@BGGFAB@KKEC966:DDFOMIFGFGH?FGCA;95/&amp;&amp;&amp;&amp;(),00.0)))/.***/233223355:9&gt;;;9::..--,+,****))'''''')&gt;&gt;=&lt;:::2,*)(((224*)&amp;$$$$$$$%(*(('')'&amp;&amp;)(&amp;&amp;&amp;%%%'))+*&amp;%(%$                              | 41S42M109S      |  1 |\n",
       "| 16 | 5e840763-7308-40f6-945c-e9b3cfaec483 | chrX | - | 71443401 | 207 | 49 | 20240606_AL5RACE002 | AACGTATTGTCTTTAATACGAATCACTATAGGGCAAGCAGTGGTATCAACGCAGAGTACATGACTGGCATTTTTCTTTTTTTAAATTAAAAACATTTTCTTGCTCTCGGTCTTTTTTTTTTCCACATCAGATGTGGAAAAAATGTACTGCGTTCGTAATAAGGCTTGAGGGAGGCAGCAATACGTAACTGAACGAAGTGACACAACA               | %&amp;''')%%&amp;(&amp;'())'&amp;&amp;'())*+445HGGHGIEFGEFGCCECEC&gt;===&lt;4..../44'&amp;&amp;&amp;&amp;&amp;*8=CMHIGAEIJKJ7866@88=&gt;NIGLSGFJNHA@?BA?&lt;8-,++,0./.246=8445?NE&lt;;;;&gt;B@32=:&gt;:;@9=;;;:3,)&amp;&amp;''+115678;;:;;=1/8:6710000&gt;AEEFHEFGEFC@72/,*&amp;%%%&amp;'(*+,''               | 64S49M94S       | 10 |\n",
       "| 16 | 46bd0c36-1557-4831-ae20-d6a35bc2ecc5 | chrX | - | 71443401 | 197 | 43 | 20240606_AL5RACE002 | ACCTATTGCTTAATACGACTCACTATAGGGCAAGCAGTGGTATCAACGCAGAGTACATGGGACTGGCATTTTTCTTTTTTTAAATTAAAAACATTTTCTTGCTCTCAAGTTTTCTTCTCATCAGATGTGGAAAAAAAGTGCTGGCATTGTAATAAGGCTTGAGGGAGGCAGACGTAACTGAACGAAGTACAGGACAT                         | %&amp;()526:9::=&gt;&gt;@?-----DCCIGCEBB@EHGNKGHGGFHEDCDDGFISJJHLHH@DD/..79ACMIHEC@INL98=&lt;&lt;@CCGKKQHKDLMLIIKKGC@?0.----,0''&amp;&amp;&amp;%%%),++,-//;;7110,(''%%&amp;()*+,/0.../112?B76211('((((&amp;&amp;&amp;('''''(())(''''0)(''%##$&amp;$##                         | 63S43M91S       |  1 |\n",
       "| 16 | 91966f1d-e763-4ba7-8107-7f0b48592bf4 | chrX | - | 71443401 | 205 | 49 | 20240606_AL5RACE002 | CGCATCGAGATGACTCACTATAGGGCAAGCAGTGGTATCAACGCAGAGTACATGGGACTGGCATTTTTCTTTTTTTAAATTAAAAACATTTTCTTGCTCTCGGTCTTCTTTTTTTTCCACATCAGATGTGGAAAAAATGTACTGGCATTGTAAGACAGGCTTTCTAGGGAGGAGCAAGACGATGAGTCGAAAGAAGAGGCACATA                 | *('%%%'((((4;;::77777/22368:;BFFDDCB?=&lt;=&gt;::,+++-6;;,+0*(('(())**,-.2:&lt;CE;:99&lt;;:&lt;@EIJG?KHMKJIJCHKHHDA&lt;==66978:&lt;&gt;=;;778893/.0:::333744//*,0/0122111)))(&amp;&amp;&amp;((**,,.+++(((.,,*'%%'&amp;))('$$%%%%&amp;$%%%(*(()*(******)'&amp;                 | 58S49M98S       | 10 |\n",
       "| 16 | c2245326-9d07-484d-b8f6-d14fac26b338 | chrX | - | 71443401 | 202 | 41 | 20240606_AL5RACE002 | CACCATTTGAGATGACTCACTATAGGGCAAGCAGTGGATCAACGCAGAGTACATGGGGACTGGCATTTTTCTTTTTTTAAATTAAAAACATTTTCTTGCTCGGTTTTTTCTTTTCACATCAGATGTGGGAAAAAAAATGTACTGGCATTGTAATAAGGCTTGAGGGAGGCAGCAATACGTAACTGAACGAATAGGTTACACA                    | )'()*+(((()..0;:::@@&gt;?=99666999::....6689;;;?BAACA@&gt;.,.,.'''((..101238;;=EA=:9&lt;&lt;=@FLHLRHOCGGCB?/,)-00011=A&amp;&amp;&amp;09)))5?ABBDDABA/.;EHEDA@ABCCDLNSJLIPJMKGGIIKJHHGKLGJH@IF@@?7633332$$$$$%%%$%&amp;&amp;%$$#$##&amp;&amp;'(()(%                    | 60S41M101S      |  1 |\n",
       "| 16 | bdd6025d-ff14-4ef1-9d96-78f8ef860bb9 | chrX | - | 71443401 | 203 | 46 | 20240606_AL5RACE002 | AATGTATTGCTCTAATACGACTCACTATAGGGCAAGCAGTGGTATCAACGCAGAGTACATGGCAATGGCATTTTTCTTTTTTTAAATTAAAAACATTTTCTTGCTCTCGGTTTTTTTTTTTTTCCACATCAGATGTGGGAAAAATGTACTGGCATTGTAATAAGGTCTGAGGGAGGAGCAAGACGCAACTGAACGAAGTACAT                   | 235::;:77778:&lt;&lt;=CCBCCCDEIE@&gt;=&gt;?CEMIKSSJFGGFMHJKECB@@?&lt;;;83,++*+-.....0/32326&gt;;9211499:;AIIKHOIHSSSE&gt;&lt;7200-,,,.187679;:&gt;GGHHGHHHHFDD@&gt;=,,0:=98*,77:;&gt;2222/*)))),))&amp;&amp;&amp;%%&amp;'(368+*/.-+++,(''''--//24/,'%$$$&amp;%$$                   | 65S46M92S       |  6 |\n",
       "| 16 | 98e5578a-828d-4a0b-bf0b-4a8e6d3b0c5b | chrX | - | 71443401 | 189 | 46 | 20240606_AL5RACE002 | ATAGGGCAAGCAGTGGTATCAACGAACATGGGACTGGCATTTTTCTTTTTTTAAATTAAAAACATTTTCTTGCTCTCGGTTTTTTTTTTTCCACATCAGATGTGGAAAAAACGGTTGGCATTGTAATAAGGCTTGGAGGGAGGCAGCAAGACCGTAACTGAACGAAGTACAGACACTACACATAAACAT                                 | ,-457549&lt;&lt;@CBDECA&gt;0*'&amp;&amp;&amp;')-3/41(((.0:8999::&lt;@JSR@CA@DAA?FLCBB&lt;A5784220.-,./+)((+.....28&lt;44ADHFHHEFECB644..**'&amp;&amp;%%%&amp;(/8888666645998&lt;1114;44?-****4))))'')*,/00001/,*(($%&amp;'$%$$##$$&amp;'+*('*,,(('                                 | 34S46M109S      |  9 |\n",
       "| 16 | 2b584f64-f23a-4057-b6fa-c10249bbf0a2 | chrX | - | 71443401 | 203 | 42 | 20240606_AL5RACE002 | AACGCATTGCTTGTACACGACTCACTATAGGGCAAGCAGTGGTATCAACGCAGAGTACATGGACTGGCATTTTTCTTTTTTTAAATTAAAAACATTTTCTTGCTCTAACTTTTTTCTTTCATATTACAGGTGGAAAAAAAAATGTACTGGCATTGTAATAAGGCTTAGGAGGCAGCAATACGTAACTGAACGAGTACGTTACA                   | ---('(((336897744433223:::&gt;??BBBA@?=&lt;8+++*+221122366790000/22((',,,,202//07666776455569:;&lt;;;;===&gt;&lt;87('%$#$%%&amp;*)*''('*)*-.....71166677;42111245558;&gt;AHGA?&gt;:90///5654/.**)''(''*())-.1142223542,++$$$$%&amp;%&amp;&amp;%%                   | 64S42M97S       |  1 |\n",
       "| 16 | a46002a8-1643-4258-bab0-e3f2481a64dc | chrX | - | 71443401 | 218 | 46 | 20240606_AL5RACE002 | ACCATTTGCTCTAATACTCAACTCCACTATAGGCAAGTAGTGGGTATCAGAACGCAGAGTACATGGGACTGGCATTTTTCTTTTTTTAAATTAAAAACATTTTCTTGCTCTCGGTTTTTTTTTTTTCCAATATCATGGAAAAAAAAATGTACTGGCATTGTAATAAGGCTTGAGGGAGGCAGCAATACGTAACTGAACGAGTAGGTTACACATAACAC    | 34557&lt;3//.,,,,(()))100013::;C210('*)+-1)&amp;(('())))+---424445?AD81320/-....638656&lt;;;:776;&gt;AEEHOFGEEEEH&lt;500/1/+**)&amp;()+--.2348:54%%%%%*&amp;&amp;&amp;'+37&gt;?&gt;==5:?ABEBBCGHLKDEDEEFFDDFB&lt;&lt;;;74::-,)&amp;&amp;'&amp;&amp;()))*./3232,+)((+++++))(('**((('%%&amp;    | 69S46M103S      |  9 |\n",
       "| 16 | 78c3ab08-9884-4b52-80e6-20393fbbee38 | chrX | - | 71443401 | 207 | 50 | 20240606_AL5RACE002 | ATGTATTGCTCAGATGACTCACTATAGGGCAAGCAGTGGTATCAACGCAGAGTACATGGGACTGGCATTTTTCTTTTTTTAAATTAAAAACATTTTCTTGCTCTCTGGTCTTCTTTTTTTCCACATCAGATGTGGGAAAAAAAATGTACTGGCATTGTATAGAAGGTTCTTTAGGGAGGAGCAGACCAACTGAACGAAGAGACATAA               | $%'(*)''()'((((*::87889:899999?ABBBA@AABB&lt;66667&gt;?&gt;&lt;;;60('()**,-0224454134120314;=&lt;&lt;&lt;CHDDB?DBFA@?&lt;:873+*)''((()++256&lt;D????@&gt;&gt;:99::CB++18BACDEBA&gt;?&lt;&lt;;:9:;5/-.**'&amp;%%$&amp;%%&amp;))'((')*'&amp;'&amp;'%$%$$$$&amp;---+*))'&amp;%$#%'**))*(               | 62S43M1I6M95S   |  1 |\n",
       "| 16 | 8f40db8d-09b2-47dd-856d-8106d7b1db7f | chrX | - | 71443401 | 182 | 49 | 20240606_AL5RACE002 | CAGTGGCATCAAATGCAGAGTACATGGGGACTGGCATTTTTCTTTTTTTAAATTAAAAACATTTTCTTGCTCTCGGTCTTCTTTTTTTTCCACATCTAAGATGTGGAAAAAAATGTACTGGGCATTGTAATAAGGCTTGGAGGGAGGCAGCAATACTAACGAACCAGTAAGTTACATATACA                                        | $%%)***-,,---,10.//02777)556221;&lt;;;:96446;:;:::&lt;&lt;?:9:=JJIGFGISJKGF@&gt;&lt;8422///.--+---/340.-,+*'&amp;%$$'*+A@**4153/26&lt;&lt;&lt;&gt;&lt;&lt;/.4AA98;100300877@+++152555A@?@&gt;530)('&amp;&amp;&amp;&amp;&amp;&amp;('&amp;'%$$$$$$%*'''(&amp;'%$                                        | 31S49M102S      | 10 |\n",
       "| 16 | 877879c8-d4ca-4634-9e75-1a4bf07ce377 | chrX | - | 71443401 | 205 | 45 | 20240606_AL5RACE002 | CAACGTATTGTAATACGACTCACTATAGGGCAAGCAGTGGTATCAACGCAGAGTACATGGGACTGGCATTTTTCTTTTTTTAAATTAAAAACATTTTCTTGCTCTCGGCTTTTTTTTTTCCACATCATGTGGAAAAAAATGTACTGGCATTGTAATAAGGCTTGAGGGAGGAGCAATACGTAACTGAACGAGTAGGTTACACACA                 | &amp;(***+&amp;&amp;&amp;&amp;(*())*)*(''**+ABABB5-----/000012/.,--56;;@BCDA7578/..1499??A?&gt;&lt;CCFIACA@AADDEFCCCB@7110001*'''(''++./-,-.46/.../5*(''*/**4&lt;:3236:=&gt;AFHMJIIHDGDFHIGLMSJIF7777&gt;&lt;)&amp;&amp;&amp;)(*+--/./-,,,-))(&amp;&amp;)+,,,))()&amp;'''&amp;%                 | 63S45M97S       |  1 |\n",
       "| 16 | af9138a0-bb60-48e9-b41b-dbb462526ee9 | chrX | - | 71443401 | 192 | 50 | 20240606_AL5RACE002 | ACTATAGGGTAGTAGTGGTATTCAATGGTAATAGTACTGGACTGGCATTTTTCTTTTTTTTAAATTAAAAACATTTTCTTGCTCTCGGTCTTTTTTTTTTTTTTCCACATCATGTGGAAAAAAAAATGTACTGGCATTGTAATAAGGCTTGAGGGAGGAACAATACGAACTGAACCAGTAGGTAGGGCATAA                              | '2498)))))---:8786342101--+***((%$$&amp;'(((((,/.)(((+37:&lt;&gt;@@222&gt;EDFGISMKHGI@HFBC?;=&gt;&lt;&lt;&lt;9444332248;65567?&gt;=&gt;&gt;??&lt;.**9@99&gt;&gt;?&gt;;887779:?FIRNIFHBA*))))),;:;&lt;&lt;&gt;A=A:&amp;&amp;&amp;&amp;)(-,*))''(%%%&amp;*)'&amp;'&amp;%%%&amp;&amp;&amp;'%%'''&amp;%                              | 42S11M1I38M100S |  7 |\n",
       "| 16 | 1d6c9f88-9045-4159-b845-dde7e0a8fe23 | chrX | - | 71443401 | 221 | 49 | 20240606_AL5RACE002 | CGTATCGCCTAGAATACCAAAGATTCTCGACTATAGGGCAAGCAGTGGTATCAACGCAGAGTACATGGACCTGGCATTTTTCTTTTTTTAAATTAAAAACATTTTCTTGCTCTCGGTCTTTTTTTTTTTCCACATCAGATGTGGAAAAAAAGTGACTGGCATTGGGAGCTCCAGGGAGCAGCAAAGACGATGAGTTGAAGCAAGTGTACACACAGACATGG | ))**((*))'''(%%'%&amp;*+.,-,%%%%'+,-AB;==&lt;9;;;=FDCCDDG@====ACEDDCFFD&gt;&gt;&gt;;::666669991113343.,78???ACJGBBGFEEC??&gt;=775//.//111.+/56:&lt;A=&gt;;;;;::20//340/611/-*''')+,/./3..)&amp;&amp;&amp;%$$&amp;&amp;%&amp;')*(((((/)&amp;+*('&amp;&amp;'))'&amp;&amp;&amp;&amp;')''''&amp;%#########$$%$$$$# | 71S49M101S      | 10 |\n",
       "| 16 | 2b5273cc-8704-4403-ab3b-9e6fc6cf248e | chrX | - | 71443401 | 194 | 49 | 20240606_AL5RACE002 | CATCACCAGAGGGCAAGCAGTGGTATCAACGCAGAGTACATGGGACTGGCATTTTTCTTTTTTTAAATTAAAAACATTTTCTTGCTCTCGGTCTTCTTTTTTTTCCGACATCAGAGATGTGGAAAAAAAATGTACTGGCATTGTAATAAGGCTTAGGAGGTAGCAAGACGTAACGAACCAAGGGACGCAAAAAA                            | $&amp;&amp;&amp;'&amp;%&amp;(029:9989?@41111778=@?DEEFCCBDD;/4=)))8@BCGHHFEAGOMS9&lt;&gt;AGDEESMSKMCMKLMMJGLDDBA=8211(')(++++./*&amp;%&amp;'*++))'&amp;'+,..679:9:;738=A=&gt;=&lt;=&gt;BC&gt;97/++*)))(()(((*)'''')4''((&amp;***)****(('$$#######$%%&amp;%$\"                            | 46S49M99S       | 10 |\n",
       "| 16 | 51f9a5c6-ce6f-4b4a-9945-a1fc3eb04ce7 | chrX | - | 71443401 | 216 | 49 | 20240606_AL5RACE002 | AAATGTATTGCTCTAATACGACTCACTATAGGGCAAGCAGTGGTATCAACGCAGAGTACATGGGACTGGCATTTTTCTTTTTTTAAATTAAAAACATTTTCTTGCTCTCGGTCTTTTTTTTTTTTCCACATCATGTGGAAAAAAAAATGTACTGGCATTGTAATAAGGCTTGAGGGAGGCAGCAATACGTAACTGAACGAATAAATTAAAAAAATA      | $'++667768888:B====AA@??CC0/.-02237JEIILNLIJMPFFGDF322229=&lt;,+.''&amp;&amp;(-45888:;;LHKSLD667888:KKEEHGIEC?:/.,(()*)(((-544312765@8::&lt;&gt;;9***@?00&gt;DBG&gt;425?AGEKJLMJIQQILHSKMNJKSKLPSILNQQJKFFF@@AAAEFDCA+++++=3+++)**(%%%&amp;(('&amp;%$##      | 66S49M101S      | 10 |\n",
       "| 16 | ce33d94e-7b4d-4e33-beed-425f0ec11889 | chrX | - | 71443401 | 220 | 45 | 20240606_AL5RACE002 | GGAACGTATTGCTTGAATACGACTCACTATAGGGCAAGCAGTGGTATCAACGCAGAGTACATGGGACTGGCATTTTTCTTTTTTTAAATTAAAAACATTTTCTTGCTCTCGGCTTTTTTTTTTTTTTTCCACATCAGATGTGGAAAACGGTACTGGGGATTGCATAGGCTTGAGGGAGGCAGCAATACGGTACCTAACCAAGGTAGACGTACATAAACAT  | ()+--0021-**'''('',,02222==&gt;EFFHKHHHFEFFCFCB@?@&lt;&lt;&lt;=&gt;66656?@&gt;//2/(('))))208899BDHOFA=&lt;=77779AGCB@@A@@=::7740,''''*.0024686668966666=922225&lt;7667:5)$$$%%''--056-,0---..333)(),/56----.2.--,*))))('&amp;&amp;&amp;('&amp;%''%&amp;$##\"\"##%%%$%%%%%$  | 67S45M108S      |  1 |\n",
       "| 16 | eb1e4fa0-9869-4e93-a658-c66af673ccb0 | chrX | - | 71443401 | 192 | 46 | 20240606_AL5RACE002 | CACGATAGGGCAAGCAGTGGTATCAACGCAGAGTACATGGACTCTGGCATTTTTCTTTTTTTAAATTAAAAACATTTTCTTGCTCTCGGTTTTTTCTTTTTCCACATCAGATGTGGAAAAAAAAATGTACTGGCATTGTAGAGGCTTTAGGGAGGCAGCAATACGTAACTGAACGAAGTACAGGACATAACA                              | ))))ABCFEGDFDEFJSJHJIJJKKKHNMKFEBBB?(%&amp;%%$%(/223@??333A&gt;@?B&lt;;9:;=@BNNJKSN@KIDC@?&gt;?=,+*&amp;&amp;((/0'''1'(*,--/DDECDGIFF;:CAA&lt;5//14BCGGKNOJLFC=&lt;('&amp;&amp;'40+''''03557544447;&lt;;;9::999:564325--)(&amp;%%&amp;*('''%%%                              | 44S46M102S      |  9 |\n",
       "| 16 | 5a2ee741-e477-4175-8232-1e4a3d925f50 | chrX | - | 71443401 | 206 | 49 | 20240606_AL5RACE002 | ACGTATTGCTCTAATACGACTCACTATAGGGCAAGCAGTGGTATCAACGCAGAGTACATGGGACTGGCATTTTTCTTTTTTTAAATTAAAAACATTTTCTTGCTCTCGGTCTTCTTTCCTTCTATTATGTGGAAAAAAAATGTACTGGCATTGTAATAAGGCTTGAGGGAGGCAGCAATACGTAACTGAACGAAGTAGAATACACA                | )*68==432222778::&gt;A@AAFHEGC)22/3GJISPJJJLHMJIKSLLFDDCDFSE=8;;)((9=B&gt;@??@&gt;@HMSHHIJFIJHSSSSSGIDLJJGB??&lt;:8-,*'''&amp;%'&amp;''&amp;))(()('&amp;&amp;'45((58&gt;=:97&lt;=&gt;?GGHKSKJGPJKQIHLRJNJFIGIFANJDC==;==@=31103477::987+))''$####%%%&amp;%%                | 64S49M93S       | 10 |\n",
       "| 16 | a405f7ff-0fd9-4cd5-b752-4ff29aab472d | chrX | - | 71443401 | 211 | 49 | 20240606_AL5RACE002 | TAATGCATTGCTTAATACGACTCACTATAGGGCAAGCAGTGGTATCAACGCAGAGTACATGGGACTGGCATTTTTCTTTTTTTAAATTAAAAACATTTTCTTGCTCTCGGTCTTTTTTTTCCACATCAGATGTGGAAAAAAATGTACTGGCATTGTAATAACTCTAGGGAAACAGCAGATATGAAATTTGAACCAGAGAGGTTAGTACACA           | $&amp;&amp;'&amp;'+**.,,+,+++,-2123777EB&gt;@???FECCD@???=&gt;6555245554447;98;8667:&gt;BBDEDA?@DDH=8999?7789ICA@@?EB&gt;:1.-.55320+***.-,-/511&lt;=EJIKSGHGHGC?@&gt;&gt;@@=@@DBDEFEDEHDED&gt;=;8+)(%%%(*(.*'))&amp;''(&amp;&amp;&amp;&amp;&amp;&amp;&amp;'*(&amp;''))*'&amp;&amp;&amp;$$$%%&amp;&amp;&amp;%%%&amp;&amp;'%$           | 65S49M97S       | 10 |\n",
       "| 16 | 3f380486-cb6e-4f15-b12d-29948dfc4826 | chrX | - | 71443401 | 214 | 46 | 20240606_AL5RACE002 | TTACGTATTGCTCTAATACGACTCACTATAGGGCAAGCAGTGGTATCAACGCAGAGTACATGGGATTCTGGCATTTTTCTTTTTTTAAATTAAAAACATTTTCTTGCTCTCGGTTTTTCTTTTATATCAGACGTGGAAAAAAAAATGTACTGGCATTGTAATAAGGCTTAGGAGGCAGCAATACGTAAATTCTAACCAAGTACACACACAACAT        | &amp;)22678668888:&gt;=&lt;===@@?@IGGOIIPIFFHHGIKHEFEHEDCGEAB&gt;&lt;;.....*(+*))**-0233667668CFHG&gt;?@BBEFFQKSMHIEINSMOKHMMKFFCC?&gt;=7((*.*(()**+''&amp;&amp;&amp;&amp;62---/0+*.7:&gt;&gt;A&gt;&gt;)))))567:;&lt;=&gt;@B@5445;@98778&lt;:;==;&lt;&lt;6/&amp;%%%%%&amp;)(''*''&amp;$##$$%&amp;'++(((        | 68S46M100S      |  9 |\n",
       "| 16 | 3302a813-95f3-4c8c-a601-3b2eb00c8699 | chrX | - | 71443401 | 220 | 46 | 20240606_AL5RACE002 | AATGTATTGCTCTAATACGACTCACTATAGGGCAAGCAGTGGTATCAACGCAGAGTACATGGGACTGGCATTTTTCTTTTTTTAAATTAAAAACATTTTCTTGCTCTCGGTTTTTTTTTTTTTCCACATTCAGTGGGAAAAAAAATGTACTGGCATTGTAATAAGGCTTGAGGGAGGCAGCAATACTTAATGACTGAACCAAGTAAGAGGGCATAAACAT  | %'*+,32*((((*+****/....::;EFBDDBCFIFHFGDBBBB&lt;;;;;ACBA=&lt;&lt;=&lt;0-200146::&lt;A@A666:7&lt;&lt;7;9&lt;22222HCBAAA&lt;?7551/.,+***)()+.+++++-584300.)))////**-//510///11/000///--..*+++**4321+***)/1,,,,,/*))&amp;$$$$$%%%%())'(''&amp;*'$$''%&amp;&amp;%%&amp;&amp;%'()''%  | 65S46M109S      |  6 |\n",
       "| 16 | 3788c6bf-cb72-4cc3-bec7-ac9d745d2576 | chrX | - | 71443401 | 213 | 49 | 20240606_AL5RACE002 | TACCGTATTGCTCTAATACGACTCACTATAGGGCAAGCAGTGGTATCAACGCAGAGTACATGGGAATGGCATTTTTCTTTTTTTAAATTAAAAACATTTTCTTGCTCTCGGTCTTTTTTTTTTTCCACATCTTATGTGGAAAAAAAATGTACTGGCATTGTAATAAGGCTTGGAGGGAGGGAGCAAGACGCAACTGAACCAAGTAAGCTACAT         | ##$(,.00*****&lt;@=======66770/('))&amp;%%%%'+-.134769???E&gt;=&lt;&lt;&lt;&gt;&gt;=1/**))).0234449::@ADCA;755457&gt;&gt;;9999;&lt;=&lt;&gt;&gt;:@@?=;,,../0./0,*).720+*),-***+-;:&gt;?BBDFHOCFEGFK???GGGHEDDBABABDD@@)((09(03,+,-./*)))&amp;&amp;%%%&amp;&amp;&amp;'%%%$$&amp;&amp;%#####$&amp;%%%         | 66S49M98S       | 10 |\n",
       "| 16 | fd42d94b-d8e2-4680-b691-f2b9689b472e | chrX | - | 71443401 | 204 | 50 | 20240606_AL5RACE002 | ACGCATTGCCGTAATACGACTCACTATAGGGCAAGCAGTGGTATCAACGCAGAGTACATGGGAATTCCTGGCATTTTTCTTTTTTTTAAATTAAAAACATTTTCTTGCTCTCGGTCTTTCTTTTTCCACATCAGATGTGGAAAAACGTACTGGCATTGTAGAAGGCTTGCTTAGCAATACGTAACGAACCAAGTACAATGACAT                  | &amp;'./333987610001101001444GD&lt;&gt;&gt;&gt;&gt;FICSIIKOJNJHMSJHFBAA@@::98664..**,./0222222346=?A@45326?CIGJLSSRHHIMR??&gt;&gt;::90/+*))*)-//&lt;;&lt;?&gt;===HDA?@@?B@--;A;0&amp;&amp;&amp;&amp;:9;:&lt;C&lt;:88110-,/.-*%$$%%%'/158:78832666:94213''&amp;&amp;%&amp;&amp;&amp;'(%$#                  | 68S11M1I38M86S  |  7 |\n",
       "| 16 | a8014f5a-b4df-47ed-a521-a6ac91b5f124 | chrX | - | 71443401 | 200 | 46 | 20240606_AL5RACE002 | AATGTATTGCTTAGGGCAAGCAGTGGTATCAACGCAGAGTACATGGGACTTCTGGCATTTTTCTTTTTTTAAATTAAAAACATTTTCTTGCTCTCGGTTTTTCTTTTTCCAAATCAGATGTGGAAAAAAAAATGTACTGGCATTGTAATAAGGCTTGAGGGAGGCAGCAATACTATGAATGAGTATATGATACATAAACA                      | (*+./584444555556CDALLFFFFEHDAAAADKFFHHHHJF?B@&gt;)(((16999:9:99:JJI;&lt;AAAGFFEKSGECDCJJHACA?862*))'')*-(((3)+.-,-./144555IGDDLIHLOIACB@CECEEIGNIGFFGFFGEE&gt;FFOCCBA?A@--/.-)(('&amp;&amp;&amp;%&amp;((')((*,+)&amp;%###$$%%%%)'&amp;&amp;&amp;                      | 52S46M102S      |  9 |\n",
       "| 16 | 86d8481a-50ce-4463-825e-a99afe463a87 | chrX | - | 71443401 | 200 | 45 | 20240606_AL5RACE002 | TACGTATTGCTCTAATACGACTCACTATAGGGCAAGCAGTGGTATCAACGCAGAGTACATGGGACTGGCATTTTTCTTTTTTTAAATTAAAAACATTTTCTTGCTCTCGGCTTCTTTTTTTCCACATCAGATGTGGAAAAACGTACTGGCATTGTATAAGGCTTGAGGGAGGCAGCAATACGAAACTGAACGAGGTTACA                      | $%&amp;)1222====&gt;IEEFF////0@@ALJLNILIIMSLSJIQKIOSROSLNHDDEFGSLIDIK988DFFCIFGL@EIKSM@@&gt;=?986675567&lt;3781/..*+**)()-,+,,1115::999:?;:9:&gt;&gt;FD;;@EHC8888BCFFGHEA??21-))..-***(*/6821/-./-./-(&amp;&amp;%&amp;''''&amp;&amp;%$%&amp;&amp;%%$&amp;$#                      | 65S45M90S       |  1 |\n",
       "| 16 | 715a4210-3a01-4670-a24c-2588216f36b0 | chrX | - | 71443401 | 188 | 49 | 20240606_AL5RACE002 | CACTATAGGGCAAGCAGTGGTATCAACGCAGAATACATGGACCTGGCATTTTTCTTTTTTTAAATTAAAAACATTTTCTTGCTCTCGGTCTTTTTTTTTCCACATCAGATGTGGAAAAAAAAATGTACTGGGATCGCAATAAGGCTTGAGGGAGGAGCAAGACGGTACTGAAACGAAGTACAGGACAT                                  | '(((4588888BC=DJJGEDD;::&gt;B*)''',.178,+8+++*-/1164445=BEHE;;:3@,,==SSJSDGJLOMHHCFE@;87***),**+,.322235CDEEFGDD&gt;==&lt;99876515-))((((%('&amp;'))),113&gt;DC@:43,,5:-,,,4-,,*&amp;&amp;&amp;%%%'('%&amp;''&amp;%&amp;%%%'%%%&amp;(&amp;&amp;%                                  | 43S49M96S       | 10 |\n",
       "| 16 | f0ac3f47-8bd7-4d9c-8a84-e660786b2d6d | chrX | - | 71443401 | 213 | 49 | 20240606_AL5RACE002 | ACCATTGCTTAAATACGACTCACTATAGGGCAAGCAGTGGTATCAACGCAGAGTACATGGGACTGGCATTTTTCTTTTTTTAAATTAAAAACATTTTCTTGCTCTCGGTCTTTTTTTTTTTCCACATCAGATGTGGAAAAAAAATGTACTGGCATTCTGCAATAAGGCTTGAGGGGGAGGCAACAATACGTAACTGAACGAGTACAGGACACA         | &amp;*()*)**('()))*+'((''--.&gt;@22223DECBDCBDCAC@@AAAGFGHEEED@&lt;&amp;&amp;&amp;&amp;)(((++,+*((*.....///6@A@CNSMOFMIISFSIKFFDA&gt;0...1530001668/,,--@@D?97778&lt;&lt;@BA9877433234,(((&amp;&amp;&amp;&amp;&amp;''((++,:;::9667..//5-,++,/&amp;&amp;&amp;&amp;&amp;&amp;&amp;&amp;%&amp;&amp;&amp;(*+'&amp;&amp;&amp;&amp;&amp;'''''('('&amp;         | 63S49M101S      | 10 |\n",
       "|  0 | 4e3b2df6-3570-47a8-add4-4a92bd90cca9 | chrX | + | 71443406 | 191 | 44 | 20240606_AL5RACE002 | TGTATATGTAACCCTACCTTGGAACCATACGTATTGCTGGGCAAGCAGTGGTATCAACGCAGAGTACATGGGACTTGGCATTTTTCTTTTTTTTTTTTTTTTAAATTAAAAACATTTTCTTGCTCTCGGTCTTTTTTTTTTTTTCCACATCAGATGTGGAAAAAAAATGTCCTGGCATTGTAATAAGGCTA                               | %&amp;)&amp;&amp;&amp;&amp;')&amp;&amp;&amp;'&amp;&amp;%%%&amp;'%$#######$%**,/126&lt;&lt;=@BGGEEMIHJKHGDAAA?@AABKJKIRMCBBBBBA???ACB@A@@51.,+--/568&gt;IKMJDEDDEEDFGQJLJKIOKNLGEEEDCCCC?31/9027ABEHNGEF;;IEEDEDFEJGFGHGNMGFEFCC/.../9&lt;==:977743210+(                               | 89S44M58S       |  5 |\n",
       "|  0 | 08705693-dfb4-4499-93a9-aee631026474 | chrX | + | 71443406 | 207 | 44 | 20240606_AL5RACE002 | ATGTTTTCCCTGTACTTCATTAGTACGTATTGCTCTAATACGACTCACTATAGGGCAAGCAGTGGTATCAACGCAGAGTACCGTGGGACTTGGCATTTTTCTTTTTTTTTTTTTTTTAAATTAAAAACATTTTCTTGCTCTCGGTCTTTTTTTTTTCCAGCGATTAAGAAATGTGGAAAAAAAAATGTACTGGCATTGTAATAAGGT               | ####$$%&amp;&amp;'&amp;),+,,.&amp;$$$#%%%%&amp;''+,,-44558;&gt;?&gt;&gt;&gt;?@;::::4222468888=&lt;;=&gt;::,++++////23010****,/,---.6?EFHKNB/-**)**++,03=@HN@&gt;&gt;=&gt;CDEDKJIHIMQSNPBBKEEDEKPGIAAA7HLIJJ@@;9:3,,,,,++)(((*++,2278667&lt;&lt;&lt;&gt;&gt;@@IIIHHEDD&lt;;:221.*               | 104S44M59S      |  5 |\n",
       "\n"
      ],
      "text/plain": [
       "       flag qname                                rname strand pos      qwidth\n",
       "1       0   b686d2a5-b586-4411-8af0-251ef2fb041f chrX  +      71442976 297   \n",
       "2       0   d19dc28f-5c84-477e-bb3f-f535767cb666 chrX  +      71442976 348   \n",
       "3      16   f4d6c430-3974-4d1e-b8e4-a6a6af3b90e8 chrX  -      71442976 221   \n",
       "4       0   c0c92636-b2dc-472d-a723-fad002f5892e chrX  +      71442977 219   \n",
       "5       0   10c8bf21-6671-4835-bbdd-8bfcb545c823 chrX  +      71442991 270   \n",
       "6       0   17bda126-a0d3-4207-a38e-cad865096260 chrX  +      71442991 269   \n",
       "7       0   c514f2ff-bee5-4cdc-b763-8c0882bb555a chrX  +      71442991 221   \n",
       "8      16   3635f172-3177-4af1-9c71-fde56643375d chrX  -      71442991 358   \n",
       "9      16   03e3f937-826a-4f09-82bd-bf93686b0d63 chrX  -      71442991 364   \n",
       "10     16   44c16572-3fc1-491e-bf19-45762f8c662e chrX  -      71442991 347   \n",
       "11     16   ae20cb84-27f4-4f42-acd3-696fba3a247f chrX  -      71442991 300   \n",
       "12      0   0f742f0c-889f-4285-95d0-e766c629a28a chrX  +      71442993 446   \n",
       "13      0   dffad2c5-c6eb-451d-8818-4729bdb39d20 chrX  +      71442993 399   \n",
       "14      0   0e4c523d-13fd-4afd-b039-119e2417f4b5 chrX  +      71442993 305   \n",
       "15      0   81a25f73-6e27-4982-97f3-f8f378b5c9e0 chrX  +      71442993 315   \n",
       "16      0   995ef14f-64ab-4d30-a14c-370f36ff2c22 chrX  +      71442993 486   \n",
       "17      0   1d147ff3-e866-4a78-bd6c-c4a9d5294a03 chrX  +      71442993 320   \n",
       "18      0   9760892d-25fd-4258-9ff6-9e809a728cf2 chrX  +      71442993 483   \n",
       "19      0   510ffdec-f3a8-40f2-a5df-4e7db93d1f46 chrX  +      71442994 291   \n",
       "20      0   0ddeae47-3376-45aa-962a-ecdab142188f chrX  +      71442994 262   \n",
       "21      0   40f7db95-cf4b-4801-8a01-2a8fd7b1e16c chrX  +      71442994 237   \n",
       "22      0   3e6440ca-0b78-4bf1-8746-62b42c8bcf08 chrX  +      71442994 255   \n",
       "23     16   4d395886-d224-4c73-84a3-53f22baa188e chrX  -      71442994 244   \n",
       "24     16   43462524-974d-463b-839e-2e9aa427bbd8 chrX  -      71442994 330   \n",
       "25      0   bfcbf9f7-2047-435a-b0da-7ef14a407324 chrX  +      71442998 202   \n",
       "26      0   87fc901d-b39a-449c-92bb-ca5f66e357c3 chrX  +      71442998 279   \n",
       "27      0   f7a08879-f311-48f3-ba8f-a6d8262a7a63 chrX  +      71442999 262   \n",
       "28      0   557f51a0-8ea8-4d7e-a6e3-917a0c172a53 chrX  +      71443000 261   \n",
       "29      0   259f638a-b157-4417-970b-689ab3ce9e6e chrX  +      71443001 228   \n",
       "30      0   647c3b53-d08c-4d52-90fe-4530e922b355 chrX  +      71443007 275   \n",
       "⋮      ⋮    ⋮                                    ⋮     ⋮      ⋮        ⋮     \n",
       "920989 16   fc6bdf1a-ac95-4717-b485-15b1c6d6d574 chrX  -      71443401 192   \n",
       "920990 16   5e840763-7308-40f6-945c-e9b3cfaec483 chrX  -      71443401 207   \n",
       "920991 16   46bd0c36-1557-4831-ae20-d6a35bc2ecc5 chrX  -      71443401 197   \n",
       "920992 16   91966f1d-e763-4ba7-8107-7f0b48592bf4 chrX  -      71443401 205   \n",
       "920993 16   c2245326-9d07-484d-b8f6-d14fac26b338 chrX  -      71443401 202   \n",
       "920994 16   bdd6025d-ff14-4ef1-9d96-78f8ef860bb9 chrX  -      71443401 203   \n",
       "920995 16   98e5578a-828d-4a0b-bf0b-4a8e6d3b0c5b chrX  -      71443401 189   \n",
       "920996 16   2b584f64-f23a-4057-b6fa-c10249bbf0a2 chrX  -      71443401 203   \n",
       "920997 16   a46002a8-1643-4258-bab0-e3f2481a64dc chrX  -      71443401 218   \n",
       "920998 16   78c3ab08-9884-4b52-80e6-20393fbbee38 chrX  -      71443401 207   \n",
       "920999 16   8f40db8d-09b2-47dd-856d-8106d7b1db7f chrX  -      71443401 182   \n",
       "921000 16   877879c8-d4ca-4634-9e75-1a4bf07ce377 chrX  -      71443401 205   \n",
       "921001 16   af9138a0-bb60-48e9-b41b-dbb462526ee9 chrX  -      71443401 192   \n",
       "921002 16   1d6c9f88-9045-4159-b845-dde7e0a8fe23 chrX  -      71443401 221   \n",
       "921003 16   2b5273cc-8704-4403-ab3b-9e6fc6cf248e chrX  -      71443401 194   \n",
       "921004 16   51f9a5c6-ce6f-4b4a-9945-a1fc3eb04ce7 chrX  -      71443401 216   \n",
       "921005 16   ce33d94e-7b4d-4e33-beed-425f0ec11889 chrX  -      71443401 220   \n",
       "921006 16   eb1e4fa0-9869-4e93-a658-c66af673ccb0 chrX  -      71443401 192   \n",
       "921007 16   5a2ee741-e477-4175-8232-1e4a3d925f50 chrX  -      71443401 206   \n",
       "921008 16   a405f7ff-0fd9-4cd5-b752-4ff29aab472d chrX  -      71443401 211   \n",
       "921009 16   3f380486-cb6e-4f15-b12d-29948dfc4826 chrX  -      71443401 214   \n",
       "921010 16   3302a813-95f3-4c8c-a601-3b2eb00c8699 chrX  -      71443401 220   \n",
       "921011 16   3788c6bf-cb72-4cc3-bec7-ac9d745d2576 chrX  -      71443401 213   \n",
       "921012 16   fd42d94b-d8e2-4680-b691-f2b9689b472e chrX  -      71443401 204   \n",
       "921013 16   a8014f5a-b4df-47ed-a521-a6ac91b5f124 chrX  -      71443401 200   \n",
       "921014 16   86d8481a-50ce-4463-825e-a99afe463a87 chrX  -      71443401 200   \n",
       "921015 16   715a4210-3a01-4670-a24c-2588216f36b0 chrX  -      71443401 188   \n",
       "921016 16   f0ac3f47-8bd7-4d9c-8a84-e660786b2d6d chrX  -      71443401 213   \n",
       "921017  0   4e3b2df6-3570-47a8-add4-4a92bd90cca9 chrX  +      71443406 191   \n",
       "921018  0   08705693-dfb4-4499-93a9-aee631026474 chrX  +      71443406 207   \n",
       "       qwidth_after_softclipping RG_tag             \n",
       "1      208                       20240606_AL5RACE002\n",
       "2      271                       20240606_AL5RACE002\n",
       "3      134                       20240606_AL5RACE002\n",
       "4       79                       20240606_AL5RACE002\n",
       "5      191                       20240606_AL5RACE002\n",
       "6      194                       20240606_AL5RACE002\n",
       "7      198                       20240606_AL5RACE002\n",
       "8      294                       20240606_AL5RACE002\n",
       "9      282                       20240606_AL5RACE002\n",
       "10     259                       20240606_AL5RACE002\n",
       "11     211                       20240606_AL5RACE002\n",
       "12     194                       20240606_AL5RACE002\n",
       "13     198                       20240606_AL5RACE002\n",
       "14     163                       20240606_AL5RACE002\n",
       "15     204                       20240606_AL5RACE002\n",
       "16     196                       20240606_AL5RACE002\n",
       "17     205                       20240606_AL5RACE002\n",
       "18     191                       20240606_AL5RACE002\n",
       "19     207                       20240606_AL5RACE002\n",
       "20     191                       20240606_AL5RACE002\n",
       "21     170                       20240606_AL5RACE002\n",
       "22     190                       20240606_AL5RACE002\n",
       "23     209                       20240606_AL5RACE002\n",
       "24     267                       20240606_AL5RACE002\n",
       "25     193                       20240606_AL5RACE002\n",
       "26     197                       20240606_AL5RACE002\n",
       "27     185                       20240606_AL5RACE002\n",
       "28     184                       20240606_AL5RACE002\n",
       "29     211                       20240606_AL5RACE002\n",
       "30     175                       20240606_AL5RACE002\n",
       "⋮      ⋮                         ⋮                  \n",
       "920989 42                        20240606_AL5RACE002\n",
       "920990 49                        20240606_AL5RACE002\n",
       "920991 43                        20240606_AL5RACE002\n",
       "920992 49                        20240606_AL5RACE002\n",
       "920993 41                        20240606_AL5RACE002\n",
       "920994 46                        20240606_AL5RACE002\n",
       "920995 46                        20240606_AL5RACE002\n",
       "920996 42                        20240606_AL5RACE002\n",
       "920997 46                        20240606_AL5RACE002\n",
       "920998 50                        20240606_AL5RACE002\n",
       "920999 49                        20240606_AL5RACE002\n",
       "921000 45                        20240606_AL5RACE002\n",
       "921001 50                        20240606_AL5RACE002\n",
       "921002 49                        20240606_AL5RACE002\n",
       "921003 49                        20240606_AL5RACE002\n",
       "921004 49                        20240606_AL5RACE002\n",
       "921005 45                        20240606_AL5RACE002\n",
       "921006 46                        20240606_AL5RACE002\n",
       "921007 49                        20240606_AL5RACE002\n",
       "921008 49                        20240606_AL5RACE002\n",
       "921009 46                        20240606_AL5RACE002\n",
       "921010 46                        20240606_AL5RACE002\n",
       "921011 49                        20240606_AL5RACE002\n",
       "921012 50                        20240606_AL5RACE002\n",
       "921013 46                        20240606_AL5RACE002\n",
       "921014 45                        20240606_AL5RACE002\n",
       "921015 49                        20240606_AL5RACE002\n",
       "921016 49                        20240606_AL5RACE002\n",
       "921017 44                        20240606_AL5RACE002\n",
       "921018 44                        20240606_AL5RACE002\n",
       "       seq                                                                                                                                                                                                                                                                                                                                                                                                                                                                                                   \n",
       "1      TTTTTTTTTTTTTGTACTTCGTTCAGTTACGTATTGTTCTAATACGACTCACTATAGGGCAAGCAGTGGTATCAACGCAGAGGGAGAGGGAGAGGGAGAGGGAGAGGGAGAGGGAGAGGGGAGGGAGAGGGAGAGGGAGAGGGAGAGGGAGAGGGAGAGGGAGAGGGAGAGGGAGAGGGAGAGGGAGAGGGAGAGGGAGAGGGAGAGGGAGAGGGAGAGGGAGAGGGAGAGCTATTTCATTTTTTTTTTTTCCACATCAGATGTGGAAAAAGAATGTACTGGCATTGTAATAAGGCT                                                                                                                                                                                             \n",
       "2      TTGTCCTGTACTTCGTTCAGTTACGTATTGCTCTAATACGACTCACTATAGGGCAAGCAGTGGTATCAACGCAGAGGGAGAGAGAGAGGGGGAGAGGGAGAGGGAGAGGGAGAGGGAGAGGGAGAGGGAGAGGGAGAGGGAGAGGTAGACCTACTTGGTTCAGTTGGTGTTCTAATACGACTCACTATAGGGCAAGCAGTGGTATCAACGCAGAGTGAGAGGGAGAGGGAGAGAGGGAGAGGGAGAGGGAGAGGGAGAGGGAGAGGGAGAGGGAGAGGGAGAGGGAGAGCTATTTCATTTTTTTTTTTCCACATCAGATGGAAAAAAAATGTACTGGCATTGTAATAA                                                                                                                                          \n",
       "3      AATGTATTGCTCTAATACGACTCACTATAGGGCAAGCAGTGGTATCAACGCAGAGGGAGAGGGAGAGGGAGAGGGAGAGGGAGGAGAGGGAGAGGGAGAGGGAGAGGGAGAGGGAGAGGAGGCCATCATTTTCCCTTTTATCAGATGTGGAAAAAAATGTACTGCATTGTAATAAGGCTTGAGGGAGGCAGCATATGTACTGACTCAAGGTAAGAGGACAG                                                                                                                                                                                                                                                                         \n",
       "4      ATGTTTTATGTTAACCTACTAAACATAGTATTGCTCTAATACGACTCACTATAGGGCAAGCAGTGGTATCAACGCAGAGGGAGAGGGAGAGGGAGAGGGAGGAGAGGGAGAGGGAGAGGGAGAGGGAGAGGGAGAGGGAGAGGGAGAGGGAGAGCTATTTAGTTTTTTTTTTTCCACATCAATTAAAAAAAGAAAATGTACTGGCATTGTAATAAGGCT                                                                                                                                                                                                                                                                           \n",
       "5      ACCTTTTTATGTAGTCTACTCATTCGTCGTCTTGCTCTAATACGACTCACTATAGGGCAAGCAGTGGTATCAACGCAGAGGGAGAGGGAGAGGGAGAGGGAGAGGGAAAGGGAGAGGGAGAGGGAGAGGGAGAGGGAGAGGGAGAGGGAGAGGGAGAGGGAGAGGGAGAGGGAGAGGGAGAGGGAGAGGGAGAGGGAGAGGGAGAGGGAGAGCTATTTTCGTTTTCCACATCAGATGTGGAAAAAAAATGTACTGGCATTGTAATAAGGC                                                                                                                                                                                                                        \n",
       "6      GTGTGTGCTTGGTTCAGATTACGTATTGCTCTAATACGACTCACTATAAGGGCAAGCAGTGGTATCAACGCAGAGGGAGAGGGAGAGGGAGAGGGAGAGGGAGAGGGAGAGGGGGAGGGAGAGGGAGAGGGAGAGGGAGAGGGAGAGGGAGAGGGAGAGGGAGAGGGAGAGGGAGAGGGAGAGGGAGAGGGAGAGGGAGAGCTATTTCATTTTTTTTTTTTTCCACATCAGATGTGGAAAAAAAATGTACTGGCATTGTAATAAGGCTG                                                                                                                                                                                                                         \n",
       "7      GGGGATGGAGTGGCTGGGGAGGAGGGAGGGGAGATGGAGGGGAGGGAAGGGACACTGGGAGACAGTGGTATCAACGCAGAGGGAGAGGGAGAGGGAGAGGGAGAGGGAGAGGGAGAGGGAGAGGGAGAGGGAGAGGGAGAGGGAGAGGGAGAGCTATTTCATTTTTTTTTTTTTTTCCACATCAGATGTGGAAAAAAAATGTACTGGCATTCTGATGAGGC                                                                                                                                                                                                                                                                         \n",
       "8      CACCATAGGGCAAGCAGTGGTATCAACGCAGAGGGAGAGGGAGAGGGAGAGGGAGAGGGAGAGGGAGAGGGAGAGGGAGAGGGAGAGGGAGAGGGAGAGGGAGAGCTATTTCATTTTTTTTTTTCCACATCAGATGTGGAAAAAAAATGTACTGGCATTGTAATAAGGCTTGAGGGGAGGCAGCAATACGTAACTGAACGAGTAGATGAGAGAGAGAGGGAGAGGGAGAGGGAGAGGGAGAGGGAGAGGGAGAGCTATTTCATTTTTTTTTTTCCACATCAGATGTGGAAAAAAAATGTACTGGCATTGTAATAAGGCTTGAGGGATACATATGTAACTGAACCAAGTACAGGGACAT                                                                                                                                \n",
       "9      TACCATTGCTGAGACGACTCACTATAGGGCAAGCAGTGGTATCAACGCAGAGGGAGAGGGAGAGGGAGAGGAGAGGGAGAGGGAGAGGGAGAGGGAGAGGGAGAGGGAGAGGGAGAGGGAGAGCTATTTCATTTTTTTTTTTTTTTCCACATCAGATGTGGAAAAAAAGCAATACGTAACTGAACGAAGTAGGAGAGAGAAGCAGTGGTATCAACGCAGAGTACATGGGGGAGAGGGAGAGGAGAGGAGAGCTATTTCATTTTTTTTTTTTTTTTTCCACATCAGATGTGGAAAAAAAATGTACTGGCATTGTAATAAGGCTTGAGGGAGGCAGCAATACGTAACTGAACGAAGTAGAGGACAC                                                                                                                          \n",
       "10     CCTATTGCTCTAATACGACTCACTATAGGGCAAGCAGTGGTATCAACGCAGAGGGAGAGGGAGAGGGGAGAGGGAGAGGGAGAGGGAGAGGGAGAGGGAGAGGGAGAGGGAGAGGGAGGGAGAGCTATTTCATTTTTTTTTTTCCACATCAGATGTGGAAACTAATACGACTCACTATAGGGCAGCAGTGGATCCACGAGAGTACATGGGGGAGAGGGAGAGGGAGAGGGAGAGCTATTTCATTTTTTTTTTTTTTCCACATCAGATGTGGAAAAAAAATGTACTGGCATTGTAATAAGGCTTGAGGGAGGGAGCAAGACGACTGGTTCGAAGCAGGTCAGACATAT                                                                                                                                           \n",
       "11     TACGCATTGAAATACGACTCACTATAGGGCAAGCAGTGGTATCAACGCAGAGGGAGAGGGAGAGGGAGAGGGAGAGGGAGAGGGAGAGGGAGAGGGAGAGGGAGAGGAGAGGGAGAGGGAGAGGGAGAGGGAGAGGGAGAGGGAGAGGGAGAGGGAGAGGGAGAGGGAGAGGGAGAGGGAGAGCTATTTCATTTTTTTTTTTTTTCCACATCAGATGTGGAAAAAAAATGTACTGGCATTGTAATAAGGCTTGAGGGAGGCAGCAATACGTAACTGAACGAAGTAGAGGAAACAAAACAT                                                                                                                                                                                          \n",
       "12     ATGACTTACTTGGTTCAGTTGAGTATTGCTCTAATACAAGTCGCTATAGGGCAAGCAGTGGTACTAAACACAGAGGGAGAGGGAGAGGGAGAGAGAGAGAGAGAGAGAGAGAGAGAGAGAGAGAGAGTGTGTGTGTGTGTGTGTGTGTGTGTGTGTGTGTGTGTGTGTGTGTGTGTGTGTGTGTGTGTGTGTGTGTGTGTGTGTGTGTGTGTGTGTGTGAGAGAGAGAGAGAGAGAGAGAGAGAGAGAGAGAGAGAGAGAGAGAGAGAGAGAGAGAGAGAGAGAGAGAGAGAGAGAGAGAGAGAGAGAGAGAGAGAGAGAGAGAGAGGGAGAGGGAGAGGGAGAGGGAGAGGGAGAGGGAGAGGGAGAGGGAGAGGGAGAGCTATTTCATTTTTTTTTTTCCACATCAGATGTGGAAAAAAAATGTACTGGCATTGTAATAAGGCT                                        \n",
       "13     ATAATTTATTGGTTCAGTTAGGTATTGTTTGAATACGACTCGCTATAGGGCAAGCAGATATAAACGCAAGTGAGAGAGAGAGAGAGAGAGAGAGAGAGAGAGAGAGAGAGAGAGAGAGAGAGAGAGAGAGAGAGAGAGAGAGAGAGAGAGAGAGAGAGAGAGAGAGAGAGAGAGAGAGAGAGAGAGAGAGAGAGAGAGAGAGAGAGAGAGAGAGAGAGAGAGAGAGAGAGAGAGAGAGAGAGAGAGAGAGAGAGAGAGAGAGAGAGAGGGAGAGGGAGAGGGGGAGGGAGAGGAAAGGAGAGGGAGAGGGAGAGGGAGAGGGAGAGGGAGAGCTATTTCATTTTTTTTTTTTTCCACATCAGATGTGGAAAAAAAAATGTACTGGCATTGTAATAAGCT                                                                                       \n",
       "14     ATATGTAGCATCTACTCGTTTCAGTTACGTATTGCTCTAATACGACTCACTATGGGCGAGCAGTGGTATCAACGCAGAGTGAGAGAGAGAGAGAGAGAGAGAGAGAGAGAGAGAGAGAGAGAGAGAGAGAGAGAGAGAGAGAGAGAGAGAGAGAGAGAGAGAGAGAGAGAGAGAGGGAGAGGGAGAGGGAGAGGGAGAGGGAGAGGGGGAGGGAGAGGGAGAGGGAGAGGGAGAGGGAGAGCTATTTCATTTTTTTTTTCCACATCAGATGTGGATAATAAGGCTGAGGGAGCAAGCAATACGTT                                                                                                                                                                                     \n",
       "15     ATGTGCATCTACTCGTTCAGTTCAGTATTGTTCTAATACGACTCACTATAGGGCAAGCAGTGGTATGGAGAGAGAGAGAGAGAGAGAGAGAGAGAGAGAGAGAGAGAGAGAGAGAGAGAGAGAGAGAGAGAGAGAGAGAGAGAGAGAGAGAGAGAGGGAGAGGGAGAGGGAGAGGGAGAGGGAGAGGGAGAGGGAGAGGGAGAGGGAGAGGGAGAGGAAGGGAGAGCTATTTCATTTTTTTTTTTCCACATCAGATGTGGAAAAAAAAATGTACTGGCATTGTAATAAGGCTTGAGGGAGGCAGCAATACGTGGT                                                                                                                                                                           \n",
       "16     GTGCATGTACTTCGTTCAGTTACGTATTGCTCTAATACGACTCACTATAGGGCAAGCAGTGGTATCAACGCAGAGTGGAGAGAGAGAGAGAGAGAGAGAGAGAGAGAGAGAGAGAGAGAGAGAGAGAGAGAGAGAGAGAGAGAGAGAGAGAGAGAGAGAGAGAGAGAGAGAGAGAGAGAGAGAGAGAGAGAGAGAGAGAGAGAGAGAGAGAGAGAGAGAGAGAGAGAGAGAGAGAGAGAGAGAGAGAGAGAGAGAGAGAGAGAGAGAGAGAGAGAGAGAGAGAGAGAGAGAGAGAGAGAGAGAGAGAGAGAGAGAGAGAGAGAGAGAGAGGAGAGAGAGAGAGAGAGAGAGAGAGAGAGGGAGAGGGAGAGGGAGAGGGAGAGGGAGAGGGAGAGGGAGAGGGAGAGGGAGAGGGAGAGCTATTTCATTTTTTTTTTTTCCACATCAGATGTGGAAAAAAAATGTACTGGCATTGTAATAAGGCTA\n",
       "17     ATGTTTATGTCTAGTGACACAACCAGAGTTTACGTATTGCTCTAATAGACTCTCGCTATCAGGCAAGCAGTGGTATCAACGCAGAGTGAGGCATTGTAATAAGGCTGAGAGGGAGAGGGAGAGGGAGAGGGAGAGGGAGAGGGAGAGGGAGAGGGAGAGGGAGAGGGAGAGGGAGAAGGAGAAGGAGGAGGAGGAGAAGGAGGGAGAGGGAGAGGGAGAGGGAGAGGGAGAGCTATTTCATTTTTTTTTTTTCCCACATCAGATGTGGAAAAAAAAATGTACTGGCATTGTAATAAGGCTTGAGGGAGGCAGCAAATGGT                                                                                                                                                                      \n",
       "18     TTTATGTATACCTCGTTCGTCAGTTTATTGCTCTAATACAACTAGCTATAGGGCAAGCAGTGAGTGACAGAAGTGAGAGAGAGAGAGAGAGAGAGAGAGAGAGAGAGAGAGAGAGAGAGAGAGAGAGAGAGAGAGAGAGAGAGAGAGAGAGAGAGAGAGAGAGAGAGAGAGAGAGAGAGAGAGAGAGAGAGAGAGAGAGAGAGAGAGAGAGAGAGAGAGAGAGAGAGAGAGAGAGAGAGAGAGAGAGAGAGAGAGAGAGAGAGAGAGAGAGAGAGAGAGAGAGAGAGAGAGAGAGAGAGAGAGAGAGAGAGAGAGAGAGAGAGAGAGAGAGAGAGAGAGAGAGAGAGAGAGAGAGAGAGAGGGAGAGGAAGGGAGAGACAGACAGAGCGGGGAGAGGGAGAGGGAGAGGGAGAGGGAGAGCTATTTCATTTTTTTTTTTCCACATCAGATGTGGAAAAAAAATGTACTGGCATTGTAATAAGG   \n",
       "19     TGTGTGTAGCTTACTTCGTTCAGTTACGTATTTGTGATTCAACTAGCTATAGGGCAAGCAGTGGTATCAACGCAGAGTGAGAGAGAGAGAGAGAGAGAGAGAGAGAGAGAGAGAGAGAGAGAGAGAGAGAGAGAGAGAGAGGGAGAGGGAGAGGGAGAGGGAGAGGGAGAGGGAGAGGGGAGAGGGAGAGGGAGAGGGAGAGCTATTTCATTTTTTTTTTTTTCCACATCAGATGTGGAAAAAAAATGTACTGGCATTGTAATAAGGCTTGAGGGAGGCAGCAATACATAA                                                                                                                                                                                                   \n",
       "20     TCTGTTAGCCCCTGGACCGTTGGTCTTGCTCTAATACGACTCACTATAGGGCAAGCAGTGGTATCAACGCAGAGGGAGAGGGAGAGGGAGAGGGAGAGGGAGAGGGAGAGGGAGAGGGAGAGGGAGAGGGAGAGGGAGAGGGAGAGGGAGAGGGAGAGGGAGAGGGAGAGGGAGAGGGAGAGGGAGAGGGAGAGCTATTTCATTTTTTTTTTTTTCCCACATCAGATGTGGAAAAAAAAATGTACTGGCATTGTAATAAGGT                                                                                                                                                                                                                                \n",
       "21     GTGCCTGTACTCGTTCAGTTACGTATTGTAATTTGACTCGCTGTCGGGCAAGCAGTGGTATCAACGCAGAGTGAGAGGGAGAGGGAGAGGGAGAGGGAGAGGGAGAGGGAGAGGGAGAGGGAGAGGGAGAGGGAGAGGGAGAGGGAGAGGGAGAGGGAGAGGGAGAGGGAGAGGGAGAGGGAGAGGGAGAGCTATTTCATTTTTTTTTTTTCCACATCAGATGTGAAAAAGAAAATG                                                                                                                                                                                                                                                         \n",
       "22     ATGTATTCATTCATGCCGTCTTGCTCTAATACGACTCACTATAGGGCAAGCAGTGGTATCAACGCAGAGGGAGAGGGAGAGGGAGAGGGAGAGGGAGAGGGAGAGGGAGAGGGAGAGGGAGAGGGAGAGGGAGAGGGAGAGGGAGAGGGAGAGGGAGAGGGAGAGGGAGAGGGAGAGGGAGAGGGAGAGCTATTTCATTTTTTTTTTTCCCACATCAGATGTGGAAAAAAAATGTACTGGCATTGTAATAAGGCT                                                                                                                                                                                                                                       \n",
       "23     AGAGGGAGAGGGAGAGGGAGAGGGAGAGGGAGAGGGAGAGGGAGAGGGAGAGGGAGAGGGAGAGGGAGAGAGGGAGAGGGAGAGGGAGAGGGAGAGGGAGAGGGAGAGGGAGAGGGAGAGGGAGAGGGAGAGCTATTTCATTTTTTTTTTTTCCACATCAGATGTGGAAAAAAACTAGCTGCATTTTGGTAGAAGGCTTGAGGGAGGCAGCAATAGGAATCTTAGCTAAGGTAGGACATAACAT                                                                                                                                                                                                                                                  \n",
       "24     AATGATAGGGCAAGCAGTGGTATCAACGCAGAGGGAGAGGAGAGGAGAGGAGAGGGAGAGGAGAGGGAGAGGGAGAGGGAGAGGGAGAGGGAGAGGGAGAGCTATTTTCTTTTACATCAGATGTGGAAAATGATCTGGCATTGTAATAAGGCTTGAGGGAGGCAGCAATACGCAACTGAACCAGGTCAAAGGAGGGGATTAGGAGAGGGAGAGCTATTTCATTCTTTTTTTTTTTTTTTCCACATCAGATGTGGGAAAAAAATGTACTGGCATTGTAATAAGGCTTGAGGGAGGCAGCAATACGTAACTGAACGAAGTAGGTTACAACAA                                                                                                                                                            \n",
       "25     AGGCTGGAGAGAGAGAGAGAGAGAGAGAGAGAGAGAGGGAAGCGGTGGTATCAACGCAGAGTGAGAGGGAGAGGGAGAGGGAGAGGGAGAGGGAGAGGGAGAGGGAGAGGGAGAGGGAGAGGGAGAGGGAGAGCTATTTCATTTTTTTTTTTTTCCACATCAGATGTGGAAAAAAAATGTACTGGCATTGTGATAAGGGCTT                                                                                                                                                                                                                                                                                            \n",
       "26     GTGTAGCCCCTCGACTAGTACGTATTGCTCTAATACGACTCACTATAGGGCAAGCAGTGGTATAGAGACAGGAAGGAGAGAGAGAGAGAGAGAGAGAGAGAGAGAGAGAGAGAGAGAGAGAGAGGGAGAGGGAGAGGGAGAGGGAGAGGGAGAGGGAGAGGGAGAGGGAGAGGGAAGGGAGAGGGAAGGGAGAGCTATTTCATTTTTTTTTTTCCACATCAGATGTGGAAAAAAAAATGTACTGGCATTGTAATAAGGCTTGAGGGAGGCAGCAATTGA                                                                                                                                                                                                               \n",
       "27     ATATTTTTTTTTTACTCGTTGAGTTTACGTATTGCTCTAATACGACTCACTATAGGGCAAGCAGTGGTATCAACGCAGAGAGAGAGAGAGAGAGAGAGAGAGAGAGAGAGAGAGAGAGAGAGAGAGAGGGAGAGGGAGAGGGAGAGGGAGAGGGAGGGGGAGAGGGAGAGGGAGAAGGAGAGGGAGAGGGAGAGGGAGAGCTATTTCATTTTTTTTTTTACATCAGATGTGGAAAAAAAATGTACTGGCATTGTAATAAGGC                                                                                                                                                                                                                                \n",
       "28     CTGTCTACGTCTACACTCGTTCGTGCGTATTGCTCTAATACGACTCACTATGGCAAGGGCTGCAGTGGTATCAACGCAGAGAGAGAGAGAGAGAGAGAGAGAGAGAGAGAGAGAGAGAGAGAGAGAGAGAGAGGGAGAGGGAGAGGGAGAGGGAGAGGGAGAGGGAGAGGGAGAGGGAGAGGGAGAGGGAGAGGGAGAGCTATTTCATTTTTTTTTTCCACATCAGATGTCGAAAAGAAATACTATGGCATTGTAATAAGG                                                                                                                                                                                                                                 \n",
       "29     GGGAGGGAGGGAGGGAGAGGGGAGGGGAGGGAGGGAGGGAGGGAGGGAGGGAGGATATAACACCAGAGTGAGAGGGAGAGGGAGAGGGAGAGGGAGAGGGAGAGGGAGAGGGAGAGGGAGAGGGAGAGGGAGAGGGAGAGCTATTTCATTTTTTTTTTTTCCACATCAGATGTGGAAAAAAAATGTACTGGCATTGTAATAAGGCTTGAGGGAGGCAGCAATACGTGG                                                                                                                                                                                                                                                                  \n",
       "30     TGCTGCACCTACTCGTTCAGTTACGTATTGCTCTAATACGACTCACTATAGGGCAAGCAGTGGTATCAACGCAGAGTGAGGCATTGTAATAAGGCTTGAGGGAGAGGGAGAGGGAGAGGGAGAGGGAGAGGGAGAGGGAGAGGGAGAGGGAGAGGGAGAGGGAGAGGGAGAGGGAGAGGGAGAGGGAGAGGGAGAGGGAGAGGGAGAGGGAGAGCTATTTCATTTTTTTTTTCCACATCAGATCGAAAAGAAATACTATGGCATTGTAATAAGGC                                                                                                                                                                                                                   \n",
       "⋮      ⋮                                                                                                                                                                                                                                                                                                                                                                                                                                                                                                     \n",
       "920989 GACCAGAGGGCAAGCAGTGGAATCACTAGAGTACATGGGACTGGCATTTTTCTTTTTTTAAATTAAAAACATTTTCTTGCTCTAACTTTTTTTCTTTTCACATCAGATGTGGAAAAAAAGTTACTGGCATTGTAATAAGGCTTGAGGGAGGGAGCAAGATACTTAAAATGAACCAAGTAGGTTACACATAAA                                                                                                                                                                                                                                                                                                      \n",
       "920990 AACGTATTGTCTTTAATACGAATCACTATAGGGCAAGCAGTGGTATCAACGCAGAGTACATGACTGGCATTTTTCTTTTTTTAAATTAAAAACATTTTCTTGCTCTCGGTCTTTTTTTTTTCCACATCAGATGTGGAAAAAATGTACTGCGTTCGTAATAAGGCTTGAGGGAGGCAGCAATACGTAACTGAACGAAGTGACACAACA                                                                                                                                                                                                                                                                                       \n",
       "920991 ACCTATTGCTTAATACGACTCACTATAGGGCAAGCAGTGGTATCAACGCAGAGTACATGGGACTGGCATTTTTCTTTTTTTAAATTAAAAACATTTTCTTGCTCTCAAGTTTTCTTCTCATCAGATGTGGAAAAAAAGTGCTGGCATTGTAATAAGGCTTGAGGGAGGCAGACGTAACTGAACGAAGTACAGGACAT                                                                                                                                                                                                                                                                                                 \n",
       "920992 CGCATCGAGATGACTCACTATAGGGCAAGCAGTGGTATCAACGCAGAGTACATGGGACTGGCATTTTTCTTTTTTTAAATTAAAAACATTTTCTTGCTCTCGGTCTTCTTTTTTTTCCACATCAGATGTGGAAAAAATGTACTGGCATTGTAAGACAGGCTTTCTAGGGAGGAGCAAGACGATGAGTCGAAAGAAGAGGCACATA                                                                                                                                                                                                                                                                                         \n",
       "920993 CACCATTTGAGATGACTCACTATAGGGCAAGCAGTGGATCAACGCAGAGTACATGGGGACTGGCATTTTTCTTTTTTTAAATTAAAAACATTTTCTTGCTCGGTTTTTTCTTTTCACATCAGATGTGGGAAAAAAAATGTACTGGCATTGTAATAAGGCTTGAGGGAGGCAGCAATACGTAACTGAACGAATAGGTTACACA                                                                                                                                                                                                                                                                                            \n",
       "920994 AATGTATTGCTCTAATACGACTCACTATAGGGCAAGCAGTGGTATCAACGCAGAGTACATGGCAATGGCATTTTTCTTTTTTTAAATTAAAAACATTTTCTTGCTCTCGGTTTTTTTTTTTTTCCACATCAGATGTGGGAAAAATGTACTGGCATTGTAATAAGGTCTGAGGGAGGAGCAAGACGCAACTGAACGAAGTACAT                                                                                                                                                                                                                                                                                           \n",
       "920995 ATAGGGCAAGCAGTGGTATCAACGAACATGGGACTGGCATTTTTCTTTTTTTAAATTAAAAACATTTTCTTGCTCTCGGTTTTTTTTTTTCCACATCAGATGTGGAAAAAACGGTTGGCATTGTAATAAGGCTTGGAGGGAGGCAGCAAGACCGTAACTGAACGAAGTACAGACACTACACATAAACAT                                                                                                                                                                                                                                                                                                         \n",
       "920996 AACGCATTGCTTGTACACGACTCACTATAGGGCAAGCAGTGGTATCAACGCAGAGTACATGGACTGGCATTTTTCTTTTTTTAAATTAAAAACATTTTCTTGCTCTAACTTTTTTCTTTCATATTACAGGTGGAAAAAAAAATGTACTGGCATTGTAATAAGGCTTAGGAGGCAGCAATACGTAACTGAACGAGTACGTTACA                                                                                                                                                                                                                                                                                           \n",
       "920997 ACCATTTGCTCTAATACTCAACTCCACTATAGGCAAGTAGTGGGTATCAGAACGCAGAGTACATGGGACTGGCATTTTTCTTTTTTTAAATTAAAAACATTTTCTTGCTCTCGGTTTTTTTTTTTTCCAATATCATGGAAAAAAAAATGTACTGGCATTGTAATAAGGCTTGAGGGAGGCAGCAATACGTAACTGAACGAGTAGGTTACACATAACAC                                                                                                                                                                                                                                                                            \n",
       "920998 ATGTATTGCTCAGATGACTCACTATAGGGCAAGCAGTGGTATCAACGCAGAGTACATGGGACTGGCATTTTTCTTTTTTTAAATTAAAAACATTTTCTTGCTCTCTGGTCTTCTTTTTTTCCACATCAGATGTGGGAAAAAAAATGTACTGGCATTGTATAGAAGGTTCTTTAGGGAGGAGCAGACCAACTGAACGAAGAGACATAA                                                                                                                                                                                                                                                                                       \n",
       "920999 CAGTGGCATCAAATGCAGAGTACATGGGGACTGGCATTTTTCTTTTTTTAAATTAAAAACATTTTCTTGCTCTCGGTCTTCTTTTTTTTCCACATCTAAGATGTGGAAAAAAATGTACTGGGCATTGTAATAAGGCTTGGAGGGAGGCAGCAATACTAACGAACCAGTAAGTTACATATACA                                                                                                                                                                                                                                                                                                                \n",
       "921000 CAACGTATTGTAATACGACTCACTATAGGGCAAGCAGTGGTATCAACGCAGAGTACATGGGACTGGCATTTTTCTTTTTTTAAATTAAAAACATTTTCTTGCTCTCGGCTTTTTTTTTTCCACATCATGTGGAAAAAAATGTACTGGCATTGTAATAAGGCTTGAGGGAGGAGCAATACGTAACTGAACGAGTAGGTTACACACA                                                                                                                                                                                                                                                                                         \n",
       "921001 ACTATAGGGTAGTAGTGGTATTCAATGGTAATAGTACTGGACTGGCATTTTTCTTTTTTTTAAATTAAAAACATTTTCTTGCTCTCGGTCTTTTTTTTTTTTTTCCACATCATGTGGAAAAAAAAATGTACTGGCATTGTAATAAGGCTTGAGGGAGGAACAATACGAACTGAACCAGTAGGTAGGGCATAA                                                                                                                                                                                                                                                                                                      \n",
       "921002 CGTATCGCCTAGAATACCAAAGATTCTCGACTATAGGGCAAGCAGTGGTATCAACGCAGAGTACATGGACCTGGCATTTTTCTTTTTTTAAATTAAAAACATTTTCTTGCTCTCGGTCTTTTTTTTTTTCCACATCAGATGTGGAAAAAAAGTGACTGGCATTGGGAGCTCCAGGGAGCAGCAAAGACGATGAGTTGAAGCAAGTGTACACACAGACATGG                                                                                                                                                                                                                                                                         \n",
       "921003 CATCACCAGAGGGCAAGCAGTGGTATCAACGCAGAGTACATGGGACTGGCATTTTTCTTTTTTTAAATTAAAAACATTTTCTTGCTCTCGGTCTTCTTTTTTTTCCGACATCAGAGATGTGGAAAAAAAATGTACTGGCATTGTAATAAGGCTTAGGAGGTAGCAAGACGTAACGAACCAAGGGACGCAAAAAA                                                                                                                                                                                                                                                                                                    \n",
       "921004 AAATGTATTGCTCTAATACGACTCACTATAGGGCAAGCAGTGGTATCAACGCAGAGTACATGGGACTGGCATTTTTCTTTTTTTAAATTAAAAACATTTTCTTGCTCTCGGTCTTTTTTTTTTTTCCACATCATGTGGAAAAAAAAATGTACTGGCATTGTAATAAGGCTTGAGGGAGGCAGCAATACGTAACTGAACGAATAAATTAAAAAAATA                                                                                                                                                                                                                                                                              \n",
       "921005 GGAACGTATTGCTTGAATACGACTCACTATAGGGCAAGCAGTGGTATCAACGCAGAGTACATGGGACTGGCATTTTTCTTTTTTTAAATTAAAAACATTTTCTTGCTCTCGGCTTTTTTTTTTTTTTTCCACATCAGATGTGGAAAACGGTACTGGGGATTGCATAGGCTTGAGGGAGGCAGCAATACGGTACCTAACCAAGGTAGACGTACATAAACAT                                                                                                                                                                                                                                                                          \n",
       "921006 CACGATAGGGCAAGCAGTGGTATCAACGCAGAGTACATGGACTCTGGCATTTTTCTTTTTTTAAATTAAAAACATTTTCTTGCTCTCGGTTTTTTCTTTTTCCACATCAGATGTGGAAAAAAAAATGTACTGGCATTGTAGAGGCTTTAGGGAGGCAGCAATACGTAACTGAACGAAGTACAGGACATAACA                                                                                                                                                                                                                                                                                                      \n",
       "921007 ACGTATTGCTCTAATACGACTCACTATAGGGCAAGCAGTGGTATCAACGCAGAGTACATGGGACTGGCATTTTTCTTTTTTTAAATTAAAAACATTTTCTTGCTCTCGGTCTTCTTTCCTTCTATTATGTGGAAAAAAAATGTACTGGCATTGTAATAAGGCTTGAGGGAGGCAGCAATACGTAACTGAACGAAGTAGAATACACA                                                                                                                                                                                                                                                                                        \n",
       "921008 TAATGCATTGCTTAATACGACTCACTATAGGGCAAGCAGTGGTATCAACGCAGAGTACATGGGACTGGCATTTTTCTTTTTTTAAATTAAAAACATTTTCTTGCTCTCGGTCTTTTTTTTCCACATCAGATGTGGAAAAAAATGTACTGGCATTGTAATAACTCTAGGGAAACAGCAGATATGAAATTTGAACCAGAGAGGTTAGTACACA                                                                                                                                                                                                                                                                                   \n",
       "921009 TTACGTATTGCTCTAATACGACTCACTATAGGGCAAGCAGTGGTATCAACGCAGAGTACATGGGATTCTGGCATTTTTCTTTTTTTAAATTAAAAACATTTTCTTGCTCTCGGTTTTTCTTTTATATCAGACGTGGAAAAAAAAATGTACTGGCATTGTAATAAGGCTTAGGAGGCAGCAATACGTAAATTCTAACCAAGTACACACACAACAT                                                                                                                                                                                                                                                                                \n",
       "921010 AATGTATTGCTCTAATACGACTCACTATAGGGCAAGCAGTGGTATCAACGCAGAGTACATGGGACTGGCATTTTTCTTTTTTTAAATTAAAAACATTTTCTTGCTCTCGGTTTTTTTTTTTTTCCACATTCAGTGGGAAAAAAAATGTACTGGCATTGTAATAAGGCTTGAGGGAGGCAGCAATACTTAATGACTGAACCAAGTAAGAGGGCATAAACAT                                                                                                                                                                                                                                                                          \n",
       "921011 TACCGTATTGCTCTAATACGACTCACTATAGGGCAAGCAGTGGTATCAACGCAGAGTACATGGGAATGGCATTTTTCTTTTTTTAAATTAAAAACATTTTCTTGCTCTCGGTCTTTTTTTTTTTCCACATCTTATGTGGAAAAAAAATGTACTGGCATTGTAATAAGGCTTGGAGGGAGGGAGCAAGACGCAACTGAACCAAGTAAGCTACAT                                                                                                                                                                                                                                                                                 \n",
       "921012 ACGCATTGCCGTAATACGACTCACTATAGGGCAAGCAGTGGTATCAACGCAGAGTACATGGGAATTCCTGGCATTTTTCTTTTTTTTAAATTAAAAACATTTTCTTGCTCTCGGTCTTTCTTTTTCCACATCAGATGTGGAAAAACGTACTGGCATTGTAGAAGGCTTGCTTAGCAATACGTAACGAACCAAGTACAATGACAT                                                                                                                                                                                                                                                                                          \n",
       "921013 AATGTATTGCTTAGGGCAAGCAGTGGTATCAACGCAGAGTACATGGGACTTCTGGCATTTTTCTTTTTTTAAATTAAAAACATTTTCTTGCTCTCGGTTTTTCTTTTTCCAAATCAGATGTGGAAAAAAAAATGTACTGGCATTGTAATAAGGCTTGAGGGAGGCAGCAATACTATGAATGAGTATATGATACATAAACA                                                                                                                                                                                                                                                                                              \n",
       "921014 TACGTATTGCTCTAATACGACTCACTATAGGGCAAGCAGTGGTATCAACGCAGAGTACATGGGACTGGCATTTTTCTTTTTTTAAATTAAAAACATTTTCTTGCTCTCGGCTTCTTTTTTTCCACATCAGATGTGGAAAAACGTACTGGCATTGTATAAGGCTTGAGGGAGGCAGCAATACGAAACTGAACGAGGTTACA                                                                                                                                                                                                                                                                                              \n",
       "921015 CACTATAGGGCAAGCAGTGGTATCAACGCAGAATACATGGACCTGGCATTTTTCTTTTTTTAAATTAAAAACATTTTCTTGCTCTCGGTCTTTTTTTTTCCACATCAGATGTGGAAAAAAAAATGTACTGGGATCGCAATAAGGCTTGAGGGAGGAGCAAGACGGTACTGAAACGAAGTACAGGACAT                                                                                                                                                                                                                                                                                                          \n",
       "921016 ACCATTGCTTAAATACGACTCACTATAGGGCAAGCAGTGGTATCAACGCAGAGTACATGGGACTGGCATTTTTCTTTTTTTAAATTAAAAACATTTTCTTGCTCTCGGTCTTTTTTTTTTTCCACATCAGATGTGGAAAAAAAATGTACTGGCATTCTGCAATAAGGCTTGAGGGGGAGGCAACAATACGTAACTGAACGAGTACAGGACACA                                                                                                                                                                                                                                                                                 \n",
       "921017 TGTATATGTAACCCTACCTTGGAACCATACGTATTGCTGGGCAAGCAGTGGTATCAACGCAGAGTACATGGGACTTGGCATTTTTCTTTTTTTTTTTTTTTTAAATTAAAAACATTTTCTTGCTCTCGGTCTTTTTTTTTTTTTCCACATCAGATGTGGAAAAAAAATGTCCTGGCATTGTAATAAGGCTA                                                                                                                                                                                                                                                                                                       \n",
       "921018 ATGTTTTCCCTGTACTTCATTAGTACGTATTGCTCTAATACGACTCACTATAGGGCAAGCAGTGGTATCAACGCAGAGTACCGTGGGACTTGGCATTTTTCTTTTTTTTTTTTTTTTAAATTAAAAACATTTTCTTGCTCTCGGTCTTTTTTTTTTCCAGCGATTAAGAAATGTGGAAAAAAAAATGTACTGGCATTGTAATAAGGT                                                                                                                                                                                                                                                                                       \n",
       "       qual                                                                                                                                                                                                                                                                                                                                                                                                                                                                                                  \n",
       "1      #####$$$$$$\"\"\"\"#$%((+/0/0//////22672*+)'')0@BBBAABDGFGD@A?AACDCEEFHFEFEEEFDCCCA>;<;DGHGHFEFGHJCECEGG@<9<;984+(*),*)*)))****&&&,46894=@BA?=BDH@GDGHH>:>ADGECCDDEC::>HECA@@CEA=9:>E==8>DFBA>==B@AADFMCACHHHDFDFGIEC@ACFA@@ABFB=;9623328:=A@?@ACA><;4<:ALSSSJLGD99CEDDKGHIGC?8233/3'&&%++--012ABBABA@>=753/-                                                                                                                                                                                             \n",
       "2      ####$$$&)*++,,,24,,,,-4656676668;;98872/---+)))*+778ACBBBBBCDCA@@?==??;84335::894/,*))()*,0,-18477-B==>><BDGCAACEIGDDDHMDCDDEJEC@@@OB>;>==93,,,*(&##$$%%%&'++,./05533('''&+''(,.454333333334=<===GGIGGFHFAAAA@BCBBBFFFKHB:/.;:@?@A@4,+.,'&+(-01<<9::::99835???@?CCD@@>AB><<>AED?EFJIGH@?FECD>7:66669995......23321001800==11111,))0152**,--/07878:<>@==,++*(                                                                                                                                          \n",
       "3      (((*+993221247534425544889FEGIFLFHHFGFEJIGGHGGHIHJIIJFJCAAA59<=;?@GDDJHFHFEDE8@8..>>@22=CADB/668BD=E?<>>>CB;9((*,,-('*('&$$%%%&&')('()(&%%&225=>BB..9=8,*))))),'''14565566<=<=>==?==1157++*(('&&'%$$$#$$$$&%%&&%%$$%$$%%$%$$#                                                                                                                                                                                                                                                                         \n",
       "4      )))453.,01/.*('&&%%&&'()*,***,,3779<=899DC>====>>??@;::::JNFLDEDDCDCB1///----,-<==DIHDA9<:=>@9IEFE7-4,*,5DEHFGJFGEFHGJLHHGHREGEFJJHGFHGJHFFEEC;434><<<CGEDCCCDFD544434<??CIG@1/++.-*))))''(,////../0.*('&&(-2;=???544489923                                                                                                                                                                                                                                                                           \n",
       "5      #$%%%%)+('''%$%%%%%%%$$%%%%%%&&'''(>BB@AADEEEDIIEFHDD21112FECCBBCECDCD64331242114201??CDCCEDC>>?><;5+()('(''*)+.0689:5232311*+216=BCEE??@ABDEFFFFHBC<@=>6<;::80,*),*))'''+--.1334415764'*-<??BADBBE:8>=><851//.-+&('''(((().22-)6=7./99)))))79988;<DB@;887=>>>ABBGLLGJ@??>??>7                                                                                                                                                                                                                        \n",
       "6      ###$$####$$%&(&'''%&&''*+0479;@@BDCD?????DEEFEEEECACABDGFFJGDBBBB322223BBABEDGFGLD@=?BDCB?DEGFEDFEKA@@@AJBAAABI?@BABGFGDFEE@??@CGIA?7AGFDEDEFB?@ACE@>>?@GGD>@EFDAAABH@=>>?J>>?>?IA@A@AFAAAB@O?>>>?G?===>CBBCFHIFA>?:@>CHIJSSKKE=11DFCDCCDCDB@>;<>@DBAA@ECDEGFGGGEHGBBA>;;:44*                                                                                                                                                                                                                         \n",
       "7      ##$%(%%&%%$##\"#$$$$%%%%$$$$$$&'((&&%%$$$$$%&%%$$$$&%%$#$#%%&&&%&'(-----,,/00566779:4>@@@@=?AECCBCCECB@BBJBA@C??@>:=;::6100..118667546=?CEBDED=99:?@@@=?>?AA<;;;679:99:>ACGHHIEC?>=56?@@?????B@><<:872---.///.//1667*)&&&&&&&'                                                                                                                                                                                                                                                                         \n",
       "8      %&&&78;>@>@DECEHBACCBCAABC>==<55,*)421566@A1C@@AB4:>>@@6ACBBC7FBA@A0657<85676=<49:960/497885==<;104>@A>===<9;:54;<<>=<;<;89??HIRLGHGEFF@@IDGKJSDGEKFFGG??@@?BJGFFFEFFKHHEDCE+56<//''''%&&%%%%(()),*''&$$###%%$$$%%&&'(.3677690/231466;>;7757>>>=<>B<;:075.(''''(,,,-/1112347;=4789;B955443BB))5?AADD>@AABBSPISLGFGDEIIIGGKLHHF=<1/++''&%$%$$%%(000100/,)*'''+'&''%&%##                                                                                                                                \n",
       "9      &('),+'(''&''))''&''111@>99989@A@A@<9510111===MJHJIILKGFDIDCFE9@A>=)(29==<B@>?))-88>?:@>;:..2@@CD;==<???CB@AA2CB@BA>DD?<;<==>;875454113975558<A?=;;<?@===>>AA66?;@@>=776679955555<=@@762)'&%$####$#$%''++**-*(('(/--000<9989:>?>=:88114<=69522*(,+7*).BDJEHDF=<<<33339KGFEHJSOKCHSGGIKPOFGGGFEGDEHHG::99><;;<>HEDFDDHED?>>>>LKIJIEEF6GF:94440//0/,,,..9:<<==1/,,)('((''%%$##                                                                                                                          \n",
       "10     &)/9<;;::;FGEEGFJJOSIFNHMMCJOKQKSOKSKIGFEGFJHSJIGFFEGFEED6@<444,/3/,-,46;==6006378);;:?>98108969>=>@01?@D<:?CAC@1B*.67:COJKHJHGHGHDFFFF@@BAFHECGDA<<<=AFKIHJNLKRMSMPNJNSMOJGDFFCCA33333A>>>))(%%%%%)(''''()7779;>;88CE@JG@@?=BCBBB9BBCKKLIJSGBBAAMOSSSSSSIKCHBDAB<>@98899BC10FDCIMNDE????@=>?CG866667EPFJSNQHJ@//7;..//0+**,%$###%####%&'&&%$$$%$$$'&**)&&&                                                                                                                                           \n",
       "11     %&&''&$$$$$$$%%)99::A@@77DFEGGLLHFCBBCCICCD@@???A@?C><==<HA>>106?@@@8AB@A@)103?@=@D@?4.9:45127BBD@=>>>A//6BD>:CB?B@;>B>?405229:/2/0>@:=@=?@>EBAAB@CAAAB,,,0@<<AECG76;C@??.:45843;?=910000----/56<GNGBACE:==>ESLMKMRHIIHH>>FLKJKSA@;;77770/1/.-,,,-522344>=,,,+378@;8863312244;<BBDB;:8-++('&%&&&$%%$'((('%$$                                                                                                                                                                                          \n",
       "12     #$##\"\"##$'(')**+--,+'%&&&(1001,++,-*)('%%%%&++,+++(%&&&&(((''&&%$$$$)+-,-.39;;<;:72*(('''&'&&%&'****+*,-/1111000/..-,*)((&&%%%%##'/022345555778999:9:9::::9999888889998988888877765666777766554444444443333220/....--,,+**)&$',,--./1122333355666666666555566677777676766666766666554555555554432210//001122222213444555555555555555440*()*0:<=:98741**.897/831.768=FBC@@>BB==ACDE;<8><>>:=A???777741114;;@@KMPN8:0000,*(''(+**+/3699;===@@CDFGFDFGGHFGEBB?>87                                        \n",
       "13     %&$$$$%%#$##()))('(&&''&&'&&''%$$$%++++,-(((*-0///-./.-*('%$$#$&&'**(()),,-+'2053655645343434363434341/0/////00//./000120032300/115388:9<<?>@>?>?<64=7978787878689::;;;:995./05../34666664867898:9<;==?@CACDDDCCDCBB@@@@@=3012212241137788:::999978777999999887441211122333/))*+,,,+*)(&''())*(&%%&%&%&'&((),,/1-38A?<;8<=@=<?;;<743769;:<:99987553455565<==>?>>>89217767888532/+,-320.-.--/022334EFEA@..-)*(&%                                                                                       \n",
       "14     $%$%%&$$#$$$&'''%%'))&&'''(''''((((9;;:==FD;::::::::;...-322112665556312+,20+)*)((&&*+./6490*78;;=<<:;89788===>?@BBDDDDCEDDCDFDDECEDDDFEFCCCDCCBBCBBBBBA@?A@AABABBBBBBCCCCB:87?;;<=>@<8664261.3;;<>?FHFBBCEEPBADCEGFFCEHHGACEGOIEIHFSFJBIOPHGEFDJLJGHCC@@BDFBAGFHQD=A))996666673)$####$&,,,-2***--*/+)&&&&(('%%$#                                                                                                                                                                                     \n",
       "15     ''()((%%%&&)*.-.0.00/0&&((((7922222>?ECBBBCD>>>>?KGFHFFJPKGFKC?>;8&&&%%'(-./2266>>CBFHOLJNLQOPRSSRSMSRNNKHHEECCBCCCCCCDCCA?>===>>??@@@@@@ABBCCCDEFFEGEGHGA;BECBDBA@>>?BGEB@@CEGEDEEHD@@CHHCECFGIHHFGKIHCDEHIC;9>2/00))))*'(())89AAACCCAD@868<DGIKLJIMMS@@IIHECBDCH@BCCDFA=<:656:;@?DEFDDBDFFHMGGGGJK>;;<;CA@?>>>@@AA?<20)'&                                                                                                                                                                           \n",
       "16     $'&&$%%&&('(%&'0//...+++++000009:9:<>A????@CDGEEEECDEBCEEDFFFCCCDCDDCAA>87564)(()2.002266;;??ABCCCCCAB@?<=<=<>>?@ABBA@@@A@@@??><;:<=@@AABBBBABBBBBCCCCCCBBAAACAAAABAA?A=>:>>@@A@BBBBCDDDDEDDDDCDCDDDDCDDDFEEDFDEDEEFFDEDCAA@AAAAAABBBBAAB@@>?>?>??@?@?@>?>??@BBCCCCCCBABACACBDDDEEFEFDCBBAABA?>?@@BACCCCCDDDCEDFFHFFEDFEDEEEEDEEEDECDBAAABGGGGGHFGFFEEEEFHHIHHGGFEDCCC346/49;<73/---/7*((((79<=>?3?>?CB?BA@??;<;:<78?DCCCBDC<<==AACA@>??;757466;?CCHOKHFA77EGD????@A>;:;<@@>>BABCBEDEGFGEGHFGGFD@><51'\n",
       "17     $$$&()&'&&%%$$###$%%&&&')((('''%&$%%(---00//23.((((('''(((0******;;;99841000/00338<:<<=>973.--222111199978**)),/53;<;==;?A@>6,<<=BA<@GHJNEFLICDBFFHEB@B=:;4/31+**5=A@BCEIFHEA@;D@@A:DFEBA@HHLGEDFDABACA52102*+89;>ADOGJGCC@:>/.-11248<ABCDBCDDDIE?@GAJJIKSJFDC7)*CCDGDCIHSCB@BCIECDHSGFFEFHIGKKLE00000<CEEFGJCBABA@AD>;:::<AA@A?                                                                                                                                                                      \n",
       "18     '())***)*('''%%%%$$%##$$$%&').-//./03<95555((((((100155666544,+***++*))'&'(--..099<<??=>;<9:9;899>>A@@?@>?;<457<<==@@BBCBBBCCEDEFFEFDEDDBBBCCDEBCBBBDDDECCECGEEECCBB???@?=><=;<;;4124:898::??AABCBBDDCCBA@?@@BACBCBCABBACBCCCDED@@???>?>>;<9;8866444-+,,07:;=>>?@@@A@@A@BABBBABAAA@A@???@??==<=<:79:==>>?>??>><<9976,*+0489:=??@@A@AAAABBAABBBBBBDCDCDDDCBA@???@@@????>>6,0/0/.-'&%%&&&&%$$$$$%$$$$%#$$%)/13265<>?>=987772655443.137<;889;;AA=>B@JJKJSSME??CH;:::;;=/...///----,,&%$$$$%%&%%%)(%%%&   \n",
       "19     ####\"\"\"##\"###%(-,./2./...1113111,&'&%%&%$$%''+++++,,,=>ACBA<;;<=ECFDEDFDEHGKGF=::9?3=9EAHEJGIGIEDBCEIIIIHIFFEGEFFGFGGFDDDDDEFFGGGCB>>=?==:;7.9:6877610,,,,2,>?@@ACDGGECACCEEDCCGCB@3:<:9;4-08::98875458CEDDEHGGFDCA9;>9=BHSSSSJJHAAFHFEGKHGJ>=<=>>;6578:;::::;=LGIFJFGFEGFEDGIEFHGFEDFDDEC@>=;9,+'&                                                                                                                                                                                                   \n",
       "20     &%%%&&%$$$%$%$%%%%%''&&&%%%%(1???ABGGFFHHLJHKKGCDCCECBCBBFED=655,,,,+,+)()5859<A@@@BIJHGGHKJFGAEHNHFDLGHF@>>GE@9;<=>?><>?<<9778778>BCCCA3EFFFECEMGGFJISPOHFHIGFFCGMKKGBJNLSMIJIIE?AAFEA735>?BCEHFFFFCCCC><<77<:=@ABFJSA@9.&*;<;>>>>BD@<::<GHDD@AAADDFEHJHKIGGD@@?<874,                                                                                                                                                                                                                                \n",
       "21     ##$$$$$&&''%%%&&())*((**)*+*('''(&$##$+++,./.---.8>>>:::9<=;;66662222111287689645667659;:>>5CBBBB?BDCFEBFHIGGEFLHGHFGHMHKIHISJBDEIPKJHGGJJLFHJNDDDDFJGECDIHE?;??EFDCFDCFFBHHEFCBDFOEFDFHLHGFGHJGG@@?>/////324679<?B>;2366.,,,../-'''+)5'()33-                                                                                                                                                                                                                                                         \n",
       "22     %&&*$####$$$$$((((()-...489;>>HLGHFNEFDGCC:99::AHDEBDDHKLJMLJIJD@::88;4.9?@FC=BA>B?>FIGEDBCHJF;<98//0/399=?>CFCEB?B<9;:1;988836==>;98620/,+++.-*5?>?>;@CEE@@<IJKKCEEAJDEHMKIA@BGNLFBF?;<@CDGJJIHGHGE@??<7689<GKAC;9**DLDDHFGGODCCGIJKECB?98899=ADGKIDDA@;999887                                                                                                                                                                                                                                       \n",
       "23     '*036451,,2-210//07203<;:;+8986985++2445:9;<8>548:;@;9;<4;66891476*,38<?=;<;9=;455466443553/6744657866568927757996449*).33:94,+***//12*--,,68;:30/064/.+**..)((()/3::;8741)&&''())*+10)-&&&'))))<<;;8**),/4020000////)('&''()+&&&&&&%%%%%%&''&&+,'''                                                                                                                                                                                                                                                  \n",
       "24     $$%&,-*)***453:B;9999:99>@?EIDECDAB?((657+*4:>??CDEC-9@>@87=<>328>=>('***5646:97658??@@-A=;<*)/;<643333/2-,+-'&&&;9999<=>=AAC>?7522238+*:3311112>?>DFDCCCDA@C@876-.,,/0+**)+,/0121)''&###$%&$$%&&($#$$%&*/77649<=>>BBBB8774****79:;;;<;;:83<;>>CGSGFFDEDGD.-3;7710001//14=<<?33333CCEDCDEEEGGF:9>>=A66666>==<>=<;:::6--+(()&$$#####$####$#                                                                                                                                                            \n",
       "25     \"##\"\"\"########\"\"\"\"##$##$%$$$$$$$$$$$%$$$%%%%%$%%'++***+,.11122497666<<=>E????@F@????H@??@AF<<<<>GA@@@@D@>>?AHBAAACHEB@BBABA=?AF?=<<<@>=552/--./0/014677<>==;778869899:822221,+)),.//078;<?A??==,,,,,562-/3                                                                                                                                                                                                                                                                                            \n",
       "26     #$$''''''''%%&%&%%%%&&***1225=<;>@BDA@AA@?>>=<0/.($%%%%*-...//.+'&&&)('''&&&&'(458;;<<==>>??@AABBDCCBCCBA@A@B@@?????>???72/1.,)*'&')(-,*./-4899:<@CFF<<==<:5/2<;=>?@A?<4/165754''++,-,()(()(()(*/110/0587;;<9<;CDFKRKF9./CFA?=<<<>C>=;<HGCCC@7776;:::BHSNFG@>>>>:::@>11020+1,''(('(((''                                                                                                                                                                                                               \n",
       "27     ##$%%&&&&'&#\"\"\"###$%%%&&'(&&()(**+-799889;=>>>=8<=>>>11112CLEHAAAABE@@5555541,*)'$+*-,---..14343457788::::7-+,+,+,+.13331131442488;>ACB@?AAA?5/163457;ACD?>>856430.,-.--,++,*('&&&&%')*,*+/56657767739BDCBBACFD>:6474568EF@/,))),4566665234:52289<@@ABCEFEGEBBA@AAABCA                                                                                                                                                                                                                                \n",
       "28     ###$#$$$$&&'&&&%%$$$%%%&%%&&&''''(665568>88888=<<99/.*&&&'(*+-,,,369==><<<<<?=;;=4)-34;:A@GFNKNOPLNMSNPQNPSRMMSSPONORSNNOKLJIIHHGHGEB<<<<EC?<8=?BBA@EHKECBBCECAABCCCDAFIHJF=@AG?<=:CAA59@AED>6=ADFDABFDA@8766/-,,)'',567>=>7798(''''(('&'*+12-.-)-+((()45;<?>>/-,*))(                                                                                                                                                                                                                                 \n",
       "29     ########$$$#$$$#$$$$$%%%%%%%$$##########%$$$###$$$%%&()*++,,,,/0,,...013477779:;999;<?<;;<=A<;;;<C:9::;A>=;<=@<;<<=D=<;<=C:999:B:9999@====>?>=<<;;;9999:?FGFJMIB>;44==<<===<<<;;<@DGCB@@?====?BA><<<:;<::<<=AB9766687765557777420/'%                                                                                                                                                                                                                                                                  \n",
       "30     ##\"\"\"##\"#$&''&&'2254,,,--77775587778:ADFFGGHGGJHHSGHHMNSHL@@@>@DCDDBCCBGGFLRKIMSNSMNQJLLILJSSJSKSGCCIE>@IKKHOGJLIFADD@SNNJRIJFBFJJSGCEKFHDCJJGK@G<EDED8<=?B:78?DA<89B=;?<>AHLNCIFHDEMNKI@98AGGKEFIIHC?ABFDCC?@ABFGGEA?=4/0257:;<?><DEIHEDC:9..+*+-+)&&&'/28:;4=<<<;>?AGIQEE97669985                                                                                                                                                                                                                   \n",
       "⋮      ⋮                                                                                                                                                                                                                                                                                                                                                                                                                                                                                                     \n",
       "920989 &(((()21///13452+***.+'&''(46>>BFG;:>@+++;>@BGGFAB@KKEC966:DDFOMIFGFGH?FGCA;95/&&&&(),00.0)))/.***/233223355:9>;;9::..--,+,****))'''''')>>=<:::2,*)(((224*)&$$$$$$$%(*(('')'&&)(&&&%%%'))+*&%(%$                                                                                                                                                                                                                                                                                                      \n",
       "920990 %&''')%%&(&'())'&&'())*+445HGGHGIEFGEFGCCECEC>===<4..../44'&&&&&*8=CMHIGAEIJKJ7866@88=>NIGLSGFJNHA@?BA?<8-,++,0./.246=8445?NE<;;;>B@32=:>:;@9=;;;:3,)&&''+115678;;:;;=1/8:6710000>AEEFHEFGEFC@72/,*&%%%&'(*+,''                                                                                                                                                                                                                                                                                       \n",
       "920991 %&()526:9::=>>@?-----DCCIGCEBB@EHGNKGHGGFHEDCDDGFISJJHLHH@DD/..79ACMIHEC@INL98=<<@CCGKKQHKDLMLIIKKGC@?0.----,0''&&&%%%),++,-//;;7110,(''%%&()*+,/0.../112?B76211('((((&&&('''''(())(''''0)(''%##$&$##                                                                                                                                                                                                                                                                                                 \n",
       "920992 *('%%%'((((4;;::77777/22368:;BFFDDCB?=<=>::,+++-6;;,+0*(('(())**,-.2:<CE;:99<;:<@EIJG?KHMKJIJCHKHHDA<==66978:<>=;;778893/.0:::333744//*,0/0122111)))(&&&((**,,.+++(((.,,*'%%'&))('$$%%%%&$%%%(*(()*(******)'&                                                                                                                                                                                                                                                                                         \n",
       "920993 )'()*+(((()..0;:::@@>?=99666999::....6689;;;?BAACA@>.,.,.'''((..101238;;=EA=:9<<=@FLHLRHOCGGCB?/,)-00011=A&&&09)))5?ABBDDABA/.;EHEDA@ABCCDLNSJLIPJMKGGIIKJHHGKLGJH@IF@@?7633332$$$$$%%%$%&&%$$#$##&&'(()(%                                                                                                                                                                                                                                                                                            \n",
       "920994 235::;:77778:<<=CCBCCCDEIE@>=>?CEMIKSSJFGGFMHJKECB@@?<;;83,++*+-.....0/32326>;9211499:;AIIKHOIHSSSE><7200-,,,.187679;:>GGHHGHHHHFDD@>=,,0:=98*,77:;>2222/*)))),))&&&%%&'(368+*/.-+++,(''''--//24/,'%$$$&%$$                                                                                                                                                                                                                                                                                           \n",
       "920995 ,-457549<<@CBDECA>0*'&&&')-3/41(((.0:8999::<@JSR@CA@DAA?FLCBB<A5784220.-,./+)((+.....28<44ADHFHHEFECB644..**'&&%%%&(/8888666645998<1114;44?-****4))))'')*,/00001/,*(($%&'$%$$##$$&'+*('*,,(('                                                                                                                                                                                                                                                                                                         \n",
       "920996 ---('(((336897744433223:::>??BBBA@?=<8+++*+221122366790000/22((',,,,202//07666776455569:;<;;;===><87('%$#$%%&*)*''('*)*-.....71166677;42111245558;>AHGA?>:90///5654/.**)''(''*())-.1142223542,++$$$$%&%&&%%                                                                                                                                                                                                                                                                                           \n",
       "920997 34557<3//.,,,,(()))100013::;C210('*)+-1)&(('())))+---424445?AD81320/-....638656<;;:776;>AEEHOFGEEEEH<500/1/+**)&()+--.2348:54%%%%%*&&&'+37>?>==5:?ABEBBCGHLKDEDEEFFDDFB<<;;74::-,)&&'&&()))*./3232,+)((+++++))(('**((('%%&                                                                                                                                                                                                                                                                            \n",
       "920998 $%'(*)''()'((((*::87889:899999?ABBBA@AABB<66667>?><;;60('()**,-0224454134120314;=<<<CHDDB?DBFA@?<:873+*)''((()++256<D????@>>:99::CB++18BACDEBA>?<<;:9:;5/-.**'&%%$&%%&))'((')*'&'&'%$%$$$$&---+*))'&%$#%'**))*(                                                                                                                                                                                                                                                                                       \n",
       "920999 $%%)***-,,---,10.//02777)556221;<;;:96446;:;:::<<?:9:=JJIGFGISJKGF@><8422///.--+---/340.-,+*'&%$$'*+A@**4153/26<<<><</.4AA98;100300877@+++152555A@?@>530)('&&&&&&('&'%$$$$$$%*'''(&'%$                                                                                                                                                                                                                                                                                                                \n",
       "921000 &(***+&&&&(*())*)*(''**+ABABB5-----/000012/.,--56;;@BCDA7578/..1499??A?><CCFIACA@AADDEFCCCB@7110001*'''(''++./-,-.46/.../5*(''*/**4<:3236:=>AFHMJIIHDGDFHIGLMSJIF7777><)&&&)(*+--/./-,,,-))(&&)+,,,))()&'''&%                                                                                                                                                                                                                                                                                         \n",
       "921001 '2498)))))---:8786342101--+***((%$$&'(((((,/.)(((+37:<>@@222>EDFGISMKHGI@HFBC?;=><<<9444332248;65567?>=>>??<.**9@99>>?>;887779:?FIRNIFHBA*))))),;:;<<>A=A:&&&&)(-,*))''(%%%&*)'&'&%%%&&&'%%'''&%                                                                                                                                                                                                                                                                                                      \n",
       "921002 ))**((*))'''(%%'%&*+.,-,%%%%'+,-AB;==<9;;;=FDCCDDG@====ACEDDCFFD>>>;::666669991113343.,78???ACJGBBGFEEC??>=775//.//111.+/56:<A=>;;;;::20//340/611/-*''')+,/./3..)&&&%$$&&%&')*(((((/)&+*('&&'))'&&&&')''''&%#########$$%$$$$#                                                                                                                                                                                                                                                                         \n",
       "921003 $&&&'&%&(029:9989?@41111778=@?DEEFCCBDD;/4=)))8@BCGHHFEAGOMS9<>AGDEESMSKMCMKLMMJGLDDBA=8211(')(++++./*&%&'*++))'&'+,..679:9:;738=A=>=<=>BC>97/++*)))(()(((*)'''')4''((&***)****(('$$#######$%%&%$\"                                                                                                                                                                                                                                                                                                    \n",
       "921004 $'++667768888:B====AA@??CC0/.-02237JEIILNLIJMPFFGDF322229=<,+.''&&(-45888:;;LHKSLD667888:KKEEHGIEC?:/.,(()*)(((-544312765@8::<>;9***@?00>DBG>425?AGEKJLMJIQQILHSKMNJKSKLPSILNQQJKFFF@@AAAEFDCA+++++=3+++)**(%%%&(('&%$##                                                                                                                                                                                                                                                                              \n",
       "921005 ()+--0021-**'''('',,02222==>EFFHKHHHFEFFCFCB@?@<<<=>66656?@>//2/(('))))208899BDHOFA=<=77779AGCB@@A@@=::7740,''''*.0024686668966666=922225<7667:5)$$$%%''--056-,0---..333)(),/56----.2.--,*))))('&&&('&%''%&$##\"\"##%%%$%%%%%$                                                                                                                                                                                                                                                                          \n",
       "921006 ))))ABCFEGDFDEFJSJHJIJJKKKHNMKFEBBB?(%&%%$%(/223@??333A>@?B<;9:;=@BNNJKSN@KIDC@?>?=,+*&&((/0'''1'(*,--/DDECDGIFF;:CAA<5//14BCGGKNOJLFC=<('&&'40+''''03557544447;<;;9::999:564325--)(&%%&*('''%%%                                                                                                                                                                                                                                                                                                      \n",
       "921007 )*68==432222778::>A@AAFHEGC)22/3GJISPJJJLHMJIKSLLFDDCDFSE=8;;)((9=B>@??@>@HMSHHIJFIJHSSSSSGIDLJJGB??<:8-,*'''&%'&''&))(()('&&'45((58>=:97<=>?GGHKSKJGPJKQIHLRJNJFIGIFANJDC==;==@=31103477::987+))''$####%%%&%%                                                                                                                                                                                                                                                                                        \n",
       "921008 $&&'&'+**.,,+,+++,-2123777EB>@???FECCD@???=>6555245554447;98;8667:>BBDEDA?@DDH=8999?7789ICA@@?EB>:1.-.55320+***.-,-/511<=EJIKSGHGHGC?@>>@@=@@DBDEFEDEHDED>=;8+)(%%%(*(.*'))&''(&&&&&&&'*(&''))*'&&&$$$%%&&&%%%&&'%$                                                                                                                                                                                                                                                                                   \n",
       "921009 &)22678668888:>=<===@@?@IGGOIIPIFFHHGIKHEFEHEDCGEAB><;.....*(+*))**-0233667668CFHG>?@BBEFFQKSMHIEINSMOKHMMKFFCC?>=7((*.*(()**+''&&&&62---/0+*.7:>>A>>)))))567:;<=>@B@5445;@98778<:;==;<<6/&%%%%%&)(''*''&$##$$%&'++(((                                                                                                                                                                                                                                                                                \n",
       "921010 %'*+,32*((((*+****/....::;EFBDDBCFIFHFGDBBBB<;;;;ACBA=<<=<0-200146::<A@A666:7<<7;9<22222HCBAAA<?7551/.,+***)()+.+++++-584300.)))////**-//510///11/000///--..*+++**4321+***)/1,,,,,/*))&$$$$$%%%%())'(''&*'$$''%&&%%&&%'()''%                                                                                                                                                                                                                                                                          \n",
       "921011 ##$(,.00*****<@=======66770/('))&%%%%'+-.134769???E>=<<<>>=1/**))).0234449::@ADCA;755457>>;9999;<=<>>:@@?=;,,../0./0,*).720+*),-***+-;:>?BBDFHOCFEGFK???GGGHEDDBABABDD@@)((09(03,+,-./*)))&&%%%&&&'%%%$$&&%#####$&%%%                                                                                                                                                                                                                                                                                 \n",
       "921012 &'./333987610001101001444GD<>>>>FICSIIKOJNJHMSJHFBAA@@::98664..**,./0222222346=?A@45326?CIGJLSSRHHIMR??>>::90/+*))*)-//<;<?>===HDA?@@?B@--;A;0&&&&:9;:<C<:88110-,/.-*%$$%%%'/158:78832666:94213''&&%&&&'(%$#                                                                                                                                                                                                                                                                                          \n",
       "921013 (*+./584444555556CDALLFFFFEHDAAAADKFFHHHHJF?B@>)(((16999:9:99:JJI;<AAAGFFEKSGECDCJJHACA?862*))'')*-(((3)+.-,-./144555IGDDLIHLOIACB@CECEEIGNIGFFGFFGEE>FFOCCBA?A@--/.-)(('&&&%&((')((*,+)&%###$$%%%%)'&&&                                                                                                                                                                                                                                                                                              \n",
       "921014 $%&)1222====>IEEFF////0@@ALJLNILIIMSLSJIQKIOSROSLNHDDEFGSLIDIK988DFFCIFGL@EIKSM@@>=?986675567<3781/..*+**)()-,+,,1115::999:?;:9:>>FD;;@EHC8888BCFFGHEA??21-))..-***(*/6821/-./-./-(&&%&''''&&%$%&&%%$&$#                                                                                                                                                                                                                                                                                              \n",
       "921015 '(((4588888BC=DJJGEDD;::>B*)''',.178,+8+++*-/1164445=BEHE;;:3@,,==SSJSDGJLOMHHCFE@;87***),**+,.322235CDEEFGDD>==<99876515-))((((%('&'))),113>DC@:43,,5:-,,,4-,,*&&&%%%'('%&''&%&%%%'%%%&(&&%                                                                                                                                                                                                                                                                                                          \n",
       "921016 &*()*)**('()))*+'((''--.>@22223DECBDCBDCAC@@AAAGFGHEEED@<&&&&)(((++,+*((*.....///6@A@CNSMOFMIISFSIKFFDA>0...1530001668/,,--@@D?97778<<@BA9877433234,(((&&&&&''((++,:;::9667..//5-,++,/&&&&&&&&%&&&(*+'&&&&&'''''('('&                                                                                                                                                                                                                                                                                 \n",
       "921017 %&)&&&&')&&&'&&%%%&'%$#######$%**,/126<<=@BGGEEMIHJKHGDAAA?@AABKJKIRMCBBBBBA???ACB@A@@51.,+--/568>IKMJDEDDEEDFGQJLJKIOKNLGEEEDCCCC?31/9027ABEHNGEF;;IEEDEDFEJGFGHGNMGFEFCC/.../9<==:977743210+(                                                                                                                                                                                                                                                                                                       \n",
       "921018 ####$$%&&'&),+,,.&$$$#%%%%&''+,,-44558;>?>>>?@;::::4222468888=<;=>::,++++////23010****,/,---.6?EFHKNB/-**)**++,03=@HN@>>=>CDEDKJIHIMQSNPBBKEEDEKPGIAAA7HLIJJ@@;9:3,,,,,++)(((*++,2278667<<<>>@@IIIHHEDD<;:221.*                                                                                                                                                                                                                                                                                       \n",
       "       cigar                                                       mapq\n",
       "1      89S10M5D14M2I182M                                           19  \n",
       "2      77S10M2D1M1D17M3I37M64I1M1I17M2I67M1D21M2D30M                9  \n",
       "3      56S10M5D51M73D4M1D4M2D14M5D11M1D13M1D27M31S                  1  \n",
       "4      75S9M5D70M65S                                                1  \n",
       "5      79S16M3I117M7D55M                                           12  \n",
       "6      74S13M3D122M1I58M1S                                         28  \n",
       "7      23S5M1D19M1D7M2I6M2D8M2I89M3I57M                            18  \n",
       "8      32S13M3D60M90I4M1I2M2I1M2I55M1D64M32S                        8  \n",
       "9      51S14M2I56M68I9M2I3M1I2M4I1M1D7M1D8M3D12M1D5M1D14M5I69M31S  33  \n",
       "10     52S14M2D49M2D9M55I5M1D7M6I4M1D8M3D33M2I67M36S               30  \n",
       "11     51S16M3I35M1D86M2I69M38S                                    38  \n",
       "12     252S15M1I121M1D57M                                          14  \n",
       "13     199S15M1I77M4I44M1I27M1I28M2S                               10  \n",
       "14     112S15M1I121M2D26M30S                                        1  \n",
       "15     99S15M1I100M1D3M1D16M1D26M1I42M12S                          25  \n",
       "16     289S15M1I23M1I156M1S                                        13  \n",
       "17     106S11M3D69M1I3M2I7M2D53M1I15M1I42M9S                       41  \n",
       "18     292S15M1I58M1D3M1D18M1I40M1D55M                              8  \n",
       "19     73S14M1I88M1I33M1I69M11S                                    38  \n",
       "20     70S10M3D134M2I15M1I29M1S                                    12  \n",
       "21     67S10M3D153M1I6M                                             3  \n",
       "22     65S10M3D180M                                                23  \n",
       "23     13M3I49M2I109M1I1M2D2M1D5M3I2M1D19M35S                      13  \n",
       "24     29S11M1I7M1D11M1D42M48I2M1D1M3I6M2I9M5I2M2I13M1D27M6I69M34S  9  \n",
       "25     5S9M1D26M1D2M1I4M6I88M1I56M4S                               19  \n",
       "26     74S9M1D92M1D11M1D16M1D26M1I42M8S                            32  \n",
       "27     77S9M1I132M3D43M                                            17  \n",
       "28     77S8M1I121M2D34M1I3M1D16M                                    1  \n",
       "29     6S6M1I8M1D5M1D6M2I6M2I6M2I4M9I154M11S                       45  \n",
       "30     100S122M2D20M2D12M1I3M1D17M                                  9  \n",
       "⋮      ⋮                                                           ⋮   \n",
       "920989 41S42M109S                                                   1  \n",
       "920990 64S49M94S                                                   10  \n",
       "920991 63S43M91S                                                    1  \n",
       "920992 58S49M98S                                                   10  \n",
       "920993 60S41M101S                                                   1  \n",
       "920994 65S46M92S                                                    6  \n",
       "920995 34S46M109S                                                   9  \n",
       "920996 64S42M97S                                                    1  \n",
       "920997 69S46M103S                                                   9  \n",
       "920998 62S43M1I6M95S                                                1  \n",
       "920999 31S49M102S                                                  10  \n",
       "921000 63S45M97S                                                    1  \n",
       "921001 42S11M1I38M100S                                              7  \n",
       "921002 71S49M101S                                                  10  \n",
       "921003 46S49M99S                                                   10  \n",
       "921004 66S49M101S                                                  10  \n",
       "921005 67S45M108S                                                   1  \n",
       "921006 44S46M102S                                                   9  \n",
       "921007 64S49M93S                                                   10  \n",
       "921008 65S49M97S                                                   10  \n",
       "921009 68S46M100S                                                   9  \n",
       "921010 65S46M109S                                                   6  \n",
       "921011 66S49M98S                                                   10  \n",
       "921012 68S11M1I38M86S                                               7  \n",
       "921013 52S46M102S                                                   9  \n",
       "921014 65S45M90S                                                    1  \n",
       "921015 43S49M96S                                                   10  \n",
       "921016 63S49M101S                                                  10  \n",
       "921017 89S44M58S                                                    5  \n",
       "921018 104S44M59S                                                   5  "
      ]
     },
     "metadata": {},
     "output_type": "display_data"
    }
   ],
   "source": [
    "bams$`20240606_AL5RACE002`"
   ]
  },
  {
   "cell_type": "code",
   "execution_count": 15,
   "id": "c2815c11-5c26-423f-bbcb-e9d590ee0d7f",
   "metadata": {
    "execution": {
     "iopub.execute_input": "2024-06-10T21:17:04.966003Z",
     "iopub.status.busy": "2024-06-10T21:17:04.964364Z",
     "iopub.status.idle": "2024-06-10T21:17:05.040219Z",
     "shell.execute_reply": "2024-06-10T21:17:05.038165Z"
    },
    "vscode": {
     "languageId": "r"
    }
   },
   "outputs": [
    {
     "data": {
      "text/plain": [
       ".\n",
       "     0     16 \n",
       "629446 291572 "
      ]
     },
     "metadata": {},
     "output_type": "display_data"
    }
   ],
   "source": [
    "bams$`20240606_AL5RACE002`$flag %>% table()"
   ]
  },
  {
   "cell_type": "markdown",
   "id": "ce403fd7-376c-4377-8801-56ede0e86d1d",
   "metadata": {},
   "source": [
    "## Benchmarking time for primer detection"
   ]
  },
  {
   "cell_type": "code",
   "execution_count": 16,
   "id": "d1ef322c-fa10-4492-ad2f-acdaf9ee3e39",
   "metadata": {
    "execution": {
     "iopub.execute_input": "2024-06-10T21:17:05.048656Z",
     "iopub.status.busy": "2024-06-10T21:17:05.046987Z",
     "iopub.status.idle": "2024-06-10T21:17:05.064975Z",
     "shell.execute_reply": "2024-06-10T21:17:05.062784Z"
    },
    "vscode": {
     "languageId": "r"
    }
   },
   "outputs": [],
   "source": [
    "minibam = bams$`20240606_AL5RACE002` %>% head(1000)"
   ]
  },
  {
   "cell_type": "code",
   "execution_count": 17,
   "id": "64befc16-11f6-4190-b86a-857a357e8bd3",
   "metadata": {
    "execution": {
     "iopub.execute_input": "2024-06-10T21:17:05.073213Z",
     "iopub.status.busy": "2024-06-10T21:17:05.071574Z",
     "iopub.status.idle": "2024-06-10T21:17:05.086360Z",
     "shell.execute_reply": "2024-06-10T21:17:05.084230Z"
    },
    "vscode": {
     "languageId": "r"
    }
   },
   "outputs": [],
   "source": [
    "# # comparing 2 threads\n",
    "# start = Sys.time()\n",
    "\n",
    "# test1 = search_pattern(input_table = minibam,\n",
    "#                        prefix = \"smarter_oligo\",\n",
    "#                        pattern = \"CTAATACGACTCACTATAGGGCAAGCAGTGGTATCAACGCAGAGTACATGGG\",\n",
    "#                        threads = 2)\n",
    "\n",
    "# end = Sys.time()\n",
    "# round(end - start,2)"
   ]
  },
  {
   "cell_type": "code",
   "execution_count": 18,
   "id": "e8d00320-7e46-4e62-961c-3e783b5f6743",
   "metadata": {
    "execution": {
     "iopub.execute_input": "2024-06-10T21:17:05.094567Z",
     "iopub.status.busy": "2024-06-10T21:17:05.092813Z",
     "iopub.status.idle": "2024-06-10T21:17:22.661560Z",
     "shell.execute_reply": "2024-06-10T21:17:22.658483Z"
    },
    "vscode": {
     "languageId": "r"
    }
   },
   "outputs": [
    {
     "data": {
      "text/plain": [
       "Time difference of 17.54 secs"
      ]
     },
     "metadata": {},
     "output_type": "display_data"
    }
   ],
   "source": [
    "start = Sys.time()\n",
    "\n",
    "test2 = search_pattern(input_table = minibam,\n",
    "                       prefix = \"smarter_oligo\",\n",
    "                       pattern = \"CTAATACGACTCACTATAGGGCAAGCAGTGGTATCAACGCAGAGTACATGGG\",\n",
    "                       threads = 50)\n",
    "\n",
    "end = Sys.time()\n",
    "round(end - start,2)"
   ]
  },
  {
   "cell_type": "markdown",
   "id": "7ec7b8df-ea75-4b44-930c-c96d0e57af22",
   "metadata": {},
   "source": [
    "## Running primer detection"
   ]
  },
  {
   "cell_type": "markdown",
   "id": "008d300d-b2c5-4fe7-b796-0d4e2e07200a",
   "metadata": {},
   "source": [
    "### Finding evidence to filter out concatamers"
   ]
  },
  {
   "cell_type": "code",
   "execution_count": 19,
   "id": "27be2e43-8090-4d3c-9fcd-de0ba1f4850d",
   "metadata": {
    "execution": {
     "iopub.execute_input": "2024-06-10T21:17:22.673131Z",
     "iopub.status.busy": "2024-06-10T21:17:22.670785Z",
     "iopub.status.idle": "2024-06-10T21:32:42.925243Z",
     "shell.execute_reply": "2024-06-10T21:32:42.922377Z"
    },
    "vscode": {
     "languageId": "r"
    }
   },
   "outputs": [],
   "source": [
    "outfile = \"primer_annot__xdpsvatsd_nhits_tib.tsv\"\n",
    "if(!file.exists(outfile)){\n",
    "    # xdpsvatsd_revcomp = \"CTATTTCATTTTTTTTTTTTC\"\n",
    "    # getting only the 5' adjacent portion for initial filtering of concatamers\n",
    "    xdpsvatsd_nhits_tib = search_str_nhits(input_table = bams$`20240606_AL5RACE002`,\n",
    "                                           prefix = \"xdpsvatsd\",\n",
    "                                           pattern = \"CTATTTCATTTTTTTTTTTTC\",\n",
    "                                           threads = 50)\n",
    "    \n",
    "    write_tsv(x = xdpsvatsd_nhits_tib, file = outfile)\n",
    "}else{\n",
    "    xdpsvatsd_nhits_tib = read_tsv(file = outfile)\n",
    "}\n",
    "\n",
    "reads_atmost1_xdpsvatsd = xdpsvatsd_nhits_tib %>%\n",
    "    filter(xdpsvatsd__n_hits < 2) %>%\n",
    "    pull(qname)"
   ]
  },
  {
   "cell_type": "code",
   "execution_count": 20,
   "id": "4599d969-aef7-45f1-b8be-50686236eef2",
   "metadata": {
    "execution": {
     "iopub.execute_input": "2024-06-10T21:32:43.028376Z",
     "iopub.status.busy": "2024-06-10T21:32:43.026045Z",
     "iopub.status.idle": "2024-06-10T21:51:21.731739Z",
     "shell.execute_reply": "2024-06-10T21:51:21.728934Z"
    },
    "vscode": {
     "languageId": "r"
    }
   },
   "outputs": [],
   "source": [
    "outfile = \"primer_annot__smarter_nhits_tib.tsv\"\n",
    "if(!file.exists(outfile)){\n",
    "    # smarter_oligo_fwd = \"CTAATACGACTCACTATAGGG CAAGCAGTGGTATCAACGCAGAGTACATGGG\"\n",
    "    # getting only the 5' adjacent portion for initial filtering of concatamers\n",
    "    smarter_nhits_tib = search_str_nhits(input_table = bams$`20240606_AL5RACE002`,\n",
    "                                         prefix = \"smarter_oligo\",\n",
    "                                         pattern = \"CAAGCAGTGGTATCAACGCAGAGTACATGGG\",\n",
    "                                         threads = 50)\n",
    "    \n",
    "    write_tsv(x = smarter_nhits_tib, file = outfile)\n",
    "}else{\n",
    "    smarter_nhits_tib = read_tsv(file = outfile)\n",
    "}\n",
    "\n",
    "reads_atmost1_smarter = smarter_nhits_tib %>%\n",
    "    filter(smarter_oligo__n_hits < 2) %>%\n",
    "    pull(qname)"
   ]
  },
  {
   "cell_type": "code",
   "execution_count": 21,
   "id": "89387551-2317-4bb1-84a6-a4a40fc6cd92",
   "metadata": {
    "execution": {
     "iopub.execute_input": "2024-06-10T21:51:21.857049Z",
     "iopub.status.busy": "2024-06-10T21:51:21.854734Z",
     "iopub.status.idle": "2024-06-10T21:51:23.750415Z",
     "shell.execute_reply": "2024-06-10T21:51:23.747354Z"
    },
    "vscode": {
     "languageId": "r"
    }
   },
   "outputs": [],
   "source": [
    "# filtering out reads with more than one\n",
    "# smarter oligo to exclude concatamers and unexpected\n",
    "# RACE products\n",
    "bams$`20240606_AL5RACE002__atmost1_smarter_or_tsd` = bams$`20240606_AL5RACE002` %>%\n",
    "    filter((qname %in% reads_atmost1_smarter) & (qname %in% reads_atmost1_xdpsvatsd))"
   ]
  },
  {
   "cell_type": "markdown",
   "id": "a5a1cebc-d743-40ef-9966-4d8aea5df92c",
   "metadata": {},
   "source": [
    "### Finding expected primers and XDP-SVA TSD"
   ]
  },
  {
   "cell_type": "code",
   "execution_count": 22,
   "id": "19045a9a-750f-4e86-b621-a3e633ce42c9",
   "metadata": {
    "execution": {
     "iopub.execute_input": "2024-06-10T21:51:23.762822Z",
     "iopub.status.busy": "2024-06-10T21:51:23.760342Z",
     "iopub.status.idle": "2024-06-10T23:29:13.539858Z",
     "shell.execute_reply": "2024-06-10T23:29:13.536846Z"
    },
    "vscode": {
     "languageId": "r"
    }
   },
   "outputs": [],
   "source": [
    "outfile = \"primer_annot__smarter_tib.tsv\"\n",
    "if(!file.exists(outfile)){\n",
    "    # annotating where is the smarter primer on sequence\n",
    "    # smarter_oligo_fwd = \"CTAATACGACTCACTATAGGG CAAGCAGTGGTATCAACGCAGAGTACATGGG\"\n",
    "    smarter_tib = search_pattern(input_table = bams$`20240606_AL5RACE002__atmost1_smarter_or_tsd`,\n",
    "                                 prefix = \"smarter_oligo\",\n",
    "                                 pattern = \"CTAATACGACTCACTATAGGGCAAGCAGTGGTATCAACGCAGAGTACATGGG\",\n",
    "                                 threads = 50)\n",
    "    \n",
    "    write_tsv(x = smarter_tib, file = outfile)\n",
    "}else{\n",
    "    smarter_tib = read_tsv(file = outfile)\n",
    "}"
   ]
  },
  {
   "cell_type": "code",
   "execution_count": 23,
   "id": "94bcb4d4-36ac-4a73-99c6-8db6ec5271b3",
   "metadata": {
    "execution": {
     "iopub.execute_input": "2024-06-10T23:29:14.164310Z",
     "iopub.status.busy": "2024-06-10T23:29:14.161854Z",
     "iopub.status.idle": "2024-06-11T01:10:34.389692Z",
     "shell.execute_reply": "2024-06-11T01:10:34.386559Z"
    },
    "vscode": {
     "languageId": "r"
    }
   },
   "outputs": [],
   "source": [
    "outfile = \"primer_annot__al5race002_tib.tsv\"\n",
    "if(!file.exists(outfile)){\n",
    "    # annotating where is the RACE gene specific primer on sequence\n",
    "    # al5race002_revcomp = \"GGCATTGTAATAAGGCTTGAGGGAGGC\"\n",
    "    al5race002_tib = search_pattern(input_table = bams$`20240606_AL5RACE002__atmost1_smarter_or_tsd`,\n",
    "                                    prefix = \"AL5RACE002_revcomp\",\n",
    "                                    pattern = \"GGCATTGTAATAAGGCTTGAGGGAGGC\",\n",
    "                                    threads = 50)\n",
    "    \n",
    "    write_tsv(x = al5race002_tib, file = outfile)\n",
    "}else{\n",
    "    al5race002_tib = read_tsv(file = outfile)\n",
    "}"
   ]
  },
  {
   "cell_type": "code",
   "execution_count": 24,
   "id": "58b90642-f969-4db2-9c9b-8df88e860e10",
   "metadata": {
    "execution": {
     "iopub.execute_input": "2024-06-11T01:10:35.064268Z",
     "iopub.status.busy": "2024-06-11T01:10:35.062106Z",
     "iopub.status.idle": "2024-06-11T02:51:51.179068Z",
     "shell.execute_reply": "2024-06-11T02:51:51.176101Z"
    },
    "vscode": {
     "languageId": "r"
    }
   },
   "outputs": [],
   "source": [
    "outfile = \"primer_annot__xdpsvatsd_tib.tsv\"\n",
    "if(!file.exists(outfile)){\n",
    "    # annotating where is the XDP-SVA TSD on sequence \n",
    "    # xdpsvatsd_revcomp = \"CTATTTCATTTTTTTTTTTTC\"\n",
    "    xdpsvatsd_tib = search_pattern(input_table = bams$`20240606_AL5RACE002__atmost1_smarter_or_tsd`,\n",
    "                                   prefix = \"xdpsvatsd_revcomp\",\n",
    "                                   pattern = \"CTATTTCATTTTTTTTTTTTC\",\n",
    "                                   threads = 50)\n",
    "    \n",
    "    write_tsv(x = xdpsvatsd_tib, file = outfile)\n",
    "}else{\n",
    "    xdpsvatsd_tib = read_tsv(file = outfile)\n",
    "}"
   ]
  },
  {
   "cell_type": "markdown",
   "id": "0078386a-187e-4466-98fc-baf661bed281",
   "metadata": {},
   "source": [
    "### Joining info about oligos with the read info"
   ]
  },
  {
   "cell_type": "code",
   "execution_count": 25,
   "id": "b0b1cdaa-3200-4797-809d-bd976999abc0",
   "metadata": {
    "execution": {
     "iopub.execute_input": "2024-06-11T02:51:51.888639Z",
     "iopub.status.busy": "2024-06-11T02:51:51.886304Z",
     "iopub.status.idle": "2024-06-11T02:52:07.582053Z",
     "shell.execute_reply": "2024-06-11T02:52:07.579195Z"
    },
    "vscode": {
     "languageId": "r"
    }
   },
   "outputs": [],
   "source": [
    "bam_oligo_info = left_join(x = bams$`20240606_AL5RACE002`,\n",
    "                           y = smarter_tib,\n",
    "                           by = c(\"qname\", \"RG_tag\")) %>%\n",
    "                 left_join(x = .,\n",
    "                           y = smarter_nhits_tib,\n",
    "                           by = c(\"qname\", \"RG_tag\")) %>%\n",
    "                 left_join(x = .,\n",
    "                           y = xdpsvatsd_nhits_tib,\n",
    "                           by = c(\"qname\", \"RG_tag\")) %>%\n",
    "                 left_join(x = .,\n",
    "                           y = xdpsvatsd_tib,\n",
    "                           by = c(\"qname\", \"RG_tag\")) %>%\n",
    "                 left_join(x = .,\n",
    "                           y = al5race002_tib,\n",
    "                           by = c(\"qname\", \"RG_tag\")) %>%\n",
    "                 left_join(x = .,\n",
    "                           y = bc_summary %>% dplyr::select(read_id,\n",
    "                                                            sequence_length_template,\n",
    "                                                            mean_qscore_template),\n",
    "                           by = c(\"qname\" = \"read_id\"))"
   ]
  },
  {
   "cell_type": "code",
   "execution_count": 26,
   "id": "5c40e5eb-fa3b-4e01-8805-8cb9d511567b",
   "metadata": {
    "execution": {
     "iopub.execute_input": "2024-06-11T02:52:07.610514Z",
     "iopub.status.busy": "2024-06-11T02:52:07.608114Z",
     "iopub.status.idle": "2024-06-11T02:52:08.516137Z",
     "shell.execute_reply": "2024-06-11T02:52:08.513242Z"
    },
    "vscode": {
     "languageId": "r"
    }
   },
   "outputs": [],
   "source": [
    "bam_oligo_info = bam_oligo_info %>%\n",
    "    mutate(primer_presence_concat_check = ifelse((qname %in% reads_atmost1_smarter) & (qname %in% reads_atmost1_xdpsvatsd),\n",
    "                                                  \"non concatamer\",\n",
    "                                                  \"likely concatamer\")) %>%\n",
    "    mutate(mean_qscore_qc = ifelse(mean_qscore_template >= 12, \"pass\", \"fail\"))"
   ]
  },
  {
   "cell_type": "markdown",
   "id": "6b03be1e-50bf-4d27-a214-8ebde7bfec62",
   "metadata": {},
   "source": [
    "### Histogram of scores for primers"
   ]
  },
  {
   "cell_type": "code",
   "execution_count": 27,
   "id": "97efd159-7d9a-42f7-ae9d-67238325135d",
   "metadata": {
    "execution": {
     "iopub.execute_input": "2024-06-11T02:52:08.526378Z",
     "iopub.status.busy": "2024-06-11T02:52:08.524048Z",
     "iopub.status.idle": "2024-06-11T02:52:12.574321Z",
     "shell.execute_reply": "2024-06-11T02:52:12.571605Z"
    },
    "vscode": {
     "languageId": "r"
    }
   },
   "outputs": [
    {
     "name": "stderr",
     "output_type": "stream",
     "text": [
      "\u001b[1m\u001b[22m`stat_bin()` using `bins = 30`. Pick better value with `binwidth`.\n"
     ]
    },
    {
     "name": "stderr",
     "output_type": "stream",
     "text": [
      "Warning message:\n",
      "“\u001b[1m\u001b[22mRemoved 280314 rows containing non-finite outside the scale range\n",
      "(`stat_bin()`).”\n"
     ]
    },
    {
     "data": {
      "image/png": "[encoded data removed]",
      "text/plain": [
       "plot without title"
      ]
     },
     "metadata": {
      "image/png": {
       "height": 180,
       "width": 510
      }
     },
     "output_type": "display_data"
    }
   ],
   "source": [
    "options(repr.plot.width = 8.5, repr.plot.height = 3)\n",
    "bam_oligo_info %>%\n",
    "    pivot_longer(cols = ends_with(\"score\"), names_to = \"oligo\", values_to = \"score\") %>%\n",
    "    ggplot(aes(x = score, fill = oligo)) +\n",
    "    geom_histogram(position = \"dodge\") +\n",
    "    geom_vline(xintercept = 85, color = \"#00BA38\") +\n",
    "    theme_pubr() +\n",
    "    ylab(\"Frequency\")"
   ]
  },
  {
   "cell_type": "markdown",
   "id": "25a12213-f602-47ad-a82b-1377d307f2a4",
   "metadata": {},
   "source": [
    "### Histogram of coverage for primers"
   ]
  },
  {
   "cell_type": "code",
   "execution_count": 28,
   "id": "51b3f350-d3f7-4b69-a8f7-5a1c655c1fc3",
   "metadata": {
    "execution": {
     "iopub.execute_input": "2024-06-11T02:52:12.584320Z",
     "iopub.status.busy": "2024-06-11T02:52:12.582018Z",
     "iopub.status.idle": "2024-06-11T02:52:17.881184Z",
     "shell.execute_reply": "2024-06-11T02:52:17.878369Z"
    },
    "vscode": {
     "languageId": "r"
    }
   },
   "outputs": [
    {
     "name": "stderr",
     "output_type": "stream",
     "text": [
      "\u001b[1m\u001b[22m`stat_bin()` using `bins = 30`. Pick better value with `binwidth`.\n"
     ]
    },
    {
     "name": "stderr",
     "output_type": "stream",
     "text": [
      "Warning message:\n",
      "“\u001b[1m\u001b[22mRemoved 280314 rows containing non-finite outside the scale range\n",
      "(`stat_bin()`).”\n"
     ]
    },
    {
     "data": {
      "image/png": "[encoded data removed]",
      "text/plain": [
       "plot without title"
      ]
     },
     "metadata": {
      "image/png": {
       "height": 180,
       "width": 510
      }
     },
     "output_type": "display_data"
    }
   ],
   "source": [
    "options(repr.plot.width = 8.5, repr.plot.height = 3)\n",
    "bam_oligo_info %>%\n",
    "    pivot_longer(cols = ends_with(\"coverage\"), names_to = \"oligo\", values_to = \"coverage\") %>%\n",
    "    ggplot(aes(x = coverage, fill = oligo)) +\n",
    "    geom_histogram(position = \"dodge\") +\n",
    "    geom_vline(xintercept = 0.8) +\n",
    "    theme_pubr() +\n",
    "    ylab(\"Frequency\")"
   ]
  },
  {
   "cell_type": "markdown",
   "id": "7b5e7652-233b-4122-b3b9-06ed8f2fca7d",
   "metadata": {},
   "source": [
    "### Histogram of MAPQ"
   ]
  },
  {
   "cell_type": "code",
   "execution_count": 29,
   "id": "75295dbb-b3e4-4190-9f85-d79e3a18ee81",
   "metadata": {
    "execution": {
     "iopub.execute_input": "2024-06-11T02:52:17.891056Z",
     "iopub.status.busy": "2024-06-11T02:52:17.888797Z",
     "iopub.status.idle": "2024-06-11T02:52:18.684008Z",
     "shell.execute_reply": "2024-06-11T02:52:18.681248Z"
    },
    "vscode": {
     "languageId": "r"
    }
   },
   "outputs": [
    {
     "data": {
      "image/png": "[encoded data removed]",
      "text/plain": [
       "plot without title"
      ]
     },
     "metadata": {
      "image/png": {
       "height": 180,
       "width": 510
      }
     },
     "output_type": "display_data"
    }
   ],
   "source": [
    "options(repr.plot.width = 8.5, repr.plot.height = 3)\n",
    "bam_oligo_info %>%\n",
    "    ggplot(aes(x = mapq)) +\n",
    "    geom_histogram(fill = \"white\", color = \"black\", binwidth = 1) +\n",
    "    theme_pubr() +\n",
    "    ylab(\"Frequency\")"
   ]
  },
  {
   "cell_type": "code",
   "execution_count": 30,
   "id": "f66bb1bd-7922-430b-a1df-bc3af8768a58",
   "metadata": {
    "execution": {
     "iopub.execute_input": "2024-06-11T02:52:18.693739Z",
     "iopub.status.busy": "2024-06-11T02:52:18.691453Z",
     "iopub.status.idle": "2024-06-11T02:52:19.143797Z",
     "shell.execute_reply": "2024-06-11T02:52:19.140976Z"
    },
    "vscode": {
     "languageId": "r"
    }
   },
   "outputs": [],
   "source": [
    "# filtering out based on coverage of oligos\n",
    "good_primer_cov_reads = bam_oligo_info %>%\n",
    "    filter(if_all(.cols = ends_with(\"coverage\"), .fns = ~ .x >= 0.8)) %>%\n",
    "    filter(smarter_oligo__score >= 85) %>%\n",
    "    # filter(mapq == 60) %>%\n",
    "    pull(qname)\n",
    "bam_oligo_info = bam_oligo_info %>%\n",
    "    mutate(primer_coverage_qc = ifelse(qname %in% good_primer_cov_reads,\n",
    "                                       \"good coverage of primers\",\n",
    "                                       \"insufficient coverage of primers\"))"
   ]
  },
  {
   "cell_type": "markdown",
   "id": "ebee45c9-cddd-4a50-9185-51100d0e8b10",
   "metadata": {},
   "source": [
    "## Extracting hexamer sequences and checking the AG content and hexamer size"
   ]
  },
  {
   "cell_type": "code",
   "execution_count": 31,
   "id": "4aab03e2-79f3-4cc5-b07e-39b489340899",
   "metadata": {
    "execution": {
     "iopub.execute_input": "2024-06-11T02:52:19.154075Z",
     "iopub.status.busy": "2024-06-11T02:52:19.151789Z",
     "iopub.status.idle": "2024-06-11T02:52:25.852836Z",
     "shell.execute_reply": "2024-06-11T02:52:25.845958Z"
    },
    "vscode": {
     "languageId": "r"
    }
   },
   "outputs": [],
   "source": [
    "# seq_between_hex_and_oligo = \"CTATTTCATTTTTTTTTTTTCCACATCAGATGTGGAAAAAAAATGTACT\"\n",
    "bam_oligo_info = bam_oligo_info %>%\n",
    "    mutate(hexamer_left = smarter_oligo__end+1,\n",
    "           hexamer_right = xdpsvatsd_revcomp__start-1,\n",
    "           size_of_hexamer = hexamer_right - hexamer_left + 1,\n",
    "           hexamer_seq = str_sub(seq, start = hexamer_left, end = hexamer_right),\n",
    "           hexamer_qual = str_sub(qual, start = hexamer_left, end = hexamer_right)) %>%\n",
    "    mutate(hexamer_seq = case_when(is.na(hexamer_seq) ~ \"\",\n",
    "                                   TRUE ~ hexamer_seq),\n",
    "           hexamer_qual = case_when(is.na(hexamer_qual) ~ \"\",\n",
    "                                   TRUE ~ hexamer_qual)) %>%\n",
    "    mutate(\n",
    "           AG_hex_content = ifelse(\n",
    "               !is.na(hexamer_seq),\n",
    "               letterFrequency(DNAStringSet(hexamer_seq), \"AG\", as.prob = T) %>% as.numeric(),\n",
    "               NA_real_),\n",
    "           CT_hex_content = ifelse(\n",
    "               !is.na(hexamer_seq),\n",
    "               letterFrequency(DNAStringSet(hexamer_seq), \"CT\", as.prob = T) %>% as.numeric(),\n",
    "               NA_real_),\n",
    "           A_hex_content = ifelse(\n",
    "               !is.na(hexamer_seq),\n",
    "               letterFrequency(DNAStringSet(hexamer_seq), \"A\", as.prob = T) %>% as.numeric(),\n",
    "               NA_real_),\n",
    "           G_hex_content = ifelse(\n",
    "               !is.na(hexamer_seq),\n",
    "               letterFrequency(DNAStringSet(hexamer_seq), \"G\", as.prob = T) %>% as.numeric(),\n",
    "               NA_real_),\n",
    "          ) %>%\n",
    "    mutate(AG_based_concat_check = case_when(AG_hex_content >= 0.95 ~ \"non concatamer\",\n",
    "                                             AG_hex_content < 0.95 ~ \"likely concatamer\",\n",
    "                                             TRUE ~ \"likely concatamer\"))\n",
    "\n",
    "write_tsv(file = \"results_unfilt__331092G_XDP_d120__q12_cov08.tsv\", x = bam_oligo_info)"
   ]
  },
  {
   "cell_type": "code",
   "execution_count": 32,
   "id": "048c0a75-1002-45fe-819a-8eb6471eed2e",
   "metadata": {
    "execution": {
     "iopub.execute_input": "2024-06-11T02:52:25.869593Z",
     "iopub.status.busy": "2024-06-11T02:52:25.864916Z",
     "iopub.status.idle": "2024-06-11T02:52:27.882194Z",
     "shell.execute_reply": "2024-06-11T02:52:27.878715Z"
    },
    "vscode": {
     "languageId": "r"
    }
   },
   "outputs": [],
   "source": [
    "# filtering out potential concatamers\n",
    "bam_oligo_info_filt = bam_oligo_info %>%\n",
    "    filter(primer_presence_concat_check == \"non concatamer\") %>%\n",
    "    filter(primer_coverage_qc == \"good coverage of primers\") %>%\n",
    "    filter(AG_based_concat_check == \"non concatamer\")\n",
    "\n",
    "write_tsv(file = \"results_filt__331092G_XDP_d120__q12_cov08.tsv\", x = bam_oligo_info_filt)"
   ]
  },
  {
   "cell_type": "markdown",
   "id": "cfda46cb-2b84-4687-87a6-35d7536135ed",
   "metadata": {},
   "source": [
    "### Checking size of hexamer sequences"
   ]
  },
  {
   "cell_type": "code",
   "execution_count": 33,
   "id": "7ac682b7-da76-493f-ac00-a7fb5abccfcf",
   "metadata": {
    "execution": {
     "iopub.execute_input": "2024-06-11T02:52:27.893478Z",
     "iopub.status.busy": "2024-06-11T02:52:27.890652Z",
     "iopub.status.idle": "2024-06-11T02:52:28.435489Z",
     "shell.execute_reply": "2024-06-11T02:52:28.432893Z"
    },
    "vscode": {
     "languageId": "r"
    }
   },
   "outputs": [
    {
     "name": "stderr",
     "output_type": "stream",
     "text": [
      "Warning message:\n",
      "“\u001b[1m\u001b[22mRemoved 2 rows containing missing values or values outside the scale range\n",
      "(`geom_bar()`).”\n"
     ]
    },
    {
     "data": {
      "image/png": "[encoded data removed]",
      "text/plain": [
       "plot without title"
      ]
     },
     "metadata": {
      "image/png": {
       "height": 180,
       "width": 840
      }
     },
     "output_type": "display_data"
    }
   ],
   "source": [
    "options(repr.plot.width = 14, repr.plot.height = 3)\n",
    "bam_oligo_info_filt %>%\n",
    "    ggplot(aes(x = size_of_hexamer)) +\n",
    "    geom_histogram(position = \"dodge\", binwidth = 1, fill = \"white\", color = \"black\") +\n",
    "    scale_x_continuous(breaks = seq(0, 330, by = 6), limits = c(0, 330)) +\n",
    "    xlab(\"Length of hexamer (bp)\") +\n",
    "    ylab(\"Frequency\") +\n",
    "    theme_pubr(x.text.angle = 45)"
   ]
  },
  {
   "cell_type": "code",
   "execution_count": 34,
   "id": "ea6e5693-41cd-48d9-a29d-081a4292fe4a",
   "metadata": {
    "execution": {
     "iopub.execute_input": "2024-06-11T02:52:28.446108Z",
     "iopub.status.busy": "2024-06-11T02:52:28.443797Z",
     "iopub.status.idle": "2024-06-11T02:52:28.978737Z",
     "shell.execute_reply": "2024-06-11T02:52:28.976117Z"
    },
    "vscode": {
     "languageId": "r"
    }
   },
   "outputs": [
    {
     "name": "stderr",
     "output_type": "stream",
     "text": [
      "Warning message:\n",
      "“\u001b[1m\u001b[22mRemoved 2 rows containing missing values or values outside the scale range\n",
      "(`geom_bar()`).”\n"
     ]
    },
    {
     "data": {
      "image/png": "[encoded data removed]",
      "text/plain": [
       "plot without title"
      ]
     },
     "metadata": {
      "image/png": {
       "height": 180,
       "width": 840
      }
     },
     "output_type": "display_data"
    }
   ],
   "source": [
    "options(repr.plot.width = 14, repr.plot.height = 3)\n",
    "bam_oligo_info_filt %>%\n",
    "    ggplot(aes(x = size_of_hexamer)) +\n",
    "    geom_histogram(position = \"dodge\", binwidth = 1, fill = \"white\", color = \"black\",\n",
    "                   aes(y = log10(after_stat(count) + 1))) +\n",
    "    scale_x_continuous(breaks = seq(0, 330, by = 6), limits = c(0, 330)) +\n",
    "    xlab(\"Length of hexamer (bp)\") +\n",
    "    ylab(\"log10(Frequency + 1)\") +\n",
    "    theme_pubr(x.text.angle = 45)"
   ]
  },
  {
   "cell_type": "code",
   "execution_count": null,
   "id": "5511b998-d96f-4797-8887-64743052f03d",
   "metadata": {
    "execution": {
     "iopub.execute_input": "2024-06-11T02:52:28.988948Z",
     "iopub.status.busy": "2024-06-11T02:52:28.986644Z",
     "iopub.status.idle": "2024-06-11T02:52:29.512603Z",
     "shell.execute_reply": "2024-06-11T02:52:29.509999Z"
    },
    "vscode": {
     "languageId": "r"
    }
   },
   "outputs": [],
   "source": [
    "options(repr.plot.width = 10, repr.plot.height = 3)\n",
    "bam_oligo_info_filt %>%\n",
    "    ggplot(aes(x = -size_of_hexamer)) +\n",
    "    geom_histogram(position = \"dodge\", binwidth = 1, fill = \"white\", color = \"black\") +\n",
    "    scale_x_continuous(breaks = seq(-330, 0, by = 6), limits = c(-330, 0),\n",
    "                       labels = abs(seq(-330, 0, by = 6)/6)) +\n",
    "    xlab(\"(AGAGGG)n\") +\n",
    "    ylab(\"Frequency\") +\n",
    "    theme_pubr(x.text.angle = 45)"
   ]
  },
  {
   "cell_type": "code",
   "execution_count": null,
   "id": "99737573-309f-4315-8e20-a35e95217921",
   "metadata": {
    "execution": {
     "iopub.execute_input": "2024-06-11T02:52:29.522928Z",
     "iopub.status.busy": "2024-06-11T02:52:29.520627Z",
     "iopub.status.idle": "2024-06-11T02:52:30.722914Z",
     "shell.execute_reply": "2024-06-11T02:52:30.720159Z"
    },
    "vscode": {
     "languageId": "r"
    }
   },
   "outputs": [],
   "source": [
    "options(repr.plot.width = 10.5, repr.plot.height = 3)\n",
    "max_len = max(bam_oligo_info_filt$size_of_hexamer)\n",
    "x_max = ceiling(max_len/6)*6 \n",
    "\n",
    "long_gagagg = rep(c(\"G\", \"A\", \"G\", \"A\", \"G\", \"G\"), 100)\n",
    "long_gagagg = long_gagagg[-length(long_gagagg)]\n",
    "long_gagagg = long_gagagg[(length(long_gagagg)-x_max+1):length(long_gagagg)]\n",
    "long_gagagg = c(long_gagagg, \"C\")\n",
    "\n",
    "colors_seq = case_when(long_gagagg == \"A\" ~ \"#59A14F\",\n",
    "                       long_gagagg == \"C\" ~ \"#4E79A7\",\n",
    "                       long_gagagg == \"G\" ~ \"#F28E2B\",\n",
    "                       long_gagagg == \"T\" ~ \"#E15759\",\n",
    "                       TRUE ~ NA_character_)\n",
    "\n",
    "colors_seq = ifelse(colors_seq == \"C\", \"#4E79A7\", colors_seq)\n",
    "\n",
    "seq_data = data.frame(\n",
    "  x = seq(-ceiling(max_len/6)*6, 0, by = 1),\n",
    "  y = rep(-0, length(seq(-ceiling(max_len/6)*6, 0, by = 1))),  # Position below the x-axis\n",
    "  text = long_gagagg,\n",
    "  color = colors_seq\n",
    ")\n",
    "\n",
    "hist_of_hex_length = bam_oligo_info_filt %>%\n",
    "    ggplot(aes(x = -size_of_hexamer)) +\n",
    "    geom_histogram(position = \"dodge\", binwidth = 1, width = 1, fill = \"#7b848f\",\n",
    "                   aes(y = log10(after_stat(count) + 1))) +\n",
    "    scale_x_continuous(breaks = seq(-ceiling(max_len/6)*6, 0, by = 2),\n",
    "                       labels = seq(-ceiling(max_len/6)*6, 0, by = 2)) +\n",
    "    xlab(\"Length (bp)\") +\n",
    "    ylab(\"log10(Frequency + 1)\") +\n",
    "    theme_pubr(x.text.angle = 45) + \n",
    "    geom_tile(data = seq_data, aes(x = x, y = y, fill = color), width = 1, height = 0.4) +\n",
    "    geom_text(data = seq_data, aes(x = x, y = y, label = text), color = \"white\") +\n",
    "    scale_fill_identity() +\n",
    "    labs(title = \"XDP 33109.2G d120\")\n",
    "\n",
    "ggsave(filename = \"5RACE_hexlength_331092G_XDP_d120__q12_cov08__log10freq.pdf\",\n",
    "       plot = hist_of_hex_length,\n",
    "       width = 10.5,\n",
    "       height = 3,\n",
    "       units = \"in\",\n",
    "       dpi = 600)\n",
    "\n",
    "hist_of_hex_length"
   ]
  },
  {
   "cell_type": "code",
   "execution_count": null,
   "id": "f234069d-df89-4fb8-b391-5101e39eb60f",
   "metadata": {
    "execution": {
     "iopub.execute_input": "2024-06-11T02:52:30.733130Z",
     "iopub.status.busy": "2024-06-11T02:52:30.730769Z",
     "iopub.status.idle": "2024-06-11T02:52:31.598356Z",
     "shell.execute_reply": "2024-06-11T02:52:31.595783Z"
    },
    "vscode": {
     "languageId": "r"
    }
   },
   "outputs": [],
   "source": [
    "options(repr.plot.width = 10.5, repr.plot.height = 3)\n",
    "max_len = max(bam_oligo_info_filt$size_of_hexamer)\n",
    "\n",
    "hist_of_hex_length = bam_oligo_info_filt %>%\n",
    "    ggplot(aes(x = -size_of_hexamer)) +\n",
    "    geom_histogram(position = \"dodge\", binwidth = 1, width = 1, fill = \"#7b848f\") +\n",
    "    scale_x_continuous(breaks = seq(-ceiling(max_len/6)*6, 0, by = 2),\n",
    "                       labels = seq(-ceiling(max_len/6)*6, 0, by = 2)) +\n",
    "    xlab(\"Coordinate (bp)\") +\n",
    "    ylab(\"Frequency\") +\n",
    "    theme_pubr(x.text.angle = 45) + \n",
    "    geom_tile(data = seq_data, aes(x = x, y = y-2400, fill = color), width = 1, height = 2400) +\n",
    "    geom_text(data = seq_data, aes(x = x, y = y-2400, label = text), color = \"white\") +\n",
    "    scale_fill_identity() +\n",
    "    labs(title = \"XDP 33109.2G d120\")\n",
    "\n",
    "ggsave(filename = \"5RACE_hexlength_331092G_XDP_d120__q12_cov08__freq.pdf\",\n",
    "       plot = hist_of_hex_length,\n",
    "       width = 10.5,\n",
    "       height = 3,\n",
    "       units = \"in\",\n",
    "       dpi = 600)\n",
    "\n",
    "hist_of_hex_length"
   ]
  },
  {
   "cell_type": "code",
   "execution_count": 38,
   "id": "897dfd82-0e9a-4741-a224-e749f9a4b5c5",
   "metadata": {
    "execution": {
     "iopub.execute_input": "2024-06-11T02:52:31.608892Z",
     "iopub.status.busy": "2024-06-11T02:52:31.606627Z",
     "iopub.status.idle": "2024-06-11T02:52:31.672973Z",
     "shell.execute_reply": "2024-06-11T02:52:31.670244Z"
    },
    "vscode": {
     "languageId": "r"
    }
   },
   "outputs": [
    {
     "data": {
      "text/plain": [
       ".\n",
       "  -82   -77   -73   -72   -71   -70   -69   -68   -67   -66   -65   -64   -63 \n",
       "    1     1     2     2     1     2     1     2     4     1     3     1     1 \n",
       "  -62   -59   -53   -49   -48   -45   -38   -37   -35   -34   -33   -32   -31 \n",
       "    2     1     1     1     2     1     1     3     2     5     7     9    19 \n",
       "  -30   -29   -28   -27   -26   -25   -24   -23   -22   -21   -20   -19   -18 \n",
       "   40    70   175   717  2283 29996  5779  4623   969   297   153   167    58 \n",
       "  -17   -16   -15   -14   -13   -12   -11   -10    -8    -7    -6    -5    -2 \n",
       "   24    13     7     3     4     4     1     1     1     1     1     1     2 \n",
       "   -1 \n",
       "  173 "
      ]
     },
     "metadata": {},
     "output_type": "display_data"
    }
   ],
   "source": [
    "(bam_oligo_info_filt$size_of_hexamer * -1) %>% table()"
   ]
  },
  {
   "cell_type": "code",
   "execution_count": 39,
   "id": "d7aacb54-7ce3-4a27-a454-219bcfb52680",
   "metadata": {
    "execution": {
     "iopub.execute_input": "2024-06-11T02:52:31.682497Z",
     "iopub.status.busy": "2024-06-11T02:52:31.680100Z",
     "iopub.status.idle": "2024-06-11T02:52:31.746127Z",
     "shell.execute_reply": "2024-06-11T02:52:31.743373Z"
    },
    "vscode": {
     "languageId": "r"
    }
   },
   "outputs": [
    {
     "data": {
      "text/plain": [
       ".\n",
       "    1     2     5     6     7     8    10    11    12    13    14    15    16 \n",
       "  173     2     1     1     1     1     1     1     4     4     3     7    13 \n",
       "   17    18    19    20    21    22    23    24    25    26    27    28    29 \n",
       "   24    58   167   153   297   969  4623  5779 29996  2283   717   175    70 \n",
       "   30    31    32    33    34    35    37    38    45    48    49    53    59 \n",
       "   40    19     9     7     5     2     3     1     1     2     1     1     1 \n",
       "   62    63    64    65    66    67    68    69    70    71    72    73    77 \n",
       "    2     1     1     3     1     4     2     1     2     1     2     2     1 \n",
       "   82 \n",
       "    1 "
      ]
     },
     "metadata": {},
     "output_type": "display_data"
    }
   ],
   "source": [
    "bam_oligo_info_filt$size_of_hexamer %>% table()"
   ]
  },
  {
   "cell_type": "code",
   "execution_count": 40,
   "id": "5e1253ba-b9fe-45fd-b9b1-56ecbb78a02a",
   "metadata": {
    "execution": {
     "iopub.execute_input": "2024-06-11T02:52:31.755792Z",
     "iopub.status.busy": "2024-06-11T02:52:31.753453Z",
     "iopub.status.idle": "2024-06-11T02:52:31.837400Z",
     "shell.execute_reply": "2024-06-11T02:52:31.834746Z"
    },
    "vscode": {
     "languageId": "r"
    }
   },
   "outputs": [
    {
     "name": "stdout",
     "output_type": "stream",
     "text": [
      "[1] 1\n",
      "[1] \"TGTATTGTCCTGTACTTCGTTCAGTTACGTATACTAATACGACTCGCTATAGGGCAAGCAGTGGTATCAACGCAGAGTACATGGGACTTGGCATTTTTCTTTTTTCAATTAAAAACATTTTCTTGCTCTCGGTCTTTTTTTTTTTCCACATCAGATGTGGAAAAAAAATGTACTGGCATTGTAATAAGGCTTGAGGGAGGCAGCAATACGGTT A\"     \n",
      "[2] \"TGTTTATGTGTAACGTACTTCGTTCAGTTACGTATTGCTCTAATACGACTCACTATAGGGCAAGCAGTGGTATGAACGCAGAGTACATGGGACTTGGCATTTTTCTTTTTTCAAATTAAAAACATTTGTCTTGCTCTCGGTCTTTTTTTTTTTCCACATCAGATGTGGAAAAAAAATGTACTGGCATTGTAATAAGGCTTGAGGGAGGCAATTGGTTA A\"\n",
      "[3] \"TATGTAACTACTTGGTTCCAGTTAGTATTGCTCTAATACGACTCACTATAGGGCAAGCAGTGGTATCAACGCAGAGTACATGGGACTTGGCATTTTTCTTTTTTCAATTAAAAACATTTTCTTGCTCTCGGTCTTTTTTTTTTCCACATCAGATGTGGAAAAAAAATGTACTGGCATTGTAATAAGGCTTGAGGGAGGCAGCAATACGTT A\"        \n",
      "[4] \"TGTTATGGTGGCACCTCGTTCAGTTACGTATTGCTCTAATACGACTCACTATAGGGCAAGCAGTGGTATCAACGCAGAGTACATGGGACTTGGCATTTTTCTTTTTTCAATTGGAAAACAGTTTCTTGCTCTCGGTCTTTTTTTTTTCCCACATCAGATGTGGAAAAAAAAATGTACTGGCATTGTAATAAGGCTTGAGGGAGGCAGCAATACGTAA A\" \n",
      "[5] \"CCATTGCTCTAATACGACTCACTATAGGGCAAGCAGTGGTATCAACGCAGAGTACATGGGACTTGGCATTTTTTTTTTTTTAAATTAAAAACATTTTCTTGCTCTCGGTTTTTTTTTTTTCCACATCAGATGTGGAAAAAAATGTACTGGCATTGTAATAAGGCTTGAGGGAGGCAGCAATACGTAACTGAACGAATAGGTTACAC A\"            \n",
      "[1] 25\n",
      "[1] \"ATGTACTGTACTTCGTTCAGTTACGTATTGCTCTAATACGACTCACTATAGGGCAAGCAGTGGTATCAACGCAGAGTACATGGGGGGAGGGGGGAGGGGGAGAGGAGAGCTATTTCATTTTTTTTTTTTTCCACATCAGATGTGGAAAAAAAATGTACTGGCATTGTAATAAGGCTTGAGGGAGGCAGCAATACGT GGGAGGGGGGAGGGGGAGAGGAGAG\"         \n",
      "[2] \"CGTGTGTGTGGCACACACTTCAACCAGTACGTATTGCTCTAATACGACTCACTATAGGGCAAGCAGTGGTATAGACGCAGAGTACATGGGGGGAGGGGGGAGGGGAGAGGGAGAGCTATTTCATTTTTTTTTTTTTCCACATCAGATGTGGAAAAAAAAATGTACTGGCATTGTAATAAGGCTTGAGGAGGCAATTG GGGAGGGGGGAGGGGAGAGGGAGAG\"        \n",
      "[3] \"GGGGGTGCCTGCGTAACCTATTCGTTCAGTTACGTATTGCTCTAATACGACTCACTATAGGGCAAGCAGTGGTATCAACGCAGAGTACATGGGGGGAGAGGGAGAGGGAGAGGGAGAGCTATTTCATTTTTTTTTTTTCCACATCAGATGTGGAAAAAAAATGTACTGGCATTGTAATAAGGCTTGGGAGGCAGCAATACGTGGC GGGAGAGGGAGAGGGAGAGGGAGAG\"\n",
      "[4] \"ATGTGGCCTGTACTCGTTCAGTTACGTATTGCTCTAATACGACTCACTATAGGGCAAGCAGTGGTATCAACGCAGAGTACATGGGGGGAGGGGGGAGGGGAGAGGGAGAGCTATTTCATTTTTTTTTTTTTCCACATCAGATGTGGAAAAAAAAATGTACTGGCATTGTAATAAGGCTTGAGGGGAGCAGCAATTGG GGGAGGGGGGAGGGGAGAGGGAGAG\"        \n",
      "[5] \"TGTACCTGTACTTGGTTCAGTTACGTATTGCTCTAATACGACTCACTATAGGGCAAGCAGTGGTATCAACGCAGAGTACATGGGGGGAGAGGGAGAGGGAGAGGGAGAGCTATTTCATTTTTTTTTTTTCCACATCAGATGTGGAAAAAAAATGTACTGGCATTGTAATAAGGCTTGAGGGAGGCAGCAATACATT GGGAGAGGGAGAGGGAGAGGGAGAG\"         \n"
     ]
    }
   ],
   "source": [
    "set.seed(667)\n",
    "for(i in c(1, 25)){\n",
    "    print(i)\n",
    "    tmpobj = bam_oligo_info_filt %>%\n",
    "        filter(size_of_hexamer == i) %>%\n",
    "        select(qname, seq, hexamer_seq, mapq) %>%\n",
    "        .[sample(x = 1:100, 5),]\n",
    "    print(paste(tmpobj$seq, tmpobj$hexamer_seq))\n",
    "}"
   ]
  },
  {
   "cell_type": "code",
   "execution_count": null,
   "id": "ab8578bb-9f6a-4ef5-936d-7c32a27674bf",
   "metadata": {
    "execution": {
     "iopub.execute_input": "2024-06-11T02:52:31.846994Z",
     "iopub.status.busy": "2024-06-11T02:52:31.844778Z",
     "iopub.status.idle": "2024-06-11T02:52:33.882517Z",
     "shell.execute_reply": "2024-06-11T02:52:33.879810Z"
    },
    "vscode": {
     "languageId": "r"
    }
   },
   "outputs": [],
   "source": [
    "options(repr.plot.width = 14, repr.plot.height = 6)\n",
    "bam_oligo_info_filt %>%\n",
    "    ggplot(aes(x = size_of_hexamer, y = A_hex_content)) +\n",
    "    geom_point(alpha = 0.2) +\n",
    "    scale_x_continuous(breaks = seq(0, 330, by = 6), limits = c(0, 330)) +\n",
    "    xlab(\"size_of_hexamer_bp\") +\n",
    "    theme_pubr(x.text.angle = 45)"
   ]
  },
  {
   "cell_type": "markdown",
   "id": "3c7d28aa-a95d-47d3-8731-ec9f998602f5",
   "metadata": {},
   "source": [
    "## Checking step-by-step read elimination"
   ]
  },
  {
   "cell_type": "code",
   "execution_count": 42,
   "id": "e49479b0-fc0e-4565-8ae9-a003a99acb4a",
   "metadata": {
    "execution": {
     "iopub.execute_input": "2024-06-11T02:52:33.892961Z",
     "iopub.status.busy": "2024-06-11T02:52:33.890726Z",
     "iopub.status.idle": "2024-06-11T02:52:34.126159Z",
     "shell.execute_reply": "2024-06-11T02:52:34.123371Z"
    },
    "vscode": {
     "languageId": "r"
    }
   },
   "outputs": [],
   "source": [
    "# base call reads\n",
    "basecalled_reads = bc_summary$read_id %>% unique() %>% length()"
   ]
  },
  {
   "cell_type": "code",
   "execution_count": 43,
   "id": "f9757279-67d4-43a0-9d6c-b8e0e29d8a69",
   "metadata": {
    "execution": {
     "iopub.execute_input": "2024-06-11T02:52:34.135959Z",
     "iopub.status.busy": "2024-06-11T02:52:34.133635Z",
     "iopub.status.idle": "2024-06-11T02:53:08.790040Z",
     "shell.execute_reply": "2024-06-11T02:53:08.787281Z"
    },
    "vscode": {
     "languageId": "r"
    }
   },
   "outputs": [],
   "source": [
    "# reads aligned in DNA mode\n",
    "# no-splicing here as we need it simple\n",
    "bam_all = read_bam(bamfile = my_bam, libname = sample)"
   ]
  },
  {
   "cell_type": "code",
   "execution_count": 44,
   "id": "e6793ec2-b941-45ed-9817-e7e056b70f5d",
   "metadata": {
    "execution": {
     "iopub.execute_input": "2024-06-11T02:53:08.800237Z",
     "iopub.status.busy": "2024-06-11T02:53:08.797983Z",
     "iopub.status.idle": "2024-06-11T02:53:09.446121Z",
     "shell.execute_reply": "2024-06-11T02:53:09.443392Z"
    },
    "vscode": {
     "languageId": "r"
    }
   },
   "outputs": [],
   "source": [
    "# bam_all %>% dim()\n",
    "aligned = bam_all %>% filter(flag != 4) %>% pull(qname) %>% unique() %>% length()\n",
    "unaligned = bam_all %>% filter(flag == 4) %>% pull(qname) %>% unique() %>% length()"
   ]
  },
  {
   "cell_type": "code",
   "execution_count": 45,
   "id": "5714d636-6776-4ab3-97cc-c91a3c7ecb41",
   "metadata": {
    "execution": {
     "iopub.execute_input": "2024-06-11T02:53:09.456272Z",
     "iopub.status.busy": "2024-06-11T02:53:09.454042Z",
     "iopub.status.idle": "2024-06-11T02:53:09.719212Z",
     "shell.execute_reply": "2024-06-11T02:53:09.716467Z"
    },
    "vscode": {
     "languageId": "r"
    }
   },
   "outputs": [],
   "source": [
    "# align reads to xdp ref genome and get only those\n",
    "# aligning to the XDP-SVA region start-5000 and end+5000\n",
    "# keep only primary alignments\n",
    "aligned_to_roi = bam_reads$qname %>% unique() %>% length()"
   ]
  },
  {
   "cell_type": "code",
   "execution_count": 46,
   "id": "78293573-725f-4f05-8faf-2fdd85539de7",
   "metadata": {
    "execution": {
     "iopub.execute_input": "2024-06-11T02:53:09.729053Z",
     "iopub.status.busy": "2024-06-11T02:53:09.726778Z",
     "iopub.status.idle": "2024-06-11T02:53:09.947026Z",
     "shell.execute_reply": "2024-06-11T02:53:09.944321Z"
    },
    "vscode": {
     "languageId": "r"
    }
   },
   "outputs": [],
   "source": [
    "# only good quality reads aligning to target\n",
    "aligned_to_roi_pass = bams$`20240606_AL5RACE002` %>% pull(qname) %>% unique() %>% length"
   ]
  },
  {
   "cell_type": "code",
   "execution_count": 47,
   "id": "3c424786-730e-4a00-bf99-797d054814f0",
   "metadata": {
    "execution": {
     "iopub.execute_input": "2024-06-11T02:53:09.956807Z",
     "iopub.status.busy": "2024-06-11T02:53:09.954656Z",
     "iopub.status.idle": "2024-06-11T02:53:10.111680Z",
     "shell.execute_reply": "2024-06-11T02:53:10.108928Z"
    },
    "vscode": {
     "languageId": "r"
    }
   },
   "outputs": [
    {
     "name": "stderr",
     "output_type": "stream",
     "text": [
      "\u001b[1m\u001b[22m`summarise()` has grouped output by 'primer_presence_concat_check',\n",
      "'primer_coverage_qc'. You can override using the `.groups` argument.\n"
     ]
    },
    {
     "data": {
      "text/html": [
       "<table class=\"dataframe\">\n",
       "<caption>A grouped_df: 5 × 4</caption>\n",
       "<thead>\n",
       "\t<tr><th scope=col>primer_presence_concat_check</th><th scope=col>primer_coverage_qc</th><th scope=col>AG_based_concat_check</th><th scope=col>n</th></tr>\n",
       "\t<tr><th scope=col>&lt;chr&gt;</th><th scope=col>&lt;chr&gt;</th><th scope=col>&lt;chr&gt;</th><th scope=col>&lt;int&gt;</th></tr>\n",
       "</thead>\n",
       "<tbody>\n",
       "\t<tr><td>likely concatamer</td><td>insufficient coverage of primers</td><td>likely concatamer</td><td> 93438</td></tr>\n",
       "\t<tr><td>non concatamer   </td><td>good coverage of primers        </td><td>likely concatamer</td><td> 15883</td></tr>\n",
       "\t<tr><td>non concatamer   </td><td>good coverage of primers        </td><td>non concatamer   </td><td> 45639</td></tr>\n",
       "\t<tr><td>non concatamer   </td><td>insufficient coverage of primers</td><td>likely concatamer</td><td>206945</td></tr>\n",
       "\t<tr><td>non concatamer   </td><td>insufficient coverage of primers</td><td>non concatamer   </td><td>559113</td></tr>\n",
       "</tbody>\n",
       "</table>\n"
      ],
      "text/latex": [
       "A grouped\\_df: 5 × 4\n",
       "\\begin{tabular}{llll}\n",
       " primer\\_presence\\_concat\\_check & primer\\_coverage\\_qc & AG\\_based\\_concat\\_check & n\\\\\n",
       " <chr> & <chr> & <chr> & <int>\\\\\n",
       "\\hline\n",
       "\t likely concatamer & insufficient coverage of primers & likely concatamer &  93438\\\\\n",
       "\t non concatamer    & good coverage of primers         & likely concatamer &  15883\\\\\n",
       "\t non concatamer    & good coverage of primers         & non concatamer    &  45639\\\\\n",
       "\t non concatamer    & insufficient coverage of primers & likely concatamer & 206945\\\\\n",
       "\t non concatamer    & insufficient coverage of primers & non concatamer    & 559113\\\\\n",
       "\\end{tabular}\n"
      ],
      "text/markdown": [
       "\n",
       "A grouped_df: 5 × 4\n",
       "\n",
       "| primer_presence_concat_check &lt;chr&gt; | primer_coverage_qc &lt;chr&gt; | AG_based_concat_check &lt;chr&gt; | n &lt;int&gt; |\n",
       "|---|---|---|---|\n",
       "| likely concatamer | insufficient coverage of primers | likely concatamer |  93438 |\n",
       "| non concatamer    | good coverage of primers         | likely concatamer |  15883 |\n",
       "| non concatamer    | good coverage of primers         | non concatamer    |  45639 |\n",
       "| non concatamer    | insufficient coverage of primers | likely concatamer | 206945 |\n",
       "| non concatamer    | insufficient coverage of primers | non concatamer    | 559113 |\n",
       "\n"
      ],
      "text/plain": [
       "  primer_presence_concat_check primer_coverage_qc              \n",
       "1 likely concatamer            insufficient coverage of primers\n",
       "2 non concatamer               good coverage of primers        \n",
       "3 non concatamer               good coverage of primers        \n",
       "4 non concatamer               insufficient coverage of primers\n",
       "5 non concatamer               insufficient coverage of primers\n",
       "  AG_based_concat_check n     \n",
       "1 likely concatamer      93438\n",
       "2 likely concatamer      15883\n",
       "3 non concatamer         45639\n",
       "4 likely concatamer     206945\n",
       "5 non concatamer        559113"
      ]
     },
     "metadata": {},
     "output_type": "display_data"
    }
   ],
   "source": [
    "bam_oligo_info %>%\n",
    "    group_by(primer_presence_concat_check, primer_coverage_qc, AG_based_concat_check) %>%\n",
    "    summarise(n = n())"
   ]
  },
  {
   "cell_type": "code",
   "execution_count": 48,
   "id": "682508d0-a416-4af3-a639-5c96d5cbaaf7",
   "metadata": {
    "execution": {
     "iopub.execute_input": "2024-06-11T02:53:10.121488Z",
     "iopub.status.busy": "2024-06-11T02:53:10.119223Z",
     "iopub.status.idle": "2024-06-11T02:53:10.632059Z",
     "shell.execute_reply": "2024-06-11T02:53:10.629330Z"
    },
    "vscode": {
     "languageId": "r"
    }
   },
   "outputs": [],
   "source": [
    "primer_presence_pass = bam_oligo_info %>%\n",
    "    filter(primer_presence_concat_check == \"non concatamer\") %>%\n",
    "    pull(qname) %>%\n",
    "    unique() %>%\n",
    "    length()"
   ]
  },
  {
   "cell_type": "code",
   "execution_count": 49,
   "id": "ea0ca726-2d74-4661-864d-56c0de7efb7c",
   "metadata": {
    "execution": {
     "iopub.execute_input": "2024-06-11T02:53:10.642171Z",
     "iopub.status.busy": "2024-06-11T02:53:10.639850Z",
     "iopub.status.idle": "2024-06-11T02:53:11.029998Z",
     "shell.execute_reply": "2024-06-11T02:53:11.027260Z"
    },
    "vscode": {
     "languageId": "r"
    }
   },
   "outputs": [],
   "source": [
    "primer_coverage_pass = bam_oligo_info %>%\n",
    "    filter(primer_presence_concat_check == \"non concatamer\") %>%\n",
    "    filter(primer_coverage_qc == \"good coverage of primers\") %>%\n",
    "    pull(qname) %>%\n",
    "    unique() %>%\n",
    "    length()"
   ]
  },
  {
   "cell_type": "code",
   "execution_count": 50,
   "id": "181853ea-5f38-4df2-af21-7ff806465a79",
   "metadata": {
    "execution": {
     "iopub.execute_input": "2024-06-11T02:53:11.040073Z",
     "iopub.status.busy": "2024-06-11T02:53:11.037844Z",
     "iopub.status.idle": "2024-06-11T02:53:11.447280Z",
     "shell.execute_reply": "2024-06-11T02:53:11.444429Z"
    },
    "vscode": {
     "languageId": "r"
    }
   },
   "outputs": [],
   "source": [
    "expected_hexamer_captured = bam_oligo_info %>%\n",
    "    filter(primer_presence_concat_check == \"non concatamer\") %>%\n",
    "    filter(primer_coverage_qc == \"good coverage of primers\") %>%\n",
    "    filter(AG_based_concat_check == \"non concatamer\") %>%\n",
    "    pull(qname) %>%\n",
    "    unique() %>%\n",
    "    length()"
   ]
  },
  {
   "cell_type": "code",
   "execution_count": 51,
   "id": "2d20bd2d-aa70-4efb-a4a1-6a02618bdf84",
   "metadata": {
    "execution": {
     "iopub.execute_input": "2024-06-11T02:53:11.457410Z",
     "iopub.status.busy": "2024-06-11T02:53:11.455195Z",
     "iopub.status.idle": "2024-06-11T02:53:11.554656Z",
     "shell.execute_reply": "2024-06-11T02:53:11.551994Z"
    },
    "vscode": {
     "languageId": "r"
    }
   },
   "outputs": [
    {
     "name": "stdout",
     "output_type": "stream",
     "text": [
      "\u001b[90m# A tibble: 8 × 2\u001b[39m\n",
      "  category                                                       number_of_reads\n",
      "  \u001b[3m\u001b[90m<chr>\u001b[39m\u001b[23m                                                                    \u001b[3m\u001b[90m<int>\u001b[39m\u001b[23m\n",
      "\u001b[90m1\u001b[39m Base called reads                                                      1\u001b[4m4\u001b[24m\u001b[4m1\u001b[24m\u001b[4m9\u001b[24m347\n",
      "\u001b[90m2\u001b[39m Reads aligned to the XDP genome (only primary)                         1\u001b[4m1\u001b[24m\u001b[4m9\u001b[24m\u001b[4m3\u001b[24m253\n",
      "\u001b[90m3\u001b[39m Unaligned reads                                                         \u001b[4m2\u001b[24m\u001b[4m1\u001b[24m\u001b[4m0\u001b[24m627\n",
      "\u001b[90m4\u001b[39m Reads aligned to the XDP-SVA region +- 5kb                             1\u001b[4m0\u001b[24m\u001b[4m3\u001b[24m\u001b[4m3\u001b[24m285\n",
      "\u001b[90m5\u001b[39m Reads with Q >= 12 (Phred)                                              \u001b[4m9\u001b[24m\u001b[4m2\u001b[24m\u001b[4m1\u001b[24m018\n",
      "\u001b[90m6\u001b[39m Non concatamer reads according to primer/TSD presence test              \u001b[4m8\u001b[24m\u001b[4m2\u001b[24m\u001b[4m7\u001b[24m580\n",
      "\u001b[90m7\u001b[39m Reads with good coverage of primers/TSD (>= 80%; 5' score >= …           \u001b[4m6\u001b[24m\u001b[4m1\u001b[24m522\n",
      "\u001b[90m8\u001b[39m Captured hexamer region is >95% AG (non concatamer)                      \u001b[4m4\u001b[24m\u001b[4m5\u001b[24m639\n"
     ]
    }
   ],
   "source": [
    "titles = c(\"Base called reads\",\n",
    "           \"Reads aligned to the XDP genome (only primary)\",\n",
    "           \"Unaligned reads\",\n",
    "           \"Reads aligned to the XDP-SVA region +- 5kb\",\n",
    "           \"Reads with Q >= 12 (Phred)\",\n",
    "           \"Non concatamer reads according to primer/TSD presence test\",\n",
    "           \"Reads with good coverage of primers/TSD (>= 80%; 5' score >= 85)\",\n",
    "           \"Captured hexamer region is >95% AG (non concatamer)\")\n",
    "numbers = c(basecalled_reads,\n",
    "            aligned,\n",
    "            unaligned,\n",
    "            aligned_to_roi,\n",
    "            aligned_to_roi_pass,\n",
    "            primer_presence_pass,\n",
    "            primer_coverage_pass,\n",
    "            expected_hexamer_captured)\n",
    "\n",
    "summary_tib = tibble(category = titles,\n",
    "                     number_of_reads = numbers)\n",
    "print(summary_tib)"
   ]
  },
  {
   "cell_type": "markdown",
   "id": "07b2b3fc-8039-4adf-b0c9-7be94fbad16d",
   "metadata": {},
   "source": [
    "## Checking repeat composition"
   ]
  },
  {
   "cell_type": "code",
   "execution_count": 52,
   "id": "b142b7c3-6ba6-4452-8418-9256d419f76f",
   "metadata": {
    "execution": {
     "iopub.execute_input": "2024-06-11T02:53:11.564722Z",
     "iopub.status.busy": "2024-06-11T02:53:11.562494Z",
     "iopub.status.idle": "2024-06-11T02:53:11.601240Z",
     "shell.execute_reply": "2024-06-11T02:53:11.598677Z"
    },
    "vscode": {
     "languageId": "r"
    }
   },
   "outputs": [
    {
     "data": {
      "text/html": [
       "45639"
      ],
      "text/latex": [
       "45639"
      ],
      "text/markdown": [
       "45639"
      ],
      "text/plain": [
       "[1] 45639"
      ]
     },
     "metadata": {},
     "output_type": "display_data"
    },
    {
     "data": {
      "text/html": [
       "2260"
      ],
      "text/latex": [
       "2260"
      ],
      "text/markdown": [
       "2260"
      ],
      "text/plain": [
       "[1] 2260"
      ]
     },
     "metadata": {},
     "output_type": "display_data"
    }
   ],
   "source": [
    "# checking redundancy of hexamer sequences\n",
    "bam_oligo_info_filt$hexamer_seq %>% length()\n",
    "bam_oligo_info_filt$hexamer_seq %>% unique() %>% length()"
   ]
  },
  {
   "cell_type": "code",
   "execution_count": 53,
   "id": "0fc77e15-ddb8-4233-9217-eb4a12c7fe54",
   "metadata": {
    "execution": {
     "iopub.execute_input": "2024-06-11T02:53:11.610913Z",
     "iopub.status.busy": "2024-06-11T02:53:11.608780Z",
     "iopub.status.idle": "2024-06-11T02:53:11.756130Z",
     "shell.execute_reply": "2024-06-11T02:53:11.753411Z"
    },
    "vscode": {
     "languageId": "r"
    }
   },
   "outputs": [
    {
     "name": "stderr",
     "output_type": "stream",
     "text": [
      "\u001b[1m\u001b[22m`summarise()` has grouped output by 'size_of_hexamer'. You can override using\n",
      "the `.groups` argument.\n"
     ]
    }
   ],
   "source": [
    "# creating a non redundant dataset\n",
    "bam_oligo_info_filt_nr = bam_oligo_info_filt %>%\n",
    "    select(qname, size_of_hexamer, hexamer_seq) %>%\n",
    "    group_by(size_of_hexamer, hexamer_seq) %>%\n",
    "    summarise(read_names = paste0(qname, collapse = \",\"))"
   ]
  },
  {
   "cell_type": "code",
   "execution_count": null,
   "id": "51aac969-45dc-466e-bdef-0901c8730e51",
   "metadata": {
    "execution": {
     "iopub.execute_input": "2024-06-11T02:53:11.765561Z",
     "iopub.status.busy": "2024-06-11T02:53:11.763311Z",
     "iopub.status.idle": "2024-06-11T02:53:12.274940Z",
     "shell.execute_reply": "2024-06-11T02:53:12.272356Z"
    },
    "vscode": {
     "languageId": "r"
    }
   },
   "outputs": [],
   "source": [
    "options(repr.plot.width = 10.25, repr.plot.height = 3)\n",
    "bam_oligo_info_filt_nr %>%\n",
    "    ggplot(aes(x = -size_of_hexamer)) +\n",
    "    geom_histogram(position = \"dodge\", binwidth = 1, width = 1, fill = \"#7b848f\",\n",
    "                   aes(y = log10(after_stat(count) + 1))) +\n",
    "    scale_x_continuous(breaks = seq(-330, 0, by = 6), limits = c(-330, 0),\n",
    "                       labels = abs(seq(-330, 0, by = 6)/6)) +\n",
    "    xlab(\"(AGAGGG)n\") +\n",
    "    ylab(\"log10(Frequency + 1)\") +\n",
    "    theme_pubr(x.text.angle = 45)"
   ]
  },
  {
   "cell_type": "code",
   "execution_count": 55,
   "id": "b7cdf2ad-5736-4807-961a-10f10e0081f8",
   "metadata": {
    "execution": {
     "iopub.execute_input": "2024-06-11T02:53:12.285088Z",
     "iopub.status.busy": "2024-06-11T02:53:12.282813Z",
     "iopub.status.idle": "2024-06-11T02:53:12.402354Z",
     "shell.execute_reply": "2024-06-11T02:53:12.399612Z"
    },
    "vscode": {
     "languageId": "r"
    }
   },
   "outputs": [],
   "source": [
    "# writing sequences to file\n",
    "seqs_fasta = DNAStringSet(x = bam_oligo_info_filt$hexamer_seq)\n",
    "names(seqs_fasta) = bam_oligo_info_filt$qname\n",
    "\n",
    "nr_seqs_fasta = DNAStringSet(x = bam_oligo_info_filt_nr$hexamer_seq)\n",
    "names(nr_seqs_fasta) = str_replace(string = bam_oligo_info_filt_nr$read_names, pattern = \",.*$\", replacement = \"\")\n",
    "\n",
    "writeXStringSet(x = seqs_fasta,\n",
    "                filepath = \"hexamer_seqs__q12_cov08.fa\",\n",
    "                format = \"fasta\")\n",
    "\n",
    "writeXStringSet(x = nr_seqs_fasta,\n",
    "                filepath = \"non_redundant_hexamer_seqs__q12_cov08.fa\",\n",
    "                format = \"fasta\")"
   ]
  },
  {
   "cell_type": "code",
   "execution_count": 56,
   "id": "7f5ac99d-ca10-48df-8f83-b0e7b786f59f",
   "metadata": {
    "execution": {
     "iopub.execute_input": "2024-06-11T02:53:12.411981Z",
     "iopub.status.busy": "2024-06-11T02:53:12.409720Z",
     "iopub.status.idle": "2024-06-11T02:53:13.158329Z",
     "shell.execute_reply": "2024-06-11T02:53:13.155505Z"
    },
    "vscode": {
     "languageId": "r"
    }
   },
   "outputs": [],
   "source": [
    "hex = readDNAStringSet(filepath = \"hexamer_seqs__q12_cov08.fa\",\n",
    "                       format = \"fasta\")\n",
    "hex = hex[order(width(hex))]\n",
    "\n",
    "max_length = max(width(hex))\n",
    "n_widths = max_length - width(hex)\n",
    "n_chars = lapply(n_widths, function(x){ paste0(rep(\"N\", times = x), collapse = \"\") }) %>%\n",
    "    unlist(use.names = F)\n",
    "hex_new = paste0(n_chars, as.character(hex))\n",
    "hex_new = DNAStringSet(x = hex_new)\n",
    "names(hex_new) = names(hex)"
   ]
  },
  {
   "cell_type": "code",
   "execution_count": 57,
   "id": "e56618ea-4816-4be1-b8d0-97e9b811f73a",
   "metadata": {
    "execution": {
     "iopub.execute_input": "2024-06-11T02:53:13.168325Z",
     "iopub.status.busy": "2024-06-11T02:53:13.166013Z",
     "iopub.status.idle": "2024-06-11T02:53:13.271702Z",
     "shell.execute_reply": "2024-06-11T02:53:13.269003Z"
    },
    "vscode": {
     "languageId": "r"
    }
   },
   "outputs": [
    {
     "data": {
      "text/plain": [
       "DNAStringSet object of length 45639:\n",
       "        width seq                                           names               \n",
       "    [1]    82 \u001b[47m\u001b[37mN\u001b[39m\u001b[49m\u001b[47m\u001b[37mN\u001b[39m\u001b[49m\u001b[47m\u001b[37mN\u001b[39m\u001b[49m\u001b[47m\u001b[37mN\u001b[39m\u001b[49m\u001b[47m\u001b[37mN\u001b[39m\u001b[49m\u001b[47m\u001b[37mN\u001b[39m\u001b[49m\u001b[47m\u001b[37mN\u001b[39m\u001b[49m\u001b[47m\u001b[37mN\u001b[39m\u001b[49m\u001b[47m\u001b[37mN\u001b[39m\u001b[49m\u001b[47m\u001b[37mN\u001b[39m\u001b[49m\u001b[47m\u001b[37mN\u001b[39m\u001b[49m\u001b[47m\u001b[37mN\u001b[39m\u001b[49m\u001b[47m\u001b[37mN\u001b[39m\u001b[49m\u001b[47m\u001b[37mN\u001b[39m\u001b[49m\u001b[47m\u001b[37mN\u001b[39m\u001b[49m\u001b[47m\u001b[37mN\u001b[39m\u001b[49m\u001b[47m\u001b[37mN\u001b[39m\u001b[49m\u001b[47m\u001b[37mN\u001b[39m\u001b[49m\u001b[47m\u001b[37mN\u001b[39m\u001b[49m\u001b[47m\u001b[37mN\u001b[39m\u001b[49m\u001b[47m\u001b[37mN\u001b[39m\u001b[49m...\u001b[47m\u001b[37mN\u001b[39m\u001b[49m\u001b[47m\u001b[37mN\u001b[39m\u001b[49m\u001b[47m\u001b[37mN\u001b[39m\u001b[49m\u001b[47m\u001b[37mN\u001b[39m\u001b[49m\u001b[47m\u001b[37mN\u001b[39m\u001b[49m\u001b[47m\u001b[37mN\u001b[39m\u001b[49m\u001b[47m\u001b[37mN\u001b[39m\u001b[49m\u001b[47m\u001b[37mN\u001b[39m\u001b[49m\u001b[47m\u001b[37mN\u001b[39m\u001b[49m\u001b[47m\u001b[37mN\u001b[39m\u001b[49m\u001b[47m\u001b[37mN\u001b[39m\u001b[49m\u001b[47m\u001b[37mN\u001b[39m\u001b[49m\u001b[47m\u001b[37mN\u001b[39m\u001b[49m\u001b[47m\u001b[37mN\u001b[39m\u001b[49m\u001b[47m\u001b[37mN\u001b[39m\u001b[49m\u001b[47m\u001b[37mN\u001b[39m\u001b[49m\u001b[47m\u001b[37mN\u001b[39m\u001b[49m\u001b[47m\u001b[37mN\u001b[39m\u001b[49m\u001b[47m\u001b[37mN\u001b[39m\u001b[49m\u001b[47m\u001b[37mN\u001b[39m\u001b[49m\u001b[47m\u001b[30mA\u001b[39m\u001b[49m 93a47736-266d-43c...\n",
       "    [2]    82 \u001b[47m\u001b[37mN\u001b[39m\u001b[49m\u001b[47m\u001b[37mN\u001b[39m\u001b[49m\u001b[47m\u001b[37mN\u001b[39m\u001b[49m\u001b[47m\u001b[37mN\u001b[39m\u001b[49m\u001b[47m\u001b[37mN\u001b[39m\u001b[49m\u001b[47m\u001b[37mN\u001b[39m\u001b[49m\u001b[47m\u001b[37mN\u001b[39m\u001b[49m\u001b[47m\u001b[37mN\u001b[39m\u001b[49m\u001b[47m\u001b[37mN\u001b[39m\u001b[49m\u001b[47m\u001b[37mN\u001b[39m\u001b[49m\u001b[47m\u001b[37mN\u001b[39m\u001b[49m\u001b[47m\u001b[37mN\u001b[39m\u001b[49m\u001b[47m\u001b[37mN\u001b[39m\u001b[49m\u001b[47m\u001b[37mN\u001b[39m\u001b[49m\u001b[47m\u001b[37mN\u001b[39m\u001b[49m\u001b[47m\u001b[37mN\u001b[39m\u001b[49m\u001b[47m\u001b[37mN\u001b[39m\u001b[49m\u001b[47m\u001b[37mN\u001b[39m\u001b[49m\u001b[47m\u001b[37mN\u001b[39m\u001b[49m\u001b[47m\u001b[37mN\u001b[39m\u001b[49m\u001b[47m\u001b[37mN\u001b[39m\u001b[49m...\u001b[47m\u001b[37mN\u001b[39m\u001b[49m\u001b[47m\u001b[37mN\u001b[39m\u001b[49m\u001b[47m\u001b[37mN\u001b[39m\u001b[49m\u001b[47m\u001b[37mN\u001b[39m\u001b[49m\u001b[47m\u001b[37mN\u001b[39m\u001b[49m\u001b[47m\u001b[37mN\u001b[39m\u001b[49m\u001b[47m\u001b[37mN\u001b[39m\u001b[49m\u001b[47m\u001b[37mN\u001b[39m\u001b[49m\u001b[47m\u001b[37mN\u001b[39m\u001b[49m\u001b[47m\u001b[37mN\u001b[39m\u001b[49m\u001b[47m\u001b[37mN\u001b[39m\u001b[49m\u001b[47m\u001b[37mN\u001b[39m\u001b[49m\u001b[47m\u001b[37mN\u001b[39m\u001b[49m\u001b[47m\u001b[37mN\u001b[39m\u001b[49m\u001b[47m\u001b[37mN\u001b[39m\u001b[49m\u001b[47m\u001b[37mN\u001b[39m\u001b[49m\u001b[47m\u001b[37mN\u001b[39m\u001b[49m\u001b[47m\u001b[37mN\u001b[39m\u001b[49m\u001b[47m\u001b[37mN\u001b[39m\u001b[49m\u001b[47m\u001b[37mN\u001b[39m\u001b[49m\u001b[47m\u001b[30mA\u001b[39m\u001b[49m 265e9126-763a-485...\n",
       "    [3]    82 \u001b[47m\u001b[37mN\u001b[39m\u001b[49m\u001b[47m\u001b[37mN\u001b[39m\u001b[49m\u001b[47m\u001b[37mN\u001b[39m\u001b[49m\u001b[47m\u001b[37mN\u001b[39m\u001b[49m\u001b[47m\u001b[37mN\u001b[39m\u001b[49m\u001b[47m\u001b[37mN\u001b[39m\u001b[49m\u001b[47m\u001b[37mN\u001b[39m\u001b[49m\u001b[47m\u001b[37mN\u001b[39m\u001b[49m\u001b[47m\u001b[37mN\u001b[39m\u001b[49m\u001b[47m\u001b[37mN\u001b[39m\u001b[49m\u001b[47m\u001b[37mN\u001b[39m\u001b[49m\u001b[47m\u001b[37mN\u001b[39m\u001b[49m\u001b[47m\u001b[37mN\u001b[39m\u001b[49m\u001b[47m\u001b[37mN\u001b[39m\u001b[49m\u001b[47m\u001b[37mN\u001b[39m\u001b[49m\u001b[47m\u001b[37mN\u001b[39m\u001b[49m\u001b[47m\u001b[37mN\u001b[39m\u001b[49m\u001b[47m\u001b[37mN\u001b[39m\u001b[49m\u001b[47m\u001b[37mN\u001b[39m\u001b[49m\u001b[47m\u001b[37mN\u001b[39m\u001b[49m\u001b[47m\u001b[37mN\u001b[39m\u001b[49m...\u001b[47m\u001b[37mN\u001b[39m\u001b[49m\u001b[47m\u001b[37mN\u001b[39m\u001b[49m\u001b[47m\u001b[37mN\u001b[39m\u001b[49m\u001b[47m\u001b[37mN\u001b[39m\u001b[49m\u001b[47m\u001b[37mN\u001b[39m\u001b[49m\u001b[47m\u001b[37mN\u001b[39m\u001b[49m\u001b[47m\u001b[37mN\u001b[39m\u001b[49m\u001b[47m\u001b[37mN\u001b[39m\u001b[49m\u001b[47m\u001b[37mN\u001b[39m\u001b[49m\u001b[47m\u001b[37mN\u001b[39m\u001b[49m\u001b[47m\u001b[37mN\u001b[39m\u001b[49m\u001b[47m\u001b[37mN\u001b[39m\u001b[49m\u001b[47m\u001b[37mN\u001b[39m\u001b[49m\u001b[47m\u001b[37mN\u001b[39m\u001b[49m\u001b[47m\u001b[37mN\u001b[39m\u001b[49m\u001b[47m\u001b[37mN\u001b[39m\u001b[49m\u001b[47m\u001b[37mN\u001b[39m\u001b[49m\u001b[47m\u001b[37mN\u001b[39m\u001b[49m\u001b[47m\u001b[37mN\u001b[39m\u001b[49m\u001b[47m\u001b[37mN\u001b[39m\u001b[49m\u001b[47m\u001b[30mA\u001b[39m\u001b[49m e51a913e-58c3-489...\n",
       "    [4]    82 \u001b[47m\u001b[37mN\u001b[39m\u001b[49m\u001b[47m\u001b[37mN\u001b[39m\u001b[49m\u001b[47m\u001b[37mN\u001b[39m\u001b[49m\u001b[47m\u001b[37mN\u001b[39m\u001b[49m\u001b[47m\u001b[37mN\u001b[39m\u001b[49m\u001b[47m\u001b[37mN\u001b[39m\u001b[49m\u001b[47m\u001b[37mN\u001b[39m\u001b[49m\u001b[47m\u001b[37mN\u001b[39m\u001b[49m\u001b[47m\u001b[37mN\u001b[39m\u001b[49m\u001b[47m\u001b[37mN\u001b[39m\u001b[49m\u001b[47m\u001b[37mN\u001b[39m\u001b[49m\u001b[47m\u001b[37mN\u001b[39m\u001b[49m\u001b[47m\u001b[37mN\u001b[39m\u001b[49m\u001b[47m\u001b[37mN\u001b[39m\u001b[49m\u001b[47m\u001b[37mN\u001b[39m\u001b[49m\u001b[47m\u001b[37mN\u001b[39m\u001b[49m\u001b[47m\u001b[37mN\u001b[39m\u001b[49m\u001b[47m\u001b[37mN\u001b[39m\u001b[49m\u001b[47m\u001b[37mN\u001b[39m\u001b[49m\u001b[47m\u001b[37mN\u001b[39m\u001b[49m\u001b[47m\u001b[37mN\u001b[39m\u001b[49m...\u001b[47m\u001b[37mN\u001b[39m\u001b[49m\u001b[47m\u001b[37mN\u001b[39m\u001b[49m\u001b[47m\u001b[37mN\u001b[39m\u001b[49m\u001b[47m\u001b[37mN\u001b[39m\u001b[49m\u001b[47m\u001b[37mN\u001b[39m\u001b[49m\u001b[47m\u001b[37mN\u001b[39m\u001b[49m\u001b[47m\u001b[37mN\u001b[39m\u001b[49m\u001b[47m\u001b[37mN\u001b[39m\u001b[49m\u001b[47m\u001b[37mN\u001b[39m\u001b[49m\u001b[47m\u001b[37mN\u001b[39m\u001b[49m\u001b[47m\u001b[37mN\u001b[39m\u001b[49m\u001b[47m\u001b[37mN\u001b[39m\u001b[49m\u001b[47m\u001b[37mN\u001b[39m\u001b[49m\u001b[47m\u001b[37mN\u001b[39m\u001b[49m\u001b[47m\u001b[37mN\u001b[39m\u001b[49m\u001b[47m\u001b[37mN\u001b[39m\u001b[49m\u001b[47m\u001b[37mN\u001b[39m\u001b[49m\u001b[47m\u001b[37mN\u001b[39m\u001b[49m\u001b[47m\u001b[37mN\u001b[39m\u001b[49m\u001b[47m\u001b[37mN\u001b[39m\u001b[49m\u001b[47m\u001b[30mA\u001b[39m\u001b[49m 0bd7380b-a83a-4b8...\n",
       "    [5]    82 \u001b[47m\u001b[37mN\u001b[39m\u001b[49m\u001b[47m\u001b[37mN\u001b[39m\u001b[49m\u001b[47m\u001b[37mN\u001b[39m\u001b[49m\u001b[47m\u001b[37mN\u001b[39m\u001b[49m\u001b[47m\u001b[37mN\u001b[39m\u001b[49m\u001b[47m\u001b[37mN\u001b[39m\u001b[49m\u001b[47m\u001b[37mN\u001b[39m\u001b[49m\u001b[47m\u001b[37mN\u001b[39m\u001b[49m\u001b[47m\u001b[37mN\u001b[39m\u001b[49m\u001b[47m\u001b[37mN\u001b[39m\u001b[49m\u001b[47m\u001b[37mN\u001b[39m\u001b[49m\u001b[47m\u001b[37mN\u001b[39m\u001b[49m\u001b[47m\u001b[37mN\u001b[39m\u001b[49m\u001b[47m\u001b[37mN\u001b[39m\u001b[49m\u001b[47m\u001b[37mN\u001b[39m\u001b[49m\u001b[47m\u001b[37mN\u001b[39m\u001b[49m\u001b[47m\u001b[37mN\u001b[39m\u001b[49m\u001b[47m\u001b[37mN\u001b[39m\u001b[49m\u001b[47m\u001b[37mN\u001b[39m\u001b[49m\u001b[47m\u001b[37mN\u001b[39m\u001b[49m\u001b[47m\u001b[37mN\u001b[39m\u001b[49m...\u001b[47m\u001b[37mN\u001b[39m\u001b[49m\u001b[47m\u001b[37mN\u001b[39m\u001b[49m\u001b[47m\u001b[37mN\u001b[39m\u001b[49m\u001b[47m\u001b[37mN\u001b[39m\u001b[49m\u001b[47m\u001b[37mN\u001b[39m\u001b[49m\u001b[47m\u001b[37mN\u001b[39m\u001b[49m\u001b[47m\u001b[37mN\u001b[39m\u001b[49m\u001b[47m\u001b[37mN\u001b[39m\u001b[49m\u001b[47m\u001b[37mN\u001b[39m\u001b[49m\u001b[47m\u001b[37mN\u001b[39m\u001b[49m\u001b[47m\u001b[37mN\u001b[39m\u001b[49m\u001b[47m\u001b[37mN\u001b[39m\u001b[49m\u001b[47m\u001b[37mN\u001b[39m\u001b[49m\u001b[47m\u001b[37mN\u001b[39m\u001b[49m\u001b[47m\u001b[37mN\u001b[39m\u001b[49m\u001b[47m\u001b[37mN\u001b[39m\u001b[49m\u001b[47m\u001b[37mN\u001b[39m\u001b[49m\u001b[47m\u001b[37mN\u001b[39m\u001b[49m\u001b[47m\u001b[37mN\u001b[39m\u001b[49m\u001b[47m\u001b[37mN\u001b[39m\u001b[49m\u001b[47m\u001b[30mA\u001b[39m\u001b[49m 238ac36f-9a4e-4e3...\n",
       "    ...   ... ...\n",
       "[45635]    82 \u001b[47m\u001b[37mN\u001b[39m\u001b[49m\u001b[47m\u001b[37mN\u001b[39m\u001b[49m\u001b[47m\u001b[37mN\u001b[39m\u001b[49m\u001b[47m\u001b[37mN\u001b[39m\u001b[49m\u001b[47m\u001b[37mN\u001b[39m\u001b[49m\u001b[47m\u001b[37mN\u001b[39m\u001b[49m\u001b[47m\u001b[37mN\u001b[39m\u001b[49m\u001b[47m\u001b[37mN\u001b[39m\u001b[49m\u001b[47m\u001b[37mN\u001b[39m\u001b[49m\u001b[47m\u001b[37mN\u001b[39m\u001b[49m\u001b[47m\u001b[30mC\u001b[39m\u001b[49m\u001b[47m\u001b[30mC\u001b[39m\u001b[49m\u001b[47m\u001b[30mC\u001b[39m\u001b[49m\u001b[47m\u001b[30mG\u001b[39m\u001b[49m\u001b[47m\u001b[30mA\u001b[39m\u001b[49m\u001b[47m\u001b[30mG\u001b[39m\u001b[49m\u001b[47m\u001b[30mA\u001b[39m\u001b[49m\u001b[47m\u001b[30mG\u001b[39m\u001b[49m\u001b[47m\u001b[30mA\u001b[39m\u001b[49m\u001b[47m\u001b[30mG\u001b[39m\u001b[49m\u001b[47m\u001b[30mA\u001b[39m\u001b[49m...\u001b[47m\u001b[30mG\u001b[39m\u001b[49m\u001b[47m\u001b[30mA\u001b[39m\u001b[49m\u001b[47m\u001b[30mG\u001b[39m\u001b[49m\u001b[47m\u001b[30mG\u001b[39m\u001b[49m\u001b[47m\u001b[30mG\u001b[39m\u001b[49m\u001b[47m\u001b[30mA\u001b[39m\u001b[49m\u001b[47m\u001b[30mG\u001b[39m\u001b[49m\u001b[47m\u001b[30mA\u001b[39m\u001b[49m\u001b[47m\u001b[30mG\u001b[39m\u001b[49m\u001b[47m\u001b[30mG\u001b[39m\u001b[49m\u001b[47m\u001b[30mG\u001b[39m\u001b[49m\u001b[47m\u001b[30mA\u001b[39m\u001b[49m\u001b[47m\u001b[30mG\u001b[39m\u001b[49m\u001b[47m\u001b[30mA\u001b[39m\u001b[49m\u001b[47m\u001b[30mG\u001b[39m\u001b[49m\u001b[47m\u001b[30mG\u001b[39m\u001b[49m\u001b[47m\u001b[30mG\u001b[39m\u001b[49m\u001b[47m\u001b[30mA\u001b[39m\u001b[49m\u001b[47m\u001b[30mG\u001b[39m\u001b[49m\u001b[47m\u001b[30mA\u001b[39m\u001b[49m\u001b[47m\u001b[30mG\u001b[39m\u001b[49m bdbb590d-fc21-4f2...\n",
       "[45636]    82 \u001b[47m\u001b[37mN\u001b[39m\u001b[49m\u001b[47m\u001b[37mN\u001b[39m\u001b[49m\u001b[47m\u001b[37mN\u001b[39m\u001b[49m\u001b[47m\u001b[37mN\u001b[39m\u001b[49m\u001b[47m\u001b[37mN\u001b[39m\u001b[49m\u001b[47m\u001b[37mN\u001b[39m\u001b[49m\u001b[47m\u001b[37mN\u001b[39m\u001b[49m\u001b[47m\u001b[37mN\u001b[39m\u001b[49m\u001b[47m\u001b[37mN\u001b[39m\u001b[49m\u001b[47m\u001b[30mG\u001b[39m\u001b[49m\u001b[47m\u001b[30mG\u001b[39m\u001b[49m\u001b[47m\u001b[30mG\u001b[39m\u001b[49m\u001b[47m\u001b[30mA\u001b[39m\u001b[49m\u001b[47m\u001b[30mG\u001b[39m\u001b[49m\u001b[47m\u001b[30mA\u001b[39m\u001b[49m\u001b[47m\u001b[30mG\u001b[39m\u001b[49m\u001b[47m\u001b[30mG\u001b[39m\u001b[49m\u001b[47m\u001b[30mG\u001b[39m\u001b[49m\u001b[47m\u001b[30mA\u001b[39m\u001b[49m\u001b[47m\u001b[30mG\u001b[39m\u001b[49m\u001b[47m\u001b[30mA\u001b[39m\u001b[49m...\u001b[47m\u001b[30mG\u001b[39m\u001b[49m\u001b[47m\u001b[30mA\u001b[39m\u001b[49m\u001b[47m\u001b[30mG\u001b[39m\u001b[49m\u001b[47m\u001b[30mG\u001b[39m\u001b[49m\u001b[47m\u001b[30mG\u001b[39m\u001b[49m\u001b[47m\u001b[30mA\u001b[39m\u001b[49m\u001b[47m\u001b[30mG\u001b[39m\u001b[49m\u001b[47m\u001b[30mA\u001b[39m\u001b[49m\u001b[47m\u001b[30mG\u001b[39m\u001b[49m\u001b[47m\u001b[30mG\u001b[39m\u001b[49m\u001b[47m\u001b[30mG\u001b[39m\u001b[49m\u001b[47m\u001b[30mA\u001b[39m\u001b[49m\u001b[47m\u001b[30mG\u001b[39m\u001b[49m\u001b[47m\u001b[30mA\u001b[39m\u001b[49m\u001b[47m\u001b[30mG\u001b[39m\u001b[49m\u001b[47m\u001b[30mG\u001b[39m\u001b[49m\u001b[47m\u001b[30mG\u001b[39m\u001b[49m\u001b[47m\u001b[30mA\u001b[39m\u001b[49m\u001b[47m\u001b[30mG\u001b[39m\u001b[49m\u001b[47m\u001b[30mA\u001b[39m\u001b[49m\u001b[47m\u001b[30mG\u001b[39m\u001b[49m a24dd588-d5a2-485...\n",
       "[45637]    82 \u001b[47m\u001b[37mN\u001b[39m\u001b[49m\u001b[47m\u001b[37mN\u001b[39m\u001b[49m\u001b[47m\u001b[37mN\u001b[39m\u001b[49m\u001b[47m\u001b[37mN\u001b[39m\u001b[49m\u001b[47m\u001b[37mN\u001b[39m\u001b[49m\u001b[47m\u001b[37mN\u001b[39m\u001b[49m\u001b[47m\u001b[37mN\u001b[39m\u001b[49m\u001b[47m\u001b[37mN\u001b[39m\u001b[49m\u001b[47m\u001b[37mN\u001b[39m\u001b[49m\u001b[47m\u001b[30mG\u001b[39m\u001b[49m\u001b[47m\u001b[30mG\u001b[39m\u001b[49m\u001b[47m\u001b[30mG\u001b[39m\u001b[49m\u001b[47m\u001b[30mA\u001b[39m\u001b[49m\u001b[47m\u001b[30mG\u001b[39m\u001b[49m\u001b[47m\u001b[30mA\u001b[39m\u001b[49m\u001b[47m\u001b[30mG\u001b[39m\u001b[49m\u001b[47m\u001b[30mG\u001b[39m\u001b[49m\u001b[47m\u001b[30mG\u001b[39m\u001b[49m\u001b[47m\u001b[30mA\u001b[39m\u001b[49m\u001b[47m\u001b[30mG\u001b[39m\u001b[49m\u001b[47m\u001b[30mA\u001b[39m\u001b[49m...\u001b[47m\u001b[30mG\u001b[39m\u001b[49m\u001b[47m\u001b[30mA\u001b[39m\u001b[49m\u001b[47m\u001b[30mG\u001b[39m\u001b[49m\u001b[47m\u001b[30mG\u001b[39m\u001b[49m\u001b[47m\u001b[30mG\u001b[39m\u001b[49m\u001b[47m\u001b[30mA\u001b[39m\u001b[49m\u001b[47m\u001b[30mG\u001b[39m\u001b[49m\u001b[47m\u001b[30mA\u001b[39m\u001b[49m\u001b[47m\u001b[30mG\u001b[39m\u001b[49m\u001b[47m\u001b[30mG\u001b[39m\u001b[49m\u001b[47m\u001b[30mG\u001b[39m\u001b[49m\u001b[47m\u001b[30mA\u001b[39m\u001b[49m\u001b[47m\u001b[30mG\u001b[39m\u001b[49m\u001b[47m\u001b[30mA\u001b[39m\u001b[49m\u001b[47m\u001b[30mG\u001b[39m\u001b[49m\u001b[47m\u001b[30mG\u001b[39m\u001b[49m\u001b[47m\u001b[30mG\u001b[39m\u001b[49m\u001b[47m\u001b[30mA\u001b[39m\u001b[49m\u001b[47m\u001b[30mG\u001b[39m\u001b[49m\u001b[47m\u001b[30mA\u001b[39m\u001b[49m\u001b[47m\u001b[30mG\u001b[39m\u001b[49m 424c9369-0194-4d8...\n",
       "[45638]    82 \u001b[47m\u001b[37mN\u001b[39m\u001b[49m\u001b[47m\u001b[37mN\u001b[39m\u001b[49m\u001b[47m\u001b[37mN\u001b[39m\u001b[49m\u001b[47m\u001b[37mN\u001b[39m\u001b[49m\u001b[47m\u001b[37mN\u001b[39m\u001b[49m\u001b[47m\u001b[30mG\u001b[39m\u001b[49m\u001b[47m\u001b[30mA\u001b[39m\u001b[49m\u001b[47m\u001b[30mG\u001b[39m\u001b[49m\u001b[47m\u001b[30mA\u001b[39m\u001b[49m\u001b[47m\u001b[30mG\u001b[39m\u001b[49m\u001b[47m\u001b[30mG\u001b[39m\u001b[49m\u001b[47m\u001b[30mG\u001b[39m\u001b[49m\u001b[47m\u001b[30mA\u001b[39m\u001b[49m\u001b[47m\u001b[30mG\u001b[39m\u001b[49m\u001b[47m\u001b[30mA\u001b[39m\u001b[49m\u001b[47m\u001b[30mG\u001b[39m\u001b[49m\u001b[47m\u001b[30mG\u001b[39m\u001b[49m\u001b[47m\u001b[30mG\u001b[39m\u001b[49m\u001b[47m\u001b[30mA\u001b[39m\u001b[49m\u001b[47m\u001b[30mG\u001b[39m\u001b[49m\u001b[47m\u001b[30mA\u001b[39m\u001b[49m...\u001b[47m\u001b[30mG\u001b[39m\u001b[49m\u001b[47m\u001b[30mA\u001b[39m\u001b[49m\u001b[47m\u001b[30mG\u001b[39m\u001b[49m\u001b[47m\u001b[30mG\u001b[39m\u001b[49m\u001b[47m\u001b[30mG\u001b[39m\u001b[49m\u001b[47m\u001b[30mA\u001b[39m\u001b[49m\u001b[47m\u001b[30mG\u001b[39m\u001b[49m\u001b[47m\u001b[30mA\u001b[39m\u001b[49m\u001b[47m\u001b[30mG\u001b[39m\u001b[49m\u001b[47m\u001b[30mG\u001b[39m\u001b[49m\u001b[47m\u001b[30mG\u001b[39m\u001b[49m\u001b[47m\u001b[30mA\u001b[39m\u001b[49m\u001b[47m\u001b[30mG\u001b[39m\u001b[49m\u001b[47m\u001b[30mA\u001b[39m\u001b[49m\u001b[47m\u001b[30mG\u001b[39m\u001b[49m\u001b[47m\u001b[30mG\u001b[39m\u001b[49m\u001b[47m\u001b[30mG\u001b[39m\u001b[49m\u001b[47m\u001b[30mA\u001b[39m\u001b[49m\u001b[47m\u001b[30mG\u001b[39m\u001b[49m\u001b[47m\u001b[30mA\u001b[39m\u001b[49m\u001b[47m\u001b[30mG\u001b[39m\u001b[49m 94c12cd2-63a7-4aa...\n",
       "[45639]    82 \u001b[47m\u001b[30mG\u001b[39m\u001b[49m\u001b[47m\u001b[30mG\u001b[39m\u001b[49m\u001b[47m\u001b[30mG\u001b[39m\u001b[49m\u001b[47m\u001b[30mG\u001b[39m\u001b[49m\u001b[47m\u001b[30mG\u001b[39m\u001b[49m\u001b[47m\u001b[30mG\u001b[39m\u001b[49m\u001b[47m\u001b[30mA\u001b[39m\u001b[49m\u001b[47m\u001b[30mG\u001b[39m\u001b[49m\u001b[47m\u001b[30mA\u001b[39m\u001b[49m\u001b[47m\u001b[30mG\u001b[39m\u001b[49m\u001b[47m\u001b[30mG\u001b[39m\u001b[49m\u001b[47m\u001b[30mG\u001b[39m\u001b[49m\u001b[47m\u001b[30mA\u001b[39m\u001b[49m\u001b[47m\u001b[30mG\u001b[39m\u001b[49m\u001b[47m\u001b[30mA\u001b[39m\u001b[49m\u001b[47m\u001b[30mG\u001b[39m\u001b[49m\u001b[47m\u001b[30mG\u001b[39m\u001b[49m\u001b[47m\u001b[30mG\u001b[39m\u001b[49m\u001b[47m\u001b[30mA\u001b[39m\u001b[49m\u001b[47m\u001b[30mG\u001b[39m\u001b[49m\u001b[47m\u001b[30mA\u001b[39m\u001b[49m...\u001b[47m\u001b[30mG\u001b[39m\u001b[49m\u001b[47m\u001b[30mA\u001b[39m\u001b[49m\u001b[47m\u001b[30mG\u001b[39m\u001b[49m\u001b[47m\u001b[30mG\u001b[39m\u001b[49m\u001b[47m\u001b[30mG\u001b[39m\u001b[49m\u001b[47m\u001b[30mA\u001b[39m\u001b[49m\u001b[47m\u001b[30mG\u001b[39m\u001b[49m\u001b[47m\u001b[30mA\u001b[39m\u001b[49m\u001b[47m\u001b[30mG\u001b[39m\u001b[49m\u001b[47m\u001b[30mG\u001b[39m\u001b[49m\u001b[47m\u001b[30mG\u001b[39m\u001b[49m\u001b[47m\u001b[30mA\u001b[39m\u001b[49m\u001b[47m\u001b[30mG\u001b[39m\u001b[49m\u001b[47m\u001b[30mA\u001b[39m\u001b[49m\u001b[47m\u001b[30mG\u001b[39m\u001b[49m\u001b[47m\u001b[30mG\u001b[39m\u001b[49m\u001b[47m\u001b[30mG\u001b[39m\u001b[49m\u001b[47m\u001b[30mA\u001b[39m\u001b[49m\u001b[47m\u001b[30mG\u001b[39m\u001b[49m\u001b[47m\u001b[30mA\u001b[39m\u001b[49m\u001b[47m\u001b[30mG\u001b[39m\u001b[49m a809e11d-3ed8-485..."
      ]
     },
     "metadata": {},
     "output_type": "display_data"
    },
    {
     "data": {
      "text/html": [
       "TRUE"
      ],
      "text/latex": [
       "TRUE"
      ],
      "text/markdown": [
       "TRUE"
      ],
      "text/plain": [
       "[1] TRUE"
      ]
     },
     "metadata": {},
     "output_type": "display_data"
    }
   ],
   "source": [
    "hex_new\n",
    "all(width(hex_new) == max_length)"
   ]
  },
  {
   "cell_type": "code",
   "execution_count": 58,
   "id": "61c6b4cf-86a1-4935-a339-efec8f6332fb",
   "metadata": {
    "execution": {
     "iopub.execute_input": "2024-06-11T02:53:13.281409Z",
     "iopub.status.busy": "2024-06-11T02:53:13.279187Z",
     "iopub.status.idle": "2024-06-11T02:53:13.996348Z",
     "shell.execute_reply": "2024-06-11T02:53:13.993583Z"
    },
    "vscode": {
     "languageId": "r"
    }
   },
   "outputs": [],
   "source": [
    "hex_qual_tib = bam_oligo_info_filt %>%\n",
    "    arrange(match(bam_oligo_info_filt$qname, names(hex_new))) %>%\n",
    "    select(qname, hexamer_qual)\n",
    "hex_qual = hex_qual_tib$hexamer_qual\n",
    "hex_qual = PhredQuality(hex_qual)\n",
    "low_qual = lapply(n_widths, function(x){ paste0(rep(\"!\", times = x), collapse = \"\") }) %>%\n",
    "    unlist(use.names = F)\n",
    "hex_qual_new = paste0(low_qual, as.character(hex_qual))\n",
    "hex_qual_new = PhredQuality(x = hex_qual_new)\n",
    "names(hex_qual_new) = hex_qual_tib$qname"
   ]
  },
  {
   "cell_type": "code",
   "execution_count": 59,
   "id": "1c6cdcf1-b4fe-4247-98a0-308592fe0e36",
   "metadata": {
    "execution": {
     "iopub.execute_input": "2024-06-11T02:53:14.006408Z",
     "iopub.status.busy": "2024-06-11T02:53:14.004130Z",
     "iopub.status.idle": "2024-06-11T02:53:14.097111Z",
     "shell.execute_reply": "2024-06-11T02:53:14.094455Z"
    },
    "vscode": {
     "languageId": "r"
    }
   },
   "outputs": [
    {
     "data": {
      "text/plain": [
       "PhredQuality object of length 45639:\n",
       "        width seq                                           names               \n",
       "    [1]    82 !!!!!!!!!!!!!!!!!!!!!...!!!!!!!!!!!!!!!!!!!!/ 93a47736-266d-43c...\n",
       "    [2]    82 !!!!!!!!!!!!!!!!!!!!!...!!!!!!!!!!!!!!!!!!!!B 265e9126-763a-485...\n",
       "    [3]    82 !!!!!!!!!!!!!!!!!!!!!...!!!!!!!!!!!!!!!!!!!!5 e51a913e-58c3-489...\n",
       "    [4]    82 !!!!!!!!!!!!!!!!!!!!!...!!!!!!!!!!!!!!!!!!!!C 0bd7380b-a83a-4b8...\n",
       "    [5]    82 !!!!!!!!!!!!!!!!!!!!!...!!!!!!!!!!!!!!!!!!!!S 238ac36f-9a4e-4e3...\n",
       "    ...   ... ...\n",
       "[45635]    82 !!!!!!!!!!((+)))((((*...;:995120.1/.7;9:<>?CC bdbb590d-fc21-4f2...\n",
       "[45636]    82 !!!!!!!!!/8DB>>??>?@C...KJPCEEFGKCEGIIFOGHJKP a24dd588-d5a2-485...\n",
       "[45637]    82 !!!!!!!!!9=<BA9966731...59;??BF@ICAAB9FFF;666 424c9369-0194-4d8...\n",
       "[45638]    82 !!!!!.??*8<9ADBC??@@B...B<FB@@@5;E5558<B>0000 94c12cd2-63a7-4aa...\n",
       "[45639]    82 BDCAABBBCDACDHLKFNGGJ...HSKKKIJMIIGHIIOLLKLSP a809e11d-3ed8-485..."
      ]
     },
     "metadata": {},
     "output_type": "display_data"
    },
    {
     "data": {
      "text/html": [
       "TRUE"
      ],
      "text/latex": [
       "TRUE"
      ],
      "text/markdown": [
       "TRUE"
      ],
      "text/plain": [
       "[1] TRUE"
      ]
     },
     "metadata": {},
     "output_type": "display_data"
    }
   ],
   "source": [
    "hex_qual_new\n",
    "all(width(hex_qual_new) == max_length)"
   ]
  },
  {
   "cell_type": "code",
   "execution_count": 60,
   "id": "54ccabbf-45dd-43b7-b793-a560e8596047",
   "metadata": {
    "execution": {
     "iopub.execute_input": "2024-06-11T02:53:14.106702Z",
     "iopub.status.busy": "2024-06-11T02:53:14.104492Z",
     "iopub.status.idle": "2024-06-11T02:53:16.266979Z",
     "shell.execute_reply": "2024-06-11T02:53:16.264126Z"
    },
    "vscode": {
     "languageId": "r"
    }
   },
   "outputs": [],
   "source": [
    "hex_qual_new_int = as(PhredQuality(hex_qual_new), \"IntegerList\") %>%\n",
    "    as.matrix()\n",
    "rownames(hex_qual_new_int) = names(hex_qual_new)"
   ]
  },
  {
   "cell_type": "code",
   "execution_count": 61,
   "id": "96a41a62-ae96-4787-8ec4-7a21320ae5b3",
   "metadata": {
    "execution": {
     "iopub.execute_input": "2024-06-11T02:53:16.277073Z",
     "iopub.status.busy": "2024-06-11T02:53:16.274866Z",
     "iopub.status.idle": "2024-06-11T02:53:34.574495Z",
     "shell.execute_reply": "2024-06-11T02:53:34.569722Z"
    },
    "vscode": {
     "languageId": "r"
    }
   },
   "outputs": [
    {
     "name": "stderr",
     "output_type": "stream",
     "text": [
      "\n",
      "Applying Gaussian blur...\n",
      "\n"
     ]
    },
    {
     "name": "stderr",
     "output_type": "stream",
     "text": [
      "\n",
      "Applying Gaussian blur...\n",
      "\n"
     ]
    },
    {
     "name": "stderr",
     "output_type": "stream",
     "text": [
      "\n",
      "Applying Gaussian blur...\n",
      "\n"
     ]
    },
    {
     "name": "stderr",
     "output_type": "stream",
     "text": [
      "\n",
      "Applying Gaussian blur...\n",
      "\n"
     ]
    }
   ],
   "source": [
    "if(!file.exists(\"results_ht__q12_cov08.rds\")){\n",
    "    results_ht = list()\n",
    "    coords = c(0, max_length)\n",
    "    # AGAGAG\n",
    "    pat_ht = PatternHeatmap(hex_new, pattern = \"AGAGAG\", coords = coords)\n",
    "    pat_ht_smooth = smoothHeatmap(pat_ht,\n",
    "                                  # output.size=c(length(hex_new), 500),\n",
    "                                  algorithm=\"blur\")\n",
    "    results_ht$agagag = pat_ht_smooth\n",
    "    # plotHeatmapList(pat_ht_smooth, color = \"Reds\")\n",
    "    \n",
    "    # AGAGGG\n",
    "    pat_ht = PatternHeatmap(hex_new, pattern = \"AGAGGG\", coords = coords)\n",
    "    pat_ht_smooth = smoothHeatmap(pat_ht,\n",
    "                                  # output.size=c(length(hex_new), 500),\n",
    "                                  algorithm=\"blur\")\n",
    "    \n",
    "    results_ht$agaggg = pat_ht_smooth\n",
    "    # plotHeatmapList(pat_ht_smooth, color = \"Blues\")\n",
    "    \n",
    "    # AGGGG\n",
    "    pat_ht = PatternHeatmap(hex_new, pattern = \"AGGGG\", coords = coords)\n",
    "    pat_ht_smooth = smoothHeatmap(pat_ht,\n",
    "                                  # output.size=c(length(hex_new), 500),\n",
    "                                  algorithm=\"blur\")\n",
    "    \n",
    "    results_ht$agggg = pat_ht_smooth\n",
    "    # plotHeatmapList(pat_ht_smooth, color = \"Greens\")\n",
    "    \n",
    "    # also preparing a quality heat map\n",
    "    qual_ht = Heatmap(hex_qual_new_int)\n",
    "    qual_ht@label = \"Q (Phred)\"\n",
    "    qual_ht_smooth = smoothHeatmap(qual_ht,\n",
    "                                   # output.size=c(length(hex_new), 500),\n",
    "                                   algorithm=\"blur\")\n",
    "    \n",
    "    results_ht$qual = qual_ht_smooth\n",
    "    \n",
    "    # saving results_ht to plot in Rstudio for a test\n",
    "    saveRDS(object = results_ht, file = \"results_ht__q12_cov08.rds\")\n",
    "}else{\n",
    "    results_ht = readRDS(file = \"results_ht__q12_cov08.rds\")\n",
    "}"
   ]
  },
  {
   "cell_type": "code",
   "execution_count": 62,
   "id": "afbbf4c9-0346-44c0-98ff-0b3b6ab5727f",
   "metadata": {
    "execution": {
     "iopub.execute_input": "2024-06-11T02:53:34.585044Z",
     "iopub.status.busy": "2024-06-11T02:53:34.582731Z",
     "iopub.status.idle": "2024-06-11T02:53:42.731486Z",
     "shell.execute_reply": "2024-06-11T02:53:42.728625Z"
    },
    "vscode": {
     "languageId": "r"
    }
   },
   "outputs": [
    {
     "name": "stderr",
     "output_type": "stream",
     "text": [
      "plotting heatmap AGAGAG\n",
      "\n"
     ]
    },
    {
     "name": "stderr",
     "output_type": "stream",
     "text": [
      "plotting heatmap AGAGGG\n",
      "\n"
     ]
    },
    {
     "name": "stderr",
     "output_type": "stream",
     "text": [
      "plotting heatmap AGGGG\n",
      "\n"
     ]
    },
    {
     "name": "stderr",
     "output_type": "stream",
     "text": [
      "plotting heatmap Q (Phred)\n",
      "\n"
     ]
    },
    {
     "data": {
      "text/html": [
       "<strong>png:</strong> 2"
      ],
      "text/latex": [
       "\\textbf{png:} 2"
      ],
      "text/markdown": [
       "**png:** 2"
      ],
      "text/plain": [
       "png \n",
       "  2 "
      ]
     },
     "metadata": {},
     "output_type": "display_data"
    }
   ],
   "source": [
    "pdf(file = \"motif_heatmaps__q12_cov08.pdf\", width = 12, height = 20)\n",
    "    plotHeatmapList(heatmap_list = results_ht, color = list(\"Reds\", \"Blues\", \"Greens\", \"YlOrRd\"))\n",
    "dev.off()"
   ]
  },
  {
   "cell_type": "code",
   "execution_count": 63,
   "id": "47971baf-64f6-4982-b086-53034da7c58e",
   "metadata": {
    "execution": {
     "iopub.execute_input": "2024-06-11T02:53:42.741194Z",
     "iopub.status.busy": "2024-06-11T02:53:42.738936Z",
     "iopub.status.idle": "2024-06-11T02:53:42.760499Z",
     "shell.execute_reply": "2024-06-11T02:53:42.757705Z"
    },
    "scrolled": true,
    "vscode": {
     "languageId": "r"
    }
   },
   "outputs": [],
   "source": [
    "# # ### THERE IS SOMETHING WEIRD WITH THE BOTTOM OF THIS PLOT\n",
    "# # ### RSTUDIO DOES NOT MESS THIS UP USING THE SAME OBJECT GENERATED HERE\n",
    "# display_pdf(file = \"motif_heatmaps.pdf\")"
   ]
  },
  {
   "cell_type": "markdown",
   "id": "9055c1d3-e364-43fa-8a2b-8ee66084dbd8",
   "metadata": {
    "tags": []
   },
   "source": [
    "# Session info"
   ]
  },
  {
   "cell_type": "code",
   "execution_count": 64,
   "id": "2f4bda88-5f52-4b4c-bfae-a7f2663cbf6d",
   "metadata": {
    "execution": {
     "iopub.execute_input": "2024-06-11T02:53:42.770448Z",
     "iopub.status.busy": "2024-06-11T02:53:42.768203Z",
     "iopub.status.idle": "2024-06-11T02:53:43.191205Z",
     "shell.execute_reply": "2024-06-11T02:53:43.188490Z"
    },
    "vscode": {
     "languageId": "r"
    }
   },
   "outputs": [
    {
     "data": {
      "text/plain": [
       "R version 4.4.0 (2024-04-24)\n",
       "Platform: x86_64-pc-linux-gnu\n",
       "Running under: Arch Linux\n",
       "\n",
       "Matrix products: default\n",
       "BLAS:   /usr/lib/libblas.so.3.12.0 \n",
       "LAPACK: /usr/lib/liblapack.so.3.12.0\n",
       "\n",
       "locale:\n",
       " [1] LC_CTYPE=en_US.UTF-8       LC_NUMERIC=C              \n",
       " [3] LC_TIME=en_US.UTF-8        LC_COLLATE=en_US.UTF-8    \n",
       " [5] LC_MONETARY=en_US.UTF-8    LC_MESSAGES=en_US.UTF-8   \n",
       " [7] LC_PAPER=en_US.UTF-8       LC_NAME=C                 \n",
       " [9] LC_ADDRESS=C               LC_TELEPHONE=C            \n",
       "[11] LC_MEASUREMENT=en_US.UTF-8 LC_IDENTIFICATION=C       \n",
       "\n",
       "time zone: EST\n",
       "tzcode source: system (glibc)\n",
       "\n",
       "attached base packages:\n",
       "[1] parallel  stats4    stats     graphics  grDevices utils     datasets \n",
       "[8] methods   base     \n",
       "\n",
       "other attached packages:\n",
       " [1] IRdisplay_1.1               heatmaps_1.28.0            \n",
       " [3] scales_1.3.0                data.table_1.15.4          \n",
       " [5] pwalign_1.0.0               doParallel_1.0.17          \n",
       " [7] iterators_1.0.14            foreach_1.5.2              \n",
       " [9] GenomicAlignments_1.40.0    SummarizedExperiment_1.34.0\n",
       "[11] Biobase_2.64.0              MatrixGenerics_1.16.0      \n",
       "[13] matrixStats_1.3.0           Rsamtools_2.20.0           \n",
       "[15] Biostrings_2.72.0           XVector_0.44.0             \n",
       "[17] GenomicRanges_1.56.0        GenomeInfoDb_1.40.0        \n",
       "[19] IRanges_2.38.0              S4Vectors_0.42.0           \n",
       "[21] BiocGenerics_0.50.0         openxlsx_4.2.5.2           \n",
       "[23] lubridate_1.9.3             forcats_1.0.0              \n",
       "[25] stringr_1.5.1               dplyr_1.1.4                \n",
       "[27] purrr_1.0.2                 readr_2.1.5                \n",
       "[29] tidyr_1.3.1                 tibble_3.2.1               \n",
       "[31] ggplot2_3.5.1               tidyverse_2.0.0            \n",
       "\n",
       "loaded via a namespace (and not attached):\n",
       " [1] bitops_1.0-7            rlang_1.1.3             magrittr_2.0.3         \n",
       " [4] compiler_4.4.0          systemfonts_1.1.0       png_0.1-8              \n",
       " [7] fftwtools_0.9-11        vctrs_0.6.5             pkgconfig_2.0.3        \n",
       "[10] crayon_1.5.2            fastmap_1.2.0           labeling_0.4.3         \n",
       "[13] utf8_1.2.4              tzdb_0.4.0              UCSC.utils_1.0.0       \n",
       "[16] ragg_1.3.2              bit_4.0.5               zlibbioc_1.50.0        \n",
       "[19] jsonlite_1.8.8          DelayedArray_0.30.1     uuid_1.2-0             \n",
       "[22] BiocParallel_1.38.0     jpeg_0.1-10             tiff_0.1-12            \n",
       "[25] R6_2.5.1                stringi_1.8.4           RColorBrewer_1.1-3     \n",
       "[28] Rcpp_1.0.12             IRkernel_1.3.2          base64enc_0.1-3        \n",
       "[31] Matrix_1.7-0            timechange_0.3.0        tidyselect_1.2.1       \n",
       "[34] abind_1.4-5             EBImage_4.46.0          codetools_0.2-20       \n",
       "[37] lattice_0.22-6          withr_3.0.0             evaluate_0.23          \n",
       "[40] isoband_0.2.7           zip_2.3.1               pillar_1.9.0           \n",
       "[43] KernSmooth_2.23-22      generics_0.1.3          vroom_1.6.5            \n",
       "[46] RCurl_1.98-1.14         hms_1.1.3               munsell_0.5.1          \n",
       "[49] glue_1.7.0              tools_4.4.0             locfit_1.5-9.9         \n",
       "[52] pbdZMQ_0.3-11           grid_4.4.0              plotrix_3.8-4          \n",
       "[55] colorspace_2.1-0        GenomeInfoDbData_1.2.12 repr_1.1.7             \n",
       "[58] cli_3.6.2               textshaping_0.3.7       fansi_1.0.6            \n",
       "[61] viridisLite_0.4.2       S4Arrays_1.4.0          gtable_0.3.5           \n",
       "[64] digest_0.6.35           SparseArray_1.4.3       farver_2.1.2           \n",
       "[67] htmlwidgets_1.6.4       htmltools_0.5.8.1       lifecycle_1.0.4        \n",
       "[70] httr_1.4.7              bit64_4.0.5             MASS_7.3-60.2          "
      ]
     },
     "metadata": {},
     "output_type": "display_data"
    }
   ],
   "source": [
    "sessionInfo()"
   ]
  }
 ],
 "metadata": {
  "kernelspec": {
   "display_name": "R",
   "language": "R",
   "name": "ir"
  },
  "language_info": {
   "codemirror_mode": "r",
   "file_extension": ".r",
   "mimetype": "text/x-r-source",
   "name": "R",
   "pygments_lexer": "r",
   "version": "4.4.0"
  }
 },
 "nbformat": 4,
 "nbformat_minor": 5
}
