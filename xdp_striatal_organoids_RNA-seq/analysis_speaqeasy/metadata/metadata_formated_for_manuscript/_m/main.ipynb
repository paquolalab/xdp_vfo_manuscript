{
 "cells": [
  {
   "cell_type": "code",
   "execution_count": 1,
   "id": "6b775cc8-f4eb-4c38-9822-b2646617c81a",
   "metadata": {
    "execution": {
     "iopub.execute_input": "2023-05-05T15:18:05.284391Z",
     "iopub.status.busy": "2023-05-05T15:18:05.280897Z",
     "iopub.status.idle": "2023-05-05T15:18:15.032156Z",
     "shell.execute_reply": "2023-05-05T15:18:15.030142Z"
    }
   },
   "outputs": [
    {
     "name": "stderr",
     "output_type": "stream",
     "text": [
      "Warning message in dir.create(\"../_m\", showWarnings = TRUE, recursive = TRUE):\n",
      "\"'../_m' already exists\"\n"
     ]
    }
   ],
   "source": [
    "suppressPackageStartupMessages({\n",
    "    library(tidyverse)\n",
    "    library(data.table)\n",
    "    library(SummarizedExperiment)\n",
    "    library(DESeq2)\n",
    "    })\n",
    "\n",
    "\n",
    "dir.create('../_m', showWarnings = TRUE, recursive = TRUE)\n",
    "setwd('../_m')\n",
    "\n",
    "#only w/ RIN >= 6.0"
   ]
  },
  {
   "cell_type": "code",
   "execution_count": 2,
   "id": "86934f68-b2e5-4259-8405-856ffa1106fd",
   "metadata": {
    "execution": {
     "iopub.execute_input": "2023-05-05T15:18:15.074001Z",
     "iopub.status.busy": "2023-05-05T15:18:15.038740Z",
     "iopub.status.idle": "2023-05-05T15:18:15.095858Z",
     "shell.execute_reply": "2023-05-05T15:18:15.094092Z"
    }
   },
   "outputs": [],
   "source": [
    "original_metadata <- fread('../../_m/XDP_striatal_organoids_metadata.tsv')\n",
    "#52"
   ]
  },
  {
   "cell_type": "code",
   "execution_count": 3,
   "id": "13cdbb45-e352-401f-a8c1-3dd46de498c5",
   "metadata": {
    "execution": {
     "iopub.execute_input": "2023-05-05T15:18:15.104798Z",
     "iopub.status.busy": "2023-05-05T15:18:15.102491Z",
     "iopub.status.idle": "2023-05-05T15:18:17.978474Z",
     "shell.execute_reply": "2023-05-05T15:18:17.976711Z"
    }
   },
   "outputs": [
    {
     "data": {
      "text/html": [
       "<style>\n",
       ".list-inline {list-style: none; margin:0; padding: 0}\n",
       ".list-inline>li {display: inline-block}\n",
       ".list-inline>li:not(:last-child)::after {content: \"\\00b7\"; padding: 0 .5ex}\n",
       "</style>\n",
       "<ol class=list-inline><li>'dds'</li><li>'original_metadata'</li></ol>\n"
      ],
      "text/latex": [
       "\\begin{enumerate*}\n",
       "\\item 'dds'\n",
       "\\item 'original\\_metadata'\n",
       "\\end{enumerate*}\n"
      ],
      "text/markdown": [
       "1. 'dds'\n",
       "2. 'original_metadata'\n",
       "\n",
       "\n"
      ],
      "text/plain": [
       "[1] \"dds\"               \"original_metadata\""
      ]
     },
     "metadata": {},
     "output_type": "display_data"
    }
   ],
   "source": [
    "load('/ceph/projects/xdp_striatal_organoids_RNA-seq/analysis_speaqeasy/deseq2_multiplemodels_genes_no_lfcShrink/_m/Big_Model_All_Sample_Comparison_design1_deseq2/gene_dds.Rdata')\n",
    "\n",
    "ls()\n",
    "\n",
    "updated_metadata <- colData(dds) %>% as.data.frame()"
   ]
  },
  {
   "cell_type": "code",
   "execution_count": 4,
   "id": "b3a381b5-fe03-4ce5-a6de-e56aceaca817",
   "metadata": {
    "execution": {
     "iopub.execute_input": "2023-05-05T15:18:17.987010Z",
     "iopub.status.busy": "2023-05-05T15:18:17.985071Z",
     "iopub.status.idle": "2023-05-05T15:18:18.004718Z",
     "shell.execute_reply": "2023-05-05T15:18:18.002972Z"
    }
   },
   "outputs": [
    {
     "data": {
      "text/html": [
       "<style>\n",
       ".list-inline {list-style: none; margin:0; padding: 0}\n",
       ".list-inline>li {display: inline-block}\n",
       ".list-inline>li:not(:last-child)::after {content: \"\\00b7\"; padding: 0 .5ex}\n",
       "</style>\n",
       "<ol class=list-inline><li>47</li><li>72</li></ol>\n"
      ],
      "text/latex": [
       "\\begin{enumerate*}\n",
       "\\item 47\n",
       "\\item 72\n",
       "\\end{enumerate*}\n"
      ],
      "text/markdown": [
       "1. 47\n",
       "2. 72\n",
       "\n",
       "\n"
      ],
      "text/plain": [
       "[1] 47 72"
      ]
     },
     "metadata": {},
     "output_type": "display_data"
    }
   ],
   "source": [
    "updated_metadata %>% dim()\n",
    "#updated_metadata\n",
    "#47"
   ]
  },
  {
   "cell_type": "code",
   "execution_count": 5,
   "id": "7af2a6e4-4f5b-49f1-a3c4-6b75d7a033d2",
   "metadata": {
    "execution": {
     "iopub.execute_input": "2023-05-05T15:18:18.012792Z",
     "iopub.status.busy": "2023-05-05T15:18:18.010978Z",
     "iopub.status.idle": "2023-05-05T15:18:18.024271Z",
     "shell.execute_reply": "2023-05-05T15:18:18.022686Z"
    }
   },
   "outputs": [],
   "source": [
    "#original_metadata"
   ]
  },
  {
   "cell_type": "code",
   "execution_count": null,
   "id": "a378f1a2-9b34-49fb-88b2-ce819d9237b2",
   "metadata": {},
   "outputs": [],
   "source": []
  },
  {
   "cell_type": "code",
   "execution_count": 6,
   "id": "bf63656b-33fc-46fd-b81b-7e2876a65e83",
   "metadata": {
    "execution": {
     "iopub.execute_input": "2023-05-05T15:18:18.032470Z",
     "iopub.status.busy": "2023-05-05T15:18:18.030846Z",
     "iopub.status.idle": "2023-05-05T15:18:18.043946Z",
     "shell.execute_reply": "2023-05-05T15:18:18.042368Z"
    }
   },
   "outputs": [],
   "source": [
    "#updated_metadata %>% head"
   ]
  },
  {
   "cell_type": "code",
   "execution_count": 7,
   "id": "4150bdf8-a1b4-4c7d-ac47-a3a54d33fd28",
   "metadata": {
    "execution": {
     "iopub.execute_input": "2023-05-05T15:18:18.052265Z",
     "iopub.status.busy": "2023-05-05T15:18:18.050611Z",
     "iopub.status.idle": "2023-05-05T15:18:18.109994Z",
     "shell.execute_reply": "2023-05-05T15:18:18.108339Z"
    }
   },
   "outputs": [],
   "source": [
    "new_metadata <- original_metadata %>% \n",
    "                                filter(Sample %in% updated_metadata$SAMPLE_ID ) %>%\n",
    "                                filter(!(Sex == 'Female' & Day_of_Maturation < 90)) # RIN >= 6 and young female organoids werent included in the model\n",
    "#new_metadata"
   ]
  },
  {
   "cell_type": "code",
   "execution_count": 8,
   "id": "95a161b9-d8e0-415f-a486-4441f16ac93b",
   "metadata": {
    "execution": {
     "iopub.execute_input": "2023-05-05T15:18:18.119065Z",
     "iopub.status.busy": "2023-05-05T15:18:18.117179Z",
     "iopub.status.idle": "2023-05-05T15:18:18.346839Z",
     "shell.execute_reply": "2023-05-05T15:18:18.345179Z"
    }
   },
   "outputs": [
    {
     "data": {
      "text/html": [
       "<table class=\"dataframe\">\n",
       "<caption>A data.table: 41 × 71</caption>\n",
       "<thead>\n",
       "\t<tr><th scope=col>Differentiation_cohort</th><th scope=col>Sample</th><th scope=col>iPSC_line</th><th scope=col>Cell_line</th><th scope=col>Sex</th><th scope=col>Day_of_Maturation</th><th scope=col>RIN</th><th scope=col>Kit</th><th scope=col>Disease_Status</th><th scope=col>individual</th><th scope=col>⋯</th><th scope=col>gene_Unassigned_Chimera</th><th scope=col>gene_Unassigned_FragmentLength</th><th scope=col>gene_Unassigned_Duplicate</th><th scope=col>gene_Unassigned_MultiMapping</th><th scope=col>gene_Unassigned_Secondary</th><th scope=col>gene_Unassigned_NonSplit</th><th scope=col>gene_Unassigned_NoFeatures</th><th scope=col>gene_Unassigned_Overlapping_Length</th><th scope=col>gene_Unassigned_Ambiguity</th><th scope=col>rRNA_rate</th></tr>\n",
       "\t<tr><th scope=col>&lt;chr&gt;</th><th scope=col>&lt;chr&gt;</th><th scope=col>&lt;chr&gt;</th><th scope=col>&lt;chr&gt;</th><th scope=col>&lt;chr&gt;</th><th scope=col>&lt;int&gt;</th><th scope=col>&lt;dbl&gt;</th><th scope=col>&lt;chr&gt;</th><th scope=col>&lt;chr&gt;</th><th scope=col>&lt;int&gt;</th><th scope=col>⋯</th><th scope=col>&lt;int&gt;</th><th scope=col>&lt;int&gt;</th><th scope=col>&lt;int&gt;</th><th scope=col>&lt;int&gt;</th><th scope=col>&lt;int&gt;</th><th scope=col>&lt;int&gt;</th><th scope=col>&lt;int&gt;</th><th scope=col>&lt;int&gt;</th><th scope=col>&lt;int&gt;</th><th scope=col>&lt;dbl&gt;</th></tr>\n",
       "</thead>\n",
       "<tbody>\n",
       "\t<tr><td>A               </td><td>1N </td><td>33113.2I     </td><td>Control       </td><td>Male  </td><td> 30</td><td>8.7</td><td>Zymo_R2062</td><td>healthy</td><td>33113</td><td>⋯</td><td>0</td><td>0</td><td>0</td><td>6431282</td><td>0</td><td>0</td><td>40040800</td><td>0</td><td>1257047</td><td>1.306394e-07</td></tr>\n",
       "\t<tr><td>A               </td><td>2N </td><td>33109.2G     </td><td>XDP           </td><td>Male  </td><td> 30</td><td>8.0</td><td>Zymo_R2062</td><td>patient</td><td>33109</td><td>⋯</td><td>0</td><td>0</td><td>0</td><td>4653184</td><td>0</td><td>0</td><td>37936262</td><td>0</td><td> 783310</td><td>6.291638e-08</td></tr>\n",
       "\t<tr><td>A               </td><td>3N </td><td>33109.2G-1A4 </td><td>DELTA-SVA-XDP </td><td>Male  </td><td> 30</td><td>9.0</td><td>Zymo_R2062</td><td>healthy</td><td>33109</td><td>⋯</td><td>0</td><td>0</td><td>0</td><td>5197457</td><td>0</td><td>0</td><td>32255101</td><td>0</td><td>1145724</td><td>1.289586e-07</td></tr>\n",
       "\t<tr><td>A               </td><td>4N </td><td>33109.2G-2F2 </td><td>DELTA-SVA-XDP </td><td>Male  </td><td> 30</td><td>8.8</td><td>Zymo_R2062</td><td>healthy</td><td>33109</td><td>⋯</td><td>0</td><td>0</td><td>0</td><td>4973123</td><td>0</td><td>0</td><td>31853240</td><td>0</td><td>1027916</td><td>1.403031e-07</td></tr>\n",
       "\t<tr><td>A               </td><td>5N </td><td>33113.2I     </td><td>Control       </td><td>Male  </td><td> 60</td><td>7.6</td><td>Zymo_R2062</td><td>healthy</td><td>33113</td><td>⋯</td><td>0</td><td>0</td><td>0</td><td>4492165</td><td>0</td><td>0</td><td>31129902</td><td>0</td><td> 744002</td><td>5.249719e-07</td></tr>\n",
       "\t<tr><td>A               </td><td>6N </td><td>33109.2G     </td><td>XDP           </td><td>Male  </td><td> 60</td><td>7.6</td><td>Zymo_R2062</td><td>patient</td><td>33109</td><td>⋯</td><td>0</td><td>0</td><td>0</td><td>5110867</td><td>0</td><td>0</td><td>37824209</td><td>0</td><td> 657802</td><td>6.064717e-07</td></tr>\n",
       "\t<tr><td>A               </td><td>7N </td><td>33109.2G-1A4 </td><td>DELTA-SVA-XDP </td><td>Male  </td><td> 60</td><td>6.9</td><td>Zymo_R2062</td><td>healthy</td><td>33109</td><td>⋯</td><td>0</td><td>0</td><td>0</td><td>6171690</td><td>0</td><td>0</td><td>38427668</td><td>0</td><td> 392520</td><td>2.334205e-06</td></tr>\n",
       "\t<tr><td>A               </td><td>8N </td><td>33109.2G-2F2 </td><td>DELTA-SVA-XDP </td><td>Male  </td><td> 60</td><td>6.5</td><td>Zymo_R2062</td><td>healthy</td><td>33109</td><td>⋯</td><td>0</td><td>0</td><td>0</td><td>6573237</td><td>0</td><td>0</td><td>36940601</td><td>0</td><td> 363614</td><td>1.347906e-06</td></tr>\n",
       "\t<tr><td>A               </td><td>9  </td><td>33113.2I     </td><td>Control       </td><td>Male  </td><td> 90</td><td>6.2</td><td>Zymo_R2062</td><td>healthy</td><td>33113</td><td>⋯</td><td>0</td><td>0</td><td>0</td><td>5557508</td><td>0</td><td>0</td><td>32812867</td><td>0</td><td> 520066</td><td>1.703843e-06</td></tr>\n",
       "\t<tr><td>A               </td><td>53R</td><td>33109.2G     </td><td>XDP           </td><td>Male  </td><td> 90</td><td>7.1</td><td>Zymo_D7005</td><td>patient</td><td>33109</td><td>⋯</td><td>0</td><td>0</td><td>0</td><td>4365845</td><td>0</td><td>0</td><td>38732792</td><td>0</td><td> 211804</td><td>1.690539e-07</td></tr>\n",
       "\t<tr><td>A               </td><td>12N</td><td>33109.2G-2F2 </td><td>DELTA-SVA-XDP </td><td>Male  </td><td> 90</td><td>6.2</td><td>Zymo_R2062</td><td>healthy</td><td>33109</td><td>⋯</td><td>0</td><td>0</td><td>0</td><td>6544251</td><td>0</td><td>0</td><td>37043127</td><td>0</td><td> 268175</td><td>1.084613e-06</td></tr>\n",
       "\t<tr><td>A               </td><td>13N</td><td>33113.2I     </td><td>Control       </td><td>Male  </td><td>120</td><td>8.5</td><td>Zymo_R2062</td><td>healthy</td><td>33113</td><td>⋯</td><td>0</td><td>0</td><td>0</td><td>5443989</td><td>0</td><td>0</td><td>27357651</td><td>0</td><td> 910624</td><td>2.636694e-07</td></tr>\n",
       "\t<tr><td>A               </td><td>14N</td><td>33109.2G     </td><td>XDP           </td><td>Male  </td><td>120</td><td>7.1</td><td>Zymo_R2062</td><td>patient</td><td>33109</td><td>⋯</td><td>0</td><td>0</td><td>0</td><td>7410361</td><td>0</td><td>0</td><td>33865421</td><td>0</td><td> 412811</td><td>1.486542e-06</td></tr>\n",
       "\t<tr><td>A               </td><td>15N</td><td>33109.2G-1A4 </td><td>DELTA-SVA-XDP </td><td>Male  </td><td>120</td><td>8.2</td><td>Zymo_R2062</td><td>healthy</td><td>33109</td><td>⋯</td><td>0</td><td>0</td><td>0</td><td>4944525</td><td>0</td><td>0</td><td>29827822</td><td>0</td><td> 758971</td><td>6.541773e-07</td></tr>\n",
       "\t<tr><td>A               </td><td>16N</td><td>33109.2G-2F2 </td><td>DELTA-SVA-XDP </td><td>Male  </td><td>120</td><td>8.8</td><td>Zymo_R2062</td><td>healthy</td><td>33109</td><td>⋯</td><td>0</td><td>0</td><td>0</td><td>4842399</td><td>0</td><td>0</td><td>23954379</td><td>0</td><td> 973692</td><td>3.929319e-07</td></tr>\n",
       "\t<tr><td>B               </td><td>17N</td><td>33114.C      </td><td>Control       </td><td>Male  </td><td> 30</td><td>7.0</td><td>Zymo_R2062</td><td>healthy</td><td>33114</td><td>⋯</td><td>0</td><td>0</td><td>0</td><td>5175466</td><td>0</td><td>0</td><td>36141998</td><td>0</td><td> 486372</td><td>9.295202e-07</td></tr>\n",
       "\t<tr><td>B               </td><td>18N</td><td>33109.2B     </td><td>XDP           </td><td>Male  </td><td> 30</td><td>6.6</td><td>Zymo_R2062</td><td>patient</td><td>33109</td><td>⋯</td><td>0</td><td>0</td><td>0</td><td>5951215</td><td>0</td><td>0</td><td>35030326</td><td>0</td><td> 521507</td><td>1.449071e-06</td></tr>\n",
       "\t<tr><td>B               </td><td>19N</td><td>33109.2B-3A12</td><td>DELTA-SVA-XDP </td><td>Male  </td><td> 30</td><td>7.6</td><td>Zymo_R2062</td><td>healthy</td><td>33109</td><td>⋯</td><td>0</td><td>0</td><td>0</td><td>5148298</td><td>0</td><td>0</td><td>30809065</td><td>0</td><td> 730178</td><td>2.476131e-07</td></tr>\n",
       "\t<tr><td>B               </td><td>20 </td><td>33114.C      </td><td>Control       </td><td>Male  </td><td> 60</td><td>7.4</td><td>Zymo_R2062</td><td>healthy</td><td>33114</td><td>⋯</td><td>0</td><td>0</td><td>0</td><td>5550694</td><td>0</td><td>0</td><td>33411959</td><td>0</td><td> 872566</td><td>4.315121e-07</td></tr>\n",
       "\t<tr><td>B               </td><td>21N</td><td>33109.2B     </td><td>XDP           </td><td>Male  </td><td> 60</td><td>6.8</td><td>Zymo_R2062</td><td>patient</td><td>33109</td><td>⋯</td><td>0</td><td>0</td><td>0</td><td>5561588</td><td>0</td><td>0</td><td>30526855</td><td>0</td><td> 525086</td><td>1.095939e-06</td></tr>\n",
       "\t<tr><td>B               </td><td>22N</td><td>33109.2B-3A12</td><td>DELTA-SVA-XDP </td><td>Male  </td><td> 60</td><td>6.9</td><td>Zymo_R2062</td><td>healthy</td><td>33109</td><td>⋯</td><td>0</td><td>0</td><td>0</td><td>6011443</td><td>0</td><td>0</td><td>32371685</td><td>0</td><td> 654099</td><td>1.091704e-06</td></tr>\n",
       "\t<tr><td>B               </td><td>23N</td><td>33114.C      </td><td>Control       </td><td>Male  </td><td> 90</td><td>6.3</td><td>Zymo_R2062</td><td>healthy</td><td>33114</td><td>⋯</td><td>0</td><td>0</td><td>0</td><td>6869606</td><td>0</td><td>0</td><td>33621171</td><td>0</td><td> 546721</td><td>4.639465e-07</td></tr>\n",
       "\t<tr><td>B               </td><td>24N</td><td>33109.2B     </td><td>XDP           </td><td>Male  </td><td> 90</td><td>6.4</td><td>Zymo_R2062</td><td>patient</td><td>33109</td><td>⋯</td><td>0</td><td>0</td><td>0</td><td>7918343</td><td>0</td><td>0</td><td>34618183</td><td>0</td><td> 365793</td><td>1.446072e-06</td></tr>\n",
       "\t<tr><td>B               </td><td>25N</td><td>33109.2B-3A12</td><td>DELTA-SVA-XDP </td><td>Male  </td><td> 90</td><td>7.2</td><td>Zymo_R2062</td><td>healthy</td><td>33109</td><td>⋯</td><td>0</td><td>0</td><td>0</td><td>4609984</td><td>0</td><td>0</td><td>31992275</td><td>0</td><td> 467073</td><td>7.399625e-08</td></tr>\n",
       "\t<tr><td>B               </td><td>26 </td><td>33114.C      </td><td>Control       </td><td>Male  </td><td>120</td><td>7.9</td><td>Zymo_R2062</td><td>healthy</td><td>33114</td><td>⋯</td><td>0</td><td>0</td><td>0</td><td>5730046</td><td>0</td><td>0</td><td>24622789</td><td>0</td><td>1315431</td><td>3.214507e-07</td></tr>\n",
       "\t<tr><td>B               </td><td>27N</td><td>33109.2B     </td><td>XDP           </td><td>Male  </td><td>120</td><td>6.9</td><td>Zymo_R2062</td><td>patient</td><td>33109</td><td>⋯</td><td>0</td><td>0</td><td>0</td><td>7243390</td><td>0</td><td>0</td><td>34813780</td><td>0</td><td> 472200</td><td>1.223330e-06</td></tr>\n",
       "\t<tr><td>B               </td><td>28N</td><td>33109.2B-3A12</td><td>DELTA-SVA-XDP </td><td>Male  </td><td>120</td><td>7.3</td><td>Zymo_R2062</td><td>healthy</td><td>33109</td><td>⋯</td><td>0</td><td>0</td><td>0</td><td>5535189</td><td>0</td><td>0</td><td>31262949</td><td>0</td><td> 936278</td><td>3.688395e-07</td></tr>\n",
       "\t<tr><td>C               </td><td>29N</td><td>33362.C      </td><td>Control       </td><td>Male  </td><td> 30</td><td>8.5</td><td>Zymo_R2062</td><td>healthy</td><td>33362</td><td>⋯</td><td>0</td><td>0</td><td>0</td><td>4611328</td><td>0</td><td>0</td><td>34131522</td><td>0</td><td> 554308</td><td>5.256446e-07</td></tr>\n",
       "\t<tr><td>C               </td><td>31N</td><td>33363.D-3C2  </td><td>DELTA-SVA-XDP </td><td>Male  </td><td> 30</td><td>7.9</td><td>Zymo_R2062</td><td>healthy</td><td>33363</td><td>⋯</td><td>0</td><td>0</td><td>0</td><td>5747016</td><td>0</td><td>0</td><td>37463822</td><td>0</td><td> 479407</td><td>9.766088e-07</td></tr>\n",
       "\t<tr><td>C               </td><td>32N</td><td>33362.C      </td><td>Control       </td><td>Male  </td><td> 60</td><td>6.3</td><td>Zymo_R2062</td><td>healthy</td><td>33362</td><td>⋯</td><td>0</td><td>0</td><td>0</td><td>5286695</td><td>0</td><td>0</td><td>38043460</td><td>0</td><td> 226574</td><td>1.562521e-06</td></tr>\n",
       "\t<tr><td>C               </td><td>33N</td><td>33363.D      </td><td>XDP           </td><td>Male  </td><td> 60</td><td>7.0</td><td>Zymo_R2062</td><td>patient</td><td>33363</td><td>⋯</td><td>0</td><td>0</td><td>0</td><td>5963985</td><td>0</td><td>0</td><td>36974800</td><td>0</td><td> 303256</td><td>4.749637e-07</td></tr>\n",
       "\t<tr><td>C               </td><td>34N</td><td>33363.D-3C2  </td><td>DELTA-SVA-XDP </td><td>Male  </td><td> 60</td><td>6.2</td><td>Zymo_R2062</td><td>healthy</td><td>33363</td><td>⋯</td><td>0</td><td>0</td><td>0</td><td>7151934</td><td>0</td><td>0</td><td>38801890</td><td>0</td><td> 251485</td><td>1.695031e-06</td></tr>\n",
       "\t<tr><td>C               </td><td>35N</td><td>33362.C      </td><td>Control       </td><td>Male  </td><td> 90</td><td>6.6</td><td>Zymo_R2062</td><td>healthy</td><td>33362</td><td>⋯</td><td>0</td><td>0</td><td>0</td><td>5139221</td><td>0</td><td>0</td><td>37146510</td><td>0</td><td> 263402</td><td>3.853019e-07</td></tr>\n",
       "\t<tr><td>C               </td><td>36N</td><td>33363.D      </td><td>XDP           </td><td>Male  </td><td> 90</td><td>6.5</td><td>Zymo_R2062</td><td>patient</td><td>33363</td><td>⋯</td><td>0</td><td>0</td><td>0</td><td>5581766</td><td>0</td><td>0</td><td>39744329</td><td>0</td><td> 264052</td><td>5.283162e-07</td></tr>\n",
       "\t<tr><td>C               </td><td>37N</td><td>33363.D-3C2  </td><td>DELTA-SVA-XDP </td><td>Male  </td><td> 90</td><td>6.4</td><td>Zymo_R2062</td><td>healthy</td><td>33363</td><td>⋯</td><td>0</td><td>0</td><td>0</td><td>5835790</td><td>0</td><td>0</td><td>40300245</td><td>0</td><td> 206187</td><td>7.611360e-07</td></tr>\n",
       "\t<tr><td>C               </td><td>38N</td><td>33362.C      </td><td>Control       </td><td>Male  </td><td>120</td><td>8.2</td><td>Zymo_D7005</td><td>healthy</td><td>33362</td><td>⋯</td><td>0</td><td>0</td><td>0</td><td>5318170</td><td>0</td><td>0</td><td>48980544</td><td>0</td><td> 385000</td><td>0.000000e+00</td></tr>\n",
       "\t<tr><td>C               </td><td>39N</td><td>33363.D      </td><td>XDP           </td><td>Male  </td><td>120</td><td>7.3</td><td>Zymo_D7005</td><td>patient</td><td>33363</td><td>⋯</td><td>0</td><td>0</td><td>0</td><td>6385324</td><td>0</td><td>0</td><td>37005524</td><td>0</td><td> 317806</td><td>6.525251e-07</td></tr>\n",
       "\t<tr><td>C               </td><td>40N</td><td>33363.D-3C2  </td><td>DELTA-SVA-XDP </td><td>Male  </td><td>120</td><td>8.6</td><td>Zymo_D7005</td><td>healthy</td><td>33363</td><td>⋯</td><td>0</td><td>0</td><td>0</td><td>4599603</td><td>0</td><td>0</td><td>37609705</td><td>0</td><td> 560389</td><td>1.219512e-07</td></tr>\n",
       "\t<tr><td>Female_organoids</td><td>47N</td><td>33360.A      </td><td>Carrier-Mutant</td><td>Female</td><td> 90</td><td>6.4</td><td>Zymo_R2062</td><td>patient</td><td>33360</td><td>⋯</td><td>0</td><td>0</td><td>0</td><td>5653328</td><td>0</td><td>0</td><td>45230614</td><td>0</td><td> 262213</td><td>9.052378e-07</td></tr>\n",
       "\t<tr><td>Female_organoids</td><td>50N</td><td>33360.A      </td><td>Carrier-Mutant</td><td>Female</td><td>120</td><td>7.6</td><td>Zymo_R2062</td><td>patient</td><td>33360</td><td>⋯</td><td>0</td><td>0</td><td>0</td><td>5102443</td><td>0</td><td>0</td><td>45679982</td><td>0</td><td> 682881</td><td>6.366914e-08</td></tr>\n",
       "\t<tr><td>Female_organoids</td><td>52R</td><td>33360.D      </td><td>Carrier-Mutant</td><td>Female</td><td>120</td><td>7.1</td><td>Zymo_R2062</td><td>patient</td><td>33360</td><td>⋯</td><td>0</td><td>0</td><td>0</td><td>5613952</td><td>0</td><td>0</td><td>43004360</td><td>0</td><td> 410313</td><td>1.093478e-06</td></tr>\n",
       "</tbody>\n",
       "</table>\n"
      ],
      "text/latex": [
       "A data.table: 41 × 71\n",
       "\\begin{tabular}{lllllllllllllllllllll}\n",
       " Differentiation\\_cohort & Sample & iPSC\\_line & Cell\\_line & Sex & Day\\_of\\_Maturation & RIN & Kit & Disease\\_Status & individual & ⋯ & gene\\_Unassigned\\_Chimera & gene\\_Unassigned\\_FragmentLength & gene\\_Unassigned\\_Duplicate & gene\\_Unassigned\\_MultiMapping & gene\\_Unassigned\\_Secondary & gene\\_Unassigned\\_NonSplit & gene\\_Unassigned\\_NoFeatures & gene\\_Unassigned\\_Overlapping\\_Length & gene\\_Unassigned\\_Ambiguity & rRNA\\_rate\\\\\n",
       " <chr> & <chr> & <chr> & <chr> & <chr> & <int> & <dbl> & <chr> & <chr> & <int> & ⋯ & <int> & <int> & <int> & <int> & <int> & <int> & <int> & <int> & <int> & <dbl>\\\\\n",
       "\\hline\n",
       "\t A                & 1N  & 33113.2I      & Control        & Male   &  30 & 8.7 & Zymo\\_R2062 & healthy & 33113 & ⋯ & 0 & 0 & 0 & 6431282 & 0 & 0 & 40040800 & 0 & 1257047 & 1.306394e-07\\\\\n",
       "\t A                & 2N  & 33109.2G      & XDP            & Male   &  30 & 8.0 & Zymo\\_R2062 & patient & 33109 & ⋯ & 0 & 0 & 0 & 4653184 & 0 & 0 & 37936262 & 0 &  783310 & 6.291638e-08\\\\\n",
       "\t A                & 3N  & 33109.2G-1A4  & DELTA-SVA-XDP  & Male   &  30 & 9.0 & Zymo\\_R2062 & healthy & 33109 & ⋯ & 0 & 0 & 0 & 5197457 & 0 & 0 & 32255101 & 0 & 1145724 & 1.289586e-07\\\\\n",
       "\t A                & 4N  & 33109.2G-2F2  & DELTA-SVA-XDP  & Male   &  30 & 8.8 & Zymo\\_R2062 & healthy & 33109 & ⋯ & 0 & 0 & 0 & 4973123 & 0 & 0 & 31853240 & 0 & 1027916 & 1.403031e-07\\\\\n",
       "\t A                & 5N  & 33113.2I      & Control        & Male   &  60 & 7.6 & Zymo\\_R2062 & healthy & 33113 & ⋯ & 0 & 0 & 0 & 4492165 & 0 & 0 & 31129902 & 0 &  744002 & 5.249719e-07\\\\\n",
       "\t A                & 6N  & 33109.2G      & XDP            & Male   &  60 & 7.6 & Zymo\\_R2062 & patient & 33109 & ⋯ & 0 & 0 & 0 & 5110867 & 0 & 0 & 37824209 & 0 &  657802 & 6.064717e-07\\\\\n",
       "\t A                & 7N  & 33109.2G-1A4  & DELTA-SVA-XDP  & Male   &  60 & 6.9 & Zymo\\_R2062 & healthy & 33109 & ⋯ & 0 & 0 & 0 & 6171690 & 0 & 0 & 38427668 & 0 &  392520 & 2.334205e-06\\\\\n",
       "\t A                & 8N  & 33109.2G-2F2  & DELTA-SVA-XDP  & Male   &  60 & 6.5 & Zymo\\_R2062 & healthy & 33109 & ⋯ & 0 & 0 & 0 & 6573237 & 0 & 0 & 36940601 & 0 &  363614 & 1.347906e-06\\\\\n",
       "\t A                & 9   & 33113.2I      & Control        & Male   &  90 & 6.2 & Zymo\\_R2062 & healthy & 33113 & ⋯ & 0 & 0 & 0 & 5557508 & 0 & 0 & 32812867 & 0 &  520066 & 1.703843e-06\\\\\n",
       "\t A                & 53R & 33109.2G      & XDP            & Male   &  90 & 7.1 & Zymo\\_D7005 & patient & 33109 & ⋯ & 0 & 0 & 0 & 4365845 & 0 & 0 & 38732792 & 0 &  211804 & 1.690539e-07\\\\\n",
       "\t A                & 12N & 33109.2G-2F2  & DELTA-SVA-XDP  & Male   &  90 & 6.2 & Zymo\\_R2062 & healthy & 33109 & ⋯ & 0 & 0 & 0 & 6544251 & 0 & 0 & 37043127 & 0 &  268175 & 1.084613e-06\\\\\n",
       "\t A                & 13N & 33113.2I      & Control        & Male   & 120 & 8.5 & Zymo\\_R2062 & healthy & 33113 & ⋯ & 0 & 0 & 0 & 5443989 & 0 & 0 & 27357651 & 0 &  910624 & 2.636694e-07\\\\\n",
       "\t A                & 14N & 33109.2G      & XDP            & Male   & 120 & 7.1 & Zymo\\_R2062 & patient & 33109 & ⋯ & 0 & 0 & 0 & 7410361 & 0 & 0 & 33865421 & 0 &  412811 & 1.486542e-06\\\\\n",
       "\t A                & 15N & 33109.2G-1A4  & DELTA-SVA-XDP  & Male   & 120 & 8.2 & Zymo\\_R2062 & healthy & 33109 & ⋯ & 0 & 0 & 0 & 4944525 & 0 & 0 & 29827822 & 0 &  758971 & 6.541773e-07\\\\\n",
       "\t A                & 16N & 33109.2G-2F2  & DELTA-SVA-XDP  & Male   & 120 & 8.8 & Zymo\\_R2062 & healthy & 33109 & ⋯ & 0 & 0 & 0 & 4842399 & 0 & 0 & 23954379 & 0 &  973692 & 3.929319e-07\\\\\n",
       "\t B                & 17N & 33114.C       & Control        & Male   &  30 & 7.0 & Zymo\\_R2062 & healthy & 33114 & ⋯ & 0 & 0 & 0 & 5175466 & 0 & 0 & 36141998 & 0 &  486372 & 9.295202e-07\\\\\n",
       "\t B                & 18N & 33109.2B      & XDP            & Male   &  30 & 6.6 & Zymo\\_R2062 & patient & 33109 & ⋯ & 0 & 0 & 0 & 5951215 & 0 & 0 & 35030326 & 0 &  521507 & 1.449071e-06\\\\\n",
       "\t B                & 19N & 33109.2B-3A12 & DELTA-SVA-XDP  & Male   &  30 & 7.6 & Zymo\\_R2062 & healthy & 33109 & ⋯ & 0 & 0 & 0 & 5148298 & 0 & 0 & 30809065 & 0 &  730178 & 2.476131e-07\\\\\n",
       "\t B                & 20  & 33114.C       & Control        & Male   &  60 & 7.4 & Zymo\\_R2062 & healthy & 33114 & ⋯ & 0 & 0 & 0 & 5550694 & 0 & 0 & 33411959 & 0 &  872566 & 4.315121e-07\\\\\n",
       "\t B                & 21N & 33109.2B      & XDP            & Male   &  60 & 6.8 & Zymo\\_R2062 & patient & 33109 & ⋯ & 0 & 0 & 0 & 5561588 & 0 & 0 & 30526855 & 0 &  525086 & 1.095939e-06\\\\\n",
       "\t B                & 22N & 33109.2B-3A12 & DELTA-SVA-XDP  & Male   &  60 & 6.9 & Zymo\\_R2062 & healthy & 33109 & ⋯ & 0 & 0 & 0 & 6011443 & 0 & 0 & 32371685 & 0 &  654099 & 1.091704e-06\\\\\n",
       "\t B                & 23N & 33114.C       & Control        & Male   &  90 & 6.3 & Zymo\\_R2062 & healthy & 33114 & ⋯ & 0 & 0 & 0 & 6869606 & 0 & 0 & 33621171 & 0 &  546721 & 4.639465e-07\\\\\n",
       "\t B                & 24N & 33109.2B      & XDP            & Male   &  90 & 6.4 & Zymo\\_R2062 & patient & 33109 & ⋯ & 0 & 0 & 0 & 7918343 & 0 & 0 & 34618183 & 0 &  365793 & 1.446072e-06\\\\\n",
       "\t B                & 25N & 33109.2B-3A12 & DELTA-SVA-XDP  & Male   &  90 & 7.2 & Zymo\\_R2062 & healthy & 33109 & ⋯ & 0 & 0 & 0 & 4609984 & 0 & 0 & 31992275 & 0 &  467073 & 7.399625e-08\\\\\n",
       "\t B                & 26  & 33114.C       & Control        & Male   & 120 & 7.9 & Zymo\\_R2062 & healthy & 33114 & ⋯ & 0 & 0 & 0 & 5730046 & 0 & 0 & 24622789 & 0 & 1315431 & 3.214507e-07\\\\\n",
       "\t B                & 27N & 33109.2B      & XDP            & Male   & 120 & 6.9 & Zymo\\_R2062 & patient & 33109 & ⋯ & 0 & 0 & 0 & 7243390 & 0 & 0 & 34813780 & 0 &  472200 & 1.223330e-06\\\\\n",
       "\t B                & 28N & 33109.2B-3A12 & DELTA-SVA-XDP  & Male   & 120 & 7.3 & Zymo\\_R2062 & healthy & 33109 & ⋯ & 0 & 0 & 0 & 5535189 & 0 & 0 & 31262949 & 0 &  936278 & 3.688395e-07\\\\\n",
       "\t C                & 29N & 33362.C       & Control        & Male   &  30 & 8.5 & Zymo\\_R2062 & healthy & 33362 & ⋯ & 0 & 0 & 0 & 4611328 & 0 & 0 & 34131522 & 0 &  554308 & 5.256446e-07\\\\\n",
       "\t C                & 31N & 33363.D-3C2   & DELTA-SVA-XDP  & Male   &  30 & 7.9 & Zymo\\_R2062 & healthy & 33363 & ⋯ & 0 & 0 & 0 & 5747016 & 0 & 0 & 37463822 & 0 &  479407 & 9.766088e-07\\\\\n",
       "\t C                & 32N & 33362.C       & Control        & Male   &  60 & 6.3 & Zymo\\_R2062 & healthy & 33362 & ⋯ & 0 & 0 & 0 & 5286695 & 0 & 0 & 38043460 & 0 &  226574 & 1.562521e-06\\\\\n",
       "\t C                & 33N & 33363.D       & XDP            & Male   &  60 & 7.0 & Zymo\\_R2062 & patient & 33363 & ⋯ & 0 & 0 & 0 & 5963985 & 0 & 0 & 36974800 & 0 &  303256 & 4.749637e-07\\\\\n",
       "\t C                & 34N & 33363.D-3C2   & DELTA-SVA-XDP  & Male   &  60 & 6.2 & Zymo\\_R2062 & healthy & 33363 & ⋯ & 0 & 0 & 0 & 7151934 & 0 & 0 & 38801890 & 0 &  251485 & 1.695031e-06\\\\\n",
       "\t C                & 35N & 33362.C       & Control        & Male   &  90 & 6.6 & Zymo\\_R2062 & healthy & 33362 & ⋯ & 0 & 0 & 0 & 5139221 & 0 & 0 & 37146510 & 0 &  263402 & 3.853019e-07\\\\\n",
       "\t C                & 36N & 33363.D       & XDP            & Male   &  90 & 6.5 & Zymo\\_R2062 & patient & 33363 & ⋯ & 0 & 0 & 0 & 5581766 & 0 & 0 & 39744329 & 0 &  264052 & 5.283162e-07\\\\\n",
       "\t C                & 37N & 33363.D-3C2   & DELTA-SVA-XDP  & Male   &  90 & 6.4 & Zymo\\_R2062 & healthy & 33363 & ⋯ & 0 & 0 & 0 & 5835790 & 0 & 0 & 40300245 & 0 &  206187 & 7.611360e-07\\\\\n",
       "\t C                & 38N & 33362.C       & Control        & Male   & 120 & 8.2 & Zymo\\_D7005 & healthy & 33362 & ⋯ & 0 & 0 & 0 & 5318170 & 0 & 0 & 48980544 & 0 &  385000 & 0.000000e+00\\\\\n",
       "\t C                & 39N & 33363.D       & XDP            & Male   & 120 & 7.3 & Zymo\\_D7005 & patient & 33363 & ⋯ & 0 & 0 & 0 & 6385324 & 0 & 0 & 37005524 & 0 &  317806 & 6.525251e-07\\\\\n",
       "\t C                & 40N & 33363.D-3C2   & DELTA-SVA-XDP  & Male   & 120 & 8.6 & Zymo\\_D7005 & healthy & 33363 & ⋯ & 0 & 0 & 0 & 4599603 & 0 & 0 & 37609705 & 0 &  560389 & 1.219512e-07\\\\\n",
       "\t Female\\_organoids & 47N & 33360.A       & Carrier-Mutant & Female &  90 & 6.4 & Zymo\\_R2062 & patient & 33360 & ⋯ & 0 & 0 & 0 & 5653328 & 0 & 0 & 45230614 & 0 &  262213 & 9.052378e-07\\\\\n",
       "\t Female\\_organoids & 50N & 33360.A       & Carrier-Mutant & Female & 120 & 7.6 & Zymo\\_R2062 & patient & 33360 & ⋯ & 0 & 0 & 0 & 5102443 & 0 & 0 & 45679982 & 0 &  682881 & 6.366914e-08\\\\\n",
       "\t Female\\_organoids & 52R & 33360.D       & Carrier-Mutant & Female & 120 & 7.1 & Zymo\\_R2062 & patient & 33360 & ⋯ & 0 & 0 & 0 & 5613952 & 0 & 0 & 43004360 & 0 &  410313 & 1.093478e-06\\\\\n",
       "\\end{tabular}\n"
      ],
      "text/markdown": [
       "\n",
       "A data.table: 41 × 71\n",
       "\n",
       "| Differentiation_cohort &lt;chr&gt; | Sample &lt;chr&gt; | iPSC_line &lt;chr&gt; | Cell_line &lt;chr&gt; | Sex &lt;chr&gt; | Day_of_Maturation &lt;int&gt; | RIN &lt;dbl&gt; | Kit &lt;chr&gt; | Disease_Status &lt;chr&gt; | individual &lt;int&gt; | ⋯ ⋯ | gene_Unassigned_Chimera &lt;int&gt; | gene_Unassigned_FragmentLength &lt;int&gt; | gene_Unassigned_Duplicate &lt;int&gt; | gene_Unassigned_MultiMapping &lt;int&gt; | gene_Unassigned_Secondary &lt;int&gt; | gene_Unassigned_NonSplit &lt;int&gt; | gene_Unassigned_NoFeatures &lt;int&gt; | gene_Unassigned_Overlapping_Length &lt;int&gt; | gene_Unassigned_Ambiguity &lt;int&gt; | rRNA_rate &lt;dbl&gt; |\n",
       "|---|---|---|---|---|---|---|---|---|---|---|---|---|---|---|---|---|---|---|---|---|\n",
       "| A                | 1N  | 33113.2I      | Control        | Male   |  30 | 8.7 | Zymo_R2062 | healthy | 33113 | ⋯ | 0 | 0 | 0 | 6431282 | 0 | 0 | 40040800 | 0 | 1257047 | 1.306394e-07 |\n",
       "| A                | 2N  | 33109.2G      | XDP            | Male   |  30 | 8.0 | Zymo_R2062 | patient | 33109 | ⋯ | 0 | 0 | 0 | 4653184 | 0 | 0 | 37936262 | 0 |  783310 | 6.291638e-08 |\n",
       "| A                | 3N  | 33109.2G-1A4  | DELTA-SVA-XDP  | Male   |  30 | 9.0 | Zymo_R2062 | healthy | 33109 | ⋯ | 0 | 0 | 0 | 5197457 | 0 | 0 | 32255101 | 0 | 1145724 | 1.289586e-07 |\n",
       "| A                | 4N  | 33109.2G-2F2  | DELTA-SVA-XDP  | Male   |  30 | 8.8 | Zymo_R2062 | healthy | 33109 | ⋯ | 0 | 0 | 0 | 4973123 | 0 | 0 | 31853240 | 0 | 1027916 | 1.403031e-07 |\n",
       "| A                | 5N  | 33113.2I      | Control        | Male   |  60 | 7.6 | Zymo_R2062 | healthy | 33113 | ⋯ | 0 | 0 | 0 | 4492165 | 0 | 0 | 31129902 | 0 |  744002 | 5.249719e-07 |\n",
       "| A                | 6N  | 33109.2G      | XDP            | Male   |  60 | 7.6 | Zymo_R2062 | patient | 33109 | ⋯ | 0 | 0 | 0 | 5110867 | 0 | 0 | 37824209 | 0 |  657802 | 6.064717e-07 |\n",
       "| A                | 7N  | 33109.2G-1A4  | DELTA-SVA-XDP  | Male   |  60 | 6.9 | Zymo_R2062 | healthy | 33109 | ⋯ | 0 | 0 | 0 | 6171690 | 0 | 0 | 38427668 | 0 |  392520 | 2.334205e-06 |\n",
       "| A                | 8N  | 33109.2G-2F2  | DELTA-SVA-XDP  | Male   |  60 | 6.5 | Zymo_R2062 | healthy | 33109 | ⋯ | 0 | 0 | 0 | 6573237 | 0 | 0 | 36940601 | 0 |  363614 | 1.347906e-06 |\n",
       "| A                | 9   | 33113.2I      | Control        | Male   |  90 | 6.2 | Zymo_R2062 | healthy | 33113 | ⋯ | 0 | 0 | 0 | 5557508 | 0 | 0 | 32812867 | 0 |  520066 | 1.703843e-06 |\n",
       "| A                | 53R | 33109.2G      | XDP            | Male   |  90 | 7.1 | Zymo_D7005 | patient | 33109 | ⋯ | 0 | 0 | 0 | 4365845 | 0 | 0 | 38732792 | 0 |  211804 | 1.690539e-07 |\n",
       "| A                | 12N | 33109.2G-2F2  | DELTA-SVA-XDP  | Male   |  90 | 6.2 | Zymo_R2062 | healthy | 33109 | ⋯ | 0 | 0 | 0 | 6544251 | 0 | 0 | 37043127 | 0 |  268175 | 1.084613e-06 |\n",
       "| A                | 13N | 33113.2I      | Control        | Male   | 120 | 8.5 | Zymo_R2062 | healthy | 33113 | ⋯ | 0 | 0 | 0 | 5443989 | 0 | 0 | 27357651 | 0 |  910624 | 2.636694e-07 |\n",
       "| A                | 14N | 33109.2G      | XDP            | Male   | 120 | 7.1 | Zymo_R2062 | patient | 33109 | ⋯ | 0 | 0 | 0 | 7410361 | 0 | 0 | 33865421 | 0 |  412811 | 1.486542e-06 |\n",
       "| A                | 15N | 33109.2G-1A4  | DELTA-SVA-XDP  | Male   | 120 | 8.2 | Zymo_R2062 | healthy | 33109 | ⋯ | 0 | 0 | 0 | 4944525 | 0 | 0 | 29827822 | 0 |  758971 | 6.541773e-07 |\n",
       "| A                | 16N | 33109.2G-2F2  | DELTA-SVA-XDP  | Male   | 120 | 8.8 | Zymo_R2062 | healthy | 33109 | ⋯ | 0 | 0 | 0 | 4842399 | 0 | 0 | 23954379 | 0 |  973692 | 3.929319e-07 |\n",
       "| B                | 17N | 33114.C       | Control        | Male   |  30 | 7.0 | Zymo_R2062 | healthy | 33114 | ⋯ | 0 | 0 | 0 | 5175466 | 0 | 0 | 36141998 | 0 |  486372 | 9.295202e-07 |\n",
       "| B                | 18N | 33109.2B      | XDP            | Male   |  30 | 6.6 | Zymo_R2062 | patient | 33109 | ⋯ | 0 | 0 | 0 | 5951215 | 0 | 0 | 35030326 | 0 |  521507 | 1.449071e-06 |\n",
       "| B                | 19N | 33109.2B-3A12 | DELTA-SVA-XDP  | Male   |  30 | 7.6 | Zymo_R2062 | healthy | 33109 | ⋯ | 0 | 0 | 0 | 5148298 | 0 | 0 | 30809065 | 0 |  730178 | 2.476131e-07 |\n",
       "| B                | 20  | 33114.C       | Control        | Male   |  60 | 7.4 | Zymo_R2062 | healthy | 33114 | ⋯ | 0 | 0 | 0 | 5550694 | 0 | 0 | 33411959 | 0 |  872566 | 4.315121e-07 |\n",
       "| B                | 21N | 33109.2B      | XDP            | Male   |  60 | 6.8 | Zymo_R2062 | patient | 33109 | ⋯ | 0 | 0 | 0 | 5561588 | 0 | 0 | 30526855 | 0 |  525086 | 1.095939e-06 |\n",
       "| B                | 22N | 33109.2B-3A12 | DELTA-SVA-XDP  | Male   |  60 | 6.9 | Zymo_R2062 | healthy | 33109 | ⋯ | 0 | 0 | 0 | 6011443 | 0 | 0 | 32371685 | 0 |  654099 | 1.091704e-06 |\n",
       "| B                | 23N | 33114.C       | Control        | Male   |  90 | 6.3 | Zymo_R2062 | healthy | 33114 | ⋯ | 0 | 0 | 0 | 6869606 | 0 | 0 | 33621171 | 0 |  546721 | 4.639465e-07 |\n",
       "| B                | 24N | 33109.2B      | XDP            | Male   |  90 | 6.4 | Zymo_R2062 | patient | 33109 | ⋯ | 0 | 0 | 0 | 7918343 | 0 | 0 | 34618183 | 0 |  365793 | 1.446072e-06 |\n",
       "| B                | 25N | 33109.2B-3A12 | DELTA-SVA-XDP  | Male   |  90 | 7.2 | Zymo_R2062 | healthy | 33109 | ⋯ | 0 | 0 | 0 | 4609984 | 0 | 0 | 31992275 | 0 |  467073 | 7.399625e-08 |\n",
       "| B                | 26  | 33114.C       | Control        | Male   | 120 | 7.9 | Zymo_R2062 | healthy | 33114 | ⋯ | 0 | 0 | 0 | 5730046 | 0 | 0 | 24622789 | 0 | 1315431 | 3.214507e-07 |\n",
       "| B                | 27N | 33109.2B      | XDP            | Male   | 120 | 6.9 | Zymo_R2062 | patient | 33109 | ⋯ | 0 | 0 | 0 | 7243390 | 0 | 0 | 34813780 | 0 |  472200 | 1.223330e-06 |\n",
       "| B                | 28N | 33109.2B-3A12 | DELTA-SVA-XDP  | Male   | 120 | 7.3 | Zymo_R2062 | healthy | 33109 | ⋯ | 0 | 0 | 0 | 5535189 | 0 | 0 | 31262949 | 0 |  936278 | 3.688395e-07 |\n",
       "| C                | 29N | 33362.C       | Control        | Male   |  30 | 8.5 | Zymo_R2062 | healthy | 33362 | ⋯ | 0 | 0 | 0 | 4611328 | 0 | 0 | 34131522 | 0 |  554308 | 5.256446e-07 |\n",
       "| C                | 31N | 33363.D-3C2   | DELTA-SVA-XDP  | Male   |  30 | 7.9 | Zymo_R2062 | healthy | 33363 | ⋯ | 0 | 0 | 0 | 5747016 | 0 | 0 | 37463822 | 0 |  479407 | 9.766088e-07 |\n",
       "| C                | 32N | 33362.C       | Control        | Male   |  60 | 6.3 | Zymo_R2062 | healthy | 33362 | ⋯ | 0 | 0 | 0 | 5286695 | 0 | 0 | 38043460 | 0 |  226574 | 1.562521e-06 |\n",
       "| C                | 33N | 33363.D       | XDP            | Male   |  60 | 7.0 | Zymo_R2062 | patient | 33363 | ⋯ | 0 | 0 | 0 | 5963985 | 0 | 0 | 36974800 | 0 |  303256 | 4.749637e-07 |\n",
       "| C                | 34N | 33363.D-3C2   | DELTA-SVA-XDP  | Male   |  60 | 6.2 | Zymo_R2062 | healthy | 33363 | ⋯ | 0 | 0 | 0 | 7151934 | 0 | 0 | 38801890 | 0 |  251485 | 1.695031e-06 |\n",
       "| C                | 35N | 33362.C       | Control        | Male   |  90 | 6.6 | Zymo_R2062 | healthy | 33362 | ⋯ | 0 | 0 | 0 | 5139221 | 0 | 0 | 37146510 | 0 |  263402 | 3.853019e-07 |\n",
       "| C                | 36N | 33363.D       | XDP            | Male   |  90 | 6.5 | Zymo_R2062 | patient | 33363 | ⋯ | 0 | 0 | 0 | 5581766 | 0 | 0 | 39744329 | 0 |  264052 | 5.283162e-07 |\n",
       "| C                | 37N | 33363.D-3C2   | DELTA-SVA-XDP  | Male   |  90 | 6.4 | Zymo_R2062 | healthy | 33363 | ⋯ | 0 | 0 | 0 | 5835790 | 0 | 0 | 40300245 | 0 |  206187 | 7.611360e-07 |\n",
       "| C                | 38N | 33362.C       | Control        | Male   | 120 | 8.2 | Zymo_D7005 | healthy | 33362 | ⋯ | 0 | 0 | 0 | 5318170 | 0 | 0 | 48980544 | 0 |  385000 | 0.000000e+00 |\n",
       "| C                | 39N | 33363.D       | XDP            | Male   | 120 | 7.3 | Zymo_D7005 | patient | 33363 | ⋯ | 0 | 0 | 0 | 6385324 | 0 | 0 | 37005524 | 0 |  317806 | 6.525251e-07 |\n",
       "| C                | 40N | 33363.D-3C2   | DELTA-SVA-XDP  | Male   | 120 | 8.6 | Zymo_D7005 | healthy | 33363 | ⋯ | 0 | 0 | 0 | 4599603 | 0 | 0 | 37609705 | 0 |  560389 | 1.219512e-07 |\n",
       "| Female_organoids | 47N | 33360.A       | Carrier-Mutant | Female |  90 | 6.4 | Zymo_R2062 | patient | 33360 | ⋯ | 0 | 0 | 0 | 5653328 | 0 | 0 | 45230614 | 0 |  262213 | 9.052378e-07 |\n",
       "| Female_organoids | 50N | 33360.A       | Carrier-Mutant | Female | 120 | 7.6 | Zymo_R2062 | patient | 33360 | ⋯ | 0 | 0 | 0 | 5102443 | 0 | 0 | 45679982 | 0 |  682881 | 6.366914e-08 |\n",
       "| Female_organoids | 52R | 33360.D       | Carrier-Mutant | Female | 120 | 7.1 | Zymo_R2062 | patient | 33360 | ⋯ | 0 | 0 | 0 | 5613952 | 0 | 0 | 43004360 | 0 |  410313 | 1.093478e-06 |\n",
       "\n"
      ],
      "text/plain": [
       "   Differentiation_cohort Sample iPSC_line     Cell_line      Sex   \n",
       "1  A                      1N     33113.2I      Control        Male  \n",
       "2  A                      2N     33109.2G      XDP            Male  \n",
       "3  A                      3N     33109.2G-1A4  DELTA-SVA-XDP  Male  \n",
       "4  A                      4N     33109.2G-2F2  DELTA-SVA-XDP  Male  \n",
       "5  A                      5N     33113.2I      Control        Male  \n",
       "6  A                      6N     33109.2G      XDP            Male  \n",
       "7  A                      7N     33109.2G-1A4  DELTA-SVA-XDP  Male  \n",
       "8  A                      8N     33109.2G-2F2  DELTA-SVA-XDP  Male  \n",
       "9  A                      9      33113.2I      Control        Male  \n",
       "10 A                      53R    33109.2G      XDP            Male  \n",
       "11 A                      12N    33109.2G-2F2  DELTA-SVA-XDP  Male  \n",
       "12 A                      13N    33113.2I      Control        Male  \n",
       "13 A                      14N    33109.2G      XDP            Male  \n",
       "14 A                      15N    33109.2G-1A4  DELTA-SVA-XDP  Male  \n",
       "15 A                      16N    33109.2G-2F2  DELTA-SVA-XDP  Male  \n",
       "16 B                      17N    33114.C       Control        Male  \n",
       "17 B                      18N    33109.2B      XDP            Male  \n",
       "18 B                      19N    33109.2B-3A12 DELTA-SVA-XDP  Male  \n",
       "19 B                      20     33114.C       Control        Male  \n",
       "20 B                      21N    33109.2B      XDP            Male  \n",
       "21 B                      22N    33109.2B-3A12 DELTA-SVA-XDP  Male  \n",
       "22 B                      23N    33114.C       Control        Male  \n",
       "23 B                      24N    33109.2B      XDP            Male  \n",
       "24 B                      25N    33109.2B-3A12 DELTA-SVA-XDP  Male  \n",
       "25 B                      26     33114.C       Control        Male  \n",
       "26 B                      27N    33109.2B      XDP            Male  \n",
       "27 B                      28N    33109.2B-3A12 DELTA-SVA-XDP  Male  \n",
       "28 C                      29N    33362.C       Control        Male  \n",
       "29 C                      31N    33363.D-3C2   DELTA-SVA-XDP  Male  \n",
       "30 C                      32N    33362.C       Control        Male  \n",
       "31 C                      33N    33363.D       XDP            Male  \n",
       "32 C                      34N    33363.D-3C2   DELTA-SVA-XDP  Male  \n",
       "33 C                      35N    33362.C       Control        Male  \n",
       "34 C                      36N    33363.D       XDP            Male  \n",
       "35 C                      37N    33363.D-3C2   DELTA-SVA-XDP  Male  \n",
       "36 C                      38N    33362.C       Control        Male  \n",
       "37 C                      39N    33363.D       XDP            Male  \n",
       "38 C                      40N    33363.D-3C2   DELTA-SVA-XDP  Male  \n",
       "39 Female_organoids       47N    33360.A       Carrier-Mutant Female\n",
       "40 Female_organoids       50N    33360.A       Carrier-Mutant Female\n",
       "41 Female_organoids       52R    33360.D       Carrier-Mutant Female\n",
       "   Day_of_Maturation RIN Kit        Disease_Status individual <U+22EF>  \n",
       "1   30               8.7 Zymo_R2062 healthy        33113      <U+22EF>\n",
       "2   30               8.0 Zymo_R2062 patient        33109      <U+22EF>\n",
       "3   30               9.0 Zymo_R2062 healthy        33109      <U+22EF>\n",
       "4   30               8.8 Zymo_R2062 healthy        33109      <U+22EF>\n",
       "5   60               7.6 Zymo_R2062 healthy        33113      <U+22EF>\n",
       "6   60               7.6 Zymo_R2062 patient        33109      <U+22EF>\n",
       "7   60               6.9 Zymo_R2062 healthy        33109      <U+22EF>\n",
       "8   60               6.5 Zymo_R2062 healthy        33109      <U+22EF>\n",
       "9   90               6.2 Zymo_R2062 healthy        33113      <U+22EF>\n",
       "10  90               7.1 Zymo_D7005 patient        33109      <U+22EF>\n",
       "11  90               6.2 Zymo_R2062 healthy        33109      <U+22EF>\n",
       "12 120               8.5 Zymo_R2062 healthy        33113      <U+22EF>\n",
       "13 120               7.1 Zymo_R2062 patient        33109      <U+22EF>\n",
       "14 120               8.2 Zymo_R2062 healthy        33109      <U+22EF>\n",
       "15 120               8.8 Zymo_R2062 healthy        33109      <U+22EF>\n",
       "16  30               7.0 Zymo_R2062 healthy        33114      <U+22EF>\n",
       "17  30               6.6 Zymo_R2062 patient        33109      <U+22EF>\n",
       "18  30               7.6 Zymo_R2062 healthy        33109      <U+22EF>\n",
       "19  60               7.4 Zymo_R2062 healthy        33114      <U+22EF>\n",
       "20  60               6.8 Zymo_R2062 patient        33109      <U+22EF>\n",
       "21  60               6.9 Zymo_R2062 healthy        33109      <U+22EF>\n",
       "22  90               6.3 Zymo_R2062 healthy        33114      <U+22EF>\n",
       "23  90               6.4 Zymo_R2062 patient        33109      <U+22EF>\n",
       "24  90               7.2 Zymo_R2062 healthy        33109      <U+22EF>\n",
       "25 120               7.9 Zymo_R2062 healthy        33114      <U+22EF>\n",
       "26 120               6.9 Zymo_R2062 patient        33109      <U+22EF>\n",
       "27 120               7.3 Zymo_R2062 healthy        33109      <U+22EF>\n",
       "28  30               8.5 Zymo_R2062 healthy        33362      <U+22EF>\n",
       "29  30               7.9 Zymo_R2062 healthy        33363      <U+22EF>\n",
       "30  60               6.3 Zymo_R2062 healthy        33362      <U+22EF>\n",
       "31  60               7.0 Zymo_R2062 patient        33363      <U+22EF>\n",
       "32  60               6.2 Zymo_R2062 healthy        33363      <U+22EF>\n",
       "33  90               6.6 Zymo_R2062 healthy        33362      <U+22EF>\n",
       "34  90               6.5 Zymo_R2062 patient        33363      <U+22EF>\n",
       "35  90               6.4 Zymo_R2062 healthy        33363      <U+22EF>\n",
       "36 120               8.2 Zymo_D7005 healthy        33362      <U+22EF>\n",
       "37 120               7.3 Zymo_D7005 patient        33363      <U+22EF>\n",
       "38 120               8.6 Zymo_D7005 healthy        33363      <U+22EF>\n",
       "39  90               6.4 Zymo_R2062 patient        33360      <U+22EF>\n",
       "40 120               7.6 Zymo_R2062 patient        33360      <U+22EF>\n",
       "41 120               7.1 Zymo_R2062 patient        33360      <U+22EF>\n",
       "   gene_Unassigned_Chimera gene_Unassigned_FragmentLength\n",
       "1  0                       0                             \n",
       "2  0                       0                             \n",
       "3  0                       0                             \n",
       "4  0                       0                             \n",
       "5  0                       0                             \n",
       "6  0                       0                             \n",
       "7  0                       0                             \n",
       "8  0                       0                             \n",
       "9  0                       0                             \n",
       "10 0                       0                             \n",
       "11 0                       0                             \n",
       "12 0                       0                             \n",
       "13 0                       0                             \n",
       "14 0                       0                             \n",
       "15 0                       0                             \n",
       "16 0                       0                             \n",
       "17 0                       0                             \n",
       "18 0                       0                             \n",
       "19 0                       0                             \n",
       "20 0                       0                             \n",
       "21 0                       0                             \n",
       "22 0                       0                             \n",
       "23 0                       0                             \n",
       "24 0                       0                             \n",
       "25 0                       0                             \n",
       "26 0                       0                             \n",
       "27 0                       0                             \n",
       "28 0                       0                             \n",
       "29 0                       0                             \n",
       "30 0                       0                             \n",
       "31 0                       0                             \n",
       "32 0                       0                             \n",
       "33 0                       0                             \n",
       "34 0                       0                             \n",
       "35 0                       0                             \n",
       "36 0                       0                             \n",
       "37 0                       0                             \n",
       "38 0                       0                             \n",
       "39 0                       0                             \n",
       "40 0                       0                             \n",
       "41 0                       0                             \n",
       "   gene_Unassigned_Duplicate gene_Unassigned_MultiMapping\n",
       "1  0                         6431282                     \n",
       "2  0                         4653184                     \n",
       "3  0                         5197457                     \n",
       "4  0                         4973123                     \n",
       "5  0                         4492165                     \n",
       "6  0                         5110867                     \n",
       "7  0                         6171690                     \n",
       "8  0                         6573237                     \n",
       "9  0                         5557508                     \n",
       "10 0                         4365845                     \n",
       "11 0                         6544251                     \n",
       "12 0                         5443989                     \n",
       "13 0                         7410361                     \n",
       "14 0                         4944525                     \n",
       "15 0                         4842399                     \n",
       "16 0                         5175466                     \n",
       "17 0                         5951215                     \n",
       "18 0                         5148298                     \n",
       "19 0                         5550694                     \n",
       "20 0                         5561588                     \n",
       "21 0                         6011443                     \n",
       "22 0                         6869606                     \n",
       "23 0                         7918343                     \n",
       "24 0                         4609984                     \n",
       "25 0                         5730046                     \n",
       "26 0                         7243390                     \n",
       "27 0                         5535189                     \n",
       "28 0                         4611328                     \n",
       "29 0                         5747016                     \n",
       "30 0                         5286695                     \n",
       "31 0                         5963985                     \n",
       "32 0                         7151934                     \n",
       "33 0                         5139221                     \n",
       "34 0                         5581766                     \n",
       "35 0                         5835790                     \n",
       "36 0                         5318170                     \n",
       "37 0                         6385324                     \n",
       "38 0                         4599603                     \n",
       "39 0                         5653328                     \n",
       "40 0                         5102443                     \n",
       "41 0                         5613952                     \n",
       "   gene_Unassigned_Secondary gene_Unassigned_NonSplit\n",
       "1  0                         0                       \n",
       "2  0                         0                       \n",
       "3  0                         0                       \n",
       "4  0                         0                       \n",
       "5  0                         0                       \n",
       "6  0                         0                       \n",
       "7  0                         0                       \n",
       "8  0                         0                       \n",
       "9  0                         0                       \n",
       "10 0                         0                       \n",
       "11 0                         0                       \n",
       "12 0                         0                       \n",
       "13 0                         0                       \n",
       "14 0                         0                       \n",
       "15 0                         0                       \n",
       "16 0                         0                       \n",
       "17 0                         0                       \n",
       "18 0                         0                       \n",
       "19 0                         0                       \n",
       "20 0                         0                       \n",
       "21 0                         0                       \n",
       "22 0                         0                       \n",
       "23 0                         0                       \n",
       "24 0                         0                       \n",
       "25 0                         0                       \n",
       "26 0                         0                       \n",
       "27 0                         0                       \n",
       "28 0                         0                       \n",
       "29 0                         0                       \n",
       "30 0                         0                       \n",
       "31 0                         0                       \n",
       "32 0                         0                       \n",
       "33 0                         0                       \n",
       "34 0                         0                       \n",
       "35 0                         0                       \n",
       "36 0                         0                       \n",
       "37 0                         0                       \n",
       "38 0                         0                       \n",
       "39 0                         0                       \n",
       "40 0                         0                       \n",
       "41 0                         0                       \n",
       "   gene_Unassigned_NoFeatures gene_Unassigned_Overlapping_Length\n",
       "1  40040800                   0                                 \n",
       "2  37936262                   0                                 \n",
       "3  32255101                   0                                 \n",
       "4  31853240                   0                                 \n",
       "5  31129902                   0                                 \n",
       "6  37824209                   0                                 \n",
       "7  38427668                   0                                 \n",
       "8  36940601                   0                                 \n",
       "9  32812867                   0                                 \n",
       "10 38732792                   0                                 \n",
       "11 37043127                   0                                 \n",
       "12 27357651                   0                                 \n",
       "13 33865421                   0                                 \n",
       "14 29827822                   0                                 \n",
       "15 23954379                   0                                 \n",
       "16 36141998                   0                                 \n",
       "17 35030326                   0                                 \n",
       "18 30809065                   0                                 \n",
       "19 33411959                   0                                 \n",
       "20 30526855                   0                                 \n",
       "21 32371685                   0                                 \n",
       "22 33621171                   0                                 \n",
       "23 34618183                   0                                 \n",
       "24 31992275                   0                                 \n",
       "25 24622789                   0                                 \n",
       "26 34813780                   0                                 \n",
       "27 31262949                   0                                 \n",
       "28 34131522                   0                                 \n",
       "29 37463822                   0                                 \n",
       "30 38043460                   0                                 \n",
       "31 36974800                   0                                 \n",
       "32 38801890                   0                                 \n",
       "33 37146510                   0                                 \n",
       "34 39744329                   0                                 \n",
       "35 40300245                   0                                 \n",
       "36 48980544                   0                                 \n",
       "37 37005524                   0                                 \n",
       "38 37609705                   0                                 \n",
       "39 45230614                   0                                 \n",
       "40 45679982                   0                                 \n",
       "41 43004360                   0                                 \n",
       "   gene_Unassigned_Ambiguity rRNA_rate   \n",
       "1  1257047                   1.306394e-07\n",
       "2   783310                   6.291638e-08\n",
       "3  1145724                   1.289586e-07\n",
       "4  1027916                   1.403031e-07\n",
       "5   744002                   5.249719e-07\n",
       "6   657802                   6.064717e-07\n",
       "7   392520                   2.334205e-06\n",
       "8   363614                   1.347906e-06\n",
       "9   520066                   1.703843e-06\n",
       "10  211804                   1.690539e-07\n",
       "11  268175                   1.084613e-06\n",
       "12  910624                   2.636694e-07\n",
       "13  412811                   1.486542e-06\n",
       "14  758971                   6.541773e-07\n",
       "15  973692                   3.929319e-07\n",
       "16  486372                   9.295202e-07\n",
       "17  521507                   1.449071e-06\n",
       "18  730178                   2.476131e-07\n",
       "19  872566                   4.315121e-07\n",
       "20  525086                   1.095939e-06\n",
       "21  654099                   1.091704e-06\n",
       "22  546721                   4.639465e-07\n",
       "23  365793                   1.446072e-06\n",
       "24  467073                   7.399625e-08\n",
       "25 1315431                   3.214507e-07\n",
       "26  472200                   1.223330e-06\n",
       "27  936278                   3.688395e-07\n",
       "28  554308                   5.256446e-07\n",
       "29  479407                   9.766088e-07\n",
       "30  226574                   1.562521e-06\n",
       "31  303256                   4.749637e-07\n",
       "32  251485                   1.695031e-06\n",
       "33  263402                   3.853019e-07\n",
       "34  264052                   5.283162e-07\n",
       "35  206187                   7.611360e-07\n",
       "36  385000                   0.000000e+00\n",
       "37  317806                   6.525251e-07\n",
       "38  560389                   1.219512e-07\n",
       "39  262213                   9.052378e-07\n",
       "40  682881                   6.366914e-08\n",
       "41  410313                   1.093478e-06"
      ]
     },
     "metadata": {},
     "output_type": "display_data"
    }
   ],
   "source": [
    "new_metadata\n",
    "\n",
    "fwrite(new_metadata[,1:10], 'xdp_bulkrnaseq_metadata.tsv',quote=F,sep='\\t',row.names=F)"
   ]
  },
  {
   "cell_type": "markdown",
   "id": "8a0a4c2f-6bac-4a74-aeeb-20f2c5952a3d",
   "metadata": {},
   "source": [
    "# get number of samples by each DE analysis:"
   ]
  },
  {
   "cell_type": "code",
   "execution_count": 9,
   "id": "7077d149-db93-433f-9282-d02e99e59820",
   "metadata": {
    "execution": {
     "iopub.execute_input": "2023-05-05T15:18:18.355501Z",
     "iopub.status.busy": "2023-05-05T15:18:18.353842Z",
     "iopub.status.idle": "2023-05-05T15:18:18.440636Z",
     "shell.execute_reply": "2023-05-05T15:18:18.438505Z"
    }
   },
   "outputs": [],
   "source": [
    "de_models <- fread('../../de_models/_m/de_comparisons.tsv')"
   ]
  },
  {
   "cell_type": "code",
   "execution_count": 10,
   "id": "b0cc5641-82c9-4bba-bd06-34cb1302798e",
   "metadata": {
    "execution": {
     "iopub.execute_input": "2023-05-05T15:18:18.452459Z",
     "iopub.status.busy": "2023-05-05T15:18:18.448652Z",
     "iopub.status.idle": "2023-05-05T15:18:18.474779Z",
     "shell.execute_reply": "2023-05-05T15:18:18.471458Z"
    }
   },
   "outputs": [],
   "source": [
    "#volcano plot main result = Mature_organoids_all_comparison_design1_deseq2 \n",
    "\n",
    "\n",
    "# d90-d120 plots: Mature_organoids_male_comparison_design1_deseq2 \n",
    "\n",
    "# d30-d60-d90-d120 plots: ^Day*_All_Male_Pairwise_controlxdp_deseq2"
   ]
  },
  {
   "cell_type": "markdown",
   "id": "b63db37d-4a39-42ea-bf54-197db63985e0",
   "metadata": {},
   "source": [
    "# volcano plot main result\n",
    "\n",
    "#### /ceph/projects/xdp_striatal_organoids_RNA-seq/analysis_speaqeasy/deseq2_multiplemodels_genes_no_lfcShrink/_m/Mature_organoids_all_comparison_design1_deseq2/gene_enhancedvolcano_fdr005.pdf"
   ]
  },
  {
   "cell_type": "code",
   "execution_count": 11,
   "id": "f6f89fdb-7786-40fd-b4a7-36149f1f64a6",
   "metadata": {
    "execution": {
     "iopub.execute_input": "2023-05-05T15:18:18.488004Z",
     "iopub.status.busy": "2023-05-05T15:18:18.484311Z",
     "iopub.status.idle": "2023-05-05T15:18:18.513287Z",
     "shell.execute_reply": "2023-05-05T15:18:18.510825Z"
    }
   },
   "outputs": [],
   "source": [
    "select_model = 'Mature_organoids_all_comparison_design1_deseq2'\n"
   ]
  },
  {
   "cell_type": "code",
   "execution_count": 12,
   "id": "6d04f8a3-52cd-409f-93d8-030e138d5268",
   "metadata": {
    "execution": {
     "iopub.execute_input": "2023-05-05T15:18:18.521959Z",
     "iopub.status.busy": "2023-05-05T15:18:18.520306Z",
     "iopub.status.idle": "2023-05-05T15:18:18.565000Z",
     "shell.execute_reply": "2023-05-05T15:18:18.563306Z"
    }
   },
   "outputs": [
    {
     "data": {
      "text/plain": [
       ".\n",
       "healthy patient \n",
       "     13       9 "
      ]
     },
     "metadata": {},
     "output_type": "display_data"
    }
   ],
   "source": [
    "\n",
    "de_models %>%\n",
    "            filter(deseq2 == select_model) %>%\n",
    "            filter(Sample %in% new_metadata$Sample) %>%\n",
    "            select(Disease_Status) %>%\n",
    "            table"
   ]
  },
  {
   "cell_type": "code",
   "execution_count": 13,
   "id": "d4bfbf29-7296-4dde-a439-63b871fc3c02",
   "metadata": {
    "execution": {
     "iopub.execute_input": "2023-05-05T15:18:18.573288Z",
     "iopub.status.busy": "2023-05-05T15:18:18.571713Z",
     "iopub.status.idle": "2023-05-05T15:18:18.608325Z",
     "shell.execute_reply": "2023-05-05T15:18:18.606503Z"
    }
   },
   "outputs": [
    {
     "data": {
      "text/plain": [
       "        Cell_line\n",
       "Sex      Carrier-Mutant Control DELTA-SVA-XDP XDP\n",
       "  Female              3       0             0   0\n",
       "  Male                0       6             7   6"
      ]
     },
     "metadata": {},
     "output_type": "display_data"
    }
   ],
   "source": [
    "de_models %>%\n",
    "            filter(deseq2 == select_model) %>%\n",
    "            filter(Sample %in% new_metadata$Sample) %>%\n",
    "            select(Sex,Cell_line) %>%\n",
    "            table \n"
   ]
  },
  {
   "cell_type": "code",
   "execution_count": 14,
   "id": "bfefdb4e-80da-4421-835a-5af56668496e",
   "metadata": {
    "execution": {
     "iopub.execute_input": "2023-05-05T15:18:18.616435Z",
     "iopub.status.busy": "2023-05-05T15:18:18.614854Z",
     "iopub.status.idle": "2023-05-05T15:18:18.652395Z",
     "shell.execute_reply": "2023-05-05T15:18:18.650549Z"
    }
   },
   "outputs": [
    {
     "data": {
      "text/plain": [
       "                Day_of_Maturation\n",
       "Cell_line        90 120\n",
       "  Carrier-Mutant  1   2\n",
       "  Control         3   3\n",
       "  DELTA-SVA-XDP   3   4\n",
       "  XDP             3   3"
      ]
     },
     "metadata": {},
     "output_type": "display_data"
    }
   ],
   "source": [
    "de_models %>%\n",
    "            filter(deseq2 == select_model) %>%\n",
    "            filter(Sample %in% new_metadata$Sample) %>%\n",
    "            select(Cell_line,Day_of_Maturation) %>%\n",
    "            table\n",
    "\n",
    "\n",
    "\n"
   ]
  },
  {
   "cell_type": "code",
   "execution_count": 15,
   "id": "d84499aa-c0c6-4683-8d0e-b36b2d99f644",
   "metadata": {
    "execution": {
     "iopub.execute_input": "2023-05-05T15:18:18.660549Z",
     "iopub.status.busy": "2023-05-05T15:18:18.659025Z",
     "iopub.status.idle": "2023-05-05T15:18:18.697576Z",
     "shell.execute_reply": "2023-05-05T15:18:18.695945Z"
    }
   },
   "outputs": [
    {
     "data": {
      "text/plain": [
       "              Day_of_Maturation\n",
       "Disease_Status 90 120\n",
       "       healthy  6   7\n",
       "       patient  4   5"
      ]
     },
     "metadata": {},
     "output_type": "display_data"
    }
   ],
   "source": [
    "de_models %>%\n",
    "            filter(deseq2 == select_model) %>%\n",
    "            filter(Sample %in% new_metadata$Sample) %>%\n",
    "            select(Disease_Status,Day_of_Maturation) %>%\n",
    "            table\n"
   ]
  },
  {
   "cell_type": "code",
   "execution_count": 16,
   "id": "b5acaa16-154e-4362-b35e-9bdf08032cc6",
   "metadata": {
    "execution": {
     "iopub.execute_input": "2023-05-05T15:18:18.706199Z",
     "iopub.status.busy": "2023-05-05T15:18:18.704411Z",
     "iopub.status.idle": "2023-05-05T15:18:18.745204Z",
     "shell.execute_reply": "2023-05-05T15:18:18.743180Z"
    }
   },
   "outputs": [
    {
     "data": {
      "text/plain": [
       "              Cell_line\n",
       "Disease_Status Carrier-Mutant Control DELTA-SVA-XDP XDP\n",
       "       healthy              0       6             7   0\n",
       "       patient              3       0             0   6"
      ]
     },
     "metadata": {},
     "output_type": "display_data"
    }
   ],
   "source": [
    "de_models %>%\n",
    "            filter(deseq2 == select_model) %>%\n",
    "            filter(Sample %in% new_metadata$Sample) %>%\n",
    "            select(Disease_Status,Cell_line) %>%\n",
    "            table\n"
   ]
  },
  {
   "cell_type": "code",
   "execution_count": 17,
   "id": "c80b6c86-ce91-46ff-b313-e6bbadbce8cd",
   "metadata": {
    "execution": {
     "iopub.execute_input": "2023-05-05T15:18:18.753865Z",
     "iopub.status.busy": "2023-05-05T15:18:18.752191Z",
     "iopub.status.idle": "2023-05-05T15:18:19.485994Z",
     "shell.execute_reply": "2023-05-05T15:18:19.484246Z"
    }
   },
   "outputs": [
    {
     "data": {
      "text/html": [
       "22"
      ],
      "text/latex": [
       "22"
      ],
      "text/markdown": [
       "22"
      ],
      "text/plain": [
       "[1] 22"
      ]
     },
     "metadata": {},
     "output_type": "display_data"
    }
   ],
   "source": [
    "# total n samples\n",
    "\n",
    "de_models %>%\n",
    "            filter(deseq2 == select_model) %>%\n",
    "            filter(Sample %in% new_metadata$Sample) %>%\n",
    "            nrow"
   ]
  },
  {
   "cell_type": "markdown",
   "id": "6049a6d9-35c0-47ae-8a9e-631b2912cbfd",
   "metadata": {},
   "source": [
    "# d90-d120 plots: Mature_organoids_male_comparison_design1_deseq2 \n",
    "\n",
    "### /ceph/projects/xdp_striatal_organoids_RNA-seq/analysis_speaqeasy/expression_profiles/_m/d90_d120_male/"
   ]
  },
  {
   "cell_type": "code",
   "execution_count": 18,
   "id": "4a092ab3-f783-469f-b3e6-4f31720ffa1a",
   "metadata": {
    "execution": {
     "iopub.execute_input": "2023-05-05T15:18:19.494222Z",
     "iopub.status.busy": "2023-05-05T15:18:19.492723Z",
     "iopub.status.idle": "2023-05-05T15:18:19.507599Z",
     "shell.execute_reply": "2023-05-05T15:18:19.506021Z"
    }
   },
   "outputs": [],
   "source": [
    "select_model = 'Mature_organoids_male_comparison_design1_deseq2'\n"
   ]
  },
  {
   "cell_type": "code",
   "execution_count": 19,
   "id": "32614b66-87ea-4fdc-b1c3-e63274c87bd6",
   "metadata": {
    "execution": {
     "iopub.execute_input": "2023-05-05T15:18:19.515722Z",
     "iopub.status.busy": "2023-05-05T15:18:19.514112Z",
     "iopub.status.idle": "2023-05-05T15:18:19.548302Z",
     "shell.execute_reply": "2023-05-05T15:18:19.546593Z"
    }
   },
   "outputs": [
    {
     "data": {
      "text/plain": [
       ".\n",
       "healthy patient \n",
       "     13       6 "
      ]
     },
     "metadata": {},
     "output_type": "display_data"
    }
   ],
   "source": [
    "de_models %>%\n",
    "            filter(deseq2 == select_model) %>%\n",
    "            filter(Sample %in% new_metadata$Sample) %>%\n",
    "            select(Disease_Status) %>%\n",
    "            table"
   ]
  },
  {
   "cell_type": "code",
   "execution_count": 20,
   "id": "8c2682c5-f914-4789-820c-b70d9832eca6",
   "metadata": {
    "execution": {
     "iopub.execute_input": "2023-05-05T15:18:19.556384Z",
     "iopub.status.busy": "2023-05-05T15:18:19.554851Z",
     "iopub.status.idle": "2023-05-05T15:18:19.590067Z",
     "shell.execute_reply": "2023-05-05T15:18:19.588447Z"
    }
   },
   "outputs": [
    {
     "data": {
      "text/plain": [
       "      Cell_line\n",
       "Sex    Control DELTA-SVA-XDP XDP\n",
       "  Male       6             7   6"
      ]
     },
     "metadata": {},
     "output_type": "display_data"
    }
   ],
   "source": [
    "de_models %>%\n",
    "            filter(deseq2 == select_model) %>%\n",
    "            filter(Sample %in% new_metadata$Sample) %>%\n",
    "            select(Sex,Cell_line) %>%\n",
    "            table "
   ]
  },
  {
   "cell_type": "code",
   "execution_count": 21,
   "id": "0e1ece9a-bd3b-453f-9703-305b50d10bb5",
   "metadata": {
    "execution": {
     "iopub.execute_input": "2023-05-05T15:18:19.598218Z",
     "iopub.status.busy": "2023-05-05T15:18:19.596654Z",
     "iopub.status.idle": "2023-05-05T15:18:19.631613Z",
     "shell.execute_reply": "2023-05-05T15:18:19.629935Z"
    }
   },
   "outputs": [
    {
     "data": {
      "text/plain": [
       "               Day_of_Maturation\n",
       "Cell_line       90 120\n",
       "  Control        3   3\n",
       "  DELTA-SVA-XDP  3   4\n",
       "  XDP            3   3"
      ]
     },
     "metadata": {},
     "output_type": "display_data"
    }
   ],
   "source": [
    "de_models %>%\n",
    "            filter(deseq2 == select_model) %>%\n",
    "            filter(Sample %in% new_metadata$Sample) %>%\n",
    "            select(Cell_line,Day_of_Maturation) %>%\n",
    "            table"
   ]
  },
  {
   "cell_type": "code",
   "execution_count": 22,
   "id": "ed293686-ab0d-4d91-b391-1fda28b82583",
   "metadata": {
    "execution": {
     "iopub.execute_input": "2023-05-05T15:18:19.639572Z",
     "iopub.status.busy": "2023-05-05T15:18:19.638032Z",
     "iopub.status.idle": "2023-05-05T15:18:19.673451Z",
     "shell.execute_reply": "2023-05-05T15:18:19.671813Z"
    }
   },
   "outputs": [
    {
     "data": {
      "text/plain": [
       "              Day_of_Maturation\n",
       "Disease_Status 90 120\n",
       "       healthy  6   7\n",
       "       patient  3   3"
      ]
     },
     "metadata": {},
     "output_type": "display_data"
    }
   ],
   "source": [
    "de_models %>%\n",
    "            filter(deseq2 == select_model) %>%\n",
    "            filter(Sample %in% new_metadata$Sample) %>%\n",
    "            select(Disease_Status,Day_of_Maturation) %>%\n",
    "            table"
   ]
  },
  {
   "cell_type": "code",
   "execution_count": 23,
   "id": "4148a67a-9ae0-4c1d-821c-44a4e443e460",
   "metadata": {
    "execution": {
     "iopub.execute_input": "2023-05-05T15:18:19.681698Z",
     "iopub.status.busy": "2023-05-05T15:18:19.680114Z",
     "iopub.status.idle": "2023-05-05T15:18:19.715588Z",
     "shell.execute_reply": "2023-05-05T15:18:19.713758Z"
    }
   },
   "outputs": [
    {
     "data": {
      "text/plain": [
       "              Cell_line\n",
       "Disease_Status Control DELTA-SVA-XDP XDP\n",
       "       healthy       6             7   0\n",
       "       patient       0             0   6"
      ]
     },
     "metadata": {},
     "output_type": "display_data"
    }
   ],
   "source": [
    "de_models %>%\n",
    "            filter(deseq2 == select_model) %>%\n",
    "            filter(Sample %in% new_metadata$Sample) %>%\n",
    "            select(Disease_Status,Cell_line) %>%\n",
    "            table"
   ]
  },
  {
   "cell_type": "code",
   "execution_count": 24,
   "id": "fbc45d84-e72d-46bb-ad54-7ee5788b143d",
   "metadata": {
    "execution": {
     "iopub.execute_input": "2023-05-05T15:18:19.723683Z",
     "iopub.status.busy": "2023-05-05T15:18:19.722182Z",
     "iopub.status.idle": "2023-05-05T15:18:19.754172Z",
     "shell.execute_reply": "2023-05-05T15:18:19.752600Z"
    }
   },
   "outputs": [
    {
     "data": {
      "text/html": [
       "19"
      ],
      "text/latex": [
       "19"
      ],
      "text/markdown": [
       "19"
      ],
      "text/plain": [
       "[1] 19"
      ]
     },
     "metadata": {},
     "output_type": "display_data"
    }
   ],
   "source": [
    "# total n samples\n",
    "\n",
    "de_models %>%\n",
    "            filter(deseq2 == select_model) %>%\n",
    "            filter(Sample %in% new_metadata$Sample) %>%\n",
    "            nrow"
   ]
  },
  {
   "cell_type": "code",
   "execution_count": null,
   "id": "e7d2c616-1a31-44ed-b4d0-20cee21029a2",
   "metadata": {},
   "outputs": [],
   "source": []
  },
  {
   "cell_type": "markdown",
   "id": "84c59149-e8a7-4cdf-8e15-d4ecc270eef5",
   "metadata": {},
   "source": [
    "#  d30-d60-d90-d120 plots: ^Day*_All_Male_Pairwise_controlxdp_deseq2\n",
    "\n",
    "#### /ceph.projects/xdp_striatal_organoids_RNA-seq/analysis_speaqeasy/expression_profiles/_m/alldays_male_controldeltaxdp"
   ]
  },
  {
   "cell_type": "code",
   "execution_count": 25,
   "id": "e4cdef3e-7bee-480b-be6c-e1aef8e48a5e",
   "metadata": {
    "execution": {
     "iopub.execute_input": "2023-05-05T15:18:19.762852Z",
     "iopub.status.busy": "2023-05-05T15:18:19.761325Z",
     "iopub.status.idle": "2023-05-05T15:18:19.775868Z",
     "shell.execute_reply": "2023-05-05T15:18:19.774102Z"
    }
   },
   "outputs": [],
   "source": [
    "select_model = '^Day*.'\n"
   ]
  },
  {
   "cell_type": "code",
   "execution_count": 26,
   "id": "1a991df2-a49b-4512-b181-11ab81ec2bdb",
   "metadata": {
    "execution": {
     "iopub.execute_input": "2023-05-05T15:18:19.784046Z",
     "iopub.status.busy": "2023-05-05T15:18:19.782548Z",
     "iopub.status.idle": "2023-05-05T15:18:19.829062Z",
     "shell.execute_reply": "2023-05-05T15:18:19.827270Z"
    }
   },
   "outputs": [
    {
     "data": {
      "text/plain": [
       ".\n",
       "      Control DELTA-SVA-XDP           XDP \n",
       "           12            15            11 "
      ]
     },
     "metadata": {},
     "output_type": "display_data"
    }
   ],
   "source": [
    "de_models %>%\n",
    "            filter(grepl('^Day*.', deseq2)) %>%\n",
    "            distinct(Sample,.keep_all = T) %>%\n",
    "            filter(Sample %in% new_metadata$Sample) %>%\n",
    "            select(Cell_line) %>%\n",
    "            table"
   ]
  },
  {
   "cell_type": "code",
   "execution_count": 27,
   "id": "afd06941-4083-4475-af1d-d47e4c875e26",
   "metadata": {
    "execution": {
     "iopub.execute_input": "2023-05-05T15:18:19.837703Z",
     "iopub.status.busy": "2023-05-05T15:18:19.835937Z",
     "iopub.status.idle": "2023-05-05T15:18:19.873276Z",
     "shell.execute_reply": "2023-05-05T15:18:19.871492Z"
    }
   },
   "outputs": [
    {
     "data": {
      "text/plain": [
       "               Day_of_Maturation\n",
       "Cell_line       30 60 90 120\n",
       "  Control        3  3  3   3\n",
       "  DELTA-SVA-XDP  4  4  3   4\n",
       "  XDP            2  3  3   3"
      ]
     },
     "metadata": {},
     "output_type": "display_data"
    }
   ],
   "source": [
    "de_models %>%\n",
    "            filter(grepl('^Day*.', deseq2)) %>%\n",
    "            distinct(Sample,.keep_all = T) %>%\n",
    "            filter(Sample %in% new_metadata$Sample) %>%\n",
    "            select(Cell_line, Day_of_Maturation) %>%\n",
    "            table"
   ]
  },
  {
   "cell_type": "code",
   "execution_count": 28,
   "id": "3526cf56-1459-4e45-a1a6-a05a35ded167",
   "metadata": {
    "execution": {
     "iopub.execute_input": "2023-05-05T15:18:19.882126Z",
     "iopub.status.busy": "2023-05-05T15:18:19.880161Z",
     "iopub.status.idle": "2023-05-05T15:18:19.913714Z",
     "shell.execute_reply": "2023-05-05T15:18:19.911950Z"
    }
   },
   "outputs": [
    {
     "data": {
      "text/html": [
       "38"
      ],
      "text/latex": [
       "38"
      ],
      "text/markdown": [
       "38"
      ],
      "text/plain": [
       "[1] 38"
      ]
     },
     "metadata": {},
     "output_type": "display_data"
    }
   ],
   "source": [
    "# total # samples\n",
    "\n",
    "de_models %>%\n",
    "            filter(grepl('^Day*.', deseq2)) %>%\n",
    "            distinct(Sample,.keep_all = T) %>%\n",
    "            filter(Sample %in% new_metadata$Sample) %>%\n",
    "            nrow"
   ]
  },
  {
   "cell_type": "code",
   "execution_count": 29,
   "id": "d7aca636-2081-48f9-85ae-8fdb3f63287f",
   "metadata": {
    "execution": {
     "iopub.execute_input": "2023-05-05T15:18:19.922480Z",
     "iopub.status.busy": "2023-05-05T15:18:19.920520Z",
     "iopub.status.idle": "2023-05-05T15:18:19.979125Z",
     "shell.execute_reply": "2023-05-05T15:18:19.977280Z"
    }
   },
   "outputs": [
    {
     "data": {
      "text/plain": [
       "R version 4.1.2 (2021-11-01)\n",
       "Platform: x86_64-pc-linux-gnu (64-bit)\n",
       "Running under: Arch Linux\n",
       "\n",
       "Matrix products: default\n",
       "BLAS:   /usr/lib/libopenblasp-r0.3.18.so\n",
       "LAPACK: /usr/lib/liblapack.so.3.10.0\n",
       "\n",
       "locale:\n",
       "[1] C\n",
       "\n",
       "attached base packages:\n",
       "[1] stats4    stats     graphics  grDevices utils     datasets  methods  \n",
       "[8] base     \n",
       "\n",
       "other attached packages:\n",
       " [1] DESeq2_1.34.0               SummarizedExperiment_1.24.0\n",
       " [3] Biobase_2.54.0              GenomicRanges_1.46.1       \n",
       " [5] GenomeInfoDb_1.30.1         IRanges_2.28.0             \n",
       " [7] S4Vectors_0.32.4            BiocGenerics_0.40.0        \n",
       " [9] MatrixGenerics_1.6.0        matrixStats_0.63.0         \n",
       "[11] data.table_1.14.6           forcats_0.5.2              \n",
       "[13] stringr_1.5.0               dplyr_1.0.10               \n",
       "[15] purrr_0.3.5                 readr_2.1.3                \n",
       "[17] tidyr_1.2.1                 tibble_3.1.8               \n",
       "[19] ggplot2_3.4.0               tidyverse_1.3.2            \n",
       "\n",
       "loaded via a namespace (and not attached):\n",
       " [1] bitops_1.0-7           fs_1.5.2               bit64_4.0.5           \n",
       " [4] lubridate_1.9.0        RColorBrewer_1.1-3     httr_1.4.4            \n",
       " [7] repr_1.1.4             tools_4.1.2            backports_1.4.1       \n",
       "[10] utf8_1.2.2             R6_2.5.1               DBI_1.1.3             \n",
       "[13] colorspace_2.0-3       withr_2.5.0            tidyselect_1.2.0      \n",
       "[16] bit_4.0.5              compiler_4.1.2         cli_3.4.1             \n",
       "[19] rvest_1.0.3            xml2_1.3.3             DelayedArray_0.20.0   \n",
       "[22] scales_1.2.1           genefilter_1.76.0      pbdZMQ_0.3-8          \n",
       "[25] digest_0.6.31          XVector_0.34.0         base64enc_0.1-3       \n",
       "[28] pkgconfig_2.0.3        htmltools_0.5.4        dbplyr_2.2.1          \n",
       "[31] fastmap_1.1.0          rlang_1.0.6            readxl_1.4.1          \n",
       "[34] RSQLite_2.2.19         generics_0.1.3         jsonlite_1.8.4        \n",
       "[37] BiocParallel_1.28.3    googlesheets4_1.0.1    RCurl_1.98-1.9        \n",
       "[40] magrittr_2.0.3         GenomeInfoDbData_1.2.7 Matrix_1.5-3          \n",
       "[43] Rcpp_1.0.9             IRkernel_1.3.1         munsell_0.5.0         \n",
       "[46] fansi_1.0.3            lifecycle_1.0.3        stringi_1.7.8         \n",
       "[49] zlibbioc_1.40.0        blob_1.2.3             grid_4.1.2            \n",
       "[52] parallel_4.1.2         crayon_1.5.2           lattice_0.20-45       \n",
       "[55] splines_4.1.2          Biostrings_2.62.0      IRdisplay_1.1         \n",
       "[58] haven_2.5.1            annotate_1.72.0        KEGGREST_1.34.0       \n",
       "[61] hms_1.1.2              locfit_1.5-9.6         pillar_1.8.1          \n",
       "[64] uuid_1.1-0             geneplotter_1.72.0     reprex_2.0.2          \n",
       "[67] XML_3.99-0.13          glue_1.6.2             evaluate_0.18         \n",
       "[70] modelr_0.1.10          png_0.1-8              vctrs_0.5.1           \n",
       "[73] tzdb_0.3.0             cellranger_1.1.0       gtable_0.3.1          \n",
       "[76] assertthat_0.2.1       cachem_1.0.6           xtable_1.8-4          \n",
       "[79] broom_1.0.1            survival_3.2-13        googledrive_2.0.0     \n",
       "[82] gargle_1.2.1           memoise_2.0.1          AnnotationDbi_1.56.2  \n",
       "[85] timechange_0.1.1       ellipsis_0.3.2        "
      ]
     },
     "metadata": {},
     "output_type": "display_data"
    }
   ],
   "source": [
    "sessionInfo()"
   ]
  }
 ],
 "metadata": {
  "kernelspec": {
   "display_name": "R",
   "language": "R",
   "name": "ir"
  },
  "language_info": {
   "codemirror_mode": "r",
   "file_extension": ".r",
   "mimetype": "text/x-r-source",
   "name": "R",
   "pygments_lexer": "r",
   "version": "4.1.2"
  }
 },
 "nbformat": 4,
 "nbformat_minor": 5
}
