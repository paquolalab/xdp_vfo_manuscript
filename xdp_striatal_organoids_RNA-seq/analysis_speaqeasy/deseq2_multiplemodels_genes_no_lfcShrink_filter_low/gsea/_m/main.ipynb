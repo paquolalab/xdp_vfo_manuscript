{
 "cells": [
  {
   "cell_type": "markdown",
   "id": "a62883f6-1908-4e55-8c32-be469b7c617a",
   "metadata": {},
   "source": [
    "# Further GSEA enrichment analysis for group comparisons"
   ]
  },
  {
   "cell_type": "markdown",
   "id": "acd418a0-1e8a-422d-93c2-0747f2687b72",
   "metadata": {},
   "source": [
    "* By: Hunter Giles\n",
    "* Modifications by: Arthur Feltrin\n",
    "* Modifications 07/2023 by Hunter Giles\n",
    "* Modifications 01/05/2025 by Alan Lorenzetti"
   ]
  },
  {
   "cell_type": "code",
   "execution_count": 1,
   "id": "7a401cba-d732-4ff0-8011-4e12ec2b3300",
   "metadata": {
    "execution": {
     "iopub.execute_input": "2025-01-06T04:56:27.488954Z",
     "iopub.status.busy": "2025-01-06T04:56:27.487597Z",
     "iopub.status.idle": "2025-01-06T04:56:27.539564Z",
     "shell.execute_reply": "2025-01-06T04:56:27.538354Z"
    }
   },
   "outputs": [],
   "source": [
    "# Exploring the use of group size parameter limits for the GO term analysis\n",
    "# (https://stephenturner.github.io/deseq-to-fgsea/) does not use size limits, but examines only hallmark GO terms\n",
    "# (https://github.com/ctlab/fgsea) uses a range from n=15 to n=500\n",
    "# We originally ran the analysis with n >= 15"
   ]
  },
  {
   "cell_type": "markdown",
   "id": "e567247d-e586-4321-81fe-c49a9922863f",
   "metadata": {
    "tags": []
   },
   "source": [
    "# Load Packages"
   ]
  },
  {
   "cell_type": "code",
   "execution_count": 2,
   "id": "892d4a76-b5fe-423e-a9c8-c7d7e9d9e3c6",
   "metadata": {
    "execution": {
     "iopub.execute_input": "2025-01-06T04:56:27.562270Z",
     "iopub.status.busy": "2025-01-06T04:56:27.541884Z",
     "iopub.status.idle": "2025-01-06T04:56:29.756800Z",
     "shell.execute_reply": "2025-01-06T04:56:29.755549Z"
    },
    "tags": []
   },
   "outputs": [
    {
     "name": "stderr",
     "output_type": "stream",
     "text": [
      "Warning message in dir.create(\"../_m\", showWarnings = TRUE, recursive = TRUE):\n",
      "“'../_m' already exists”\n"
     ]
    }
   ],
   "source": [
    "suppressMessages({\n",
    "    library(tidyverse)\n",
    "    library(readr)\n",
    "    library(fgsea)\n",
    "    library(ggpubr)\n",
    "    library(data.table)\n",
    "    library(grid)\n",
    "    })\n",
    "\n",
    "dir.create('../_m', showWarnings = TRUE, recursive = TRUE)\n",
    "setwd('../_m')\n",
    "\n",
    "save_plot <- function(p, fn, w, h){\n",
    "    for(ext in c(\".pdf\", \".png\")){\n",
    "        ggsave(filename=paste0(fn,ext), plot=p, width=w, height=h)\n",
    "    }\n",
    "}"
   ]
  },
  {
   "cell_type": "code",
   "execution_count": 3,
   "id": "1f627376-61d4-42d4-b49f-1e1de1d10406",
   "metadata": {
    "execution": {
     "iopub.execute_input": "2025-01-06T04:56:29.760253Z",
     "iopub.status.busy": "2025-01-06T04:56:29.759032Z",
     "iopub.status.idle": "2025-01-06T04:56:29.772577Z",
     "shell.execute_reply": "2025-01-06T04:56:29.771450Z"
    },
    "tags": []
   },
   "outputs": [
    {
     "data": {
      "text/html": [
       "'/dcs05/lieber/apaquola/users/alorenzetti/xdp_striatal_organoids_RNA-seq/analysis_speaqeasy/deseq2_multiplemodels_genes_no_lfcShrink_filter_low/gsea/_m'"
      ],
      "text/latex": [
       "'/dcs05/lieber/apaquola/users/alorenzetti/xdp\\_striatal\\_organoids\\_RNA-seq/analysis\\_speaqeasy/deseq2\\_multiplemodels\\_genes\\_no\\_lfcShrink\\_filter\\_low/gsea/\\_m'"
      ],
      "text/markdown": [
       "'/dcs05/lieber/apaquola/users/alorenzetti/xdp_striatal_organoids_RNA-seq/analysis_speaqeasy/deseq2_multiplemodels_genes_no_lfcShrink_filter_low/gsea/_m'"
      ],
      "text/plain": [
       "[1] \"/dcs05/lieber/apaquola/users/alorenzetti/xdp_striatal_organoids_RNA-seq/analysis_speaqeasy/deseq2_multiplemodels_genes_no_lfcShrink_filter_low/gsea/_m\""
      ]
     },
     "metadata": {},
     "output_type": "display_data"
    }
   ],
   "source": [
    "getwd()"
   ]
  },
  {
   "cell_type": "code",
   "execution_count": 4,
   "id": "6814ba2b-29a7-4d4a-8260-e69d133ee7b5",
   "metadata": {
    "execution": {
     "iopub.execute_input": "2025-01-06T04:56:29.775824Z",
     "iopub.status.busy": "2025-01-06T04:56:29.774833Z",
     "iopub.status.idle": "2025-01-06T04:56:29.783816Z",
     "shell.execute_reply": "2025-01-06T04:56:29.782627Z"
    },
    "tags": []
   },
   "outputs": [],
   "source": [
    "# Load Dataframes"
   ]
  },
  {
   "cell_type": "markdown",
   "id": "5f20968c-f0a0-43a8-b945-849c6f7da5b5",
   "metadata": {
    "tags": []
   },
   "source": [
    "We are only examining four group comparisons from the models that were run:\n",
    "XDP vs control (dataset 1) should be males only: Mature_organoids_male_nodeltaSVAcomparison_deseq2   \n",
    "XDP vs. dSVA (dataset 2) should be males only: Mature_organoids_male_DELTASVAcomparison_deseq2   \n",
    "dSVA vs. control (dataset 3): Mature_organoids_male_ControlxDELTASVAfullmodel_deseq2   \n",
    "Patient vs. control (dataset 4, current one in paper) should contain males and females:    Mature_organoids_all_comparison_design1_deseq2"
   ]
  },
  {
   "cell_type": "code",
   "execution_count": 5,
   "id": "b39ab49d-f92b-41ce-a797-3860c5ed2fdb",
   "metadata": {
    "execution": {
     "iopub.execute_input": "2025-01-06T04:56:29.787059Z",
     "iopub.status.busy": "2025-01-06T04:56:29.786085Z",
     "iopub.status.idle": "2025-01-06T04:56:29.798972Z",
     "shell.execute_reply": "2025-01-06T04:56:29.797829Z"
    },
    "tags": []
   },
   "outputs": [
    {
     "name": "stdout",
     "output_type": "stream",
     "text": [
      "                                                                              XDP_v_Control \n",
      "     \"../../_m/Mature_organoids_male__nodeltaSVA_comparison_deseq2/gene_deseq2_results.tsv\" \n",
      "                                                                                 XDP_v_dSVA \n",
      "       \"../../_m/Mature_organoids_male__DELTASVA_comparison_deseq2/gene_deseq2_results.tsv\" \n",
      "                                                                             dSVA_v_Control \n",
      "\"../../_m/Mature_organoids_male__ControlxDELTASVA_fullmodel_deseq2/gene_deseq2_results.tsv\" \n",
      "                                                                          Patient_v_Control \n",
      "          \"../../_m/Mature_organoids_all_comparison_design1_deseq2/gene_deseq2_results.tsv\" \n"
     ]
    }
   ],
   "source": [
    "# ****Edit paths in final file position****\n",
    "comparisons <- c(\"XDP_v_Control\", \"XDP_v_dSVA\", \"dSVA_v_Control\", \"Patient_v_Control\")\n",
    "path_to_files <- c(\"../../_m/Mature_organoids_male__nodeltaSVA_comparison_deseq2/gene_deseq2_results.tsv\",\n",
    "                   \"../../_m/Mature_organoids_male__DELTASVA_comparison_deseq2/gene_deseq2_results.tsv\",\n",
    "                   \"../../_m/Mature_organoids_male__ControlxDELTASVA_fullmodel_deseq2/gene_deseq2_results.tsv\",\n",
    "                   \"../../_m/Mature_organoids_all_comparison_design1_deseq2/gene_deseq2_results.tsv\")\n",
    "\n",
    "names(path_to_files) <- comparisons\n",
    "print(path_to_files)"
   ]
  },
  {
   "cell_type": "code",
   "execution_count": 6,
   "id": "1ba86747-9dea-443a-aceb-4abb0f7e6682",
   "metadata": {
    "execution": {
     "iopub.execute_input": "2025-01-06T04:56:29.802129Z",
     "iopub.status.busy": "2025-01-06T04:56:29.801172Z",
     "iopub.status.idle": "2025-01-06T04:56:29.812504Z",
     "shell.execute_reply": "2025-01-06T04:56:29.811390Z"
    },
    "tags": []
   },
   "outputs": [
    {
     "data": {
      "text/html": [
       "'/dcs05/lieber/apaquola/users/alorenzetti/xdp_striatal_organoids_RNA-seq/analysis_speaqeasy/deseq2_multiplemodels_genes_no_lfcShrink_filter_low/gsea/_m'"
      ],
      "text/latex": [
       "'/dcs05/lieber/apaquola/users/alorenzetti/xdp\\_striatal\\_organoids\\_RNA-seq/analysis\\_speaqeasy/deseq2\\_multiplemodels\\_genes\\_no\\_lfcShrink\\_filter\\_low/gsea/\\_m'"
      ],
      "text/markdown": [
       "'/dcs05/lieber/apaquola/users/alorenzetti/xdp_striatal_organoids_RNA-seq/analysis_speaqeasy/deseq2_multiplemodels_genes_no_lfcShrink_filter_low/gsea/_m'"
      ],
      "text/plain": [
       "[1] \"/dcs05/lieber/apaquola/users/alorenzetti/xdp_striatal_organoids_RNA-seq/analysis_speaqeasy/deseq2_multiplemodels_genes_no_lfcShrink_filter_low/gsea/_m\""
      ]
     },
     "metadata": {},
     "output_type": "display_data"
    }
   ],
   "source": [
    "getwd()"
   ]
  },
  {
   "cell_type": "code",
   "execution_count": 7,
   "id": "d988f9c6-ccfc-4aca-b29f-b7478d1c2e33",
   "metadata": {
    "execution": {
     "iopub.execute_input": "2025-01-06T04:56:29.815542Z",
     "iopub.status.busy": "2025-01-06T04:56:29.814598Z",
     "iopub.status.idle": "2025-01-06T04:56:30.338259Z",
     "shell.execute_reply": "2025-01-06T04:56:30.337034Z"
    },
    "tags": []
   },
   "outputs": [],
   "source": [
    "#Load Gene Set List For Analysis\n",
    "\n",
    "##### Set relative path in final file position #######\n",
    "\n",
    "go_BP_MF_pathways <- gmtPathways(\"../_h/msigdb_v2023.1.Hs_GMTs/c5.go.bp.v2023.1.Hs.symbols.gmt\")\n",
    "# length(go_BP_MF_pathways)\n",
    "# Should match 7751 gene sets\n",
    "go_BP_MF_pathways <- c(go_BP_MF_pathways, gmtPathways(\"../_h/msigdb_v2023.1.Hs_GMTs/c5.go.mf.v2023.1.Hs.symbols.gmt\"))\n",
    "# length(go_BP_MF_pathways)\n",
    "# Should match 7751 + 1772 = 9523 gene sets"
   ]
  },
  {
   "cell_type": "markdown",
   "id": "a685198b-dfc2-42d5-9915-b2e5db374f2c",
   "metadata": {
    "tags": []
   },
   "source": [
    "# Create GO Enrichment Sets\n"
   ]
  },
  {
   "cell_type": "code",
   "execution_count": 8,
   "id": "93ad20d7-086d-469d-981f-234ec5e642bd",
   "metadata": {
    "execution": {
     "iopub.execute_input": "2025-01-06T04:56:30.341338Z",
     "iopub.status.busy": "2025-01-06T04:56:30.340438Z",
     "iopub.status.idle": "2025-01-06T04:56:30.349248Z",
     "shell.execute_reply": "2025-01-06T04:56:30.348199Z"
    }
   },
   "outputs": [],
   "source": [
    "# Cycle through each DESeq2 results table, creating an enrichment set for each"
   ]
  },
  {
   "cell_type": "code",
   "execution_count": 9,
   "id": "7558c3c2-5b00-49a5-9b01-e9cecb3006e5",
   "metadata": {
    "execution": {
     "iopub.execute_input": "2025-01-06T04:56:30.352076Z",
     "iopub.status.busy": "2025-01-06T04:56:30.351248Z",
     "iopub.status.idle": "2025-01-06T04:58:25.349645Z",
     "shell.execute_reply": "2025-01-06T04:58:25.348278Z"
    },
    "tags": []
   },
   "outputs": [],
   "source": [
    "for (i in seq_along(path_to_files)){\n",
    "    suppressMessages(data <- read_tsv(path_to_files[i]))\n",
    "    \n",
    "    #For duplicated genesymbols, get always the one with the largest basemean value\n",
    "    #Arrange all results by baseMean expression\n",
    "    #Take top 10,000 most expressed genes\n",
    "    #Rank by Wald-Statistic - Patient vs healthy\n",
    "    \n",
    "#alternative1\n",
    "    tenK_data <- data %>% \n",
    "        group_by(Symbol) %>%\n",
    "        arrange(Symbol, desc(baseMean.x)) %>%\n",
    "        filter(row_number()==1) %>%\n",
    "        arrange(desc(baseMean.x)) %>%\n",
    "        slice(1:10000) %>%\n",
    "        select(Symbol, stat) %>%\n",
    "        arrange(desc(stat))\n",
    "    \n",
    "#alternative2\n",
    "    # tenK_data <- data %>% \n",
    "    #     arrange(Symbol, desc(baseMean.x)) %>%\n",
    "    #     distinct(Symbol, .keep_all = TRUE) %>%\n",
    "    #     arrange(desc(baseMean.x)\n",
    "    #     slice(1:10000) %>%\n",
    "    #     select(Symbol, stat) %>%\n",
    "    #     arrange(desc(stat))\n",
    "    \n",
    "    #Produce vector of gene ranks\n",
    "    gene_ranks <- deframe(tenK_data)\n",
    "    \n",
    "    #Run fgsea using minimum gene set size of 15 and 10000 permutations for Enrichment Score calculations\n",
    "    res_go <- fgsea(pathways = go_BP_MF_pathways, gene_ranks, minSize = 15, maxSize = 500, nPermSimple = 10000) %>% as_tibble()\n",
    "    \n",
    "    #Pull top ten and bottom fifty results by Normalized Enrichment Score, merge to a single tibble and create vector of pathways - GO results\n",
    "    top_res_go <- res_go %>%\n",
    "        arrange(desc(NES)) %>%\n",
    "        slice_head(n=10)\n",
    "    bottom_res_go <- res_go %>%\n",
    "        arrange(desc(NES)) %>%\n",
    "        slice_tail(n=10)\n",
    "    to_plot_go <- bind_rows(top_res_go, bottom_res_go)\n",
    "    #print(to_plot)\n",
    "    to_plot_pathways_go <- to_plot_go %>% pull(pathway)\n",
    "    #print(to_plot_pathways)\n",
    "\n",
    "    #Set Color Preferences\n",
    "    colrs <- setNames(c(\"darkgrey\", \"firebrick2\"),\n",
    "                 c(\"FALSE\", \"TRUE\"))\n",
    "    #print(colrs)\n",
    "    \n",
    "    #Make the DotPlot for GO pathways\n",
    "    dot_plot_go <- ggplot(to_plot_go, aes(reorder(pathway, NES), NES)) +\n",
    "        geom_point( aes(fill = padj < 0.05, size = size), shape=21) +\n",
    "        scale_fill_manual(values = colrs ) +\n",
    "        scale_size_continuous(range = c(2,10)) +\n",
    "        geom_hline(yintercept = 0) +\n",
    "        coord_flip() +\n",
    "        labs(x = \"Pathway\", y = \"Normalized Enrichment Score\",\n",
    "           title = \"Enriched GO Pathways\") + \n",
    "        theme_pubr() +\n",
    "        theme(legend.position = \"bottom\", plot.margin = unit(c(0.15,0.8,0.15,0.15), \"cm\"))\n",
    "    \n",
    "    pdf(file = paste0(comparisons[i], '_GOresults.pdf'), width = 14, height = 8)\n",
    "    \n",
    "    print(plotGseaTable(pathways=go_BP_MF_pathways[to_plot_pathways_go],\n",
    "                  stats = gene_ranks, \n",
    "                  fgseaRes = res_go, \n",
    "                  gseaParam=1, colwidths = c(4, 2, 0.5, 0.5, 0.5)\n",
    "                 ))\n",
    "    print(dot_plot_go)\n",
    "    dev.off()\n",
    "    \n",
    "    fwrite(res_go %>% arrange(desc(NES)), paste0(comparisons[i],'_GOresults.tsv'),sep='\\t',quote=F,row.names=F)\n",
    "                    \n",
    "   # png(file = paste0(tags[i], '.png'), width = 800, height = 800)\n",
    "  #  table_plot\n",
    "  #  dot_plot\n",
    "   # dot_plot_bottom_legend\n",
    "    #dev.off()    \n",
    "    \n",
    "}"
   ]
  },
  {
   "cell_type": "code",
   "execution_count": 10,
   "id": "56b7b142-b52c-4304-9acc-25d26be3fba3",
   "metadata": {
    "execution": {
     "iopub.execute_input": "2025-01-06T04:58:25.357646Z",
     "iopub.status.busy": "2025-01-06T04:58:25.356757Z",
     "iopub.status.idle": "2025-01-06T04:58:25.511577Z",
     "shell.execute_reply": "2025-01-06T04:58:25.510426Z"
    },
    "tags": []
   },
   "outputs": [
    {
     "data": {
      "text/plain": [
       "R version 4.4.2 (2024-10-31)\n",
       "Platform: x86_64-pc-linux-gnu\n",
       "Running under: Arch Linux\n",
       "\n",
       "Matrix products: default\n",
       "BLAS:   /usr/lib/libblas.so.3.12.0 \n",
       "LAPACK: /usr/lib/liblapack.so.3.12.0\n",
       "\n",
       "locale:\n",
       " [1] LC_CTYPE=en_US.UTF-8       LC_NUMERIC=C              \n",
       " [3] LC_TIME=en_US.UTF-8        LC_COLLATE=en_US.UTF-8    \n",
       " [5] LC_MONETARY=en_US.UTF-8    LC_MESSAGES=en_US.UTF-8   \n",
       " [7] LC_PAPER=en_US.UTF-8       LC_NAME=C                 \n",
       " [9] LC_ADDRESS=C               LC_TELEPHONE=C            \n",
       "[11] LC_MEASUREMENT=en_US.UTF-8 LC_IDENTIFICATION=C       \n",
       "\n",
       "time zone: EST\n",
       "tzcode source: system (glibc)\n",
       "\n",
       "attached base packages:\n",
       "[1] grid      stats     graphics  grDevices utils     datasets  methods  \n",
       "[8] base     \n",
       "\n",
       "other attached packages:\n",
       " [1] data.table_1.16.4 ggpubr_0.6.0      fgsea_1.30.0      lubridate_1.9.4  \n",
       " [5] forcats_1.0.0     stringr_1.5.1     dplyr_1.1.4       purrr_1.0.2      \n",
       " [9] readr_2.1.5       tidyr_1.3.1       tibble_3.2.1      ggplot2_3.5.1    \n",
       "[13] tidyverse_2.0.0  \n",
       "\n",
       "loaded via a namespace (and not attached):\n",
       " [1] generics_0.1.3      rstatix_0.7.2       stringi_1.8.4      \n",
       " [4] lattice_0.22-6      hms_1.1.3           digest_0.6.37      \n",
       " [7] magrittr_2.0.3      evaluate_1.0.1      timechange_0.3.0   \n",
       "[10] pbdZMQ_0.3-13       fastmap_1.2.0       jsonlite_1.8.9     \n",
       "[13] Matrix_1.7-1        backports_1.5.0     Formula_1.2-5      \n",
       "[16] scales_1.3.0        codetools_0.2-20    abind_1.4-8        \n",
       "[19] cli_3.6.3           rlang_1.1.4         crayon_1.5.3       \n",
       "[22] bit64_4.5.2         cowplot_1.1.3       munsell_0.5.1      \n",
       "[25] base64enc_0.1-3     withr_3.0.2         repr_1.1.7         \n",
       "[28] tools_4.4.2         parallel_4.4.2      tzdb_0.4.0         \n",
       "[31] uuid_1.2-1          BiocParallel_1.40.0 ggsignif_0.6.4     \n",
       "[34] colorspace_2.1-1    fastmatch_1.1-6     broom_1.0.7        \n",
       "[37] IRdisplay_1.1       vctrs_0.6.5         R6_2.5.1           \n",
       "[40] lifecycle_1.0.4     bit_4.5.0.1         car_3.1-3          \n",
       "[43] vroom_1.6.5         pkgconfig_2.0.3     pillar_1.10.0      \n",
       "[46] gtable_0.3.6        glue_1.8.0          Rcpp_1.0.13-1      \n",
       "[49] tidyselect_1.2.1    IRkernel_1.3.2      farver_2.1.2       \n",
       "[52] htmltools_0.5.8.1   labeling_0.4.3      carData_3.0-5      \n",
       "[55] compiler_4.4.2     "
      ]
     },
     "metadata": {},
     "output_type": "display_data"
    }
   ],
   "source": [
    "sessionInfo()"
   ]
  }
 ],
 "metadata": {
  "kernelspec": {
   "display_name": "R",
   "language": "R",
   "name": "ir"
  },
  "language_info": {
   "codemirror_mode": "r",
   "file_extension": ".r",
   "mimetype": "text/x-r-source",
   "name": "R",
   "pygments_lexer": "r",
   "version": "4.4.2"
  }
 },
 "nbformat": 4,
 "nbformat_minor": 5
}
