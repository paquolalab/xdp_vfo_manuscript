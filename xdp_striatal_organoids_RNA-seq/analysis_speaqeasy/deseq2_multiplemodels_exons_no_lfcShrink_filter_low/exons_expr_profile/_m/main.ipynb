{
 "cells": [
  {
   "cell_type": "code",
   "execution_count": 1,
   "id": "85ce0cfa-95c5-4610-8154-47cadaaa5320",
   "metadata": {
    "execution": {
     "iopub.execute_input": "2025-01-07T21:44:07.641304Z",
     "iopub.status.busy": "2025-01-07T21:44:07.637741Z",
     "iopub.status.idle": "2025-01-07T21:44:35.588488Z",
     "shell.execute_reply": "2025-01-07T21:44:35.585658Z"
    }
   },
   "outputs": [
    {
     "name": "stderr",
     "output_type": "stream",
     "text": [
      "Warning message in dir.create(\"../_m\", showWarnings = TRUE, recursive = TRUE):\n",
      "“'../_m' already exists”\n"
     ]
    }
   ],
   "source": [
    "suppressPackageStartupMessages({\n",
    "\n",
    "    library(data.table)\n",
    "    library(tidyverse)\n",
    "    library(ggpubr)\n",
    "    library(DESeq2)\n",
    "    library(GenomicRanges)\n",
    "    library(rtracklayer)\n",
    "    library(GenomicFeatures)\n",
    "    library(SummarizedExperiment)\n",
    "    })\n",
    "\n",
    "save_plot <- function(p, fn, w, h){\n",
    "    for(ext in c(\".pdf\", \".png\")){\n",
    "        ggsave(filename=paste0(fn,ext), plot=p, width=w, height=h)\n",
    "    }\n",
    "}\n",
    "\n",
    "dir.create('../_m', showWarnings = TRUE, recursive = TRUE)\n",
    "setwd('../_m')"
   ]
  },
  {
   "cell_type": "code",
   "execution_count": 2,
   "id": "30aaec46-309c-4362-b7d3-4691b329c4b3",
   "metadata": {
    "execution": {
     "iopub.execute_input": "2025-01-07T21:44:35.653161Z",
     "iopub.status.busy": "2025-01-07T21:44:35.595990Z",
     "iopub.status.idle": "2025-01-07T21:44:35.674160Z",
     "shell.execute_reply": "2025-01-07T21:44:35.671550Z"
    }
   },
   "outputs": [],
   "source": [
    "#taf1_transcripts <- gtf %>% subset(type == \"transcript\" & gene_name==\"TAF1\")"
   ]
  },
  {
   "cell_type": "code",
   "execution_count": 3,
   "id": "638ff821-e544-4160-abda-1b1e19d77683",
   "metadata": {
    "execution": {
     "iopub.execute_input": "2025-01-07T21:44:35.682283Z",
     "iopub.status.busy": "2025-01-07T21:44:35.679913Z",
     "iopub.status.idle": "2025-01-07T21:46:02.771341Z",
     "shell.execute_reply": "2025-01-07T21:46:02.768354Z"
    }
   },
   "outputs": [
    {
     "name": "stdout",
     "output_type": "stream",
     "text": [
      "[1] \"total # TAF1 exons: 418\"\n"
     ]
    },
    {
     "name": "stdout",
     "output_type": "stream",
     "text": [
      "[1] \"total # TAF1 canonical exons: 38\"\n"
     ]
    }
   ],
   "source": [
    "# get TAF1 cannonical transcript:\n",
    "\n",
    "# Set the file path for the GTF file\n",
    "gtf_file <- \"../../../expression_profiles/exons_ratio/_h/transcripts_hg38_gencode_v42_primary.gtf\"\n",
    "\n",
    "gtf <- rtracklayer::import(gtf_file, format = \"gtf\")\n",
    "\n",
    "# Create a transcript database (TxDb)\n",
    "#txdb <- GenomicFeatures::makeTxDbFromGRanges(gtf)\n",
    "\n",
    "# Subset the GTF to only include exons from the TAF1 gene using the \"subset\" function\n",
    "taf1_exons <- subset(gtf, type == \"exon\" & gene_name == \"TAF1\")\n",
    "\n",
    "print(paste0('total # TAF1 exons: ', taf1_exons %>% length))\n",
    "\n",
    "#Find the unique exons with the \"appris_principal_3\" tag\n",
    "taf1_canonical_exons <- subset(taf1_exons, tag == \"appris_principal_3\")\n",
    "\n",
    "print(paste0('total # TAF1 canonical exons: ', taf1_canonical_exons %>% length))"
   ]
  },
  {
   "cell_type": "code",
   "execution_count": 4,
   "id": "f43ef24c-bdcd-4017-ab8d-aa18377db530",
   "metadata": {
    "execution": {
     "iopub.execute_input": "2025-01-07T21:46:02.790854Z",
     "iopub.status.busy": "2025-01-07T21:46:02.788363Z",
     "iopub.status.idle": "2025-01-07T21:46:02.815218Z",
     "shell.execute_reply": "2025-01-07T21:46:02.812294Z"
    }
   },
   "outputs": [],
   "source": [
    "rm(taf1_exons)"
   ]
  },
  {
   "cell_type": "code",
   "execution_count": 5,
   "id": "a94680ca-ff99-48e4-baef-4cece1630973",
   "metadata": {
    "execution": {
     "iopub.execute_input": "2025-01-07T21:46:02.823958Z",
     "iopub.status.busy": "2025-01-07T21:46:02.821483Z",
     "iopub.status.idle": "2025-01-07T21:46:02.971239Z",
     "shell.execute_reply": "2025-01-07T21:46:02.968132Z"
    }
   },
   "outputs": [
    {
     "data": {
      "text/html": [
       "<table class=\"dataframe\">\n",
       "<caption>A data.frame: 6 × 13</caption>\n",
       "<thead>\n",
       "\t<tr><th></th><th scope=col>transcript_id</th><th scope=col>transcript_type</th><th scope=col>transcript_name</th><th scope=col>transcript_support_level</th><th scope=col>havana_transcript</th><th scope=col>exon_number</th><th scope=col>exon_id</th><th scope=col>hgnc_id</th><th scope=col>havana_gene</th><th scope=col>ont</th><th scope=col>protein_id</th><th scope=col>ccdsid</th><th scope=col>artif_dupl</th></tr>\n",
       "\t<tr><th></th><th scope=col>&lt;chr&gt;</th><th scope=col>&lt;chr&gt;</th><th scope=col>&lt;chr&gt;</th><th scope=col>&lt;chr&gt;</th><th scope=col>&lt;chr&gt;</th><th scope=col>&lt;chr&gt;</th><th scope=col>&lt;chr&gt;</th><th scope=col>&lt;chr&gt;</th><th scope=col>&lt;chr&gt;</th><th scope=col>&lt;chr&gt;</th><th scope=col>&lt;chr&gt;</th><th scope=col>&lt;chr&gt;</th><th scope=col>&lt;chr&gt;</th></tr>\n",
       "</thead>\n",
       "<tbody>\n",
       "\t<tr><th scope=row>1</th><td>ENST00000423759.6</td><td>protein_coding</td><td>TAF1-204</td><td>5</td><td>OTTHUMT00000058996.3</td><td>1</td><td>ENSE00002057736.2</td><td>HGNC:11535</td><td>OTTHUMG00000022723.7</td><td>NA</td><td>ENSP00000406549.2</td><td>NA</td><td>NA</td></tr>\n",
       "\t<tr><th scope=row>2</th><td>ENST00000423759.6</td><td>protein_coding</td><td>TAF1-204</td><td>5</td><td>OTTHUMT00000058996.3</td><td>2</td><td>ENSE00001693606.1</td><td>HGNC:11535</td><td>OTTHUMG00000022723.7</td><td>NA</td><td>ENSP00000406549.2</td><td>NA</td><td>NA</td></tr>\n",
       "\t<tr><th scope=row>3</th><td>ENST00000423759.6</td><td>protein_coding</td><td>TAF1-204</td><td>5</td><td>OTTHUMT00000058996.3</td><td>3</td><td>ENSE00001806491.1</td><td>HGNC:11535</td><td>OTTHUMG00000022723.7</td><td>NA</td><td>ENSP00000406549.2</td><td>NA</td><td>NA</td></tr>\n",
       "\t<tr><th scope=row>4</th><td>ENST00000423759.6</td><td>protein_coding</td><td>TAF1-204</td><td>5</td><td>OTTHUMT00000058996.3</td><td>4</td><td>ENSE00001762844.1</td><td>HGNC:11535</td><td>OTTHUMG00000022723.7</td><td>NA</td><td>ENSP00000406549.2</td><td>NA</td><td>NA</td></tr>\n",
       "\t<tr><th scope=row>5</th><td>ENST00000423759.6</td><td>protein_coding</td><td>TAF1-204</td><td>5</td><td>OTTHUMT00000058996.3</td><td>5</td><td>ENSE00001615535.1</td><td>HGNC:11535</td><td>OTTHUMG00000022723.7</td><td>NA</td><td>ENSP00000406549.2</td><td>NA</td><td>NA</td></tr>\n",
       "\t<tr><th scope=row>6</th><td>ENST00000423759.6</td><td>protein_coding</td><td>TAF1-204</td><td>5</td><td>OTTHUMT00000058996.3</td><td>6</td><td>ENSE00001657433.1</td><td>HGNC:11535</td><td>OTTHUMG00000022723.7</td><td>NA</td><td>ENSP00000406549.2</td><td>NA</td><td>NA</td></tr>\n",
       "</tbody>\n",
       "</table>\n"
      ],
      "text/latex": [
       "A data.frame: 6 × 13\n",
       "\\begin{tabular}{r|lllllllllllll}\n",
       "  & transcript\\_id & transcript\\_type & transcript\\_name & transcript\\_support\\_level & havana\\_transcript & exon\\_number & exon\\_id & hgnc\\_id & havana\\_gene & ont & protein\\_id & ccdsid & artif\\_dupl\\\\\n",
       "  & <chr> & <chr> & <chr> & <chr> & <chr> & <chr> & <chr> & <chr> & <chr> & <chr> & <chr> & <chr> & <chr>\\\\\n",
       "\\hline\n",
       "\t1 & ENST00000423759.6 & protein\\_coding & TAF1-204 & 5 & OTTHUMT00000058996.3 & 1 & ENSE00002057736.2 & HGNC:11535 & OTTHUMG00000022723.7 & NA & ENSP00000406549.2 & NA & NA\\\\\n",
       "\t2 & ENST00000423759.6 & protein\\_coding & TAF1-204 & 5 & OTTHUMT00000058996.3 & 2 & ENSE00001693606.1 & HGNC:11535 & OTTHUMG00000022723.7 & NA & ENSP00000406549.2 & NA & NA\\\\\n",
       "\t3 & ENST00000423759.6 & protein\\_coding & TAF1-204 & 5 & OTTHUMT00000058996.3 & 3 & ENSE00001806491.1 & HGNC:11535 & OTTHUMG00000022723.7 & NA & ENSP00000406549.2 & NA & NA\\\\\n",
       "\t4 & ENST00000423759.6 & protein\\_coding & TAF1-204 & 5 & OTTHUMT00000058996.3 & 4 & ENSE00001762844.1 & HGNC:11535 & OTTHUMG00000022723.7 & NA & ENSP00000406549.2 & NA & NA\\\\\n",
       "\t5 & ENST00000423759.6 & protein\\_coding & TAF1-204 & 5 & OTTHUMT00000058996.3 & 5 & ENSE00001615535.1 & HGNC:11535 & OTTHUMG00000022723.7 & NA & ENSP00000406549.2 & NA & NA\\\\\n",
       "\t6 & ENST00000423759.6 & protein\\_coding & TAF1-204 & 5 & OTTHUMT00000058996.3 & 6 & ENSE00001657433.1 & HGNC:11535 & OTTHUMG00000022723.7 & NA & ENSP00000406549.2 & NA & NA\\\\\n",
       "\\end{tabular}\n"
      ],
      "text/markdown": [
       "\n",
       "A data.frame: 6 × 13\n",
       "\n",
       "| <!--/--> | transcript_id &lt;chr&gt; | transcript_type &lt;chr&gt; | transcript_name &lt;chr&gt; | transcript_support_level &lt;chr&gt; | havana_transcript &lt;chr&gt; | exon_number &lt;chr&gt; | exon_id &lt;chr&gt; | hgnc_id &lt;chr&gt; | havana_gene &lt;chr&gt; | ont &lt;chr&gt; | protein_id &lt;chr&gt; | ccdsid &lt;chr&gt; | artif_dupl &lt;chr&gt; |\n",
       "|---|---|---|---|---|---|---|---|---|---|---|---|---|---|\n",
       "| 1 | ENST00000423759.6 | protein_coding | TAF1-204 | 5 | OTTHUMT00000058996.3 | 1 | ENSE00002057736.2 | HGNC:11535 | OTTHUMG00000022723.7 | NA | ENSP00000406549.2 | NA | NA |\n",
       "| 2 | ENST00000423759.6 | protein_coding | TAF1-204 | 5 | OTTHUMT00000058996.3 | 2 | ENSE00001693606.1 | HGNC:11535 | OTTHUMG00000022723.7 | NA | ENSP00000406549.2 | NA | NA |\n",
       "| 3 | ENST00000423759.6 | protein_coding | TAF1-204 | 5 | OTTHUMT00000058996.3 | 3 | ENSE00001806491.1 | HGNC:11535 | OTTHUMG00000022723.7 | NA | ENSP00000406549.2 | NA | NA |\n",
       "| 4 | ENST00000423759.6 | protein_coding | TAF1-204 | 5 | OTTHUMT00000058996.3 | 4 | ENSE00001762844.1 | HGNC:11535 | OTTHUMG00000022723.7 | NA | ENSP00000406549.2 | NA | NA |\n",
       "| 5 | ENST00000423759.6 | protein_coding | TAF1-204 | 5 | OTTHUMT00000058996.3 | 5 | ENSE00001615535.1 | HGNC:11535 | OTTHUMG00000022723.7 | NA | ENSP00000406549.2 | NA | NA |\n",
       "| 6 | ENST00000423759.6 | protein_coding | TAF1-204 | 5 | OTTHUMT00000058996.3 | 6 | ENSE00001657433.1 | HGNC:11535 | OTTHUMG00000022723.7 | NA | ENSP00000406549.2 | NA | NA |\n",
       "\n"
      ],
      "text/plain": [
       "  transcript_id     transcript_type transcript_name transcript_support_level\n",
       "1 ENST00000423759.6 protein_coding  TAF1-204        5                       \n",
       "2 ENST00000423759.6 protein_coding  TAF1-204        5                       \n",
       "3 ENST00000423759.6 protein_coding  TAF1-204        5                       \n",
       "4 ENST00000423759.6 protein_coding  TAF1-204        5                       \n",
       "5 ENST00000423759.6 protein_coding  TAF1-204        5                       \n",
       "6 ENST00000423759.6 protein_coding  TAF1-204        5                       \n",
       "  havana_transcript    exon_number exon_id           hgnc_id   \n",
       "1 OTTHUMT00000058996.3 1           ENSE00002057736.2 HGNC:11535\n",
       "2 OTTHUMT00000058996.3 2           ENSE00001693606.1 HGNC:11535\n",
       "3 OTTHUMT00000058996.3 3           ENSE00001806491.1 HGNC:11535\n",
       "4 OTTHUMT00000058996.3 4           ENSE00001762844.1 HGNC:11535\n",
       "5 OTTHUMT00000058996.3 5           ENSE00001615535.1 HGNC:11535\n",
       "6 OTTHUMT00000058996.3 6           ENSE00001657433.1 HGNC:11535\n",
       "  havana_gene          ont protein_id        ccdsid artif_dupl\n",
       "1 OTTHUMG00000022723.7 NA  ENSP00000406549.2 NA     NA        \n",
       "2 OTTHUMG00000022723.7 NA  ENSP00000406549.2 NA     NA        \n",
       "3 OTTHUMG00000022723.7 NA  ENSP00000406549.2 NA     NA        \n",
       "4 OTTHUMG00000022723.7 NA  ENSP00000406549.2 NA     NA        \n",
       "5 OTTHUMG00000022723.7 NA  ENSP00000406549.2 NA     NA        \n",
       "6 OTTHUMG00000022723.7 NA  ENSP00000406549.2 NA     NA        "
      ]
     },
     "metadata": {},
     "output_type": "display_data"
    }
   ],
   "source": [
    "taf1_canonical_exons %>% as.data.frame() %>% dplyr::select(15:27) %>% head()"
   ]
  },
  {
   "cell_type": "code",
   "execution_count": 6,
   "id": "40c97fc5-83ea-4939-81d2-28d3e58bd986",
   "metadata": {
    "execution": {
     "iopub.execute_input": "2025-01-07T21:46:02.980261Z",
     "iopub.status.busy": "2025-01-07T21:46:02.977625Z",
     "iopub.status.idle": "2025-01-07T21:46:03.067235Z",
     "shell.execute_reply": "2025-01-07T21:46:03.064014Z"
    }
   },
   "outputs": [
    {
     "data": {
      "text/html": [
       "<style>\n",
       ".list-inline {list-style: none; margin:0; padding: 0}\n",
       ".list-inline>li {display: inline-block}\n",
       ".list-inline>li:not(:last-child)::after {content: \"\\00b7\"; padding: 0 .5ex}\n",
       "</style>\n",
       "<ol class=list-inline><li>'seqnames'</li><li>'start'</li><li>'end'</li><li>'width'</li><li>'strand'</li><li>'source'</li><li>'type'</li><li>'score'</li><li>'phase'</li><li>'gene_id'</li><li>'gene_type'</li><li>'gene_name'</li><li>'level'</li><li>'tag'</li><li>'transcript_id'</li><li>'transcript_type'</li><li>'transcript_name'</li><li>'transcript_support_level'</li><li>'havana_transcript'</li><li>'exon_number'</li><li>'exon_id'</li><li>'hgnc_id'</li><li>'havana_gene'</li><li>'ont'</li><li>'protein_id'</li><li>'ccdsid'</li><li>'artif_dupl'</li></ol>\n"
      ],
      "text/latex": [
       "\\begin{enumerate*}\n",
       "\\item 'seqnames'\n",
       "\\item 'start'\n",
       "\\item 'end'\n",
       "\\item 'width'\n",
       "\\item 'strand'\n",
       "\\item 'source'\n",
       "\\item 'type'\n",
       "\\item 'score'\n",
       "\\item 'phase'\n",
       "\\item 'gene\\_id'\n",
       "\\item 'gene\\_type'\n",
       "\\item 'gene\\_name'\n",
       "\\item 'level'\n",
       "\\item 'tag'\n",
       "\\item 'transcript\\_id'\n",
       "\\item 'transcript\\_type'\n",
       "\\item 'transcript\\_name'\n",
       "\\item 'transcript\\_support\\_level'\n",
       "\\item 'havana\\_transcript'\n",
       "\\item 'exon\\_number'\n",
       "\\item 'exon\\_id'\n",
       "\\item 'hgnc\\_id'\n",
       "\\item 'havana\\_gene'\n",
       "\\item 'ont'\n",
       "\\item 'protein\\_id'\n",
       "\\item 'ccdsid'\n",
       "\\item 'artif\\_dupl'\n",
       "\\end{enumerate*}\n"
      ],
      "text/markdown": [
       "1. 'seqnames'\n",
       "2. 'start'\n",
       "3. 'end'\n",
       "4. 'width'\n",
       "5. 'strand'\n",
       "6. 'source'\n",
       "7. 'type'\n",
       "8. 'score'\n",
       "9. 'phase'\n",
       "10. 'gene_id'\n",
       "11. 'gene_type'\n",
       "12. 'gene_name'\n",
       "13. 'level'\n",
       "14. 'tag'\n",
       "15. 'transcript_id'\n",
       "16. 'transcript_type'\n",
       "17. 'transcript_name'\n",
       "18. 'transcript_support_level'\n",
       "19. 'havana_transcript'\n",
       "20. 'exon_number'\n",
       "21. 'exon_id'\n",
       "22. 'hgnc_id'\n",
       "23. 'havana_gene'\n",
       "24. 'ont'\n",
       "25. 'protein_id'\n",
       "26. 'ccdsid'\n",
       "27. 'artif_dupl'\n",
       "\n",
       "\n"
      ],
      "text/plain": [
       " [1] \"seqnames\"                 \"start\"                   \n",
       " [3] \"end\"                      \"width\"                   \n",
       " [5] \"strand\"                   \"source\"                  \n",
       " [7] \"type\"                     \"score\"                   \n",
       " [9] \"phase\"                    \"gene_id\"                 \n",
       "[11] \"gene_type\"                \"gene_name\"               \n",
       "[13] \"level\"                    \"tag\"                     \n",
       "[15] \"transcript_id\"            \"transcript_type\"         \n",
       "[17] \"transcript_name\"          \"transcript_support_level\"\n",
       "[19] \"havana_transcript\"        \"exon_number\"             \n",
       "[21] \"exon_id\"                  \"hgnc_id\"                 \n",
       "[23] \"havana_gene\"              \"ont\"                     \n",
       "[25] \"protein_id\"               \"ccdsid\"                  \n",
       "[27] \"artif_dupl\"              "
      ]
     },
     "metadata": {},
     "output_type": "display_data"
    }
   ],
   "source": [
    "taf1_canonical_exons %>% as.data.frame() %>% colnames()"
   ]
  },
  {
   "cell_type": "code",
   "execution_count": 7,
   "id": "b0f8dcd1-85bc-454e-93d1-bc295e336c16",
   "metadata": {
    "execution": {
     "iopub.execute_input": "2025-01-07T21:46:03.076509Z",
     "iopub.status.busy": "2025-01-07T21:46:03.073722Z",
     "iopub.status.idle": "2025-01-07T21:46:03.142792Z",
     "shell.execute_reply": "2025-01-07T21:46:03.139672Z"
    }
   },
   "outputs": [
    {
     "data": {
      "text/html": [
       "<style>\n",
       ".list-inline {list-style: none; margin:0; padding: 0}\n",
       ".list-inline>li {display: inline-block}\n",
       ".list-inline>li:not(:last-child)::after {content: \"\\00b7\"; padding: 0 .5ex}\n",
       "</style>\n",
       "<ol class=list-inline><li>'../../_m/Day120_All_Male_Pairwise_controldelta_deseq2/exon_deseq2_results.tsv'</li><li>'../../_m/Day120_All_Male_Pairwise_controlxdp_deseq2/exon_deseq2_results.tsv'</li><li>'../../_m/Day120_All_Male_Pairwise_deltaxdp_deseq2/exon_deseq2_results.tsv'</li><li>'../../_m/Day30_All_Male_Pairwise_controldelta_deseq2/exon_deseq2_results.tsv'</li><li>'../../_m/Day30_All_Male_Pairwise_controlxdp_deseq2/exon_deseq2_results.tsv'</li><li>'../../_m/Day30_All_Male_Pairwise_deltaxdp_deseq2/exon_deseq2_results.tsv'</li><li>'../../_m/Day60_All_Male_Pairwise_controldelta_deseq2/exon_deseq2_results.tsv'</li><li>'../../_m/Day60_All_Male_Pairwise_controlxdp_deseq2/exon_deseq2_results.tsv'</li><li>'../../_m/Day60_All_Male_Pairwise_deltaxdp_deseq2/exon_deseq2_results.tsv'</li><li>'../../_m/Day90_All_Male_Pairwise_controldelta_deseq2/exon_deseq2_results.tsv'</li><li>'../../_m/Day90_All_Male_Pairwise_controlxdp_deseq2/exon_deseq2_results.tsv'</li><li>'../../_m/Day90_All_Male_Pairwise_deltaxdp_deseq2/exon_deseq2_results.tsv'</li><li>'../../_m/Mature_organoids_all_comparison_design1_deseq2/exon_deseq2_results.tsv'</li></ol>\n"
      ],
      "text/latex": [
       "\\begin{enumerate*}\n",
       "\\item '../../\\_m/Day120\\_All\\_Male\\_Pairwise\\_controldelta\\_deseq2/exon\\_deseq2\\_results.tsv'\n",
       "\\item '../../\\_m/Day120\\_All\\_Male\\_Pairwise\\_controlxdp\\_deseq2/exon\\_deseq2\\_results.tsv'\n",
       "\\item '../../\\_m/Day120\\_All\\_Male\\_Pairwise\\_deltaxdp\\_deseq2/exon\\_deseq2\\_results.tsv'\n",
       "\\item '../../\\_m/Day30\\_All\\_Male\\_Pairwise\\_controldelta\\_deseq2/exon\\_deseq2\\_results.tsv'\n",
       "\\item '../../\\_m/Day30\\_All\\_Male\\_Pairwise\\_controlxdp\\_deseq2/exon\\_deseq2\\_results.tsv'\n",
       "\\item '../../\\_m/Day30\\_All\\_Male\\_Pairwise\\_deltaxdp\\_deseq2/exon\\_deseq2\\_results.tsv'\n",
       "\\item '../../\\_m/Day60\\_All\\_Male\\_Pairwise\\_controldelta\\_deseq2/exon\\_deseq2\\_results.tsv'\n",
       "\\item '../../\\_m/Day60\\_All\\_Male\\_Pairwise\\_controlxdp\\_deseq2/exon\\_deseq2\\_results.tsv'\n",
       "\\item '../../\\_m/Day60\\_All\\_Male\\_Pairwise\\_deltaxdp\\_deseq2/exon\\_deseq2\\_results.tsv'\n",
       "\\item '../../\\_m/Day90\\_All\\_Male\\_Pairwise\\_controldelta\\_deseq2/exon\\_deseq2\\_results.tsv'\n",
       "\\item '../../\\_m/Day90\\_All\\_Male\\_Pairwise\\_controlxdp\\_deseq2/exon\\_deseq2\\_results.tsv'\n",
       "\\item '../../\\_m/Day90\\_All\\_Male\\_Pairwise\\_deltaxdp\\_deseq2/exon\\_deseq2\\_results.tsv'\n",
       "\\item '../../\\_m/Mature\\_organoids\\_all\\_comparison\\_design1\\_deseq2/exon\\_deseq2\\_results.tsv'\n",
       "\\end{enumerate*}\n"
      ],
      "text/markdown": [
       "1. '../../_m/Day120_All_Male_Pairwise_controldelta_deseq2/exon_deseq2_results.tsv'\n",
       "2. '../../_m/Day120_All_Male_Pairwise_controlxdp_deseq2/exon_deseq2_results.tsv'\n",
       "3. '../../_m/Day120_All_Male_Pairwise_deltaxdp_deseq2/exon_deseq2_results.tsv'\n",
       "4. '../../_m/Day30_All_Male_Pairwise_controldelta_deseq2/exon_deseq2_results.tsv'\n",
       "5. '../../_m/Day30_All_Male_Pairwise_controlxdp_deseq2/exon_deseq2_results.tsv'\n",
       "6. '../../_m/Day30_All_Male_Pairwise_deltaxdp_deseq2/exon_deseq2_results.tsv'\n",
       "7. '../../_m/Day60_All_Male_Pairwise_controldelta_deseq2/exon_deseq2_results.tsv'\n",
       "8. '../../_m/Day60_All_Male_Pairwise_controlxdp_deseq2/exon_deseq2_results.tsv'\n",
       "9. '../../_m/Day60_All_Male_Pairwise_deltaxdp_deseq2/exon_deseq2_results.tsv'\n",
       "10. '../../_m/Day90_All_Male_Pairwise_controldelta_deseq2/exon_deseq2_results.tsv'\n",
       "11. '../../_m/Day90_All_Male_Pairwise_controlxdp_deseq2/exon_deseq2_results.tsv'\n",
       "12. '../../_m/Day90_All_Male_Pairwise_deltaxdp_deseq2/exon_deseq2_results.tsv'\n",
       "13. '../../_m/Mature_organoids_all_comparison_design1_deseq2/exon_deseq2_results.tsv'\n",
       "\n",
       "\n"
      ],
      "text/plain": [
       " [1] \"../../_m/Day120_All_Male_Pairwise_controldelta_deseq2/exon_deseq2_results.tsv\"  \n",
       " [2] \"../../_m/Day120_All_Male_Pairwise_controlxdp_deseq2/exon_deseq2_results.tsv\"    \n",
       " [3] \"../../_m/Day120_All_Male_Pairwise_deltaxdp_deseq2/exon_deseq2_results.tsv\"      \n",
       " [4] \"../../_m/Day30_All_Male_Pairwise_controldelta_deseq2/exon_deseq2_results.tsv\"   \n",
       " [5] \"../../_m/Day30_All_Male_Pairwise_controlxdp_deseq2/exon_deseq2_results.tsv\"     \n",
       " [6] \"../../_m/Day30_All_Male_Pairwise_deltaxdp_deseq2/exon_deseq2_results.tsv\"       \n",
       " [7] \"../../_m/Day60_All_Male_Pairwise_controldelta_deseq2/exon_deseq2_results.tsv\"   \n",
       " [8] \"../../_m/Day60_All_Male_Pairwise_controlxdp_deseq2/exon_deseq2_results.tsv\"     \n",
       " [9] \"../../_m/Day60_All_Male_Pairwise_deltaxdp_deseq2/exon_deseq2_results.tsv\"       \n",
       "[10] \"../../_m/Day90_All_Male_Pairwise_controldelta_deseq2/exon_deseq2_results.tsv\"   \n",
       "[11] \"../../_m/Day90_All_Male_Pairwise_controlxdp_deseq2/exon_deseq2_results.tsv\"     \n",
       "[12] \"../../_m/Day90_All_Male_Pairwise_deltaxdp_deseq2/exon_deseq2_results.tsv\"       \n",
       "[13] \"../../_m/Mature_organoids_all_comparison_design1_deseq2/exon_deseq2_results.tsv\""
      ]
     },
     "metadata": {},
     "output_type": "display_data"
    }
   ],
   "source": [
    "files_path <- Sys.glob('../../_m/*/exon_deseq2_results.tsv') %>%\n",
    "                 .[grepl('../../_m/Mature_organoids_all_comparison_design1_deseq2|../../_m/Day',.)]\n",
    "files_path"
   ]
  },
  {
   "cell_type": "code",
   "execution_count": 8,
   "id": "ab528af2-9b0a-4ed4-ae31-28d45e5ca315",
   "metadata": {
    "execution": {
     "iopub.execute_input": "2025-01-07T21:46:03.151978Z",
     "iopub.status.busy": "2025-01-07T21:46:03.149157Z",
     "iopub.status.idle": "2025-01-07T21:46:03.176056Z",
     "shell.execute_reply": "2025-01-07T21:46:03.172933Z"
    }
   },
   "outputs": [],
   "source": [
    "#files_path <- Sys.glob('../../_m/Mature_organoids_all_comparison_design1_deseq2/exon_deseq2_results.tsv')\n",
    "\n",
    "#df <- fread(files_path) %>% filter(Symbol == 'TAF1')"
   ]
  },
  {
   "cell_type": "code",
   "execution_count": 9,
   "id": "794cd60f-ffbc-4916-a71b-0b04a062aba6",
   "metadata": {
    "execution": {
     "iopub.execute_input": "2025-01-07T21:46:03.185183Z",
     "iopub.status.busy": "2025-01-07T21:46:03.182560Z",
     "iopub.status.idle": "2025-01-07T21:48:33.005418Z",
     "shell.execute_reply": "2025-01-07T21:48:33.001517Z"
    }
   },
   "outputs": [
    {
     "data": {
      "text/html": [
       "'../../_m/Day120_All_Male_Pairwise_controldelta_deseq2/exon_deseq2_results.tsv'"
      ],
      "text/latex": [
       "'../../\\_m/Day120\\_All\\_Male\\_Pairwise\\_controldelta\\_deseq2/exon\\_deseq2\\_results.tsv'"
      ],
      "text/markdown": [
       "'../../_m/Day120_All_Male_Pairwise_controldelta_deseq2/exon_deseq2_results.tsv'"
      ],
      "text/plain": [
       "[1] \"../../_m/Day120_All_Male_Pairwise_controldelta_deseq2/exon_deseq2_results.tsv\""
      ]
     },
     "metadata": {},
     "output_type": "display_data"
    },
    {
     "data": {
      "text/html": [
       "'../../_m/Day120_All_Male_Pairwise_controlxdp_deseq2/exon_deseq2_results.tsv'"
      ],
      "text/latex": [
       "'../../\\_m/Day120\\_All\\_Male\\_Pairwise\\_controlxdp\\_deseq2/exon\\_deseq2\\_results.tsv'"
      ],
      "text/markdown": [
       "'../../_m/Day120_All_Male_Pairwise_controlxdp_deseq2/exon_deseq2_results.tsv'"
      ],
      "text/plain": [
       "[1] \"../../_m/Day120_All_Male_Pairwise_controlxdp_deseq2/exon_deseq2_results.tsv\""
      ]
     },
     "metadata": {},
     "output_type": "display_data"
    },
    {
     "data": {
      "text/html": [
       "'../../_m/Day120_All_Male_Pairwise_deltaxdp_deseq2/exon_deseq2_results.tsv'"
      ],
      "text/latex": [
       "'../../\\_m/Day120\\_All\\_Male\\_Pairwise\\_deltaxdp\\_deseq2/exon\\_deseq2\\_results.tsv'"
      ],
      "text/markdown": [
       "'../../_m/Day120_All_Male_Pairwise_deltaxdp_deseq2/exon_deseq2_results.tsv'"
      ],
      "text/plain": [
       "[1] \"../../_m/Day120_All_Male_Pairwise_deltaxdp_deseq2/exon_deseq2_results.tsv\""
      ]
     },
     "metadata": {},
     "output_type": "display_data"
    },
    {
     "data": {
      "text/html": [
       "'../../_m/Day30_All_Male_Pairwise_controldelta_deseq2/exon_deseq2_results.tsv'"
      ],
      "text/latex": [
       "'../../\\_m/Day30\\_All\\_Male\\_Pairwise\\_controldelta\\_deseq2/exon\\_deseq2\\_results.tsv'"
      ],
      "text/markdown": [
       "'../../_m/Day30_All_Male_Pairwise_controldelta_deseq2/exon_deseq2_results.tsv'"
      ],
      "text/plain": [
       "[1] \"../../_m/Day30_All_Male_Pairwise_controldelta_deseq2/exon_deseq2_results.tsv\""
      ]
     },
     "metadata": {},
     "output_type": "display_data"
    },
    {
     "data": {
      "text/html": [
       "'../../_m/Day30_All_Male_Pairwise_controlxdp_deseq2/exon_deseq2_results.tsv'"
      ],
      "text/latex": [
       "'../../\\_m/Day30\\_All\\_Male\\_Pairwise\\_controlxdp\\_deseq2/exon\\_deseq2\\_results.tsv'"
      ],
      "text/markdown": [
       "'../../_m/Day30_All_Male_Pairwise_controlxdp_deseq2/exon_deseq2_results.tsv'"
      ],
      "text/plain": [
       "[1] \"../../_m/Day30_All_Male_Pairwise_controlxdp_deseq2/exon_deseq2_results.tsv\""
      ]
     },
     "metadata": {},
     "output_type": "display_data"
    },
    {
     "data": {
      "text/html": [
       "'../../_m/Day30_All_Male_Pairwise_deltaxdp_deseq2/exon_deseq2_results.tsv'"
      ],
      "text/latex": [
       "'../../\\_m/Day30\\_All\\_Male\\_Pairwise\\_deltaxdp\\_deseq2/exon\\_deseq2\\_results.tsv'"
      ],
      "text/markdown": [
       "'../../_m/Day30_All_Male_Pairwise_deltaxdp_deseq2/exon_deseq2_results.tsv'"
      ],
      "text/plain": [
       "[1] \"../../_m/Day30_All_Male_Pairwise_deltaxdp_deseq2/exon_deseq2_results.tsv\""
      ]
     },
     "metadata": {},
     "output_type": "display_data"
    },
    {
     "data": {
      "text/html": [
       "'../../_m/Day60_All_Male_Pairwise_controldelta_deseq2/exon_deseq2_results.tsv'"
      ],
      "text/latex": [
       "'../../\\_m/Day60\\_All\\_Male\\_Pairwise\\_controldelta\\_deseq2/exon\\_deseq2\\_results.tsv'"
      ],
      "text/markdown": [
       "'../../_m/Day60_All_Male_Pairwise_controldelta_deseq2/exon_deseq2_results.tsv'"
      ],
      "text/plain": [
       "[1] \"../../_m/Day60_All_Male_Pairwise_controldelta_deseq2/exon_deseq2_results.tsv\""
      ]
     },
     "metadata": {},
     "output_type": "display_data"
    },
    {
     "data": {
      "text/html": [
       "'../../_m/Day60_All_Male_Pairwise_controlxdp_deseq2/exon_deseq2_results.tsv'"
      ],
      "text/latex": [
       "'../../\\_m/Day60\\_All\\_Male\\_Pairwise\\_controlxdp\\_deseq2/exon\\_deseq2\\_results.tsv'"
      ],
      "text/markdown": [
       "'../../_m/Day60_All_Male_Pairwise_controlxdp_deseq2/exon_deseq2_results.tsv'"
      ],
      "text/plain": [
       "[1] \"../../_m/Day60_All_Male_Pairwise_controlxdp_deseq2/exon_deseq2_results.tsv\""
      ]
     },
     "metadata": {},
     "output_type": "display_data"
    },
    {
     "data": {
      "text/html": [
       "'../../_m/Day60_All_Male_Pairwise_deltaxdp_deseq2/exon_deseq2_results.tsv'"
      ],
      "text/latex": [
       "'../../\\_m/Day60\\_All\\_Male\\_Pairwise\\_deltaxdp\\_deseq2/exon\\_deseq2\\_results.tsv'"
      ],
      "text/markdown": [
       "'../../_m/Day60_All_Male_Pairwise_deltaxdp_deseq2/exon_deseq2_results.tsv'"
      ],
      "text/plain": [
       "[1] \"../../_m/Day60_All_Male_Pairwise_deltaxdp_deseq2/exon_deseq2_results.tsv\""
      ]
     },
     "metadata": {},
     "output_type": "display_data"
    },
    {
     "data": {
      "text/html": [
       "'../../_m/Day90_All_Male_Pairwise_controldelta_deseq2/exon_deseq2_results.tsv'"
      ],
      "text/latex": [
       "'../../\\_m/Day90\\_All\\_Male\\_Pairwise\\_controldelta\\_deseq2/exon\\_deseq2\\_results.tsv'"
      ],
      "text/markdown": [
       "'../../_m/Day90_All_Male_Pairwise_controldelta_deseq2/exon_deseq2_results.tsv'"
      ],
      "text/plain": [
       "[1] \"../../_m/Day90_All_Male_Pairwise_controldelta_deseq2/exon_deseq2_results.tsv\""
      ]
     },
     "metadata": {},
     "output_type": "display_data"
    },
    {
     "data": {
      "text/html": [
       "'../../_m/Day90_All_Male_Pairwise_controlxdp_deseq2/exon_deseq2_results.tsv'"
      ],
      "text/latex": [
       "'../../\\_m/Day90\\_All\\_Male\\_Pairwise\\_controlxdp\\_deseq2/exon\\_deseq2\\_results.tsv'"
      ],
      "text/markdown": [
       "'../../_m/Day90_All_Male_Pairwise_controlxdp_deseq2/exon_deseq2_results.tsv'"
      ],
      "text/plain": [
       "[1] \"../../_m/Day90_All_Male_Pairwise_controlxdp_deseq2/exon_deseq2_results.tsv\""
      ]
     },
     "metadata": {},
     "output_type": "display_data"
    },
    {
     "data": {
      "text/html": [
       "'../../_m/Day90_All_Male_Pairwise_deltaxdp_deseq2/exon_deseq2_results.tsv'"
      ],
      "text/latex": [
       "'../../\\_m/Day90\\_All\\_Male\\_Pairwise\\_deltaxdp\\_deseq2/exon\\_deseq2\\_results.tsv'"
      ],
      "text/markdown": [
       "'../../_m/Day90_All_Male_Pairwise_deltaxdp_deseq2/exon_deseq2_results.tsv'"
      ],
      "text/plain": [
       "[1] \"../../_m/Day90_All_Male_Pairwise_deltaxdp_deseq2/exon_deseq2_results.tsv\""
      ]
     },
     "metadata": {},
     "output_type": "display_data"
    },
    {
     "data": {
      "text/html": [
       "'../../_m/Mature_organoids_all_comparison_design1_deseq2/exon_deseq2_results.tsv'"
      ],
      "text/latex": [
       "'../../\\_m/Mature\\_organoids\\_all\\_comparison\\_design1\\_deseq2/exon\\_deseq2\\_results.tsv'"
      ],
      "text/markdown": [
       "'../../_m/Mature_organoids_all_comparison_design1_deseq2/exon_deseq2_results.tsv'"
      ],
      "text/plain": [
       "[1] \"../../_m/Mature_organoids_all_comparison_design1_deseq2/exon_deseq2_results.tsv\""
      ]
     },
     "metadata": {},
     "output_type": "display_data"
    },
    {
     "data": {
      "text/html": [
       "<table class=\"dataframe\">\n",
       "<caption>A data.frame: 494 × 40</caption>\n",
       "<thead>\n",
       "\t<tr><th scope=col>seqnames</th><th scope=col>start</th><th scope=col>end</th><th scope=col>width</th><th scope=col>strand</th><th scope=col>source</th><th scope=col>type</th><th scope=col>score</th><th scope=col>phase</th><th scope=col>gene_id</th><th scope=col>⋯</th><th scope=col>lfcSE</th><th scope=col>stat</th><th scope=col>pvalue</th><th scope=col>padj</th><th scope=col>Length</th><th scope=col>gencodeID</th><th scope=col>ensemblID</th><th scope=col>Symbol</th><th scope=col>EntrezID</th><th scope=col>filename</th></tr>\n",
       "\t<tr><th scope=col>&lt;fct&gt;</th><th scope=col>&lt;int&gt;</th><th scope=col>&lt;int&gt;</th><th scope=col>&lt;int&gt;</th><th scope=col>&lt;fct&gt;</th><th scope=col>&lt;fct&gt;</th><th scope=col>&lt;fct&gt;</th><th scope=col>&lt;dbl&gt;</th><th scope=col>&lt;int&gt;</th><th scope=col>&lt;chr&gt;</th><th scope=col>⋯</th><th scope=col>&lt;dbl&gt;</th><th scope=col>&lt;dbl&gt;</th><th scope=col>&lt;dbl&gt;</th><th scope=col>&lt;dbl&gt;</th><th scope=col>&lt;int&gt;</th><th scope=col>&lt;chr&gt;</th><th scope=col>&lt;chr&gt;</th><th scope=col>&lt;chr&gt;</th><th scope=col>&lt;int&gt;</th><th scope=col>&lt;chr&gt;</th></tr>\n",
       "</thead>\n",
       "<tbody>\n",
       "\t<tr><td>chrX</td><td>71366357</td><td>71366494</td><td>138</td><td>+</td><td>HAVANA</td><td>exon</td><td>NA</td><td>NA</td><td>ENSG00000147133.17</td><td>⋯</td><td>2.8839956</td><td>-0.25836738</td><td>0.79612339</td><td>       NA</td><td>138</td><td>ENSG00000147133.17</td><td>ENSG00000147133</td><td>TAF1</td><td>6872</td><td>Day120_All_Male_Pairwise_controldelta_deseq2</td></tr>\n",
       "\t<tr><td>chrX</td><td>71367499</td><td>71367613</td><td>115</td><td>+</td><td>HAVANA</td><td>exon</td><td>NA</td><td>NA</td><td>ENSG00000147133.17</td><td>⋯</td><td>0.6299088</td><td>-0.43478295</td><td>0.66371998</td><td>       NA</td><td>115</td><td>ENSG00000147133.17</td><td>ENSG00000147133</td><td>TAF1</td><td>6872</td><td>Day120_All_Male_Pairwise_controldelta_deseq2</td></tr>\n",
       "\t<tr><td>chrX</td><td>71368054</td><td>71368170</td><td>117</td><td>+</td><td>HAVANA</td><td>exon</td><td>NA</td><td>NA</td><td>ENSG00000147133.17</td><td>⋯</td><td>0.4510797</td><td>-0.33422636</td><td>0.73820876</td><td>0.9876136</td><td>117</td><td>ENSG00000147133.17</td><td>ENSG00000147133</td><td>TAF1</td><td>6872</td><td>Day120_All_Male_Pairwise_controldelta_deseq2</td></tr>\n",
       "\t<tr><td>chrX</td><td>71375167</td><td>71375286</td><td>120</td><td>+</td><td>HAVANA</td><td>exon</td><td>NA</td><td>NA</td><td>ENSG00000147133.17</td><td>⋯</td><td>0.4413288</td><td>-0.08731141</td><td>0.93042398</td><td>0.9967020</td><td>120</td><td>ENSG00000147133.17</td><td>ENSG00000147133</td><td>TAF1</td><td>6872</td><td>Day120_All_Male_Pairwise_controldelta_deseq2</td></tr>\n",
       "\t<tr><td>chrX</td><td>71376950</td><td>71377191</td><td>242</td><td>+</td><td>HAVANA</td><td>exon</td><td>NA</td><td>NA</td><td>ENSG00000147133.17</td><td>⋯</td><td>0.3927517</td><td>-0.76318352</td><td>0.44535396</td><td>0.9440471</td><td>242</td><td>ENSG00000147133.17</td><td>ENSG00000147133</td><td>TAF1</td><td>6872</td><td>Day120_All_Male_Pairwise_controldelta_deseq2</td></tr>\n",
       "\t<tr><td>chrX</td><td>71377603</td><td>71377821</td><td>219</td><td>+</td><td>HAVANA</td><td>exon</td><td>NA</td><td>NA</td><td>ENSG00000147133.17</td><td>⋯</td><td>0.3745720</td><td>-0.52766825</td><td>0.59772961</td><td>0.9744175</td><td>219</td><td>ENSG00000147133.17</td><td>ENSG00000147133</td><td>TAF1</td><td>6872</td><td>Day120_All_Male_Pairwise_controldelta_deseq2</td></tr>\n",
       "\t<tr><td>chrX</td><td>71378235</td><td>71378453</td><td>219</td><td>+</td><td>HAVANA</td><td>exon</td><td>NA</td><td>NA</td><td>ENSG00000147133.17</td><td>⋯</td><td>0.3011086</td><td>-0.32109339</td><td>0.74813962</td><td>0.9882795</td><td>219</td><td>ENSG00000147133.17</td><td>ENSG00000147133</td><td>TAF1</td><td>6872</td><td>Day120_All_Male_Pairwise_controldelta_deseq2</td></tr>\n",
       "\t<tr><td>chrX</td><td>71378824</td><td>71379031</td><td>208</td><td>+</td><td>HAVANA</td><td>exon</td><td>NA</td><td>NA</td><td>ENSG00000147133.17</td><td>⋯</td><td>0.3333531</td><td>-0.59458448</td><td>0.55212126</td><td>0.9674580</td><td>208</td><td>ENSG00000147133.17</td><td>ENSG00000147133</td><td>TAF1</td><td>6872</td><td>Day120_All_Male_Pairwise_controldelta_deseq2</td></tr>\n",
       "\t<tr><td>chrX</td><td>71381743</td><td>71381919</td><td>177</td><td>+</td><td>HAVANA</td><td>exon</td><td>NA</td><td>NA</td><td>ENSG00000147133.17</td><td>⋯</td><td>0.3471289</td><td>-0.67620451</td><td>0.49891081</td><td>0.9565303</td><td>177</td><td>ENSG00000147133.17</td><td>ENSG00000147133</td><td>TAF1</td><td>6872</td><td>Day120_All_Male_Pairwise_controldelta_deseq2</td></tr>\n",
       "\t<tr><td>chrX</td><td>71382536</td><td>71382663</td><td>128</td><td>+</td><td>HAVANA</td><td>exon</td><td>NA</td><td>NA</td><td>ENSG00000147133.17</td><td>⋯</td><td>0.3197973</td><td>-1.08140808</td><td>0.27951563</td><td>0.8734960</td><td>128</td><td>ENSG00000147133.17</td><td>ENSG00000147133</td><td>TAF1</td><td>6872</td><td>Day120_All_Male_Pairwise_controldelta_deseq2</td></tr>\n",
       "\t<tr><td>chrX</td><td>71382761</td><td>71382868</td><td>108</td><td>+</td><td>HAVANA</td><td>exon</td><td>NA</td><td>NA</td><td>ENSG00000147133.17</td><td>⋯</td><td>0.3321353</td><td>-1.10819002</td><td>0.26777976</td><td>0.8657767</td><td>108</td><td>ENSG00000147133.17</td><td>ENSG00000147133</td><td>TAF1</td><td>6872</td><td>Day120_All_Male_Pairwise_controldelta_deseq2</td></tr>\n",
       "\t<tr><td>chrX</td><td>71382991</td><td>71383164</td><td>174</td><td>+</td><td>HAVANA</td><td>exon</td><td>NA</td><td>NA</td><td>ENSG00000147133.17</td><td>⋯</td><td>0.3411297</td><td>-1.04036981</td><td>0.29816812</td><td>0.8860117</td><td>174</td><td>ENSG00000147133.17</td><td>ENSG00000147133</td><td>TAF1</td><td>6872</td><td>Day120_All_Male_Pairwise_controldelta_deseq2</td></tr>\n",
       "\t<tr><td>chrX</td><td>71383962</td><td>71384135</td><td>174</td><td>+</td><td>HAVANA</td><td>exon</td><td>NA</td><td>NA</td><td>ENSG00000147133.17</td><td>⋯</td><td>0.3095654</td><td>-0.81741196</td><td>0.41369304</td><td>0.9341394</td><td>174</td><td>ENSG00000147133.17</td><td>ENSG00000147133</td><td>TAF1</td><td>6872</td><td>Day120_All_Male_Pairwise_controldelta_deseq2</td></tr>\n",
       "\t<tr><td>chrX</td><td>71384945</td><td>71385049</td><td>105</td><td>+</td><td>HAVANA</td><td>exon</td><td>NA</td><td>NA</td><td>ENSG00000147133.17</td><td>⋯</td><td>0.3309528</td><td>-0.76058314</td><td>0.44690609</td><td>0.9445366</td><td>105</td><td>ENSG00000147133.17</td><td>ENSG00000147133</td><td>TAF1</td><td>6872</td><td>Day120_All_Male_Pairwise_controldelta_deseq2</td></tr>\n",
       "\t<tr><td>chrX</td><td>71387261</td><td>71387461</td><td>201</td><td>+</td><td>HAVANA</td><td>exon</td><td>NA</td><td>NA</td><td>ENSG00000147133.17</td><td>⋯</td><td>0.3307829</td><td>-1.03926665</td><td>0.29868074</td><td>0.8863886</td><td>201</td><td>ENSG00000147133.17</td><td>ENSG00000147133</td><td>TAF1</td><td>6872</td><td>Day120_All_Male_Pairwise_controldelta_deseq2</td></tr>\n",
       "\t<tr><td>chrX</td><td>71388237</td><td>71388378</td><td>142</td><td>+</td><td>HAVANA</td><td>exon</td><td>NA</td><td>NA</td><td>ENSG00000147133.17</td><td>⋯</td><td>0.3852521</td><td>-1.16488673</td><td>0.24406484</td><td>0.8482910</td><td>142</td><td>ENSG00000147133.17</td><td>ENSG00000147133</td><td>TAF1</td><td>6872</td><td>Day120_All_Male_Pairwise_controldelta_deseq2</td></tr>\n",
       "\t<tr><td>chrX</td><td>71388738</td><td>71388868</td><td>131</td><td>+</td><td>HAVANA</td><td>exon</td><td>NA</td><td>NA</td><td>ENSG00000147133.17</td><td>⋯</td><td>0.4154694</td><td>-0.26051631</td><td>0.79446554</td><td>0.9908529</td><td>131</td><td>ENSG00000147133.17</td><td>ENSG00000147133</td><td>TAF1</td><td>6872</td><td>Day120_All_Male_Pairwise_controldelta_deseq2</td></tr>\n",
       "\t<tr><td>chrX</td><td>71389585</td><td>71389665</td><td> 81</td><td>+</td><td>HAVANA</td><td>exon</td><td>NA</td><td>NA</td><td>ENSG00000147133.17</td><td>⋯</td><td>0.4238842</td><td>-0.02955317</td><td>0.97642341</td><td>0.9985080</td><td> 81</td><td>ENSG00000147133.17</td><td>ENSG00000147133</td><td>TAF1</td><td>6872</td><td>Day120_All_Male_Pairwise_controldelta_deseq2</td></tr>\n",
       "\t<tr><td>chrX</td><td>71392569</td><td>71392718</td><td>150</td><td>+</td><td>HAVANA</td><td>exon</td><td>NA</td><td>NA</td><td>ENSG00000147133.17</td><td>⋯</td><td>0.5082586</td><td>-1.06282158</td><td>0.28786287</td><td>0.8785568</td><td>150</td><td>ENSG00000147133.17</td><td>ENSG00000147133</td><td>TAF1</td><td>6872</td><td>Day120_All_Male_Pairwise_controldelta_deseq2</td></tr>\n",
       "\t<tr><td>chrX</td><td>71392875</td><td>71392994</td><td>120</td><td>+</td><td>HAVANA</td><td>exon</td><td>NA</td><td>NA</td><td>ENSG00000147133.17</td><td>⋯</td><td>0.4701331</td><td>-1.79135988</td><td>0.07323556</td><td>0.5573319</td><td>120</td><td>ENSG00000147133.17</td><td>ENSG00000147133</td><td>TAF1</td><td>6872</td><td>Day120_All_Male_Pairwise_controldelta_deseq2</td></tr>\n",
       "\t<tr><td>chrX</td><td>71393301</td><td>71393476</td><td>176</td><td>+</td><td>HAVANA</td><td>exon</td><td>NA</td><td>NA</td><td>ENSG00000147133.17</td><td>⋯</td><td>0.3862607</td><td>-0.33056507</td><td>0.74097303</td><td>0.9877199</td><td>176</td><td>ENSG00000147133.17</td><td>ENSG00000147133</td><td>TAF1</td><td>6872</td><td>Day120_All_Male_Pairwise_controldelta_deseq2</td></tr>\n",
       "\t<tr><td>chrX</td><td>71394067</td><td>71394245</td><td>179</td><td>+</td><td>HAVANA</td><td>exon</td><td>NA</td><td>NA</td><td>ENSG00000147133.17</td><td>⋯</td><td>0.3659357</td><td> 0.23827250</td><td>0.81166975</td><td>0.9916618</td><td>179</td><td>ENSG00000147133.17</td><td>ENSG00000147133</td><td>TAF1</td><td>6872</td><td>Day120_All_Male_Pairwise_controldelta_deseq2</td></tr>\n",
       "\t<tr><td>chrX</td><td>71397253</td><td>71397466</td><td>214</td><td>+</td><td>HAVANA</td><td>exon</td><td>NA</td><td>NA</td><td>ENSG00000147133.17</td><td>⋯</td><td>0.3773479</td><td>-0.18337999</td><td>0.85449988</td><td>0.9946201</td><td>214</td><td>ENSG00000147133.17</td><td>ENSG00000147133</td><td>TAF1</td><td>6872</td><td>Day120_All_Male_Pairwise_controldelta_deseq2</td></tr>\n",
       "\t<tr><td>chrX</td><td>71398572</td><td>71398737</td><td>166</td><td>+</td><td>HAVANA</td><td>exon</td><td>NA</td><td>NA</td><td>ENSG00000147133.17</td><td>⋯</td><td>0.3590865</td><td>-1.29450235</td><td>0.19549196</td><td>0.8012448</td><td>166</td><td>ENSG00000147133.17</td><td>ENSG00000147133</td><td>TAF1</td><td>6872</td><td>Day120_All_Male_Pairwise_controldelta_deseq2</td></tr>\n",
       "\t<tr><td>chrX</td><td>71401528</td><td>71401739</td><td>212</td><td>+</td><td>HAVANA</td><td>exon</td><td>NA</td><td>NA</td><td>ENSG00000147133.17</td><td>⋯</td><td>0.3004347</td><td>-1.20929824</td><td>0.22654829</td><td>0.8321599</td><td>212</td><td>ENSG00000147133.17</td><td>ENSG00000147133</td><td>TAF1</td><td>6872</td><td>Day120_All_Male_Pairwise_controldelta_deseq2</td></tr>\n",
       "\t<tr><td>chrX</td><td>71406638</td><td>71406746</td><td>109</td><td>+</td><td>HAVANA</td><td>exon</td><td>NA</td><td>NA</td><td>ENSG00000147133.17</td><td>⋯</td><td>0.3876234</td><td>-0.69711481</td><td>0.48573095</td><td>0.9546147</td><td>109</td><td>ENSG00000147133.17</td><td>ENSG00000147133</td><td>TAF1</td><td>6872</td><td>Day120_All_Male_Pairwise_controldelta_deseq2</td></tr>\n",
       "\t<tr><td>chrX</td><td>71407574</td><td>71407672</td><td> 99</td><td>+</td><td>HAVANA</td><td>exon</td><td>NA</td><td>NA</td><td>ENSG00000147133.17</td><td>⋯</td><td>0.4829648</td><td> 0.29273831</td><td>0.76972219</td><td>0.9894755</td><td> 99</td><td>ENSG00000147133.17</td><td>ENSG00000147133</td><td>TAF1</td><td>6872</td><td>Day120_All_Male_Pairwise_controldelta_deseq2</td></tr>\n",
       "\t<tr><td>chrX</td><td>71407974</td><td>71408151</td><td>178</td><td>+</td><td>HAVANA</td><td>exon</td><td>NA</td><td>NA</td><td>ENSG00000147133.17</td><td>⋯</td><td>0.3396126</td><td>-0.32304145</td><td>0.74666385</td><td>0.9881630</td><td>178</td><td>ENSG00000147133.17</td><td>ENSG00000147133</td><td>TAF1</td><td>6872</td><td>Day120_All_Male_Pairwise_controldelta_deseq2</td></tr>\n",
       "\t<tr><td>chrX</td><td>71421309</td><td>71421376</td><td> 68</td><td>+</td><td>HAVANA</td><td>exon</td><td>NA</td><td>NA</td><td>ENSG00000147133.17</td><td>⋯</td><td>0.3570585</td><td>-0.27549911</td><td>0.78293281</td><td>0.9903847</td><td> 68</td><td>ENSG00000147133.17</td><td>ENSG00000147133</td><td>TAF1</td><td>6872</td><td>Day120_All_Male_Pairwise_controldelta_deseq2</td></tr>\n",
       "\t<tr><td>chrX</td><td>71423117</td><td>71423239</td><td>123</td><td>+</td><td>HAVANA</td><td>exon</td><td>NA</td><td>NA</td><td>ENSG00000147133.17</td><td>⋯</td><td>0.2882234</td><td>-0.56789989</td><td>0.57010295</td><td>0.9706643</td><td>123</td><td>ENSG00000147133.17</td><td>ENSG00000147133</td><td>TAF1</td><td>6872</td><td>Day120_All_Male_Pairwise_controldelta_deseq2</td></tr>\n",
       "\t<tr><td>⋮</td><td>⋮</td><td>⋮</td><td>⋮</td><td>⋮</td><td>⋮</td><td>⋮</td><td>⋮</td><td>⋮</td><td>⋮</td><td>⋱</td><td>⋮</td><td>⋮</td><td>⋮</td><td>⋮</td><td>⋮</td><td>⋮</td><td>⋮</td><td>⋮</td><td>⋮</td><td>⋮</td></tr>\n",
       "\t<tr><td>chrX</td><td>71381743</td><td>71381919</td><td> 177</td><td>+</td><td>HAVANA</td><td>exon</td><td>NA</td><td>NA</td><td>ENSG00000147133.17</td><td>⋯</td><td>0.3178317</td><td>-1.20564629</td><td>0.22795390</td><td>0.9999996</td><td> 177</td><td>ENSG00000147133.17</td><td>ENSG00000147133</td><td>TAF1</td><td>6872</td><td>Mature_organoids_all_comparison_design1_deseq2</td></tr>\n",
       "\t<tr><td>chrX</td><td>71382536</td><td>71382663</td><td> 128</td><td>+</td><td>HAVANA</td><td>exon</td><td>NA</td><td>NA</td><td>ENSG00000147133.17</td><td>⋯</td><td>0.2606408</td><td>-0.03877354</td><td>0.96907094</td><td>0.9999996</td><td> 128</td><td>ENSG00000147133.17</td><td>ENSG00000147133</td><td>TAF1</td><td>6872</td><td>Mature_organoids_all_comparison_design1_deseq2</td></tr>\n",
       "\t<tr><td>chrX</td><td>71382761</td><td>71382868</td><td> 108</td><td>+</td><td>HAVANA</td><td>exon</td><td>NA</td><td>NA</td><td>ENSG00000147133.17</td><td>⋯</td><td>0.2671252</td><td> 0.85496952</td><td>0.39256802</td><td>0.9999996</td><td> 108</td><td>ENSG00000147133.17</td><td>ENSG00000147133</td><td>TAF1</td><td>6872</td><td>Mature_organoids_all_comparison_design1_deseq2</td></tr>\n",
       "\t<tr><td>chrX</td><td>71382991</td><td>71383164</td><td> 174</td><td>+</td><td>HAVANA</td><td>exon</td><td>NA</td><td>NA</td><td>ENSG00000147133.17</td><td>⋯</td><td>0.3005002</td><td> 0.44131837</td><td>0.65898253</td><td>0.9999996</td><td> 174</td><td>ENSG00000147133.17</td><td>ENSG00000147133</td><td>TAF1</td><td>6872</td><td>Mature_organoids_all_comparison_design1_deseq2</td></tr>\n",
       "\t<tr><td>chrX</td><td>71383962</td><td>71384135</td><td> 174</td><td>+</td><td>HAVANA</td><td>exon</td><td>NA</td><td>NA</td><td>ENSG00000147133.17</td><td>⋯</td><td>0.2275133</td><td> 0.95112736</td><td>0.34153973</td><td>0.9999996</td><td> 174</td><td>ENSG00000147133.17</td><td>ENSG00000147133</td><td>TAF1</td><td>6872</td><td>Mature_organoids_all_comparison_design1_deseq2</td></tr>\n",
       "\t<tr><td>chrX</td><td>71384945</td><td>71385049</td><td> 105</td><td>+</td><td>HAVANA</td><td>exon</td><td>NA</td><td>NA</td><td>ENSG00000147133.17</td><td>⋯</td><td>0.2033146</td><td> 0.73117361</td><td>0.46467312</td><td>0.9999996</td><td> 105</td><td>ENSG00000147133.17</td><td>ENSG00000147133</td><td>TAF1</td><td>6872</td><td>Mature_organoids_all_comparison_design1_deseq2</td></tr>\n",
       "\t<tr><td>chrX</td><td>71387261</td><td>71387461</td><td> 201</td><td>+</td><td>HAVANA</td><td>exon</td><td>NA</td><td>NA</td><td>ENSG00000147133.17</td><td>⋯</td><td>0.2109785</td><td>-0.15731890</td><td>0.87499352</td><td>0.9999996</td><td> 201</td><td>ENSG00000147133.17</td><td>ENSG00000147133</td><td>TAF1</td><td>6872</td><td>Mature_organoids_all_comparison_design1_deseq2</td></tr>\n",
       "\t<tr><td>chrX</td><td>71388237</td><td>71388378</td><td> 142</td><td>+</td><td>HAVANA</td><td>exon</td><td>NA</td><td>NA</td><td>ENSG00000147133.17</td><td>⋯</td><td>0.2482987</td><td>-0.75044201</td><td>0.45298854</td><td>0.9999996</td><td> 142</td><td>ENSG00000147133.17</td><td>ENSG00000147133</td><td>TAF1</td><td>6872</td><td>Mature_organoids_all_comparison_design1_deseq2</td></tr>\n",
       "\t<tr><td>chrX</td><td>71388738</td><td>71388868</td><td> 131</td><td>+</td><td>HAVANA</td><td>exon</td><td>NA</td><td>NA</td><td>ENSG00000147133.17</td><td>⋯</td><td>0.3292174</td><td> 0.18871170</td><td>0.85031878</td><td>0.9999996</td><td> 131</td><td>ENSG00000147133.17</td><td>ENSG00000147133</td><td>TAF1</td><td>6872</td><td>Mature_organoids_all_comparison_design1_deseq2</td></tr>\n",
       "\t<tr><td>chrX</td><td>71389585</td><td>71389665</td><td>  81</td><td>+</td><td>HAVANA</td><td>exon</td><td>NA</td><td>NA</td><td>ENSG00000147133.17</td><td>⋯</td><td>0.2848120</td><td> 0.17211539</td><td>0.86334681</td><td>0.9999996</td><td>  81</td><td>ENSG00000147133.17</td><td>ENSG00000147133</td><td>TAF1</td><td>6872</td><td>Mature_organoids_all_comparison_design1_deseq2</td></tr>\n",
       "\t<tr><td>chrX</td><td>71392569</td><td>71392718</td><td> 150</td><td>+</td><td>HAVANA</td><td>exon</td><td>NA</td><td>NA</td><td>ENSG00000147133.17</td><td>⋯</td><td>0.4659944</td><td>-1.05226122</td><td>0.29267972</td><td>0.9999996</td><td> 150</td><td>ENSG00000147133.17</td><td>ENSG00000147133</td><td>TAF1</td><td>6872</td><td>Mature_organoids_all_comparison_design1_deseq2</td></tr>\n",
       "\t<tr><td>chrX</td><td>71392875</td><td>71392994</td><td> 120</td><td>+</td><td>HAVANA</td><td>exon</td><td>NA</td><td>NA</td><td>ENSG00000147133.17</td><td>⋯</td><td>0.4936757</td><td>-0.69782612</td><td>0.48528594</td><td>0.9999996</td><td> 120</td><td>ENSG00000147133.17</td><td>ENSG00000147133</td><td>TAF1</td><td>6872</td><td>Mature_organoids_all_comparison_design1_deseq2</td></tr>\n",
       "\t<tr><td>chrX</td><td>71393301</td><td>71393476</td><td> 176</td><td>+</td><td>HAVANA</td><td>exon</td><td>NA</td><td>NA</td><td>ENSG00000147133.17</td><td>⋯</td><td>0.3501136</td><td>-0.73409056</td><td>0.46289355</td><td>0.9999996</td><td> 176</td><td>ENSG00000147133.17</td><td>ENSG00000147133</td><td>TAF1</td><td>6872</td><td>Mature_organoids_all_comparison_design1_deseq2</td></tr>\n",
       "\t<tr><td>chrX</td><td>71394067</td><td>71394245</td><td> 179</td><td>+</td><td>HAVANA</td><td>exon</td><td>NA</td><td>NA</td><td>ENSG00000147133.17</td><td>⋯</td><td>0.2710071</td><td>-1.01228871</td><td>0.31140003</td><td>0.9999996</td><td> 179</td><td>ENSG00000147133.17</td><td>ENSG00000147133</td><td>TAF1</td><td>6872</td><td>Mature_organoids_all_comparison_design1_deseq2</td></tr>\n",
       "\t<tr><td>chrX</td><td>71397253</td><td>71397466</td><td> 214</td><td>+</td><td>HAVANA</td><td>exon</td><td>NA</td><td>NA</td><td>ENSG00000147133.17</td><td>⋯</td><td>0.3980686</td><td>-1.05838407</td><td>0.28988038</td><td>0.9999996</td><td> 214</td><td>ENSG00000147133.17</td><td>ENSG00000147133</td><td>TAF1</td><td>6872</td><td>Mature_organoids_all_comparison_design1_deseq2</td></tr>\n",
       "\t<tr><td>chrX</td><td>71398572</td><td>71398737</td><td> 166</td><td>+</td><td>HAVANA</td><td>exon</td><td>NA</td><td>NA</td><td>ENSG00000147133.17</td><td>⋯</td><td>0.3288550</td><td>-2.04921722</td><td>0.04044088</td><td>0.9999996</td><td> 166</td><td>ENSG00000147133.17</td><td>ENSG00000147133</td><td>TAF1</td><td>6872</td><td>Mature_organoids_all_comparison_design1_deseq2</td></tr>\n",
       "\t<tr><td>chrX</td><td>71401528</td><td>71401739</td><td> 212</td><td>+</td><td>HAVANA</td><td>exon</td><td>NA</td><td>NA</td><td>ENSG00000147133.17</td><td>⋯</td><td>0.2376246</td><td>-0.06221636</td><td>0.95039054</td><td>0.9999996</td><td> 212</td><td>ENSG00000147133.17</td><td>ENSG00000147133</td><td>TAF1</td><td>6872</td><td>Mature_organoids_all_comparison_design1_deseq2</td></tr>\n",
       "\t<tr><td>chrX</td><td>71406638</td><td>71406746</td><td> 109</td><td>+</td><td>HAVANA</td><td>exon</td><td>NA</td><td>NA</td><td>ENSG00000147133.17</td><td>⋯</td><td>0.3611653</td><td>-0.76887565</td><td>0.44196713</td><td>0.9999996</td><td> 109</td><td>ENSG00000147133.17</td><td>ENSG00000147133</td><td>TAF1</td><td>6872</td><td>Mature_organoids_all_comparison_design1_deseq2</td></tr>\n",
       "\t<tr><td>chrX</td><td>71407574</td><td>71407672</td><td>  99</td><td>+</td><td>HAVANA</td><td>exon</td><td>NA</td><td>NA</td><td>ENSG00000147133.17</td><td>⋯</td><td>0.3576033</td><td>-0.67676276</td><td>0.49855649</td><td>0.9999996</td><td>  99</td><td>ENSG00000147133.17</td><td>ENSG00000147133</td><td>TAF1</td><td>6872</td><td>Mature_organoids_all_comparison_design1_deseq2</td></tr>\n",
       "\t<tr><td>chrX</td><td>71407974</td><td>71408151</td><td> 178</td><td>+</td><td>HAVANA</td><td>exon</td><td>NA</td><td>NA</td><td>ENSG00000147133.17</td><td>⋯</td><td>0.3007278</td><td>-0.67633926</td><td>0.49882527</td><td>0.9999996</td><td> 178</td><td>ENSG00000147133.17</td><td>ENSG00000147133</td><td>TAF1</td><td>6872</td><td>Mature_organoids_all_comparison_design1_deseq2</td></tr>\n",
       "\t<tr><td>chrX</td><td>71421309</td><td>71421376</td><td>  68</td><td>+</td><td>HAVANA</td><td>exon</td><td>NA</td><td>NA</td><td>ENSG00000147133.17</td><td>⋯</td><td>0.2350215</td><td> 0.22890029</td><td>0.81894641</td><td>0.9999996</td><td>  68</td><td>ENSG00000147133.17</td><td>ENSG00000147133</td><td>TAF1</td><td>6872</td><td>Mature_organoids_all_comparison_design1_deseq2</td></tr>\n",
       "\t<tr><td>chrX</td><td>71423117</td><td>71423239</td><td> 123</td><td>+</td><td>HAVANA</td><td>exon</td><td>NA</td><td>NA</td><td>ENSG00000147133.17</td><td>⋯</td><td>0.1852513</td><td>-0.39016288</td><td>0.69641611</td><td>0.9999996</td><td> 123</td><td>ENSG00000147133.17</td><td>ENSG00000147133</td><td>TAF1</td><td>6872</td><td>Mature_organoids_all_comparison_design1_deseq2</td></tr>\n",
       "\t<tr><td>chrX</td><td>71423974</td><td>71424066</td><td>  93</td><td>+</td><td>HAVANA</td><td>exon</td><td>NA</td><td>NA</td><td>ENSG00000147133.17</td><td>⋯</td><td>0.2294922</td><td> 1.15846603</td><td>0.24667391</td><td>0.9999996</td><td>  93</td><td>ENSG00000147133.17</td><td>ENSG00000147133</td><td>TAF1</td><td>6872</td><td>Mature_organoids_all_comparison_design1_deseq2</td></tr>\n",
       "\t<tr><td>chrX</td><td>71424154</td><td>71424238</td><td>  85</td><td>+</td><td>HAVANA</td><td>exon</td><td>NA</td><td>NA</td><td>ENSG00000147133.17</td><td>⋯</td><td>0.2134892</td><td> 1.19412160</td><td>0.23243040</td><td>0.9999996</td><td>  85</td><td>ENSG00000147133.17</td><td>ENSG00000147133</td><td>TAF1</td><td>6872</td><td>Mature_organoids_all_comparison_design1_deseq2</td></tr>\n",
       "\t<tr><td>chrX</td><td>71454170</td><td>71454237</td><td>  68</td><td>+</td><td>HAVANA</td><td>exon</td><td>NA</td><td>NA</td><td>ENSG00000147133.17</td><td>⋯</td><td>0.2363831</td><td>-0.21952325</td><td>0.82624247</td><td>0.9999996</td><td>  68</td><td>ENSG00000147133.17</td><td>ENSG00000147133</td><td>TAF1</td><td>6872</td><td>Mature_organoids_all_comparison_design1_deseq2</td></tr>\n",
       "\t<tr><td>chrX</td><td>71454741</td><td>71454857</td><td> 117</td><td>+</td><td>HAVANA</td><td>exon</td><td>NA</td><td>NA</td><td>ENSG00000147133.17</td><td>⋯</td><td>0.2157454</td><td>-0.65424153</td><td>0.51295621</td><td>0.9999996</td><td> 117</td><td>ENSG00000147133.17</td><td>ENSG00000147133</td><td>TAF1</td><td>6872</td><td>Mature_organoids_all_comparison_design1_deseq2</td></tr>\n",
       "\t<tr><td>chrX</td><td>71458241</td><td>71458366</td><td> 126</td><td>+</td><td>HAVANA</td><td>exon</td><td>NA</td><td>NA</td><td>ENSG00000147133.17</td><td>⋯</td><td>0.2819981</td><td>-1.06464256</td><td>0.28703771</td><td>0.9999996</td><td> 126</td><td>ENSG00000147133.17</td><td>ENSG00000147133</td><td>TAF1</td><td>6872</td><td>Mature_organoids_all_comparison_design1_deseq2</td></tr>\n",
       "\t<tr><td>chrX</td><td>71459552</td><td>71459708</td><td> 157</td><td>+</td><td>HAVANA</td><td>exon</td><td>NA</td><td>NA</td><td>ENSG00000147133.17</td><td>⋯</td><td>0.3046909</td><td>-0.50555899</td><td>0.61316628</td><td>0.9999996</td><td> 157</td><td>ENSG00000147133.17</td><td>ENSG00000147133</td><td>TAF1</td><td>6872</td><td>Mature_organoids_all_comparison_design1_deseq2</td></tr>\n",
       "\t<tr><td>chrX</td><td>71460626</td><td>71460803</td><td> 178</td><td>+</td><td>HAVANA</td><td>exon</td><td>NA</td><td>NA</td><td>ENSG00000147133.17</td><td>⋯</td><td>0.3293636</td><td>-0.05395671</td><td>0.95696966</td><td>0.9999996</td><td> 178</td><td>ENSG00000147133.17</td><td>ENSG00000147133</td><td>TAF1</td><td>6872</td><td>Mature_organoids_all_comparison_design1_deseq2</td></tr>\n",
       "\t<tr><td>chrX</td><td>71463824</td><td>71466005</td><td>2182</td><td>+</td><td>HAVANA</td><td>exon</td><td>NA</td><td>NA</td><td>ENSG00000147133.17</td><td>⋯</td><td>0.1646417</td><td> 0.15407434</td><td>0.87755112</td><td>0.9999996</td><td>2182</td><td>ENSG00000147133.17</td><td>ENSG00000147133</td><td>TAF1</td><td>6872</td><td>Mature_organoids_all_comparison_design1_deseq2</td></tr>\n",
       "</tbody>\n",
       "</table>\n"
      ],
      "text/latex": [
       "A data.frame: 494 × 40\n",
       "\\begin{tabular}{lllllllllllllllllllll}\n",
       " seqnames & start & end & width & strand & source & type & score & phase & gene\\_id & ⋯ & lfcSE & stat & pvalue & padj & Length & gencodeID & ensemblID & Symbol & EntrezID & filename\\\\\n",
       " <fct> & <int> & <int> & <int> & <fct> & <fct> & <fct> & <dbl> & <int> & <chr> & ⋯ & <dbl> & <dbl> & <dbl> & <dbl> & <int> & <chr> & <chr> & <chr> & <int> & <chr>\\\\\n",
       "\\hline\n",
       "\t chrX & 71366357 & 71366494 & 138 & + & HAVANA & exon & NA & NA & ENSG00000147133.17 & ⋯ & 2.8839956 & -0.25836738 & 0.79612339 &        NA & 138 & ENSG00000147133.17 & ENSG00000147133 & TAF1 & 6872 & Day120\\_All\\_Male\\_Pairwise\\_controldelta\\_deseq2\\\\\n",
       "\t chrX & 71367499 & 71367613 & 115 & + & HAVANA & exon & NA & NA & ENSG00000147133.17 & ⋯ & 0.6299088 & -0.43478295 & 0.66371998 &        NA & 115 & ENSG00000147133.17 & ENSG00000147133 & TAF1 & 6872 & Day120\\_All\\_Male\\_Pairwise\\_controldelta\\_deseq2\\\\\n",
       "\t chrX & 71368054 & 71368170 & 117 & + & HAVANA & exon & NA & NA & ENSG00000147133.17 & ⋯ & 0.4510797 & -0.33422636 & 0.73820876 & 0.9876136 & 117 & ENSG00000147133.17 & ENSG00000147133 & TAF1 & 6872 & Day120\\_All\\_Male\\_Pairwise\\_controldelta\\_deseq2\\\\\n",
       "\t chrX & 71375167 & 71375286 & 120 & + & HAVANA & exon & NA & NA & ENSG00000147133.17 & ⋯ & 0.4413288 & -0.08731141 & 0.93042398 & 0.9967020 & 120 & ENSG00000147133.17 & ENSG00000147133 & TAF1 & 6872 & Day120\\_All\\_Male\\_Pairwise\\_controldelta\\_deseq2\\\\\n",
       "\t chrX & 71376950 & 71377191 & 242 & + & HAVANA & exon & NA & NA & ENSG00000147133.17 & ⋯ & 0.3927517 & -0.76318352 & 0.44535396 & 0.9440471 & 242 & ENSG00000147133.17 & ENSG00000147133 & TAF1 & 6872 & Day120\\_All\\_Male\\_Pairwise\\_controldelta\\_deseq2\\\\\n",
       "\t chrX & 71377603 & 71377821 & 219 & + & HAVANA & exon & NA & NA & ENSG00000147133.17 & ⋯ & 0.3745720 & -0.52766825 & 0.59772961 & 0.9744175 & 219 & ENSG00000147133.17 & ENSG00000147133 & TAF1 & 6872 & Day120\\_All\\_Male\\_Pairwise\\_controldelta\\_deseq2\\\\\n",
       "\t chrX & 71378235 & 71378453 & 219 & + & HAVANA & exon & NA & NA & ENSG00000147133.17 & ⋯ & 0.3011086 & -0.32109339 & 0.74813962 & 0.9882795 & 219 & ENSG00000147133.17 & ENSG00000147133 & TAF1 & 6872 & Day120\\_All\\_Male\\_Pairwise\\_controldelta\\_deseq2\\\\\n",
       "\t chrX & 71378824 & 71379031 & 208 & + & HAVANA & exon & NA & NA & ENSG00000147133.17 & ⋯ & 0.3333531 & -0.59458448 & 0.55212126 & 0.9674580 & 208 & ENSG00000147133.17 & ENSG00000147133 & TAF1 & 6872 & Day120\\_All\\_Male\\_Pairwise\\_controldelta\\_deseq2\\\\\n",
       "\t chrX & 71381743 & 71381919 & 177 & + & HAVANA & exon & NA & NA & ENSG00000147133.17 & ⋯ & 0.3471289 & -0.67620451 & 0.49891081 & 0.9565303 & 177 & ENSG00000147133.17 & ENSG00000147133 & TAF1 & 6872 & Day120\\_All\\_Male\\_Pairwise\\_controldelta\\_deseq2\\\\\n",
       "\t chrX & 71382536 & 71382663 & 128 & + & HAVANA & exon & NA & NA & ENSG00000147133.17 & ⋯ & 0.3197973 & -1.08140808 & 0.27951563 & 0.8734960 & 128 & ENSG00000147133.17 & ENSG00000147133 & TAF1 & 6872 & Day120\\_All\\_Male\\_Pairwise\\_controldelta\\_deseq2\\\\\n",
       "\t chrX & 71382761 & 71382868 & 108 & + & HAVANA & exon & NA & NA & ENSG00000147133.17 & ⋯ & 0.3321353 & -1.10819002 & 0.26777976 & 0.8657767 & 108 & ENSG00000147133.17 & ENSG00000147133 & TAF1 & 6872 & Day120\\_All\\_Male\\_Pairwise\\_controldelta\\_deseq2\\\\\n",
       "\t chrX & 71382991 & 71383164 & 174 & + & HAVANA & exon & NA & NA & ENSG00000147133.17 & ⋯ & 0.3411297 & -1.04036981 & 0.29816812 & 0.8860117 & 174 & ENSG00000147133.17 & ENSG00000147133 & TAF1 & 6872 & Day120\\_All\\_Male\\_Pairwise\\_controldelta\\_deseq2\\\\\n",
       "\t chrX & 71383962 & 71384135 & 174 & + & HAVANA & exon & NA & NA & ENSG00000147133.17 & ⋯ & 0.3095654 & -0.81741196 & 0.41369304 & 0.9341394 & 174 & ENSG00000147133.17 & ENSG00000147133 & TAF1 & 6872 & Day120\\_All\\_Male\\_Pairwise\\_controldelta\\_deseq2\\\\\n",
       "\t chrX & 71384945 & 71385049 & 105 & + & HAVANA & exon & NA & NA & ENSG00000147133.17 & ⋯ & 0.3309528 & -0.76058314 & 0.44690609 & 0.9445366 & 105 & ENSG00000147133.17 & ENSG00000147133 & TAF1 & 6872 & Day120\\_All\\_Male\\_Pairwise\\_controldelta\\_deseq2\\\\\n",
       "\t chrX & 71387261 & 71387461 & 201 & + & HAVANA & exon & NA & NA & ENSG00000147133.17 & ⋯ & 0.3307829 & -1.03926665 & 0.29868074 & 0.8863886 & 201 & ENSG00000147133.17 & ENSG00000147133 & TAF1 & 6872 & Day120\\_All\\_Male\\_Pairwise\\_controldelta\\_deseq2\\\\\n",
       "\t chrX & 71388237 & 71388378 & 142 & + & HAVANA & exon & NA & NA & ENSG00000147133.17 & ⋯ & 0.3852521 & -1.16488673 & 0.24406484 & 0.8482910 & 142 & ENSG00000147133.17 & ENSG00000147133 & TAF1 & 6872 & Day120\\_All\\_Male\\_Pairwise\\_controldelta\\_deseq2\\\\\n",
       "\t chrX & 71388738 & 71388868 & 131 & + & HAVANA & exon & NA & NA & ENSG00000147133.17 & ⋯ & 0.4154694 & -0.26051631 & 0.79446554 & 0.9908529 & 131 & ENSG00000147133.17 & ENSG00000147133 & TAF1 & 6872 & Day120\\_All\\_Male\\_Pairwise\\_controldelta\\_deseq2\\\\\n",
       "\t chrX & 71389585 & 71389665 &  81 & + & HAVANA & exon & NA & NA & ENSG00000147133.17 & ⋯ & 0.4238842 & -0.02955317 & 0.97642341 & 0.9985080 &  81 & ENSG00000147133.17 & ENSG00000147133 & TAF1 & 6872 & Day120\\_All\\_Male\\_Pairwise\\_controldelta\\_deseq2\\\\\n",
       "\t chrX & 71392569 & 71392718 & 150 & + & HAVANA & exon & NA & NA & ENSG00000147133.17 & ⋯ & 0.5082586 & -1.06282158 & 0.28786287 & 0.8785568 & 150 & ENSG00000147133.17 & ENSG00000147133 & TAF1 & 6872 & Day120\\_All\\_Male\\_Pairwise\\_controldelta\\_deseq2\\\\\n",
       "\t chrX & 71392875 & 71392994 & 120 & + & HAVANA & exon & NA & NA & ENSG00000147133.17 & ⋯ & 0.4701331 & -1.79135988 & 0.07323556 & 0.5573319 & 120 & ENSG00000147133.17 & ENSG00000147133 & TAF1 & 6872 & Day120\\_All\\_Male\\_Pairwise\\_controldelta\\_deseq2\\\\\n",
       "\t chrX & 71393301 & 71393476 & 176 & + & HAVANA & exon & NA & NA & ENSG00000147133.17 & ⋯ & 0.3862607 & -0.33056507 & 0.74097303 & 0.9877199 & 176 & ENSG00000147133.17 & ENSG00000147133 & TAF1 & 6872 & Day120\\_All\\_Male\\_Pairwise\\_controldelta\\_deseq2\\\\\n",
       "\t chrX & 71394067 & 71394245 & 179 & + & HAVANA & exon & NA & NA & ENSG00000147133.17 & ⋯ & 0.3659357 &  0.23827250 & 0.81166975 & 0.9916618 & 179 & ENSG00000147133.17 & ENSG00000147133 & TAF1 & 6872 & Day120\\_All\\_Male\\_Pairwise\\_controldelta\\_deseq2\\\\\n",
       "\t chrX & 71397253 & 71397466 & 214 & + & HAVANA & exon & NA & NA & ENSG00000147133.17 & ⋯ & 0.3773479 & -0.18337999 & 0.85449988 & 0.9946201 & 214 & ENSG00000147133.17 & ENSG00000147133 & TAF1 & 6872 & Day120\\_All\\_Male\\_Pairwise\\_controldelta\\_deseq2\\\\\n",
       "\t chrX & 71398572 & 71398737 & 166 & + & HAVANA & exon & NA & NA & ENSG00000147133.17 & ⋯ & 0.3590865 & -1.29450235 & 0.19549196 & 0.8012448 & 166 & ENSG00000147133.17 & ENSG00000147133 & TAF1 & 6872 & Day120\\_All\\_Male\\_Pairwise\\_controldelta\\_deseq2\\\\\n",
       "\t chrX & 71401528 & 71401739 & 212 & + & HAVANA & exon & NA & NA & ENSG00000147133.17 & ⋯ & 0.3004347 & -1.20929824 & 0.22654829 & 0.8321599 & 212 & ENSG00000147133.17 & ENSG00000147133 & TAF1 & 6872 & Day120\\_All\\_Male\\_Pairwise\\_controldelta\\_deseq2\\\\\n",
       "\t chrX & 71406638 & 71406746 & 109 & + & HAVANA & exon & NA & NA & ENSG00000147133.17 & ⋯ & 0.3876234 & -0.69711481 & 0.48573095 & 0.9546147 & 109 & ENSG00000147133.17 & ENSG00000147133 & TAF1 & 6872 & Day120\\_All\\_Male\\_Pairwise\\_controldelta\\_deseq2\\\\\n",
       "\t chrX & 71407574 & 71407672 &  99 & + & HAVANA & exon & NA & NA & ENSG00000147133.17 & ⋯ & 0.4829648 &  0.29273831 & 0.76972219 & 0.9894755 &  99 & ENSG00000147133.17 & ENSG00000147133 & TAF1 & 6872 & Day120\\_All\\_Male\\_Pairwise\\_controldelta\\_deseq2\\\\\n",
       "\t chrX & 71407974 & 71408151 & 178 & + & HAVANA & exon & NA & NA & ENSG00000147133.17 & ⋯ & 0.3396126 & -0.32304145 & 0.74666385 & 0.9881630 & 178 & ENSG00000147133.17 & ENSG00000147133 & TAF1 & 6872 & Day120\\_All\\_Male\\_Pairwise\\_controldelta\\_deseq2\\\\\n",
       "\t chrX & 71421309 & 71421376 &  68 & + & HAVANA & exon & NA & NA & ENSG00000147133.17 & ⋯ & 0.3570585 & -0.27549911 & 0.78293281 & 0.9903847 &  68 & ENSG00000147133.17 & ENSG00000147133 & TAF1 & 6872 & Day120\\_All\\_Male\\_Pairwise\\_controldelta\\_deseq2\\\\\n",
       "\t chrX & 71423117 & 71423239 & 123 & + & HAVANA & exon & NA & NA & ENSG00000147133.17 & ⋯ & 0.2882234 & -0.56789989 & 0.57010295 & 0.9706643 & 123 & ENSG00000147133.17 & ENSG00000147133 & TAF1 & 6872 & Day120\\_All\\_Male\\_Pairwise\\_controldelta\\_deseq2\\\\\n",
       "\t ⋮ & ⋮ & ⋮ & ⋮ & ⋮ & ⋮ & ⋮ & ⋮ & ⋮ & ⋮ & ⋱ & ⋮ & ⋮ & ⋮ & ⋮ & ⋮ & ⋮ & ⋮ & ⋮ & ⋮ & ⋮\\\\\n",
       "\t chrX & 71381743 & 71381919 &  177 & + & HAVANA & exon & NA & NA & ENSG00000147133.17 & ⋯ & 0.3178317 & -1.20564629 & 0.22795390 & 0.9999996 &  177 & ENSG00000147133.17 & ENSG00000147133 & TAF1 & 6872 & Mature\\_organoids\\_all\\_comparison\\_design1\\_deseq2\\\\\n",
       "\t chrX & 71382536 & 71382663 &  128 & + & HAVANA & exon & NA & NA & ENSG00000147133.17 & ⋯ & 0.2606408 & -0.03877354 & 0.96907094 & 0.9999996 &  128 & ENSG00000147133.17 & ENSG00000147133 & TAF1 & 6872 & Mature\\_organoids\\_all\\_comparison\\_design1\\_deseq2\\\\\n",
       "\t chrX & 71382761 & 71382868 &  108 & + & HAVANA & exon & NA & NA & ENSG00000147133.17 & ⋯ & 0.2671252 &  0.85496952 & 0.39256802 & 0.9999996 &  108 & ENSG00000147133.17 & ENSG00000147133 & TAF1 & 6872 & Mature\\_organoids\\_all\\_comparison\\_design1\\_deseq2\\\\\n",
       "\t chrX & 71382991 & 71383164 &  174 & + & HAVANA & exon & NA & NA & ENSG00000147133.17 & ⋯ & 0.3005002 &  0.44131837 & 0.65898253 & 0.9999996 &  174 & ENSG00000147133.17 & ENSG00000147133 & TAF1 & 6872 & Mature\\_organoids\\_all\\_comparison\\_design1\\_deseq2\\\\\n",
       "\t chrX & 71383962 & 71384135 &  174 & + & HAVANA & exon & NA & NA & ENSG00000147133.17 & ⋯ & 0.2275133 &  0.95112736 & 0.34153973 & 0.9999996 &  174 & ENSG00000147133.17 & ENSG00000147133 & TAF1 & 6872 & Mature\\_organoids\\_all\\_comparison\\_design1\\_deseq2\\\\\n",
       "\t chrX & 71384945 & 71385049 &  105 & + & HAVANA & exon & NA & NA & ENSG00000147133.17 & ⋯ & 0.2033146 &  0.73117361 & 0.46467312 & 0.9999996 &  105 & ENSG00000147133.17 & ENSG00000147133 & TAF1 & 6872 & Mature\\_organoids\\_all\\_comparison\\_design1\\_deseq2\\\\\n",
       "\t chrX & 71387261 & 71387461 &  201 & + & HAVANA & exon & NA & NA & ENSG00000147133.17 & ⋯ & 0.2109785 & -0.15731890 & 0.87499352 & 0.9999996 &  201 & ENSG00000147133.17 & ENSG00000147133 & TAF1 & 6872 & Mature\\_organoids\\_all\\_comparison\\_design1\\_deseq2\\\\\n",
       "\t chrX & 71388237 & 71388378 &  142 & + & HAVANA & exon & NA & NA & ENSG00000147133.17 & ⋯ & 0.2482987 & -0.75044201 & 0.45298854 & 0.9999996 &  142 & ENSG00000147133.17 & ENSG00000147133 & TAF1 & 6872 & Mature\\_organoids\\_all\\_comparison\\_design1\\_deseq2\\\\\n",
       "\t chrX & 71388738 & 71388868 &  131 & + & HAVANA & exon & NA & NA & ENSG00000147133.17 & ⋯ & 0.3292174 &  0.18871170 & 0.85031878 & 0.9999996 &  131 & ENSG00000147133.17 & ENSG00000147133 & TAF1 & 6872 & Mature\\_organoids\\_all\\_comparison\\_design1\\_deseq2\\\\\n",
       "\t chrX & 71389585 & 71389665 &   81 & + & HAVANA & exon & NA & NA & ENSG00000147133.17 & ⋯ & 0.2848120 &  0.17211539 & 0.86334681 & 0.9999996 &   81 & ENSG00000147133.17 & ENSG00000147133 & TAF1 & 6872 & Mature\\_organoids\\_all\\_comparison\\_design1\\_deseq2\\\\\n",
       "\t chrX & 71392569 & 71392718 &  150 & + & HAVANA & exon & NA & NA & ENSG00000147133.17 & ⋯ & 0.4659944 & -1.05226122 & 0.29267972 & 0.9999996 &  150 & ENSG00000147133.17 & ENSG00000147133 & TAF1 & 6872 & Mature\\_organoids\\_all\\_comparison\\_design1\\_deseq2\\\\\n",
       "\t chrX & 71392875 & 71392994 &  120 & + & HAVANA & exon & NA & NA & ENSG00000147133.17 & ⋯ & 0.4936757 & -0.69782612 & 0.48528594 & 0.9999996 &  120 & ENSG00000147133.17 & ENSG00000147133 & TAF1 & 6872 & Mature\\_organoids\\_all\\_comparison\\_design1\\_deseq2\\\\\n",
       "\t chrX & 71393301 & 71393476 &  176 & + & HAVANA & exon & NA & NA & ENSG00000147133.17 & ⋯ & 0.3501136 & -0.73409056 & 0.46289355 & 0.9999996 &  176 & ENSG00000147133.17 & ENSG00000147133 & TAF1 & 6872 & Mature\\_organoids\\_all\\_comparison\\_design1\\_deseq2\\\\\n",
       "\t chrX & 71394067 & 71394245 &  179 & + & HAVANA & exon & NA & NA & ENSG00000147133.17 & ⋯ & 0.2710071 & -1.01228871 & 0.31140003 & 0.9999996 &  179 & ENSG00000147133.17 & ENSG00000147133 & TAF1 & 6872 & Mature\\_organoids\\_all\\_comparison\\_design1\\_deseq2\\\\\n",
       "\t chrX & 71397253 & 71397466 &  214 & + & HAVANA & exon & NA & NA & ENSG00000147133.17 & ⋯ & 0.3980686 & -1.05838407 & 0.28988038 & 0.9999996 &  214 & ENSG00000147133.17 & ENSG00000147133 & TAF1 & 6872 & Mature\\_organoids\\_all\\_comparison\\_design1\\_deseq2\\\\\n",
       "\t chrX & 71398572 & 71398737 &  166 & + & HAVANA & exon & NA & NA & ENSG00000147133.17 & ⋯ & 0.3288550 & -2.04921722 & 0.04044088 & 0.9999996 &  166 & ENSG00000147133.17 & ENSG00000147133 & TAF1 & 6872 & Mature\\_organoids\\_all\\_comparison\\_design1\\_deseq2\\\\\n",
       "\t chrX & 71401528 & 71401739 &  212 & + & HAVANA & exon & NA & NA & ENSG00000147133.17 & ⋯ & 0.2376246 & -0.06221636 & 0.95039054 & 0.9999996 &  212 & ENSG00000147133.17 & ENSG00000147133 & TAF1 & 6872 & Mature\\_organoids\\_all\\_comparison\\_design1\\_deseq2\\\\\n",
       "\t chrX & 71406638 & 71406746 &  109 & + & HAVANA & exon & NA & NA & ENSG00000147133.17 & ⋯ & 0.3611653 & -0.76887565 & 0.44196713 & 0.9999996 &  109 & ENSG00000147133.17 & ENSG00000147133 & TAF1 & 6872 & Mature\\_organoids\\_all\\_comparison\\_design1\\_deseq2\\\\\n",
       "\t chrX & 71407574 & 71407672 &   99 & + & HAVANA & exon & NA & NA & ENSG00000147133.17 & ⋯ & 0.3576033 & -0.67676276 & 0.49855649 & 0.9999996 &   99 & ENSG00000147133.17 & ENSG00000147133 & TAF1 & 6872 & Mature\\_organoids\\_all\\_comparison\\_design1\\_deseq2\\\\\n",
       "\t chrX & 71407974 & 71408151 &  178 & + & HAVANA & exon & NA & NA & ENSG00000147133.17 & ⋯ & 0.3007278 & -0.67633926 & 0.49882527 & 0.9999996 &  178 & ENSG00000147133.17 & ENSG00000147133 & TAF1 & 6872 & Mature\\_organoids\\_all\\_comparison\\_design1\\_deseq2\\\\\n",
       "\t chrX & 71421309 & 71421376 &   68 & + & HAVANA & exon & NA & NA & ENSG00000147133.17 & ⋯ & 0.2350215 &  0.22890029 & 0.81894641 & 0.9999996 &   68 & ENSG00000147133.17 & ENSG00000147133 & TAF1 & 6872 & Mature\\_organoids\\_all\\_comparison\\_design1\\_deseq2\\\\\n",
       "\t chrX & 71423117 & 71423239 &  123 & + & HAVANA & exon & NA & NA & ENSG00000147133.17 & ⋯ & 0.1852513 & -0.39016288 & 0.69641611 & 0.9999996 &  123 & ENSG00000147133.17 & ENSG00000147133 & TAF1 & 6872 & Mature\\_organoids\\_all\\_comparison\\_design1\\_deseq2\\\\\n",
       "\t chrX & 71423974 & 71424066 &   93 & + & HAVANA & exon & NA & NA & ENSG00000147133.17 & ⋯ & 0.2294922 &  1.15846603 & 0.24667391 & 0.9999996 &   93 & ENSG00000147133.17 & ENSG00000147133 & TAF1 & 6872 & Mature\\_organoids\\_all\\_comparison\\_design1\\_deseq2\\\\\n",
       "\t chrX & 71424154 & 71424238 &   85 & + & HAVANA & exon & NA & NA & ENSG00000147133.17 & ⋯ & 0.2134892 &  1.19412160 & 0.23243040 & 0.9999996 &   85 & ENSG00000147133.17 & ENSG00000147133 & TAF1 & 6872 & Mature\\_organoids\\_all\\_comparison\\_design1\\_deseq2\\\\\n",
       "\t chrX & 71454170 & 71454237 &   68 & + & HAVANA & exon & NA & NA & ENSG00000147133.17 & ⋯ & 0.2363831 & -0.21952325 & 0.82624247 & 0.9999996 &   68 & ENSG00000147133.17 & ENSG00000147133 & TAF1 & 6872 & Mature\\_organoids\\_all\\_comparison\\_design1\\_deseq2\\\\\n",
       "\t chrX & 71454741 & 71454857 &  117 & + & HAVANA & exon & NA & NA & ENSG00000147133.17 & ⋯ & 0.2157454 & -0.65424153 & 0.51295621 & 0.9999996 &  117 & ENSG00000147133.17 & ENSG00000147133 & TAF1 & 6872 & Mature\\_organoids\\_all\\_comparison\\_design1\\_deseq2\\\\\n",
       "\t chrX & 71458241 & 71458366 &  126 & + & HAVANA & exon & NA & NA & ENSG00000147133.17 & ⋯ & 0.2819981 & -1.06464256 & 0.28703771 & 0.9999996 &  126 & ENSG00000147133.17 & ENSG00000147133 & TAF1 & 6872 & Mature\\_organoids\\_all\\_comparison\\_design1\\_deseq2\\\\\n",
       "\t chrX & 71459552 & 71459708 &  157 & + & HAVANA & exon & NA & NA & ENSG00000147133.17 & ⋯ & 0.3046909 & -0.50555899 & 0.61316628 & 0.9999996 &  157 & ENSG00000147133.17 & ENSG00000147133 & TAF1 & 6872 & Mature\\_organoids\\_all\\_comparison\\_design1\\_deseq2\\\\\n",
       "\t chrX & 71460626 & 71460803 &  178 & + & HAVANA & exon & NA & NA & ENSG00000147133.17 & ⋯ & 0.3293636 & -0.05395671 & 0.95696966 & 0.9999996 &  178 & ENSG00000147133.17 & ENSG00000147133 & TAF1 & 6872 & Mature\\_organoids\\_all\\_comparison\\_design1\\_deseq2\\\\\n",
       "\t chrX & 71463824 & 71466005 & 2182 & + & HAVANA & exon & NA & NA & ENSG00000147133.17 & ⋯ & 0.1646417 &  0.15407434 & 0.87755112 & 0.9999996 & 2182 & ENSG00000147133.17 & ENSG00000147133 & TAF1 & 6872 & Mature\\_organoids\\_all\\_comparison\\_design1\\_deseq2\\\\\n",
       "\\end{tabular}\n"
      ],
      "text/markdown": [
       "\n",
       "A data.frame: 494 × 40\n",
       "\n",
       "| seqnames &lt;fct&gt; | start &lt;int&gt; | end &lt;int&gt; | width &lt;int&gt; | strand &lt;fct&gt; | source &lt;fct&gt; | type &lt;fct&gt; | score &lt;dbl&gt; | phase &lt;int&gt; | gene_id &lt;chr&gt; | ⋯ ⋯ | lfcSE &lt;dbl&gt; | stat &lt;dbl&gt; | pvalue &lt;dbl&gt; | padj &lt;dbl&gt; | Length &lt;int&gt; | gencodeID &lt;chr&gt; | ensemblID &lt;chr&gt; | Symbol &lt;chr&gt; | EntrezID &lt;int&gt; | filename &lt;chr&gt; |\n",
       "|---|---|---|---|---|---|---|---|---|---|---|---|---|---|---|---|---|---|---|---|---|\n",
       "| chrX | 71366357 | 71366494 | 138 | + | HAVANA | exon | NA | NA | ENSG00000147133.17 | ⋯ | 2.8839956 | -0.25836738 | 0.79612339 |        NA | 138 | ENSG00000147133.17 | ENSG00000147133 | TAF1 | 6872 | Day120_All_Male_Pairwise_controldelta_deseq2 |\n",
       "| chrX | 71367499 | 71367613 | 115 | + | HAVANA | exon | NA | NA | ENSG00000147133.17 | ⋯ | 0.6299088 | -0.43478295 | 0.66371998 |        NA | 115 | ENSG00000147133.17 | ENSG00000147133 | TAF1 | 6872 | Day120_All_Male_Pairwise_controldelta_deseq2 |\n",
       "| chrX | 71368054 | 71368170 | 117 | + | HAVANA | exon | NA | NA | ENSG00000147133.17 | ⋯ | 0.4510797 | -0.33422636 | 0.73820876 | 0.9876136 | 117 | ENSG00000147133.17 | ENSG00000147133 | TAF1 | 6872 | Day120_All_Male_Pairwise_controldelta_deseq2 |\n",
       "| chrX | 71375167 | 71375286 | 120 | + | HAVANA | exon | NA | NA | ENSG00000147133.17 | ⋯ | 0.4413288 | -0.08731141 | 0.93042398 | 0.9967020 | 120 | ENSG00000147133.17 | ENSG00000147133 | TAF1 | 6872 | Day120_All_Male_Pairwise_controldelta_deseq2 |\n",
       "| chrX | 71376950 | 71377191 | 242 | + | HAVANA | exon | NA | NA | ENSG00000147133.17 | ⋯ | 0.3927517 | -0.76318352 | 0.44535396 | 0.9440471 | 242 | ENSG00000147133.17 | ENSG00000147133 | TAF1 | 6872 | Day120_All_Male_Pairwise_controldelta_deseq2 |\n",
       "| chrX | 71377603 | 71377821 | 219 | + | HAVANA | exon | NA | NA | ENSG00000147133.17 | ⋯ | 0.3745720 | -0.52766825 | 0.59772961 | 0.9744175 | 219 | ENSG00000147133.17 | ENSG00000147133 | TAF1 | 6872 | Day120_All_Male_Pairwise_controldelta_deseq2 |\n",
       "| chrX | 71378235 | 71378453 | 219 | + | HAVANA | exon | NA | NA | ENSG00000147133.17 | ⋯ | 0.3011086 | -0.32109339 | 0.74813962 | 0.9882795 | 219 | ENSG00000147133.17 | ENSG00000147133 | TAF1 | 6872 | Day120_All_Male_Pairwise_controldelta_deseq2 |\n",
       "| chrX | 71378824 | 71379031 | 208 | + | HAVANA | exon | NA | NA | ENSG00000147133.17 | ⋯ | 0.3333531 | -0.59458448 | 0.55212126 | 0.9674580 | 208 | ENSG00000147133.17 | ENSG00000147133 | TAF1 | 6872 | Day120_All_Male_Pairwise_controldelta_deseq2 |\n",
       "| chrX | 71381743 | 71381919 | 177 | + | HAVANA | exon | NA | NA | ENSG00000147133.17 | ⋯ | 0.3471289 | -0.67620451 | 0.49891081 | 0.9565303 | 177 | ENSG00000147133.17 | ENSG00000147133 | TAF1 | 6872 | Day120_All_Male_Pairwise_controldelta_deseq2 |\n",
       "| chrX | 71382536 | 71382663 | 128 | + | HAVANA | exon | NA | NA | ENSG00000147133.17 | ⋯ | 0.3197973 | -1.08140808 | 0.27951563 | 0.8734960 | 128 | ENSG00000147133.17 | ENSG00000147133 | TAF1 | 6872 | Day120_All_Male_Pairwise_controldelta_deseq2 |\n",
       "| chrX | 71382761 | 71382868 | 108 | + | HAVANA | exon | NA | NA | ENSG00000147133.17 | ⋯ | 0.3321353 | -1.10819002 | 0.26777976 | 0.8657767 | 108 | ENSG00000147133.17 | ENSG00000147133 | TAF1 | 6872 | Day120_All_Male_Pairwise_controldelta_deseq2 |\n",
       "| chrX | 71382991 | 71383164 | 174 | + | HAVANA | exon | NA | NA | ENSG00000147133.17 | ⋯ | 0.3411297 | -1.04036981 | 0.29816812 | 0.8860117 | 174 | ENSG00000147133.17 | ENSG00000147133 | TAF1 | 6872 | Day120_All_Male_Pairwise_controldelta_deseq2 |\n",
       "| chrX | 71383962 | 71384135 | 174 | + | HAVANA | exon | NA | NA | ENSG00000147133.17 | ⋯ | 0.3095654 | -0.81741196 | 0.41369304 | 0.9341394 | 174 | ENSG00000147133.17 | ENSG00000147133 | TAF1 | 6872 | Day120_All_Male_Pairwise_controldelta_deseq2 |\n",
       "| chrX | 71384945 | 71385049 | 105 | + | HAVANA | exon | NA | NA | ENSG00000147133.17 | ⋯ | 0.3309528 | -0.76058314 | 0.44690609 | 0.9445366 | 105 | ENSG00000147133.17 | ENSG00000147133 | TAF1 | 6872 | Day120_All_Male_Pairwise_controldelta_deseq2 |\n",
       "| chrX | 71387261 | 71387461 | 201 | + | HAVANA | exon | NA | NA | ENSG00000147133.17 | ⋯ | 0.3307829 | -1.03926665 | 0.29868074 | 0.8863886 | 201 | ENSG00000147133.17 | ENSG00000147133 | TAF1 | 6872 | Day120_All_Male_Pairwise_controldelta_deseq2 |\n",
       "| chrX | 71388237 | 71388378 | 142 | + | HAVANA | exon | NA | NA | ENSG00000147133.17 | ⋯ | 0.3852521 | -1.16488673 | 0.24406484 | 0.8482910 | 142 | ENSG00000147133.17 | ENSG00000147133 | TAF1 | 6872 | Day120_All_Male_Pairwise_controldelta_deseq2 |\n",
       "| chrX | 71388738 | 71388868 | 131 | + | HAVANA | exon | NA | NA | ENSG00000147133.17 | ⋯ | 0.4154694 | -0.26051631 | 0.79446554 | 0.9908529 | 131 | ENSG00000147133.17 | ENSG00000147133 | TAF1 | 6872 | Day120_All_Male_Pairwise_controldelta_deseq2 |\n",
       "| chrX | 71389585 | 71389665 |  81 | + | HAVANA | exon | NA | NA | ENSG00000147133.17 | ⋯ | 0.4238842 | -0.02955317 | 0.97642341 | 0.9985080 |  81 | ENSG00000147133.17 | ENSG00000147133 | TAF1 | 6872 | Day120_All_Male_Pairwise_controldelta_deseq2 |\n",
       "| chrX | 71392569 | 71392718 | 150 | + | HAVANA | exon | NA | NA | ENSG00000147133.17 | ⋯ | 0.5082586 | -1.06282158 | 0.28786287 | 0.8785568 | 150 | ENSG00000147133.17 | ENSG00000147133 | TAF1 | 6872 | Day120_All_Male_Pairwise_controldelta_deseq2 |\n",
       "| chrX | 71392875 | 71392994 | 120 | + | HAVANA | exon | NA | NA | ENSG00000147133.17 | ⋯ | 0.4701331 | -1.79135988 | 0.07323556 | 0.5573319 | 120 | ENSG00000147133.17 | ENSG00000147133 | TAF1 | 6872 | Day120_All_Male_Pairwise_controldelta_deseq2 |\n",
       "| chrX | 71393301 | 71393476 | 176 | + | HAVANA | exon | NA | NA | ENSG00000147133.17 | ⋯ | 0.3862607 | -0.33056507 | 0.74097303 | 0.9877199 | 176 | ENSG00000147133.17 | ENSG00000147133 | TAF1 | 6872 | Day120_All_Male_Pairwise_controldelta_deseq2 |\n",
       "| chrX | 71394067 | 71394245 | 179 | + | HAVANA | exon | NA | NA | ENSG00000147133.17 | ⋯ | 0.3659357 |  0.23827250 | 0.81166975 | 0.9916618 | 179 | ENSG00000147133.17 | ENSG00000147133 | TAF1 | 6872 | Day120_All_Male_Pairwise_controldelta_deseq2 |\n",
       "| chrX | 71397253 | 71397466 | 214 | + | HAVANA | exon | NA | NA | ENSG00000147133.17 | ⋯ | 0.3773479 | -0.18337999 | 0.85449988 | 0.9946201 | 214 | ENSG00000147133.17 | ENSG00000147133 | TAF1 | 6872 | Day120_All_Male_Pairwise_controldelta_deseq2 |\n",
       "| chrX | 71398572 | 71398737 | 166 | + | HAVANA | exon | NA | NA | ENSG00000147133.17 | ⋯ | 0.3590865 | -1.29450235 | 0.19549196 | 0.8012448 | 166 | ENSG00000147133.17 | ENSG00000147133 | TAF1 | 6872 | Day120_All_Male_Pairwise_controldelta_deseq2 |\n",
       "| chrX | 71401528 | 71401739 | 212 | + | HAVANA | exon | NA | NA | ENSG00000147133.17 | ⋯ | 0.3004347 | -1.20929824 | 0.22654829 | 0.8321599 | 212 | ENSG00000147133.17 | ENSG00000147133 | TAF1 | 6872 | Day120_All_Male_Pairwise_controldelta_deseq2 |\n",
       "| chrX | 71406638 | 71406746 | 109 | + | HAVANA | exon | NA | NA | ENSG00000147133.17 | ⋯ | 0.3876234 | -0.69711481 | 0.48573095 | 0.9546147 | 109 | ENSG00000147133.17 | ENSG00000147133 | TAF1 | 6872 | Day120_All_Male_Pairwise_controldelta_deseq2 |\n",
       "| chrX | 71407574 | 71407672 |  99 | + | HAVANA | exon | NA | NA | ENSG00000147133.17 | ⋯ | 0.4829648 |  0.29273831 | 0.76972219 | 0.9894755 |  99 | ENSG00000147133.17 | ENSG00000147133 | TAF1 | 6872 | Day120_All_Male_Pairwise_controldelta_deseq2 |\n",
       "| chrX | 71407974 | 71408151 | 178 | + | HAVANA | exon | NA | NA | ENSG00000147133.17 | ⋯ | 0.3396126 | -0.32304145 | 0.74666385 | 0.9881630 | 178 | ENSG00000147133.17 | ENSG00000147133 | TAF1 | 6872 | Day120_All_Male_Pairwise_controldelta_deseq2 |\n",
       "| chrX | 71421309 | 71421376 |  68 | + | HAVANA | exon | NA | NA | ENSG00000147133.17 | ⋯ | 0.3570585 | -0.27549911 | 0.78293281 | 0.9903847 |  68 | ENSG00000147133.17 | ENSG00000147133 | TAF1 | 6872 | Day120_All_Male_Pairwise_controldelta_deseq2 |\n",
       "| chrX | 71423117 | 71423239 | 123 | + | HAVANA | exon | NA | NA | ENSG00000147133.17 | ⋯ | 0.2882234 | -0.56789989 | 0.57010295 | 0.9706643 | 123 | ENSG00000147133.17 | ENSG00000147133 | TAF1 | 6872 | Day120_All_Male_Pairwise_controldelta_deseq2 |\n",
       "| ⋮ | ⋮ | ⋮ | ⋮ | ⋮ | ⋮ | ⋮ | ⋮ | ⋮ | ⋮ | ⋱ | ⋮ | ⋮ | ⋮ | ⋮ | ⋮ | ⋮ | ⋮ | ⋮ | ⋮ | ⋮ |\n",
       "| chrX | 71381743 | 71381919 |  177 | + | HAVANA | exon | NA | NA | ENSG00000147133.17 | ⋯ | 0.3178317 | -1.20564629 | 0.22795390 | 0.9999996 |  177 | ENSG00000147133.17 | ENSG00000147133 | TAF1 | 6872 | Mature_organoids_all_comparison_design1_deseq2 |\n",
       "| chrX | 71382536 | 71382663 |  128 | + | HAVANA | exon | NA | NA | ENSG00000147133.17 | ⋯ | 0.2606408 | -0.03877354 | 0.96907094 | 0.9999996 |  128 | ENSG00000147133.17 | ENSG00000147133 | TAF1 | 6872 | Mature_organoids_all_comparison_design1_deseq2 |\n",
       "| chrX | 71382761 | 71382868 |  108 | + | HAVANA | exon | NA | NA | ENSG00000147133.17 | ⋯ | 0.2671252 |  0.85496952 | 0.39256802 | 0.9999996 |  108 | ENSG00000147133.17 | ENSG00000147133 | TAF1 | 6872 | Mature_organoids_all_comparison_design1_deseq2 |\n",
       "| chrX | 71382991 | 71383164 |  174 | + | HAVANA | exon | NA | NA | ENSG00000147133.17 | ⋯ | 0.3005002 |  0.44131837 | 0.65898253 | 0.9999996 |  174 | ENSG00000147133.17 | ENSG00000147133 | TAF1 | 6872 | Mature_organoids_all_comparison_design1_deseq2 |\n",
       "| chrX | 71383962 | 71384135 |  174 | + | HAVANA | exon | NA | NA | ENSG00000147133.17 | ⋯ | 0.2275133 |  0.95112736 | 0.34153973 | 0.9999996 |  174 | ENSG00000147133.17 | ENSG00000147133 | TAF1 | 6872 | Mature_organoids_all_comparison_design1_deseq2 |\n",
       "| chrX | 71384945 | 71385049 |  105 | + | HAVANA | exon | NA | NA | ENSG00000147133.17 | ⋯ | 0.2033146 |  0.73117361 | 0.46467312 | 0.9999996 |  105 | ENSG00000147133.17 | ENSG00000147133 | TAF1 | 6872 | Mature_organoids_all_comparison_design1_deseq2 |\n",
       "| chrX | 71387261 | 71387461 |  201 | + | HAVANA | exon | NA | NA | ENSG00000147133.17 | ⋯ | 0.2109785 | -0.15731890 | 0.87499352 | 0.9999996 |  201 | ENSG00000147133.17 | ENSG00000147133 | TAF1 | 6872 | Mature_organoids_all_comparison_design1_deseq2 |\n",
       "| chrX | 71388237 | 71388378 |  142 | + | HAVANA | exon | NA | NA | ENSG00000147133.17 | ⋯ | 0.2482987 | -0.75044201 | 0.45298854 | 0.9999996 |  142 | ENSG00000147133.17 | ENSG00000147133 | TAF1 | 6872 | Mature_organoids_all_comparison_design1_deseq2 |\n",
       "| chrX | 71388738 | 71388868 |  131 | + | HAVANA | exon | NA | NA | ENSG00000147133.17 | ⋯ | 0.3292174 |  0.18871170 | 0.85031878 | 0.9999996 |  131 | ENSG00000147133.17 | ENSG00000147133 | TAF1 | 6872 | Mature_organoids_all_comparison_design1_deseq2 |\n",
       "| chrX | 71389585 | 71389665 |   81 | + | HAVANA | exon | NA | NA | ENSG00000147133.17 | ⋯ | 0.2848120 |  0.17211539 | 0.86334681 | 0.9999996 |   81 | ENSG00000147133.17 | ENSG00000147133 | TAF1 | 6872 | Mature_organoids_all_comparison_design1_deseq2 |\n",
       "| chrX | 71392569 | 71392718 |  150 | + | HAVANA | exon | NA | NA | ENSG00000147133.17 | ⋯ | 0.4659944 | -1.05226122 | 0.29267972 | 0.9999996 |  150 | ENSG00000147133.17 | ENSG00000147133 | TAF1 | 6872 | Mature_organoids_all_comparison_design1_deseq2 |\n",
       "| chrX | 71392875 | 71392994 |  120 | + | HAVANA | exon | NA | NA | ENSG00000147133.17 | ⋯ | 0.4936757 | -0.69782612 | 0.48528594 | 0.9999996 |  120 | ENSG00000147133.17 | ENSG00000147133 | TAF1 | 6872 | Mature_organoids_all_comparison_design1_deseq2 |\n",
       "| chrX | 71393301 | 71393476 |  176 | + | HAVANA | exon | NA | NA | ENSG00000147133.17 | ⋯ | 0.3501136 | -0.73409056 | 0.46289355 | 0.9999996 |  176 | ENSG00000147133.17 | ENSG00000147133 | TAF1 | 6872 | Mature_organoids_all_comparison_design1_deseq2 |\n",
       "| chrX | 71394067 | 71394245 |  179 | + | HAVANA | exon | NA | NA | ENSG00000147133.17 | ⋯ | 0.2710071 | -1.01228871 | 0.31140003 | 0.9999996 |  179 | ENSG00000147133.17 | ENSG00000147133 | TAF1 | 6872 | Mature_organoids_all_comparison_design1_deseq2 |\n",
       "| chrX | 71397253 | 71397466 |  214 | + | HAVANA | exon | NA | NA | ENSG00000147133.17 | ⋯ | 0.3980686 | -1.05838407 | 0.28988038 | 0.9999996 |  214 | ENSG00000147133.17 | ENSG00000147133 | TAF1 | 6872 | Mature_organoids_all_comparison_design1_deseq2 |\n",
       "| chrX | 71398572 | 71398737 |  166 | + | HAVANA | exon | NA | NA | ENSG00000147133.17 | ⋯ | 0.3288550 | -2.04921722 | 0.04044088 | 0.9999996 |  166 | ENSG00000147133.17 | ENSG00000147133 | TAF1 | 6872 | Mature_organoids_all_comparison_design1_deseq2 |\n",
       "| chrX | 71401528 | 71401739 |  212 | + | HAVANA | exon | NA | NA | ENSG00000147133.17 | ⋯ | 0.2376246 | -0.06221636 | 0.95039054 | 0.9999996 |  212 | ENSG00000147133.17 | ENSG00000147133 | TAF1 | 6872 | Mature_organoids_all_comparison_design1_deseq2 |\n",
       "| chrX | 71406638 | 71406746 |  109 | + | HAVANA | exon | NA | NA | ENSG00000147133.17 | ⋯ | 0.3611653 | -0.76887565 | 0.44196713 | 0.9999996 |  109 | ENSG00000147133.17 | ENSG00000147133 | TAF1 | 6872 | Mature_organoids_all_comparison_design1_deseq2 |\n",
       "| chrX | 71407574 | 71407672 |   99 | + | HAVANA | exon | NA | NA | ENSG00000147133.17 | ⋯ | 0.3576033 | -0.67676276 | 0.49855649 | 0.9999996 |   99 | ENSG00000147133.17 | ENSG00000147133 | TAF1 | 6872 | Mature_organoids_all_comparison_design1_deseq2 |\n",
       "| chrX | 71407974 | 71408151 |  178 | + | HAVANA | exon | NA | NA | ENSG00000147133.17 | ⋯ | 0.3007278 | -0.67633926 | 0.49882527 | 0.9999996 |  178 | ENSG00000147133.17 | ENSG00000147133 | TAF1 | 6872 | Mature_organoids_all_comparison_design1_deseq2 |\n",
       "| chrX | 71421309 | 71421376 |   68 | + | HAVANA | exon | NA | NA | ENSG00000147133.17 | ⋯ | 0.2350215 |  0.22890029 | 0.81894641 | 0.9999996 |   68 | ENSG00000147133.17 | ENSG00000147133 | TAF1 | 6872 | Mature_organoids_all_comparison_design1_deseq2 |\n",
       "| chrX | 71423117 | 71423239 |  123 | + | HAVANA | exon | NA | NA | ENSG00000147133.17 | ⋯ | 0.1852513 | -0.39016288 | 0.69641611 | 0.9999996 |  123 | ENSG00000147133.17 | ENSG00000147133 | TAF1 | 6872 | Mature_organoids_all_comparison_design1_deseq2 |\n",
       "| chrX | 71423974 | 71424066 |   93 | + | HAVANA | exon | NA | NA | ENSG00000147133.17 | ⋯ | 0.2294922 |  1.15846603 | 0.24667391 | 0.9999996 |   93 | ENSG00000147133.17 | ENSG00000147133 | TAF1 | 6872 | Mature_organoids_all_comparison_design1_deseq2 |\n",
       "| chrX | 71424154 | 71424238 |   85 | + | HAVANA | exon | NA | NA | ENSG00000147133.17 | ⋯ | 0.2134892 |  1.19412160 | 0.23243040 | 0.9999996 |   85 | ENSG00000147133.17 | ENSG00000147133 | TAF1 | 6872 | Mature_organoids_all_comparison_design1_deseq2 |\n",
       "| chrX | 71454170 | 71454237 |   68 | + | HAVANA | exon | NA | NA | ENSG00000147133.17 | ⋯ | 0.2363831 | -0.21952325 | 0.82624247 | 0.9999996 |   68 | ENSG00000147133.17 | ENSG00000147133 | TAF1 | 6872 | Mature_organoids_all_comparison_design1_deseq2 |\n",
       "| chrX | 71454741 | 71454857 |  117 | + | HAVANA | exon | NA | NA | ENSG00000147133.17 | ⋯ | 0.2157454 | -0.65424153 | 0.51295621 | 0.9999996 |  117 | ENSG00000147133.17 | ENSG00000147133 | TAF1 | 6872 | Mature_organoids_all_comparison_design1_deseq2 |\n",
       "| chrX | 71458241 | 71458366 |  126 | + | HAVANA | exon | NA | NA | ENSG00000147133.17 | ⋯ | 0.2819981 | -1.06464256 | 0.28703771 | 0.9999996 |  126 | ENSG00000147133.17 | ENSG00000147133 | TAF1 | 6872 | Mature_organoids_all_comparison_design1_deseq2 |\n",
       "| chrX | 71459552 | 71459708 |  157 | + | HAVANA | exon | NA | NA | ENSG00000147133.17 | ⋯ | 0.3046909 | -0.50555899 | 0.61316628 | 0.9999996 |  157 | ENSG00000147133.17 | ENSG00000147133 | TAF1 | 6872 | Mature_organoids_all_comparison_design1_deseq2 |\n",
       "| chrX | 71460626 | 71460803 |  178 | + | HAVANA | exon | NA | NA | ENSG00000147133.17 | ⋯ | 0.3293636 | -0.05395671 | 0.95696966 | 0.9999996 |  178 | ENSG00000147133.17 | ENSG00000147133 | TAF1 | 6872 | Mature_organoids_all_comparison_design1_deseq2 |\n",
       "| chrX | 71463824 | 71466005 | 2182 | + | HAVANA | exon | NA | NA | ENSG00000147133.17 | ⋯ | 0.1646417 |  0.15407434 | 0.87755112 | 0.9999996 | 2182 | ENSG00000147133.17 | ENSG00000147133 | TAF1 | 6872 | Mature_organoids_all_comparison_design1_deseq2 |\n",
       "\n"
      ],
      "text/plain": [
       "    seqnames start    end      width strand source type score phase\n",
       "1   chrX     71366357 71366494 138   +      HAVANA exon NA    NA   \n",
       "2   chrX     71367499 71367613 115   +      HAVANA exon NA    NA   \n",
       "3   chrX     71368054 71368170 117   +      HAVANA exon NA    NA   \n",
       "4   chrX     71375167 71375286 120   +      HAVANA exon NA    NA   \n",
       "5   chrX     71376950 71377191 242   +      HAVANA exon NA    NA   \n",
       "6   chrX     71377603 71377821 219   +      HAVANA exon NA    NA   \n",
       "7   chrX     71378235 71378453 219   +      HAVANA exon NA    NA   \n",
       "8   chrX     71378824 71379031 208   +      HAVANA exon NA    NA   \n",
       "9   chrX     71381743 71381919 177   +      HAVANA exon NA    NA   \n",
       "10  chrX     71382536 71382663 128   +      HAVANA exon NA    NA   \n",
       "11  chrX     71382761 71382868 108   +      HAVANA exon NA    NA   \n",
       "12  chrX     71382991 71383164 174   +      HAVANA exon NA    NA   \n",
       "13  chrX     71383962 71384135 174   +      HAVANA exon NA    NA   \n",
       "14  chrX     71384945 71385049 105   +      HAVANA exon NA    NA   \n",
       "15  chrX     71387261 71387461 201   +      HAVANA exon NA    NA   \n",
       "16  chrX     71388237 71388378 142   +      HAVANA exon NA    NA   \n",
       "17  chrX     71388738 71388868 131   +      HAVANA exon NA    NA   \n",
       "18  chrX     71389585 71389665  81   +      HAVANA exon NA    NA   \n",
       "19  chrX     71392569 71392718 150   +      HAVANA exon NA    NA   \n",
       "20  chrX     71392875 71392994 120   +      HAVANA exon NA    NA   \n",
       "21  chrX     71393301 71393476 176   +      HAVANA exon NA    NA   \n",
       "22  chrX     71394067 71394245 179   +      HAVANA exon NA    NA   \n",
       "23  chrX     71397253 71397466 214   +      HAVANA exon NA    NA   \n",
       "24  chrX     71398572 71398737 166   +      HAVANA exon NA    NA   \n",
       "25  chrX     71401528 71401739 212   +      HAVANA exon NA    NA   \n",
       "26  chrX     71406638 71406746 109   +      HAVANA exon NA    NA   \n",
       "27  chrX     71407574 71407672  99   +      HAVANA exon NA    NA   \n",
       "28  chrX     71407974 71408151 178   +      HAVANA exon NA    NA   \n",
       "29  chrX     71421309 71421376  68   +      HAVANA exon NA    NA   \n",
       "30  chrX     71423117 71423239 123   +      HAVANA exon NA    NA   \n",
       "⋮   ⋮        ⋮        ⋮        ⋮     ⋮      ⋮      ⋮    ⋮     ⋮    \n",
       "465 chrX     71381743 71381919  177  +      HAVANA exon NA    NA   \n",
       "466 chrX     71382536 71382663  128  +      HAVANA exon NA    NA   \n",
       "467 chrX     71382761 71382868  108  +      HAVANA exon NA    NA   \n",
       "468 chrX     71382991 71383164  174  +      HAVANA exon NA    NA   \n",
       "469 chrX     71383962 71384135  174  +      HAVANA exon NA    NA   \n",
       "470 chrX     71384945 71385049  105  +      HAVANA exon NA    NA   \n",
       "471 chrX     71387261 71387461  201  +      HAVANA exon NA    NA   \n",
       "472 chrX     71388237 71388378  142  +      HAVANA exon NA    NA   \n",
       "473 chrX     71388738 71388868  131  +      HAVANA exon NA    NA   \n",
       "474 chrX     71389585 71389665   81  +      HAVANA exon NA    NA   \n",
       "475 chrX     71392569 71392718  150  +      HAVANA exon NA    NA   \n",
       "476 chrX     71392875 71392994  120  +      HAVANA exon NA    NA   \n",
       "477 chrX     71393301 71393476  176  +      HAVANA exon NA    NA   \n",
       "478 chrX     71394067 71394245  179  +      HAVANA exon NA    NA   \n",
       "479 chrX     71397253 71397466  214  +      HAVANA exon NA    NA   \n",
       "480 chrX     71398572 71398737  166  +      HAVANA exon NA    NA   \n",
       "481 chrX     71401528 71401739  212  +      HAVANA exon NA    NA   \n",
       "482 chrX     71406638 71406746  109  +      HAVANA exon NA    NA   \n",
       "483 chrX     71407574 71407672   99  +      HAVANA exon NA    NA   \n",
       "484 chrX     71407974 71408151  178  +      HAVANA exon NA    NA   \n",
       "485 chrX     71421309 71421376   68  +      HAVANA exon NA    NA   \n",
       "486 chrX     71423117 71423239  123  +      HAVANA exon NA    NA   \n",
       "487 chrX     71423974 71424066   93  +      HAVANA exon NA    NA   \n",
       "488 chrX     71424154 71424238   85  +      HAVANA exon NA    NA   \n",
       "489 chrX     71454170 71454237   68  +      HAVANA exon NA    NA   \n",
       "490 chrX     71454741 71454857  117  +      HAVANA exon NA    NA   \n",
       "491 chrX     71458241 71458366  126  +      HAVANA exon NA    NA   \n",
       "492 chrX     71459552 71459708  157  +      HAVANA exon NA    NA   \n",
       "493 chrX     71460626 71460803  178  +      HAVANA exon NA    NA   \n",
       "494 chrX     71463824 71466005 2182  +      HAVANA exon NA    NA   \n",
       "    gene_id            ⋯ lfcSE     stat        pvalue     padj      Length\n",
       "1   ENSG00000147133.17 ⋯ 2.8839956 -0.25836738 0.79612339        NA 138   \n",
       "2   ENSG00000147133.17 ⋯ 0.6299088 -0.43478295 0.66371998        NA 115   \n",
       "3   ENSG00000147133.17 ⋯ 0.4510797 -0.33422636 0.73820876 0.9876136 117   \n",
       "4   ENSG00000147133.17 ⋯ 0.4413288 -0.08731141 0.93042398 0.9967020 120   \n",
       "5   ENSG00000147133.17 ⋯ 0.3927517 -0.76318352 0.44535396 0.9440471 242   \n",
       "6   ENSG00000147133.17 ⋯ 0.3745720 -0.52766825 0.59772961 0.9744175 219   \n",
       "7   ENSG00000147133.17 ⋯ 0.3011086 -0.32109339 0.74813962 0.9882795 219   \n",
       "8   ENSG00000147133.17 ⋯ 0.3333531 -0.59458448 0.55212126 0.9674580 208   \n",
       "9   ENSG00000147133.17 ⋯ 0.3471289 -0.67620451 0.49891081 0.9565303 177   \n",
       "10  ENSG00000147133.17 ⋯ 0.3197973 -1.08140808 0.27951563 0.8734960 128   \n",
       "11  ENSG00000147133.17 ⋯ 0.3321353 -1.10819002 0.26777976 0.8657767 108   \n",
       "12  ENSG00000147133.17 ⋯ 0.3411297 -1.04036981 0.29816812 0.8860117 174   \n",
       "13  ENSG00000147133.17 ⋯ 0.3095654 -0.81741196 0.41369304 0.9341394 174   \n",
       "14  ENSG00000147133.17 ⋯ 0.3309528 -0.76058314 0.44690609 0.9445366 105   \n",
       "15  ENSG00000147133.17 ⋯ 0.3307829 -1.03926665 0.29868074 0.8863886 201   \n",
       "16  ENSG00000147133.17 ⋯ 0.3852521 -1.16488673 0.24406484 0.8482910 142   \n",
       "17  ENSG00000147133.17 ⋯ 0.4154694 -0.26051631 0.79446554 0.9908529 131   \n",
       "18  ENSG00000147133.17 ⋯ 0.4238842 -0.02955317 0.97642341 0.9985080  81   \n",
       "19  ENSG00000147133.17 ⋯ 0.5082586 -1.06282158 0.28786287 0.8785568 150   \n",
       "20  ENSG00000147133.17 ⋯ 0.4701331 -1.79135988 0.07323556 0.5573319 120   \n",
       "21  ENSG00000147133.17 ⋯ 0.3862607 -0.33056507 0.74097303 0.9877199 176   \n",
       "22  ENSG00000147133.17 ⋯ 0.3659357  0.23827250 0.81166975 0.9916618 179   \n",
       "23  ENSG00000147133.17 ⋯ 0.3773479 -0.18337999 0.85449988 0.9946201 214   \n",
       "24  ENSG00000147133.17 ⋯ 0.3590865 -1.29450235 0.19549196 0.8012448 166   \n",
       "25  ENSG00000147133.17 ⋯ 0.3004347 -1.20929824 0.22654829 0.8321599 212   \n",
       "26  ENSG00000147133.17 ⋯ 0.3876234 -0.69711481 0.48573095 0.9546147 109   \n",
       "27  ENSG00000147133.17 ⋯ 0.4829648  0.29273831 0.76972219 0.9894755  99   \n",
       "28  ENSG00000147133.17 ⋯ 0.3396126 -0.32304145 0.74666385 0.9881630 178   \n",
       "29  ENSG00000147133.17 ⋯ 0.3570585 -0.27549911 0.78293281 0.9903847  68   \n",
       "30  ENSG00000147133.17 ⋯ 0.2882234 -0.56789989 0.57010295 0.9706643 123   \n",
       "⋮   ⋮                  ⋱ ⋮         ⋮           ⋮          ⋮         ⋮     \n",
       "465 ENSG00000147133.17 ⋯ 0.3178317 -1.20564629 0.22795390 0.9999996  177  \n",
       "466 ENSG00000147133.17 ⋯ 0.2606408 -0.03877354 0.96907094 0.9999996  128  \n",
       "467 ENSG00000147133.17 ⋯ 0.2671252  0.85496952 0.39256802 0.9999996  108  \n",
       "468 ENSG00000147133.17 ⋯ 0.3005002  0.44131837 0.65898253 0.9999996  174  \n",
       "469 ENSG00000147133.17 ⋯ 0.2275133  0.95112736 0.34153973 0.9999996  174  \n",
       "470 ENSG00000147133.17 ⋯ 0.2033146  0.73117361 0.46467312 0.9999996  105  \n",
       "471 ENSG00000147133.17 ⋯ 0.2109785 -0.15731890 0.87499352 0.9999996  201  \n",
       "472 ENSG00000147133.17 ⋯ 0.2482987 -0.75044201 0.45298854 0.9999996  142  \n",
       "473 ENSG00000147133.17 ⋯ 0.3292174  0.18871170 0.85031878 0.9999996  131  \n",
       "474 ENSG00000147133.17 ⋯ 0.2848120  0.17211539 0.86334681 0.9999996   81  \n",
       "475 ENSG00000147133.17 ⋯ 0.4659944 -1.05226122 0.29267972 0.9999996  150  \n",
       "476 ENSG00000147133.17 ⋯ 0.4936757 -0.69782612 0.48528594 0.9999996  120  \n",
       "477 ENSG00000147133.17 ⋯ 0.3501136 -0.73409056 0.46289355 0.9999996  176  \n",
       "478 ENSG00000147133.17 ⋯ 0.2710071 -1.01228871 0.31140003 0.9999996  179  \n",
       "479 ENSG00000147133.17 ⋯ 0.3980686 -1.05838407 0.28988038 0.9999996  214  \n",
       "480 ENSG00000147133.17 ⋯ 0.3288550 -2.04921722 0.04044088 0.9999996  166  \n",
       "481 ENSG00000147133.17 ⋯ 0.2376246 -0.06221636 0.95039054 0.9999996  212  \n",
       "482 ENSG00000147133.17 ⋯ 0.3611653 -0.76887565 0.44196713 0.9999996  109  \n",
       "483 ENSG00000147133.17 ⋯ 0.3576033 -0.67676276 0.49855649 0.9999996   99  \n",
       "484 ENSG00000147133.17 ⋯ 0.3007278 -0.67633926 0.49882527 0.9999996  178  \n",
       "485 ENSG00000147133.17 ⋯ 0.2350215  0.22890029 0.81894641 0.9999996   68  \n",
       "486 ENSG00000147133.17 ⋯ 0.1852513 -0.39016288 0.69641611 0.9999996  123  \n",
       "487 ENSG00000147133.17 ⋯ 0.2294922  1.15846603 0.24667391 0.9999996   93  \n",
       "488 ENSG00000147133.17 ⋯ 0.2134892  1.19412160 0.23243040 0.9999996   85  \n",
       "489 ENSG00000147133.17 ⋯ 0.2363831 -0.21952325 0.82624247 0.9999996   68  \n",
       "490 ENSG00000147133.17 ⋯ 0.2157454 -0.65424153 0.51295621 0.9999996  117  \n",
       "491 ENSG00000147133.17 ⋯ 0.2819981 -1.06464256 0.28703771 0.9999996  126  \n",
       "492 ENSG00000147133.17 ⋯ 0.3046909 -0.50555899 0.61316628 0.9999996  157  \n",
       "493 ENSG00000147133.17 ⋯ 0.3293636 -0.05395671 0.95696966 0.9999996  178  \n",
       "494 ENSG00000147133.17 ⋯ 0.1646417  0.15407434 0.87755112 0.9999996 2182  \n",
       "    gencodeID          ensemblID       Symbol EntrezID\n",
       "1   ENSG00000147133.17 ENSG00000147133 TAF1   6872    \n",
       "2   ENSG00000147133.17 ENSG00000147133 TAF1   6872    \n",
       "3   ENSG00000147133.17 ENSG00000147133 TAF1   6872    \n",
       "4   ENSG00000147133.17 ENSG00000147133 TAF1   6872    \n",
       "5   ENSG00000147133.17 ENSG00000147133 TAF1   6872    \n",
       "6   ENSG00000147133.17 ENSG00000147133 TAF1   6872    \n",
       "7   ENSG00000147133.17 ENSG00000147133 TAF1   6872    \n",
       "8   ENSG00000147133.17 ENSG00000147133 TAF1   6872    \n",
       "9   ENSG00000147133.17 ENSG00000147133 TAF1   6872    \n",
       "10  ENSG00000147133.17 ENSG00000147133 TAF1   6872    \n",
       "11  ENSG00000147133.17 ENSG00000147133 TAF1   6872    \n",
       "12  ENSG00000147133.17 ENSG00000147133 TAF1   6872    \n",
       "13  ENSG00000147133.17 ENSG00000147133 TAF1   6872    \n",
       "14  ENSG00000147133.17 ENSG00000147133 TAF1   6872    \n",
       "15  ENSG00000147133.17 ENSG00000147133 TAF1   6872    \n",
       "16  ENSG00000147133.17 ENSG00000147133 TAF1   6872    \n",
       "17  ENSG00000147133.17 ENSG00000147133 TAF1   6872    \n",
       "18  ENSG00000147133.17 ENSG00000147133 TAF1   6872    \n",
       "19  ENSG00000147133.17 ENSG00000147133 TAF1   6872    \n",
       "20  ENSG00000147133.17 ENSG00000147133 TAF1   6872    \n",
       "21  ENSG00000147133.17 ENSG00000147133 TAF1   6872    \n",
       "22  ENSG00000147133.17 ENSG00000147133 TAF1   6872    \n",
       "23  ENSG00000147133.17 ENSG00000147133 TAF1   6872    \n",
       "24  ENSG00000147133.17 ENSG00000147133 TAF1   6872    \n",
       "25  ENSG00000147133.17 ENSG00000147133 TAF1   6872    \n",
       "26  ENSG00000147133.17 ENSG00000147133 TAF1   6872    \n",
       "27  ENSG00000147133.17 ENSG00000147133 TAF1   6872    \n",
       "28  ENSG00000147133.17 ENSG00000147133 TAF1   6872    \n",
       "29  ENSG00000147133.17 ENSG00000147133 TAF1   6872    \n",
       "30  ENSG00000147133.17 ENSG00000147133 TAF1   6872    \n",
       "⋮   ⋮                  ⋮               ⋮      ⋮       \n",
       "465 ENSG00000147133.17 ENSG00000147133 TAF1   6872    \n",
       "466 ENSG00000147133.17 ENSG00000147133 TAF1   6872    \n",
       "467 ENSG00000147133.17 ENSG00000147133 TAF1   6872    \n",
       "468 ENSG00000147133.17 ENSG00000147133 TAF1   6872    \n",
       "469 ENSG00000147133.17 ENSG00000147133 TAF1   6872    \n",
       "470 ENSG00000147133.17 ENSG00000147133 TAF1   6872    \n",
       "471 ENSG00000147133.17 ENSG00000147133 TAF1   6872    \n",
       "472 ENSG00000147133.17 ENSG00000147133 TAF1   6872    \n",
       "473 ENSG00000147133.17 ENSG00000147133 TAF1   6872    \n",
       "474 ENSG00000147133.17 ENSG00000147133 TAF1   6872    \n",
       "475 ENSG00000147133.17 ENSG00000147133 TAF1   6872    \n",
       "476 ENSG00000147133.17 ENSG00000147133 TAF1   6872    \n",
       "477 ENSG00000147133.17 ENSG00000147133 TAF1   6872    \n",
       "478 ENSG00000147133.17 ENSG00000147133 TAF1   6872    \n",
       "479 ENSG00000147133.17 ENSG00000147133 TAF1   6872    \n",
       "480 ENSG00000147133.17 ENSG00000147133 TAF1   6872    \n",
       "481 ENSG00000147133.17 ENSG00000147133 TAF1   6872    \n",
       "482 ENSG00000147133.17 ENSG00000147133 TAF1   6872    \n",
       "483 ENSG00000147133.17 ENSG00000147133 TAF1   6872    \n",
       "484 ENSG00000147133.17 ENSG00000147133 TAF1   6872    \n",
       "485 ENSG00000147133.17 ENSG00000147133 TAF1   6872    \n",
       "486 ENSG00000147133.17 ENSG00000147133 TAF1   6872    \n",
       "487 ENSG00000147133.17 ENSG00000147133 TAF1   6872    \n",
       "488 ENSG00000147133.17 ENSG00000147133 TAF1   6872    \n",
       "489 ENSG00000147133.17 ENSG00000147133 TAF1   6872    \n",
       "490 ENSG00000147133.17 ENSG00000147133 TAF1   6872    \n",
       "491 ENSG00000147133.17 ENSG00000147133 TAF1   6872    \n",
       "492 ENSG00000147133.17 ENSG00000147133 TAF1   6872    \n",
       "493 ENSG00000147133.17 ENSG00000147133 TAF1   6872    \n",
       "494 ENSG00000147133.17 ENSG00000147133 TAF1   6872    \n",
       "    filename                                      \n",
       "1   Day120_All_Male_Pairwise_controldelta_deseq2  \n",
       "2   Day120_All_Male_Pairwise_controldelta_deseq2  \n",
       "3   Day120_All_Male_Pairwise_controldelta_deseq2  \n",
       "4   Day120_All_Male_Pairwise_controldelta_deseq2  \n",
       "5   Day120_All_Male_Pairwise_controldelta_deseq2  \n",
       "6   Day120_All_Male_Pairwise_controldelta_deseq2  \n",
       "7   Day120_All_Male_Pairwise_controldelta_deseq2  \n",
       "8   Day120_All_Male_Pairwise_controldelta_deseq2  \n",
       "9   Day120_All_Male_Pairwise_controldelta_deseq2  \n",
       "10  Day120_All_Male_Pairwise_controldelta_deseq2  \n",
       "11  Day120_All_Male_Pairwise_controldelta_deseq2  \n",
       "12  Day120_All_Male_Pairwise_controldelta_deseq2  \n",
       "13  Day120_All_Male_Pairwise_controldelta_deseq2  \n",
       "14  Day120_All_Male_Pairwise_controldelta_deseq2  \n",
       "15  Day120_All_Male_Pairwise_controldelta_deseq2  \n",
       "16  Day120_All_Male_Pairwise_controldelta_deseq2  \n",
       "17  Day120_All_Male_Pairwise_controldelta_deseq2  \n",
       "18  Day120_All_Male_Pairwise_controldelta_deseq2  \n",
       "19  Day120_All_Male_Pairwise_controldelta_deseq2  \n",
       "20  Day120_All_Male_Pairwise_controldelta_deseq2  \n",
       "21  Day120_All_Male_Pairwise_controldelta_deseq2  \n",
       "22  Day120_All_Male_Pairwise_controldelta_deseq2  \n",
       "23  Day120_All_Male_Pairwise_controldelta_deseq2  \n",
       "24  Day120_All_Male_Pairwise_controldelta_deseq2  \n",
       "25  Day120_All_Male_Pairwise_controldelta_deseq2  \n",
       "26  Day120_All_Male_Pairwise_controldelta_deseq2  \n",
       "27  Day120_All_Male_Pairwise_controldelta_deseq2  \n",
       "28  Day120_All_Male_Pairwise_controldelta_deseq2  \n",
       "29  Day120_All_Male_Pairwise_controldelta_deseq2  \n",
       "30  Day120_All_Male_Pairwise_controldelta_deseq2  \n",
       "⋮   ⋮                                             \n",
       "465 Mature_organoids_all_comparison_design1_deseq2\n",
       "466 Mature_organoids_all_comparison_design1_deseq2\n",
       "467 Mature_organoids_all_comparison_design1_deseq2\n",
       "468 Mature_organoids_all_comparison_design1_deseq2\n",
       "469 Mature_organoids_all_comparison_design1_deseq2\n",
       "470 Mature_organoids_all_comparison_design1_deseq2\n",
       "471 Mature_organoids_all_comparison_design1_deseq2\n",
       "472 Mature_organoids_all_comparison_design1_deseq2\n",
       "473 Mature_organoids_all_comparison_design1_deseq2\n",
       "474 Mature_organoids_all_comparison_design1_deseq2\n",
       "475 Mature_organoids_all_comparison_design1_deseq2\n",
       "476 Mature_organoids_all_comparison_design1_deseq2\n",
       "477 Mature_organoids_all_comparison_design1_deseq2\n",
       "478 Mature_organoids_all_comparison_design1_deseq2\n",
       "479 Mature_organoids_all_comparison_design1_deseq2\n",
       "480 Mature_organoids_all_comparison_design1_deseq2\n",
       "481 Mature_organoids_all_comparison_design1_deseq2\n",
       "482 Mature_organoids_all_comparison_design1_deseq2\n",
       "483 Mature_organoids_all_comparison_design1_deseq2\n",
       "484 Mature_organoids_all_comparison_design1_deseq2\n",
       "485 Mature_organoids_all_comparison_design1_deseq2\n",
       "486 Mature_organoids_all_comparison_design1_deseq2\n",
       "487 Mature_organoids_all_comparison_design1_deseq2\n",
       "488 Mature_organoids_all_comparison_design1_deseq2\n",
       "489 Mature_organoids_all_comparison_design1_deseq2\n",
       "490 Mature_organoids_all_comparison_design1_deseq2\n",
       "491 Mature_organoids_all_comparison_design1_deseq2\n",
       "492 Mature_organoids_all_comparison_design1_deseq2\n",
       "493 Mature_organoids_all_comparison_design1_deseq2\n",
       "494 Mature_organoids_all_comparison_design1_deseq2"
      ]
     },
     "metadata": {},
     "output_type": "display_data"
    }
   ],
   "source": [
    "# Create an empty list to store the data frames\n",
    "df_list <- list()\n",
    "\n",
    "# Iterate over the files\n",
    "\n",
    "for (i in seq_along(files_path)) {\n",
    "    # Print file inside a loop, in the correct order\n",
    "    IRdisplay::display(files_path[i])\n",
    "    \n",
    "    # Read the file into a data frame\n",
    "    tmp_df <- fread(files_path[i])\n",
    "    \n",
    "    # Add a column with the filename\n",
    "    tmp_df$filename <- gsub('.*_m/|/exon_.*','', files_path[i])\n",
    "    \n",
    "    # Filter and select columns\n",
    "    tmp_df <- tmp_df %>%\n",
    "        filter(grepl('^TAF1$', Symbol)) %>%\n",
    "        #filter(pvalue < 0.05) %>%\n",
    "        dplyr::select(1:15, filename)\n",
    "    \n",
    "    tmp_df2 <- taf1_canonical_exons %>% \n",
    "                    as.data.frame() %>%\n",
    "                    left_join(tmp_df %>% \n",
    "                              dplyr::select(-c(gene_type, gene_id)), \n",
    "                              by=c('exon_id'='exon_gencodeID'))\n",
    "    \n",
    "    df_list[[i]] <- tmp_df2\n",
    "    \n",
    "    }\n",
    "\n",
    "\n",
    "# Combine all data frames into a single data frame\n",
    "combined_df <- do.call(rbind, df_list)\n",
    "\n",
    "# Display the combined data frame\n",
    "IRdisplay::display(combined_df)\n",
    "    "
   ]
  },
  {
   "cell_type": "code",
   "execution_count": 10,
   "id": "13d8ae3d-0824-413d-ab2b-948541f0322f",
   "metadata": {
    "execution": {
     "iopub.execute_input": "2025-01-07T21:48:33.040464Z",
     "iopub.status.busy": "2025-01-07T21:48:33.037211Z",
     "iopub.status.idle": "2025-01-07T21:48:33.151678Z",
     "shell.execute_reply": "2025-01-07T21:48:33.147938Z"
    }
   },
   "outputs": [
    {
     "data": {
      "text/html": [
       "<table class=\"dataframe\">\n",
       "<caption>A data.frame: 9 × 40</caption>\n",
       "<thead>\n",
       "\t<tr><th scope=col>seqnames</th><th scope=col>start</th><th scope=col>end</th><th scope=col>width</th><th scope=col>strand</th><th scope=col>source</th><th scope=col>type</th><th scope=col>score</th><th scope=col>phase</th><th scope=col>gene_id</th><th scope=col>⋯</th><th scope=col>lfcSE</th><th scope=col>stat</th><th scope=col>pvalue</th><th scope=col>padj</th><th scope=col>Length</th><th scope=col>gencodeID</th><th scope=col>ensemblID</th><th scope=col>Symbol</th><th scope=col>EntrezID</th><th scope=col>filename</th></tr>\n",
       "\t<tr><th scope=col>&lt;fct&gt;</th><th scope=col>&lt;int&gt;</th><th scope=col>&lt;int&gt;</th><th scope=col>&lt;int&gt;</th><th scope=col>&lt;fct&gt;</th><th scope=col>&lt;fct&gt;</th><th scope=col>&lt;fct&gt;</th><th scope=col>&lt;dbl&gt;</th><th scope=col>&lt;int&gt;</th><th scope=col>&lt;chr&gt;</th><th scope=col>⋯</th><th scope=col>&lt;dbl&gt;</th><th scope=col>&lt;dbl&gt;</th><th scope=col>&lt;dbl&gt;</th><th scope=col>&lt;dbl&gt;</th><th scope=col>&lt;int&gt;</th><th scope=col>&lt;chr&gt;</th><th scope=col>&lt;chr&gt;</th><th scope=col>&lt;chr&gt;</th><th scope=col>&lt;int&gt;</th><th scope=col>&lt;chr&gt;</th></tr>\n",
       "</thead>\n",
       "<tbody>\n",
       "\t<tr><td>chrX</td><td>71368054</td><td>71368170</td><td>117</td><td>+</td><td>HAVANA</td><td>exon</td><td>NA</td><td>NA</td><td>ENSG00000147133.17</td><td>⋯</td><td>0.8186369</td><td>-1.988405</td><td>0.04676691</td><td>       NA</td><td>117</td><td>ENSG00000147133.17</td><td>ENSG00000147133</td><td>TAF1</td><td>6872</td><td>Day90_All_Male_Pairwise_controldelta_deseq2   </td></tr>\n",
       "\t<tr><td>chrX</td><td>71377603</td><td>71377821</td><td>219</td><td>+</td><td>HAVANA</td><td>exon</td><td>NA</td><td>NA</td><td>ENSG00000147133.17</td><td>⋯</td><td>0.7343438</td><td>-2.134115</td><td>0.03283337</td><td>0.2267539</td><td>219</td><td>ENSG00000147133.17</td><td>ENSG00000147133</td><td>TAF1</td><td>6872</td><td>Day90_All_Male_Pairwise_controldelta_deseq2   </td></tr>\n",
       "\t<tr><td>chrX</td><td>71392875</td><td>71392994</td><td>120</td><td>+</td><td>HAVANA</td><td>exon</td><td>NA</td><td>NA</td><td>ENSG00000147133.17</td><td>⋯</td><td>0.7729061</td><td>-2.215155</td><td>0.02674943</td><td>0.2082915</td><td>120</td><td>ENSG00000147133.17</td><td>ENSG00000147133</td><td>TAF1</td><td>6872</td><td>Day90_All_Male_Pairwise_controldelta_deseq2   </td></tr>\n",
       "\t<tr><td>chrX</td><td>71393301</td><td>71393476</td><td>176</td><td>+</td><td>HAVANA</td><td>exon</td><td>NA</td><td>NA</td><td>ENSG00000147133.17</td><td>⋯</td><td>0.7208449</td><td>-2.354975</td><td>0.01852395</td><td>0.1830618</td><td>176</td><td>ENSG00000147133.17</td><td>ENSG00000147133</td><td>TAF1</td><td>6872</td><td>Day90_All_Male_Pairwise_controldelta_deseq2   </td></tr>\n",
       "\t<tr><td>chrX</td><td>71397253</td><td>71397466</td><td>214</td><td>+</td><td>HAVANA</td><td>exon</td><td>NA</td><td>NA</td><td>ENSG00000147133.17</td><td>⋯</td><td>0.7462627</td><td>-2.860077</td><td>0.00423538</td><td>0.1059736</td><td>214</td><td>ENSG00000147133.17</td><td>ENSG00000147133</td><td>TAF1</td><td>6872</td><td>Day90_All_Male_Pairwise_controldelta_deseq2   </td></tr>\n",
       "\t<tr><td>chrX</td><td>71398572</td><td>71398737</td><td>166</td><td>+</td><td>HAVANA</td><td>exon</td><td>NA</td><td>NA</td><td>ENSG00000147133.17</td><td>⋯</td><td>0.5953926</td><td>-1.983800</td><td>0.04727819</td><td>0.2633737</td><td>166</td><td>ENSG00000147133.17</td><td>ENSG00000147133</td><td>TAF1</td><td>6872</td><td>Day90_All_Male_Pairwise_controldelta_deseq2   </td></tr>\n",
       "\t<tr><td>chrX</td><td>71398572</td><td>71398737</td><td>166</td><td>+</td><td>HAVANA</td><td>exon</td><td>NA</td><td>NA</td><td>ENSG00000147133.17</td><td>⋯</td><td>0.6367382</td><td>-2.292999</td><td>0.02184804</td><td>0.9994948</td><td>166</td><td>ENSG00000147133.17</td><td>ENSG00000147133</td><td>TAF1</td><td>6872</td><td>Day90_All_Male_Pairwise_controlxdp_deseq2     </td></tr>\n",
       "\t<tr><td>chrX</td><td>71367499</td><td>71367613</td><td>115</td><td>+</td><td>HAVANA</td><td>exon</td><td>NA</td><td>NA</td><td>ENSG00000147133.17</td><td>⋯</td><td>0.5907289</td><td>-2.261614</td><td>0.02372127</td><td>0.9999996</td><td>115</td><td>ENSG00000147133.17</td><td>ENSG00000147133</td><td>TAF1</td><td>6872</td><td>Mature_organoids_all_comparison_design1_deseq2</td></tr>\n",
       "\t<tr><td>chrX</td><td>71398572</td><td>71398737</td><td>166</td><td>+</td><td>HAVANA</td><td>exon</td><td>NA</td><td>NA</td><td>ENSG00000147133.17</td><td>⋯</td><td>0.3288550</td><td>-2.049217</td><td>0.04044088</td><td>0.9999996</td><td>166</td><td>ENSG00000147133.17</td><td>ENSG00000147133</td><td>TAF1</td><td>6872</td><td>Mature_organoids_all_comparison_design1_deseq2</td></tr>\n",
       "</tbody>\n",
       "</table>\n"
      ],
      "text/latex": [
       "A data.frame: 9 × 40\n",
       "\\begin{tabular}{lllllllllllllllllllll}\n",
       " seqnames & start & end & width & strand & source & type & score & phase & gene\\_id & ⋯ & lfcSE & stat & pvalue & padj & Length & gencodeID & ensemblID & Symbol & EntrezID & filename\\\\\n",
       " <fct> & <int> & <int> & <int> & <fct> & <fct> & <fct> & <dbl> & <int> & <chr> & ⋯ & <dbl> & <dbl> & <dbl> & <dbl> & <int> & <chr> & <chr> & <chr> & <int> & <chr>\\\\\n",
       "\\hline\n",
       "\t chrX & 71368054 & 71368170 & 117 & + & HAVANA & exon & NA & NA & ENSG00000147133.17 & ⋯ & 0.8186369 & -1.988405 & 0.04676691 &        NA & 117 & ENSG00000147133.17 & ENSG00000147133 & TAF1 & 6872 & Day90\\_All\\_Male\\_Pairwise\\_controldelta\\_deseq2   \\\\\n",
       "\t chrX & 71377603 & 71377821 & 219 & + & HAVANA & exon & NA & NA & ENSG00000147133.17 & ⋯ & 0.7343438 & -2.134115 & 0.03283337 & 0.2267539 & 219 & ENSG00000147133.17 & ENSG00000147133 & TAF1 & 6872 & Day90\\_All\\_Male\\_Pairwise\\_controldelta\\_deseq2   \\\\\n",
       "\t chrX & 71392875 & 71392994 & 120 & + & HAVANA & exon & NA & NA & ENSG00000147133.17 & ⋯ & 0.7729061 & -2.215155 & 0.02674943 & 0.2082915 & 120 & ENSG00000147133.17 & ENSG00000147133 & TAF1 & 6872 & Day90\\_All\\_Male\\_Pairwise\\_controldelta\\_deseq2   \\\\\n",
       "\t chrX & 71393301 & 71393476 & 176 & + & HAVANA & exon & NA & NA & ENSG00000147133.17 & ⋯ & 0.7208449 & -2.354975 & 0.01852395 & 0.1830618 & 176 & ENSG00000147133.17 & ENSG00000147133 & TAF1 & 6872 & Day90\\_All\\_Male\\_Pairwise\\_controldelta\\_deseq2   \\\\\n",
       "\t chrX & 71397253 & 71397466 & 214 & + & HAVANA & exon & NA & NA & ENSG00000147133.17 & ⋯ & 0.7462627 & -2.860077 & 0.00423538 & 0.1059736 & 214 & ENSG00000147133.17 & ENSG00000147133 & TAF1 & 6872 & Day90\\_All\\_Male\\_Pairwise\\_controldelta\\_deseq2   \\\\\n",
       "\t chrX & 71398572 & 71398737 & 166 & + & HAVANA & exon & NA & NA & ENSG00000147133.17 & ⋯ & 0.5953926 & -1.983800 & 0.04727819 & 0.2633737 & 166 & ENSG00000147133.17 & ENSG00000147133 & TAF1 & 6872 & Day90\\_All\\_Male\\_Pairwise\\_controldelta\\_deseq2   \\\\\n",
       "\t chrX & 71398572 & 71398737 & 166 & + & HAVANA & exon & NA & NA & ENSG00000147133.17 & ⋯ & 0.6367382 & -2.292999 & 0.02184804 & 0.9994948 & 166 & ENSG00000147133.17 & ENSG00000147133 & TAF1 & 6872 & Day90\\_All\\_Male\\_Pairwise\\_controlxdp\\_deseq2     \\\\\n",
       "\t chrX & 71367499 & 71367613 & 115 & + & HAVANA & exon & NA & NA & ENSG00000147133.17 & ⋯ & 0.5907289 & -2.261614 & 0.02372127 & 0.9999996 & 115 & ENSG00000147133.17 & ENSG00000147133 & TAF1 & 6872 & Mature\\_organoids\\_all\\_comparison\\_design1\\_deseq2\\\\\n",
       "\t chrX & 71398572 & 71398737 & 166 & + & HAVANA & exon & NA & NA & ENSG00000147133.17 & ⋯ & 0.3288550 & -2.049217 & 0.04044088 & 0.9999996 & 166 & ENSG00000147133.17 & ENSG00000147133 & TAF1 & 6872 & Mature\\_organoids\\_all\\_comparison\\_design1\\_deseq2\\\\\n",
       "\\end{tabular}\n"
      ],
      "text/markdown": [
       "\n",
       "A data.frame: 9 × 40\n",
       "\n",
       "| seqnames &lt;fct&gt; | start &lt;int&gt; | end &lt;int&gt; | width &lt;int&gt; | strand &lt;fct&gt; | source &lt;fct&gt; | type &lt;fct&gt; | score &lt;dbl&gt; | phase &lt;int&gt; | gene_id &lt;chr&gt; | ⋯ ⋯ | lfcSE &lt;dbl&gt; | stat &lt;dbl&gt; | pvalue &lt;dbl&gt; | padj &lt;dbl&gt; | Length &lt;int&gt; | gencodeID &lt;chr&gt; | ensemblID &lt;chr&gt; | Symbol &lt;chr&gt; | EntrezID &lt;int&gt; | filename &lt;chr&gt; |\n",
       "|---|---|---|---|---|---|---|---|---|---|---|---|---|---|---|---|---|---|---|---|---|\n",
       "| chrX | 71368054 | 71368170 | 117 | + | HAVANA | exon | NA | NA | ENSG00000147133.17 | ⋯ | 0.8186369 | -1.988405 | 0.04676691 |        NA | 117 | ENSG00000147133.17 | ENSG00000147133 | TAF1 | 6872 | Day90_All_Male_Pairwise_controldelta_deseq2    |\n",
       "| chrX | 71377603 | 71377821 | 219 | + | HAVANA | exon | NA | NA | ENSG00000147133.17 | ⋯ | 0.7343438 | -2.134115 | 0.03283337 | 0.2267539 | 219 | ENSG00000147133.17 | ENSG00000147133 | TAF1 | 6872 | Day90_All_Male_Pairwise_controldelta_deseq2    |\n",
       "| chrX | 71392875 | 71392994 | 120 | + | HAVANA | exon | NA | NA | ENSG00000147133.17 | ⋯ | 0.7729061 | -2.215155 | 0.02674943 | 0.2082915 | 120 | ENSG00000147133.17 | ENSG00000147133 | TAF1 | 6872 | Day90_All_Male_Pairwise_controldelta_deseq2    |\n",
       "| chrX | 71393301 | 71393476 | 176 | + | HAVANA | exon | NA | NA | ENSG00000147133.17 | ⋯ | 0.7208449 | -2.354975 | 0.01852395 | 0.1830618 | 176 | ENSG00000147133.17 | ENSG00000147133 | TAF1 | 6872 | Day90_All_Male_Pairwise_controldelta_deseq2    |\n",
       "| chrX | 71397253 | 71397466 | 214 | + | HAVANA | exon | NA | NA | ENSG00000147133.17 | ⋯ | 0.7462627 | -2.860077 | 0.00423538 | 0.1059736 | 214 | ENSG00000147133.17 | ENSG00000147133 | TAF1 | 6872 | Day90_All_Male_Pairwise_controldelta_deseq2    |\n",
       "| chrX | 71398572 | 71398737 | 166 | + | HAVANA | exon | NA | NA | ENSG00000147133.17 | ⋯ | 0.5953926 | -1.983800 | 0.04727819 | 0.2633737 | 166 | ENSG00000147133.17 | ENSG00000147133 | TAF1 | 6872 | Day90_All_Male_Pairwise_controldelta_deseq2    |\n",
       "| chrX | 71398572 | 71398737 | 166 | + | HAVANA | exon | NA | NA | ENSG00000147133.17 | ⋯ | 0.6367382 | -2.292999 | 0.02184804 | 0.9994948 | 166 | ENSG00000147133.17 | ENSG00000147133 | TAF1 | 6872 | Day90_All_Male_Pairwise_controlxdp_deseq2      |\n",
       "| chrX | 71367499 | 71367613 | 115 | + | HAVANA | exon | NA | NA | ENSG00000147133.17 | ⋯ | 0.5907289 | -2.261614 | 0.02372127 | 0.9999996 | 115 | ENSG00000147133.17 | ENSG00000147133 | TAF1 | 6872 | Mature_organoids_all_comparison_design1_deseq2 |\n",
       "| chrX | 71398572 | 71398737 | 166 | + | HAVANA | exon | NA | NA | ENSG00000147133.17 | ⋯ | 0.3288550 | -2.049217 | 0.04044088 | 0.9999996 | 166 | ENSG00000147133.17 | ENSG00000147133 | TAF1 | 6872 | Mature_organoids_all_comparison_design1_deseq2 |\n",
       "\n"
      ],
      "text/plain": [
       "  seqnames start    end      width strand source type score phase\n",
       "1 chrX     71368054 71368170 117   +      HAVANA exon NA    NA   \n",
       "2 chrX     71377603 71377821 219   +      HAVANA exon NA    NA   \n",
       "3 chrX     71392875 71392994 120   +      HAVANA exon NA    NA   \n",
       "4 chrX     71393301 71393476 176   +      HAVANA exon NA    NA   \n",
       "5 chrX     71397253 71397466 214   +      HAVANA exon NA    NA   \n",
       "6 chrX     71398572 71398737 166   +      HAVANA exon NA    NA   \n",
       "7 chrX     71398572 71398737 166   +      HAVANA exon NA    NA   \n",
       "8 chrX     71367499 71367613 115   +      HAVANA exon NA    NA   \n",
       "9 chrX     71398572 71398737 166   +      HAVANA exon NA    NA   \n",
       "  gene_id            ⋯ lfcSE     stat      pvalue     padj      Length\n",
       "1 ENSG00000147133.17 ⋯ 0.8186369 -1.988405 0.04676691        NA 117   \n",
       "2 ENSG00000147133.17 ⋯ 0.7343438 -2.134115 0.03283337 0.2267539 219   \n",
       "3 ENSG00000147133.17 ⋯ 0.7729061 -2.215155 0.02674943 0.2082915 120   \n",
       "4 ENSG00000147133.17 ⋯ 0.7208449 -2.354975 0.01852395 0.1830618 176   \n",
       "5 ENSG00000147133.17 ⋯ 0.7462627 -2.860077 0.00423538 0.1059736 214   \n",
       "6 ENSG00000147133.17 ⋯ 0.5953926 -1.983800 0.04727819 0.2633737 166   \n",
       "7 ENSG00000147133.17 ⋯ 0.6367382 -2.292999 0.02184804 0.9994948 166   \n",
       "8 ENSG00000147133.17 ⋯ 0.5907289 -2.261614 0.02372127 0.9999996 115   \n",
       "9 ENSG00000147133.17 ⋯ 0.3288550 -2.049217 0.04044088 0.9999996 166   \n",
       "  gencodeID          ensemblID       Symbol EntrezID\n",
       "1 ENSG00000147133.17 ENSG00000147133 TAF1   6872    \n",
       "2 ENSG00000147133.17 ENSG00000147133 TAF1   6872    \n",
       "3 ENSG00000147133.17 ENSG00000147133 TAF1   6872    \n",
       "4 ENSG00000147133.17 ENSG00000147133 TAF1   6872    \n",
       "5 ENSG00000147133.17 ENSG00000147133 TAF1   6872    \n",
       "6 ENSG00000147133.17 ENSG00000147133 TAF1   6872    \n",
       "7 ENSG00000147133.17 ENSG00000147133 TAF1   6872    \n",
       "8 ENSG00000147133.17 ENSG00000147133 TAF1   6872    \n",
       "9 ENSG00000147133.17 ENSG00000147133 TAF1   6872    \n",
       "  filename                                      \n",
       "1 Day90_All_Male_Pairwise_controldelta_deseq2   \n",
       "2 Day90_All_Male_Pairwise_controldelta_deseq2   \n",
       "3 Day90_All_Male_Pairwise_controldelta_deseq2   \n",
       "4 Day90_All_Male_Pairwise_controldelta_deseq2   \n",
       "5 Day90_All_Male_Pairwise_controldelta_deseq2   \n",
       "6 Day90_All_Male_Pairwise_controldelta_deseq2   \n",
       "7 Day90_All_Male_Pairwise_controlxdp_deseq2     \n",
       "8 Mature_organoids_all_comparison_design1_deseq2\n",
       "9 Mature_organoids_all_comparison_design1_deseq2"
      ]
     },
     "metadata": {},
     "output_type": "display_data"
    }
   ],
   "source": [
    "combined_df %>% filter(pvalue < 0.05)"
   ]
  },
  {
   "cell_type": "code",
   "execution_count": 11,
   "id": "e4ce00f2-769d-44ef-8643-fd6ec70407fd",
   "metadata": {
    "execution": {
     "iopub.execute_input": "2025-01-07T21:48:33.162473Z",
     "iopub.status.busy": "2025-01-07T21:48:33.159123Z",
     "iopub.status.idle": "2025-01-07T21:48:33.278486Z",
     "shell.execute_reply": "2025-01-07T21:48:33.274251Z"
    }
   },
   "outputs": [
    {
     "name": "stderr",
     "output_type": "stream",
     "text": [
      "Warning message in cbind(parts$left, chars$ellip_h, parts$right, deparse.level = 0L):\n",
      "“number of rows of result is not a multiple of vector length (arg 2)”\n"
     ]
    },
    {
     "name": "stderr",
     "output_type": "stream",
     "text": [
      "Warning message in cbind(parts$left, chars$ellip_h, parts$right, deparse.level = 0L):\n",
      "“number of rows of result is not a multiple of vector length (arg 2)”\n"
     ]
    },
    {
     "name": "stderr",
     "output_type": "stream",
     "text": [
      "Warning message in cbind(parts$left, chars$ellip_h, parts$right, deparse.level = 0L):\n",
      "“number of rows of result is not a multiple of vector length (arg 2)”\n"
     ]
    },
    {
     "name": "stderr",
     "output_type": "stream",
     "text": [
      "Warning message in cbind(parts$left, chars$ellip_h, parts$right, deparse.level = 0L):\n",
      "“number of rows of result is not a multiple of vector length (arg 2)”\n"
     ]
    },
    {
     "data": {
      "text/html": [
       "<table class=\"dataframe\">\n",
       "<caption>A data.frame: 0 × 40</caption>\n",
       "<thead>\n",
       "\t<tr><th scope=col>seqnames</th><th scope=col>start</th><th scope=col>end</th><th scope=col>width</th><th scope=col>strand</th><th scope=col>source</th><th scope=col>type</th><th scope=col>score</th><th scope=col>phase</th><th scope=col>gene_id</th><th scope=col>⋯</th><th scope=col>lfcSE</th><th scope=col>stat</th><th scope=col>pvalue</th><th scope=col>padj</th><th scope=col>Length</th><th scope=col>gencodeID</th><th scope=col>ensemblID</th><th scope=col>Symbol</th><th scope=col>EntrezID</th><th scope=col>filename</th></tr>\n",
       "\t<tr><th scope=col>&lt;fct&gt;</th><th scope=col>&lt;int&gt;</th><th scope=col>&lt;int&gt;</th><th scope=col>&lt;int&gt;</th><th scope=col>&lt;fct&gt;</th><th scope=col>&lt;fct&gt;</th><th scope=col>&lt;fct&gt;</th><th scope=col>&lt;dbl&gt;</th><th scope=col>&lt;int&gt;</th><th scope=col>&lt;chr&gt;</th><th scope=col>⋯</th><th scope=col>&lt;dbl&gt;</th><th scope=col>&lt;dbl&gt;</th><th scope=col>&lt;dbl&gt;</th><th scope=col>&lt;dbl&gt;</th><th scope=col>&lt;int&gt;</th><th scope=col>&lt;chr&gt;</th><th scope=col>&lt;chr&gt;</th><th scope=col>&lt;chr&gt;</th><th scope=col>&lt;int&gt;</th><th scope=col>&lt;chr&gt;</th></tr>\n",
       "</thead>\n",
       "<tbody>\n",
       "</tbody>\n",
       "</table>\n"
      ],
      "text/latex": [
       "A data.frame: 0 × 40\n",
       "\\begin{tabular}{lllllllllllllllllllll}\n",
       " seqnames & start & end & width & strand & source & type & score & phase & gene\\_id & ⋯ & lfcSE & stat & pvalue & padj & Length & gencodeID & ensemblID & Symbol & EntrezID & filename\\\\\n",
       " <fct> & <int> & <int> & <int> & <fct> & <fct> & <fct> & <dbl> & <int> & <chr> & ⋯ & <dbl> & <dbl> & <dbl> & <dbl> & <int> & <chr> & <chr> & <chr> & <int> & <chr>\\\\\n",
       "\\hline\n",
       "\\end{tabular}\n"
      ],
      "text/markdown": [
       "\n",
       "A data.frame: 0 × 40\n",
       "\n",
       "| seqnames &lt;fct&gt; | start &lt;int&gt; | end &lt;int&gt; | width &lt;int&gt; | strand &lt;fct&gt; | source &lt;fct&gt; | type &lt;fct&gt; | score &lt;dbl&gt; | phase &lt;int&gt; | gene_id &lt;chr&gt; | ⋯ ⋯ | lfcSE &lt;dbl&gt; | stat &lt;dbl&gt; | pvalue &lt;dbl&gt; | padj &lt;dbl&gt; | Length &lt;int&gt; | gencodeID &lt;chr&gt; | ensemblID &lt;chr&gt; | Symbol &lt;chr&gt; | EntrezID &lt;int&gt; | filename &lt;chr&gt; |\n",
       "|---|---|---|---|---|---|---|---|---|---|---|---|---|---|---|---|---|---|---|---|---|\n",
       "\n"
      ],
      "text/plain": [
       "     seqnames start end width strand source type score phase gene_id ⋯ lfcSE\n",
       "     stat pvalue padj Length gencodeID ensemblID Symbol EntrezID filename"
      ]
     },
     "metadata": {},
     "output_type": "display_data"
    }
   ],
   "source": [
    "combined_df %>% filter(padj < 0.05)"
   ]
  },
  {
   "cell_type": "code",
   "execution_count": 12,
   "id": "0a2c1c86-0d6c-4ca6-b971-2741ea6f2d21",
   "metadata": {
    "execution": {
     "iopub.execute_input": "2025-01-07T21:48:33.290107Z",
     "iopub.status.busy": "2025-01-07T21:48:33.286467Z",
     "iopub.status.idle": "2025-01-07T21:48:33.562322Z",
     "shell.execute_reply": "2025-01-07T21:48:33.558198Z"
    }
   },
   "outputs": [
    {
     "data": {
      "text/html": [
       "<table class=\"dataframe\">\n",
       "<caption>A data.frame: 38 × 40</caption>\n",
       "<thead>\n",
       "\t<tr><th scope=col>seqnames</th><th scope=col>start</th><th scope=col>end</th><th scope=col>width</th><th scope=col>strand</th><th scope=col>source</th><th scope=col>type</th><th scope=col>score</th><th scope=col>phase</th><th scope=col>gene_id</th><th scope=col>⋯</th><th scope=col>lfcSE</th><th scope=col>stat</th><th scope=col>pvalue</th><th scope=col>padj</th><th scope=col>Length</th><th scope=col>gencodeID</th><th scope=col>ensemblID</th><th scope=col>Symbol</th><th scope=col>EntrezID</th><th scope=col>filename</th></tr>\n",
       "\t<tr><th scope=col>&lt;fct&gt;</th><th scope=col>&lt;int&gt;</th><th scope=col>&lt;int&gt;</th><th scope=col>&lt;int&gt;</th><th scope=col>&lt;fct&gt;</th><th scope=col>&lt;fct&gt;</th><th scope=col>&lt;fct&gt;</th><th scope=col>&lt;dbl&gt;</th><th scope=col>&lt;int&gt;</th><th scope=col>&lt;chr&gt;</th><th scope=col>⋯</th><th scope=col>&lt;dbl&gt;</th><th scope=col>&lt;dbl&gt;</th><th scope=col>&lt;dbl&gt;</th><th scope=col>&lt;dbl&gt;</th><th scope=col>&lt;int&gt;</th><th scope=col>&lt;chr&gt;</th><th scope=col>&lt;chr&gt;</th><th scope=col>&lt;chr&gt;</th><th scope=col>&lt;int&gt;</th><th scope=col>&lt;chr&gt;</th></tr>\n",
       "</thead>\n",
       "<tbody>\n",
       "\t<tr><td>chrX</td><td>71366357</td><td>71366494</td><td> 138</td><td>+</td><td>HAVANA</td><td>exon</td><td>NA</td><td>NA</td><td>ENSG00000147133.17</td><td>⋯</td><td>1.4956803</td><td> 0.26455388</td><td>0.79135315</td><td>0.9999996</td><td> 138</td><td>ENSG00000147133.17</td><td>ENSG00000147133</td><td>TAF1</td><td>6872</td><td>Mature_organoids_all_comparison_design1_deseq2</td></tr>\n",
       "\t<tr><td>chrX</td><td>71367499</td><td>71367613</td><td> 115</td><td>+</td><td>HAVANA</td><td>exon</td><td>NA</td><td>NA</td><td>ENSG00000147133.17</td><td>⋯</td><td>0.5907289</td><td>-2.26161380</td><td>0.02372127</td><td>0.9999996</td><td> 115</td><td>ENSG00000147133.17</td><td>ENSG00000147133</td><td>TAF1</td><td>6872</td><td>Mature_organoids_all_comparison_design1_deseq2</td></tr>\n",
       "\t<tr><td>chrX</td><td>71368054</td><td>71368170</td><td> 117</td><td>+</td><td>HAVANA</td><td>exon</td><td>NA</td><td>NA</td><td>ENSG00000147133.17</td><td>⋯</td><td>0.4443199</td><td>-1.52056516</td><td>0.12836900</td><td>0.9999996</td><td> 117</td><td>ENSG00000147133.17</td><td>ENSG00000147133</td><td>TAF1</td><td>6872</td><td>Mature_organoids_all_comparison_design1_deseq2</td></tr>\n",
       "\t<tr><td>chrX</td><td>71375167</td><td>71375286</td><td> 120</td><td>+</td><td>HAVANA</td><td>exon</td><td>NA</td><td>NA</td><td>ENSG00000147133.17</td><td>⋯</td><td>0.3765804</td><td>-1.59396114</td><td>0.11094474</td><td>0.9999996</td><td> 120</td><td>ENSG00000147133.17</td><td>ENSG00000147133</td><td>TAF1</td><td>6872</td><td>Mature_organoids_all_comparison_design1_deseq2</td></tr>\n",
       "\t<tr><td>chrX</td><td>71376950</td><td>71377191</td><td> 242</td><td>+</td><td>HAVANA</td><td>exon</td><td>NA</td><td>NA</td><td>ENSG00000147133.17</td><td>⋯</td><td>0.3760069</td><td>-1.01306669</td><td>0.31102831</td><td>0.9999996</td><td> 242</td><td>ENSG00000147133.17</td><td>ENSG00000147133</td><td>TAF1</td><td>6872</td><td>Mature_organoids_all_comparison_design1_deseq2</td></tr>\n",
       "\t<tr><td>chrX</td><td>71377603</td><td>71377821</td><td> 219</td><td>+</td><td>HAVANA</td><td>exon</td><td>NA</td><td>NA</td><td>ENSG00000147133.17</td><td>⋯</td><td>0.3685270</td><td>-1.08945763</td><td>0.27595213</td><td>0.9999996</td><td> 219</td><td>ENSG00000147133.17</td><td>ENSG00000147133</td><td>TAF1</td><td>6872</td><td>Mature_organoids_all_comparison_design1_deseq2</td></tr>\n",
       "\t<tr><td>chrX</td><td>71378235</td><td>71378453</td><td> 219</td><td>+</td><td>HAVANA</td><td>exon</td><td>NA</td><td>NA</td><td>ENSG00000147133.17</td><td>⋯</td><td>0.2618394</td><td>-0.43819839</td><td>0.66124248</td><td>0.9999996</td><td> 219</td><td>ENSG00000147133.17</td><td>ENSG00000147133</td><td>TAF1</td><td>6872</td><td>Mature_organoids_all_comparison_design1_deseq2</td></tr>\n",
       "\t<tr><td>chrX</td><td>71378824</td><td>71379031</td><td> 208</td><td>+</td><td>HAVANA</td><td>exon</td><td>NA</td><td>NA</td><td>ENSG00000147133.17</td><td>⋯</td><td>0.2513687</td><td>-0.22846286</td><td>0.81928643</td><td>0.9999996</td><td> 208</td><td>ENSG00000147133.17</td><td>ENSG00000147133</td><td>TAF1</td><td>6872</td><td>Mature_organoids_all_comparison_design1_deseq2</td></tr>\n",
       "\t<tr><td>chrX</td><td>71381743</td><td>71381919</td><td> 177</td><td>+</td><td>HAVANA</td><td>exon</td><td>NA</td><td>NA</td><td>ENSG00000147133.17</td><td>⋯</td><td>0.3178317</td><td>-1.20564629</td><td>0.22795390</td><td>0.9999996</td><td> 177</td><td>ENSG00000147133.17</td><td>ENSG00000147133</td><td>TAF1</td><td>6872</td><td>Mature_organoids_all_comparison_design1_deseq2</td></tr>\n",
       "\t<tr><td>chrX</td><td>71382536</td><td>71382663</td><td> 128</td><td>+</td><td>HAVANA</td><td>exon</td><td>NA</td><td>NA</td><td>ENSG00000147133.17</td><td>⋯</td><td>0.2606408</td><td>-0.03877354</td><td>0.96907094</td><td>0.9999996</td><td> 128</td><td>ENSG00000147133.17</td><td>ENSG00000147133</td><td>TAF1</td><td>6872</td><td>Mature_organoids_all_comparison_design1_deseq2</td></tr>\n",
       "\t<tr><td>chrX</td><td>71382761</td><td>71382868</td><td> 108</td><td>+</td><td>HAVANA</td><td>exon</td><td>NA</td><td>NA</td><td>ENSG00000147133.17</td><td>⋯</td><td>0.2671252</td><td> 0.85496952</td><td>0.39256802</td><td>0.9999996</td><td> 108</td><td>ENSG00000147133.17</td><td>ENSG00000147133</td><td>TAF1</td><td>6872</td><td>Mature_organoids_all_comparison_design1_deseq2</td></tr>\n",
       "\t<tr><td>chrX</td><td>71382991</td><td>71383164</td><td> 174</td><td>+</td><td>HAVANA</td><td>exon</td><td>NA</td><td>NA</td><td>ENSG00000147133.17</td><td>⋯</td><td>0.3005002</td><td> 0.44131837</td><td>0.65898253</td><td>0.9999996</td><td> 174</td><td>ENSG00000147133.17</td><td>ENSG00000147133</td><td>TAF1</td><td>6872</td><td>Mature_organoids_all_comparison_design1_deseq2</td></tr>\n",
       "\t<tr><td>chrX</td><td>71383962</td><td>71384135</td><td> 174</td><td>+</td><td>HAVANA</td><td>exon</td><td>NA</td><td>NA</td><td>ENSG00000147133.17</td><td>⋯</td><td>0.2275133</td><td> 0.95112736</td><td>0.34153973</td><td>0.9999996</td><td> 174</td><td>ENSG00000147133.17</td><td>ENSG00000147133</td><td>TAF1</td><td>6872</td><td>Mature_organoids_all_comparison_design1_deseq2</td></tr>\n",
       "\t<tr><td>chrX</td><td>71384945</td><td>71385049</td><td> 105</td><td>+</td><td>HAVANA</td><td>exon</td><td>NA</td><td>NA</td><td>ENSG00000147133.17</td><td>⋯</td><td>0.2033146</td><td> 0.73117361</td><td>0.46467312</td><td>0.9999996</td><td> 105</td><td>ENSG00000147133.17</td><td>ENSG00000147133</td><td>TAF1</td><td>6872</td><td>Mature_organoids_all_comparison_design1_deseq2</td></tr>\n",
       "\t<tr><td>chrX</td><td>71387261</td><td>71387461</td><td> 201</td><td>+</td><td>HAVANA</td><td>exon</td><td>NA</td><td>NA</td><td>ENSG00000147133.17</td><td>⋯</td><td>0.2109785</td><td>-0.15731890</td><td>0.87499352</td><td>0.9999996</td><td> 201</td><td>ENSG00000147133.17</td><td>ENSG00000147133</td><td>TAF1</td><td>6872</td><td>Mature_organoids_all_comparison_design1_deseq2</td></tr>\n",
       "\t<tr><td>chrX</td><td>71388237</td><td>71388378</td><td> 142</td><td>+</td><td>HAVANA</td><td>exon</td><td>NA</td><td>NA</td><td>ENSG00000147133.17</td><td>⋯</td><td>0.2482987</td><td>-0.75044201</td><td>0.45298854</td><td>0.9999996</td><td> 142</td><td>ENSG00000147133.17</td><td>ENSG00000147133</td><td>TAF1</td><td>6872</td><td>Mature_organoids_all_comparison_design1_deseq2</td></tr>\n",
       "\t<tr><td>chrX</td><td>71388738</td><td>71388868</td><td> 131</td><td>+</td><td>HAVANA</td><td>exon</td><td>NA</td><td>NA</td><td>ENSG00000147133.17</td><td>⋯</td><td>0.3292174</td><td> 0.18871170</td><td>0.85031878</td><td>0.9999996</td><td> 131</td><td>ENSG00000147133.17</td><td>ENSG00000147133</td><td>TAF1</td><td>6872</td><td>Mature_organoids_all_comparison_design1_deseq2</td></tr>\n",
       "\t<tr><td>chrX</td><td>71389585</td><td>71389665</td><td>  81</td><td>+</td><td>HAVANA</td><td>exon</td><td>NA</td><td>NA</td><td>ENSG00000147133.17</td><td>⋯</td><td>0.2848120</td><td> 0.17211539</td><td>0.86334681</td><td>0.9999996</td><td>  81</td><td>ENSG00000147133.17</td><td>ENSG00000147133</td><td>TAF1</td><td>6872</td><td>Mature_organoids_all_comparison_design1_deseq2</td></tr>\n",
       "\t<tr><td>chrX</td><td>71392569</td><td>71392718</td><td> 150</td><td>+</td><td>HAVANA</td><td>exon</td><td>NA</td><td>NA</td><td>ENSG00000147133.17</td><td>⋯</td><td>0.4659944</td><td>-1.05226122</td><td>0.29267972</td><td>0.9999996</td><td> 150</td><td>ENSG00000147133.17</td><td>ENSG00000147133</td><td>TAF1</td><td>6872</td><td>Mature_organoids_all_comparison_design1_deseq2</td></tr>\n",
       "\t<tr><td>chrX</td><td>71392875</td><td>71392994</td><td> 120</td><td>+</td><td>HAVANA</td><td>exon</td><td>NA</td><td>NA</td><td>ENSG00000147133.17</td><td>⋯</td><td>0.4936757</td><td>-0.69782612</td><td>0.48528594</td><td>0.9999996</td><td> 120</td><td>ENSG00000147133.17</td><td>ENSG00000147133</td><td>TAF1</td><td>6872</td><td>Mature_organoids_all_comparison_design1_deseq2</td></tr>\n",
       "\t<tr><td>chrX</td><td>71393301</td><td>71393476</td><td> 176</td><td>+</td><td>HAVANA</td><td>exon</td><td>NA</td><td>NA</td><td>ENSG00000147133.17</td><td>⋯</td><td>0.3501136</td><td>-0.73409056</td><td>0.46289355</td><td>0.9999996</td><td> 176</td><td>ENSG00000147133.17</td><td>ENSG00000147133</td><td>TAF1</td><td>6872</td><td>Mature_organoids_all_comparison_design1_deseq2</td></tr>\n",
       "\t<tr><td>chrX</td><td>71394067</td><td>71394245</td><td> 179</td><td>+</td><td>HAVANA</td><td>exon</td><td>NA</td><td>NA</td><td>ENSG00000147133.17</td><td>⋯</td><td>0.2710071</td><td>-1.01228871</td><td>0.31140003</td><td>0.9999996</td><td> 179</td><td>ENSG00000147133.17</td><td>ENSG00000147133</td><td>TAF1</td><td>6872</td><td>Mature_organoids_all_comparison_design1_deseq2</td></tr>\n",
       "\t<tr><td>chrX</td><td>71397253</td><td>71397466</td><td> 214</td><td>+</td><td>HAVANA</td><td>exon</td><td>NA</td><td>NA</td><td>ENSG00000147133.17</td><td>⋯</td><td>0.3980686</td><td>-1.05838407</td><td>0.28988038</td><td>0.9999996</td><td> 214</td><td>ENSG00000147133.17</td><td>ENSG00000147133</td><td>TAF1</td><td>6872</td><td>Mature_organoids_all_comparison_design1_deseq2</td></tr>\n",
       "\t<tr><td>chrX</td><td>71398572</td><td>71398737</td><td> 166</td><td>+</td><td>HAVANA</td><td>exon</td><td>NA</td><td>NA</td><td>ENSG00000147133.17</td><td>⋯</td><td>0.3288550</td><td>-2.04921722</td><td>0.04044088</td><td>0.9999996</td><td> 166</td><td>ENSG00000147133.17</td><td>ENSG00000147133</td><td>TAF1</td><td>6872</td><td>Mature_organoids_all_comparison_design1_deseq2</td></tr>\n",
       "\t<tr><td>chrX</td><td>71401528</td><td>71401739</td><td> 212</td><td>+</td><td>HAVANA</td><td>exon</td><td>NA</td><td>NA</td><td>ENSG00000147133.17</td><td>⋯</td><td>0.2376246</td><td>-0.06221636</td><td>0.95039054</td><td>0.9999996</td><td> 212</td><td>ENSG00000147133.17</td><td>ENSG00000147133</td><td>TAF1</td><td>6872</td><td>Mature_organoids_all_comparison_design1_deseq2</td></tr>\n",
       "\t<tr><td>chrX</td><td>71406638</td><td>71406746</td><td> 109</td><td>+</td><td>HAVANA</td><td>exon</td><td>NA</td><td>NA</td><td>ENSG00000147133.17</td><td>⋯</td><td>0.3611653</td><td>-0.76887565</td><td>0.44196713</td><td>0.9999996</td><td> 109</td><td>ENSG00000147133.17</td><td>ENSG00000147133</td><td>TAF1</td><td>6872</td><td>Mature_organoids_all_comparison_design1_deseq2</td></tr>\n",
       "\t<tr><td>chrX</td><td>71407574</td><td>71407672</td><td>  99</td><td>+</td><td>HAVANA</td><td>exon</td><td>NA</td><td>NA</td><td>ENSG00000147133.17</td><td>⋯</td><td>0.3576033</td><td>-0.67676276</td><td>0.49855649</td><td>0.9999996</td><td>  99</td><td>ENSG00000147133.17</td><td>ENSG00000147133</td><td>TAF1</td><td>6872</td><td>Mature_organoids_all_comparison_design1_deseq2</td></tr>\n",
       "\t<tr><td>chrX</td><td>71407974</td><td>71408151</td><td> 178</td><td>+</td><td>HAVANA</td><td>exon</td><td>NA</td><td>NA</td><td>ENSG00000147133.17</td><td>⋯</td><td>0.3007278</td><td>-0.67633926</td><td>0.49882527</td><td>0.9999996</td><td> 178</td><td>ENSG00000147133.17</td><td>ENSG00000147133</td><td>TAF1</td><td>6872</td><td>Mature_organoids_all_comparison_design1_deseq2</td></tr>\n",
       "\t<tr><td>chrX</td><td>71421309</td><td>71421376</td><td>  68</td><td>+</td><td>HAVANA</td><td>exon</td><td>NA</td><td>NA</td><td>ENSG00000147133.17</td><td>⋯</td><td>0.2350215</td><td> 0.22890029</td><td>0.81894641</td><td>0.9999996</td><td>  68</td><td>ENSG00000147133.17</td><td>ENSG00000147133</td><td>TAF1</td><td>6872</td><td>Mature_organoids_all_comparison_design1_deseq2</td></tr>\n",
       "\t<tr><td>chrX</td><td>71423117</td><td>71423239</td><td> 123</td><td>+</td><td>HAVANA</td><td>exon</td><td>NA</td><td>NA</td><td>ENSG00000147133.17</td><td>⋯</td><td>0.1852513</td><td>-0.39016288</td><td>0.69641611</td><td>0.9999996</td><td> 123</td><td>ENSG00000147133.17</td><td>ENSG00000147133</td><td>TAF1</td><td>6872</td><td>Mature_organoids_all_comparison_design1_deseq2</td></tr>\n",
       "\t<tr><td>chrX</td><td>71423974</td><td>71424066</td><td>  93</td><td>+</td><td>HAVANA</td><td>exon</td><td>NA</td><td>NA</td><td>ENSG00000147133.17</td><td>⋯</td><td>0.2294922</td><td> 1.15846603</td><td>0.24667391</td><td>0.9999996</td><td>  93</td><td>ENSG00000147133.17</td><td>ENSG00000147133</td><td>TAF1</td><td>6872</td><td>Mature_organoids_all_comparison_design1_deseq2</td></tr>\n",
       "\t<tr><td>chrX</td><td>71424154</td><td>71424238</td><td>  85</td><td>+</td><td>HAVANA</td><td>exon</td><td>NA</td><td>NA</td><td>ENSG00000147133.17</td><td>⋯</td><td>0.2134892</td><td> 1.19412160</td><td>0.23243040</td><td>0.9999996</td><td>  85</td><td>ENSG00000147133.17</td><td>ENSG00000147133</td><td>TAF1</td><td>6872</td><td>Mature_organoids_all_comparison_design1_deseq2</td></tr>\n",
       "\t<tr><td>chrX</td><td>71454170</td><td>71454237</td><td>  68</td><td>+</td><td>HAVANA</td><td>exon</td><td>NA</td><td>NA</td><td>ENSG00000147133.17</td><td>⋯</td><td>0.2363831</td><td>-0.21952325</td><td>0.82624247</td><td>0.9999996</td><td>  68</td><td>ENSG00000147133.17</td><td>ENSG00000147133</td><td>TAF1</td><td>6872</td><td>Mature_organoids_all_comparison_design1_deseq2</td></tr>\n",
       "\t<tr><td>chrX</td><td>71454741</td><td>71454857</td><td> 117</td><td>+</td><td>HAVANA</td><td>exon</td><td>NA</td><td>NA</td><td>ENSG00000147133.17</td><td>⋯</td><td>0.2157454</td><td>-0.65424153</td><td>0.51295621</td><td>0.9999996</td><td> 117</td><td>ENSG00000147133.17</td><td>ENSG00000147133</td><td>TAF1</td><td>6872</td><td>Mature_organoids_all_comparison_design1_deseq2</td></tr>\n",
       "\t<tr><td>chrX</td><td>71458241</td><td>71458366</td><td> 126</td><td>+</td><td>HAVANA</td><td>exon</td><td>NA</td><td>NA</td><td>ENSG00000147133.17</td><td>⋯</td><td>0.2819981</td><td>-1.06464256</td><td>0.28703771</td><td>0.9999996</td><td> 126</td><td>ENSG00000147133.17</td><td>ENSG00000147133</td><td>TAF1</td><td>6872</td><td>Mature_organoids_all_comparison_design1_deseq2</td></tr>\n",
       "\t<tr><td>chrX</td><td>71459552</td><td>71459708</td><td> 157</td><td>+</td><td>HAVANA</td><td>exon</td><td>NA</td><td>NA</td><td>ENSG00000147133.17</td><td>⋯</td><td>0.3046909</td><td>-0.50555899</td><td>0.61316628</td><td>0.9999996</td><td> 157</td><td>ENSG00000147133.17</td><td>ENSG00000147133</td><td>TAF1</td><td>6872</td><td>Mature_organoids_all_comparison_design1_deseq2</td></tr>\n",
       "\t<tr><td>chrX</td><td>71460626</td><td>71460803</td><td> 178</td><td>+</td><td>HAVANA</td><td>exon</td><td>NA</td><td>NA</td><td>ENSG00000147133.17</td><td>⋯</td><td>0.3293636</td><td>-0.05395671</td><td>0.95696966</td><td>0.9999996</td><td> 178</td><td>ENSG00000147133.17</td><td>ENSG00000147133</td><td>TAF1</td><td>6872</td><td>Mature_organoids_all_comparison_design1_deseq2</td></tr>\n",
       "\t<tr><td>chrX</td><td>71463824</td><td>71466005</td><td>2182</td><td>+</td><td>HAVANA</td><td>exon</td><td>NA</td><td>NA</td><td>ENSG00000147133.17</td><td>⋯</td><td>0.1646417</td><td> 0.15407434</td><td>0.87755112</td><td>0.9999996</td><td>2182</td><td>ENSG00000147133.17</td><td>ENSG00000147133</td><td>TAF1</td><td>6872</td><td>Mature_organoids_all_comparison_design1_deseq2</td></tr>\n",
       "</tbody>\n",
       "</table>\n"
      ],
      "text/latex": [
       "A data.frame: 38 × 40\n",
       "\\begin{tabular}{lllllllllllllllllllll}\n",
       " seqnames & start & end & width & strand & source & type & score & phase & gene\\_id & ⋯ & lfcSE & stat & pvalue & padj & Length & gencodeID & ensemblID & Symbol & EntrezID & filename\\\\\n",
       " <fct> & <int> & <int> & <int> & <fct> & <fct> & <fct> & <dbl> & <int> & <chr> & ⋯ & <dbl> & <dbl> & <dbl> & <dbl> & <int> & <chr> & <chr> & <chr> & <int> & <chr>\\\\\n",
       "\\hline\n",
       "\t chrX & 71366357 & 71366494 &  138 & + & HAVANA & exon & NA & NA & ENSG00000147133.17 & ⋯ & 1.4956803 &  0.26455388 & 0.79135315 & 0.9999996 &  138 & ENSG00000147133.17 & ENSG00000147133 & TAF1 & 6872 & Mature\\_organoids\\_all\\_comparison\\_design1\\_deseq2\\\\\n",
       "\t chrX & 71367499 & 71367613 &  115 & + & HAVANA & exon & NA & NA & ENSG00000147133.17 & ⋯ & 0.5907289 & -2.26161380 & 0.02372127 & 0.9999996 &  115 & ENSG00000147133.17 & ENSG00000147133 & TAF1 & 6872 & Mature\\_organoids\\_all\\_comparison\\_design1\\_deseq2\\\\\n",
       "\t chrX & 71368054 & 71368170 &  117 & + & HAVANA & exon & NA & NA & ENSG00000147133.17 & ⋯ & 0.4443199 & -1.52056516 & 0.12836900 & 0.9999996 &  117 & ENSG00000147133.17 & ENSG00000147133 & TAF1 & 6872 & Mature\\_organoids\\_all\\_comparison\\_design1\\_deseq2\\\\\n",
       "\t chrX & 71375167 & 71375286 &  120 & + & HAVANA & exon & NA & NA & ENSG00000147133.17 & ⋯ & 0.3765804 & -1.59396114 & 0.11094474 & 0.9999996 &  120 & ENSG00000147133.17 & ENSG00000147133 & TAF1 & 6872 & Mature\\_organoids\\_all\\_comparison\\_design1\\_deseq2\\\\\n",
       "\t chrX & 71376950 & 71377191 &  242 & + & HAVANA & exon & NA & NA & ENSG00000147133.17 & ⋯ & 0.3760069 & -1.01306669 & 0.31102831 & 0.9999996 &  242 & ENSG00000147133.17 & ENSG00000147133 & TAF1 & 6872 & Mature\\_organoids\\_all\\_comparison\\_design1\\_deseq2\\\\\n",
       "\t chrX & 71377603 & 71377821 &  219 & + & HAVANA & exon & NA & NA & ENSG00000147133.17 & ⋯ & 0.3685270 & -1.08945763 & 0.27595213 & 0.9999996 &  219 & ENSG00000147133.17 & ENSG00000147133 & TAF1 & 6872 & Mature\\_organoids\\_all\\_comparison\\_design1\\_deseq2\\\\\n",
       "\t chrX & 71378235 & 71378453 &  219 & + & HAVANA & exon & NA & NA & ENSG00000147133.17 & ⋯ & 0.2618394 & -0.43819839 & 0.66124248 & 0.9999996 &  219 & ENSG00000147133.17 & ENSG00000147133 & TAF1 & 6872 & Mature\\_organoids\\_all\\_comparison\\_design1\\_deseq2\\\\\n",
       "\t chrX & 71378824 & 71379031 &  208 & + & HAVANA & exon & NA & NA & ENSG00000147133.17 & ⋯ & 0.2513687 & -0.22846286 & 0.81928643 & 0.9999996 &  208 & ENSG00000147133.17 & ENSG00000147133 & TAF1 & 6872 & Mature\\_organoids\\_all\\_comparison\\_design1\\_deseq2\\\\\n",
       "\t chrX & 71381743 & 71381919 &  177 & + & HAVANA & exon & NA & NA & ENSG00000147133.17 & ⋯ & 0.3178317 & -1.20564629 & 0.22795390 & 0.9999996 &  177 & ENSG00000147133.17 & ENSG00000147133 & TAF1 & 6872 & Mature\\_organoids\\_all\\_comparison\\_design1\\_deseq2\\\\\n",
       "\t chrX & 71382536 & 71382663 &  128 & + & HAVANA & exon & NA & NA & ENSG00000147133.17 & ⋯ & 0.2606408 & -0.03877354 & 0.96907094 & 0.9999996 &  128 & ENSG00000147133.17 & ENSG00000147133 & TAF1 & 6872 & Mature\\_organoids\\_all\\_comparison\\_design1\\_deseq2\\\\\n",
       "\t chrX & 71382761 & 71382868 &  108 & + & HAVANA & exon & NA & NA & ENSG00000147133.17 & ⋯ & 0.2671252 &  0.85496952 & 0.39256802 & 0.9999996 &  108 & ENSG00000147133.17 & ENSG00000147133 & TAF1 & 6872 & Mature\\_organoids\\_all\\_comparison\\_design1\\_deseq2\\\\\n",
       "\t chrX & 71382991 & 71383164 &  174 & + & HAVANA & exon & NA & NA & ENSG00000147133.17 & ⋯ & 0.3005002 &  0.44131837 & 0.65898253 & 0.9999996 &  174 & ENSG00000147133.17 & ENSG00000147133 & TAF1 & 6872 & Mature\\_organoids\\_all\\_comparison\\_design1\\_deseq2\\\\\n",
       "\t chrX & 71383962 & 71384135 &  174 & + & HAVANA & exon & NA & NA & ENSG00000147133.17 & ⋯ & 0.2275133 &  0.95112736 & 0.34153973 & 0.9999996 &  174 & ENSG00000147133.17 & ENSG00000147133 & TAF1 & 6872 & Mature\\_organoids\\_all\\_comparison\\_design1\\_deseq2\\\\\n",
       "\t chrX & 71384945 & 71385049 &  105 & + & HAVANA & exon & NA & NA & ENSG00000147133.17 & ⋯ & 0.2033146 &  0.73117361 & 0.46467312 & 0.9999996 &  105 & ENSG00000147133.17 & ENSG00000147133 & TAF1 & 6872 & Mature\\_organoids\\_all\\_comparison\\_design1\\_deseq2\\\\\n",
       "\t chrX & 71387261 & 71387461 &  201 & + & HAVANA & exon & NA & NA & ENSG00000147133.17 & ⋯ & 0.2109785 & -0.15731890 & 0.87499352 & 0.9999996 &  201 & ENSG00000147133.17 & ENSG00000147133 & TAF1 & 6872 & Mature\\_organoids\\_all\\_comparison\\_design1\\_deseq2\\\\\n",
       "\t chrX & 71388237 & 71388378 &  142 & + & HAVANA & exon & NA & NA & ENSG00000147133.17 & ⋯ & 0.2482987 & -0.75044201 & 0.45298854 & 0.9999996 &  142 & ENSG00000147133.17 & ENSG00000147133 & TAF1 & 6872 & Mature\\_organoids\\_all\\_comparison\\_design1\\_deseq2\\\\\n",
       "\t chrX & 71388738 & 71388868 &  131 & + & HAVANA & exon & NA & NA & ENSG00000147133.17 & ⋯ & 0.3292174 &  0.18871170 & 0.85031878 & 0.9999996 &  131 & ENSG00000147133.17 & ENSG00000147133 & TAF1 & 6872 & Mature\\_organoids\\_all\\_comparison\\_design1\\_deseq2\\\\\n",
       "\t chrX & 71389585 & 71389665 &   81 & + & HAVANA & exon & NA & NA & ENSG00000147133.17 & ⋯ & 0.2848120 &  0.17211539 & 0.86334681 & 0.9999996 &   81 & ENSG00000147133.17 & ENSG00000147133 & TAF1 & 6872 & Mature\\_organoids\\_all\\_comparison\\_design1\\_deseq2\\\\\n",
       "\t chrX & 71392569 & 71392718 &  150 & + & HAVANA & exon & NA & NA & ENSG00000147133.17 & ⋯ & 0.4659944 & -1.05226122 & 0.29267972 & 0.9999996 &  150 & ENSG00000147133.17 & ENSG00000147133 & TAF1 & 6872 & Mature\\_organoids\\_all\\_comparison\\_design1\\_deseq2\\\\\n",
       "\t chrX & 71392875 & 71392994 &  120 & + & HAVANA & exon & NA & NA & ENSG00000147133.17 & ⋯ & 0.4936757 & -0.69782612 & 0.48528594 & 0.9999996 &  120 & ENSG00000147133.17 & ENSG00000147133 & TAF1 & 6872 & Mature\\_organoids\\_all\\_comparison\\_design1\\_deseq2\\\\\n",
       "\t chrX & 71393301 & 71393476 &  176 & + & HAVANA & exon & NA & NA & ENSG00000147133.17 & ⋯ & 0.3501136 & -0.73409056 & 0.46289355 & 0.9999996 &  176 & ENSG00000147133.17 & ENSG00000147133 & TAF1 & 6872 & Mature\\_organoids\\_all\\_comparison\\_design1\\_deseq2\\\\\n",
       "\t chrX & 71394067 & 71394245 &  179 & + & HAVANA & exon & NA & NA & ENSG00000147133.17 & ⋯ & 0.2710071 & -1.01228871 & 0.31140003 & 0.9999996 &  179 & ENSG00000147133.17 & ENSG00000147133 & TAF1 & 6872 & Mature\\_organoids\\_all\\_comparison\\_design1\\_deseq2\\\\\n",
       "\t chrX & 71397253 & 71397466 &  214 & + & HAVANA & exon & NA & NA & ENSG00000147133.17 & ⋯ & 0.3980686 & -1.05838407 & 0.28988038 & 0.9999996 &  214 & ENSG00000147133.17 & ENSG00000147133 & TAF1 & 6872 & Mature\\_organoids\\_all\\_comparison\\_design1\\_deseq2\\\\\n",
       "\t chrX & 71398572 & 71398737 &  166 & + & HAVANA & exon & NA & NA & ENSG00000147133.17 & ⋯ & 0.3288550 & -2.04921722 & 0.04044088 & 0.9999996 &  166 & ENSG00000147133.17 & ENSG00000147133 & TAF1 & 6872 & Mature\\_organoids\\_all\\_comparison\\_design1\\_deseq2\\\\\n",
       "\t chrX & 71401528 & 71401739 &  212 & + & HAVANA & exon & NA & NA & ENSG00000147133.17 & ⋯ & 0.2376246 & -0.06221636 & 0.95039054 & 0.9999996 &  212 & ENSG00000147133.17 & ENSG00000147133 & TAF1 & 6872 & Mature\\_organoids\\_all\\_comparison\\_design1\\_deseq2\\\\\n",
       "\t chrX & 71406638 & 71406746 &  109 & + & HAVANA & exon & NA & NA & ENSG00000147133.17 & ⋯ & 0.3611653 & -0.76887565 & 0.44196713 & 0.9999996 &  109 & ENSG00000147133.17 & ENSG00000147133 & TAF1 & 6872 & Mature\\_organoids\\_all\\_comparison\\_design1\\_deseq2\\\\\n",
       "\t chrX & 71407574 & 71407672 &   99 & + & HAVANA & exon & NA & NA & ENSG00000147133.17 & ⋯ & 0.3576033 & -0.67676276 & 0.49855649 & 0.9999996 &   99 & ENSG00000147133.17 & ENSG00000147133 & TAF1 & 6872 & Mature\\_organoids\\_all\\_comparison\\_design1\\_deseq2\\\\\n",
       "\t chrX & 71407974 & 71408151 &  178 & + & HAVANA & exon & NA & NA & ENSG00000147133.17 & ⋯ & 0.3007278 & -0.67633926 & 0.49882527 & 0.9999996 &  178 & ENSG00000147133.17 & ENSG00000147133 & TAF1 & 6872 & Mature\\_organoids\\_all\\_comparison\\_design1\\_deseq2\\\\\n",
       "\t chrX & 71421309 & 71421376 &   68 & + & HAVANA & exon & NA & NA & ENSG00000147133.17 & ⋯ & 0.2350215 &  0.22890029 & 0.81894641 & 0.9999996 &   68 & ENSG00000147133.17 & ENSG00000147133 & TAF1 & 6872 & Mature\\_organoids\\_all\\_comparison\\_design1\\_deseq2\\\\\n",
       "\t chrX & 71423117 & 71423239 &  123 & + & HAVANA & exon & NA & NA & ENSG00000147133.17 & ⋯ & 0.1852513 & -0.39016288 & 0.69641611 & 0.9999996 &  123 & ENSG00000147133.17 & ENSG00000147133 & TAF1 & 6872 & Mature\\_organoids\\_all\\_comparison\\_design1\\_deseq2\\\\\n",
       "\t chrX & 71423974 & 71424066 &   93 & + & HAVANA & exon & NA & NA & ENSG00000147133.17 & ⋯ & 0.2294922 &  1.15846603 & 0.24667391 & 0.9999996 &   93 & ENSG00000147133.17 & ENSG00000147133 & TAF1 & 6872 & Mature\\_organoids\\_all\\_comparison\\_design1\\_deseq2\\\\\n",
       "\t chrX & 71424154 & 71424238 &   85 & + & HAVANA & exon & NA & NA & ENSG00000147133.17 & ⋯ & 0.2134892 &  1.19412160 & 0.23243040 & 0.9999996 &   85 & ENSG00000147133.17 & ENSG00000147133 & TAF1 & 6872 & Mature\\_organoids\\_all\\_comparison\\_design1\\_deseq2\\\\\n",
       "\t chrX & 71454170 & 71454237 &   68 & + & HAVANA & exon & NA & NA & ENSG00000147133.17 & ⋯ & 0.2363831 & -0.21952325 & 0.82624247 & 0.9999996 &   68 & ENSG00000147133.17 & ENSG00000147133 & TAF1 & 6872 & Mature\\_organoids\\_all\\_comparison\\_design1\\_deseq2\\\\\n",
       "\t chrX & 71454741 & 71454857 &  117 & + & HAVANA & exon & NA & NA & ENSG00000147133.17 & ⋯ & 0.2157454 & -0.65424153 & 0.51295621 & 0.9999996 &  117 & ENSG00000147133.17 & ENSG00000147133 & TAF1 & 6872 & Mature\\_organoids\\_all\\_comparison\\_design1\\_deseq2\\\\\n",
       "\t chrX & 71458241 & 71458366 &  126 & + & HAVANA & exon & NA & NA & ENSG00000147133.17 & ⋯ & 0.2819981 & -1.06464256 & 0.28703771 & 0.9999996 &  126 & ENSG00000147133.17 & ENSG00000147133 & TAF1 & 6872 & Mature\\_organoids\\_all\\_comparison\\_design1\\_deseq2\\\\\n",
       "\t chrX & 71459552 & 71459708 &  157 & + & HAVANA & exon & NA & NA & ENSG00000147133.17 & ⋯ & 0.3046909 & -0.50555899 & 0.61316628 & 0.9999996 &  157 & ENSG00000147133.17 & ENSG00000147133 & TAF1 & 6872 & Mature\\_organoids\\_all\\_comparison\\_design1\\_deseq2\\\\\n",
       "\t chrX & 71460626 & 71460803 &  178 & + & HAVANA & exon & NA & NA & ENSG00000147133.17 & ⋯ & 0.3293636 & -0.05395671 & 0.95696966 & 0.9999996 &  178 & ENSG00000147133.17 & ENSG00000147133 & TAF1 & 6872 & Mature\\_organoids\\_all\\_comparison\\_design1\\_deseq2\\\\\n",
       "\t chrX & 71463824 & 71466005 & 2182 & + & HAVANA & exon & NA & NA & ENSG00000147133.17 & ⋯ & 0.1646417 &  0.15407434 & 0.87755112 & 0.9999996 & 2182 & ENSG00000147133.17 & ENSG00000147133 & TAF1 & 6872 & Mature\\_organoids\\_all\\_comparison\\_design1\\_deseq2\\\\\n",
       "\\end{tabular}\n"
      ],
      "text/markdown": [
       "\n",
       "A data.frame: 38 × 40\n",
       "\n",
       "| seqnames &lt;fct&gt; | start &lt;int&gt; | end &lt;int&gt; | width &lt;int&gt; | strand &lt;fct&gt; | source &lt;fct&gt; | type &lt;fct&gt; | score &lt;dbl&gt; | phase &lt;int&gt; | gene_id &lt;chr&gt; | ⋯ ⋯ | lfcSE &lt;dbl&gt; | stat &lt;dbl&gt; | pvalue &lt;dbl&gt; | padj &lt;dbl&gt; | Length &lt;int&gt; | gencodeID &lt;chr&gt; | ensemblID &lt;chr&gt; | Symbol &lt;chr&gt; | EntrezID &lt;int&gt; | filename &lt;chr&gt; |\n",
       "|---|---|---|---|---|---|---|---|---|---|---|---|---|---|---|---|---|---|---|---|---|\n",
       "| chrX | 71366357 | 71366494 |  138 | + | HAVANA | exon | NA | NA | ENSG00000147133.17 | ⋯ | 1.4956803 |  0.26455388 | 0.79135315 | 0.9999996 |  138 | ENSG00000147133.17 | ENSG00000147133 | TAF1 | 6872 | Mature_organoids_all_comparison_design1_deseq2 |\n",
       "| chrX | 71367499 | 71367613 |  115 | + | HAVANA | exon | NA | NA | ENSG00000147133.17 | ⋯ | 0.5907289 | -2.26161380 | 0.02372127 | 0.9999996 |  115 | ENSG00000147133.17 | ENSG00000147133 | TAF1 | 6872 | Mature_organoids_all_comparison_design1_deseq2 |\n",
       "| chrX | 71368054 | 71368170 |  117 | + | HAVANA | exon | NA | NA | ENSG00000147133.17 | ⋯ | 0.4443199 | -1.52056516 | 0.12836900 | 0.9999996 |  117 | ENSG00000147133.17 | ENSG00000147133 | TAF1 | 6872 | Mature_organoids_all_comparison_design1_deseq2 |\n",
       "| chrX | 71375167 | 71375286 |  120 | + | HAVANA | exon | NA | NA | ENSG00000147133.17 | ⋯ | 0.3765804 | -1.59396114 | 0.11094474 | 0.9999996 |  120 | ENSG00000147133.17 | ENSG00000147133 | TAF1 | 6872 | Mature_organoids_all_comparison_design1_deseq2 |\n",
       "| chrX | 71376950 | 71377191 |  242 | + | HAVANA | exon | NA | NA | ENSG00000147133.17 | ⋯ | 0.3760069 | -1.01306669 | 0.31102831 | 0.9999996 |  242 | ENSG00000147133.17 | ENSG00000147133 | TAF1 | 6872 | Mature_organoids_all_comparison_design1_deseq2 |\n",
       "| chrX | 71377603 | 71377821 |  219 | + | HAVANA | exon | NA | NA | ENSG00000147133.17 | ⋯ | 0.3685270 | -1.08945763 | 0.27595213 | 0.9999996 |  219 | ENSG00000147133.17 | ENSG00000147133 | TAF1 | 6872 | Mature_organoids_all_comparison_design1_deseq2 |\n",
       "| chrX | 71378235 | 71378453 |  219 | + | HAVANA | exon | NA | NA | ENSG00000147133.17 | ⋯ | 0.2618394 | -0.43819839 | 0.66124248 | 0.9999996 |  219 | ENSG00000147133.17 | ENSG00000147133 | TAF1 | 6872 | Mature_organoids_all_comparison_design1_deseq2 |\n",
       "| chrX | 71378824 | 71379031 |  208 | + | HAVANA | exon | NA | NA | ENSG00000147133.17 | ⋯ | 0.2513687 | -0.22846286 | 0.81928643 | 0.9999996 |  208 | ENSG00000147133.17 | ENSG00000147133 | TAF1 | 6872 | Mature_organoids_all_comparison_design1_deseq2 |\n",
       "| chrX | 71381743 | 71381919 |  177 | + | HAVANA | exon | NA | NA | ENSG00000147133.17 | ⋯ | 0.3178317 | -1.20564629 | 0.22795390 | 0.9999996 |  177 | ENSG00000147133.17 | ENSG00000147133 | TAF1 | 6872 | Mature_organoids_all_comparison_design1_deseq2 |\n",
       "| chrX | 71382536 | 71382663 |  128 | + | HAVANA | exon | NA | NA | ENSG00000147133.17 | ⋯ | 0.2606408 | -0.03877354 | 0.96907094 | 0.9999996 |  128 | ENSG00000147133.17 | ENSG00000147133 | TAF1 | 6872 | Mature_organoids_all_comparison_design1_deseq2 |\n",
       "| chrX | 71382761 | 71382868 |  108 | + | HAVANA | exon | NA | NA | ENSG00000147133.17 | ⋯ | 0.2671252 |  0.85496952 | 0.39256802 | 0.9999996 |  108 | ENSG00000147133.17 | ENSG00000147133 | TAF1 | 6872 | Mature_organoids_all_comparison_design1_deseq2 |\n",
       "| chrX | 71382991 | 71383164 |  174 | + | HAVANA | exon | NA | NA | ENSG00000147133.17 | ⋯ | 0.3005002 |  0.44131837 | 0.65898253 | 0.9999996 |  174 | ENSG00000147133.17 | ENSG00000147133 | TAF1 | 6872 | Mature_organoids_all_comparison_design1_deseq2 |\n",
       "| chrX | 71383962 | 71384135 |  174 | + | HAVANA | exon | NA | NA | ENSG00000147133.17 | ⋯ | 0.2275133 |  0.95112736 | 0.34153973 | 0.9999996 |  174 | ENSG00000147133.17 | ENSG00000147133 | TAF1 | 6872 | Mature_organoids_all_comparison_design1_deseq2 |\n",
       "| chrX | 71384945 | 71385049 |  105 | + | HAVANA | exon | NA | NA | ENSG00000147133.17 | ⋯ | 0.2033146 |  0.73117361 | 0.46467312 | 0.9999996 |  105 | ENSG00000147133.17 | ENSG00000147133 | TAF1 | 6872 | Mature_organoids_all_comparison_design1_deseq2 |\n",
       "| chrX | 71387261 | 71387461 |  201 | + | HAVANA | exon | NA | NA | ENSG00000147133.17 | ⋯ | 0.2109785 | -0.15731890 | 0.87499352 | 0.9999996 |  201 | ENSG00000147133.17 | ENSG00000147133 | TAF1 | 6872 | Mature_organoids_all_comparison_design1_deseq2 |\n",
       "| chrX | 71388237 | 71388378 |  142 | + | HAVANA | exon | NA | NA | ENSG00000147133.17 | ⋯ | 0.2482987 | -0.75044201 | 0.45298854 | 0.9999996 |  142 | ENSG00000147133.17 | ENSG00000147133 | TAF1 | 6872 | Mature_organoids_all_comparison_design1_deseq2 |\n",
       "| chrX | 71388738 | 71388868 |  131 | + | HAVANA | exon | NA | NA | ENSG00000147133.17 | ⋯ | 0.3292174 |  0.18871170 | 0.85031878 | 0.9999996 |  131 | ENSG00000147133.17 | ENSG00000147133 | TAF1 | 6872 | Mature_organoids_all_comparison_design1_deseq2 |\n",
       "| chrX | 71389585 | 71389665 |   81 | + | HAVANA | exon | NA | NA | ENSG00000147133.17 | ⋯ | 0.2848120 |  0.17211539 | 0.86334681 | 0.9999996 |   81 | ENSG00000147133.17 | ENSG00000147133 | TAF1 | 6872 | Mature_organoids_all_comparison_design1_deseq2 |\n",
       "| chrX | 71392569 | 71392718 |  150 | + | HAVANA | exon | NA | NA | ENSG00000147133.17 | ⋯ | 0.4659944 | -1.05226122 | 0.29267972 | 0.9999996 |  150 | ENSG00000147133.17 | ENSG00000147133 | TAF1 | 6872 | Mature_organoids_all_comparison_design1_deseq2 |\n",
       "| chrX | 71392875 | 71392994 |  120 | + | HAVANA | exon | NA | NA | ENSG00000147133.17 | ⋯ | 0.4936757 | -0.69782612 | 0.48528594 | 0.9999996 |  120 | ENSG00000147133.17 | ENSG00000147133 | TAF1 | 6872 | Mature_organoids_all_comparison_design1_deseq2 |\n",
       "| chrX | 71393301 | 71393476 |  176 | + | HAVANA | exon | NA | NA | ENSG00000147133.17 | ⋯ | 0.3501136 | -0.73409056 | 0.46289355 | 0.9999996 |  176 | ENSG00000147133.17 | ENSG00000147133 | TAF1 | 6872 | Mature_organoids_all_comparison_design1_deseq2 |\n",
       "| chrX | 71394067 | 71394245 |  179 | + | HAVANA | exon | NA | NA | ENSG00000147133.17 | ⋯ | 0.2710071 | -1.01228871 | 0.31140003 | 0.9999996 |  179 | ENSG00000147133.17 | ENSG00000147133 | TAF1 | 6872 | Mature_organoids_all_comparison_design1_deseq2 |\n",
       "| chrX | 71397253 | 71397466 |  214 | + | HAVANA | exon | NA | NA | ENSG00000147133.17 | ⋯ | 0.3980686 | -1.05838407 | 0.28988038 | 0.9999996 |  214 | ENSG00000147133.17 | ENSG00000147133 | TAF1 | 6872 | Mature_organoids_all_comparison_design1_deseq2 |\n",
       "| chrX | 71398572 | 71398737 |  166 | + | HAVANA | exon | NA | NA | ENSG00000147133.17 | ⋯ | 0.3288550 | -2.04921722 | 0.04044088 | 0.9999996 |  166 | ENSG00000147133.17 | ENSG00000147133 | TAF1 | 6872 | Mature_organoids_all_comparison_design1_deseq2 |\n",
       "| chrX | 71401528 | 71401739 |  212 | + | HAVANA | exon | NA | NA | ENSG00000147133.17 | ⋯ | 0.2376246 | -0.06221636 | 0.95039054 | 0.9999996 |  212 | ENSG00000147133.17 | ENSG00000147133 | TAF1 | 6872 | Mature_organoids_all_comparison_design1_deseq2 |\n",
       "| chrX | 71406638 | 71406746 |  109 | + | HAVANA | exon | NA | NA | ENSG00000147133.17 | ⋯ | 0.3611653 | -0.76887565 | 0.44196713 | 0.9999996 |  109 | ENSG00000147133.17 | ENSG00000147133 | TAF1 | 6872 | Mature_organoids_all_comparison_design1_deseq2 |\n",
       "| chrX | 71407574 | 71407672 |   99 | + | HAVANA | exon | NA | NA | ENSG00000147133.17 | ⋯ | 0.3576033 | -0.67676276 | 0.49855649 | 0.9999996 |   99 | ENSG00000147133.17 | ENSG00000147133 | TAF1 | 6872 | Mature_organoids_all_comparison_design1_deseq2 |\n",
       "| chrX | 71407974 | 71408151 |  178 | + | HAVANA | exon | NA | NA | ENSG00000147133.17 | ⋯ | 0.3007278 | -0.67633926 | 0.49882527 | 0.9999996 |  178 | ENSG00000147133.17 | ENSG00000147133 | TAF1 | 6872 | Mature_organoids_all_comparison_design1_deseq2 |\n",
       "| chrX | 71421309 | 71421376 |   68 | + | HAVANA | exon | NA | NA | ENSG00000147133.17 | ⋯ | 0.2350215 |  0.22890029 | 0.81894641 | 0.9999996 |   68 | ENSG00000147133.17 | ENSG00000147133 | TAF1 | 6872 | Mature_organoids_all_comparison_design1_deseq2 |\n",
       "| chrX | 71423117 | 71423239 |  123 | + | HAVANA | exon | NA | NA | ENSG00000147133.17 | ⋯ | 0.1852513 | -0.39016288 | 0.69641611 | 0.9999996 |  123 | ENSG00000147133.17 | ENSG00000147133 | TAF1 | 6872 | Mature_organoids_all_comparison_design1_deseq2 |\n",
       "| chrX | 71423974 | 71424066 |   93 | + | HAVANA | exon | NA | NA | ENSG00000147133.17 | ⋯ | 0.2294922 |  1.15846603 | 0.24667391 | 0.9999996 |   93 | ENSG00000147133.17 | ENSG00000147133 | TAF1 | 6872 | Mature_organoids_all_comparison_design1_deseq2 |\n",
       "| chrX | 71424154 | 71424238 |   85 | + | HAVANA | exon | NA | NA | ENSG00000147133.17 | ⋯ | 0.2134892 |  1.19412160 | 0.23243040 | 0.9999996 |   85 | ENSG00000147133.17 | ENSG00000147133 | TAF1 | 6872 | Mature_organoids_all_comparison_design1_deseq2 |\n",
       "| chrX | 71454170 | 71454237 |   68 | + | HAVANA | exon | NA | NA | ENSG00000147133.17 | ⋯ | 0.2363831 | -0.21952325 | 0.82624247 | 0.9999996 |   68 | ENSG00000147133.17 | ENSG00000147133 | TAF1 | 6872 | Mature_organoids_all_comparison_design1_deseq2 |\n",
       "| chrX | 71454741 | 71454857 |  117 | + | HAVANA | exon | NA | NA | ENSG00000147133.17 | ⋯ | 0.2157454 | -0.65424153 | 0.51295621 | 0.9999996 |  117 | ENSG00000147133.17 | ENSG00000147133 | TAF1 | 6872 | Mature_organoids_all_comparison_design1_deseq2 |\n",
       "| chrX | 71458241 | 71458366 |  126 | + | HAVANA | exon | NA | NA | ENSG00000147133.17 | ⋯ | 0.2819981 | -1.06464256 | 0.28703771 | 0.9999996 |  126 | ENSG00000147133.17 | ENSG00000147133 | TAF1 | 6872 | Mature_organoids_all_comparison_design1_deseq2 |\n",
       "| chrX | 71459552 | 71459708 |  157 | + | HAVANA | exon | NA | NA | ENSG00000147133.17 | ⋯ | 0.3046909 | -0.50555899 | 0.61316628 | 0.9999996 |  157 | ENSG00000147133.17 | ENSG00000147133 | TAF1 | 6872 | Mature_organoids_all_comparison_design1_deseq2 |\n",
       "| chrX | 71460626 | 71460803 |  178 | + | HAVANA | exon | NA | NA | ENSG00000147133.17 | ⋯ | 0.3293636 | -0.05395671 | 0.95696966 | 0.9999996 |  178 | ENSG00000147133.17 | ENSG00000147133 | TAF1 | 6872 | Mature_organoids_all_comparison_design1_deseq2 |\n",
       "| chrX | 71463824 | 71466005 | 2182 | + | HAVANA | exon | NA | NA | ENSG00000147133.17 | ⋯ | 0.1646417 |  0.15407434 | 0.87755112 | 0.9999996 | 2182 | ENSG00000147133.17 | ENSG00000147133 | TAF1 | 6872 | Mature_organoids_all_comparison_design1_deseq2 |\n",
       "\n"
      ],
      "text/plain": [
       "   seqnames start    end      width strand source type score phase\n",
       "1  chrX     71366357 71366494  138  +      HAVANA exon NA    NA   \n",
       "2  chrX     71367499 71367613  115  +      HAVANA exon NA    NA   \n",
       "3  chrX     71368054 71368170  117  +      HAVANA exon NA    NA   \n",
       "4  chrX     71375167 71375286  120  +      HAVANA exon NA    NA   \n",
       "5  chrX     71376950 71377191  242  +      HAVANA exon NA    NA   \n",
       "6  chrX     71377603 71377821  219  +      HAVANA exon NA    NA   \n",
       "7  chrX     71378235 71378453  219  +      HAVANA exon NA    NA   \n",
       "8  chrX     71378824 71379031  208  +      HAVANA exon NA    NA   \n",
       "9  chrX     71381743 71381919  177  +      HAVANA exon NA    NA   \n",
       "10 chrX     71382536 71382663  128  +      HAVANA exon NA    NA   \n",
       "11 chrX     71382761 71382868  108  +      HAVANA exon NA    NA   \n",
       "12 chrX     71382991 71383164  174  +      HAVANA exon NA    NA   \n",
       "13 chrX     71383962 71384135  174  +      HAVANA exon NA    NA   \n",
       "14 chrX     71384945 71385049  105  +      HAVANA exon NA    NA   \n",
       "15 chrX     71387261 71387461  201  +      HAVANA exon NA    NA   \n",
       "16 chrX     71388237 71388378  142  +      HAVANA exon NA    NA   \n",
       "17 chrX     71388738 71388868  131  +      HAVANA exon NA    NA   \n",
       "18 chrX     71389585 71389665   81  +      HAVANA exon NA    NA   \n",
       "19 chrX     71392569 71392718  150  +      HAVANA exon NA    NA   \n",
       "20 chrX     71392875 71392994  120  +      HAVANA exon NA    NA   \n",
       "21 chrX     71393301 71393476  176  +      HAVANA exon NA    NA   \n",
       "22 chrX     71394067 71394245  179  +      HAVANA exon NA    NA   \n",
       "23 chrX     71397253 71397466  214  +      HAVANA exon NA    NA   \n",
       "24 chrX     71398572 71398737  166  +      HAVANA exon NA    NA   \n",
       "25 chrX     71401528 71401739  212  +      HAVANA exon NA    NA   \n",
       "26 chrX     71406638 71406746  109  +      HAVANA exon NA    NA   \n",
       "27 chrX     71407574 71407672   99  +      HAVANA exon NA    NA   \n",
       "28 chrX     71407974 71408151  178  +      HAVANA exon NA    NA   \n",
       "29 chrX     71421309 71421376   68  +      HAVANA exon NA    NA   \n",
       "30 chrX     71423117 71423239  123  +      HAVANA exon NA    NA   \n",
       "31 chrX     71423974 71424066   93  +      HAVANA exon NA    NA   \n",
       "32 chrX     71424154 71424238   85  +      HAVANA exon NA    NA   \n",
       "33 chrX     71454170 71454237   68  +      HAVANA exon NA    NA   \n",
       "34 chrX     71454741 71454857  117  +      HAVANA exon NA    NA   \n",
       "35 chrX     71458241 71458366  126  +      HAVANA exon NA    NA   \n",
       "36 chrX     71459552 71459708  157  +      HAVANA exon NA    NA   \n",
       "37 chrX     71460626 71460803  178  +      HAVANA exon NA    NA   \n",
       "38 chrX     71463824 71466005 2182  +      HAVANA exon NA    NA   \n",
       "   gene_id            ⋯ lfcSE     stat        pvalue     padj      Length\n",
       "1  ENSG00000147133.17 ⋯ 1.4956803  0.26455388 0.79135315 0.9999996  138  \n",
       "2  ENSG00000147133.17 ⋯ 0.5907289 -2.26161380 0.02372127 0.9999996  115  \n",
       "3  ENSG00000147133.17 ⋯ 0.4443199 -1.52056516 0.12836900 0.9999996  117  \n",
       "4  ENSG00000147133.17 ⋯ 0.3765804 -1.59396114 0.11094474 0.9999996  120  \n",
       "5  ENSG00000147133.17 ⋯ 0.3760069 -1.01306669 0.31102831 0.9999996  242  \n",
       "6  ENSG00000147133.17 ⋯ 0.3685270 -1.08945763 0.27595213 0.9999996  219  \n",
       "7  ENSG00000147133.17 ⋯ 0.2618394 -0.43819839 0.66124248 0.9999996  219  \n",
       "8  ENSG00000147133.17 ⋯ 0.2513687 -0.22846286 0.81928643 0.9999996  208  \n",
       "9  ENSG00000147133.17 ⋯ 0.3178317 -1.20564629 0.22795390 0.9999996  177  \n",
       "10 ENSG00000147133.17 ⋯ 0.2606408 -0.03877354 0.96907094 0.9999996  128  \n",
       "11 ENSG00000147133.17 ⋯ 0.2671252  0.85496952 0.39256802 0.9999996  108  \n",
       "12 ENSG00000147133.17 ⋯ 0.3005002  0.44131837 0.65898253 0.9999996  174  \n",
       "13 ENSG00000147133.17 ⋯ 0.2275133  0.95112736 0.34153973 0.9999996  174  \n",
       "14 ENSG00000147133.17 ⋯ 0.2033146  0.73117361 0.46467312 0.9999996  105  \n",
       "15 ENSG00000147133.17 ⋯ 0.2109785 -0.15731890 0.87499352 0.9999996  201  \n",
       "16 ENSG00000147133.17 ⋯ 0.2482987 -0.75044201 0.45298854 0.9999996  142  \n",
       "17 ENSG00000147133.17 ⋯ 0.3292174  0.18871170 0.85031878 0.9999996  131  \n",
       "18 ENSG00000147133.17 ⋯ 0.2848120  0.17211539 0.86334681 0.9999996   81  \n",
       "19 ENSG00000147133.17 ⋯ 0.4659944 -1.05226122 0.29267972 0.9999996  150  \n",
       "20 ENSG00000147133.17 ⋯ 0.4936757 -0.69782612 0.48528594 0.9999996  120  \n",
       "21 ENSG00000147133.17 ⋯ 0.3501136 -0.73409056 0.46289355 0.9999996  176  \n",
       "22 ENSG00000147133.17 ⋯ 0.2710071 -1.01228871 0.31140003 0.9999996  179  \n",
       "23 ENSG00000147133.17 ⋯ 0.3980686 -1.05838407 0.28988038 0.9999996  214  \n",
       "24 ENSG00000147133.17 ⋯ 0.3288550 -2.04921722 0.04044088 0.9999996  166  \n",
       "25 ENSG00000147133.17 ⋯ 0.2376246 -0.06221636 0.95039054 0.9999996  212  \n",
       "26 ENSG00000147133.17 ⋯ 0.3611653 -0.76887565 0.44196713 0.9999996  109  \n",
       "27 ENSG00000147133.17 ⋯ 0.3576033 -0.67676276 0.49855649 0.9999996   99  \n",
       "28 ENSG00000147133.17 ⋯ 0.3007278 -0.67633926 0.49882527 0.9999996  178  \n",
       "29 ENSG00000147133.17 ⋯ 0.2350215  0.22890029 0.81894641 0.9999996   68  \n",
       "30 ENSG00000147133.17 ⋯ 0.1852513 -0.39016288 0.69641611 0.9999996  123  \n",
       "31 ENSG00000147133.17 ⋯ 0.2294922  1.15846603 0.24667391 0.9999996   93  \n",
       "32 ENSG00000147133.17 ⋯ 0.2134892  1.19412160 0.23243040 0.9999996   85  \n",
       "33 ENSG00000147133.17 ⋯ 0.2363831 -0.21952325 0.82624247 0.9999996   68  \n",
       "34 ENSG00000147133.17 ⋯ 0.2157454 -0.65424153 0.51295621 0.9999996  117  \n",
       "35 ENSG00000147133.17 ⋯ 0.2819981 -1.06464256 0.28703771 0.9999996  126  \n",
       "36 ENSG00000147133.17 ⋯ 0.3046909 -0.50555899 0.61316628 0.9999996  157  \n",
       "37 ENSG00000147133.17 ⋯ 0.3293636 -0.05395671 0.95696966 0.9999996  178  \n",
       "38 ENSG00000147133.17 ⋯ 0.1646417  0.15407434 0.87755112 0.9999996 2182  \n",
       "   gencodeID          ensemblID       Symbol EntrezID\n",
       "1  ENSG00000147133.17 ENSG00000147133 TAF1   6872    \n",
       "2  ENSG00000147133.17 ENSG00000147133 TAF1   6872    \n",
       "3  ENSG00000147133.17 ENSG00000147133 TAF1   6872    \n",
       "4  ENSG00000147133.17 ENSG00000147133 TAF1   6872    \n",
       "5  ENSG00000147133.17 ENSG00000147133 TAF1   6872    \n",
       "6  ENSG00000147133.17 ENSG00000147133 TAF1   6872    \n",
       "7  ENSG00000147133.17 ENSG00000147133 TAF1   6872    \n",
       "8  ENSG00000147133.17 ENSG00000147133 TAF1   6872    \n",
       "9  ENSG00000147133.17 ENSG00000147133 TAF1   6872    \n",
       "10 ENSG00000147133.17 ENSG00000147133 TAF1   6872    \n",
       "11 ENSG00000147133.17 ENSG00000147133 TAF1   6872    \n",
       "12 ENSG00000147133.17 ENSG00000147133 TAF1   6872    \n",
       "13 ENSG00000147133.17 ENSG00000147133 TAF1   6872    \n",
       "14 ENSG00000147133.17 ENSG00000147133 TAF1   6872    \n",
       "15 ENSG00000147133.17 ENSG00000147133 TAF1   6872    \n",
       "16 ENSG00000147133.17 ENSG00000147133 TAF1   6872    \n",
       "17 ENSG00000147133.17 ENSG00000147133 TAF1   6872    \n",
       "18 ENSG00000147133.17 ENSG00000147133 TAF1   6872    \n",
       "19 ENSG00000147133.17 ENSG00000147133 TAF1   6872    \n",
       "20 ENSG00000147133.17 ENSG00000147133 TAF1   6872    \n",
       "21 ENSG00000147133.17 ENSG00000147133 TAF1   6872    \n",
       "22 ENSG00000147133.17 ENSG00000147133 TAF1   6872    \n",
       "23 ENSG00000147133.17 ENSG00000147133 TAF1   6872    \n",
       "24 ENSG00000147133.17 ENSG00000147133 TAF1   6872    \n",
       "25 ENSG00000147133.17 ENSG00000147133 TAF1   6872    \n",
       "26 ENSG00000147133.17 ENSG00000147133 TAF1   6872    \n",
       "27 ENSG00000147133.17 ENSG00000147133 TAF1   6872    \n",
       "28 ENSG00000147133.17 ENSG00000147133 TAF1   6872    \n",
       "29 ENSG00000147133.17 ENSG00000147133 TAF1   6872    \n",
       "30 ENSG00000147133.17 ENSG00000147133 TAF1   6872    \n",
       "31 ENSG00000147133.17 ENSG00000147133 TAF1   6872    \n",
       "32 ENSG00000147133.17 ENSG00000147133 TAF1   6872    \n",
       "33 ENSG00000147133.17 ENSG00000147133 TAF1   6872    \n",
       "34 ENSG00000147133.17 ENSG00000147133 TAF1   6872    \n",
       "35 ENSG00000147133.17 ENSG00000147133 TAF1   6872    \n",
       "36 ENSG00000147133.17 ENSG00000147133 TAF1   6872    \n",
       "37 ENSG00000147133.17 ENSG00000147133 TAF1   6872    \n",
       "38 ENSG00000147133.17 ENSG00000147133 TAF1   6872    \n",
       "   filename                                      \n",
       "1  Mature_organoids_all_comparison_design1_deseq2\n",
       "2  Mature_organoids_all_comparison_design1_deseq2\n",
       "3  Mature_organoids_all_comparison_design1_deseq2\n",
       "4  Mature_organoids_all_comparison_design1_deseq2\n",
       "5  Mature_organoids_all_comparison_design1_deseq2\n",
       "6  Mature_organoids_all_comparison_design1_deseq2\n",
       "7  Mature_organoids_all_comparison_design1_deseq2\n",
       "8  Mature_organoids_all_comparison_design1_deseq2\n",
       "9  Mature_organoids_all_comparison_design1_deseq2\n",
       "10 Mature_organoids_all_comparison_design1_deseq2\n",
       "11 Mature_organoids_all_comparison_design1_deseq2\n",
       "12 Mature_organoids_all_comparison_design1_deseq2\n",
       "13 Mature_organoids_all_comparison_design1_deseq2\n",
       "14 Mature_organoids_all_comparison_design1_deseq2\n",
       "15 Mature_organoids_all_comparison_design1_deseq2\n",
       "16 Mature_organoids_all_comparison_design1_deseq2\n",
       "17 Mature_organoids_all_comparison_design1_deseq2\n",
       "18 Mature_organoids_all_comparison_design1_deseq2\n",
       "19 Mature_organoids_all_comparison_design1_deseq2\n",
       "20 Mature_organoids_all_comparison_design1_deseq2\n",
       "21 Mature_organoids_all_comparison_design1_deseq2\n",
       "22 Mature_organoids_all_comparison_design1_deseq2\n",
       "23 Mature_organoids_all_comparison_design1_deseq2\n",
       "24 Mature_organoids_all_comparison_design1_deseq2\n",
       "25 Mature_organoids_all_comparison_design1_deseq2\n",
       "26 Mature_organoids_all_comparison_design1_deseq2\n",
       "27 Mature_organoids_all_comparison_design1_deseq2\n",
       "28 Mature_organoids_all_comparison_design1_deseq2\n",
       "29 Mature_organoids_all_comparison_design1_deseq2\n",
       "30 Mature_organoids_all_comparison_design1_deseq2\n",
       "31 Mature_organoids_all_comparison_design1_deseq2\n",
       "32 Mature_organoids_all_comparison_design1_deseq2\n",
       "33 Mature_organoids_all_comparison_design1_deseq2\n",
       "34 Mature_organoids_all_comparison_design1_deseq2\n",
       "35 Mature_organoids_all_comparison_design1_deseq2\n",
       "36 Mature_organoids_all_comparison_design1_deseq2\n",
       "37 Mature_organoids_all_comparison_design1_deseq2\n",
       "38 Mature_organoids_all_comparison_design1_deseq2"
      ]
     },
     "metadata": {},
     "output_type": "display_data"
    }
   ],
   "source": [
    "# from deseq2 main model (Mature_organoids_all_comparison_design1_deseq2)\n",
    "\n",
    "\n",
    "combined_df %>% filter(filename == 'Mature_organoids_all_comparison_design1_deseq2')\n",
    "\n"
   ]
  },
  {
   "cell_type": "code",
   "execution_count": 13,
   "id": "d0454424-a40c-4244-8551-ce2ee211c57f",
   "metadata": {
    "execution": {
     "iopub.execute_input": "2025-01-07T21:48:33.573489Z",
     "iopub.status.busy": "2025-01-07T21:48:33.570034Z",
     "iopub.status.idle": "2025-01-07T21:48:33.682326Z",
     "shell.execute_reply": "2025-01-07T21:48:33.678129Z"
    }
   },
   "outputs": [
    {
     "data": {
      "text/html": [
       "<table class=\"dataframe\">\n",
       "<caption>A data.frame: 2 × 40</caption>\n",
       "<thead>\n",
       "\t<tr><th scope=col>seqnames</th><th scope=col>start</th><th scope=col>end</th><th scope=col>width</th><th scope=col>strand</th><th scope=col>source</th><th scope=col>type</th><th scope=col>score</th><th scope=col>phase</th><th scope=col>gene_id</th><th scope=col>⋯</th><th scope=col>lfcSE</th><th scope=col>stat</th><th scope=col>pvalue</th><th scope=col>padj</th><th scope=col>Length</th><th scope=col>gencodeID</th><th scope=col>ensemblID</th><th scope=col>Symbol</th><th scope=col>EntrezID</th><th scope=col>filename</th></tr>\n",
       "\t<tr><th scope=col>&lt;fct&gt;</th><th scope=col>&lt;int&gt;</th><th scope=col>&lt;int&gt;</th><th scope=col>&lt;int&gt;</th><th scope=col>&lt;fct&gt;</th><th scope=col>&lt;fct&gt;</th><th scope=col>&lt;fct&gt;</th><th scope=col>&lt;dbl&gt;</th><th scope=col>&lt;int&gt;</th><th scope=col>&lt;chr&gt;</th><th scope=col>⋯</th><th scope=col>&lt;dbl&gt;</th><th scope=col>&lt;dbl&gt;</th><th scope=col>&lt;dbl&gt;</th><th scope=col>&lt;dbl&gt;</th><th scope=col>&lt;int&gt;</th><th scope=col>&lt;chr&gt;</th><th scope=col>&lt;chr&gt;</th><th scope=col>&lt;chr&gt;</th><th scope=col>&lt;int&gt;</th><th scope=col>&lt;chr&gt;</th></tr>\n",
       "</thead>\n",
       "<tbody>\n",
       "\t<tr><td>chrX</td><td>71367499</td><td>71367613</td><td>115</td><td>+</td><td>HAVANA</td><td>exon</td><td>NA</td><td>NA</td><td>ENSG00000147133.17</td><td>⋯</td><td>0.5907289</td><td>-2.261614</td><td>0.02372127</td><td>0.9999996</td><td>115</td><td>ENSG00000147133.17</td><td>ENSG00000147133</td><td>TAF1</td><td>6872</td><td>Mature_organoids_all_comparison_design1_deseq2</td></tr>\n",
       "\t<tr><td>chrX</td><td>71398572</td><td>71398737</td><td>166</td><td>+</td><td>HAVANA</td><td>exon</td><td>NA</td><td>NA</td><td>ENSG00000147133.17</td><td>⋯</td><td>0.3288550</td><td>-2.049217</td><td>0.04044088</td><td>0.9999996</td><td>166</td><td>ENSG00000147133.17</td><td>ENSG00000147133</td><td>TAF1</td><td>6872</td><td>Mature_organoids_all_comparison_design1_deseq2</td></tr>\n",
       "</tbody>\n",
       "</table>\n"
      ],
      "text/latex": [
       "A data.frame: 2 × 40\n",
       "\\begin{tabular}{lllllllllllllllllllll}\n",
       " seqnames & start & end & width & strand & source & type & score & phase & gene\\_id & ⋯ & lfcSE & stat & pvalue & padj & Length & gencodeID & ensemblID & Symbol & EntrezID & filename\\\\\n",
       " <fct> & <int> & <int> & <int> & <fct> & <fct> & <fct> & <dbl> & <int> & <chr> & ⋯ & <dbl> & <dbl> & <dbl> & <dbl> & <int> & <chr> & <chr> & <chr> & <int> & <chr>\\\\\n",
       "\\hline\n",
       "\t chrX & 71367499 & 71367613 & 115 & + & HAVANA & exon & NA & NA & ENSG00000147133.17 & ⋯ & 0.5907289 & -2.261614 & 0.02372127 & 0.9999996 & 115 & ENSG00000147133.17 & ENSG00000147133 & TAF1 & 6872 & Mature\\_organoids\\_all\\_comparison\\_design1\\_deseq2\\\\\n",
       "\t chrX & 71398572 & 71398737 & 166 & + & HAVANA & exon & NA & NA & ENSG00000147133.17 & ⋯ & 0.3288550 & -2.049217 & 0.04044088 & 0.9999996 & 166 & ENSG00000147133.17 & ENSG00000147133 & TAF1 & 6872 & Mature\\_organoids\\_all\\_comparison\\_design1\\_deseq2\\\\\n",
       "\\end{tabular}\n"
      ],
      "text/markdown": [
       "\n",
       "A data.frame: 2 × 40\n",
       "\n",
       "| seqnames &lt;fct&gt; | start &lt;int&gt; | end &lt;int&gt; | width &lt;int&gt; | strand &lt;fct&gt; | source &lt;fct&gt; | type &lt;fct&gt; | score &lt;dbl&gt; | phase &lt;int&gt; | gene_id &lt;chr&gt; | ⋯ ⋯ | lfcSE &lt;dbl&gt; | stat &lt;dbl&gt; | pvalue &lt;dbl&gt; | padj &lt;dbl&gt; | Length &lt;int&gt; | gencodeID &lt;chr&gt; | ensemblID &lt;chr&gt; | Symbol &lt;chr&gt; | EntrezID &lt;int&gt; | filename &lt;chr&gt; |\n",
       "|---|---|---|---|---|---|---|---|---|---|---|---|---|---|---|---|---|---|---|---|---|\n",
       "| chrX | 71367499 | 71367613 | 115 | + | HAVANA | exon | NA | NA | ENSG00000147133.17 | ⋯ | 0.5907289 | -2.261614 | 0.02372127 | 0.9999996 | 115 | ENSG00000147133.17 | ENSG00000147133 | TAF1 | 6872 | Mature_organoids_all_comparison_design1_deseq2 |\n",
       "| chrX | 71398572 | 71398737 | 166 | + | HAVANA | exon | NA | NA | ENSG00000147133.17 | ⋯ | 0.3288550 | -2.049217 | 0.04044088 | 0.9999996 | 166 | ENSG00000147133.17 | ENSG00000147133 | TAF1 | 6872 | Mature_organoids_all_comparison_design1_deseq2 |\n",
       "\n"
      ],
      "text/plain": [
       "  seqnames start    end      width strand source type score phase\n",
       "1 chrX     71367499 71367613 115   +      HAVANA exon NA    NA   \n",
       "2 chrX     71398572 71398737 166   +      HAVANA exon NA    NA   \n",
       "  gene_id            ⋯ lfcSE     stat      pvalue     padj      Length\n",
       "1 ENSG00000147133.17 ⋯ 0.5907289 -2.261614 0.02372127 0.9999996 115   \n",
       "2 ENSG00000147133.17 ⋯ 0.3288550 -2.049217 0.04044088 0.9999996 166   \n",
       "  gencodeID          ensemblID       Symbol EntrezID\n",
       "1 ENSG00000147133.17 ENSG00000147133 TAF1   6872    \n",
       "2 ENSG00000147133.17 ENSG00000147133 TAF1   6872    \n",
       "  filename                                      \n",
       "1 Mature_organoids_all_comparison_design1_deseq2\n",
       "2 Mature_organoids_all_comparison_design1_deseq2"
      ]
     },
     "metadata": {},
     "output_type": "display_data"
    }
   ],
   "source": [
    "combined_df %>% filter(filename == 'Mature_organoids_all_comparison_design1_deseq2') %>% filter(pvalue < 0.05)\n"
   ]
  },
  {
   "cell_type": "code",
   "execution_count": 14,
   "id": "191254ba-1411-4375-aa47-d0a2f129a861",
   "metadata": {
    "execution": {
     "iopub.execute_input": "2025-01-07T21:48:33.693635Z",
     "iopub.status.busy": "2025-01-07T21:48:33.690166Z",
     "iopub.status.idle": "2025-01-07T21:48:33.758886Z",
     "shell.execute_reply": "2025-01-07T21:48:33.754909Z"
    }
   },
   "outputs": [],
   "source": [
    "fwrite(combined_df, 'all_taf1exons_detected_cannonical.tsv',quote=F,sep='\\t',row.names=F)\n",
    "\n",
    "\n",
    "combined_df %>% \n",
    "        filter(filename == 'Mature_organoids_all_comparison_design1_deseq2') %>% \n",
    "        fwrite('deseq2_mainmodel_taf1exons_cannonical.tsv',quote=F,sep='\\t',row.names=F)\n",
    "\n",
    "\n",
    "combined_df %>% \n",
    "        filter(filename == 'Mature_organoids_all_comparison_design1_deseq2') %>% \n",
    "        filter(pvalue < 0.05) %>% \n",
    "        fwrite('deseq2_mainmodel_taf1exons__cannonical_nominal_pval.tsv',quote=F,sep='\\t',row.names=F)\n"
   ]
  },
  {
   "cell_type": "code",
   "execution_count": 15,
   "id": "846c1e14-6dde-4a15-b916-0eb7bc0c2966",
   "metadata": {
    "execution": {
     "iopub.execute_input": "2025-01-07T21:48:33.770863Z",
     "iopub.status.busy": "2025-01-07T21:48:33.767296Z",
     "iopub.status.idle": "2025-01-07T21:48:34.447073Z",
     "shell.execute_reply": "2025-01-07T21:48:34.443618Z"
    }
   },
   "outputs": [
    {
     "data": {
      "text/html": [
       "<strong>null device:</strong> 1"
      ],
      "text/latex": [
       "\\textbf{null device:} 1"
      ],
      "text/markdown": [
       "**null device:** 1"
      ],
      "text/plain": [
       "null device \n",
       "          1 "
      ]
     },
     "metadata": {},
     "output_type": "display_data"
    }
   ],
   "source": [
    "dev.off()"
   ]
  }
 ],
 "metadata": {
  "kernelspec": {
   "display_name": "R",
   "language": "R",
   "name": "ir"
  },
  "language_info": {
   "codemirror_mode": "r",
   "file_extension": ".r",
   "mimetype": "text/x-r-source",
   "name": "R",
   "pygments_lexer": "r",
   "version": "4.4.2"
  }
 },
 "nbformat": 4,
 "nbformat_minor": 5
}
