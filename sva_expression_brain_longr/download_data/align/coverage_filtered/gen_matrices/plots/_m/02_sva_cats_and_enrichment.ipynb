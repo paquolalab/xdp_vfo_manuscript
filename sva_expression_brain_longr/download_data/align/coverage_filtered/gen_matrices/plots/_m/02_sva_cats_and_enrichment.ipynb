{
 "cells": [
  {
   "cell_type": "markdown",
   "id": "b7bb6041-7731-4547-9056-a480b4d87546",
   "metadata": {
    "tags": []
   },
   "source": [
    "# Table of Contents\n",
    "\n",
    "* [Introduction](#Introduction)\n",
    "* [Analysis](#Analysis)\n",
    "* [Report](#Report)\n",
    "\n",
    "# Introduction\n",
    "\n",
    "Author: Alan Lorenzetti  \n",
    "Date: 02/01/2023  \n",
    "\n",
    "In this analysis, I will explore SVA properties obtained from Supplemental_Table_S1 (SVA annotation) by [van Bree et al. (2022)](https://pubmed.ncbi.nlm.nih.gov/35332097/). I will also determine repeats (simple tandem repeats, STR) at the five prime end of SVAs using TRF and classify SVAs regarding their localization relative to genes. Further, I will perform overrepresentation analysis of categorical variables taking into consideration additional features, such as transcription starting at the 5' end."
   ]
  },
  {
   "cell_type": "markdown",
   "id": "e6e60e65-5ca6-46c8-8d24-e5bccb4754d6",
   "metadata": {
    "tags": []
   },
   "source": [
    "# Analysis"
   ]
  },
  {
   "cell_type": "code",
   "execution_count": 1,
   "id": "f21d3047-64a0-45a8-9a8e-a225e6f10513",
   "metadata": {
    "execution": {
     "iopub.execute_input": "2024-04-18T22:12:21.721358Z",
     "iopub.status.busy": "2024-04-18T22:12:21.717401Z",
     "iopub.status.idle": "2024-04-18T22:12:37.465284Z",
     "shell.execute_reply": "2024-04-18T22:12:37.463097Z"
    },
    "tags": [],
    "vscode": {
     "languageId": "r"
    }
   },
   "outputs": [
    {
     "name": "stderr",
     "output_type": "stream",
     "text": [
      "Loading required package: tidyverse\n",
      "\n",
      "── \u001b[1mAttaching packages\u001b[22m ─────────────────────────────────────── tidyverse 1.3.2 ──\n",
      "\u001b[32m✔\u001b[39m \u001b[34mggplot2\u001b[39m 3.3.6      \u001b[32m✔\u001b[39m \u001b[34mpurrr  \u001b[39m 0.3.4 \n",
      "\u001b[32m✔\u001b[39m \u001b[34mtibble \u001b[39m 3.1.8      \u001b[32m✔\u001b[39m \u001b[34mdplyr  \u001b[39m 1.0.10\n",
      "\u001b[32m✔\u001b[39m \u001b[34mtidyr  \u001b[39m 1.2.1      \u001b[32m✔\u001b[39m \u001b[34mstringr\u001b[39m 1.4.1 \n",
      "\u001b[32m✔\u001b[39m \u001b[34mreadr  \u001b[39m 2.1.2      \u001b[32m✔\u001b[39m \u001b[34mforcats\u001b[39m 0.5.2 \n",
      "── \u001b[1mConflicts\u001b[22m ────────────────────────────────────────── tidyverse_conflicts() ──\n",
      "\u001b[31m✖\u001b[39m \u001b[34mdplyr\u001b[39m::\u001b[32mfilter()\u001b[39m masks \u001b[34mstats\u001b[39m::filter()\n",
      "\u001b[31m✖\u001b[39m \u001b[34mdplyr\u001b[39m::\u001b[32mlag()\u001b[39m    masks \u001b[34mstats\u001b[39m::lag()\n",
      "Loading required package: ggpubr\n",
      "\n",
      "Loading required package: ggthemes\n",
      "\n",
      "Loading required package: svglite\n",
      "\n",
      "Loading required package: viridis\n",
      "\n",
      "Loading required package: viridisLite\n",
      "\n",
      "Loading required package: Biostrings\n",
      "\n",
      "Loading required package: BiocGenerics\n",
      "\n",
      "\n",
      "Attaching package: ‘BiocGenerics’\n",
      "\n",
      "\n",
      "The following objects are masked from ‘package:dplyr’:\n",
      "\n",
      "    combine, intersect, setdiff, union\n",
      "\n",
      "\n",
      "The following objects are masked from ‘package:stats’:\n",
      "\n",
      "    IQR, mad, sd, var, xtabs\n",
      "\n",
      "\n",
      "The following objects are masked from ‘package:base’:\n",
      "\n",
      "    anyDuplicated, append, as.data.frame, basename, cbind, colnames,\n",
      "    dirname, do.call, duplicated, eval, evalq, Filter, Find, get, grep,\n",
      "    grepl, intersect, is.unsorted, lapply, Map, mapply, match, mget,\n",
      "    order, paste, pmax, pmax.int, pmin, pmin.int, Position, rank,\n",
      "    rbind, Reduce, rownames, sapply, setdiff, sort, table, tapply,\n",
      "    union, unique, unsplit, which.max, which.min\n",
      "\n",
      "\n",
      "Loading required package: S4Vectors\n",
      "\n",
      "Loading required package: stats4\n",
      "\n",
      "\n",
      "Attaching package: ‘S4Vectors’\n",
      "\n",
      "\n",
      "The following objects are masked from ‘package:dplyr’:\n",
      "\n",
      "    first, rename\n",
      "\n",
      "\n",
      "The following object is masked from ‘package:tidyr’:\n",
      "\n",
      "    expand\n",
      "\n",
      "\n",
      "The following objects are masked from ‘package:base’:\n",
      "\n",
      "    expand.grid, I, unname\n",
      "\n",
      "\n",
      "Loading required package: IRanges\n",
      "\n",
      "\n",
      "Attaching package: ‘IRanges’\n",
      "\n",
      "\n",
      "The following objects are masked from ‘package:dplyr’:\n",
      "\n",
      "    collapse, desc, slice\n",
      "\n",
      "\n",
      "The following object is masked from ‘package:purrr’:\n",
      "\n",
      "    reduce\n",
      "\n",
      "\n",
      "Loading required package: XVector\n",
      "\n",
      "\n",
      "Attaching package: ‘XVector’\n",
      "\n",
      "\n",
      "The following object is masked from ‘package:purrr’:\n",
      "\n",
      "    compact\n",
      "\n",
      "\n",
      "Loading required package: GenomeInfoDb\n",
      "\n",
      "\n",
      "Attaching package: ‘Biostrings’\n",
      "\n",
      "\n",
      "The following object is masked from ‘package:base’:\n",
      "\n",
      "    strsplit\n",
      "\n",
      "\n",
      "Loading required package: BSgenome\n",
      "\n",
      "Loading required package: GenomicRanges\n",
      "\n",
      "Loading required package: rtracklayer\n",
      "\n",
      "Loading required package: ggbeeswarm\n",
      "\n",
      "Loading required package: ggrepel\n",
      "\n",
      "Loading required package: ComplexHeatmap\n",
      "\n",
      "Loading required package: grid\n",
      "\n",
      "\n",
      "Attaching package: ‘grid’\n",
      "\n",
      "\n",
      "The following object is masked from ‘package:Biostrings’:\n",
      "\n",
      "    pattern\n",
      "\n",
      "\n",
      "========================================\n",
      "ComplexHeatmap version 2.10.0\n",
      "Bioconductor page: http://bioconductor.org/packages/ComplexHeatmap/\n",
      "Github page: https://github.com/jokergoo/ComplexHeatmap\n",
      "Documentation: http://jokergoo.github.io/ComplexHeatmap-reference\n",
      "\n",
      "If you use it in published research, please cite:\n",
      "Gu, Z. Complex heatmaps reveal patterns and correlations in multidimensional \n",
      "  genomic data. Bioinformatics 2016.\n",
      "\n",
      "The new InteractiveComplexHeatmap package can directly export static \n",
      "complex heatmaps into an interactive Shiny app with zero effort. Have a try!\n",
      "\n",
      "This message can be suppressed by:\n",
      "  suppressPackageStartupMessages(library(ComplexHeatmap))\n",
      "========================================\n",
      "\n",
      "\n",
      "Loading required package: circlize\n",
      "\n",
      "========================================\n",
      "circlize version 0.4.15\n",
      "CRAN page: https://cran.r-project.org/package=circlize\n",
      "Github page: https://github.com/jokergoo/circlize\n",
      "Documentation: https://jokergoo.github.io/circlize_book/book/\n",
      "\n",
      "If you use it in published research, please cite:\n",
      "Gu, Z. circlize implements and enhances circular visualization\n",
      "  in R. Bioinformatics 2014.\n",
      "\n",
      "This message can be suppressed by:\n",
      "  suppressPackageStartupMessages(library(circlize))\n",
      "========================================\n",
      "\n",
      "\n",
      "Loading required package: MASS\n",
      "\n",
      "\n",
      "Attaching package: ‘MASS’\n",
      "\n",
      "\n",
      "The following object is masked from ‘package:dplyr’:\n",
      "\n",
      "    select\n",
      "\n",
      "\n"
     ]
    },
    {
     "data": {
      "text/html": [
       "<ol>\n",
       "\t<li>TRUE</li>\n",
       "\t<li>TRUE</li>\n",
       "\t<li>TRUE</li>\n",
       "\t<li>TRUE</li>\n",
       "\t<li>TRUE</li>\n",
       "\t<li>TRUE</li>\n",
       "\t<li>TRUE</li>\n",
       "\t<li>TRUE</li>\n",
       "\t<li>TRUE</li>\n",
       "\t<li>TRUE</li>\n",
       "\t<li>TRUE</li>\n",
       "\t<li>TRUE</li>\n",
       "\t<li>TRUE</li>\n",
       "</ol>\n"
      ],
      "text/latex": [
       "\\begin{enumerate}\n",
       "\\item TRUE\n",
       "\\item TRUE\n",
       "\\item TRUE\n",
       "\\item TRUE\n",
       "\\item TRUE\n",
       "\\item TRUE\n",
       "\\item TRUE\n",
       "\\item TRUE\n",
       "\\item TRUE\n",
       "\\item TRUE\n",
       "\\item TRUE\n",
       "\\item TRUE\n",
       "\\item TRUE\n",
       "\\end{enumerate}\n"
      ],
      "text/markdown": [
       "1. TRUE\n",
       "2. TRUE\n",
       "3. TRUE\n",
       "4. TRUE\n",
       "5. TRUE\n",
       "6. TRUE\n",
       "7. TRUE\n",
       "8. TRUE\n",
       "9. TRUE\n",
       "10. TRUE\n",
       "11. TRUE\n",
       "12. TRUE\n",
       "13. TRUE\n",
       "\n",
       "\n"
      ],
      "text/plain": [
       "[[1]]\n",
       "[1] TRUE\n",
       "\n",
       "[[2]]\n",
       "[1] TRUE\n",
       "\n",
       "[[3]]\n",
       "[1] TRUE\n",
       "\n",
       "[[4]]\n",
       "[1] TRUE\n",
       "\n",
       "[[5]]\n",
       "[1] TRUE\n",
       "\n",
       "[[6]]\n",
       "[1] TRUE\n",
       "\n",
       "[[7]]\n",
       "[1] TRUE\n",
       "\n",
       "[[8]]\n",
       "[1] TRUE\n",
       "\n",
       "[[9]]\n",
       "[1] TRUE\n",
       "\n",
       "[[10]]\n",
       "[1] TRUE\n",
       "\n",
       "[[11]]\n",
       "[1] TRUE\n",
       "\n",
       "[[12]]\n",
       "[1] TRUE\n",
       "\n",
       "[[13]]\n",
       "[1] TRUE\n"
      ]
     },
     "metadata": {},
     "output_type": "display_data"
    }
   ],
   "source": [
    "# 20230201 alorenzetti\n",
    "\n",
    "# description ####\n",
    "# This script will take SVAs\n",
    "# and compute general stats\n",
    "# it will also generate plots\n",
    "# for many combinations of features\n",
    "\n",
    "# setting up ####\n",
    "# loading libs\n",
    "packs = c(\n",
    " \"tidyverse\",\n",
    " \"ggpubr\",\n",
    " \"ggthemes\",\n",
    " \"svglite\",\n",
    " \"viridis\",\n",
    " \"Biostrings\",\n",
    " \"BSgenome\",\n",
    " \"rtracklayer\",\n",
    " \"ggbeeswarm\",\n",
    " \"ggrepel\",\n",
    " \"ComplexHeatmap\",\n",
    " \"circlize\",\n",
    " \"MASS\"\n",
    ")\n",
    "\n",
    "# multivariate plots\n",
    "# maybe I will remove this later\n",
    "# packs = c(packs, \n",
    "#           \"easyalluvial\",\n",
    "#           \"sunburstR\",\n",
    "#           \"d3r\",\n",
    "#           \"htmltools\")\n",
    "\n",
    "lapply(packs, require, character.only = TRUE)\n",
    "\n",
    "theme_set(theme_pubr())\n",
    "\n",
    "# setting working directory relative to _h\n",
    "setwd(\"../_m/\")\n",
    "\n",
    "# setting up path\n",
    "# matching the bin\n",
    "# in the conda env\n",
    "# this is necessary\n",
    "# for R finding\n",
    "# the trf program\n",
    "conda_env = str_replace(Sys.getenv(\"R_HOME\"), \"^.*/(.*)/lib/R$\", \"\\\\1\")\n",
    "home = str_replace(Sys.getenv(\"R_HOME\"), \"^(.*)/.*/lib/R$\", \"\\\\1\")\n",
    "conda_env_path = paste0(home, \"/\", conda_env, \"/bin\")\n",
    "old_path = Sys.getenv(\"PATH\")\n",
    "Sys.setenv(PATH = paste(old_path, conda_env_path, sep = \":\"))\n",
    "\n",
    "# adjusting tableau color scheme pal\n",
    "tableau10_col_blind_bckp = ggthemes::ggthemes_data[[\"tableau\"]][[\"color-palettes\"]][[\"regular\"]][[\"Color Blind\"]]\n",
    "tableau10_col_blind_mod = tableau10_col_blind_bckp\n",
    "tableau10_col_blind_mod[1:10,] = tableau10_col_blind_bckp[c(7,9,3,4,5,10,8,1,2,6),]\n",
    "# scales::show_col(tableau10_col_blind_mod$value)\n",
    "# scales::show_col(tableau10_col_blind_bckp$value)\n",
    "\n",
    "ggthemes_data[[\"tableau\"]][[\"color-palettes\"]][[\"regular\"]][[\"Color Blind\"]] = tableau10_col_blind_mod"
   ]
  },
  {
   "cell_type": "code",
   "execution_count": 2,
   "id": "ea1ca01f-dc95-4866-ab6d-dd475d92ba57",
   "metadata": {
    "execution": {
     "iopub.execute_input": "2024-04-18T22:12:37.508256Z",
     "iopub.status.busy": "2024-04-18T22:12:37.470782Z",
     "iopub.status.idle": "2024-04-18T22:12:37.527500Z",
     "shell.execute_reply": "2024-04-18T22:12:37.525609Z"
    },
    "vscode": {
     "languageId": "r"
    }
   },
   "outputs": [],
   "source": [
    "# getting started ####\n",
    "# i gotta modify this function to allow a\n",
    "# modified palette in ggthemes\n",
    "# it is basecally changing where it gets the\n",
    "# palettes from (see commented for original)\n",
    "custom_tableau_color_pal = function (palette = \"Tableau 10\", type = c(\"regular\", \"ordered-sequential\", \n",
    "    \"ordered-diverging\"), direction = 1) \n",
    "{\n",
    "    type <- match.arg(type)\n",
    "    # palettes <- ggthemes::ggthemes_data[[\"tableau\"]][[\"color-palettes\"]][[type]]\n",
    "    palettes <- ggthemes_data[[\"tableau\"]][[\"color-palettes\"]][[type]]\n",
    "    if (!palette %in% names(palettes)) {\n",
    "        stop(\"`palette` must be one of \", paste(names(palettes), \n",
    "            collapse = \", \"), \".\")\n",
    "    }\n",
    "    values <- palettes[[palette]][[\"value\"]]\n",
    "    max_n <- length(values)\n",
    "    f <- function(n) {\n",
    "        check_pal_n(n, max_n)\n",
    "        values <- values[seq_len(n)]\n",
    "        if (direction < 0) {\n",
    "            values <- rev(values)\n",
    "        }\n",
    "        values\n",
    "    }\n",
    "    attr(f, \"max_n\") <- length(values)\n",
    "    f\n",
    "}\n",
    "\n",
    "environment(custom_tableau_color_pal) = asNamespace('ggthemes')\n",
    "assignInNamespace(\"tableau_color_pal\", custom_tableau_color_pal, ns = \"ggthemes\")"
   ]
  },
  {
   "cell_type": "code",
   "execution_count": 3,
   "id": "e2348b01-7d04-4510-88ea-e77442ca00eb",
   "metadata": {
    "execution": {
     "iopub.execute_input": "2024-04-18T22:12:37.534192Z",
     "iopub.status.busy": "2024-04-18T22:12:37.532575Z",
     "iopub.status.idle": "2024-04-18T22:12:37.546994Z",
     "shell.execute_reply": "2024-04-18T22:12:37.545076Z"
    },
    "tags": [],
    "vscode": {
     "languageId": "r"
    }
   },
   "outputs": [],
   "source": [
    "# this function will link the genome\n",
    "# in the analysis directory\n",
    "link_read_genome = function(genome_path = genome_path,\n",
    "                            chop_acc = chop_acc) {\n",
    "    \n",
    "    # file name current dir\n",
    "    filenameHere = str_replace(genome_path, \"^.*/(.*)$\", \"\\\\1\")\n",
    "    \n",
    "    # linking genome in the analysis dir\n",
    "    if(!file.exists(filenameHere)){\n",
    "        file.symlink(from = genome_path, to = \".\")\n",
    "    }\n",
    "    \n",
    "    # reading genome\n",
    "    genome = readDNAStringSet(filepath = filenameHere, format = \"fasta\")\n",
    "    \n",
    "    if(chop_acc == T){\n",
    "        names(genome) = str_replace(names(genome), \"^(.*?) .*$\", \"\\\\1\")\n",
    "    }\n",
    "    \n",
    "    return(genome)\n",
    "}"
   ]
  },
  {
   "cell_type": "code",
   "execution_count": 4,
   "id": "48ca78bf-5efd-4f09-97cb-41533d5f0a11",
   "metadata": {
    "execution": {
     "iopub.execute_input": "2024-04-18T22:12:37.553663Z",
     "iopub.status.busy": "2024-04-18T22:12:37.552038Z",
     "iopub.status.idle": "2024-04-18T22:12:37.566584Z",
     "shell.execute_reply": "2024-04-18T22:12:37.564624Z"
    },
    "tags": [],
    "vscode": {
     "languageId": "r"
    }
   },
   "outputs": [],
   "source": [
    "# this function will link the genome annotation\n",
    "# in the analysis directory\n",
    "link_read_genome_annot = function(genome_annot_path = genome_annot_path) {\n",
    "    \n",
    "    # file name current dir\n",
    "    filenameHere = str_replace(genome_annot_path, \"^.*/(.*)$\", \"\\\\1\")\n",
    "    \n",
    "    # linking genome annot in the analysis dir\n",
    "    if(!file.exists(filenameHere)){\n",
    "        file.symlink(from = genome_annot_path, to = \".\")\n",
    "    }\n",
    "    \n",
    "    # reading genome annot\n",
    "    genome_annot = rtracklayer::import(con = filenameHere,\n",
    "                                       format = \"gtf\")\n",
    "    names(genome_annot) = mcols(genome_annot)$gene_id\n",
    "    \n",
    "    return(genome_annot)\n",
    "}"
   ]
  },
  {
   "cell_type": "code",
   "execution_count": 5,
   "id": "7d537a44-fe06-4227-9446-ad80e90e762b",
   "metadata": {
    "execution": {
     "iopub.execute_input": "2024-04-18T22:12:37.573648Z",
     "iopub.status.busy": "2024-04-18T22:12:37.571832Z",
     "iopub.status.idle": "2024-04-18T22:12:37.586369Z",
     "shell.execute_reply": "2024-04-18T22:12:37.584456Z"
    },
    "tags": [],
    "vscode": {
     "languageId": "r"
    }
   },
   "outputs": [],
   "source": [
    "# this function will extract sequences\n",
    "# using a gr object and a genome\n",
    "extract_seq = function(genome = genome,\n",
    "                       gr = gr,\n",
    "                       fastaOutName = fastaOutName) {\n",
    "    \n",
    "    # getting seqs\n",
    "    seqs = getSeq(genome, gr)\n",
    "    \n",
    "    # saving them in current dir\n",
    "    writeXStringSet(x = seqs, filepath = fastaOutName, format = \"fasta\")\n",
    "    \n",
    "    return(seqs)\n",
    "}"
   ]
  },
  {
   "cell_type": "code",
   "execution_count": 6,
   "id": "3f84a060-ffef-4688-b1c5-65dee0b461a3",
   "metadata": {
    "execution": {
     "iopub.execute_input": "2024-04-18T22:12:37.593070Z",
     "iopub.status.busy": "2024-04-18T22:12:37.591398Z",
     "iopub.status.idle": "2024-04-18T22:12:37.605784Z",
     "shell.execute_reply": "2024-04-18T22:12:37.603917Z"
    },
    "tags": [],
    "vscode": {
     "languageId": "r"
    }
   },
   "outputs": [],
   "source": [
    "# this function will run TRF\n",
    "run_trf = function(fastafile = fastafile,\n",
    "                   outputfile = outputfile,\n",
    "                   matchscore = matchscore,\n",
    "                   mismatchpenalty = mismatchpenalty,\n",
    "                   indelpenalty = indelpenalty,\n",
    "                   minscore = minscore,\n",
    "                   maxperiod = maxperiod) {\n",
    "    \n",
    "    prog = \"trf\"\n",
    "    args = c(fastafile, 2, 7, 7, 80, 10, 50, 500, \"-h\", \"-f\", \"-d\", \"-ngs\")\n",
    "    args[2] = matchscore\n",
    "    args[3] = mismatchpenalty\n",
    "    args[4] = indelpenalty\n",
    "    args[7] = minscore\n",
    "    args[8] = maxperiod\n",
    "    \n",
    "    system2(command = prog, \n",
    "            args = args,\n",
    "            stdout = outputfile)\n",
    "}"
   ]
  },
  {
   "cell_type": "code",
   "execution_count": 7,
   "id": "7cf4cb2f-f549-4259-923c-1003558ef893",
   "metadata": {
    "execution": {
     "iopub.execute_input": "2024-04-18T22:12:37.612658Z",
     "iopub.status.busy": "2024-04-18T22:12:37.611028Z",
     "iopub.status.idle": "2024-04-18T22:12:37.626026Z",
     "shell.execute_reply": "2024-04-18T22:12:37.624040Z"
    },
    "tags": [],
    "vscode": {
     "languageId": "r"
    }
   },
   "outputs": [],
   "source": [
    "# this function will parse TRF output (-ngs)\n",
    "parse_trf = function(filename = filename, genomebuild = genomebuild){\n",
    "    \n",
    "    # TRF output follow this structure:\n",
    "    # @header seq1\n",
    "    # tsv result1 seq1\n",
    "    # tsv result2 seq1\n",
    "    # let us get a list of tsv results for each seq\n",
    "    \n",
    "    # getting started\n",
    "    output = tibble()\n",
    "    con = file(filename, \"r\")\n",
    "    while ( TRUE ) {\n",
    "        line = readLines(con, n = 1)\n",
    "        if ( length(line) == 0 ) {\n",
    "          break\n",
    "        }\n",
    "        if(str_starts(line, \"@\")){\n",
    "            header=str_replace(line, \"^@(.*?) .*$\", \"\\\\1\")\n",
    "        }\n",
    "        if(!str_starts(line, \"@\")){\n",
    "            row = str_split_fixed(string = line, pattern = \" \", n = 17) %>%\n",
    "                as_tibble() %>% \n",
    "                mutate(V18 = header,\n",
    "                       V19 = genomebuild)\n",
    "            output = bind_rows(output, row)\n",
    "        }\n",
    "    }\n",
    "    close(con)\n",
    "    \n",
    "    # setting up the trf column names\n",
    "    # taken from \n",
    "    # https://blaxter-lab-documentation.readthedocs.io/en/latest/trf.html\n",
    "    # cols 1+2:  Indices of the repeat relative to the start of the sequence\n",
    "    # col 3:     Period size of the repeat\n",
    "    # col 4:     Number of copies aligned with the consensus pattern\n",
    "    # col 5:     Size of consensus pattern (may differ slightly from the period size)\n",
    "    # col 6:     Percent of matches between adjacent copies overall\n",
    "    # col 7:     Percent of indels between adjacent copies overall\n",
    "    # col 8:     Alignment score\n",
    "    # cols 9-12: Percent composition for each of the four nucleotides\n",
    "    # col 13:    Entropy measure based on percent composition\n",
    "    # col 14:    Consensus sequence\n",
    "    # col 15:    Repeat sequence\n",
    "    trfcols = c(\"repeat_start\",\n",
    "                \"repeat_end\",\n",
    "                \"period_size\",\n",
    "                \"number_of_copies\",\n",
    "                \"repeat_size\",\n",
    "                \"pct_matches\",\n",
    "                \"pct_indels\",\n",
    "                \"aln_score\",\n",
    "                \"pct_composition_A\",\n",
    "                \"pct_composition_C\",\n",
    "                \"pct_composition_G\",\n",
    "                \"pct_composition_T\",\n",
    "                \"entropy\",\n",
    "                \"consensus_seq\",\n",
    "                \"repeat_seq\",\n",
    "                \"left_flank\",\n",
    "                \"right_flank\",\n",
    "                \"seq_id\",\n",
    "                \"genome_build\")\n",
    "    \n",
    "    colnames(output) = trfcols\n",
    "    \n",
    "    output = output %>% \n",
    "        relocate(seq_id) %>%\n",
    "        mutate(across(.cols = c(\n",
    "                                repeat_start, repeat_end,\n",
    "                                period_size, number_of_copies,\n",
    "                                repeat_size, pct_matches,\n",
    "                                pct_indels, aln_score,\n",
    "                                pct_composition_A, pct_composition_C,\n",
    "                                pct_composition_G, pct_composition_T,\n",
    "                                entropy),\n",
    "                      .fns = ~ as.numeric(.x))) %>% \n",
    "        mutate(seq_id = str_replace(seq_id, \"^@\", \"\"),\n",
    "               trf_id = paste0(seq_id, \":trf\", 1:dim(.)[1]))\n",
    "    \n",
    "    return(output)\n",
    "    \n",
    "}"
   ]
  },
  {
   "cell_type": "code",
   "execution_count": 8,
   "id": "643ff185-e18c-4299-b0e2-737d8730486b",
   "metadata": {
    "execution": {
     "iopub.execute_input": "2024-04-18T22:12:37.632644Z",
     "iopub.status.busy": "2024-04-18T22:12:37.631019Z",
     "iopub.status.idle": "2024-04-18T22:12:37.645435Z",
     "shell.execute_reply": "2024-04-18T22:12:37.643505Z"
    },
    "tags": [],
    "vscode": {
     "languageId": "r"
    }
   },
   "outputs": [],
   "source": [
    "# this function is a helper for summarise\n",
    "# function used to filter trf outut\n",
    "# this will filter motifs in our preference\n",
    "# list and then find the longest;\n",
    "# if STRs do not match our favorite STRs\n",
    "# it is going to return the longest\n",
    "find_idx_longer = function(x = x,\n",
    "                           motifs = motifs,\n",
    "                           target_motifs = target_motifs) {\n",
    "    \n",
    "    # checking which and how many\n",
    "    # motifs match our targets\n",
    "    matching_motifs = motifs %in% target_motifs\n",
    "    matching_n = sum(matching_motifs)\n",
    "    \n",
    "    # filtering \n",
    "    if(matching_n == 0){\n",
    "        return(order(x, decreasing = T)[1])\n",
    "    } else if(matching_n == 1){\n",
    "        return(which(matching_motifs))\n",
    "    } else if(matching_n > 1){\n",
    "        return(which(matching_motifs & x == max(x))[1])\n",
    "    }\n",
    "}"
   ]
  },
  {
   "cell_type": "code",
   "execution_count": 9,
   "id": "a57fe55e-5334-4f77-8634-fb2c7bb8aa04",
   "metadata": {
    "execution": {
     "iopub.execute_input": "2024-04-18T22:12:37.652405Z",
     "iopub.status.busy": "2024-04-18T22:12:37.650743Z",
     "iopub.status.idle": "2024-04-18T22:12:37.665364Z",
     "shell.execute_reply": "2024-04-18T22:12:37.663436Z"
    },
    "tags": [],
    "vscode": {
     "languageId": "r"
    }
   },
   "outputs": [],
   "source": [
    "# this function will generate\n",
    "# multiple permutations of a sequence\n",
    "# given a motif\n",
    "# the algorithm idea was taken from \n",
    "# https://www.geeksforgeeks.org/generate-cyclic-permutations-number/\n",
    "seq_cyclic_permuts = function(motif = motif){\n",
    "    motif = as.character(motif)\n",
    "    motifvec = unlist(str_split(motif, pattern = \"\"))\n",
    "    n = str_count(motif)\n",
    "    N = as.numeric(paste0(1:n, collapse = \"\"))\n",
    "    num = N\n",
    "    \n",
    "    permuts = list()\n",
    "    while(TRUE){\n",
    "        permuts = c(permuts, num)\n",
    "        \n",
    "        rem = num %% 10\n",
    "        div = floor(num/10)\n",
    "        num = (10^(n-1) * rem) + div\n",
    "        \n",
    "        if(num == N){break}\n",
    "    }\n",
    "    \n",
    "    indexes = lapply(permuts, str_split, pattern = \"\")\n",
    "    indexes = lapply(indexes, unlist)\n",
    "    indexes = lapply(indexes, as.numeric)\n",
    "    \n",
    "    outputList = list()\n",
    "    for(i in 1:length(indexes)){\n",
    "        outputList[[i]] = paste0(motifvec[indexes[[i]]], collapse = \"\")\n",
    "    }\n",
    "    \n",
    "    return(unlist(outputList))\n",
    "}"
   ]
  },
  {
   "cell_type": "code",
   "execution_count": 10,
   "id": "d5b2959b-c426-49ed-a430-02d4fc3f4c68",
   "metadata": {
    "execution": {
     "iopub.execute_input": "2024-04-18T22:12:37.672271Z",
     "iopub.status.busy": "2024-04-18T22:12:37.670590Z",
     "iopub.status.idle": "2024-04-18T22:12:37.684610Z",
     "shell.execute_reply": "2024-04-18T22:12:37.682739Z"
    },
    "tags": [],
    "vscode": {
     "languageId": "r"
    }
   },
   "outputs": [],
   "source": [
    "# this function will combine\n",
    "# the previous functions to\n",
    "# generate a set of motifs\n",
    "get_motifs = function(motifvec = motifvec,\n",
    "                      revcomp = revcomp) {\n",
    "    \n",
    "    motifs = list()\n",
    "    for(i in motifvec){\n",
    "        motifs[[i]] = seq_cyclic_permuts(motif = i)\n",
    "    }\n",
    "    motifs = motifs %>% unlist(use.names = F)\n",
    "    \n",
    "    if(revcomp == TRUE){\n",
    "        motifs = rev_comp(motifs)\n",
    "    }\n",
    "    \n",
    "    return(motifs)\n",
    "}"
   ]
  },
  {
   "cell_type": "code",
   "execution_count": 11,
   "id": "8e72b614-c735-4c04-bfe0-ee37dbdd0568",
   "metadata": {
    "execution": {
     "iopub.execute_input": "2024-04-18T22:12:37.691202Z",
     "iopub.status.busy": "2024-04-18T22:12:37.689576Z",
     "iopub.status.idle": "2024-04-18T22:12:37.703668Z",
     "shell.execute_reply": "2024-04-18T22:12:37.701787Z"
    },
    "tags": [],
    "vscode": {
     "languageId": "r"
    }
   },
   "outputs": [],
   "source": [
    "# this function will\n",
    "# reverse complement\n",
    "# sequences given as\n",
    "# character vector\n",
    "rev_comp = function(seqs = seqs){\n",
    "    idx = which(!is.na(seqs))\n",
    "    \n",
    "    seqsstringset = DNAStringSet(x = seqs[idx])\n",
    "    revcompseqs = reverseComplement(x = seqsstringset)\n",
    "    \n",
    "    revcompoutput = rep(NA_character_, length(seqs))\n",
    "    revcompoutput[idx] = revcompseqs\n",
    "    \n",
    "    return(revcompoutput)\n",
    "}"
   ]
  },
  {
   "cell_type": "code",
   "execution_count": 12,
   "id": "b5c24ebc-6e03-4eb6-a387-4031d31fb25e",
   "metadata": {
    "execution": {
     "iopub.execute_input": "2024-04-18T22:12:37.710331Z",
     "iopub.status.busy": "2024-04-18T22:12:37.708723Z",
     "iopub.status.idle": "2024-04-18T22:12:37.725844Z",
     "shell.execute_reply": "2024-04-18T22:12:37.723692Z"
    },
    "tags": [],
    "vscode": {
     "languageId": "r"
    }
   },
   "outputs": [],
   "source": [
    "# this function will annotate\n",
    "# an sva genomic ranges object\n",
    "# with positions relative\n",
    "# to genes\n",
    "annotate_relative_to_genes = function(svaGR = svaGR,\n",
    "                                      geneGR = geneGR,\n",
    "                                      txGR = txGR) {\n",
    "\n",
    "    # getting UTR\n",
    "    utrGR = txGR[txGR$type == \"UTR\"]\n",
    "    \n",
    "    # getting exons\n",
    "    exGR = txGR[txGR$type == \"exon\"]\n",
    "    \n",
    "    # inverting strand\n",
    "    # of genes\n",
    "    inv_geneGR = invertStrand(geneGR)\n",
    "    \n",
    "    # finding overlaps between xx nt\n",
    "    # upstream to SVAs and simple repeats\n",
    "    ovlps = list()\n",
    "    ovlps$sense = findOverlaps(query = svaGR,\n",
    "                               subject = geneGR,\n",
    "                               minoverlap = 1) %>% \n",
    "        as_tibble()\n",
    "    ovlps$antisense = findOverlaps(query = svaGR,\n",
    "                                   subject = inv_geneGR,\n",
    "                                   minoverlap = 1) %>% \n",
    "        as_tibble()\n",
    "    ovlps$utr = findOverlaps(query = svaGR, \n",
    "                             subject = utrGR,\n",
    "                             ignore.strand = T,\n",
    "                             minoverlap = 1) %>% \n",
    "        as_tibble()\n",
    "    ovlps$ex = findOverlaps(query = svaGR, \n",
    "                            subject = exGR,\n",
    "                            ignore.strand = T,\n",
    "                            minoverlap = 1) %>% \n",
    "        as_tibble()\n",
    "    \n",
    "    \n",
    "    ovlps$sense_tib = tibble(sva_id = names(svaGR)[ovlps$sense$queryHits],\n",
    "                             sense_to = names(geneGR)[ovlps$sense$subjectHits]) %>% \n",
    "        group_by(sva_id) %>% \n",
    "        summarise(sense_to = paste0(sense_to, collapse = \",\")) %>% \n",
    "        ungroup()\n",
    "    \n",
    "    ovlps$antisense_tib = tibble(sva_id = names(svaGR)[ovlps$antisense$queryHits],\n",
    "                                 antisense_to = names(geneGR)[ovlps$antisense$subjectHits]) %>% \n",
    "        group_by(sva_id) %>% \n",
    "        summarise(antisense_to = paste0(antisense_to, collapse = \",\")) %>% \n",
    "        ungroup()\n",
    "    \n",
    "    ovlps$utr_tib = tibble(sva_id = names(svaGR)[ovlps$utr$queryHits],\n",
    "                           utr_of = names(utrGR)[ovlps$utr$subjectHits]) %>% \n",
    "        group_by(sva_id) %>% \n",
    "        summarise(utr_of = paste0(utr_of, collapse = \",\")) %>% \n",
    "        ungroup()\n",
    "    \n",
    "    ovlps$ex_tib = tibble(sva_id = names(svaGR)[ovlps$ex$queryHits],\n",
    "                           ex_of = names(exGR)[ovlps$ex$subjectHits]) %>% \n",
    "        group_by(sva_id) %>% \n",
    "        summarise(ex_of = paste0(ex_of, collapse = \",\")) %>% \n",
    "        ungroup()\n",
    "    \n",
    "    \n",
    "    out = list()\n",
    "    out$mcols = mcols(svaGR) %>% \n",
    "        as_tibble() %>% \n",
    "        left_join(x = .,\n",
    "                  y = ovlps$sense_tib,\n",
    "                  by = c(\"name\" = \"sva_id\")) %>% \n",
    "        left_join(x = .,\n",
    "                  y = ovlps$antisense_tib,\n",
    "                  by = c(\"name\" = \"sva_id\")) %>% \n",
    "        left_join(x = .,\n",
    "                  y = ovlps$utr_tib,\n",
    "                  by = c(\"name\" = \"sva_id\")) %>% \n",
    "        left_join(x = .,\n",
    "                  y = ovlps$ex_tib,\n",
    "                  by = c(\"name\" = \"sva_id\")) %>% \n",
    "        mutate(preprocess_rel = case_when((!is.na(sense_to)) & (!is.na(antisense_to)) ~ \"sense_and_antisense\",\n",
    "                               (!is.na(sense_to)) & (is.na(antisense_to)) ~ \"sense\",\n",
    "                               (is.na(sense_to)) & (!is.na(antisense_to)) ~ \"antisense\",\n",
    "                               TRUE ~ \"intergenic\")) %>% \n",
    "        mutate(relative_to_gene = case_when(preprocess_rel == \"intergenic\" ~ \"intergenic\",\n",
    "                                            TRUE ~ \"within_gene\")) %>% \n",
    "        mutate(within_gene_simple = case_when(preprocess_rel == \"intergenic\" ~ NA_character_,\n",
    "                                              TRUE ~ preprocess_rel)) %>% \n",
    "        mutate(within_gene_complex = case_when(relative_to_gene == \"within_gene\" & (!is.na(utr_of)) ~ \"UTR\",\n",
    "                                               relative_to_gene == \"within_gene\" & (!is.na(ex_of)) ~ \"exon\",\n",
    "                                               relative_to_gene == \"within_gene\" & (is.na(ex_of) & is.na(utr_of)) ~ \"intron\",\n",
    "                                               TRUE ~ NA_character_)) %>% \n",
    "        dplyr::select(-preprocess_rel)\n",
    "    \n",
    "    out$svaGR = svaGR\n",
    "    \n",
    "    mcols(out$svaGR) = out$mcols\n",
    "    \n",
    "    return(out$svaGR)\n",
    "    \n",
    "}"
   ]
  },
  {
   "cell_type": "code",
   "execution_count": 13,
   "id": "62995867-c086-428b-b402-5fcfbcbc95ce",
   "metadata": {
    "execution": {
     "iopub.execute_input": "2024-04-18T22:12:37.733408Z",
     "iopub.status.busy": "2024-04-18T22:12:37.731498Z",
     "iopub.status.idle": "2024-04-18T22:12:37.748506Z",
     "shell.execute_reply": "2024-04-18T22:12:37.746393Z"
    },
    "tags": [],
    "vscode": {
     "languageId": "r"
    }
   },
   "outputs": [],
   "source": [
    "# this function will perform\n",
    "# enrichment analysis given a\n",
    "# df, a subset of SVAs in this df,\n",
    "# a test column, and the level of \n",
    "# the test column to test enrichment\n",
    "# adapted from \n",
    "# https://seqqc.wordpress.com/2019/07/25/how-to-use-phyper-in-r/\n",
    "enrichAnalysis = function(df = df,\n",
    "                          subvec = subvec,\n",
    "                          testcol = testcol,\n",
    "                          lev = lev,\n",
    "                          mode = mode){\n",
    "    \n",
    "  # tgt: target (testcol:lev)\n",
    "  # bg: background\n",
    "  # tgt_s: target subvec \n",
    "  # bg_s: background subvec\n",
    "    \n",
    "  # wu: white balls in the urn\n",
    "  # wb: white balls drawn from the urn\n",
    "  # drawn: number of balls drawn from the urn\n",
    "  # bu: black balls in the urn\n",
    "  # table_total: universe of balls \n",
    "    \n",
    "  # we are testing the significance of **wb**\n",
    "    \n",
    "  # Contingency table\n",
    "  #                testcol\n",
    "  #        _________________________\n",
    "  #       |tgt (lev)|      bg       |\n",
    "  # __________________________________________________________\n",
    "  # tgt_s |  **wb** |   drawn-wb    | drawn == rowSum == length(subvec)\n",
    "  # __________________________________________________________\n",
    "  # bg_s  |  wu-wb  | bu-(drawn-wb) | (wu-wb)+(bu-drawn-wb) == rowSum\n",
    "  # __________________________________________________________\n",
    "  #       |   wu    |       bu      | rowSum == table_total\n",
    "  #       |         |               |\n",
    "  #\n",
    "    \n",
    "  dfsub = df %>%\n",
    "    filter(name %in% subvec)\n",
    "  \n",
    "  drawn = subvec %>% length()\n",
    "    \n",
    "  wb = dfsub[,testcol] %>% \n",
    "    unlist() %>%\n",
    "    unname() %>% \n",
    "    grepl(pattern = lev) %>%\n",
    "    sum()\n",
    "    \n",
    "  wu = df[,testcol] %>% \n",
    "    unlist() %>%\n",
    "    unname() %>% \n",
    "    grepl(pattern = lev) %>%\n",
    "    sum()\n",
    "    \n",
    "  bu = df[,testcol] %>% \n",
    "    unlist() %>%\n",
    "    unname() %>% \n",
    "    grepl(pattern = lev) %>%\n",
    "    `!` %>% \n",
    "    sum()\n",
    "  \n",
    "  if(mode == \"enrichment\"){\n",
    "      pval = phyper(q = wb-1,\n",
    "                    m = wu,\n",
    "                    n = bu,\n",
    "                    k = drawn,\n",
    "                    lower.tail = F)\n",
    "  }else if(mode == \"depletion\"){\n",
    "      pval = phyper(q = wb,\n",
    "                    m = wu,\n",
    "                    n = bu,\n",
    "                    k = drawn,\n",
    "                    lower.tail = T)\n",
    "  }\n",
    "      \n",
    "  M = matrix(nrow = 3, ncol = 3)\n",
    "  rownames(M) = c(\"target_subvec\", \"background_subvec\", \"total\")\n",
    "  colnames(M) = c(paste0(testcol, \":\", c(lev, \"background\")), \"total\")\n",
    "  M[1,1] = wb ;    M[1,2] = drawn-wb\n",
    "  M[2,1] = wu-wb ; M[2,2] = bu-(drawn-wb)\n",
    "  M[,3] = rowSums(M, na.rm = T)\n",
    "  M[3,] = colSums(M, na.rm = T)\n",
    "  \n",
    "  return(list(contingency_table = M,\n",
    "              pval = pval))\n",
    "}"
   ]
  },
  {
   "cell_type": "code",
   "execution_count": 14,
   "id": "ab488367-cb1c-4ef3-b788-9f588c0756fb",
   "metadata": {
    "execution": {
     "iopub.execute_input": "2024-04-18T22:12:37.756211Z",
     "iopub.status.busy": "2024-04-18T22:12:37.754110Z",
     "iopub.status.idle": "2024-04-18T22:12:37.770429Z",
     "shell.execute_reply": "2024-04-18T22:12:37.768313Z"
    },
    "tags": [],
    "vscode": {
     "languageId": "r"
    }
   },
   "outputs": [],
   "source": [
    "# this function will take four vectors\n",
    "# containing chr, start, end, and strand\n",
    "# and will return sequences\n",
    "get_sequences_from_vecs = function(chr = chr, start = start, end = end, strand = strand, genome = genome){\n",
    "    \n",
    "    gr = GRanges(seqnames = chr,\n",
    "                 ranges = IRanges(start = start, end = end),\n",
    "                 strand = strand)\n",
    "    \n",
    "    rpt_seqs = getSeq(genome, gr) %>% as.character()\n",
    "    \n",
    "    return(rpt_seqs)\n",
    "\n",
    "}"
   ]
  },
  {
   "cell_type": "code",
   "execution_count": 15,
   "id": "ae931118-ee5f-46d8-ad78-5fc66146d21d",
   "metadata": {
    "execution": {
     "iopub.execute_input": "2024-04-18T22:12:37.777889Z",
     "iopub.status.busy": "2024-04-18T22:12:37.775947Z",
     "iopub.status.idle": "2024-04-18T22:14:19.395929Z",
     "shell.execute_reply": "2024-04-18T22:14:19.393880Z"
    },
    "vscode": {
     "languageId": "r"
    }
   },
   "outputs": [],
   "source": [
    "# main code ####\n",
    "# reading hg38 genome\n",
    "hg38 = link_read_genome(genome_path = \"../../../../_m/GRCh38.primary_assembly.genome.fa\", chop_acc = T)\n",
    "\n",
    "# reading hg38 annotation\n",
    "annot = link_read_genome_annot(genome_annot_path = \"../../../../_m/gencode.v42.primary_assembly.annotation.gtf\")\n",
    "\n",
    "# subsetting genes\n",
    "gene_annot = annot[annot$type == \"gene\"]\n",
    "tx_annot = annot[annot$type == \"exon\" | annot$type == \"UTR\"]\n",
    "tx_annot = tx_annot[tx_annot$tag == \"Ensembl_canonical\" & (!is.na(tx_annot$tag))]\n",
    "\n",
    "# reading sva bed into\n",
    "# a gr obj\n",
    "sva_gr = rtracklayer::import.bed(con = \"sva.bed\")\n",
    "names(sva_gr) = paste0(seqnames(sva_gr), \":\",\n",
    "                       start(sva_gr), \":\",\n",
    "                       end(sva_gr), \":\",\n",
    "                       strand(sva_gr), \":\",\n",
    "                       str_replace(sva_gr$name, \".*:(SVA_.*)$\", \"\\\\1\"))\n",
    "sva_gr$name = names(sva_gr)\n",
    "\n",
    "# extracting sva seqs\n",
    "# and saving to file\n",
    "sva_fasta = extract_seq(genome = hg38, gr = sva_gr, fastaOutName = \"sva.fa\")\n",
    "names(sva_fasta) = names(sva_gr)"
   ]
  },
  {
   "cell_type": "code",
   "execution_count": 16,
   "id": "a587c784-5a19-4fa7-bfd1-77a88cdf4a68",
   "metadata": {
    "execution": {
     "iopub.execute_input": "2024-04-18T22:14:19.409354Z",
     "iopub.status.busy": "2024-04-18T22:14:19.407889Z",
     "iopub.status.idle": "2024-04-18T22:18:48.506290Z",
     "shell.execute_reply": "2024-04-18T22:18:48.504331Z"
    },
    "tags": [],
    "vscode": {
     "languageId": "r"
    }
   },
   "outputs": [
    {
     "name": "stderr",
     "output_type": "stream",
     "text": [
      "Warning message:\n",
      "“The `x` argument of `as_tibble.matrix()` must have unique column names if `.name_repair` is omitted as of tibble 2.0.0.\n",
      "Using compatibility `.name_repair`.”\n"
     ]
    }
   ],
   "source": [
    "# running trf\n",
    "# running TRF on extracted seqs\n",
    "if(!file.exists(\"hg38_sva_trfout.txt\")){\n",
    "    run_trf(fastafile = \"sva.fa\",\n",
    "            outputfile = \"hg38_sva_trfout.txt\",\n",
    "            matchscore = 2,\n",
    "            mismatchpenalty = 5,\n",
    "            indelpenalty = 5,\n",
    "            minscore = 20,\n",
    "            maxperiod = 10)\n",
    "}\n",
    "\n",
    "# parsign TRF results\n",
    "if(!file.exists(\"hg38_sva_trfout.tsv\")){\n",
    "    trf_out = parse_trf(filename = \"hg38_sva_trfout.txt\",\n",
    "                                       genomebuild = \"hg38\")\n",
    "    write_tsv(x = trf_out,\n",
    "              file = \"hg38_sva_trfout.tsv\")\n",
    "}else{\n",
    "    trf_out = read_tsv(file = \"hg38_sva_trfout.tsv\", num_threads = round(parallel::detectCores()/2))\n",
    "}\n",
    "\n",
    "# getting canonical motifs of interest\n",
    "motifs = get_motifs(motifvec = c(\"CCTCT\", \"CCCTCT\", \"CCCCTCT\"),\n",
    "                    revcomp = F)\n",
    "\n",
    "# in case a sequence has more than\n",
    "# one instance of predicted repeats\n",
    "# I will choose one, store the id\n",
    "# and then filter the original df\n",
    "filt_keep_entries = trf_out %>% \n",
    "    group_by(seq_id) %>% \n",
    "    summarise(trf_id = trf_id[find_idx_longer(x = nchar(repeat_seq),\n",
    "                                              motifs = consensus_seq,\n",
    "                                              target_motifs = motifs)]) %>% \n",
    "    pull(trf_id)\n",
    "\n",
    "# filtering trf output\n",
    "hex_length = trf_out %>%\n",
    "    filter(repeat_start < 20) %>% \n",
    "    filter(period_size >= 5 & period_size <= 8) %>% \n",
    "    filter(trf_id %in% filt_keep_entries) %>% \n",
    "    mutate(length = nchar(repeat_seq)) %>% \n",
    "    dplyr::select(name = seq_id,\n",
    "                  rpt_consensus = consensus_seq,\n",
    "                  rpt_length = length,\n",
    "                  rpt_n_rpt = number_of_copies,\n",
    "                  rpt_end = repeat_end)\n",
    "\n",
    "# adding rpt prediction to our\n",
    "# SVA dataset\n",
    "sva_att = tibble(name = names(sva_fasta),\n",
    "                 sva_length = width(sva_fasta)) %>% \n",
    "          left_join(x = .,\n",
    "                    y = hex_length,\n",
    "                    by = \"name\") %>% \n",
    "          mutate(has_rpt = case_when(!is.na(rpt_consensus) ~ \"yes\",\n",
    "                                     TRUE ~ \"no\"),\n",
    "                 sva_type = str_replace(string = name,\n",
    "                                        pattern = \".*:.*:.*:.*:(.*)\",\n",
    "                                        replacement = \"\\\\1\"))"
   ]
  },
  {
   "cell_type": "code",
   "execution_count": 17,
   "id": "6000d943-d566-442d-a9d2-f31d3bcfc437",
   "metadata": {
    "execution": {
     "iopub.execute_input": "2024-04-18T22:18:48.537551Z",
     "iopub.status.busy": "2024-04-18T22:18:48.535993Z",
     "iopub.status.idle": "2024-04-18T22:18:49.258985Z",
     "shell.execute_reply": "2024-04-18T22:18:49.256808Z"
    },
    "vscode": {
     "languageId": "r"
    }
   },
   "outputs": [],
   "source": [
    "# transforming found motifs into\n",
    "# a less redundant vector, but \n",
    "# keeping trf results for reference\n",
    "sva_att = sva_att %>% \n",
    "    rowwise() %>% \n",
    "    mutate(rpt_consensus_simp = ifelse(test = !is.na(rpt_consensus),\n",
    "                                       yes = sort(get_motifs(motifvec = rpt_consensus, revcomp = F))[1],\n",
    "                                       no = NA_character_)) %>% \n",
    "    ungroup() %>% \n",
    "    relocate(rpt_consensus_simp, .after = rpt_consensus)"
   ]
  },
  {
   "cell_type": "code",
   "execution_count": 18,
   "id": "40e9c5e3-54bf-4cf2-8665-180d1442eee0",
   "metadata": {
    "execution": {
     "iopub.execute_input": "2024-04-18T22:18:49.265432Z",
     "iopub.status.busy": "2024-04-18T22:18:49.264101Z",
     "iopub.status.idle": "2024-04-18T22:18:49.970356Z",
     "shell.execute_reply": "2024-04-18T22:18:49.967151Z"
    },
    "vscode": {
     "languageId": "r"
    }
   },
   "outputs": [],
   "source": [
    "# getting SVA position relative to genes\n",
    "# reading gene annotation\n",
    "sva_rel2gene = annotate_relative_to_genes(svaGR = sva_gr,\n",
    "                                          geneGR = gene_annot,\n",
    "                                          txGR = tx_annot)\n",
    "\n",
    "sva_rel2gene_tib = tibble(sva_id = names(sva_rel2gene),\n",
    "                          relative_to_gene = mcols(sva_rel2gene)$relative_to_gene,\n",
    "                          within_gene_simple = mcols(sva_rel2gene)$within_gene_simple,\n",
    "                          within_gene_complex = mcols(sva_rel2gene)$within_gene_complex)\n",
    "\n",
    "# adding info to sva_att obj\n",
    "sva_att = left_join(x = sva_att,\n",
    "                    y = sva_rel2gene_tib,\n",
    "                    by = c(\"name\" = \"sva_id\"))\n",
    "\n",
    "# saving sva_att object\n",
    "write_tsv(x = sva_att,\n",
    "          file = \"sva_att.tsv\")\n",
    "\n",
    "# sva_att = read_tsv(file = \"sva_att.tsv\")"
   ]
  },
  {
   "cell_type": "code",
   "execution_count": 19,
   "id": "b2b33de7-d79b-4c62-a673-ec6d8e27f23f",
   "metadata": {
    "execution": {
     "iopub.execute_input": "2024-04-18T22:18:49.980447Z",
     "iopub.status.busy": "2024-04-18T22:18:49.977790Z",
     "iopub.status.idle": "2024-04-18T22:18:50.419865Z",
     "shell.execute_reply": "2024-04-18T22:18:50.418027Z"
    },
    "vscode": {
     "languageId": "r"
    }
   },
   "outputs": [
    {
     "name": "stderr",
     "output_type": "stream",
     "text": [
      "\u001b[1mRows: \u001b[22m\u001b[34m4832\u001b[39m \u001b[1mColumns: \u001b[22m\u001b[34m8\u001b[39m\n",
      "\u001b[36m──\u001b[39m \u001b[1mColumn specification\u001b[22m \u001b[36m────────────────────────────────────────────────────────\u001b[39m\n",
      "\u001b[1mDelimiter:\u001b[22m \"\\t\"\n",
      "\u001b[31mchr\u001b[39m (6): sample, coverage_type, coverage_orientation, strand, sva_name, sva_...\n",
      "\u001b[32mdbl\u001b[39m (2): coordinate, counts\n",
      "\n",
      "\u001b[36mℹ\u001b[39m Use `spec()` to retrieve the full column specification for this data.\n",
      "\u001b[36mℹ\u001b[39m Specify the column types or set `show_col_types = FALSE` to quiet this message.\n",
      "\u001b[1mRows: \u001b[22m\u001b[34m8204\u001b[39m \u001b[1mColumns: \u001b[22m\u001b[34m8\u001b[39m\n",
      "\u001b[36m──\u001b[39m \u001b[1mColumn specification\u001b[22m \u001b[36m────────────────────────────────────────────────────────\u001b[39m\n",
      "\u001b[1mDelimiter:\u001b[22m \"\\t\"\n",
      "\u001b[31mchr\u001b[39m (6): sample, coverage_type, coverage_orientation, strand, sva_name, sva_...\n",
      "\u001b[32mdbl\u001b[39m (2): coordinate, counts\n",
      "\n",
      "\u001b[36mℹ\u001b[39m Use `spec()` to retrieve the full column specification for this data.\n",
      "\u001b[36mℹ\u001b[39m Specify the column types or set `show_col_types = FALSE` to quiet this message.\n",
      "\u001b[1mRows: \u001b[22m\u001b[34m66\u001b[39m \u001b[1mColumns: \u001b[22m\u001b[34m2\u001b[39m\n",
      "\u001b[36m──\u001b[39m \u001b[1mColumn specification\u001b[22m \u001b[36m────────────────────────────────────────────────────────\u001b[39m\n",
      "\u001b[1mDelimiter:\u001b[22m \"\\t\"\n",
      "\u001b[31mchr\u001b[39m (2): Files, sample_source\n",
      "\n",
      "\u001b[36mℹ\u001b[39m Use `spec()` to retrieve the full column specification for this data.\n",
      "\u001b[36mℹ\u001b[39m Specify the column types or set `show_col_types = FALSE` to quiet this message.\n"
     ]
    }
   ],
   "source": [
    "# reading info generated\n",
    "# by the previous script about\n",
    "# the max values of coverage per SVA\n",
    "insights = list()\n",
    "# insights$coverage$max_per_sva = read_tsv(file = \"insights_coverage_maxpersva.tsv\")\n",
    "insights$five_prime_profile$within_sva = read_tsv(file = \"insights_fivePrimeProfile_withinSvaBegin.tsv\")\n",
    "insights$five_prime_profile$flanking_sva_start = read_tsv(file = \"insights_fivePrimeProfile_flankingSvaStart.tsv\")\n",
    "\n",
    "parsed_metadata = read_tsv(\"parsed_metadata.tsv\") %>% \n",
    "    mutate(alias = paste0(Files, \":\", sample_source)) %>% \n",
    "    dplyr::select(sample = Files, alias)\n",
    "\n",
    "# getting an alternative version\n",
    "# of the object above\n",
    "sva_att_wide = sva_att %>% \n",
    "    mutate(rpt_length_cat = case_when(is.na(rpt_length) ~ \"no hex\",\n",
    "                                      rpt_length < 30 ~ \"< 30 bp\",\n",
    "                                      rpt_length %in% 30:59 ~ \"30:59 bp\",\n",
    "                                      rpt_length %in% 60:89 ~ \"60:89 bp\",\n",
    "                                      rpt_length %in% 90:119 ~ \"90:119 bp\",\n",
    "                                      rpt_length %in% 120:150 ~ \"120:149 bp\",\n",
    "                                      rpt_length >= 150 ~ \">= 150 bp\"))"
   ]
  },
  {
   "cell_type": "code",
   "execution_count": 20,
   "id": "f56bab90-beb7-4501-bcd8-4345873a79c5",
   "metadata": {
    "execution": {
     "iopub.execute_input": "2024-04-18T22:18:50.426053Z",
     "iopub.status.busy": "2024-04-18T22:18:50.424511Z",
     "iopub.status.idle": "2024-04-18T22:18:50.920701Z",
     "shell.execute_reply": "2024-04-18T22:18:50.917458Z"
    },
    "vscode": {
     "languageId": "r"
    }
   },
   "outputs": [
    {
     "name": "stderr",
     "output_type": "stream",
     "text": [
      "\u001b[1m\u001b[22m`summarise()` has grouped output by 'sample'. You can override using the\n",
      "`.groups` argument.\n",
      "\u001b[1m\u001b[22m`summarise()` has grouped output by 'sample'. You can override using the\n",
      "`.groups` argument.\n"
     ]
    }
   ],
   "source": [
    "# version with alzheimer's disease for the next\n",
    "# script\n",
    "sva_hex_tx = insights$five_prime_profile$within_sva %>% \n",
    "    # group_by(across(.cols = coverage_type:coordinate)) %>% \n",
    "    # summarise(counts = sum(counts)) %>% \n",
    "    # ungroup() %>% \n",
    "    filter(sva_name %in% (sva_att_wide %>% filter(has_rpt == \"yes\") %>% pull(name))) %>% \n",
    "    dplyr::select(-c(coverage_type, sva_type)) %>% \n",
    "    left_join(x = .,\n",
    "              y = parsed_metadata,\n",
    "              by = \"sample\") %>% \n",
    "    dplyr::select(-sample) %>% \n",
    "    relocate(sample = alias)\n",
    "\n",
    "sva_hex_tx = left_join(x = sva_hex_tx,\n",
    "                       y = sva_att_wide,\n",
    "                       by = c(\"sva_name\" = \"name\")) %>% \n",
    "    filter(coordinate <= rpt_end)\n",
    "\n",
    "sva_hex_tx_sense = sva_hex_tx %>% \n",
    "    filter(coverage_orientation == \"sense\") %>% \n",
    "    dplyr::select(sample, sva_name, coordinate, counts) %>% \n",
    "    group_by(sample, sva_name) %>% \n",
    "    summarise(counts = sum(counts)) %>% \n",
    "    ungroup() %>% \n",
    "    rename(counts = \"rpt_read_start_sense\", sample = \"encode_long_read_sample\")\n",
    "\n",
    "sva_hex_tx_antisense = sva_hex_tx %>% \n",
    "    filter(coverage_orientation == \"antisense\") %>% \n",
    "    dplyr::select(sample, sva_name, coordinate, counts) %>% \n",
    "    group_by(sample, sva_name) %>% \n",
    "    summarise(counts = sum(counts)) %>% \n",
    "    ungroup() %>% \n",
    "    rename(counts = \"rpt_read_start_antisense\", sample = \"encode_long_read_sample\")\n",
    "\n",
    "sva_hex_tx_uni = full_join(x = sva_hex_tx_sense,\n",
    "                           y = sva_hex_tx_antisense,\n",
    "                           by = c(\"sva_name\", \"encode_long_read_sample\")) %>% \n",
    "    arrange(sva_name)\n",
    "\n",
    "# getting a long data frame\n",
    "# with all relevant info\n",
    "sva_att_wsample_long = left_join(x = sva_att_wide,\n",
    "                                 y = sva_hex_tx_uni,\n",
    "                                 by = c(\"name\" = \"sva_name\")) %>% \n",
    "                       mutate(rpt_read_start_qual_sense = case_when(!is.na(rpt_read_start_sense) ~ \"yes\",\n",
    "                                                                    TRUE ~ \"no\"),\n",
    "                       rpt_read_start_qual_antisense = case_when(!is.na(rpt_read_start_antisense) ~ \"yes\",\n",
    "                                                                    TRUE ~ \"no\")) %>% \n",
    "    dplyr::select(name, sva_type, sva_length, has_rpt, rpt_consensus_simp,\n",
    "           rpt_length, rpt_length_cat, rpt_n_rpt, rpt_end,\n",
    "           relative_to_gene, within_gene_simple, within_gene_complex,\n",
    "           encode_long_read_sample,\n",
    "           rpt_read_start_sense, rpt_read_start_antisense,\n",
    "           rpt_read_start_qual_sense, rpt_read_start_qual_antisense)\n",
    "\n",
    "# saving a long version with sample names\n",
    "write_tsv(x = sva_att_wsample_long, file = \"sva_att_wsample_long_with_ad.tsv\")\n",
    "# sva_att_wsample_long = read_tsv(file = \"sva_att_wsample_long_with_ad.tsv\")"
   ]
  },
  {
   "cell_type": "code",
   "execution_count": 21,
   "id": "94aaae7f-9d5d-46ff-a784-761c8884a8e1",
   "metadata": {
    "execution": {
     "iopub.execute_input": "2024-04-18T22:18:50.929375Z",
     "iopub.status.busy": "2024-04-18T22:18:50.926849Z",
     "iopub.status.idle": "2024-04-18T22:18:51.085243Z",
     "shell.execute_reply": "2024-04-18T22:18:51.083251Z"
    },
    "vscode": {
     "languageId": "r"
    }
   },
   "outputs": [],
   "source": [
    "# version without astrocytes or alzheimer s for this script\n",
    "sva_hex_tx = insights$five_prime_profile$within_sva %>% \n",
    "    # group_by(across(.cols = coverage_type:coordinate)) %>% \n",
    "    # summarise(counts = sum(counts)) %>% \n",
    "    # ungroup() %>% \n",
    "    filter(sva_name %in% (sva_att_wide %>% filter(has_rpt == \"yes\") %>% pull(name))) %>% \n",
    "    dplyr::select(-c(coverage_type, sva_type)) %>% \n",
    "    left_join(x = .,\n",
    "              y = parsed_metadata,\n",
    "              by = \"sample\") %>% \n",
    "    dplyr::select(-sample) %>% \n",
    "    relocate(sample = alias) %>%\n",
    "    filter(!str_detect(sample, \"astrocyte_cell_culture\")) %>%\n",
    "    filter(!str_detect(sample, \"alzheimers_disease_subject\"))\n",
    "    \n",
    "\n",
    "sva_hex_tx = left_join(x = sva_hex_tx,\n",
    "                       y = sva_att_wide,\n",
    "                       by = c(\"sva_name\" = \"name\")) %>% \n",
    "    filter(coordinate <= rpt_end)\n",
    "\n",
    "# ignoring sample information\n",
    "sva_hex_tx_sense = sva_hex_tx %>% \n",
    "    filter(coverage_orientation == \"sense\") %>% \n",
    "    dplyr::select(sva_name, coordinate, counts) %>% \n",
    "    group_by(sva_name) %>% \n",
    "    summarise(counts = sum(counts)) %>% \n",
    "    ungroup() %>% \n",
    "    rename(counts = \"rpt_read_start_sense\")\n",
    "\n",
    "sva_hex_tx_antisense = sva_hex_tx %>% \n",
    "    filter(coverage_orientation == \"antisense\") %>% \n",
    "    dplyr::select(sva_name, coordinate, counts) %>% \n",
    "    group_by(sva_name) %>% \n",
    "    summarise(counts = sum(counts)) %>% \n",
    "    ungroup() %>% \n",
    "    rename(counts = \"rpt_read_start_antisense\")\n",
    "\n",
    "sva_hex_tx_uni = full_join(x = sva_hex_tx_sense,\n",
    "                           y = sva_hex_tx_antisense,\n",
    "                           by = \"sva_name\") %>% \n",
    "    arrange(sva_name)"
   ]
  },
  {
   "cell_type": "code",
   "execution_count": 22,
   "id": "cf246ac1-8fde-4605-ac9e-6262364962e6",
   "metadata": {
    "execution": {
     "iopub.execute_input": "2024-04-18T22:18:51.091615Z",
     "iopub.status.busy": "2024-04-18T22:18:51.089939Z",
     "iopub.status.idle": "2024-04-18T22:18:51.356748Z",
     "shell.execute_reply": "2024-04-18T22:18:51.354721Z"
    },
    "vscode": {
     "languageId": "r"
    }
   },
   "outputs": [],
   "source": [
    "sva_att_wide = left_join(x = sva_att_wide,\n",
    "                         y = sva_hex_tx_uni,\n",
    "                         by = c(\"name\" = \"sva_name\")) %>% \n",
    "    mutate(rpt_read_start_qual_sense = case_when(!is.na(rpt_read_start_sense) ~ \"yes\",\n",
    "                                                 TRUE ~ \"no\"),\n",
    "           rpt_read_start_qual_antisense = case_when(!is.na(rpt_read_start_antisense) ~ \"yes\",\n",
    "                                                     TRUE ~ \"no\")) %>% \n",
    "    dplyr::select(name, sva_type, sva_length, has_rpt, rpt_consensus_simp,\n",
    "           rpt_length, rpt_length_cat, rpt_n_rpt, rpt_end,\n",
    "           relative_to_gene, within_gene_simple, within_gene_complex,\n",
    "           rpt_read_start_sense, rpt_read_start_antisense,\n",
    "           rpt_read_start_qual_sense, rpt_read_start_qual_antisense)\n",
    "\n",
    "write_tsv(x = sva_att_wide, file = \"sva_att_wide.tsv\")\n",
    "# sva_att_wide = read_tsv(file = \"sva_att_wide.tsv\")"
   ]
  },
  {
   "cell_type": "code",
   "execution_count": 23,
   "id": "5c67ecc9-3544-4037-b53d-2ae4ef2edefe",
   "metadata": {
    "execution": {
     "iopub.execute_input": "2024-04-18T22:18:51.363883Z",
     "iopub.status.busy": "2024-04-18T22:18:51.362241Z",
     "iopub.status.idle": "2024-04-18T22:18:51.762670Z",
     "shell.execute_reply": "2024-04-18T22:18:51.760678Z"
    },
    "vscode": {
     "languageId": "r"
    }
   },
   "outputs": [],
   "source": [
    "# plotting 5' profiles\n",
    "# for SVAs having a 5' repeat\n",
    "sva_fiverpt_tx_tib = insights$five_prime_profile$flanking_sva_start %>% \n",
    "    filter(sva_name %in% (sva_att_wide %>% filter(has_rpt == \"yes\") %>% pull(name))) %>% \n",
    "    filter(coordinate %in% -501:501) %>% \n",
    "    dplyr::select(-c(coverage_type, strand)) %>% \n",
    "    mutate(counts = ifelse(coverage_orientation == \"sense\", counts * 1, counts * -1)) %>% \n",
    "    left_join(x = .,\n",
    "              y = parsed_metadata,\n",
    "              by = \"sample\") %>% \n",
    "    dplyr::select(-sample) %>%\n",
    "    relocate(sample = alias) %>%\n",
    "    filter(!str_detect(sample, \"astrocyte_cell_culture\")) %>%\n",
    "    filter(!str_detect(sample, \"alzheimers_disease_subject\")) %>%\n",
    "    left_join(x = .,\n",
    "              y = sva_att %>% dplyr::select(name, rpt_length),\n",
    "              by = c(\"sva_name\" = \"name\"))\n",
    "    \n",
    "    \n",
    "\n",
    "# for SVAs not having a 5' repeat\n",
    "sva_norpt_tx_tib = insights$five_prime_profile$flanking_sva_start %>% \n",
    "    filter(sva_name %in% (sva_att_wide %>% filter(has_rpt == \"no\") %>% pull(name))) %>% \n",
    "    filter(coordinate %in% -501:501) %>% \n",
    "    dplyr::select(-c(coverage_type, strand)) %>% \n",
    "    mutate(counts = ifelse(coverage_orientation == \"sense\", counts * 1, counts * -1)) %>% \n",
    "    left_join(x = .,\n",
    "              y = parsed_metadata,\n",
    "              by = \"sample\") %>% \n",
    "    dplyr::select(-sample) %>%\n",
    "    relocate(sample = alias) %>%\n",
    "    filter(!str_detect(sample, \"astrocyte_cell_culture\")) %>%\n",
    "    filter(!str_detect(sample, \"alzheimers_disease_subject\")) %>%\n",
    "    left_join(x = .,\n",
    "              y = sva_att %>% dplyr::select(name, rpt_length),\n",
    "              by = c(\"sva_name\" = \"name\"))\n"
   ]
  },
  {
   "cell_type": "code",
   "execution_count": 24,
   "id": "abf06ce6-608b-4a93-a3da-7a35f1881942",
   "metadata": {
    "execution": {
     "iopub.execute_input": "2024-04-18T22:18:51.769755Z",
     "iopub.status.busy": "2024-04-18T22:18:51.768150Z",
     "iopub.status.idle": "2024-04-18T22:18:51.937858Z",
     "shell.execute_reply": "2024-04-18T22:18:51.936377Z"
    },
    "vscode": {
     "languageId": "r"
    }
   },
   "outputs": [],
   "source": [
    "# plotting 5' profiles\n",
    "# for SVAs having a 5' repeat\n",
    "sva_fiverpt_tx_tib_alz = insights$five_prime_profile$flanking_sva_start %>% \n",
    "    filter(sva_name %in% (sva_att_wide %>% filter(has_rpt == \"yes\") %>% pull(name))) %>% \n",
    "    filter(coordinate %in% -501:501) %>% \n",
    "    dplyr::select(-c(coverage_type, strand)) %>% \n",
    "    mutate(counts = ifelse(coverage_orientation == \"sense\", counts * 1, counts * -1)) %>% \n",
    "    left_join(x = .,\n",
    "              y = parsed_metadata,\n",
    "              by = \"sample\") %>% \n",
    "    dplyr::select(-sample) %>%\n",
    "    relocate(sample = alias) %>%\n",
    "    filter(!str_detect(sample, \"astrocyte_cell_culture\")) %>%\n",
    "    filter(!str_detect(sample, \"control_subject\")) %>%\n",
    "    left_join(x = .,\n",
    "              y = sva_att %>% dplyr::select(name, rpt_length),\n",
    "              by = c(\"sva_name\" = \"name\"))\n",
    "    \n",
    "    \n",
    "\n",
    "# for SVAs not having a 5' repeat\n",
    "sva_norpt_tx_tib_alz = insights$five_prime_profile$flanking_sva_start %>% \n",
    "    filter(sva_name %in% (sva_att_wide %>% filter(has_rpt == \"no\") %>% pull(name))) %>% \n",
    "    filter(coordinate %in% -501:501) %>% \n",
    "    dplyr::select(-c(coverage_type, strand)) %>% \n",
    "    mutate(counts = ifelse(coverage_orientation == \"sense\", counts * 1, counts * -1)) %>% \n",
    "    left_join(x = .,\n",
    "              y = parsed_metadata,\n",
    "              by = \"sample\") %>% \n",
    "    dplyr::select(-sample) %>%\n",
    "    relocate(sample = alias) %>%\n",
    "    filter(!str_detect(sample, \"astrocyte_cell_culture\")) %>%\n",
    "    filter(!str_detect(sample, \"control_subject\")) %>%\n",
    "    left_join(x = .,\n",
    "              y = sva_att %>% dplyr::select(name, rpt_length),\n",
    "              by = c(\"sva_name\" = \"name\"))\n"
   ]
  },
  {
   "cell_type": "code",
   "execution_count": 25,
   "id": "34f295d3-361c-4bbe-bcc2-4340d8e522d9",
   "metadata": {
    "execution": {
     "iopub.execute_input": "2024-04-18T22:18:51.944144Z",
     "iopub.status.busy": "2024-04-18T22:18:51.942945Z",
     "iopub.status.idle": "2024-04-18T22:18:52.542422Z",
     "shell.execute_reply": "2024-04-18T22:18:52.539055Z"
    },
    "vscode": {
     "languageId": "r"
    }
   },
   "outputs": [],
   "source": [
    "# getting a table containing five prime repeat info\n",
    "proximalbp = 50\n",
    "\n",
    "rpt_info = sva_att_wide %>% \n",
    "    filter(has_rpt == \"yes\") %>% \n",
    "    mutate(sva_chr = str_replace(name, \"(.*):(.*):(.*):(.*):(.*)\", \"\\\\1\"),\n",
    "           sva_start = str_replace(name, \"(.*):(.*):(.*):(.*):(.*)\", \"\\\\2\") %>% as.numeric(),\n",
    "           sva_end = str_replace(name, \"(.*):(.*):(.*):(.*):(.*)\", \"\\\\3\") %>% as.numeric(),\n",
    "           sva_strand = str_replace(name, \"(.*):(.*):(.*):(.*):(.*)\", \"\\\\4\")) %>% \n",
    "    mutate(rpt_chr = sva_chr,\n",
    "           rpt_start = case_when(sva_strand == \"+\" ~ sva_start,\n",
    "                                 sva_strand == \"-\" ~ sva_end - rpt_length),\n",
    "           rpt_end = case_when(sva_strand == \"+\" ~ sva_start + rpt_length,\n",
    "                               sva_strand == \"-\" ~ sva_end),\n",
    "           rpt_strand = sva_strand) %>% \n",
    "    mutate(rpt_upstream_chr = sva_chr,\n",
    "           rpt_upstream_start = case_when(rpt_strand == \"+\" ~ rpt_start - proximalbp,\n",
    "                                          rpt_strand == \"-\" ~ rpt_end + 1),\n",
    "           rpt_upstream_end = case_when(rpt_strand == \"+\" ~ rpt_start + 1,\n",
    "                                        rpt_strand == \"-\" ~ rpt_end + proximalbp),\n",
    "           rpt_upstream_strand = rpt_strand) %>% \n",
    "    mutate(rpt_downstream_chr = sva_chr,\n",
    "           rpt_downstream_start = case_when(rpt_strand == \"+\" ~ rpt_end + 1,\n",
    "                                            rpt_strand == \"-\" ~ rpt_start - proximalbp),\n",
    "           rpt_downstream_end = case_when(rpt_strand == \"+\" ~ rpt_end + proximalbp,\n",
    "                                          rpt_strand == \"-\" ~ rpt_start - 1),\n",
    "           rpt_downstream_strand = rpt_strand) %>% \n",
    "    mutate(rpt_seq = get_sequences_from_vecs(chr = rpt_chr,\n",
    "                                         start = rpt_start,\n",
    "                                         end = rpt_end,\n",
    "                                         strand = rpt_strand,\n",
    "                                         genome = hg38),\n",
    "           rpt_upstream_seq = get_sequences_from_vecs(chr = rpt_upstream_chr,\n",
    "                                                     start = rpt_upstream_start,\n",
    "                                                     end = rpt_upstream_end,\n",
    "                                                     strand = rpt_upstream_strand,\n",
    "                                                     genome = hg38),\n",
    "           rpt_downstream_seq = get_sequences_from_vecs(chr = rpt_downstream_chr,\n",
    "                                                       start = rpt_downstream_start,\n",
    "                                                       end = rpt_downstream_end,\n",
    "                                                       strand = rpt_downstream_strand,\n",
    "                                                       genome = hg38)) %>% \n",
    "    # dplyr::select(sva_chr:rpt_downstream_seq) %>% \n",
    "    relocate(rpt_seq, .after = rpt_strand) %>% \n",
    "    relocate(rpt_upstream_seq, .after = rpt_upstream_strand) %>% \n",
    "    relocate(rpt_downstream_seq, .after = rpt_downstream_strand) %>% \n",
    "    relocate(rpt_end, .after = rpt_start) %>%\n",
    "    dplyr::select(name,rpt_length, rpt_consensus_simp, rpt_chr:rpt_downstream_seq)\n",
    "\n",
    "# writing this table as tsv\n",
    "write_tsv(rpt_info, file = \"sva_rpt_info.tsv\")\n",
    "\n",
    "# rpt_info = read_tsv(file = \"sva_rpt_info.tsv\")"
   ]
  },
  {
   "cell_type": "markdown",
   "id": "3ab70105-905f-44cc-b9ae-b5dc415e5590",
   "metadata": {
    "tags": []
   },
   "source": [
    "# Report"
   ]
  },
  {
   "cell_type": "markdown",
   "id": "e64ff8fc-1cf8-470a-9453-5bbb22589ea3",
   "metadata": {
    "tags": []
   },
   "source": [
    "## SVAs and repeat length"
   ]
  },
  {
   "cell_type": "markdown",
   "id": "b425c860-77ef-4c25-a769-50b670fb2a0e",
   "metadata": {},
   "source": [
    "Using a collection of 2,154 automatically annotated SVA retrotransposons longer than 1 kbp [PMID: 35332097], we computed genome-wide stats on the end-to-end length and 5’ repeat length (e.g., CCTCTn length). For all the SVA types, the median tandem repeat length is slightly shorter than 72 bp (Figure 1c), which corresponds to the regular size depicted by consensus SVA sequences available at DFAM v3.6 [PMID: 33436076]. However, many instances seem to have expanded during evolution, passing the 200 bp mark in SVA C-F. Notably, the majority of the analyzed SVAs seem to have prevailed when inserted antisense relative to genes or within intergenic regions, revealing the potential negative impact of SVAs when inserted on the same direction to a gene."
   ]
  },
  {
   "cell_type": "code",
   "execution_count": 26,
   "id": "84272905-1d2c-4e34-94fa-435789d974f7",
   "metadata": {
    "execution": {
     "iopub.execute_input": "2024-04-18T22:18:52.552672Z",
     "iopub.status.busy": "2024-04-18T22:18:52.549880Z",
     "iopub.status.idle": "2024-04-18T22:18:53.368727Z",
     "shell.execute_reply": "2024-04-18T22:18:53.367195Z"
    },
    "vscode": {
     "languageId": "r"
    }
   },
   "outputs": [
    {
     "data": {
      "image/png": "[encoded data removed]",
      "text/plain": [
       "plot without title"
      ]
     },
     "metadata": {
      "image/png": {
       "height": 240,
       "width": 360
      }
     },
     "output_type": "display_data"
    }
   ],
   "source": [
    "# using a parametric-based test\n",
    "# to compute the probability of \n",
    "# occurrence of a value of length\n",
    "# as extreme or more extreme than those\n",
    "# observed in the SVAs of the genome\n",
    "# I used log normal distribution\n",
    "# and gamma distribution for parameter\n",
    "# estimation and used the gamma distribution\n",
    "# to compute a pvalue\n",
    "\n",
    "# getting a vector with repeat size\n",
    "# the n in (MOTIF)n\n",
    "round_nrpt = round(sva_att_wide$rpt_n_rpt)\n",
    "round_nrpt = round_nrpt[!is.na(round_nrpt)]\n",
    "\n",
    "# first, I fitted my data to a gamma distribution\n",
    "# getting the parameters of the gamma distribution\n",
    "# using a maximum-likelihood estimator\n",
    "mle_gamma = fitdistr(x = round_nrpt, densfun = \"gamma\")\n",
    "\n",
    "# I created a sample from a gamma distribution\n",
    "# with the parameters obtained from my data\n",
    "my_fit_gamma = rgamma(n = length(round_nrpt), shape = mle_gamma$estimate[1], rate = mle_gamma$estimate[2])\n",
    "\n",
    "# then, I did the same using the log normal distribution\n",
    "mle_lnorm = fitdistr(x = round_nrpt, densfun = \"log-normal\")\n",
    "my_fit_lnorm = rlnorm(n = length(round_nrpt), meanlog = mle_lnorm$estimate[1], sdlog = mle_lnorm$estimate[2])\n",
    "\n",
    "# I checked those distributions using ggplot2\n",
    "tib = tibble(empirical = round_nrpt,\n",
    "             fit_lnorm = my_fit_lnorm,\n",
    "             fit_gamma = my_fit_gamma) %>% \n",
    "    pivot_longer(cols = empirical:fit_gamma, names_to = \"dist\", values_to = \"values\")\n",
    "\n",
    "options(repr.plot.width = 6, repr.plot.height = 4)\n",
    "tib %>% \n",
    "    ggplot(aes(x = values, fill = dist, color = dist)) +\n",
    "    geom_density(alpha = 0.1) +\n",
    "    geom_vline(xintercept = 30)\n",
    "\n",
    "# I will assume my data came from a population\n",
    "# that can be modeled by a gamma distribution, and\n",
    "# I will compute a p-value.\n",
    "# this p-value will be the probability of observing\n",
    "# a length as extreme or more extreme than that (therefore 30-1)\n",
    "# we observed in XDP\n",
    "# 35-52 in Bragg 2017\n",
    "# 30-55 in Westenberger 2019\n",
    "# 35-57 in Luth 2022\n",
    "# min. length observed in these studies\n",
    "p_value_gamma = pgamma(q = 30-1, rate = mle_gamma$estimate[1], shape = mle_gamma$estimate[2], lower.tail = F)"
   ]
  },
  {
   "cell_type": "code",
   "execution_count": 27,
   "id": "1ad742b3-099c-4e0b-85d3-fb93cc5aa8b7",
   "metadata": {
    "execution": {
     "iopub.execute_input": "2024-04-18T22:18:53.374149Z",
     "iopub.status.busy": "2024-04-18T22:18:53.372856Z",
     "iopub.status.idle": "2024-04-18T22:18:53.390756Z",
     "shell.execute_reply": "2024-04-18T22:18:53.389318Z"
    },
    "vscode": {
     "languageId": "r"
    }
   },
   "outputs": [
    {
     "data": {
      "text/html": [
       "0.013986013986014"
      ],
      "text/latex": [
       "0.013986013986014"
      ],
      "text/markdown": [
       "0.013986013986014"
      ],
      "text/plain": [
       "[1] 0.01398601"
      ]
     },
     "metadata": {},
     "output_type": "display_data"
    }
   ],
   "source": [
    "# computing the probability of\n",
    "# observing a value as extreme or more extreme\n",
    "# than the observation considering the empirical\n",
    "# distribution\n",
    "# we decided to use this in the paper:\n",
    "# less assumptions required\n",
    "observed_value = 30\n",
    "p_obs = sum(round_nrpt >= observed_value)/length(round_nrpt)\n",
    "p_obs"
   ]
  },
  {
   "cell_type": "code",
   "execution_count": 28,
   "id": "069f14b2-d667-4fa1-8e52-472e4e42be76",
   "metadata": {
    "execution": {
     "iopub.execute_input": "2024-04-18T22:18:53.397267Z",
     "iopub.status.busy": "2024-04-18T22:18:53.395674Z",
     "iopub.status.idle": "2024-04-18T22:18:53.406694Z",
     "shell.execute_reply": "2024-04-18T22:18:53.405390Z"
    },
    "vscode": {
     "languageId": "r"
    }
   },
   "outputs": [],
   "source": [
    "# # experimental feature\n",
    "# # using simulation (bootstrap) to determine a pvalue\n",
    "# # Compute the observed test statistic\n",
    "# observed_value = 30\n",
    "# observed_statistic = sum(round_nrpt >= observed_value)/length(round_nrpt)\n",
    "\n",
    "# # Perform the bootstrap procedure\n",
    "# n_bootstrap = 100000\n",
    "# null_distribution = numeric(n_bootstrap)\n",
    "\n",
    "# for (i in 1:n_bootstrap) {\n",
    "#   resampled_data = sample(round_nrpt, size = length(round_nrpt), replace = T)\n",
    "#   # null_distribution[i] = mean(resampled_data)\n",
    "#   null_distribution[i] = sum(resampled_data >= observed_value)\n",
    "# }\n",
    "\n",
    "# # I observed those distributions using ggplot2\n",
    "# tib = bind_rows(tibble(dist = \"empirical\", values = round_nrpt),\n",
    "#                 tibble(dist = \"bootstrapped_proportion\", values = null_distribution))\n",
    "\n",
    "# tib %>% \n",
    "#     ggplot(aes(x = values, color = dist)) +\n",
    "#     geom_density() +\n",
    "#     geom_vline(xintercept = 30) +\n",
    "#     ylim(0,1)\n",
    "\n",
    "# # Calculate the p-value\n",
    "# p_value_boot = sum(observed_statistic >= null_distribution) / n_bootstrap\n",
    "# p_value_boot"
   ]
  },
  {
   "cell_type": "code",
   "execution_count": 29,
   "id": "4367a9ce-8d7c-40f4-b590-a7f22ab54357",
   "metadata": {
    "execution": {
     "iopub.execute_input": "2024-04-18T22:18:53.412865Z",
     "iopub.status.busy": "2024-04-18T22:18:53.411654Z",
     "iopub.status.idle": "2024-04-18T22:19:01.665064Z",
     "shell.execute_reply": "2024-04-18T22:19:01.663426Z"
    },
    "tags": [],
    "vscode": {
     "languageId": "r"
    }
   },
   "outputs": [
    {
     "name": "stderr",
     "output_type": "stream",
     "text": [
      "Warning message:\n",
      "“Removed 438 rows containing non-finite values (stat_boxplot).”\n",
      "Warning message:\n",
      "“Removed 438 rows containing missing values (position_quasirandom).”\n",
      "Warning message:\n",
      "“Removed 438 rows containing non-finite values (stat_boxplot).”\n",
      "Warning message:\n",
      "“Removed 438 rows containing missing values (position_quasirandom).”\n"
     ]
    },
    {
     "data": {
      "image/png": "[encoded data removed]",
      "text/plain": [
       "plot without title"
      ]
     },
     "metadata": {
      "image/png": {
       "height": 247.5,
       "width": 300
      }
     },
     "output_type": "display_data"
    }
   ],
   "source": [
    "options(repr.plot.width = 5, repr.plot.height = 4.125)\n",
    "rpt_length_median = sva_att_wide$rpt_n_rpt %>% median(na.rm = T)\n",
    "\n",
    "sva_types = sva_att_wide$sva_type %>% unique() %>% sort()\n",
    "sva_types_rev = sva_types %>% rev()\n",
    "\n",
    "# 35-52 in Bragg 2017\n",
    "# 30-55 in Westenberger 2019\n",
    "# 35-57 in Luth 2022\n",
    "sva_types_5prime_length_plot = sva_att_wide %>% \n",
    "    ggplot(aes(x = factor(x = sva_type,\n",
    "                          levels = sva_types_rev,\n",
    "                          labels = str_replace(sva_types_rev, \"_\", \" \")),\n",
    "               y = round(rpt_n_rpt),\n",
    "               fill = sva_type)) +\n",
    "    geom_boxplot(outlier.shape = NA,\n",
    "                 show.legend = F) +\n",
    "    geom_quasirandom(size = 0.2, alpha = 0.5,\n",
    "                     show.legend = F) +\n",
    "    geom_hline(yintercept = rpt_length_median, linetype = 2, size = 0.5, color = \"black\") +\n",
    "    annotate(geom = \"text\", x = \"SVA (XDP)\", y = rpt_length_median + 3,\n",
    "             label=\"hg38\\nSVA mdn\", angle = 90, color = \"black\", vjust = 0.125, hjust = 0.25) + \n",
    "    geom_errorbar(mapping=aes(x = \"SVA (XDP)\", ymin=30, ymax=57), width=0.2, size=1, color = \"#c85200\") +\n",
    "    # annotate(geom = \"text\", x = \"SVA XDP\", y = (57*6)+10,\n",
    "    #          label=\"XDP SVA F\\n(Luth et al., 2022)\", angle = 0,\n",
    "    #          color = \"#1170aa\", vjust = 1, hjust = 0) + \n",
    "    geom_errorbar(mapping=aes(x = \"SVA (FCMD)\", ymin=41, ymax=41), width=0.2, size=1, color = \"#57606c\") +\n",
    "    geom_errorbar(mapping=aes(x = \"SVA (ARH)\", ymin=28, ymax=28), width=0.2, size=1, color = \"#57606c\") +\n",
    "    # annotate(geom = \"text\", x = \"SVA FCMD\", y = (41*6)+10,\n",
    "    #          label=\"FCMD SVA\\n(Taniguchi-Ikeda et al., 2012)\", angle = 0,\n",
    "    #          color = \"#fc7d0b\", vjust = 1, hjust = 0) +\n",
    "    # geom_hline(yintercept = 21*6, linetype = 2, size = 0.5,\n",
    "    #            color = \"#4E79A7\") +\n",
    "    # annotate(geom = \"text\", x = \"Ref.\", y = (21*6)+15,\n",
    "    #          label=\"Ref. gen. XDP SVA_F\", angle = 0,\n",
    "    #          color = \"#4E79A7\", vjust = -1, , hjust = 0) + \n",
    "    # geom_hline(yintercept = 35*6, linetype = 2, size = 0.5, color = \"#1170aa\") +\n",
    "    # annotate(geom = \"text\", x = \"XDP\", y = (35*6)+15,\n",
    "    #          label=\"Min. XDP SVA F\\n(Luth et al., 2022)\", angle = 0,\n",
    "    #          color = \"#1170aa\", vjust = 1, hjust = 0) + \n",
    "    # geom_hline(yintercept = 57*6, linetype = 2, size = 0.5, color = \"#fc7d0b\") +\n",
    "    # annotate(geom = \"text\", x = \"XDP\", y = (57*6)+15,\n",
    "    #          label=\"Max. XDP SVA F\\n(Luth et al., 2022)\", angle = 0,\n",
    "    #          color = \"#fc7d0b\", vjust = 3, hjust = 0) + \n",
    "    ylab(\"5' repeat length\") +\n",
    "    xlab(\"SVA type\") +\n",
    "    labs(caption = paste0(\"Given the observed data, the probability of observing a 5' repeat length\\nequal to or longer than 30, i.e., the minimum observed in\\nXDP (Luth et al. (2022)), is \", format(p_obs, scientific = T, digits = 3), \".\")) +\n",
    "    scale_y_continuous(breaks = seq(0, 100, 25), limits = c(0, 100)) +\n",
    "    scale_x_discrete(limits=rev) +\n",
    "    scale_fill_tableau(palette = \"Color Blind\") +\n",
    "    coord_flip() #+\n",
    "    #theme_pubr(x.text.angle = 45, base_family = \"Arial\")\n",
    "\n",
    "ggsave(filename = \"sva_types_5prime_length_plot.pdf\",\n",
    "       plot = sva_types_5prime_length_plot,\n",
    "       width = 5,\n",
    "       height = 4.125,\n",
    "       units = \"in\",\n",
    "       dpi = 600)\n",
    "\n",
    "sva_types_5prime_length_plot"
   ]
  },
  {
   "cell_type": "markdown",
   "id": "af7a5a8e-924b-4c66-83a0-cfe5d1924e80",
   "metadata": {
    "tags": []
   },
   "source": [
    "## 5' profile for SVAs having a 5' repeat (control samples only)"
   ]
  },
  {
   "cell_type": "markdown",
   "id": "08354792-dfbd-4a6a-8020-7db0bfb9b999",
   "metadata": {},
   "source": [
    "Based on the previous script, I will plot the same 5' profile charts using only control samples. This time, only SVAs harboring 5' repeats will be included."
   ]
  },
  {
   "cell_type": "code",
   "execution_count": 30,
   "id": "56b2b4bb-bb9f-4dac-8ea9-7921c2313698",
   "metadata": {
    "execution": {
     "iopub.execute_input": "2024-04-18T22:19:01.672656Z",
     "iopub.status.busy": "2024-04-18T22:19:01.671428Z",
     "iopub.status.idle": "2024-04-18T22:19:02.496982Z",
     "shell.execute_reply": "2024-04-18T22:19:02.495460Z"
    },
    "vscode": {
     "languageId": "r"
    }
   },
   "outputs": [
    {
     "data": {
      "image/png": "[encoded data removed]",
      "text/plain": [
       "plot without title"
      ]
     },
     "metadata": {
      "image/png": {
       "height": 240,
       "width": 509.4
      }
     },
     "output_type": "display_data"
    }
   ],
   "source": [
    "options(repr.plot.width = 8.49, repr.plot.height = 4)\n",
    "\n",
    "# five_prime_cov\n",
    "n = sva_fiverpt_tx_tib$sva_name %>% unique() %>% length()\n",
    "plots_five_prime_cov_wrpt = sva_fiverpt_tx_tib %>%\n",
    "    mutate(counts = counts * -1) %>%\n",
    "    mutate(coordinate = coordinate * -1) %>%\n",
    "    mutate() %>%\n",
    "    ggplot(aes(x = coordinate,\n",
    "               y = counts,\n",
    "               fill = coverage_orientation)) +\n",
    "    geom_col(show.legend = T, width = 1) +\n",
    "    geom_segment(aes(x = -25, xend = 75, y = 9, yend = 9),\n",
    "                 arrow = arrow(length=unit(.5, 'cm')),\n",
    "                 color = tableau10_col_blind_mod$value[1], size = 2) +\n",
    "    geom_segment(aes(x = -200, xend = -300, y = -9, yend = -9),\n",
    "                 arrow = arrow(length=unit(.5, 'cm')),\n",
    "                 color = tableau10_col_blind_mod$value[2], size = 2) +\n",
    "    geom_vline(xintercept = 0, size = 0.5) +\n",
    "    # geom_vline(xintercept = \"72\", linetype = 2, size = 0.5) +\n",
    "    xlab(\"Coordinate (bp)\") +\n",
    "    labs(title = \"SVAs with 5' repeat\",\n",
    "         caption = paste0(\"Metaplot of \", n, \" SVAs.\")) +\n",
    "    scale_y_continuous(name = \"Coverage of long read 5' end\",\n",
    "                       limits = c(-10, 10),\n",
    "                       labels = abs) +\n",
    "    scale_x_continuous(breaks = seq(-500, 500, 100)) +\n",
    "    scale_fill_tableau(palette = \"Color Blind\",\n",
    "                       name = \"Transcript orientation\",\n",
    "                       labels = c(\"antisense\" = \"Antisense to SVA\",\n",
    "                                  \"sense\" = \"Sense to SVA\")) +\n",
    "    theme_pubr() +\n",
    "    theme(axis.ticks.x = element_blank(),\n",
    "          axis.text.x = element_text(hjust = 1,\n",
    "                                     angle = 45))\n",
    "plots_five_prime_cov_wrpt"
   ]
  },
  {
   "cell_type": "markdown",
   "id": "16b0f99c-6052-49c5-ae8a-317c4c092ab9",
   "metadata": {
    "tags": []
   },
   "source": [
    "## 5' profile for SVAs not having a 5' repeat (control samples only)"
   ]
  },
  {
   "cell_type": "markdown",
   "id": "e6eaf45f-11a4-46ba-a802-beee4c0363a1",
   "metadata": {},
   "source": [
    "Based on the previous script, I will plot the same 5' profile charts using only control samples. This time, only SVAs harboring 5' repeats will be included."
   ]
  },
  {
   "cell_type": "code",
   "execution_count": 31,
   "id": "82662d58-1fe5-4b3d-ac13-39e1a7c2a8a3",
   "metadata": {
    "execution": {
     "iopub.execute_input": "2024-04-18T22:19:02.504336Z",
     "iopub.status.busy": "2024-04-18T22:19:02.502996Z",
     "iopub.status.idle": "2024-04-18T22:19:02.928772Z",
     "shell.execute_reply": "2024-04-18T22:19:02.927085Z"
    },
    "vscode": {
     "languageId": "r"
    }
   },
   "outputs": [
    {
     "name": "stderr",
     "output_type": "stream",
     "text": [
      "Warning message:\n",
      "“Removed 4 rows containing missing values (position_stack).”\n",
      "Warning message:\n",
      "“Removed 5 rows containing missing values (geom_col).”\n"
     ]
    },
    {
     "data": {
      "image/png": "[encoded data removed]",
      "text/plain": [
       "plot without title"
      ]
     },
     "metadata": {
      "image/png": {
       "height": 240,
       "width": 509.4
      }
     },
     "output_type": "display_data"
    }
   ],
   "source": [
    "options(repr.plot.width = 8.49, repr.plot.height = 4)\n",
    "# five_prime_cov\n",
    "n = sva_norpt_tx_tib$sva_name %>% unique() %>% length()\n",
    "plots_five_prime_cov_worpt = sva_norpt_tx_tib %>%\n",
    "    mutate(counts = counts * -1) %>%\n",
    "    mutate(coordinate = coordinate * -1) %>%\n",
    "    ggplot(aes(x = coordinate,\n",
    "               y = counts,\n",
    "               fill = coverage_orientation)) +\n",
    "    geom_col(show.legend = T, width = 1) +\n",
    "    geom_vline(xintercept = 0, size = 0.5) +\n",
    "    # geom_vline(xintercept = \"72\", linetype = 2, size = 0.5) +\n",
    "    xlab(\"Coordinate (bp)\") +\n",
    "    labs(title = \"SVAs without 5' repeat\",\n",
    "         caption = paste0(\"Metaplot of \", n, \" SVAs.\")) +\n",
    "    scale_y_continuous(name = \"Coverage of long read 5' end\",\n",
    "                       limits = c(-10, 10),\n",
    "                       labels = abs) +\n",
    "    scale_x_continuous(breaks = seq(-500, 500, 100)) +\n",
    "    scale_fill_tableau(palette = \"Color Blind\",\n",
    "                       name = \"Transcript orientation\",\n",
    "                       labels = c(\"antisense\" = \"Antisense to SVA\",\n",
    "                                  \"sense\" = \"Sense to SVA\")) +\n",
    "    theme_pubr() +\n",
    "    theme(axis.ticks.x = element_blank(),\n",
    "          axis.text.x = element_text(hjust = 1,\n",
    "                                     angle = 45))\n",
    "plots_five_prime_cov_worpt"
   ]
  },
  {
   "cell_type": "markdown",
   "id": "a4a549f0-6a6f-4fa4-b71f-821177af25bd",
   "metadata": {
    "tags": []
   },
   "source": [
    "## 5' profile for SVAs (w/ and wo/ same panel) (control samples only)"
   ]
  },
  {
   "cell_type": "code",
   "execution_count": 32,
   "id": "f2594d2f-bb67-46cb-bcc0-5cedea08c111",
   "metadata": {
    "execution": {
     "iopub.execute_input": "2024-04-18T22:19:02.935905Z",
     "iopub.status.busy": "2024-04-18T22:19:02.934553Z",
     "iopub.status.idle": "2024-04-18T22:19:04.092477Z",
     "shell.execute_reply": "2024-04-18T22:19:04.090996Z"
    },
    "vscode": {
     "languageId": "r"
    }
   },
   "outputs": [
    {
     "name": "stderr",
     "output_type": "stream",
     "text": [
      "Warning message:\n",
      "“Removed 2 rows containing missing values (geom_bar).”\n"
     ]
    },
    {
     "data": {
      "image/png": "[encoded data removed]",
      "text/plain": [
       "plot without title"
      ]
     },
     "metadata": {
      "image/png": {
       "height": 105,
       "width": 509.4
      }
     },
     "output_type": "display_data"
    }
   ],
   "source": [
    "options(repr.plot.width = 8.49, repr.plot.height = 1.75)\n",
    "n = sva_att_wide %>% filter(name %in% sva_fiverpt_tx_tib$sva_name) %>% pull(name) %>%  unique() %>% length()\n",
    "plots_five_prime_cov_histlen = sva_att_wide %>% \n",
    "    filter(name %in% sva_fiverpt_tx_tib$sva_name) %>% \n",
    "    ggplot(aes(x = rpt_length)) +\n",
    "    geom_histogram(fill = \"white\", color = \"black\", bins = 1000) +\n",
    "    scale_x_continuous(limits = c(-500, 500)) +\n",
    "    geom_vline(xintercept = 0, size = 0.5) +\n",
    "    xlab(\"5' repeat length (bp)\") +\n",
    "    ylab(\"Freq.\") +\n",
    "    labs(title = \"Histogram of 5' repeat length\",\n",
    "         caption = paste0(\"Histogram of \", n, \" SVAs.\")) +\n",
    "    theme(axis.ticks.x = element_blank(),\n",
    "          axis.text.x = element_text(hjust = 1,\n",
    "                                     angle = 45))\n",
    "plots_five_prime_cov_histlen"
   ]
  },
  {
   "cell_type": "code",
   "execution_count": 33,
   "id": "fc5f7633-e07d-45bb-a1f6-ea2e3cb90711",
   "metadata": {
    "execution": {
     "iopub.execute_input": "2024-04-18T22:19:04.099794Z",
     "iopub.status.busy": "2024-04-18T22:19:04.098510Z",
     "iopub.status.idle": "2024-04-18T22:19:04.386974Z",
     "shell.execute_reply": "2024-04-18T22:19:04.385320Z"
    },
    "vscode": {
     "languageId": "r"
    }
   },
   "outputs": [
    {
     "name": "stderr",
     "output_type": "stream",
     "text": [
      "Warning message:\n",
      "“Ignoring unknown parameters: bins”\n"
     ]
    },
    {
     "data": {
      "image/png": "[encoded data removed]",
      "text/plain": [
       "plot without title"
      ]
     },
     "metadata": {
      "image/png": {
       "height": 141,
       "width": 90
      }
     },
     "output_type": "display_data"
    }
   ],
   "source": [
    "options(repr.plot.width = 1.5, repr.plot.height = 2.35)\n",
    "n = sva_att_wide %>% filter(name %in% sva_fiverpt_tx_tib$sva_name) %>% pull(name) %>%  unique() %>% length()\n",
    "plots_five_prime_cov_violinlen = sva_att_wide %>% \n",
    "    filter(name %in% sva_fiverpt_tx_tib$sva_name) %>% \n",
    "    ggplot(aes(y = rpt_length, x = \"\")) +\n",
    "    geom_violin(fill = \"white\", color = \"black\", bins = 1000) +\n",
    "    geom_vline(xintercept = 0, size = 0.5) +\n",
    "    xlab(\"\") +\n",
    "    ylab(\"5' repeat length (bp)\") +\n",
    "    labs(\n",
    "        # title = \"Violin plot of 5' repeat length\",\n",
    "        caption = paste0(\"Plot of \", n, \" SVAs.\")\n",
    "    ) +\n",
    "    theme(axis.ticks.x = element_blank(),\n",
    "          axis.text.x = element_text(hjust = 1,\n",
    "                                     angle = 45))\n",
    "\n",
    "plots_five_prime_cov_violinlen\n",
    "\n",
    "ggsave(filename = \"sva_5prime_repeat_length_of_svas_w_coverage_violin.pdf\",\n",
    "       plot = plots_five_prime_cov_violinlen,\n",
    "       width = 2,\n",
    "       height = 2.35,\n",
    "       units = \"in\",\n",
    "       dpi = 600)"
   ]
  },
  {
   "cell_type": "code",
   "execution_count": 34,
   "id": "95a533ea-194f-4d92-9172-710e268d5cb7",
   "metadata": {
    "execution": {
     "iopub.execute_input": "2024-04-18T22:19:04.393599Z",
     "iopub.status.busy": "2024-04-18T22:19:04.392363Z",
     "iopub.status.idle": "2024-04-18T22:19:04.719259Z",
     "shell.execute_reply": "2024-04-18T22:19:04.717693Z"
    },
    "vscode": {
     "languageId": "r"
    }
   },
   "outputs": [
    {
     "name": "stderr",
     "output_type": "stream",
     "text": [
      "Warning message:\n",
      "“Ignoring unknown parameters: bins”\n"
     ]
    },
    {
     "data": {
      "image/png": "[encoded data removed]",
      "text/plain": [
       "plot without title"
      ]
     },
     "metadata": {
      "image/png": {
       "height": 240,
       "width": 180
      }
     },
     "output_type": "display_data"
    }
   ],
   "source": [
    "options(repr.plot.width = 3, repr.plot.height = 4)\n",
    "n = sva_att_wide %>% filter(name %in% sva_fiverpt_tx_tib$sva_name) %>% pull(name) %>%  unique() %>% length()\n",
    "plots_five_prime_cov_boxlen = sva_att_wide %>% \n",
    "    filter(name %in% sva_fiverpt_tx_tib$sva_name) %>% \n",
    "    ggplot(aes(y = rpt_length, x = \"\")) +\n",
    "    geom_boxplot(fill = \"white\", color = \"black\", bins = 1000, outlier.shape = NA) +\n",
    "    geom_jitter(width = 0.25, alpha = 0.25) +\n",
    "    geom_vline(xintercept = 0, size = 0.5) +\n",
    "    xlab(\"SVAs with 5' repeat\") +\n",
    "    ylab(\"5' repeat length (bp)\") +\n",
    "    labs(\n",
    "        # title = \"Violin plot of 5' repeat length\",\n",
    "        caption = paste0(\"Plot of \", n, \" SVAs.\")\n",
    "    ) +\n",
    "    theme(axis.ticks.x = element_blank(),\n",
    "          axis.text.x = element_text(hjust = 1,\n",
    "                                     angle = 45))\n",
    "\n",
    "plots_five_prime_cov_boxlen\n",
    "\n",
    "ggsave(filename = \"sva_5prime_repeat_length_of_svas_w_coverage_boxplot.pdf\",\n",
    "       plot = plots_five_prime_cov_boxlen,\n",
    "       width = 6,\n",
    "       height = 8,\n",
    "       units = \"in\",\n",
    "       dpi = 600)"
   ]
  },
  {
   "cell_type": "code",
   "execution_count": 35,
   "id": "cbb2029e-2894-4a9e-b69c-c2afabef663b",
   "metadata": {
    "execution": {
     "iopub.execute_input": "2024-04-18T22:19:04.726589Z",
     "iopub.status.busy": "2024-04-18T22:19:04.724989Z",
     "iopub.status.idle": "2024-04-18T22:19:05.033564Z",
     "shell.execute_reply": "2024-04-18T22:19:05.032084Z"
    },
    "vscode": {
     "languageId": "r"
    }
   },
   "outputs": [
    {
     "data": {
      "image/png": "[encoded data removed]",
      "text/plain": [
       "plot without title"
      ]
     },
     "metadata": {
      "image/png": {
       "height": 15,
       "width": 509.4
      }
     },
     "output_type": "display_data"
    }
   ],
   "source": [
    "options(repr.plot.width = 8.49, repr.plot.height = 0.25)\n",
    "sva_track = tibble(start = 0,\n",
    "       end = 500) %>%\n",
    "  ggplot() +\n",
    "  geom_rect(aes(xmin = start, xmax = end, \n",
    "                ymin = 0, ymax = 1),\n",
    "            fill = \"#D55E00\",\n",
    "            color = \"black\") +\n",
    "  geom_segment(aes(x = 485, xend = 490, y = 0.5, yend = 0.5),\n",
    "                   arrow = arrow(length=unit(0.5, 'cm')),\n",
    "                   color = \"black\", size = 2) +\n",
    "  geom_segment(aes(x = 50, xend = 55, y = 0.5, yend = 0.5),\n",
    "                   arrow = arrow(length=unit(0.5, 'cm')),\n",
    "                   color = \"black\", size = 2) +\n",
    "  geom_text(aes(x = (start + end) / 2, y = 0.5), label = \"SVA\") +\n",
    "  scale_x_continuous(limits = c(-500, 500)) +\n",
    "  theme_void()\n",
    "  # theme(axis.text.y = element_blank(),\n",
    "  #       axis.ticks.x = element_blank(),\n",
    "  #       axis.text.x = element_text(hjust = 1,\n",
    "  #                                  angle = 45))\n",
    "sva_track"
   ]
  },
  {
   "cell_type": "code",
   "execution_count": 36,
   "id": "0196dd2a-664f-4dea-9ae8-ec0eda814f7b",
   "metadata": {
    "execution": {
     "iopub.execute_input": "2024-04-18T22:19:05.040363Z",
     "iopub.status.busy": "2024-04-18T22:19:05.039150Z",
     "iopub.status.idle": "2024-04-18T22:19:07.030756Z",
     "shell.execute_reply": "2024-04-18T22:19:07.029258Z"
    },
    "jp-MarkdownHeadingCollapsed": true,
    "tags": [],
    "vscode": {
     "languageId": "r"
    }
   },
   "outputs": [
    {
     "name": "stderr",
     "output_type": "stream",
     "text": [
      "Warning message:\n",
      "“Removed 4 rows containing missing values (position_stack).”\n",
      "Warning message:\n",
      "“Removed 5 rows containing missing values (geom_col).”\n"
     ]
    },
    {
     "data": {
      "image/png": "[encoded data removed]",
      "text/plain": [
       "plot without title"
      ]
     },
     "metadata": {
      "image/png": {
       "height": 480,
       "width": 360
      }
     },
     "output_type": "display_data"
    }
   ],
   "source": [
    "options(repr.plot.width = 6, repr.plot.height = 8)\n",
    "\n",
    "sva_antisense_expression_panel = ggarrange(plotlist = list(plots_five_prime_cov_wrpt,\n",
    "                                                           # sva_track,\n",
    "                                                           # plots_five_prime_cov_histlen,\n",
    "                                                           plots_five_prime_cov_worpt), \n",
    "                                           ncol = 1, nrow = 2,\n",
    "                                           legend = \"top\",\n",
    "                                           align = \"v\",\n",
    "                                           common.legend = T,\n",
    "                                           heights = c(0.4,\n",
    "                                                       # 0.025,\n",
    "                                                       # 0.2\n",
    "                                                       0.4))\n",
    "\n",
    "ggsave(filename = \"sva_antisense_expression_panel.pdf\",\n",
    "       plot = sva_antisense_expression_panel,\n",
    "       width = 6,\n",
    "       height = 8,\n",
    "       units = \"in\",\n",
    "       dpi = 600)\n",
    "\n",
    "sva_antisense_expression_panel"
   ]
  },
  {
   "cell_type": "markdown",
   "id": "0a4decb9-e813-4803-a1a0-25e6c981afb4",
   "metadata": {
    "tags": []
   },
   "source": [
    "### Checking the expression of each SVA (control samples only)"
   ]
  },
  {
   "cell_type": "markdown",
   "id": "20560975-e33c-4d04-b74b-22e2294c5db6",
   "metadata": {},
   "source": [
    "Here we are going to create a heat map showing the number of reads starting at the five prime repeat of SVAs."
   ]
  },
  {
   "cell_type": "code",
   "execution_count": 37,
   "id": "9215c250-4ee5-436f-9e3a-7643dafc31f1",
   "metadata": {
    "execution": {
     "iopub.execute_input": "2024-04-18T22:19:07.038633Z",
     "iopub.status.busy": "2024-04-18T22:19:07.037348Z",
     "iopub.status.idle": "2024-04-18T22:19:13.264890Z",
     "shell.execute_reply": "2024-04-18T22:19:13.263234Z"
    },
    "tags": [],
    "vscode": {
     "languageId": "r"
    }
   },
   "outputs": [
    {
     "data": {
      "text/html": [
       "<strong>png:</strong> 2"
      ],
      "text/latex": [
       "\\textbf{png:} 2"
      ],
      "text/markdown": [
       "**png:** 2"
      ],
      "text/plain": [
       "png \n",
       "  2 "
      ]
     },
     "metadata": {},
     "output_type": "display_data"
    },
    {
     "data": {
      "image/png": "[encoded data removed]",
      "text/plain": [
       "plot without title"
      ]
     },
     "metadata": {
      "image/png": {
       "height": 840,
       "width": 360
      }
     },
     "output_type": "display_data"
    }
   ],
   "source": [
    "options(repr.plot.width = 6, repr.plot.height = 14)\n",
    "\n",
    "# defining matrices\n",
    "M_ori = sva_att_wide %>% \n",
    "    mutate(chr = str_replace(name, \"^(chr.*?):.*$\", \"\\\\1\")) %>% \n",
    "    dplyr::select(name, chr, sva_type, rpt_read_start_sense, rpt_read_start_antisense) %>% \n",
    "    filter(!is.na(rpt_read_start_sense) | !is.na(rpt_read_start_antisense)) %>% \n",
    "    mutate(across(.cols = c(rpt_read_start_sense, rpt_read_start_antisense),\n",
    "                  .fns = ~ ifelse(is.na(.x), 0, .x)))\n",
    "\n",
    "M = M_ori %>% dplyr::select(-c(name, chr, sva_type)) %>% as.matrix()\n",
    "rownames(M) = M_ori$name\n",
    "\n",
    "svaNames = paste0(\"SVA_\", LETTERS[1:6])\n",
    "svaCols = tableau10_col_blind_mod$value[1:6]\n",
    "names(svaCols) = svaNames\n",
    "\n",
    "heatCols = list(\n",
    "  svaCol = svaCols\n",
    ")\n",
    "\n",
    "# defining legend object\n",
    "heatLegs = list(\n",
    "    sva_type = Legend(title = \"    SVA type\",\n",
    "                      ncol = 3, by_row = F,\n",
    "                      at = names(heatCols$svaCol),\n",
    "                      legend_gp = gpar(fill = heatCols$svaCol %>% unname()))\n",
    ")\n",
    "\n",
    "# defining row annotation\n",
    "row_ha = HeatmapAnnotation(which = \"row\",\n",
    "                           sva_type = anno_simple(M_ori$sva_type,\n",
    "                                                       border = T,\n",
    "                                                       col = heatCols$svaCol),\n",
    "                           # Chromosome = anno_simple(hmaFuncat$Chromosome,\n",
    "                           #                           col = heatCols$chrCol,\n",
    "                           #                           border = T),\n",
    "                           annotation_label = c(\"SVA type\")\n",
    "                           )\n",
    "\n",
    "# setting up order of row split\n",
    "chrs = c(paste0(\"chr\", 1:22), \"chrX\", \"chrY\", \"chrM\")\n",
    "chrs = chrs[chrs %in% M_ori$chr]\n",
    "\n",
    "# building heatmap\n",
    "H = Heatmap(matrix = log10(M+1),\n",
    "            cluster_columns = F,\n",
    "            row_split = factor(M_ori$chr, levels = chrs),\n",
    "            cluster_row_slices = F,\n",
    "            row_title_rot = 0,\n",
    "            column_labels = c(\"Sense\", \"Antisense\"),\n",
    "            left_annotation = row_ha,\n",
    "            show_row_names = T,\n",
    "            row_names_max_width = unit(12, \"cm\"),\n",
    "            row_labels = str_replace(M_ori$name, \":SVA.*$\", \"\") %>% \n",
    "                str_replace(., \"(.*):(.*):(.*):(.*)\", \"\\\\1:\\\\2-\\\\3:\\\\4\"),\n",
    "            col = viridis::viridis(n = 100),\n",
    "            show_heatmap_legend = T,\n",
    "            heatmap_legend_param = list(\n",
    "                 title = \"Log10(Reads+1)\",\n",
    "                  direction = \"horizontal\"))\n",
    "\n",
    "draw(H, padding = unit(c(2, 2, 2, 30), \"mm\"),\n",
    "     annotation_legend_list = heatLegs,\n",
    "     heatmap_legend_side = \"top\",\n",
    "     annotation_legend_side = \"top\",\n",
    "     merge_legend = TRUE)\n",
    "\n",
    "# saving\n",
    "pdf(file = \"five_prime_repeat_read_abundance_heatmap.pdf\",\n",
    "    width = 6,\n",
    "    height = 14)\n",
    "draw(H, padding = unit(c(2, 2, 2, 30), \"mm\"),\n",
    "     annotation_legend_list = heatLegs,\n",
    "     heatmap_legend_side = \"top\",\n",
    "     annotation_legend_side = \"top\",\n",
    "     merge_legend = TRUE)\n",
    "# draw(heatLegs$sva_type,\n",
    "#      x = unit(0.8, \"npc\"),\n",
    "#      y = unit(0.375, \"npc\"))\n",
    "dev.off()\n",
    "# graphics.off()"
   ]
  },
  {
   "cell_type": "markdown",
   "id": "7bf73f97-db80-4afa-b104-f33fb9d49f74",
   "metadata": {
    "tags": []
   },
   "source": [
    "## 5' profile for SVAs having a 5' repeat (Alzheimer's samples only)"
   ]
  },
  {
   "cell_type": "markdown",
   "id": "609e2d5c-b1f0-4c29-9c36-43b3ad975e00",
   "metadata": {},
   "source": [
    "Based on the previous script, I will plot the same 5' profile charts using only Alzheimer's samples. This time, only SVAs harboring 5' repeats will be included."
   ]
  },
  {
   "cell_type": "code",
   "execution_count": null,
   "id": "f3a21d63-8b8e-4f57-b53e-b7835c4d531b",
   "metadata": {
    "execution": {
     "iopub.execute_input": "2024-04-18T22:19:13.276928Z",
     "iopub.status.busy": "2024-04-18T22:19:13.275712Z",
     "iopub.status.idle": "2024-04-18T22:19:14.377882Z",
     "shell.execute_reply": "2024-04-18T22:19:14.376324Z"
    },
    "vscode": {
     "languageId": "r"
    }
   },
   "outputs": [],
   "source": [
    "options(repr.plot.width = 8.49, repr.plot.height = 4)\n",
    "\n",
    "# five_prime_cov\n",
    "n = sva_fiverpt_tx_tib_alz$sva_name %>% unique() %>% length()\n",
    "plots_five_prime_cov_wrpt = sva_fiverpt_tx_tib_alz %>%\n",
    "    mutate(counts = counts * -1) %>%\n",
    "    mutate(coordinate = coordinate * -1) %>%\n",
    "    mutate() %>%\n",
    "    ggplot(aes(x = coordinate,\n",
    "               y = counts,\n",
    "               fill = coverage_orientation)) +\n",
    "    geom_col(show.legend = T, width = 1) +\n",
    "    geom_segment(aes(x = -25, xend = 75, y = 9, yend = 9),\n",
    "                 arrow = arrow(length=unit(.5, 'cm')),\n",
    "                 color = tableau10_col_blind_mod$value[1], size = 2) +\n",
    "    geom_segment(aes(x = -200, xend = -300, y = -9, yend = -9),\n",
    "                 arrow = arrow(length=unit(.5, 'cm')),\n",
    "                 color = tableau10_col_blind_mod$value[2], size = 2) +\n",
    "    geom_vline(xintercept = 0, size = 0.5) +\n",
    "    # geom_vline(xintercept = \"72\", linetype = 2, size = 0.5) +\n",
    "    xlab(\"Coordinate (bp)\") +\n",
    "    labs(title = \"SVAs with 5' repeat\",\n",
    "         caption = paste0(\"Metaplot of \", n, \" SVAs.\")) +\n",
    "    scale_y_continuous(name = \"Coverage of long read 5' end\",\n",
    "                       limits = c(-10, 10),\n",
    "                       labels = abs) +\n",
    "    scale_x_continuous(breaks = seq(-500, 500, 100)) +\n",
    "    scale_fill_tableau(palette = \"Color Blind\",\n",
    "                       name = \"Transcript orientation\",\n",
    "                       labels = c(\"antisense\" = \"Antisense to SVA\",\n",
    "                                  \"sense\" = \"Sense to SVA\")) +\n",
    "    theme_pubr() +\n",
    "    theme(axis.ticks.x = element_blank(),\n",
    "          axis.text.x = element_text(hjust = 1,\n",
    "                                     angle = 45))\n",
    "plots_five_prime_cov_wrpt"
   ]
  },
  {
   "cell_type": "markdown",
   "id": "3546ec7b-fb45-4e2e-8208-4d7d89a4ccf5",
   "metadata": {
    "tags": []
   },
   "source": [
    "## 5' profile for SVAs not having a 5' repeat (Alzheimer's samples only)"
   ]
  },
  {
   "cell_type": "markdown",
   "id": "abbee33f-e833-4f8d-85bd-33f47af549f8",
   "metadata": {},
   "source": [
    "Based on the previous script, I will plot the same 5' profile charts using only Alzheimer's samples. This time, only SVAs harboring 5' repeats will be included."
   ]
  },
  {
   "cell_type": "code",
   "execution_count": null,
   "id": "698c9570-5e5c-4154-8184-b132de58e716",
   "metadata": {
    "execution": {
     "iopub.execute_input": "2024-04-18T22:19:14.385320Z",
     "iopub.status.busy": "2024-04-18T22:19:14.383893Z",
     "iopub.status.idle": "2024-04-18T22:19:15.067671Z",
     "shell.execute_reply": "2024-04-18T22:19:15.066134Z"
    },
    "vscode": {
     "languageId": "r"
    }
   },
   "outputs": [],
   "source": [
    "options(repr.plot.width = 8.49, repr.plot.height = 4)\n",
    "# five_prime_cov\n",
    "n = sva_norpt_tx_tib_alz$sva_name %>% unique() %>% length()\n",
    "plots_five_prime_cov_worpt = sva_norpt_tx_tib_alz %>%\n",
    "    mutate(counts = counts * -1) %>%\n",
    "    mutate(coordinate = coordinate * -1) %>%\n",
    "    ggplot(aes(x = coordinate,\n",
    "               y = counts,\n",
    "               fill = coverage_orientation)) +\n",
    "    geom_col(show.legend = T, width = 1) +\n",
    "    geom_vline(xintercept = 0, size = 0.5) +\n",
    "    # geom_vline(xintercept = \"72\", linetype = 2, size = 0.5) +\n",
    "    xlab(\"Coordinate (bp)\") +\n",
    "    labs(title = \"SVAs without 5' repeat\",\n",
    "         caption = paste0(\"Metaplot of \", n, \" SVAs.\")) +\n",
    "    scale_y_continuous(name = \"Coverage of long read 5' end\",\n",
    "                       limits = c(-10, 10),\n",
    "                       labels = abs) +\n",
    "    scale_x_continuous(breaks = seq(-500, 500, 100)) +\n",
    "    scale_fill_tableau(palette = \"Color Blind\",\n",
    "                       name = \"Transcript orientation\",\n",
    "                       labels = c(\"antisense\" = \"Antisense to SVA\",\n",
    "                                  \"sense\" = \"Sense to SVA\")) +\n",
    "    theme_pubr() +\n",
    "    theme(axis.ticks.x = element_blank(),\n",
    "          axis.text.x = element_text(hjust = 1,\n",
    "                                     angle = 45))\n",
    "plots_five_prime_cov_worpt"
   ]
  },
  {
   "cell_type": "markdown",
   "id": "ec64d4c4-a08e-430a-b24f-6a2923d59438",
   "metadata": {
    "tags": []
   },
   "source": [
    "## 5' profile for SVAs (w/ and wo/ same panel) (Alzheimer's samples only)"
   ]
  },
  {
   "cell_type": "code",
   "execution_count": null,
   "id": "4d4f7c99-5b60-45c6-80c1-92548108455f",
   "metadata": {
    "execution": {
     "iopub.execute_input": "2024-04-18T22:19:15.074869Z",
     "iopub.status.busy": "2024-04-18T22:19:15.073425Z",
     "iopub.status.idle": "2024-04-18T22:19:16.184289Z",
     "shell.execute_reply": "2024-04-18T22:19:16.182834Z"
    },
    "vscode": {
     "languageId": "r"
    }
   },
   "outputs": [],
   "source": [
    "options(repr.plot.width = 8.49, repr.plot.height = 1.75)\n",
    "n = sva_att_wide %>% filter(name %in% sva_fiverpt_tx_tib_alz$sva_name) %>% pull(name) %>%  unique() %>% length()\n",
    "plots_five_prime_cov_histlen = sva_att_wide %>% \n",
    "    filter(name %in% sva_fiverpt_tx_tib_alz$sva_name) %>% \n",
    "    ggplot(aes(x = rpt_length)) +\n",
    "    geom_histogram(fill = \"white\", color = \"black\", bins = 1000) +\n",
    "    scale_x_continuous(limits = c(-500, 500)) +\n",
    "    geom_vline(xintercept = 0, size = 0.5) +\n",
    "    xlab(\"5' repeat length (bp)\") +\n",
    "    ylab(\"Freq.\") +\n",
    "    labs(title = \"Histogram of 5' repeat length\",\n",
    "         caption = paste0(\"Histogram of \", n, \" SVAs.\")) +\n",
    "    theme(axis.ticks.x = element_blank(),\n",
    "          axis.text.x = element_text(hjust = 1,\n",
    "                                     angle = 45))\n",
    "plots_five_prime_cov_histlen"
   ]
  },
  {
   "cell_type": "code",
   "execution_count": null,
   "id": "53f5adb2-e8c2-4a5f-add3-618b35e49d9c",
   "metadata": {
    "execution": {
     "iopub.execute_input": "2024-04-18T22:19:16.191180Z",
     "iopub.status.busy": "2024-04-18T22:19:16.189934Z",
     "iopub.status.idle": "2024-04-18T22:19:16.486940Z",
     "shell.execute_reply": "2024-04-18T22:19:16.485463Z"
    },
    "vscode": {
     "languageId": "r"
    }
   },
   "outputs": [],
   "source": [
    "options(repr.plot.width = 3, repr.plot.height = 4)\n",
    "n = sva_att_wide %>% filter(name %in% sva_fiverpt_tx_tib_alz$sva_name) %>% pull(name) %>%  unique() %>% length()\n",
    "plots_five_prime_cov_violinlen = sva_att_wide %>% \n",
    "    filter(name %in% sva_fiverpt_tx_tib_alz$sva_name) %>% \n",
    "    ggplot(aes(y = rpt_length, x = \"\")) +\n",
    "    geom_violin(fill = \"white\", color = \"black\", bins = 1000) +\n",
    "    geom_vline(xintercept = 0, size = 0.5) +\n",
    "    xlab(\"SVAs with 5' repeat\") +\n",
    "    ylab(\"5' repeat length (bp)\") +\n",
    "    labs(\n",
    "        # title = \"Violin plot of 5' repeat length\",\n",
    "        caption = paste0(\"Plot of \", n, \" SVAs.\")\n",
    "    ) +\n",
    "    theme(axis.ticks.x = element_blank(),\n",
    "          axis.text.x = element_text(hjust = 1,\n",
    "                                     angle = 45))\n",
    "\n",
    "plots_five_prime_cov_violinlen\n",
    "\n",
    "ggsave(filename = \"sva_5prime_repeat_length_of_svas_w_coverage_violin_alz.pdf\",\n",
    "       plot = plots_five_prime_cov_violinlen,\n",
    "       width = 3,\n",
    "       height = 4,\n",
    "       units = \"in\",\n",
    "       dpi = 600)"
   ]
  },
  {
   "cell_type": "code",
   "execution_count": null,
   "id": "2ea68ebd-f286-4932-bd54-6b5beee56350",
   "metadata": {
    "execution": {
     "iopub.execute_input": "2024-04-18T22:19:16.494215Z",
     "iopub.status.busy": "2024-04-18T22:19:16.492918Z",
     "iopub.status.idle": "2024-04-18T22:19:17.011628Z",
     "shell.execute_reply": "2024-04-18T22:19:17.009927Z"
    },
    "vscode": {
     "languageId": "r"
    }
   },
   "outputs": [],
   "source": [
    "options(repr.plot.width = 3, repr.plot.height = 4)\n",
    "n = sva_att_wide %>% filter(name %in% sva_fiverpt_tx_tib_alz$sva_name) %>% pull(name) %>%  unique() %>% length()\n",
    "plots_five_prime_cov_boxlen = sva_att_wide %>% \n",
    "    filter(name %in% sva_fiverpt_tx_tib_alz$sva_name) %>% \n",
    "    ggplot(aes(y = rpt_length, x = \"\")) +\n",
    "    geom_boxplot(fill = \"white\", color = \"black\", bins = 1000, outlier.shape = NA) +\n",
    "    geom_jitter(width = 0.25, alpha = 0.25) +\n",
    "    geom_vline(xintercept = 0, size = 0.5) +\n",
    "    xlab(\"SVAs with 5' repeat\") +\n",
    "    ylab(\"5' repeat length (bp)\") +\n",
    "    labs(\n",
    "        # title = \"Violin plot of 5' repeat length\",\n",
    "        caption = paste0(\"Plot of \", n, \" SVAs.\")\n",
    "    ) +\n",
    "    theme(axis.ticks.x = element_blank(),\n",
    "          axis.text.x = element_text(hjust = 1,\n",
    "                                     angle = 45))\n",
    "\n",
    "plots_five_prime_cov_boxlen\n",
    "\n",
    "ggsave(filename = \"sva_5prime_repeat_length_of_svas_w_coverage_boxplot_alz.pdf\",\n",
    "       plot = plots_five_prime_cov_boxlen,\n",
    "       width = 6,\n",
    "       height = 8,\n",
    "       units = \"in\",\n",
    "       dpi = 600)"
   ]
  },
  {
   "cell_type": "code",
   "execution_count": null,
   "id": "f76156a7-42ca-43be-9579-dd7dbf7b166f",
   "metadata": {
    "execution": {
     "iopub.execute_input": "2024-04-18T22:19:17.018716Z",
     "iopub.status.busy": "2024-04-18T22:19:17.017309Z",
     "iopub.status.idle": "2024-04-18T22:19:20.040508Z",
     "shell.execute_reply": "2024-04-18T22:19:20.038729Z"
    },
    "jp-MarkdownHeadingCollapsed": true,
    "tags": [],
    "vscode": {
     "languageId": "r"
    }
   },
   "outputs": [],
   "source": [
    "options(repr.plot.width = 6, repr.plot.height = 8)\n",
    "\n",
    "sva_antisense_expression_panel = ggarrange(plotlist = list(plots_five_prime_cov_wrpt,\n",
    "                                                           # sva_track,\n",
    "                                                           # plots_five_prime_cov_histlen,\n",
    "                                                           plots_five_prime_cov_worpt), \n",
    "                                           ncol = 1, nrow = 2,\n",
    "                                           legend = \"top\",\n",
    "                                           align = \"v\",\n",
    "                                           common.legend = T,\n",
    "                                           heights = c(0.4,\n",
    "                                                       # 0.025,\n",
    "                                                       # 0.2\n",
    "                                                       0.4))\n",
    "\n",
    "ggsave(filename = \"sva_antisense_expression_panel_alz.pdf\",\n",
    "       plot = sva_antisense_expression_panel,\n",
    "       width = 6,\n",
    "       height = 8,\n",
    "       units = \"in\",\n",
    "       dpi = 600)\n",
    "\n",
    "sva_antisense_expression_panel"
   ]
  },
  {
   "cell_type": "markdown",
   "id": "e9d85f0e-98d3-43dc-af04-5f437a0fb485",
   "metadata": {
    "tags": []
   },
   "source": [
    "## Association of SVA features"
   ]
  },
  {
   "cell_type": "markdown",
   "id": "3f64ba77-a0ce-4617-812b-9fa78d4053f8",
   "metadata": {
    "tags": []
   },
   "source": [
    "### Checking the expression of groups of SVAs"
   ]
  },
  {
   "cell_type": "markdown",
   "id": "a65595a1-1eee-4312-a9d2-b109adc31026",
   "metadata": {},
   "source": [
    "#### Frequency of SVA having at least one long read transcribed from the five prime repeat sense and antisense"
   ]
  },
  {
   "cell_type": "code",
   "execution_count": null,
   "id": "626b2da8-0b74-4f56-b8c3-86c862ba3e06",
   "metadata": {
    "execution": {
     "iopub.execute_input": "2024-04-18T22:19:20.048717Z",
     "iopub.status.busy": "2024-04-18T22:19:20.046949Z",
     "iopub.status.idle": "2024-04-18T22:19:20.432331Z",
     "shell.execute_reply": "2024-04-18T22:19:20.430522Z"
    },
    "tags": [],
    "vscode": {
     "languageId": "r"
    }
   },
   "outputs": [],
   "source": [
    "options(repr.plot.width = 6.25, repr.plot.height = 5)\n",
    "fac_order = c(\"Antisense\", \"Sense\", \"Both\", \"None\")\n",
    "\n",
    "absolute_freq_svas_with_five_prime_rpt = sva_att_wide %>% \n",
    "    mutate(tx_status = case_when(!is.na(rpt_read_start_sense) & !is.na(rpt_read_start_antisense) ~ \"Both\",\n",
    "                                 !is.na(rpt_read_start_sense) ~ \"Sense\",\n",
    "                                 !is.na(rpt_read_start_antisense) ~ \"Antisense\",\n",
    "                                 is.na(rpt_read_start_sense) & is.na(rpt_read_start_antisense) ~ \"None\")) %>% \n",
    "    group_by(sva_type, tx_status) %>%\n",
    "    summarise(count = n(), .groups = \"drop\") %>%\n",
    "    complete(sva_type, tx_status, fill = list(count = NA_integer_)) %>% \n",
    "    mutate(tx_status = factor(tx_status, levels = fac_order)) %>% \n",
    "    ggplot(aes(y = log10(count), x = sva_type, fill = tx_status)) +\n",
    "    geom_col(position = \"dodge\") +\n",
    "    scale_fill_tableau(name = \"Orientation of long reads\\nstarting at the 5' repeat\",\n",
    "                       palette = \"Color Blind\") +\n",
    "    ylab(\"Log10(Frequency)\") +\n",
    "    xlab(\"SVA type\")\n",
    "absolute_freq_svas_with_five_prime_rpt"
   ]
  },
  {
   "cell_type": "markdown",
   "id": "7ec99029-21a1-4db5-be6f-93ba681ee3c6",
   "metadata": {
    "tags": []
   },
   "source": [
    "#### Relative frequency of SVA having at least one long read transcribed from the five prime repeat sense and antisense"
   ]
  },
  {
   "cell_type": "code",
   "execution_count": null,
   "id": "232ed956-a569-4cf7-8406-e35c3c3fcd85",
   "metadata": {
    "execution": {
     "iopub.execute_input": "2024-04-18T22:19:20.439889Z",
     "iopub.status.busy": "2024-04-18T22:19:20.438277Z",
     "iopub.status.idle": "2024-04-18T22:19:20.743794Z",
     "shell.execute_reply": "2024-04-18T22:19:20.742005Z"
    },
    "tags": [],
    "vscode": {
     "languageId": "r"
    }
   },
   "outputs": [],
   "source": [
    "options(repr.plot.width = 6.25, repr.plot.height = 5)\n",
    "fac_order = c(\"Antisense\", \"Sense\", \"Both\", \"None\")\n",
    "\n",
    "relative_freq_svas_with_five_prime_rpt = sva_att_wide %>%\n",
    "  mutate(tx_status = case_when(!is.na(rpt_read_start_sense) & !is.na(rpt_read_start_antisense) ~ \"Both\",\n",
    "                               !is.na(rpt_read_start_sense) ~ \"Sense\",\n",
    "                               !is.na(rpt_read_start_antisense) ~ \"Antisense\",\n",
    "                               is.na(rpt_read_start_sense) & is.na(rpt_read_start_antisense) ~ \"None\")) %>%  \n",
    "  group_by(sva_type, tx_status) %>%\n",
    "  summarise(count = n(), .groups = \"drop\") %>%\n",
    "  complete(sva_type, tx_status, fill = list(count = 0)) %>% \n",
    "  mutate(total = tapply(count, sva_type, sum)[sva_type]) %>%\n",
    "  mutate(percentage = count/total) %>%\n",
    "  mutate(tx_status = factor(tx_status, levels = fac_order)) %>% \n",
    "  ggplot(aes(x = sva_type, y = percentage, fill = tx_status)) +\n",
    "  geom_bar(position = \"dodge\", stat = \"identity\") +\n",
    "  scale_fill_tableau(name = \"Orientation of long reads\\nstarting at the 5' repeat\",\n",
    "                     palette = \"Color Blind\") +\n",
    "  ylab(\"Relative frequency\") +\n",
    "  xlab(\"SVA type\")\n",
    "relative_freq_svas_with_five_prime_rpt"
   ]
  },
  {
   "cell_type": "code",
   "execution_count": null,
   "id": "30b2aea4-88dc-4fe6-b50a-c792297d8e61",
   "metadata": {
    "execution": {
     "iopub.execute_input": "2024-04-18T22:19:20.750553Z",
     "iopub.status.busy": "2024-04-18T22:19:20.749279Z",
     "iopub.status.idle": "2024-04-18T22:19:21.611278Z",
     "shell.execute_reply": "2024-04-18T22:19:21.609700Z"
    },
    "vscode": {
     "languageId": "r"
    }
   },
   "outputs": [],
   "source": [
    "# combining both above into a single plot\n",
    "options(repr.plot.width = 6, repr.plot.height = 5)\n",
    "\n",
    "ggarrange(plotlist = list(absolute_freq_svas_with_five_prime_rpt,\n",
    "                          relative_freq_svas_with_five_prime_rpt), \n",
    "          ncol = 1, nrow = 2,\n",
    "          legend = \"top\",\n",
    "          align = \"v\",\n",
    "          common.legend = T)"
   ]
  },
  {
   "cell_type": "markdown",
   "id": "0350a02f-4650-42b7-89da-6d48e23ba5db",
   "metadata": {
    "tags": []
   },
   "source": [
    "#### Frequency of SVA reads being transcribed from the five prime repeat sense and antisense"
   ]
  },
  {
   "cell_type": "code",
   "execution_count": null,
   "id": "9673f26b-ecd1-47be-b527-a1548cb22a63",
   "metadata": {
    "execution": {
     "iopub.execute_input": "2024-04-18T22:19:21.618571Z",
     "iopub.status.busy": "2024-04-18T22:19:21.617140Z",
     "iopub.status.idle": "2024-04-18T22:19:21.891961Z",
     "shell.execute_reply": "2024-04-18T22:19:21.890312Z"
    },
    "tags": [],
    "vscode": {
     "languageId": "r"
    }
   },
   "outputs": [],
   "source": [
    "options(repr.plot.width = 6, repr.plot.height = 5)\n",
    "fac_order = c(\"rpt_read_start_antisense\", \"rpt_read_start_sense\")\n",
    "\n",
    "sva_att_wide %>% \n",
    "    filter(has_rpt == \"yes\") %>% \n",
    "    group_by(sva_type) %>% \n",
    "    summarise(rpt_read_start_sense = sum(rpt_read_start_sense, na.rm = T),\n",
    "              rpt_read_start_antisense = sum(rpt_read_start_antisense, na.rm = T),\n",
    "              sva_type_n = n()) %>% \n",
    "    pivot_longer(cols = c(\"rpt_read_start_sense\", \"rpt_read_start_antisense\"),\n",
    "                 names_to = \"orientation\",\n",
    "                 values_to = \"reads\") %>% \n",
    "    mutate(orientation = factor(orientation, levels = fac_order)) %>% \n",
    "    ggplot(aes(y = reads, x = sva_type, fill = orientation)) +\n",
    "    geom_col(position = \"dodge\") +\n",
    "    scale_fill_tableau(name = \"Orientation of long reads\\nstarting at the 5' repeat\",\n",
    "                       palette = \"Color Blind\", \n",
    "                       labels = c(\"rpt_read_start_sense\" = \"Sense\",\n",
    "                                  \"rpt_read_start_antisense\" = \"Antisense\")) +\n",
    "    ylab(\"Number of long reads starting at the 5'repeat\") +\n",
    "    xlab(\"SVA type\")"
   ]
  },
  {
   "cell_type": "markdown",
   "id": "f63a8be5-e938-402b-b01b-f2a98d84a736",
   "metadata": {
    "tags": []
   },
   "source": [
    "#### Relative frequency of SVA reads being transcribed from the five prime repeat sense and antisense"
   ]
  },
  {
   "cell_type": "code",
   "execution_count": null,
   "id": "5d88fb5e-1b60-4516-8c1b-e309a6e040f7",
   "metadata": {
    "execution": {
     "iopub.execute_input": "2024-04-18T22:19:21.899154Z",
     "iopub.status.busy": "2024-04-18T22:19:21.897804Z",
     "iopub.status.idle": "2024-04-18T22:19:22.432164Z",
     "shell.execute_reply": "2024-04-18T22:19:22.430409Z"
    },
    "tags": [],
    "vscode": {
     "languageId": "r"
    }
   },
   "outputs": [],
   "source": [
    "options(repr.plot.width = 6, repr.plot.height = 5)\n",
    "fac_order = c(\"rpt_read_start_antisense\", \"rpt_read_start_sense\")\n",
    "\n",
    "sva_att_wide %>% \n",
    "    filter(has_rpt == \"yes\") %>% \n",
    "    group_by(sva_type) %>% \n",
    "    summarise(rpt_read_start_sense = sum(rpt_read_start_sense, na.rm = T),\n",
    "              rpt_read_start_antisense = sum(rpt_read_start_antisense, na.rm = T)) %>% \n",
    "    pivot_longer(cols = c(\"rpt_read_start_sense\", \"rpt_read_start_antisense\"),\n",
    "                 names_to = \"orientation\",\n",
    "                 values_to = \"reads\") %>%\n",
    "    ungroup() %>% \n",
    "    group_by(sva_type) %>% \n",
    "    mutate(reads_pct = reads / sum(reads) * 100) %>% \n",
    "    mutate(orientation = factor(orientation, levels = fac_order)) %>% \n",
    "    ggplot(aes(y = reads_pct, x = sva_type,\n",
    "               fill = orientation, label = reads)) +\n",
    "    geom_col(position = \"fill\") +\n",
    "    geom_label(show.legend = F, position = \"fill\") +\n",
    "    scale_fill_tableau(name = \"Orientation of long reads\\nstarting at the 5' repeat\",\n",
    "                       palette = \"Color Blind\", \n",
    "                       labels = c(\"rpt_read_start_sense\" = \"Sense\",\n",
    "                                  \"rpt_read_start_antisense\" = \"Antisense\")) +\n",
    "    ylab(\"Relative frequency\") +\n",
    "    xlab(\"SVA type\")\n",
    "    "
   ]
  },
  {
   "cell_type": "markdown",
   "id": "7c5f2feb-890e-4fd9-b879-67448a2bb4ae",
   "metadata": {
    "tags": []
   },
   "source": [
    "### Checking presence of 5' repeat in terms of SVA type"
   ]
  },
  {
   "cell_type": "code",
   "execution_count": 49,
   "id": "2d3ed4ac-b24b-41e4-b7f3-0cf08c133dbe",
   "metadata": {
    "execution": {
     "iopub.execute_input": "2024-04-18T22:19:22.439168Z",
     "iopub.status.busy": "2024-04-18T22:19:22.437877Z",
     "iopub.status.idle": "2024-04-18T22:19:22.519814Z",
     "shell.execute_reply": "2024-04-18T22:19:22.518349Z"
    },
    "tags": [],
    "vscode": {
     "languageId": "r"
    }
   },
   "outputs": [
    {
     "data": {
      "text/html": [
       "<dl>\n",
       "\t<dt>$contingency_table</dt>\n",
       "\t\t<dd><table class=\"dataframe\">\n",
       "<caption>A matrix: 3 × 3 of type dbl</caption>\n",
       "<thead>\n",
       "\t<tr><th></th><th scope=col>has_rpt:no</th><th scope=col>has_rpt:background</th><th scope=col>total</th></tr>\n",
       "</thead>\n",
       "<tbody>\n",
       "\t<tr><th scope=row>target_subvec</th><td>137</td><td> 195</td><td> 332</td></tr>\n",
       "\t<tr><th scope=row>background_subvec</th><td>301</td><td>1521</td><td>1822</td></tr>\n",
       "\t<tr><th scope=row>total</th><td>438</td><td>1716</td><td>2154</td></tr>\n",
       "</tbody>\n",
       "</table>\n",
       "</dd>\n",
       "\t<dt>$pval</dt>\n",
       "\t\t<dd>6.74328721130907e-22</dd>\n",
       "</dl>\n"
      ],
      "text/latex": [
       "\\begin{description}\n",
       "\\item[\\$contingency\\_table] A matrix: 3 × 3 of type dbl\n",
       "\\begin{tabular}{r|lll}\n",
       "  & has\\_rpt:no & has\\_rpt:background & total\\\\\n",
       "\\hline\n",
       "\ttarget\\_subvec & 137 &  195 &  332\\\\\n",
       "\tbackground\\_subvec & 301 & 1521 & 1822\\\\\n",
       "\ttotal & 438 & 1716 & 2154\\\\\n",
       "\\end{tabular}\n",
       "\n",
       "\\item[\\$pval] 6.74328721130907e-22\n",
       "\\end{description}\n"
      ],
      "text/markdown": [
       "$contingency_table\n",
       ":   \n",
       "A matrix: 3 × 3 of type dbl\n",
       "\n",
       "| <!--/--> | has_rpt:no | has_rpt:background | total |\n",
       "|---|---|---|---|\n",
       "| target_subvec | 137 |  195 |  332 |\n",
       "| background_subvec | 301 | 1521 | 1822 |\n",
       "| total | 438 | 1716 | 2154 |\n",
       "\n",
       "\n",
       "$pval\n",
       ":   6.74328721130907e-22\n",
       "\n",
       "\n"
      ],
      "text/plain": [
       "$contingency_table\n",
       "                  has_rpt:no has_rpt:background total\n",
       "target_subvec            137                195   332\n",
       "background_subvec        301               1521  1822\n",
       "total                    438               1716  2154\n",
       "\n",
       "$pval\n",
       "[1] 6.743287e-22\n"
      ]
     },
     "metadata": {},
     "output_type": "display_data"
    }
   ],
   "source": [
    "### Checking presence of 5' repeat in terms of SVA type\n",
    "svaType_vs_svaPres_p = enrichAnalysis(df = sva_att_wide,\n",
    "                                      subvec = sva_att_wide %>% filter(sva_type == \"SVA_F\") %>% pull(name),\n",
    "                                      testcol = \"has_rpt\",\n",
    "                                      lev = \"no\",\n",
    "                                      mode = \"enrichment\")\n",
    "\n",
    "svaType_vs_svaPres_p\n",
    "\n",
    "svaType_vs_svaPres_p = svaType_vs_svaPres_p$pval %>%\n",
    "    format(scientific = T, digits = 2)"
   ]
  },
  {
   "cell_type": "code",
   "execution_count": 50,
   "id": "d8a13cc5-ecf2-4baf-bb8a-60c445cfb1c8",
   "metadata": {
    "execution": {
     "iopub.execute_input": "2024-04-18T22:19:22.525938Z",
     "iopub.status.busy": "2024-04-18T22:19:22.524544Z",
     "iopub.status.idle": "2024-04-18T22:19:23.065868Z",
     "shell.execute_reply": "2024-04-18T22:19:23.064171Z"
    },
    "tags": [],
    "vscode": {
     "languageId": "r"
    }
   },
   "outputs": [
    {
     "name": "stderr",
     "output_type": "stream",
     "text": [
      "\u001b[1m\u001b[22m`summarise()` has grouped output by 'sva_type'. You can override using the\n",
      "`.groups` argument.\n"
     ]
    },
    {
     "data": {
      "text/html": [
       "<strong>png:</strong> 2"
      ],
      "text/latex": [
       "\\textbf{png:} 2"
      ],
      "text/markdown": [
       "**png:** 2"
      ],
      "text/plain": [
       "png \n",
       "  2 "
      ]
     },
     "metadata": {},
     "output_type": "display_data"
    },
    {
     "data": {
      "image/png": "[encoded data removed]",
      "text/plain": [
       "plot without title"
      ]
     },
     "metadata": {
      "image/png": {
       "height": 240,
       "width": 360
      }
     },
     "output_type": "display_data"
    }
   ],
   "source": [
    "options(repr.plot.height = 4, repr.plot.width = 6)\n",
    "sva_type__vs__presence_of_5rpt = sva_att_wide %>% \n",
    "  group_by(sva_type, has_rpt) %>% \n",
    "  summarise(count = n()) %>% \n",
    "  ggplot(aes(x = count,\n",
    "             y = sva_type,\n",
    "             fill = has_rpt,\n",
    "             label = count)) +\n",
    "  geom_col(position = \"fill\") +\n",
    "  geom_label(position = \"fill\", show.legend = F) +\n",
    "  # geom_label_repel(aes(label = count),\n",
    "  #                  position = \"fill\",\n",
    "  #                  show.legend = F,\n",
    "  #                  size = 4,\n",
    "  #                  label.padding = 0.125,\n",
    "  #                  label.r = 0.18,\n",
    "  #                  min.segment.length = 0,\n",
    "  #                  segment.colour = \"black\",\n",
    "  #                  color = \"black\") + \n",
    "  xlab(\"Relative frequency\") +\n",
    "  ylab(\"SVA type\") +\n",
    "  labs(caption = paste0(\"Overrepresentation of No level among SVA_Fs; p = \", svaType_vs_svaPres_p)) +\n",
    "  scale_y_discrete(limits = rev) +\n",
    "  scale_fill_tableau(palette = \"Color Blind\",name = \"SVA has a 5' repeat\",\n",
    "                     labels = c(\"yes\" = \"Yes\",\n",
    "                                \"no\" = \"No\"))\n",
    "sva_type__vs__presence_of_5rpt\n",
    "\n",
    "pdf(file = \"sva_type__vs__presence_of_5rpt.pdf\", height = 4, width = 6)\n",
    "  sva_type__vs__presence_of_5rpt\n",
    "dev.off()"
   ]
  },
  {
   "cell_type": "markdown",
   "id": "e0e05b7a-1dc1-45d0-a219-024d40b27b46",
   "metadata": {
    "tags": []
   },
   "source": [
    "### Checking the length of 5' repeats in the genomic context (alternative version)"
   ]
  },
  {
   "cell_type": "code",
   "execution_count": 51,
   "id": "0ed5a65f-8cf7-4b7d-8176-c2ee262317ee",
   "metadata": {
    "execution": {
     "iopub.execute_input": "2024-04-18T22:19:23.074676Z",
     "iopub.status.busy": "2024-04-18T22:19:23.073256Z",
     "iopub.status.idle": "2024-04-18T22:19:23.126261Z",
     "shell.execute_reply": "2024-04-18T22:19:23.124807Z"
    },
    "tags": [],
    "vscode": {
     "languageId": "r"
    }
   },
   "outputs": [
    {
     "data": {
      "text/html": [
       "<dl>\n",
       "\t<dt>$contingency_table</dt>\n",
       "\t\t<dd><table class=\"dataframe\">\n",
       "<caption>A matrix: 3 × 3 of type dbl</caption>\n",
       "<thead>\n",
       "\t<tr><th></th><th scope=col>relative_to_gene:intergenic</th><th scope=col>relative_to_gene:background</th><th scope=col>total</th></tr>\n",
       "</thead>\n",
       "<tbody>\n",
       "\t<tr><th scope=row>target_subvec</th><td> 48</td><td> 49</td><td> 97</td></tr>\n",
       "\t<tr><th scope=row>background_subvec</th><td>167</td><td>271</td><td>438</td></tr>\n",
       "\t<tr><th scope=row>total</th><td>215</td><td>320</td><td>535</td></tr>\n",
       "</tbody>\n",
       "</table>\n",
       "</dd>\n",
       "\t<dt>$pval</dt>\n",
       "\t\t<dd>0.0261976166173451</dd>\n",
       "</dl>\n"
      ],
      "text/latex": [
       "\\begin{description}\n",
       "\\item[\\$contingency\\_table] A matrix: 3 × 3 of type dbl\n",
       "\\begin{tabular}{r|lll}\n",
       "  & relative\\_to\\_gene:intergenic & relative\\_to\\_gene:background & total\\\\\n",
       "\\hline\n",
       "\ttarget\\_subvec &  48 &  49 &  97\\\\\n",
       "\tbackground\\_subvec & 167 & 271 & 438\\\\\n",
       "\ttotal & 215 & 320 & 535\\\\\n",
       "\\end{tabular}\n",
       "\n",
       "\\item[\\$pval] 0.0261976166173451\n",
       "\\end{description}\n"
      ],
      "text/markdown": [
       "$contingency_table\n",
       ":   \n",
       "A matrix: 3 × 3 of type dbl\n",
       "\n",
       "| <!--/--> | relative_to_gene:intergenic | relative_to_gene:background | total |\n",
       "|---|---|---|---|\n",
       "| target_subvec |  48 |  49 |  97 |\n",
       "| background_subvec | 167 | 271 | 438 |\n",
       "| total | 215 | 320 | 535 |\n",
       "\n",
       "\n",
       "$pval\n",
       ":   0.0261976166173451\n",
       "\n",
       "\n"
      ],
      "text/plain": [
       "$contingency_table\n",
       "                  relative_to_gene:intergenic relative_to_gene:background total\n",
       "target_subvec                              48                          49    97\n",
       "background_subvec                         167                         271   438\n",
       "total                                     215                         320   535\n",
       "\n",
       "$pval\n",
       "[1] 0.02619762\n"
      ]
     },
     "metadata": {},
     "output_type": "display_data"
    }
   ],
   "source": [
    "### Checking the length of 5' repeats in the genomic context (alternative version)\n",
    "rptLen_vs_genoCtxt = sva_att_wide %>% \n",
    "  filter(rpt_length >= 120 | is.na(rpt_length)) %>%\n",
    "  mutate(rpt_length_cat = case_when(rpt_length >= 120 ~ \">= 120 bp\",\n",
    "                                   TRUE ~ \"No repeat\"))\n",
    "\n",
    "rptLen_vs_genoCtxt_p = enrichAnalysis(df = rptLen_vs_genoCtxt,\n",
    "               subvec = rptLen_vs_genoCtxt %>% filter(rpt_length_cat == \">= 120 bp\") %>% pull(name),\n",
    "               testcol = \"relative_to_gene\",\n",
    "               lev = \"intergenic\",\n",
    "               mode = \"enrichment\")\n",
    "\n",
    "rptLen_vs_genoCtxt_p\n",
    "\n",
    "rptLen_vs_genoCtxt_p = rptLen_vs_genoCtxt_p$pval %>%\n",
    "    format(scientific = T, digits = 2)"
   ]
  },
  {
   "cell_type": "code",
   "execution_count": 52,
   "id": "c1c979d3-a175-42ac-9cda-db9a43cf9821",
   "metadata": {
    "execution": {
     "iopub.execute_input": "2024-04-18T22:19:23.132474Z",
     "iopub.status.busy": "2024-04-18T22:19:23.131117Z",
     "iopub.status.idle": "2024-04-18T22:19:23.779025Z",
     "shell.execute_reply": "2024-04-18T22:19:23.777385Z"
    },
    "tags": [],
    "vscode": {
     "languageId": "r"
    }
   },
   "outputs": [
    {
     "name": "stderr",
     "output_type": "stream",
     "text": [
      "\u001b[1m\u001b[22m`summarise()` has grouped output by 'rpt_length_cat'. You can override using\n",
      "the `.groups` argument.\n"
     ]
    },
    {
     "data": {
      "text/html": [
       "<strong>png:</strong> 2"
      ],
      "text/latex": [
       "\\textbf{png:} 2"
      ],
      "text/markdown": [
       "**png:** 2"
      ],
      "text/plain": [
       "png \n",
       "  2 "
      ]
     },
     "metadata": {},
     "output_type": "display_data"
    },
    {
     "data": {
      "image/png": "[encoded data removed]",
      "text/plain": [
       "plot without title"
      ]
     },
     "metadata": {
      "image/png": {
       "height": 150,
       "width": 315
      }
     },
     "output_type": "display_data"
    }
   ],
   "source": [
    "options(repr.plot.height = 2.5, repr.plot.width = 5.25)\n",
    "genomic_context__vs__5rpt_length = rptLen_vs_genoCtxt %>% \n",
    "  group_by(rpt_length_cat, relative_to_gene) %>% \n",
    "  summarise(count = n()) %>% \n",
    "  ggplot(aes(x = count,\n",
    "             y = factor(rpt_length_cat, levels = c(\"No repeat\", \">= 120 bp\")),\n",
    "             fill = relative_to_gene,\n",
    "             label = count)) +\n",
    "  geom_col(position = \"fill\") +\n",
    "  geom_label(position = \"fill\", show.legend = F) +\n",
    "  # geom_label_repel(aes(label = count),\n",
    "  #                  position = \"fill\",\n",
    "  #                  show.legend = F,\n",
    "  #                  size = 4,\n",
    "  #                  label.padding = 0.125,\n",
    "  #                  label.r = 0.18,\n",
    "  #                  min.segment.length = 0,\n",
    "  #                  segment.colour = \"black\",\n",
    "  #                  color = \"black\") + \n",
    "  xlab(\"Relative frequency\") +\n",
    "  ylab(\"SVA 5' repeat length\") +\n",
    "  labs(caption = paste0(\"Overrepresentation of Intergenic level among long 5' repeats; p = \", rptLen_vs_genoCtxt_p)) +\n",
    "  scale_fill_tableau(palette = \"Color Blind\",name = \"Genomic context\",\n",
    "                     labels = c(\"within_gene\" = \"Within gene\",\n",
    "                                \"intergenic\" = \"Intergenic\"))\n",
    "genomic_context__vs__5rpt_length\n",
    "\n",
    "pdf(file = \"genomic_context__vs__5rpt_length.pdf\", height = 2.5, width = 5.25)\n",
    "  genomic_context__vs__5rpt_length\n",
    "dev.off()"
   ]
  },
  {
   "cell_type": "markdown",
   "id": "302712dc-fbec-4700-a47b-c4692b006ace",
   "metadata": {
    "tags": []
   },
   "source": [
    "### Checking genomic context in terms of transcription (deprecated)"
   ]
  },
  {
   "cell_type": "code",
   "execution_count": 53,
   "id": "f5371e40-7054-4390-9d20-ddf1b442f7cc",
   "metadata": {
    "execution": {
     "iopub.execute_input": "2024-04-18T22:19:23.786401Z",
     "iopub.status.busy": "2024-04-18T22:19:23.785033Z",
     "iopub.status.idle": "2024-04-18T22:19:23.796561Z",
     "shell.execute_reply": "2024-04-18T22:19:23.794893Z"
    },
    "tags": [],
    "vscode": {
     "languageId": "r"
    }
   },
   "outputs": [],
   "source": [
    "### Checking genomic context in terms of transcription\n",
    "# genoCtxt_vs_tx_p = enrichAnalysis(df = sva_att_wide,\n",
    "#                subvec = sva_att_wide %>% filter(relative_to_gene == \"within_gene\") %>% pull(name),\n",
    "#                testcol = \"ovlp_transcript\",\n",
    "#                lev = \"yes\",\n",
    "#                mode = \"enrichment\")\n",
    "\n",
    "# genoCtxt_vs_tx_p\n",
    "\n",
    "# genoCtxt_vs_tx_p = genoCtxt_vs_tx_p$pval %>%\n",
    "#     format(scientific = T, digits = 2)"
   ]
  },
  {
   "cell_type": "code",
   "execution_count": 54,
   "id": "5ffa34b4-d585-489e-be2e-8d80f8775f5e",
   "metadata": {
    "execution": {
     "iopub.execute_input": "2024-04-18T22:19:23.803073Z",
     "iopub.status.busy": "2024-04-18T22:19:23.801817Z",
     "iopub.status.idle": "2024-04-18T22:19:23.812263Z",
     "shell.execute_reply": "2024-04-18T22:19:23.810772Z"
    },
    "tags": [],
    "vscode": {
     "languageId": "r"
    }
   },
   "outputs": [],
   "source": [
    "# options(repr.plot.height = 2.5, repr.plot.width = 5.25)\n",
    "# sva_att_wide %>% \n",
    "#   group_by(relative_to_gene, ovlp_transcript) %>% \n",
    "#   summarise(count = n()) %>% \n",
    "#   ggplot(aes(x = count,\n",
    "#              y = relative_to_gene,\n",
    "#              fill = ovlp_transcript,\n",
    "#              label = count)) +\n",
    "#   geom_col(position = \"fill\") +\n",
    "#   geom_label(position = \"fill\", show.legend = F) +\n",
    "#   # geom_label_repel(aes(label = count),\n",
    "#   #                  position = \"fill\",\n",
    "#   #                  show.legend = F,\n",
    "#   #                  size = 4,\n",
    "#   #                  label.padding = 0.125,\n",
    "#   #                  label.r = 0.18,\n",
    "#   #                  min.segment.length = 0,\n",
    "#   #                  segment.colour = \"black\",\n",
    "#   #                  color = \"black\") + \n",
    "#   xlab(\"Relative frequency\") +\n",
    "#   ylab(\"Genomic context\") +\n",
    "#   labs(caption = paste0(\"Overrepresentation of Yes level among SVAs Within genes; p = \", genoCtxt_vs_tx_p)) +\n",
    "#   scale_fill_tableau(palette = \"Color Blind\",name = \"Proximal long read 5' prime end\",,\n",
    "#                      labels = c(\"yes\" = \"Yes\",\n",
    "#                                 \"no\" = \"No\")) +\n",
    "#   scale_y_discrete(name = \"Genomic context\",\n",
    "#                    labels = c(\"within_gene\" = \"Within gene\",\n",
    "#                               \"intergenic\" = \"Intergenic\"))"
   ]
  },
  {
   "cell_type": "markdown",
   "id": "58ecfde1-6b89-47fa-8011-63e2933c9ad9",
   "metadata": {
    "tags": []
   },
   "source": [
    "### Checking the length of 5' repeats in terms of transcription (deprecated)"
   ]
  },
  {
   "cell_type": "code",
   "execution_count": 55,
   "id": "78d858f5-2580-456c-819c-c6b2d834cd1b",
   "metadata": {
    "execution": {
     "iopub.execute_input": "2024-04-18T22:19:23.818865Z",
     "iopub.status.busy": "2024-04-18T22:19:23.817158Z",
     "iopub.status.idle": "2024-04-18T22:19:23.828520Z",
     "shell.execute_reply": "2024-04-18T22:19:23.826895Z"
    },
    "tags": [],
    "vscode": {
     "languageId": "r"
    }
   },
   "outputs": [],
   "source": [
    "# ### Checking the length of 5' repeats in terms of transcription\n",
    "# rptLen_vs_tx = sva_att_wide %>% \n",
    "#   filter(rpt_length >= 120 | is.na(rpt_length)) %>%\n",
    "#   mutate(rpt_length_cat = case_when(rpt_length >= 120 ~ \">= 120 bp\",\n",
    "#                                    TRUE ~ \"No repeat\"))\n",
    "\n",
    "# rptLen_vs_tx_p = enrichAnalysis(df = rptLen_vs_genoCtxt,\n",
    "#                subvec = rptLen_vs_genoCtxt %>% filter(rpt_length_cat == \">= 120 bp\") %>% pull(name),\n",
    "#                testcol = \"ovlp_transcript\",\n",
    "#                lev = \"no\",\n",
    "#                mode = \"enrichment\")\n",
    "\n",
    "# rptLen_vs_tx_p\n",
    "\n",
    "# rptLen_vs_tx_p = rptLen_vs_tx_p$pval %>%\n",
    "#     format(scientific = T, digits = 2)"
   ]
  },
  {
   "cell_type": "code",
   "execution_count": 56,
   "id": "0cf7f5ab-a31a-4792-b215-89bfc359e626",
   "metadata": {
    "execution": {
     "iopub.execute_input": "2024-04-18T22:19:23.835059Z",
     "iopub.status.busy": "2024-04-18T22:19:23.833341Z",
     "iopub.status.idle": "2024-04-18T22:19:23.844522Z",
     "shell.execute_reply": "2024-04-18T22:19:23.842812Z"
    },
    "tags": [],
    "vscode": {
     "languageId": "r"
    }
   },
   "outputs": [],
   "source": [
    "# options(repr.plot.height = 2.5, repr.plot.width = 5.25)\n",
    "# rptLen_vs_tx %>% \n",
    "#   group_by(rpt_length_cat, ovlp_transcript) %>% \n",
    "#   summarise(count = n()) %>% \n",
    "#   ggplot(aes(x = count,\n",
    "#              y = factor(rpt_length_cat, levels = c(\"No repeat\",\n",
    "#                                                     \">= 120 bp\")),\n",
    "#              fill = ovlp_transcript,\n",
    "#              label = count)) +\n",
    "#   geom_col(position = \"fill\") +\n",
    "#   geom_label(position = \"fill\", show.legend = F) +\n",
    "#   # geom_label_repel(aes(label = count),\n",
    "#   #                  position = \"fill\",\n",
    "#   #                  show.legend = F,\n",
    "#   #                  size = 4,\n",
    "#   #                  label.padding = 0.125,\n",
    "#   #                  label.r = 0.18,\n",
    "#   #                  min.segment.length = 0,\n",
    "#   #                  segment.colour = \"black\",\n",
    "#   #                  color = \"black\") + \n",
    "#   xlab(\"Relative frequency\") +\n",
    "#   ylab(\"SVA 5' repeat length\") +\n",
    "#   labs(caption = paste0(\"Overrepresentation of No level among long 5' repeats; p = \", rptLen_vs_tx_p)) +\n",
    "#   scale_fill_tableau(palette = \"Color Blind\",name = \"Proximal long read 5' prime end\",\n",
    "#                      labels = c(\"yes\" = \"Yes\",\n",
    "#                                 \"no\" = \"No\"))"
   ]
  },
  {
   "cell_type": "markdown",
   "id": "9dcd40df-4756-47cf-87f5-1f79c639dfbe",
   "metadata": {
    "tags": []
   },
   "source": [
    "### Checking the length of 5' repeats within genes (sense or antisense)"
   ]
  },
  {
   "cell_type": "code",
   "execution_count": null,
   "id": "b3d70fa9-e56e-4b93-8569-0c2339bb1142",
   "metadata": {
    "execution": {
     "iopub.execute_input": "2024-04-18T22:19:23.850819Z",
     "iopub.status.busy": "2024-04-18T22:19:23.849361Z",
     "iopub.status.idle": "2024-04-18T22:19:24.424127Z",
     "shell.execute_reply": "2024-04-18T22:19:24.422243Z"
    },
    "tags": [],
    "vscode": {
     "languageId": "r"
    }
   },
   "outputs": [],
   "source": [
    "### Checking the length of 5' repeats within genes (sense or antisense)\n",
    "options(repr.plot.height = 3, repr.plot.width = 6)\n",
    "sva_att_wide %>% \n",
    "  filter(!is.na(within_gene_simple)) %>% \n",
    "  group_by(rpt_length_cat, within_gene_simple) %>% \n",
    "  summarise(count = n()) %>% \n",
    "  ggplot(aes(x = count,\n",
    "             y = factor(rpt_length_cat, levels = c(\"no hex\",\n",
    "                                                    \"< 30 bp\",\n",
    "                                                    \"30:59 bp\",\n",
    "                                                    \"60:89 bp\",\n",
    "                                                    \"90:119 bp\",\n",
    "                                                    \"120:149 bp\",\n",
    "                                                    \">= 150 bp\")),\n",
    "             fill = within_gene_simple,\n",
    "             label = count)) +\n",
    "  geom_col(position = \"fill\") +\n",
    "  geom_label(position = \"fill\", show.legend = F) +  \n",
    "  # geom_label_repel(aes(label = count),\n",
    "  #                  position = \"fill\",\n",
    "  #                  show.legend = F,\n",
    "  #                  size = 4,\n",
    "  #                  label.padding = 0.125,\n",
    "  #                  label.r = 0.18,\n",
    "  #                  min.segment.length = 0,\n",
    "  #                  segment.colour = \"black\",\n",
    "  #                  color = \"black\") + \n",
    "  xlab(\"Relative frequency\") +\n",
    "  ylab(\"SVA 5' repeat length\") +\n",
    "  scale_fill_tableau(palette = \"Color Blind\",name = \"Within gene context\",,\n",
    "                     labels = c(\"sense\" = \"Sense\",\n",
    "                                \"antisense\" = \"Antisense\",\n",
    "                                \"sense_and_antisense\" = \"Sense and Antisense\"))"
   ]
  },
  {
   "cell_type": "markdown",
   "id": "6a3c76d3-5b72-4029-999e-3732829082fa",
   "metadata": {
    "tags": []
   },
   "source": [
    "### Checking the length of 5' repeats within genes (exon or intron)"
   ]
  },
  {
   "cell_type": "code",
   "execution_count": null,
   "id": "33844387-0963-4d1c-a438-5f73a369266e",
   "metadata": {
    "execution": {
     "iopub.execute_input": "2024-04-18T22:19:24.432056Z",
     "iopub.status.busy": "2024-04-18T22:19:24.430318Z",
     "iopub.status.idle": "2024-04-18T22:19:25.251238Z",
     "shell.execute_reply": "2024-04-18T22:19:25.249519Z"
    },
    "tags": [],
    "vscode": {
     "languageId": "r"
    }
   },
   "outputs": [],
   "source": [
    "### Checking the length of 5' repeats within genes (exon or intron)\n",
    "options(repr.plot.height = 3, repr.plot.width = 6)\n",
    "sva_att_wide %>% \n",
    "  filter(!is.na(within_gene_complex)) %>% \n",
    "  group_by(rpt_length_cat, within_gene_complex) %>% \n",
    "  summarise(count = n()) %>% \n",
    "  ggplot(aes(x = count,\n",
    "             y = factor(rpt_length_cat, levels = c(\"no hex\",\n",
    "                                                    \"< 30 bp\",\n",
    "                                                    \"30:59 bp\",\n",
    "                                                    \"60:89 bp\",\n",
    "                                                    \"90:119 bp\",\n",
    "                                                    \"120:149 bp\",\n",
    "                                                    \">= 150 bp\")),\n",
    "             fill = within_gene_complex,\n",
    "             label = count)) +\n",
    "  geom_col(position = \"fill\") +\n",
    "  geom_label_repel(aes(label = count),\n",
    "                   position = \"fill\",\n",
    "                   show.legend = F,\n",
    "                   size = 4,\n",
    "                   label.padding = 0.125,\n",
    "                   label.r = 0.18,\n",
    "                   min.segment.length = 0,\n",
    "                   segment.colour = \"black\",\n",
    "                   color = \"black\") + \n",
    "  xlab(\"Relative frequency\") +\n",
    "  ylab(\"SVA 5' repeat length\") +\n",
    "  scale_fill_tableau(palette = \"Color Blind\",name = \"Within gene context\",,\n",
    "                     labels = c(\"exon\" = \"Exon\",\n",
    "                                \"intron\" = \"Intron\",\n",
    "                                \"utr\" = \"UTR\"))"
   ]
  },
  {
   "cell_type": "markdown",
   "id": "5512ccb8-1bbc-4101-b15a-855fbc892500",
   "metadata": {
    "tags": []
   },
   "source": [
    "### Checking within gene context (sense and antisense) in terms of transcription (deprecated)"
   ]
  },
  {
   "cell_type": "code",
   "execution_count": 59,
   "id": "3459c9cc-70ac-4687-b257-b21a0232d082",
   "metadata": {
    "execution": {
     "iopub.execute_input": "2024-04-18T22:19:25.258950Z",
     "iopub.status.busy": "2024-04-18T22:19:25.257500Z",
     "iopub.status.idle": "2024-04-18T22:19:25.268977Z",
     "shell.execute_reply": "2024-04-18T22:19:25.267415Z"
    },
    "tags": [],
    "vscode": {
     "languageId": "r"
    }
   },
   "outputs": [],
   "source": [
    "# ### Checking within gene context (sense and antisense) in terms of transcription\n",
    "# options(repr.plot.height = 3, repr.plot.width = 6)\n",
    "# sva_att_wide %>% \n",
    "#   filter(!is.na(within_gene_simple)) %>% \n",
    "#   group_by(within_gene_simple, ovlp_transcript) %>% \n",
    "#   summarise(count = n()) %>% \n",
    "#   ggplot(aes(x = count,\n",
    "#              y = within_gene_simple,\n",
    "#              fill = ovlp_transcript,\n",
    "#              label = count)) +\n",
    "#   geom_col(position = \"fill\") +\n",
    "#   geom_label(position = \"fill\", show.legend = F) + \n",
    "#   # geom_label_repel(aes(label = count),\n",
    "#   #                  position = \"fill\",\n",
    "#   #                  show.legend = F,\n",
    "#   #                  size = 4,\n",
    "#   #                  label.padding = 0.125,\n",
    "#   #                  label.r = 0.18,\n",
    "#   #                  min.segment.length = 0,\n",
    "#   #                  segment.colour = \"black\",\n",
    "#   #                  color = \"black\") + \n",
    "#   xlab(\"Relative frequency\") +\n",
    "#   ylab(\"Genomic context\") +\n",
    "#   scale_fill_tableau(palette = \"Color Blind\",name = \"Proximal long read 5' prime end\",,\n",
    "#                      labels = c(\"yes\" = \"Yes\",\n",
    "#                                 \"no\" = \"No\")) +\n",
    "#   scale_y_discrete(name = \"Gene context\",\n",
    "#                    labels = c(\"sense\" = \"Sense\",\n",
    "#                               \"antisense\" = \"Antisense\",\n",
    "#                               \"sense_and_antisense\" = \"Sense and Antisense\"))"
   ]
  },
  {
   "cell_type": "markdown",
   "id": "abce7d77-e28d-48f6-b5af-97c2feaf29bd",
   "metadata": {
    "tags": []
   },
   "source": [
    "### Checking within gene context (exon and intron) in terms of transcription (deprecated)"
   ]
  },
  {
   "cell_type": "code",
   "execution_count": 60,
   "id": "ce1b1293-e65d-4093-89c7-9ac8fb1b9fff",
   "metadata": {
    "execution": {
     "iopub.execute_input": "2024-04-18T22:19:25.275845Z",
     "iopub.status.busy": "2024-04-18T22:19:25.274250Z",
     "iopub.status.idle": "2024-04-18T22:19:25.285292Z",
     "shell.execute_reply": "2024-04-18T22:19:25.283773Z"
    },
    "tags": [],
    "vscode": {
     "languageId": "r"
    }
   },
   "outputs": [],
   "source": [
    "# ### Checking within gene context (exon and intron) in terms of transcription\n",
    "# options(repr.plot.height = 3, repr.plot.width = 6)\n",
    "# sva_att_wide %>% \n",
    "#   filter(!is.na(within_gene_complex)) %>% \n",
    "#   group_by(within_gene_complex, ovlp_transcript) %>% \n",
    "#   summarise(count = n()) %>% \n",
    "#   ggplot(aes(x = count,\n",
    "#              y = within_gene_complex,\n",
    "#              fill = ovlp_transcript,\n",
    "#              label = count)) +\n",
    "#   geom_col(position = \"fill\") +\n",
    "#   geom_label(position = \"fill\", show.legend = F) + \n",
    "#   # geom_label_repel(aes(label = count),\n",
    "#   #                  position = \"fill\",\n",
    "#   #                  show.legend = F,\n",
    "#   #                  size = 4,\n",
    "#   #                  label.padding = 0.125,\n",
    "#   #                  label.r = 0.18,\n",
    "#   #                  min.segment.length = 0,\n",
    "#   #                  segment.colour = \"black\",\n",
    "#   #                  color = \"black\") + \n",
    "#   xlab(\"Relative frequency\") +\n",
    "#   ylab(\"Genomic context\") +\n",
    "#   scale_fill_tableau(palette = \"Color Blind\",name = \"Proximal long read 5' prime end\",,\n",
    "#                      labels = c(\"yes\" = \"Yes\",\n",
    "#                                 \"no\" = \"No\")) +\n",
    "#   scale_y_discrete(name = \"Gene context\",\n",
    "#                    labels = c(\"intron\" = \"Intron\",\n",
    "#                               \"exon\" = \"Exon\",\n",
    "#                               \"utr\" = \"UTR\"))"
   ]
  },
  {
   "cell_type": "markdown",
   "id": "8919fc38-8c75-452e-a752-5b801059d492",
   "metadata": {
    "tags": []
   },
   "source": [
    "### Checking SVA type in terms of transcription (deprecated)"
   ]
  },
  {
   "cell_type": "code",
   "execution_count": 61,
   "id": "28366d54-3507-4a9b-9dc8-8bd7b76aa8b2",
   "metadata": {
    "execution": {
     "iopub.execute_input": "2024-04-18T22:19:25.291832Z",
     "iopub.status.busy": "2024-04-18T22:19:25.290438Z",
     "iopub.status.idle": "2024-04-18T22:19:25.300606Z",
     "shell.execute_reply": "2024-04-18T22:19:25.299263Z"
    },
    "tags": [],
    "vscode": {
     "languageId": "r"
    }
   },
   "outputs": [],
   "source": [
    "# ### Checking SVA type in terms of transcription\n",
    "# options(repr.plot.height = 3, repr.plot.width = 6)\n",
    "# sva_att_wide %>% \n",
    "#   group_by(sva_type, ovlp_transcript) %>% \n",
    "#   summarise(count = n()) %>% \n",
    "#   ggplot(aes(x = count,\n",
    "#              y = sva_type,\n",
    "#              fill = ovlp_transcript,\n",
    "#              label = count)) +\n",
    "#   geom_col(position = \"fill\") +\n",
    "#   geom_label(position = \"fill\", show.legend = F) + \n",
    "#   # geom_label_repel(aes(label = count),\n",
    "#   #                  position = \"fill\",\n",
    "#   #                  show.legend = F,\n",
    "#   #                  size = 4,\n",
    "#   #                  label.padding = 0.125,\n",
    "#   #                  label.r = 0.18,\n",
    "#   #                  min.segment.length = 0,\n",
    "#   #                  segment.colour = \"black\",\n",
    "#   #                  color = \"black\") + \n",
    "#   xlab(\"Relative frequency\") +\n",
    "#   ylab(\"SVA type\") +\n",
    "#   scale_y_discrete(limits = rev) +\n",
    "#   scale_fill_tableau(palette = \"Color Blind\",name = \"Proximal long read 5' prime end\",,\n",
    "#                      labels = c(\"yes\" = \"Yes\",\n",
    "#                                 \"no\" = \"No\"))"
   ]
  },
  {
   "cell_type": "markdown",
   "id": "53a50c98-5180-4501-bfff-410718421fa7",
   "metadata": {
    "tags": []
   },
   "source": [
    "### Checking the length of 5' repeats in terms of reads starting (sense) at the 5' repeat (quantitative)"
   ]
  },
  {
   "cell_type": "code",
   "execution_count": null,
   "id": "281c2841-8902-4131-95b2-d506f439cbd8",
   "metadata": {
    "execution": {
     "iopub.execute_input": "2024-04-18T22:19:25.306886Z",
     "iopub.status.busy": "2024-04-18T22:19:25.305645Z",
     "iopub.status.idle": "2024-04-18T22:19:26.522103Z",
     "shell.execute_reply": "2024-04-18T22:19:26.520453Z"
    },
    "tags": [],
    "vscode": {
     "languageId": "r"
    }
   },
   "outputs": [],
   "source": [
    "options(repr.plot.height = 6, repr.plot.width = 8)\n",
    "sva_att_wide %>% \n",
    "    filter(!is.na(rpt_length)) %>% \n",
    "    filter(!is.na(rpt_read_start_sense)) %>% \n",
    "    ggplot(aes(x = rpt_length,\n",
    "               y = rpt_read_start_sense,\n",
    "               color = sva_type)) + \n",
    "    geom_point() +\n",
    "    # geom_smooth(inherit.aes = F,\n",
    "    #         aes(x = rpt_length,\n",
    "    #             y = rpt_read_start_sense),\n",
    "    #         method = \"loess\") +\n",
    "    facet_wrap(~ sva_type, scale = \"free\") +\n",
    "    scale_color_tableau(palette = \"Color Blind\")\n",
    "sva_att_wide %>% \n",
    "    filter(!is.na(rpt_length)) %>% \n",
    "    filter(!is.na(rpt_read_start_sense)) %>% \n",
    "    ggplot(aes(x = rpt_length,\n",
    "               y = rpt_read_start_sense,\n",
    "               color = sva_type)) + \n",
    "    geom_point() +\n",
    "    # geom_smooth(inherit.aes = F,\n",
    "    #         aes(x = rpt_length,\n",
    "    #             y = rpt_read_start_sense),\n",
    "    #         method = \"loess\") +\n",
    "    # facet_wrap(~ sva_type, scale = \"free\") +\n",
    "    scale_color_tableau(palette = \"Color Blind\")"
   ]
  },
  {
   "cell_type": "markdown",
   "id": "8dc762b7-62c9-4afe-b136-fadffe792c71",
   "metadata": {
    "tags": []
   },
   "source": [
    "### Checking the length of 5' repeats in terms of reads starting (antisense) at the 5' repeat (quantitative)"
   ]
  },
  {
   "cell_type": "code",
   "execution_count": null,
   "id": "35839b3b-db7a-4a45-a19a-7ec6ee3f1789",
   "metadata": {
    "execution": {
     "iopub.execute_input": "2024-04-18T22:19:26.529148Z",
     "iopub.status.busy": "2024-04-18T22:19:26.527906Z",
     "iopub.status.idle": "2024-04-18T22:19:27.934885Z",
     "shell.execute_reply": "2024-04-18T22:19:27.933256Z"
    },
    "tags": [],
    "vscode": {
     "languageId": "r"
    }
   },
   "outputs": [],
   "source": [
    "options(repr.plot.height = 6, repr.plot.width = 8)\n",
    "sva_att_wide %>% \n",
    "    filter(!is.na(rpt_length)) %>%\n",
    "    filter(!is.na(rpt_read_start_antisense)) %>% \n",
    "    ggplot(aes(x = rpt_length,\n",
    "               y = rpt_read_start_antisense,\n",
    "               color = sva_type)) + \n",
    "    geom_point() +\n",
    "    # geom_smooth(inherit.aes = F,\n",
    "    #             aes(x = rpt_length,\n",
    "    #                 y = rpt_read_start_antisense),\n",
    "    #             method = \"loess\") +\n",
    "    facet_wrap(~ sva_type, scale = \"free\") +\n",
    "    scale_color_tableau(palette = \"Color Blind\")\n",
    "\n",
    "sva_att_wide %>% \n",
    "    filter(!is.na(rpt_length)) %>%\n",
    "    filter(!is.na(rpt_read_start_antisense)) %>% \n",
    "    ggplot(aes(x = rpt_length,\n",
    "               y = rpt_read_start_antisense,\n",
    "               color = sva_type)) + \n",
    "    geom_point() +\n",
    "    # geom_smooth(inherit.aes = F,\n",
    "    #             aes(x = rpt_length,\n",
    "    #                 y = rpt_read_start_antisense),\n",
    "    #             method = \"loess\") +\n",
    "    # facet_wrap(~ sva_type, scale = \"free\") +\n",
    "    scale_color_tableau(palette = \"Color Blind\")"
   ]
  },
  {
   "cell_type": "markdown",
   "id": "1377afd7-b0a5-47a6-9563-aefc16409de8",
   "metadata": {
    "tags": []
   },
   "source": [
    "### Checking the length of 5' repeats in terms of reads starting (sense) at the 5' repeat (qualitative)"
   ]
  },
  {
   "cell_type": "code",
   "execution_count": null,
   "id": "cf08b492-9476-4f5e-9648-be42a4ddd22c",
   "metadata": {
    "execution": {
     "iopub.execute_input": "2024-04-18T22:19:27.942144Z",
     "iopub.status.busy": "2024-04-18T22:19:27.940666Z",
     "iopub.status.idle": "2024-04-18T22:19:28.291979Z",
     "shell.execute_reply": "2024-04-18T22:19:28.290310Z"
    },
    "tags": [],
    "vscode": {
     "languageId": "r"
    }
   },
   "outputs": [],
   "source": [
    "options(repr.plot.height = 4, repr.plot.width = 6.25)\n",
    "sva_att_wide %>% \n",
    "  filter(rpt_length_cat != \"no hex\") %>% \n",
    "  group_by(rpt_length_cat, rpt_read_start_qual_sense) %>% \n",
    "  summarise(count = n()) %>% \n",
    "  ggplot(aes(x = count,\n",
    "             y = factor(rpt_length_cat, levels = c(\"no hex\",\n",
    "                                                    \"< 30 bp\",\n",
    "                                                    \"30:59 bp\",\n",
    "                                                    \"60:89 bp\",\n",
    "                                                    \"90:119 bp\",\n",
    "                                                    \"120:149 bp\",\n",
    "                                                    \">= 150 bp\")),\n",
    "             fill = rpt_read_start_qual_sense,\n",
    "             label = count)) +\n",
    "  geom_col(position = \"fill\") +\n",
    "  geom_label(position = \"fill\", show.legend = F) +  \n",
    "  # geom_label_repel(aes(label = count),\n",
    "  #                  position = \"fill\",\n",
    "  #                  show.legend = F,\n",
    "  #                  size = 4,\n",
    "  #                  label.padding = 0.125,\n",
    "  #                  label.r = 0.18,\n",
    "  #                  min.segment.length = 0,\n",
    "  #                  segment.colour = \"black\",\n",
    "  #                  color = \"black\") + \n",
    "  xlab(\"Relative frequency\") +\n",
    "  ylab(\"SVA 5' repeat length\") +\n",
    "  scale_fill_tableau(palette = \"Color Blind\",name = \"Sense long read starting at the 5' repeat\",\n",
    "                     labels = c(\"yes\" = \"Yes\",\n",
    "                                \"no\" = \"No\"))"
   ]
  },
  {
   "cell_type": "code",
   "execution_count": 65,
   "id": "a2fd93bf-40ef-445a-aa5f-2ca11bf42bcc",
   "metadata": {
    "execution": {
     "iopub.execute_input": "2024-04-18T22:19:28.299402Z",
     "iopub.status.busy": "2024-04-18T22:19:28.297926Z",
     "iopub.status.idle": "2024-04-18T22:19:28.346967Z",
     "shell.execute_reply": "2024-04-18T22:19:28.345411Z"
    },
    "tags": [],
    "vscode": {
     "languageId": "r"
    }
   },
   "outputs": [
    {
     "data": {
      "text/html": [
       "<dl>\n",
       "\t<dt>$contingency_table</dt>\n",
       "\t\t<dd><table class=\"dataframe\">\n",
       "<caption>A matrix: 3 × 3 of type dbl</caption>\n",
       "<thead>\n",
       "\t<tr><th></th><th scope=col>rpt_read_start_qual_sense:yes</th><th scope=col>rpt_read_start_qual_sense:background</th><th scope=col>total</th></tr>\n",
       "</thead>\n",
       "<tbody>\n",
       "\t<tr><th scope=row>target_subvec</th><td>3</td><td>  94</td><td>  97</td></tr>\n",
       "\t<tr><th scope=row>background_subvec</th><td>5</td><td> 953</td><td> 958</td></tr>\n",
       "\t<tr><th scope=row>total</th><td>8</td><td>1047</td><td>1055</td></tr>\n",
       "</tbody>\n",
       "</table>\n",
       "</dd>\n",
       "\t<dt>$pval</dt>\n",
       "\t\t<dd>0.0299982430291212</dd>\n",
       "</dl>\n"
      ],
      "text/latex": [
       "\\begin{description}\n",
       "\\item[\\$contingency\\_table] A matrix: 3 × 3 of type dbl\n",
       "\\begin{tabular}{r|lll}\n",
       "  & rpt\\_read\\_start\\_qual\\_sense:yes & rpt\\_read\\_start\\_qual\\_sense:background & total\\\\\n",
       "\\hline\n",
       "\ttarget\\_subvec & 3 &   94 &   97\\\\\n",
       "\tbackground\\_subvec & 5 &  953 &  958\\\\\n",
       "\ttotal & 8 & 1047 & 1055\\\\\n",
       "\\end{tabular}\n",
       "\n",
       "\\item[\\$pval] 0.0299982430291212\n",
       "\\end{description}\n"
      ],
      "text/markdown": [
       "$contingency_table\n",
       ":   \n",
       "A matrix: 3 × 3 of type dbl\n",
       "\n",
       "| <!--/--> | rpt_read_start_qual_sense:yes | rpt_read_start_qual_sense:background | total |\n",
       "|---|---|---|---|\n",
       "| target_subvec | 3 |   94 |   97 |\n",
       "| background_subvec | 5 |  953 |  958 |\n",
       "| total | 8 | 1047 | 1055 |\n",
       "\n",
       "\n",
       "$pval\n",
       ":   0.0299982430291212\n",
       "\n",
       "\n"
      ],
      "text/plain": [
       "$contingency_table\n",
       "                  rpt_read_start_qual_sense:yes\n",
       "target_subvec                                 3\n",
       "background_subvec                             5\n",
       "total                                         8\n",
       "                  rpt_read_start_qual_sense:background total\n",
       "target_subvec                                       94    97\n",
       "background_subvec                                  953   958\n",
       "total                                             1047  1055\n",
       "\n",
       "$pval\n",
       "[1] 0.02999824\n"
      ]
     },
     "metadata": {},
     "output_type": "display_data"
    }
   ],
   "source": [
    "### trying different cats\n",
    "rptLen_vs_tx = sva_att_wide %>% \n",
    "  filter(rpt_length >= 120 | rpt_length < 60) %>%\n",
    "  mutate(rpt_length_cat = case_when(rpt_length >= 120 ~ \">= 120 bp\",\n",
    "                                     TRUE ~ \"< 60 bp\"))\n",
    "\n",
    "rptLen_vs_tx_p = enrichAnalysis(df = rptLen_vs_tx,\n",
    "               subvec = rptLen_vs_tx %>% filter(rpt_length_cat == \">= 120 bp\") %>% pull(name),\n",
    "               testcol = \"rpt_read_start_qual_sense\",\n",
    "               lev = \"yes\",\n",
    "               mode = \"enrichment\")\n",
    "\n",
    "rptLen_vs_tx_p\n",
    "\n",
    "rptLen_vs_tx_p = rptLen_vs_tx_p$pval %>%\n",
    "    format(scientific = T, digits = 2)"
   ]
  },
  {
   "cell_type": "code",
   "execution_count": null,
   "id": "14f22c6c-82cf-4082-ab77-01db9e6f677b",
   "metadata": {
    "execution": {
     "iopub.execute_input": "2024-04-18T22:19:28.353182Z",
     "iopub.status.busy": "2024-04-18T22:19:28.351815Z",
     "iopub.status.idle": "2024-04-18T22:19:28.833877Z",
     "shell.execute_reply": "2024-04-18T22:19:28.832211Z"
    },
    "tags": [],
    "vscode": {
     "languageId": "r"
    }
   },
   "outputs": [],
   "source": [
    "options(repr.plot.height = 2.5, repr.plot.width = 6.25)\n",
    "rptLen_vs_tx %>% \n",
    "  group_by(rpt_length_cat, rpt_read_start_qual_sense) %>% \n",
    "  summarise(count = n()) %>% \n",
    "  ggplot(aes(x = count,\n",
    "             y = factor(rpt_length_cat, levels = c(\"< 60 bp\", \">= 120 bp\")),\n",
    "             fill = rpt_read_start_qual_sense,\n",
    "             label = count)) +\n",
    "  geom_col(position = \"fill\") +\n",
    "  geom_label(position = \"fill\", show.legend = F) +\n",
    "  # geom_label_repel(aes(label = count),\n",
    "  #                  position = \"fill\",\n",
    "  #                  show.legend = F,\n",
    "  #                  size = 4,\n",
    "  #                  label.padding = 0.125,\n",
    "  #                  label.r = 0.18,\n",
    "  #                  min.segment.length = 0,\n",
    "  #                  segment.colour = \"black\",\n",
    "  #                  color = \"black\") + \n",
    "  xlab(\"Relative frequency\") +\n",
    "  ylab(\"SVA 5' repeat length\") +\n",
    "  labs(caption = paste0(\"Overrepresentation of Yes level among long 5' repeats; p = \", rptLen_vs_tx_p)) +\n",
    "  scale_fill_tableau(palette = \"Color Blind\",name = \"Sense long read starting at the 5' repeat\",\n",
    "                     labels = c(\"yes\" = \"Yes\",\n",
    "                                \"no\" = \"No\"))"
   ]
  },
  {
   "cell_type": "markdown",
   "id": "bcc7b031-807f-4fd1-b8b3-23f101a06d93",
   "metadata": {
    "tags": []
   },
   "source": [
    "### Checking the length of 5' repeats in terms of reads starting (antisense) at the 5' repeat (qualitative)"
   ]
  },
  {
   "cell_type": "code",
   "execution_count": null,
   "id": "9434c2c2-8700-4edc-8876-b63c1d9d3807",
   "metadata": {
    "execution": {
     "iopub.execute_input": "2024-04-18T22:19:28.841049Z",
     "iopub.status.busy": "2024-04-18T22:19:28.839713Z",
     "iopub.status.idle": "2024-04-18T22:19:29.188941Z",
     "shell.execute_reply": "2024-04-18T22:19:29.187229Z"
    },
    "tags": [],
    "vscode": {
     "languageId": "r"
    }
   },
   "outputs": [],
   "source": [
    "options(repr.plot.height = 4, repr.plot.width = 6.25)\n",
    "sva_att_wide %>% \n",
    "  filter(rpt_length_cat != \"no hex\") %>% \n",
    "  group_by(rpt_length_cat, rpt_read_start_qual_antisense) %>% \n",
    "  summarise(count = n()) %>% \n",
    "  ggplot(aes(x = count,\n",
    "             y = factor(rpt_length_cat, levels = c(\"no hex\",\n",
    "                                                    \"< 30 bp\",\n",
    "                                                    \"30:59 bp\",\n",
    "                                                    \"60:89 bp\",\n",
    "                                                    \"90:119 bp\",\n",
    "                                                    \"120:149 bp\",\n",
    "                                                    \">= 150 bp\")),\n",
    "             fill = rpt_read_start_qual_antisense,\n",
    "             label = count)) +\n",
    "  geom_col(position = \"fill\") +\n",
    "  geom_label(position = \"fill\", show.legend = F) +  \n",
    "  # geom_label_repel(aes(label = count),\n",
    "  #                  position = \"fill\",\n",
    "  #                  show.legend = F,\n",
    "  #                  size = 4,\n",
    "  #                  label.padding = 0.125,\n",
    "  #                  label.r = 0.18,\n",
    "  #                  min.segment.length = 0,\n",
    "  #                  segment.colour = \"black\",\n",
    "  #                  color = \"black\") + \n",
    "  xlab(\"Relative frequency\") +\n",
    "  ylab(\"SVA 5' repeat length\") +\n",
    "  scale_fill_tableau(palette = \"Color Blind\",name = \"Antisense long read starting at the 5' repeat\",\n",
    "                     labels = c(\"yes\" = \"Yes\",\n",
    "                                \"no\" = \"No\"))"
   ]
  },
  {
   "cell_type": "code",
   "execution_count": 68,
   "id": "a722b89b-d1fe-430b-9d61-a018a6c2637d",
   "metadata": {
    "execution": {
     "iopub.execute_input": "2024-04-18T22:19:29.195987Z",
     "iopub.status.busy": "2024-04-18T22:19:29.194756Z",
     "iopub.status.idle": "2024-04-18T22:19:29.242890Z",
     "shell.execute_reply": "2024-04-18T22:19:29.241471Z"
    },
    "tags": [],
    "vscode": {
     "languageId": "r"
    }
   },
   "outputs": [
    {
     "data": {
      "text/html": [
       "<dl>\n",
       "\t<dt>$contingency_table</dt>\n",
       "\t\t<dd><table class=\"dataframe\">\n",
       "<caption>A matrix: 3 × 3 of type dbl</caption>\n",
       "<thead>\n",
       "\t<tr><th></th><th scope=col>rpt_read_start_qual_antisense:yes</th><th scope=col>rpt_read_start_qual_antisense:background</th><th scope=col>total</th></tr>\n",
       "</thead>\n",
       "<tbody>\n",
       "\t<tr><th scope=row>target_subvec</th><td> 6</td><td>  91</td><td>  97</td></tr>\n",
       "\t<tr><th scope=row>background_subvec</th><td>34</td><td> 924</td><td> 958</td></tr>\n",
       "\t<tr><th scope=row>total</th><td>40</td><td>1015</td><td>1055</td></tr>\n",
       "</tbody>\n",
       "</table>\n",
       "</dd>\n",
       "\t<dt>$pval</dt>\n",
       "\t\t<dd>0.15348445987655</dd>\n",
       "</dl>\n"
      ],
      "text/latex": [
       "\\begin{description}\n",
       "\\item[\\$contingency\\_table] A matrix: 3 × 3 of type dbl\n",
       "\\begin{tabular}{r|lll}\n",
       "  & rpt\\_read\\_start\\_qual\\_antisense:yes & rpt\\_read\\_start\\_qual\\_antisense:background & total\\\\\n",
       "\\hline\n",
       "\ttarget\\_subvec &  6 &   91 &   97\\\\\n",
       "\tbackground\\_subvec & 34 &  924 &  958\\\\\n",
       "\ttotal & 40 & 1015 & 1055\\\\\n",
       "\\end{tabular}\n",
       "\n",
       "\\item[\\$pval] 0.15348445987655\n",
       "\\end{description}\n"
      ],
      "text/markdown": [
       "$contingency_table\n",
       ":   \n",
       "A matrix: 3 × 3 of type dbl\n",
       "\n",
       "| <!--/--> | rpt_read_start_qual_antisense:yes | rpt_read_start_qual_antisense:background | total |\n",
       "|---|---|---|---|\n",
       "| target_subvec |  6 |   91 |   97 |\n",
       "| background_subvec | 34 |  924 |  958 |\n",
       "| total | 40 | 1015 | 1055 |\n",
       "\n",
       "\n",
       "$pval\n",
       ":   0.15348445987655\n",
       "\n",
       "\n"
      ],
      "text/plain": [
       "$contingency_table\n",
       "                  rpt_read_start_qual_antisense:yes\n",
       "target_subvec                                     6\n",
       "background_subvec                                34\n",
       "total                                            40\n",
       "                  rpt_read_start_qual_antisense:background total\n",
       "target_subvec                                           91    97\n",
       "background_subvec                                      924   958\n",
       "total                                                 1015  1055\n",
       "\n",
       "$pval\n",
       "[1] 0.1534845\n"
      ]
     },
     "metadata": {},
     "output_type": "display_data"
    }
   ],
   "source": [
    "### trying different cats\n",
    "rptLen_vs_tx = sva_att_wide %>% \n",
    "  filter(rpt_length >= 120 | rpt_length < 60) %>%\n",
    "  mutate(rpt_length_cat = case_when(rpt_length >= 120 ~ \">= 120 bp\",\n",
    "                                     TRUE ~ \"< 60 bp\"))\n",
    "\n",
    "rptLen_vs_tx_p = enrichAnalysis(df = rptLen_vs_tx,\n",
    "               subvec = rptLen_vs_tx %>% filter(rpt_length_cat == \">= 120 bp\") %>% pull(name),\n",
    "               testcol = \"rpt_read_start_qual_antisense\",\n",
    "               lev = \"yes\",\n",
    "               mode = \"enrichment\")\n",
    "\n",
    "rptLen_vs_tx_p\n",
    "\n",
    "rptLen_vs_tx_p = rptLen_vs_tx_p$pval %>%\n",
    "    format(scientific = T, digits = 2)"
   ]
  },
  {
   "cell_type": "code",
   "execution_count": null,
   "id": "3b24a03c-a094-490c-9106-390f28e2bdb7",
   "metadata": {
    "execution": {
     "iopub.execute_input": "2024-04-18T22:19:29.249170Z",
     "iopub.status.busy": "2024-04-18T22:19:29.247691Z",
     "iopub.status.idle": "2024-04-18T22:19:29.544680Z",
     "shell.execute_reply": "2024-04-18T22:19:29.543075Z"
    },
    "tags": [],
    "vscode": {
     "languageId": "r"
    }
   },
   "outputs": [],
   "source": [
    "options(repr.plot.height = 2.5, repr.plot.width = 6.25)\n",
    "rptLen_vs_tx %>% \n",
    "  group_by(rpt_length_cat, rpt_read_start_qual_antisense) %>% \n",
    "  summarise(count = n()) %>% \n",
    "  ggplot(aes(x = count,\n",
    "             y = factor(rpt_length_cat, levels = c(\"< 60 bp\", \">= 120 bp\")),\n",
    "             fill = rpt_read_start_qual_antisense,\n",
    "             label = count)) +\n",
    "  geom_col(position = \"fill\") +\n",
    "  geom_label(position = \"fill\", show.legend = F) +\n",
    "  # geom_label_repel(aes(label = count),\n",
    "  #                  position = \"fill\",\n",
    "  #                  show.legend = F,\n",
    "  #                  size = 4,\n",
    "  #                  label.padding = 0.125,\n",
    "  #                  label.r = 0.18,\n",
    "  #                  min.segment.length = 0,\n",
    "  #                  segment.colour = \"black\",\n",
    "  #                  color = \"black\") + \n",
    "  xlab(\"Relative frequency\") +\n",
    "  ylab(\"SVA 5' repeat length\") +\n",
    "  scale_fill_tableau(palette = \"Color Blind\",name = \"Antisense long read starting at the 5' repeat\",\n",
    "                     labels = c(\"yes\" = \"Yes\",\n",
    "                                \"no\" = \"No\"))"
   ]
  },
  {
   "cell_type": "code",
   "execution_count": 70,
   "id": "294d15e5-1d3a-4470-b2ef-5210bf4c30f0",
   "metadata": {
    "execution": {
     "iopub.execute_input": "2024-04-18T22:19:29.551862Z",
     "iopub.status.busy": "2024-04-18T22:19:29.550451Z",
     "iopub.status.idle": "2024-04-18T22:19:29.791413Z",
     "shell.execute_reply": "2024-04-18T22:19:29.789953Z"
    },
    "tags": [],
    "vscode": {
     "languageId": "r"
    }
   },
   "outputs": [
    {
     "data": {
      "text/html": [
       "<dl>\n",
       "\t<dt>$contingency_table</dt>\n",
       "\t\t<dd><table class=\"dataframe\">\n",
       "<caption>A matrix: 3 × 3 of type dbl</caption>\n",
       "<thead>\n",
       "\t<tr><th></th><th scope=col>rpt_read_start_qual_antisense:yes</th><th scope=col>rpt_read_start_qual_antisense:background</th><th scope=col>total</th></tr>\n",
       "</thead>\n",
       "<tbody>\n",
       "\t<tr><th scope=row>target_subvec</th><td>6</td><td> 91</td><td> 97</td></tr>\n",
       "\t<tr><th scope=row>background_subvec</th><td>1</td><td>124</td><td>125</td></tr>\n",
       "\t<tr><th scope=row>total</th><td>7</td><td>215</td><td>222</td></tr>\n",
       "</tbody>\n",
       "</table>\n",
       "</dd>\n",
       "\t<dt>$pval</dt>\n",
       "\t\t<dd>0.0284551124433137</dd>\n",
       "</dl>\n"
      ],
      "text/latex": [
       "\\begin{description}\n",
       "\\item[\\$contingency\\_table] A matrix: 3 × 3 of type dbl\n",
       "\\begin{tabular}{r|lll}\n",
       "  & rpt\\_read\\_start\\_qual\\_antisense:yes & rpt\\_read\\_start\\_qual\\_antisense:background & total\\\\\n",
       "\\hline\n",
       "\ttarget\\_subvec & 6 &  91 &  97\\\\\n",
       "\tbackground\\_subvec & 1 & 124 & 125\\\\\n",
       "\ttotal & 7 & 215 & 222\\\\\n",
       "\\end{tabular}\n",
       "\n",
       "\\item[\\$pval] 0.0284551124433137\n",
       "\\end{description}\n"
      ],
      "text/markdown": [
       "$contingency_table\n",
       ":   \n",
       "A matrix: 3 × 3 of type dbl\n",
       "\n",
       "| <!--/--> | rpt_read_start_qual_antisense:yes | rpt_read_start_qual_antisense:background | total |\n",
       "|---|---|---|---|\n",
       "| target_subvec | 6 |  91 |  97 |\n",
       "| background_subvec | 1 | 124 | 125 |\n",
       "| total | 7 | 215 | 222 |\n",
       "\n",
       "\n",
       "$pval\n",
       ":   0.0284551124433137\n",
       "\n",
       "\n"
      ],
      "text/plain": [
       "$contingency_table\n",
       "                  rpt_read_start_qual_antisense:yes\n",
       "target_subvec                                     6\n",
       "background_subvec                                 1\n",
       "total                                             7\n",
       "                  rpt_read_start_qual_antisense:background total\n",
       "target_subvec                                           91    97\n",
       "background_subvec                                      124   125\n",
       "total                                                  215   222\n",
       "\n",
       "$pval\n",
       "[1] 0.02845511\n"
      ]
     },
     "metadata": {},
     "output_type": "display_data"
    }
   ],
   "source": [
    "### trying different cats\n",
    "rptLen_vs_tx = sva_att_wide %>% \n",
    "  filter(rpt_length >= 120 | rpt_length < 30) %>%\n",
    "  mutate(rpt_length_cat = case_when(rpt_length >= 120 ~ \">= 120 bp\",\n",
    "                                     TRUE ~ \"< 30 bp\"))\n",
    "\n",
    "rptLen_vs_tx_p = enrichAnalysis(df = rptLen_vs_tx,\n",
    "               subvec = rptLen_vs_tx %>% filter(rpt_length_cat == \">= 120 bp\") %>% pull(name),\n",
    "               testcol = \"rpt_read_start_qual_antisense\",\n",
    "               lev = \"yes\",\n",
    "               mode = \"enrichment\")\n",
    "\n",
    "rptLen_vs_tx_p\n",
    "\n",
    "rptLen_vs_tx_p = rptLen_vs_tx_p$pval %>%\n",
    "    format(scientific = T, digits = 2)"
   ]
  },
  {
   "cell_type": "code",
   "execution_count": null,
   "id": "6dbe8007-b51f-4c34-8a30-f52116947642",
   "metadata": {
    "execution": {
     "iopub.execute_input": "2024-04-18T22:19:29.797074Z",
     "iopub.status.busy": "2024-04-18T22:19:29.795848Z",
     "iopub.status.idle": "2024-04-18T22:19:30.098181Z",
     "shell.execute_reply": "2024-04-18T22:19:30.096563Z"
    },
    "tags": [],
    "vscode": {
     "languageId": "r"
    }
   },
   "outputs": [],
   "source": [
    "options(repr.plot.height = 2.5, repr.plot.width = 6.25)\n",
    "rptLen_vs_tx %>% \n",
    "  group_by(rpt_length_cat, rpt_read_start_qual_antisense) %>% \n",
    "  summarise(count = n()) %>% \n",
    "  ggplot(aes(x = count,\n",
    "             y = factor(rpt_length_cat, levels = c(\"< 30 bp\", \">= 120 bp\")),\n",
    "             fill = rpt_read_start_qual_antisense,\n",
    "             label = count)) +\n",
    "  geom_col(position = \"fill\") +\n",
    "  geom_label(position = \"fill\", show.legend = F) +\n",
    "  # geom_label_repel(aes(label = count),\n",
    "  #                  position = \"fill\",\n",
    "  #                  show.legend = F,\n",
    "  #                  size = 4,\n",
    "  #                  label.padding = 0.125,\n",
    "  #                  label.r = 0.18,\n",
    "  #                  min.segment.length = 0,\n",
    "  #                  segment.colour = \"black\",\n",
    "  #                  color = \"black\") + \n",
    "  xlab(\"Relative frequency\") +\n",
    "  ylab(\"SVA 5' repeat length\") +\n",
    "  labs(caption = paste0(\"Overrepresentation of Yes level among long 5' repeats; p = \", rptLen_vs_tx_p)) +\n",
    "  scale_fill_tableau(palette = \"Color Blind\",name = \"Antisense long read starting at the 5' repeat\",\n",
    "                     labels = c(\"yes\" = \"Yes\",\n",
    "                                \"no\" = \"No\"))"
   ]
  },
  {
   "cell_type": "markdown",
   "id": "7d794491-b038-411d-a1fe-3399a26a381a",
   "metadata": {
    "tags": []
   },
   "source": [
    "### Checking the genomic context in terms of reads starting (sense) at the 5' repeat (qualitative)"
   ]
  },
  {
   "cell_type": "code",
   "execution_count": 72,
   "id": "551470ea-6be5-42a9-bc34-0f7452bef8f9",
   "metadata": {
    "execution": {
     "iopub.execute_input": "2024-04-18T22:19:30.105673Z",
     "iopub.status.busy": "2024-04-18T22:19:30.103975Z",
     "iopub.status.idle": "2024-04-18T22:19:30.152078Z",
     "shell.execute_reply": "2024-04-18T22:19:30.150406Z"
    },
    "tags": [],
    "vscode": {
     "languageId": "r"
    }
   },
   "outputs": [
    {
     "data": {
      "text/html": [
       "<dl>\n",
       "\t<dt>$contingency_table</dt>\n",
       "\t\t<dd><table class=\"dataframe\">\n",
       "<caption>A matrix: 3 × 3 of type dbl</caption>\n",
       "<thead>\n",
       "\t<tr><th></th><th scope=col>rpt_read_start_qual_sense:yes</th><th scope=col>rpt_read_start_qual_sense:background</th><th scope=col>total</th></tr>\n",
       "</thead>\n",
       "<tbody>\n",
       "\t<tr><th scope=row>target_subvec</th><td>10</td><td>1000</td><td>1010</td></tr>\n",
       "\t<tr><th scope=row>background_subvec</th><td> 4</td><td> 702</td><td> 706</td></tr>\n",
       "\t<tr><th scope=row>total</th><td>14</td><td>1702</td><td>1716</td></tr>\n",
       "</tbody>\n",
       "</table>\n",
       "</dd>\n",
       "\t<dt>$pval</dt>\n",
       "\t\t<dd>0.249657588392099</dd>\n",
       "</dl>\n"
      ],
      "text/latex": [
       "\\begin{description}\n",
       "\\item[\\$contingency\\_table] A matrix: 3 × 3 of type dbl\n",
       "\\begin{tabular}{r|lll}\n",
       "  & rpt\\_read\\_start\\_qual\\_sense:yes & rpt\\_read\\_start\\_qual\\_sense:background & total\\\\\n",
       "\\hline\n",
       "\ttarget\\_subvec & 10 & 1000 & 1010\\\\\n",
       "\tbackground\\_subvec &  4 &  702 &  706\\\\\n",
       "\ttotal & 14 & 1702 & 1716\\\\\n",
       "\\end{tabular}\n",
       "\n",
       "\\item[\\$pval] 0.249657588392099\n",
       "\\end{description}\n"
      ],
      "text/markdown": [
       "$contingency_table\n",
       ":   \n",
       "A matrix: 3 × 3 of type dbl\n",
       "\n",
       "| <!--/--> | rpt_read_start_qual_sense:yes | rpt_read_start_qual_sense:background | total |\n",
       "|---|---|---|---|\n",
       "| target_subvec | 10 | 1000 | 1010 |\n",
       "| background_subvec |  4 |  702 |  706 |\n",
       "| total | 14 | 1702 | 1716 |\n",
       "\n",
       "\n",
       "$pval\n",
       ":   0.249657588392099\n",
       "\n",
       "\n"
      ],
      "text/plain": [
       "$contingency_table\n",
       "                  rpt_read_start_qual_sense:yes\n",
       "target_subvec                                10\n",
       "background_subvec                             4\n",
       "total                                        14\n",
       "                  rpt_read_start_qual_sense:background total\n",
       "target_subvec                                     1000  1010\n",
       "background_subvec                                  702   706\n",
       "total                                             1702  1716\n",
       "\n",
       "$pval\n",
       "[1] 0.2496576\n"
      ]
     },
     "metadata": {},
     "output_type": "display_data"
    }
   ],
   "source": [
    "### Checking the genomic context in terms of reads starting (sense) at the 5' repeat (qualitative)\n",
    "p = enrichAnalysis(df = sva_att_wide %>% filter(rpt_length_cat != \"no hex\"),\n",
    "               subvec = sva_att_wide %>% filter(rpt_length_cat != \"no hex\") %>% \n",
    "                                         filter(relative_to_gene == \"within_gene\") %>%\n",
    "                                         pull(name),\n",
    "               testcol = \"rpt_read_start_qual_sense\",\n",
    "               lev = \"yes\",\n",
    "               mode = \"enrichment\")\n",
    "\n",
    "p\n",
    "\n",
    "p = p$pval %>%\n",
    "    format(scientific = T, digits = 2)"
   ]
  },
  {
   "cell_type": "code",
   "execution_count": null,
   "id": "08736426-0496-4bc8-9e73-bdd7f89c2d78",
   "metadata": {
    "execution": {
     "iopub.execute_input": "2024-04-18T22:19:30.158323Z",
     "iopub.status.busy": "2024-04-18T22:19:30.156867Z",
     "iopub.status.idle": "2024-04-18T22:19:30.457974Z",
     "shell.execute_reply": "2024-04-18T22:19:30.456250Z"
    },
    "tags": [],
    "vscode": {
     "languageId": "r"
    }
   },
   "outputs": [],
   "source": [
    "options(repr.plot.height = 2.5, repr.plot.width = 6.25)\n",
    "sva_att_wide %>% \n",
    "  filter(rpt_length_cat != \"no hex\") %>% \n",
    "  group_by(relative_to_gene, rpt_read_start_qual_sense) %>% \n",
    "  summarise(count = n()) %>% \n",
    "  ggplot(aes(x = count,\n",
    "             y = relative_to_gene,\n",
    "             fill = rpt_read_start_qual_sense,\n",
    "             label = count)) +\n",
    "  geom_col(position = \"fill\") +\n",
    "  geom_label(position = \"fill\", show.legend = F) +  \n",
    "  # geom_label_repel(aes(label = count),\n",
    "  #                  position = \"fill\",\n",
    "  #                  show.legend = F,\n",
    "  #                  size = 4,\n",
    "  #                  label.padding = 0.125,\n",
    "  #                  label.r = 0.18,\n",
    "  #                  min.segment.length = 0,\n",
    "  #                  segment.colour = \"black\",\n",
    "  #                  color = \"black\") + \n",
    "  xlab(\"Relative frequency\") +\n",
    "  ylab(\"SVA 5' repeat length\") +\n",
    "  labs(caption = paste0(\"Overrepresentation of Yes level among SVAs Within gene; p = \", p)) +\n",
    "  scale_fill_tableau(palette = \"Color Blind\",name = \"Sense long read starting at the 5' repeat\",\n",
    "                     labels = c(\"yes\" = \"Yes\",\n",
    "                                \"no\" = \"No\")) +\n",
    "  scale_y_discrete(name = \"Genomic context\",\n",
    "                   labels = c(\"within_gene\" = \"Within gene\",\n",
    "                              \"intergenic\" = \"Intergenic\"))"
   ]
  },
  {
   "cell_type": "markdown",
   "id": "1fc7eb09-f804-420e-a8c5-c19cb6181760",
   "metadata": {
    "tags": []
   },
   "source": [
    "### Checking the genomic context in terms of reads starting (antisense) at the 5' repeat (qualitative)"
   ]
  },
  {
   "cell_type": "code",
   "execution_count": 74,
   "id": "e50dc6e7-2ecd-4e58-af2d-fe5ecb9ccd30",
   "metadata": {
    "execution": {
     "iopub.execute_input": "2024-04-18T22:19:30.466300Z",
     "iopub.status.busy": "2024-04-18T22:19:30.464924Z",
     "iopub.status.idle": "2024-04-18T22:19:30.513875Z",
     "shell.execute_reply": "2024-04-18T22:19:30.512470Z"
    },
    "tags": [],
    "vscode": {
     "languageId": "r"
    }
   },
   "outputs": [
    {
     "data": {
      "text/html": [
       "<dl>\n",
       "\t<dt>$contingency_table</dt>\n",
       "\t\t<dd><table class=\"dataframe\">\n",
       "<caption>A matrix: 3 × 3 of type dbl</caption>\n",
       "<thead>\n",
       "\t<tr><th></th><th scope=col>rpt_read_start_qual_antisense:yes</th><th scope=col>rpt_read_start_qual_antisense:background</th><th scope=col>total</th></tr>\n",
       "</thead>\n",
       "<tbody>\n",
       "\t<tr><th scope=row>target_subvec</th><td>49</td><td> 961</td><td>1010</td></tr>\n",
       "\t<tr><th scope=row>background_subvec</th><td>13</td><td> 693</td><td> 706</td></tr>\n",
       "\t<tr><th scope=row>total</th><td>62</td><td>1654</td><td>1716</td></tr>\n",
       "</tbody>\n",
       "</table>\n",
       "</dd>\n",
       "\t<dt>$pval</dt>\n",
       "\t\t<dd>0.000537496464111285</dd>\n",
       "</dl>\n"
      ],
      "text/latex": [
       "\\begin{description}\n",
       "\\item[\\$contingency\\_table] A matrix: 3 × 3 of type dbl\n",
       "\\begin{tabular}{r|lll}\n",
       "  & rpt\\_read\\_start\\_qual\\_antisense:yes & rpt\\_read\\_start\\_qual\\_antisense:background & total\\\\\n",
       "\\hline\n",
       "\ttarget\\_subvec & 49 &  961 & 1010\\\\\n",
       "\tbackground\\_subvec & 13 &  693 &  706\\\\\n",
       "\ttotal & 62 & 1654 & 1716\\\\\n",
       "\\end{tabular}\n",
       "\n",
       "\\item[\\$pval] 0.000537496464111285\n",
       "\\end{description}\n"
      ],
      "text/markdown": [
       "$contingency_table\n",
       ":   \n",
       "A matrix: 3 × 3 of type dbl\n",
       "\n",
       "| <!--/--> | rpt_read_start_qual_antisense:yes | rpt_read_start_qual_antisense:background | total |\n",
       "|---|---|---|---|\n",
       "| target_subvec | 49 |  961 | 1010 |\n",
       "| background_subvec | 13 |  693 |  706 |\n",
       "| total | 62 | 1654 | 1716 |\n",
       "\n",
       "\n",
       "$pval\n",
       ":   0.000537496464111285\n",
       "\n",
       "\n"
      ],
      "text/plain": [
       "$contingency_table\n",
       "                  rpt_read_start_qual_antisense:yes\n",
       "target_subvec                                    49\n",
       "background_subvec                                13\n",
       "total                                            62\n",
       "                  rpt_read_start_qual_antisense:background total\n",
       "target_subvec                                          961  1010\n",
       "background_subvec                                      693   706\n",
       "total                                                 1654  1716\n",
       "\n",
       "$pval\n",
       "[1] 0.0005374965\n"
      ]
     },
     "metadata": {},
     "output_type": "display_data"
    }
   ],
   "source": [
    "### Checking the genomic context in terms of reads starting (antisense) at the 5' repeat (qualitative)\n",
    "p = enrichAnalysis(df = sva_att_wide %>% filter(rpt_length_cat != \"no hex\"),\n",
    "               subvec = sva_att_wide %>% filter(rpt_length_cat != \"no hex\") %>% \n",
    "                                         filter(relative_to_gene == \"within_gene\") %>%\n",
    "                                         pull(name),\n",
    "               testcol = \"rpt_read_start_qual_antisense\",\n",
    "               lev = \"yes\",\n",
    "               mode = \"enrichment\")\n",
    "\n",
    "p\n",
    "\n",
    "p = p$pval %>%\n",
    "    format(scientific = T, digits = 2)"
   ]
  },
  {
   "cell_type": "code",
   "execution_count": null,
   "id": "afd6eec5-a02f-4c04-aba5-bec499e2604e",
   "metadata": {
    "execution": {
     "iopub.execute_input": "2024-04-18T22:19:30.519953Z",
     "iopub.status.busy": "2024-04-18T22:19:30.518786Z",
     "iopub.status.idle": "2024-04-18T22:19:31.004604Z",
     "shell.execute_reply": "2024-04-18T22:19:31.002956Z"
    },
    "tags": [],
    "vscode": {
     "languageId": "r"
    }
   },
   "outputs": [],
   "source": [
    "options(repr.plot.height = 2.5, repr.plot.width = 6.25)\n",
    "sva_att_wide %>% \n",
    "  filter(rpt_length_cat != \"no hex\") %>% \n",
    "  group_by(relative_to_gene, rpt_read_start_qual_antisense) %>% \n",
    "  summarise(count = n()) %>% \n",
    "  ggplot(aes(x = count,\n",
    "             y = relative_to_gene,\n",
    "             fill = rpt_read_start_qual_antisense,\n",
    "             label = count)) +\n",
    "  geom_col(position = \"fill\") +\n",
    "  geom_label(position = \"fill\", show.legend = F) +  \n",
    "  # geom_label_repel(aes(label = count),\n",
    "  #                  position = \"fill\",\n",
    "  #                  show.legend = F,\n",
    "  #                  size = 4,\n",
    "  #                  label.padding = 0.125,\n",
    "  #                  label.r = 0.18,\n",
    "  #                  min.segment.length = 0,\n",
    "  #                  segment.colour = \"black\",\n",
    "  #                  color = \"black\") + \n",
    "  xlab(\"Relative frequency\") +\n",
    "  ylab(\"SVA 5' repeat length\") +\n",
    "  labs(caption = paste0(\"Overrepresentation of Yes level among SVAs Within gene; p = \", p)) +\n",
    "  scale_fill_tableau(palette = \"Color Blind\",name = \"Antisense long read starting at the 5' repeat\",\n",
    "                     labels = c(\"yes\" = \"Yes\",\n",
    "                                \"no\" = \"No\")) +\n",
    "  scale_y_discrete(name = \"Genomic context\",\n",
    "                   labels = c(\"within_gene\" = \"Within gene\",\n",
    "                              \"intergenic\" = \"Intergenic\"))"
   ]
  },
  {
   "cell_type": "markdown",
   "id": "14593010-b862-40a7-897a-22b04a9ccd00",
   "metadata": {
    "tags": []
   },
   "source": [
    "### Checking the \"within gene\" context in terms of reads starting (sense) at the 5' repeat (qualitative)"
   ]
  },
  {
   "cell_type": "code",
   "execution_count": 76,
   "id": "8ea2a114-2dec-4673-b035-c9849834b44b",
   "metadata": {
    "execution": {
     "iopub.execute_input": "2024-04-18T22:19:31.011958Z",
     "iopub.status.busy": "2024-04-18T22:19:31.010250Z",
     "iopub.status.idle": "2024-04-18T22:19:31.066513Z",
     "shell.execute_reply": "2024-04-18T22:19:31.064902Z"
    },
    "tags": [],
    "vscode": {
     "languageId": "r"
    }
   },
   "outputs": [
    {
     "data": {
      "text/html": [
       "<dl>\n",
       "\t<dt>$contingency_table</dt>\n",
       "\t\t<dd><table class=\"dataframe\">\n",
       "<caption>A matrix: 3 × 3 of type dbl</caption>\n",
       "<thead>\n",
       "\t<tr><th></th><th scope=col>rpt_read_start_qual_sense:yes</th><th scope=col>rpt_read_start_qual_sense:background</th><th scope=col>total</th></tr>\n",
       "</thead>\n",
       "<tbody>\n",
       "\t<tr><th scope=row>target_subvec</th><td> 3</td><td> 209</td><td> 212</td></tr>\n",
       "\t<tr><th scope=row>background_subvec</th><td> 7</td><td> 791</td><td> 798</td></tr>\n",
       "\t<tr><th scope=row>total</th><td>10</td><td>1000</td><td>1010</td></tr>\n",
       "</tbody>\n",
       "</table>\n",
       "</dd>\n",
       "\t<dt>$pval</dt>\n",
       "\t\t<dd>0.352086850889743</dd>\n",
       "</dl>\n"
      ],
      "text/latex": [
       "\\begin{description}\n",
       "\\item[\\$contingency\\_table] A matrix: 3 × 3 of type dbl\n",
       "\\begin{tabular}{r|lll}\n",
       "  & rpt\\_read\\_start\\_qual\\_sense:yes & rpt\\_read\\_start\\_qual\\_sense:background & total\\\\\n",
       "\\hline\n",
       "\ttarget\\_subvec &  3 &  209 &  212\\\\\n",
       "\tbackground\\_subvec &  7 &  791 &  798\\\\\n",
       "\ttotal & 10 & 1000 & 1010\\\\\n",
       "\\end{tabular}\n",
       "\n",
       "\\item[\\$pval] 0.352086850889743\n",
       "\\end{description}\n"
      ],
      "text/markdown": [
       "$contingency_table\n",
       ":   \n",
       "A matrix: 3 × 3 of type dbl\n",
       "\n",
       "| <!--/--> | rpt_read_start_qual_sense:yes | rpt_read_start_qual_sense:background | total |\n",
       "|---|---|---|---|\n",
       "| target_subvec |  3 |  209 |  212 |\n",
       "| background_subvec |  7 |  791 |  798 |\n",
       "| total | 10 | 1000 | 1010 |\n",
       "\n",
       "\n",
       "$pval\n",
       ":   0.352086850889743\n",
       "\n",
       "\n"
      ],
      "text/plain": [
       "$contingency_table\n",
       "                  rpt_read_start_qual_sense:yes\n",
       "target_subvec                                 3\n",
       "background_subvec                             7\n",
       "total                                        10\n",
       "                  rpt_read_start_qual_sense:background total\n",
       "target_subvec                                      209   212\n",
       "background_subvec                                  791   798\n",
       "total                                             1000  1010\n",
       "\n",
       "$pval\n",
       "[1] 0.3520869\n"
      ]
     },
     "metadata": {},
     "output_type": "display_data"
    }
   ],
   "source": [
    "### Checking the \"within gene\" context in terms of reads starting (sense) at the 5' repeat (qualitative)\n",
    "p = enrichAnalysis(df = sva_att_wide %>% filter(rpt_length_cat != \"no hex\") %>% filter(relative_to_gene != \"intergenic\"),\n",
    "               subvec = sva_att_wide %>% filter(rpt_length_cat != \"no hex\") %>% filter(relative_to_gene != \"intergenic\") %>% \n",
    "                                         filter(within_gene_simple == \"sense\") %>%\n",
    "                                         pull(name),\n",
    "               testcol = \"rpt_read_start_qual_sense\",\n",
    "               lev = \"yes\",\n",
    "               mode = \"enrichment\")\n",
    "\n",
    "p\n",
    "\n",
    "p = p$pval %>%\n",
    "    format(scientific = T, digits = 2)"
   ]
  },
  {
   "cell_type": "code",
   "execution_count": null,
   "id": "13517404-ae90-4bf9-8bec-e8fdeb0ffb54",
   "metadata": {
    "execution": {
     "iopub.execute_input": "2024-04-18T22:19:31.073231Z",
     "iopub.status.busy": "2024-04-18T22:19:31.071649Z",
     "iopub.status.idle": "2024-04-18T22:19:31.386035Z",
     "shell.execute_reply": "2024-04-18T22:19:31.384420Z"
    },
    "tags": [],
    "vscode": {
     "languageId": "r"
    }
   },
   "outputs": [],
   "source": [
    "options(repr.plot.height = 2.5, repr.plot.width = 7)\n",
    "sva_att_wide %>% \n",
    "  filter(rpt_length_cat != \"no hex\") %>% \n",
    "  filter(relative_to_gene != \"intergenic\") %>% \n",
    "  group_by(within_gene_simple, rpt_read_start_qual_sense) %>% \n",
    "  summarise(count = n()) %>% \n",
    "  ggplot(aes(x = count,\n",
    "             y = within_gene_simple,\n",
    "             fill = rpt_read_start_qual_sense,\n",
    "             label = count)) +\n",
    "  geom_col(position = \"fill\") +\n",
    "  geom_label(position = \"fill\", show.legend = F) +  \n",
    "  # geom_label_repel(aes(label = count),\n",
    "  #                  position = \"fill\",\n",
    "  #                  show.legend = F,\n",
    "  #                  size = 4,\n",
    "  #                  label.padding = 0.125,\n",
    "  #                  label.r = 0.18,\n",
    "  #                  min.segment.length = 0,\n",
    "  #                  segment.colour = \"black\",\n",
    "  #                  color = \"black\") + \n",
    "  xlab(\"Relative frequency\") +\n",
    "  ylab(\"SVA 5' repeat length\") +\n",
    "  # labs(caption = paste0(\"Overrepresentation of Yes level among SVAs Within gene; p = \", p)) +\n",
    "  scale_fill_tableau(palette = \"Color Blind\",name = \"Sense long read starting at the 5' repeat\",\n",
    "                     labels = c(\"yes\" = \"Yes\",\n",
    "                                \"no\" = \"No\")) +\n",
    "  scale_y_discrete(name = \"Within gene context\",\n",
    "                   labels = c(\"sense\" = \"Sense\",\n",
    "                              \"antisense\" = \"Antisense\",\n",
    "                              \"sense_and_antisense\" = \"Sense/Antisense\"))"
   ]
  },
  {
   "cell_type": "markdown",
   "id": "8b85c7bd-7ed8-4926-9df8-3e324043d988",
   "metadata": {
    "tags": []
   },
   "source": [
    "### Checking the \"within gene\" context in terms of reads starting (antisense) at the 5' repeat (qualitative)"
   ]
  },
  {
   "cell_type": "code",
   "execution_count": 78,
   "id": "637fc81e-5a4d-4307-9c4b-1af24241368f",
   "metadata": {
    "execution": {
     "iopub.execute_input": "2024-04-18T22:19:31.393264Z",
     "iopub.status.busy": "2024-04-18T22:19:31.392027Z",
     "iopub.status.idle": "2024-04-18T22:19:31.449332Z",
     "shell.execute_reply": "2024-04-18T22:19:31.447524Z"
    },
    "tags": [],
    "vscode": {
     "languageId": "r"
    }
   },
   "outputs": [
    {
     "data": {
      "text/html": [
       "<dl>\n",
       "\t<dt>$contingency_table</dt>\n",
       "\t\t<dd><table class=\"dataframe\">\n",
       "<caption>A matrix: 3 × 3 of type dbl</caption>\n",
       "<thead>\n",
       "\t<tr><th></th><th scope=col>rpt_read_start_qual_antisense:no</th><th scope=col>rpt_read_start_qual_antisense:background</th><th scope=col>total</th></tr>\n",
       "</thead>\n",
       "<tbody>\n",
       "\t<tr><th scope=row>target_subvec</th><td>700</td><td>30</td><td> 730</td></tr>\n",
       "\t<tr><th scope=row>background_subvec</th><td>261</td><td>19</td><td> 280</td></tr>\n",
       "\t<tr><th scope=row>total</th><td>961</td><td>49</td><td>1010</td></tr>\n",
       "</tbody>\n",
       "</table>\n",
       "</dd>\n",
       "\t<dt>$pval</dt>\n",
       "\t\t<dd>0.0569815210641201</dd>\n",
       "</dl>\n"
      ],
      "text/latex": [
       "\\begin{description}\n",
       "\\item[\\$contingency\\_table] A matrix: 3 × 3 of type dbl\n",
       "\\begin{tabular}{r|lll}\n",
       "  & rpt\\_read\\_start\\_qual\\_antisense:no & rpt\\_read\\_start\\_qual\\_antisense:background & total\\\\\n",
       "\\hline\n",
       "\ttarget\\_subvec & 700 & 30 &  730\\\\\n",
       "\tbackground\\_subvec & 261 & 19 &  280\\\\\n",
       "\ttotal & 961 & 49 & 1010\\\\\n",
       "\\end{tabular}\n",
       "\n",
       "\\item[\\$pval] 0.0569815210641201\n",
       "\\end{description}\n"
      ],
      "text/markdown": [
       "$contingency_table\n",
       ":   \n",
       "A matrix: 3 × 3 of type dbl\n",
       "\n",
       "| <!--/--> | rpt_read_start_qual_antisense:no | rpt_read_start_qual_antisense:background | total |\n",
       "|---|---|---|---|\n",
       "| target_subvec | 700 | 30 |  730 |\n",
       "| background_subvec | 261 | 19 |  280 |\n",
       "| total | 961 | 49 | 1010 |\n",
       "\n",
       "\n",
       "$pval\n",
       ":   0.0569815210641201\n",
       "\n",
       "\n"
      ],
      "text/plain": [
       "$contingency_table\n",
       "                  rpt_read_start_qual_antisense:no\n",
       "target_subvec                                  700\n",
       "background_subvec                              261\n",
       "total                                          961\n",
       "                  rpt_read_start_qual_antisense:background total\n",
       "target_subvec                                           30   730\n",
       "background_subvec                                       19   280\n",
       "total                                                   49  1010\n",
       "\n",
       "$pval\n",
       "[1] 0.05698152\n"
      ]
     },
     "metadata": {},
     "output_type": "display_data"
    }
   ],
   "source": [
    "### Checking the \"within gene\" context in terms of reads starting (antisense) at the 5' repeat (qualitative)\n",
    "p = enrichAnalysis(df = sva_att_wide %>% filter(rpt_length_cat != \"no hex\") %>% filter(relative_to_gene != \"intergenic\"),\n",
    "               subvec = sva_att_wide %>% filter(rpt_length_cat != \"no hex\") %>% filter(relative_to_gene != \"intergenic\") %>% \n",
    "                                         filter(within_gene_simple == \"antisense\") %>%\n",
    "                                         pull(name),\n",
    "               testcol = \"rpt_read_start_qual_antisense\",\n",
    "               lev = \"no\",\n",
    "               mode = \"enrichment\")\n",
    "\n",
    "p\n",
    "\n",
    "p = p$pval %>%\n",
    "    format(scientific = T, digits = 2)"
   ]
  },
  {
   "cell_type": "code",
   "execution_count": null,
   "id": "43d7f67a-3a37-4add-acba-6dd8b17c31e8",
   "metadata": {
    "execution": {
     "iopub.execute_input": "2024-04-18T22:19:31.455540Z",
     "iopub.status.busy": "2024-04-18T22:19:31.454124Z",
     "iopub.status.idle": "2024-04-18T22:19:31.948389Z",
     "shell.execute_reply": "2024-04-18T22:19:31.946500Z"
    },
    "tags": [],
    "vscode": {
     "languageId": "r"
    }
   },
   "outputs": [],
   "source": [
    "options(repr.plot.height = 2.5, repr.plot.width = 7)\n",
    "sva_att_wide %>% \n",
    "  filter(rpt_length_cat != \"no hex\") %>% \n",
    "  filter(relative_to_gene != \"intergenic\") %>% \n",
    "  group_by(within_gene_simple, rpt_read_start_qual_antisense) %>% \n",
    "  summarise(count = n()) %>% \n",
    "  ggplot(aes(x = count,\n",
    "             y = within_gene_simple,\n",
    "             fill = rpt_read_start_qual_antisense,\n",
    "             label = count)) +\n",
    "  geom_col(position = \"fill\") +\n",
    "  geom_label(position = \"fill\", show.legend = F) +  \n",
    "  # geom_label_repel(aes(label = count),\n",
    "  #                  position = \"fill\",\n",
    "  #                  show.legend = F,\n",
    "  #                  size = 4,\n",
    "  #                  label.padding = 0.125,\n",
    "  #                  label.r = 0.18,\n",
    "  #                  min.segment.length = 0,\n",
    "  #                  segment.colour = \"black\",\n",
    "  #                  color = \"black\") + \n",
    "  xlab(\"Relative frequency\") +\n",
    "  ylab(\"SVA 5' repeat length\") +\n",
    "  labs(caption = paste0(\"Enrichment of No level among SVAs Antisense to genes; p = \", p)) +\n",
    "  scale_fill_tableau(palette = \"Color Blind\",name = \"Antisense long read starting at the 5' repeat\",\n",
    "                     labels = c(\"yes\" = \"Yes\",\n",
    "                                \"no\" = \"No\")) +\n",
    "  scale_y_discrete(name = \"Within gene context\",\n",
    "                   labels = c(\"sense\" = \"Sense\",\n",
    "                              \"antisense\" = \"Antisense\",\n",
    "                              \"sense_and_antisense\" = \"Sense/Antisense\"))"
   ]
  },
  {
   "cell_type": "code",
   "execution_count": 80,
   "id": "e25b8675-ad4e-4d54-b26e-f11926da32e7",
   "metadata": {
    "execution": {
     "iopub.execute_input": "2024-04-18T22:19:31.955531Z",
     "iopub.status.busy": "2024-04-18T22:19:31.954036Z",
     "iopub.status.idle": "2024-04-18T22:19:32.026928Z",
     "shell.execute_reply": "2024-04-18T22:19:32.025504Z"
    },
    "tags": [],
    "vscode": {
     "languageId": "r"
    }
   },
   "outputs": [
    {
     "data": {
      "text/html": [
       "<dl>\n",
       "\t<dt>$contingency_table</dt>\n",
       "\t\t<dd><table class=\"dataframe\">\n",
       "<caption>A matrix: 3 × 3 of type dbl</caption>\n",
       "<thead>\n",
       "\t<tr><th></th><th scope=col>rpt_read_start_qual_antisense:yes</th><th scope=col>rpt_read_start_qual_antisense:background</th><th scope=col>total</th></tr>\n",
       "</thead>\n",
       "<tbody>\n",
       "\t<tr><th scope=row>target_subvec</th><td>15</td><td>197</td><td>212</td></tr>\n",
       "\t<tr><th scope=row>background_subvec</th><td>30</td><td>700</td><td>730</td></tr>\n",
       "\t<tr><th scope=row>total</th><td>45</td><td>897</td><td>942</td></tr>\n",
       "</tbody>\n",
       "</table>\n",
       "</dd>\n",
       "\t<dt>$pval</dt>\n",
       "\t\t<dd>0.0590870591143717</dd>\n",
       "</dl>\n"
      ],
      "text/latex": [
       "\\begin{description}\n",
       "\\item[\\$contingency\\_table] A matrix: 3 × 3 of type dbl\n",
       "\\begin{tabular}{r|lll}\n",
       "  & rpt\\_read\\_start\\_qual\\_antisense:yes & rpt\\_read\\_start\\_qual\\_antisense:background & total\\\\\n",
       "\\hline\n",
       "\ttarget\\_subvec & 15 & 197 & 212\\\\\n",
       "\tbackground\\_subvec & 30 & 700 & 730\\\\\n",
       "\ttotal & 45 & 897 & 942\\\\\n",
       "\\end{tabular}\n",
       "\n",
       "\\item[\\$pval] 0.0590870591143717\n",
       "\\end{description}\n"
      ],
      "text/markdown": [
       "$contingency_table\n",
       ":   \n",
       "A matrix: 3 × 3 of type dbl\n",
       "\n",
       "| <!--/--> | rpt_read_start_qual_antisense:yes | rpt_read_start_qual_antisense:background | total |\n",
       "|---|---|---|---|\n",
       "| target_subvec | 15 | 197 | 212 |\n",
       "| background_subvec | 30 | 700 | 730 |\n",
       "| total | 45 | 897 | 942 |\n",
       "\n",
       "\n",
       "$pval\n",
       ":   0.0590870591143717\n",
       "\n",
       "\n"
      ],
      "text/plain": [
       "$contingency_table\n",
       "                  rpt_read_start_qual_antisense:yes\n",
       "target_subvec                                    15\n",
       "background_subvec                                30\n",
       "total                                            45\n",
       "                  rpt_read_start_qual_antisense:background total\n",
       "target_subvec                                          197   212\n",
       "background_subvec                                      700   730\n",
       "total                                                  897   942\n",
       "\n",
       "$pval\n",
       "[1] 0.05908706\n"
      ]
     },
     "metadata": {},
     "output_type": "display_data"
    }
   ],
   "source": [
    "### Checking the \"within gene\" context in terms of reads starting (antisense) at the 5' repeat (qualitative)\n",
    "p = enrichAnalysis(df = sva_att_wide %>% filter(rpt_length_cat != \"no hex\") %>% filter(relative_to_gene != \"intergenic\") %>% filter(within_gene_simple != \"sense_and_antisense\"),\n",
    "               subvec = sva_att_wide %>% filter(rpt_length_cat != \"no hex\") %>% filter(relative_to_gene != \"intergenic\") %>% filter(within_gene_simple != \"sense_and_antisense\") %>% \n",
    "                                         filter(within_gene_simple == \"sense\") %>%\n",
    "                                         pull(name),\n",
    "               testcol = \"rpt_read_start_qual_antisense\",\n",
    "               lev = \"yes\",\n",
    "               mode = \"enrichment\")\n",
    "\n",
    "p\n",
    "\n",
    "p = p$pval %>%\n",
    "    format(scientific = T, digits = 2)"
   ]
  },
  {
   "cell_type": "code",
   "execution_count": null,
   "id": "c03b9ae3-84a7-4a6e-9f0c-bf1452bce506",
   "metadata": {
    "execution": {
     "iopub.execute_input": "2024-04-18T22:19:32.033181Z",
     "iopub.status.busy": "2024-04-18T22:19:32.031882Z",
     "iopub.status.idle": "2024-04-18T22:19:32.340075Z",
     "shell.execute_reply": "2024-04-18T22:19:32.338583Z"
    },
    "tags": [],
    "vscode": {
     "languageId": "r"
    }
   },
   "outputs": [],
   "source": [
    "options(repr.plot.height = 2.5, repr.plot.width = 7)\n",
    "sva_att_wide %>% \n",
    "  filter(rpt_length_cat != \"no hex\") %>% \n",
    "  filter(relative_to_gene != \"intergenic\") %>% \n",
    "  filter(within_gene_simple != \"sense_and_antisense\") %>% \n",
    "  group_by(within_gene_simple, rpt_read_start_qual_antisense) %>% \n",
    "  summarise(count = n()) %>% \n",
    "  ggplot(aes(x = count,\n",
    "             y = within_gene_simple,\n",
    "             fill = rpt_read_start_qual_antisense,\n",
    "             label = count)) +\n",
    "  geom_col(position = \"fill\") +\n",
    "  geom_label(position = \"fill\", show.legend = F) +  \n",
    "  # geom_label_repel(aes(label = count),\n",
    "  #                  position = \"fill\",\n",
    "  #                  show.legend = F,\n",
    "  #                  size = 4,\n",
    "  #                  label.padding = 0.125,\n",
    "  #                  label.r = 0.18,\n",
    "  #                  min.segment.length = 0,\n",
    "  #                  segment.colour = \"black\",\n",
    "  #                  color = \"black\") + \n",
    "  xlab(\"Relative frequency\") +\n",
    "  ylab(\"SVA 5' repeat length\") +\n",
    "  # labs(caption = paste0(\"Enrichment of Yes level among SVAs Antisense to genes; p = \", p)) +\n",
    "  scale_fill_tableau(palette = \"Color Blind\",name = \"Antisense long read starting at the 5' repeat\",\n",
    "                     labels = c(\"yes\" = \"Yes\",\n",
    "                                \"no\" = \"No\")) +\n",
    "  scale_y_discrete(name = \"Within gene context\",\n",
    "                   labels = c(\"sense\" = \"Sense\",\n",
    "                              \"antisense\" = \"Antisense\",\n",
    "                              \"sense_and_antisense\" = \"Sense/Antisense\"))"
   ]
  },
  {
   "cell_type": "markdown",
   "id": "48c5cc6e-3589-4eff-9af5-eed240af335d",
   "metadata": {
    "tags": []
   },
   "source": [
    "### Checking SVA type in terms of reads starting (sense) at the 5' repeat (qualitative)"
   ]
  },
  {
   "cell_type": "code",
   "execution_count": 82,
   "id": "0d3ee709-99b7-442e-a2d1-d09f27fa24f0",
   "metadata": {
    "execution": {
     "iopub.execute_input": "2024-04-18T22:19:32.347417Z",
     "iopub.status.busy": "2024-04-18T22:19:32.345974Z",
     "iopub.status.idle": "2024-04-18T22:19:32.397222Z",
     "shell.execute_reply": "2024-04-18T22:19:32.395669Z"
    },
    "tags": [],
    "vscode": {
     "languageId": "r"
    }
   },
   "outputs": [
    {
     "data": {
      "text/html": [
       "<dl>\n",
       "\t<dt>$contingency_table</dt>\n",
       "\t\t<dd><table class=\"dataframe\">\n",
       "<caption>A matrix: 3 × 3 of type dbl</caption>\n",
       "<thead>\n",
       "\t<tr><th></th><th scope=col>rpt_read_start_qual_sense:yes</th><th scope=col>rpt_read_start_qual_sense:background</th><th scope=col>total</th></tr>\n",
       "</thead>\n",
       "<tbody>\n",
       "\t<tr><th scope=row>target_subvec</th><td> 4</td><td> 277</td><td> 281</td></tr>\n",
       "\t<tr><th scope=row>background_subvec</th><td>10</td><td>1425</td><td>1435</td></tr>\n",
       "\t<tr><th scope=row>total</th><td>14</td><td>1702</td><td>1716</td></tr>\n",
       "</tbody>\n",
       "</table>\n",
       "</dd>\n",
       "\t<dt>$pval</dt>\n",
       "\t\t<dd>0.18432085675862</dd>\n",
       "</dl>\n"
      ],
      "text/latex": [
       "\\begin{description}\n",
       "\\item[\\$contingency\\_table] A matrix: 3 × 3 of type dbl\n",
       "\\begin{tabular}{r|lll}\n",
       "  & rpt\\_read\\_start\\_qual\\_sense:yes & rpt\\_read\\_start\\_qual\\_sense:background & total\\\\\n",
       "\\hline\n",
       "\ttarget\\_subvec &  4 &  277 &  281\\\\\n",
       "\tbackground\\_subvec & 10 & 1425 & 1435\\\\\n",
       "\ttotal & 14 & 1702 & 1716\\\\\n",
       "\\end{tabular}\n",
       "\n",
       "\\item[\\$pval] 0.18432085675862\n",
       "\\end{description}\n"
      ],
      "text/markdown": [
       "$contingency_table\n",
       ":   \n",
       "A matrix: 3 × 3 of type dbl\n",
       "\n",
       "| <!--/--> | rpt_read_start_qual_sense:yes | rpt_read_start_qual_sense:background | total |\n",
       "|---|---|---|---|\n",
       "| target_subvec |  4 |  277 |  281 |\n",
       "| background_subvec | 10 | 1425 | 1435 |\n",
       "| total | 14 | 1702 | 1716 |\n",
       "\n",
       "\n",
       "$pval\n",
       ":   0.18432085675862\n",
       "\n",
       "\n"
      ],
      "text/plain": [
       "$contingency_table\n",
       "                  rpt_read_start_qual_sense:yes\n",
       "target_subvec                                 4\n",
       "background_subvec                            10\n",
       "total                                        14\n",
       "                  rpt_read_start_qual_sense:background total\n",
       "target_subvec                                      277   281\n",
       "background_subvec                                 1425  1435\n",
       "total                                             1702  1716\n",
       "\n",
       "$pval\n",
       "[1] 0.1843209\n"
      ]
     },
     "metadata": {},
     "output_type": "display_data"
    }
   ],
   "source": [
    "### Checking SVA type in terms of reads starting (sense) at the 5' repeat (qualitative)\n",
    "p = enrichAnalysis(df = sva_att_wide %>% filter(rpt_length_cat != \"no hex\"),\n",
    "               subvec = sva_att_wide %>% filter(rpt_length_cat != \"no hex\") %>% \n",
    "                                         filter(sva_type == \"SVA_F\" |\n",
    "                                                sva_type == \"SVA_E\") %>%\n",
    "                                         pull(name),\n",
    "               testcol = \"rpt_read_start_qual_sense\",\n",
    "               lev = \"yes\",\n",
    "               mode = \"enrichment\")\n",
    "\n",
    "p\n",
    "\n",
    "p = p$pval %>%\n",
    "    format(scientific = T, digits = 2)"
   ]
  },
  {
   "cell_type": "code",
   "execution_count": null,
   "id": "a7faf09a-c6f6-48e4-a5b9-4bfc866159f9",
   "metadata": {
    "execution": {
     "iopub.execute_input": "2024-04-18T22:19:32.403764Z",
     "iopub.status.busy": "2024-04-18T22:19:32.402325Z",
     "iopub.status.idle": "2024-04-18T22:19:32.932615Z",
     "shell.execute_reply": "2024-04-18T22:19:32.931100Z"
    },
    "tags": [],
    "vscode": {
     "languageId": "r"
    }
   },
   "outputs": [],
   "source": [
    "options(repr.plot.height = 4, repr.plot.width = 6)\n",
    "sva_att_wide %>% \n",
    "  filter(rpt_length_cat != \"no hex\") %>% \n",
    "  group_by(sva_type, rpt_read_start_qual_sense) %>% \n",
    "  summarise(count = n()) %>% \n",
    "  ggplot(aes(x = count,\n",
    "             y = sva_type,\n",
    "             fill = rpt_read_start_qual_sense,\n",
    "             label = count)) +\n",
    "  geom_col(position = \"fill\") +\n",
    "  geom_label(position = \"fill\", show.legend = F) +  \n",
    "  # geom_label_repel(aes(label = count),\n",
    "  #                  position = \"fill\",\n",
    "  #                  show.legend = F,\n",
    "  #                  size = 4,\n",
    "  #                  label.padding = 0.125,\n",
    "  #                  label.r = 0.18,\n",
    "  #                  min.segment.length = 0,\n",
    "  #                  segment.colour = \"black\",\n",
    "  #                  color = \"black\") + \n",
    "  xlab(\"Relative frequency\") +\n",
    "  ylab(\"SVA Type\") +\n",
    "  labs(caption = paste0(\"Overrepresentation of Yes level among (SVA_E U SVA_F); p = \", p)) +\n",
    "  scale_fill_tableau(palette = \"Color Blind\",name = \"Sense long read starting at the 5' repeat\",\n",
    "                     labels = c(\"yes\" = \"Yes\",\n",
    "                                \"no\" = \"No\")) +\n",
    "  scale_y_discrete(limits = rev)"
   ]
  },
  {
   "cell_type": "markdown",
   "id": "98f254ed-3633-4544-8c2e-93ac0fd3e6c2",
   "metadata": {
    "tags": []
   },
   "source": [
    "### Checking SVA type in terms of reads starting (antisense) at the 5' repeat (qualitative)"
   ]
  },
  {
   "cell_type": "code",
   "execution_count": null,
   "id": "2b1b9498-8206-4ab9-95cd-b124f399a1e0",
   "metadata": {
    "execution": {
     "iopub.execute_input": "2024-04-18T22:19:32.939945Z",
     "iopub.status.busy": "2024-04-18T22:19:32.938661Z",
     "iopub.status.idle": "2024-04-18T22:19:33.282425Z",
     "shell.execute_reply": "2024-04-18T22:19:33.280712Z"
    },
    "tags": [],
    "vscode": {
     "languageId": "r"
    }
   },
   "outputs": [],
   "source": [
    "options(repr.plot.height = 4, repr.plot.width = 6)\n",
    "sva_att_wide %>% \n",
    "  filter(rpt_length_cat != \"no hex\") %>% \n",
    "  group_by(sva_type, rpt_read_start_qual_antisense) %>% \n",
    "  summarise(count = n()) %>% \n",
    "  ggplot(aes(x = count,\n",
    "             y = sva_type,\n",
    "             fill = rpt_read_start_qual_antisense,\n",
    "             label = count)) +\n",
    "  geom_col(position = \"fill\") +\n",
    "  geom_label(position = \"fill\", show.legend = F) +  \n",
    "  # geom_label_repel(aes(label = count),\n",
    "  #                  position = \"fill\",\n",
    "  #                  show.legend = F,\n",
    "  #                  size = 4,\n",
    "  #                  label.padding = 0.125,\n",
    "  #                  label.r = 0.18,\n",
    "  #                  min.segment.length = 0,\n",
    "  #                  segment.colour = \"black\",\n",
    "  #                  color = \"black\") + \n",
    "  xlab(\"Relative frequency\") +\n",
    "  ylab(\"SVA Type\") +\n",
    "  scale_fill_tableau(palette = \"Color Blind\",name = \"Antisense long read starting at the 5' repeat\",\n",
    "                     labels = c(\"yes\" = \"Yes\",\n",
    "                                \"no\" = \"No\")) +\n",
    "  scale_y_discrete(limits = rev)"
   ]
  },
  {
   "cell_type": "markdown",
   "id": "1b210c5a-bc8c-41a3-9d36-135bb057d02b",
   "metadata": {
    "tags": []
   },
   "source": [
    "### Checking repeat motif in terms of reads starting (sense) at the 5' repeat (qualitative)"
   ]
  },
  {
   "cell_type": "code",
   "execution_count": null,
   "id": "7a691cef-3933-4e92-a1a0-f4ae5a52c6a8",
   "metadata": {
    "execution": {
     "iopub.execute_input": "2024-04-18T22:19:33.289636Z",
     "iopub.status.busy": "2024-04-18T22:19:33.288391Z",
     "iopub.status.idle": "2024-04-18T22:19:34.064042Z",
     "shell.execute_reply": "2024-04-18T22:19:34.062186Z"
    },
    "tags": [],
    "vscode": {
     "languageId": "r"
    }
   },
   "outputs": [],
   "source": [
    "options(repr.plot.height = 8, repr.plot.width = 8)\n",
    "\n",
    "# getting simp motifs\n",
    "# with more than 50 observed entries\n",
    "motifs_thresholdCount = sva_att_wide %>% \n",
    "  filter(rpt_length_cat != \"no hex\") %>% \n",
    "  group_by(rpt_consensus_simp) %>% \n",
    "  summarise(count = n()) %>% \n",
    "  filter(count >= 50) %>% \n",
    "  pull(rpt_consensus_simp)\n",
    "\n",
    "sva_att_wide %>% \n",
    "  filter(rpt_length_cat != \"no hex\") %>% \n",
    "  group_by(rpt_consensus_simp, rpt_read_start_qual_sense) %>% \n",
    "  summarise(count = n()) %>% \n",
    "  # filter(rpt_consensus_simp %in% motifs_thresholdCount) %>% \n",
    "  ggplot(aes(x = count,\n",
    "             y = rpt_consensus_simp,\n",
    "             fill = rpt_read_start_qual_sense,\n",
    "             label = count)) +\n",
    "  geom_col(position = \"fill\") +\n",
    "  geom_label(position = \"fill\", show.legend = F) +  \n",
    "  # geom_label_repel(aes(label = count),\n",
    "  #                  position = \"fill\",\n",
    "  #                  show.legend = F,\n",
    "  #                  size = 4,\n",
    "  #                  label.padding = 0.125,\n",
    "  #                  label.r = 0.18,\n",
    "  #                  min.segment.length = 0,\n",
    "  #                  segment.colour = \"black\",\n",
    "  #                  color = \"black\") + \n",
    "  xlab(\"Relative frequency\") +\n",
    "  ylab(\"Repeat motif\") +\n",
    "  scale_fill_tableau(palette = \"Color Blind\",name = \"Sense long read starting at the 5' repeat\",\n",
    "                     labels = c(\"yes\" = \"Yes\",\n",
    "                                \"no\" = \"No\")) +\n",
    "  scale_y_discrete(limits = rev)"
   ]
  },
  {
   "cell_type": "markdown",
   "id": "60ce14a6-8efb-4ac7-a47d-94aa16cfd0f0",
   "metadata": {
    "tags": []
   },
   "source": [
    "### Checking repeat motif in terms of reads starting (sense) at the 5' repeat (qualitative)"
   ]
  },
  {
   "cell_type": "code",
   "execution_count": null,
   "id": "bed902e8-63c2-4a7b-8c0e-87e8fee661a6",
   "metadata": {
    "execution": {
     "iopub.execute_input": "2024-04-18T22:19:34.071693Z",
     "iopub.status.busy": "2024-04-18T22:19:34.070290Z",
     "iopub.status.idle": "2024-04-18T22:19:34.845180Z",
     "shell.execute_reply": "2024-04-18T22:19:34.843528Z"
    },
    "tags": [],
    "vscode": {
     "languageId": "r"
    }
   },
   "outputs": [],
   "source": [
    "options(repr.plot.height = 8, repr.plot.width = 8)\n",
    "\n",
    "# getting simp motifs\n",
    "# with more than 50 observed entries\n",
    "motifs_thresholdCount = sva_att_wide %>% \n",
    "  filter(rpt_length_cat != \"no hex\") %>% \n",
    "  group_by(rpt_consensus_simp) %>% \n",
    "  summarise(count = n()) %>% \n",
    "  filter(count >= 50) %>% \n",
    "  pull(rpt_consensus_simp)\n",
    "\n",
    "\n",
    "sva_att_wide %>% \n",
    "  filter(rpt_length_cat != \"no hex\") %>% \n",
    "  group_by(rpt_consensus_simp, rpt_read_start_qual_antisense) %>% \n",
    "  summarise(count = n()) %>% \n",
    "  # filter(rpt_consensus_simp %in% motifs_thresholdCount) %>% \n",
    "  ggplot(aes(x = count,\n",
    "             y = rpt_consensus_simp,\n",
    "             fill = rpt_read_start_qual_antisense,\n",
    "             label = count)) +\n",
    "  geom_col(position = \"fill\") +\n",
    "  geom_label(position = \"fill\", show.legend = F) +  \n",
    "  # geom_label_repel(aes(label = count),\n",
    "  #                  position = \"fill\",\n",
    "  #                  show.legend = F,\n",
    "  #                  size = 4,\n",
    "  #                  label.padding = 0.125,\n",
    "  #                  label.r = 0.18,\n",
    "  #                  min.segment.length = 0,\n",
    "  #                  segment.colour = \"black\",\n",
    "  #                  color = \"black\") + \n",
    "  xlab(\"Relative frequency\") +\n",
    "  ylab(\"Repeat motif\") +\n",
    "  scale_fill_tableau(palette = \"Color Blind\",name = \"Antisense long read starting at the 5' repeat\",\n",
    "                     labels = c(\"yes\" = \"Yes\",\n",
    "                                \"no\" = \"No\")) +\n",
    "  scale_y_discrete(limits = rev)"
   ]
  },
  {
   "cell_type": "markdown",
   "id": "a742d35f-1f30-434f-9024-c6cf776252a6",
   "metadata": {
    "tags": []
   },
   "source": [
    "## Other plots"
   ]
  },
  {
   "cell_type": "code",
   "execution_count": 87,
   "id": "477d25c4-99e0-4b1b-a9c2-6dcf60de5df5",
   "metadata": {
    "execution": {
     "iopub.execute_input": "2024-04-18T22:19:34.853168Z",
     "iopub.status.busy": "2024-04-18T22:19:34.851959Z",
     "iopub.status.idle": "2024-04-18T22:19:36.570311Z",
     "shell.execute_reply": "2024-04-18T22:19:36.568826Z"
    },
    "tags": [],
    "vscode": {
     "languageId": "r"
    }
   },
   "outputs": [
    {
     "name": "stderr",
     "output_type": "stream",
     "text": [
      "\u001b[1m\u001b[22m`summarise()` has grouped output by 'has_rpt'. You can override using the\n",
      "`.groups` argument.\n",
      "\u001b[1m\u001b[22m`summarise()` has grouped output by 'relative_to_gene'. You can override using\n",
      "the `.groups` argument.\n",
      "\u001b[1m\u001b[22m`summarise()` has grouped output by 'relative_to_gene'. You can override using\n",
      "the `.groups` argument.\n",
      "Warning message:\n",
      "“Removed 438 rows containing non-finite values (stat_boxplot).”\n",
      "Warning message:\n",
      "“Removed 438 rows containing missing values (position_quasirandom).”\n"
     ]
    }
   ],
   "source": [
    "# getting knowledge on length\n",
    "# of SVAs and repeats\n",
    "# how many SVAs have\n",
    "# repeats at the five \n",
    "# prime end?\n",
    "# all\n",
    "plots = list()\n",
    "\n",
    "sva_types = paste0(\"SVA_\", LETTERS[1:6])\n",
    "sva_types_rev = rev(sva_types)\n",
    "\n",
    "plots_sva_att_has_rpt_all = sva_att_wide %>% \n",
    "    group_by(has_rpt) %>% \n",
    "    summarise(n = n()) %>% \n",
    "    ggplot(aes(y = n,\n",
    "               x = factor(x = has_rpt,\n",
    "                          levels = c(\"no\", \"yes\"),\n",
    "                          labels = c(\"No\", \"Yes\")),\n",
    "               label = n)) +\n",
    "    geom_col(color = \"black\") +\n",
    "    xlab(\"Presence of 5' repeat\") +\n",
    "    ylab(\"Frequency\") +\n",
    "    geom_label(nudge_y = -200) +\n",
    "    theme_pubr()\n",
    "\n",
    "# by SVA type\n",
    "plots_sva_att_has_rpt_by_sva = sva_att_wide %>% \n",
    "    group_by(has_rpt, sva_type) %>% \n",
    "    summarise(n = n()) %>% \n",
    "    ggplot(aes(y = n,\n",
    "               x = factor(x = has_rpt,\n",
    "                          levels = c(\"no\", \"yes\"),\n",
    "                          labels = c(\"No\", \"Yes\")),\n",
    "               label = n,\n",
    "               fill = factor(x = sva_type,\n",
    "                             levels = sva_types,\n",
    "                             labels = str_replace(sva_types, \"_\", \" \")))) +\n",
    "    geom_col(color = \"black\",\n",
    "             position = \"dodge\",\n",
    "             show.legend = F) +\n",
    "    facet_wrap(~ factor(x = sva_type,\n",
    "                             levels = sva_types,\n",
    "                             labels = str_replace(sva_types, \"_\", \" \"))) +\n",
    "    xlab(\"Presence of 5' repeat\") +\n",
    "    ylab(\"Frequency\") +\n",
    "    geom_label(nudge_y = 100, show.legend = F, fill = \"white\") +\n",
    "    scale_fill_tableau(palette = \"Color Blind\") +\n",
    "    theme_pubr()\n",
    "\n",
    "# getting insights into\n",
    "# sva length\n",
    "plots_sva_att_sva_length = sva_att_wide %>% \n",
    "    ggplot(aes(y = sva_length,\n",
    "               x = factor(x = has_rpt,\n",
    "                          levels = c(\"no\", \"yes\"),\n",
    "                          labels = c(\"No\", \"Yes\")),\n",
    "               fill = factor(x = sva_type,\n",
    "                             levels = sva_types,\n",
    "                             labels = str_replace(sva_types, \"_\", \" \")))) +\n",
    "    geom_boxplot(outlier.shape = NA,\n",
    "                 show.legend = F) +\n",
    "    geom_quasirandom(size = 0.2, alpha = 0.5,\n",
    "                     show.legend = F) +\n",
    "    xlab(\"Presence of 5' repeat\") +\n",
    "    ylab(\"SVA length\") +\n",
    "    facet_wrap(~ factor(x = sva_type,\n",
    "                             levels = sva_types,\n",
    "                             labels = str_replace(sva_types, \"_\", \" \"))) +\n",
    "    scale_fill_tableau(palette = \"Color Blind\") +\n",
    "    theme_pubr()\n",
    "\n",
    "# sva counts\n",
    "# relative to gene\n",
    "plots_sva_att_sva_length_rel2gene = sva_att_wide %>%\n",
    "    group_by(relative_to_gene, sva_type) %>% \n",
    "    summarise(n = n()) %>% \n",
    "    ggplot(aes(y = n,\n",
    "               x = factor(x = relative_to_gene,\n",
    "                          levels = c(\"sense\", \"antisense\",\n",
    "                                     \"sense_and_antisense\",\n",
    "                                     \"intergenic\"),\n",
    "                          labels = c(\"Sense\", \"Antisense\",\n",
    "                                     \"Sense/Antisense\",\n",
    "                                     \"Intergenic\")),\n",
    "               fill = factor(x = sva_type,\n",
    "                             levels = sva_types,\n",
    "                             labels = str_replace(sva_types, \"_\", \" \")),\n",
    "               label = n)) +\n",
    "        geom_col(color = \"black\",\n",
    "                 position = \"dodge\") +\n",
    "        xlab(\"Position of SVA relative to gene\") +\n",
    "        ylab(\"Frequency\") +\n",
    "        scale_fill_tableau(palette = \"Color Blind\",name = \"SVA type\") +\n",
    "        theme_pubr(x.text.angle = 25)\n",
    "\n",
    "# relative to gene (alternative version)\n",
    "plots_sva_att_sva_length_rel2gene_alt = sva_att_wide %>%\n",
    "    group_by(relative_to_gene, sva_type) %>% \n",
    "    summarise(n = n()) %>% \n",
    "    ggplot(aes(y = n,\n",
    "               x = factor(x = sva_type,\n",
    "                              levels = sva_types_rev,\n",
    "                              labels = str_replace(sva_types_rev, \"_\", \" \")),\n",
    "               fill = factor(x = relative_to_gene,\n",
    "                          levels = c(\"sense\", \"antisense\",\n",
    "                                     \"sense_and_antisense\",\n",
    "                                     \"intergenic\"),\n",
    "                          labels = c(\"Sense\", \"Antisense\",\n",
    "                                     \"Sense/Antisense\",\n",
    "                                     \"Intergenic\")),\n",
    "               label = n)) +\n",
    "        geom_col(color = \"black\",\n",
    "                 position = \"dodge\") +\n",
    "        xlab(\"SVA type\") +\n",
    "        ylab(\"Frequency\") +\n",
    "        coord_flip() +\n",
    "        scale_fill_tableau(palette = \"Color Blind\",name = \"Relative to gene\") +\n",
    "        theme_pubr()\n",
    "\n",
    "# getting insights into\n",
    "# width of repeat\n",
    "plots_sva_att_repeat_width_abs = sva_att_wide %>% \n",
    "    ggplot(aes(x = factor(x = sva_type,\n",
    "                          levels = sva_types_rev,\n",
    "                          labels = str_replace(sva_types_rev, \"_\", \" \")),\n",
    "               y = rpt_length,\n",
    "               fill = sva_type)) +\n",
    "    geom_boxplot(outlier.shape = NA,\n",
    "                 show.legend = F) +\n",
    "    geom_quasirandom(size = 0.2, alpha = 0.5,\n",
    "                     show.legend = F) +\n",
    "    geom_hline(yintercept = 72, linetype = 2, size = 0.5) +\n",
    "    geom_hline(yintercept = 30*6, linetype = 2, size = 0.5, color = \"red\") +\n",
    "    geom_hline(yintercept = 57*6, linetype = 2, size = 0.5, color = \"red\") +\n",
    "    ylab(\"5' repeat length\") +\n",
    "    xlab(\"SVA type\") +\n",
    "    scale_fill_tableau(palette = \"Color Blind\") +\n",
    "    coord_flip() +\n",
    "    theme_pubr()\n",
    "    \n",
    "# getting insights on\n",
    "# coverage and repeat width\n",
    "plots_sva_repeatLengthExpression = sva_att_wide %>% \n",
    "    ggplot(aes(y = rpt_length,\n",
    "               x = expressed)) +\n",
    "    geom_boxplot(outlier.shape = NA) +\n",
    "    geom_quasirandom(size = 0.2, alpha = 0.5,\n",
    "                     show.legend = F) +\n",
    "    facet_wrap(~ relative_to_gene)\n",
    "\n",
    "# coverage and location\n",
    "# relative to gene\n",
    "# as a panel\n",
    "plots_sva_att_panel = ggarrange(plotlist = list(plots_sva_att_has_rpt_by_sva,\n",
    "                                                plots_sva_att_sva_length,\n",
    "                                                plots_sva_att_repeat_width_abs,\n",
    "                                                plots_sva_att_sva_length_rel2gene),\n",
    "                                ncol = 2, nrow = 2)"
   ]
  },
  {
   "cell_type": "code",
   "execution_count": 88,
   "id": "70d113c8-c5be-4701-bd09-af69b30acbba",
   "metadata": {
    "execution": {
     "iopub.execute_input": "2024-04-18T22:19:36.577028Z",
     "iopub.status.busy": "2024-04-18T22:19:36.575649Z",
     "iopub.status.idle": "2024-04-18T22:19:36.586679Z",
     "shell.execute_reply": "2024-04-18T22:19:36.585178Z"
    },
    "tags": [],
    "vscode": {
     "languageId": "r"
    }
   },
   "outputs": [],
   "source": [
    "# # checking quantitative expression\n",
    "# # in terms of rpt length\n",
    "# options(repr.plot.height = 3, repr.plot.width = 6)\n",
    "# sva_att_long %>% \n",
    "#   mutate(coverage_orientation = case_when(is.na(coverage_orientation) ~ \"not transcribed\",\n",
    "#                                           TRUE ~ coverage_orientation)) %>% \n",
    "#   ggplot(aes(y = counts,\n",
    "#              x = rpt_length,\n",
    "#              color = coverage_orientation)) +\n",
    "#   geom_point(alpha = 0.5) +\n",
    "#   geom_smooth(method = \"lm\") +\n",
    "#   stat_cor() +\n",
    "#   scale_color_tableau(palette = \"Color Blind\")\n",
    "\n",
    "# options(repr.plot.height = 8, repr.plot.width = 10)\n",
    "# sva_att_long %>% \n",
    "#   mutate(coverage_orientation = case_when(is.na(coverage_orientation) ~ \"not transcribed\",\n",
    "#                                           TRUE ~ coverage_orientation)) %>% \n",
    "#   ggplot(aes(y = counts,\n",
    "#              x = rpt_length,\n",
    "#              color = coverage_orientation)) +\n",
    "#   geom_point(alpha = 0.5) +\n",
    "#   geom_smooth(method = \"lm\") +\n",
    "#   stat_cor() +\n",
    "#   facet_wrap(~ sva_type) +\n",
    "#   scale_color_tableau(palette = \"Color Blind\")"
   ]
  },
  {
   "cell_type": "markdown",
   "id": "58c600bf-79fb-46b3-9293-528a5ba8cb0f",
   "metadata": {
    "tags": []
   },
   "source": [
    "### Trying to see all SVAs with categorical variables at once (deprecated)"
   ]
  },
  {
   "cell_type": "code",
   "execution_count": 89,
   "id": "cd86bcd0-4fa8-4a12-9599-6a5dde59d58d",
   "metadata": {
    "execution": {
     "iopub.execute_input": "2024-04-18T22:19:36.592686Z",
     "iopub.status.busy": "2024-04-18T22:19:36.591441Z",
     "iopub.status.idle": "2024-04-18T22:19:36.601396Z",
     "shell.execute_reply": "2024-04-18T22:19:36.599899Z"
    },
    "tags": [],
    "vscode": {
     "languageId": "r"
    }
   },
   "outputs": [],
   "source": [
    "## requires:\n",
    "# conda install -c conda-forge r-htmltools\n",
    "# conda install -c conda-forge r-d3r\n",
    "# conda install -c r r-htmlwidgets \n",
    "# conda install -c pcgr r-sunburstr \n",
    "# conda install -c erblast r-easyalluvial \n",
    "\n",
    "# options(repr.plot.height = 12, repr.plot.width = 10)\n",
    "\n",
    "# sva_att_wide %>% \n",
    "#     dplyr::select(name, sva_type, rpt_length_cat, relative_to_gene, rpt_read_start_qual_antisense) %>% \n",
    "#     mutate(\n",
    "#         # has_rpt = factor(has_rpt, levels = c(\"yes\", \"no\")),\n",
    "#         rpt_length_cat = factor(rpt_length_cat, levels = c(\">= 150 bp\", \"120:149 bp\", \"90:119 bp\", \"60:89 bp\", \"30:59 bp\", \"< 30 bp\", \"no hex\")),\n",
    "#         relative_to_gene = factor(relative_to_gene, levels = c(\"intergenic\", \"within_gene\")),\n",
    "#         rpt_read_start_qual_antisense = factor(rpt_read_start_qual_antisense, levels = c(\"no\", \"yes\"))\n",
    "#     ) %>% \n",
    "    # alluvial_wide(data = ., id = name)"
   ]
  },
  {
   "cell_type": "code",
   "execution_count": 90,
   "id": "862861ef-6163-4e56-8587-d871e72a234e",
   "metadata": {
    "execution": {
     "iopub.execute_input": "2024-04-18T22:19:36.607149Z",
     "iopub.status.busy": "2024-04-18T22:19:36.605954Z",
     "iopub.status.idle": "2024-04-18T22:19:36.615669Z",
     "shell.execute_reply": "2024-04-18T22:19:36.614131Z"
    },
    "tags": [],
    "vscode": {
     "languageId": "r"
    }
   },
   "outputs": [],
   "source": [
    "# tree = sva_att_wide %>% \n",
    "#     dplyr::select(name, sva_type, rpt_length_cat, relative_to_gene, rpt_read_start_qual_antisense) %>% \n",
    "#     group_by(sva_type, rpt_length_cat, relative_to_gene, rpt_read_start_qual_antisense) %>% \n",
    "#     summarise(count = n())\n",
    "\n",
    "# colnames(tree) = c(paste0(\"level\", 1:4), \"size\")\n",
    "# tree = d3r::d3_nest(tree, value_cols = \"size\")\n",
    "\n",
    "# sb1 = sunburst(tree, width=\"100%\", height=400)\n",
    "# sb2 = sund2b(tree, width=\"100%\")\n",
    "\n",
    "# htmltools::div(\n",
    "#   style=\"display: flex; align-items:center;\",\n",
    "#   sb2\n",
    "# )\n",
    "\n",
    "# htmlwidgets::saveWidget(widget = sb2, file = \"sb2.html\")"
   ]
  },
  {
   "cell_type": "markdown",
   "id": "ca8974f2-0000-44b5-85ff-502a780252c3",
   "metadata": {},
   "source": [
    "Maybe logistic regression to train a model with antisense transcription state as the outcome? Then find if XDP SVA is likely to manifestate antisense transcription? Decision tree? Random forest?"
   ]
  },
  {
   "cell_type": "markdown",
   "id": "a8ecb062-3bc5-4d41-8dee-ed1be20ca3f4",
   "metadata": {
    "tags": []
   },
   "source": [
    "## Sanity check using IGV (just for dev)"
   ]
  },
  {
   "cell_type": "code",
   "execution_count": 91,
   "id": "6799e741-16a0-4c56-82bc-cfa78135aeed",
   "metadata": {
    "execution": {
     "iopub.execute_input": "2024-04-18T22:19:36.621976Z",
     "iopub.status.busy": "2024-04-18T22:19:36.620548Z",
     "iopub.status.idle": "2024-04-18T22:19:36.630628Z",
     "shell.execute_reply": "2024-04-18T22:19:36.629333Z"
    },
    "tags": [],
    "vscode": {
     "languageId": "r"
    }
   },
   "outputs": [],
   "source": [
    "# # a case example to test\n",
    "# # if the approach is working\n",
    "# # I visually inspected it\n",
    "# # orthogonally by using IGV\n",
    "# colnames = c(\"sample\",\n",
    "#              \"coverage_type\",\n",
    "#              \"coverage_orientation\",\n",
    "#              \"strand\",\n",
    "#              \"sva_name\",\n",
    "#              \"sva_type\",\n",
    "#              \"coordinate\",\n",
    "#              \"counts\")\n",
    "\n",
    "# svad = read_tsv(file = \"full_tidy_tib.tsv\",\n",
    "#                 col_names = colnames) %>% \n",
    "#     filter(sva_name == \"chr12:48915111:48916659:-:SVA_D\" |\n",
    "#            sva_name == \"chr20:34657952:34660068:+:SVA_D\")\n",
    "\n",
    "# svad_adj = svad %>% \n",
    "#     chop_coords(tib = .,\n",
    "#                 left = -100,\n",
    "#                 right = 100) %>% \n",
    "#     mutate(counts = case_when(coverage_orientation == \"antisense\" ~ counts * -1,\n",
    "#                                TRUE ~ counts)) %>% \n",
    "#     filter(sample == \"ENCFF963DJZ\") %>% \n",
    "#     group_by(sample,\n",
    "#              coverage_type,\n",
    "#              coverage_orientation,\n",
    "#              sva_type,\n",
    "#              coordinate) %>% \n",
    "#     summarise(counts = sum(counts, na.rm = T)) %>% \n",
    "#     filter(counts != 0)"
   ]
  },
  {
   "cell_type": "markdown",
   "id": "9055c1d3-e364-43fa-8a2b-8ee66084dbd8",
   "metadata": {
    "tags": []
   },
   "source": [
    "# Session info"
   ]
  },
  {
   "cell_type": "code",
   "execution_count": 92,
   "id": "2f4bda88-5f52-4b4c-bfae-a7f2663cbf6d",
   "metadata": {
    "execution": {
     "iopub.execute_input": "2024-04-18T22:19:36.636520Z",
     "iopub.status.busy": "2024-04-18T22:19:36.635315Z",
     "iopub.status.idle": "2024-04-18T22:19:36.690155Z",
     "shell.execute_reply": "2024-04-18T22:19:36.688432Z"
    },
    "vscode": {
     "languageId": "r"
    }
   },
   "outputs": [
    {
     "data": {
      "text/plain": [
       "R version 4.1.3 (2022-03-10)\n",
       "Platform: x86_64-conda-linux-gnu (64-bit)\n",
       "Running under: Arch Linux\n",
       "\n",
       "Matrix products: default\n",
       "BLAS/LAPACK: /ceph/users/alorenzetti/conda/shared_envs/sva_expression_brain_longr_qvm2_env_r/lib/libopenblasp-r0.3.21.so\n",
       "\n",
       "locale:\n",
       " [1] LC_CTYPE=en_US.UTF-8       LC_NUMERIC=C              \n",
       " [3] LC_TIME=en_US.UTF-8        LC_COLLATE=en_US.UTF-8    \n",
       " [5] LC_MONETARY=en_US.UTF-8    LC_MESSAGES=en_US.UTF-8   \n",
       " [7] LC_PAPER=en_US.UTF-8       LC_NAME=C                 \n",
       " [9] LC_ADDRESS=C               LC_TELEPHONE=C            \n",
       "[11] LC_MEASUREMENT=en_US.UTF-8 LC_IDENTIFICATION=C       \n",
       "\n",
       "attached base packages:\n",
       "[1] grid      stats4    stats     graphics  grDevices utils     datasets \n",
       "[8] methods   base     \n",
       "\n",
       "other attached packages:\n",
       " [1] MASS_7.3-58.1         circlize_0.4.15       ComplexHeatmap_2.10.0\n",
       " [4] ggrepel_0.9.2         ggbeeswarm_0.6.0      BSgenome_1.62.0      \n",
       " [7] rtracklayer_1.54.0    GenomicRanges_1.46.1  Biostrings_2.62.0    \n",
       "[10] GenomeInfoDb_1.30.0   XVector_0.34.0        IRanges_2.28.0       \n",
       "[13] S4Vectors_0.32.4      BiocGenerics_0.40.0   viridis_0.6.2        \n",
       "[16] viridisLite_0.4.1     svglite_2.1.0         ggthemes_4.2.4       \n",
       "[19] ggpubr_0.4.0          forcats_0.5.2         stringr_1.4.1        \n",
       "[22] dplyr_1.0.10          purrr_0.3.4           readr_2.1.2          \n",
       "[25] tidyr_1.2.1           tibble_3.1.8          ggplot2_3.3.6        \n",
       "[28] tidyverse_1.3.2      \n",
       "\n",
       "loaded via a namespace (and not attached):\n",
       "  [1] googledrive_2.0.0           colorspace_2.0-3           \n",
       "  [3] ggsignif_0.6.3              rjson_0.2.21               \n",
       "  [5] ellipsis_0.3.2              IRdisplay_1.1              \n",
       "  [7] GlobalOptions_0.1.2         base64enc_0.1-3            \n",
       "  [9] fs_1.5.2                    clue_0.3-64                \n",
       " [11] farver_2.1.1                bit64_4.0.5                \n",
       " [13] fansi_1.0.3                 lubridate_1.8.0            \n",
       " [15] xml2_1.3.3                  codetools_0.2-18           \n",
       " [17] doParallel_1.0.17           IRkernel_1.3               \n",
       " [19] jsonlite_1.8.0              Rsamtools_2.10.0           \n",
       " [21] broom_1.0.1                 cluster_2.1.4              \n",
       " [23] dbplyr_2.2.1                png_0.1-8                  \n",
       " [25] compiler_4.1.3              httr_1.4.4                 \n",
       " [27] backports_1.4.1             assertthat_0.2.1           \n",
       " [29] Matrix_1.4-1                fastmap_1.1.0              \n",
       " [31] gargle_1.2.1                cli_3.4.0                  \n",
       " [33] htmltools_0.5.4             tools_4.1.3                \n",
       " [35] gtable_0.3.1                glue_1.6.2                 \n",
       " [37] GenomeInfoDbData_1.2.7      Rcpp_1.0.9                 \n",
       " [39] carData_3.0-5               Biobase_2.54.0             \n",
       " [41] cellranger_1.1.0            vctrs_0.4.1                \n",
       " [43] iterators_1.0.14            rvest_1.0.3                \n",
       " [45] lifecycle_1.0.2             restfulr_0.0.15            \n",
       " [47] rstatix_0.7.0               XML_3.99-0.10              \n",
       " [49] googlesheets4_1.0.1         zlibbioc_1.40.0            \n",
       " [51] scales_1.2.1                vroom_1.5.7                \n",
       " [53] hms_1.1.2                   MatrixGenerics_1.6.0       \n",
       " [55] parallel_4.1.3              SummarizedExperiment_1.24.0\n",
       " [57] RColorBrewer_1.1-3          yaml_2.3.5                 \n",
       " [59] gridExtra_2.3               stringi_1.7.8              \n",
       " [61] BiocIO_1.4.0                foreach_1.5.2              \n",
       " [63] BiocParallel_1.28.3         shape_1.4.6                \n",
       " [65] repr_1.1.4                  rlang_1.0.5                \n",
       " [67] pkgconfig_2.0.3             systemfonts_1.0.4          \n",
       " [69] bitops_1.0-7                matrixStats_0.62.0         \n",
       " [71] evaluate_0.16               lattice_0.20-45            \n",
       " [73] labeling_0.4.2              GenomicAlignments_1.30.0   \n",
       " [75] cowplot_1.1.1               bit_4.0.4                  \n",
       " [77] tidyselect_1.1.2            magrittr_2.0.3             \n",
       " [79] R6_2.5.1                    generics_0.1.3             \n",
       " [81] pbdZMQ_0.3-7                DelayedArray_0.20.0        \n",
       " [83] DBI_1.1.3                   pillar_1.8.1               \n",
       " [85] haven_2.5.0                 withr_2.5.0                \n",
       " [87] abind_1.4-5                 RCurl_1.98-1.8             \n",
       " [89] modelr_0.1.9                crayon_1.5.1               \n",
       " [91] car_3.1-0                   uuid_1.1-0                 \n",
       " [93] utf8_1.2.2                  tzdb_0.3.0                 \n",
       " [95] GetoptLong_1.0.5            readxl_1.4.1               \n",
       " [97] reprex_2.0.2                digest_0.6.29              \n",
       " [99] munsell_0.5.0               beeswarm_0.4.0             \n",
       "[101] vipor_0.4.5                "
      ]
     },
     "metadata": {},
     "output_type": "display_data"
    }
   ],
   "source": [
    "sessionInfo()"
   ]
  }
 ],
 "metadata": {
  "kernelspec": {
   "display_name": "R sva_expression_brain_longr_qvm2_env_r",
   "language": "R",
   "name": "sva_expression_brain_longr_qvm2_env_r"
  },
  "language_info": {
   "codemirror_mode": "r",
   "file_extension": ".r",
   "mimetype": "text/x-r-source",
   "name": "R",
   "pygments_lexer": "r",
   "version": "4.1.3"
  }
 },
 "nbformat": 4,
 "nbformat_minor": 5
}
