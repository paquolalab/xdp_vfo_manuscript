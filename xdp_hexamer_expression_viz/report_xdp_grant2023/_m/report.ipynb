{
 "cells": [
  {
   "cell_type": "markdown",
   "id": "d66a1c03-1a3f-4e78-9997-31506d53c3a8",
   "metadata": {
    "tags": []
   },
   "source": [
    "# Table of Contents\n",
    "\n",
    "* [Introduction](#Introduction)\n",
    "* [Analysis](#Analysis)\n",
    "* [Report](#Report)\n",
    "\n",
    "# Introduction\n",
    "\n",
    "Author: Alan Lorenzetti  \n",
    "Date: 03/28/2023  \n",
    "\n",
    "This script will plot reads aligning to the XDP-SVA hexamer region obtained by a previous analysis. See path below:"
   ]
  },
  {
   "cell_type": "code",
   "execution_count": 1,
   "id": "25202b77-4dd0-4579-a0ba-1c17f51a4f40",
   "metadata": {
    "execution": {
     "iopub.execute_input": "2024-04-17T22:14:44.860284Z",
     "iopub.status.busy": "2024-04-17T22:14:44.854922Z",
     "iopub.status.idle": "2024-04-17T22:14:45.122367Z",
     "shell.execute_reply": "2024-04-17T22:14:45.117394Z"
    },
    "jp-MarkdownHeadingCollapsed": true,
    "tags": [],
    "vscode": {
     "languageId": "r"
    }
   },
   "outputs": [],
   "source": [
    "# /ceph/projects/xdp_striatal_organoids_RNA-seq/hisat2_with_xdp_sva_filter/proper_pairs_overlapping_SVA_5prime/_m/main.html"
   ]
  },
  {
   "cell_type": "markdown",
   "id": "bd0a933d-447c-434c-873d-eb8655c17a57",
   "metadata": {
    "tags": []
   },
   "source": [
    "# Analysis"
   ]
  },
  {
   "cell_type": "code",
   "execution_count": 2,
   "id": "b2134235",
   "metadata": {
    "execution": {
     "iopub.execute_input": "2024-04-17T22:14:45.199203Z",
     "iopub.status.busy": "2024-04-17T22:14:45.133404Z",
     "iopub.status.idle": "2024-04-17T22:15:15.553359Z",
     "shell.execute_reply": "2024-04-17T22:15:15.551123Z"
    },
    "tags": [],
    "vscode": {
     "languageId": "r"
    }
   },
   "outputs": [
    {
     "name": "stderr",
     "output_type": "stream",
     "text": [
      "Loading required package: tidyverse\n",
      "\n",
      "── \u001b[1mAttaching core tidyverse packages\u001b[22m ──────────────────────── tidyverse 2.0.0 ──\n",
      "\u001b[32m✔\u001b[39m \u001b[34mdplyr    \u001b[39m 1.1.1     \u001b[32m✔\u001b[39m \u001b[34mreadr    \u001b[39m 2.1.4\n",
      "\u001b[32m✔\u001b[39m \u001b[34mforcats  \u001b[39m 1.0.0     \u001b[32m✔\u001b[39m \u001b[34mstringr  \u001b[39m 1.5.0\n",
      "\u001b[32m✔\u001b[39m \u001b[34mggplot2  \u001b[39m 3.4.1     \u001b[32m✔\u001b[39m \u001b[34mtibble   \u001b[39m 3.2.1\n",
      "\u001b[32m✔\u001b[39m \u001b[34mlubridate\u001b[39m 1.9.2     \u001b[32m✔\u001b[39m \u001b[34mtidyr    \u001b[39m 1.3.0\n",
      "\u001b[32m✔\u001b[39m \u001b[34mpurrr    \u001b[39m 1.0.1     \n",
      "── \u001b[1mConflicts\u001b[22m ────────────────────────────────────────── tidyverse_conflicts() ──\n",
      "\u001b[31m✖\u001b[39m \u001b[34mdplyr\u001b[39m::\u001b[32mfilter()\u001b[39m masks \u001b[34mstats\u001b[39m::filter()\n",
      "\u001b[31m✖\u001b[39m \u001b[34mdplyr\u001b[39m::\u001b[32mlag()\u001b[39m    masks \u001b[34mstats\u001b[39m::lag()\n",
      "\u001b[36mℹ\u001b[39m Use the conflicted package (\u001b[3m\u001b[34m<http://conflicted.r-lib.org/>\u001b[39m\u001b[23m) to force all conflicts to become errors\n",
      "Loading required package: viridis\n",
      "\n",
      "Loading required package: viridisLite\n",
      "\n",
      "Loading required package: ggpubr\n",
      "\n",
      "Loading required package: ggthemes\n",
      "\n",
      "Loading required package: Gviz\n",
      "\n",
      "Loading required package: S4Vectors\n",
      "\n",
      "Loading required package: stats4\n",
      "\n",
      "Loading required package: BiocGenerics\n",
      "\n",
      "\n",
      "Attaching package: ‘BiocGenerics’\n",
      "\n",
      "\n",
      "The following objects are masked from ‘package:lubridate’:\n",
      "\n",
      "    intersect, setdiff, union\n",
      "\n",
      "\n",
      "The following objects are masked from ‘package:dplyr’:\n",
      "\n",
      "    combine, intersect, setdiff, union\n",
      "\n",
      "\n",
      "The following objects are masked from ‘package:stats’:\n",
      "\n",
      "    IQR, mad, sd, var, xtabs\n",
      "\n",
      "\n",
      "The following objects are masked from ‘package:base’:\n",
      "\n",
      "    anyDuplicated, aperm, append, as.data.frame, basename, cbind,\n",
      "    colnames, dirname, do.call, duplicated, eval, evalq, Filter, Find,\n",
      "    get, grep, grepl, intersect, is.unsorted, lapply, Map, mapply,\n",
      "    match, mget, order, paste, pmax, pmax.int, pmin, pmin.int,\n",
      "    Position, rank, rbind, Reduce, rownames, sapply, setdiff, sort,\n",
      "    table, tapply, union, unique, unsplit, which.max, which.min\n",
      "\n",
      "\n",
      "\n",
      "Attaching package: ‘S4Vectors’\n",
      "\n",
      "\n",
      "The following objects are masked from ‘package:lubridate’:\n",
      "\n",
      "    second, second<-\n",
      "\n",
      "\n",
      "The following objects are masked from ‘package:dplyr’:\n",
      "\n",
      "    first, rename\n",
      "\n",
      "\n",
      "The following object is masked from ‘package:tidyr’:\n",
      "\n",
      "    expand\n",
      "\n",
      "\n",
      "The following objects are masked from ‘package:base’:\n",
      "\n",
      "    expand.grid, I, unname\n",
      "\n",
      "\n",
      "Loading required package: IRanges\n",
      "\n",
      "\n",
      "Attaching package: ‘IRanges’\n",
      "\n",
      "\n",
      "The following object is masked from ‘package:lubridate’:\n",
      "\n",
      "    %within%\n",
      "\n",
      "\n",
      "The following objects are masked from ‘package:dplyr’:\n",
      "\n",
      "    collapse, desc, slice\n",
      "\n",
      "\n",
      "The following object is masked from ‘package:purrr’:\n",
      "\n",
      "    reduce\n",
      "\n",
      "\n",
      "Loading required package: GenomicRanges\n",
      "\n",
      "Loading required package: GenomeInfoDb\n",
      "\n",
      "Loading required package: grid\n",
      "\n",
      "Loading required package: BSgenome\n",
      "\n",
      "Loading required package: Biostrings\n",
      "\n",
      "Loading required package: XVector\n",
      "\n",
      "\n",
      "Attaching package: 'XVector'\n",
      "\n",
      "\n",
      "The following object is masked from 'package:purrr':\n",
      "\n",
      "    compact\n",
      "\n",
      "\n",
      "\n",
      "Attaching package: 'Biostrings'\n",
      "\n",
      "\n",
      "The following object is masked from 'package:grid':\n",
      "\n",
      "    pattern\n",
      "\n",
      "\n",
      "The following object is masked from 'package:base':\n",
      "\n",
      "    strsplit\n",
      "\n",
      "\n",
      "Loading required package: rtracklayer\n",
      "\n",
      "Loading required package: plyranges\n",
      "\n",
      "\n",
      "Attaching package: 'plyranges'\n",
      "\n",
      "\n",
      "The following object is masked from 'package:XVector':\n",
      "\n",
      "    slice\n",
      "\n",
      "\n",
      "The following object is masked from 'package:IRanges':\n",
      "\n",
      "    slice\n",
      "\n",
      "\n",
      "The following objects are masked from 'package:dplyr':\n",
      "\n",
      "    between, n, n_distinct\n",
      "\n",
      "\n",
      "The following object is masked from 'package:stats':\n",
      "\n",
      "    filter\n",
      "\n",
      "\n",
      "Loading required package: jsonlite\n",
      "\n",
      "\n",
      "Attaching package: 'jsonlite'\n",
      "\n",
      "\n",
      "The following object is masked from 'package:purrr':\n",
      "\n",
      "    flatten\n",
      "\n",
      "\n"
     ]
    },
    {
     "data": {
      "text/html": [
       "<ol>\n",
       "\t<li>TRUE</li>\n",
       "\t<li>TRUE</li>\n",
       "\t<li>TRUE</li>\n",
       "\t<li>TRUE</li>\n",
       "\t<li>TRUE</li>\n",
       "\t<li>TRUE</li>\n",
       "\t<li>TRUE</li>\n",
       "\t<li>TRUE</li>\n",
       "\t<li>TRUE</li>\n",
       "\t<li>TRUE</li>\n",
       "\t<li>TRUE</li>\n",
       "</ol>\n"
      ],
      "text/latex": [
       "\\begin{enumerate}\n",
       "\\item TRUE\n",
       "\\item TRUE\n",
       "\\item TRUE\n",
       "\\item TRUE\n",
       "\\item TRUE\n",
       "\\item TRUE\n",
       "\\item TRUE\n",
       "\\item TRUE\n",
       "\\item TRUE\n",
       "\\item TRUE\n",
       "\\item TRUE\n",
       "\\end{enumerate}\n"
      ],
      "text/markdown": [
       "1. TRUE\n",
       "2. TRUE\n",
       "3. TRUE\n",
       "4. TRUE\n",
       "5. TRUE\n",
       "6. TRUE\n",
       "7. TRUE\n",
       "8. TRUE\n",
       "9. TRUE\n",
       "10. TRUE\n",
       "11. TRUE\n",
       "\n",
       "\n"
      ],
      "text/plain": [
       "[[1]]\n",
       "[1] TRUE\n",
       "\n",
       "[[2]]\n",
       "[1] TRUE\n",
       "\n",
       "[[3]]\n",
       "[1] TRUE\n",
       "\n",
       "[[4]]\n",
       "[1] TRUE\n",
       "\n",
       "[[5]]\n",
       "[1] TRUE\n",
       "\n",
       "[[6]]\n",
       "[1] TRUE\n",
       "\n",
       "[[7]]\n",
       "[1] TRUE\n",
       "\n",
       "[[8]]\n",
       "[1] TRUE\n",
       "\n",
       "[[9]]\n",
       "[1] TRUE\n",
       "\n",
       "[[10]]\n",
       "[1] TRUE\n",
       "\n",
       "[[11]]\n",
       "[1] TRUE\n"
      ]
     },
     "metadata": {},
     "output_type": "display_data"
    }
   ],
   "source": [
    "# 20230328 alorenzetti\n",
    "\n",
    "# description ####\n",
    "# This script will plot reads aligning to the\n",
    "# XDP-SVA hexamer region obtained by a previous analysis.\n",
    "# See path below:\n",
    "# /ceph/projects/xdp_striatal_organoids_RNA-seq/hisat2_with_xdp_sva_filter/proper_pairs_overlapping_SVA_5prime/_m/main.html\n",
    "\n",
    "# setting up ####\n",
    "# loading libs\n",
    "packs = c(\n",
    " \"tidyverse\",\n",
    " \"viridis\",\n",
    " \"ggpubr\",\n",
    " \"ggthemes\",\n",
    " \"Gviz\",\n",
    " \"BSgenome\",\n",
    " \"Biostrings\",\n",
    " \"GenomicRanges\",\n",
    " \"plyranges\",\n",
    " \"rtracklayer\",\n",
    " \"jsonlite\")\n",
    "\n",
    "lapply(packs, require, character.only = TRUE)\n",
    "\n",
    "theme_set(theme_pubr())\n",
    "\n",
    "# setting working directory relative to _h\n",
    "setwd(\"../_m/\")\n",
    "\n",
    "# setting up number of cores\n",
    "# to use in this script\n",
    "threads=10\n",
    "\n",
    "# setting up path\n",
    "# matching the bin\n",
    "# in the conda env\n",
    "# this is necessary\n",
    "# for R finding\n",
    "# the required program\n",
    "# conda_env = str_replace(Sys.getenv(\"R_HOME\"), \"^.*/(.*)/lib/R$\", \"\\\\1\")\n",
    "# home = str_replace(Sys.getenv(\"R_HOME\"), \"^(.*)/.*/lib/R$\", \"\\\\1\")\n",
    "# conda_env_path = paste0(home, \"/\", conda_env, \"/bin\")\n",
    "# old_path = Sys.getenv(\"PATH\")\n",
    "# Sys.setenv(PATH = paste(old_path, conda_env_path, sep = \":\"))"
   ]
  },
  {
   "cell_type": "code",
   "execution_count": 3,
   "id": "f29cd72b",
   "metadata": {
    "execution": {
     "iopub.execute_input": "2024-04-17T22:15:15.563810Z",
     "iopub.status.busy": "2024-04-17T22:15:15.561961Z",
     "iopub.status.idle": "2024-04-17T22:15:15.580569Z",
     "shell.execute_reply": "2024-04-17T22:15:15.578228Z"
    },
    "vscode": {
     "languageId": "r"
    }
   },
   "outputs": [],
   "source": [
    "# getting started ####\n",
    "# this function will take a genome\n",
    "# location to load and parse chr names\n",
    "read_genome = function(file = file){\n",
    "    \n",
    "    genome = readDNAStringSet(filepath = file)\n",
    "    names(genome) = str_replace(string = names(genome), pattern = \" .*$\", replacement = \"\")\n",
    "    \n",
    "    return(genome)\n",
    "    \n",
    "}"
   ]
  },
  {
   "cell_type": "code",
   "execution_count": 4,
   "id": "88eaa18c",
   "metadata": {
    "execution": {
     "iopub.execute_input": "2024-04-17T22:15:15.590713Z",
     "iopub.status.busy": "2024-04-17T22:15:15.588909Z",
     "iopub.status.idle": "2024-04-17T22:15:15.606227Z",
     "shell.execute_reply": "2024-04-17T22:15:15.603994Z"
    },
    "vscode": {
     "languageId": "r"
    }
   },
   "outputs": [],
   "source": [
    "# this function will get four properties\n",
    "# of regions in a string\n",
    "get_coords = function(regions = regions){\n",
    "    \n",
    "    res = list()\n",
    "    \n",
    "    res$chr = str_replace(string = regions,\n",
    "                          pattern = \"^(.*):.*-.*:.*$\",\n",
    "                          replacement = \"\\\\1\")\n",
    "    \n",
    "    res$start = str_replace(string = regions,\n",
    "                            pattern = \"^.*:(.*)-.*:.*$\",\n",
    "                            replacement = \"\\\\1\") %>% as.numeric()\n",
    "      \n",
    "    res$end = str_replace(string = regions,\n",
    "                          pattern = \"^.*:.*-(.*):.*$\",\n",
    "                          replacement = \"\\\\1\") %>% as.numeric()\n",
    "    \n",
    "    res$strand = str_replace(string = regions,\n",
    "                             pattern = \"^.*:.*-.*:(.*)$\",\n",
    "                             replacement = \"\\\\1\")\n",
    "        \n",
    "    return(res)\n",
    "}"
   ]
  },
  {
   "cell_type": "code",
   "execution_count": 5,
   "id": "dfbf16e0",
   "metadata": {
    "execution": {
     "iopub.execute_input": "2024-04-17T22:15:15.616362Z",
     "iopub.status.busy": "2024-04-17T22:15:15.614609Z",
     "iopub.status.idle": "2024-04-17T22:15:15.644670Z",
     "shell.execute_reply": "2024-04-17T22:15:15.640304Z"
    },
    "vscode": {
     "languageId": "r"
    }
   },
   "outputs": [],
   "source": [
    "# this will create GR objx\n",
    "# from passed regions in the\n",
    "# format chrX:start-end:strand\n",
    "to_gr = function(rois = rois){\n",
    "    \n",
    "    coordinates = get_coords(regions = rois)\n",
    "    \n",
    "    gr = GRanges(seqnames = coordinates$chr,\n",
    "                 ranges = IRanges(start = coordinates$start,\n",
    "                                  end = coordinates$end),\n",
    "                 strand = coordinates$strand)\n",
    "    \n",
    "    names(gr) = rois\n",
    "    \n",
    "    return(gr)\n",
    "    \n",
    "}"
   ]
  },
  {
   "cell_type": "code",
   "execution_count": 6,
   "id": "72fd59d9",
   "metadata": {
    "execution": {
     "iopub.execute_input": "2024-04-17T22:15:15.660044Z",
     "iopub.status.busy": "2024-04-17T22:15:15.656389Z",
     "iopub.status.idle": "2024-04-17T22:15:15.688547Z",
     "shell.execute_reply": "2024-04-17T22:15:15.684218Z"
    },
    "vscode": {
     "languageId": "r"
    }
   },
   "outputs": [],
   "source": [
    "# this function will get filenames from regions\n",
    "name_from_region = function(regions = regions){\n",
    "    \n",
    "    coordinates = get_coords(regions = regions\n",
    "                            )\n",
    "    coordinates$strand = str_replace(coordinates$strand, \"-\", \"minus\")\n",
    "    coordinates$strand = str_replace(coordinates$strand, \"\\\\+\", \"plus\")\n",
    "    \n",
    "    file_name = paste0(coordinates %>% unlist(), collapse = \"_\")\n",
    "    \n",
    "    return(file_name)\n",
    "}"
   ]
  },
  {
   "cell_type": "code",
   "execution_count": 7,
   "id": "9313c85e-a791-47ba-b49e-17b42181040b",
   "metadata": {
    "execution": {
     "iopub.execute_input": "2024-04-17T22:15:15.703170Z",
     "iopub.status.busy": "2024-04-17T22:15:15.699639Z",
     "iopub.status.idle": "2024-04-17T22:15:15.730257Z",
     "shell.execute_reply": "2024-04-17T22:15:15.727413Z"
    },
    "vscode": {
     "languageId": "r"
    }
   },
   "outputs": [],
   "source": [
    "# this function will\n",
    "# take a scored GR object of\n",
    "# variable range sizes\n",
    "# and transform into 1-sized-bin\n",
    "gr_bin_one = function(gr = gr) {\n",
    "    \n",
    "    bin_one = tile_ranges(gr, width = 1)\n",
    "    \n",
    "    scores_tib = tibble(partition = as.character(1:length(gr)),\n",
    "                        score = mcols(gr)$score)\n",
    "                        \n",
    "    bin_one_tib = mcols(bin_one) %>% \n",
    "        as_tibble() %>% \n",
    "        mutate(partition = as.character(partition))\n",
    "    \n",
    "    merged = left_join(x = bin_one_tib,\n",
    "                       y = scores_tib,\n",
    "                       by = \"partition\")\n",
    "    \n",
    "    mcols(bin_one)$score = merged$score\n",
    "    mcols(bin_one)$partition = NULL\n",
    "    \n",
    "    return(bin_one)\n",
    "}"
   ]
  },
  {
   "cell_type": "code",
   "execution_count": 8,
   "id": "1552e7ec",
   "metadata": {
    "execution": {
     "iopub.execute_input": "2024-04-17T22:15:15.739968Z",
     "iopub.status.busy": "2024-04-17T22:15:15.738256Z",
     "iopub.status.idle": "2024-04-17T22:15:15.755335Z",
     "shell.execute_reply": "2024-04-17T22:15:15.753022Z"
    },
    "tags": [],
    "vscode": {
     "languageId": "r"
    }
   },
   "outputs": [],
   "source": [
    "# this function will take the genome, an object storing\n",
    "# predictions and a compatible interval to\n",
    "# display the region using the Gviz package\n",
    "plot_gviz = function(genome = genome,\n",
    "                     data = data,\n",
    "                     plot_region = plot_region){\n",
    "    \n",
    "    coordinates = get_coords(regions = plot_region)\n",
    "    plot_region_gr = to_gr(rois = plot_region)\n",
    "    \n",
    "    data$rloop$gr_dens = as(object = coverage(data$rloop$gr), Class = \"GRanges\")\n",
    "    data$rloop$gr_dens_bin_one = subsetByOverlaps(x = data$rloop$gr_dens,\n",
    "                                                  ranges = plot_region_gr,\n",
    "                                                  minoverlap = 1)\n",
    "    data$rloop$gr_dens_bin_one = gr_bin_one(gr = data$rloop$gr_dens_bin_one)\n",
    "    \n",
    "    p = suppressWarnings(\n",
    "        \n",
    "    )\n",
    "    \n",
    "    return(p)\n",
    "   \n",
    "}"
   ]
  },
  {
   "cell_type": "code",
   "execution_count": 9,
   "id": "c8853441-3000-4b1b-a8ba-9d13f67c1bfe",
   "metadata": {
    "execution": {
     "iopub.execute_input": "2024-04-17T22:15:15.765109Z",
     "iopub.status.busy": "2024-04-17T22:15:15.763344Z",
     "iopub.status.idle": "2024-04-17T22:15:15.780675Z",
     "shell.execute_reply": "2024-04-17T22:15:15.778384Z"
    },
    "tags": [],
    "vscode": {
     "languageId": "r"
    }
   },
   "outputs": [],
   "source": [
    "# this function will parse name\n",
    "# of reads contained in an ipynb\n",
    "parse_json = function(ipynb_file = ipynb_file){\n",
    "    myJSON = jsonlite::fromJSON(txt = \"/ceph/projects/xdp_striatal_organoids_RNA-seq/hisat2_with_xdp_sva_filter/proper_pairs_overlapping_SVA_5prime/_m/main.ipynb\", simplifyDataFrame = F)\n",
    "\n",
    "    readtxt = myJSON$cells[[7]]$outputs[[1]]$text\n",
    "\n",
    "    readtxt_clean = readtxt[str_detect(readtxt, \"^Sample_id:\") |\n",
    "                            str_detect(readtxt, \"^[AZ][0-9]{5}:[0-9]{3}:.*:[0-9]{4}:[0-9]{2,5}:[0-9]{2,5}\")]\n",
    "\n",
    "    sample_id_idx = which(str_detect(readtxt_clean, \"^Sample_id:\"))\n",
    "\n",
    "    newvec = NULL\n",
    "    for(i in sample_id_idx){\n",
    "        if(!is.na(readtxt_clean[i+1])){\n",
    "            if(str_detect(readtxt_clean[i+1], \"^[AZ][0-9]{5}:[0-9]{3}:.*:[0-9]{4}:[0-9]{2,5}:[0-9]{2,5}\" )){\n",
    "                newvec = c(newvec, i)\n",
    "            }\n",
    "        }\n",
    "    }\n",
    "\n",
    "    rmv = sample_id_idx[!sample_id_idx %in% newvec]\n",
    "\n",
    "    readtxt_clean = readtxt_clean[-rmv]\n",
    "    readtxt_clean = str_replace(readtxt_clean, \"(^[AZ][0-9]{5}:[0-9]{3}:.*:[0-9]{4}:[0-9]{2,5}:[0-9]{2,5}).*$\", \"\\\\1\") %>% \n",
    "        str_replace(\"\\n\", \"\") %>% \n",
    "        unique()\n",
    "\n",
    "    df = data.frame(Sample = str_extract(readtxt_clean, \"^Sample_id: ([^ ]+)\"),\n",
    "                     Identifier = str_extract(readtxt_clean, \"^[AZ][0-9]{5}:[0-9]{3}:.*:[0-9]{4}:[0-9]{2,5}:[0-9]{2,5}\"),\n",
    "                     stringsAsFactors = FALSE)\n",
    "\n",
    "    # Fill in missing values with previous non-missing value\n",
    "    df = fill(df, Sample)\n",
    "\n",
    "    # Remove Sample ID rows\n",
    "    df = df[!is.na(df$Identifier),]\n",
    "    \n",
    "    df = df %>% \n",
    "        as_tibble() %>% \n",
    "        dplyr::rename(sample = \"Sample\",\n",
    "               read_name = \"Identifier\") %>% \n",
    "        mutate(sample = str_replace(sample, \"Sample_id: \", \"\"))\n",
    "\n",
    "    return(df)\n",
    "}"
   ]
  },
  {
   "cell_type": "code",
   "execution_count": 10,
   "id": "647b6921-c8b2-4d29-b9cd-53eb1d014c12",
   "metadata": {
    "execution": {
     "iopub.execute_input": "2024-04-17T22:15:15.790390Z",
     "iopub.status.busy": "2024-04-17T22:15:15.788574Z",
     "iopub.status.idle": "2024-04-17T22:15:15.805065Z",
     "shell.execute_reply": "2024-04-17T22:15:15.802847Z"
    },
    "vscode": {
     "languageId": "r"
    }
   },
   "outputs": [],
   "source": [
    "filter_bam = function(sample_name = sample_name,\n",
    "                      read_names = read_names) {\n",
    "    \n",
    "    list_of_reads_file = paste0(sample_name, \"_list_of_reads.txt\")\n",
    "    list_of_reads_df = data.frame(read_name = read_names)\n",
    "    write_tsv(x = list_of_reads_df, file = list_of_reads_file, col_names = F)\n",
    "    \n",
    "    outputbamfile=paste0(sample_name, \"_filtered.bam\")\n",
    "    inputbamfile=paste0(sample_name, \"_sorted.bam\")\n",
    "    \n",
    "    command = \"samtools\"\n",
    "    args = paste(\"view -b -N\", list_of_reads_file, \"-o\", outputbamfile, inputbamfile)\n",
    "    \n",
    "    system2(command = command, args = args)\n",
    "    \n",
    "    command = \"samtools\"\n",
    "    args = paste(\"index\", outputbamfile)\n",
    "    \n",
    "    system2(command = command, args = args)\n",
    "     \n",
    "}"
   ]
  },
  {
   "cell_type": "code",
   "execution_count": 11,
   "id": "293dcd51-7a23-4bf1-9a9e-1500ef7ce4f1",
   "metadata": {
    "execution": {
     "iopub.execute_input": "2024-04-17T22:15:15.814738Z",
     "iopub.status.busy": "2024-04-17T22:15:15.812973Z",
     "iopub.status.idle": "2024-04-17T22:15:43.582702Z",
     "shell.execute_reply": "2024-04-17T22:15:43.580367Z"
    },
    "vscode": {
     "languageId": "r"
    }
   },
   "outputs": [],
   "source": [
    "# main code ####\n",
    "# obtaining the sequence of interest\n",
    "# from a known range\n",
    "# reading the genome\n",
    "xdp = list()\n",
    "\n",
    "xdp$genome = read_genome(file = \"GRCh38_with_XDP_SVA.primary_assembly.genome.fa\")\n",
    "\n",
    "# my regions of interest to compute PQS\n",
    "# borrowing some from Taylor's Nanopore\n",
    "# experiment to test the plotting function\n",
    "rois = c(\"chrX:71440000-71444000:+\")\n",
    "\n",
    "xdp$gr = to_gr(rois = rois)\n",
    "\n",
    "# extract sequence\n",
    "xdp$seqs = getSeq(x = xdp$genome, xdp$gr)"
   ]
  },
  {
   "cell_type": "code",
   "execution_count": 12,
   "id": "173eb80a-c4fa-482e-961b-c768a3527b13",
   "metadata": {
    "execution": {
     "iopub.execute_input": "2024-04-17T22:15:43.593395Z",
     "iopub.status.busy": "2024-04-17T22:15:43.591516Z",
     "iopub.status.idle": "2024-04-17T22:15:44.129389Z",
     "shell.execute_reply": "2024-04-17T22:15:44.127081Z"
    },
    "vscode": {
     "languageId": "r"
    }
   },
   "outputs": [
    {
     "name": "stderr",
     "output_type": "stream",
     "text": [
      "\u001b[1mRows: \u001b[22m\u001b[34m52\u001b[39m \u001b[1mColumns: \u001b[22m\u001b[34m10\u001b[39m\n",
      "\u001b[36m──\u001b[39m \u001b[1mColumn specification\u001b[22m \u001b[36m────────────────────────────────────────────────────────\u001b[39m\n",
      "\u001b[1mDelimiter:\u001b[22m \",\"\n",
      "\u001b[31mchr\u001b[39m (7): Differentiation_cohort, Sample, iPSC_line, Cell_line, Sex, Kit, Dis...\n",
      "\u001b[32mdbl\u001b[39m (3): Day_of_Maturation, RIN, individual\n",
      "\n",
      "\u001b[36mℹ\u001b[39m Use `spec()` to retrieve the full column specification for this data.\n",
      "\u001b[36mℹ\u001b[39m Specify the column types or set `show_col_types = FALSE` to quiet this message.\n"
     ]
    }
   ],
   "source": [
    "# getting metadata\n",
    "metadata = read_csv(\"XDP_striatal_organoids_metadata.csv\") %>% \n",
    "    select(Sample, individual, Cell_line)\n",
    "xdp_samples = metadata %>% \n",
    "    filter(Cell_line == \"XDP\") %>% \n",
    "    pull(Sample)"
   ]
  },
  {
   "cell_type": "code",
   "execution_count": 13,
   "id": "190780c3-6368-41c0-9fff-6f9989f067f8",
   "metadata": {
    "execution": {
     "iopub.execute_input": "2024-04-17T22:15:44.138117Z",
     "iopub.status.busy": "2024-04-17T22:15:44.136158Z",
     "iopub.status.idle": "2024-04-17T22:15:45.449209Z",
     "shell.execute_reply": "2024-04-17T22:15:45.444670Z"
    },
    "vscode": {
     "languageId": "r"
    }
   },
   "outputs": [],
   "source": [
    "# getting samples and read names to filter\n",
    "target_nb = \"/ceph/projects/xdp_striatal_organoids_RNA-seq/hisat2_with_xdp_sva_filter/proper_pairs_overlapping_SVA_5prime/_m/main.ipynb\"\n",
    "samp_and_reads = parse_json(ipynb_file = target_nb) %>% \n",
    "    filter(sample %in% xdp_samples)\n",
    "\n",
    "for(i in unique(samp_and_reads$sample)){\n",
    "    sample_fil = i\n",
    "    reads_fil = samp_and_reads %>% \n",
    "        filter(sample == i) %>% \n",
    "        pull(read_name) %>% \n",
    "        unlist(use.names = F)\n",
    "    \n",
    "    filter_bam(sample_name = sample_fil,\n",
    "               read_names = reads_fil)\n",
    "}"
   ]
  },
  {
   "cell_type": "code",
   "execution_count": 14,
   "id": "68121b78-9bb9-4c86-9217-848fedd0ca11",
   "metadata": {
    "execution": {
     "iopub.execute_input": "2024-04-17T22:15:45.468144Z",
     "iopub.status.busy": "2024-04-17T22:15:45.462834Z",
     "iopub.status.idle": "2024-04-17T22:15:45.554153Z",
     "shell.execute_reply": "2024-04-17T22:15:45.549262Z"
    },
    "tags": [],
    "vscode": {
     "languageId": "r"
    }
   },
   "outputs": [],
   "source": [
    "# bam file names to pull\n",
    "bam_files = list.files(path = \".\",\n",
    "                       pattern = \"*_filtered.bam$\")"
   ]
  },
  {
   "cell_type": "markdown",
   "id": "8dfe97f6-e916-41e1-97c0-1691ffb2b958",
   "metadata": {},
   "source": [
    "# Report\n",
    "\n",
    "I am plotting reads spanning the hexamer and the adjacent region in XDP samples."
   ]
  },
  {
   "cell_type": "code",
   "execution_count": 15,
   "id": "33a26da8-164e-4190-8e2d-d8812714825d",
   "metadata": {
    "execution": {
     "iopub.execute_input": "2024-04-17T22:15:45.573717Z",
     "iopub.status.busy": "2024-04-17T22:15:45.568420Z",
     "iopub.status.idle": "2024-04-17T22:16:00.901548Z",
     "shell.execute_reply": "2024-04-17T22:16:00.899338Z"
    },
    "tags": [],
    "vscode": {
     "languageId": "r"
    }
   },
   "outputs": [
    {
     "data": {
      "image/png": "[encoded data removed]",
      "text/plain": [
       "plot without title"
      ]
     },
     "metadata": {
      "image/png": {
       "height": 300,
       "width": 420
      }
     },
     "output_type": "display_data"
    }
   ],
   "source": [
    "options(ucscChromosomeNames=FALSE)\n",
    "options(repr.plot.width = 7, repr.plot.height = 5)\n",
    "\n",
    "annot_track =  AnnotationTrack(start = c(71443075,71443121), end = c(71443120,71443174), strand = c(\"-\", \"*\"),\n",
    "                               chromosome = \"chrX\",\n",
    "                               id = c(\"Hexamer region (AGAGGG)n\", \"Intron 32 sequence adjacent to SVA\"),\n",
    "                               name = \"\",\n",
    "                               fill = \"lightgrey\")\n",
    "\n",
    "al_2N = AlignmentsTrack(range = c(\"2N_filtered.bam\"), name = \"XDP\", min.height = 0, max.height = 10,\n",
    "                                         isPaired = T,\n",
    "                                         type = \"pileup\",\n",
    "                                         showMismatches = F)\n",
    "\n",
    "al_14N = AlignmentsTrack(range = c(\"14N_filtered.bam\"), name = \"XDP\", min.height = 0, max.height = 10,\n",
    "                                         isPaired = T,\n",
    "                                         type = \"pileup\",\n",
    "                                         showMismatches = F)\n",
    "\n",
    "al_21N = AlignmentsTrack(range = c(\"21N_filtered.bam\"), name = \"XDP\", min.height = 0, max.height = 10,\n",
    "                                         isPaired = T,\n",
    "                                         type = \"pileup\",\n",
    "                                         showMismatches = F)\n",
    "\n",
    "al_33N = AlignmentsTrack(range = c(\"33N_filtered.bam\"), name = \"XDP\", min.height = 0, max.height = 10,\n",
    "                                         isPaired = T,\n",
    "                                         type = \"pileup\",\n",
    "                                         showMismatches = F)\n",
    "\n",
    "al_39N = AlignmentsTrack(range = c(\"39N_filtered.bam\"), name = \"XDP\", min.height = 0, max.height = 10,\n",
    "                                         isPaired = T,\n",
    "                                         type = \"pileup\",\n",
    "                                         showMismatches = F)\n",
    "\n",
    "highlights = HighlightTrack(trackList = list(al_2N, al_14N, al_21N, al_33N, al_39N),\n",
    "                            start = 71443075, end = 71443120,\n",
    "                            chromosome = \"chrX\")\n",
    "\n",
    "seqTrack53 = SequenceTrack(sequence = xdp$genome,\n",
    "                           chromosome = \"chrX\",\n",
    "                           name = \"chrX\",\n",
    "                           fontcolor = c(A=\"#59A14F\",\n",
    "                                         C=\"#4E79A7\",\n",
    "                                         T=\"#E15759\",\n",
    "                                         G=\"#F28E2B\"),\n",
    "                           add53 = T)\n",
    "\n",
    "seqTrack35 = SequenceTrack(sequence = xdp$genome,\n",
    "                           chromosome = \"chrX\",\n",
    "                           name = \"chrX\",\n",
    "                           fontcolor = c(A=\"#59A14F\",\n",
    "                                         C=\"#4E79A7\",\n",
    "                                         T=\"#E15759\",\n",
    "                                         G=\"#F28E2B\"),\n",
    "                           add53 = T,\n",
    "                           complement = T)\n",
    "\n",
    "genome_axis = GenomeAxisTrack(\n",
    "                              # col = \"black\",\n",
    "                              fontcolor = \"black\"\n",
    "                             )\n",
    "\n",
    "mytracks = list(genome_axis,\n",
    "                annot_track,\n",
    "                highlights,\n",
    "                seqTrack53,\n",
    "                seqTrack35)\n",
    "\n",
    "\n",
    "plotTracks(trackList = mytracks,\n",
    "           # fontface = \"bold\",\n",
    "           fontcolor.title = \"black\",\n",
    "           fontface.title = \"plain\",\n",
    "           # col.border.title = \"black\",\n",
    "           fontcolor.feature = \"black\",\n",
    "           shape = \"box\", featureAnnotation = \"id\",\n",
    "           background.title = \"white\",\n",
    "           sizes=c(.5,.5,1,1,1,1,1,.25,.25),\n",
    "           from = 71443074,\n",
    "           to = 71443175)"
   ]
  },
  {
   "cell_type": "code",
   "execution_count": 16,
   "id": "a5836efa-db66-429b-927e-bdcde15cde49",
   "metadata": {
    "execution": {
     "iopub.execute_input": "2024-04-17T22:16:00.912282Z",
     "iopub.status.busy": "2024-04-17T22:16:00.910411Z",
     "iopub.status.idle": "2024-04-17T22:16:10.621557Z",
     "shell.execute_reply": "2024-04-17T22:16:10.619200Z"
    },
    "tags": [],
    "vscode": {
     "languageId": "r"
    }
   },
   "outputs": [
    {
     "data": {
      "text/html": [
       "<strong>png:</strong> 2"
      ],
      "text/latex": [
       "\\textbf{png:} 2"
      ],
      "text/markdown": [
       "**png:** 2"
      ],
      "text/plain": [
       "png \n",
       "  2 "
      ]
     },
     "metadata": {},
     "output_type": "display_data"
    },
    {
     "data": {
      "text/html": [
       "<strong>png:</strong> 2"
      ],
      "text/latex": [
       "\\textbf{png:} 2"
      ],
      "text/markdown": [
       "**png:** 2"
      ],
      "text/plain": [
       "png \n",
       "  2 "
      ]
     },
     "metadata": {},
     "output_type": "display_data"
    }
   ],
   "source": [
    "svg(filename = \"reads_plus_strand_xdp_sva.svg\", width = 6.5, height = 6)\n",
    "plotTracks(trackList = mytracks,\n",
    "           # fontface = \"bold\",\n",
    "           fontcolor.title = \"black\",\n",
    "           fontface.title = \"plain\",\n",
    "           # col.border.title = \"black\",\n",
    "           fontcolor.feature = \"black\",\n",
    "           shape = \"box\", featureAnnotation = \"id\",\n",
    "           background.title = \"white\",\n",
    "           sizes=c(.5,.5,1,1,1,1,1,.25,.25),\n",
    "           from = 71443074,\n",
    "           to = 71443175)\n",
    "dev.off()\n",
    "\n",
    "pdf(file = \"reads_plus_strand_xdp_sva.pdf\", width = 6.5, height = 6)\n",
    "plotTracks(trackList = mytracks,\n",
    "           # fontface = \"bold\",\n",
    "           fontcolor.title = \"black\",\n",
    "           fontface.title = \"plain\",\n",
    "           # col.border.title = \"black\",\n",
    "           fontcolor.feature = \"black\",\n",
    "           shape = \"box\", featureAnnotation = \"id\",\n",
    "           background.title = \"white\",\n",
    "           sizes=c(.5,.5,1,1,1,1,1,.25,.25),\n",
    "           from = 71443074,\n",
    "           to = 71443175)\n",
    "dev.off()"
   ]
  },
  {
   "cell_type": "markdown",
   "id": "a9775a44-097e-4860-9471-b987c5ecd9a0",
   "metadata": {},
   "source": [
    "# Session Info"
   ]
  },
  {
   "cell_type": "code",
   "execution_count": 17,
   "id": "c5ff36f7-d3ce-4680-89b9-2af74ca10f1c",
   "metadata": {
    "execution": {
     "iopub.execute_input": "2024-04-17T22:16:10.632781Z",
     "iopub.status.busy": "2024-04-17T22:16:10.630950Z",
     "iopub.status.idle": "2024-04-17T22:16:11.221854Z",
     "shell.execute_reply": "2024-04-17T22:16:11.217525Z"
    },
    "tags": [],
    "vscode": {
     "languageId": "r"
    }
   },
   "outputs": [
    {
     "data": {
      "text/plain": [
       "R version 4.2.3 (2023-03-15)\n",
       "Platform: x86_64-pc-linux-gnu (64-bit)\n",
       "Running under: Arch Linux\n",
       "\n",
       "Matrix products: default\n",
       "BLAS:   /usr/lib/libopenblas.so.0.3\n",
       "LAPACK: /usr/lib/liblapack.so.3.11.0\n",
       "\n",
       "locale:\n",
       " [1] LC_CTYPE=en_US.UTF-8       LC_NUMERIC=C              \n",
       " [3] LC_TIME=en_US.UTF-8        LC_COLLATE=en_US.UTF-8    \n",
       " [5] LC_MONETARY=en_US.UTF-8    LC_MESSAGES=en_US.UTF-8   \n",
       " [7] LC_PAPER=en_US.UTF-8       LC_NAME=C                 \n",
       " [9] LC_ADDRESS=C               LC_TELEPHONE=C            \n",
       "[11] LC_MEASUREMENT=en_US.UTF-8 LC_IDENTIFICATION=C       \n",
       "\n",
       "attached base packages:\n",
       "[1] grid      stats4    stats     graphics  grDevices utils     datasets \n",
       "[8] methods   base     \n",
       "\n",
       "other attached packages:\n",
       " [1] jsonlite_1.8.4       plyranges_1.18.0     BSgenome_1.66.3     \n",
       " [4] rtracklayer_1.58.0   Biostrings_2.66.0    XVector_0.38.0      \n",
       " [7] Gviz_1.42.1          GenomicRanges_1.50.2 GenomeInfoDb_1.34.9 \n",
       "[10] IRanges_2.32.0       S4Vectors_0.36.2     BiocGenerics_0.44.0 \n",
       "[13] ggthemes_4.2.4       ggpubr_0.6.0         viridis_0.6.2       \n",
       "[16] viridisLite_0.4.1    lubridate_1.9.2      forcats_1.0.0       \n",
       "[19] stringr_1.5.0        dplyr_1.1.1          purrr_1.0.1         \n",
       "[22] readr_2.1.4          tidyr_1.3.0          tibble_3.2.1        \n",
       "[25] ggplot2_3.4.1        tidyverse_2.0.0     \n",
       "\n",
       "loaded via a namespace (and not attached):\n",
       "  [1] uuid_1.1-0                  backports_1.4.1            \n",
       "  [3] Hmisc_5.0-1                 BiocFileCache_2.6.1        \n",
       "  [5] repr_1.1.6                  lazyeval_0.2.2             \n",
       "  [7] BiocParallel_1.32.6         digest_0.6.31              \n",
       "  [9] ensembldb_2.22.0            htmltools_0.5.5            \n",
       " [11] fansi_1.0.4                 magrittr_2.0.3             \n",
       " [13] checkmate_2.1.0             memoise_2.0.1              \n",
       " [15] cluster_2.1.4               tzdb_0.3.0                 \n",
       " [17] matrixStats_0.63.0          vroom_1.6.1                \n",
       " [19] timechange_0.2.0            prettyunits_1.1.1          \n",
       " [21] jpeg_0.1-10                 colorspace_2.1-0           \n",
       " [23] blob_1.2.4                  rappdirs_0.3.3             \n",
       " [25] xfun_0.38                   crayon_1.5.2               \n",
       " [27] RCurl_1.98-1.12             VariantAnnotation_1.44.1   \n",
       " [29] glue_1.6.2                  gtable_0.3.3               \n",
       " [31] zlibbioc_1.44.0             DelayedArray_0.24.0        \n",
       " [33] car_3.1-1                   abind_1.4-5                \n",
       " [35] scales_1.2.1                DBI_1.1.3                  \n",
       " [37] rstatix_0.7.2               Rcpp_1.0.10                \n",
       " [39] progress_1.2.2              htmlTable_2.4.1            \n",
       " [41] foreign_0.8-84              bit_4.0.5                  \n",
       " [43] Formula_1.2-5               htmlwidgets_1.6.2          \n",
       " [45] httr_1.4.5                  RColorBrewer_1.1-3         \n",
       " [47] pkgconfig_2.0.3             XML_3.99-0.14              \n",
       " [49] nnet_7.3-18                 dbplyr_2.3.2               \n",
       " [51] deldir_1.0-6                utf8_1.2.3                 \n",
       " [53] tidyselect_1.2.0            rlang_1.1.0                \n",
       " [55] AnnotationDbi_1.60.2        munsell_0.5.0              \n",
       " [57] tools_4.2.3                 cachem_1.0.7               \n",
       " [59] cli_3.6.1                   generics_0.1.3             \n",
       " [61] RSQLite_2.3.0               broom_1.0.4                \n",
       " [63] evaluate_0.20               fastmap_1.1.1              \n",
       " [65] yaml_2.3.7                  knitr_1.42                 \n",
       " [67] bit64_4.0.5                 KEGGREST_1.38.0            \n",
       " [69] AnnotationFilter_1.22.0     xml2_1.3.3                 \n",
       " [71] biomaRt_2.54.1              compiler_4.2.3             \n",
       " [73] rstudioapi_0.14             filelock_1.0.2             \n",
       " [75] curl_5.0.0                  png_0.1-8                  \n",
       " [77] ggsignif_0.6.4              stringi_1.7.12             \n",
       " [79] GenomicFeatures_1.50.4      lattice_0.20-45            \n",
       " [81] IRdisplay_1.1               ProtGenerics_1.30.0        \n",
       " [83] Matrix_1.5-3                vctrs_0.6.1                \n",
       " [85] pillar_1.9.0                lifecycle_1.0.3            \n",
       " [87] data.table_1.14.8           bitops_1.0-7               \n",
       " [89] R6_2.5.1                    BiocIO_1.8.0               \n",
       " [91] latticeExtra_0.6-30         gridExtra_2.3              \n",
       " [93] codetools_0.2-19            dichromat_2.0-0.1          \n",
       " [95] SummarizedExperiment_1.28.0 rjson_0.2.21               \n",
       " [97] withr_2.5.0                 GenomicAlignments_1.34.1   \n",
       " [99] Rsamtools_2.14.0            GenomeInfoDbData_1.2.9     \n",
       "[101] parallel_4.2.3              hms_1.1.3                  \n",
       "[103] rpart_4.1.19                IRkernel_1.3.2             \n",
       "[105] rmarkdown_2.20              MatrixGenerics_1.10.0      \n",
       "[107] carData_3.0-5               biovizBase_1.46.0          \n",
       "[109] pbdZMQ_0.3-9                Biobase_2.58.0             \n",
       "[111] base64enc_0.1-3             interp_1.1-3               \n",
       "[113] restfulr_0.0.15            "
      ]
     },
     "metadata": {},
     "output_type": "display_data"
    }
   ],
   "source": [
    "sessionInfo()"
   ]
  }
 ],
 "metadata": {
  "kernelspec": {
   "display_name": "R",
   "language": "R",
   "name": "ir"
  },
  "language_info": {
   "codemirror_mode": "r",
   "file_extension": ".r",
   "mimetype": "text/x-r-source",
   "name": "R",
   "pygments_lexer": "r",
   "version": "4.2.3"
  }
 },
 "nbformat": 4,
 "nbformat_minor": 5
}
