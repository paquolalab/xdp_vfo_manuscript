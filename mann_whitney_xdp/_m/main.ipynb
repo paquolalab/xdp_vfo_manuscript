{
 "cells": [
  {
   "cell_type": "code",
   "execution_count": 1,
   "id": "3e8d89bb-5afa-420f-a2f5-d7ef872c29b6",
   "metadata": {
    "execution": {
     "iopub.execute_input": "2025-02-26T18:43:55.266857Z",
     "iopub.status.busy": "2025-02-26T18:43:55.264172Z",
     "iopub.status.idle": "2025-02-26T18:43:57.562513Z",
     "shell.execute_reply": "2025-02-26T18:43:57.560610Z"
    },
    "vscode": {
     "languageId": "r"
    }
   },
   "outputs": [
    {
     "name": "stderr",
     "output_type": "stream",
     "text": [
      "── \u001b[1mAttaching core tidyverse packages\u001b[22m ──────────────────────── tidyverse 2.0.0 ──\n",
      "\u001b[32m✔\u001b[39m \u001b[34mdplyr    \u001b[39m 1.1.4     \u001b[32m✔\u001b[39m \u001b[34mreadr    \u001b[39m 2.1.5\n",
      "\u001b[32m✔\u001b[39m \u001b[34mforcats  \u001b[39m 1.0.0     \u001b[32m✔\u001b[39m \u001b[34mstringr  \u001b[39m 1.5.1\n",
      "\u001b[32m✔\u001b[39m \u001b[34mggplot2  \u001b[39m 3.5.1     \u001b[32m✔\u001b[39m \u001b[34mtibble   \u001b[39m 3.2.1\n",
      "\u001b[32m✔\u001b[39m \u001b[34mlubridate\u001b[39m 1.9.4     \u001b[32m✔\u001b[39m \u001b[34mtidyr    \u001b[39m 1.3.1\n",
      "\u001b[32m✔\u001b[39m \u001b[34mpurrr    \u001b[39m 1.0.2     \n"
     ]
    },
    {
     "name": "stderr",
     "output_type": "stream",
     "text": [
      "── \u001b[1mConflicts\u001b[22m ────────────────────────────────────────── tidyverse_conflicts() ──\n",
      "\u001b[31m✖\u001b[39m \u001b[34mdplyr\u001b[39m::\u001b[32mfilter()\u001b[39m masks \u001b[34mstats\u001b[39m::filter()\n",
      "\u001b[31m✖\u001b[39m \u001b[34mdplyr\u001b[39m::\u001b[32mlag()\u001b[39m    masks \u001b[34mstats\u001b[39m::lag()\n",
      "\u001b[36mℹ\u001b[39m Use the conflicted package (\u001b[3m\u001b[34m<http://conflicted.r-lib.org/>\u001b[39m\u001b[23m) to force all conflicts to become errors\n"
     ]
    }
   ],
   "source": [
    "library(tidyverse)"
   ]
  },
  {
   "cell_type": "code",
   "execution_count": 2,
   "id": "12995b4e-c8ee-4bf2-8a75-2a5d7d351f55",
   "metadata": {
    "execution": {
     "iopub.execute_input": "2025-02-26T18:43:57.600034Z",
     "iopub.status.busy": "2025-02-26T18:43:57.566603Z",
     "iopub.status.idle": "2025-02-26T18:43:58.178963Z",
     "shell.execute_reply": "2025-02-26T18:43:58.177139Z"
    },
    "vscode": {
     "languageId": "r"
    }
   },
   "outputs": [
    {
     "name": "stderr",
     "output_type": "stream",
     "text": [
      "\u001b[1m\u001b[22mNew names:\n",
      "\u001b[36m•\u001b[39m `` -> `...1`\n",
      "\u001b[36m•\u001b[39m `` -> `...2`\n"
     ]
    },
    {
     "name": "stderr",
     "output_type": "stream",
     "text": [
      "\u001b[1mRows: \u001b[22m\u001b[34m7\u001b[39m \u001b[1mColumns: \u001b[22m\u001b[34m7\u001b[39m\n"
     ]
    },
    {
     "name": "stderr",
     "output_type": "stream",
     "text": [
      "\u001b[36m──\u001b[39m \u001b[1mColumn specification\u001b[22m \u001b[36m────────────────────────────────────────────────────────\u001b[39m\n",
      "\u001b[1mDelimiter:\u001b[22m \",\"\n",
      "\u001b[31mchr\u001b[39m (1): ...1\n",
      "\u001b[32mdbl\u001b[39m (6): ...2, iPSC, d90, Δ(iPSC-d90), d120, Δ(iPSC-d120)\n"
     ]
    },
    {
     "name": "stderr",
     "output_type": "stream",
     "text": [
      "\n",
      "\u001b[36mℹ\u001b[39m Use `spec()` to retrieve the full column specification for this data.\n",
      "\u001b[36mℹ\u001b[39m Specify the column types or set `show_col_types = FALSE` to quiet this message.\n"
     ]
    }
   ],
   "source": [
    "df = read_csv('../_h/s5.csv', skip = 1)"
   ]
  },
  {
   "cell_type": "code",
   "execution_count": 3,
   "id": "19717a58-a67f-472c-9cbb-0050789f0504",
   "metadata": {
    "execution": {
     "iopub.execute_input": "2025-02-26T18:43:58.184427Z",
     "iopub.status.busy": "2025-02-26T18:43:58.182906Z",
     "iopub.status.idle": "2025-02-26T18:43:58.202486Z",
     "shell.execute_reply": "2025-02-26T18:43:58.200614Z"
    },
    "vscode": {
     "languageId": "r"
    }
   },
   "outputs": [],
   "source": [
    "# wilcox.test(as.numeric(df[,'iPSC']),\n",
    "#             as.numeric(df[,'iPSC']))"
   ]
  },
  {
   "cell_type": "code",
   "execution_count": 4,
   "id": "2bfa5660-681e-4d03-a2ab-535e4672b183",
   "metadata": {
    "execution": {
     "iopub.execute_input": "2025-02-26T18:43:58.208014Z",
     "iopub.status.busy": "2025-02-26T18:43:58.206506Z",
     "iopub.status.idle": "2025-02-26T18:43:58.241234Z",
     "shell.execute_reply": "2025-02-26T18:43:58.239324Z"
    },
    "vscode": {
     "languageId": "r"
    }
   },
   "outputs": [
    {
     "name": "stderr",
     "output_type": "stream",
     "text": [
      "Warning message in wilcox.test.default(df %>% pluck(\"iPSC\"), df %>% pluck(\"d90\"), :\n",
      "“cannot compute exact p-value with zeroes”\n"
     ]
    },
    {
     "data": {
      "text/plain": [
       "\n",
       "\tWilcoxon signed rank test with continuity correction\n",
       "\n",
       "data:  df %>% pluck(\"iPSC\") and df %>% pluck(\"d90\")\n",
       "V = 21, p-value = 0.01802\n",
       "alternative hypothesis: true location shift is greater than 0\n"
      ]
     },
     "metadata": {},
     "output_type": "display_data"
    }
   ],
   "source": [
    "wilcox.test(df %>% pluck('iPSC'),\n",
    "            df %>% pluck('d90'),\n",
    "            paired=TRUE,\n",
    "            alt='greater'\n",
    "           )"
   ]
  },
  {
   "cell_type": "code",
   "execution_count": 5,
   "id": "42abe14d-dc60-489c-8fff-cb8e03524ce5",
   "metadata": {
    "execution": {
     "iopub.execute_input": "2025-02-26T18:43:58.246607Z",
     "iopub.status.busy": "2025-02-26T18:43:58.245127Z",
     "iopub.status.idle": "2025-02-26T18:43:58.265111Z",
     "shell.execute_reply": "2025-02-26T18:43:58.263366Z"
    },
    "vscode": {
     "languageId": "r"
    }
   },
   "outputs": [
    {
     "data": {
      "text/plain": [
       "\n",
       "\tWilcoxon signed rank exact test\n",
       "\n",
       "data:  df %>% pluck(\"iPSC\") and df %>% pluck(\"d120\")\n",
       "V = 28, p-value = 0.007813\n",
       "alternative hypothesis: true location shift is greater than 0\n"
      ]
     },
     "metadata": {},
     "output_type": "display_data"
    }
   ],
   "source": [
    "wilcox.test(df %>% pluck('iPSC'),\n",
    "            df %>% pluck('d120'),\n",
    "            paired=TRUE,\n",
    "            alt='greater'\n",
    "           )"
   ]
  }
 ],
 "metadata": {
  "kernelspec": {
   "display_name": "R",
   "language": "R",
   "name": "ir"
  },
  "language_info": {
   "codemirror_mode": "r",
   "file_extension": ".r",
   "mimetype": "text/x-r-source",
   "name": "R",
   "pygments_lexer": "r",
   "version": "4.4.2"
  }
 },
 "nbformat": 4,
 "nbformat_minor": 5
}
