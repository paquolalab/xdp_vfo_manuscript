{
 "cells": [
  {
   "cell_type": "markdown",
   "id": "b7bb6041-7731-4547-9056-a480b4d87546",
   "metadata": {
    "tags": []
   },
   "source": [
    "# Table of Contents\n",
    "\n",
    "* [Introduction](#Introduction)\n",
    "* [Analysis](#Analysis)\n",
    "* [Report](#Report)\n",
    "\n",
    "# Introduction\n",
    "\n",
    "Author: Alan Lorenzetti  \n",
    "Date: 05/31/2024    \n",
    "\n",
    "In this analysis, I explored the results for a Nanopore cDNA sequencing for the 5' RACE experiment of the putative XDP-SVA transcript.\n"
   ]
  },
  {
   "cell_type": "markdown",
   "id": "e6e60e65-5ca6-46c8-8d24-e5bccb4754d6",
   "metadata": {},
   "source": [
    "# Analysis"
   ]
  },
  {
   "cell_type": "markdown",
   "id": "14acb80b-8c2e-49bc-9c46-52993bc029b8",
   "metadata": {},
   "source": [
    "## Setup"
   ]
  },
  {
   "cell_type": "code",
   "execution_count": 1,
   "id": "f21d3047-64a0-45a8-9a8e-a225e6f10513",
   "metadata": {
    "execution": {
     "iopub.execute_input": "2024-06-11T14:17:26.700074Z",
     "iopub.status.busy": "2024-06-11T14:17:26.694304Z",
     "iopub.status.idle": "2024-06-11T14:17:46.143639Z",
     "shell.execute_reply": "2024-06-11T14:17:46.140774Z"
    },
    "scrolled": true,
    "vscode": {
     "languageId": "r"
    }
   },
   "outputs": [
    {
     "name": "stderr",
     "output_type": "stream",
     "text": [
      "Loading required package: tidyverse\n",
      "\n"
     ]
    },
    {
     "name": "stderr",
     "output_type": "stream",
     "text": [
      "── \u001b[1mAttaching core tidyverse packages\u001b[22m ──────────────────────── tidyverse 2.0.0 ──\n",
      "\u001b[32m✔\u001b[39m \u001b[34mdplyr    \u001b[39m 1.1.4     \u001b[32m✔\u001b[39m \u001b[34mreadr    \u001b[39m 2.1.5\n",
      "\u001b[32m✔\u001b[39m \u001b[34mforcats  \u001b[39m 1.0.0     \u001b[32m✔\u001b[39m \u001b[34mstringr  \u001b[39m 1.5.1\n",
      "\u001b[32m✔\u001b[39m \u001b[34mggplot2  \u001b[39m 3.5.1     \u001b[32m✔\u001b[39m \u001b[34mtibble   \u001b[39m 3.2.1\n",
      "\u001b[32m✔\u001b[39m \u001b[34mlubridate\u001b[39m 1.9.3     \u001b[32m✔\u001b[39m \u001b[34mtidyr    \u001b[39m 1.3.1\n",
      "\u001b[32m✔\u001b[39m \u001b[34mpurrr    \u001b[39m 1.0.2     \n"
     ]
    },
    {
     "name": "stderr",
     "output_type": "stream",
     "text": [
      "── \u001b[1mConflicts\u001b[22m ────────────────────────────────────────── tidyverse_conflicts() ──\n",
      "\u001b[31m✖\u001b[39m \u001b[34mdplyr\u001b[39m::\u001b[32mfilter()\u001b[39m masks \u001b[34mstats\u001b[39m::filter()\n",
      "\u001b[31m✖\u001b[39m \u001b[34mdplyr\u001b[39m::\u001b[32mlag()\u001b[39m    masks \u001b[34mstats\u001b[39m::lag()\n",
      "\u001b[36mℹ\u001b[39m Use the conflicted package (\u001b[3m\u001b[34m<http://conflicted.r-lib.org/>\u001b[39m\u001b[23m) to force all conflicts to become errors\n"
     ]
    },
    {
     "name": "stderr",
     "output_type": "stream",
     "text": [
      "Loading required package: openxlsx\n",
      "\n"
     ]
    },
    {
     "name": "stderr",
     "output_type": "stream",
     "text": [
      "Loading required package: Rsamtools\n",
      "\n"
     ]
    },
    {
     "name": "stderr",
     "output_type": "stream",
     "text": [
      "Loading required package: GenomeInfoDb\n",
      "\n"
     ]
    },
    {
     "name": "stderr",
     "output_type": "stream",
     "text": [
      "Loading required package: BiocGenerics\n",
      "\n"
     ]
    },
    {
     "name": "stderr",
     "output_type": "stream",
     "text": [
      "\n",
      "Attaching package: ‘BiocGenerics’\n",
      "\n",
      "\n"
     ]
    },
    {
     "name": "stderr",
     "output_type": "stream",
     "text": [
      "The following objects are masked from ‘package:lubridate’:\n",
      "\n",
      "    intersect, setdiff, union\n",
      "\n",
      "\n"
     ]
    },
    {
     "name": "stderr",
     "output_type": "stream",
     "text": [
      "The following objects are masked from ‘package:dplyr’:\n",
      "\n",
      "    combine, intersect, setdiff, union\n",
      "\n",
      "\n"
     ]
    },
    {
     "name": "stderr",
     "output_type": "stream",
     "text": [
      "The following objects are masked from ‘package:stats’:\n",
      "\n",
      "    IQR, mad, sd, var, xtabs\n",
      "\n",
      "\n"
     ]
    },
    {
     "name": "stderr",
     "output_type": "stream",
     "text": [
      "The following objects are masked from ‘package:base’:\n",
      "\n",
      "    anyDuplicated, aperm, append, as.data.frame, basename, cbind,\n",
      "    colnames, dirname, do.call, duplicated, eval, evalq, Filter, Find,\n",
      "    get, grep, grepl, intersect, is.unsorted, lapply, Map, mapply,\n",
      "    match, mget, order, paste, pmax, pmax.int, pmin, pmin.int,\n",
      "    Position, rank, rbind, Reduce, rownames, sapply, setdiff, table,\n",
      "    tapply, union, unique, unsplit, which.max, which.min\n",
      "\n",
      "\n"
     ]
    },
    {
     "name": "stderr",
     "output_type": "stream",
     "text": [
      "Loading required package: S4Vectors\n",
      "\n"
     ]
    },
    {
     "name": "stderr",
     "output_type": "stream",
     "text": [
      "Loading required package: stats4\n",
      "\n"
     ]
    },
    {
     "name": "stderr",
     "output_type": "stream",
     "text": [
      "\n",
      "Attaching package: ‘S4Vectors’\n",
      "\n",
      "\n"
     ]
    },
    {
     "name": "stderr",
     "output_type": "stream",
     "text": [
      "The following objects are masked from ‘package:lubridate’:\n",
      "\n",
      "    second, second<-\n",
      "\n",
      "\n"
     ]
    },
    {
     "name": "stderr",
     "output_type": "stream",
     "text": [
      "The following objects are masked from ‘package:dplyr’:\n",
      "\n",
      "    first, rename\n",
      "\n",
      "\n"
     ]
    },
    {
     "name": "stderr",
     "output_type": "stream",
     "text": [
      "The following object is masked from ‘package:tidyr’:\n",
      "\n",
      "    expand\n",
      "\n",
      "\n"
     ]
    },
    {
     "name": "stderr",
     "output_type": "stream",
     "text": [
      "The following object is masked from ‘package:utils’:\n",
      "\n",
      "    findMatches\n",
      "\n",
      "\n"
     ]
    },
    {
     "name": "stderr",
     "output_type": "stream",
     "text": [
      "The following objects are masked from ‘package:base’:\n",
      "\n",
      "    expand.grid, I, unname\n",
      "\n",
      "\n"
     ]
    },
    {
     "name": "stderr",
     "output_type": "stream",
     "text": [
      "Loading required package: IRanges\n",
      "\n"
     ]
    },
    {
     "name": "stderr",
     "output_type": "stream",
     "text": [
      "\n",
      "Attaching package: ‘IRanges’\n",
      "\n",
      "\n"
     ]
    },
    {
     "name": "stderr",
     "output_type": "stream",
     "text": [
      "The following object is masked from ‘package:lubridate’:\n",
      "\n",
      "    %within%\n",
      "\n",
      "\n"
     ]
    },
    {
     "name": "stderr",
     "output_type": "stream",
     "text": [
      "The following objects are masked from ‘package:dplyr’:\n",
      "\n",
      "    collapse, desc, slice\n",
      "\n",
      "\n"
     ]
    },
    {
     "name": "stderr",
     "output_type": "stream",
     "text": [
      "The following object is masked from ‘package:purrr’:\n",
      "\n",
      "    reduce\n",
      "\n",
      "\n"
     ]
    },
    {
     "name": "stderr",
     "output_type": "stream",
     "text": [
      "Loading required package: GenomicRanges\n",
      "\n"
     ]
    },
    {
     "name": "stderr",
     "output_type": "stream",
     "text": [
      "Loading required package: Biostrings\n",
      "\n"
     ]
    },
    {
     "name": "stderr",
     "output_type": "stream",
     "text": [
      "Loading required package: XVector\n",
      "\n"
     ]
    },
    {
     "name": "stderr",
     "output_type": "stream",
     "text": [
      "\n",
      "Attaching package: ‘XVector’\n",
      "\n",
      "\n"
     ]
    },
    {
     "name": "stderr",
     "output_type": "stream",
     "text": [
      "The following object is masked from ‘package:purrr’:\n",
      "\n",
      "    compact\n",
      "\n",
      "\n"
     ]
    },
    {
     "name": "stderr",
     "output_type": "stream",
     "text": [
      "\n",
      "Attaching package: ‘Biostrings’\n",
      "\n",
      "\n"
     ]
    },
    {
     "name": "stderr",
     "output_type": "stream",
     "text": [
      "The following object is masked from ‘package:base’:\n",
      "\n",
      "    strsplit\n",
      "\n",
      "\n"
     ]
    },
    {
     "name": "stderr",
     "output_type": "stream",
     "text": [
      "Loading required package: GenomicAlignments\n",
      "\n"
     ]
    },
    {
     "name": "stderr",
     "output_type": "stream",
     "text": [
      "Loading required package: SummarizedExperiment\n",
      "\n"
     ]
    },
    {
     "name": "stderr",
     "output_type": "stream",
     "text": [
      "Loading required package: MatrixGenerics\n",
      "\n"
     ]
    },
    {
     "name": "stderr",
     "output_type": "stream",
     "text": [
      "Loading required package: matrixStats\n",
      "\n"
     ]
    },
    {
     "name": "stderr",
     "output_type": "stream",
     "text": [
      "\n",
      "Attaching package: ‘matrixStats’\n",
      "\n",
      "\n"
     ]
    },
    {
     "name": "stderr",
     "output_type": "stream",
     "text": [
      "The following object is masked from ‘package:dplyr’:\n",
      "\n",
      "    count\n",
      "\n",
      "\n"
     ]
    },
    {
     "name": "stderr",
     "output_type": "stream",
     "text": [
      "\n",
      "Attaching package: ‘MatrixGenerics’\n",
      "\n",
      "\n"
     ]
    },
    {
     "name": "stderr",
     "output_type": "stream",
     "text": [
      "The following objects are masked from ‘package:matrixStats’:\n",
      "\n",
      "    colAlls, colAnyNAs, colAnys, colAvgsPerRowSet, colCollapse,\n",
      "    colCounts, colCummaxs, colCummins, colCumprods, colCumsums,\n",
      "    colDiffs, colIQRDiffs, colIQRs, colLogSumExps, colMadDiffs,\n",
      "    colMads, colMaxs, colMeans2, colMedians, colMins, colOrderStats,\n",
      "    colProds, colQuantiles, colRanges, colRanks, colSdDiffs, colSds,\n",
      "    colSums2, colTabulates, colVarDiffs, colVars, colWeightedMads,\n",
      "    colWeightedMeans, colWeightedMedians, colWeightedSds,\n",
      "    colWeightedVars, rowAlls, rowAnyNAs, rowAnys, rowAvgsPerColSet,\n",
      "    rowCollapse, rowCounts, rowCummaxs, rowCummins, rowCumprods,\n",
      "    rowCumsums, rowDiffs, rowIQRDiffs, rowIQRs, rowLogSumExps,\n",
      "    rowMadDiffs, rowMads, rowMaxs, rowMeans2, rowMedians, rowMins,\n",
      "    rowOrderStats, rowProds, rowQuantiles, rowRanges, rowRanks,\n",
      "    rowSdDiffs, rowSds, rowSums2, rowTabulates, rowVarDiffs, rowVars,\n",
      "    rowWeightedMads, rowWeightedMeans, rowWeightedMedians,\n",
      "    rowWeightedSds, rowWeightedVars\n",
      "\n",
      "\n"
     ]
    },
    {
     "name": "stderr",
     "output_type": "stream",
     "text": [
      "Loading required package: Biobase\n",
      "\n"
     ]
    },
    {
     "name": "stderr",
     "output_type": "stream",
     "text": [
      "Welcome to Bioconductor\n",
      "\n",
      "    Vignettes contain introductory material; view with\n",
      "    'browseVignettes()'. To cite Bioconductor, see\n",
      "    'citation(\"Biobase\")', and for packages 'citation(\"pkgname\")'.\n",
      "\n",
      "\n"
     ]
    },
    {
     "name": "stderr",
     "output_type": "stream",
     "text": [
      "\n",
      "Attaching package: ‘Biobase’\n",
      "\n",
      "\n"
     ]
    },
    {
     "name": "stderr",
     "output_type": "stream",
     "text": [
      "The following object is masked from ‘package:MatrixGenerics’:\n",
      "\n",
      "    rowMedians\n",
      "\n",
      "\n"
     ]
    },
    {
     "name": "stderr",
     "output_type": "stream",
     "text": [
      "The following objects are masked from ‘package:matrixStats’:\n",
      "\n",
      "    anyMissing, rowMedians\n",
      "\n",
      "\n"
     ]
    },
    {
     "name": "stderr",
     "output_type": "stream",
     "text": [
      "\n",
      "Attaching package: ‘GenomicAlignments’\n",
      "\n",
      "\n"
     ]
    },
    {
     "name": "stderr",
     "output_type": "stream",
     "text": [
      "The following object is masked from ‘package:dplyr’:\n",
      "\n",
      "    last\n",
      "\n",
      "\n"
     ]
    },
    {
     "name": "stderr",
     "output_type": "stream",
     "text": [
      "Loading required package: foreach\n",
      "\n"
     ]
    },
    {
     "name": "stderr",
     "output_type": "stream",
     "text": [
      "\n",
      "Attaching package: ‘foreach’\n",
      "\n",
      "\n"
     ]
    },
    {
     "name": "stderr",
     "output_type": "stream",
     "text": [
      "The following objects are masked from ‘package:purrr’:\n",
      "\n",
      "    accumulate, when\n",
      "\n",
      "\n"
     ]
    },
    {
     "name": "stderr",
     "output_type": "stream",
     "text": [
      "Loading required package: doParallel\n",
      "\n"
     ]
    },
    {
     "name": "stderr",
     "output_type": "stream",
     "text": [
      "Loading required package: iterators\n",
      "\n"
     ]
    },
    {
     "name": "stderr",
     "output_type": "stream",
     "text": [
      "Loading required package: parallel\n",
      "\n"
     ]
    },
    {
     "name": "stderr",
     "output_type": "stream",
     "text": [
      "Loading required package: pwalign\n",
      "\n"
     ]
    },
    {
     "name": "stderr",
     "output_type": "stream",
     "text": [
      "\n",
      "Attaching package: ‘pwalign’\n",
      "\n",
      "\n"
     ]
    },
    {
     "name": "stderr",
     "output_type": "stream",
     "text": [
      "The following objects are masked from ‘package:Biostrings’:\n",
      "\n",
      "    aligned, alignedPattern, alignedSubject, compareStrings, deletion,\n",
      "    errorSubstitutionMatrices, indel, insertion, mismatchSummary,\n",
      "    mismatchTable, nedit, nindel, nucleotideSubstitutionMatrix,\n",
      "    pairwiseAlignment, PairwiseAlignments,\n",
      "    PairwiseAlignmentsSingleSubject, pid, qualitySubstitutionMatrices,\n",
      "    stringDist, unaligned, writePairwiseAlignments\n",
      "\n",
      "\n"
     ]
    },
    {
     "name": "stderr",
     "output_type": "stream",
     "text": [
      "Loading required package: data.table\n",
      "\n"
     ]
    },
    {
     "name": "stderr",
     "output_type": "stream",
     "text": [
      "\n",
      "Attaching package: ‘data.table’\n",
      "\n",
      "\n"
     ]
    },
    {
     "name": "stderr",
     "output_type": "stream",
     "text": [
      "The following objects are masked from ‘package:GenomicAlignments’:\n",
      "\n",
      "    first, last, second\n",
      "\n",
      "\n"
     ]
    },
    {
     "name": "stderr",
     "output_type": "stream",
     "text": [
      "The following object is masked from ‘package:SummarizedExperiment’:\n",
      "\n",
      "    shift\n",
      "\n",
      "\n"
     ]
    },
    {
     "name": "stderr",
     "output_type": "stream",
     "text": [
      "The following object is masked from ‘package:GenomicRanges’:\n",
      "\n",
      "    shift\n",
      "\n",
      "\n"
     ]
    },
    {
     "name": "stderr",
     "output_type": "stream",
     "text": [
      "The following object is masked from ‘package:IRanges’:\n",
      "\n",
      "    shift\n",
      "\n",
      "\n"
     ]
    },
    {
     "name": "stderr",
     "output_type": "stream",
     "text": [
      "The following objects are masked from ‘package:S4Vectors’:\n",
      "\n",
      "    first, second\n",
      "\n",
      "\n"
     ]
    },
    {
     "name": "stderr",
     "output_type": "stream",
     "text": [
      "The following objects are masked from ‘package:lubridate’:\n",
      "\n",
      "    hour, isoweek, mday, minute, month, quarter, second, wday, week,\n",
      "    yday, year\n",
      "\n",
      "\n"
     ]
    },
    {
     "name": "stderr",
     "output_type": "stream",
     "text": [
      "The following objects are masked from ‘package:dplyr’:\n",
      "\n",
      "    between, first, last\n",
      "\n",
      "\n"
     ]
    },
    {
     "name": "stderr",
     "output_type": "stream",
     "text": [
      "The following object is masked from ‘package:purrr’:\n",
      "\n",
      "    transpose\n",
      "\n",
      "\n"
     ]
    },
    {
     "name": "stderr",
     "output_type": "stream",
     "text": [
      "Loading required package: scales\n",
      "\n"
     ]
    },
    {
     "name": "stderr",
     "output_type": "stream",
     "text": [
      "\n",
      "Attaching package: ‘scales’\n",
      "\n",
      "\n"
     ]
    },
    {
     "name": "stderr",
     "output_type": "stream",
     "text": [
      "The following object is masked from ‘package:purrr’:\n",
      "\n",
      "    discard\n",
      "\n",
      "\n"
     ]
    },
    {
     "name": "stderr",
     "output_type": "stream",
     "text": [
      "The following object is masked from ‘package:readr’:\n",
      "\n",
      "    col_factor\n",
      "\n",
      "\n"
     ]
    },
    {
     "name": "stderr",
     "output_type": "stream",
     "text": [
      "Loading required package: heatmaps\n",
      "\n"
     ]
    },
    {
     "name": "stderr",
     "output_type": "stream",
     "text": [
      "\n",
      "Attaching package: ‘heatmaps’\n",
      "\n",
      "\n"
     ]
    },
    {
     "name": "stderr",
     "output_type": "stream",
     "text": [
      "The following object is masked from ‘package:SummarizedExperiment’:\n",
      "\n",
      "    metadata<-\n",
      "\n",
      "\n"
     ]
    },
    {
     "name": "stderr",
     "output_type": "stream",
     "text": [
      "The following objects are masked from ‘package:S4Vectors’:\n",
      "\n",
      "    metadata, metadata<-\n",
      "\n",
      "\n"
     ]
    },
    {
     "name": "stderr",
     "output_type": "stream",
     "text": [
      "The following object is masked from ‘package:lubridate’:\n",
      "\n",
      "    ym\n",
      "\n",
      "\n"
     ]
    },
    {
     "name": "stderr",
     "output_type": "stream",
     "text": [
      "The following object is masked from ‘package:base’:\n",
      "\n",
      "    scale\n",
      "\n",
      "\n"
     ]
    },
    {
     "name": "stderr",
     "output_type": "stream",
     "text": [
      "Loading required package: IRdisplay\n",
      "\n"
     ]
    },
    {
     "data": {
      "text/html": [
       "<ol>\n",
       "\t<li>TRUE</li>\n",
       "\t<li>TRUE</li>\n",
       "\t<li>TRUE</li>\n",
       "\t<li>TRUE</li>\n",
       "\t<li>TRUE</li>\n",
       "\t<li>TRUE</li>\n",
       "\t<li>TRUE</li>\n",
       "\t<li>TRUE</li>\n",
       "\t<li>TRUE</li>\n",
       "\t<li>TRUE</li>\n",
       "\t<li>TRUE</li>\n",
       "\t<li>TRUE</li>\n",
       "</ol>\n"
      ],
      "text/latex": [
       "\\begin{enumerate}\n",
       "\\item TRUE\n",
       "\\item TRUE\n",
       "\\item TRUE\n",
       "\\item TRUE\n",
       "\\item TRUE\n",
       "\\item TRUE\n",
       "\\item TRUE\n",
       "\\item TRUE\n",
       "\\item TRUE\n",
       "\\item TRUE\n",
       "\\item TRUE\n",
       "\\item TRUE\n",
       "\\end{enumerate}\n"
      ],
      "text/markdown": [
       "1. TRUE\n",
       "2. TRUE\n",
       "3. TRUE\n",
       "4. TRUE\n",
       "5. TRUE\n",
       "6. TRUE\n",
       "7. TRUE\n",
       "8. TRUE\n",
       "9. TRUE\n",
       "10. TRUE\n",
       "11. TRUE\n",
       "12. TRUE\n",
       "\n",
       "\n"
      ],
      "text/plain": [
       "[[1]]\n",
       "[1] TRUE\n",
       "\n",
       "[[2]]\n",
       "[1] TRUE\n",
       "\n",
       "[[3]]\n",
       "[1] TRUE\n",
       "\n",
       "[[4]]\n",
       "[1] TRUE\n",
       "\n",
       "[[5]]\n",
       "[1] TRUE\n",
       "\n",
       "[[6]]\n",
       "[1] TRUE\n",
       "\n",
       "[[7]]\n",
       "[1] TRUE\n",
       "\n",
       "[[8]]\n",
       "[1] TRUE\n",
       "\n",
       "[[9]]\n",
       "[1] TRUE\n",
       "\n",
       "[[10]]\n",
       "[1] TRUE\n",
       "\n",
       "[[11]]\n",
       "[1] TRUE\n",
       "\n",
       "[[12]]\n",
       "[1] TRUE\n"
      ]
     },
     "metadata": {},
     "output_type": "display_data"
    }
   ],
   "source": [
    "# 20240531 alorenzetti\n",
    "\n",
    "# description ####\n",
    "# this script will analyze\n",
    "# the 5 RACE nanopore seq\n",
    "# results\n",
    "\n",
    "# setting up ####\n",
    "# loading libs\n",
    "packs = c(\n",
    " \"tidyverse\",\n",
    " \"openxlsx\",\n",
    " \"Rsamtools\",\n",
    " \"GenomicAlignments\",\n",
    " \"foreach\",\n",
    " \"doParallel\",\n",
    " \"Biostrings\",\n",
    " \"pwalign\",\n",
    " \"data.table\",\n",
    " \"scales\",\n",
    " \"heatmaps\",\n",
    " \"IRdisplay\"\n",
    ")\n",
    "\n",
    "lapply(packs, require, character.only = TRUE)\n",
    "\n",
    "# setting theme\n",
    "theme_set(theme_bw())\n",
    "\n",
    "# loading ggthemes data\n",
    "load(\"../_h/ggthemes_data.rda\")\n",
    "tab10_pal = ggthemes_data[[\"tableau\"]][[\"color-palettes\"]][[\"regular\"]][[\"Tableau 10\"]]\n",
    "tab10_pal_colblind = ggthemes_data[[\"tableau\"]][[\"color-palettes\"]][[\"regular\"]][[\"Color Blind\"]]\n",
    "\n",
    "# setting working directory relative to _h\n",
    "if(!dir.exists(\"../_m\")){dir.create(\"../_m\")}\n",
    "setwd(\"../_m/\")"
   ]
  },
  {
   "cell_type": "code",
   "execution_count": 2,
   "id": "138b2be8-2c22-40fa-aebf-40c5176dd85f",
   "metadata": {
    "execution": {
     "iopub.execute_input": "2024-06-11T14:17:46.198529Z",
     "iopub.status.busy": "2024-06-11T14:17:46.153464Z",
     "iopub.status.idle": "2024-06-11T14:17:46.215369Z",
     "shell.execute_reply": "2024-06-11T14:17:46.212524Z"
    },
    "vscode": {
     "languageId": "r"
    }
   },
   "outputs": [],
   "source": [
    "# # workaround to install new packages inside the container\n",
    "# # while it is not ready\n",
    "# if(!dir.exists(\"~/R_libs\")){dir.create(\"~/R_libs\")}\n",
    "# .libPaths(c(\"~/R_libs\", .libPaths()))\n",
    "# BiocManager::install(\"heatmaps\")"
   ]
  },
  {
   "cell_type": "code",
   "execution_count": 3,
   "id": "3cc00d12-232b-47fb-8028-07e8bcb84dc0",
   "metadata": {
    "execution": {
     "iopub.execute_input": "2024-06-11T14:17:46.226975Z",
     "iopub.status.busy": "2024-06-11T14:17:46.224805Z",
     "iopub.status.idle": "2024-06-11T14:17:46.246536Z",
     "shell.execute_reply": "2024-06-11T14:17:46.243720Z"
    },
    "vscode": {
     "languageId": "r"
    }
   },
   "outputs": [],
   "source": [
    "# defining theme pubr\n",
    "# from ggpubr package\n",
    "# https://github.com/kassambara/ggpubr/blob/master/R/theme_pubr.R\n",
    "theme_pubr <- function (base_size = 12, base_family = \"\",\n",
    "                        border = FALSE, margin = TRUE,\n",
    "                        legend = c(\"top\", \"bottom\", \"left\", \"right\", \"none\"),\n",
    "                        x.text.angle = 0)\n",
    "{\n",
    "  half_line <- base_size/2\n",
    "  if(!is.numeric(legend)) legend <- match.arg(legend)\n",
    "  if(x.text.angle > 5) xhjust <- 1 else xhjust <- NULL\n",
    "\n",
    "  if(border){\n",
    "    panel.border <- element_rect(fill = NA, colour = \"black\", size = 0.7)\n",
    "    axis.line <- element_blank()\n",
    "  }\n",
    "  else{\n",
    "    panel.border <- element_blank()\n",
    "    axis.line = element_line(colour = \"black\", size = 0.5)\n",
    "  }\n",
    "\n",
    "\n",
    "  if(margin)\n",
    "    plot.margin <- margin(half_line, half_line, half_line,\n",
    "                          half_line)\n",
    "  else plot.margin <- unit(c(0.5,0.3,0.3,0.3),\"mm\")\n",
    "\n",
    "  .theme <- theme_bw(base_size = base_size, base_family = base_family) %+replace%\n",
    "    theme(panel.border = panel.border,\n",
    "          panel.grid.major = element_blank(),\n",
    "          panel.grid.minor = element_blank(),\n",
    "          axis.line = axis.line, axis.text = element_text(color = \"black\"),\n",
    "          legend.key = element_blank(),\n",
    "          strip.background = element_rect(fill = \"#F2F2F2\", colour = \"black\", size = 0.7),\n",
    "          plot.margin = plot.margin,\n",
    "          legend.position = legend,\n",
    "          complete = TRUE)\n",
    "\n",
    "  if(x.text.angle!=0)\n",
    "    .theme <- .theme + theme(axis.text.x = element_text(angle = x.text.angle, hjust = xhjust))\n",
    "\n",
    "  .theme\n",
    "}"
   ]
  },
  {
   "cell_type": "code",
   "execution_count": 4,
   "id": "fd85ba5f-f6df-4573-84a5-750bfc039f21",
   "metadata": {
    "execution": {
     "iopub.execute_input": "2024-06-11T14:17:46.257990Z",
     "iopub.status.busy": "2024-06-11T14:17:46.255635Z",
     "iopub.status.idle": "2024-06-11T14:17:46.277426Z",
     "shell.execute_reply": "2024-06-11T14:17:46.274535Z"
    },
    "vscode": {
     "languageId": "r"
    }
   },
   "outputs": [],
   "source": [
    "# setting up functions ####\n",
    "# read bam files\n",
    "read_bam = function(bamfile, libname, region = NULL){\n",
    "\n",
    "    filepath = bamfile\n",
    "    \n",
    "    params = ScanBamParam(what = c(\"flag\",\n",
    "                                   \"qname\",\n",
    "                                   \"rname\",\n",
    "                                   \"strand\",\n",
    "                                   \"pos\",\n",
    "                                   \"qwidth\",\n",
    "                                   \"cigar\",\n",
    "                                   \"seq\",\n",
    "                                   \"qual\",\n",
    "                                   \"mapq\"),\n",
    "                          flag = scanBamFlag(isSecondaryAlignment = F,\n",
    "                                             isSupplementaryAlignment = F),\n",
    "                          tag = c(\"qs\", \"dx\", \"RG\")\n",
    "                         )\n",
    "    \n",
    "    if(!is.null(region)){\n",
    "        roi = makeGRangesFromDataFrame(df = region,\n",
    "                                       ignore.strand = T)\n",
    "        params = ScanBamParam(what = c(\"flag\",\n",
    "                                       \"qname\",\n",
    "                                       \"rname\",\n",
    "                                       \"strand\",\n",
    "                                       \"pos\",\n",
    "                                       \"qwidth\",\n",
    "                                       \"cigar\",\n",
    "                                       \"seq\",\n",
    "                                       \"qual\",\n",
    "                                       \"mapq\"),\n",
    "                          which = roi,\n",
    "                          flag = scanBamFlag(isSecondaryAlignment = F,\n",
    "                                             isSupplementaryAlignment = F),\n",
    "                          tag = c(\"qs\", \"dx\", \"RG\")\n",
    "                         )\n",
    "    }\n",
    "    \n",
    "    bam = list()\n",
    "    bam$ori = scanBam(file = filepath, param = params)\n",
    "    bam$parsed = tibble(flag = bam$ori[[1]]$flag,\n",
    "                        qname = bam$ori[[1]]$qname,\n",
    "                        rname = bam$ori[[1]]$rname,\n",
    "                        strand = bam$ori[[1]]$strand,\n",
    "                        pos = bam$ori[[1]]$pos,\n",
    "                        qwidth = bam$ori[[1]]$qwidth,\n",
    "                        qwidth_after_softclipping = cigarWidthAlongQuerySpace(bam$ori[[1]]$cigar, after.soft.clipping = T),\n",
    "                        qs_tag = bam$ori[[1]]$tag$qs,\n",
    "                        dx_tag = bam$ori[[1]]$tag$dx,\n",
    "                        RG_tag = bam$ori[[1]]$tag$RG,\n",
    "                        seq = bam$ori[[1]]$seq %>% as.character(),\n",
    "                        qual = bam$ori[[1]]$qual %>% as.character(),\n",
    "                        cigar = bam$ori[[1]]$cigar,\n",
    "                        mapq = bam$ori[[1]]$mapq\n",
    "                       )\n",
    "    \n",
    "    return(bam$parsed)\n",
    "}"
   ]
  },
  {
   "cell_type": "code",
   "execution_count": 5,
   "id": "19032499-5bdd-4388-b6ef-d79a366cc80a",
   "metadata": {
    "execution": {
     "iopub.execute_input": "2024-06-11T14:17:46.290053Z",
     "iopub.status.busy": "2024-06-11T14:17:46.287798Z",
     "iopub.status.idle": "2024-06-11T14:17:46.308957Z",
     "shell.execute_reply": "2024-06-11T14:17:46.306128Z"
    },
    "vscode": {
     "languageId": "r"
    }
   },
   "outputs": [],
   "source": [
    "# these functions will detect whether there is more\n",
    "# than one hit of a string in a sequence\n",
    "count_str_nhits = function(input_line, pattern, col_names){\n",
    "\n",
    "    max_mm = round(0.2 * nchar(pattern))\n",
    "    \n",
    "    pw = countPattern(pattern = pattern,\n",
    "                      subject = input_line$seq,\n",
    "                      max.mismatch = max_mm,\n",
    "                      with.indels = T,\n",
    "                      algorithm = \"auto\")\n",
    "\n",
    "    new = tibble(!!col_names[1] := input_line$qname,\n",
    "                 !!col_names[2] := input_line$RG_tag,\n",
    "                 !!col_names[3] := pw)\n",
    "\n",
    "    return(new)\n",
    "}"
   ]
  },
  {
   "cell_type": "code",
   "execution_count": 6,
   "id": "04f66d1c-6ea8-44f8-b7df-b0a4ee793515",
   "metadata": {
    "execution": {
     "iopub.execute_input": "2024-06-11T14:17:46.320550Z",
     "iopub.status.busy": "2024-06-11T14:17:46.318218Z",
     "iopub.status.idle": "2024-06-11T14:17:46.338553Z",
     "shell.execute_reply": "2024-06-11T14:17:46.335585Z"
    },
    "vscode": {
     "languageId": "r"
    }
   },
   "outputs": [],
   "source": [
    "search_str_nhits = function(input_table, prefix, pattern, threads = 1){\n",
    "    registerDoParallel(threads)\n",
    "    \n",
    "    column_names = c(\"qname\", \"RG_tag\", paste0(prefix, \"__\", c(\"n_hits\")))\n",
    "\n",
    "    res = foreach(k = 1:dim(input_table)[1], .combine=\"c\") %dopar% {\n",
    "        list(\n",
    "            count_str_nhits(input_line = input_table[k,],\n",
    "                            pattern = pattern,\n",
    "                            col_names = column_names)\n",
    "        )\n",
    "    }\n",
    "\n",
    "    res = rbindlist(res)\n",
    "    \n",
    "    registerDoSEQ()\n",
    "    \n",
    "    return(res)\n",
    "}"
   ]
  },
  {
   "cell_type": "code",
   "execution_count": 7,
   "id": "a9343b31-8d65-4ea2-a604-f7feee12fff5",
   "metadata": {
    "execution": {
     "iopub.execute_input": "2024-06-11T14:17:46.349780Z",
     "iopub.status.busy": "2024-06-11T14:17:46.347591Z",
     "iopub.status.idle": "2024-06-11T14:17:46.371658Z",
     "shell.execute_reply": "2024-06-11T14:17:46.368689Z"
    },
    "vscode": {
     "languageId": "r"
    }
   },
   "outputs": [],
   "source": [
    "# this helper function will run\n",
    "# a pairwise alignment and return a tibble\n",
    "run_pw = function(input_line, pattern, col_names){\n",
    "\n",
    "    pw = pwalign::pairwiseAlignment(pattern = pattern,\n",
    "                                    subject = input_line$seq,\n",
    "                                    type = \"overlap\")\n",
    "    \n",
    "    pat = ranges(pattern(pw))\n",
    "    sub = ranges(subject(pw))\n",
    "\n",
    "    new = tibble(!!col_names[1] := input_line$qname,\n",
    "                 !!col_names[2] := input_line$RG_tag,\n",
    "                 !!col_names[3] := start(sub),\n",
    "                 !!col_names[4] := end(sub),\n",
    "                 !!col_names[5] := width(sub)/nchar(pattern),\n",
    "                 !!col_names[6] := score(pw))\n",
    "\n",
    "    return(new)\n",
    "}"
   ]
  },
  {
   "cell_type": "code",
   "execution_count": 8,
   "id": "88d041ff-e4b4-47dd-9888-231caa1b7826",
   "metadata": {
    "execution": {
     "iopub.execute_input": "2024-06-11T14:17:46.382364Z",
     "iopub.status.busy": "2024-06-11T14:17:46.380005Z",
     "iopub.status.idle": "2024-06-11T14:17:46.401658Z",
     "shell.execute_reply": "2024-06-11T14:17:46.398611Z"
    },
    "vscode": {
     "languageId": "r"
    }
   },
   "outputs": [],
   "source": [
    "# this function will take a table bam table with\n",
    "# seqs and will search for a pattern\n",
    "search_pattern = function(input_table, prefix, pattern, threads = 1){\n",
    "    registerDoParallel(threads)\n",
    "    \n",
    "    column_names = c(\"qname\", \"RG_tag\", paste0(prefix, \"__\", c(\"start\", \"end\", \"coverage\", \"score\")))\n",
    "\n",
    "    res = foreach(k = 1:dim(input_table)[1], .combine=\"c\") %dopar% {\n",
    "        list(\n",
    "            run_pw(input_line = input_table[k,],\n",
    "            pattern = pattern,\n",
    "            col_names = column_names)\n",
    "        )\n",
    "    }\n",
    "\n",
    "    res = rbindlist(res)\n",
    "    \n",
    "    registerDoSEQ()\n",
    "    \n",
    "    return(res)\n",
    "}"
   ]
  },
  {
   "cell_type": "markdown",
   "id": "c633b7a5-751c-420c-9062-c23efdc70ead",
   "metadata": {},
   "source": [
    "## Reading and inspecting source files"
   ]
  },
  {
   "cell_type": "code",
   "execution_count": 9,
   "id": "68bf49f2-7b1a-4e83-a457-7d49b9fa607f",
   "metadata": {
    "execution": {
     "iopub.execute_input": "2024-06-11T14:17:46.413749Z",
     "iopub.status.busy": "2024-06-11T14:17:46.411499Z",
     "iopub.status.idle": "2024-06-11T14:17:51.817398Z",
     "shell.execute_reply": "2024-06-11T14:17:51.814976Z"
    },
    "vscode": {
     "languageId": "r"
    }
   },
   "outputs": [
    {
     "name": "stderr",
     "output_type": "stream",
     "text": [
      "\u001b[1mRows: \u001b[22m\u001b[34m727464\u001b[39m \u001b[1mColumns: \u001b[22m\u001b[34m12\u001b[39m\n"
     ]
    },
    {
     "name": "stderr",
     "output_type": "stream",
     "text": [
      "\u001b[36m──\u001b[39m \u001b[1mColumn specification\u001b[22m \u001b[36m────────────────────────────────────────────────────────\u001b[39m\n",
      "\u001b[1mDelimiter:\u001b[22m \"\\t\"\n",
      "\u001b[31mchr\u001b[39m (4): filename, read_id, run_id, barcode\n",
      "\u001b[32mdbl\u001b[39m (8): channel, mux, start_time, duration, template_start, template_durati...\n"
     ]
    },
    {
     "name": "stderr",
     "output_type": "stream",
     "text": [
      "\n",
      "\u001b[36mℹ\u001b[39m Use `spec()` to retrieve the full column specification for this data.\n",
      "\u001b[36mℹ\u001b[39m Specify the column types or set `show_col_types = FALSE` to quiet this message.\n"
     ]
    }
   ],
   "source": [
    "# main code ####\n",
    "# reading metadata\n",
    "# metadata = read.xlsx(xlsxFile = \"5_RACE_PCRs_2024_by_AMcC.xlsx\")\n",
    "\n",
    "# reading base call summary\n",
    "bc_summary = read_tsv(\"base_called__summary.tsv\")"
   ]
  },
  {
   "cell_type": "code",
   "execution_count": 10,
   "id": "35cca3df-ae96-4d2b-b1da-f8fe9451a7b1",
   "metadata": {
    "execution": {
     "iopub.execute_input": "2024-06-11T14:17:51.826743Z",
     "iopub.status.busy": "2024-06-11T14:17:51.824783Z",
     "iopub.status.idle": "2024-06-11T14:17:52.075381Z",
     "shell.execute_reply": "2024-06-11T14:17:52.072897Z"
    },
    "scrolled": true,
    "vscode": {
     "languageId": "r"
    }
   },
   "outputs": [
    {
     "data": {
      "text/html": [
       "<table class=\"dataframe\">\n",
       "<caption>A spec_tbl_df: 727464 × 12</caption>\n",
       "<thead>\n",
       "\t<tr><th scope=col>filename</th><th scope=col>read_id</th><th scope=col>run_id</th><th scope=col>channel</th><th scope=col>mux</th><th scope=col>start_time</th><th scope=col>duration</th><th scope=col>template_start</th><th scope=col>template_duration</th><th scope=col>sequence_length_template</th><th scope=col>mean_qscore_template</th><th scope=col>barcode</th></tr>\n",
       "\t<tr><th scope=col>&lt;chr&gt;</th><th scope=col>&lt;chr&gt;</th><th scope=col>&lt;chr&gt;</th><th scope=col>&lt;dbl&gt;</th><th scope=col>&lt;dbl&gt;</th><th scope=col>&lt;dbl&gt;</th><th scope=col>&lt;dbl&gt;</th><th scope=col>&lt;dbl&gt;</th><th scope=col>&lt;dbl&gt;</th><th scope=col>&lt;dbl&gt;</th><th scope=col>&lt;dbl&gt;</th><th scope=col>&lt;chr&gt;</th></tr>\n",
       "</thead>\n",
       "<tbody>\n",
       "\t<tr><td>channel-1.pod5</td><td>5d1b418b-6240-446e-acf9-87ca9d550cd4</td><td>174f8d8e228a4690f6d8479c35e41d9a2f0221c7</td><td>1</td><td>1</td><td>8099.21</td><td>0.5012</td><td>8099.21</td><td>0.4992</td><td> 231</td><td>17</td><td>unclassified</td></tr>\n",
       "\t<tr><td>channel-1.pod5</td><td>50b0e21c-15dd-4e5f-b2e0-cad367b74279</td><td>174f8d8e228a4690f6d8479c35e41d9a2f0221c7</td><td>1</td><td>1</td><td>8094.95</td><td>4.1082</td><td>8094.95</td><td>4.1062</td><td>1392</td><td>21</td><td>unclassified</td></tr>\n",
       "\t<tr><td>channel-1.pod5</td><td>c9fa267d-9990-4659-a493-2144edb8a9f3</td><td>174f8d8e228a4690f6d8479c35e41d9a2f0221c7</td><td>1</td><td>1</td><td>8093.84</td><td>0.6748</td><td>8093.85</td><td>0.6728</td><td> 217</td><td>15</td><td>unclassified</td></tr>\n",
       "\t<tr><td>channel-1.pod5</td><td>f1eacef5-8289-4081-8c37-c33e30a1b171</td><td>174f8d8e228a4690f6d8479c35e41d9a2f0221c7</td><td>1</td><td>1</td><td>8094.55</td><td>0.3962</td><td>8094.55</td><td>0.3942</td><td> 178</td><td>13</td><td>unclassified</td></tr>\n",
       "\t<tr><td>channel-1.pod5</td><td>43c13cdc-eb97-4094-abb8-4af694f01158</td><td>174f8d8e228a4690f6d8479c35e41d9a2f0221c7</td><td>1</td><td>1</td><td>8085.69</td><td>0.7178</td><td>8085.70</td><td>0.7158</td><td> 227</td><td>14</td><td>unclassified</td></tr>\n",
       "\t<tr><td>channel-1.pod5</td><td>7d985aaa-fdd7-4f14-a80a-eea856823385</td><td>174f8d8e228a4690f6d8479c35e41d9a2f0221c7</td><td>1</td><td>1</td><td>8085.19</td><td>0.4838</td><td>8085.20</td><td>0.4818</td><td> 219</td><td>17</td><td>unclassified</td></tr>\n",
       "\t<tr><td>channel-1.pod5</td><td>2098cc2c-2e7d-4f1f-a391-7e85ab256c5a</td><td>174f8d8e228a4690f6d8479c35e41d9a2f0221c7</td><td>1</td><td>1</td><td>8084.73</td><td>0.3828</td><td>8084.73</td><td>0.3808</td><td> 185</td><td>12</td><td>unclassified</td></tr>\n",
       "\t<tr><td>channel-1.pod5</td><td>05bfade9-7598-4d6e-9650-0873f3e2f0ff</td><td>174f8d8e228a4690f6d8479c35e41d9a2f0221c7</td><td>1</td><td>1</td><td>8084.14</td><td>0.5500</td><td>8084.14</td><td>0.5480</td><td> 226</td><td>13</td><td>unclassified</td></tr>\n",
       "\t<tr><td>channel-1.pod5</td><td>9335d69c-4fdf-45fa-8089-323b775e5432</td><td>174f8d8e228a4690f6d8479c35e41d9a2f0221c7</td><td>1</td><td>1</td><td>8086.44</td><td>0.5664</td><td>8086.44</td><td>0.5644</td><td> 192</td><td> 9</td><td>unclassified</td></tr>\n",
       "\t<tr><td>channel-1.pod5</td><td>7094460b-ea0a-415b-8891-6516bb04b167</td><td>174f8d8e228a4690f6d8479c35e41d9a2f0221c7</td><td>1</td><td>1</td><td>8082.99</td><td>0.6862</td><td>8082.99</td><td>0.6842</td><td> 188</td><td>17</td><td>unclassified</td></tr>\n",
       "\t<tr><td>channel-1.pod5</td><td>fb070590-be3c-44a1-9d59-76471c190586</td><td>174f8d8e228a4690f6d8479c35e41d9a2f0221c7</td><td>1</td><td>1</td><td>8082.27</td><td>0.6178</td><td>8082.27</td><td>0.6158</td><td> 225</td><td>17</td><td>unclassified</td></tr>\n",
       "\t<tr><td>channel-1.pod5</td><td>ab8d9ac5-a123-4de9-b687-6d4a0e462fc7</td><td>174f8d8e228a4690f6d8479c35e41d9a2f0221c7</td><td>1</td><td>1</td><td>8081.22</td><td>0.9874</td><td>8081.22</td><td>0.9854</td><td> 360</td><td>11</td><td>unclassified</td></tr>\n",
       "\t<tr><td>channel-1.pod5</td><td>3a511818-65e7-4306-b059-4b88f062c7be</td><td>174f8d8e228a4690f6d8479c35e41d9a2f0221c7</td><td>1</td><td>1</td><td>8078.49</td><td>0.4818</td><td>8078.49</td><td>0.4798</td><td> 216</td><td>17</td><td>unclassified</td></tr>\n",
       "\t<tr><td>channel-1.pod5</td><td>926e2167-220d-4951-9fee-207fd4792c79</td><td>174f8d8e228a4690f6d8479c35e41d9a2f0221c7</td><td>1</td><td>1</td><td>8080.70</td><td>0.4448</td><td>8080.70</td><td>0.4428</td><td> 163</td><td>18</td><td>unclassified</td></tr>\n",
       "\t<tr><td>channel-1.pod5</td><td>4f5c4c19-f257-4b78-b114-02dbfa430ec2</td><td>174f8d8e228a4690f6d8479c35e41d9a2f0221c7</td><td>1</td><td>1</td><td>8079.00</td><td>0.4992</td><td>8079.00</td><td>0.4972</td><td> 203</td><td>21</td><td>unclassified</td></tr>\n",
       "\t<tr><td>channel-1.pod5</td><td>2c863c27-067e-4e30-8c48-a764b09e227b</td><td>174f8d8e228a4690f6d8479c35e41d9a2f0221c7</td><td>1</td><td>1</td><td>8017.78</td><td>0.9194</td><td>8017.78</td><td>0.9174</td><td> 440</td><td>12</td><td>unclassified</td></tr>\n",
       "\t<tr><td>channel-1.pod5</td><td>f7ff7d38-7e10-43a2-b708-c783b49d7732</td><td>174f8d8e228a4690f6d8479c35e41d9a2f0221c7</td><td>1</td><td>1</td><td>8008.64</td><td>0.6016</td><td>8008.64</td><td>0.5996</td><td> 262</td><td>12</td><td>unclassified</td></tr>\n",
       "\t<tr><td>channel-1.pod5</td><td>00b744d2-c273-4eb2-bcd2-d34bf65ef46b</td><td>174f8d8e228a4690f6d8479c35e41d9a2f0221c7</td><td>1</td><td>1</td><td>8003.43</td><td>0.4216</td><td>8003.43</td><td>0.4196</td><td> 167</td><td>18</td><td>unclassified</td></tr>\n",
       "\t<tr><td>channel-1.pod5</td><td>9dd5fbc8-f5e2-4c74-ae6d-98d0ab37a922</td><td>174f8d8e228a4690f6d8479c35e41d9a2f0221c7</td><td>1</td><td>1</td><td>8013.25</td><td>4.5268</td><td>8013.25</td><td>4.5248</td><td>2147</td><td>18</td><td>unclassified</td></tr>\n",
       "\t<tr><td>channel-1.pod5</td><td>674fa226-b12f-4acd-a239-31db9c6e968e</td><td>174f8d8e228a4690f6d8479c35e41d9a2f0221c7</td><td>1</td><td>1</td><td>7999.60</td><td>0.3862</td><td>7999.60</td><td>0.3842</td><td> 157</td><td>12</td><td>unclassified</td></tr>\n",
       "\t<tr><td>channel-1.pod5</td><td>9f3a58aa-71ae-45ca-a2e4-28c45fdb258d</td><td>174f8d8e228a4690f6d8479c35e41d9a2f0221c7</td><td>1</td><td>1</td><td>7998.23</td><td>0.5482</td><td>7998.23</td><td>0.5462</td><td> 236</td><td>15</td><td>unclassified</td></tr>\n",
       "\t<tr><td>channel-1.pod5</td><td>37982bc0-411f-4da2-bbbb-7ac8ee86b77d</td><td>174f8d8e228a4690f6d8479c35e41d9a2f0221c7</td><td>1</td><td>1</td><td>7996.54</td><td>0.3934</td><td>7996.54</td><td>0.3914</td><td> 150</td><td>12</td><td>unclassified</td></tr>\n",
       "\t<tr><td>channel-1.pod5</td><td>9024dd68-0e52-4a0c-b298-2c5bcdf1fb3a</td><td>174f8d8e228a4690f6d8479c35e41d9a2f0221c7</td><td>1</td><td>1</td><td>7995.62</td><td>0.9122</td><td>7995.62</td><td>0.9102</td><td> 391</td><td>14</td><td>unclassified</td></tr>\n",
       "\t<tr><td>channel-1.pod5</td><td>668a36b1-b208-49b3-a606-c57dc4d8bae0</td><td>174f8d8e228a4690f6d8479c35e41d9a2f0221c7</td><td>1</td><td>1</td><td>7995.01</td><td>0.5982</td><td>7995.02</td><td>0.5962</td><td> 220</td><td>24</td><td>unclassified</td></tr>\n",
       "\t<tr><td>channel-1.pod5</td><td>0e5a758a-694b-4a15-8df6-17f91ce419d0</td><td>174f8d8e228a4690f6d8479c35e41d9a2f0221c7</td><td>1</td><td>1</td><td>7994.39</td><td>0.5400</td><td>7994.39</td><td>0.5380</td><td> 203</td><td>17</td><td>unclassified</td></tr>\n",
       "\t<tr><td>channel-1.pod5</td><td>3effc148-46f2-4cec-8803-1fa788537ff0</td><td>174f8d8e228a4690f6d8479c35e41d9a2f0221c7</td><td>1</td><td>1</td><td>7993.18</td><td>0.5226</td><td>7993.18</td><td>0.5206</td><td> 203</td><td>16</td><td>unclassified</td></tr>\n",
       "\t<tr><td>channel-1.pod5</td><td>6d084064-ee90-4cfa-8fca-d3f27b8da1db</td><td>174f8d8e228a4690f6d8479c35e41d9a2f0221c7</td><td>1</td><td>1</td><td>7992.34</td><td>0.6734</td><td>7992.34</td><td>0.6714</td><td> 185</td><td>11</td><td>unclassified</td></tr>\n",
       "\t<tr><td>channel-1.pod5</td><td>7c131343-f8ee-4f13-9df2-32452b3b767e</td><td>174f8d8e228a4690f6d8479c35e41d9a2f0221c7</td><td>1</td><td>1</td><td>7990.21</td><td>0.5964</td><td>7990.21</td><td>0.5944</td><td> 232</td><td>21</td><td>unclassified</td></tr>\n",
       "\t<tr><td>channel-1.pod5</td><td>34c87f1f-7db3-4e82-9a56-0a2ebe88d24c</td><td>174f8d8e228a4690f6d8479c35e41d9a2f0221c7</td><td>1</td><td>1</td><td>7990.81</td><td>0.6958</td><td>7990.81</td><td>0.6938</td><td> 221</td><td>12</td><td>unclassified</td></tr>\n",
       "\t<tr><td>channel-1.pod5</td><td>44d8d877-5762-41e4-a6fc-17ad642dc93f</td><td>174f8d8e228a4690f6d8479c35e41d9a2f0221c7</td><td>1</td><td>1</td><td>7987.28</td><td>1.3792</td><td>7987.29</td><td>1.3772</td><td> 663</td><td>15</td><td>unclassified</td></tr>\n",
       "\t<tr><td>⋮</td><td>⋮</td><td>⋮</td><td>⋮</td><td>⋮</td><td>⋮</td><td>⋮</td><td>⋮</td><td>⋮</td><td>⋮</td><td>⋮</td><td>⋮</td></tr>\n",
       "\t<tr><td>NA              </td><td>1442b7ba-f99e-43e2-8ea6-79ced4a7399c;bd16fd19-a5be-4ec0-a0a6-5d279266946f</td><td>174f8d8e228a4690f6d8479c35e41d9a2f0221c7</td><td>126</td><td>1</td><td>5955.93</td><td>0.0000</td><td>    NaN</td><td>   NaN</td><td> 581</td><td>22</td><td>unclassified</td></tr>\n",
       "\t<tr><td>channel-126.pod5</td><td>1442b7ba-f99e-43e2-8ea6-79ced4a7399c                                     </td><td>174f8d8e228a4690f6d8479c35e41d9a2f0221c7</td><td>126</td><td>1</td><td>5955.93</td><td>1.3512</td><td>5955.93</td><td>1.3512</td><td> 654</td><td>14</td><td>unclassified</td></tr>\n",
       "\t<tr><td>channel-126.pod5</td><td>bd16fd19-a5be-4ec0-a0a6-5d279266946f                                     </td><td>174f8d8e228a4690f6d8479c35e41d9a2f0221c7</td><td>126</td><td>1</td><td>5957.29</td><td>1.3718</td><td>5957.29</td><td>1.3718</td><td> 638</td><td>16</td><td>unclassified</td></tr>\n",
       "\t<tr><td>NA              </td><td>f23915aa-b8f1-4d4a-a4b9-ef7b18d82318;81ae59d0-4f71-4b9c-9a28-0da91dabcaa5</td><td>174f8d8e228a4690f6d8479c35e41d9a2f0221c7</td><td>126</td><td>1</td><td>2355.87</td><td>0.0000</td><td>    NaN</td><td>   NaN</td><td>3965</td><td>26</td><td>unclassified</td></tr>\n",
       "\t<tr><td>channel-126.pod5</td><td>f23915aa-b8f1-4d4a-a4b9-ef7b18d82318                                     </td><td>174f8d8e228a4690f6d8479c35e41d9a2f0221c7</td><td>126</td><td>1</td><td>2355.87</td><td>8.5716</td><td>2355.87</td><td>8.5716</td><td>4164</td><td>18</td><td>unclassified</td></tr>\n",
       "\t<tr><td>channel-126.pod5</td><td>81ae59d0-4f71-4b9c-9a28-0da91dabcaa5                                     </td><td>174f8d8e228a4690f6d8479c35e41d9a2f0221c7</td><td>126</td><td>1</td><td>2364.44</td><td>8.0564</td><td>2364.44</td><td>8.0564</td><td>4138</td><td>16</td><td>unclassified</td></tr>\n",
       "\t<tr><td>NA              </td><td>a47f87df-a41a-4fce-979c-8b6ba45b2a18;3ac8452c-1769-4b0b-bd7a-f187d0b9ac89</td><td>174f8d8e228a4690f6d8479c35e41d9a2f0221c7</td><td>126</td><td>1</td><td>6085.48</td><td>0.0000</td><td>    NaN</td><td>   NaN</td><td>1444</td><td>30</td><td>unclassified</td></tr>\n",
       "\t<tr><td>channel-126.pod5</td><td>a47f87df-a41a-4fce-979c-8b6ba45b2a18                                     </td><td>174f8d8e228a4690f6d8479c35e41d9a2f0221c7</td><td>126</td><td>1</td><td>6085.48</td><td>3.1272</td><td>6085.48</td><td>3.1272</td><td>1541</td><td>15</td><td>unclassified</td></tr>\n",
       "\t<tr><td>channel-126.pod5</td><td>3ac8452c-1769-4b0b-bd7a-f187d0b9ac89                                     </td><td>174f8d8e228a4690f6d8479c35e41d9a2f0221c7</td><td>126</td><td>1</td><td>6088.61</td><td>3.3264</td><td>6088.61</td><td>3.3264</td><td>1534</td><td>16</td><td>unclassified</td></tr>\n",
       "\t<tr><td>NA              </td><td>4dd41a61-d804-4a7a-8290-bb9b7ace674e;d61de35f-f460-4bee-9067-7ee297f7c438</td><td>174f8d8e228a4690f6d8479c35e41d9a2f0221c7</td><td>126</td><td>1</td><td>2821.40</td><td>0.0000</td><td>    NaN</td><td>   NaN</td><td>1743</td><td>16</td><td>unclassified</td></tr>\n",
       "\t<tr><td>channel-126.pod5</td><td>4dd41a61-d804-4a7a-8290-bb9b7ace674e                                     </td><td>174f8d8e228a4690f6d8479c35e41d9a2f0221c7</td><td>126</td><td>1</td><td>2821.40</td><td>4.0092</td><td>2821.40</td><td>4.0092</td><td>1941</td><td>15</td><td>unclassified</td></tr>\n",
       "\t<tr><td>NA              </td><td>2dd59c7a-ea83-4a4f-8a9a-501c43b46e74;f77e4774-7e9b-42d8-a924-ab47d7b8a8a9</td><td>174f8d8e228a4690f6d8479c35e41d9a2f0221c7</td><td>126</td><td>1</td><td>3660.46</td><td>0.0000</td><td>    NaN</td><td>   NaN</td><td> 521</td><td>20</td><td>unclassified</td></tr>\n",
       "\t<tr><td>channel-126.pod5</td><td>d61de35f-f460-4bee-9067-7ee297f7c438                                     </td><td>174f8d8e228a4690f6d8479c35e41d9a2f0221c7</td><td>126</td><td>1</td><td>2825.41</td><td>3.7408</td><td>2825.41</td><td>3.7408</td><td>1880</td><td>11</td><td>unclassified</td></tr>\n",
       "\t<tr><td>channel-126.pod5</td><td>2dd59c7a-ea83-4a4f-8a9a-501c43b46e74                                     </td><td>174f8d8e228a4690f6d8479c35e41d9a2f0221c7</td><td>126</td><td>1</td><td>3660.46</td><td>1.3930</td><td>3660.46</td><td>1.3910</td><td> 651</td><td>15</td><td>unclassified</td></tr>\n",
       "\t<tr><td>channel-126.pod5</td><td>f77e4774-7e9b-42d8-a924-ab47d7b8a8a9                                     </td><td>174f8d8e228a4690f6d8479c35e41d9a2f0221c7</td><td>126</td><td>1</td><td>3661.86</td><td>1.2980</td><td>3661.86</td><td>1.2960</td><td> 665</td><td>13</td><td>unclassified</td></tr>\n",
       "\t<tr><td>NA              </td><td>03202b69-47bf-4180-a600-4e5b586154f2;1a284d0e-f6a0-4133-9fb7-36de4c5c341b</td><td>174f8d8e228a4690f6d8479c35e41d9a2f0221c7</td><td>126</td><td>1</td><td>4121.40</td><td>0.0000</td><td>    NaN</td><td>   NaN</td><td>1322</td><td>19</td><td>unclassified</td></tr>\n",
       "\t<tr><td>channel-126.pod5</td><td>03202b69-47bf-4180-a600-4e5b586154f2                                     </td><td>174f8d8e228a4690f6d8479c35e41d9a2f0221c7</td><td>126</td><td>1</td><td>4121.40</td><td>4.0164</td><td>4121.40</td><td>4.0164</td><td>1547</td><td>15</td><td>unclassified</td></tr>\n",
       "\t<tr><td>channel-126.pod5</td><td>1a284d0e-f6a0-4133-9fb7-36de4c5c341b                                     </td><td>174f8d8e228a4690f6d8479c35e41d9a2f0221c7</td><td>126</td><td>1</td><td>4125.42</td><td>2.6024</td><td>4125.42</td><td>2.6024</td><td>1491</td><td> 9</td><td>unclassified</td></tr>\n",
       "\t<tr><td>NA              </td><td>577cf3a3-3a58-4583-a898-1e9d2edc5379;c902362a-f952-497a-b21b-3ccf7e5f96b1</td><td>174f8d8e228a4690f6d8479c35e41d9a2f0221c7</td><td>126</td><td>1</td><td>4411.36</td><td>0.0000</td><td>    NaN</td><td>   NaN</td><td> 531</td><td>20</td><td>unclassified</td></tr>\n",
       "\t<tr><td>channel-126.pod5</td><td>577cf3a3-3a58-4583-a898-1e9d2edc5379                                     </td><td>174f8d8e228a4690f6d8479c35e41d9a2f0221c7</td><td>126</td><td>1</td><td>4411.36</td><td>1.3846</td><td>4411.36</td><td>1.3826</td><td> 660</td><td>14</td><td>unclassified</td></tr>\n",
       "\t<tr><td>channel-126.pod5</td><td>c902362a-f952-497a-b21b-3ccf7e5f96b1                                     </td><td>174f8d8e228a4690f6d8479c35e41d9a2f0221c7</td><td>126</td><td>1</td><td>4412.75</td><td>1.1212</td><td>4412.75</td><td>1.1192</td><td> 656</td><td>12</td><td>unclassified</td></tr>\n",
       "\t<tr><td>NA              </td><td>5b0dd8b5-621b-4c9d-a918-d0d8296b511e;ed90b670-c031-4ff8-8495-964062a122f4</td><td>174f8d8e228a4690f6d8479c35e41d9a2f0221c7</td><td>126</td><td>1</td><td>4866.38</td><td>0.0000</td><td>    NaN</td><td>   NaN</td><td>1156</td><td>21</td><td>unclassified</td></tr>\n",
       "\t<tr><td>channel-126.pod5</td><td>5b0dd8b5-621b-4c9d-a918-d0d8296b511e                                     </td><td>174f8d8e228a4690f6d8479c35e41d9a2f0221c7</td><td>126</td><td>1</td><td>4866.38</td><td>2.8524</td><td>4866.38</td><td>2.8524</td><td>1382</td><td>14</td><td>unclassified</td></tr>\n",
       "\t<tr><td>channel-126.pod5</td><td>ed90b670-c031-4ff8-8495-964062a122f4                                     </td><td>174f8d8e228a4690f6d8479c35e41d9a2f0221c7</td><td>126</td><td>1</td><td>4869.24</td><td>2.2842</td><td>4869.24</td><td>2.2842</td><td>1306</td><td> 9</td><td>unclassified</td></tr>\n",
       "\t<tr><td>NA              </td><td>52102c4b-2911-4bf5-965a-fd3dc4d44fda;faaaa5b4-566a-45e0-9424-d262083dba3e</td><td>174f8d8e228a4690f6d8479c35e41d9a2f0221c7</td><td>126</td><td>1</td><td>4971.85</td><td>0.0000</td><td>    NaN</td><td>   NaN</td><td> 701</td><td>18</td><td>unclassified</td></tr>\n",
       "\t<tr><td>channel-126.pod5</td><td>52102c4b-2911-4bf5-965a-fd3dc4d44fda                                     </td><td>174f8d8e228a4690f6d8479c35e41d9a2f0221c7</td><td>126</td><td>1</td><td>4971.85</td><td>1.7028</td><td>4971.85</td><td>1.7028</td><td> 823</td><td>14</td><td>unclassified</td></tr>\n",
       "\t<tr><td>channel-126.pod5</td><td>faaaa5b4-566a-45e0-9424-d262083dba3e                                     </td><td>174f8d8e228a4690f6d8479c35e41d9a2f0221c7</td><td>126</td><td>1</td><td>4973.56</td><td>2.4204</td><td>4973.56</td><td>2.4204</td><td> 791</td><td>15</td><td>unclassified</td></tr>\n",
       "\t<tr><td>NA              </td><td>c171799e-7b0f-4175-b336-0136fce33c9f;2912999a-c36b-460e-acfb-88778e32aff0</td><td>174f8d8e228a4690f6d8479c35e41d9a2f0221c7</td><td>126</td><td>1</td><td>4689.52</td><td>0.0000</td><td>    NaN</td><td>   NaN</td><td> 584</td><td>26</td><td>unclassified</td></tr>\n",
       "\t<tr><td>channel-126.pod5</td><td>c171799e-7b0f-4175-b336-0136fce33c9f                                     </td><td>174f8d8e228a4690f6d8479c35e41d9a2f0221c7</td><td>126</td><td>1</td><td>4689.52</td><td>1.3310</td><td>4689.52</td><td>1.3290</td><td> 662</td><td>18</td><td>unclassified</td></tr>\n",
       "\t<tr><td>channel-126.pod5</td><td>2912999a-c36b-460e-acfb-88778e32aff0                                     </td><td>174f8d8e228a4690f6d8479c35e41d9a2f0221c7</td><td>126</td><td>1</td><td>4690.94</td><td>1.4370</td><td>4690.95</td><td>1.4350</td><td> 651</td><td>13</td><td>unclassified</td></tr>\n",
       "</tbody>\n",
       "</table>\n"
      ],
      "text/latex": [
       "A spec\\_tbl\\_df: 727464 × 12\n",
       "\\begin{tabular}{llllllllllll}\n",
       " filename & read\\_id & run\\_id & channel & mux & start\\_time & duration & template\\_start & template\\_duration & sequence\\_length\\_template & mean\\_qscore\\_template & barcode\\\\\n",
       " <chr> & <chr> & <chr> & <dbl> & <dbl> & <dbl> & <dbl> & <dbl> & <dbl> & <dbl> & <dbl> & <chr>\\\\\n",
       "\\hline\n",
       "\t channel-1.pod5 & 5d1b418b-6240-446e-acf9-87ca9d550cd4 & 174f8d8e228a4690f6d8479c35e41d9a2f0221c7 & 1 & 1 & 8099.21 & 0.5012 & 8099.21 & 0.4992 &  231 & 17 & unclassified\\\\\n",
       "\t channel-1.pod5 & 50b0e21c-15dd-4e5f-b2e0-cad367b74279 & 174f8d8e228a4690f6d8479c35e41d9a2f0221c7 & 1 & 1 & 8094.95 & 4.1082 & 8094.95 & 4.1062 & 1392 & 21 & unclassified\\\\\n",
       "\t channel-1.pod5 & c9fa267d-9990-4659-a493-2144edb8a9f3 & 174f8d8e228a4690f6d8479c35e41d9a2f0221c7 & 1 & 1 & 8093.84 & 0.6748 & 8093.85 & 0.6728 &  217 & 15 & unclassified\\\\\n",
       "\t channel-1.pod5 & f1eacef5-8289-4081-8c37-c33e30a1b171 & 174f8d8e228a4690f6d8479c35e41d9a2f0221c7 & 1 & 1 & 8094.55 & 0.3962 & 8094.55 & 0.3942 &  178 & 13 & unclassified\\\\\n",
       "\t channel-1.pod5 & 43c13cdc-eb97-4094-abb8-4af694f01158 & 174f8d8e228a4690f6d8479c35e41d9a2f0221c7 & 1 & 1 & 8085.69 & 0.7178 & 8085.70 & 0.7158 &  227 & 14 & unclassified\\\\\n",
       "\t channel-1.pod5 & 7d985aaa-fdd7-4f14-a80a-eea856823385 & 174f8d8e228a4690f6d8479c35e41d9a2f0221c7 & 1 & 1 & 8085.19 & 0.4838 & 8085.20 & 0.4818 &  219 & 17 & unclassified\\\\\n",
       "\t channel-1.pod5 & 2098cc2c-2e7d-4f1f-a391-7e85ab256c5a & 174f8d8e228a4690f6d8479c35e41d9a2f0221c7 & 1 & 1 & 8084.73 & 0.3828 & 8084.73 & 0.3808 &  185 & 12 & unclassified\\\\\n",
       "\t channel-1.pod5 & 05bfade9-7598-4d6e-9650-0873f3e2f0ff & 174f8d8e228a4690f6d8479c35e41d9a2f0221c7 & 1 & 1 & 8084.14 & 0.5500 & 8084.14 & 0.5480 &  226 & 13 & unclassified\\\\\n",
       "\t channel-1.pod5 & 9335d69c-4fdf-45fa-8089-323b775e5432 & 174f8d8e228a4690f6d8479c35e41d9a2f0221c7 & 1 & 1 & 8086.44 & 0.5664 & 8086.44 & 0.5644 &  192 &  9 & unclassified\\\\\n",
       "\t channel-1.pod5 & 7094460b-ea0a-415b-8891-6516bb04b167 & 174f8d8e228a4690f6d8479c35e41d9a2f0221c7 & 1 & 1 & 8082.99 & 0.6862 & 8082.99 & 0.6842 &  188 & 17 & unclassified\\\\\n",
       "\t channel-1.pod5 & fb070590-be3c-44a1-9d59-76471c190586 & 174f8d8e228a4690f6d8479c35e41d9a2f0221c7 & 1 & 1 & 8082.27 & 0.6178 & 8082.27 & 0.6158 &  225 & 17 & unclassified\\\\\n",
       "\t channel-1.pod5 & ab8d9ac5-a123-4de9-b687-6d4a0e462fc7 & 174f8d8e228a4690f6d8479c35e41d9a2f0221c7 & 1 & 1 & 8081.22 & 0.9874 & 8081.22 & 0.9854 &  360 & 11 & unclassified\\\\\n",
       "\t channel-1.pod5 & 3a511818-65e7-4306-b059-4b88f062c7be & 174f8d8e228a4690f6d8479c35e41d9a2f0221c7 & 1 & 1 & 8078.49 & 0.4818 & 8078.49 & 0.4798 &  216 & 17 & unclassified\\\\\n",
       "\t channel-1.pod5 & 926e2167-220d-4951-9fee-207fd4792c79 & 174f8d8e228a4690f6d8479c35e41d9a2f0221c7 & 1 & 1 & 8080.70 & 0.4448 & 8080.70 & 0.4428 &  163 & 18 & unclassified\\\\\n",
       "\t channel-1.pod5 & 4f5c4c19-f257-4b78-b114-02dbfa430ec2 & 174f8d8e228a4690f6d8479c35e41d9a2f0221c7 & 1 & 1 & 8079.00 & 0.4992 & 8079.00 & 0.4972 &  203 & 21 & unclassified\\\\\n",
       "\t channel-1.pod5 & 2c863c27-067e-4e30-8c48-a764b09e227b & 174f8d8e228a4690f6d8479c35e41d9a2f0221c7 & 1 & 1 & 8017.78 & 0.9194 & 8017.78 & 0.9174 &  440 & 12 & unclassified\\\\\n",
       "\t channel-1.pod5 & f7ff7d38-7e10-43a2-b708-c783b49d7732 & 174f8d8e228a4690f6d8479c35e41d9a2f0221c7 & 1 & 1 & 8008.64 & 0.6016 & 8008.64 & 0.5996 &  262 & 12 & unclassified\\\\\n",
       "\t channel-1.pod5 & 00b744d2-c273-4eb2-bcd2-d34bf65ef46b & 174f8d8e228a4690f6d8479c35e41d9a2f0221c7 & 1 & 1 & 8003.43 & 0.4216 & 8003.43 & 0.4196 &  167 & 18 & unclassified\\\\\n",
       "\t channel-1.pod5 & 9dd5fbc8-f5e2-4c74-ae6d-98d0ab37a922 & 174f8d8e228a4690f6d8479c35e41d9a2f0221c7 & 1 & 1 & 8013.25 & 4.5268 & 8013.25 & 4.5248 & 2147 & 18 & unclassified\\\\\n",
       "\t channel-1.pod5 & 674fa226-b12f-4acd-a239-31db9c6e968e & 174f8d8e228a4690f6d8479c35e41d9a2f0221c7 & 1 & 1 & 7999.60 & 0.3862 & 7999.60 & 0.3842 &  157 & 12 & unclassified\\\\\n",
       "\t channel-1.pod5 & 9f3a58aa-71ae-45ca-a2e4-28c45fdb258d & 174f8d8e228a4690f6d8479c35e41d9a2f0221c7 & 1 & 1 & 7998.23 & 0.5482 & 7998.23 & 0.5462 &  236 & 15 & unclassified\\\\\n",
       "\t channel-1.pod5 & 37982bc0-411f-4da2-bbbb-7ac8ee86b77d & 174f8d8e228a4690f6d8479c35e41d9a2f0221c7 & 1 & 1 & 7996.54 & 0.3934 & 7996.54 & 0.3914 &  150 & 12 & unclassified\\\\\n",
       "\t channel-1.pod5 & 9024dd68-0e52-4a0c-b298-2c5bcdf1fb3a & 174f8d8e228a4690f6d8479c35e41d9a2f0221c7 & 1 & 1 & 7995.62 & 0.9122 & 7995.62 & 0.9102 &  391 & 14 & unclassified\\\\\n",
       "\t channel-1.pod5 & 668a36b1-b208-49b3-a606-c57dc4d8bae0 & 174f8d8e228a4690f6d8479c35e41d9a2f0221c7 & 1 & 1 & 7995.01 & 0.5982 & 7995.02 & 0.5962 &  220 & 24 & unclassified\\\\\n",
       "\t channel-1.pod5 & 0e5a758a-694b-4a15-8df6-17f91ce419d0 & 174f8d8e228a4690f6d8479c35e41d9a2f0221c7 & 1 & 1 & 7994.39 & 0.5400 & 7994.39 & 0.5380 &  203 & 17 & unclassified\\\\\n",
       "\t channel-1.pod5 & 3effc148-46f2-4cec-8803-1fa788537ff0 & 174f8d8e228a4690f6d8479c35e41d9a2f0221c7 & 1 & 1 & 7993.18 & 0.5226 & 7993.18 & 0.5206 &  203 & 16 & unclassified\\\\\n",
       "\t channel-1.pod5 & 6d084064-ee90-4cfa-8fca-d3f27b8da1db & 174f8d8e228a4690f6d8479c35e41d9a2f0221c7 & 1 & 1 & 7992.34 & 0.6734 & 7992.34 & 0.6714 &  185 & 11 & unclassified\\\\\n",
       "\t channel-1.pod5 & 7c131343-f8ee-4f13-9df2-32452b3b767e & 174f8d8e228a4690f6d8479c35e41d9a2f0221c7 & 1 & 1 & 7990.21 & 0.5964 & 7990.21 & 0.5944 &  232 & 21 & unclassified\\\\\n",
       "\t channel-1.pod5 & 34c87f1f-7db3-4e82-9a56-0a2ebe88d24c & 174f8d8e228a4690f6d8479c35e41d9a2f0221c7 & 1 & 1 & 7990.81 & 0.6958 & 7990.81 & 0.6938 &  221 & 12 & unclassified\\\\\n",
       "\t channel-1.pod5 & 44d8d877-5762-41e4-a6fc-17ad642dc93f & 174f8d8e228a4690f6d8479c35e41d9a2f0221c7 & 1 & 1 & 7987.28 & 1.3792 & 7987.29 & 1.3772 &  663 & 15 & unclassified\\\\\n",
       "\t ⋮ & ⋮ & ⋮ & ⋮ & ⋮ & ⋮ & ⋮ & ⋮ & ⋮ & ⋮ & ⋮ & ⋮\\\\\n",
       "\t NA               & 1442b7ba-f99e-43e2-8ea6-79ced4a7399c;bd16fd19-a5be-4ec0-a0a6-5d279266946f & 174f8d8e228a4690f6d8479c35e41d9a2f0221c7 & 126 & 1 & 5955.93 & 0.0000 &     NaN &    NaN &  581 & 22 & unclassified\\\\\n",
       "\t channel-126.pod5 & 1442b7ba-f99e-43e2-8ea6-79ced4a7399c                                      & 174f8d8e228a4690f6d8479c35e41d9a2f0221c7 & 126 & 1 & 5955.93 & 1.3512 & 5955.93 & 1.3512 &  654 & 14 & unclassified\\\\\n",
       "\t channel-126.pod5 & bd16fd19-a5be-4ec0-a0a6-5d279266946f                                      & 174f8d8e228a4690f6d8479c35e41d9a2f0221c7 & 126 & 1 & 5957.29 & 1.3718 & 5957.29 & 1.3718 &  638 & 16 & unclassified\\\\\n",
       "\t NA               & f23915aa-b8f1-4d4a-a4b9-ef7b18d82318;81ae59d0-4f71-4b9c-9a28-0da91dabcaa5 & 174f8d8e228a4690f6d8479c35e41d9a2f0221c7 & 126 & 1 & 2355.87 & 0.0000 &     NaN &    NaN & 3965 & 26 & unclassified\\\\\n",
       "\t channel-126.pod5 & f23915aa-b8f1-4d4a-a4b9-ef7b18d82318                                      & 174f8d8e228a4690f6d8479c35e41d9a2f0221c7 & 126 & 1 & 2355.87 & 8.5716 & 2355.87 & 8.5716 & 4164 & 18 & unclassified\\\\\n",
       "\t channel-126.pod5 & 81ae59d0-4f71-4b9c-9a28-0da91dabcaa5                                      & 174f8d8e228a4690f6d8479c35e41d9a2f0221c7 & 126 & 1 & 2364.44 & 8.0564 & 2364.44 & 8.0564 & 4138 & 16 & unclassified\\\\\n",
       "\t NA               & a47f87df-a41a-4fce-979c-8b6ba45b2a18;3ac8452c-1769-4b0b-bd7a-f187d0b9ac89 & 174f8d8e228a4690f6d8479c35e41d9a2f0221c7 & 126 & 1 & 6085.48 & 0.0000 &     NaN &    NaN & 1444 & 30 & unclassified\\\\\n",
       "\t channel-126.pod5 & a47f87df-a41a-4fce-979c-8b6ba45b2a18                                      & 174f8d8e228a4690f6d8479c35e41d9a2f0221c7 & 126 & 1 & 6085.48 & 3.1272 & 6085.48 & 3.1272 & 1541 & 15 & unclassified\\\\\n",
       "\t channel-126.pod5 & 3ac8452c-1769-4b0b-bd7a-f187d0b9ac89                                      & 174f8d8e228a4690f6d8479c35e41d9a2f0221c7 & 126 & 1 & 6088.61 & 3.3264 & 6088.61 & 3.3264 & 1534 & 16 & unclassified\\\\\n",
       "\t NA               & 4dd41a61-d804-4a7a-8290-bb9b7ace674e;d61de35f-f460-4bee-9067-7ee297f7c438 & 174f8d8e228a4690f6d8479c35e41d9a2f0221c7 & 126 & 1 & 2821.40 & 0.0000 &     NaN &    NaN & 1743 & 16 & unclassified\\\\\n",
       "\t channel-126.pod5 & 4dd41a61-d804-4a7a-8290-bb9b7ace674e                                      & 174f8d8e228a4690f6d8479c35e41d9a2f0221c7 & 126 & 1 & 2821.40 & 4.0092 & 2821.40 & 4.0092 & 1941 & 15 & unclassified\\\\\n",
       "\t NA               & 2dd59c7a-ea83-4a4f-8a9a-501c43b46e74;f77e4774-7e9b-42d8-a924-ab47d7b8a8a9 & 174f8d8e228a4690f6d8479c35e41d9a2f0221c7 & 126 & 1 & 3660.46 & 0.0000 &     NaN &    NaN &  521 & 20 & unclassified\\\\\n",
       "\t channel-126.pod5 & d61de35f-f460-4bee-9067-7ee297f7c438                                      & 174f8d8e228a4690f6d8479c35e41d9a2f0221c7 & 126 & 1 & 2825.41 & 3.7408 & 2825.41 & 3.7408 & 1880 & 11 & unclassified\\\\\n",
       "\t channel-126.pod5 & 2dd59c7a-ea83-4a4f-8a9a-501c43b46e74                                      & 174f8d8e228a4690f6d8479c35e41d9a2f0221c7 & 126 & 1 & 3660.46 & 1.3930 & 3660.46 & 1.3910 &  651 & 15 & unclassified\\\\\n",
       "\t channel-126.pod5 & f77e4774-7e9b-42d8-a924-ab47d7b8a8a9                                      & 174f8d8e228a4690f6d8479c35e41d9a2f0221c7 & 126 & 1 & 3661.86 & 1.2980 & 3661.86 & 1.2960 &  665 & 13 & unclassified\\\\\n",
       "\t NA               & 03202b69-47bf-4180-a600-4e5b586154f2;1a284d0e-f6a0-4133-9fb7-36de4c5c341b & 174f8d8e228a4690f6d8479c35e41d9a2f0221c7 & 126 & 1 & 4121.40 & 0.0000 &     NaN &    NaN & 1322 & 19 & unclassified\\\\\n",
       "\t channel-126.pod5 & 03202b69-47bf-4180-a600-4e5b586154f2                                      & 174f8d8e228a4690f6d8479c35e41d9a2f0221c7 & 126 & 1 & 4121.40 & 4.0164 & 4121.40 & 4.0164 & 1547 & 15 & unclassified\\\\\n",
       "\t channel-126.pod5 & 1a284d0e-f6a0-4133-9fb7-36de4c5c341b                                      & 174f8d8e228a4690f6d8479c35e41d9a2f0221c7 & 126 & 1 & 4125.42 & 2.6024 & 4125.42 & 2.6024 & 1491 &  9 & unclassified\\\\\n",
       "\t NA               & 577cf3a3-3a58-4583-a898-1e9d2edc5379;c902362a-f952-497a-b21b-3ccf7e5f96b1 & 174f8d8e228a4690f6d8479c35e41d9a2f0221c7 & 126 & 1 & 4411.36 & 0.0000 &     NaN &    NaN &  531 & 20 & unclassified\\\\\n",
       "\t channel-126.pod5 & 577cf3a3-3a58-4583-a898-1e9d2edc5379                                      & 174f8d8e228a4690f6d8479c35e41d9a2f0221c7 & 126 & 1 & 4411.36 & 1.3846 & 4411.36 & 1.3826 &  660 & 14 & unclassified\\\\\n",
       "\t channel-126.pod5 & c902362a-f952-497a-b21b-3ccf7e5f96b1                                      & 174f8d8e228a4690f6d8479c35e41d9a2f0221c7 & 126 & 1 & 4412.75 & 1.1212 & 4412.75 & 1.1192 &  656 & 12 & unclassified\\\\\n",
       "\t NA               & 5b0dd8b5-621b-4c9d-a918-d0d8296b511e;ed90b670-c031-4ff8-8495-964062a122f4 & 174f8d8e228a4690f6d8479c35e41d9a2f0221c7 & 126 & 1 & 4866.38 & 0.0000 &     NaN &    NaN & 1156 & 21 & unclassified\\\\\n",
       "\t channel-126.pod5 & 5b0dd8b5-621b-4c9d-a918-d0d8296b511e                                      & 174f8d8e228a4690f6d8479c35e41d9a2f0221c7 & 126 & 1 & 4866.38 & 2.8524 & 4866.38 & 2.8524 & 1382 & 14 & unclassified\\\\\n",
       "\t channel-126.pod5 & ed90b670-c031-4ff8-8495-964062a122f4                                      & 174f8d8e228a4690f6d8479c35e41d9a2f0221c7 & 126 & 1 & 4869.24 & 2.2842 & 4869.24 & 2.2842 & 1306 &  9 & unclassified\\\\\n",
       "\t NA               & 52102c4b-2911-4bf5-965a-fd3dc4d44fda;faaaa5b4-566a-45e0-9424-d262083dba3e & 174f8d8e228a4690f6d8479c35e41d9a2f0221c7 & 126 & 1 & 4971.85 & 0.0000 &     NaN &    NaN &  701 & 18 & unclassified\\\\\n",
       "\t channel-126.pod5 & 52102c4b-2911-4bf5-965a-fd3dc4d44fda                                      & 174f8d8e228a4690f6d8479c35e41d9a2f0221c7 & 126 & 1 & 4971.85 & 1.7028 & 4971.85 & 1.7028 &  823 & 14 & unclassified\\\\\n",
       "\t channel-126.pod5 & faaaa5b4-566a-45e0-9424-d262083dba3e                                      & 174f8d8e228a4690f6d8479c35e41d9a2f0221c7 & 126 & 1 & 4973.56 & 2.4204 & 4973.56 & 2.4204 &  791 & 15 & unclassified\\\\\n",
       "\t NA               & c171799e-7b0f-4175-b336-0136fce33c9f;2912999a-c36b-460e-acfb-88778e32aff0 & 174f8d8e228a4690f6d8479c35e41d9a2f0221c7 & 126 & 1 & 4689.52 & 0.0000 &     NaN &    NaN &  584 & 26 & unclassified\\\\\n",
       "\t channel-126.pod5 & c171799e-7b0f-4175-b336-0136fce33c9f                                      & 174f8d8e228a4690f6d8479c35e41d9a2f0221c7 & 126 & 1 & 4689.52 & 1.3310 & 4689.52 & 1.3290 &  662 & 18 & unclassified\\\\\n",
       "\t channel-126.pod5 & 2912999a-c36b-460e-acfb-88778e32aff0                                      & 174f8d8e228a4690f6d8479c35e41d9a2f0221c7 & 126 & 1 & 4690.94 & 1.4370 & 4690.95 & 1.4350 &  651 & 13 & unclassified\\\\\n",
       "\\end{tabular}\n"
      ],
      "text/markdown": [
       "\n",
       "A spec_tbl_df: 727464 × 12\n",
       "\n",
       "| filename &lt;chr&gt; | read_id &lt;chr&gt; | run_id &lt;chr&gt; | channel &lt;dbl&gt; | mux &lt;dbl&gt; | start_time &lt;dbl&gt; | duration &lt;dbl&gt; | template_start &lt;dbl&gt; | template_duration &lt;dbl&gt; | sequence_length_template &lt;dbl&gt; | mean_qscore_template &lt;dbl&gt; | barcode &lt;chr&gt; |\n",
       "|---|---|---|---|---|---|---|---|---|---|---|---|\n",
       "| channel-1.pod5 | 5d1b418b-6240-446e-acf9-87ca9d550cd4 | 174f8d8e228a4690f6d8479c35e41d9a2f0221c7 | 1 | 1 | 8099.21 | 0.5012 | 8099.21 | 0.4992 |  231 | 17 | unclassified |\n",
       "| channel-1.pod5 | 50b0e21c-15dd-4e5f-b2e0-cad367b74279 | 174f8d8e228a4690f6d8479c35e41d9a2f0221c7 | 1 | 1 | 8094.95 | 4.1082 | 8094.95 | 4.1062 | 1392 | 21 | unclassified |\n",
       "| channel-1.pod5 | c9fa267d-9990-4659-a493-2144edb8a9f3 | 174f8d8e228a4690f6d8479c35e41d9a2f0221c7 | 1 | 1 | 8093.84 | 0.6748 | 8093.85 | 0.6728 |  217 | 15 | unclassified |\n",
       "| channel-1.pod5 | f1eacef5-8289-4081-8c37-c33e30a1b171 | 174f8d8e228a4690f6d8479c35e41d9a2f0221c7 | 1 | 1 | 8094.55 | 0.3962 | 8094.55 | 0.3942 |  178 | 13 | unclassified |\n",
       "| channel-1.pod5 | 43c13cdc-eb97-4094-abb8-4af694f01158 | 174f8d8e228a4690f6d8479c35e41d9a2f0221c7 | 1 | 1 | 8085.69 | 0.7178 | 8085.70 | 0.7158 |  227 | 14 | unclassified |\n",
       "| channel-1.pod5 | 7d985aaa-fdd7-4f14-a80a-eea856823385 | 174f8d8e228a4690f6d8479c35e41d9a2f0221c7 | 1 | 1 | 8085.19 | 0.4838 | 8085.20 | 0.4818 |  219 | 17 | unclassified |\n",
       "| channel-1.pod5 | 2098cc2c-2e7d-4f1f-a391-7e85ab256c5a | 174f8d8e228a4690f6d8479c35e41d9a2f0221c7 | 1 | 1 | 8084.73 | 0.3828 | 8084.73 | 0.3808 |  185 | 12 | unclassified |\n",
       "| channel-1.pod5 | 05bfade9-7598-4d6e-9650-0873f3e2f0ff | 174f8d8e228a4690f6d8479c35e41d9a2f0221c7 | 1 | 1 | 8084.14 | 0.5500 | 8084.14 | 0.5480 |  226 | 13 | unclassified |\n",
       "| channel-1.pod5 | 9335d69c-4fdf-45fa-8089-323b775e5432 | 174f8d8e228a4690f6d8479c35e41d9a2f0221c7 | 1 | 1 | 8086.44 | 0.5664 | 8086.44 | 0.5644 |  192 |  9 | unclassified |\n",
       "| channel-1.pod5 | 7094460b-ea0a-415b-8891-6516bb04b167 | 174f8d8e228a4690f6d8479c35e41d9a2f0221c7 | 1 | 1 | 8082.99 | 0.6862 | 8082.99 | 0.6842 |  188 | 17 | unclassified |\n",
       "| channel-1.pod5 | fb070590-be3c-44a1-9d59-76471c190586 | 174f8d8e228a4690f6d8479c35e41d9a2f0221c7 | 1 | 1 | 8082.27 | 0.6178 | 8082.27 | 0.6158 |  225 | 17 | unclassified |\n",
       "| channel-1.pod5 | ab8d9ac5-a123-4de9-b687-6d4a0e462fc7 | 174f8d8e228a4690f6d8479c35e41d9a2f0221c7 | 1 | 1 | 8081.22 | 0.9874 | 8081.22 | 0.9854 |  360 | 11 | unclassified |\n",
       "| channel-1.pod5 | 3a511818-65e7-4306-b059-4b88f062c7be | 174f8d8e228a4690f6d8479c35e41d9a2f0221c7 | 1 | 1 | 8078.49 | 0.4818 | 8078.49 | 0.4798 |  216 | 17 | unclassified |\n",
       "| channel-1.pod5 | 926e2167-220d-4951-9fee-207fd4792c79 | 174f8d8e228a4690f6d8479c35e41d9a2f0221c7 | 1 | 1 | 8080.70 | 0.4448 | 8080.70 | 0.4428 |  163 | 18 | unclassified |\n",
       "| channel-1.pod5 | 4f5c4c19-f257-4b78-b114-02dbfa430ec2 | 174f8d8e228a4690f6d8479c35e41d9a2f0221c7 | 1 | 1 | 8079.00 | 0.4992 | 8079.00 | 0.4972 |  203 | 21 | unclassified |\n",
       "| channel-1.pod5 | 2c863c27-067e-4e30-8c48-a764b09e227b | 174f8d8e228a4690f6d8479c35e41d9a2f0221c7 | 1 | 1 | 8017.78 | 0.9194 | 8017.78 | 0.9174 |  440 | 12 | unclassified |\n",
       "| channel-1.pod5 | f7ff7d38-7e10-43a2-b708-c783b49d7732 | 174f8d8e228a4690f6d8479c35e41d9a2f0221c7 | 1 | 1 | 8008.64 | 0.6016 | 8008.64 | 0.5996 |  262 | 12 | unclassified |\n",
       "| channel-1.pod5 | 00b744d2-c273-4eb2-bcd2-d34bf65ef46b | 174f8d8e228a4690f6d8479c35e41d9a2f0221c7 | 1 | 1 | 8003.43 | 0.4216 | 8003.43 | 0.4196 |  167 | 18 | unclassified |\n",
       "| channel-1.pod5 | 9dd5fbc8-f5e2-4c74-ae6d-98d0ab37a922 | 174f8d8e228a4690f6d8479c35e41d9a2f0221c7 | 1 | 1 | 8013.25 | 4.5268 | 8013.25 | 4.5248 | 2147 | 18 | unclassified |\n",
       "| channel-1.pod5 | 674fa226-b12f-4acd-a239-31db9c6e968e | 174f8d8e228a4690f6d8479c35e41d9a2f0221c7 | 1 | 1 | 7999.60 | 0.3862 | 7999.60 | 0.3842 |  157 | 12 | unclassified |\n",
       "| channel-1.pod5 | 9f3a58aa-71ae-45ca-a2e4-28c45fdb258d | 174f8d8e228a4690f6d8479c35e41d9a2f0221c7 | 1 | 1 | 7998.23 | 0.5482 | 7998.23 | 0.5462 |  236 | 15 | unclassified |\n",
       "| channel-1.pod5 | 37982bc0-411f-4da2-bbbb-7ac8ee86b77d | 174f8d8e228a4690f6d8479c35e41d9a2f0221c7 | 1 | 1 | 7996.54 | 0.3934 | 7996.54 | 0.3914 |  150 | 12 | unclassified |\n",
       "| channel-1.pod5 | 9024dd68-0e52-4a0c-b298-2c5bcdf1fb3a | 174f8d8e228a4690f6d8479c35e41d9a2f0221c7 | 1 | 1 | 7995.62 | 0.9122 | 7995.62 | 0.9102 |  391 | 14 | unclassified |\n",
       "| channel-1.pod5 | 668a36b1-b208-49b3-a606-c57dc4d8bae0 | 174f8d8e228a4690f6d8479c35e41d9a2f0221c7 | 1 | 1 | 7995.01 | 0.5982 | 7995.02 | 0.5962 |  220 | 24 | unclassified |\n",
       "| channel-1.pod5 | 0e5a758a-694b-4a15-8df6-17f91ce419d0 | 174f8d8e228a4690f6d8479c35e41d9a2f0221c7 | 1 | 1 | 7994.39 | 0.5400 | 7994.39 | 0.5380 |  203 | 17 | unclassified |\n",
       "| channel-1.pod5 | 3effc148-46f2-4cec-8803-1fa788537ff0 | 174f8d8e228a4690f6d8479c35e41d9a2f0221c7 | 1 | 1 | 7993.18 | 0.5226 | 7993.18 | 0.5206 |  203 | 16 | unclassified |\n",
       "| channel-1.pod5 | 6d084064-ee90-4cfa-8fca-d3f27b8da1db | 174f8d8e228a4690f6d8479c35e41d9a2f0221c7 | 1 | 1 | 7992.34 | 0.6734 | 7992.34 | 0.6714 |  185 | 11 | unclassified |\n",
       "| channel-1.pod5 | 7c131343-f8ee-4f13-9df2-32452b3b767e | 174f8d8e228a4690f6d8479c35e41d9a2f0221c7 | 1 | 1 | 7990.21 | 0.5964 | 7990.21 | 0.5944 |  232 | 21 | unclassified |\n",
       "| channel-1.pod5 | 34c87f1f-7db3-4e82-9a56-0a2ebe88d24c | 174f8d8e228a4690f6d8479c35e41d9a2f0221c7 | 1 | 1 | 7990.81 | 0.6958 | 7990.81 | 0.6938 |  221 | 12 | unclassified |\n",
       "| channel-1.pod5 | 44d8d877-5762-41e4-a6fc-17ad642dc93f | 174f8d8e228a4690f6d8479c35e41d9a2f0221c7 | 1 | 1 | 7987.28 | 1.3792 | 7987.29 | 1.3772 |  663 | 15 | unclassified |\n",
       "| ⋮ | ⋮ | ⋮ | ⋮ | ⋮ | ⋮ | ⋮ | ⋮ | ⋮ | ⋮ | ⋮ | ⋮ |\n",
       "| NA               | 1442b7ba-f99e-43e2-8ea6-79ced4a7399c;bd16fd19-a5be-4ec0-a0a6-5d279266946f | 174f8d8e228a4690f6d8479c35e41d9a2f0221c7 | 126 | 1 | 5955.93 | 0.0000 |     NaN |    NaN |  581 | 22 | unclassified |\n",
       "| channel-126.pod5 | 1442b7ba-f99e-43e2-8ea6-79ced4a7399c                                      | 174f8d8e228a4690f6d8479c35e41d9a2f0221c7 | 126 | 1 | 5955.93 | 1.3512 | 5955.93 | 1.3512 |  654 | 14 | unclassified |\n",
       "| channel-126.pod5 | bd16fd19-a5be-4ec0-a0a6-5d279266946f                                      | 174f8d8e228a4690f6d8479c35e41d9a2f0221c7 | 126 | 1 | 5957.29 | 1.3718 | 5957.29 | 1.3718 |  638 | 16 | unclassified |\n",
       "| NA               | f23915aa-b8f1-4d4a-a4b9-ef7b18d82318;81ae59d0-4f71-4b9c-9a28-0da91dabcaa5 | 174f8d8e228a4690f6d8479c35e41d9a2f0221c7 | 126 | 1 | 2355.87 | 0.0000 |     NaN |    NaN | 3965 | 26 | unclassified |\n",
       "| channel-126.pod5 | f23915aa-b8f1-4d4a-a4b9-ef7b18d82318                                      | 174f8d8e228a4690f6d8479c35e41d9a2f0221c7 | 126 | 1 | 2355.87 | 8.5716 | 2355.87 | 8.5716 | 4164 | 18 | unclassified |\n",
       "| channel-126.pod5 | 81ae59d0-4f71-4b9c-9a28-0da91dabcaa5                                      | 174f8d8e228a4690f6d8479c35e41d9a2f0221c7 | 126 | 1 | 2364.44 | 8.0564 | 2364.44 | 8.0564 | 4138 | 16 | unclassified |\n",
       "| NA               | a47f87df-a41a-4fce-979c-8b6ba45b2a18;3ac8452c-1769-4b0b-bd7a-f187d0b9ac89 | 174f8d8e228a4690f6d8479c35e41d9a2f0221c7 | 126 | 1 | 6085.48 | 0.0000 |     NaN |    NaN | 1444 | 30 | unclassified |\n",
       "| channel-126.pod5 | a47f87df-a41a-4fce-979c-8b6ba45b2a18                                      | 174f8d8e228a4690f6d8479c35e41d9a2f0221c7 | 126 | 1 | 6085.48 | 3.1272 | 6085.48 | 3.1272 | 1541 | 15 | unclassified |\n",
       "| channel-126.pod5 | 3ac8452c-1769-4b0b-bd7a-f187d0b9ac89                                      | 174f8d8e228a4690f6d8479c35e41d9a2f0221c7 | 126 | 1 | 6088.61 | 3.3264 | 6088.61 | 3.3264 | 1534 | 16 | unclassified |\n",
       "| NA               | 4dd41a61-d804-4a7a-8290-bb9b7ace674e;d61de35f-f460-4bee-9067-7ee297f7c438 | 174f8d8e228a4690f6d8479c35e41d9a2f0221c7 | 126 | 1 | 2821.40 | 0.0000 |     NaN |    NaN | 1743 | 16 | unclassified |\n",
       "| channel-126.pod5 | 4dd41a61-d804-4a7a-8290-bb9b7ace674e                                      | 174f8d8e228a4690f6d8479c35e41d9a2f0221c7 | 126 | 1 | 2821.40 | 4.0092 | 2821.40 | 4.0092 | 1941 | 15 | unclassified |\n",
       "| NA               | 2dd59c7a-ea83-4a4f-8a9a-501c43b46e74;f77e4774-7e9b-42d8-a924-ab47d7b8a8a9 | 174f8d8e228a4690f6d8479c35e41d9a2f0221c7 | 126 | 1 | 3660.46 | 0.0000 |     NaN |    NaN |  521 | 20 | unclassified |\n",
       "| channel-126.pod5 | d61de35f-f460-4bee-9067-7ee297f7c438                                      | 174f8d8e228a4690f6d8479c35e41d9a2f0221c7 | 126 | 1 | 2825.41 | 3.7408 | 2825.41 | 3.7408 | 1880 | 11 | unclassified |\n",
       "| channel-126.pod5 | 2dd59c7a-ea83-4a4f-8a9a-501c43b46e74                                      | 174f8d8e228a4690f6d8479c35e41d9a2f0221c7 | 126 | 1 | 3660.46 | 1.3930 | 3660.46 | 1.3910 |  651 | 15 | unclassified |\n",
       "| channel-126.pod5 | f77e4774-7e9b-42d8-a924-ab47d7b8a8a9                                      | 174f8d8e228a4690f6d8479c35e41d9a2f0221c7 | 126 | 1 | 3661.86 | 1.2980 | 3661.86 | 1.2960 |  665 | 13 | unclassified |\n",
       "| NA               | 03202b69-47bf-4180-a600-4e5b586154f2;1a284d0e-f6a0-4133-9fb7-36de4c5c341b | 174f8d8e228a4690f6d8479c35e41d9a2f0221c7 | 126 | 1 | 4121.40 | 0.0000 |     NaN |    NaN | 1322 | 19 | unclassified |\n",
       "| channel-126.pod5 | 03202b69-47bf-4180-a600-4e5b586154f2                                      | 174f8d8e228a4690f6d8479c35e41d9a2f0221c7 | 126 | 1 | 4121.40 | 4.0164 | 4121.40 | 4.0164 | 1547 | 15 | unclassified |\n",
       "| channel-126.pod5 | 1a284d0e-f6a0-4133-9fb7-36de4c5c341b                                      | 174f8d8e228a4690f6d8479c35e41d9a2f0221c7 | 126 | 1 | 4125.42 | 2.6024 | 4125.42 | 2.6024 | 1491 |  9 | unclassified |\n",
       "| NA               | 577cf3a3-3a58-4583-a898-1e9d2edc5379;c902362a-f952-497a-b21b-3ccf7e5f96b1 | 174f8d8e228a4690f6d8479c35e41d9a2f0221c7 | 126 | 1 | 4411.36 | 0.0000 |     NaN |    NaN |  531 | 20 | unclassified |\n",
       "| channel-126.pod5 | 577cf3a3-3a58-4583-a898-1e9d2edc5379                                      | 174f8d8e228a4690f6d8479c35e41d9a2f0221c7 | 126 | 1 | 4411.36 | 1.3846 | 4411.36 | 1.3826 |  660 | 14 | unclassified |\n",
       "| channel-126.pod5 | c902362a-f952-497a-b21b-3ccf7e5f96b1                                      | 174f8d8e228a4690f6d8479c35e41d9a2f0221c7 | 126 | 1 | 4412.75 | 1.1212 | 4412.75 | 1.1192 |  656 | 12 | unclassified |\n",
       "| NA               | 5b0dd8b5-621b-4c9d-a918-d0d8296b511e;ed90b670-c031-4ff8-8495-964062a122f4 | 174f8d8e228a4690f6d8479c35e41d9a2f0221c7 | 126 | 1 | 4866.38 | 0.0000 |     NaN |    NaN | 1156 | 21 | unclassified |\n",
       "| channel-126.pod5 | 5b0dd8b5-621b-4c9d-a918-d0d8296b511e                                      | 174f8d8e228a4690f6d8479c35e41d9a2f0221c7 | 126 | 1 | 4866.38 | 2.8524 | 4866.38 | 2.8524 | 1382 | 14 | unclassified |\n",
       "| channel-126.pod5 | ed90b670-c031-4ff8-8495-964062a122f4                                      | 174f8d8e228a4690f6d8479c35e41d9a2f0221c7 | 126 | 1 | 4869.24 | 2.2842 | 4869.24 | 2.2842 | 1306 |  9 | unclassified |\n",
       "| NA               | 52102c4b-2911-4bf5-965a-fd3dc4d44fda;faaaa5b4-566a-45e0-9424-d262083dba3e | 174f8d8e228a4690f6d8479c35e41d9a2f0221c7 | 126 | 1 | 4971.85 | 0.0000 |     NaN |    NaN |  701 | 18 | unclassified |\n",
       "| channel-126.pod5 | 52102c4b-2911-4bf5-965a-fd3dc4d44fda                                      | 174f8d8e228a4690f6d8479c35e41d9a2f0221c7 | 126 | 1 | 4971.85 | 1.7028 | 4971.85 | 1.7028 |  823 | 14 | unclassified |\n",
       "| channel-126.pod5 | faaaa5b4-566a-45e0-9424-d262083dba3e                                      | 174f8d8e228a4690f6d8479c35e41d9a2f0221c7 | 126 | 1 | 4973.56 | 2.4204 | 4973.56 | 2.4204 |  791 | 15 | unclassified |\n",
       "| NA               | c171799e-7b0f-4175-b336-0136fce33c9f;2912999a-c36b-460e-acfb-88778e32aff0 | 174f8d8e228a4690f6d8479c35e41d9a2f0221c7 | 126 | 1 | 4689.52 | 0.0000 |     NaN |    NaN |  584 | 26 | unclassified |\n",
       "| channel-126.pod5 | c171799e-7b0f-4175-b336-0136fce33c9f                                      | 174f8d8e228a4690f6d8479c35e41d9a2f0221c7 | 126 | 1 | 4689.52 | 1.3310 | 4689.52 | 1.3290 |  662 | 18 | unclassified |\n",
       "| channel-126.pod5 | 2912999a-c36b-460e-acfb-88778e32aff0                                      | 174f8d8e228a4690f6d8479c35e41d9a2f0221c7 | 126 | 1 | 4690.94 | 1.4370 | 4690.95 | 1.4350 |  651 | 13 | unclassified |\n",
       "\n"
      ],
      "text/plain": [
       "       filename        \n",
       "1      channel-1.pod5  \n",
       "2      channel-1.pod5  \n",
       "3      channel-1.pod5  \n",
       "4      channel-1.pod5  \n",
       "5      channel-1.pod5  \n",
       "6      channel-1.pod5  \n",
       "7      channel-1.pod5  \n",
       "8      channel-1.pod5  \n",
       "9      channel-1.pod5  \n",
       "10     channel-1.pod5  \n",
       "11     channel-1.pod5  \n",
       "12     channel-1.pod5  \n",
       "13     channel-1.pod5  \n",
       "14     channel-1.pod5  \n",
       "15     channel-1.pod5  \n",
       "16     channel-1.pod5  \n",
       "17     channel-1.pod5  \n",
       "18     channel-1.pod5  \n",
       "19     channel-1.pod5  \n",
       "20     channel-1.pod5  \n",
       "21     channel-1.pod5  \n",
       "22     channel-1.pod5  \n",
       "23     channel-1.pod5  \n",
       "24     channel-1.pod5  \n",
       "25     channel-1.pod5  \n",
       "26     channel-1.pod5  \n",
       "27     channel-1.pod5  \n",
       "28     channel-1.pod5  \n",
       "29     channel-1.pod5  \n",
       "30     channel-1.pod5  \n",
       "⋮      ⋮               \n",
       "727435 NA              \n",
       "727436 channel-126.pod5\n",
       "727437 channel-126.pod5\n",
       "727438 NA              \n",
       "727439 channel-126.pod5\n",
       "727440 channel-126.pod5\n",
       "727441 NA              \n",
       "727442 channel-126.pod5\n",
       "727443 channel-126.pod5\n",
       "727444 NA              \n",
       "727445 channel-126.pod5\n",
       "727446 NA              \n",
       "727447 channel-126.pod5\n",
       "727448 channel-126.pod5\n",
       "727449 channel-126.pod5\n",
       "727450 NA              \n",
       "727451 channel-126.pod5\n",
       "727452 channel-126.pod5\n",
       "727453 NA              \n",
       "727454 channel-126.pod5\n",
       "727455 channel-126.pod5\n",
       "727456 NA              \n",
       "727457 channel-126.pod5\n",
       "727458 channel-126.pod5\n",
       "727459 NA              \n",
       "727460 channel-126.pod5\n",
       "727461 channel-126.pod5\n",
       "727462 NA              \n",
       "727463 channel-126.pod5\n",
       "727464 channel-126.pod5\n",
       "       read_id                                                                  \n",
       "1      5d1b418b-6240-446e-acf9-87ca9d550cd4                                     \n",
       "2      50b0e21c-15dd-4e5f-b2e0-cad367b74279                                     \n",
       "3      c9fa267d-9990-4659-a493-2144edb8a9f3                                     \n",
       "4      f1eacef5-8289-4081-8c37-c33e30a1b171                                     \n",
       "5      43c13cdc-eb97-4094-abb8-4af694f01158                                     \n",
       "6      7d985aaa-fdd7-4f14-a80a-eea856823385                                     \n",
       "7      2098cc2c-2e7d-4f1f-a391-7e85ab256c5a                                     \n",
       "8      05bfade9-7598-4d6e-9650-0873f3e2f0ff                                     \n",
       "9      9335d69c-4fdf-45fa-8089-323b775e5432                                     \n",
       "10     7094460b-ea0a-415b-8891-6516bb04b167                                     \n",
       "11     fb070590-be3c-44a1-9d59-76471c190586                                     \n",
       "12     ab8d9ac5-a123-4de9-b687-6d4a0e462fc7                                     \n",
       "13     3a511818-65e7-4306-b059-4b88f062c7be                                     \n",
       "14     926e2167-220d-4951-9fee-207fd4792c79                                     \n",
       "15     4f5c4c19-f257-4b78-b114-02dbfa430ec2                                     \n",
       "16     2c863c27-067e-4e30-8c48-a764b09e227b                                     \n",
       "17     f7ff7d38-7e10-43a2-b708-c783b49d7732                                     \n",
       "18     00b744d2-c273-4eb2-bcd2-d34bf65ef46b                                     \n",
       "19     9dd5fbc8-f5e2-4c74-ae6d-98d0ab37a922                                     \n",
       "20     674fa226-b12f-4acd-a239-31db9c6e968e                                     \n",
       "21     9f3a58aa-71ae-45ca-a2e4-28c45fdb258d                                     \n",
       "22     37982bc0-411f-4da2-bbbb-7ac8ee86b77d                                     \n",
       "23     9024dd68-0e52-4a0c-b298-2c5bcdf1fb3a                                     \n",
       "24     668a36b1-b208-49b3-a606-c57dc4d8bae0                                     \n",
       "25     0e5a758a-694b-4a15-8df6-17f91ce419d0                                     \n",
       "26     3effc148-46f2-4cec-8803-1fa788537ff0                                     \n",
       "27     6d084064-ee90-4cfa-8fca-d3f27b8da1db                                     \n",
       "28     7c131343-f8ee-4f13-9df2-32452b3b767e                                     \n",
       "29     34c87f1f-7db3-4e82-9a56-0a2ebe88d24c                                     \n",
       "30     44d8d877-5762-41e4-a6fc-17ad642dc93f                                     \n",
       "⋮      ⋮                                                                        \n",
       "727435 1442b7ba-f99e-43e2-8ea6-79ced4a7399c;bd16fd19-a5be-4ec0-a0a6-5d279266946f\n",
       "727436 1442b7ba-f99e-43e2-8ea6-79ced4a7399c                                     \n",
       "727437 bd16fd19-a5be-4ec0-a0a6-5d279266946f                                     \n",
       "727438 f23915aa-b8f1-4d4a-a4b9-ef7b18d82318;81ae59d0-4f71-4b9c-9a28-0da91dabcaa5\n",
       "727439 f23915aa-b8f1-4d4a-a4b9-ef7b18d82318                                     \n",
       "727440 81ae59d0-4f71-4b9c-9a28-0da91dabcaa5                                     \n",
       "727441 a47f87df-a41a-4fce-979c-8b6ba45b2a18;3ac8452c-1769-4b0b-bd7a-f187d0b9ac89\n",
       "727442 a47f87df-a41a-4fce-979c-8b6ba45b2a18                                     \n",
       "727443 3ac8452c-1769-4b0b-bd7a-f187d0b9ac89                                     \n",
       "727444 4dd41a61-d804-4a7a-8290-bb9b7ace674e;d61de35f-f460-4bee-9067-7ee297f7c438\n",
       "727445 4dd41a61-d804-4a7a-8290-bb9b7ace674e                                     \n",
       "727446 2dd59c7a-ea83-4a4f-8a9a-501c43b46e74;f77e4774-7e9b-42d8-a924-ab47d7b8a8a9\n",
       "727447 d61de35f-f460-4bee-9067-7ee297f7c438                                     \n",
       "727448 2dd59c7a-ea83-4a4f-8a9a-501c43b46e74                                     \n",
       "727449 f77e4774-7e9b-42d8-a924-ab47d7b8a8a9                                     \n",
       "727450 03202b69-47bf-4180-a600-4e5b586154f2;1a284d0e-f6a0-4133-9fb7-36de4c5c341b\n",
       "727451 03202b69-47bf-4180-a600-4e5b586154f2                                     \n",
       "727452 1a284d0e-f6a0-4133-9fb7-36de4c5c341b                                     \n",
       "727453 577cf3a3-3a58-4583-a898-1e9d2edc5379;c902362a-f952-497a-b21b-3ccf7e5f96b1\n",
       "727454 577cf3a3-3a58-4583-a898-1e9d2edc5379                                     \n",
       "727455 c902362a-f952-497a-b21b-3ccf7e5f96b1                                     \n",
       "727456 5b0dd8b5-621b-4c9d-a918-d0d8296b511e;ed90b670-c031-4ff8-8495-964062a122f4\n",
       "727457 5b0dd8b5-621b-4c9d-a918-d0d8296b511e                                     \n",
       "727458 ed90b670-c031-4ff8-8495-964062a122f4                                     \n",
       "727459 52102c4b-2911-4bf5-965a-fd3dc4d44fda;faaaa5b4-566a-45e0-9424-d262083dba3e\n",
       "727460 52102c4b-2911-4bf5-965a-fd3dc4d44fda                                     \n",
       "727461 faaaa5b4-566a-45e0-9424-d262083dba3e                                     \n",
       "727462 c171799e-7b0f-4175-b336-0136fce33c9f;2912999a-c36b-460e-acfb-88778e32aff0\n",
       "727463 c171799e-7b0f-4175-b336-0136fce33c9f                                     \n",
       "727464 2912999a-c36b-460e-acfb-88778e32aff0                                     \n",
       "       run_id                                   channel mux start_time duration\n",
       "1      174f8d8e228a4690f6d8479c35e41d9a2f0221c7 1       1   8099.21    0.5012  \n",
       "2      174f8d8e228a4690f6d8479c35e41d9a2f0221c7 1       1   8094.95    4.1082  \n",
       "3      174f8d8e228a4690f6d8479c35e41d9a2f0221c7 1       1   8093.84    0.6748  \n",
       "4      174f8d8e228a4690f6d8479c35e41d9a2f0221c7 1       1   8094.55    0.3962  \n",
       "5      174f8d8e228a4690f6d8479c35e41d9a2f0221c7 1       1   8085.69    0.7178  \n",
       "6      174f8d8e228a4690f6d8479c35e41d9a2f0221c7 1       1   8085.19    0.4838  \n",
       "7      174f8d8e228a4690f6d8479c35e41d9a2f0221c7 1       1   8084.73    0.3828  \n",
       "8      174f8d8e228a4690f6d8479c35e41d9a2f0221c7 1       1   8084.14    0.5500  \n",
       "9      174f8d8e228a4690f6d8479c35e41d9a2f0221c7 1       1   8086.44    0.5664  \n",
       "10     174f8d8e228a4690f6d8479c35e41d9a2f0221c7 1       1   8082.99    0.6862  \n",
       "11     174f8d8e228a4690f6d8479c35e41d9a2f0221c7 1       1   8082.27    0.6178  \n",
       "12     174f8d8e228a4690f6d8479c35e41d9a2f0221c7 1       1   8081.22    0.9874  \n",
       "13     174f8d8e228a4690f6d8479c35e41d9a2f0221c7 1       1   8078.49    0.4818  \n",
       "14     174f8d8e228a4690f6d8479c35e41d9a2f0221c7 1       1   8080.70    0.4448  \n",
       "15     174f8d8e228a4690f6d8479c35e41d9a2f0221c7 1       1   8079.00    0.4992  \n",
       "16     174f8d8e228a4690f6d8479c35e41d9a2f0221c7 1       1   8017.78    0.9194  \n",
       "17     174f8d8e228a4690f6d8479c35e41d9a2f0221c7 1       1   8008.64    0.6016  \n",
       "18     174f8d8e228a4690f6d8479c35e41d9a2f0221c7 1       1   8003.43    0.4216  \n",
       "19     174f8d8e228a4690f6d8479c35e41d9a2f0221c7 1       1   8013.25    4.5268  \n",
       "20     174f8d8e228a4690f6d8479c35e41d9a2f0221c7 1       1   7999.60    0.3862  \n",
       "21     174f8d8e228a4690f6d8479c35e41d9a2f0221c7 1       1   7998.23    0.5482  \n",
       "22     174f8d8e228a4690f6d8479c35e41d9a2f0221c7 1       1   7996.54    0.3934  \n",
       "23     174f8d8e228a4690f6d8479c35e41d9a2f0221c7 1       1   7995.62    0.9122  \n",
       "24     174f8d8e228a4690f6d8479c35e41d9a2f0221c7 1       1   7995.01    0.5982  \n",
       "25     174f8d8e228a4690f6d8479c35e41d9a2f0221c7 1       1   7994.39    0.5400  \n",
       "26     174f8d8e228a4690f6d8479c35e41d9a2f0221c7 1       1   7993.18    0.5226  \n",
       "27     174f8d8e228a4690f6d8479c35e41d9a2f0221c7 1       1   7992.34    0.6734  \n",
       "28     174f8d8e228a4690f6d8479c35e41d9a2f0221c7 1       1   7990.21    0.5964  \n",
       "29     174f8d8e228a4690f6d8479c35e41d9a2f0221c7 1       1   7990.81    0.6958  \n",
       "30     174f8d8e228a4690f6d8479c35e41d9a2f0221c7 1       1   7987.28    1.3792  \n",
       "⋮      ⋮                                        ⋮       ⋮   ⋮          ⋮       \n",
       "727435 174f8d8e228a4690f6d8479c35e41d9a2f0221c7 126     1   5955.93    0.0000  \n",
       "727436 174f8d8e228a4690f6d8479c35e41d9a2f0221c7 126     1   5955.93    1.3512  \n",
       "727437 174f8d8e228a4690f6d8479c35e41d9a2f0221c7 126     1   5957.29    1.3718  \n",
       "727438 174f8d8e228a4690f6d8479c35e41d9a2f0221c7 126     1   2355.87    0.0000  \n",
       "727439 174f8d8e228a4690f6d8479c35e41d9a2f0221c7 126     1   2355.87    8.5716  \n",
       "727440 174f8d8e228a4690f6d8479c35e41d9a2f0221c7 126     1   2364.44    8.0564  \n",
       "727441 174f8d8e228a4690f6d8479c35e41d9a2f0221c7 126     1   6085.48    0.0000  \n",
       "727442 174f8d8e228a4690f6d8479c35e41d9a2f0221c7 126     1   6085.48    3.1272  \n",
       "727443 174f8d8e228a4690f6d8479c35e41d9a2f0221c7 126     1   6088.61    3.3264  \n",
       "727444 174f8d8e228a4690f6d8479c35e41d9a2f0221c7 126     1   2821.40    0.0000  \n",
       "727445 174f8d8e228a4690f6d8479c35e41d9a2f0221c7 126     1   2821.40    4.0092  \n",
       "727446 174f8d8e228a4690f6d8479c35e41d9a2f0221c7 126     1   3660.46    0.0000  \n",
       "727447 174f8d8e228a4690f6d8479c35e41d9a2f0221c7 126     1   2825.41    3.7408  \n",
       "727448 174f8d8e228a4690f6d8479c35e41d9a2f0221c7 126     1   3660.46    1.3930  \n",
       "727449 174f8d8e228a4690f6d8479c35e41d9a2f0221c7 126     1   3661.86    1.2980  \n",
       "727450 174f8d8e228a4690f6d8479c35e41d9a2f0221c7 126     1   4121.40    0.0000  \n",
       "727451 174f8d8e228a4690f6d8479c35e41d9a2f0221c7 126     1   4121.40    4.0164  \n",
       "727452 174f8d8e228a4690f6d8479c35e41d9a2f0221c7 126     1   4125.42    2.6024  \n",
       "727453 174f8d8e228a4690f6d8479c35e41d9a2f0221c7 126     1   4411.36    0.0000  \n",
       "727454 174f8d8e228a4690f6d8479c35e41d9a2f0221c7 126     1   4411.36    1.3846  \n",
       "727455 174f8d8e228a4690f6d8479c35e41d9a2f0221c7 126     1   4412.75    1.1212  \n",
       "727456 174f8d8e228a4690f6d8479c35e41d9a2f0221c7 126     1   4866.38    0.0000  \n",
       "727457 174f8d8e228a4690f6d8479c35e41d9a2f0221c7 126     1   4866.38    2.8524  \n",
       "727458 174f8d8e228a4690f6d8479c35e41d9a2f0221c7 126     1   4869.24    2.2842  \n",
       "727459 174f8d8e228a4690f6d8479c35e41d9a2f0221c7 126     1   4971.85    0.0000  \n",
       "727460 174f8d8e228a4690f6d8479c35e41d9a2f0221c7 126     1   4971.85    1.7028  \n",
       "727461 174f8d8e228a4690f6d8479c35e41d9a2f0221c7 126     1   4973.56    2.4204  \n",
       "727462 174f8d8e228a4690f6d8479c35e41d9a2f0221c7 126     1   4689.52    0.0000  \n",
       "727463 174f8d8e228a4690f6d8479c35e41d9a2f0221c7 126     1   4689.52    1.3310  \n",
       "727464 174f8d8e228a4690f6d8479c35e41d9a2f0221c7 126     1   4690.94    1.4370  \n",
       "       template_start template_duration sequence_length_template\n",
       "1      8099.21        0.4992             231                    \n",
       "2      8094.95        4.1062            1392                    \n",
       "3      8093.85        0.6728             217                    \n",
       "4      8094.55        0.3942             178                    \n",
       "5      8085.70        0.7158             227                    \n",
       "6      8085.20        0.4818             219                    \n",
       "7      8084.73        0.3808             185                    \n",
       "8      8084.14        0.5480             226                    \n",
       "9      8086.44        0.5644             192                    \n",
       "10     8082.99        0.6842             188                    \n",
       "11     8082.27        0.6158             225                    \n",
       "12     8081.22        0.9854             360                    \n",
       "13     8078.49        0.4798             216                    \n",
       "14     8080.70        0.4428             163                    \n",
       "15     8079.00        0.4972             203                    \n",
       "16     8017.78        0.9174             440                    \n",
       "17     8008.64        0.5996             262                    \n",
       "18     8003.43        0.4196             167                    \n",
       "19     8013.25        4.5248            2147                    \n",
       "20     7999.60        0.3842             157                    \n",
       "21     7998.23        0.5462             236                    \n",
       "22     7996.54        0.3914             150                    \n",
       "23     7995.62        0.9102             391                    \n",
       "24     7995.02        0.5962             220                    \n",
       "25     7994.39        0.5380             203                    \n",
       "26     7993.18        0.5206             203                    \n",
       "27     7992.34        0.6714             185                    \n",
       "28     7990.21        0.5944             232                    \n",
       "29     7990.81        0.6938             221                    \n",
       "30     7987.29        1.3772             663                    \n",
       "⋮      ⋮              ⋮                 ⋮                       \n",
       "727435     NaN           NaN             581                    \n",
       "727436 5955.93        1.3512             654                    \n",
       "727437 5957.29        1.3718             638                    \n",
       "727438     NaN           NaN            3965                    \n",
       "727439 2355.87        8.5716            4164                    \n",
       "727440 2364.44        8.0564            4138                    \n",
       "727441     NaN           NaN            1444                    \n",
       "727442 6085.48        3.1272            1541                    \n",
       "727443 6088.61        3.3264            1534                    \n",
       "727444     NaN           NaN            1743                    \n",
       "727445 2821.40        4.0092            1941                    \n",
       "727446     NaN           NaN             521                    \n",
       "727447 2825.41        3.7408            1880                    \n",
       "727448 3660.46        1.3910             651                    \n",
       "727449 3661.86        1.2960             665                    \n",
       "727450     NaN           NaN            1322                    \n",
       "727451 4121.40        4.0164            1547                    \n",
       "727452 4125.42        2.6024            1491                    \n",
       "727453     NaN           NaN             531                    \n",
       "727454 4411.36        1.3826             660                    \n",
       "727455 4412.75        1.1192             656                    \n",
       "727456     NaN           NaN            1156                    \n",
       "727457 4866.38        2.8524            1382                    \n",
       "727458 4869.24        2.2842            1306                    \n",
       "727459     NaN           NaN             701                    \n",
       "727460 4971.85        1.7028             823                    \n",
       "727461 4973.56        2.4204             791                    \n",
       "727462     NaN           NaN             584                    \n",
       "727463 4689.52        1.3290             662                    \n",
       "727464 4690.95        1.4350             651                    \n",
       "       mean_qscore_template barcode     \n",
       "1      17                   unclassified\n",
       "2      21                   unclassified\n",
       "3      15                   unclassified\n",
       "4      13                   unclassified\n",
       "5      14                   unclassified\n",
       "6      17                   unclassified\n",
       "7      12                   unclassified\n",
       "8      13                   unclassified\n",
       "9       9                   unclassified\n",
       "10     17                   unclassified\n",
       "11     17                   unclassified\n",
       "12     11                   unclassified\n",
       "13     17                   unclassified\n",
       "14     18                   unclassified\n",
       "15     21                   unclassified\n",
       "16     12                   unclassified\n",
       "17     12                   unclassified\n",
       "18     18                   unclassified\n",
       "19     18                   unclassified\n",
       "20     12                   unclassified\n",
       "21     15                   unclassified\n",
       "22     12                   unclassified\n",
       "23     14                   unclassified\n",
       "24     24                   unclassified\n",
       "25     17                   unclassified\n",
       "26     16                   unclassified\n",
       "27     11                   unclassified\n",
       "28     21                   unclassified\n",
       "29     12                   unclassified\n",
       "30     15                   unclassified\n",
       "⋮      ⋮                    ⋮           \n",
       "727435 22                   unclassified\n",
       "727436 14                   unclassified\n",
       "727437 16                   unclassified\n",
       "727438 26                   unclassified\n",
       "727439 18                   unclassified\n",
       "727440 16                   unclassified\n",
       "727441 30                   unclassified\n",
       "727442 15                   unclassified\n",
       "727443 16                   unclassified\n",
       "727444 16                   unclassified\n",
       "727445 15                   unclassified\n",
       "727446 20                   unclassified\n",
       "727447 11                   unclassified\n",
       "727448 15                   unclassified\n",
       "727449 13                   unclassified\n",
       "727450 19                   unclassified\n",
       "727451 15                   unclassified\n",
       "727452  9                   unclassified\n",
       "727453 20                   unclassified\n",
       "727454 14                   unclassified\n",
       "727455 12                   unclassified\n",
       "727456 21                   unclassified\n",
       "727457 14                   unclassified\n",
       "727458  9                   unclassified\n",
       "727459 18                   unclassified\n",
       "727460 14                   unclassified\n",
       "727461 15                   unclassified\n",
       "727462 26                   unclassified\n",
       "727463 18                   unclassified\n",
       "727464 13                   unclassified"
      ]
     },
     "metadata": {},
     "output_type": "display_data"
    }
   ],
   "source": [
    "bc_summary"
   ]
  },
  {
   "cell_type": "code",
   "execution_count": 11,
   "id": "460caccd-213e-4df8-9ebe-a6dd3aedfb15",
   "metadata": {
    "execution": {
     "iopub.execute_input": "2024-06-11T14:17:52.085417Z",
     "iopub.status.busy": "2024-06-11T14:17:52.083240Z",
     "iopub.status.idle": "2024-06-11T14:18:21.093546Z",
     "shell.execute_reply": "2024-06-11T14:18:21.091482Z"
    },
    "vscode": {
     "languageId": "r"
    }
   },
   "outputs": [
    {
     "name": "stderr",
     "output_type": "stream",
     "text": [
      "Warning message:\n",
      "“\u001b[1m\u001b[22mThe `size` argument of `element_line()` is deprecated as of ggplot2 3.4.0.\n",
      "\u001b[36mℹ\u001b[39m Please use the `linewidth` argument instead.”\n"
     ]
    },
    {
     "name": "stderr",
     "output_type": "stream",
     "text": [
      "Warning message:\n",
      "“\u001b[1m\u001b[22mThe `size` argument of `element_rect()` is deprecated as of ggplot2 3.4.0.\n",
      "\u001b[36mℹ\u001b[39m Please use the `linewidth` argument instead.”\n"
     ]
    },
    {
     "data": {
      "image/png": "[encoded data removed]",
      "text/plain": [
       "plot without title"
      ]
     },
     "metadata": {
      "image/png": {
       "height": 300,
       "width": 360
      }
     },
     "output_type": "display_data"
    }
   ],
   "source": [
    "options(repr.plot.width = 6, repr.plot.height = 5)\n",
    "bc_summary %>%\n",
    "    ggplot(aes(x = log10(sequence_length_template),\n",
    "               y = mean_qscore_template)) +\n",
    "    geom_density_2d_filled() +\n",
    "    xlab(\"log10(Read length)\") +\n",
    "    ylab(\"Mean quality (Phred)\") +\n",
    "    theme_pubr()"
   ]
  },
  {
   "cell_type": "code",
   "execution_count": 12,
   "id": "b652ad0b-bc59-4b33-af21-26241e130ace",
   "metadata": {
    "execution": {
     "iopub.execute_input": "2024-06-11T14:18:21.104024Z",
     "iopub.status.busy": "2024-06-11T14:18:21.102051Z",
     "iopub.status.idle": "2024-06-11T14:18:21.188187Z",
     "shell.execute_reply": "2024-06-11T14:18:21.185776Z"
    },
    "vscode": {
     "languageId": "r"
    }
   },
   "outputs": [],
   "source": [
    "# getting read names with Q >= 12\n",
    "good_qual_reads = bc_summary %>%\n",
    "    filter(mean_qscore_template >= 12) %>%\n",
    "    pull(read_id)"
   ]
  },
  {
   "cell_type": "code",
   "execution_count": 13,
   "id": "312985bc-a66c-4547-a515-a547f7134f9b",
   "metadata": {
    "execution": {
     "iopub.execute_input": "2024-06-11T14:18:21.197588Z",
     "iopub.status.busy": "2024-06-11T14:18:21.195651Z",
     "iopub.status.idle": "2024-06-11T14:18:31.716393Z",
     "shell.execute_reply": "2024-06-11T14:18:31.713930Z"
    },
    "vscode": {
     "languageId": "r"
    }
   },
   "outputs": [],
   "source": [
    "# reading bam file\n",
    "my_bam = \"GRCh38_with_XDP_SVA__20240530_AL5RACE002__map-ont__minimap2.bam\"\n",
    "\n",
    "bam_reads = read_bam(bamfile = my_bam,\n",
    "                     libname = sample,\n",
    "                     region = tibble(chr = \"chrX\",\n",
    "                                     start = 71440515-5000,\n",
    "                                     end = 71443141+5000))\n",
    "\n",
    "# filtering only the samples\n",
    "# we wanna work with and filtering in\n",
    "# only reads with Q >= 12\n",
    "bams = list()\n",
    "for(sample in unique(bam_reads$RG_tag)){\n",
    "    bams[[sample]] = bam_reads %>%\n",
    "        filter(RG_tag == sample) %>%\n",
    "        filter(qname %in% good_qual_reads)\n",
    "        \n",
    "}"
   ]
  },
  {
   "cell_type": "code",
   "execution_count": 14,
   "id": "f4fa3611-027b-4be4-928d-7c348dcb380b",
   "metadata": {
    "execution": {
     "iopub.execute_input": "2024-06-11T14:18:31.727002Z",
     "iopub.status.busy": "2024-06-11T14:18:31.724986Z",
     "iopub.status.idle": "2024-06-11T14:18:31.923377Z",
     "shell.execute_reply": "2024-06-11T14:18:31.921094Z"
    },
    "scrolled": true,
    "vscode": {
     "languageId": "r"
    }
   },
   "outputs": [
    {
     "data": {
      "text/html": [
       "<table class=\"dataframe\">\n",
       "<caption>A tibble: 451611 × 12</caption>\n",
       "<thead>\n",
       "\t<tr><th scope=col>flag</th><th scope=col>qname</th><th scope=col>rname</th><th scope=col>strand</th><th scope=col>pos</th><th scope=col>qwidth</th><th scope=col>qwidth_after_softclipping</th><th scope=col>RG_tag</th><th scope=col>seq</th><th scope=col>qual</th><th scope=col>cigar</th><th scope=col>mapq</th></tr>\n",
       "\t<tr><th scope=col>&lt;int&gt;</th><th scope=col>&lt;chr&gt;</th><th scope=col>&lt;fct&gt;</th><th scope=col>&lt;fct&gt;</th><th scope=col>&lt;int&gt;</th><th scope=col>&lt;int&gt;</th><th scope=col>&lt;int&gt;</th><th scope=col>&lt;chr&gt;</th><th scope=col>&lt;chr&gt;</th><th scope=col>&lt;chr&gt;</th><th scope=col>&lt;chr&gt;</th><th scope=col>&lt;int&gt;</th></tr>\n",
       "</thead>\n",
       "<tbody>\n",
       "\t<tr><td> 0</td><td>01308af7-2286-4252-8fbc-d3b0889b9ef5</td><td>chrX</td><td>+</td><td>71442975</td><td>226</td><td>143</td><td>20240530_AL5RACE002</td><td><span style=white-space:pre-wrap>GTGTGTAGCCCCTTGGTTCAGTTACATATATATAATACAACTCACTATAGGGCAAGCAGTGGTATCAACGCAGAGTGAGAGGGAGAGGGAGAGGGAGAGGGAGGAGAGGGAGAGGGAGAGGGAGAGGGGAGAGGGAGAGGGAGGACTCCATTTTTTTTTCCACCGTGGGACTGTGGAAAAAAAAATGTACTGGCATTGTAATAAGGCTGAGGGAGGCAGCAATGAT                                                                                                                                                                                                                                                                                                                                                                                                                      </span></td><td><span style=white-space:pre-wrap>##$%%%$##$$$%&amp;%&amp;(,,('''&amp;&amp;%%%&amp;%%$%%&amp;()(''++'))------:?BGEFFHGHGFGPD@??=&gt;???CDDBA@G@CBBB@;3-02556699970+2*').0120257:85655555310246,/-,/)(+2/0.++)'&amp;&amp;&amp;'()),../0150.'(3++'''&amp;%%$$%)*-./1/--.----0/002?@BAA44444445&gt;2227DACC=443/..&amp;$$                                                                                                                                                                                                                                                                                                                                                                                                                      </span></td><td><span style=white-space:pre-wrap>75S11M5D40M71D17M1D1M2D6M3D12M1I7M1I5M1I30M1D11M8S            </span></td><td>13</td></tr>\n",
       "\t<tr><td> 0</td><td>72c19bb4-52bc-4e37-b8a4-7fba639cfd22</td><td>chrX</td><td>+</td><td>71442976</td><td>235</td><td>142</td><td>20240530_AL5RACE002</td><td><span style=white-space:pre-wrap>ATGGGTATGTATGTATTAGTAGTTACGTATTGCTGTAATACGACTCACTATAGGGCAAAGCAGTGGTATCAACGCAGAGTACGGGGGGAGAGGGAGAGGGAGAGGGAGAGGGAGAGGGAGGAGAGGGAGAGGGAGAGGGAGAGGGAGAGGGAGAGGGAGAGGGAGAGGGAAGACTATTCATTTTTTTTTTCATAGGAATCTGGAAAAAAAAATGTACTGGCATTGTAATAAGGCT                                                                                                                                                                                                                                                                                                                                                                                                             </span></td><td><span style=white-space:pre-wrap>$$$%%%%%%&amp;$###$$$%&amp;'((*+0212000(')''(,,8=::994112239;;==?SIJSIIJGIHLH@77767???GF@73211615+***,(,)()+)*+-..,//..0*-+.21/++&amp;'+,--,-..0219==&gt;?=ABABA/???@C?DDDD=&lt;=ACC&gt;:;5966,-)%%%%&amp;*%&amp;12431126&lt;&gt;)&amp;&amp;%&amp;'(()((***&lt;@C;67:&lt;:8778788;@CDCC;;;9765+(                                                                                                                                                                                                                                                                                                                                                                                                             </span></td><td><span style=white-space:pre-wrap>93S10M5D67M59D3M1D3M1D14M5D3M1D2M2I6M1I31M                    </span></td><td> 1</td></tr>\n",
       "\t<tr><td> 0</td><td>4593102a-a148-49b8-8d76-c4d3ef74bb13</td><td>chrX</td><td>+</td><td>71442976</td><td>632</td><td>325</td><td>20240530_AL5RACE002</td><td>ATGTTTGTGTAACCTACTCGTTCAGTTACGTATTGCTCTAATACGACTCACTATAGGGCAAGCAGTGGTATCAACGCAGAGTACAGGGGGGGAGAGGGAGAGGGGAGAGGGAGAGGGAGAGGGAGAGGGAGAGGGAGAGGGAGAGGGAGAGGGAGAGGGAGAGGGAGAGGGAGAGCTATTTCATTTTTTTTTCCACATCAGATGTGGAAAAAAAAATGTACTGGCATTGTAATAAGGCTTGAGGGGAGCACTAATACGACTCACTATAGGGCAAGCAGTGGTATCAACGCAGAGTGAGAGGGAGAGGGAGAGGGAGAGGGAGAGGGAGGGGAGAGGGAGAGGGAGAGCTATTTCATTTTTTTTTTTTTCCACATCAGATGTGGAAAAAAAAATGTACTGGCATTCTAATAAGGCTTCTGTAAGCCTTGACTAGAGTACGTATTGCTGCCTCCCTCAAGCCTTATTACAATGCCAGTACATTTTTTTTCCACATCTGATGTGGAAAAAAAAAAAAATGAAATAGCTCTCCCTCTCCCTCTCCCTCTCCCTCTCCCTCTCCCTCTCCCTCTCCCTCTCCCTACTCGTGATTCCACTTACTTTCCCTATAGTGAGTCGTATTAGAGCAATCGTAA</td><td>%%%'(($$$$$##$$&amp;'*))*1178999&lt;999:;&lt;99997::BJ?&gt;&gt;&gt;;;;;;====BIDEDDDOSKIIHGBBBBBCGGFHEEB66554&gt;@?@:0---***-34,.28::&lt;&lt;BECAD@BEFB&lt;9DGEE@@BBB=8.9==;1.26DFEEGLIJGLGHGB=?CFGF?@?DBC&gt;5?&gt;&lt;&lt;;345=;&lt;7:&lt;DBEEEACA89&gt;CBA@@AAHKMFFFF=555??????@DELJNFIIHGHIIIISIH?&lt;&gt;&gt;@8&gt;B778D((((*...9;;&lt;=&gt;?CCCDD==&gt;=99:&lt;&gt;MQKDDEDDDIGJKOHKNLMMJHRIFJC4&gt;DHAEGFGSFEBD?&gt;&gt;7-/+/..7:;&lt;=4;;8&gt;4/2CAAA@?&gt;&gt;&gt;9858949&lt;ADGSP@27(*55*))'&amp;(())*,8:;;&lt;=@ABDBCAAAABBG0.---2321,($##$###\"##$%$&amp;''&amp;&amp;'')((+2----.332223IHBDEFJIDBBBBNFGDFF@C??;::;9;;5/-0589802BC?@77766--*+.522227989;5,+++/22226;;:-*,502&lt;8:;;&lt;&lt;13@BED=@FCDHBGNDFD?EGEHB&lt;7746/+...0;6(((''''/299:9:?8*)))''**'56-''&amp;())())(((('((((//'&amp;&amp;%%</td><td><span style=white-space:pre-wrap>91S10M4D17M3I54M113I40M1D27M1I27M1I32M216S                    </span></td><td> 2</td></tr>\n",
       "\t<tr><td>16</td><td>f4a4c411-859c-4adf-94ff-b323b44d80ca</td><td>chrX</td><td>-</td><td>71442976</td><td>425</td><td>327</td><td>20240530_AL5RACE002</td><td><span style=white-space:pre-wrap>ATGTATTGCTCTAATACGACTCACTATAGGGCAAGCAGTGGTATCAACGCAGAGTACAGGGGGGGAGAGGGAGAGGGAGAGGGAGAGGGAGAGGGAGAGGGAGAGGGAGAGGGAGAGGGAGAGGGAGAGGGAGAGGGAGAGGGAGAGCTATTTCATTTTTTTTTTTCCACATCAGATGTGGAAAATGTACTGGCATTCGCAGAAGGCTTGAGGGACTAGTATGACTCACTATAGGGCAAGCAGTGGTATCAACGCAGAGGGAGAGGGAGAGGGAGAGGGAGAGGGAGAGGGAGAGGGAGAGGGAGAGGGAGAGCTATTTCATTTTTTTTTTTTTCCACATCAGATGTGGAAAAAAAATGTACTGGCATTGTAATAAGGCTTGAGGGAGGCAGCAAGACCAACTGAACCAGTAGACTACAAAACAT                                                                                                                                                                                                               </span></td><td><span style=white-space:pre-wrap>,-?@B@984434444667===&lt;BBBJOJJJHIMSPOMJIKKJLIKQSSPKEECCBCB??3,-2AAFD&lt;DGEFLBIEBDE4CA@A@28BAFB&lt;CDEFH;KKHHBBJFEHE@EG@@?:E3333)025@A1;;;CE=GFDCA=@IGHHGGFFLI&gt;&lt;&lt;==;:41/3901125CFJHIJIEC+*?&lt;&lt;'*;;&gt;?C&gt;=&gt;=/.-.-----571..--*)$#\"###%%%&amp;&amp;&amp;66=@BAAC@8@@&gt;=HHLSLMGJBCDCCIKJLONLJIJIIH=DGDDE&gt;AEC03AEFGEC@DEDFE8&lt;@EGG7BBAB75=IEJH7KKHKJMSIK&lt;;;;;BB???1+*+3&lt;@FHIJLJ65545GHEGKJJSSS@GGLIKMSSSSJMSKJMJOGIKJISHPH@?EE100030)'''&amp;&amp;&amp;&amp;+,-+)'%%&amp;.+(&amp;%$%%&amp;&amp;&amp;$#####                                                                                                                                                                                                               </span></td><td><span style=white-space:pre-wrap>64S10M5D16M3I54M106I68M1I69M34S                               </span></td><td>40</td></tr>\n",
       "\t<tr><td>16</td><td>39d89551-2466-4ffd-b912-92422161676f</td><td>chrX</td><td>-</td><td>71442976</td><td>400</td><td>322</td><td>20240530_AL5RACE002</td><td><span style=white-space:pre-wrap>CACGATAGGGCAAGCAGTGGTATCAACGCAGAGTACAGGGGGGGAGAGGGAGAGGGAGAGGGAGAGGGAGAGGGAGAGGGAGAGGGAGAGGGAGAGGGAGAGGGAGAGGGAGAGGGAGAGGGAGAGCTATTTCATTTTTTTTTTTTTCCACATCAGATGTGGAAAAAAGCAATACGTAACTGAACGAAGTAACAGGACAGAGACTATAGGGGAAGCAGTGGTATCAACGCAGAGGGAGAGGGAGAGGGAGAGGGAGAGGGAGAGGGAGAGGGAGAGGGAGAGGGAGAGCTATTTCATTTTTTTTTTTTCCACATCAGATGTGGAAAAAAAATGTACTGGCATTGTAATAAGGCTTGAGGGAGGCAGCAATACGTAACTGAACGAAAGAGACTAAAAAAAT                                                                                                                                                                                                                                        </span></td><td><span style=white-space:pre-wrap>''')BDGJLDJILHNKJIECCDDKMKIIJJHKKGGDCBA+,356&lt;&lt;/=953/.2?@AB&lt;CDBCC5A=&lt;&gt;A5CBAEB&gt;CDDHF;DFEGH3A??GD;IJGHG9???D99@EDD@4?FEEA9&gt;BABGGGFCAAAA@JHHFDE8321;9;;;;FEEEDGHLI&lt;&lt;HHSSSAHBBBDBBCAA?::;;891/.0'&amp;&amp;''&amp;%$####$$'00197(((((8989@@@CB:999;FEPKKQJLJIOH&lt;CFDFD5ECBBA?DFFED6HCDFF@G=&lt;@65&lt;BADD4BECEA=CFFDBBCBBCAA&gt;?BCDC7-+-22*)&amp;%&amp;(*/.-//00EDFGGFED&gt;A@CCFKIMJIE@=&lt;;&lt;=&lt;87777;??@66666D:9867899&gt;@?@?2000096*()$$$$#$$'-+('%$$$                                                                                                                                                                                                                                        </span></td><td><span style=white-space:pre-wrap>43S10M5D16M3I54M102I137M35S                                   </span></td><td>42</td></tr>\n",
       "\t<tr><td>16</td><td>2dec6b2f-6baf-43f7-ad1c-464207168d01</td><td>chrX</td><td>-</td><td>71442976</td><td>204</td><td>142</td><td>20240530_AL5RACE002</td><td><span style=white-space:pre-wrap>TCAATGAGTACAGGGGGGAGAGGGAGAGGGAGAGGGAGAGGGAGAGGGAGAGGGAGGAGAGGGAGAGGGAGAGGGAGAGGGAGAGGGAGAGGGAGAGGGAGAGCTATTTCATTTTCTTTTCACATCAGATGTGGAAAATGTACTGGCATTCTAATAAGGCTTGAGGAGGCAGCAAGCACCTGAATGAACCGAGGCCACCATAGC                                                                                                                                                                                                                                                                                                                                                                                                                                            </span></td><td><span style=white-space:pre-wrap>'(('&amp;(//08965221/./012.-//8;;;==:9201+)(&amp;&amp;,036433/.1*&amp;'149;1&lt;87:32==;==:&lt;;:??29&lt;;:;,114=+*487;;/76799&gt;&gt;&gt;&gt;=;65447%%(04/./2-+++++*,,,'('+'-3-,,+,-/+))*)((+)*;:44448.,-,-+))()'''&amp;&amp;&amp;&amp;&amp;%%(&amp;&amp;&amp;$$$#######%$%$$$##                                                                                                                                                                                                                                                                                                                                                                                                                                            </span></td><td><span style=white-space:pre-wrap>29S10M5D16M66D65M4D14M4D30M1D7M33S                            </span></td><td> 1</td></tr>\n",
       "\t<tr><td> 0</td><td>3b47decc-609c-4e14-a545-1b0f08936bb8</td><td>chrX</td><td>+</td><td>71442990</td><td>256</td><td>161</td><td>20240530_AL5RACE002</td><td><span style=white-space:pre-wrap>ATGTTTATGTACTACACTCGTTCAGTTACGTATTGCTCTAATACGACTCACTATAGGGCAAGCAGTGGTATCAACGCAGAGTACAGGGGGGGAGAGGGAGAGGGAGGAGAGGGAGAGGGAGAGGGAGAGGGAGAGGGAGAGGGAGAGGGAGAGGGAGAGGGAGAGGGAGAGCTTTCATTTTTTTTTTTTTCGCGTGGATGTTGGAAAAAAGAAAATGTACTGGCATTGTAATAAGGCTAGGAGGAAGGCGATTGGT                                                                                                                                                                                                                                                                                                                                                                                        </span></td><td><span style=white-space:pre-wrap>%%%*,,****%####$$'%%&amp;*+-,,,+********2&lt;=&lt;=&gt;&gt;A&gt;===&lt;&lt;=&lt;==FEEIINLIHEDDGEJKS43333&lt;FJSLI?&gt;75546:97810220)1;;;;842+*3;&lt;&gt;&gt;AHFC&lt;8/A@&gt;@&lt;=?ED@AGHGGCBEKIABGFMLFGAABFC?CFNNPGGD?=91,.,,,,(%%)+..-,-../0026/('&amp;&amp;&amp;'%%%(&amp;$$%246457)))4256577;:&gt;6665410///01.1////.///.,,)))'&amp;''                                                                                                                                                                                                                                                                                                                                                                                        </span></td><td><span style=white-space:pre-wrap>88S33M48D51M2D23M1D5M1I7M3I27M1I10M7S                         </span></td><td> 1</td></tr>\n",
       "\t<tr><td> 0</td><td>4b80cbc0-af7a-4a34-81ca-2d25a55e0714</td><td>chrX</td><td>+</td><td>71442990</td><td>301</td><td>205</td><td>20240530_AL5RACE002</td><td><span style=white-space:pre-wrap>GCTGTGTCACGTGCTTCGTTCAGTTACGTATTGCTCTAATACGACTCACTATAGGGCAAGCAGTGGTATCAACGCAGAGTATAGGGGGGGAGAGGGAGAGGGAGAGGGAGAGGGAGAGGGAGAGGGAGAGGGAGAGGGAGAGGGAGAGGGAAGGGGGGGGGGGGGGGGGGGGGGGGGGGGGGGGGGGGGGGGGGGGGGGGGGGAGAGGGAGAGCTATTTCATTTTTTTTTTTTCCACATCAGATGTGGAAAAAAAAATGTACTGGCATTGTAATAAGGCTTGAGGGAGGCAGCAATACATA                                                                                                                                                                                                                                                                                                                                           </span></td><td><span style=white-space:pre-wrap>)---.-,&amp;%$$###%&amp;&amp;)+0144330/...////;;;;CDHHIHJHIFED8:BDDEEKHKIDCDEFIGEAAAAABGGDDD==***-6@??@&lt;&gt;&gt;=&lt;:==@@?&gt;CGGGCCCGE@57:AB@@:8??&gt;?ACCBC&lt;:=&lt;:;;8;;:;8202-/,*+'&amp;*35532379:;;=?@ABEEEFFHHHFEFEDCCCBAAABBBBBCBA?&lt;;+(186;@ADBDCEBDCF.--,--47&lt;FISKKG@77EHHSIJIKKIKGCBI&gt;BEGGFEEFHKKKHKJHJGGDGENHHIHOHEJIFFEEE??&gt;;;&lt;98.,&amp;                                                                                                                                                                                                                                                                                                                                           </span></td><td><span style=white-space:pre-wrap>86S14M3D51M1D97M1I42M10S                                      </span></td><td>29</td></tr>\n",
       "\t<tr><td> 0</td><td>44a98cd4-828e-446d-bfab-8f88aeea3c13</td><td>chrX</td><td>+</td><td>71442990</td><td>387</td><td>291</td><td>20240530_AL5RACE002</td><td><span style=white-space:pre-wrap>TGTTATGTACGTCTACCTGGACAGATTACGTATTGCTCTAATACGACTCACTATAGGGCAAGCAGTGGTATCAACGCAGAGTACAGGGGGAGAGGGAGAGGGGAGAGGGAGAGGGAGAGGGAGAGGGAGAGGGAGAGGGAGAGGGAGAGGGAGAGGGAGAGGGAGAGGGAGAGCTATTTCATTTTTTTTTTCCACATAGGGGTATGTTTATGTATAGTGTATTTCGTTCAGTTACGTATTGCTCTAATACGACTCACTATAGGGCAAGACAGTGGTATCAACGCAGAGTGAGAGGGAGAGCTATTTCATTTTTTTTTTTTCCACATCAGATGTGGAAAAAAAATGTACTGGCATTGTAATAAGGCTTGAGGGAGGCAGCAATACGTT                                                                                                                                                                                                                                                     </span></td><td><span style=white-space:pre-wrap>####$$%&amp;$%###%&amp;'(('()*,...2334856666EEE@@@CD&gt;===&gt;AAAABA@@@@JJHHHGJHFFFF::::::@?&gt;@@974411-*+(((*,()++,1*/8=?A&gt;@CDFFD?ABCC?:&lt;686/--//+057;&gt;D&lt;?CEFIEABGGADEDEEA&lt;9HEDEB@DEDD&lt;79DFDD&lt;@BA3222235666;&lt;&lt;=;;-,))((''&amp;&amp;&amp;(''%%&amp;&amp;$%##$$$$$$%#$&amp;&amp;(*+))((,../123?DDCDDIICBCB@99989)((('*(''&amp;''(++-...89:9==;;;;&lt;;87@AIEGGIFIBA;=((((*937&lt;?DFJDB&gt;--CDCGFHJJPJCA&gt;&lt;:7=99979988;;;HHGFDFHGFEIF&lt;@9433499;6.../,,,,,*)'                                                                                                                                                                                                                                                     </span></td><td><span style=white-space:pre-wrap>86S15M2D72M83I21M2I98M10S                                     </span></td><td>28</td></tr>\n",
       "\t<tr><td>16</td><td>26d9ece8-8f1f-4d39-a1b5-c335be046b0b</td><td>chrX</td><td>-</td><td>71442990</td><td>393</td><td>297</td><td>20240530_AL5RACE002</td><td><span style=white-space:pre-wrap>TGTATTGCTCTGTAATACGACTCACTATAGGGCAAGCAGTGGTATCAACGCAGAGTACAGGGGGGGAGAGGGAGAGGAGAGGGAGAGGGAGAGGGAGAGGGAGAGGGAGAGGGAGAGGGAGAGGGAGAGGGAGAGGGAGAGGGGAGAGCGATTTCATTTTTTTTTTTTTTTCCACATCAGATGTGGAAAAAAAATGTACTGGCATTGTAATAAGGCTTGAGGGGAGGCTCAAGACGACTCACTATAGGGCAAGCAGTGGTATCAACGCAGAGTGAGAGGGAGAGCTATTTCATTTTTTTTTTCCACATCAGATGTGGAAAAAAAATGTACTGGCATTGTAATAAGGCTTGAGGGAGGCAGCAATACGTAACTGAACGAAGTAGGTTAACATAA                                                                                                                                                                                                                                               </span></td><td><span style=white-space:pre-wrap>-0000++((*.38999::@QJHHHLSNPIHJNKPJMILLPLJGIGGLSJJNOINIGFDCCC34;;?B@7&lt;;88+)-&gt;@747&gt;&lt;&gt;?=@EEDF@EHHIGBHGGGH=JFIEA&gt;CC@@&lt;49;9&lt;1025466-5510-*+,.33++*&amp;%%$$%&amp;(*,--.35&lt;@DKOKJOJADDBBDFKGGGHHNKF??CCDECDD&gt;EIGGIOIHGLIKKJPSOHLGMFKG;;;+556732()&amp;&amp;++(+++;;;=EGBBB99889EIBJRLHGHDEEGKSJNSKNPS&lt;;AA@DEDGJIJJKDCCB?ECA=;56=@GJLMJLGDDGGHK44&gt;=RECB&gt;FFEIIISKINMOJIMHKNJGSGMJEGFE333454336.-------+('')(-,)''&amp;&amp;&amp;&amp;&amp;&amp;&amp;'+*)('&amp;%                                                                                                                                                                                                                                               </span></td><td>62S11M4D67M1I10M67I5M1D4M5I2M1I1M9I4M2I2M1I2M1I2M9I24M2D67M34S</td><td> 1</td></tr>\n",
       "\t<tr><td> 0</td><td>ab85e92e-74b7-4f44-85e3-47346865e9e2</td><td>chrX</td><td>+</td><td>71442991</td><td>393</td><td>301</td><td>20240530_AL5RACE002</td><td><span style=white-space:pre-wrap>ATGTTATGTGTAGCCTACTCATTCATCATATTGTTCTAATACGACTCACTATAGGGCAAGCAGTGGTATCAACGCAGATTACGGGGGGGAGAGGGAGAGGGAGAGGGAGAGGGAGAGGGAGAGGGAGAGGGAGAGGGAGAGGGAGAGGGAGAGGGAGAGGGAGAGGGAGAGCTATTTCATTTTTTTTTTTCCCACATGGGATGTATGCCTTGGTTCCATTACATATACTCTAATACGACTCACTATAGGGCAAGCAGTGGGTGTGACAGAAGGGAGAGGGAGAGGGAGAGGGAGAGGGAGAGGGAGAGGGAGAGGGAGAGGGAGAGCTATTTCATTTTTTTTTTTCCACATCAGAATTGTGGAAAAAAAATGTACTGGCATTGTAATAAGGCT                                                                                                                                                                                                                                               </span></td><td><span style=white-space:pre-wrap>##$$$$%$$$$#$$$$%&amp;)&amp;&amp;&amp;''()))))))+),,,-78DB=&lt;&lt;=&gt;@@BECBBCBDGHIJJOLNHFFGEFGEBBBABDF&gt;&lt;)((+43/128&lt;&gt;ACFFFEECEGJFCDFHMHGDGMLIGFGGHFECEEHKFECBB&gt;61&lt;=A@&gt;&lt;&gt;&gt;===3669?654&gt;&gt;&gt;99&lt;?&lt;;;=B@&gt;&gt;&gt;====3---,,*+,-7:?&gt;;6()&lt;&lt;)))))*)%$##&amp;*+%&amp;+++*&amp;&amp;'&amp;())((%$$&amp;&amp;'+,56????@DCHGI@@@@@????4432)(((()*-222/../:&lt;CFEGCGMIIDBA&lt;:8::&lt;AFBC&gt;CELCCBFIIEACEEFE5111=&lt;&lt;&lt;&lt;&gt;==&lt;.,,)%%%%%&amp;*+-/23:;:46--*)))&amp;%&amp;&amp;'(./1=&gt;@BABA&lt;&lt;&lt;;::9:==&gt;&lt;&lt;;&lt;;&lt;:8731                                                                                                                                                                                                                                               </span></td><td><span style=white-space:pre-wrap>92S16M3I58M101I64M1D21M2I36M                                  </span></td><td>15</td></tr>\n",
       "\t<tr><td> 0</td><td>5377942d-8f74-4a3d-aad4-67416f42eaae</td><td>chrX</td><td>+</td><td>71442991</td><td>271</td><td>202</td><td>20240530_AL5RACE002</td><td><span style=white-space:pre-wrap>TGTGTGTCTGGTTGGTTGGTCTTGCTCTAATACGACTCACTATAGGGCAAGCAGTGGTATCAACGCAGAGGGAGAGGGAGAGGGAGAGGGAGAGGGAGAGGGAGAGGGAGAGGGAGAGGGAGAGGGAGAGGGAGAGGGAGAGGGAGAGGGAGAGGGAGAGGGAGAGGGAGAGGGAGAGGGAGAGGGAGAGGGAGAGGGAGAGCTATTTCATTTTTTTTTTTTTCCACATCAGATGTGGAAAAAAAAATGTACTGGCATTGTAATAAGGCTT                                                                                                                                                                                                                                                                                                                                                                         </span></td><td><span style=white-space:pre-wrap>#$$%('(''&amp;&amp;&amp;*,,,,**)'''''+((((*,.0000,+++,-111:&gt;DDDDDFHFIECDBBCECDCBC@@=9743338@AB&gt;C:??&gt;=:3FFGIHIJKICGFNSNEKMSMKKIKIRRLIKLIGJH&lt;FFIIFHGGFDA0DDFE&gt;:4;ABC?@&lt;99:1446:9@DIJ?93.8KG&lt;ACBNJIIMPQJHELMIKGKLSJKJJIHLOICGFF1110003&lt;EFFSJSKGC;;GFBA@?BDF@;:9::2)((*+***11778ABB@&gt;=&gt;=:7774/'                                                                                                                                                                                                                                                                                                                                                                         </span></td><td><span style=white-space:pre-wrap>69S16M3I122M1I27M1I32M                                        </span></td><td>26</td></tr>\n",
       "\t<tr><td> 0</td><td>6853bb42-9eb0-4815-be0f-8331bbbff35a</td><td>chrX</td><td>+</td><td>71442993</td><td>469</td><td>192</td><td>20240530_AL5RACE002</td><td><span style=white-space:pre-wrap>TTGTGGCCTCTCGTTCAGTTACGTATTGCTCTAATACGACTCACTATAGGGCAAGCAGTGGTATAGACGCAGAAGGAAGAGAGAGAGAGAGAGAGAGAGAGAGAGAGAGAGAGAGAGAGAGAGAGAGAGAGAGAGAGAGAGAGAGAGAGAGAGAGAGAGAGAGAGAGAGAGAGAGAGAGAGAGAGAGAGAGAGAGAGAGAGAGAGAGAGAGAGAGAGAGAGAGAGAGAGAGAGAGAGAGAGAGAGAGAGAGAGAGAGAGAGAGAGAGAGAGAGAGAGAGAGAGAGAGAGAGAGAGAGAGAGAGAGAGAGAGAGAGAGAGAGAGAGAGAGAGAGAGAGAGAGAGAGAGAGAGAGAGGGAGAGGGAGAGGGAGAGGGAGAGGGAGAGGGAGAGGGAGAGGGAGAGCTATTTCATTTTTTTTTTTTCCACATCAGATGTGGAAAAAAAATGTACTGGCATTGTAATAAGCTC                                                                                                                                                                   </span></td><td><span style=white-space:pre-wrap>##$%$####$%%%&amp;''-+++)('((*++)****/0462000/..///@@@CDDDCC===;;=&lt;&lt;-,,,)+('&amp;'&amp;%&amp;&amp;&amp;&amp;(,0436599=&lt;@&gt;@?@@@@A@A@BABBBBCABACBCAA@BACADBECCCDBDCEDDCDCCCDCBBBCBCCBBABAAA@@A@@@A@A@@?@@@@AAAABBBBCCCDDDDDDDDCCBBABBAAABBAAAA@?&gt;;9899:&lt;&lt;==?&gt;@@AAAABABABBDBEDEEEEFDECDCBB@A@A@@@@@@AAA@AAAAAAA@A@@???????@@AABBCCCCCCBA@@?&gt;&lt;;9889:;&lt;=&gt;&gt;??@?@@AAAABAAAA@A?????FDFEHFGEGCDBC@A??=908:8&lt;;:;94=;::;&lt;CFFDCBCEGEA&gt;@BHFCBBBC@90==&lt;&gt;&lt;:&gt;@&lt;;;867878::7;&gt;HIJJKKSC911FFGEEEEEHGB@@BB?;9:9765669;AFEE??764420+*'                                                                                                                                                                   </span></td><td><span style=white-space:pre-wrap>274S15M1I176M3S                                               </span></td><td> 9</td></tr>\n",
       "\t<tr><td> 0</td><td>ecb0557f-bbce-46ef-ad26-a5346da0466b</td><td>chrX</td><td>+</td><td>71442993</td><td>265</td><td>192</td><td>20240530_AL5RACE002</td><td><span style=white-space:pre-wrap>ATGTAACCTACTCGTTCAGTTGCGTATTGCTCTAATACGACTCACTATAGGGCAAGCGGTGTATAAACACAGAGAGAGAGAGAGAGAGAGAGAGAGAGAGAGAGAGAGAGAGAGAGAGGGAGAGGGAGAGGGAGAGGGAGAGGGAGAGGGAGAGGGAGAGGGAGAGGGAGAGGGAGAGGGAGAGGGAGAGGGAGAGGGAGAGCTATTTCATTTTTTTTTTCCATCAGATGTGGAAAAAAAAATGTACTGGCATTGTAATAAGGCT                                                                                                                                                                                                                                                                                                                                                                               </span></td><td><span style=white-space:pre-wrap>$%''%$##$$$%$$%%%&amp;&amp;&amp;&amp;$$$$$*--,----/6;;7777766666:99::,+++('&amp;&amp;''((()))-,*)*%)..125=?@AABBBAA@?&gt;&lt;&gt;=@?@??&gt;&gt;=?=?&gt;@@B@?681,)*(*2:&gt;@==&lt;??&lt;;=@@@?A@BCA&lt;75?==;9&gt;FFC?=BEHHEDEHECA?:@==99&gt;GEF@DIGKKIJKIMHIFGINGHHHILJMFKDF6554449BDDFE*)''&amp;%%&amp;'(,-24788979&lt;878?CDFIGHIGI?&gt;877777656                                                                                                                                                                                                                                                                                                                                                                               </span></td><td><span style=white-space:pre-wrap>73S15M1I131M3D1M1D12M1I31M                                    </span></td><td> 8</td></tr>\n",
       "\t<tr><td> 0</td><td>2374c97a-5901-40ce-b84c-e8e79530c57d</td><td>chrX</td><td>+</td><td>71442995</td><td>275</td><td>189</td><td>20240530_AL5RACE002</td><td><span style=white-space:pre-wrap>ATGTTTATGTAGTCTACTTCGTTCAGTTACATATTGTATAATTGACTCACTATAGGGCAAGCAGTGGTATCAACGCAGAGTACAGGAGGGAGAGGGAAGGGAGAGGGAGAGGGAGAGGGAGAGGGAGAGGGAGAGGGAGAGGGAGAGGGAGAGGGAGAGGGAGAGGGAGAGGGAGAGGGAGAGGGAGAGGGAGAGGGAGAGGGAGAGCTATTTCATTTTTTTTTTTTCCACATCAGATGTGGAAAAAAAAATGTACTGGCATTGTAATAAGGCTA                                                                                                                                                                                                                                                                                                                                                                     </span></td><td><span style=white-space:pre-wrap>%&amp;&amp;(((&amp;''(%$$$$$&amp;&amp;,'&amp;&amp;&amp;'''&amp;&amp;%%$&amp;&amp;'(&amp;'&amp;&amp;&amp;'(53345;&lt;&lt;===EECFHIKLGIIJHEEBB)((((((((50(&amp;&amp;&amp;(()**'*2220+****399;=61=@@A?&lt;BGHBEDEJJGHFELIK=BEFGC@5;?IBGIHMHGCCEJHFDBFIGD==ACBA:&gt;AHFBB878@=:6=BA&lt;:3:&lt;4127&gt;&gt;&gt;??2DCB??:AFGGGDDCD1000007=@ACGIGDC6732*****+)&amp;%',.31.-*+++,+00024?@BA@@??ABCC?B=                                                                                                                                                                                                                                                                                                                                                                     </span></td><td><span style=white-space:pre-wrap>85S12M4D145M1I31M1S                                           </span></td><td>32</td></tr>\n",
       "\t<tr><td>16</td><td>3cff295e-a75c-4132-8e36-8379241dd568</td><td>chrX</td><td>-</td><td>71442997</td><td>400</td><td>307</td><td>20240530_AL5RACE002</td><td><span style=white-space:pre-wrap>ACCATGTATTGCTCTAATACGACTCACTATAGGGCAAGCAGTGGTATCAACGCAGAGTACAGGGGAGAGGGAGAGAGGGAGAGGGAGAGGGAGAGGGAGAGGGAGAGGGAGAGGGAGAGAGGGAGAGGGAGAGGGAGAGGGAGAGGGAGAGCTATTTCATTTTTTTTTTTTTCCACATCAGATGTGGAAAAAATGTACTGGCATTGTAATAAGGCTTGAGGGAGGCTCTAATACGACTCACTATAGGGCAAGCAGTGGTATCAACGCAGAGTACATGAGGGAGAGGGAGAGCTATTTCATTTTTTTTTTTTCCACATCAGATGTGAAAAAAAAAATGTACTGGCATTGTAATAAGGCTTGAGGGAGGCAGCAATACGTAACTGAACGAGGTCAGGACATA                                                                                                                                                                                                                                        </span></td><td><span style=white-space:pre-wrap>#%&amp;.09&lt;ED@@@@ABCBDED@@@??PHJNJKIJGHHIQIOSOILFFDDJRGLLIHGFFD@=A+/9047&lt;&lt;&lt;..5=&gt;CCCBB/88AED?DCAEECRFGJKAFEDC99=CDEF5?:9*+04*024BA088;FF@IEDEB&gt;AA?BB9ALMSPLLJFA&gt;&gt;&gt;?FMSSSJKGEAHBABDSJHSNLIRJICAB@@670&lt;BCFFEGHIGFDEFGHGFGHM;;;&lt;A@47754,'%%&amp;')(()-/2134@??@@??:88899=ACDKIINIHHHJNHIMIMLSLMLNBMGEEE@DPKIFHFEFHCB&gt;@CDCA:99:&gt;GIMEB?66669=&gt;?;0.1GKLJK&gt;?@GQKQOIJNKJKSMJJMMSQJKMSH&gt;=65=DBFDDE&gt;&gt;&gt;&gt;&gt;CDBA?@@?&gt;&lt;9)'&amp;$$######$$###                                                                                                                                                                                                                                        </span></td><td><span style=white-space:pre-wrap>62S10M1D42M2I35M100I9M2I8M1D3M3I49M1I43M31S                   </span></td><td> 1</td></tr>\n",
       "\t<tr><td>16</td><td>04fb79bc-5d8f-4210-a5ff-50ac1937558c</td><td>chrX</td><td>-</td><td>71443000</td><td>355</td><td>273</td><td>20240530_AL5RACE002</td><td><span style=white-space:pre-wrap>ATTACCATTGTCGGTACCACTCACTATAGGGCAAGCAGTGGTATCAACGCAGAGGGAGAGGGGAGAGGGAGAGGGAGAGGGAGAGGGAGAGGGAGAGGGAGAGGGAGAGCTATTTCATTTTTTTTTTTTCCACATCAGATGTGGAAAAACTAATACGACTCACTATAGGGCAAGCAGTGGTATCAACGCAGAGGGAGAGGGAGAGGGGAGAGGGAGAGGAGAGGGAGAGGGAGAGGGAGAGGGAGAGCTATTTCATTTTTTTTTTTTCCACATCAGATGTGGAAAAAAATGTACTGGCATTGTAATAAGGCTTGAGGGAGGCAGCAATACGTAACTGAACGAAGTACAGGCAGAG                                                                                                                                                                                                                                                                                     </span></td><td><span style=white-space:pre-wrap>%%&amp;()-+*))('(((..-....667&lt;:58888DD@EFGGFDFGHJSSMKOHGIIGEBC48GDEEC@CEA3314CBCC:&lt;EBBB4BA@IBADDEC96BDB@)(/AAABHEJGCCB=.--:EEC72283222344335@@FDEFIGHNHC====776689&gt;&lt;;==&gt;NNNNGGGIHFLRIDE&lt;;&lt;&lt;&lt;DGISPGIGGGIFD5FA?@@6&lt;&gt;&lt;;;//3?;5-+&gt;:664::::9.323:;0;:666/&lt;;630/.++*))*+01239&lt;&lt;&gt;&gt;&gt;;:=CEGIGDDC?&gt;&gt;98@@@CA&gt;-,,,,5557&gt;ECFFEKJNJOJRSJSLSGHMPLHKSLBAAA@@?;;32--('**)(+''&amp;%#$#####$$                                                                                                                                                                                                                                                                                     </span></td><td><span style=white-space:pre-wrap>50S7M1D3M1D49M78I17M1I12M1D65M1D41M32S                        </span></td><td>57</td></tr>\n",
       "\t<tr><td> 0</td><td>9e1271a1-232a-4c57-9acf-1f5a96ba500e</td><td>chrX</td><td>+</td><td>71443002</td><td>235</td><td>189</td><td>20240530_AL5RACE002</td><td><span style=white-space:pre-wrap>TGTGTGTGGCTGGACTAGTACGTATTGCTCTAATACGACTCACTATAGGGACGACAGTGGAGCTGGGACAGGGAGACCCAGGGGGGGAGAGGGAGAGGGAGAGGGAGAGGGAGAGGGAGAGGGAGAGGGAGAGGGAGAGGGAGAGGGAGAGGGAGAGGGAGAGGGAGAGCTATTTCATTTTTTTTTTTTCCACATCAGATGTGGAAAAAAAAATGTACTGGCATTGTAATAAGGC                                                                                                                                                                                                                                                                                                                                                                                                             </span></td><td><span style=white-space:pre-wrap>$$%%%%%$##$#######$$$%%%(+,,8==43337/....,+++,'&amp;%%$$$$$$%%%%%&amp;&amp;'&amp;&amp;')+,..*''****)**+,57894:&lt;&lt;?&gt;BHIIGCJJHILLIHEDB9CEDBBADGB@?=??@&gt;&gt;=;:8953357:;-,,+-/)(((+*')(,/0268997971.--)()((-124436778&gt;AB;&gt;00&lt;DGEIILHGJHGHIF@::;CAABBDEFHHEFEFGD@=;::97                                                                                                                                                                                                                                                                                                                                                                                                             </span></td><td><span style=white-space:pre-wrap>46S11M1I4M1I12M4I4M1D1M1D120M1I30M                            </span></td><td>34</td></tr>\n",
       "\t<tr><td> 0</td><td>9fceaa76-0024-4152-be66-36d483ee0c3b</td><td>chrX</td><td>+</td><td>71443002</td><td>415</td><td>320</td><td>20240530_AL5RACE002</td><td><span style=white-space:pre-wrap>ATGTTTATGTGTAACCTACTTCGTTCAGTTACGTATTGCTCTAATACGACTCACTATAGGGCAAGCAGTGGTATCAACGCAGAGTACAGGGGGGAGAGGGAGAGGGAGAGGGAGAGGGAGAGGGAGAGGGAGAGGGAGAGGGAGAGGGAGAGGGAGAGGGAGAGGGAGAGGGAGAGCTATTTCATTTTTTTTTTTCCACATCAGATGTGGAAAAAAAAAATGTACTGGCATTGTAATAAGGCTTATGTCATCTACTCGTTCAGTTACGTATTGCTCTAATACGACTCACTATAGGGCAAGCAGTGGTATCAACGCAGAGGGAGAGGGAGAGCTATTTCATTTTTTTTTTTCCACATCAGATGTGAAAAGAAAATGTACTGGCATTGTAATAAGGCTTGAGGGAGGCAGCAATGGT                                                                                                                                                                                                                         </span></td><td><span style=white-space:pre-wrap>&amp;''*+*'',,(%%%%%&amp;&amp;&amp;%'&amp;(,4;@ECC;:99:=?A775549:KIKIFHIIJGINHJHIJJJHIGFLFMHJKFDCCAAFGJMG=;210../044;==?8@ECEE@GMLRIHGHID?&gt;&gt;CBA=5&gt;@KHIIHJCB&gt;75;??ABFIPDDADHHKA@A?&lt;80))'''(*-202345;&lt;&lt;&lt;;:74013466?DEJKJLH=11=&lt;5311101//0234-++,/00012&lt;=EFHIPJKGECA?;&lt;;852)&amp;&amp;%$#####$$%%'''''''%$$&amp;&amp;'(((8::112JLKGIJKECDCD76667EDB????FKLHHB@@?9865434515;::500/---++,+''(()77CEILLHJ@66-,++++++*((*-,///00.'''''(()CJGAB&lt;;;999854-++,/-**'&amp;&amp;%%%'')))                                                                                                                                                                                                                         </span></td><td><span style=white-space:pre-wrap>87S89M123I9M2I29M1D68M8S                                      </span></td><td> 5</td></tr>\n",
       "\t<tr><td> 0</td><td>94ea9d93-67a7-4eca-a3ae-0ac901e81e56</td><td>chrX</td><td>+</td><td>71443002</td><td>394</td><td>300</td><td>20240530_AL5RACE002</td><td><span style=white-space:pre-wrap>TTATGTGTAGCCCTACTTGGTTCATTTACGTATTGCTCTAATACAACTGGCTCTAGGGCAAGCAGTGGTATCAACGCAGAGTACAGGGGGGAGAGGGAGAGGGAGAGGGAGAGGGAGAGGGAGAGGGAGAGGGAGAGGGAGAGGGAGAGGGAGAGGGAGAGGGAGAGGGAGAGCTATTTCATTTTTTTTTTTCCACATCAGATGTGGAAAAAAAATGTACTGGCATTGTAATAAGGCTTGAGGGAGGCACTAATACGACTCACTATAGGGCAAGCAGTGGTATCAACGCAGAGGGAGAGGGAGAGCTATTTCATTTTTTTTTTTTTTCCACATCAGATGTGGAAAAAAAATGTACTGGCATTGTAATAAGGCTTGAGGGAGGCAGCAATACATA                                                                                                                                                                                                                                              </span></td><td><span style=white-space:pre-wrap>#$$$$%%&amp;%$$$###$$%%''))**+*%%&amp;&amp;&amp;())*644211/0***+''''''''':&lt;;;;;&lt;GGA?A@?,,,,,,A@CHGB?99511/-0/18:99;&lt;&lt;=:788777187557488891,7??=@BDHHG@BHSHHCEHNLDBCELIJE=8&lt;=?@?FJHHFFCSNNJINIIPJFEC40156A@AFFIKLC5801DGFFJLSKLECCFCF&lt;621013388CGJJQKIJHJKIKKMJIJHFFMIKSIMJOLILINKKLIIMSJLPLIJHMQIKJRMSSNNKNI????;;8776:;&gt;CEFGG&lt;JSLKGHFFF.-----1&lt;&gt;CHLJJKEE@33GKGGILJHLJGDC@&gt;;1+++/0034;&lt;=GJFGGGIIJJJJISF+++-?@BB@@=&gt;;:;85,,)                                                                                                                                                                                                                                              </span></td><td><span style=white-space:pre-wrap>84S89M100I9M2I29M2I69M10S                                     </span></td><td> 0</td></tr>\n",
       "\t<tr><td> 0</td><td>26cc2e1d-c824-44a3-bb31-5fa9e952f686</td><td>chrX</td><td>+</td><td>71443002</td><td>289</td><td>197</td><td>20240530_AL5RACE002</td><td><span style=white-space:pre-wrap>TTATGTAACGTACTTCGTTCAGTTACGTATTGCTCTAATACGACTCACTATGGGCAAGCAGTGGTATCAACGCAGAGTACAGGGGGGAGAGGGAGAGGGAGAGGGAGAGGGAGAGGGAGAGGGAGAGGGAGAGGGAGAGGGAGAGGGAGAGGGAGAGGGAGAGGGAGAGGGAGAGGGAGAGGGAGAGGGAGAGGGAGAGCTATTTCATTTTTTTTTTCCACATCAGATGTGGAAAAAAAAATGTCTATAGGCATTGTAATAAGGCTTGAGGGAGGCAGCAATACGTGGT                                                                                                                                                                                                                                                                                                                                                       </span></td><td><span style=white-space:pre-wrap>'+*)(($###$$%%&amp;&amp;*.679:7766689@ABCHHJHIFII;:::754333(((*&lt;???AIGHLJHNGIKHGFJSJHG&gt;:33.(''+/1566818:;?CGCSLKA=IID&gt;;6&lt;@MEC&lt;-88:988ACDEBEFDD=;ADHGB@CIHGHFLJHA97;=?&lt;=:BEF?:6;BLHEGFOOGGBCESEFKECSJFJHKMEEDDFJNLJIIC@@@&gt;B@:LJKSQKSA@GFGKHMIIJMC?&gt;@B532144//+**+'&amp;&amp;&amp;&amp;EFHGFFFEKGIJIF=&lt;&lt;&lt;?&gt;ABA,+++..*))(&amp;&amp;&amp;                                                                                                                                                                                                                                                                                                                                                       </span></td><td><span style=white-space:pre-wrap>80S127M2D25M1I11M1D2M3I28M12S                                 </span></td><td>26</td></tr>\n",
       "\t<tr><td> 0</td><td>264dbaf4-b362-44f2-83b5-6f3b06aee097</td><td>chrX</td><td>+</td><td>71443002</td><td>584</td><td>293</td><td>20240530_AL5RACE002</td><td><span style=white-space:pre-wrap>TTTTTTTTCCTCTACTTCGTTCAGTTACGTATTGCTCAATACGACTCACTATAGGGCAAGCAGTGGTATCAACGCAGAGTACAGGGGGGAGAGGGAGAGGGAGAGGGAGAGGGAGAGGGAGAGGGAGAGGGAGAGGGAGAGGGAGAGGGAGAGGGAGAGGGAGAGGGAGAGCTATTTCATTTTCCACATCAGATGTGGAAAAAAAAATGTACTGGCATTGTAATAAGGCTATTCTCCTCTTCTTCGTTCAGTATTGCTCTAATACGACTCACTATTGGGCAAGCAGTGGTATCAACGCAGAGGGAGAGGGAGAGCTATTTGATTTTTTTTTTTTCCACATCAGATGTGGAAAAAAAAATGTACTGGCATTCTAATCAGATAATGTTTCTGTATTATTTTATTCATTAGTGCGTTCTTGCTCTAATACGACTCACTATAGGGCAAGCAGTGGTATGAACGCAGAGGGAGAGGGAGAGGGAGAGGGAGAGGGAGAGGGAGAGGGAGAGGGAGAGGGAGAGCTATTTCATTTTTTTTTTTCCACATCAGATGTGGAAAAAAAAATGTACTGGCATTGTAATAAGGCT                                                </span></td><td><span style=white-space:pre-wrap>$$$&amp;&amp;''%####$$$%&amp;&amp;(,.+++++*-//.///0&lt;9788:AGEFFHKJNJIHIFFGJGKJFJOGFDEF4100/01001..-*)*--211'*./.-2.---69&lt;=&gt;?=@@&gt;&lt;71&lt;?&gt;&gt;9424421/633356986567843135AA@@A?9&lt;&lt;&lt;:679::;;&lt;=&lt;&gt;?@ABA==66665..-)3051223233443521157@B??@DCAA@@@=&lt;=&lt;=?&gt;@@??:99965)%$####$$%&amp;&amp;')'%%%%%,117;=&lt;&gt;???DFGMIHKGH@AB54.&amp;&amp;&amp;&amp;+444566=CFDF&gt;=&lt;=;;==;&gt;&gt;836&gt;;&gt;9::8000,+++).0002.//1=EEED@;;DEFGKIGFHC;:9;A?BAACB????&gt;;:9:;:43,+*&amp;%$$#\"#####$$$$$$&amp;&amp;%%&amp;&amp;((((%%'''''&amp;&amp;&amp;'''''))46689;EGDBDCDAA@@B&lt;&lt;&lt;=DEEEDBCA=4333))**+44448FHCEFOC&lt;&gt;:GEB&lt;:ACC=84:;&gt;B&gt;&lt;FHHIHEFFC?=&lt;EHGGIDSSSHIIMKQJMLIHB&gt;;;=&lt;&gt;;ABDRSBEC+,?@@BBBBCCA??@B&gt;;8755459:==CEEBAB?&lt;977422/,,                                                </span></td><td><span style=white-space:pre-wrap>82S89M111I9M2I56M1I25M209S                                    </span></td><td> 1</td></tr>\n",
       "\t<tr><td> 0</td><td>74b2ea2f-fd52-4ac9-ae9f-b51db22ae412</td><td>chrX</td><td>+</td><td>71443002</td><td>402</td><td>315</td><td>20240530_AL5RACE002</td><td><span style=white-space:pre-wrap>ATGTTGTGTAACCCTAGGCTTCGTTCAGTTACGTATTGCTCTAATACGACTCACTATAGGGCAAGCAGTGGTATCAACGCAGAGTACAGGGGGGAGAGGGAGAGGGAGAGGGAGAGGGAGAGGGAGAGGGAGAGGGAGAGGGAGAGGGAGAGGGAGAGGGAGAGGGAGAGGGAGAGCTATTTCATTTTTTTTTTTCCACATCAGATGTGGAAAAGAAAATATATGGCATTGTAATAAGGCTCTTTTTTTGATCTATTCGTTCAGTTACGTATTGTCTCTAATACGACTCACTATAGGGCAAGCAGTGGTATCAACGCAGAGGGAGAGGGAGAGCTATTTCATTTTTTTTTTTTTTCCACATCAGATGTGGAAAAAAAAATGTACTGGCATTGTAATAAGGCT                                                                                                                                                                                                                                      </span></td><td><span style=white-space:pre-wrap>'''')&amp;%%%%%$%%%$##$$$$$$$$%&amp;&amp;&amp;%%%&amp;&amp;'***79:99:&lt;&gt;&gt;=;&lt;8)))),32234@@?@----.768779:;&lt;@@AHGB@;;7589=&gt;@@?@=8:;&lt;&lt;71&lt;&gt;&gt;@A2=&lt;&lt;==7CBCCCCEEFGBCBHHAA&gt;FHNSH&gt;C&gt;=&gt;62652432:ADFB@AABCD?D&gt;&lt;?&gt;2CDBBC@AAB@=&lt;==;&lt;DGPJKGB7++*(&amp;%%%%&amp;(''(-.24&amp;&amp;&amp;)'&amp;%$$$%%&lt;=?::555420.('&amp;$$$%&amp;&amp;'$\"##$&amp;'(&amp;&amp;'('+*))&amp;%&amp;&amp;'02-,)''('((48@@?@=&gt;&gt;FJHHMRIHLMNQIGIFEJFGD===;;;;77DJCLJSIIFJISOKHHFC@&lt;&lt;??@=CDEGJKILLIA89CC322226&lt;222:;&gt;8,++0279:=?ABBECBBB@?@&gt;&gt;&lt;;84                                                                                                                                                                                                                                      </span></td><td><span style=white-space:pre-wrap>87S89M125I9M2I29M2I27M1I31M                                   </span></td><td>15</td></tr>\n",
       "\t<tr><td>16</td><td>939aa053-38b1-49dd-b1f7-577dea3b3085</td><td>chrX</td><td>-</td><td>71443002</td><td>238</td><td>199</td><td>20240530_AL5RACE002</td><td><span style=white-space:pre-wrap>CACCATAGGGAGGGATGGATGATGGAGACGGACAGGGGGGGGGGAGAGGGAGAGGGAGAGAGGGAGAGGGAGAGGGAGAGGGAGAGGGAGAGGGAGAGGGAGAGGGAGGGAGAGGGAGAGGGAGAGCTATTTCATTTTTTTTTTTCCACATCAGATGTGGAAAAAAAAATGTACTGGCATTGAAATAAGGCTTGAGGGAGGAACAATACGTAACTGAACGAAGTACAGGACAGAACAT                                                                                                                                                                                                                                                                                                                                                                                                          </span></td><td><span style=white-space:pre-wrap>$(')*(&amp;'''+))))*('&amp;%$%%('(('&amp;''((1243-,+-+-4;==ACBCA&gt;BEE-.777;GDIFBGJFGEBF@??:9&gt;FDGE;FEBB66899A87&lt;BDAB&gt;@,46&lt;??==35&lt;:?A&lt;?IHIFGFFGDBCA&gt;&gt;&gt;A@=:;@F?7444445521125:;ADB@?&lt;&lt;=4BCCDGHMHJIE43334::9&lt;&lt;&lt;988887?B988897:99899;&lt;&gt;&gt;&gt;&gt;54321400*)(&amp;&amp;$%$$$$$###                                                                                                                                                                                                                                                                                                                                                                                                          </span></td><td><span style=white-space:pre-wrap>6S7M1D6M1I14M1I20M2I48M2D29M1D26M1I44M33S                     </span></td><td>36</td></tr>\n",
       "\t<tr><td>16</td><td>03f1efb9-360a-4007-921e-27b4fd538700</td><td>chrX</td><td>-</td><td>71443002</td><td>456</td><td>186</td><td>20240530_AL5RACE002</td><td><span style=white-space:pre-wrap>ATGTATTGCTCTAATACGACTCACTATAGGGCAAGCAGTGGTATCATGAAATGCAGAGTACAGGGGGGAGAGGAGAGGGAGAGGGAGAGAGGGAGAGGGAAAGGAGAGGGAGAGGGAAGAGGGAGAGAGGGTGAGAGAGAGGGAGAGGGAGAGAGAGGGAGAGGGAGAGTCATTCCATTTTTTTTTTTCCACATCAGATGTGGAAAAAAAAATGTACTGGCATTGTAATAAGGCTTGAGGGAGGCACTAAGACCACTCACTATAGGGCAAGCAGTGGGACGACGATAGGGAGAGGGAGAGGGAGAGGGAGAGGGAGAGGGAGAGGGAGAGGGAGAGGGAGAGCTATTTCATTTTTTTTTTTCCACATCAGATGTGGGAAAAAAAATGTACTGGCATTGTAATAAGGCTTGAGGGAGGCAGCAAGCACGATGAATGAGTAGGTTACACATAAACATA                                                                                                                                                                                </span></td><td><span style=white-space:pre-wrap>--02;;*(('''(((77;BBBBDEBC@22211778=?,***+**))&amp;&amp;(&amp;&amp;&amp;)*++346&lt;?;;54.44844778&lt;:DA@@5-++),+/))1::;9;=&lt;-6+*2799.89=?54***0=//24510/)''&amp;&amp;'*/0111,,,--7:58875612594:::;3-252)))))()++,56445666:HEFFIILKISPSIPF44A?=&gt;9105:DKLIPLMSOFEGE&gt;44666777....//56454222))*****)***())124442.+++++0)'(((()**+.//&lt;BCAHGCFC76..5?&gt;BABEECFI&lt;EB;;;=C:999=@CEGG8@BCEF;FDD&lt;;;;;;=;43331/0/..//.//00;:9889677*).9=931/112210//../.**//00322CCAE&gt;==2072++++,0../.,''''())*(''(&amp;%%&amp;&amp;&amp;'')-+('*00,+%$                                                                                                                                                                                </span></td><td><span style=white-space:pre-wrap>61S10M1D15M4D14M1D16M1I7M4D28M2D25M1D26M1I43M209S             </span></td><td>22</td></tr>\n",
       "\t<tr><td> 0</td><td>ef451fdc-cce0-4d71-9523-315a9edd1d3e</td><td>chrX</td><td>+</td><td>71443003</td><td>370</td><td>288</td><td>20240530_AL5RACE002</td><td><span style=white-space:pre-wrap>TGTGTGTGTTTACTTCGTTCAGTTACGTATTGCTCTAATACGACTCACTATAGGGCAAGCAGTGGTATCGACGCAGAGTACGGGGGGGAGAGGGAGAGGGAGAGGGAGAGGGAGAGGGAGAGGGAGAGGGAGAGGGAGAGGGAGGGAAAGGGAGAGGGAGAGGGAGAGCTATTTCATTTTTTTTTTTCCACATCAGATGTGGAAAAAAAAGAAATATTATGGCATTGTAATAAGGCTTGAGGGAGGCTCTAATACGACTCACTATAGGGCAAGCAGTGGTATCAACGCAGAGGGAGAGGGAGAGCTATTTCATTTTTTTTTTTTTCCACATCAGATGTGGAAAAAAAATGTACTGGCATTGTAATAAGGC                                                                                                                                                                                                                                                                      </span></td><td><span style=white-space:pre-wrap>##$#$$$$$$&amp;%%&amp;&amp;'*59::;:94422*****4410134&lt;6333333335????ALJMJNONIJGHG8(((((IGHJJIE===@LFDEEDFDA@CFDEB@CECEF8CCBDE&gt;FDBB?8@HFGEDFCCE88:=?&gt;8887120-*+/))+)+,-3:9;&lt;7@GGJCBDINGGEHILC==&gt;;?&gt;EHJQQ=AH))DC=::::&lt;?B@=76:2/..-()(')((''(*+2&gt;BBCBCBCEGHGHOKSJPJQOFHLGEEEEGGMILOKHJJLNJGGNKEEDEFIKIFGFFFEGFLJKJLHHJ&gt;KNHIGFHOLLIDFIJ9998&lt;A&gt;EHHKLJLHA6322310-***/))+/03465887888:@@?AA@ADBAA?==:6                                                                                                                                                                                                                                                                      </span></td><td><span style=white-space:pre-wrap>82S59M2D27M104I9M2I29M1I57M                                   </span></td><td> 8</td></tr>\n",
       "\t<tr><td>16</td><td>cee32268-f815-405b-93d4-e7af03b003cc</td><td>chrX</td><td>-</td><td>71443003</td><td>392</td><td>299</td><td>20240530_AL5RACE002</td><td><span style=white-space:pre-wrap>CAACGTATTGCCTGAATATGACTCACTATAGGGCAAGCAGTGGTATCATGAGAGTACAGGGGGGGAGAGGGAGAGGGAGAGGGAGAGGGAGAGGGAGAGGGAGAGGGAGAGGGAGAGGGAGAGGGAGAGGGAGAGGGAGGGAGAGCTATTTCATTTTTTTTTCCACATCAGATGTGGAAAAATGTACTCGCATTGTAATAAGGCTTGAGGCAGGCCTAGTACGACTCACTATAGGGCAAGCAGTGGTATCAACGAGAGTACATGAGGGAGAGAAATGGAGAGCTATTTCATTTTTTTTTTTTCCACATCAGATGTGAAAAAAAAAATGTACTGGCATTGTAATAAGGCTTGAGGGAGGGCAGCAAGACCAGACTGAACCAGTAGAGGACACA                                                                                                                                                                                                                                                </span></td><td><span style=white-space:pre-wrap>&amp;%$%&amp;'+%$%+&amp;%%%%&amp;(*.5789&lt;==?&gt;11---57675.+++-++,-+,6&lt;&lt;&lt;=A@;;9,-6;;?@4:43894:?&gt;@@37&gt;&lt;?77;AACD&lt;CAADA&lt;.--4,+.@=?B0:9@=++0;;??,98&gt;BC7=&gt;=?=2=+-)6&lt;=ECDDDCB@?&lt;6569:;&lt;&lt;=A&gt;&gt;??&lt;&lt;&lt;&lt;==H&gt;&lt;;=778+&lt;&gt;&gt;;*****ADOSLLLQIIKQFLL&lt;;(''((HFG,,,,,DDCEDEDDGHFFFEFGGCEFDEC&gt;===&gt;=;.+**.;;;;;A?A?8(.*&amp;&amp;()%&amp;&amp;&amp;'89;67777:::9=@?=&lt;&lt;=&gt;?=82125@FJGHIFKGCDBBC@?65457BBDHLJHKIJGRNHKJHBABA&gt;:5441034*(++++*&amp;'''''''**'&amp;&amp;'''((,+$$$$$$$$$$%                                                                                                                                                                                                                                                </span></td><td><span style=white-space:pre-wrap>59S77M2D9M94I7M7I4M1D3M3I9M4I40M1I41M34S                      </span></td><td>18</td></tr>\n",
       "\t<tr><td> 0</td><td>398c0c82-651e-450a-add1-7fd89a08cbee</td><td>chrX</td><td>+</td><td>71443007</td><td>353</td><td>267</td><td>20240530_AL5RACE002</td><td><span style=white-space:pre-wrap>ATGTATCTTACTTCGTTCAGTTACATATGTGTCTAATACGACTCACTATAGGGCAAGCAGTGGTATCAACGCAGAGGGAGAGGGAGAGGGAGAGGGAGAGGGAGAGGGAGAGGGAGAGGGAGAGGGAGAGCTATTTCATTTTTTTTTTTCCACATCAGATGTGGAAACTAATGAGACTGGCTCTAGGGCAAGCAGTGGTATCAACGCAGAGGGAGAGGGAGAGGGAGAGGGAGAGGGAGAGGGAGAGGGAGAGGGAGAGGGAGAGCTATTTCATTTTTTTTTTTTCCACATCAGATGTGGAAAAAAAAATGTACTGGCATTGTAATAAGGCTTGAGGGAGGCAGCAATACGTA                                                                                                                                                                                                                                                                                       </span></td><td><span style=white-space:pre-wrap>#$%'%$$$%%%%+*,-1//001.,((''''&amp;'''&amp;..288767555779...../,++,-.??EFHA@@@==;59//2;&gt;BAC@9:8676.0/111278446@@FFDBAGSLJS?DHSHHAAEEFDBGJNRKMILSDBC&lt;&gt;=:KKKSLD@B:;888&gt;&gt;&lt;&lt;&lt;EDB?&gt;A??110'&amp;&amp;&amp;&amp;(**+------DEFGHHHSSLJHHHAAAA==:99&gt;AA&gt;DAA=CDFQMHMHIHIFCCFJIJFILGDE?;EGIIHBMKIGHGIKLGDB&gt;:833///0-/001@?FJJJKSR@B++AAA@B&gt;&gt;@?&lt;9677A:1100027889;;&lt;BCDA?43349==&gt;&gt;&gt;8899DEEA@&lt;;::=@87+)(                                                                                                                                                                                                                                                                                       </span></td><td><span style=white-space:pre-wrap>76S54M75I95M1I42M10S                                          </span></td><td>54</td></tr>\n",
       "\t<tr><td> 0</td><td>0964dc13-05e0-49d0-8783-425ebfcb4d7d</td><td>chrX</td><td>+</td><td>71443008</td><td>251</td><td>171</td><td>20240530_AL5RACE002</td><td><span style=white-space:pre-wrap>TTTTTTTGCTTGGTTCAGTTCTGGTATTACTATAATACGACTCACTATAGGGCAAGCAGTGGTATCAACCCAGAGAGAGAGAGACAGAGTGCAGGGGGGGAGAGGGGAGAGGGAGAGGGAGAGGGAGAGGGAGAGGGAGAGGGAGAGGGAGAGGGAGAGGGAGAGGGAGAGGGAGAGGGAGAGCTATTTCATTTTTTTTTTTCCACATCAGATGTGGAAAAAAGAAATGTACTGGCATTGTAAGTGAGGGT                                                                                                                                                                                                                                                                                                                                                                                             </span></td><td><span style=white-space:pre-wrap>####$%%###$$')((((((&amp;'&amp;''&amp;&amp;(%%%%%%&amp;&amp;.6/////22223888@BB&gt;&gt;&gt;&gt;&gt;?CBA@=*)))((''''((**,-0/3532222**)))-/0/,--.*-03.38&gt;&lt;;;=?ABA:AFE?BCIHGK;?A&gt;87619&lt;@?@&lt;EDDA?=FEFDCBCFHMHEEGFHECFEHA&lt;;=&lt;;;7.7:;::;;::555556:&gt;?@BAA?&lt;77990100012.---/320/**'&amp;))*00124?@CBB63210*))'&amp;                                                                                                                                                                                                                                                                                                                                                                                             </span></td><td><span style=white-space:pre-wrap>72S17M1I4M1D3M3D6M1I87M1D31M2I19M8S                           </span></td><td>13</td></tr>\n",
       "\t<tr><td> 0</td><td>7627b2b6-dd89-4699-8248-9cc76c4c9426</td><td>chrX</td><td>+</td><td>71443008</td><td>254</td><td>179</td><td>20240530_AL5RACE002</td><td><span style=white-space:pre-wrap>CATGTTATGGCCTGTACTTGGTTCAGTTCGGTATTGTCATGCGTTGGCTGTAGGCTGGGTGGTTGTGGACAGAGAGAGAGAGAGAGAGAGAGAGAGAGAGAGGGGGAGAGGGAGAGGGAGAGGGAGAGGGAGAGGGAGAGGGAGAGGGAGAGGGAGAGGGAGAGGGAGAGGGAGAGGGAGAGGGAGAGCTATTTCATTTTTTTTTTTTCCACATCAGATGTGGAAAAAAAAATGTACTGGCATTGTAATAGGCT                                                                                                                                                                                                                                                                                                                                                                                          </span></td><td><span style=white-space:pre-wrap>'&amp;&amp;&amp;(*)('%$###$$$$&amp;$&amp;'(*.---)(''&amp;')('%$%$$&amp;&amp;''((**.(''%%'&amp;&amp;%&amp;&amp;''$$$%%%%%$#$%&amp;()+-.224588::;;;;::9:7860,+)().22243345555522229;?&gt;&lt;:6:&gt;DB@:9&lt;D??@?B@=5.7:BAA@?@?;::&lt;&gt;?&gt;9368=::65:?&gt;=;==522165556;&lt;=??&gt;=:=&gt;&lt;JSSSSKG&gt;&lt;88998:::;;;;?99?;0,++//45567?@@BFD&gt;=-**)&amp;'$%                                                                                                                                                                                                                                                                                                                                                                                          </span></td><td><span style=white-space:pre-wrap>75S148M1I25M1D5M                                              </span></td><td>20</td></tr>\n",
       "\t<tr><td>⋮</td><td>⋮</td><td>⋮</td><td>⋮</td><td>⋮</td><td>⋮</td><td>⋮</td><td>⋮</td><td>⋮</td><td>⋮</td><td>⋮</td><td>⋮</td></tr>\n",
       "\t<tr><td> 0</td><td>ca106d19-ca3f-4d5c-aeef-67d9d4490a29</td><td>chrX</td><td>+</td><td>71443135</td><td>154</td><td>52</td><td>20240530_AL5RACE002</td><td><span style=white-space:pre-wrap>ATCACGTACTTCGTTCAGTTTTACGTATTGCTCTAATACGACTCACTATAGGGCAAGCAGTGGTATCAACGCAGAGTACATGAGGGAGAGGGAGGACTCTGATTTTTTCCACATCAGATGTGAAAAAAAAAATGTACTGGCATTGTAATAAGGC                           </span></td><td><span style=white-space:pre-wrap>&amp;&amp;#$$$%&amp;''((*,-+,,--+(()589&lt;&gt;&gt;??FHDCDEFCC&lt;::::ABB?????HGHHFGRIFIJIDJNGDDAACCGBA?&gt;6456301644.,.&amp;&amp;%%%''(*229AEB&gt;66689BAABCHFBD?E@JJGHGECGFGHHFHHFE=;87755442                           </span></td><td><span style=white-space:pre-wrap>102S20M1I31M   </span></td><td> 5</td></tr>\n",
       "\t<tr><td>16</td><td>03004162-2736-496f-872e-891f1a354474</td><td>chrX</td><td>-</td><td>71443135</td><td>108</td><td>63</td><td>20240530_AL5RACE002</td><td><span style=white-space:pre-wrap>CATTTCCTTTTTTCCACATCAGATGTGGAAAAAAAATGTACTGGCATTGTAATAAGGCTTGAGGGAGGCAGCAATACGTAACTGAGTCAGTAGATGTAGACATAACAC                                                                         </span></td><td><span style=white-space:pre-wrap>#''&amp;'(+))*031127966688?&gt;10ABCDA?;?&lt;@&gt;&gt;&gt;??ACHEEDDDEE&lt;&lt;;;&lt;?@&gt;&gt;0/2217777;860---,))('&amp;%&amp;'&amp;&amp;'(((('&amp;%%&amp;((+)(('%$$$                                                                         </span></td><td><span style=white-space:pre-wrap>7S63M38S       </span></td><td>36</td></tr>\n",
       "\t<tr><td> 0</td><td>9c09f576-c27e-4155-9b8a-abd683cefba0</td><td>chrX</td><td>+</td><td>71443136</td><td>171</td><td>57</td><td>20240530_AL5RACE002</td><td><span style=white-space:pre-wrap>GTCCTCTACTCGTTCAGTTTCGTATTGCTCTAATACGACTCACTATAGGGCAAGCAGTGGTATAGACGCAGAGTACAGTGGGGGAAAGGGTTTTTATCATTTTTCCACATCAGATGTGAAAAAAAAATGTACTGGCATTGTAATAAGGCTTGAGGGGAGCGACAATGGTAA          </span></td><td><span style=white-space:pre-wrap>###$$$%%'(*)*,+-/./*&amp;''(+++,4..+++,,544555555587777HLHLHIHINKJJ222224DDEEFAA;61.(''(()*)))(()(+))'&amp;'''-0/3//;@@A@?@BHEC;&lt;==98877430'''''378886666:;;331//024**50.-,,,.,+)))          </span></td><td><span style=white-space:pre-wrap>99S57M15S      </span></td><td> 6</td></tr>\n",
       "\t<tr><td> 0</td><td>ef5bb7ee-168c-4a3f-a3d4-12f548b50da8</td><td>chrX</td><td>+</td><td>71443136</td><td>181</td><td>57</td><td>20240530_AL5RACE002</td><td>ATGTTTTTGTAGTTATACTGGTTCAGTTGCGTATTGCTCTAATACGACTCACTATAGGGCAAGCAGTGGTATCAACGCAGAGTACATGAGGGAGAGGGAGGGCTTGATTTTTCCACATCAGATGTGAAAAAAAAAATGTACTGGCATTGTAATAAGGCTTGAGGAGGGCGCAATACGTAAC</td><td>#$$$$$'''&amp;$$$$####$%%%''++++))***05558&gt;==&gt;&gt;BCEDEFHIJPJPGFEHFFFEDBBBB@A@&gt;/*((()4445544332/++++354432564431-,,*)1033,,::98888996668;FGFDDDB?@?&gt;&gt;8788EDAA;:::;;;7660---,+,++*((()%%$$$%%</td><td>107S19M1I37M17S</td><td> 6</td></tr>\n",
       "\t<tr><td> 0</td><td>87d58aa7-0e27-465c-b714-2decebb8ce5e</td><td>chrX</td><td>+</td><td>71443136</td><td>181</td><td>61</td><td>20240530_AL5RACE002</td><td>GTGTTATGTTAACCCTTTCGTTCATTACGTATTGCTCTAATACGACTCACTATAGGGCAAGCAGTGGTATCAACGCAGAGTACATGGGGGGGGGGGGAGGGCTGCCCGTTTTTCCACATCAGATGTAAAAAAAAAATGTACTGGCATTGTAATAAGGCTTGAGGGAGGCGGCAATTTGGTA</td><td>'''*,***)%$$%%&amp;&amp;(+&amp;%#$#%%%%&amp;%%%**+-8::;;;&gt;A0///-,++++411246GGDEPHBBB@@55555=&lt;&lt;&lt;&lt;=0+++*,+.&gt;?&lt;:::9861**)*)('%%%&amp;&amp;./034589:CDBCAA.--.&lt;;;?BA@?ACCABCBDFEDEDDDEIGFEFGB@@AEDEDA,++++1.*(()'</td><td><span style=white-space:pre-wrap>108S61M12S     </span></td><td>20</td></tr>\n",
       "\t<tr><td> 0</td><td>080b52ca-6b7d-461c-8bd5-93eec7cb4e58</td><td>chrX</td><td>+</td><td>71443136</td><td>174</td><td>63</td><td>20240530_AL5RACE002</td><td><span style=white-space:pre-wrap>GTTATGCATCTTACTTCGTTCAGTTACGTATTGCTCTAATACGACTCACTATAGGGCAAGCAGTGGTATCAACGCAGAGTACATGAGCAGGCTTTATCTCATTTTTCCACATCAGATGTGAAAAAAAAAATGTACTGGCATTGTAATAAGGCTTGAGGGAGGCAGCAATACATT       </span></td><td><span style=white-space:pre-wrap>$(+*+)%$$###$',)&amp;'(34&gt;???&gt;&lt;66567:)))))+,CFDDFEFGGIII=&lt;&lt;&lt;=JHLIHOMJIJHI533322&lt;::::9987/.+(%%&amp;''(+)*'%%%&amp;-,??=&lt;-.ABDDDDDA&gt;1....887770+)*+--1114556:9:9411/.,*''(.83;;668=&lt;&lt;=&lt;:,+*       </span></td><td>101S19M1I43M10S</td><td>24</td></tr>\n",
       "\t<tr><td> 0</td><td>0112f62b-2ec6-49a8-9375-35cd111cde6b</td><td>chrX</td><td>+</td><td>71443136</td><td>156</td><td>52</td><td>20240530_AL5RACE002</td><td><span style=white-space:pre-wrap>TTTTTTCATCTTACTTGGTTCAGTTACGTATTGCTCTAATACGACTCACTATAGGGCAAGCAGTGGTATCAACGCAGAGTACATGAGGGAGAGGGGAGAGCTAGTTTTTCCACATCAGATGTGAAAAAAAAAATGTACTGGCATTGTAATAAGGCT                         </span></td><td><span style=white-space:pre-wrap>#$%&amp;'%$##$%&amp;')+-))**+..--,)%%%%**+&lt;===&gt;@OI;9992////2+****-::999:BFJEIFLNOGGFGFGFFLEF&lt;;89/++/./100.)(()&amp;$%%$-007//3402211243349&lt;BCCCCAA@DCDGGGPIHE&gt;&lt;999766510                         </span></td><td><span style=white-space:pre-wrap>104S19M1I32M   </span></td><td> 5</td></tr>\n",
       "\t<tr><td>16</td><td>89bd3c27-67f4-41c1-a11e-0b6a8a42a364</td><td>chrX</td><td>-</td><td>71443136</td><td>168</td><td>63</td><td>20240530_AL5RACE002</td><td><span style=white-space:pre-wrap>AATGTATTGCTCTAATACGACTCACTAGGGCAAGCAGTGGTATCAACGCAGAGTACATGAGGGAGAGGGAGTATCTTTTTCCACATCAGATGTGAAAAAAAAAATGTACTGGCATTGTAATAAGGCTTGAGGGAGGCAGCAATACGTAACTGAACCAAGAACAGGCAA             </span></td><td><span style=white-space:pre-wrap>()),.44,*)))+,,,--24344---/4998:&lt;ABE;9999B&gt;=&gt;&gt;&gt;BDBAA@@CACB31222&lt;3*,)))'''(;:=;::;@EEDCCEEGHFFKJ@&gt;2213:@@ACEIFGGHFECCBCCBCAFDHHEHC3A@&lt;&lt;:997444211/..000/'''&amp;$%%%(*()'$$$#             </span></td><td>75S19M1I43M30S </td><td>24</td></tr>\n",
       "\t<tr><td>16</td><td>382e9f39-057c-435b-9458-a8ac99027c90</td><td>chrX</td><td>-</td><td>71443136</td><td>133</td><td>59</td><td>20240530_AL5RACE002</td><td><span style=white-space:pre-wrap>CACTATAGGAAGCAGTGGTATCAACGCAGAGTACATGAGGGAGAGGAATCCTTTTTCCACATCAGATGTGAAAAAATGTACTGGCATTGTAATAAGGCTTGAGGGAGGCAGACGTAACTGAACGAGGTTACAC                                                </span></td><td><span style=white-space:pre-wrap>.//0611448:9&lt;@:9988989&lt;&lt;&lt;@CEFECB&gt;=;:8-.-+,)&amp;&amp;%%$$%+,/-..//4421///0--.15./29::::&gt;=?@?:886674347:322///+++*....+****+5565++&amp;%$###$$%%%%                                                </span></td><td>51S19M3D40M23S </td><td>22</td></tr>\n",
       "\t<tr><td>16</td><td>688a9046-a78f-4833-b383-cf325cb4315f</td><td>chrX</td><td>-</td><td>71443136</td><td>108</td><td>63</td><td>20240530_AL5RACE002</td><td><span style=white-space:pre-wrap>ATTTCCTTTTTCCACATCAGATGTGGAAAAAAAAATGTACTGGCATTGTAATAAGGCTTGAGGGAGGCAGCAAGACCTAACTTAAAATCAAATGGTAGCATGTGACAC                                                                         </span></td><td><span style=white-space:pre-wrap>)*((*0.0/1335::::9BCFCB@A&gt;&gt;32-,14778=BEDDDCBBAA&lt;;BAABBABB?CA262+++++3++.-++++,)'''%&amp;%%$%$&amp;%$%%$$$$$%%%%%&amp;%%$                                                                         </span></td><td><span style=white-space:pre-wrap>6S20M1I42M39S  </span></td><td>33</td></tr>\n",
       "\t<tr><td> 0</td><td>053246c6-2109-4178-a3cc-4bebcf3ff55c</td><td>chrX</td><td>+</td><td>71443137</td><td>171</td><td>62</td><td>20240530_AL5RACE002</td><td><span style=white-space:pre-wrap>TTGCCTGTACTTGGTTCAGTTACGTATTGCTCTAATACGACTCACTATAGGGCAAGCAGTGGTATCAACGCAGAGTACATGAGGGAGGGGGAAGCTATATTTTCCACATCAGATGTGAAAAAAAAAATGTACTGGCATTGTAATAAGGCTTGAGGGAGGCAGCAATGCATT          </span></td><td><span style=white-space:pre-wrap>$$$%))),(((-)**,+222300-,++*+**++((((,7////00CDDEDDDDDHJJEFGFGIIIEBAA??AADKSEFDD&lt;9::723./0.1*(())(%$%&amp;+.99:88)(((()+(()24FGHFDDAABCFIJHSJGHFFCBC?=&lt;;99:99:;;@BB&gt;8//.33,(%%$          </span></td><td>99S18M1I43M10S </td><td>21</td></tr>\n",
       "\t<tr><td> 0</td><td>b6a71db7-a61a-4e33-977c-ecf8811af270</td><td>chrX</td><td>+</td><td>71443137</td><td>166</td><td>61</td><td>20240530_AL5RACE002</td><td><span style=white-space:pre-wrap>TTGTATGCTGCTTGACTAGTACGTATTGCTCTAATACGACTCACTATAGGGCAAGCAGTGGTATCAACGCAGAGTACATGAGGAAAGGCTGTTTTGATTTTCCACATCAGATGTGAAAAAAAAATGTACTGGCATTGTAATAAGGCTTGAGGGAGGCAGCAATAGG               </span></td><td><span style=white-space:pre-wrap>##$%%%##$$$%%$%%&amp;%%%&amp;&amp;&amp;&amp;&amp;58:9===;=&gt;IFA@@AACBB@@((((()....//:;AAA877767742231100**)(''&amp;%&amp;'*****)(**('60:89=CCMIJNGIG@==FDEGHIIEFDFDHSOLSFHHHGSHSOKJSHDEIOBBDC@.---/5(&amp;%               </span></td><td><span style=white-space:pre-wrap>97S61M8S       </span></td><td>22</td></tr>\n",
       "\t<tr><td> 0</td><td>6e5d9060-7c57-428e-8d6d-8d61e6a161df</td><td>chrX</td><td>+</td><td>71443137</td><td>168</td><td>59</td><td>20240530_AL5RACE002</td><td><span style=white-space:pre-wrap>CTTATGTAACCTACTGGTTCAGTTACATATACTCTAGACTCACTATAGGGCAAGCAGTGGTATCAACGCAGAGTACATGAGGGGGAAGGGGAGCTATTAGTTTTCCACATCAGATGTGAAAAAAAAAATGTACTGGCATTGTAATAAGGCTTGAGGGAGAGCAATACA             </span></td><td><span style=white-space:pre-wrap>#$%#$%%$%%%&amp;&amp;')''(,,....*)))*-+*+)(&amp;&amp;'&amp;'(--...&lt;&lt;;&lt;==@@AAAAB???&gt;&gt;&gt;&gt;8344347779:&lt;4545;@?A&lt;99&lt;;&gt;0,,,,4)))))-)1&amp;'@@&lt;=&gt;&gt;?@A:997&lt;DFFSGEDBC@&gt;???ACAB@@====&gt;&lt;;;&gt;&gt;&lt;;:86544444::.-'             </span></td><td>100S18M1I40M9S </td><td>16</td></tr>\n",
       "\t<tr><td> 0</td><td>16800665-f024-4826-8ce8-2fb161df30c2</td><td>chrX</td><td>+</td><td>71443137</td><td>168</td><td>62</td><td>20240530_AL5RACE002</td><td><span style=white-space:pre-wrap>ATTGTAACCTACTTCGTTCAGTTACGTATGAATACGACTCACTATAGGGCAAGCAGTGGTATCAACGCAGAGTACATGAGGGAGAGGAGCTTTAATTTTCCACATCAGATGTGAAAAAAAAAATGTACTGGCATTGTAATAAGGCTTGAGGGAGGCAGCAATACGTTA             </span></td><td><span style=white-space:pre-wrap>$%%$$%#####$%'%&amp;'(&amp;')))*+***.''(,-BCCBBBEEIFKIMLMIJQHIIINJLQKKPCCEBDAA?@A?&gt;&lt;;9959889877''(),-**+,,436/0CDEFIHLHJFE@=@EHIJHE?&gt;&gt;?EIKOMNKJKSGFEEDCCCFKDBBE?BCA=&lt;&lt;&gt;54444,*)'             </span></td><td>95S18M1I43M11S </td><td>21</td></tr>\n",
       "\t<tr><td> 0</td><td>1fa780c8-c1b3-4c8e-a561-caf1822a3f8d</td><td>chrX</td><td>+</td><td>71443137</td><td>177</td><td>61</td><td>20240530_AL5RACE002</td><td><span style=white-space:pre-wrap>TTGTTTTGTTTCTCACCTTTGATCGAGTTCAGGTATTTGTTCTAATACGACTCACTATAGGGCAAGCAGTGGTATCAACACCAGAGTGAGAGGAAGGCTGTTTTCATTTTCCACATCAGATGTGGAAAAAAAATGTACTGGCATTGTAATAAGGCTTGAGGGAGGCAGCAATACATT    </span></td><td><span style=white-space:pre-wrap>####$$%$$%&amp;$$$$%&amp;(+*$$$#$%&amp;&amp;'&amp;'(((((**%%&amp;&amp;&amp;&amp;**DB&gt;=&lt;==BCDEG,,,,,/GGHEEDEDECA1000*++('%(()0.,./-//''''.-,..))''3+6-.&gt;BDEFECCCE&lt;;:9&lt;&lt;DDFEDDDDGHISHKIIHKKMKJLIHJKBABCA?CB@@@@;7643*))    </span></td><td><span style=white-space:pre-wrap>106S61M10S     </span></td><td>32</td></tr>\n",
       "\t<tr><td> 0</td><td>e883ec68-efb5-4d2b-a5e4-1dc8b0c7763e</td><td>chrX</td><td>+</td><td>71443137</td><td>179</td><td>63</td><td>20240530_AL5RACE002</td><td><span style=white-space:pre-wrap>ATGTTATCATCTTACTTCGTTCAGTTACGTATTGCTCTAATACAACTAGCTATAGGGCAAGCAGTGGTATCAACGCAGAGTACATGAGGGAGAGGAAGAGTTTTCGTTTTCCACATCAGATGTGAAAAAAAAAAATGTACTGGCATTGTAATAAGGCTTGAGGGAGGCAGCAATACATT  </span></td><td><span style=white-space:pre-wrap>$$$%%$$####%%%&amp;')'(),,,-****&amp;'''()**++++378433433333510//,/4--55678;;;&lt;&lt;=&gt;=&gt;@==&lt;:6554****777776..0-+'''(&amp;%%%'31900;;&lt;&gt;&gt;&gt;&gt;==&lt;&lt;85?&gt;&gt;&gt;&gt;??&lt;9320,,+,,2;;:99:::&lt;&lt;&lt;;;1***899:;;;;::9976-,)  </span></td><td>106S18M2I43M10S</td><td>15</td></tr>\n",
       "\t<tr><td> 0</td><td>7c586ee0-bba8-4921-86ce-13b96bc6dfc0</td><td>chrX</td><td>+</td><td>71443137</td><td>171</td><td>61</td><td>20240530_AL5RACE002</td><td><span style=white-space:pre-wrap>TTGTATATTTTACTTCGTTCAGTTACGTATTGCTCTAATACGACTCACTATAGGGCAAGCAGTGGTATCAACGCAGAGGGGAGAGGAAAGCTGTTTTCATTTTCCACATCAGATGTGGAAAAAAAATGTACTGGCATTGTAATAAGGCTTGAGGGAGGCAGCAATACATTA          </span></td><td><span style=white-space:pre-wrap>$$$%$$$&amp;''('((('(*+)+...,,-./5784554355&lt;&gt;&gt;&lt;;;&lt;?@NMLGMIIMSMKSHOOIKRJJ&lt;33333&lt;;888&lt;2+369:520//0*)))('++&amp;%::?77CEBCCDECD&lt;/--.69BBCBBEDFEOKKFJJGIGFGFJJIGF74445@&gt;A&gt;&lt;;=?=;&lt;63*)(&amp;          </span></td><td><span style=white-space:pre-wrap>99S61M11S      </span></td><td>32</td></tr>\n",
       "\t<tr><td> 0</td><td>61e4a53d-5a58-429e-8fae-330b958627b5</td><td>chrX</td><td>+</td><td>71443137</td><td>153</td><td>49</td><td>20240530_AL5RACE002</td><td><span style=white-space:pre-wrap>GTGTAACCTACTTCGTTCATTTACGTATTGCTCTAATACGACTCACTATAGGGCAAGCAGTGGTATCAACGCAGAGTACATGAGGGAGAGGAGAACTGTCTTCGTTTTCCACATCAGATGTAAAAAAAAAATGTACTGGCATTGTAATAAGGC                            </span></td><td><span style=white-space:pre-wrap>$$$%$$%''&amp;&amp;&amp;'%&amp;(-((&amp;'''*99:;==11222:::83333=DECCGCBBDEFGGIHJLHMILIE?&gt;&gt;=&gt;GFGLLAA??00//1-5776*).+((&amp;'&amp;''(&amp;''&amp;,24().01;;;;;=)(():BAA@=:65--,,-3?BE==332/+*)&amp;                            </span></td><td><span style=white-space:pre-wrap>104S49M        </span></td><td> 2</td></tr>\n",
       "\t<tr><td> 0</td><td>9c272fb2-b48c-445b-a32a-c69233c8678f</td><td>chrX</td><td>+</td><td>71443137</td><td>152</td><td>50</td><td>20240530_AL5RACE002</td><td><span style=white-space:pre-wrap>ATCACATCTACTCGTTCAGTTACGTATTGCTCTAATACGACTCACTATAGGGCAAGCAGTGGTATCAACGCAGAGTACATGAGGGAGAGGAGAACTCTATCATTTTCCACATCAGATGTGAAAAAAAAAATGTACTGGCATTGTAATAAGGC                             </span></td><td><span style=white-space:pre-wrap>#$%&amp;&amp;%%(*+,332342443489851///....--./0=?@C@:99990---.3JFEBCCEMSJG@????BH&gt;;;&lt;:&lt;76....+*+.++'(-,,-*++,,12325/=..///55557:6677998&gt;FH?=&lt;&lt;65554883311/1112220                             </span></td><td><span style=white-space:pre-wrap>102S18M1I31M   </span></td><td> 2</td></tr>\n",
       "\t<tr><td> 0</td><td>c53b2246-a543-43d3-a4ff-b0ec1896109b</td><td>chrX</td><td>+</td><td>71443137</td><td>169</td><td>57</td><td>20240530_AL5RACE002</td><td><span style=white-space:pre-wrap>TAACCCTTTCGTTCAGTTACGTATTGCTCTAATACGACTCACTATAGGGCAAGCAGTGGTATCAACGCAGAGTCTGCATGAGGGGAGAGGGCTCTTAGTTTTCCACATCAGATGTGAAAAAAAAAATGTACTGGCATTGTAATAAGGCTTGAGGGGAGCAGCAATACAT            </span></td><td><span style=white-space:pre-wrap>#####$%&amp;&amp;&amp;')*.345667451,+++,33355@=87668&lt;&lt;==?BABBA&gt;?&gt;&gt;&lt;&gt;=;8888::::55667==87655779:750..***(%%%$$#$''&amp;358.-,)))((()28986&lt;@GGHEDCAA@@@@&gt;&gt;&gt;&gt;?AA@A@ACA&gt;===;&lt;987.84-,,11273-**            </span></td><td>98S18M1I38M14S </td><td> 2</td></tr>\n",
       "\t<tr><td> 0</td><td>c5d9908c-fc58-4aab-be73-44c81a200b43</td><td>chrX</td><td>+</td><td>71443137</td><td>167</td><td>61</td><td>20240530_AL5RACE002</td><td><span style=white-space:pre-wrap>ATGTTTTTACTTCGTTCAGTTACGTATTGCTGATACAACTAGCTATAGGGCAAGCAGTGGTATCAACGCAGAGTACATGAGGGCAAGCTGTCTTCATTTTCCACATCAGATGTGAAAAAAAAAATGTACTGGCATTGTAATAAGGCTTGAGGGAGGCGGCAATTCAT              </span></td><td><span style=white-space:pre-wrap>\"\"\"\"#####$&amp;(''(++,++++++,+,,*))%%%&amp;')(())*****&gt;==?CGHIFCCDBCDAA/.....111775422)%%%&amp;$&amp;'((*+-****,/..44A11&gt;@=&gt;&gt;&gt;&gt;@G?&gt;===&gt;FJIIDDAA?&gt;&lt;&lt;=?CEEFJGIGIISGGJ:432332860/04-+,,---              </span></td><td>96S18M1I42M10S </td><td>16</td></tr>\n",
       "\t<tr><td> 0</td><td>ec8d65d8-89fe-4431-b8bb-f68626f35f12</td><td>chrX</td><td>+</td><td>71443137</td><td>152</td><td>51</td><td>20240530_AL5RACE002</td><td><span style=white-space:pre-wrap>ATGTGTAACCTACTCGTTCAGTTACGTATTGCTTTAATACAACTAGCTATAGGGCAAGCAGTGGTATCAACACAGAGTACAGTGAGAAAGGGCTTCTCAGTTTTCCACATCAGATGTGAAAAAAAAAATGTACTGGCATTGTAATAAGGCTA                             </span></td><td><span style=white-space:pre-wrap>,,,-..,***)))*('''')*)))*****-.-/,++,,58/...))))));:8;&gt;HGLGGHIHAAA@2211163323336421/.,(***+)(()&amp;&amp;%%$%$%05912?A5444458222479HFC=&lt;&lt;&lt;@@@@BCCIMJFE9887899443                             </span></td><td>100S18M1I32M1S </td><td> 2</td></tr>\n",
       "\t<tr><td> 0</td><td>3224e2ab-54a8-49e2-ad66-571145c7cc80</td><td>chrX</td><td>+</td><td>71443137</td><td>162</td><td>60</td><td>20240530_AL5RACE002</td><td><span style=white-space:pre-wrap>ATGTCCTGTACTTCGTTCAGTTACGTATTGCTCTAATACGACTCACTATAGGGCAAGCAGTGGTATCAACGCAGAGTACATGACGGCTTCATTTTCCACATCAGATGTGAAAAAAAAAATGTACTGGCATTGTAATAAGGCTTGAGGGAGGAGCAATACATT                   </span></td><td><span style=white-space:pre-wrap>$%%(&amp;$$&amp;&amp;(--/-/0&lt;=DCDEEFFFEGIGEHIGHMNKGIIHJFDCCFF;999:GHKJJGHIGSJSIKKIJKGGFHGGN@=/%$$$$%&amp;$%&amp;''/0=.,---===&gt;?A????DFSSJKIHGMHKORNSKPLIKIKJJIMIDHHCBADEBB?&gt;&gt;&gt;&gt;?@;:--+                   </span></td><td>91S18M1I41M11S </td><td>16</td></tr>\n",
       "\t<tr><td> 0</td><td>516647a1-edeb-49a8-a72b-fe001e5ba5f3</td><td>chrX</td><td>+</td><td>71443137</td><td>176</td><td>63</td><td>20240530_AL5RACE002</td><td><span style=white-space:pre-wrap>ATGTTTATGTGCAGCACCCCTGGACACATGGTGTTCTAATACAACTCACTATAGGGCAAGCAGTGGTATCAACACAGAGTCATGGGGGAGGAAAGCTATCTCATTTTCCACATCAGATGTGAAAAAAAAAAAAAATGTACTGGCATTGTAATAAGGCTTGAGGGAGACAATGCATT     </span></td><td><span style=white-space:pre-wrap>#$$%&amp;&amp;$%&amp;&amp;%$$$$$#$$%%$$$$$$$$$%%())))))*,/.....11223)((()&lt;&gt;&gt;&gt;@ABB?A@@6555+++*+45.---868=;.+++../0/0-----1184;555?;&lt;;99:=75327;&lt;&lt;;:8774*))(%%%&amp;&amp;(9@CBDCCCCHEFDC?9776603)&amp;&amp;&amp;.%%%$&amp;     </span></td><td>103S18M5I40M10S</td><td>10</td></tr>\n",
       "\t<tr><td> 0</td><td>879ac3cf-81c7-4d56-8f61-c735c667ee1f</td><td>chrX</td><td>+</td><td>71443138</td><td>154</td><td>51</td><td>20240530_AL5RACE002</td><td><span style=white-space:pre-wrap>TTATGTTAACCTACTTCGTTCAGTTACGTATTGCTCTAATACGACTCACTATAGGGCAAGCAGTGGTATCAACGCAGAGTACATGAGGAGAGGAGGACTGATATTTCCACATCAGATGTGAAAAAAAAAATGTACTGGCATTGTAATAAGGCTT                           </span></td><td><span style=white-space:pre-wrap>#$#$%%%%$$$$$$$'''+-,//.-+'&amp;&amp;&amp;)677&lt;==677=&gt;BDDD@@??@ADDDIOJJHKKJMSMSMNJNJLJGNILLIPSII@&gt;;4*()()&amp;')&amp;$$##$'(*+(//9&gt;??DIDEGHGGA@FHGEFHJMEI32234BFQKFKEECA&gt;?;76-                           </span></td><td><span style=white-space:pre-wrap>103S17M1I33M   </span></td><td> 2</td></tr>\n",
       "\t<tr><td>16</td><td>a88745a1-358a-4656-b20c-b99fdff59a34</td><td>chrX</td><td>-</td><td>71443138</td><td> 97</td><td>61</td><td>20240530_AL5RACE002</td><td><span style=white-space:pre-wrap>ATTTCCTTTTCATATCAGACTGTGGAAAAAAAATGTACTGGCATTGTAATAAGGCTTGAGGGAGGCAGCAATACGTAACTGAACGAGTAGGGAACAA                                                                                    </span></td><td><span style=white-space:pre-wrap>$&amp;&amp;(+*+**+,--,-.0024976:@AABDDB?@@?@@FEFDDAABBBEBBCBAECDFA;AA2222384453,**++/00101++++)'&amp;&amp;%%&amp;&amp;$$$                                                                                    </span></td><td><span style=white-space:pre-wrap>6S13M1I47M30S  </span></td><td> 8</td></tr>\n",
       "\t<tr><td>16</td><td>fa723c1d-792e-45ed-a787-9b24c420f901</td><td>chrX</td><td>-</td><td>71443138</td><td>180</td><td>56</td><td>20240530_AL5RACE002</td><td>AAAATGTATTGCTCTAATACGACTCACTATAGGGCAAGCAGTGGTATCAACGCAGAGTACATGAGGGAGAGGGGAAAAGCCATTCACTTCCTTTCCACATCAGATGTGAAAAATGTACTGGCATTGTAATAAGGCTTGAGGGAGGCAGCAATACTCACAATCTAACCAAGTATAATACAA </td><td>&amp;)0&lt;@HHIHFEFGEIHGGJGHLKJMHIJLLIIIIGIJHLNJJLKMSMGGJFOKOKKSJNPKHJCFBA/2-974,00..-,&amp;%&amp;%%&amp;%&amp;&amp;)).*)+*+,1,+**))*,0:8-49:&gt;?IHGENFKIIPIMHIJJF333333&lt;:881,,+'''%$$#$%&amp;%&amp;&amp;&amp;'*-+*),&amp;%$$$%%$%$$$ </td><td>91S17M4D39M33S </td><td>19</td></tr>\n",
       "\t<tr><td> 0</td><td>047fd729-e227-41c3-88f5-6c1c03154c7b</td><td>chrX</td><td>+</td><td>71443139</td><td>152</td><td>47</td><td>20240530_AL5RACE002</td><td><span style=white-space:pre-wrap>ATATGTACCTGTACTTCGTTCAGTTGCGTATTGCTCTAATACGACTCACTATAGGGCAAGCAGTGGTATCAACGCAGAGTACATGAGGGAGAGGGAAGGGCTTGGTTCCACATCAGATGTGAAAAAAAAATGTACTGGCATTGTAATAAGGC                             </span></td><td><span style=white-space:pre-wrap>&amp;&amp;$&amp;')'&amp;&amp;%%&amp;&amp;''/(((((6444('''(.111122345688444566=&gt;?&gt;=&lt;=&gt;BDBB??AEDDDC;:9:9&gt;BBBGGDDDECB@CA&gt;=&lt;:93.,('&amp;%$$$&amp;))))''&amp;+***,,.0/-.-0010010/.-//336EFECC???&lt;;:94                             </span></td><td><span style=white-space:pre-wrap>105S47M        </span></td><td> 2</td></tr>\n",
       "\t<tr><td>16</td><td>78ecd645-cd00-4a56-a5cb-3137f661fba1</td><td>chrX</td><td>-</td><td>71443142</td><td>151</td><td>56</td><td>20240530_AL5RACE002</td><td><span style=white-space:pre-wrap>ACACCATAGGGCAAGCAGTGGTATCAACGCAGAGGGAGAGGGAGAGTGGTTGACTTCCCTTCGGCACATCAGATGTGGAAAAAAAATGTACTGGCATTGTAATAAGGCTTGAGGGAGGCAGCAGACGTAACTGAACGAAGCAGAGGGCAGT                              </span></td><td><span style=white-space:pre-wrap>,-...&lt;=11111CDIJMSJ@GFMIINSKRNPJSLPIF=48875332/*%%$%&amp;&amp;+'('&amp;%%%'/0?&gt;&gt;?&gt;DCDCBBDCF@@???CCEPFMKSLSILNKLQPJKLLMLKKE77&lt;&lt;/.+**+*)))++016771./.,')'&amp;%&amp;&amp;&amp;'$#####                              </span></td><td><span style=white-space:pre-wrap>64S56M31S      </span></td><td>18</td></tr>\n",
       "\t<tr><td>16</td><td>c97cbfa6-8e4b-45ae-89e3-cde48d863bb0</td><td>chrX</td><td>-</td><td>71443143</td><td> 95</td><td>56</td><td>20240530_AL5RACE002</td><td><span style=white-space:pre-wrap>TCCCTTTGACATCAGATGTGGAAAAAAAAATGTACTGGCATTGTAATAAGGCTTGAGGGAGGCAGCAATACTAACTGAACCAGTAGAATGACACA                                                                                      </span></td><td><span style=white-space:pre-wrap>'(.02,,+-.+++++995495511101224-,,,++,+,11-,,,,,754..../(02(&amp;&amp;%%)(((&amp;&amp;&amp;%%+****+'%%$$###%$$%&amp;%%%%                                                                                      </span></td><td><span style=white-space:pre-wrap>8S13M1I42M31S  </span></td><td>21</td></tr>\n",
       "</tbody>\n",
       "</table>\n"
      ],
      "text/latex": [
       "A tibble: 451611 × 12\n",
       "\\begin{tabular}{llllllllllll}\n",
       " flag & qname & rname & strand & pos & qwidth & qwidth\\_after\\_softclipping & RG\\_tag & seq & qual & cigar & mapq\\\\\n",
       " <int> & <chr> & <fct> & <fct> & <int> & <int> & <int> & <chr> & <chr> & <chr> & <chr> & <int>\\\\\n",
       "\\hline\n",
       "\t  0 & 01308af7-2286-4252-8fbc-d3b0889b9ef5 & chrX & + & 71442975 & 226 & 143 & 20240530\\_AL5RACE002 & GTGTGTAGCCCCTTGGTTCAGTTACATATATATAATACAACTCACTATAGGGCAAGCAGTGGTATCAACGCAGAGTGAGAGGGAGAGGGAGAGGGAGAGGGAGGAGAGGGAGAGGGAGAGGGAGAGGGGAGAGGGAGAGGGAGGACTCCATTTTTTTTTCCACCGTGGGACTGTGGAAAAAAAAATGTACTGGCATTGTAATAAGGCTGAGGGAGGCAGCAATGAT                                                                                                                                                                                                                                                                                                                                                                                                                       & \\#\\#\\$\\%\\%\\%\\$\\#\\#\\$\\$\\$\\%\\&\\%\\&(,,('''\\&\\&\\%\\%\\%\\&\\%\\%\\$\\%\\%\\&()(''++'))------:?BGEFFHGHGFGPD@??=>???CDDBA@G@CBBB@;3-02556699970+2*').0120257:85655555310246,/-,/)(+2/0.++)'\\&\\&\\&'()),../0150.'(3++'''\\&\\%\\%\\$\\$\\%)*-./1/--.----0/002?@BAA44444445>2227DACC=443/..\\&\\$\\$                                                                                                                                                                                                                                                                                                                                                                                                                       & 75S11M5D40M71D17M1D1M2D6M3D12M1I7M1I5M1I30M1D11M8S             & 13\\\\\n",
       "\t  0 & 72c19bb4-52bc-4e37-b8a4-7fba639cfd22 & chrX & + & 71442976 & 235 & 142 & 20240530\\_AL5RACE002 & ATGGGTATGTATGTATTAGTAGTTACGTATTGCTGTAATACGACTCACTATAGGGCAAAGCAGTGGTATCAACGCAGAGTACGGGGGGAGAGGGAGAGGGAGAGGGAGAGGGAGAGGGAGGAGAGGGAGAGGGAGAGGGAGAGGGAGAGGGAGAGGGAGAGGGAGAGGGAAGACTATTCATTTTTTTTTTCATAGGAATCTGGAAAAAAAAATGTACTGGCATTGTAATAAGGCT                                                                                                                                                                                                                                                                                                                                                                                                              & \\$\\$\\$\\%\\%\\%\\%\\%\\%\\&\\$\\#\\#\\#\\$\\$\\$\\%\\&'((*+0212000(')''(,,8=::994112239;;==?SIJSIIJGIHLH@77767???GF@73211615+***,(,)()+)*+-..,//..0*-+.21/++\\&'+,--,-..0219==>?=ABABA/???@C?DDDD=<=ACC>:;5966,-)\\%\\%\\%\\%\\&*\\%\\&12431126<>)\\&\\&\\%\\&'(()((***<@C;67:<:8778788;@CDCC;;;9765+(                                                                                                                                                                                                                                                                                                                                                                                                              & 93S10M5D67M59D3M1D3M1D14M5D3M1D2M2I6M1I31M                     &  1\\\\\n",
       "\t  0 & 4593102a-a148-49b8-8d76-c4d3ef74bb13 & chrX & + & 71442976 & 632 & 325 & 20240530\\_AL5RACE002 & ATGTTTGTGTAACCTACTCGTTCAGTTACGTATTGCTCTAATACGACTCACTATAGGGCAAGCAGTGGTATCAACGCAGAGTACAGGGGGGGAGAGGGAGAGGGGAGAGGGAGAGGGAGAGGGAGAGGGAGAGGGAGAGGGAGAGGGAGAGGGAGAGGGAGAGGGAGAGGGAGAGCTATTTCATTTTTTTTTCCACATCAGATGTGGAAAAAAAAATGTACTGGCATTGTAATAAGGCTTGAGGGGAGCACTAATACGACTCACTATAGGGCAAGCAGTGGTATCAACGCAGAGTGAGAGGGAGAGGGAGAGGGAGAGGGAGAGGGAGGGGAGAGGGAGAGGGAGAGCTATTTCATTTTTTTTTTTTTCCACATCAGATGTGGAAAAAAAAATGTACTGGCATTCTAATAAGGCTTCTGTAAGCCTTGACTAGAGTACGTATTGCTGCCTCCCTCAAGCCTTATTACAATGCCAGTACATTTTTTTTCCACATCTGATGTGGAAAAAAAAAAAAATGAAATAGCTCTCCCTCTCCCTCTCCCTCTCCCTCTCCCTCTCCCTCTCCCTCTCCCTCTCCCTACTCGTGATTCCACTTACTTTCCCTATAGTGAGTCGTATTAGAGCAATCGTAA & \\%\\%\\%'((\\$\\$\\$\\$\\$\\#\\#\\$\\$\\&'*))*1178999<999:;<99997::BJ?>>>;;;;;====BIDEDDDOSKIIHGBBBBBCGGFHEEB66554>@?@:0---***-34,.28::<<BECAD@BEFB<9DGEE@@BBB=8.9==;1.26DFEEGLIJGLGHGB=?CFGF?@?DBC>5?><<;345=;<7:<DBEEEACA89>CBA@@AAHKMFFFF=555??????@DELJNFIIHGHIIIISIH?<>>@8>B778D((((*...9;;<=>?CCCDD==>=99:<>MQKDDEDDDIGJKOHKNLMMJHRIFJC4>DHAEGFGSFEBD?>>7-/+/..7:;<=4;;8>4/2CAAA@?>>>9858949<ADGSP@27(*55*))'\\&(())*,8:;;<=@ABDBCAAAABBG0.---2321,(\\$\\#\\#\\$\\#\\#\\#\"\\#\\#\\$\\%\\$\\&''\\&\\&'')((+2----.332223IHBDEFJIDBBBBNFGDFF@C??;::;9;;5/-0589802BC?@77766--*+.522227989;5,+++/22226;;:-*,502<8:;;<<13@BED=@FCDHBGNDFD?EGEHB<7746/+...0;6(((''''/299:9:?8*)))''**'56-''\\&())())(((('((((//'\\&\\&\\%\\% & 91S10M4D17M3I54M113I40M1D27M1I27M1I32M216S                     &  2\\\\\n",
       "\t 16 & f4a4c411-859c-4adf-94ff-b323b44d80ca & chrX & - & 71442976 & 425 & 327 & 20240530\\_AL5RACE002 & ATGTATTGCTCTAATACGACTCACTATAGGGCAAGCAGTGGTATCAACGCAGAGTACAGGGGGGGAGAGGGAGAGGGAGAGGGAGAGGGAGAGGGAGAGGGAGAGGGAGAGGGAGAGGGAGAGGGAGAGGGAGAGGGAGAGGGAGAGCTATTTCATTTTTTTTTTTCCACATCAGATGTGGAAAATGTACTGGCATTCGCAGAAGGCTTGAGGGACTAGTATGACTCACTATAGGGCAAGCAGTGGTATCAACGCAGAGGGAGAGGGAGAGGGAGAGGGAGAGGGAGAGGGAGAGGGAGAGGGAGAGGGAGAGCTATTTCATTTTTTTTTTTTTCCACATCAGATGTGGAAAAAAAATGTACTGGCATTGTAATAAGGCTTGAGGGAGGCAGCAAGACCAACTGAACCAGTAGACTACAAAACAT                                                                                                                                                                                                                & ,-?@B@984434444667===<BBBJOJJJHIMSPOMJIKKJLIKQSSPKEECCBCB??3,-2AAFD<DGEFLBIEBDE4CA@A@28BAFB<CDEFH;KKHHBBJFEHE@EG@@?:E3333)025@A1;;;CE=GFDCA=@IGHHGGFFLI><<==;:41/3901125CFJHIJIEC+*?<<'*;;>?C>=>=/.-.-----571..--*)\\$\\#\"\\#\\#\\#\\%\\%\\%\\&\\&\\&66=@BAAC@8@@>=HHLSLMGJBCDCCIKJLONLJIJIIH=DGDDE>AEC03AEFGEC@DEDFE8<@EGG7BBAB75=IEJH7KKHKJMSIK<;;;;BB???1+*+3<@FHIJLJ65545GHEGKJJSSS@GGLIKMSSSSJMSKJMJOGIKJISHPH@?EE100030)'''\\&\\&\\&\\&+,-+)'\\%\\%\\&.+(\\&\\%\\$\\%\\%\\&\\&\\&\\$\\#\\#\\#\\#\\#                                                                                                                                                                                                                & 64S10M5D16M3I54M106I68M1I69M34S                                & 40\\\\\n",
       "\t 16 & 39d89551-2466-4ffd-b912-92422161676f & chrX & - & 71442976 & 400 & 322 & 20240530\\_AL5RACE002 & CACGATAGGGCAAGCAGTGGTATCAACGCAGAGTACAGGGGGGGAGAGGGAGAGGGAGAGGGAGAGGGAGAGGGAGAGGGAGAGGGAGAGGGAGAGGGAGAGGGAGAGGGAGAGGGAGAGGGAGAGCTATTTCATTTTTTTTTTTTTCCACATCAGATGTGGAAAAAAGCAATACGTAACTGAACGAAGTAACAGGACAGAGACTATAGGGGAAGCAGTGGTATCAACGCAGAGGGAGAGGGAGAGGGAGAGGGAGAGGGAGAGGGAGAGGGAGAGGGAGAGGGAGAGCTATTTCATTTTTTTTTTTTCCACATCAGATGTGGAAAAAAAATGTACTGGCATTGTAATAAGGCTTGAGGGAGGCAGCAATACGTAACTGAACGAAAGAGACTAAAAAAAT                                                                                                                                                                                                                                         & ''')BDGJLDJILHNKJIECCDDKMKIIJJHKKGGDCBA+,356<</=953/.2?@AB<CDBCC5A=<>A5CBAEB>CDDHF;DFEGH3A??GD;IJGHG9???D99@EDD@4?FEEA9>BABGGGFCAAAA@JHHFDE8321;9;;;;FEEEDGHLI<<HHSSSAHBBBDBBCAA?::;;891/.0'\\&\\&''\\&\\%\\$\\#\\#\\#\\#\\$\\$'00197(((((8989@@@CB:999;FEPKKQJLJIOH<CFDFD5ECBBA?DFFED6HCDFF@G=<@65<BADD4BECEA=CFFDBBCBBCAA>?BCDC7-+-22*)\\&\\%\\&(*/.-//00EDFGGFED>A@CCFKIMJIE@=<;<=<87777;??@66666D:9867899>@?@?2000096*()\\$\\$\\$\\$\\#\\$\\$'-+('\\%\\$\\$\\$                                                                                                                                                                                                                                         & 43S10M5D16M3I54M102I137M35S                                    & 42\\\\\n",
       "\t 16 & 2dec6b2f-6baf-43f7-ad1c-464207168d01 & chrX & - & 71442976 & 204 & 142 & 20240530\\_AL5RACE002 & TCAATGAGTACAGGGGGGAGAGGGAGAGGGAGAGGGAGAGGGAGAGGGAGAGGGAGGAGAGGGAGAGGGAGAGGGAGAGGGAGAGGGAGAGGGAGAGGGAGAGCTATTTCATTTTCTTTTCACATCAGATGTGGAAAATGTACTGGCATTCTAATAAGGCTTGAGGAGGCAGCAAGCACCTGAATGAACCGAGGCCACCATAGC                                                                                                                                                                                                                                                                                                                                                                                                                                             & '(('\\&(//08965221/./012.-//8;;;==:9201+)(\\&\\&,036433/.1*\\&'149;1<87:32==;==:<;:??29<;:;,114=+*487;;/76799>>>>=;65447\\%\\%(04/./2-+++++*,,,'('+'-3-,,+,-/+))*)((+)*;:44448.,-,-+))()'''\\&\\&\\&\\&\\&\\%\\%(\\&\\&\\&\\$\\$\\$\\#\\#\\#\\#\\#\\#\\#\\%\\$\\%\\$\\$\\$\\#\\#                                                                                                                                                                                                                                                                                                                                                                                                                                             & 29S10M5D16M66D65M4D14M4D30M1D7M33S                             &  1\\\\\n",
       "\t  0 & 3b47decc-609c-4e14-a545-1b0f08936bb8 & chrX & + & 71442990 & 256 & 161 & 20240530\\_AL5RACE002 & ATGTTTATGTACTACACTCGTTCAGTTACGTATTGCTCTAATACGACTCACTATAGGGCAAGCAGTGGTATCAACGCAGAGTACAGGGGGGGAGAGGGAGAGGGAGGAGAGGGAGAGGGAGAGGGAGAGGGAGAGGGAGAGGGAGAGGGAGAGGGAGAGGGAGAGGGAGAGCTTTCATTTTTTTTTTTTTCGCGTGGATGTTGGAAAAAAGAAAATGTACTGGCATTGTAATAAGGCTAGGAGGAAGGCGATTGGT                                                                                                                                                                                                                                                                                                                                                                                         & \\%\\%\\%*,,****\\%\\#\\#\\#\\#\\$\\$'\\%\\%\\&*+-,,,+********2<=<=>>A>===<<=<==FEEIINLIHEDDGEJKS43333<FJSLI?>75546:97810220)1;;;;842+*3;<>>AHFC<8/A@>@<=?ED@AGHGGCBEKIABGFMLFGAABFC?CFNNPGGD?=91,.,,,,(\\%\\%)+..-,-../0026/('\\&\\&\\&'\\%\\%\\%(\\&\\$\\$\\%246457)))4256577;:>6665410///01.1////.///.,,)))'\\&''                                                                                                                                                                                                                                                                                                                                                                                         & 88S33M48D51M2D23M1D5M1I7M3I27M1I10M7S                          &  1\\\\\n",
       "\t  0 & 4b80cbc0-af7a-4a34-81ca-2d25a55e0714 & chrX & + & 71442990 & 301 & 205 & 20240530\\_AL5RACE002 & GCTGTGTCACGTGCTTCGTTCAGTTACGTATTGCTCTAATACGACTCACTATAGGGCAAGCAGTGGTATCAACGCAGAGTATAGGGGGGGAGAGGGAGAGGGAGAGGGAGAGGGAGAGGGAGAGGGAGAGGGAGAGGGAGAGGGAGAGGGAAGGGGGGGGGGGGGGGGGGGGGGGGGGGGGGGGGGGGGGGGGGGGGGGGGGGAGAGGGAGAGCTATTTCATTTTTTTTTTTTCCACATCAGATGTGGAAAAAAAAATGTACTGGCATTGTAATAAGGCTTGAGGGAGGCAGCAATACATA                                                                                                                                                                                                                                                                                                                                            & )---.-,\\&\\%\\$\\$\\#\\#\\#\\%\\&\\&)+0144330/...////;;;;CDHHIHJHIFED8:BDDEEKHKIDCDEFIGEAAAAABGGDDD==***-6@??@<>>=<:==@@?>CGGGCCCGE@57:AB@@:8??>?ACCBC<:=<:;;8;;:;8202-/,*+'\\&*35532379:;;=?@ABEEEFFHHHFEFEDCCCBAAABBBBBCBA?<;+(186;@ADBDCEBDCF.--,--47<FISKKG@77EHHSIJIKKIKGCBI>BEGGFEEFHKKKHKJHJGGDGENHHIHOHEJIFFEEE??>;;<98.,\\&                                                                                                                                                                                                                                                                                                                                            & 86S14M3D51M1D97M1I42M10S                                       & 29\\\\\n",
       "\t  0 & 44a98cd4-828e-446d-bfab-8f88aeea3c13 & chrX & + & 71442990 & 387 & 291 & 20240530\\_AL5RACE002 & TGTTATGTACGTCTACCTGGACAGATTACGTATTGCTCTAATACGACTCACTATAGGGCAAGCAGTGGTATCAACGCAGAGTACAGGGGGAGAGGGAGAGGGGAGAGGGAGAGGGAGAGGGAGAGGGAGAGGGAGAGGGAGAGGGAGAGGGAGAGGGAGAGGGAGAGGGAGAGCTATTTCATTTTTTTTTTCCACATAGGGGTATGTTTATGTATAGTGTATTTCGTTCAGTTACGTATTGCTCTAATACGACTCACTATAGGGCAAGACAGTGGTATCAACGCAGAGTGAGAGGGAGAGCTATTTCATTTTTTTTTTTTCCACATCAGATGTGGAAAAAAAATGTACTGGCATTGTAATAAGGCTTGAGGGAGGCAGCAATACGTT                                                                                                                                                                                                                                                      & \\#\\#\\#\\#\\$\\$\\%\\&\\$\\%\\#\\#\\#\\%\\&'(('()*,...2334856666EEE@@@CD>===>AAAABA@@@@JJHHHGJHFFFF::::::@?>@@974411-*+(((*,()++,1*/8=?A>@CDFFD?ABCC?:<686/--//+057;>D<?CEFIEABGGADEDEEA<9HEDEB@DEDD<79DFDD<@BA3222235666;<<=;;-,))((''\\&\\&\\&(''\\%\\%\\&\\&\\$\\%\\#\\#\\$\\$\\$\\$\\$\\$\\%\\#\\$\\&\\&(*+))((,../123?DDCDDIICBCB@99989)((('*(''\\&''(++-...89:9==;;;;<;87@AIEGGIFIBA;=((((*937<?DFJDB>--CDCGFHJJPJCA><:7=99979988;;;HHGFDFHGFEIF<@9433499;6.../,,,,,*)'                                                                                                                                                                                                                                                      & 86S15M2D72M83I21M2I98M10S                                      & 28\\\\\n",
       "\t 16 & 26d9ece8-8f1f-4d39-a1b5-c335be046b0b & chrX & - & 71442990 & 393 & 297 & 20240530\\_AL5RACE002 & TGTATTGCTCTGTAATACGACTCACTATAGGGCAAGCAGTGGTATCAACGCAGAGTACAGGGGGGGAGAGGGAGAGGAGAGGGAGAGGGAGAGGGAGAGGGAGAGGGAGAGGGAGAGGGAGAGGGAGAGGGAGAGGGAGAGGGGAGAGCGATTTCATTTTTTTTTTTTTTTCCACATCAGATGTGGAAAAAAAATGTACTGGCATTGTAATAAGGCTTGAGGGGAGGCTCAAGACGACTCACTATAGGGCAAGCAGTGGTATCAACGCAGAGTGAGAGGGAGAGCTATTTCATTTTTTTTTTCCACATCAGATGTGGAAAAAAAATGTACTGGCATTGTAATAAGGCTTGAGGGAGGCAGCAATACGTAACTGAACGAAGTAGGTTAACATAA                                                                                                                                                                                                                                                & -0000++((*.38999::@QJHHHLSNPIHJNKPJMILLPLJGIGGLSJJNOINIGFDCCC34;;?B@7<;88+)->@747><>?=@EEDF@EHHIGBHGGGH=JFIEA>CC@@<49;9<1025466-5510-*+,.33++*\\&\\%\\%\\$\\$\\%\\&(*,--.35<@DKOKJOJADDBBDFKGGGHHNKF??CCDECDD>EIGGIOIHGLIKKJPSOHLGMFKG;;;+556732()\\&\\&++(+++;;;=EGBBB99889EIBJRLHGHDEEGKSJNSKNPS<;AA@DEDGJIJJKDCCB?ECA=;56=@GJLMJLGDDGGHK44>=RECB>FFEIIISKINMOJIMHKNJGSGMJEGFE333454336.-------+('')(-,)''\\&\\&\\&\\&\\&\\&\\&'+*)('\\&\\%                                                                                                                                                                                                                                                & 62S11M4D67M1I10M67I5M1D4M5I2M1I1M9I4M2I2M1I2M1I2M9I24M2D67M34S &  1\\\\\n",
       "\t  0 & ab85e92e-74b7-4f44-85e3-47346865e9e2 & chrX & + & 71442991 & 393 & 301 & 20240530\\_AL5RACE002 & ATGTTATGTGTAGCCTACTCATTCATCATATTGTTCTAATACGACTCACTATAGGGCAAGCAGTGGTATCAACGCAGATTACGGGGGGGAGAGGGAGAGGGAGAGGGAGAGGGAGAGGGAGAGGGAGAGGGAGAGGGAGAGGGAGAGGGAGAGGGAGAGGGAGAGGGAGAGCTATTTCATTTTTTTTTTTCCCACATGGGATGTATGCCTTGGTTCCATTACATATACTCTAATACGACTCACTATAGGGCAAGCAGTGGGTGTGACAGAAGGGAGAGGGAGAGGGAGAGGGAGAGGGAGAGGGAGAGGGAGAGGGAGAGGGAGAGCTATTTCATTTTTTTTTTTCCACATCAGAATTGTGGAAAAAAAATGTACTGGCATTGTAATAAGGCT                                                                                                                                                                                                                                                & \\#\\#\\$\\$\\$\\$\\%\\$\\$\\$\\$\\#\\$\\$\\$\\$\\%\\&)\\&\\&\\&''()))))))+),,,-78DB=<<=>@@BECBBCBDGHIJJOLNHFFGEFGEBBBABDF><)((+43/128<>ACFFFEECEGJFCDFHMHGDGMLIGFGGHFECEEHKFECBB>61<=A@><>>===3669?654>>>99<?<;;=B@>>>====3---,,*+,-7:?>;6()<<)))))*)\\%\\$\\#\\#\\&*+\\%\\&+++*\\&\\&'\\&())((\\%\\$\\$\\&\\&'+,56????@DCHGI@@@@@????4432)(((()*-222/../:<CFEGCGMIIDBA<:8::<AFBC>CELCCBFIIEACEEFE5111=<<<<>==<.,,)\\%\\%\\%\\%\\%\\&*+-/23:;:46--*)))\\&\\%\\&\\&'(./1=>@BABA<<<;::9:==><<;<;<:8731                                                                                                                                                                                                                                                & 92S16M3I58M101I64M1D21M2I36M                                   & 15\\\\\n",
       "\t  0 & 5377942d-8f74-4a3d-aad4-67416f42eaae & chrX & + & 71442991 & 271 & 202 & 20240530\\_AL5RACE002 & TGTGTGTCTGGTTGGTTGGTCTTGCTCTAATACGACTCACTATAGGGCAAGCAGTGGTATCAACGCAGAGGGAGAGGGAGAGGGAGAGGGAGAGGGAGAGGGAGAGGGAGAGGGAGAGGGAGAGGGAGAGGGAGAGGGAGAGGGAGAGGGAGAGGGAGAGGGAGAGGGAGAGGGAGAGGGAGAGGGAGAGGGAGAGGGAGAGCTATTTCATTTTTTTTTTTTTCCACATCAGATGTGGAAAAAAAAATGTACTGGCATTGTAATAAGGCTT                                                                                                                                                                                                                                                                                                                                                                          & \\#\\$\\$\\%('(''\\&\\&\\&*,,,,**)'''''+((((*,.0000,+++,-111:>DDDDDFHFIECDBBCECDCBC@@=9743338@AB>C:??>=:3FFGIHIJKICGFNSNEKMSMKKIKIRRLIKLIGJH<FFIIFHGGFDA0DDFE>:4;ABC?@<99:1446:9@DIJ?93.8KG<ACBNJIIMPQJHELMIKGKLSJKJJIHLOICGFF1110003<EFFSJSKGC;;GFBA@?BDF@;:9::2)((*+***11778ABB@>=>=:7774/'                                                                                                                                                                                                                                                                                                                                                                          & 69S16M3I122M1I27M1I32M                                         & 26\\\\\n",
       "\t  0 & 6853bb42-9eb0-4815-be0f-8331bbbff35a & chrX & + & 71442993 & 469 & 192 & 20240530\\_AL5RACE002 & TTGTGGCCTCTCGTTCAGTTACGTATTGCTCTAATACGACTCACTATAGGGCAAGCAGTGGTATAGACGCAGAAGGAAGAGAGAGAGAGAGAGAGAGAGAGAGAGAGAGAGAGAGAGAGAGAGAGAGAGAGAGAGAGAGAGAGAGAGAGAGAGAGAGAGAGAGAGAGAGAGAGAGAGAGAGAGAGAGAGAGAGAGAGAGAGAGAGAGAGAGAGAGAGAGAGAGAGAGAGAGAGAGAGAGAGAGAGAGAGAGAGAGAGAGAGAGAGAGAGAGAGAGAGAGAGAGAGAGAGAGAGAGAGAGAGAGAGAGAGAGAGAGAGAGAGAGAGAGAGAGAGAGAGAGAGAGAGAGAGAGAGAGGGAGAGGGAGAGGGAGAGGGAGAGGGAGAGGGAGAGGGAGAGGGAGAGCTATTTCATTTTTTTTTTTTCCACATCAGATGTGGAAAAAAAATGTACTGGCATTGTAATAAGCTC                                                                                                                                                                    & \\#\\#\\$\\%\\$\\#\\#\\#\\#\\$\\%\\%\\%\\&''-+++)('((*++)****/0462000/..///@@@CDDDCC===;;=<<-,,,)+('\\&'\\&\\%\\&\\&\\&\\&(,0436599=<@>@?@@@@A@A@BABBBBCABACBCAA@BACADBECCCDBDCEDDCDCCCDCBBBCBCCBBABAAA@@A@@@A@A@@?@@@@AAAABBBBCCCDDDDDDDDCCBBABBAAABBAAAA@?>;9899:<<==?>@@AAAABABABBDBEDEEEEFDECDCBB@A@A@@@@@@AAA@AAAAAAA@A@@???????@@AABBCCCCCCBA@@?><;9889:;<=>>??@?@@AAAABAAAA@A?????FDFEHFGEGCDBC@A??=908:8<;:;94=;::;<CFFDCBCEGEA>@BHFCBBBC@90==<><:>@<;;867878::7;>HIJJKKSC911FFGEEEEEHGB@@BB?;9:9765669;AFEE??764420+*'                                                                                                                                                                    & 274S15M1I176M3S                                                &  9\\\\\n",
       "\t  0 & ecb0557f-bbce-46ef-ad26-a5346da0466b & chrX & + & 71442993 & 265 & 192 & 20240530\\_AL5RACE002 & ATGTAACCTACTCGTTCAGTTGCGTATTGCTCTAATACGACTCACTATAGGGCAAGCGGTGTATAAACACAGAGAGAGAGAGAGAGAGAGAGAGAGAGAGAGAGAGAGAGAGAGAGAGGGAGAGGGAGAGGGAGAGGGAGAGGGAGAGGGAGAGGGAGAGGGAGAGGGAGAGGGAGAGGGAGAGGGAGAGGGAGAGGGAGAGCTATTTCATTTTTTTTTTCCATCAGATGTGGAAAAAAAAATGTACTGGCATTGTAATAAGGCT                                                                                                                                                                                                                                                                                                                                                                                & \\$\\%''\\%\\$\\#\\#\\$\\$\\$\\%\\$\\$\\%\\%\\%\\&\\&\\&\\&\\$\\$\\$\\$\\$*--,----/6;;7777766666:99::,+++('\\&\\&''((()))-,*)*\\%)..125=?@AABBBAA@?><>=@?@??>>=?=?>@@B@?681,)*(*2:>@==<??<;=@@@?A@BCA<75?==;9>FFC?=BEHHEDEHECA?:@==99>GEF@DIGKKIJKIMHIFGINGHHHILJMFKDF6554449BDDFE*)''\\&\\%\\%\\&'(,-24788979<878?CDFIGHIGI?>877777656                                                                                                                                                                                                                                                                                                                                                                                & 73S15M1I131M3D1M1D12M1I31M                                     &  8\\\\\n",
       "\t  0 & 2374c97a-5901-40ce-b84c-e8e79530c57d & chrX & + & 71442995 & 275 & 189 & 20240530\\_AL5RACE002 & ATGTTTATGTAGTCTACTTCGTTCAGTTACATATTGTATAATTGACTCACTATAGGGCAAGCAGTGGTATCAACGCAGAGTACAGGAGGGAGAGGGAAGGGAGAGGGAGAGGGAGAGGGAGAGGGAGAGGGAGAGGGAGAGGGAGAGGGAGAGGGAGAGGGAGAGGGAGAGGGAGAGGGAGAGGGAGAGGGAGAGGGAGAGGGAGAGCTATTTCATTTTTTTTTTTTCCACATCAGATGTGGAAAAAAAAATGTACTGGCATTGTAATAAGGCTA                                                                                                                                                                                                                                                                                                                                                                      & \\%\\&\\&(((\\&''(\\%\\$\\$\\$\\$\\$\\&\\&,'\\&\\&\\&'''\\&\\&\\%\\%\\$\\&\\&'(\\&'\\&\\&\\&'(53345;<<===EECFHIKLGIIJHEEBB)((((((((50(\\&\\&\\&(()**'*2220+****399;=61=@@A?<BGHBEDEJJGHFELIK=BEFGC@5;?IBGIHMHGCCEJHFDBFIGD==ACBA:>AHFBB878@=:6=BA<:3:<4127>>>??2DCB??:AFGGGDDCD1000007=@ACGIGDC6732*****+)\\&\\%',.31.-*+++,+00024?@BA@@??ABCC?B=                                                                                                                                                                                                                                                                                                                                                                      & 85S12M4D145M1I31M1S                                            & 32\\\\\n",
       "\t 16 & 3cff295e-a75c-4132-8e36-8379241dd568 & chrX & - & 71442997 & 400 & 307 & 20240530\\_AL5RACE002 & ACCATGTATTGCTCTAATACGACTCACTATAGGGCAAGCAGTGGTATCAACGCAGAGTACAGGGGAGAGGGAGAGAGGGAGAGGGAGAGGGAGAGGGAGAGGGAGAGGGAGAGGGAGAGAGGGAGAGGGAGAGGGAGAGGGAGAGGGAGAGCTATTTCATTTTTTTTTTTTTCCACATCAGATGTGGAAAAAATGTACTGGCATTGTAATAAGGCTTGAGGGAGGCTCTAATACGACTCACTATAGGGCAAGCAGTGGTATCAACGCAGAGTACATGAGGGAGAGGGAGAGCTATTTCATTTTTTTTTTTTCCACATCAGATGTGAAAAAAAAAATGTACTGGCATTGTAATAAGGCTTGAGGGAGGCAGCAATACGTAACTGAACGAGGTCAGGACATA                                                                                                                                                                                                                                         & \\#\\%\\&.09<ED@@@@ABCBDED@@@??PHJNJKIJGHHIQIOSOILFFDDJRGLLIHGFFD@=A+/9047<<<..5=>CCCBB/88AED?DCAEECRFGJKAFEDC99=CDEF5?:9*+04*024BA088;FF@IEDEB>AA?BB9ALMSPLLJFA>>>?FMSSSJKGEAHBABDSJHSNLIRJICAB@@670<BCFFEGHIGFDEFGHGFGHM;;;<A@47754,'\\%\\%\\&')(()-/2134@??@@??:88899=ACDKIINIHHHJNHIMIMLSLMLNBMGEEE@DPKIFHFEFHCB>@CDCA:99:>GIMEB?66669=>?;0.1GKLJK>?@GQKQOIJNKJKSMJJMMSQJKMSH>=65=DBFDDE>>>>>CDBA?@@?><9)'\\&\\$\\$\\#\\#\\#\\#\\#\\#\\$\\$\\#\\#\\#                                                                                                                                                                                                                                         & 62S10M1D42M2I35M100I9M2I8M1D3M3I49M1I43M31S                    &  1\\\\\n",
       "\t 16 & 04fb79bc-5d8f-4210-a5ff-50ac1937558c & chrX & - & 71443000 & 355 & 273 & 20240530\\_AL5RACE002 & ATTACCATTGTCGGTACCACTCACTATAGGGCAAGCAGTGGTATCAACGCAGAGGGAGAGGGGAGAGGGAGAGGGAGAGGGAGAGGGAGAGGGAGAGGGAGAGGGAGAGCTATTTCATTTTTTTTTTTTCCACATCAGATGTGGAAAAACTAATACGACTCACTATAGGGCAAGCAGTGGTATCAACGCAGAGGGAGAGGGAGAGGGGAGAGGGAGAGGAGAGGGAGAGGGAGAGGGAGAGGGAGAGCTATTTCATTTTTTTTTTTTCCACATCAGATGTGGAAAAAAATGTACTGGCATTGTAATAAGGCTTGAGGGAGGCAGCAATACGTAACTGAACGAAGTACAGGCAGAG                                                                                                                                                                                                                                                                                      & \\%\\%\\&()-+*))('(((..-....667<:58888DD@EFGGFDFGHJSSMKOHGIIGEBC48GDEEC@CEA3314CBCC:<EBBB4BA@IBADDEC96BDB@)(/AAABHEJGCCB=.--:EEC72283222344335@@FDEFIGHNHC====776689><;==>NNNNGGGIHFLRIDE<;<<<DGISPGIGGGIFD5FA?@@6<><;;//3?;5-+>:664::::9.323:;0;:666/<;630/.++*))*+01239<<>>>;:=CEGIGDDC?>>98@@@CA>-,,,,5557>ECFFEKJNJOJRSJSLSGHMPLHKSLBAAA@@?;;32--('**)(+''\\&\\%\\#\\$\\#\\#\\#\\#\\#\\$\\$                                                                                                                                                                                                                                                                                      & 50S7M1D3M1D49M78I17M1I12M1D65M1D41M32S                         & 57\\\\\n",
       "\t  0 & 9e1271a1-232a-4c57-9acf-1f5a96ba500e & chrX & + & 71443002 & 235 & 189 & 20240530\\_AL5RACE002 & TGTGTGTGGCTGGACTAGTACGTATTGCTCTAATACGACTCACTATAGGGACGACAGTGGAGCTGGGACAGGGAGACCCAGGGGGGGAGAGGGAGAGGGAGAGGGAGAGGGAGAGGGAGAGGGAGAGGGAGAGGGAGAGGGAGAGGGAGAGGGAGAGGGAGAGGGAGAGCTATTTCATTTTTTTTTTTTCCACATCAGATGTGGAAAAAAAAATGTACTGGCATTGTAATAAGGC                                                                                                                                                                                                                                                                                                                                                                                                              & \\$\\$\\%\\%\\%\\%\\%\\$\\#\\#\\$\\#\\#\\#\\#\\#\\#\\#\\$\\$\\$\\%\\%\\%(+,,8==43337/....,+++,'\\&\\%\\%\\$\\$\\$\\$\\$\\$\\%\\%\\%\\%\\%\\&\\&'\\&\\&')+,..*''****)**+,57894:<<?>BHIIGCJJHILLIHEDB9CEDBBADGB@?=??@>>=;:8953357:;-,,+-/)(((+*')(,/0268997971.--)()((-124436778>AB;>00<DGEIILHGJHGHIF@::;CAABBDEFHHEFEFGD@=;::97                                                                                                                                                                                                                                                                                                                                                                                                              & 46S11M1I4M1I12M4I4M1D1M1D120M1I30M                             & 34\\\\\n",
       "\t  0 & 9fceaa76-0024-4152-be66-36d483ee0c3b & chrX & + & 71443002 & 415 & 320 & 20240530\\_AL5RACE002 & ATGTTTATGTGTAACCTACTTCGTTCAGTTACGTATTGCTCTAATACGACTCACTATAGGGCAAGCAGTGGTATCAACGCAGAGTACAGGGGGGAGAGGGAGAGGGAGAGGGAGAGGGAGAGGGAGAGGGAGAGGGAGAGGGAGAGGGAGAGGGAGAGGGAGAGGGAGAGGGAGAGCTATTTCATTTTTTTTTTTCCACATCAGATGTGGAAAAAAAAAATGTACTGGCATTGTAATAAGGCTTATGTCATCTACTCGTTCAGTTACGTATTGCTCTAATACGACTCACTATAGGGCAAGCAGTGGTATCAACGCAGAGGGAGAGGGAGAGCTATTTCATTTTTTTTTTTCCACATCAGATGTGAAAAGAAAATGTACTGGCATTGTAATAAGGCTTGAGGGAGGCAGCAATGGT                                                                                                                                                                                                                          & \\&''*+*'',,(\\%\\%\\%\\%\\%\\&\\&\\&\\%'\\&(,4;@ECC;:99:=?A775549:KIKIFHIIJGINHJHIJJJHIGFLFMHJKFDCCAAFGJMG=;210../044;==?8@ECEE@GMLRIHGHID?>>CBA=5>@KHIIHJCB>75;??ABFIPDDADHHKA@A?<80))'''(*-202345;<<<;:74013466?DEJKJLH=11=<5311101//0234-++,/00012<=EFHIPJKGECA?;<;852)\\&\\&\\%\\$\\#\\#\\#\\#\\#\\$\\$\\%\\%'''''''\\%\\$\\$\\&\\&'(((8::112JLKGIJKECDCD76667EDB????FKLHHB@@?9865434515;::500/---++,+''(()77CEILLHJ@66-,++++++*((*-,///00.'''''(()CJGAB<;;999854-++,/-**'\\&\\&\\%\\%\\%'')))                                                                                                                                                                                                                          & 87S89M123I9M2I29M1D68M8S                                       &  5\\\\\n",
       "\t  0 & 94ea9d93-67a7-4eca-a3ae-0ac901e81e56 & chrX & + & 71443002 & 394 & 300 & 20240530\\_AL5RACE002 & TTATGTGTAGCCCTACTTGGTTCATTTACGTATTGCTCTAATACAACTGGCTCTAGGGCAAGCAGTGGTATCAACGCAGAGTACAGGGGGGAGAGGGAGAGGGAGAGGGAGAGGGAGAGGGAGAGGGAGAGGGAGAGGGAGAGGGAGAGGGAGAGGGAGAGGGAGAGGGAGAGCTATTTCATTTTTTTTTTTCCACATCAGATGTGGAAAAAAAATGTACTGGCATTGTAATAAGGCTTGAGGGAGGCACTAATACGACTCACTATAGGGCAAGCAGTGGTATCAACGCAGAGGGAGAGGGAGAGCTATTTCATTTTTTTTTTTTTTCCACATCAGATGTGGAAAAAAAATGTACTGGCATTGTAATAAGGCTTGAGGGAGGCAGCAATACATA                                                                                                                                                                                                                                               & \\#\\$\\$\\$\\$\\%\\%\\&\\%\\$\\$\\$\\#\\#\\#\\$\\$\\%\\%''))**+*\\%\\%\\&\\&\\&())*644211/0***+''''''''':<;;;;<GGA?A@?,,,,,,A@CHGB?99511/-0/18:99;<<=:788777187557488891,7??=@BDHHG@BHSHHCEHNLDBCELIJE=8<=?@?FJHHFFCSNNJINIIPJFEC40156A@AFFIKLC5801DGFFJLSKLECCFCF<621013388CGJJQKIJHJKIKKMJIJHFFMIKSIMJOLILINKKLIIMSJLPLIJHMQIKJRMSSNNKNI????;;8776:;>CEFGG<JSLKGHFFF.-----1<>CHLJJKEE@33GKGGILJHLJGDC@>;1+++/0034;<=GJFGGGIIJJJJISF+++-?@BB@@=>;:;85,,)                                                                                                                                                                                                                                               & 84S89M100I9M2I29M2I69M10S                                      &  0\\\\\n",
       "\t  0 & 26cc2e1d-c824-44a3-bb31-5fa9e952f686 & chrX & + & 71443002 & 289 & 197 & 20240530\\_AL5RACE002 & TTATGTAACGTACTTCGTTCAGTTACGTATTGCTCTAATACGACTCACTATGGGCAAGCAGTGGTATCAACGCAGAGTACAGGGGGGAGAGGGAGAGGGAGAGGGAGAGGGAGAGGGAGAGGGAGAGGGAGAGGGAGAGGGAGAGGGAGAGGGAGAGGGAGAGGGAGAGGGAGAGGGAGAGGGAGAGGGAGAGGGAGAGCTATTTCATTTTTTTTTTCCACATCAGATGTGGAAAAAAAAATGTCTATAGGCATTGTAATAAGGCTTGAGGGAGGCAGCAATACGTGGT                                                                                                                                                                                                                                                                                                                                                        & '+*)((\\$\\#\\#\\#\\$\\$\\%\\%\\&\\&*.679:7766689@ABCHHJHIFII;:::754333(((*<???AIGHLJHNGIKHGFJSJHG>:33.(''+/1566818:;?CGCSLKA=IID>;6<@MEC<-88:988ACDEBEFDD=;ADHGB@CIHGHFLJHA97;=?<=:BEF?:6;BLHEGFOOGGBCESEFKECSJFJHKMEEDDFJNLJIIC@@@>B@:LJKSQKSA@GFGKHMIIJMC?>@B532144//+**+'\\&\\&\\&\\&EFHGFFFEKGIJIF=<<<?>ABA,+++..*))(\\&\\&\\&                                                                                                                                                                                                                                                                                                                                                        & 80S127M2D25M1I11M1D2M3I28M12S                                  & 26\\\\\n",
       "\t  0 & 264dbaf4-b362-44f2-83b5-6f3b06aee097 & chrX & + & 71443002 & 584 & 293 & 20240530\\_AL5RACE002 & TTTTTTTTCCTCTACTTCGTTCAGTTACGTATTGCTCAATACGACTCACTATAGGGCAAGCAGTGGTATCAACGCAGAGTACAGGGGGGAGAGGGAGAGGGAGAGGGAGAGGGAGAGGGAGAGGGAGAGGGAGAGGGAGAGGGAGAGGGAGAGGGAGAGGGAGAGGGAGAGCTATTTCATTTTCCACATCAGATGTGGAAAAAAAAATGTACTGGCATTGTAATAAGGCTATTCTCCTCTTCTTCGTTCAGTATTGCTCTAATACGACTCACTATTGGGCAAGCAGTGGTATCAACGCAGAGGGAGAGGGAGAGCTATTTGATTTTTTTTTTTTCCACATCAGATGTGGAAAAAAAAATGTACTGGCATTCTAATCAGATAATGTTTCTGTATTATTTTATTCATTAGTGCGTTCTTGCTCTAATACGACTCACTATAGGGCAAGCAGTGGTATGAACGCAGAGGGAGAGGGAGAGGGAGAGGGAGAGGGAGAGGGAGAGGGAGAGGGAGAGGGAGAGCTATTTCATTTTTTTTTTTCCACATCAGATGTGGAAAAAAAAATGTACTGGCATTGTAATAAGGCT                                                 & \\$\\$\\$\\&\\&''\\%\\#\\#\\#\\#\\$\\$\\$\\%\\&\\&(,.+++++*-//.///0<9788:AGEFFHKJNJIHIFFGJGKJFJOGFDEF4100/01001..-*)*--211'*./.-2.---69<=>?=@@><71<?>>9424421/633356986567843135AA@@A?9<<<:679::;;<=<>?@ABA==66665..-)3051223233443521157@B??@DCAA@@@=<=<=?>@@??:99965)\\%\\$\\#\\#\\#\\#\\$\\$\\%\\&\\&')'\\%\\%\\%\\%\\%,117;=<>???DFGMIHKGH@AB54.\\&\\&\\&\\&+444566=CFDF>=<=;;==;>>836>;>9::8000,+++).0002.//1=EEED@;;DEFGKIGFHC;:9;A?BAACB????>;:9:;:43,+*\\&\\%\\$\\$\\#\"\\#\\#\\#\\#\\#\\$\\$\\$\\$\\$\\$\\&\\&\\%\\%\\&\\&((((\\%\\%'''''\\&\\&\\&'''''))46689;EGDBDCDAA@@B<<<=DEEEDBCA=4333))**+44448FHCEFOC<>:GEB<:ACC=84:;>B><FHHIHEFFC?=<EHGGIDSSSHIIMKQJMLIHB>;;=<>;ABDRSBEC+,?@@BBBBCCA??@B>;8755459:==CEEBAB?<977422/,,                                                 & 82S89M111I9M2I56M1I25M209S                                     &  1\\\\\n",
       "\t  0 & 74b2ea2f-fd52-4ac9-ae9f-b51db22ae412 & chrX & + & 71443002 & 402 & 315 & 20240530\\_AL5RACE002 & ATGTTGTGTAACCCTAGGCTTCGTTCAGTTACGTATTGCTCTAATACGACTCACTATAGGGCAAGCAGTGGTATCAACGCAGAGTACAGGGGGGAGAGGGAGAGGGAGAGGGAGAGGGAGAGGGAGAGGGAGAGGGAGAGGGAGAGGGAGAGGGAGAGGGAGAGGGAGAGGGAGAGCTATTTCATTTTTTTTTTTCCACATCAGATGTGGAAAAGAAAATATATGGCATTGTAATAAGGCTCTTTTTTTGATCTATTCGTTCAGTTACGTATTGTCTCTAATACGACTCACTATAGGGCAAGCAGTGGTATCAACGCAGAGGGAGAGGGAGAGCTATTTCATTTTTTTTTTTTTTCCACATCAGATGTGGAAAAAAAAATGTACTGGCATTGTAATAAGGCT                                                                                                                                                                                                                                       & '''')\\&\\%\\%\\%\\%\\%\\$\\%\\%\\%\\$\\#\\#\\$\\$\\$\\$\\$\\$\\$\\$\\%\\&\\&\\&\\%\\%\\%\\&\\&'***79:99:<>>=;<8)))),32234@@?@----.768779:;<@@AHGB@;;7589=>@@?@=8:;<<71<>>@A2=<<==7CBCCCCEEFGBCBHHAA>FHNSH>C>=>62652432:ADFB@AABCD?D><?>2CDBBC@AAB@=<==;<DGPJKGB7++*(\\&\\%\\%\\%\\%\\&(''(-.24\\&\\&\\&)'\\&\\%\\$\\$\\$\\%\\%<=?::555420.('\\&\\$\\$\\$\\%\\&\\&'\\$\"\\#\\#\\$\\&'(\\&\\&'('+*))\\&\\%\\&\\&'02-,)''('((48@@?@=>>FJHHMRIHLMNQIGIFEJFGD===;;;;77DJCLJSIIFJISOKHHFC@<<??@=CDEGJKILLIA89CC322226<222:;>8,++0279:=?ABBECBBB@?@>><;84                                                                                                                                                                                                                                       & 87S89M125I9M2I29M2I27M1I31M                                    & 15\\\\\n",
       "\t 16 & 939aa053-38b1-49dd-b1f7-577dea3b3085 & chrX & - & 71443002 & 238 & 199 & 20240530\\_AL5RACE002 & CACCATAGGGAGGGATGGATGATGGAGACGGACAGGGGGGGGGGAGAGGGAGAGGGAGAGAGGGAGAGGGAGAGGGAGAGGGAGAGGGAGAGGGAGAGGGAGAGGGAGGGAGAGGGAGAGGGAGAGCTATTTCATTTTTTTTTTTCCACATCAGATGTGGAAAAAAAAATGTACTGGCATTGAAATAAGGCTTGAGGGAGGAACAATACGTAACTGAACGAAGTACAGGACAGAACAT                                                                                                                                                                                                                                                                                                                                                                                                           & \\$(')*(\\&'''+))))*('\\&\\%\\$\\%\\%('(('\\&''((1243-,+-+-4;==ACBCA>BEE-.777;GDIFBGJFGEBF@??:9>FDGE;FEBB66899A87<BDAB>@,46<??==35<:?A<?IHIFGFFGDBCA>>>A@=:;@F?7444445521125:;ADB@?<<=4BCCDGHMHJIE43334::9<<<988887?B988897:99899;<>>>>54321400*)(\\&\\&\\$\\%\\$\\$\\$\\$\\$\\#\\#\\#                                                                                                                                                                                                                                                                                                                                                                                                           & 6S7M1D6M1I14M1I20M2I48M2D29M1D26M1I44M33S                      & 36\\\\\n",
       "\t 16 & 03f1efb9-360a-4007-921e-27b4fd538700 & chrX & - & 71443002 & 456 & 186 & 20240530\\_AL5RACE002 & ATGTATTGCTCTAATACGACTCACTATAGGGCAAGCAGTGGTATCATGAAATGCAGAGTACAGGGGGGAGAGGAGAGGGAGAGGGAGAGAGGGAGAGGGAAAGGAGAGGGAGAGGGAAGAGGGAGAGAGGGTGAGAGAGAGGGAGAGGGAGAGAGAGGGAGAGGGAGAGTCATTCCATTTTTTTTTTTCCACATCAGATGTGGAAAAAAAAATGTACTGGCATTGTAATAAGGCTTGAGGGAGGCACTAAGACCACTCACTATAGGGCAAGCAGTGGGACGACGATAGGGAGAGGGAGAGGGAGAGGGAGAGGGAGAGGGAGAGGGAGAGGGAGAGGGAGAGCTATTTCATTTTTTTTTTTCCACATCAGATGTGGGAAAAAAAATGTACTGGCATTGTAATAAGGCTTGAGGGAGGCAGCAAGCACGATGAATGAGTAGGTTACACATAAACATA                                                                                                                                                                                 & --02;;*(('''(((77;BBBBDEBC@22211778=?,***+**))\\&\\&(\\&\\&\\&)*++346<?;;54.44844778<:DA@@5-++),+/))1::;9;=<-6+*2799.89=?54***0=//24510/)''\\&\\&'*/0111,,,--7:58875612594:::;3-252)))))()++,56445666:HEFFIILKISPSIPF44A?=>9105:DKLIPLMSOFEGE>44666777....//56454222))*****)***())124442.+++++0)'(((()**+.//<BCAHGCFC76..5?>BABEECFI<EB;;;=C:999=@CEGG8@BCEF;FDD<;;;;;=;43331/0/..//.//00;:9889677*).9=931/112210//../.**//00322CCAE>==2072++++,0../.,''''())*(''(\\&\\%\\%\\&\\&\\&'')-+('*00,+\\%\\$                                                                                                                                                                                 & 61S10M1D15M4D14M1D16M1I7M4D28M2D25M1D26M1I43M209S              & 22\\\\\n",
       "\t  0 & ef451fdc-cce0-4d71-9523-315a9edd1d3e & chrX & + & 71443003 & 370 & 288 & 20240530\\_AL5RACE002 & TGTGTGTGTTTACTTCGTTCAGTTACGTATTGCTCTAATACGACTCACTATAGGGCAAGCAGTGGTATCGACGCAGAGTACGGGGGGGAGAGGGAGAGGGAGAGGGAGAGGGAGAGGGAGAGGGAGAGGGAGAGGGAGAGGGAGGGAAAGGGAGAGGGAGAGGGAGAGCTATTTCATTTTTTTTTTTCCACATCAGATGTGGAAAAAAAAGAAATATTATGGCATTGTAATAAGGCTTGAGGGAGGCTCTAATACGACTCACTATAGGGCAAGCAGTGGTATCAACGCAGAGGGAGAGGGAGAGCTATTTCATTTTTTTTTTTTTCCACATCAGATGTGGAAAAAAAATGTACTGGCATTGTAATAAGGC                                                                                                                                                                                                                                                                       & \\#\\#\\$\\#\\$\\$\\$\\$\\$\\$\\&\\%\\%\\&\\&'*59::;:94422*****4410134<6333333335????ALJMJNONIJGHG8(((((IGHJJIE===@LFDEEDFDA@CFDEB@CECEF8CCBDE>FDBB?8@HFGEDFCCE88:=?>8887120-*+/))+)+,-3:9;<7@GGJCBDINGGEHILC==>;?>EHJQQ=AH))DC=::::<?B@=76:2/..-()(')((''(*+2>BBCBCBCEGHGHOKSJPJQOFHLGEEEEGGMILOKHJJLNJGGNKEEDEFIKIFGFFFEGFLJKJLHHJ>KNHIGFHOLLIDFIJ9998<A>EHHKLJLHA6322310-***/))+/03465887888:@@?AA@ADBAA?==:6                                                                                                                                                                                                                                                                       & 82S59M2D27M104I9M2I29M1I57M                                    &  8\\\\\n",
       "\t 16 & cee32268-f815-405b-93d4-e7af03b003cc & chrX & - & 71443003 & 392 & 299 & 20240530\\_AL5RACE002 & CAACGTATTGCCTGAATATGACTCACTATAGGGCAAGCAGTGGTATCATGAGAGTACAGGGGGGGAGAGGGAGAGGGAGAGGGAGAGGGAGAGGGAGAGGGAGAGGGAGAGGGAGAGGGAGAGGGAGAGGGAGAGGGAGGGAGAGCTATTTCATTTTTTTTTCCACATCAGATGTGGAAAAATGTACTCGCATTGTAATAAGGCTTGAGGCAGGCCTAGTACGACTCACTATAGGGCAAGCAGTGGTATCAACGAGAGTACATGAGGGAGAGAAATGGAGAGCTATTTCATTTTTTTTTTTTCCACATCAGATGTGAAAAAAAAAATGTACTGGCATTGTAATAAGGCTTGAGGGAGGGCAGCAAGACCAGACTGAACCAGTAGAGGACACA                                                                                                                                                                                                                                                 & \\&\\%\\$\\%\\&'+\\%\\$\\%+\\&\\%\\%\\%\\%\\&(*.5789<==?>11---57675.+++-++,-+,6<<<=A@;;9,-6;;?@4:43894:?>@@37><?77;AACD<CAADA<.--4,+.@=?B0:9@=++0;;??,98>BC7=>=?=2=+-)6<=ECDDDCB@?<6569:;<<=A>>??<<<<==H><;=778+<>>;*****ADOSLLLQIIKQFLL<;(''((HFG,,,,,DDCEDEDDGHFFFEFGGCEFDEC>===>=;.+**.;;;;;A?A?8(.*\\&\\&()\\%\\&\\&\\&'89;67777:::9=@?=<<=>?=82125@FJGHIFKGCDBBC@?65457BBDHLJHKIJGRNHKJHBABA>:5441034*(++++*\\&'''''''**'\\&\\&'''((,+\\$\\$\\$\\$\\$\\$\\$\\$\\$\\$\\%                                                                                                                                                                                                                                                 & 59S77M2D9M94I7M7I4M1D3M3I9M4I40M1I41M34S                       & 18\\\\\n",
       "\t  0 & 398c0c82-651e-450a-add1-7fd89a08cbee & chrX & + & 71443007 & 353 & 267 & 20240530\\_AL5RACE002 & ATGTATCTTACTTCGTTCAGTTACATATGTGTCTAATACGACTCACTATAGGGCAAGCAGTGGTATCAACGCAGAGGGAGAGGGAGAGGGAGAGGGAGAGGGAGAGGGAGAGGGAGAGGGAGAGGGAGAGCTATTTCATTTTTTTTTTTCCACATCAGATGTGGAAACTAATGAGACTGGCTCTAGGGCAAGCAGTGGTATCAACGCAGAGGGAGAGGGAGAGGGAGAGGGAGAGGGAGAGGGAGAGGGAGAGGGAGAGGGAGAGCTATTTCATTTTTTTTTTTTCCACATCAGATGTGGAAAAAAAAATGTACTGGCATTGTAATAAGGCTTGAGGGAGGCAGCAATACGTA                                                                                                                                                                                                                                                                                        & \\#\\$\\%'\\%\\$\\$\\$\\%\\%\\%\\%+*,-1//001.,((''''\\&'''\\&..288767555779...../,++,-.??EFHA@@@==;59//2;>BAC@9:8676.0/111278446@@FFDBAGSLJS?DHSHHAAEEFDBGJNRKMILSDBC<>=:KKKSLD@B:;888>><<<EDB?>A??110'\\&\\&\\&\\&(**+------DEFGHHHSSLJHHHAAAA==:99>AA>DAA=CDFQMHMHIHIFCCFJIJFILGDE?;EGIIHBMKIGHGIKLGDB>:833///0-/001@?FJJJKSR@B++AAA@B>>@?<9677A:1100027889;;<BCDA?43349==>>>8899DEEA@<;::=@87+)(                                                                                                                                                                                                                                                                                        & 76S54M75I95M1I42M10S                                           & 54\\\\\n",
       "\t  0 & 0964dc13-05e0-49d0-8783-425ebfcb4d7d & chrX & + & 71443008 & 251 & 171 & 20240530\\_AL5RACE002 & TTTTTTTGCTTGGTTCAGTTCTGGTATTACTATAATACGACTCACTATAGGGCAAGCAGTGGTATCAACCCAGAGAGAGAGAGACAGAGTGCAGGGGGGGAGAGGGGAGAGGGAGAGGGAGAGGGAGAGGGAGAGGGAGAGGGAGAGGGAGAGGGAGAGGGAGAGGGAGAGGGAGAGGGAGAGCTATTTCATTTTTTTTTTTCCACATCAGATGTGGAAAAAAGAAATGTACTGGCATTGTAAGTGAGGGT                                                                                                                                                                                                                                                                                                                                                                                              & \\#\\#\\#\\#\\$\\%\\%\\#\\#\\#\\$\\$')((((((\\&'\\&''\\&\\&(\\%\\%\\%\\%\\%\\%\\&\\&.6/////22223888@BB>>>>>?CBA@=*)))((''''((**,-0/3532222**)))-/0/,--.*-03.38><;;=?ABA:AFE?BCIHGK;?A>87619<@?@<EDDA?=FEFDCBCFHMHEEGFHECFEHA<;=<;;7.7:;::;;::555556:>?@BAA?<77990100012.---/320/**'\\&))*00124?@CBB63210*))'\\&                                                                                                                                                                                                                                                                                                                                                                                              & 72S17M1I4M1D3M3D6M1I87M1D31M2I19M8S                            & 13\\\\\n",
       "\t  0 & 7627b2b6-dd89-4699-8248-9cc76c4c9426 & chrX & + & 71443008 & 254 & 179 & 20240530\\_AL5RACE002 & CATGTTATGGCCTGTACTTGGTTCAGTTCGGTATTGTCATGCGTTGGCTGTAGGCTGGGTGGTTGTGGACAGAGAGAGAGAGAGAGAGAGAGAGAGAGAGAGGGGGAGAGGGAGAGGGAGAGGGAGAGGGAGAGGGAGAGGGAGAGGGAGAGGGAGAGGGAGAGGGAGAGGGAGAGGGAGAGGGAGAGCTATTTCATTTTTTTTTTTTCCACATCAGATGTGGAAAAAAAAATGTACTGGCATTGTAATAGGCT                                                                                                                                                                                                                                                                                                                                                                                           & '\\&\\&\\&(*)('\\%\\$\\#\\#\\#\\$\\$\\$\\$\\&\\$\\&'(*.---)(''\\&')('\\%\\$\\%\\$\\$\\&\\&''((**.(''\\%\\%'\\&\\&\\%\\&\\&''\\$\\$\\$\\%\\%\\%\\%\\%\\$\\#\\$\\%\\&()+-.224588::;;;;::9:7860,+)().22243345555522229;?><:6:>DB@:9<D??@?B@=5.7:BAA@?@?;::<>?>9368=::65:?>=;==522165556;<=??>=:=><JSSSSKG><88998:::;;;;?99?;0,++//45567?@@BFD>=-**)\\&'\\$\\%                                                                                                                                                                                                                                                                                                                                                                                           & 75S148M1I25M1D5M                                               & 20\\\\\n",
       "\t ⋮ & ⋮ & ⋮ & ⋮ & ⋮ & ⋮ & ⋮ & ⋮ & ⋮ & ⋮ & ⋮ & ⋮\\\\\n",
       "\t  0 & ca106d19-ca3f-4d5c-aeef-67d9d4490a29 & chrX & + & 71443135 & 154 & 52 & 20240530\\_AL5RACE002 & ATCACGTACTTCGTTCAGTTTTACGTATTGCTCTAATACGACTCACTATAGGGCAAGCAGTGGTATCAACGCAGAGTACATGAGGGAGAGGGAGGACTCTGATTTTTTCCACATCAGATGTGAAAAAAAAAATGTACTGGCATTGTAATAAGGC                            & \\&\\&\\#\\$\\$\\$\\%\\&''((*,-+,,--+(()589<>>??FHDCDEFCC<::::ABB?????HGHHFGRIFIJIDJNGDDAACCGBA?>6456301644.,.\\&\\&\\%\\%\\%''(*229AEB>66689BAABCHFBD?E@JJGHGECGFGHHFHHFE=;87755442                            & 102S20M1I31M    &  5\\\\\n",
       "\t 16 & 03004162-2736-496f-872e-891f1a354474 & chrX & - & 71443135 & 108 & 63 & 20240530\\_AL5RACE002 & CATTTCCTTTTTTCCACATCAGATGTGGAAAAAAAATGTACTGGCATTGTAATAAGGCTTGAGGGAGGCAGCAATACGTAACTGAGTCAGTAGATGTAGACATAACAC                                                                          & \\#''\\&'(+))*031127966688?>10ABCDA?;?<@>>>??ACHEEDDDEE<<;;<?@>>0/2217777;860---,))('\\&\\%\\&'\\&\\&'(((('\\&\\%\\%\\&((+)(('\\%\\$\\$\\$                                                                          & 7S63M38S        & 36\\\\\n",
       "\t  0 & 9c09f576-c27e-4155-9b8a-abd683cefba0 & chrX & + & 71443136 & 171 & 57 & 20240530\\_AL5RACE002 & GTCCTCTACTCGTTCAGTTTCGTATTGCTCTAATACGACTCACTATAGGGCAAGCAGTGGTATAGACGCAGAGTACAGTGGGGGAAAGGGTTTTTATCATTTTTCCACATCAGATGTGAAAAAAAAATGTACTGGCATTGTAATAAGGCTTGAGGGGAGCGACAATGGTAA           & \\#\\#\\#\\$\\$\\$\\%\\%'(*)*,+-/./*\\&''(+++,4..+++,,544555555587777HLHLHIHINKJJ222224DDEEFAA;61.(''(()*)))(()(+))'\\&'''-0/3//;@@A@?@BHEC;<==98877430'''''378886666:;;331//024**50.-,,,.,+)))           & 99S57M15S       &  6\\\\\n",
       "\t  0 & ef5bb7ee-168c-4a3f-a3d4-12f548b50da8 & chrX & + & 71443136 & 181 & 57 & 20240530\\_AL5RACE002 & ATGTTTTTGTAGTTATACTGGTTCAGTTGCGTATTGCTCTAATACGACTCACTATAGGGCAAGCAGTGGTATCAACGCAGAGTACATGAGGGAGAGGGAGGGCTTGATTTTTCCACATCAGATGTGAAAAAAAAAATGTACTGGCATTGTAATAAGGCTTGAGGAGGGCGCAATACGTAAC & \\#\\$\\$\\$\\$\\$'''\\&\\$\\$\\$\\$\\#\\#\\#\\#\\$\\%\\%\\%''++++))***05558>==>>BCEDEFHIJPJPGFEHFFFEDBBBB@A@>/*((()4445544332/++++354432564431-,,*)1033,,::98888996668;FGFDDDB?@?>>8788EDAA;:::;;;7660---,+,++*((()\\%\\%\\$\\$\\$\\%\\% & 107S19M1I37M17S &  6\\\\\n",
       "\t  0 & 87d58aa7-0e27-465c-b714-2decebb8ce5e & chrX & + & 71443136 & 181 & 61 & 20240530\\_AL5RACE002 & GTGTTATGTTAACCCTTTCGTTCATTACGTATTGCTCTAATACGACTCACTATAGGGCAAGCAGTGGTATCAACGCAGAGTACATGGGGGGGGGGGGAGGGCTGCCCGTTTTTCCACATCAGATGTAAAAAAAAAATGTACTGGCATTGTAATAAGGCTTGAGGGAGGCGGCAATTTGGTA & '''*,***)\\%\\$\\$\\%\\%\\&\\&(+\\&\\%\\#\\$\\#\\%\\%\\%\\%\\&\\%\\%\\%**+-8::;;;>A0///-,++++411246GGDEPHBBB@@55555=<<<<=0+++*,+.>?<:::9861**)*)('\\%\\%\\%\\&\\&./034589:CDBCAA.--.<;;?BA@?ACCABCBDFEDEDDDEIGFEFGB@@AEDEDA,++++1.*(()' & 108S61M12S      & 20\\\\\n",
       "\t  0 & 080b52ca-6b7d-461c-8bd5-93eec7cb4e58 & chrX & + & 71443136 & 174 & 63 & 20240530\\_AL5RACE002 & GTTATGCATCTTACTTCGTTCAGTTACGTATTGCTCTAATACGACTCACTATAGGGCAAGCAGTGGTATCAACGCAGAGTACATGAGCAGGCTTTATCTCATTTTTCCACATCAGATGTGAAAAAAAAAATGTACTGGCATTGTAATAAGGCTTGAGGGAGGCAGCAATACATT        & \\$(+*+)\\%\\$\\$\\#\\#\\#\\$',)\\&'(34>???><66567:)))))+,CFDDFEFGGIII=<<<=JHLIHOMJIJHI533322<::::9987/.+(\\%\\%\\&''(+)*'\\%\\%\\%\\&-,??=<-.ABDDDDDA>1....887770+)*+--1114556:9:9411/.,*''(.83;;668=<<=<:,+*        & 101S19M1I43M10S & 24\\\\\n",
       "\t  0 & 0112f62b-2ec6-49a8-9375-35cd111cde6b & chrX & + & 71443136 & 156 & 52 & 20240530\\_AL5RACE002 & TTTTTTCATCTTACTTGGTTCAGTTACGTATTGCTCTAATACGACTCACTATAGGGCAAGCAGTGGTATCAACGCAGAGTACATGAGGGAGAGGGGAGAGCTAGTTTTTCCACATCAGATGTGAAAAAAAAAATGTACTGGCATTGTAATAAGGCT                          & \\#\\$\\%\\&'\\%\\$\\#\\#\\$\\%\\&')+-))**+..--,)\\%\\%\\%\\%**+<===>@OI;9992////2+****-::999:BFJEIFLNOGGFGFGFFLEF<;89/++/./100.)(()\\&\\$\\%\\%\\$-007//3402211243349<BCCCCAA@DCDGGGPIHE><999766510                          & 104S19M1I32M    &  5\\\\\n",
       "\t 16 & 89bd3c27-67f4-41c1-a11e-0b6a8a42a364 & chrX & - & 71443136 & 168 & 63 & 20240530\\_AL5RACE002 & AATGTATTGCTCTAATACGACTCACTAGGGCAAGCAGTGGTATCAACGCAGAGTACATGAGGGAGAGGGAGTATCTTTTTCCACATCAGATGTGAAAAAAAAAATGTACTGGCATTGTAATAAGGCTTGAGGGAGGCAGCAATACGTAACTGAACCAAGAACAGGCAA              & ()),.44,*)))+,,,--24344---/4998:<ABE;9999B>=>>>BDBAA@@CACB31222<3*,)))'''(;:=;::;@EEDCCEEGHFFKJ@>2213:@@ACEIFGGHFECCBCCBCAFDHHEHC3A@<<:997444211/..000/'''\\&\\$\\%\\%\\%(*()'\\$\\$\\$\\#              & 75S19M1I43M30S  & 24\\\\\n",
       "\t 16 & 382e9f39-057c-435b-9458-a8ac99027c90 & chrX & - & 71443136 & 133 & 59 & 20240530\\_AL5RACE002 & CACTATAGGAAGCAGTGGTATCAACGCAGAGTACATGAGGGAGAGGAATCCTTTTTCCACATCAGATGTGAAAAAATGTACTGGCATTGTAATAAGGCTTGAGGGAGGCAGACGTAACTGAACGAGGTTACAC                                                 & .//0611448:9<@:9988989<<<@CEFECB>=;:8-.-+,)\\&\\&\\%\\%\\$\\$\\%+,/-..//4421///0--.15./29::::>=?@?:886674347:322///+++*....+****+5565++\\&\\%\\$\\#\\#\\#\\$\\$\\%\\%\\%\\%                                                 & 51S19M3D40M23S  & 22\\\\\n",
       "\t 16 & 688a9046-a78f-4833-b383-cf325cb4315f & chrX & - & 71443136 & 108 & 63 & 20240530\\_AL5RACE002 & ATTTCCTTTTTCCACATCAGATGTGGAAAAAAAAATGTACTGGCATTGTAATAAGGCTTGAGGGAGGCAGCAAGACCTAACTTAAAATCAAATGGTAGCATGTGACAC                                                                          & )*((*0.0/1335::::9BCFCB@A>>32-,14778=BEDDDCBBAA<;BAABBABB?CA262+++++3++.-++++,)'''\\%\\&\\%\\%\\$\\%\\$\\&\\%\\$\\%\\%\\$\\$\\$\\$\\$\\%\\%\\%\\%\\%\\&\\%\\%\\$                                                                          & 6S20M1I42M39S   & 33\\\\\n",
       "\t  0 & 053246c6-2109-4178-a3cc-4bebcf3ff55c & chrX & + & 71443137 & 171 & 62 & 20240530\\_AL5RACE002 & TTGCCTGTACTTGGTTCAGTTACGTATTGCTCTAATACGACTCACTATAGGGCAAGCAGTGGTATCAACGCAGAGTACATGAGGGAGGGGGAAGCTATATTTTCCACATCAGATGTGAAAAAAAAAATGTACTGGCATTGTAATAAGGCTTGAGGGAGGCAGCAATGCATT           & \\$\\$\\$\\%))),(((-)**,+222300-,++*+**++((((,7////00CDDEDDDDDHJJEFGFGIIIEBAA??AADKSEFDD<9::723./0.1*(())(\\%\\$\\%\\&+.99:88)(((()+(()24FGHFDDAABCFIJHSJGHFFCBC?=<;99:99:;;@BB>8//.33,(\\%\\%\\$           & 99S18M1I43M10S  & 21\\\\\n",
       "\t  0 & b6a71db7-a61a-4e33-977c-ecf8811af270 & chrX & + & 71443137 & 166 & 61 & 20240530\\_AL5RACE002 & TTGTATGCTGCTTGACTAGTACGTATTGCTCTAATACGACTCACTATAGGGCAAGCAGTGGTATCAACGCAGAGTACATGAGGAAAGGCTGTTTTGATTTTCCACATCAGATGTGAAAAAAAAATGTACTGGCATTGTAATAAGGCTTGAGGGAGGCAGCAATAGG                & \\#\\#\\$\\%\\%\\%\\#\\#\\$\\$\\$\\%\\%\\$\\%\\%\\&\\%\\%\\%\\&\\&\\&\\&\\&58:9===;=>IFA@@AACBB@@((((()....//:;AAA877767742231100**)(''\\&\\%\\&'*****)(**('60:89=CCMIJNGIG@==FDEGHIIEFDFDHSOLSFHHHGSHSOKJSHDEIOBBDC@.---/5(\\&\\%                & 97S61M8S        & 22\\\\\n",
       "\t  0 & 6e5d9060-7c57-428e-8d6d-8d61e6a161df & chrX & + & 71443137 & 168 & 59 & 20240530\\_AL5RACE002 & CTTATGTAACCTACTGGTTCAGTTACATATACTCTAGACTCACTATAGGGCAAGCAGTGGTATCAACGCAGAGTACATGAGGGGGAAGGGGAGCTATTAGTTTTCCACATCAGATGTGAAAAAAAAAATGTACTGGCATTGTAATAAGGCTTGAGGGAGAGCAATACA              & \\#\\$\\%\\#\\$\\%\\%\\$\\%\\%\\%\\&\\&')''(,,....*)))*-+*+)(\\&\\&'\\&'(--...<<;<==@@AAAAB???>>>>8344347779:<4545;@?A<99<;>0,,,,4)))))-)1\\&'@@<=>>?@A:997<DFFSGEDBC@>???ACAB@@====><;;>><;:86544444::.-'              & 100S18M1I40M9S  & 16\\\\\n",
       "\t  0 & 16800665-f024-4826-8ce8-2fb161df30c2 & chrX & + & 71443137 & 168 & 62 & 20240530\\_AL5RACE002 & ATTGTAACCTACTTCGTTCAGTTACGTATGAATACGACTCACTATAGGGCAAGCAGTGGTATCAACGCAGAGTACATGAGGGAGAGGAGCTTTAATTTTCCACATCAGATGTGAAAAAAAAAATGTACTGGCATTGTAATAAGGCTTGAGGGAGGCAGCAATACGTTA              & \\$\\%\\%\\$\\$\\%\\#\\#\\#\\#\\#\\$\\%'\\%\\&'(\\&')))*+***.''(,-BCCBBBEEIFKIMLMIJQHIIINJLQKKPCCEBDAA?@A?><;9959889877''(),-**+,,436/0CDEFIHLHJFE@=@EHIJHE?>>?EIKOMNKJKSGFEEDCCCFKDBBE?BCA=<<>54444,*)'              & 95S18M1I43M11S  & 21\\\\\n",
       "\t  0 & 1fa780c8-c1b3-4c8e-a561-caf1822a3f8d & chrX & + & 71443137 & 177 & 61 & 20240530\\_AL5RACE002 & TTGTTTTGTTTCTCACCTTTGATCGAGTTCAGGTATTTGTTCTAATACGACTCACTATAGGGCAAGCAGTGGTATCAACACCAGAGTGAGAGGAAGGCTGTTTTCATTTTCCACATCAGATGTGGAAAAAAAATGTACTGGCATTGTAATAAGGCTTGAGGGAGGCAGCAATACATT     & \\#\\#\\#\\#\\$\\$\\%\\$\\$\\%\\&\\$\\$\\$\\$\\%\\&(+*\\$\\$\\$\\#\\$\\%\\&\\&'\\&'(((((**\\%\\%\\&\\&\\&\\&**DB>=<==BCDEG,,,,,/GGHEEDEDECA1000*++('\\%(()0.,./-//''''.-,..))''3+6-.>BDEFECCCE<;:9<<DDFEDDDDGHISHKIIHKKMKJLIHJKBABCA?CB@@@@;7643*))     & 106S61M10S      & 32\\\\\n",
       "\t  0 & e883ec68-efb5-4d2b-a5e4-1dc8b0c7763e & chrX & + & 71443137 & 179 & 63 & 20240530\\_AL5RACE002 & ATGTTATCATCTTACTTCGTTCAGTTACGTATTGCTCTAATACAACTAGCTATAGGGCAAGCAGTGGTATCAACGCAGAGTACATGAGGGAGAGGAAGAGTTTTCGTTTTCCACATCAGATGTGAAAAAAAAAAATGTACTGGCATTGTAATAAGGCTTGAGGGAGGCAGCAATACATT   & \\$\\$\\$\\%\\%\\$\\$\\#\\#\\#\\#\\%\\%\\%\\&')'(),,,-****\\&'''()**++++378433433333510//,/4--55678;;;<<=>=>@==<:6554****777776..0-+'''(\\&\\%\\%\\%'31900;;<>>>>==<<85?>>>>??<9320,,+,,2;;:99:::<<<;;1***899:;;;;::9976-,)   & 106S18M2I43M10S & 15\\\\\n",
       "\t  0 & 7c586ee0-bba8-4921-86ce-13b96bc6dfc0 & chrX & + & 71443137 & 171 & 61 & 20240530\\_AL5RACE002 & TTGTATATTTTACTTCGTTCAGTTACGTATTGCTCTAATACGACTCACTATAGGGCAAGCAGTGGTATCAACGCAGAGGGGAGAGGAAAGCTGTTTTCATTTTCCACATCAGATGTGGAAAAAAAATGTACTGGCATTGTAATAAGGCTTGAGGGAGGCAGCAATACATTA           & \\$\\$\\$\\%\\$\\$\\$\\&''('((('(*+)+...,,-./5784554355<>><;;<?@NMLGMIIMSMKSHOOIKRJJ<33333<;888<2+369:520//0*)))('++\\&\\%::?77CEBCCDECD</--.69BBCBBEDFEOKKFJJGIGFGFJJIGF74445@>A><;=?=;<63*)(\\&           & 99S61M11S       & 32\\\\\n",
       "\t  0 & 61e4a53d-5a58-429e-8fae-330b958627b5 & chrX & + & 71443137 & 153 & 49 & 20240530\\_AL5RACE002 & GTGTAACCTACTTCGTTCATTTACGTATTGCTCTAATACGACTCACTATAGGGCAAGCAGTGGTATCAACGCAGAGTACATGAGGGAGAGGAGAACTGTCTTCGTTTTCCACATCAGATGTAAAAAAAAAATGTACTGGCATTGTAATAAGGC                             & \\$\\$\\$\\%\\$\\$\\%''\\&\\&\\&'\\%\\&(-((\\&'''*99:;==11222:::83333=DECCGCBBDEFGGIHJLHMILIE?>>=>GFGLLAA??00//1-5776*).+((\\&'\\&''(\\&''\\&,24().01;;;;;=)(():BAA@=:65--,,-3?BE==332/+*)\\&                             & 104S49M         &  2\\\\\n",
       "\t  0 & 9c272fb2-b48c-445b-a32a-c69233c8678f & chrX & + & 71443137 & 152 & 50 & 20240530\\_AL5RACE002 & ATCACATCTACTCGTTCAGTTACGTATTGCTCTAATACGACTCACTATAGGGCAAGCAGTGGTATCAACGCAGAGTACATGAGGGAGAGGAGAACTCTATCATTTTCCACATCAGATGTGAAAAAAAAAATGTACTGGCATTGTAATAAGGC                              & \\#\\$\\%\\&\\&\\%\\%(*+,332342443489851///....--./0=?@C@:99990---.3JFEBCCEMSJG@????BH>;;<:<76....+*+.++'(-,,-*++,,12325/=..///55557:6677998>FH?=<<65554883311/1112220                              & 102S18M1I31M    &  2\\\\\n",
       "\t  0 & c53b2246-a543-43d3-a4ff-b0ec1896109b & chrX & + & 71443137 & 169 & 57 & 20240530\\_AL5RACE002 & TAACCCTTTCGTTCAGTTACGTATTGCTCTAATACGACTCACTATAGGGCAAGCAGTGGTATCAACGCAGAGTCTGCATGAGGGGAGAGGGCTCTTAGTTTTCCACATCAGATGTGAAAAAAAAAATGTACTGGCATTGTAATAAGGCTTGAGGGGAGCAGCAATACAT             & \\#\\#\\#\\#\\#\\$\\%\\&\\&\\&')*.345667451,+++,33355@=87668<<==?BABBA>?>><>=;8888::::55667==87655779:750..***(\\%\\%\\%\\$\\$\\#\\$''\\&358.-,)))((()28986<@GGHEDCAA@@@@>>>>?AA@A@ACA>===;<987.84-,,11273-**             & 98S18M1I38M14S  &  2\\\\\n",
       "\t  0 & c5d9908c-fc58-4aab-be73-44c81a200b43 & chrX & + & 71443137 & 167 & 61 & 20240530\\_AL5RACE002 & ATGTTTTTACTTCGTTCAGTTACGTATTGCTGATACAACTAGCTATAGGGCAAGCAGTGGTATCAACGCAGAGTACATGAGGGCAAGCTGTCTTCATTTTCCACATCAGATGTGAAAAAAAAAATGTACTGGCATTGTAATAAGGCTTGAGGGAGGCGGCAATTCAT               & \"\"\"\"\\#\\#\\#\\#\\#\\$\\&(''(++,++++++,+,,*))\\%\\%\\%\\&')(())*****>==?CGHIFCCDBCDAA/.....111775422)\\%\\%\\%\\&\\$\\&'((*+-****,/..44A11>@=>>>>@G?>===>FJIIDDAA?><<=?CEEFJGIGIISGGJ:432332860/04-+,,---               & 96S18M1I42M10S  & 16\\\\\n",
       "\t  0 & ec8d65d8-89fe-4431-b8bb-f68626f35f12 & chrX & + & 71443137 & 152 & 51 & 20240530\\_AL5RACE002 & ATGTGTAACCTACTCGTTCAGTTACGTATTGCTTTAATACAACTAGCTATAGGGCAAGCAGTGGTATCAACACAGAGTACAGTGAGAAAGGGCTTCTCAGTTTTCCACATCAGATGTGAAAAAAAAAATGTACTGGCATTGTAATAAGGCTA                              & ,,,-..,***)))*('''')*)))*****-.-/,++,,58/...))))));:8;>HGLGGHIHAAA@2211163323336421/.,(***+)(()\\&\\&\\%\\%\\$\\%\\$\\%05912?A5444458222479HFC=<<<@@@@BCCIMJFE9887899443                              & 100S18M1I32M1S  &  2\\\\\n",
       "\t  0 & 3224e2ab-54a8-49e2-ad66-571145c7cc80 & chrX & + & 71443137 & 162 & 60 & 20240530\\_AL5RACE002 & ATGTCCTGTACTTCGTTCAGTTACGTATTGCTCTAATACGACTCACTATAGGGCAAGCAGTGGTATCAACGCAGAGTACATGACGGCTTCATTTTCCACATCAGATGTGAAAAAAAAAATGTACTGGCATTGTAATAAGGCTTGAGGGAGGAGCAATACATT                    & \\$\\%\\%(\\&\\$\\$\\&\\&(--/-/0<=DCDEEFFFEGIGEHIGHMNKGIIHJFDCCFF;999:GHKJJGHIGSJSIKKIJKGGFHGGN@=/\\%\\$\\$\\$\\$\\%\\&\\$\\%\\&''/0=.,---===>?A????DFSSJKIHGMHKORNSKPLIKIKJJIMIDHHCBADEBB?>>>>?@;:--+                    & 91S18M1I41M11S  & 16\\\\\n",
       "\t  0 & 516647a1-edeb-49a8-a72b-fe001e5ba5f3 & chrX & + & 71443137 & 176 & 63 & 20240530\\_AL5RACE002 & ATGTTTATGTGCAGCACCCCTGGACACATGGTGTTCTAATACAACTCACTATAGGGCAAGCAGTGGTATCAACACAGAGTCATGGGGGAGGAAAGCTATCTCATTTTCCACATCAGATGTGAAAAAAAAAAAAAATGTACTGGCATTGTAATAAGGCTTGAGGGAGACAATGCATT      & \\#\\$\\$\\%\\&\\&\\$\\%\\&\\&\\%\\$\\$\\$\\$\\$\\#\\$\\$\\%\\%\\$\\$\\$\\$\\$\\$\\$\\$\\$\\%\\%())))))*,/.....11223)((()<>>>@ABB?A@@6555+++*+45.---868=;.+++../0/0-----1184;555?;<;99:=75327;<<;:8774*))(\\%\\%\\%\\&\\&(9@CBDCCCCHEFDC?9776603)\\&\\&\\&.\\%\\%\\%\\$\\&      & 103S18M5I40M10S & 10\\\\\n",
       "\t  0 & 879ac3cf-81c7-4d56-8f61-c735c667ee1f & chrX & + & 71443138 & 154 & 51 & 20240530\\_AL5RACE002 & TTATGTTAACCTACTTCGTTCAGTTACGTATTGCTCTAATACGACTCACTATAGGGCAAGCAGTGGTATCAACGCAGAGTACATGAGGAGAGGAGGACTGATATTTCCACATCAGATGTGAAAAAAAAAATGTACTGGCATTGTAATAAGGCTT                            & \\#\\$\\#\\$\\%\\%\\%\\%\\$\\$\\$\\$\\$\\$\\$'''+-,//.-+'\\&\\&\\&)677<==677=>BDDD@@??@ADDDIOJJHKKJMSMSMNJNJLJGNILLIPSII@>;4*()()\\&')\\&\\$\\$\\#\\#\\$'(*+(//9>??DIDEGHGGA@FHGEFHJMEI32234BFQKFKEECA>?;76-                            & 103S17M1I33M    &  2\\\\\n",
       "\t 16 & a88745a1-358a-4656-b20c-b99fdff59a34 & chrX & - & 71443138 &  97 & 61 & 20240530\\_AL5RACE002 & ATTTCCTTTTCATATCAGACTGTGGAAAAAAAATGTACTGGCATTGTAATAAGGCTTGAGGGAGGCAGCAATACGTAACTGAACGAGTAGGGAACAA                                                                                     & \\$\\&\\&(+*+**+,--,-.0024976:@AABDDB?@@?@@FEFDDAABBBEBBCBAECDFA;AA2222384453,**++/00101++++)'\\&\\&\\%\\%\\&\\&\\$\\$\\$                                                                                     & 6S13M1I47M30S   &  8\\\\\n",
       "\t 16 & fa723c1d-792e-45ed-a787-9b24c420f901 & chrX & - & 71443138 & 180 & 56 & 20240530\\_AL5RACE002 & AAAATGTATTGCTCTAATACGACTCACTATAGGGCAAGCAGTGGTATCAACGCAGAGTACATGAGGGAGAGGGGAAAAGCCATTCACTTCCTTTCCACATCAGATGTGAAAAATGTACTGGCATTGTAATAAGGCTTGAGGGAGGCAGCAATACTCACAATCTAACCAAGTATAATACAA  & \\&)0<@HHIHFEFGEIHGGJGHLKJMHIJLLIIIIGIJHLNJJLKMSMGGJFOKOKKSJNPKHJCFBA/2-974,00..-,\\&\\%\\&\\%\\%\\&\\%\\&\\&)).*)+*+,1,+**))*,0:8-49:>?IHGENFKIIPIMHIJJF333333<:881,,+'''\\%\\$\\$\\#\\$\\%\\&\\%\\&\\&\\&'*-+*),\\&\\%\\$\\$\\$\\%\\%\\$\\%\\$\\$\\$  & 91S17M4D39M33S  & 19\\\\\n",
       "\t  0 & 047fd729-e227-41c3-88f5-6c1c03154c7b & chrX & + & 71443139 & 152 & 47 & 20240530\\_AL5RACE002 & ATATGTACCTGTACTTCGTTCAGTTGCGTATTGCTCTAATACGACTCACTATAGGGCAAGCAGTGGTATCAACGCAGAGTACATGAGGGAGAGGGAAGGGCTTGGTTCCACATCAGATGTGAAAAAAAAATGTACTGGCATTGTAATAAGGC                              & \\&\\&\\$\\&')'\\&\\&\\%\\%\\&\\&''/(((((6444('''(.111122345688444566=>?>=<=>BDBB??AEDDDC;:9:9>BBBGGDDDECB@CA>=<:93.,('\\&\\%\\$\\$\\$\\&))))''\\&+***,,.0/-.-0010010/.-//336EFECC???<;:94                              & 105S47M         &  2\\\\\n",
       "\t 16 & 78ecd645-cd00-4a56-a5cb-3137f661fba1 & chrX & - & 71443142 & 151 & 56 & 20240530\\_AL5RACE002 & ACACCATAGGGCAAGCAGTGGTATCAACGCAGAGGGAGAGGGAGAGTGGTTGACTTCCCTTCGGCACATCAGATGTGGAAAAAAAATGTACTGGCATTGTAATAAGGCTTGAGGGAGGCAGCAGACGTAACTGAACGAAGCAGAGGGCAGT                               & ,-...<=11111CDIJMSJ@GFMIINSKRNPJSLPIF=48875332/*\\%\\%\\$\\%\\&\\&+'('\\&\\%\\%\\%'/0?>>?>DCDCBBDCF@@???CCEPFMKSLSILNKLQPJKLLMLKKE77<</.+**+*)))++016771./.,')'\\&\\%\\&\\&\\&'\\$\\#\\#\\#\\#\\#                               & 64S56M31S       & 18\\\\\n",
       "\t 16 & c97cbfa6-8e4b-45ae-89e3-cde48d863bb0 & chrX & - & 71443143 &  95 & 56 & 20240530\\_AL5RACE002 & TCCCTTTGACATCAGATGTGGAAAAAAAAATGTACTGGCATTGTAATAAGGCTTGAGGGAGGCAGCAATACTAACTGAACCAGTAGAATGACACA                                                                                       & '(.02,,+-.+++++995495511101224-,,,++,+,11-,,,,,754..../(02(\\&\\&\\%\\%)(((\\&\\&\\&\\%\\%+****+'\\%\\%\\$\\$\\#\\#\\#\\%\\$\\$\\%\\&\\%\\%\\%\\%                                                                                       & 8S13M1I42M31S   & 21\\\\\n",
       "\\end{tabular}\n"
      ],
      "text/markdown": [
       "\n",
       "A tibble: 451611 × 12\n",
       "\n",
       "| flag &lt;int&gt; | qname &lt;chr&gt; | rname &lt;fct&gt; | strand &lt;fct&gt; | pos &lt;int&gt; | qwidth &lt;int&gt; | qwidth_after_softclipping &lt;int&gt; | RG_tag &lt;chr&gt; | seq &lt;chr&gt; | qual &lt;chr&gt; | cigar &lt;chr&gt; | mapq &lt;int&gt; |\n",
       "|---|---|---|---|---|---|---|---|---|---|---|---|\n",
       "|  0 | 01308af7-2286-4252-8fbc-d3b0889b9ef5 | chrX | + | 71442975 | 226 | 143 | 20240530_AL5RACE002 | GTGTGTAGCCCCTTGGTTCAGTTACATATATATAATACAACTCACTATAGGGCAAGCAGTGGTATCAACGCAGAGTGAGAGGGAGAGGGAGAGGGAGAGGGAGGAGAGGGAGAGGGAGAGGGAGAGGGGAGAGGGAGAGGGAGGACTCCATTTTTTTTTCCACCGTGGGACTGTGGAAAAAAAAATGTACTGGCATTGTAATAAGGCTGAGGGAGGCAGCAATGAT                                                                                                                                                                                                                                                                                                                                                                                                                       | ##$%%%$##$$$%&amp;%&amp;(,,('''&amp;&amp;%%%&amp;%%$%%&amp;()(''++'))------:?BGEFFHGHGFGPD@??=&gt;???CDDBA@G@CBBB@;3-02556699970+2*').0120257:85655555310246,/-,/)(+2/0.++)'&amp;&amp;&amp;'()),../0150.'(3++'''&amp;%%$$%)*-./1/--.----0/002?@BAA44444445&gt;2227DACC=443/..&amp;$$                                                                                                                                                                                                                                                                                                                                                                                                                       | 75S11M5D40M71D17M1D1M2D6M3D12M1I7M1I5M1I30M1D11M8S             | 13 |\n",
       "|  0 | 72c19bb4-52bc-4e37-b8a4-7fba639cfd22 | chrX | + | 71442976 | 235 | 142 | 20240530_AL5RACE002 | ATGGGTATGTATGTATTAGTAGTTACGTATTGCTGTAATACGACTCACTATAGGGCAAAGCAGTGGTATCAACGCAGAGTACGGGGGGAGAGGGAGAGGGAGAGGGAGAGGGAGAGGGAGGAGAGGGAGAGGGAGAGGGAGAGGGAGAGGGAGAGGGAGAGGGAGAGGGAAGACTATTCATTTTTTTTTTCATAGGAATCTGGAAAAAAAAATGTACTGGCATTGTAATAAGGCT                                                                                                                                                                                                                                                                                                                                                                                                              | $$$%%%%%%&amp;$###$$$%&amp;'((*+0212000(')''(,,8=::994112239;;==?SIJSIIJGIHLH@77767???GF@73211615+***,(,)()+)*+-..,//..0*-+.21/++&amp;'+,--,-..0219==&gt;?=ABABA/???@C?DDDD=&lt;=ACC&gt;:;5966,-)%%%%&amp;*%&amp;12431126&lt;&gt;)&amp;&amp;%&amp;'(()((***&lt;@C;67:&lt;:8778788;@CDCC;;;9765+(                                                                                                                                                                                                                                                                                                                                                                                                              | 93S10M5D67M59D3M1D3M1D14M5D3M1D2M2I6M1I31M                     |  1 |\n",
       "|  0 | 4593102a-a148-49b8-8d76-c4d3ef74bb13 | chrX | + | 71442976 | 632 | 325 | 20240530_AL5RACE002 | ATGTTTGTGTAACCTACTCGTTCAGTTACGTATTGCTCTAATACGACTCACTATAGGGCAAGCAGTGGTATCAACGCAGAGTACAGGGGGGGAGAGGGAGAGGGGAGAGGGAGAGGGAGAGGGAGAGGGAGAGGGAGAGGGAGAGGGAGAGGGAGAGGGAGAGGGAGAGGGAGAGCTATTTCATTTTTTTTTCCACATCAGATGTGGAAAAAAAAATGTACTGGCATTGTAATAAGGCTTGAGGGGAGCACTAATACGACTCACTATAGGGCAAGCAGTGGTATCAACGCAGAGTGAGAGGGAGAGGGAGAGGGAGAGGGAGAGGGAGGGGAGAGGGAGAGGGAGAGCTATTTCATTTTTTTTTTTTTCCACATCAGATGTGGAAAAAAAAATGTACTGGCATTCTAATAAGGCTTCTGTAAGCCTTGACTAGAGTACGTATTGCTGCCTCCCTCAAGCCTTATTACAATGCCAGTACATTTTTTTTCCACATCTGATGTGGAAAAAAAAAAAAATGAAATAGCTCTCCCTCTCCCTCTCCCTCTCCCTCTCCCTCTCCCTCTCCCTCTCCCTCTCCCTACTCGTGATTCCACTTACTTTCCCTATAGTGAGTCGTATTAGAGCAATCGTAA | %%%'(($$$$$##$$&amp;'*))*1178999&lt;999:;&lt;99997::BJ?&gt;&gt;&gt;;;;;;====BIDEDDDOSKIIHGBBBBBCGGFHEEB66554&gt;@?@:0---***-34,.28::&lt;&lt;BECAD@BEFB&lt;9DGEE@@BBB=8.9==;1.26DFEEGLIJGLGHGB=?CFGF?@?DBC&gt;5?&gt;&lt;&lt;;345=;&lt;7:&lt;DBEEEACA89&gt;CBA@@AAHKMFFFF=555??????@DELJNFIIHGHIIIISIH?&lt;&gt;&gt;@8&gt;B778D((((*...9;;&lt;=&gt;?CCCDD==&gt;=99:&lt;&gt;MQKDDEDDDIGJKOHKNLMMJHRIFJC4&gt;DHAEGFGSFEBD?&gt;&gt;7-/+/..7:;&lt;=4;;8&gt;4/2CAAA@?&gt;&gt;&gt;9858949&lt;ADGSP@27(*55*))'&amp;(())*,8:;;&lt;=@ABDBCAAAABBG0.---2321,($##$###\"##$%$&amp;''&amp;&amp;'')((+2----.332223IHBDEFJIDBBBBNFGDFF@C??;::;9;;5/-0589802BC?@77766--*+.522227989;5,+++/22226;;:-*,502&lt;8:;;&lt;&lt;13@BED=@FCDHBGNDFD?EGEHB&lt;7746/+...0;6(((''''/299:9:?8*)))''**'56-''&amp;())())(((('((((//'&amp;&amp;%% | 91S10M4D17M3I54M113I40M1D27M1I27M1I32M216S                     |  2 |\n",
       "| 16 | f4a4c411-859c-4adf-94ff-b323b44d80ca | chrX | - | 71442976 | 425 | 327 | 20240530_AL5RACE002 | ATGTATTGCTCTAATACGACTCACTATAGGGCAAGCAGTGGTATCAACGCAGAGTACAGGGGGGGAGAGGGAGAGGGAGAGGGAGAGGGAGAGGGAGAGGGAGAGGGAGAGGGAGAGGGAGAGGGAGAGGGAGAGGGAGAGGGAGAGCTATTTCATTTTTTTTTTTCCACATCAGATGTGGAAAATGTACTGGCATTCGCAGAAGGCTTGAGGGACTAGTATGACTCACTATAGGGCAAGCAGTGGTATCAACGCAGAGGGAGAGGGAGAGGGAGAGGGAGAGGGAGAGGGAGAGGGAGAGGGAGAGGGAGAGCTATTTCATTTTTTTTTTTTTCCACATCAGATGTGGAAAAAAAATGTACTGGCATTGTAATAAGGCTTGAGGGAGGCAGCAAGACCAACTGAACCAGTAGACTACAAAACAT                                                                                                                                                                                                                | ,-?@B@984434444667===&lt;BBBJOJJJHIMSPOMJIKKJLIKQSSPKEECCBCB??3,-2AAFD&lt;DGEFLBIEBDE4CA@A@28BAFB&lt;CDEFH;KKHHBBJFEHE@EG@@?:E3333)025@A1;;;CE=GFDCA=@IGHHGGFFLI&gt;&lt;&lt;==;:41/3901125CFJHIJIEC+*?&lt;&lt;'*;;&gt;?C&gt;=&gt;=/.-.-----571..--*)$#\"###%%%&amp;&amp;&amp;66=@BAAC@8@@&gt;=HHLSLMGJBCDCCIKJLONLJIJIIH=DGDDE&gt;AEC03AEFGEC@DEDFE8&lt;@EGG7BBAB75=IEJH7KKHKJMSIK&lt;;;;;BB???1+*+3&lt;@FHIJLJ65545GHEGKJJSSS@GGLIKMSSSSJMSKJMJOGIKJISHPH@?EE100030)'''&amp;&amp;&amp;&amp;+,-+)'%%&amp;.+(&amp;%$%%&amp;&amp;&amp;$#####                                                                                                                                                                                                                | 64S10M5D16M3I54M106I68M1I69M34S                                | 40 |\n",
       "| 16 | 39d89551-2466-4ffd-b912-92422161676f | chrX | - | 71442976 | 400 | 322 | 20240530_AL5RACE002 | CACGATAGGGCAAGCAGTGGTATCAACGCAGAGTACAGGGGGGGAGAGGGAGAGGGAGAGGGAGAGGGAGAGGGAGAGGGAGAGGGAGAGGGAGAGGGAGAGGGAGAGGGAGAGGGAGAGGGAGAGCTATTTCATTTTTTTTTTTTTCCACATCAGATGTGGAAAAAAGCAATACGTAACTGAACGAAGTAACAGGACAGAGACTATAGGGGAAGCAGTGGTATCAACGCAGAGGGAGAGGGAGAGGGAGAGGGAGAGGGAGAGGGAGAGGGAGAGGGAGAGGGAGAGCTATTTCATTTTTTTTTTTTCCACATCAGATGTGGAAAAAAAATGTACTGGCATTGTAATAAGGCTTGAGGGAGGCAGCAATACGTAACTGAACGAAAGAGACTAAAAAAAT                                                                                                                                                                                                                                         | ''')BDGJLDJILHNKJIECCDDKMKIIJJHKKGGDCBA+,356&lt;&lt;/=953/.2?@AB&lt;CDBCC5A=&lt;&gt;A5CBAEB&gt;CDDHF;DFEGH3A??GD;IJGHG9???D99@EDD@4?FEEA9&gt;BABGGGFCAAAA@JHHFDE8321;9;;;;FEEEDGHLI&lt;&lt;HHSSSAHBBBDBBCAA?::;;891/.0'&amp;&amp;''&amp;%$####$$'00197(((((8989@@@CB:999;FEPKKQJLJIOH&lt;CFDFD5ECBBA?DFFED6HCDFF@G=&lt;@65&lt;BADD4BECEA=CFFDBBCBBCAA&gt;?BCDC7-+-22*)&amp;%&amp;(*/.-//00EDFGGFED&gt;A@CCFKIMJIE@=&lt;;&lt;=&lt;87777;??@66666D:9867899&gt;@?@?2000096*()$$$$#$$'-+('%$$$                                                                                                                                                                                                                                         | 43S10M5D16M3I54M102I137M35S                                    | 42 |\n",
       "| 16 | 2dec6b2f-6baf-43f7-ad1c-464207168d01 | chrX | - | 71442976 | 204 | 142 | 20240530_AL5RACE002 | TCAATGAGTACAGGGGGGAGAGGGAGAGGGAGAGGGAGAGGGAGAGGGAGAGGGAGGAGAGGGAGAGGGAGAGGGAGAGGGAGAGGGAGAGGGAGAGGGAGAGCTATTTCATTTTCTTTTCACATCAGATGTGGAAAATGTACTGGCATTCTAATAAGGCTTGAGGAGGCAGCAAGCACCTGAATGAACCGAGGCCACCATAGC                                                                                                                                                                                                                                                                                                                                                                                                                                             | '(('&amp;(//08965221/./012.-//8;;;==:9201+)(&amp;&amp;,036433/.1*&amp;'149;1&lt;87:32==;==:&lt;;:??29&lt;;:;,114=+*487;;/76799&gt;&gt;&gt;&gt;=;65447%%(04/./2-+++++*,,,'('+'-3-,,+,-/+))*)((+)*;:44448.,-,-+))()'''&amp;&amp;&amp;&amp;&amp;%%(&amp;&amp;&amp;$$$#######%$%$$$##                                                                                                                                                                                                                                                                                                                                                                                                                                             | 29S10M5D16M66D65M4D14M4D30M1D7M33S                             |  1 |\n",
       "|  0 | 3b47decc-609c-4e14-a545-1b0f08936bb8 | chrX | + | 71442990 | 256 | 161 | 20240530_AL5RACE002 | ATGTTTATGTACTACACTCGTTCAGTTACGTATTGCTCTAATACGACTCACTATAGGGCAAGCAGTGGTATCAACGCAGAGTACAGGGGGGGAGAGGGAGAGGGAGGAGAGGGAGAGGGAGAGGGAGAGGGAGAGGGAGAGGGAGAGGGAGAGGGAGAGGGAGAGGGAGAGCTTTCATTTTTTTTTTTTTCGCGTGGATGTTGGAAAAAAGAAAATGTACTGGCATTGTAATAAGGCTAGGAGGAAGGCGATTGGT                                                                                                                                                                                                                                                                                                                                                                                         | %%%*,,****%####$$'%%&amp;*+-,,,+********2&lt;=&lt;=&gt;&gt;A&gt;===&lt;&lt;=&lt;==FEEIINLIHEDDGEJKS43333&lt;FJSLI?&gt;75546:97810220)1;;;;842+*3;&lt;&gt;&gt;AHFC&lt;8/A@&gt;@&lt;=?ED@AGHGGCBEKIABGFMLFGAABFC?CFNNPGGD?=91,.,,,,(%%)+..-,-../0026/('&amp;&amp;&amp;'%%%(&amp;$$%246457)))4256577;:&gt;6665410///01.1////.///.,,)))'&amp;''                                                                                                                                                                                                                                                                                                                                                                                         | 88S33M48D51M2D23M1D5M1I7M3I27M1I10M7S                          |  1 |\n",
       "|  0 | 4b80cbc0-af7a-4a34-81ca-2d25a55e0714 | chrX | + | 71442990 | 301 | 205 | 20240530_AL5RACE002 | GCTGTGTCACGTGCTTCGTTCAGTTACGTATTGCTCTAATACGACTCACTATAGGGCAAGCAGTGGTATCAACGCAGAGTATAGGGGGGGAGAGGGAGAGGGAGAGGGAGAGGGAGAGGGAGAGGGAGAGGGAGAGGGAGAGGGAGAGGGAAGGGGGGGGGGGGGGGGGGGGGGGGGGGGGGGGGGGGGGGGGGGGGGGGGGGAGAGGGAGAGCTATTTCATTTTTTTTTTTTCCACATCAGATGTGGAAAAAAAAATGTACTGGCATTGTAATAAGGCTTGAGGGAGGCAGCAATACATA                                                                                                                                                                                                                                                                                                                                            | )---.-,&amp;%$$###%&amp;&amp;)+0144330/...////;;;;CDHHIHJHIFED8:BDDEEKHKIDCDEFIGEAAAAABGGDDD==***-6@??@&lt;&gt;&gt;=&lt;:==@@?&gt;CGGGCCCGE@57:AB@@:8??&gt;?ACCBC&lt;:=&lt;:;;8;;:;8202-/,*+'&amp;*35532379:;;=?@ABEEEFFHHHFEFEDCCCBAAABBBBBCBA?&lt;;+(186;@ADBDCEBDCF.--,--47&lt;FISKKG@77EHHSIJIKKIKGCBI&gt;BEGGFEEFHKKKHKJHJGGDGENHHIHOHEJIFFEEE??&gt;;;&lt;98.,&amp;                                                                                                                                                                                                                                                                                                                                            | 86S14M3D51M1D97M1I42M10S                                       | 29 |\n",
       "|  0 | 44a98cd4-828e-446d-bfab-8f88aeea3c13 | chrX | + | 71442990 | 387 | 291 | 20240530_AL5RACE002 | TGTTATGTACGTCTACCTGGACAGATTACGTATTGCTCTAATACGACTCACTATAGGGCAAGCAGTGGTATCAACGCAGAGTACAGGGGGAGAGGGAGAGGGGAGAGGGAGAGGGAGAGGGAGAGGGAGAGGGAGAGGGAGAGGGAGAGGGAGAGGGAGAGGGAGAGGGAGAGCTATTTCATTTTTTTTTTCCACATAGGGGTATGTTTATGTATAGTGTATTTCGTTCAGTTACGTATTGCTCTAATACGACTCACTATAGGGCAAGACAGTGGTATCAACGCAGAGTGAGAGGGAGAGCTATTTCATTTTTTTTTTTTCCACATCAGATGTGGAAAAAAAATGTACTGGCATTGTAATAAGGCTTGAGGGAGGCAGCAATACGTT                                                                                                                                                                                                                                                      | ####$$%&amp;$%###%&amp;'(('()*,...2334856666EEE@@@CD&gt;===&gt;AAAABA@@@@JJHHHGJHFFFF::::::@?&gt;@@974411-*+(((*,()++,1*/8=?A&gt;@CDFFD?ABCC?:&lt;686/--//+057;&gt;D&lt;?CEFIEABGGADEDEEA&lt;9HEDEB@DEDD&lt;79DFDD&lt;@BA3222235666;&lt;&lt;=;;-,))((''&amp;&amp;&amp;(''%%&amp;&amp;$%##$$$$$$%#$&amp;&amp;(*+))((,../123?DDCDDIICBCB@99989)((('*(''&amp;''(++-...89:9==;;;;&lt;;87@AIEGGIFIBA;=((((*937&lt;?DFJDB&gt;--CDCGFHJJPJCA&gt;&lt;:7=99979988;;;HHGFDFHGFEIF&lt;@9433499;6.../,,,,,*)'                                                                                                                                                                                                                                                      | 86S15M2D72M83I21M2I98M10S                                      | 28 |\n",
       "| 16 | 26d9ece8-8f1f-4d39-a1b5-c335be046b0b | chrX | - | 71442990 | 393 | 297 | 20240530_AL5RACE002 | TGTATTGCTCTGTAATACGACTCACTATAGGGCAAGCAGTGGTATCAACGCAGAGTACAGGGGGGGAGAGGGAGAGGAGAGGGAGAGGGAGAGGGAGAGGGAGAGGGAGAGGGAGAGGGAGAGGGAGAGGGAGAGGGAGAGGGGAGAGCGATTTCATTTTTTTTTTTTTTTCCACATCAGATGTGGAAAAAAAATGTACTGGCATTGTAATAAGGCTTGAGGGGAGGCTCAAGACGACTCACTATAGGGCAAGCAGTGGTATCAACGCAGAGTGAGAGGGAGAGCTATTTCATTTTTTTTTTCCACATCAGATGTGGAAAAAAAATGTACTGGCATTGTAATAAGGCTTGAGGGAGGCAGCAATACGTAACTGAACGAAGTAGGTTAACATAA                                                                                                                                                                                                                                                | -0000++((*.38999::@QJHHHLSNPIHJNKPJMILLPLJGIGGLSJJNOINIGFDCCC34;;?B@7&lt;;88+)-&gt;@747&gt;&lt;&gt;?=@EEDF@EHHIGBHGGGH=JFIEA&gt;CC@@&lt;49;9&lt;1025466-5510-*+,.33++*&amp;%%$$%&amp;(*,--.35&lt;@DKOKJOJADDBBDFKGGGHHNKF??CCDECDD&gt;EIGGIOIHGLIKKJPSOHLGMFKG;;;+556732()&amp;&amp;++(+++;;;=EGBBB99889EIBJRLHGHDEEGKSJNSKNPS&lt;;AA@DEDGJIJJKDCCB?ECA=;56=@GJLMJLGDDGGHK44&gt;=RECB&gt;FFEIIISKINMOJIMHKNJGSGMJEGFE333454336.-------+('')(-,)''&amp;&amp;&amp;&amp;&amp;&amp;&amp;'+*)('&amp;%                                                                                                                                                                                                                                                | 62S11M4D67M1I10M67I5M1D4M5I2M1I1M9I4M2I2M1I2M1I2M9I24M2D67M34S |  1 |\n",
       "|  0 | ab85e92e-74b7-4f44-85e3-47346865e9e2 | chrX | + | 71442991 | 393 | 301 | 20240530_AL5RACE002 | ATGTTATGTGTAGCCTACTCATTCATCATATTGTTCTAATACGACTCACTATAGGGCAAGCAGTGGTATCAACGCAGATTACGGGGGGGAGAGGGAGAGGGAGAGGGAGAGGGAGAGGGAGAGGGAGAGGGAGAGGGAGAGGGAGAGGGAGAGGGAGAGGGAGAGGGAGAGCTATTTCATTTTTTTTTTTCCCACATGGGATGTATGCCTTGGTTCCATTACATATACTCTAATACGACTCACTATAGGGCAAGCAGTGGGTGTGACAGAAGGGAGAGGGAGAGGGAGAGGGAGAGGGAGAGGGAGAGGGAGAGGGAGAGGGAGAGCTATTTCATTTTTTTTTTTCCACATCAGAATTGTGGAAAAAAAATGTACTGGCATTGTAATAAGGCT                                                                                                                                                                                                                                                | ##$$$$%$$$$#$$$$%&amp;)&amp;&amp;&amp;''()))))))+),,,-78DB=&lt;&lt;=&gt;@@BECBBCBDGHIJJOLNHFFGEFGEBBBABDF&gt;&lt;)((+43/128&lt;&gt;ACFFFEECEGJFCDFHMHGDGMLIGFGGHFECEEHKFECBB&gt;61&lt;=A@&gt;&lt;&gt;&gt;===3669?654&gt;&gt;&gt;99&lt;?&lt;;;=B@&gt;&gt;&gt;====3---,,*+,-7:?&gt;;6()&lt;&lt;)))))*)%$##&amp;*+%&amp;+++*&amp;&amp;'&amp;())((%$$&amp;&amp;'+,56????@DCHGI@@@@@????4432)(((()*-222/../:&lt;CFEGCGMIIDBA&lt;:8::&lt;AFBC&gt;CELCCBFIIEACEEFE5111=&lt;&lt;&lt;&lt;&gt;==&lt;.,,)%%%%%&amp;*+-/23:;:46--*)))&amp;%&amp;&amp;'(./1=&gt;@BABA&lt;&lt;&lt;;::9:==&gt;&lt;&lt;;&lt;;&lt;:8731                                                                                                                                                                                                                                                | 92S16M3I58M101I64M1D21M2I36M                                   | 15 |\n",
       "|  0 | 5377942d-8f74-4a3d-aad4-67416f42eaae | chrX | + | 71442991 | 271 | 202 | 20240530_AL5RACE002 | TGTGTGTCTGGTTGGTTGGTCTTGCTCTAATACGACTCACTATAGGGCAAGCAGTGGTATCAACGCAGAGGGAGAGGGAGAGGGAGAGGGAGAGGGAGAGGGAGAGGGAGAGGGAGAGGGAGAGGGAGAGGGAGAGGGAGAGGGAGAGGGAGAGGGAGAGGGAGAGGGAGAGGGAGAGGGAGAGGGAGAGGGAGAGGGAGAGCTATTTCATTTTTTTTTTTTTCCACATCAGATGTGGAAAAAAAAATGTACTGGCATTGTAATAAGGCTT                                                                                                                                                                                                                                                                                                                                                                          | #$$%('(''&amp;&amp;&amp;*,,,,**)'''''+((((*,.0000,+++,-111:&gt;DDDDDFHFIECDBBCECDCBC@@=9743338@AB&gt;C:??&gt;=:3FFGIHIJKICGFNSNEKMSMKKIKIRRLIKLIGJH&lt;FFIIFHGGFDA0DDFE&gt;:4;ABC?@&lt;99:1446:9@DIJ?93.8KG&lt;ACBNJIIMPQJHELMIKGKLSJKJJIHLOICGFF1110003&lt;EFFSJSKGC;;GFBA@?BDF@;:9::2)((*+***11778ABB@&gt;=&gt;=:7774/'                                                                                                                                                                                                                                                                                                                                                                          | 69S16M3I122M1I27M1I32M                                         | 26 |\n",
       "|  0 | 6853bb42-9eb0-4815-be0f-8331bbbff35a | chrX | + | 71442993 | 469 | 192 | 20240530_AL5RACE002 | TTGTGGCCTCTCGTTCAGTTACGTATTGCTCTAATACGACTCACTATAGGGCAAGCAGTGGTATAGACGCAGAAGGAAGAGAGAGAGAGAGAGAGAGAGAGAGAGAGAGAGAGAGAGAGAGAGAGAGAGAGAGAGAGAGAGAGAGAGAGAGAGAGAGAGAGAGAGAGAGAGAGAGAGAGAGAGAGAGAGAGAGAGAGAGAGAGAGAGAGAGAGAGAGAGAGAGAGAGAGAGAGAGAGAGAGAGAGAGAGAGAGAGAGAGAGAGAGAGAGAGAGAGAGAGAGAGAGAGAGAGAGAGAGAGAGAGAGAGAGAGAGAGAGAGAGAGAGAGAGAGAGAGAGAGAGAGAGAGAGAGAGAGGGAGAGGGAGAGGGAGAGGGAGAGGGAGAGGGAGAGGGAGAGGGAGAGCTATTTCATTTTTTTTTTTTCCACATCAGATGTGGAAAAAAAATGTACTGGCATTGTAATAAGCTC                                                                                                                                                                    | ##$%$####$%%%&amp;''-+++)('((*++)****/0462000/..///@@@CDDDCC===;;=&lt;&lt;-,,,)+('&amp;'&amp;%&amp;&amp;&amp;&amp;(,0436599=&lt;@&gt;@?@@@@A@A@BABBBBCABACBCAA@BACADBECCCDBDCEDDCDCCCDCBBBCBCCBBABAAA@@A@@@A@A@@?@@@@AAAABBBBCCCDDDDDDDDCCBBABBAAABBAAAA@?&gt;;9899:&lt;&lt;==?&gt;@@AAAABABABBDBEDEEEEFDECDCBB@A@A@@@@@@AAA@AAAAAAA@A@@???????@@AABBCCCCCCBA@@?&gt;&lt;;9889:;&lt;=&gt;&gt;??@?@@AAAABAAAA@A?????FDFEHFGEGCDBC@A??=908:8&lt;;:;94=;::;&lt;CFFDCBCEGEA&gt;@BHFCBBBC@90==&lt;&gt;&lt;:&gt;@&lt;;;867878::7;&gt;HIJJKKSC911FFGEEEEEHGB@@BB?;9:9765669;AFEE??764420+*'                                                                                                                                                                    | 274S15M1I176M3S                                                |  9 |\n",
       "|  0 | ecb0557f-bbce-46ef-ad26-a5346da0466b | chrX | + | 71442993 | 265 | 192 | 20240530_AL5RACE002 | ATGTAACCTACTCGTTCAGTTGCGTATTGCTCTAATACGACTCACTATAGGGCAAGCGGTGTATAAACACAGAGAGAGAGAGAGAGAGAGAGAGAGAGAGAGAGAGAGAGAGAGAGAGGGAGAGGGAGAGGGAGAGGGAGAGGGAGAGGGAGAGGGAGAGGGAGAGGGAGAGGGAGAGGGAGAGGGAGAGGGAGAGGGAGAGCTATTTCATTTTTTTTTTCCATCAGATGTGGAAAAAAAAATGTACTGGCATTGTAATAAGGCT                                                                                                                                                                                                                                                                                                                                                                                | $%''%$##$$$%$$%%%&amp;&amp;&amp;&amp;$$$$$*--,----/6;;7777766666:99::,+++('&amp;&amp;''((()))-,*)*%)..125=?@AABBBAA@?&gt;&lt;&gt;=@?@??&gt;&gt;=?=?&gt;@@B@?681,)*(*2:&gt;@==&lt;??&lt;;=@@@?A@BCA&lt;75?==;9&gt;FFC?=BEHHEDEHECA?:@==99&gt;GEF@DIGKKIJKIMHIFGINGHHHILJMFKDF6554449BDDFE*)''&amp;%%&amp;'(,-24788979&lt;878?CDFIGHIGI?&gt;877777656                                                                                                                                                                                                                                                                                                                                                                                | 73S15M1I131M3D1M1D12M1I31M                                     |  8 |\n",
       "|  0 | 2374c97a-5901-40ce-b84c-e8e79530c57d | chrX | + | 71442995 | 275 | 189 | 20240530_AL5RACE002 | ATGTTTATGTAGTCTACTTCGTTCAGTTACATATTGTATAATTGACTCACTATAGGGCAAGCAGTGGTATCAACGCAGAGTACAGGAGGGAGAGGGAAGGGAGAGGGAGAGGGAGAGGGAGAGGGAGAGGGAGAGGGAGAGGGAGAGGGAGAGGGAGAGGGAGAGGGAGAGGGAGAGGGAGAGGGAGAGGGAGAGGGAGAGGGAGAGCTATTTCATTTTTTTTTTTTCCACATCAGATGTGGAAAAAAAAATGTACTGGCATTGTAATAAGGCTA                                                                                                                                                                                                                                                                                                                                                                      | %&amp;&amp;(((&amp;''(%$$$$$&amp;&amp;,'&amp;&amp;&amp;'''&amp;&amp;%%$&amp;&amp;'(&amp;'&amp;&amp;&amp;'(53345;&lt;&lt;===EECFHIKLGIIJHEEBB)((((((((50(&amp;&amp;&amp;(()**'*2220+****399;=61=@@A?&lt;BGHBEDEJJGHFELIK=BEFGC@5;?IBGIHMHGCCEJHFDBFIGD==ACBA:&gt;AHFBB878@=:6=BA&lt;:3:&lt;4127&gt;&gt;&gt;??2DCB??:AFGGGDDCD1000007=@ACGIGDC6732*****+)&amp;%',.31.-*+++,+00024?@BA@@??ABCC?B=                                                                                                                                                                                                                                                                                                                                                                      | 85S12M4D145M1I31M1S                                            | 32 |\n",
       "| 16 | 3cff295e-a75c-4132-8e36-8379241dd568 | chrX | - | 71442997 | 400 | 307 | 20240530_AL5RACE002 | ACCATGTATTGCTCTAATACGACTCACTATAGGGCAAGCAGTGGTATCAACGCAGAGTACAGGGGAGAGGGAGAGAGGGAGAGGGAGAGGGAGAGGGAGAGGGAGAGGGAGAGGGAGAGAGGGAGAGGGAGAGGGAGAGGGAGAGGGAGAGCTATTTCATTTTTTTTTTTTTCCACATCAGATGTGGAAAAAATGTACTGGCATTGTAATAAGGCTTGAGGGAGGCTCTAATACGACTCACTATAGGGCAAGCAGTGGTATCAACGCAGAGTACATGAGGGAGAGGGAGAGCTATTTCATTTTTTTTTTTTCCACATCAGATGTGAAAAAAAAAATGTACTGGCATTGTAATAAGGCTTGAGGGAGGCAGCAATACGTAACTGAACGAGGTCAGGACATA                                                                                                                                                                                                                                         | #%&amp;.09&lt;ED@@@@ABCBDED@@@??PHJNJKIJGHHIQIOSOILFFDDJRGLLIHGFFD@=A+/9047&lt;&lt;&lt;..5=&gt;CCCBB/88AED?DCAEECRFGJKAFEDC99=CDEF5?:9*+04*024BA088;FF@IEDEB&gt;AA?BB9ALMSPLLJFA&gt;&gt;&gt;?FMSSSJKGEAHBABDSJHSNLIRJICAB@@670&lt;BCFFEGHIGFDEFGHGFGHM;;;&lt;A@47754,'%%&amp;')(()-/2134@??@@??:88899=ACDKIINIHHHJNHIMIMLSLMLNBMGEEE@DPKIFHFEFHCB&gt;@CDCA:99:&gt;GIMEB?66669=&gt;?;0.1GKLJK&gt;?@GQKQOIJNKJKSMJJMMSQJKMSH&gt;=65=DBFDDE&gt;&gt;&gt;&gt;&gt;CDBA?@@?&gt;&lt;9)'&amp;$$######$$###                                                                                                                                                                                                                                         | 62S10M1D42M2I35M100I9M2I8M1D3M3I49M1I43M31S                    |  1 |\n",
       "| 16 | 04fb79bc-5d8f-4210-a5ff-50ac1937558c | chrX | - | 71443000 | 355 | 273 | 20240530_AL5RACE002 | ATTACCATTGTCGGTACCACTCACTATAGGGCAAGCAGTGGTATCAACGCAGAGGGAGAGGGGAGAGGGAGAGGGAGAGGGAGAGGGAGAGGGAGAGGGAGAGGGAGAGCTATTTCATTTTTTTTTTTTCCACATCAGATGTGGAAAAACTAATACGACTCACTATAGGGCAAGCAGTGGTATCAACGCAGAGGGAGAGGGAGAGGGGAGAGGGAGAGGAGAGGGAGAGGGAGAGGGAGAGGGAGAGCTATTTCATTTTTTTTTTTTCCACATCAGATGTGGAAAAAAATGTACTGGCATTGTAATAAGGCTTGAGGGAGGCAGCAATACGTAACTGAACGAAGTACAGGCAGAG                                                                                                                                                                                                                                                                                      | %%&amp;()-+*))('(((..-....667&lt;:58888DD@EFGGFDFGHJSSMKOHGIIGEBC48GDEEC@CEA3314CBCC:&lt;EBBB4BA@IBADDEC96BDB@)(/AAABHEJGCCB=.--:EEC72283222344335@@FDEFIGHNHC====776689&gt;&lt;;==&gt;NNNNGGGIHFLRIDE&lt;;&lt;&lt;&lt;DGISPGIGGGIFD5FA?@@6&lt;&gt;&lt;;;//3?;5-+&gt;:664::::9.323:;0;:666/&lt;;630/.++*))*+01239&lt;&lt;&gt;&gt;&gt;;:=CEGIGDDC?&gt;&gt;98@@@CA&gt;-,,,,5557&gt;ECFFEKJNJOJRSJSLSGHMPLHKSLBAAA@@?;;32--('**)(+''&amp;%#$#####$$                                                                                                                                                                                                                                                                                      | 50S7M1D3M1D49M78I17M1I12M1D65M1D41M32S                         | 57 |\n",
       "|  0 | 9e1271a1-232a-4c57-9acf-1f5a96ba500e | chrX | + | 71443002 | 235 | 189 | 20240530_AL5RACE002 | TGTGTGTGGCTGGACTAGTACGTATTGCTCTAATACGACTCACTATAGGGACGACAGTGGAGCTGGGACAGGGAGACCCAGGGGGGGAGAGGGAGAGGGAGAGGGAGAGGGAGAGGGAGAGGGAGAGGGAGAGGGAGAGGGAGAGGGAGAGGGAGAGGGAGAGGGAGAGCTATTTCATTTTTTTTTTTTCCACATCAGATGTGGAAAAAAAAATGTACTGGCATTGTAATAAGGC                                                                                                                                                                                                                                                                                                                                                                                                              | $$%%%%%$##$#######$$$%%%(+,,8==43337/....,+++,'&amp;%%$$$$$$%%%%%&amp;&amp;'&amp;&amp;')+,..*''****)**+,57894:&lt;&lt;?&gt;BHIIGCJJHILLIHEDB9CEDBBADGB@?=??@&gt;&gt;=;:8953357:;-,,+-/)(((+*')(,/0268997971.--)()((-124436778&gt;AB;&gt;00&lt;DGEIILHGJHGHIF@::;CAABBDEFHHEFEFGD@=;::97                                                                                                                                                                                                                                                                                                                                                                                                              | 46S11M1I4M1I12M4I4M1D1M1D120M1I30M                             | 34 |\n",
       "|  0 | 9fceaa76-0024-4152-be66-36d483ee0c3b | chrX | + | 71443002 | 415 | 320 | 20240530_AL5RACE002 | ATGTTTATGTGTAACCTACTTCGTTCAGTTACGTATTGCTCTAATACGACTCACTATAGGGCAAGCAGTGGTATCAACGCAGAGTACAGGGGGGAGAGGGAGAGGGAGAGGGAGAGGGAGAGGGAGAGGGAGAGGGAGAGGGAGAGGGAGAGGGAGAGGGAGAGGGAGAGGGAGAGCTATTTCATTTTTTTTTTTCCACATCAGATGTGGAAAAAAAAAATGTACTGGCATTGTAATAAGGCTTATGTCATCTACTCGTTCAGTTACGTATTGCTCTAATACGACTCACTATAGGGCAAGCAGTGGTATCAACGCAGAGGGAGAGGGAGAGCTATTTCATTTTTTTTTTTCCACATCAGATGTGAAAAGAAAATGTACTGGCATTGTAATAAGGCTTGAGGGAGGCAGCAATGGT                                                                                                                                                                                                                          | &amp;''*+*'',,(%%%%%&amp;&amp;&amp;%'&amp;(,4;@ECC;:99:=?A775549:KIKIFHIIJGINHJHIJJJHIGFLFMHJKFDCCAAFGJMG=;210../044;==?8@ECEE@GMLRIHGHID?&gt;&gt;CBA=5&gt;@KHIIHJCB&gt;75;??ABFIPDDADHHKA@A?&lt;80))'''(*-202345;&lt;&lt;&lt;;:74013466?DEJKJLH=11=&lt;5311101//0234-++,/00012&lt;=EFHIPJKGECA?;&lt;;852)&amp;&amp;%$#####$$%%'''''''%$$&amp;&amp;'(((8::112JLKGIJKECDCD76667EDB????FKLHHB@@?9865434515;::500/---++,+''(()77CEILLHJ@66-,++++++*((*-,///00.'''''(()CJGAB&lt;;;999854-++,/-**'&amp;&amp;%%%'')))                                                                                                                                                                                                                          | 87S89M123I9M2I29M1D68M8S                                       |  5 |\n",
       "|  0 | 94ea9d93-67a7-4eca-a3ae-0ac901e81e56 | chrX | + | 71443002 | 394 | 300 | 20240530_AL5RACE002 | TTATGTGTAGCCCTACTTGGTTCATTTACGTATTGCTCTAATACAACTGGCTCTAGGGCAAGCAGTGGTATCAACGCAGAGTACAGGGGGGAGAGGGAGAGGGAGAGGGAGAGGGAGAGGGAGAGGGAGAGGGAGAGGGAGAGGGAGAGGGAGAGGGAGAGGGAGAGGGAGAGCTATTTCATTTTTTTTTTTCCACATCAGATGTGGAAAAAAAATGTACTGGCATTGTAATAAGGCTTGAGGGAGGCACTAATACGACTCACTATAGGGCAAGCAGTGGTATCAACGCAGAGGGAGAGGGAGAGCTATTTCATTTTTTTTTTTTTTCCACATCAGATGTGGAAAAAAAATGTACTGGCATTGTAATAAGGCTTGAGGGAGGCAGCAATACATA                                                                                                                                                                                                                                               | #$$$$%%&amp;%$$$###$$%%''))**+*%%&amp;&amp;&amp;())*644211/0***+''''''''':&lt;;;;;&lt;GGA?A@?,,,,,,A@CHGB?99511/-0/18:99;&lt;&lt;=:788777187557488891,7??=@BDHHG@BHSHHCEHNLDBCELIJE=8&lt;=?@?FJHHFFCSNNJINIIPJFEC40156A@AFFIKLC5801DGFFJLSKLECCFCF&lt;621013388CGJJQKIJHJKIKKMJIJHFFMIKSIMJOLILINKKLIIMSJLPLIJHMQIKJRMSSNNKNI????;;8776:;&gt;CEFGG&lt;JSLKGHFFF.-----1&lt;&gt;CHLJJKEE@33GKGGILJHLJGDC@&gt;;1+++/0034;&lt;=GJFGGGIIJJJJISF+++-?@BB@@=&gt;;:;85,,)                                                                                                                                                                                                                                               | 84S89M100I9M2I29M2I69M10S                                      |  0 |\n",
       "|  0 | 26cc2e1d-c824-44a3-bb31-5fa9e952f686 | chrX | + | 71443002 | 289 | 197 | 20240530_AL5RACE002 | TTATGTAACGTACTTCGTTCAGTTACGTATTGCTCTAATACGACTCACTATGGGCAAGCAGTGGTATCAACGCAGAGTACAGGGGGGAGAGGGAGAGGGAGAGGGAGAGGGAGAGGGAGAGGGAGAGGGAGAGGGAGAGGGAGAGGGAGAGGGAGAGGGAGAGGGAGAGGGAGAGGGAGAGGGAGAGGGAGAGGGAGAGCTATTTCATTTTTTTTTTCCACATCAGATGTGGAAAAAAAAATGTCTATAGGCATTGTAATAAGGCTTGAGGGAGGCAGCAATACGTGGT                                                                                                                                                                                                                                                                                                                                                        | '+*)(($###$$%%&amp;&amp;*.679:7766689@ABCHHJHIFII;:::754333(((*&lt;???AIGHLJHNGIKHGFJSJHG&gt;:33.(''+/1566818:;?CGCSLKA=IID&gt;;6&lt;@MEC&lt;-88:988ACDEBEFDD=;ADHGB@CIHGHFLJHA97;=?&lt;=:BEF?:6;BLHEGFOOGGBCESEFKECSJFJHKMEEDDFJNLJIIC@@@&gt;B@:LJKSQKSA@GFGKHMIIJMC?&gt;@B532144//+**+'&amp;&amp;&amp;&amp;EFHGFFFEKGIJIF=&lt;&lt;&lt;?&gt;ABA,+++..*))(&amp;&amp;&amp;                                                                                                                                                                                                                                                                                                                                                        | 80S127M2D25M1I11M1D2M3I28M12S                                  | 26 |\n",
       "|  0 | 264dbaf4-b362-44f2-83b5-6f3b06aee097 | chrX | + | 71443002 | 584 | 293 | 20240530_AL5RACE002 | TTTTTTTTCCTCTACTTCGTTCAGTTACGTATTGCTCAATACGACTCACTATAGGGCAAGCAGTGGTATCAACGCAGAGTACAGGGGGGAGAGGGAGAGGGAGAGGGAGAGGGAGAGGGAGAGGGAGAGGGAGAGGGAGAGGGAGAGGGAGAGGGAGAGGGAGAGGGAGAGCTATTTCATTTTCCACATCAGATGTGGAAAAAAAAATGTACTGGCATTGTAATAAGGCTATTCTCCTCTTCTTCGTTCAGTATTGCTCTAATACGACTCACTATTGGGCAAGCAGTGGTATCAACGCAGAGGGAGAGGGAGAGCTATTTGATTTTTTTTTTTTCCACATCAGATGTGGAAAAAAAAATGTACTGGCATTCTAATCAGATAATGTTTCTGTATTATTTTATTCATTAGTGCGTTCTTGCTCTAATACGACTCACTATAGGGCAAGCAGTGGTATGAACGCAGAGGGAGAGGGAGAGGGAGAGGGAGAGGGAGAGGGAGAGGGAGAGGGAGAGGGAGAGCTATTTCATTTTTTTTTTTCCACATCAGATGTGGAAAAAAAAATGTACTGGCATTGTAATAAGGCT                                                 | $$$&amp;&amp;''%####$$$%&amp;&amp;(,.+++++*-//.///0&lt;9788:AGEFFHKJNJIHIFFGJGKJFJOGFDEF4100/01001..-*)*--211'*./.-2.---69&lt;=&gt;?=@@&gt;&lt;71&lt;?&gt;&gt;9424421/633356986567843135AA@@A?9&lt;&lt;&lt;:679::;;&lt;=&lt;&gt;?@ABA==66665..-)3051223233443521157@B??@DCAA@@@=&lt;=&lt;=?&gt;@@??:99965)%$####$$%&amp;&amp;')'%%%%%,117;=&lt;&gt;???DFGMIHKGH@AB54.&amp;&amp;&amp;&amp;+444566=CFDF&gt;=&lt;=;;==;&gt;&gt;836&gt;;&gt;9::8000,+++).0002.//1=EEED@;;DEFGKIGFHC;:9;A?BAACB????&gt;;:9:;:43,+*&amp;%$$#\"#####$$$$$$&amp;&amp;%%&amp;&amp;((((%%'''''&amp;&amp;&amp;'''''))46689;EGDBDCDAA@@B&lt;&lt;&lt;=DEEEDBCA=4333))**+44448FHCEFOC&lt;&gt;:GEB&lt;:ACC=84:;&gt;B&gt;&lt;FHHIHEFFC?=&lt;EHGGIDSSSHIIMKQJMLIHB&gt;;;=&lt;&gt;;ABDRSBEC+,?@@BBBBCCA??@B&gt;;8755459:==CEEBAB?&lt;977422/,,                                                 | 82S89M111I9M2I56M1I25M209S                                     |  1 |\n",
       "|  0 | 74b2ea2f-fd52-4ac9-ae9f-b51db22ae412 | chrX | + | 71443002 | 402 | 315 | 20240530_AL5RACE002 | ATGTTGTGTAACCCTAGGCTTCGTTCAGTTACGTATTGCTCTAATACGACTCACTATAGGGCAAGCAGTGGTATCAACGCAGAGTACAGGGGGGAGAGGGAGAGGGAGAGGGAGAGGGAGAGGGAGAGGGAGAGGGAGAGGGAGAGGGAGAGGGAGAGGGAGAGGGAGAGGGAGAGCTATTTCATTTTTTTTTTTCCACATCAGATGTGGAAAAGAAAATATATGGCATTGTAATAAGGCTCTTTTTTTGATCTATTCGTTCAGTTACGTATTGTCTCTAATACGACTCACTATAGGGCAAGCAGTGGTATCAACGCAGAGGGAGAGGGAGAGCTATTTCATTTTTTTTTTTTTTCCACATCAGATGTGGAAAAAAAAATGTACTGGCATTGTAATAAGGCT                                                                                                                                                                                                                                       | '''')&amp;%%%%%$%%%$##$$$$$$$$%&amp;&amp;&amp;%%%&amp;&amp;'***79:99:&lt;&gt;&gt;=;&lt;8)))),32234@@?@----.768779:;&lt;@@AHGB@;;7589=&gt;@@?@=8:;&lt;&lt;71&lt;&gt;&gt;@A2=&lt;&lt;==7CBCCCCEEFGBCBHHAA&gt;FHNSH&gt;C&gt;=&gt;62652432:ADFB@AABCD?D&gt;&lt;?&gt;2CDBBC@AAB@=&lt;==;&lt;DGPJKGB7++*(&amp;%%%%&amp;(''(-.24&amp;&amp;&amp;)'&amp;%$$$%%&lt;=?::555420.('&amp;$$$%&amp;&amp;'$\"##$&amp;'(&amp;&amp;'('+*))&amp;%&amp;&amp;'02-,)''('((48@@?@=&gt;&gt;FJHHMRIHLMNQIGIFEJFGD===;;;;77DJCLJSIIFJISOKHHFC@&lt;&lt;??@=CDEGJKILLIA89CC322226&lt;222:;&gt;8,++0279:=?ABBECBBB@?@&gt;&gt;&lt;;84                                                                                                                                                                                                                                       | 87S89M125I9M2I29M2I27M1I31M                                    | 15 |\n",
       "| 16 | 939aa053-38b1-49dd-b1f7-577dea3b3085 | chrX | - | 71443002 | 238 | 199 | 20240530_AL5RACE002 | CACCATAGGGAGGGATGGATGATGGAGACGGACAGGGGGGGGGGAGAGGGAGAGGGAGAGAGGGAGAGGGAGAGGGAGAGGGAGAGGGAGAGGGAGAGGGAGAGGGAGGGAGAGGGAGAGGGAGAGCTATTTCATTTTTTTTTTTCCACATCAGATGTGGAAAAAAAAATGTACTGGCATTGAAATAAGGCTTGAGGGAGGAACAATACGTAACTGAACGAAGTACAGGACAGAACAT                                                                                                                                                                                                                                                                                                                                                                                                           | $(')*(&amp;'''+))))*('&amp;%$%%('(('&amp;''((1243-,+-+-4;==ACBCA&gt;BEE-.777;GDIFBGJFGEBF@??:9&gt;FDGE;FEBB66899A87&lt;BDAB&gt;@,46&lt;??==35&lt;:?A&lt;?IHIFGFFGDBCA&gt;&gt;&gt;A@=:;@F?7444445521125:;ADB@?&lt;&lt;=4BCCDGHMHJIE43334::9&lt;&lt;&lt;988887?B988897:99899;&lt;&gt;&gt;&gt;&gt;54321400*)(&amp;&amp;$%$$$$$###                                                                                                                                                                                                                                                                                                                                                                                                           | 6S7M1D6M1I14M1I20M2I48M2D29M1D26M1I44M33S                      | 36 |\n",
       "| 16 | 03f1efb9-360a-4007-921e-27b4fd538700 | chrX | - | 71443002 | 456 | 186 | 20240530_AL5RACE002 | ATGTATTGCTCTAATACGACTCACTATAGGGCAAGCAGTGGTATCATGAAATGCAGAGTACAGGGGGGAGAGGAGAGGGAGAGGGAGAGAGGGAGAGGGAAAGGAGAGGGAGAGGGAAGAGGGAGAGAGGGTGAGAGAGAGGGAGAGGGAGAGAGAGGGAGAGGGAGAGTCATTCCATTTTTTTTTTTCCACATCAGATGTGGAAAAAAAAATGTACTGGCATTGTAATAAGGCTTGAGGGAGGCACTAAGACCACTCACTATAGGGCAAGCAGTGGGACGACGATAGGGAGAGGGAGAGGGAGAGGGAGAGGGAGAGGGAGAGGGAGAGGGAGAGGGAGAGCTATTTCATTTTTTTTTTTCCACATCAGATGTGGGAAAAAAAATGTACTGGCATTGTAATAAGGCTTGAGGGAGGCAGCAAGCACGATGAATGAGTAGGTTACACATAAACATA                                                                                                                                                                                 | --02;;*(('''(((77;BBBBDEBC@22211778=?,***+**))&amp;&amp;(&amp;&amp;&amp;)*++346&lt;?;;54.44844778&lt;:DA@@5-++),+/))1::;9;=&lt;-6+*2799.89=?54***0=//24510/)''&amp;&amp;'*/0111,,,--7:58875612594:::;3-252)))))()++,56445666:HEFFIILKISPSIPF44A?=&gt;9105:DKLIPLMSOFEGE&gt;44666777....//56454222))*****)***())124442.+++++0)'(((()**+.//&lt;BCAHGCFC76..5?&gt;BABEECFI&lt;EB;;;=C:999=@CEGG8@BCEF;FDD&lt;;;;;;=;43331/0/..//.//00;:9889677*).9=931/112210//../.**//00322CCAE&gt;==2072++++,0../.,''''())*(''(&amp;%%&amp;&amp;&amp;'')-+('*00,+%$                                                                                                                                                                                 | 61S10M1D15M4D14M1D16M1I7M4D28M2D25M1D26M1I43M209S              | 22 |\n",
       "|  0 | ef451fdc-cce0-4d71-9523-315a9edd1d3e | chrX | + | 71443003 | 370 | 288 | 20240530_AL5RACE002 | TGTGTGTGTTTACTTCGTTCAGTTACGTATTGCTCTAATACGACTCACTATAGGGCAAGCAGTGGTATCGACGCAGAGTACGGGGGGGAGAGGGAGAGGGAGAGGGAGAGGGAGAGGGAGAGGGAGAGGGAGAGGGAGAGGGAGGGAAAGGGAGAGGGAGAGGGAGAGCTATTTCATTTTTTTTTTTCCACATCAGATGTGGAAAAAAAAGAAATATTATGGCATTGTAATAAGGCTTGAGGGAGGCTCTAATACGACTCACTATAGGGCAAGCAGTGGTATCAACGCAGAGGGAGAGGGAGAGCTATTTCATTTTTTTTTTTTTCCACATCAGATGTGGAAAAAAAATGTACTGGCATTGTAATAAGGC                                                                                                                                                                                                                                                                       | ##$#$$$$$$&amp;%%&amp;&amp;'*59::;:94422*****4410134&lt;6333333335????ALJMJNONIJGHG8(((((IGHJJIE===@LFDEEDFDA@CFDEB@CECEF8CCBDE&gt;FDBB?8@HFGEDFCCE88:=?&gt;8887120-*+/))+)+,-3:9;&lt;7@GGJCBDINGGEHILC==&gt;;?&gt;EHJQQ=AH))DC=::::&lt;?B@=76:2/..-()(')((''(*+2&gt;BBCBCBCEGHGHOKSJPJQOFHLGEEEEGGMILOKHJJLNJGGNKEEDEFIKIFGFFFEGFLJKJLHHJ&gt;KNHIGFHOLLIDFIJ9998&lt;A&gt;EHHKLJLHA6322310-***/))+/03465887888:@@?AA@ADBAA?==:6                                                                                                                                                                                                                                                                       | 82S59M2D27M104I9M2I29M1I57M                                    |  8 |\n",
       "| 16 | cee32268-f815-405b-93d4-e7af03b003cc | chrX | - | 71443003 | 392 | 299 | 20240530_AL5RACE002 | CAACGTATTGCCTGAATATGACTCACTATAGGGCAAGCAGTGGTATCATGAGAGTACAGGGGGGGAGAGGGAGAGGGAGAGGGAGAGGGAGAGGGAGAGGGAGAGGGAGAGGGAGAGGGAGAGGGAGAGGGAGAGGGAGGGAGAGCTATTTCATTTTTTTTTCCACATCAGATGTGGAAAAATGTACTCGCATTGTAATAAGGCTTGAGGCAGGCCTAGTACGACTCACTATAGGGCAAGCAGTGGTATCAACGAGAGTACATGAGGGAGAGAAATGGAGAGCTATTTCATTTTTTTTTTTTCCACATCAGATGTGAAAAAAAAAATGTACTGGCATTGTAATAAGGCTTGAGGGAGGGCAGCAAGACCAGACTGAACCAGTAGAGGACACA                                                                                                                                                                                                                                                 | &amp;%$%&amp;'+%$%+&amp;%%%%&amp;(*.5789&lt;==?&gt;11---57675.+++-++,-+,6&lt;&lt;&lt;=A@;;9,-6;;?@4:43894:?&gt;@@37&gt;&lt;?77;AACD&lt;CAADA&lt;.--4,+.@=?B0:9@=++0;;??,98&gt;BC7=&gt;=?=2=+-)6&lt;=ECDDDCB@?&lt;6569:;&lt;&lt;=A&gt;&gt;??&lt;&lt;&lt;&lt;==H&gt;&lt;;=778+&lt;&gt;&gt;;*****ADOSLLLQIIKQFLL&lt;;(''((HFG,,,,,DDCEDEDDGHFFFEFGGCEFDEC&gt;===&gt;=;.+**.;;;;;A?A?8(.*&amp;&amp;()%&amp;&amp;&amp;'89;67777:::9=@?=&lt;&lt;=&gt;?=82125@FJGHIFKGCDBBC@?65457BBDHLJHKIJGRNHKJHBABA&gt;:5441034*(++++*&amp;'''''''**'&amp;&amp;'''((,+$$$$$$$$$$%                                                                                                                                                                                                                                                 | 59S77M2D9M94I7M7I4M1D3M3I9M4I40M1I41M34S                       | 18 |\n",
       "|  0 | 398c0c82-651e-450a-add1-7fd89a08cbee | chrX | + | 71443007 | 353 | 267 | 20240530_AL5RACE002 | ATGTATCTTACTTCGTTCAGTTACATATGTGTCTAATACGACTCACTATAGGGCAAGCAGTGGTATCAACGCAGAGGGAGAGGGAGAGGGAGAGGGAGAGGGAGAGGGAGAGGGAGAGGGAGAGGGAGAGCTATTTCATTTTTTTTTTTCCACATCAGATGTGGAAACTAATGAGACTGGCTCTAGGGCAAGCAGTGGTATCAACGCAGAGGGAGAGGGAGAGGGAGAGGGAGAGGGAGAGGGAGAGGGAGAGGGAGAGGGAGAGCTATTTCATTTTTTTTTTTTCCACATCAGATGTGGAAAAAAAAATGTACTGGCATTGTAATAAGGCTTGAGGGAGGCAGCAATACGTA                                                                                                                                                                                                                                                                                        | #$%'%$$$%%%%+*,-1//001.,((''''&amp;'''&amp;..288767555779...../,++,-.??EFHA@@@==;59//2;&gt;BAC@9:8676.0/111278446@@FFDBAGSLJS?DHSHHAAEEFDBGJNRKMILSDBC&lt;&gt;=:KKKSLD@B:;888&gt;&gt;&lt;&lt;&lt;EDB?&gt;A??110'&amp;&amp;&amp;&amp;(**+------DEFGHHHSSLJHHHAAAA==:99&gt;AA&gt;DAA=CDFQMHMHIHIFCCFJIJFILGDE?;EGIIHBMKIGHGIKLGDB&gt;:833///0-/001@?FJJJKSR@B++AAA@B&gt;&gt;@?&lt;9677A:1100027889;;&lt;BCDA?43349==&gt;&gt;&gt;8899DEEA@&lt;;::=@87+)(                                                                                                                                                                                                                                                                                        | 76S54M75I95M1I42M10S                                           | 54 |\n",
       "|  0 | 0964dc13-05e0-49d0-8783-425ebfcb4d7d | chrX | + | 71443008 | 251 | 171 | 20240530_AL5RACE002 | TTTTTTTGCTTGGTTCAGTTCTGGTATTACTATAATACGACTCACTATAGGGCAAGCAGTGGTATCAACCCAGAGAGAGAGAGACAGAGTGCAGGGGGGGAGAGGGGAGAGGGAGAGGGAGAGGGAGAGGGAGAGGGAGAGGGAGAGGGAGAGGGAGAGGGAGAGGGAGAGGGAGAGGGAGAGCTATTTCATTTTTTTTTTTCCACATCAGATGTGGAAAAAAGAAATGTACTGGCATTGTAAGTGAGGGT                                                                                                                                                                                                                                                                                                                                                                                              | ####$%%###$$')((((((&amp;'&amp;''&amp;&amp;(%%%%%%&amp;&amp;.6/////22223888@BB&gt;&gt;&gt;&gt;&gt;?CBA@=*)))((''''((**,-0/3532222**)))-/0/,--.*-03.38&gt;&lt;;;=?ABA:AFE?BCIHGK;?A&gt;87619&lt;@?@&lt;EDDA?=FEFDCBCFHMHEEGFHECFEHA&lt;;=&lt;;;7.7:;::;;::555556:&gt;?@BAA?&lt;77990100012.---/320/**'&amp;))*00124?@CBB63210*))'&amp;                                                                                                                                                                                                                                                                                                                                                                                              | 72S17M1I4M1D3M3D6M1I87M1D31M2I19M8S                            | 13 |\n",
       "|  0 | 7627b2b6-dd89-4699-8248-9cc76c4c9426 | chrX | + | 71443008 | 254 | 179 | 20240530_AL5RACE002 | CATGTTATGGCCTGTACTTGGTTCAGTTCGGTATTGTCATGCGTTGGCTGTAGGCTGGGTGGTTGTGGACAGAGAGAGAGAGAGAGAGAGAGAGAGAGAGAGGGGGAGAGGGAGAGGGAGAGGGAGAGGGAGAGGGAGAGGGAGAGGGAGAGGGAGAGGGAGAGGGAGAGGGAGAGGGAGAGGGAGAGCTATTTCATTTTTTTTTTTTCCACATCAGATGTGGAAAAAAAAATGTACTGGCATTGTAATAGGCT                                                                                                                                                                                                                                                                                                                                                                                           | '&amp;&amp;&amp;(*)('%$###$$$$&amp;$&amp;'(*.---)(''&amp;')('%$%$$&amp;&amp;''((**.(''%%'&amp;&amp;%&amp;&amp;''$$$%%%%%$#$%&amp;()+-.224588::;;;;::9:7860,+)().22243345555522229;?&gt;&lt;:6:&gt;DB@:9&lt;D??@?B@=5.7:BAA@?@?;::&lt;&gt;?&gt;9368=::65:?&gt;=;==522165556;&lt;=??&gt;=:=&gt;&lt;JSSSSKG&gt;&lt;88998:::;;;;?99?;0,++//45567?@@BFD&gt;=-**)&amp;'$%                                                                                                                                                                                                                                                                                                                                                                                           | 75S148M1I25M1D5M                                               | 20 |\n",
       "| ⋮ | ⋮ | ⋮ | ⋮ | ⋮ | ⋮ | ⋮ | ⋮ | ⋮ | ⋮ | ⋮ | ⋮ |\n",
       "|  0 | ca106d19-ca3f-4d5c-aeef-67d9d4490a29 | chrX | + | 71443135 | 154 | 52 | 20240530_AL5RACE002 | ATCACGTACTTCGTTCAGTTTTACGTATTGCTCTAATACGACTCACTATAGGGCAAGCAGTGGTATCAACGCAGAGTACATGAGGGAGAGGGAGGACTCTGATTTTTTCCACATCAGATGTGAAAAAAAAAATGTACTGGCATTGTAATAAGGC                            | &amp;&amp;#$$$%&amp;''((*,-+,,--+(()589&lt;&gt;&gt;??FHDCDEFCC&lt;::::ABB?????HGHHFGRIFIJIDJNGDDAACCGBA?&gt;6456301644.,.&amp;&amp;%%%''(*229AEB&gt;66689BAABCHFBD?E@JJGHGECGFGHHFHHFE=;87755442                            | 102S20M1I31M    |  5 |\n",
       "| 16 | 03004162-2736-496f-872e-891f1a354474 | chrX | - | 71443135 | 108 | 63 | 20240530_AL5RACE002 | CATTTCCTTTTTTCCACATCAGATGTGGAAAAAAAATGTACTGGCATTGTAATAAGGCTTGAGGGAGGCAGCAATACGTAACTGAGTCAGTAGATGTAGACATAACAC                                                                          | #''&amp;'(+))*031127966688?&gt;10ABCDA?;?&lt;@&gt;&gt;&gt;??ACHEEDDDEE&lt;&lt;;;&lt;?@&gt;&gt;0/2217777;860---,))('&amp;%&amp;'&amp;&amp;'(((('&amp;%%&amp;((+)(('%$$$                                                                          | 7S63M38S        | 36 |\n",
       "|  0 | 9c09f576-c27e-4155-9b8a-abd683cefba0 | chrX | + | 71443136 | 171 | 57 | 20240530_AL5RACE002 | GTCCTCTACTCGTTCAGTTTCGTATTGCTCTAATACGACTCACTATAGGGCAAGCAGTGGTATAGACGCAGAGTACAGTGGGGGAAAGGGTTTTTATCATTTTTCCACATCAGATGTGAAAAAAAAATGTACTGGCATTGTAATAAGGCTTGAGGGGAGCGACAATGGTAA           | ###$$$%%'(*)*,+-/./*&amp;''(+++,4..+++,,544555555587777HLHLHIHINKJJ222224DDEEFAA;61.(''(()*)))(()(+))'&amp;'''-0/3//;@@A@?@BHEC;&lt;==98877430'''''378886666:;;331//024**50.-,,,.,+)))           | 99S57M15S       |  6 |\n",
       "|  0 | ef5bb7ee-168c-4a3f-a3d4-12f548b50da8 | chrX | + | 71443136 | 181 | 57 | 20240530_AL5RACE002 | ATGTTTTTGTAGTTATACTGGTTCAGTTGCGTATTGCTCTAATACGACTCACTATAGGGCAAGCAGTGGTATCAACGCAGAGTACATGAGGGAGAGGGAGGGCTTGATTTTTCCACATCAGATGTGAAAAAAAAAATGTACTGGCATTGTAATAAGGCTTGAGGAGGGCGCAATACGTAAC | #$$$$$'''&amp;$$$$####$%%%''++++))***05558&gt;==&gt;&gt;BCEDEFHIJPJPGFEHFFFEDBBBB@A@&gt;/*((()4445544332/++++354432564431-,,*)1033,,::98888996668;FGFDDDB?@?&gt;&gt;8788EDAA;:::;;;7660---,+,++*((()%%$$$%% | 107S19M1I37M17S |  6 |\n",
       "|  0 | 87d58aa7-0e27-465c-b714-2decebb8ce5e | chrX | + | 71443136 | 181 | 61 | 20240530_AL5RACE002 | GTGTTATGTTAACCCTTTCGTTCATTACGTATTGCTCTAATACGACTCACTATAGGGCAAGCAGTGGTATCAACGCAGAGTACATGGGGGGGGGGGGAGGGCTGCCCGTTTTTCCACATCAGATGTAAAAAAAAAATGTACTGGCATTGTAATAAGGCTTGAGGGAGGCGGCAATTTGGTA | '''*,***)%$$%%&amp;&amp;(+&amp;%#$#%%%%&amp;%%%**+-8::;;;&gt;A0///-,++++411246GGDEPHBBB@@55555=&lt;&lt;&lt;&lt;=0+++*,+.&gt;?&lt;:::9861**)*)('%%%&amp;&amp;./034589:CDBCAA.--.&lt;;;?BA@?ACCABCBDFEDEDDDEIGFEFGB@@AEDEDA,++++1.*(()' | 108S61M12S      | 20 |\n",
       "|  0 | 080b52ca-6b7d-461c-8bd5-93eec7cb4e58 | chrX | + | 71443136 | 174 | 63 | 20240530_AL5RACE002 | GTTATGCATCTTACTTCGTTCAGTTACGTATTGCTCTAATACGACTCACTATAGGGCAAGCAGTGGTATCAACGCAGAGTACATGAGCAGGCTTTATCTCATTTTTCCACATCAGATGTGAAAAAAAAAATGTACTGGCATTGTAATAAGGCTTGAGGGAGGCAGCAATACATT        | $(+*+)%$$###$',)&amp;'(34&gt;???&gt;&lt;66567:)))))+,CFDDFEFGGIII=&lt;&lt;&lt;=JHLIHOMJIJHI533322&lt;::::9987/.+(%%&amp;''(+)*'%%%&amp;-,??=&lt;-.ABDDDDDA&gt;1....887770+)*+--1114556:9:9411/.,*''(.83;;668=&lt;&lt;=&lt;:,+*        | 101S19M1I43M10S | 24 |\n",
       "|  0 | 0112f62b-2ec6-49a8-9375-35cd111cde6b | chrX | + | 71443136 | 156 | 52 | 20240530_AL5RACE002 | TTTTTTCATCTTACTTGGTTCAGTTACGTATTGCTCTAATACGACTCACTATAGGGCAAGCAGTGGTATCAACGCAGAGTACATGAGGGAGAGGGGAGAGCTAGTTTTTCCACATCAGATGTGAAAAAAAAAATGTACTGGCATTGTAATAAGGCT                          | #$%&amp;'%$##$%&amp;')+-))**+..--,)%%%%**+&lt;===&gt;@OI;9992////2+****-::999:BFJEIFLNOGGFGFGFFLEF&lt;;89/++/./100.)(()&amp;$%%$-007//3402211243349&lt;BCCCCAA@DCDGGGPIHE&gt;&lt;999766510                          | 104S19M1I32M    |  5 |\n",
       "| 16 | 89bd3c27-67f4-41c1-a11e-0b6a8a42a364 | chrX | - | 71443136 | 168 | 63 | 20240530_AL5RACE002 | AATGTATTGCTCTAATACGACTCACTAGGGCAAGCAGTGGTATCAACGCAGAGTACATGAGGGAGAGGGAGTATCTTTTTCCACATCAGATGTGAAAAAAAAAATGTACTGGCATTGTAATAAGGCTTGAGGGAGGCAGCAATACGTAACTGAACCAAGAACAGGCAA              | ()),.44,*)))+,,,--24344---/4998:&lt;ABE;9999B&gt;=&gt;&gt;&gt;BDBAA@@CACB31222&lt;3*,)))'''(;:=;::;@EEDCCEEGHFFKJ@&gt;2213:@@ACEIFGGHFECCBCCBCAFDHHEHC3A@&lt;&lt;:997444211/..000/'''&amp;$%%%(*()'$$$#              | 75S19M1I43M30S  | 24 |\n",
       "| 16 | 382e9f39-057c-435b-9458-a8ac99027c90 | chrX | - | 71443136 | 133 | 59 | 20240530_AL5RACE002 | CACTATAGGAAGCAGTGGTATCAACGCAGAGTACATGAGGGAGAGGAATCCTTTTTCCACATCAGATGTGAAAAAATGTACTGGCATTGTAATAAGGCTTGAGGGAGGCAGACGTAACTGAACGAGGTTACAC                                                 | .//0611448:9&lt;@:9988989&lt;&lt;&lt;@CEFECB&gt;=;:8-.-+,)&amp;&amp;%%$$%+,/-..//4421///0--.15./29::::&gt;=?@?:886674347:322///+++*....+****+5565++&amp;%$###$$%%%%                                                 | 51S19M3D40M23S  | 22 |\n",
       "| 16 | 688a9046-a78f-4833-b383-cf325cb4315f | chrX | - | 71443136 | 108 | 63 | 20240530_AL5RACE002 | ATTTCCTTTTTCCACATCAGATGTGGAAAAAAAAATGTACTGGCATTGTAATAAGGCTTGAGGGAGGCAGCAAGACCTAACTTAAAATCAAATGGTAGCATGTGACAC                                                                          | )*((*0.0/1335::::9BCFCB@A&gt;&gt;32-,14778=BEDDDCBBAA&lt;;BAABBABB?CA262+++++3++.-++++,)'''%&amp;%%$%$&amp;%$%%$$$$$%%%%%&amp;%%$                                                                          | 6S20M1I42M39S   | 33 |\n",
       "|  0 | 053246c6-2109-4178-a3cc-4bebcf3ff55c | chrX | + | 71443137 | 171 | 62 | 20240530_AL5RACE002 | TTGCCTGTACTTGGTTCAGTTACGTATTGCTCTAATACGACTCACTATAGGGCAAGCAGTGGTATCAACGCAGAGTACATGAGGGAGGGGGAAGCTATATTTTCCACATCAGATGTGAAAAAAAAAATGTACTGGCATTGTAATAAGGCTTGAGGGAGGCAGCAATGCATT           | $$$%))),(((-)**,+222300-,++*+**++((((,7////00CDDEDDDDDHJJEFGFGIIIEBAA??AADKSEFDD&lt;9::723./0.1*(())(%$%&amp;+.99:88)(((()+(()24FGHFDDAABCFIJHSJGHFFCBC?=&lt;;99:99:;;@BB&gt;8//.33,(%%$           | 99S18M1I43M10S  | 21 |\n",
       "|  0 | b6a71db7-a61a-4e33-977c-ecf8811af270 | chrX | + | 71443137 | 166 | 61 | 20240530_AL5RACE002 | TTGTATGCTGCTTGACTAGTACGTATTGCTCTAATACGACTCACTATAGGGCAAGCAGTGGTATCAACGCAGAGTACATGAGGAAAGGCTGTTTTGATTTTCCACATCAGATGTGAAAAAAAAATGTACTGGCATTGTAATAAGGCTTGAGGGAGGCAGCAATAGG                | ##$%%%##$$$%%$%%&amp;%%%&amp;&amp;&amp;&amp;&amp;58:9===;=&gt;IFA@@AACBB@@((((()....//:;AAA877767742231100**)(''&amp;%&amp;'*****)(**('60:89=CCMIJNGIG@==FDEGHIIEFDFDHSOLSFHHHGSHSOKJSHDEIOBBDC@.---/5(&amp;%                | 97S61M8S        | 22 |\n",
       "|  0 | 6e5d9060-7c57-428e-8d6d-8d61e6a161df | chrX | + | 71443137 | 168 | 59 | 20240530_AL5RACE002 | CTTATGTAACCTACTGGTTCAGTTACATATACTCTAGACTCACTATAGGGCAAGCAGTGGTATCAACGCAGAGTACATGAGGGGGAAGGGGAGCTATTAGTTTTCCACATCAGATGTGAAAAAAAAAATGTACTGGCATTGTAATAAGGCTTGAGGGAGAGCAATACA              | #$%#$%%$%%%&amp;&amp;')''(,,....*)))*-+*+)(&amp;&amp;'&amp;'(--...&lt;&lt;;&lt;==@@AAAAB???&gt;&gt;&gt;&gt;8344347779:&lt;4545;@?A&lt;99&lt;;&gt;0,,,,4)))))-)1&amp;'@@&lt;=&gt;&gt;?@A:997&lt;DFFSGEDBC@&gt;???ACAB@@====&gt;&lt;;;&gt;&gt;&lt;;:86544444::.-'              | 100S18M1I40M9S  | 16 |\n",
       "|  0 | 16800665-f024-4826-8ce8-2fb161df30c2 | chrX | + | 71443137 | 168 | 62 | 20240530_AL5RACE002 | ATTGTAACCTACTTCGTTCAGTTACGTATGAATACGACTCACTATAGGGCAAGCAGTGGTATCAACGCAGAGTACATGAGGGAGAGGAGCTTTAATTTTCCACATCAGATGTGAAAAAAAAAATGTACTGGCATTGTAATAAGGCTTGAGGGAGGCAGCAATACGTTA              | $%%$$%#####$%'%&amp;'(&amp;')))*+***.''(,-BCCBBBEEIFKIMLMIJQHIIINJLQKKPCCEBDAA?@A?&gt;&lt;;9959889877''(),-**+,,436/0CDEFIHLHJFE@=@EHIJHE?&gt;&gt;?EIKOMNKJKSGFEEDCCCFKDBBE?BCA=&lt;&lt;&gt;54444,*)'              | 95S18M1I43M11S  | 21 |\n",
       "|  0 | 1fa780c8-c1b3-4c8e-a561-caf1822a3f8d | chrX | + | 71443137 | 177 | 61 | 20240530_AL5RACE002 | TTGTTTTGTTTCTCACCTTTGATCGAGTTCAGGTATTTGTTCTAATACGACTCACTATAGGGCAAGCAGTGGTATCAACACCAGAGTGAGAGGAAGGCTGTTTTCATTTTCCACATCAGATGTGGAAAAAAAATGTACTGGCATTGTAATAAGGCTTGAGGGAGGCAGCAATACATT     | ####$$%$$%&amp;$$$$%&amp;(+*$$$#$%&amp;&amp;'&amp;'(((((**%%&amp;&amp;&amp;&amp;**DB&gt;=&lt;==BCDEG,,,,,/GGHEEDEDECA1000*++('%(()0.,./-//''''.-,..))''3+6-.&gt;BDEFECCCE&lt;;:9&lt;&lt;DDFEDDDDGHISHKIIHKKMKJLIHJKBABCA?CB@@@@;7643*))     | 106S61M10S      | 32 |\n",
       "|  0 | e883ec68-efb5-4d2b-a5e4-1dc8b0c7763e | chrX | + | 71443137 | 179 | 63 | 20240530_AL5RACE002 | ATGTTATCATCTTACTTCGTTCAGTTACGTATTGCTCTAATACAACTAGCTATAGGGCAAGCAGTGGTATCAACGCAGAGTACATGAGGGAGAGGAAGAGTTTTCGTTTTCCACATCAGATGTGAAAAAAAAAAATGTACTGGCATTGTAATAAGGCTTGAGGGAGGCAGCAATACATT   | $$$%%$$####%%%&amp;')'(),,,-****&amp;'''()**++++378433433333510//,/4--55678;;;&lt;&lt;=&gt;=&gt;@==&lt;:6554****777776..0-+'''(&amp;%%%'31900;;&lt;&gt;&gt;&gt;&gt;==&lt;&lt;85?&gt;&gt;&gt;&gt;??&lt;9320,,+,,2;;:99:::&lt;&lt;&lt;;;1***899:;;;;::9976-,)   | 106S18M2I43M10S | 15 |\n",
       "|  0 | 7c586ee0-bba8-4921-86ce-13b96bc6dfc0 | chrX | + | 71443137 | 171 | 61 | 20240530_AL5RACE002 | TTGTATATTTTACTTCGTTCAGTTACGTATTGCTCTAATACGACTCACTATAGGGCAAGCAGTGGTATCAACGCAGAGGGGAGAGGAAAGCTGTTTTCATTTTCCACATCAGATGTGGAAAAAAAATGTACTGGCATTGTAATAAGGCTTGAGGGAGGCAGCAATACATTA           | $$$%$$$&amp;''('((('(*+)+...,,-./5784554355&lt;&gt;&gt;&lt;;;&lt;?@NMLGMIIMSMKSHOOIKRJJ&lt;33333&lt;;888&lt;2+369:520//0*)))('++&amp;%::?77CEBCCDECD&lt;/--.69BBCBBEDFEOKKFJJGIGFGFJJIGF74445@&gt;A&gt;&lt;;=?=;&lt;63*)(&amp;           | 99S61M11S       | 32 |\n",
       "|  0 | 61e4a53d-5a58-429e-8fae-330b958627b5 | chrX | + | 71443137 | 153 | 49 | 20240530_AL5RACE002 | GTGTAACCTACTTCGTTCATTTACGTATTGCTCTAATACGACTCACTATAGGGCAAGCAGTGGTATCAACGCAGAGTACATGAGGGAGAGGAGAACTGTCTTCGTTTTCCACATCAGATGTAAAAAAAAAATGTACTGGCATTGTAATAAGGC                             | $$$%$$%''&amp;&amp;&amp;'%&amp;(-((&amp;'''*99:;==11222:::83333=DECCGCBBDEFGGIHJLHMILIE?&gt;&gt;=&gt;GFGLLAA??00//1-5776*).+((&amp;'&amp;''(&amp;''&amp;,24().01;;;;;=)(():BAA@=:65--,,-3?BE==332/+*)&amp;                             | 104S49M         |  2 |\n",
       "|  0 | 9c272fb2-b48c-445b-a32a-c69233c8678f | chrX | + | 71443137 | 152 | 50 | 20240530_AL5RACE002 | ATCACATCTACTCGTTCAGTTACGTATTGCTCTAATACGACTCACTATAGGGCAAGCAGTGGTATCAACGCAGAGTACATGAGGGAGAGGAGAACTCTATCATTTTCCACATCAGATGTGAAAAAAAAAATGTACTGGCATTGTAATAAGGC                              | #$%&amp;&amp;%%(*+,332342443489851///....--./0=?@C@:99990---.3JFEBCCEMSJG@????BH&gt;;;&lt;:&lt;76....+*+.++'(-,,-*++,,12325/=..///55557:6677998&gt;FH?=&lt;&lt;65554883311/1112220                              | 102S18M1I31M    |  2 |\n",
       "|  0 | c53b2246-a543-43d3-a4ff-b0ec1896109b | chrX | + | 71443137 | 169 | 57 | 20240530_AL5RACE002 | TAACCCTTTCGTTCAGTTACGTATTGCTCTAATACGACTCACTATAGGGCAAGCAGTGGTATCAACGCAGAGTCTGCATGAGGGGAGAGGGCTCTTAGTTTTCCACATCAGATGTGAAAAAAAAAATGTACTGGCATTGTAATAAGGCTTGAGGGGAGCAGCAATACAT             | #####$%&amp;&amp;&amp;')*.345667451,+++,33355@=87668&lt;&lt;==?BABBA&gt;?&gt;&gt;&lt;&gt;=;8888::::55667==87655779:750..***(%%%$$#$''&amp;358.-,)))((()28986&lt;@GGHEDCAA@@@@&gt;&gt;&gt;&gt;?AA@A@ACA&gt;===;&lt;987.84-,,11273-**             | 98S18M1I38M14S  |  2 |\n",
       "|  0 | c5d9908c-fc58-4aab-be73-44c81a200b43 | chrX | + | 71443137 | 167 | 61 | 20240530_AL5RACE002 | ATGTTTTTACTTCGTTCAGTTACGTATTGCTGATACAACTAGCTATAGGGCAAGCAGTGGTATCAACGCAGAGTACATGAGGGCAAGCTGTCTTCATTTTCCACATCAGATGTGAAAAAAAAAATGTACTGGCATTGTAATAAGGCTTGAGGGAGGCGGCAATTCAT               | \"\"\"\"#####$&amp;(''(++,++++++,+,,*))%%%&amp;')(())*****&gt;==?CGHIFCCDBCDAA/.....111775422)%%%&amp;$&amp;'((*+-****,/..44A11&gt;@=&gt;&gt;&gt;&gt;@G?&gt;===&gt;FJIIDDAA?&gt;&lt;&lt;=?CEEFJGIGIISGGJ:432332860/04-+,,---               | 96S18M1I42M10S  | 16 |\n",
       "|  0 | ec8d65d8-89fe-4431-b8bb-f68626f35f12 | chrX | + | 71443137 | 152 | 51 | 20240530_AL5RACE002 | ATGTGTAACCTACTCGTTCAGTTACGTATTGCTTTAATACAACTAGCTATAGGGCAAGCAGTGGTATCAACACAGAGTACAGTGAGAAAGGGCTTCTCAGTTTTCCACATCAGATGTGAAAAAAAAAATGTACTGGCATTGTAATAAGGCTA                              | ,,,-..,***)))*('''')*)))*****-.-/,++,,58/...))))));:8;&gt;HGLGGHIHAAA@2211163323336421/.,(***+)(()&amp;&amp;%%$%$%05912?A5444458222479HFC=&lt;&lt;&lt;@@@@BCCIMJFE9887899443                              | 100S18M1I32M1S  |  2 |\n",
       "|  0 | 3224e2ab-54a8-49e2-ad66-571145c7cc80 | chrX | + | 71443137 | 162 | 60 | 20240530_AL5RACE002 | ATGTCCTGTACTTCGTTCAGTTACGTATTGCTCTAATACGACTCACTATAGGGCAAGCAGTGGTATCAACGCAGAGTACATGACGGCTTCATTTTCCACATCAGATGTGAAAAAAAAAATGTACTGGCATTGTAATAAGGCTTGAGGGAGGAGCAATACATT                    | $%%(&amp;$$&amp;&amp;(--/-/0&lt;=DCDEEFFFEGIGEHIGHMNKGIIHJFDCCFF;999:GHKJJGHIGSJSIKKIJKGGFHGGN@=/%$$$$%&amp;$%&amp;''/0=.,---===&gt;?A????DFSSJKIHGMHKORNSKPLIKIKJJIMIDHHCBADEBB?&gt;&gt;&gt;&gt;?@;:--+                    | 91S18M1I41M11S  | 16 |\n",
       "|  0 | 516647a1-edeb-49a8-a72b-fe001e5ba5f3 | chrX | + | 71443137 | 176 | 63 | 20240530_AL5RACE002 | ATGTTTATGTGCAGCACCCCTGGACACATGGTGTTCTAATACAACTCACTATAGGGCAAGCAGTGGTATCAACACAGAGTCATGGGGGAGGAAAGCTATCTCATTTTCCACATCAGATGTGAAAAAAAAAAAAAATGTACTGGCATTGTAATAAGGCTTGAGGGAGACAATGCATT      | #$$%&amp;&amp;$%&amp;&amp;%$$$$$#$$%%$$$$$$$$$%%())))))*,/.....11223)((()&lt;&gt;&gt;&gt;@ABB?A@@6555+++*+45.---868=;.+++../0/0-----1184;555?;&lt;;99:=75327;&lt;&lt;;:8774*))(%%%&amp;&amp;(9@CBDCCCCHEFDC?9776603)&amp;&amp;&amp;.%%%$&amp;      | 103S18M5I40M10S | 10 |\n",
       "|  0 | 879ac3cf-81c7-4d56-8f61-c735c667ee1f | chrX | + | 71443138 | 154 | 51 | 20240530_AL5RACE002 | TTATGTTAACCTACTTCGTTCAGTTACGTATTGCTCTAATACGACTCACTATAGGGCAAGCAGTGGTATCAACGCAGAGTACATGAGGAGAGGAGGACTGATATTTCCACATCAGATGTGAAAAAAAAAATGTACTGGCATTGTAATAAGGCTT                            | #$#$%%%%$$$$$$$'''+-,//.-+'&amp;&amp;&amp;)677&lt;==677=&gt;BDDD@@??@ADDDIOJJHKKJMSMSMNJNJLJGNILLIPSII@&gt;;4*()()&amp;')&amp;$$##$'(*+(//9&gt;??DIDEGHGGA@FHGEFHJMEI32234BFQKFKEECA&gt;?;76-                            | 103S17M1I33M    |  2 |\n",
       "| 16 | a88745a1-358a-4656-b20c-b99fdff59a34 | chrX | - | 71443138 |  97 | 61 | 20240530_AL5RACE002 | ATTTCCTTTTCATATCAGACTGTGGAAAAAAAATGTACTGGCATTGTAATAAGGCTTGAGGGAGGCAGCAATACGTAACTGAACGAGTAGGGAACAA                                                                                     | $&amp;&amp;(+*+**+,--,-.0024976:@AABDDB?@@?@@FEFDDAABBBEBBCBAECDFA;AA2222384453,**++/00101++++)'&amp;&amp;%%&amp;&amp;$$$                                                                                     | 6S13M1I47M30S   |  8 |\n",
       "| 16 | fa723c1d-792e-45ed-a787-9b24c420f901 | chrX | - | 71443138 | 180 | 56 | 20240530_AL5RACE002 | AAAATGTATTGCTCTAATACGACTCACTATAGGGCAAGCAGTGGTATCAACGCAGAGTACATGAGGGAGAGGGGAAAAGCCATTCACTTCCTTTCCACATCAGATGTGAAAAATGTACTGGCATTGTAATAAGGCTTGAGGGAGGCAGCAATACTCACAATCTAACCAAGTATAATACAA  | &amp;)0&lt;@HHIHFEFGEIHGGJGHLKJMHIJLLIIIIGIJHLNJJLKMSMGGJFOKOKKSJNPKHJCFBA/2-974,00..-,&amp;%&amp;%%&amp;%&amp;&amp;)).*)+*+,1,+**))*,0:8-49:&gt;?IHGENFKIIPIMHIJJF333333&lt;:881,,+'''%$$#$%&amp;%&amp;&amp;&amp;'*-+*),&amp;%$$$%%$%$$$  | 91S17M4D39M33S  | 19 |\n",
       "|  0 | 047fd729-e227-41c3-88f5-6c1c03154c7b | chrX | + | 71443139 | 152 | 47 | 20240530_AL5RACE002 | ATATGTACCTGTACTTCGTTCAGTTGCGTATTGCTCTAATACGACTCACTATAGGGCAAGCAGTGGTATCAACGCAGAGTACATGAGGGAGAGGGAAGGGCTTGGTTCCACATCAGATGTGAAAAAAAAATGTACTGGCATTGTAATAAGGC                              | &amp;&amp;$&amp;')'&amp;&amp;%%&amp;&amp;''/(((((6444('''(.111122345688444566=&gt;?&gt;=&lt;=&gt;BDBB??AEDDDC;:9:9&gt;BBBGGDDDECB@CA&gt;=&lt;:93.,('&amp;%$$$&amp;))))''&amp;+***,,.0/-.-0010010/.-//336EFECC???&lt;;:94                              | 105S47M         |  2 |\n",
       "| 16 | 78ecd645-cd00-4a56-a5cb-3137f661fba1 | chrX | - | 71443142 | 151 | 56 | 20240530_AL5RACE002 | ACACCATAGGGCAAGCAGTGGTATCAACGCAGAGGGAGAGGGAGAGTGGTTGACTTCCCTTCGGCACATCAGATGTGGAAAAAAAATGTACTGGCATTGTAATAAGGCTTGAGGGAGGCAGCAGACGTAACTGAACGAAGCAGAGGGCAGT                               | ,-...&lt;=11111CDIJMSJ@GFMIINSKRNPJSLPIF=48875332/*%%$%&amp;&amp;+'('&amp;%%%'/0?&gt;&gt;?&gt;DCDCBBDCF@@???CCEPFMKSLSILNKLQPJKLLMLKKE77&lt;&lt;/.+**+*)))++016771./.,')'&amp;%&amp;&amp;&amp;'$#####                               | 64S56M31S       | 18 |\n",
       "| 16 | c97cbfa6-8e4b-45ae-89e3-cde48d863bb0 | chrX | - | 71443143 |  95 | 56 | 20240530_AL5RACE002 | TCCCTTTGACATCAGATGTGGAAAAAAAAATGTACTGGCATTGTAATAAGGCTTGAGGGAGGCAGCAATACTAACTGAACCAGTAGAATGACACA                                                                                       | '(.02,,+-.+++++995495511101224-,,,++,+,11-,,,,,754..../(02(&amp;&amp;%%)(((&amp;&amp;&amp;%%+****+'%%$$###%$$%&amp;%%%%                                                                                       | 8S13M1I42M31S   | 21 |\n",
       "\n"
      ],
      "text/plain": [
       "       flag qname                                rname strand pos      qwidth\n",
       "1       0   01308af7-2286-4252-8fbc-d3b0889b9ef5 chrX  +      71442975 226   \n",
       "2       0   72c19bb4-52bc-4e37-b8a4-7fba639cfd22 chrX  +      71442976 235   \n",
       "3       0   4593102a-a148-49b8-8d76-c4d3ef74bb13 chrX  +      71442976 632   \n",
       "4      16   f4a4c411-859c-4adf-94ff-b323b44d80ca chrX  -      71442976 425   \n",
       "5      16   39d89551-2466-4ffd-b912-92422161676f chrX  -      71442976 400   \n",
       "6      16   2dec6b2f-6baf-43f7-ad1c-464207168d01 chrX  -      71442976 204   \n",
       "7       0   3b47decc-609c-4e14-a545-1b0f08936bb8 chrX  +      71442990 256   \n",
       "8       0   4b80cbc0-af7a-4a34-81ca-2d25a55e0714 chrX  +      71442990 301   \n",
       "9       0   44a98cd4-828e-446d-bfab-8f88aeea3c13 chrX  +      71442990 387   \n",
       "10     16   26d9ece8-8f1f-4d39-a1b5-c335be046b0b chrX  -      71442990 393   \n",
       "11      0   ab85e92e-74b7-4f44-85e3-47346865e9e2 chrX  +      71442991 393   \n",
       "12      0   5377942d-8f74-4a3d-aad4-67416f42eaae chrX  +      71442991 271   \n",
       "13      0   6853bb42-9eb0-4815-be0f-8331bbbff35a chrX  +      71442993 469   \n",
       "14      0   ecb0557f-bbce-46ef-ad26-a5346da0466b chrX  +      71442993 265   \n",
       "15      0   2374c97a-5901-40ce-b84c-e8e79530c57d chrX  +      71442995 275   \n",
       "16     16   3cff295e-a75c-4132-8e36-8379241dd568 chrX  -      71442997 400   \n",
       "17     16   04fb79bc-5d8f-4210-a5ff-50ac1937558c chrX  -      71443000 355   \n",
       "18      0   9e1271a1-232a-4c57-9acf-1f5a96ba500e chrX  +      71443002 235   \n",
       "19      0   9fceaa76-0024-4152-be66-36d483ee0c3b chrX  +      71443002 415   \n",
       "20      0   94ea9d93-67a7-4eca-a3ae-0ac901e81e56 chrX  +      71443002 394   \n",
       "21      0   26cc2e1d-c824-44a3-bb31-5fa9e952f686 chrX  +      71443002 289   \n",
       "22      0   264dbaf4-b362-44f2-83b5-6f3b06aee097 chrX  +      71443002 584   \n",
       "23      0   74b2ea2f-fd52-4ac9-ae9f-b51db22ae412 chrX  +      71443002 402   \n",
       "24     16   939aa053-38b1-49dd-b1f7-577dea3b3085 chrX  -      71443002 238   \n",
       "25     16   03f1efb9-360a-4007-921e-27b4fd538700 chrX  -      71443002 456   \n",
       "26      0   ef451fdc-cce0-4d71-9523-315a9edd1d3e chrX  +      71443003 370   \n",
       "27     16   cee32268-f815-405b-93d4-e7af03b003cc chrX  -      71443003 392   \n",
       "28      0   398c0c82-651e-450a-add1-7fd89a08cbee chrX  +      71443007 353   \n",
       "29      0   0964dc13-05e0-49d0-8783-425ebfcb4d7d chrX  +      71443008 251   \n",
       "30      0   7627b2b6-dd89-4699-8248-9cc76c4c9426 chrX  +      71443008 254   \n",
       "⋮      ⋮    ⋮                                    ⋮     ⋮      ⋮        ⋮     \n",
       "451582  0   ca106d19-ca3f-4d5c-aeef-67d9d4490a29 chrX  +      71443135 154   \n",
       "451583 16   03004162-2736-496f-872e-891f1a354474 chrX  -      71443135 108   \n",
       "451584  0   9c09f576-c27e-4155-9b8a-abd683cefba0 chrX  +      71443136 171   \n",
       "451585  0   ef5bb7ee-168c-4a3f-a3d4-12f548b50da8 chrX  +      71443136 181   \n",
       "451586  0   87d58aa7-0e27-465c-b714-2decebb8ce5e chrX  +      71443136 181   \n",
       "451587  0   080b52ca-6b7d-461c-8bd5-93eec7cb4e58 chrX  +      71443136 174   \n",
       "451588  0   0112f62b-2ec6-49a8-9375-35cd111cde6b chrX  +      71443136 156   \n",
       "451589 16   89bd3c27-67f4-41c1-a11e-0b6a8a42a364 chrX  -      71443136 168   \n",
       "451590 16   382e9f39-057c-435b-9458-a8ac99027c90 chrX  -      71443136 133   \n",
       "451591 16   688a9046-a78f-4833-b383-cf325cb4315f chrX  -      71443136 108   \n",
       "451592  0   053246c6-2109-4178-a3cc-4bebcf3ff55c chrX  +      71443137 171   \n",
       "451593  0   b6a71db7-a61a-4e33-977c-ecf8811af270 chrX  +      71443137 166   \n",
       "451594  0   6e5d9060-7c57-428e-8d6d-8d61e6a161df chrX  +      71443137 168   \n",
       "451595  0   16800665-f024-4826-8ce8-2fb161df30c2 chrX  +      71443137 168   \n",
       "451596  0   1fa780c8-c1b3-4c8e-a561-caf1822a3f8d chrX  +      71443137 177   \n",
       "451597  0   e883ec68-efb5-4d2b-a5e4-1dc8b0c7763e chrX  +      71443137 179   \n",
       "451598  0   7c586ee0-bba8-4921-86ce-13b96bc6dfc0 chrX  +      71443137 171   \n",
       "451599  0   61e4a53d-5a58-429e-8fae-330b958627b5 chrX  +      71443137 153   \n",
       "451600  0   9c272fb2-b48c-445b-a32a-c69233c8678f chrX  +      71443137 152   \n",
       "451601  0   c53b2246-a543-43d3-a4ff-b0ec1896109b chrX  +      71443137 169   \n",
       "451602  0   c5d9908c-fc58-4aab-be73-44c81a200b43 chrX  +      71443137 167   \n",
       "451603  0   ec8d65d8-89fe-4431-b8bb-f68626f35f12 chrX  +      71443137 152   \n",
       "451604  0   3224e2ab-54a8-49e2-ad66-571145c7cc80 chrX  +      71443137 162   \n",
       "451605  0   516647a1-edeb-49a8-a72b-fe001e5ba5f3 chrX  +      71443137 176   \n",
       "451606  0   879ac3cf-81c7-4d56-8f61-c735c667ee1f chrX  +      71443138 154   \n",
       "451607 16   a88745a1-358a-4656-b20c-b99fdff59a34 chrX  -      71443138  97   \n",
       "451608 16   fa723c1d-792e-45ed-a787-9b24c420f901 chrX  -      71443138 180   \n",
       "451609  0   047fd729-e227-41c3-88f5-6c1c03154c7b chrX  +      71443139 152   \n",
       "451610 16   78ecd645-cd00-4a56-a5cb-3137f661fba1 chrX  -      71443142 151   \n",
       "451611 16   c97cbfa6-8e4b-45ae-89e3-cde48d863bb0 chrX  -      71443143  95   \n",
       "       qwidth_after_softclipping RG_tag             \n",
       "1      143                       20240530_AL5RACE002\n",
       "2      142                       20240530_AL5RACE002\n",
       "3      325                       20240530_AL5RACE002\n",
       "4      327                       20240530_AL5RACE002\n",
       "5      322                       20240530_AL5RACE002\n",
       "6      142                       20240530_AL5RACE002\n",
       "7      161                       20240530_AL5RACE002\n",
       "8      205                       20240530_AL5RACE002\n",
       "9      291                       20240530_AL5RACE002\n",
       "10     297                       20240530_AL5RACE002\n",
       "11     301                       20240530_AL5RACE002\n",
       "12     202                       20240530_AL5RACE002\n",
       "13     192                       20240530_AL5RACE002\n",
       "14     192                       20240530_AL5RACE002\n",
       "15     189                       20240530_AL5RACE002\n",
       "16     307                       20240530_AL5RACE002\n",
       "17     273                       20240530_AL5RACE002\n",
       "18     189                       20240530_AL5RACE002\n",
       "19     320                       20240530_AL5RACE002\n",
       "20     300                       20240530_AL5RACE002\n",
       "21     197                       20240530_AL5RACE002\n",
       "22     293                       20240530_AL5RACE002\n",
       "23     315                       20240530_AL5RACE002\n",
       "24     199                       20240530_AL5RACE002\n",
       "25     186                       20240530_AL5RACE002\n",
       "26     288                       20240530_AL5RACE002\n",
       "27     299                       20240530_AL5RACE002\n",
       "28     267                       20240530_AL5RACE002\n",
       "29     171                       20240530_AL5RACE002\n",
       "30     179                       20240530_AL5RACE002\n",
       "⋮      ⋮                         ⋮                  \n",
       "451582 52                        20240530_AL5RACE002\n",
       "451583 63                        20240530_AL5RACE002\n",
       "451584 57                        20240530_AL5RACE002\n",
       "451585 57                        20240530_AL5RACE002\n",
       "451586 61                        20240530_AL5RACE002\n",
       "451587 63                        20240530_AL5RACE002\n",
       "451588 52                        20240530_AL5RACE002\n",
       "451589 63                        20240530_AL5RACE002\n",
       "451590 59                        20240530_AL5RACE002\n",
       "451591 63                        20240530_AL5RACE002\n",
       "451592 62                        20240530_AL5RACE002\n",
       "451593 61                        20240530_AL5RACE002\n",
       "451594 59                        20240530_AL5RACE002\n",
       "451595 62                        20240530_AL5RACE002\n",
       "451596 61                        20240530_AL5RACE002\n",
       "451597 63                        20240530_AL5RACE002\n",
       "451598 61                        20240530_AL5RACE002\n",
       "451599 49                        20240530_AL5RACE002\n",
       "451600 50                        20240530_AL5RACE002\n",
       "451601 57                        20240530_AL5RACE002\n",
       "451602 61                        20240530_AL5RACE002\n",
       "451603 51                        20240530_AL5RACE002\n",
       "451604 60                        20240530_AL5RACE002\n",
       "451605 63                        20240530_AL5RACE002\n",
       "451606 51                        20240530_AL5RACE002\n",
       "451607 61                        20240530_AL5RACE002\n",
       "451608 56                        20240530_AL5RACE002\n",
       "451609 47                        20240530_AL5RACE002\n",
       "451610 56                        20240530_AL5RACE002\n",
       "451611 56                        20240530_AL5RACE002\n",
       "       seq                                                                                                                                                                                                                                                                                                                                                                                                                                                                                                                                                                                                                                                     \n",
       "1      GTGTGTAGCCCCTTGGTTCAGTTACATATATATAATACAACTCACTATAGGGCAAGCAGTGGTATCAACGCAGAGTGAGAGGGAGAGGGAGAGGGAGAGGGAGGAGAGGGAGAGGGAGAGGGAGAGGGGAGAGGGAGAGGGAGGACTCCATTTTTTTTTCCACCGTGGGACTGTGGAAAAAAAAATGTACTGGCATTGTAATAAGGCTGAGGGAGGCAGCAATGAT                                                                                                                                                                                                                                                                                                                                                                                                                      \n",
       "2      ATGGGTATGTATGTATTAGTAGTTACGTATTGCTGTAATACGACTCACTATAGGGCAAAGCAGTGGTATCAACGCAGAGTACGGGGGGAGAGGGAGAGGGAGAGGGAGAGGGAGAGGGAGGAGAGGGAGAGGGAGAGGGAGAGGGAGAGGGAGAGGGAGAGGGAGAGGGAAGACTATTCATTTTTTTTTTCATAGGAATCTGGAAAAAAAAATGTACTGGCATTGTAATAAGGCT                                                                                                                                                                                                                                                                                                                                                                                                             \n",
       "3      ATGTTTGTGTAACCTACTCGTTCAGTTACGTATTGCTCTAATACGACTCACTATAGGGCAAGCAGTGGTATCAACGCAGAGTACAGGGGGGGAGAGGGAGAGGGGAGAGGGAGAGGGAGAGGGAGAGGGAGAGGGAGAGGGAGAGGGAGAGGGAGAGGGAGAGGGAGAGGGAGAGCTATTTCATTTTTTTTTCCACATCAGATGTGGAAAAAAAAATGTACTGGCATTGTAATAAGGCTTGAGGGGAGCACTAATACGACTCACTATAGGGCAAGCAGTGGTATCAACGCAGAGTGAGAGGGAGAGGGAGAGGGAGAGGGAGAGGGAGGGGAGAGGGAGAGGGAGAGCTATTTCATTTTTTTTTTTTTCCACATCAGATGTGGAAAAAAAAATGTACTGGCATTCTAATAAGGCTTCTGTAAGCCTTGACTAGAGTACGTATTGCTGCCTCCCTCAAGCCTTATTACAATGCCAGTACATTTTTTTTCCACATCTGATGTGGAAAAAAAAAAAAATGAAATAGCTCTCCCTCTCCCTCTCCCTCTCCCTCTCCCTCTCCCTCTCCCTCTCCCTCTCCCTACTCGTGATTCCACTTACTTTCCCTATAGTGAGTCGTATTAGAGCAATCGTAA\n",
       "4      ATGTATTGCTCTAATACGACTCACTATAGGGCAAGCAGTGGTATCAACGCAGAGTACAGGGGGGGAGAGGGAGAGGGAGAGGGAGAGGGAGAGGGAGAGGGAGAGGGAGAGGGAGAGGGAGAGGGAGAGGGAGAGGGAGAGGGAGAGCTATTTCATTTTTTTTTTTCCACATCAGATGTGGAAAATGTACTGGCATTCGCAGAAGGCTTGAGGGACTAGTATGACTCACTATAGGGCAAGCAGTGGTATCAACGCAGAGGGAGAGGGAGAGGGAGAGGGAGAGGGAGAGGGAGAGGGAGAGGGAGAGGGAGAGCTATTTCATTTTTTTTTTTTTCCACATCAGATGTGGAAAAAAAATGTACTGGCATTGTAATAAGGCTTGAGGGAGGCAGCAAGACCAACTGAACCAGTAGACTACAAAACAT                                                                                                                                                                                                               \n",
       "5      CACGATAGGGCAAGCAGTGGTATCAACGCAGAGTACAGGGGGGGAGAGGGAGAGGGAGAGGGAGAGGGAGAGGGAGAGGGAGAGGGAGAGGGAGAGGGAGAGGGAGAGGGAGAGGGAGAGGGAGAGCTATTTCATTTTTTTTTTTTTCCACATCAGATGTGGAAAAAAGCAATACGTAACTGAACGAAGTAACAGGACAGAGACTATAGGGGAAGCAGTGGTATCAACGCAGAGGGAGAGGGAGAGGGAGAGGGAGAGGGAGAGGGAGAGGGAGAGGGAGAGGGAGAGCTATTTCATTTTTTTTTTTTCCACATCAGATGTGGAAAAAAAATGTACTGGCATTGTAATAAGGCTTGAGGGAGGCAGCAATACGTAACTGAACGAAAGAGACTAAAAAAAT                                                                                                                                                                                                                                        \n",
       "6      TCAATGAGTACAGGGGGGAGAGGGAGAGGGAGAGGGAGAGGGAGAGGGAGAGGGAGGAGAGGGAGAGGGAGAGGGAGAGGGAGAGGGAGAGGGAGAGGGAGAGCTATTTCATTTTCTTTTCACATCAGATGTGGAAAATGTACTGGCATTCTAATAAGGCTTGAGGAGGCAGCAAGCACCTGAATGAACCGAGGCCACCATAGC                                                                                                                                                                                                                                                                                                                                                                                                                                            \n",
       "7      ATGTTTATGTACTACACTCGTTCAGTTACGTATTGCTCTAATACGACTCACTATAGGGCAAGCAGTGGTATCAACGCAGAGTACAGGGGGGGAGAGGGAGAGGGAGGAGAGGGAGAGGGAGAGGGAGAGGGAGAGGGAGAGGGAGAGGGAGAGGGAGAGGGAGAGGGAGAGCTTTCATTTTTTTTTTTTTCGCGTGGATGTTGGAAAAAAGAAAATGTACTGGCATTGTAATAAGGCTAGGAGGAAGGCGATTGGT                                                                                                                                                                                                                                                                                                                                                                                        \n",
       "8      GCTGTGTCACGTGCTTCGTTCAGTTACGTATTGCTCTAATACGACTCACTATAGGGCAAGCAGTGGTATCAACGCAGAGTATAGGGGGGGAGAGGGAGAGGGAGAGGGAGAGGGAGAGGGAGAGGGAGAGGGAGAGGGAGAGGGAGAGGGAAGGGGGGGGGGGGGGGGGGGGGGGGGGGGGGGGGGGGGGGGGGGGGGGGGGGAGAGGGAGAGCTATTTCATTTTTTTTTTTTCCACATCAGATGTGGAAAAAAAAATGTACTGGCATTGTAATAAGGCTTGAGGGAGGCAGCAATACATA                                                                                                                                                                                                                                                                                                                                           \n",
       "9      TGTTATGTACGTCTACCTGGACAGATTACGTATTGCTCTAATACGACTCACTATAGGGCAAGCAGTGGTATCAACGCAGAGTACAGGGGGAGAGGGAGAGGGGAGAGGGAGAGGGAGAGGGAGAGGGAGAGGGAGAGGGAGAGGGAGAGGGAGAGGGAGAGGGAGAGGGAGAGCTATTTCATTTTTTTTTTCCACATAGGGGTATGTTTATGTATAGTGTATTTCGTTCAGTTACGTATTGCTCTAATACGACTCACTATAGGGCAAGACAGTGGTATCAACGCAGAGTGAGAGGGAGAGCTATTTCATTTTTTTTTTTTCCACATCAGATGTGGAAAAAAAATGTACTGGCATTGTAATAAGGCTTGAGGGAGGCAGCAATACGTT                                                                                                                                                                                                                                                     \n",
       "10     TGTATTGCTCTGTAATACGACTCACTATAGGGCAAGCAGTGGTATCAACGCAGAGTACAGGGGGGGAGAGGGAGAGGAGAGGGAGAGGGAGAGGGAGAGGGAGAGGGAGAGGGAGAGGGAGAGGGAGAGGGAGAGGGAGAGGGGAGAGCGATTTCATTTTTTTTTTTTTTTCCACATCAGATGTGGAAAAAAAATGTACTGGCATTGTAATAAGGCTTGAGGGGAGGCTCAAGACGACTCACTATAGGGCAAGCAGTGGTATCAACGCAGAGTGAGAGGGAGAGCTATTTCATTTTTTTTTTCCACATCAGATGTGGAAAAAAAATGTACTGGCATTGTAATAAGGCTTGAGGGAGGCAGCAATACGTAACTGAACGAAGTAGGTTAACATAA                                                                                                                                                                                                                                               \n",
       "11     ATGTTATGTGTAGCCTACTCATTCATCATATTGTTCTAATACGACTCACTATAGGGCAAGCAGTGGTATCAACGCAGATTACGGGGGGGAGAGGGAGAGGGAGAGGGAGAGGGAGAGGGAGAGGGAGAGGGAGAGGGAGAGGGAGAGGGAGAGGGAGAGGGAGAGGGAGAGCTATTTCATTTTTTTTTTTCCCACATGGGATGTATGCCTTGGTTCCATTACATATACTCTAATACGACTCACTATAGGGCAAGCAGTGGGTGTGACAGAAGGGAGAGGGAGAGGGAGAGGGAGAGGGAGAGGGAGAGGGAGAGGGAGAGGGAGAGCTATTTCATTTTTTTTTTTCCACATCAGAATTGTGGAAAAAAAATGTACTGGCATTGTAATAAGGCT                                                                                                                                                                                                                                               \n",
       "12     TGTGTGTCTGGTTGGTTGGTCTTGCTCTAATACGACTCACTATAGGGCAAGCAGTGGTATCAACGCAGAGGGAGAGGGAGAGGGAGAGGGAGAGGGAGAGGGAGAGGGAGAGGGAGAGGGAGAGGGAGAGGGAGAGGGAGAGGGAGAGGGAGAGGGAGAGGGAGAGGGAGAGGGAGAGGGAGAGGGAGAGGGAGAGGGAGAGCTATTTCATTTTTTTTTTTTTCCACATCAGATGTGGAAAAAAAAATGTACTGGCATTGTAATAAGGCTT                                                                                                                                                                                                                                                                                                                                                                         \n",
       "13     TTGTGGCCTCTCGTTCAGTTACGTATTGCTCTAATACGACTCACTATAGGGCAAGCAGTGGTATAGACGCAGAAGGAAGAGAGAGAGAGAGAGAGAGAGAGAGAGAGAGAGAGAGAGAGAGAGAGAGAGAGAGAGAGAGAGAGAGAGAGAGAGAGAGAGAGAGAGAGAGAGAGAGAGAGAGAGAGAGAGAGAGAGAGAGAGAGAGAGAGAGAGAGAGAGAGAGAGAGAGAGAGAGAGAGAGAGAGAGAGAGAGAGAGAGAGAGAGAGAGAGAGAGAGAGAGAGAGAGAGAGAGAGAGAGAGAGAGAGAGAGAGAGAGAGAGAGAGAGAGAGAGAGAGAGAGAGAGAGAGAGAGAGGGAGAGGGAGAGGGAGAGGGAGAGGGAGAGGGAGAGGGAGAGGGAGAGCTATTTCATTTTTTTTTTTTCCACATCAGATGTGGAAAAAAAATGTACTGGCATTGTAATAAGCTC                                                                                                                                                                   \n",
       "14     ATGTAACCTACTCGTTCAGTTGCGTATTGCTCTAATACGACTCACTATAGGGCAAGCGGTGTATAAACACAGAGAGAGAGAGAGAGAGAGAGAGAGAGAGAGAGAGAGAGAGAGAGAGGGAGAGGGAGAGGGAGAGGGAGAGGGAGAGGGAGAGGGAGAGGGAGAGGGAGAGGGAGAGGGAGAGGGAGAGGGAGAGGGAGAGCTATTTCATTTTTTTTTTCCATCAGATGTGGAAAAAAAAATGTACTGGCATTGTAATAAGGCT                                                                                                                                                                                                                                                                                                                                                                               \n",
       "15     ATGTTTATGTAGTCTACTTCGTTCAGTTACATATTGTATAATTGACTCACTATAGGGCAAGCAGTGGTATCAACGCAGAGTACAGGAGGGAGAGGGAAGGGAGAGGGAGAGGGAGAGGGAGAGGGAGAGGGAGAGGGAGAGGGAGAGGGAGAGGGAGAGGGAGAGGGAGAGGGAGAGGGAGAGGGAGAGGGAGAGGGAGAGGGAGAGCTATTTCATTTTTTTTTTTTCCACATCAGATGTGGAAAAAAAAATGTACTGGCATTGTAATAAGGCTA                                                                                                                                                                                                                                                                                                                                                                     \n",
       "16     ACCATGTATTGCTCTAATACGACTCACTATAGGGCAAGCAGTGGTATCAACGCAGAGTACAGGGGAGAGGGAGAGAGGGAGAGGGAGAGGGAGAGGGAGAGGGAGAGGGAGAGGGAGAGAGGGAGAGGGAGAGGGAGAGGGAGAGGGAGAGCTATTTCATTTTTTTTTTTTTCCACATCAGATGTGGAAAAAATGTACTGGCATTGTAATAAGGCTTGAGGGAGGCTCTAATACGACTCACTATAGGGCAAGCAGTGGTATCAACGCAGAGTACATGAGGGAGAGGGAGAGCTATTTCATTTTTTTTTTTTCCACATCAGATGTGAAAAAAAAAATGTACTGGCATTGTAATAAGGCTTGAGGGAGGCAGCAATACGTAACTGAACGAGGTCAGGACATA                                                                                                                                                                                                                                        \n",
       "17     ATTACCATTGTCGGTACCACTCACTATAGGGCAAGCAGTGGTATCAACGCAGAGGGAGAGGGGAGAGGGAGAGGGAGAGGGAGAGGGAGAGGGAGAGGGAGAGGGAGAGCTATTTCATTTTTTTTTTTTCCACATCAGATGTGGAAAAACTAATACGACTCACTATAGGGCAAGCAGTGGTATCAACGCAGAGGGAGAGGGAGAGGGGAGAGGGAGAGGAGAGGGAGAGGGAGAGGGAGAGGGAGAGCTATTTCATTTTTTTTTTTTCCACATCAGATGTGGAAAAAAATGTACTGGCATTGTAATAAGGCTTGAGGGAGGCAGCAATACGTAACTGAACGAAGTACAGGCAGAG                                                                                                                                                                                                                                                                                     \n",
       "18     TGTGTGTGGCTGGACTAGTACGTATTGCTCTAATACGACTCACTATAGGGACGACAGTGGAGCTGGGACAGGGAGACCCAGGGGGGGAGAGGGAGAGGGAGAGGGAGAGGGAGAGGGAGAGGGAGAGGGAGAGGGAGAGGGAGAGGGAGAGGGAGAGGGAGAGGGAGAGCTATTTCATTTTTTTTTTTTCCACATCAGATGTGGAAAAAAAAATGTACTGGCATTGTAATAAGGC                                                                                                                                                                                                                                                                                                                                                                                                             \n",
       "19     ATGTTTATGTGTAACCTACTTCGTTCAGTTACGTATTGCTCTAATACGACTCACTATAGGGCAAGCAGTGGTATCAACGCAGAGTACAGGGGGGAGAGGGAGAGGGAGAGGGAGAGGGAGAGGGAGAGGGAGAGGGAGAGGGAGAGGGAGAGGGAGAGGGAGAGGGAGAGGGAGAGCTATTTCATTTTTTTTTTTCCACATCAGATGTGGAAAAAAAAAATGTACTGGCATTGTAATAAGGCTTATGTCATCTACTCGTTCAGTTACGTATTGCTCTAATACGACTCACTATAGGGCAAGCAGTGGTATCAACGCAGAGGGAGAGGGAGAGCTATTTCATTTTTTTTTTTCCACATCAGATGTGAAAAGAAAATGTACTGGCATTGTAATAAGGCTTGAGGGAGGCAGCAATGGT                                                                                                                                                                                                                         \n",
       "20     TTATGTGTAGCCCTACTTGGTTCATTTACGTATTGCTCTAATACAACTGGCTCTAGGGCAAGCAGTGGTATCAACGCAGAGTACAGGGGGGAGAGGGAGAGGGAGAGGGAGAGGGAGAGGGAGAGGGAGAGGGAGAGGGAGAGGGAGAGGGAGAGGGAGAGGGAGAGGGAGAGCTATTTCATTTTTTTTTTTCCACATCAGATGTGGAAAAAAAATGTACTGGCATTGTAATAAGGCTTGAGGGAGGCACTAATACGACTCACTATAGGGCAAGCAGTGGTATCAACGCAGAGGGAGAGGGAGAGCTATTTCATTTTTTTTTTTTTTCCACATCAGATGTGGAAAAAAAATGTACTGGCATTGTAATAAGGCTTGAGGGAGGCAGCAATACATA                                                                                                                                                                                                                                              \n",
       "21     TTATGTAACGTACTTCGTTCAGTTACGTATTGCTCTAATACGACTCACTATGGGCAAGCAGTGGTATCAACGCAGAGTACAGGGGGGAGAGGGAGAGGGAGAGGGAGAGGGAGAGGGAGAGGGAGAGGGAGAGGGAGAGGGAGAGGGAGAGGGAGAGGGAGAGGGAGAGGGAGAGGGAGAGGGAGAGGGAGAGGGAGAGCTATTTCATTTTTTTTTTCCACATCAGATGTGGAAAAAAAAATGTCTATAGGCATTGTAATAAGGCTTGAGGGAGGCAGCAATACGTGGT                                                                                                                                                                                                                                                                                                                                                       \n",
       "22     TTTTTTTTCCTCTACTTCGTTCAGTTACGTATTGCTCAATACGACTCACTATAGGGCAAGCAGTGGTATCAACGCAGAGTACAGGGGGGAGAGGGAGAGGGAGAGGGAGAGGGAGAGGGAGAGGGAGAGGGAGAGGGAGAGGGAGAGGGAGAGGGAGAGGGAGAGGGAGAGCTATTTCATTTTCCACATCAGATGTGGAAAAAAAAATGTACTGGCATTGTAATAAGGCTATTCTCCTCTTCTTCGTTCAGTATTGCTCTAATACGACTCACTATTGGGCAAGCAGTGGTATCAACGCAGAGGGAGAGGGAGAGCTATTTGATTTTTTTTTTTTCCACATCAGATGTGGAAAAAAAAATGTACTGGCATTCTAATCAGATAATGTTTCTGTATTATTTTATTCATTAGTGCGTTCTTGCTCTAATACGACTCACTATAGGGCAAGCAGTGGTATGAACGCAGAGGGAGAGGGAGAGGGAGAGGGAGAGGGAGAGGGAGAGGGAGAGGGAGAGGGAGAGCTATTTCATTTTTTTTTTTCCACATCAGATGTGGAAAAAAAAATGTACTGGCATTGTAATAAGGCT                                                \n",
       "23     ATGTTGTGTAACCCTAGGCTTCGTTCAGTTACGTATTGCTCTAATACGACTCACTATAGGGCAAGCAGTGGTATCAACGCAGAGTACAGGGGGGAGAGGGAGAGGGAGAGGGAGAGGGAGAGGGAGAGGGAGAGGGAGAGGGAGAGGGAGAGGGAGAGGGAGAGGGAGAGGGAGAGCTATTTCATTTTTTTTTTTCCACATCAGATGTGGAAAAGAAAATATATGGCATTGTAATAAGGCTCTTTTTTTGATCTATTCGTTCAGTTACGTATTGTCTCTAATACGACTCACTATAGGGCAAGCAGTGGTATCAACGCAGAGGGAGAGGGAGAGCTATTTCATTTTTTTTTTTTTTCCACATCAGATGTGGAAAAAAAAATGTACTGGCATTGTAATAAGGCT                                                                                                                                                                                                                                      \n",
       "24     CACCATAGGGAGGGATGGATGATGGAGACGGACAGGGGGGGGGGAGAGGGAGAGGGAGAGAGGGAGAGGGAGAGGGAGAGGGAGAGGGAGAGGGAGAGGGAGAGGGAGGGAGAGGGAGAGGGAGAGCTATTTCATTTTTTTTTTTCCACATCAGATGTGGAAAAAAAAATGTACTGGCATTGAAATAAGGCTTGAGGGAGGAACAATACGTAACTGAACGAAGTACAGGACAGAACAT                                                                                                                                                                                                                                                                                                                                                                                                          \n",
       "25     ATGTATTGCTCTAATACGACTCACTATAGGGCAAGCAGTGGTATCATGAAATGCAGAGTACAGGGGGGAGAGGAGAGGGAGAGGGAGAGAGGGAGAGGGAAAGGAGAGGGAGAGGGAAGAGGGAGAGAGGGTGAGAGAGAGGGAGAGGGAGAGAGAGGGAGAGGGAGAGTCATTCCATTTTTTTTTTTCCACATCAGATGTGGAAAAAAAAATGTACTGGCATTGTAATAAGGCTTGAGGGAGGCACTAAGACCACTCACTATAGGGCAAGCAGTGGGACGACGATAGGGAGAGGGAGAGGGAGAGGGAGAGGGAGAGGGAGAGGGAGAGGGAGAGGGAGAGCTATTTCATTTTTTTTTTTCCACATCAGATGTGGGAAAAAAAATGTACTGGCATTGTAATAAGGCTTGAGGGAGGCAGCAAGCACGATGAATGAGTAGGTTACACATAAACATA                                                                                                                                                                                \n",
       "26     TGTGTGTGTTTACTTCGTTCAGTTACGTATTGCTCTAATACGACTCACTATAGGGCAAGCAGTGGTATCGACGCAGAGTACGGGGGGGAGAGGGAGAGGGAGAGGGAGAGGGAGAGGGAGAGGGAGAGGGAGAGGGAGAGGGAGGGAAAGGGAGAGGGAGAGGGAGAGCTATTTCATTTTTTTTTTTCCACATCAGATGTGGAAAAAAAAGAAATATTATGGCATTGTAATAAGGCTTGAGGGAGGCTCTAATACGACTCACTATAGGGCAAGCAGTGGTATCAACGCAGAGGGAGAGGGAGAGCTATTTCATTTTTTTTTTTTTCCACATCAGATGTGGAAAAAAAATGTACTGGCATTGTAATAAGGC                                                                                                                                                                                                                                                                      \n",
       "27     CAACGTATTGCCTGAATATGACTCACTATAGGGCAAGCAGTGGTATCATGAGAGTACAGGGGGGGAGAGGGAGAGGGAGAGGGAGAGGGAGAGGGAGAGGGAGAGGGAGAGGGAGAGGGAGAGGGAGAGGGAGAGGGAGGGAGAGCTATTTCATTTTTTTTTCCACATCAGATGTGGAAAAATGTACTCGCATTGTAATAAGGCTTGAGGCAGGCCTAGTACGACTCACTATAGGGCAAGCAGTGGTATCAACGAGAGTACATGAGGGAGAGAAATGGAGAGCTATTTCATTTTTTTTTTTTCCACATCAGATGTGAAAAAAAAAATGTACTGGCATTGTAATAAGGCTTGAGGGAGGGCAGCAAGACCAGACTGAACCAGTAGAGGACACA                                                                                                                                                                                                                                                \n",
       "28     ATGTATCTTACTTCGTTCAGTTACATATGTGTCTAATACGACTCACTATAGGGCAAGCAGTGGTATCAACGCAGAGGGAGAGGGAGAGGGAGAGGGAGAGGGAGAGGGAGAGGGAGAGGGAGAGGGAGAGCTATTTCATTTTTTTTTTTCCACATCAGATGTGGAAACTAATGAGACTGGCTCTAGGGCAAGCAGTGGTATCAACGCAGAGGGAGAGGGAGAGGGAGAGGGAGAGGGAGAGGGAGAGGGAGAGGGAGAGGGAGAGCTATTTCATTTTTTTTTTTTCCACATCAGATGTGGAAAAAAAAATGTACTGGCATTGTAATAAGGCTTGAGGGAGGCAGCAATACGTA                                                                                                                                                                                                                                                                                       \n",
       "29     TTTTTTTGCTTGGTTCAGTTCTGGTATTACTATAATACGACTCACTATAGGGCAAGCAGTGGTATCAACCCAGAGAGAGAGAGACAGAGTGCAGGGGGGGAGAGGGGAGAGGGAGAGGGAGAGGGAGAGGGAGAGGGAGAGGGAGAGGGAGAGGGAGAGGGAGAGGGAGAGGGAGAGGGAGAGCTATTTCATTTTTTTTTTTCCACATCAGATGTGGAAAAAAGAAATGTACTGGCATTGTAAGTGAGGGT                                                                                                                                                                                                                                                                                                                                                                                             \n",
       "30     CATGTTATGGCCTGTACTTGGTTCAGTTCGGTATTGTCATGCGTTGGCTGTAGGCTGGGTGGTTGTGGACAGAGAGAGAGAGAGAGAGAGAGAGAGAGAGAGGGGGAGAGGGAGAGGGAGAGGGAGAGGGAGAGGGAGAGGGAGAGGGAGAGGGAGAGGGAGAGGGAGAGGGAGAGGGAGAGGGAGAGCTATTTCATTTTTTTTTTTTCCACATCAGATGTGGAAAAAAAAATGTACTGGCATTGTAATAGGCT                                                                                                                                                                                                                                                                                                                                                                                          \n",
       "⋮      ⋮                                                                                                                                                                                                                                                                                                                                                                                                                                                                                                                                                                                                                                                       \n",
       "451582 ATCACGTACTTCGTTCAGTTTTACGTATTGCTCTAATACGACTCACTATAGGGCAAGCAGTGGTATCAACGCAGAGTACATGAGGGAGAGGGAGGACTCTGATTTTTTCCACATCAGATGTGAAAAAAAAAATGTACTGGCATTGTAATAAGGC                                                                                                                                                                                                                                                                                                                                                                                                                                                                                              \n",
       "451583 CATTTCCTTTTTTCCACATCAGATGTGGAAAAAAAATGTACTGGCATTGTAATAAGGCTTGAGGGAGGCAGCAATACGTAACTGAGTCAGTAGATGTAGACATAACAC                                                                                                                                                                                                                                                                                                                                                                                                                                                                                                                                            \n",
       "451584 GTCCTCTACTCGTTCAGTTTCGTATTGCTCTAATACGACTCACTATAGGGCAAGCAGTGGTATAGACGCAGAGTACAGTGGGGGAAAGGGTTTTTATCATTTTTCCACATCAGATGTGAAAAAAAAATGTACTGGCATTGTAATAAGGCTTGAGGGGAGCGACAATGGTAA                                                                                                                                                                                                                                                                                                                                                                                                                                                                             \n",
       "451585 ATGTTTTTGTAGTTATACTGGTTCAGTTGCGTATTGCTCTAATACGACTCACTATAGGGCAAGCAGTGGTATCAACGCAGAGTACATGAGGGAGAGGGAGGGCTTGATTTTTCCACATCAGATGTGAAAAAAAAAATGTACTGGCATTGTAATAAGGCTTGAGGAGGGCGCAATACGTAAC                                                                                                                                                                                                                                                                                                                                                                                                                                                                   \n",
       "451586 GTGTTATGTTAACCCTTTCGTTCATTACGTATTGCTCTAATACGACTCACTATAGGGCAAGCAGTGGTATCAACGCAGAGTACATGGGGGGGGGGGGAGGGCTGCCCGTTTTTCCACATCAGATGTAAAAAAAAAATGTACTGGCATTGTAATAAGGCTTGAGGGAGGCGGCAATTTGGTA                                                                                                                                                                                                                                                                                                                                                                                                                                                                   \n",
       "451587 GTTATGCATCTTACTTCGTTCAGTTACGTATTGCTCTAATACGACTCACTATAGGGCAAGCAGTGGTATCAACGCAGAGTACATGAGCAGGCTTTATCTCATTTTTCCACATCAGATGTGAAAAAAAAAATGTACTGGCATTGTAATAAGGCTTGAGGGAGGCAGCAATACATT                                                                                                                                                                                                                                                                                                                                                                                                                                                                          \n",
       "451588 TTTTTTCATCTTACTTGGTTCAGTTACGTATTGCTCTAATACGACTCACTATAGGGCAAGCAGTGGTATCAACGCAGAGTACATGAGGGAGAGGGGAGAGCTAGTTTTTCCACATCAGATGTGAAAAAAAAAATGTACTGGCATTGTAATAAGGCT                                                                                                                                                                                                                                                                                                                                                                                                                                                                                            \n",
       "451589 AATGTATTGCTCTAATACGACTCACTAGGGCAAGCAGTGGTATCAACGCAGAGTACATGAGGGAGAGGGAGTATCTTTTTCCACATCAGATGTGAAAAAAAAAATGTACTGGCATTGTAATAAGGCTTGAGGGAGGCAGCAATACGTAACTGAACCAAGAACAGGCAA                                                                                                                                                                                                                                                                                                                                                                                                                                                                                \n",
       "451590 CACTATAGGAAGCAGTGGTATCAACGCAGAGTACATGAGGGAGAGGAATCCTTTTTCCACATCAGATGTGAAAAAATGTACTGGCATTGTAATAAGGCTTGAGGGAGGCAGACGTAACTGAACGAGGTTACAC                                                                                                                                                                                                                                                                                                                                                                                                                                                                                                                   \n",
       "451591 ATTTCCTTTTTCCACATCAGATGTGGAAAAAAAAATGTACTGGCATTGTAATAAGGCTTGAGGGAGGCAGCAAGACCTAACTTAAAATCAAATGGTAGCATGTGACAC                                                                                                                                                                                                                                                                                                                                                                                                                                                                                                                                            \n",
       "451592 TTGCCTGTACTTGGTTCAGTTACGTATTGCTCTAATACGACTCACTATAGGGCAAGCAGTGGTATCAACGCAGAGTACATGAGGGAGGGGGAAGCTATATTTTCCACATCAGATGTGAAAAAAAAAATGTACTGGCATTGTAATAAGGCTTGAGGGAGGCAGCAATGCATT                                                                                                                                                                                                                                                                                                                                                                                                                                                                             \n",
       "451593 TTGTATGCTGCTTGACTAGTACGTATTGCTCTAATACGACTCACTATAGGGCAAGCAGTGGTATCAACGCAGAGTACATGAGGAAAGGCTGTTTTGATTTTCCACATCAGATGTGAAAAAAAAATGTACTGGCATTGTAATAAGGCTTGAGGGAGGCAGCAATAGG                                                                                                                                                                                                                                                                                                                                                                                                                                                                                  \n",
       "451594 CTTATGTAACCTACTGGTTCAGTTACATATACTCTAGACTCACTATAGGGCAAGCAGTGGTATCAACGCAGAGTACATGAGGGGGAAGGGGAGCTATTAGTTTTCCACATCAGATGTGAAAAAAAAAATGTACTGGCATTGTAATAAGGCTTGAGGGAGAGCAATACA                                                                                                                                                                                                                                                                                                                                                                                                                                                                                \n",
       "451595 ATTGTAACCTACTTCGTTCAGTTACGTATGAATACGACTCACTATAGGGCAAGCAGTGGTATCAACGCAGAGTACATGAGGGAGAGGAGCTTTAATTTTCCACATCAGATGTGAAAAAAAAAATGTACTGGCATTGTAATAAGGCTTGAGGGAGGCAGCAATACGTTA                                                                                                                                                                                                                                                                                                                                                                                                                                                                                \n",
       "451596 TTGTTTTGTTTCTCACCTTTGATCGAGTTCAGGTATTTGTTCTAATACGACTCACTATAGGGCAAGCAGTGGTATCAACACCAGAGTGAGAGGAAGGCTGTTTTCATTTTCCACATCAGATGTGGAAAAAAAATGTACTGGCATTGTAATAAGGCTTGAGGGAGGCAGCAATACATT                                                                                                                                                                                                                                                                                                                                                                                                                                                                       \n",
       "451597 ATGTTATCATCTTACTTCGTTCAGTTACGTATTGCTCTAATACAACTAGCTATAGGGCAAGCAGTGGTATCAACGCAGAGTACATGAGGGAGAGGAAGAGTTTTCGTTTTCCACATCAGATGTGAAAAAAAAAAATGTACTGGCATTGTAATAAGGCTTGAGGGAGGCAGCAATACATT                                                                                                                                                                                                                                                                                                                                                                                                                                                                     \n",
       "451598 TTGTATATTTTACTTCGTTCAGTTACGTATTGCTCTAATACGACTCACTATAGGGCAAGCAGTGGTATCAACGCAGAGGGGAGAGGAAAGCTGTTTTCATTTTCCACATCAGATGTGGAAAAAAAATGTACTGGCATTGTAATAAGGCTTGAGGGAGGCAGCAATACATTA                                                                                                                                                                                                                                                                                                                                                                                                                                                                             \n",
       "451599 GTGTAACCTACTTCGTTCATTTACGTATTGCTCTAATACGACTCACTATAGGGCAAGCAGTGGTATCAACGCAGAGTACATGAGGGAGAGGAGAACTGTCTTCGTTTTCCACATCAGATGTAAAAAAAAAATGTACTGGCATTGTAATAAGGC                                                                                                                                                                                                                                                                                                                                                                                                                                                                                               \n",
       "451600 ATCACATCTACTCGTTCAGTTACGTATTGCTCTAATACGACTCACTATAGGGCAAGCAGTGGTATCAACGCAGAGTACATGAGGGAGAGGAGAACTCTATCATTTTCCACATCAGATGTGAAAAAAAAAATGTACTGGCATTGTAATAAGGC                                                                                                                                                                                                                                                                                                                                                                                                                                                                                                \n",
       "451601 TAACCCTTTCGTTCAGTTACGTATTGCTCTAATACGACTCACTATAGGGCAAGCAGTGGTATCAACGCAGAGTCTGCATGAGGGGAGAGGGCTCTTAGTTTTCCACATCAGATGTGAAAAAAAAAATGTACTGGCATTGTAATAAGGCTTGAGGGGAGCAGCAATACAT                                                                                                                                                                                                                                                                                                                                                                                                                                                                               \n",
       "451602 ATGTTTTTACTTCGTTCAGTTACGTATTGCTGATACAACTAGCTATAGGGCAAGCAGTGGTATCAACGCAGAGTACATGAGGGCAAGCTGTCTTCATTTTCCACATCAGATGTGAAAAAAAAAATGTACTGGCATTGTAATAAGGCTTGAGGGAGGCGGCAATTCAT                                                                                                                                                                                                                                                                                                                                                                                                                                                                                 \n",
       "451603 ATGTGTAACCTACTCGTTCAGTTACGTATTGCTTTAATACAACTAGCTATAGGGCAAGCAGTGGTATCAACACAGAGTACAGTGAGAAAGGGCTTCTCAGTTTTCCACATCAGATGTGAAAAAAAAAATGTACTGGCATTGTAATAAGGCTA                                                                                                                                                                                                                                                                                                                                                                                                                                                                                                \n",
       "451604 ATGTCCTGTACTTCGTTCAGTTACGTATTGCTCTAATACGACTCACTATAGGGCAAGCAGTGGTATCAACGCAGAGTACATGACGGCTTCATTTTCCACATCAGATGTGAAAAAAAAAATGTACTGGCATTGTAATAAGGCTTGAGGGAGGAGCAATACATT                                                                                                                                                                                                                                                                                                                                                                                                                                                                                      \n",
       "451605 ATGTTTATGTGCAGCACCCCTGGACACATGGTGTTCTAATACAACTCACTATAGGGCAAGCAGTGGTATCAACACAGAGTCATGGGGGAGGAAAGCTATCTCATTTTCCACATCAGATGTGAAAAAAAAAAAAAATGTACTGGCATTGTAATAAGGCTTGAGGGAGACAATGCATT                                                                                                                                                                                                                                                                                                                                                                                                                                                                        \n",
       "451606 TTATGTTAACCTACTTCGTTCAGTTACGTATTGCTCTAATACGACTCACTATAGGGCAAGCAGTGGTATCAACGCAGAGTACATGAGGAGAGGAGGACTGATATTTCCACATCAGATGTGAAAAAAAAAATGTACTGGCATTGTAATAAGGCTT                                                                                                                                                                                                                                                                                                                                                                                                                                                                                              \n",
       "451607 ATTTCCTTTTCATATCAGACTGTGGAAAAAAAATGTACTGGCATTGTAATAAGGCTTGAGGGAGGCAGCAATACGTAACTGAACGAGTAGGGAACAA                                                                                                                                                                                                                                                                                                                                                                                                                                                                                                                                                       \n",
       "451608 AAAATGTATTGCTCTAATACGACTCACTATAGGGCAAGCAGTGGTATCAACGCAGAGTACATGAGGGAGAGGGGAAAAGCCATTCACTTCCTTTCCACATCAGATGTGAAAAATGTACTGGCATTGTAATAAGGCTTGAGGGAGGCAGCAATACTCACAATCTAACCAAGTATAATACAA                                                                                                                                                                                                                                                                                                                                                                                                                                                                    \n",
       "451609 ATATGTACCTGTACTTCGTTCAGTTGCGTATTGCTCTAATACGACTCACTATAGGGCAAGCAGTGGTATCAACGCAGAGTACATGAGGGAGAGGGAAGGGCTTGGTTCCACATCAGATGTGAAAAAAAAATGTACTGGCATTGTAATAAGGC                                                                                                                                                                                                                                                                                                                                                                                                                                                                                                \n",
       "451610 ACACCATAGGGCAAGCAGTGGTATCAACGCAGAGGGAGAGGGAGAGTGGTTGACTTCCCTTCGGCACATCAGATGTGGAAAAAAAATGTACTGGCATTGTAATAAGGCTTGAGGGAGGCAGCAGACGTAACTGAACGAAGCAGAGGGCAGT                                                                                                                                                                                                                                                                                                                                                                                                                                                                                                 \n",
       "451611 TCCCTTTGACATCAGATGTGGAAAAAAAAATGTACTGGCATTGTAATAAGGCTTGAGGGAGGCAGCAATACTAACTGAACCAGTAGAATGACACA                                                                                                                                                                                                                                                                                                                                                                                                                                                                                                                                                         \n",
       "       qual                                                                                                                                                                                                                                                                                                                                                                                                                                                                                                                                                                                                                                                    \n",
       "1      ##$%%%$##$$$%&%&(,,('''&&%%%&%%$%%&()(''++'))------:?BGEFFHGHGFGPD@??=>???CDDBA@G@CBBB@;3-02556699970+2*').0120257:85655555310246,/-,/)(+2/0.++)'&&&'()),../0150.'(3++'''&%%$$%)*-./1/--.----0/002?@BAA44444445>2227DACC=443/..&$$                                                                                                                                                                                                                                                                                                                                                                                                                      \n",
       "2      $$$%%%%%%&$###$$$%&'((*+0212000(')''(,,8=::994112239;;==?SIJSIIJGIHLH@77767???GF@73211615+***,(,)()+)*+-..,//..0*-+.21/++&'+,--,-..0219==>?=ABABA/???@C?DDDD=<=ACC>:;5966,-)%%%%&*%&12431126<>)&&%&'(()((***<@C;67:<:8778788;@CDCC;;;9765+(                                                                                                                                                                                                                                                                                                                                                                                                             \n",
       "3      %%%'(($$$$$##$$&'*))*1178999<999:;<99997::BJ?>>>;;;;;====BIDEDDDOSKIIHGBBBBBCGGFHEEB66554>@?@:0---***-34,.28::<<BECAD@BEFB<9DGEE@@BBB=8.9==;1.26DFEEGLIJGLGHGB=?CFGF?@?DBC>5?><<;345=;<7:<DBEEEACA89>CBA@@AAHKMFFFF=555??????@DELJNFIIHGHIIIISIH?<>>@8>B778D((((*...9;;<=>?CCCDD==>=99:<>MQKDDEDDDIGJKOHKNLMMJHRIFJC4>DHAEGFGSFEBD?>>7-/+/..7:;<=4;;8>4/2CAAA@?>>>9858949<ADGSP@27(*55*))'&(())*,8:;;<=@ABDBCAAAABBG0.---2321,($##$###\"##$%$&''&&'')((+2----.332223IHBDEFJIDBBBBNFGDFF@C??;::;9;;5/-0589802BC?@77766--*+.522227989;5,+++/22226;;:-*,502<8:;;<<13@BED=@FCDHBGNDFD?EGEHB<7746/+...0;6(((''''/299:9:?8*)))''**'56-''&())())(((('((((//'&&%%\n",
       "4      ,-?@B@984434444667===<BBBJOJJJHIMSPOMJIKKJLIKQSSPKEECCBCB??3,-2AAFD<DGEFLBIEBDE4CA@A@28BAFB<CDEFH;KKHHBBJFEHE@EG@@?:E3333)025@A1;;;CE=GFDCA=@IGHHGGFFLI><<==;:41/3901125CFJHIJIEC+*?<<'*;;>?C>=>=/.-.-----571..--*)$#\"###%%%&&&66=@BAAC@8@@>=HHLSLMGJBCDCCIKJLONLJIJIIH=DGDDE>AEC03AEFGEC@DEDFE8<@EGG7BBAB75=IEJH7KKHKJMSIK<;;;;BB???1+*+3<@FHIJLJ65545GHEGKJJSSS@GGLIKMSSSSJMSKJMJOGIKJISHPH@?EE100030)'''&&&&+,-+)'%%&.+(&%$%%&&&$#####                                                                                                                                                                                                               \n",
       "5      ''')BDGJLDJILHNKJIECCDDKMKIIJJHKKGGDCBA+,356<</=953/.2?@AB<CDBCC5A=<>A5CBAEB>CDDHF;DFEGH3A??GD;IJGHG9???D99@EDD@4?FEEA9>BABGGGFCAAAA@JHHFDE8321;9;;;;FEEEDGHLI<<HHSSSAHBBBDBBCAA?::;;891/.0'&&''&%$####$$'00197(((((8989@@@CB:999;FEPKKQJLJIOH<CFDFD5ECBBA?DFFED6HCDFF@G=<@65<BADD4BECEA=CFFDBBCBBCAA>?BCDC7-+-22*)&%&(*/.-//00EDFGGFED>A@CCFKIMJIE@=<;<=<87777;??@66666D:9867899>@?@?2000096*()$$$$#$$'-+('%$$$                                                                                                                                                                                                                                        \n",
       "6      '(('&(//08965221/./012.-//8;;;==:9201+)(&&,036433/.1*&'149;1<87:32==;==:<;:??29<;:;,114=+*487;;/76799>>>>=;65447%%(04/./2-+++++*,,,'('+'-3-,,+,-/+))*)((+)*;:44448.,-,-+))()'''&&&&&%%(&&&$$$#######%$%$$$##                                                                                                                                                                                                                                                                                                                                                                                                                                            \n",
       "7      %%%*,,****%####$$'%%&*+-,,,+********2<=<=>>A>===<<=<==FEEIINLIHEDDGEJKS43333<FJSLI?>75546:97810220)1;;;;842+*3;<>>AHFC<8/A@>@<=?ED@AGHGGCBEKIABGFMLFGAABFC?CFNNPGGD?=91,.,,,,(%%)+..-,-../0026/('&&&'%%%(&$$%246457)))4256577;:>6665410///01.1////.///.,,)))'&''                                                                                                                                                                                                                                                                                                                                                                                        \n",
       "8      )---.-,&%$$###%&&)+0144330/...////;;;;CDHHIHJHIFED8:BDDEEKHKIDCDEFIGEAAAAABGGDDD==***-6@??@<>>=<:==@@?>CGGGCCCGE@57:AB@@:8??>?ACCBC<:=<:;;8;;:;8202-/,*+'&*35532379:;;=?@ABEEEFFHHHFEFEDCCCBAAABBBBBCBA?<;+(186;@ADBDCEBDCF.--,--47<FISKKG@77EHHSIJIKKIKGCBI>BEGGFEEFHKKKHKJHJGGDGENHHIHOHEJIFFEEE??>;;<98.,&                                                                                                                                                                                                                                                                                                                                           \n",
       "9      ####$$%&$%###%&'(('()*,...2334856666EEE@@@CD>===>AAAABA@@@@JJHHHGJHFFFF::::::@?>@@974411-*+(((*,()++,1*/8=?A>@CDFFD?ABCC?:<686/--//+057;>D<?CEFIEABGGADEDEEA<9HEDEB@DEDD<79DFDD<@BA3222235666;<<=;;-,))((''&&&(''%%&&$%##$$$$$$%#$&&(*+))((,../123?DDCDDIICBCB@99989)((('*(''&''(++-...89:9==;;;;<;87@AIEGGIFIBA;=((((*937<?DFJDB>--CDCGFHJJPJCA><:7=99979988;;;HHGFDFHGFEIF<@9433499;6.../,,,,,*)'                                                                                                                                                                                                                                                     \n",
       "10     -0000++((*.38999::@QJHHHLSNPIHJNKPJMILLPLJGIGGLSJJNOINIGFDCCC34;;?B@7<;88+)->@747><>?=@EEDF@EHHIGBHGGGH=JFIEA>CC@@<49;9<1025466-5510-*+,.33++*&%%$$%&(*,--.35<@DKOKJOJADDBBDFKGGGHHNKF??CCDECDD>EIGGIOIHGLIKKJPSOHLGMFKG;;;+556732()&&++(+++;;;=EGBBB99889EIBJRLHGHDEEGKSJNSKNPS<;AA@DEDGJIJJKDCCB?ECA=;56=@GJLMJLGDDGGHK44>=RECB>FFEIIISKINMOJIMHKNJGSGMJEGFE333454336.-------+('')(-,)''&&&&&&&'+*)('&%                                                                                                                                                                                                                                               \n",
       "11     ##$$$$%$$$$#$$$$%&)&&&''()))))))+),,,-78DB=<<=>@@BECBBCBDGHIJJOLNHFFGEFGEBBBABDF><)((+43/128<>ACFFFEECEGJFCDFHMHGDGMLIGFGGHFECEEHKFECBB>61<=A@><>>===3669?654>>>99<?<;;=B@>>>====3---,,*+,-7:?>;6()<<)))))*)%$##&*+%&+++*&&'&())((%$$&&'+,56????@DCHGI@@@@@????4432)(((()*-222/../:<CFEGCGMIIDBA<:8::<AFBC>CELCCBFIIEACEEFE5111=<<<<>==<.,,)%%%%%&*+-/23:;:46--*)))&%&&'(./1=>@BABA<<<;::9:==><<;<;<:8731                                                                                                                                                                                                                                               \n",
       "12     #$$%('(''&&&*,,,,**)'''''+((((*,.0000,+++,-111:>DDDDDFHFIECDBBCECDCBC@@=9743338@AB>C:??>=:3FFGIHIJKICGFNSNEKMSMKKIKIRRLIKLIGJH<FFIIFHGGFDA0DDFE>:4;ABC?@<99:1446:9@DIJ?93.8KG<ACBNJIIMPQJHELMIKGKLSJKJJIHLOICGFF1110003<EFFSJSKGC;;GFBA@?BDF@;:9::2)((*+***11778ABB@>=>=:7774/'                                                                                                                                                                                                                                                                                                                                                                         \n",
       "13     ##$%$####$%%%&''-+++)('((*++)****/0462000/..///@@@CDDDCC===;;=<<-,,,)+('&'&%&&&&(,0436599=<@>@?@@@@A@A@BABBBBCABACBCAA@BACADBECCCDBDCEDDCDCCCDCBBBCBCCBBABAAA@@A@@@A@A@@?@@@@AAAABBBBCCCDDDDDDDDCCBBABBAAABBAAAA@?>;9899:<<==?>@@AAAABABABBDBEDEEEEFDECDCBB@A@A@@@@@@AAA@AAAAAAA@A@@???????@@AABBCCCCCCBA@@?><;9889:;<=>>??@?@@AAAABAAAA@A?????FDFEHFGEGCDBC@A??=908:8<;:;94=;::;<CFFDCBCEGEA>@BHFCBBBC@90==<><:>@<;;867878::7;>HIJJKKSC911FFGEEEEEHGB@@BB?;9:9765669;AFEE??764420+*'                                                                                                                                                                   \n",
       "14     $%''%$##$$$%$$%%%&&&&$$$$$*--,----/6;;7777766666:99::,+++('&&''((()))-,*)*%)..125=?@AABBBAA@?><>=@?@??>>=?=?>@@B@?681,)*(*2:>@==<??<;=@@@?A@BCA<75?==;9>FFC?=BEHHEDEHECA?:@==99>GEF@DIGKKIJKIMHIFGINGHHHILJMFKDF6554449BDDFE*)''&%%&'(,-24788979<878?CDFIGHIGI?>877777656                                                                                                                                                                                                                                                                                                                                                                               \n",
       "15     %&&(((&''(%$$$$$&&,'&&&'''&&%%$&&'(&'&&&'(53345;<<===EECFHIKLGIIJHEEBB)((((((((50(&&&(()**'*2220+****399;=61=@@A?<BGHBEDEJJGHFELIK=BEFGC@5;?IBGIHMHGCCEJHFDBFIGD==ACBA:>AHFBB878@=:6=BA<:3:<4127>>>??2DCB??:AFGGGDDCD1000007=@ACGIGDC6732*****+)&%',.31.-*+++,+00024?@BA@@??ABCC?B=                                                                                                                                                                                                                                                                                                                                                                     \n",
       "16     #%&.09<ED@@@@ABCBDED@@@??PHJNJKIJGHHIQIOSOILFFDDJRGLLIHGFFD@=A+/9047<<<..5=>CCCBB/88AED?DCAEECRFGJKAFEDC99=CDEF5?:9*+04*024BA088;FF@IEDEB>AA?BB9ALMSPLLJFA>>>?FMSSSJKGEAHBABDSJHSNLIRJICAB@@670<BCFFEGHIGFDEFGHGFGHM;;;<A@47754,'%%&')(()-/2134@??@@??:88899=ACDKIINIHHHJNHIMIMLSLMLNBMGEEE@DPKIFHFEFHCB>@CDCA:99:>GIMEB?66669=>?;0.1GKLJK>?@GQKQOIJNKJKSMJJMMSQJKMSH>=65=DBFDDE>>>>>CDBA?@@?><9)'&$$######$$###                                                                                                                                                                                                                                        \n",
       "17     %%&()-+*))('(((..-....667<:58888DD@EFGGFDFGHJSSMKOHGIIGEBC48GDEEC@CEA3314CBCC:<EBBB4BA@IBADDEC96BDB@)(/AAABHEJGCCB=.--:EEC72283222344335@@FDEFIGHNHC====776689><;==>NNNNGGGIHFLRIDE<;<<<DGISPGIGGGIFD5FA?@@6<><;;//3?;5-+>:664::::9.323:;0;:666/<;630/.++*))*+01239<<>>>;:=CEGIGDDC?>>98@@@CA>-,,,,5557>ECFFEKJNJOJRSJSLSGHMPLHKSLBAAA@@?;;32--('**)(+''&%#$#####$$                                                                                                                                                                                                                                                                                     \n",
       "18     $$%%%%%$##$#######$$$%%%(+,,8==43337/....,+++,'&%%$$$$$$%%%%%&&'&&')+,..*''****)**+,57894:<<?>BHIIGCJJHILLIHEDB9CEDBBADGB@?=??@>>=;:8953357:;-,,+-/)(((+*')(,/0268997971.--)()((-124436778>AB;>00<DGEIILHGJHGHIF@::;CAABBDEFHHEFEFGD@=;::97                                                                                                                                                                                                                                                                                                                                                                                                             \n",
       "19     &''*+*'',,(%%%%%&&&%'&(,4;@ECC;:99:=?A775549:KIKIFHIIJGINHJHIJJJHIGFLFMHJKFDCCAAFGJMG=;210../044;==?8@ECEE@GMLRIHGHID?>>CBA=5>@KHIIHJCB>75;??ABFIPDDADHHKA@A?<80))'''(*-202345;<<<;:74013466?DEJKJLH=11=<5311101//0234-++,/00012<=EFHIPJKGECA?;<;852)&&%$#####$$%%'''''''%$$&&'(((8::112JLKGIJKECDCD76667EDB????FKLHHB@@?9865434515;::500/---++,+''(()77CEILLHJ@66-,++++++*((*-,///00.'''''(()CJGAB<;;999854-++,/-**'&&%%%'')))                                                                                                                                                                                                                         \n",
       "20     #$$$$%%&%$$$###$$%%''))**+*%%&&&())*644211/0***+''''''''':<;;;;<GGA?A@?,,,,,,A@CHGB?99511/-0/18:99;<<=:788777187557488891,7??=@BDHHG@BHSHHCEHNLDBCELIJE=8<=?@?FJHHFFCSNNJINIIPJFEC40156A@AFFIKLC5801DGFFJLSKLECCFCF<621013388CGJJQKIJHJKIKKMJIJHFFMIKSIMJOLILINKKLIIMSJLPLIJHMQIKJRMSSNNKNI????;;8776:;>CEFGG<JSLKGHFFF.-----1<>CHLJJKEE@33GKGGILJHLJGDC@>;1+++/0034;<=GJFGGGIIJJJJISF+++-?@BB@@=>;:;85,,)                                                                                                                                                                                                                                              \n",
       "21     '+*)(($###$$%%&&*.679:7766689@ABCHHJHIFII;:::754333(((*<???AIGHLJHNGIKHGFJSJHG>:33.(''+/1566818:;?CGCSLKA=IID>;6<@MEC<-88:988ACDEBEFDD=;ADHGB@CIHGHFLJHA97;=?<=:BEF?:6;BLHEGFOOGGBCESEFKECSJFJHKMEEDDFJNLJIIC@@@>B@:LJKSQKSA@GFGKHMIIJMC?>@B532144//+**+'&&&&EFHGFFFEKGIJIF=<<<?>ABA,+++..*))(&&&                                                                                                                                                                                                                                                                                                                                                       \n",
       "22     $$$&&''%####$$$%&&(,.+++++*-//.///0<9788:AGEFFHKJNJIHIFFGJGKJFJOGFDEF4100/01001..-*)*--211'*./.-2.---69<=>?=@@><71<?>>9424421/633356986567843135AA@@A?9<<<:679::;;<=<>?@ABA==66665..-)3051223233443521157@B??@DCAA@@@=<=<=?>@@??:99965)%$####$$%&&')'%%%%%,117;=<>???DFGMIHKGH@AB54.&&&&+444566=CFDF>=<=;;==;>>836>;>9::8000,+++).0002.//1=EEED@;;DEFGKIGFHC;:9;A?BAACB????>;:9:;:43,+*&%$$#\"#####$$$$$$&&%%&&((((%%'''''&&&'''''))46689;EGDBDCDAA@@B<<<=DEEEDBCA=4333))**+44448FHCEFOC<>:GEB<:ACC=84:;>B><FHHIHEFFC?=<EHGGIDSSSHIIMKQJMLIHB>;;=<>;ABDRSBEC+,?@@BBBBCCA??@B>;8755459:==CEEBAB?<977422/,,                                                \n",
       "23     '''')&%%%%%$%%%$##$$$$$$$$%&&&%%%&&'***79:99:<>>=;<8)))),32234@@?@----.768779:;<@@AHGB@;;7589=>@@?@=8:;<<71<>>@A2=<<==7CBCCCCEEFGBCBHHAA>FHNSH>C>=>62652432:ADFB@AABCD?D><?>2CDBBC@AAB@=<==;<DGPJKGB7++*(&%%%%&(''(-.24&&&)'&%$$$%%<=?::555420.('&$$$%&&'$\"##$&'(&&'('+*))&%&&'02-,)''('((48@@?@=>>FJHHMRIHLMNQIGIFEJFGD===;;;;77DJCLJSIIFJISOKHHFC@<<??@=CDEGJKILLIA89CC322226<222:;>8,++0279:=?ABBECBBB@?@>><;84                                                                                                                                                                                                                                      \n",
       "24     $(')*(&'''+))))*('&%$%%('(('&''((1243-,+-+-4;==ACBCA>BEE-.777;GDIFBGJFGEBF@??:9>FDGE;FEBB66899A87<BDAB>@,46<??==35<:?A<?IHIFGFFGDBCA>>>A@=:;@F?7444445521125:;ADB@?<<=4BCCDGHMHJIE43334::9<<<988887?B988897:99899;<>>>>54321400*)(&&$%$$$$$###                                                                                                                                                                                                                                                                                                                                                                                                          \n",
       "25     --02;;*(('''(((77;BBBBDEBC@22211778=?,***+**))&&(&&&)*++346<?;;54.44844778<:DA@@5-++),+/))1::;9;=<-6+*2799.89=?54***0=//24510/)''&&'*/0111,,,--7:58875612594:::;3-252)))))()++,56445666:HEFFIILKISPSIPF44A?=>9105:DKLIPLMSOFEGE>44666777....//56454222))*****)***())124442.+++++0)'(((()**+.//<BCAHGCFC76..5?>BABEECFI<EB;;;=C:999=@CEGG8@BCEF;FDD<;;;;;=;43331/0/..//.//00;:9889677*).9=931/112210//../.**//00322CCAE>==2072++++,0../.,''''())*(''(&%%&&&'')-+('*00,+%$                                                                                                                                                                                \n",
       "26     ##$#$$$$$$&%%&&'*59::;:94422*****4410134<6333333335????ALJMJNONIJGHG8(((((IGHJJIE===@LFDEEDFDA@CFDEB@CECEF8CCBDE>FDBB?8@HFGEDFCCE88:=?>8887120-*+/))+)+,-3:9;<7@GGJCBDINGGEHILC==>;?>EHJQQ=AH))DC=::::<?B@=76:2/..-()(')((''(*+2>BBCBCBCEGHGHOKSJPJQOFHLGEEEEGGMILOKHJJLNJGGNKEEDEFIKIFGFFFEGFLJKJLHHJ>KNHIGFHOLLIDFIJ9998<A>EHHKLJLHA6322310-***/))+/03465887888:@@?AA@ADBAA?==:6                                                                                                                                                                                                                                                                      \n",
       "27     &%$%&'+%$%+&%%%%&(*.5789<==?>11---57675.+++-++,-+,6<<<=A@;;9,-6;;?@4:43894:?>@@37><?77;AACD<CAADA<.--4,+.@=?B0:9@=++0;;??,98>BC7=>=?=2=+-)6<=ECDDDCB@?<6569:;<<=A>>??<<<<==H><;=778+<>>;*****ADOSLLLQIIKQFLL<;(''((HFG,,,,,DDCEDEDDGHFFFEFGGCEFDEC>===>=;.+**.;;;;;A?A?8(.*&&()%&&&'89;67777:::9=@?=<<=>?=82125@FJGHIFKGCDBBC@?65457BBDHLJHKIJGRNHKJHBABA>:5441034*(++++*&'''''''**'&&'''((,+$$$$$$$$$$%                                                                                                                                                                                                                                                \n",
       "28     #$%'%$$$%%%%+*,-1//001.,((''''&'''&..288767555779...../,++,-.??EFHA@@@==;59//2;>BAC@9:8676.0/111278446@@FFDBAGSLJS?DHSHHAAEEFDBGJNRKMILSDBC<>=:KKKSLD@B:;888>><<<EDB?>A??110'&&&&(**+------DEFGHHHSSLJHHHAAAA==:99>AA>DAA=CDFQMHMHIHIFCCFJIJFILGDE?;EGIIHBMKIGHGIKLGDB>:833///0-/001@?FJJJKSR@B++AAA@B>>@?<9677A:1100027889;;<BCDA?43349==>>>8899DEEA@<;::=@87+)(                                                                                                                                                                                                                                                                                       \n",
       "29     ####$%%###$$')((((((&'&''&&(%%%%%%&&.6/////22223888@BB>>>>>?CBA@=*)))((''''((**,-0/3532222**)))-/0/,--.*-03.38><;;=?ABA:AFE?BCIHGK;?A>87619<@?@<EDDA?=FEFDCBCFHMHEEGFHECFEHA<;=<;;7.7:;::;;::555556:>?@BAA?<77990100012.---/320/**'&))*00124?@CBB63210*))'&                                                                                                                                                                                                                                                                                                                                                                                             \n",
       "30     '&&&(*)('%$###$$$$&$&'(*.---)(''&')('%$%$$&&''((**.(''%%'&&%&&''$$$%%%%%$#$%&()+-.224588::;;;;::9:7860,+)().22243345555522229;?><:6:>DB@:9<D??@?B@=5.7:BAA@?@?;::<>?>9368=::65:?>=;==522165556;<=??>=:=><JSSSSKG><88998:::;;;;?99?;0,++//45567?@@BFD>=-**)&'$%                                                                                                                                                                                                                                                                                                                                                                                          \n",
       "⋮      ⋮                                                                                                                                                                                                                                                                                                                                                                                                                                                                                                                                                                                                                                                       \n",
       "451582 &&#$$$%&''((*,-+,,--+(()589<>>??FHDCDEFCC<::::ABB?????HGHHFGRIFIJIDJNGDDAACCGBA?>6456301644.,.&&%%%''(*229AEB>66689BAABCHFBD?E@JJGHGECGFGHHFHHFE=;87755442                                                                                                                                                                                                                                                                                                                                                                                                                                                                                              \n",
       "451583 #''&'(+))*031127966688?>10ABCDA?;?<@>>>??ACHEEDDDEE<<;;<?@>>0/2217777;860---,))('&%&'&&'(((('&%%&((+)(('%$$$                                                                                                                                                                                                                                                                                                                                                                                                                                                                                                                                            \n",
       "451584 ###$$$%%'(*)*,+-/./*&''(+++,4..+++,,544555555587777HLHLHIHINKJJ222224DDEEFAA;61.(''(()*)))(()(+))'&'''-0/3//;@@A@?@BHEC;<==98877430'''''378886666:;;331//024**50.-,,,.,+)))                                                                                                                                                                                                                                                                                                                                                                                                                                                                             \n",
       "451585 #$$$$$'''&$$$$####$%%%''++++))***05558>==>>BCEDEFHIJPJPGFEHFFFEDBBBB@A@>/*((()4445544332/++++354432564431-,,*)1033,,::98888996668;FGFDDDB?@?>>8788EDAA;:::;;;7660---,+,++*((()%%$$$%%                                                                                                                                                                                                                                                                                                                                                                                                                                                                   \n",
       "451586 '''*,***)%$$%%&&(+&%#$#%%%%&%%%**+-8::;;;>A0///-,++++411246GGDEPHBBB@@55555=<<<<=0+++*,+.>?<:::9861**)*)('%%%&&./034589:CDBCAA.--.<;;?BA@?ACCABCBDFEDEDDDEIGFEFGB@@AEDEDA,++++1.*(()'                                                                                                                                                                                                                                                                                                                                                                                                                                                                   \n",
       "451587 $(+*+)%$$###$',)&'(34>???><66567:)))))+,CFDDFEFGGIII=<<<=JHLIHOMJIJHI533322<::::9987/.+(%%&''(+)*'%%%&-,??=<-.ABDDDDDA>1....887770+)*+--1114556:9:9411/.,*''(.83;;668=<<=<:,+*                                                                                                                                                                                                                                                                                                                                                                                                                                                                          \n",
       "451588 #$%&'%$##$%&')+-))**+..--,)%%%%**+<===>@OI;9992////2+****-::999:BFJEIFLNOGGFGFGFFLEF<;89/++/./100.)(()&$%%$-007//3402211243349<BCCCCAA@DCDGGGPIHE><999766510                                                                                                                                                                                                                                                                                                                                                                                                                                                                                            \n",
       "451589 ()),.44,*)))+,,,--24344---/4998:<ABE;9999B>=>>>BDBAA@@CACB31222<3*,)))'''(;:=;::;@EEDCCEEGHFFKJ@>2213:@@ACEIFGGHFECCBCCBCAFDHHEHC3A@<<:997444211/..000/'''&$%%%(*()'$$$#                                                                                                                                                                                                                                                                                                                                                                                                                                                                                \n",
       "451590 .//0611448:9<@:9988989<<<@CEFECB>=;:8-.-+,)&&%%$$%+,/-..//4421///0--.15./29::::>=?@?:886674347:322///+++*....+****+5565++&%$###$$%%%%                                                                                                                                                                                                                                                                                                                                                                                                                                                                                                                   \n",
       "451591 )*((*0.0/1335::::9BCFCB@A>>32-,14778=BEDDDCBBAA<;BAABBABB?CA262+++++3++.-++++,)'''%&%%$%$&%$%%$$$$$%%%%%&%%$                                                                                                                                                                                                                                                                                                                                                                                                                                                                                                                                            \n",
       "451592 $$$%))),(((-)**,+222300-,++*+**++((((,7////00CDDEDDDDDHJJEFGFGIIIEBAA??AADKSEFDD<9::723./0.1*(())(%$%&+.99:88)(((()+(()24FGHFDDAABCFIJHSJGHFFCBC?=<;99:99:;;@BB>8//.33,(%%$                                                                                                                                                                                                                                                                                                                                                                                                                                                                             \n",
       "451593 ##$%%%##$$$%%$%%&%%%&&&&&58:9===;=>IFA@@AACBB@@((((()....//:;AAA877767742231100**)(''&%&'*****)(**('60:89=CCMIJNGIG@==FDEGHIIEFDFDHSOLSFHHHGSHSOKJSHDEIOBBDC@.---/5(&%                                                                                                                                                                                                                                                                                                                                                                                                                                                                                  \n",
       "451594 #$%#$%%$%%%&&')''(,,....*)))*-+*+)(&&'&'(--...<<;<==@@AAAAB???>>>>8344347779:<4545;@?A<99<;>0,,,,4)))))-)1&'@@<=>>?@A:997<DFFSGEDBC@>???ACAB@@====><;;>><;:86544444::.-'                                                                                                                                                                                                                                                                                                                                                                                                                                                                                \n",
       "451595 $%%$$%#####$%'%&'(&')))*+***.''(,-BCCBBBEEIFKIMLMIJQHIIINJLQKKPCCEBDAA?@A?><;9959889877''(),-**+,,436/0CDEFIHLHJFE@=@EHIJHE?>>?EIKOMNKJKSGFEEDCCCFKDBBE?BCA=<<>54444,*)'                                                                                                                                                                                                                                                                                                                                                                                                                                                                                \n",
       "451596 ####$$%$$%&$$$$%&(+*$$$#$%&&'&'(((((**%%&&&&**DB>=<==BCDEG,,,,,/GGHEEDEDECA1000*++('%(()0.,./-//''''.-,..))''3+6-.>BDEFECCCE<;:9<<DDFEDDDDGHISHKIIHKKMKJLIHJKBABCA?CB@@@@;7643*))                                                                                                                                                                                                                                                                                                                                                                                                                                                                       \n",
       "451597 $$$%%$$####%%%&')'(),,,-****&'''()**++++378433433333510//,/4--55678;;;<<=>=>@==<:6554****777776..0-+'''(&%%%'31900;;<>>>>==<<85?>>>>??<9320,,+,,2;;:99:::<<<;;1***899:;;;;::9976-,)                                                                                                                                                                                                                                                                                                                                                                                                                                                                     \n",
       "451598 $$$%$$$&''('((('(*+)+...,,-./5784554355<>><;;<?@NMLGMIIMSMKSHOOIKRJJ<33333<;888<2+369:520//0*)))('++&%::?77CEBCCDECD</--.69BBCBBEDFEOKKFJJGIGFGFJJIGF74445@>A><;=?=;<63*)(&                                                                                                                                                                                                                                                                                                                                                                                                                                                                             \n",
       "451599 $$$%$$%''&&&'%&(-((&'''*99:;==11222:::83333=DECCGCBBDEFGGIHJLHMILIE?>>=>GFGLLAA??00//1-5776*).+((&'&''(&''&,24().01;;;;;=)(():BAA@=:65--,,-3?BE==332/+*)&                                                                                                                                                                                                                                                                                                                                                                                                                                                                                               \n",
       "451600 #$%&&%%(*+,332342443489851///....--./0=?@C@:99990---.3JFEBCCEMSJG@????BH>;;<:<76....+*+.++'(-,,-*++,,12325/=..///55557:6677998>FH?=<<65554883311/1112220                                                                                                                                                                                                                                                                                                                                                                                                                                                                                                \n",
       "451601 #####$%&&&')*.345667451,+++,33355@=87668<<==?BABBA>?>><>=;8888::::55667==87655779:750..***(%%%$$#$''&358.-,)))((()28986<@GGHEDCAA@@@@>>>>?AA@A@ACA>===;<987.84-,,11273-**                                                                                                                                                                                                                                                                                                                                                                                                                                                                               \n",
       "451602 \"\"\"\"#####$&(''(++,++++++,+,,*))%%%&')(())*****>==?CGHIFCCDBCDAA/.....111775422)%%%&$&'((*+-****,/..44A11>@=>>>>@G?>===>FJIIDDAA?><<=?CEEFJGIGIISGGJ:432332860/04-+,,---                                                                                                                                                                                                                                                                                                                                                                                                                                                                                 \n",
       "451603 ,,,-..,***)))*('''')*)))*****-.-/,++,,58/...))))));:8;>HGLGGHIHAAA@2211163323336421/.,(***+)(()&&%%$%$%05912?A5444458222479HFC=<<<@@@@BCCIMJFE9887899443                                                                                                                                                                                                                                                                                                                                                                                                                                                                                                \n",
       "451604 $%%(&$$&&(--/-/0<=DCDEEFFFEGIGEHIGHMNKGIIHJFDCCFF;999:GHKJJGHIGSJSIKKIJKGGFHGGN@=/%$$$$%&$%&''/0=.,---===>?A????DFSSJKIHGMHKORNSKPLIKIKJJIMIDHHCBADEBB?>>>>?@;:--+                                                                                                                                                                                                                                                                                                                                                                                                                                                                                      \n",
       "451605 #$$%&&$%&&%$$$$$#$$%%$$$$$$$$$%%())))))*,/.....11223)((()<>>>@ABB?A@@6555+++*+45.---868=;.+++../0/0-----1184;555?;<;99:=75327;<<;:8774*))(%%%&&(9@CBDCCCCHEFDC?9776603)&&&.%%%$&                                                                                                                                                                                                                                                                                                                                                                                                                                                                        \n",
       "451606 #$#$%%%%$$$$$$$'''+-,//.-+'&&&)677<==677=>BDDD@@??@ADDDIOJJHKKJMSMSMNJNJLJGNILLIPSII@>;4*()()&')&$$##$'(*+(//9>??DIDEGHGGA@FHGEFHJMEI32234BFQKFKEECA>?;76-                                                                                                                                                                                                                                                                                                                                                                                                                                                                                              \n",
       "451607 $&&(+*+**+,--,-.0024976:@AABDDB?@@?@@FEFDDAABBBEBBCBAECDFA;AA2222384453,**++/00101++++)'&&%%&&$$$                                                                                                                                                                                                                                                                                                                                                                                                                                                                                                                                                       \n",
       "451608 &)0<@HHIHFEFGEIHGGJGHLKJMHIJLLIIIIGIJHLNJJLKMSMGGJFOKOKKSJNPKHJCFBA/2-974,00..-,&%&%%&%&&)).*)+*+,1,+**))*,0:8-49:>?IHGENFKIIPIMHIJJF333333<:881,,+'''%$$#$%&%&&&'*-+*),&%$$$%%$%$$$                                                                                                                                                                                                                                                                                                                                                                                                                                                                    \n",
       "451609 &&$&')'&&%%&&''/(((((6444('''(.111122345688444566=>?>=<=>BDBB??AEDDDC;:9:9>BBBGGDDDECB@CA>=<:93.,('&%$$$&))))''&+***,,.0/-.-0010010/.-//336EFECC???<;:94                                                                                                                                                                                                                                                                                                                                                                                                                                                                                                \n",
       "451610 ,-...<=11111CDIJMSJ@GFMIINSKRNPJSLPIF=48875332/*%%$%&&+'('&%%%'/0?>>?>DCDCBBDCF@@???CCEPFMKSLSILNKLQPJKLLMLKKE77<</.+**+*)))++016771./.,')'&%&&&'$#####                                                                                                                                                                                                                                                                                                                                                                                                                                                                                                 \n",
       "451611 '(.02,,+-.+++++995495511101224-,,,++,+,11-,,,,,754..../(02(&&%%)(((&&&%%+****+'%%$$###%$$%&%%%%                                                                                                                                                                                                                                                                                                                                                                                                                                                                                                                                                         \n",
       "       cigar                                                          mapq\n",
       "1      75S11M5D40M71D17M1D1M2D6M3D12M1I7M1I5M1I30M1D11M8S             13  \n",
       "2      93S10M5D67M59D3M1D3M1D14M5D3M1D2M2I6M1I31M                      1  \n",
       "3      91S10M4D17M3I54M113I40M1D27M1I27M1I32M216S                      2  \n",
       "4      64S10M5D16M3I54M106I68M1I69M34S                                40  \n",
       "5      43S10M5D16M3I54M102I137M35S                                    42  \n",
       "6      29S10M5D16M66D65M4D14M4D30M1D7M33S                              1  \n",
       "7      88S33M48D51M2D23M1D5M1I7M3I27M1I10M7S                           1  \n",
       "8      86S14M3D51M1D97M1I42M10S                                       29  \n",
       "9      86S15M2D72M83I21M2I98M10S                                      28  \n",
       "10     62S11M4D67M1I10M67I5M1D4M5I2M1I1M9I4M2I2M1I2M1I2M9I24M2D67M34S  1  \n",
       "11     92S16M3I58M101I64M1D21M2I36M                                   15  \n",
       "12     69S16M3I122M1I27M1I32M                                         26  \n",
       "13     274S15M1I176M3S                                                 9  \n",
       "14     73S15M1I131M3D1M1D12M1I31M                                      8  \n",
       "15     85S12M4D145M1I31M1S                                            32  \n",
       "16     62S10M1D42M2I35M100I9M2I8M1D3M3I49M1I43M31S                     1  \n",
       "17     50S7M1D3M1D49M78I17M1I12M1D65M1D41M32S                         57  \n",
       "18     46S11M1I4M1I12M4I4M1D1M1D120M1I30M                             34  \n",
       "19     87S89M123I9M2I29M1D68M8S                                        5  \n",
       "20     84S89M100I9M2I29M2I69M10S                                       0  \n",
       "21     80S127M2D25M1I11M1D2M3I28M12S                                  26  \n",
       "22     82S89M111I9M2I56M1I25M209S                                      1  \n",
       "23     87S89M125I9M2I29M2I27M1I31M                                    15  \n",
       "24     6S7M1D6M1I14M1I20M2I48M2D29M1D26M1I44M33S                      36  \n",
       "25     61S10M1D15M4D14M1D16M1I7M4D28M2D25M1D26M1I43M209S              22  \n",
       "26     82S59M2D27M104I9M2I29M1I57M                                     8  \n",
       "27     59S77M2D9M94I7M7I4M1D3M3I9M4I40M1I41M34S                       18  \n",
       "28     76S54M75I95M1I42M10S                                           54  \n",
       "29     72S17M1I4M1D3M3D6M1I87M1D31M2I19M8S                            13  \n",
       "30     75S148M1I25M1D5M                                               20  \n",
       "⋮      ⋮                                                              ⋮   \n",
       "451582 102S20M1I31M                                                    5  \n",
       "451583 7S63M38S                                                       36  \n",
       "451584 99S57M15S                                                       6  \n",
       "451585 107S19M1I37M17S                                                 6  \n",
       "451586 108S61M12S                                                     20  \n",
       "451587 101S19M1I43M10S                                                24  \n",
       "451588 104S19M1I32M                                                    5  \n",
       "451589 75S19M1I43M30S                                                 24  \n",
       "451590 51S19M3D40M23S                                                 22  \n",
       "451591 6S20M1I42M39S                                                  33  \n",
       "451592 99S18M1I43M10S                                                 21  \n",
       "451593 97S61M8S                                                       22  \n",
       "451594 100S18M1I40M9S                                                 16  \n",
       "451595 95S18M1I43M11S                                                 21  \n",
       "451596 106S61M10S                                                     32  \n",
       "451597 106S18M2I43M10S                                                15  \n",
       "451598 99S61M11S                                                      32  \n",
       "451599 104S49M                                                         2  \n",
       "451600 102S18M1I31M                                                    2  \n",
       "451601 98S18M1I38M14S                                                  2  \n",
       "451602 96S18M1I42M10S                                                 16  \n",
       "451603 100S18M1I32M1S                                                  2  \n",
       "451604 91S18M1I41M11S                                                 16  \n",
       "451605 103S18M5I40M10S                                                10  \n",
       "451606 103S17M1I33M                                                    2  \n",
       "451607 6S13M1I47M30S                                                   8  \n",
       "451608 91S17M4D39M33S                                                 19  \n",
       "451609 105S47M                                                         2  \n",
       "451610 64S56M31S                                                      18  \n",
       "451611 8S13M1I42M31S                                                  21  "
      ]
     },
     "metadata": {},
     "output_type": "display_data"
    }
   ],
   "source": [
    "bams$`20240530_AL5RACE002`"
   ]
  },
  {
   "cell_type": "code",
   "execution_count": 15,
   "id": "c2815c11-5c26-423f-bbcb-e9d590ee0d7f",
   "metadata": {
    "execution": {
     "iopub.execute_input": "2024-06-11T14:18:31.935471Z",
     "iopub.status.busy": "2024-06-11T14:18:31.933405Z",
     "iopub.status.idle": "2024-06-11T14:18:31.981966Z",
     "shell.execute_reply": "2024-06-11T14:18:31.979542Z"
    },
    "vscode": {
     "languageId": "r"
    }
   },
   "outputs": [
    {
     "data": {
      "text/plain": [
       ".\n",
       "     0     16 \n",
       "291220 160391 "
      ]
     },
     "metadata": {},
     "output_type": "display_data"
    }
   ],
   "source": [
    "bams$`20240530_AL5RACE002`$flag %>% table()"
   ]
  },
  {
   "cell_type": "markdown",
   "id": "ce403fd7-376c-4377-8801-56ede0e86d1d",
   "metadata": {},
   "source": [
    "## Benchmarking time for primer detection"
   ]
  },
  {
   "cell_type": "code",
   "execution_count": 16,
   "id": "d1ef322c-fa10-4492-ad2f-acdaf9ee3e39",
   "metadata": {
    "execution": {
     "iopub.execute_input": "2024-06-11T14:18:31.992033Z",
     "iopub.status.busy": "2024-06-11T14:18:31.989941Z",
     "iopub.status.idle": "2024-06-11T14:18:32.009841Z",
     "shell.execute_reply": "2024-06-11T14:18:32.007521Z"
    },
    "vscode": {
     "languageId": "r"
    }
   },
   "outputs": [],
   "source": [
    "minibam = bams$`20240530_AL5RACE002` %>% head(1000)"
   ]
  },
  {
   "cell_type": "code",
   "execution_count": 17,
   "id": "64befc16-11f6-4190-b86a-857a357e8bd3",
   "metadata": {
    "execution": {
     "iopub.execute_input": "2024-06-11T14:18:32.018651Z",
     "iopub.status.busy": "2024-06-11T14:18:32.016734Z",
     "iopub.status.idle": "2024-06-11T14:18:32.033188Z",
     "shell.execute_reply": "2024-06-11T14:18:32.030900Z"
    },
    "vscode": {
     "languageId": "r"
    }
   },
   "outputs": [],
   "source": [
    "# # comparing 2 threads\n",
    "# start = Sys.time()\n",
    "\n",
    "# test1 = search_pattern(input_table = minibam,\n",
    "#                        prefix = \"smarter_oligo\",\n",
    "#                        pattern = \"CTAATACGACTCACTATAGGGCAAGCAGTGGTATCAACGCAGAGTACATGGG\",\n",
    "#                        threads = 2)\n",
    "\n",
    "# end = Sys.time()\n",
    "# round(end - start,2)"
   ]
  },
  {
   "cell_type": "code",
   "execution_count": 18,
   "id": "e8d00320-7e46-4e62-961c-3e783b5f6743",
   "metadata": {
    "execution": {
     "iopub.execute_input": "2024-06-11T14:18:32.042181Z",
     "iopub.status.busy": "2024-06-11T14:18:32.040292Z",
     "iopub.status.idle": "2024-06-11T14:18:43.375285Z",
     "shell.execute_reply": "2024-06-11T14:18:43.372382Z"
    },
    "vscode": {
     "languageId": "r"
    }
   },
   "outputs": [
    {
     "data": {
      "text/plain": [
       "Time difference of 11.31 secs"
      ]
     },
     "metadata": {},
     "output_type": "display_data"
    }
   ],
   "source": [
    "start = Sys.time()\n",
    "\n",
    "test2 = search_pattern(input_table = minibam,\n",
    "                       prefix = \"smarter_oligo\",\n",
    "                       pattern = \"CTAATACGACTCACTATAGGGCAAGCAGTGGTATCAACGCAGAGTACATGGG\",\n",
    "                       threads = 30)\n",
    "\n",
    "end = Sys.time()\n",
    "round(end - start,2)"
   ]
  },
  {
   "cell_type": "markdown",
   "id": "7ec7b8df-ea75-4b44-930c-c96d0e57af22",
   "metadata": {},
   "source": [
    "## Running primer detection"
   ]
  },
  {
   "cell_type": "markdown",
   "id": "008d300d-b2c5-4fe7-b796-0d4e2e07200a",
   "metadata": {},
   "source": [
    "### Finding evidence to filter out concatamers"
   ]
  },
  {
   "cell_type": "code",
   "execution_count": 19,
   "id": "27be2e43-8090-4d3c-9fcd-de0ba1f4850d",
   "metadata": {
    "execution": {
     "iopub.execute_input": "2024-06-11T14:18:43.384310Z",
     "iopub.status.busy": "2024-06-11T14:18:43.381680Z",
     "iopub.status.idle": "2024-06-11T14:18:44.176383Z",
     "shell.execute_reply": "2024-06-11T14:18:44.173322Z"
    },
    "vscode": {
     "languageId": "r"
    }
   },
   "outputs": [
    {
     "name": "stderr",
     "output_type": "stream",
     "text": [
      "\u001b[1mRows: \u001b[22m\u001b[34m451611\u001b[39m \u001b[1mColumns: \u001b[22m\u001b[34m3\u001b[39m\n"
     ]
    },
    {
     "name": "stderr",
     "output_type": "stream",
     "text": [
      "\u001b[36m──\u001b[39m \u001b[1mColumn specification\u001b[22m \u001b[36m────────────────────────────────────────────────────────\u001b[39m\n",
      "\u001b[1mDelimiter:\u001b[22m \"\\t\"\n",
      "\u001b[31mchr\u001b[39m (2): qname, RG_tag\n",
      "\u001b[32mdbl\u001b[39m (1): xdpsvatsd__n_hits\n"
     ]
    },
    {
     "name": "stderr",
     "output_type": "stream",
     "text": [
      "\n",
      "\u001b[36mℹ\u001b[39m Use `spec()` to retrieve the full column specification for this data.\n",
      "\u001b[36mℹ\u001b[39m Specify the column types or set `show_col_types = FALSE` to quiet this message.\n"
     ]
    }
   ],
   "source": [
    "outfile = \"primer_annot__xdpsvatsd_nhits_tib.tsv\"\n",
    "if(!file.exists(outfile)){\n",
    "    # xdpsvatsd_revcomp = \"CTATTTCATTTTTTTTTTTTC\"\n",
    "    # getting only the 5' adjacent portion for initial filtering of concatamers\n",
    "    xdpsvatsd_nhits_tib = search_str_nhits(input_table = bams$`20240530_AL5RACE002`,\n",
    "                                           prefix = \"xdpsvatsd\",\n",
    "                                           pattern = \"CTATTTCATTTTTTTTTTTTC\",\n",
    "                                           threads = 30)\n",
    "    \n",
    "    write_tsv(x = xdpsvatsd_nhits_tib, file = outfile)\n",
    "}else{\n",
    "    xdpsvatsd_nhits_tib = read_tsv(file = outfile)\n",
    "}\n",
    "\n",
    "reads_atmost1_xdpsvatsd = xdpsvatsd_nhits_tib %>%\n",
    "    filter(xdpsvatsd__n_hits < 2) %>%\n",
    "    pull(qname)"
   ]
  },
  {
   "cell_type": "code",
   "execution_count": 20,
   "id": "4599d969-aef7-45f1-b8be-50686236eef2",
   "metadata": {
    "execution": {
     "iopub.execute_input": "2024-06-11T14:18:44.186602Z",
     "iopub.status.busy": "2024-06-11T14:18:44.184384Z",
     "iopub.status.idle": "2024-06-11T14:18:44.932766Z",
     "shell.execute_reply": "2024-06-11T14:18:44.929950Z"
    },
    "vscode": {
     "languageId": "r"
    }
   },
   "outputs": [
    {
     "name": "stderr",
     "output_type": "stream",
     "text": [
      "\u001b[1mRows: \u001b[22m\u001b[34m451611\u001b[39m \u001b[1mColumns: \u001b[22m\u001b[34m3\u001b[39m\n"
     ]
    },
    {
     "name": "stderr",
     "output_type": "stream",
     "text": [
      "\u001b[36m──\u001b[39m \u001b[1mColumn specification\u001b[22m \u001b[36m────────────────────────────────────────────────────────\u001b[39m\n",
      "\u001b[1mDelimiter:\u001b[22m \"\\t\"\n",
      "\u001b[31mchr\u001b[39m (2): qname, RG_tag\n",
      "\u001b[32mdbl\u001b[39m (1): smarter_oligo__n_hits\n"
     ]
    },
    {
     "name": "stderr",
     "output_type": "stream",
     "text": [
      "\n",
      "\u001b[36mℹ\u001b[39m Use `spec()` to retrieve the full column specification for this data.\n",
      "\u001b[36mℹ\u001b[39m Specify the column types or set `show_col_types = FALSE` to quiet this message.\n"
     ]
    }
   ],
   "source": [
    "outfile = \"primer_annot__smarter_nhits_tib.tsv\"\n",
    "if(!file.exists(outfile)){\n",
    "    # smarter_oligo_fwd = \"CTAATACGACTCACTATAGGG CAAGCAGTGGTATCAACGCAGAGTACATGGG\"\n",
    "    # getting only the 5' adjacent portion for initial filtering of concatamers\n",
    "    smarter_nhits_tib = search_str_nhits(input_table = bams$`20240530_AL5RACE002`,\n",
    "                                         prefix = \"smarter_oligo\",\n",
    "                                         pattern = \"CAAGCAGTGGTATCAACGCAGAGTACATGGG\",\n",
    "                                         threads = 30)\n",
    "    \n",
    "    write_tsv(x = smarter_nhits_tib, file = outfile)\n",
    "}else{\n",
    "    smarter_nhits_tib = read_tsv(file = outfile)\n",
    "}\n",
    "\n",
    "reads_atmost1_smarter = smarter_nhits_tib %>%\n",
    "    filter(smarter_oligo__n_hits < 2) %>%\n",
    "    pull(qname)"
   ]
  },
  {
   "cell_type": "code",
   "execution_count": 21,
   "id": "89387551-2317-4bb1-84a6-a4a40fc6cd92",
   "metadata": {
    "execution": {
     "iopub.execute_input": "2024-06-11T14:18:44.942431Z",
     "iopub.status.busy": "2024-06-11T14:18:44.940154Z",
     "iopub.status.idle": "2024-06-11T14:18:45.408112Z",
     "shell.execute_reply": "2024-06-11T14:18:45.405400Z"
    },
    "vscode": {
     "languageId": "r"
    }
   },
   "outputs": [],
   "source": [
    "# filtering out reads with more than one\n",
    "# smarter oligo to exclude concatamers and unexpected\n",
    "# RACE products\n",
    "bams$`20240530_AL5RACE002__atmost1_smarter_or_tsd` = bams$`20240530_AL5RACE002` %>%\n",
    "    filter((qname %in% reads_atmost1_smarter) & (qname %in% reads_atmost1_xdpsvatsd))"
   ]
  },
  {
   "cell_type": "markdown",
   "id": "a5a1cebc-d743-40ef-9966-4d8aea5df92c",
   "metadata": {},
   "source": [
    "### Finding expected primers and XDP-SVA TSD"
   ]
  },
  {
   "cell_type": "code",
   "execution_count": 22,
   "id": "19045a9a-750f-4e86-b621-a3e633ce42c9",
   "metadata": {
    "execution": {
     "iopub.execute_input": "2024-06-11T14:18:45.418717Z",
     "iopub.status.busy": "2024-06-11T14:18:45.416409Z",
     "iopub.status.idle": "2024-06-11T14:18:46.093204Z",
     "shell.execute_reply": "2024-06-11T14:18:46.090638Z"
    },
    "vscode": {
     "languageId": "r"
    }
   },
   "outputs": [
    {
     "name": "stderr",
     "output_type": "stream",
     "text": [
      "\u001b[1mRows: \u001b[22m\u001b[34m366603\u001b[39m \u001b[1mColumns: \u001b[22m\u001b[34m6\u001b[39m\n"
     ]
    },
    {
     "name": "stderr",
     "output_type": "stream",
     "text": [
      "\u001b[36m──\u001b[39m \u001b[1mColumn specification\u001b[22m \u001b[36m────────────────────────────────────────────────────────\u001b[39m\n",
      "\u001b[1mDelimiter:\u001b[22m \"\\t\"\n",
      "\u001b[31mchr\u001b[39m (2): qname, RG_tag\n",
      "\u001b[32mdbl\u001b[39m (4): smarter_oligo__start, smarter_oligo__end, smarter_oligo__coverage, ...\n"
     ]
    },
    {
     "name": "stderr",
     "output_type": "stream",
     "text": [
      "\n",
      "\u001b[36mℹ\u001b[39m Use `spec()` to retrieve the full column specification for this data.\n",
      "\u001b[36mℹ\u001b[39m Specify the column types or set `show_col_types = FALSE` to quiet this message.\n"
     ]
    }
   ],
   "source": [
    "outfile = \"primer_annot__smarter_tib.tsv\"\n",
    "if(!file.exists(outfile)){\n",
    "    # annotating where is the smarter primer on sequence\n",
    "    # smarter_oligo_fwd = \"CTAATACGACTCACTATAGGG CAAGCAGTGGTATCAACGCAGAGTACATGGG\"\n",
    "    smarter_tib = search_pattern(input_table = bams$`20240530_AL5RACE002__atmost1_smarter_or_tsd`,\n",
    "                                 prefix = \"smarter_oligo\",\n",
    "                                 pattern = \"CTAATACGACTCACTATAGGGCAAGCAGTGGTATCAACGCAGAGTACATGGG\",\n",
    "                                 threads = 30)\n",
    "    \n",
    "    write_tsv(x = smarter_tib, file = outfile)\n",
    "}else{\n",
    "    smarter_tib = read_tsv(file = outfile)\n",
    "}"
   ]
  },
  {
   "cell_type": "code",
   "execution_count": 23,
   "id": "94bcb4d4-36ac-4a73-99c6-8db6ec5271b3",
   "metadata": {
    "execution": {
     "iopub.execute_input": "2024-06-11T14:18:46.103490Z",
     "iopub.status.busy": "2024-06-11T14:18:46.101287Z",
     "iopub.status.idle": "2024-06-11T14:18:46.780331Z",
     "shell.execute_reply": "2024-06-11T14:18:46.777839Z"
    },
    "vscode": {
     "languageId": "r"
    }
   },
   "outputs": [
    {
     "name": "stderr",
     "output_type": "stream",
     "text": [
      "\u001b[1mRows: \u001b[22m\u001b[34m366603\u001b[39m \u001b[1mColumns: \u001b[22m\u001b[34m6\u001b[39m\n"
     ]
    },
    {
     "name": "stderr",
     "output_type": "stream",
     "text": [
      "\u001b[36m──\u001b[39m \u001b[1mColumn specification\u001b[22m \u001b[36m────────────────────────────────────────────────────────\u001b[39m\n",
      "\u001b[1mDelimiter:\u001b[22m \"\\t\"\n",
      "\u001b[31mchr\u001b[39m (2): qname, RG_tag\n",
      "\u001b[32mdbl\u001b[39m (4): AL5RACE002_revcomp__start, AL5RACE002_revcomp__end, AL5RACE002_revc...\n"
     ]
    },
    {
     "name": "stderr",
     "output_type": "stream",
     "text": [
      "\n",
      "\u001b[36mℹ\u001b[39m Use `spec()` to retrieve the full column specification for this data.\n",
      "\u001b[36mℹ\u001b[39m Specify the column types or set `show_col_types = FALSE` to quiet this message.\n"
     ]
    }
   ],
   "source": [
    "outfile = \"primer_annot__al5race002_tib.tsv\"\n",
    "if(!file.exists(outfile)){\n",
    "    # annotating where is the RACE gene specific primer on sequence\n",
    "    # al5race002_revcomp = \"GGCATTGTAATAAGGCTTGAGGGAGGC\"\n",
    "    al5race002_tib = search_pattern(input_table = bams$`20240530_AL5RACE002__atmost1_smarter_or_tsd`,\n",
    "                                    prefix = \"AL5RACE002_revcomp\",\n",
    "                                    pattern = \"GGCATTGTAATAAGGCTTGAGGGAGGC\",\n",
    "                                    threads = 30)\n",
    "    \n",
    "    write_tsv(x = al5race002_tib, file = outfile)\n",
    "}else{\n",
    "    al5race002_tib = read_tsv(file = outfile)\n",
    "}"
   ]
  },
  {
   "cell_type": "code",
   "execution_count": 24,
   "id": "58b90642-f969-4db2-9c9b-8df88e860e10",
   "metadata": {
    "execution": {
     "iopub.execute_input": "2024-06-11T14:18:46.790010Z",
     "iopub.status.busy": "2024-06-11T14:18:46.787860Z",
     "iopub.status.idle": "2024-06-11T14:18:49.780869Z",
     "shell.execute_reply": "2024-06-11T14:18:49.778544Z"
    },
    "vscode": {
     "languageId": "r"
    }
   },
   "outputs": [
    {
     "name": "stderr",
     "output_type": "stream",
     "text": [
      "\u001b[1mRows: \u001b[22m\u001b[34m366603\u001b[39m \u001b[1mColumns: \u001b[22m\u001b[34m6\u001b[39m\n"
     ]
    },
    {
     "name": "stderr",
     "output_type": "stream",
     "text": [
      "\u001b[36m──\u001b[39m \u001b[1mColumn specification\u001b[22m \u001b[36m────────────────────────────────────────────────────────\u001b[39m\n",
      "\u001b[1mDelimiter:\u001b[22m \"\\t\"\n",
      "\u001b[31mchr\u001b[39m (2): qname, RG_tag\n",
      "\u001b[32mdbl\u001b[39m (4): xdpsvatsd_revcomp__start, xdpsvatsd_revcomp__end, xdpsvatsd_revcomp...\n"
     ]
    },
    {
     "name": "stderr",
     "output_type": "stream",
     "text": [
      "\n",
      "\u001b[36mℹ\u001b[39m Use `spec()` to retrieve the full column specification for this data.\n",
      "\u001b[36mℹ\u001b[39m Specify the column types or set `show_col_types = FALSE` to quiet this message.\n"
     ]
    }
   ],
   "source": [
    "outfile = \"primer_annot__xdpsvatsd_tib.tsv\"\n",
    "if(!file.exists(outfile)){\n",
    "    # annotating where is the XDP-SVA TSD on sequence \n",
    "    # xdpsvatsd_revcomp = \"CTATTTCATTTTTTTTTTTTC\"\n",
    "    xdpsvatsd_tib = search_pattern(input_table = bams$`20240530_AL5RACE002__atmost1_smarter_or_tsd`,\n",
    "                                   prefix = \"xdpsvatsd_revcomp\",\n",
    "                                   pattern = \"CTATTTCATTTTTTTTTTTTC\",\n",
    "                                   threads = 30)\n",
    "    \n",
    "    write_tsv(x = xdpsvatsd_tib, file = outfile)\n",
    "}else{\n",
    "    xdpsvatsd_tib = read_tsv(file = outfile)\n",
    "}"
   ]
  },
  {
   "cell_type": "markdown",
   "id": "0078386a-187e-4466-98fc-baf661bed281",
   "metadata": {},
   "source": [
    "### Joining info about oligos with the read info"
   ]
  },
  {
   "cell_type": "code",
   "execution_count": 25,
   "id": "b0b1cdaa-3200-4797-809d-bd976999abc0",
   "metadata": {
    "execution": {
     "iopub.execute_input": "2024-06-11T14:18:49.790324Z",
     "iopub.status.busy": "2024-06-11T14:18:49.788499Z",
     "iopub.status.idle": "2024-06-11T14:18:59.588149Z",
     "shell.execute_reply": "2024-06-11T14:18:59.585799Z"
    },
    "vscode": {
     "languageId": "r"
    }
   },
   "outputs": [],
   "source": [
    "bam_oligo_info = left_join(x = bams$`20240530_AL5RACE002`,\n",
    "                           y = smarter_tib,\n",
    "                           by = c(\"qname\", \"RG_tag\")) %>%\n",
    "                 left_join(x = .,\n",
    "                           y = smarter_nhits_tib,\n",
    "                           by = c(\"qname\", \"RG_tag\")) %>%\n",
    "                 left_join(x = .,\n",
    "                           y = xdpsvatsd_nhits_tib,\n",
    "                           by = c(\"qname\", \"RG_tag\")) %>%\n",
    "                 left_join(x = .,\n",
    "                           y = xdpsvatsd_tib,\n",
    "                           by = c(\"qname\", \"RG_tag\")) %>%\n",
    "                 left_join(x = .,\n",
    "                           y = al5race002_tib,\n",
    "                           by = c(\"qname\", \"RG_tag\")) %>%\n",
    "                 left_join(x = .,\n",
    "                           y = bc_summary %>% dplyr::select(read_id,\n",
    "                                                            sequence_length_template,\n",
    "                                                            mean_qscore_template),\n",
    "                           by = c(\"qname\" = \"read_id\"))"
   ]
  },
  {
   "cell_type": "code",
   "execution_count": 26,
   "id": "5c40e5eb-fa3b-4e01-8805-8cb9d511567b",
   "metadata": {
    "execution": {
     "iopub.execute_input": "2024-06-11T14:18:59.597699Z",
     "iopub.status.busy": "2024-06-11T14:18:59.595774Z",
     "iopub.status.idle": "2024-06-11T14:19:00.066333Z",
     "shell.execute_reply": "2024-06-11T14:19:00.064077Z"
    },
    "vscode": {
     "languageId": "r"
    }
   },
   "outputs": [],
   "source": [
    "bam_oligo_info = bam_oligo_info %>%\n",
    "    mutate(primer_presence_concat_check = ifelse((qname %in% reads_atmost1_smarter) & (qname %in% reads_atmost1_xdpsvatsd),\n",
    "                                                  \"non concatamer\",\n",
    "                                                  \"likely concatamer\")) %>%\n",
    "    mutate(mean_qscore_qc = ifelse(mean_qscore_template >= 12, \"pass\", \"fail\"))"
   ]
  },
  {
   "cell_type": "markdown",
   "id": "6b03be1e-50bf-4d27-a214-8ebde7bfec62",
   "metadata": {},
   "source": [
    "### Histogram of scores for primers"
   ]
  },
  {
   "cell_type": "code",
   "execution_count": 27,
   "id": "97efd159-7d9a-42f7-ae9d-67238325135d",
   "metadata": {
    "execution": {
     "iopub.execute_input": "2024-06-11T14:19:00.076753Z",
     "iopub.status.busy": "2024-06-11T14:19:00.074939Z",
     "iopub.status.idle": "2024-06-11T14:19:01.728383Z",
     "shell.execute_reply": "2024-06-11T14:19:01.726137Z"
    },
    "vscode": {
     "languageId": "r"
    }
   },
   "outputs": [
    {
     "name": "stderr",
     "output_type": "stream",
     "text": [
      "\u001b[1m\u001b[22m`stat_bin()` using `bins = 30`. Pick better value with `binwidth`.\n"
     ]
    },
    {
     "name": "stderr",
     "output_type": "stream",
     "text": [
      "Warning message:\n",
      "“\u001b[1m\u001b[22mRemoved 255024 rows containing non-finite outside the scale range\n",
      "(`stat_bin()`).”\n"
     ]
    },
    {
     "data": {
      "image/png": "[encoded data removed]",
      "text/plain": [
       "plot without title"
      ]
     },
     "metadata": {
      "image/png": {
       "height": 180,
       "width": 510
      }
     },
     "output_type": "display_data"
    }
   ],
   "source": [
    "options(repr.plot.width = 8.5, repr.plot.height = 3)\n",
    "bam_oligo_info %>%\n",
    "    pivot_longer(cols = ends_with(\"score\"), names_to = \"oligo\", values_to = \"score\") %>%\n",
    "    ggplot(aes(x = score, fill = oligo)) +\n",
    "    geom_histogram(position = \"dodge\") +\n",
    "    geom_vline(xintercept = 85, color = \"#00BA38\") +\n",
    "    theme_pubr() +\n",
    "    ylab(\"Frequency\")"
   ]
  },
  {
   "cell_type": "markdown",
   "id": "25a12213-f602-47ad-a82b-1377d307f2a4",
   "metadata": {},
   "source": [
    "### Histogram of coverage for primers"
   ]
  },
  {
   "cell_type": "code",
   "execution_count": 28,
   "id": "51b3f350-d3f7-4b69-a8f7-5a1c655c1fc3",
   "metadata": {
    "execution": {
     "iopub.execute_input": "2024-06-11T14:19:01.739401Z",
     "iopub.status.busy": "2024-06-11T14:19:01.737323Z",
     "iopub.status.idle": "2024-06-11T14:19:03.486553Z",
     "shell.execute_reply": "2024-06-11T14:19:03.484479Z"
    },
    "vscode": {
     "languageId": "r"
    }
   },
   "outputs": [
    {
     "name": "stderr",
     "output_type": "stream",
     "text": [
      "\u001b[1m\u001b[22m`stat_bin()` using `bins = 30`. Pick better value with `binwidth`.\n"
     ]
    },
    {
     "name": "stderr",
     "output_type": "stream",
     "text": [
      "Warning message:\n",
      "“\u001b[1m\u001b[22mRemoved 255024 rows containing non-finite outside the scale range\n",
      "(`stat_bin()`).”\n"
     ]
    },
    {
     "data": {
      "image/png": "[encoded data removed]",
      "text/plain": [
       "plot without title"
      ]
     },
     "metadata": {
      "image/png": {
       "height": 180,
       "width": 510
      }
     },
     "output_type": "display_data"
    }
   ],
   "source": [
    "options(repr.plot.width = 8.5, repr.plot.height = 3)\n",
    "bam_oligo_info %>%\n",
    "    pivot_longer(cols = ends_with(\"coverage\"), names_to = \"oligo\", values_to = \"coverage\") %>%\n",
    "    ggplot(aes(x = coverage, fill = oligo)) +\n",
    "    geom_histogram(position = \"dodge\") +\n",
    "    geom_vline(xintercept = 0.8) +\n",
    "    theme_pubr() +\n",
    "    ylab(\"Frequency\")"
   ]
  },
  {
   "cell_type": "markdown",
   "id": "7b5e7652-233b-4122-b3b9-06ed8f2fca7d",
   "metadata": {},
   "source": [
    "### Histogram of MAPQ"
   ]
  },
  {
   "cell_type": "code",
   "execution_count": 29,
   "id": "75295dbb-b3e4-4190-9f85-d79e3a18ee81",
   "metadata": {
    "execution": {
     "iopub.execute_input": "2024-06-11T14:19:03.496765Z",
     "iopub.status.busy": "2024-06-11T14:19:03.494930Z",
     "iopub.status.idle": "2024-06-11T14:19:03.922192Z",
     "shell.execute_reply": "2024-06-11T14:19:03.920020Z"
    },
    "vscode": {
     "languageId": "r"
    }
   },
   "outputs": [
    {
     "data": {
      "image/png": "[encoded data removed]",
      "text/plain": [
       "plot without title"
      ]
     },
     "metadata": {
      "image/png": {
       "height": 180,
       "width": 510
      }
     },
     "output_type": "display_data"
    }
   ],
   "source": [
    "options(repr.plot.width = 8.5, repr.plot.height = 3)\n",
    "bam_oligo_info %>%\n",
    "    ggplot(aes(x = mapq)) +\n",
    "    geom_histogram(fill = \"white\", color = \"black\", binwidth = 1) +\n",
    "    theme_pubr() +\n",
    "    ylab(\"Frequency\")"
   ]
  },
  {
   "cell_type": "code",
   "execution_count": 30,
   "id": "f66bb1bd-7922-430b-a1df-bc3af8768a58",
   "metadata": {
    "execution": {
     "iopub.execute_input": "2024-06-11T14:19:03.932025Z",
     "iopub.status.busy": "2024-06-11T14:19:03.930153Z",
     "iopub.status.idle": "2024-06-11T14:19:04.167440Z",
     "shell.execute_reply": "2024-06-11T14:19:04.165099Z"
    },
    "vscode": {
     "languageId": "r"
    }
   },
   "outputs": [],
   "source": [
    "# filtering out based on coverage of oligos\n",
    "good_primer_cov_reads = bam_oligo_info %>%\n",
    "    filter(if_all(.cols = ends_with(\"coverage\"), .fns = ~ .x >= 0.8)) %>%\n",
    "    filter(smarter_oligo__score >= 85) %>%\n",
    "    # filter(mapq == 60) %>%\n",
    "    pull(qname)\n",
    "bam_oligo_info = bam_oligo_info %>%\n",
    "    mutate(primer_coverage_qc = ifelse(qname %in% good_primer_cov_reads,\n",
    "                                       \"good coverage of primers\",\n",
    "                                       \"insufficient coverage of primers\"))"
   ]
  },
  {
   "cell_type": "markdown",
   "id": "ebee45c9-cddd-4a50-9185-51100d0e8b10",
   "metadata": {},
   "source": [
    "## Extracting hexamer sequences and checking the AG content and hexamer size"
   ]
  },
  {
   "cell_type": "code",
   "execution_count": 31,
   "id": "4aab03e2-79f3-4cc5-b07e-39b489340899",
   "metadata": {
    "execution": {
     "iopub.execute_input": "2024-06-11T14:19:04.176748Z",
     "iopub.status.busy": "2024-06-11T14:19:04.174926Z",
     "iopub.status.idle": "2024-06-11T14:19:07.087427Z",
     "shell.execute_reply": "2024-06-11T14:19:07.084764Z"
    },
    "vscode": {
     "languageId": "r"
    }
   },
   "outputs": [],
   "source": [
    "# seq_between_hex_and_oligo = \"CTATTTCATTTTTTTTTTTTCCACATCAGATGTGGAAAAAAAATGTACT\"\n",
    "bam_oligo_info = bam_oligo_info %>%\n",
    "    mutate(hexamer_left = smarter_oligo__end+1,\n",
    "           hexamer_right = xdpsvatsd_revcomp__start-1,\n",
    "           size_of_hexamer = hexamer_right - hexamer_left + 1,\n",
    "           hexamer_seq = str_sub(seq, start = hexamer_left, end = hexamer_right),\n",
    "           hexamer_qual = str_sub(qual, start = hexamer_left, end = hexamer_right)) %>%\n",
    "    mutate(hexamer_seq = case_when(is.na(hexamer_seq) ~ \"\",\n",
    "                                   TRUE ~ hexamer_seq),\n",
    "           hexamer_qual = case_when(is.na(hexamer_qual) ~ \"\",\n",
    "                                   TRUE ~ hexamer_qual)) %>%\n",
    "    mutate(\n",
    "           AG_hex_content = ifelse(\n",
    "               !is.na(hexamer_seq),\n",
    "               letterFrequency(DNAStringSet(hexamer_seq), \"AG\", as.prob = T) %>% as.numeric(),\n",
    "               NA_real_),\n",
    "           CT_hex_content = ifelse(\n",
    "               !is.na(hexamer_seq),\n",
    "               letterFrequency(DNAStringSet(hexamer_seq), \"CT\", as.prob = T) %>% as.numeric(),\n",
    "               NA_real_),\n",
    "           A_hex_content = ifelse(\n",
    "               !is.na(hexamer_seq),\n",
    "               letterFrequency(DNAStringSet(hexamer_seq), \"A\", as.prob = T) %>% as.numeric(),\n",
    "               NA_real_),\n",
    "           G_hex_content = ifelse(\n",
    "               !is.na(hexamer_seq),\n",
    "               letterFrequency(DNAStringSet(hexamer_seq), \"G\", as.prob = T) %>% as.numeric(),\n",
    "               NA_real_),\n",
    "          ) %>%\n",
    "    mutate(AG_based_concat_check = case_when(AG_hex_content >= 0.95 ~ \"non concatamer\",\n",
    "                                             AG_hex_content < 0.95 ~ \"likely concatamer\",\n",
    "                                             TRUE ~ \"likely concatamer\"))\n",
    "\n",
    "write_tsv(file = \"results_unfilt__32517I_XDP_d120__q12_cov08.tsv\", x = bam_oligo_info)"
   ]
  },
  {
   "cell_type": "code",
   "execution_count": 32,
   "id": "048c0a75-1002-45fe-819a-8eb6471eed2e",
   "metadata": {
    "execution": {
     "iopub.execute_input": "2024-06-11T14:19:07.096817Z",
     "iopub.status.busy": "2024-06-11T14:19:07.094879Z",
     "iopub.status.idle": "2024-06-11T14:19:09.091766Z",
     "shell.execute_reply": "2024-06-11T14:19:09.086146Z"
    },
    "vscode": {
     "languageId": "r"
    }
   },
   "outputs": [],
   "source": [
    "# filtering out potential concatamers\n",
    "bam_oligo_info_filt = bam_oligo_info %>%\n",
    "    filter(primer_presence_concat_check == \"non concatamer\") %>%\n",
    "    filter(primer_coverage_qc == \"good coverage of primers\") %>%\n",
    "    filter(AG_based_concat_check == \"non concatamer\")\n",
    "\n",
    "write_tsv(file = \"results_filt__32517I_XDP_d120__q12_cov08.tsv\", x = bam_oligo_info_filt)"
   ]
  },
  {
   "cell_type": "markdown",
   "id": "cfda46cb-2b84-4687-87a6-35d7536135ed",
   "metadata": {},
   "source": [
    "### Checking size of hexamer sequences"
   ]
  },
  {
   "cell_type": "code",
   "execution_count": 33,
   "id": "7ac682b7-da76-493f-ac00-a7fb5abccfcf",
   "metadata": {
    "execution": {
     "iopub.execute_input": "2024-06-11T14:19:09.105509Z",
     "iopub.status.busy": "2024-06-11T14:19:09.101502Z",
     "iopub.status.idle": "2024-06-11T14:19:09.488325Z",
     "shell.execute_reply": "2024-06-11T14:19:09.485927Z"
    },
    "vscode": {
     "languageId": "r"
    }
   },
   "outputs": [
    {
     "name": "stderr",
     "output_type": "stream",
     "text": [
      "Warning message:\n",
      "“\u001b[1m\u001b[22mRemoved 2 rows containing missing values or values outside the scale range\n",
      "(`geom_bar()`).”\n"
     ]
    },
    {
     "data": {
      "image/png": "[encoded data removed]",
      "text/plain": [
       "plot without title"
      ]
     },
     "metadata": {
      "image/png": {
       "height": 180,
       "width": 840
      }
     },
     "output_type": "display_data"
    }
   ],
   "source": [
    "options(repr.plot.width = 14, repr.plot.height = 3)\n",
    "bam_oligo_info_filt %>%\n",
    "    ggplot(aes(x = size_of_hexamer)) +\n",
    "    geom_histogram(position = \"dodge\", binwidth = 1, fill = \"white\", color = \"black\") +\n",
    "    scale_x_continuous(breaks = seq(0, 330, by = 6), limits = c(0, 330)) +\n",
    "    xlab(\"Length of hexamer (bp)\") +\n",
    "    ylab(\"Frequency\") +\n",
    "    theme_pubr(x.text.angle = 45)"
   ]
  },
  {
   "cell_type": "code",
   "execution_count": 34,
   "id": "ea6e5693-41cd-48d9-a29d-081a4292fe4a",
   "metadata": {
    "execution": {
     "iopub.execute_input": "2024-06-11T14:19:09.497987Z",
     "iopub.status.busy": "2024-06-11T14:19:09.496008Z",
     "iopub.status.idle": "2024-06-11T14:19:09.874283Z",
     "shell.execute_reply": "2024-06-11T14:19:09.871899Z"
    },
    "vscode": {
     "languageId": "r"
    }
   },
   "outputs": [
    {
     "name": "stderr",
     "output_type": "stream",
     "text": [
      "Warning message:\n",
      "“\u001b[1m\u001b[22mRemoved 2 rows containing missing values or values outside the scale range\n",
      "(`geom_bar()`).”\n"
     ]
    },
    {
     "data": {
      "image/png": "[encoded data removed]",
      "text/plain": [
       "plot without title"
      ]
     },
     "metadata": {
      "image/png": {
       "height": 180,
       "width": 840
      }
     },
     "output_type": "display_data"
    }
   ],
   "source": [
    "options(repr.plot.width = 14, repr.plot.height = 3)\n",
    "bam_oligo_info_filt %>%\n",
    "    ggplot(aes(x = size_of_hexamer)) +\n",
    "    geom_histogram(position = \"dodge\", binwidth = 1, fill = \"white\", color = \"black\",\n",
    "                   aes(y = log10(after_stat(count) + 1))) +\n",
    "    scale_x_continuous(breaks = seq(0, 330, by = 6), limits = c(0, 330)) +\n",
    "    xlab(\"Length of hexamer (bp)\") +\n",
    "    ylab(\"log10(Frequency + 1)\") +\n",
    "    theme_pubr(x.text.angle = 45)"
   ]
  },
  {
   "cell_type": "code",
   "execution_count": null,
   "id": "5511b998-d96f-4797-8887-64743052f03d",
   "metadata": {
    "execution": {
     "iopub.execute_input": "2024-06-11T14:19:09.885083Z",
     "iopub.status.busy": "2024-06-11T14:19:09.883007Z",
     "iopub.status.idle": "2024-06-11T14:19:10.250105Z",
     "shell.execute_reply": "2024-06-11T14:19:10.248002Z"
    },
    "vscode": {
     "languageId": "r"
    }
   },
   "outputs": [],
   "source": [
    "options(repr.plot.width = 10, repr.plot.height = 3)\n",
    "bam_oligo_info_filt %>%\n",
    "    ggplot(aes(x = -size_of_hexamer)) +\n",
    "    geom_histogram(position = \"dodge\", binwidth = 1, fill = \"white\", color = \"black\") +\n",
    "    scale_x_continuous(breaks = seq(-330, 0, by = 6), limits = c(-330, 0),\n",
    "                       labels = abs(seq(-330, 0, by = 6)/6)) +\n",
    "    xlab(\"(AGAGGG)n\") +\n",
    "    ylab(\"Frequency\") +\n",
    "    theme_pubr(x.text.angle = 45)"
   ]
  },
  {
   "cell_type": "code",
   "execution_count": null,
   "id": "99737573-309f-4315-8e20-a35e95217921",
   "metadata": {
    "execution": {
     "iopub.execute_input": "2024-06-11T14:19:10.262072Z",
     "iopub.status.busy": "2024-06-11T14:19:10.259400Z",
     "iopub.status.idle": "2024-06-11T14:19:11.692878Z",
     "shell.execute_reply": "2024-06-11T14:19:11.690281Z"
    },
    "vscode": {
     "languageId": "r"
    }
   },
   "outputs": [],
   "source": [
    "options(repr.plot.width = 14, repr.plot.height = 3)\n",
    "max_len = max(bam_oligo_info_filt$size_of_hexamer)\n",
    "x_max = ceiling(max_len/6)*6 \n",
    "\n",
    "long_gagagg = rep(c(\"G\", \"A\", \"G\", \"A\", \"G\", \"G\"), 100)\n",
    "long_gagagg = long_gagagg[-length(long_gagagg)]\n",
    "long_gagagg = long_gagagg[(length(long_gagagg)-x_max+1):length(long_gagagg)]\n",
    "long_gagagg = c(long_gagagg, \"C\")\n",
    "\n",
    "colors_seq = case_when(long_gagagg == \"A\" ~ \"#59A14F\",\n",
    "                       long_gagagg == \"C\" ~ \"#4E79A7\",\n",
    "                       long_gagagg == \"G\" ~ \"#F28E2B\",\n",
    "                       long_gagagg == \"T\" ~ \"#E15759\",\n",
    "                       TRUE ~ NA_character_)\n",
    "\n",
    "colors_seq = ifelse(colors_seq == \"C\", \"#4E79A7\", colors_seq)\n",
    "\n",
    "seq_data = data.frame(\n",
    "  x = seq(-ceiling(max_len/6)*6, 0, by = 1),\n",
    "  y = rep(-0, length(seq(-ceiling(max_len/6)*6, 0, by = 1))),  # Position below the x-axis\n",
    "  text = long_gagagg,\n",
    "  color = colors_seq\n",
    ")\n",
    "\n",
    "hist_of_hex_length = bam_oligo_info_filt %>%\n",
    "    ggplot(aes(x = -size_of_hexamer)) +\n",
    "    geom_histogram(position = \"dodge\", binwidth = 1, width = 1, fill = \"#7b848f\",\n",
    "                   aes(y = log10(after_stat(count) + 1))) +\n",
    "    scale_x_continuous(breaks = seq(-ceiling(max_len/6)*6, 0, by = 2),\n",
    "                       labels = seq(-ceiling(max_len/6)*6, 0, by = 2)) +\n",
    "    xlab(\"Length (bp)\") +\n",
    "    ylab(\"log10(Frequency + 1)\") +\n",
    "    theme_pubr(x.text.angle = 45) + \n",
    "    geom_tile(data = seq_data, aes(x = x, y = y, fill = color), width = 1, height = 0.4) +\n",
    "    geom_text(data = seq_data, aes(x = x, y = y, label = text), color = \"white\") +\n",
    "    scale_fill_identity() +\n",
    "    labs(title = \"XDP 32517.I d120\")\n",
    "\n",
    "ggsave(filename = \"5RACE_hexlength_32517I_XDP_d120__q12_cov08__log10freq.pdf\",\n",
    "       plot = hist_of_hex_length,\n",
    "       width = 10.5,\n",
    "       height = 3,\n",
    "       units = \"in\",\n",
    "       dpi = 600)\n",
    "\n",
    "hist_of_hex_length"
   ]
  },
  {
   "cell_type": "code",
   "execution_count": null,
   "id": "f234069d-df89-4fb8-b391-5101e39eb60f",
   "metadata": {
    "execution": {
     "iopub.execute_input": "2024-06-11T14:19:11.703457Z",
     "iopub.status.busy": "2024-06-11T14:19:11.701601Z",
     "iopub.status.idle": "2024-06-11T14:19:12.310999Z",
     "shell.execute_reply": "2024-06-11T14:19:12.308581Z"
    },
    "vscode": {
     "languageId": "r"
    }
   },
   "outputs": [],
   "source": [
    "options(repr.plot.width = 14, repr.plot.height = 3)\n",
    "max_len = max(bam_oligo_info_filt$size_of_hexamer)\n",
    "\n",
    "hist_of_hex_length = bam_oligo_info_filt %>%\n",
    "    ggplot(aes(x = -size_of_hexamer)) +\n",
    "    geom_histogram(position = \"dodge\", binwidth = 1, width = 1, fill = \"#7b848f\") +\n",
    "    scale_x_continuous(breaks = seq(-ceiling(max_len/6)*6, 0, by = 2),\n",
    "                       labels = seq(-ceiling(max_len/6)*6, 0, by = 2)) +\n",
    "    xlab(\"Coordinate (bp)\") +\n",
    "    ylab(\"Frequency\") +\n",
    "    theme_pubr(x.text.angle = 45) + \n",
    "    geom_tile(data = seq_data, aes(x = x, y = y-2400, fill = color), width = 1, height = 2400) +\n",
    "    geom_text(data = seq_data, aes(x = x, y = y-2400, label = text), color = \"white\") +\n",
    "    scale_fill_identity() +\n",
    "    labs(title = \"XDP 32517.I d120\")\n",
    "\n",
    "ggsave(filename = \"5RACE_hexlength_32517I_XDP_d120__q12_cov08__freq.pdf\",\n",
    "       plot = hist_of_hex_length,\n",
    "       width = 10.5,\n",
    "       height = 3,\n",
    "       units = \"in\",\n",
    "       dpi = 600)\n",
    "\n",
    "hist_of_hex_length"
   ]
  },
  {
   "cell_type": "code",
   "execution_count": 38,
   "id": "897dfd82-0e9a-4741-a224-e749f9a4b5c5",
   "metadata": {
    "execution": {
     "iopub.execute_input": "2024-06-11T14:19:12.321676Z",
     "iopub.status.busy": "2024-06-11T14:19:12.319564Z",
     "iopub.status.idle": "2024-06-11T14:19:12.371473Z",
     "shell.execute_reply": "2024-06-11T14:19:12.369031Z"
    },
    "vscode": {
     "languageId": "r"
    }
   },
   "outputs": [
    {
     "data": {
      "text/plain": [
       ".\n",
       " -126  -105   -99   -98   -96   -95   -94   -93   -92   -91   -90   -89   -88 \n",
       "    1     1     1     2     3     2     8    16    24    39    96   160   326 \n",
       "  -87   -86   -85   -84   -83   -82   -81   -80   -79   -78   -77   -76   -75 \n",
       "  815  1760  4851  3706  2553  1084   467   160   176   106    55    31    21 \n",
       "  -74   -73   -72   -71   -70   -69   -65   -64   -61   -48   -47   -44   -30 \n",
       "    7     6     9     4     4     3     1     1     1     1     2     1     1 \n",
       "  -25   -17   -16   -15   -14   -13   -12   -11   -10    -9    -8    -7    -6 \n",
       "    1     2     7    20   164   924 15565   986   217   109    51    23    35 \n",
       "   -5    -4    -3    -2    -1 \n",
       "   16   110     8     5     1 "
      ]
     },
     "metadata": {},
     "output_type": "display_data"
    }
   ],
   "source": [
    "(bam_oligo_info_filt$size_of_hexamer * -1) %>% table()"
   ]
  },
  {
   "cell_type": "code",
   "execution_count": 39,
   "id": "d7aacb54-7ce3-4a27-a454-219bcfb52680",
   "metadata": {
    "execution": {
     "iopub.execute_input": "2024-06-11T14:19:12.380828Z",
     "iopub.status.busy": "2024-06-11T14:19:12.378854Z",
     "iopub.status.idle": "2024-06-11T14:19:12.428753Z",
     "shell.execute_reply": "2024-06-11T14:19:12.426398Z"
    },
    "vscode": {
     "languageId": "r"
    }
   },
   "outputs": [
    {
     "data": {
      "text/plain": [
       ".\n",
       "    1     2     3     4     5     6     7     8     9    10    11    12    13 \n",
       "    1     5     8   110    16    35    23    51   109   217   986 15565   924 \n",
       "   14    15    16    17    25    30    44    47    48    61    64    65    69 \n",
       "  164    20     7     2     1     1     1     2     1     1     1     1     3 \n",
       "   70    71    72    73    74    75    76    77    78    79    80    81    82 \n",
       "    4     4     9     6     7    21    31    55   106   176   160   467  1084 \n",
       "   83    84    85    86    87    88    89    90    91    92    93    94    95 \n",
       " 2553  3706  4851  1760   815   326   160    96    39    24    16     8     2 \n",
       "   96    98    99   105   126 \n",
       "    3     2     1     1     1 "
      ]
     },
     "metadata": {},
     "output_type": "display_data"
    }
   ],
   "source": [
    "bam_oligo_info_filt$size_of_hexamer %>% table()"
   ]
  },
  {
   "cell_type": "code",
   "execution_count": 40,
   "id": "5e1253ba-b9fe-45fd-b9b1-56ecbb78a02a",
   "metadata": {
    "execution": {
     "iopub.execute_input": "2024-06-11T14:19:12.437885Z",
     "iopub.status.busy": "2024-06-11T14:19:12.435863Z",
     "iopub.status.idle": "2024-06-11T14:19:12.498822Z",
     "shell.execute_reply": "2024-06-11T14:19:12.496457Z"
    },
    "vscode": {
     "languageId": "r"
    }
   },
   "outputs": [
    {
     "name": "stdout",
     "output_type": "stream",
     "text": [
      "[1] 12\n",
      "[1] \"ATGTGCCTGTTCTTGGTTCAGTTACGTATGTCTCTAATACGACTCACTATAGGGCAAGCAGTGGTATCAACGCAGAGTACATGAGGGAGAGGGAGAGCTATTTCATTTTTTCCACATCAGATGTGAAAAAAAAAATGTACTGGCATTGTAATAAGGCTTGAGGGAGGCAGCAATACGTAG GGAGAGGGAGAG\"        \n",
      "[2] \"TTGTTGCATGTACTTCGTTCAGTTACGTATTGTTCTAATACGACTCGCTATAGGGCAAGCAGTGGTATCAACGCAGAGTACATGAGGGAGAGGGAGAGCTATTTCATTTTTTTTTTTCCACATCAGATGTGAAAAAAAAAAATGTACTGGCATTGTAATAAGGCTTGAGGGAGGCAGCAATACATGGT GGAGAGGGAGAG\"\n",
      "[3] \"TTGTGGCCTCGTTTAGTTACGTATTGCTCTAATACGACTCACTATAGGGCAAGCAGTGGTATCAACGCAGAGTACATGAGGGAGAGGGAGAGCTATTTCATTTTTTTTTTTTTCCACATCAGATGTGAAAAAAAAAAATGTACTGGCATTGTAATAAGGCTTGAGGGAGGCGGCAATTGGTT GGAGAGGGAGAG\"      \n",
      "[4] \"ATGCCCTGTACTTCGTTCAGTTACGTATTGTTCTAATACGACTCACTATAGGGCAAGCAGTGGTATCAACGCAGAGTACATGAGGGAGAGGGAGAGCTATTTCATTTTTTTTTTTTCCACATCAGATGTGAAAAAAAAAATGTACTGGCATTGTAATAAGGCTTGAGGGAGGCAGCAATACGT GGAGAGGGAGAG\"     \n",
      "[5] \"TTTTTGCCTCTCGTTCAGTTACGTATTGCTCTAATACGACTCACTATAGGGCAAGCAGTGGTATCAACGCAGAGTACATAGAGGGAGAGGAGAGCTATTTGATTTTTTTTTTTTCCACATCAGATGTGAAAAAAAAATGTACTGGCATTGTAATAAGGCTTGAGGGAGGCGAGACAATGCGTAT GGGAGAGGAGAG\"    \n",
      "[1] 85\n",
      "[1] \"GTGACACCCTTTCGTTCAGTTACGTATTGCTCTAATACGACTCACTATAGGGCAAGCAGTGGTATCAACGCAGAGTACAGGGGGGAGAGGAAAGGGAGGGGAAGGGGGAAGGAGAGGGAGGGGGAAAGAGAGGGGAGAGGGAGAGGAGAGGGAGAGGGAGAGGGAGAGCTATTTCATTTTTTTTTTTCCACATCAGATGTGGAAAAAAAAATGTACTGGCATTGTAATAAGGCTTGAGGGAGGCAGCAATACGTG GGAGAGGAAAGGGAGGGGAAGGGGGAAGGAGAGGGAGGGGGAAAGAGAGGGGAGAGGGAGAGGAGAGGGAGAGGGAGAGGGAGAG\"        \n",
      "[2] \"TTGTCGTCTACTTCGTTCAGTTACGTATTGCTCTAATACGACTCGCTATAGGGCAAGCAGTGGTATCAACGCAGAGTACAGGGGGGGGGAGGGGAGGGGGAGAGGGAGAGGGGAGAGGGAGAGGGAGAGGGAGAGGGAGAGGGAGAGGGAGAGGGAGGGAGAGGGAGAGCTATTTCATTTTTTTTTTTTCCACATCAGATGTGGAAAAAAAAAATGTACTGGCATTGTAATAAGGCTTGAGGGGGGGCGGCAATGGT GGGGGAGGGGAGGGGGAGAGGGAGAGGGGAGAGGGAGAGGGAGAGGGAGAGGGAGAGGGAGAGGGAGAGGGAGGGAGAGGGAGAG\"      \n",
      "[3] \"ATGTGCACGCCTTTCGTTCAGTTACGTATTGCTCTAATACGACTCACTATAGGGCAAGCAGTGGTATCAACGCAGAGTACAGAGGGGGAGAGGGAGAGGGAGAGGGAGAGGGAGAGGGAGAGGGAGAGGGAGAGGGAGAGGGAGAGGGAGAGGGAGAGGGAGAGGGAGAGCTATTTCATTTTTTTTTTCCACATCAGATGGAAAAAAAAATGTACTGGCATTGTAATAAGGCTTGAGGGAGGCAGCAATAGG GGGAGAGGGAGAGGGAGAGGGAGAGGGAGAGGGAGAGGGAGAGGGAGAGGGAGAGGGAGAGGGAGAGGGAGAGGGAGAGGGAGAG\"           \n",
      "[4] \"ATGGATATGTCCTCTCTTGACTTCAGTTACGTATTGCTCTAATACGACTCACTATAGGGCAAGCAGTGGTATCAACGCAGAGTACAGGGGGGAGAGGGAGAGGGAGAGGGAGAGGGAGAGGGGGAGGGGGAAGGGAGAGGGAGAGGGAGAGGGAGAGGGAGAGGGAGAGGGAGAGCTATTTCATTTTTTTTTTCCACATCAGATGTGGAAAAAAAAATGTACTGGCATTGTAATAAGGCTTGAGGGAGGCAATTGGTG GGAGAGGGAGAGGGAGAGGGAGAGGGAGAGGGGGAGGGGGAAGGGAGAGGGAGAGGGAGAGGGAGAGGGAGAGGGAGAGGGAGAG\"     \n",
      "[5] \"CCATATTGCTCTAATACGACTCACTATAGGGCAAGCAGTGGTATCAACGCAGAGTACAGGGGGGAGAGGGAGAGGGAGAGGGAGAGGGAGAGGGAGAGGGAGAGAGGGAGAGGGAGAGGGAGAGGGAGAGGGAGAGGGAGAGGGAGAGGATTTCATTTTTTTTTTTTTCCACATCAGATGTGGAAAAAAAAATGTACTGGGATTGTAATAAGGCTTGAGGGAGGCAGAGATATGTAATGGGTCCAAGTAGGTTACATAAAAAT GGAGAGGGAGAGGGAGAGGGAGAGGGAGAGGGAGAGGGAGAGAGGGAGAGGGAGAGGGAGAGGGAGAGGGAGAGGGAGAGGGAGA\"\n"
     ]
    }
   ],
   "source": [
    "set.seed(667)\n",
    "for(i in c(12, 85)){\n",
    "    print(i)\n",
    "    tmpobj = bam_oligo_info_filt %>%\n",
    "        filter(size_of_hexamer == i) %>%\n",
    "        select(qname, seq, hexamer_seq, mapq) %>%\n",
    "        .[sample(x = 1:100, 5),]\n",
    "    print(paste(tmpobj$seq, tmpobj$hexamer_seq))\n",
    "}"
   ]
  },
  {
   "cell_type": "code",
   "execution_count": null,
   "id": "ab8578bb-9f6a-4ef5-936d-7c32a27674bf",
   "metadata": {
    "execution": {
     "iopub.execute_input": "2024-06-11T14:19:12.507745Z",
     "iopub.status.busy": "2024-06-11T14:19:12.505771Z",
     "iopub.status.idle": "2024-06-11T14:19:14.061118Z",
     "shell.execute_reply": "2024-06-11T14:19:14.058750Z"
    },
    "vscode": {
     "languageId": "r"
    }
   },
   "outputs": [],
   "source": [
    "options(repr.plot.width = 14, repr.plot.height = 6)\n",
    "bam_oligo_info_filt %>%\n",
    "    ggplot(aes(x = size_of_hexamer, y = A_hex_content)) +\n",
    "    geom_point(alpha = 0.2) +\n",
    "    scale_x_continuous(breaks = seq(0, 330, by = 6), limits = c(0, 330)) +\n",
    "    xlab(\"size_of_hexamer_bp\") +\n",
    "    theme_pubr(x.text.angle = 45)"
   ]
  },
  {
   "cell_type": "markdown",
   "id": "3c7d28aa-a95d-47d3-8731-ec9f998602f5",
   "metadata": {},
   "source": [
    "## Checking step-by-step read elimination"
   ]
  },
  {
   "cell_type": "code",
   "execution_count": 42,
   "id": "e49479b0-fc0e-4565-8ae9-a003a99acb4a",
   "metadata": {
    "execution": {
     "iopub.execute_input": "2024-06-11T14:19:14.072041Z",
     "iopub.status.busy": "2024-06-11T14:19:14.069907Z",
     "iopub.status.idle": "2024-06-11T14:19:14.218582Z",
     "shell.execute_reply": "2024-06-11T14:19:14.216140Z"
    },
    "vscode": {
     "languageId": "r"
    }
   },
   "outputs": [],
   "source": [
    "# base call reads\n",
    "basecalled_reads = bc_summary$read_id %>% unique() %>% length()"
   ]
  },
  {
   "cell_type": "code",
   "execution_count": 43,
   "id": "f9757279-67d4-43a0-9d6c-b8e0e29d8a69",
   "metadata": {
    "execution": {
     "iopub.execute_input": "2024-06-11T14:19:14.227393Z",
     "iopub.status.busy": "2024-06-11T14:19:14.225412Z",
     "iopub.status.idle": "2024-06-11T14:19:25.458123Z",
     "shell.execute_reply": "2024-06-11T14:19:25.455711Z"
    },
    "vscode": {
     "languageId": "r"
    }
   },
   "outputs": [],
   "source": [
    "# reads aligned in DNA mode\n",
    "# no-splicing here as we need it simple\n",
    "bam_all = read_bam(bamfile = my_bam, libname = sample)"
   ]
  },
  {
   "cell_type": "code",
   "execution_count": 44,
   "id": "e6793ec2-b941-45ed-9817-e7e056b70f5d",
   "metadata": {
    "execution": {
     "iopub.execute_input": "2024-06-11T14:19:25.467644Z",
     "iopub.status.busy": "2024-06-11T14:19:25.465662Z",
     "iopub.status.idle": "2024-06-11T14:19:25.826981Z",
     "shell.execute_reply": "2024-06-11T14:19:25.824682Z"
    },
    "vscode": {
     "languageId": "r"
    }
   },
   "outputs": [],
   "source": [
    "# bam_all %>% dim()\n",
    "aligned = bam_all %>% filter(flag != 4) %>% pull(qname) %>% unique() %>% length()\n",
    "unaligned = bam_all %>% filter(flag == 4) %>% pull(qname) %>% unique() %>% length()"
   ]
  },
  {
   "cell_type": "code",
   "execution_count": 45,
   "id": "5714d636-6776-4ab3-97cc-c91a3c7ecb41",
   "metadata": {
    "execution": {
     "iopub.execute_input": "2024-06-11T14:19:25.836749Z",
     "iopub.status.busy": "2024-06-11T14:19:25.834893Z",
     "iopub.status.idle": "2024-06-11T14:19:25.971762Z",
     "shell.execute_reply": "2024-06-11T14:19:25.969389Z"
    },
    "vscode": {
     "languageId": "r"
    }
   },
   "outputs": [],
   "source": [
    "# align reads to xdp ref genome and get only those\n",
    "# aligning to the XDP-SVA region start-5000 and end+5000\n",
    "# keep only primary alignments\n",
    "aligned_to_roi = bam_reads$qname %>% unique() %>% length()"
   ]
  },
  {
   "cell_type": "code",
   "execution_count": 46,
   "id": "78293573-725f-4f05-8faf-2fdd85539de7",
   "metadata": {
    "execution": {
     "iopub.execute_input": "2024-06-11T14:19:25.981532Z",
     "iopub.status.busy": "2024-06-11T14:19:25.979646Z",
     "iopub.status.idle": "2024-06-11T14:19:26.110290Z",
     "shell.execute_reply": "2024-06-11T14:19:26.107931Z"
    },
    "vscode": {
     "languageId": "r"
    }
   },
   "outputs": [],
   "source": [
    "# only good quality reads aligning to target\n",
    "aligned_to_roi_pass = bams$`20240530_AL5RACE002` %>% pull(qname) %>% unique() %>% length"
   ]
  },
  {
   "cell_type": "code",
   "execution_count": 47,
   "id": "3c424786-730e-4a00-bf99-797d054814f0",
   "metadata": {
    "execution": {
     "iopub.execute_input": "2024-06-11T14:19:26.119422Z",
     "iopub.status.busy": "2024-06-11T14:19:26.117617Z",
     "iopub.status.idle": "2024-06-11T14:19:26.782466Z",
     "shell.execute_reply": "2024-06-11T14:19:26.780181Z"
    },
    "vscode": {
     "languageId": "r"
    }
   },
   "outputs": [
    {
     "name": "stderr",
     "output_type": "stream",
     "text": [
      "\u001b[1m\u001b[22m`summarise()` has grouped output by 'primer_presence_concat_check',\n",
      "'primer_coverage_qc'. You can override using the `.groups` argument.\n"
     ]
    },
    {
     "data": {
      "text/html": [
       "<table class=\"dataframe\">\n",
       "<caption>A grouped_df: 5 × 4</caption>\n",
       "<thead>\n",
       "\t<tr><th scope=col>primer_presence_concat_check</th><th scope=col>primer_coverage_qc</th><th scope=col>AG_based_concat_check</th><th scope=col>n</th></tr>\n",
       "\t<tr><th scope=col>&lt;chr&gt;</th><th scope=col>&lt;chr&gt;</th><th scope=col>&lt;chr&gt;</th><th scope=col>&lt;int&gt;</th></tr>\n",
       "</thead>\n",
       "<tbody>\n",
       "\t<tr><td>likely concatamer</td><td>insufficient coverage of primers</td><td>likely concatamer</td><td> 85008</td></tr>\n",
       "\t<tr><td>non concatamer   </td><td>good coverage of primers        </td><td>likely concatamer</td><td>   542</td></tr>\n",
       "\t<tr><td>non concatamer   </td><td>good coverage of primers        </td><td>non concatamer   </td><td> 34749</td></tr>\n",
       "\t<tr><td>non concatamer   </td><td>insufficient coverage of primers</td><td>likely concatamer</td><td> 26176</td></tr>\n",
       "\t<tr><td>non concatamer   </td><td>insufficient coverage of primers</td><td>non concatamer   </td><td>305136</td></tr>\n",
       "</tbody>\n",
       "</table>\n"
      ],
      "text/latex": [
       "A grouped\\_df: 5 × 4\n",
       "\\begin{tabular}{llll}\n",
       " primer\\_presence\\_concat\\_check & primer\\_coverage\\_qc & AG\\_based\\_concat\\_check & n\\\\\n",
       " <chr> & <chr> & <chr> & <int>\\\\\n",
       "\\hline\n",
       "\t likely concatamer & insufficient coverage of primers & likely concatamer &  85008\\\\\n",
       "\t non concatamer    & good coverage of primers         & likely concatamer &    542\\\\\n",
       "\t non concatamer    & good coverage of primers         & non concatamer    &  34749\\\\\n",
       "\t non concatamer    & insufficient coverage of primers & likely concatamer &  26176\\\\\n",
       "\t non concatamer    & insufficient coverage of primers & non concatamer    & 305136\\\\\n",
       "\\end{tabular}\n"
      ],
      "text/markdown": [
       "\n",
       "A grouped_df: 5 × 4\n",
       "\n",
       "| primer_presence_concat_check &lt;chr&gt; | primer_coverage_qc &lt;chr&gt; | AG_based_concat_check &lt;chr&gt; | n &lt;int&gt; |\n",
       "|---|---|---|---|\n",
       "| likely concatamer | insufficient coverage of primers | likely concatamer |  85008 |\n",
       "| non concatamer    | good coverage of primers         | likely concatamer |    542 |\n",
       "| non concatamer    | good coverage of primers         | non concatamer    |  34749 |\n",
       "| non concatamer    | insufficient coverage of primers | likely concatamer |  26176 |\n",
       "| non concatamer    | insufficient coverage of primers | non concatamer    | 305136 |\n",
       "\n"
      ],
      "text/plain": [
       "  primer_presence_concat_check primer_coverage_qc              \n",
       "1 likely concatamer            insufficient coverage of primers\n",
       "2 non concatamer               good coverage of primers        \n",
       "3 non concatamer               good coverage of primers        \n",
       "4 non concatamer               insufficient coverage of primers\n",
       "5 non concatamer               insufficient coverage of primers\n",
       "  AG_based_concat_check n     \n",
       "1 likely concatamer      85008\n",
       "2 likely concatamer        542\n",
       "3 non concatamer         34749\n",
       "4 likely concatamer      26176\n",
       "5 non concatamer        305136"
      ]
     },
     "metadata": {},
     "output_type": "display_data"
    }
   ],
   "source": [
    "bam_oligo_info %>%\n",
    "    group_by(primer_presence_concat_check, primer_coverage_qc, AG_based_concat_check) %>%\n",
    "    summarise(n = n())"
   ]
  },
  {
   "cell_type": "code",
   "execution_count": 48,
   "id": "682508d0-a416-4af3-a639-5c96d5cbaaf7",
   "metadata": {
    "execution": {
     "iopub.execute_input": "2024-06-11T14:19:26.791613Z",
     "iopub.status.busy": "2024-06-11T14:19:26.789742Z",
     "iopub.status.idle": "2024-06-11T14:19:27.032531Z",
     "shell.execute_reply": "2024-06-11T14:19:27.030117Z"
    },
    "vscode": {
     "languageId": "r"
    }
   },
   "outputs": [],
   "source": [
    "primer_presence_pass = bam_oligo_info %>%\n",
    "    filter(primer_presence_concat_check == \"non concatamer\") %>%\n",
    "    pull(qname) %>%\n",
    "    unique() %>%\n",
    "    length()"
   ]
  },
  {
   "cell_type": "code",
   "execution_count": 49,
   "id": "ea0ca726-2d74-4661-864d-56c0de7efb7c",
   "metadata": {
    "execution": {
     "iopub.execute_input": "2024-06-11T14:19:27.042245Z",
     "iopub.status.busy": "2024-06-11T14:19:27.040347Z",
     "iopub.status.idle": "2024-06-11T14:19:27.235175Z",
     "shell.execute_reply": "2024-06-11T14:19:27.232789Z"
    },
    "vscode": {
     "languageId": "r"
    }
   },
   "outputs": [],
   "source": [
    "primer_coverage_pass = bam_oligo_info %>%\n",
    "    filter(primer_presence_concat_check == \"non concatamer\") %>%\n",
    "    filter(primer_coverage_qc == \"good coverage of primers\") %>%\n",
    "    pull(qname) %>%\n",
    "    unique() %>%\n",
    "    length()"
   ]
  },
  {
   "cell_type": "code",
   "execution_count": 50,
   "id": "181853ea-5f38-4df2-af21-7ff806465a79",
   "metadata": {
    "execution": {
     "iopub.execute_input": "2024-06-11T14:19:27.244848Z",
     "iopub.status.busy": "2024-06-11T14:19:27.242807Z",
     "iopub.status.idle": "2024-06-11T14:19:27.456654Z",
     "shell.execute_reply": "2024-06-11T14:19:27.454301Z"
    },
    "vscode": {
     "languageId": "r"
    }
   },
   "outputs": [],
   "source": [
    "expected_hexamer_captured = bam_oligo_info %>%\n",
    "    filter(primer_presence_concat_check == \"non concatamer\") %>%\n",
    "    filter(primer_coverage_qc == \"good coverage of primers\") %>%\n",
    "    filter(AG_based_concat_check == \"non concatamer\") %>%\n",
    "    pull(qname) %>%\n",
    "    unique() %>%\n",
    "    length()"
   ]
  },
  {
   "cell_type": "code",
   "execution_count": 51,
   "id": "2d20bd2d-aa70-4efb-a4a1-6a02618bdf84",
   "metadata": {
    "execution": {
     "iopub.execute_input": "2024-06-11T14:19:27.466025Z",
     "iopub.status.busy": "2024-06-11T14:19:27.464216Z",
     "iopub.status.idle": "2024-06-11T14:19:27.529915Z",
     "shell.execute_reply": "2024-06-11T14:19:27.527778Z"
    },
    "vscode": {
     "languageId": "r"
    }
   },
   "outputs": [
    {
     "name": "stdout",
     "output_type": "stream",
     "text": [
      "\u001b[90m# A tibble: 8 × 2\u001b[39m\n",
      "  category                                                       number_of_reads\n",
      "  \u001b[3m\u001b[90m<chr>\u001b[39m\u001b[23m                                                                    \u001b[3m\u001b[90m<int>\u001b[39m\u001b[23m\n",
      "\u001b[90m1\u001b[39m Base called reads                                                       \u001b[4m7\u001b[24m\u001b[4m2\u001b[24m\u001b[4m7\u001b[24m464\n",
      "\u001b[90m2\u001b[39m Reads aligned to the XDP genome (only primary)                          \u001b[4m6\u001b[24m\u001b[4m2\u001b[24m\u001b[4m0\u001b[24m755\n",
      "\u001b[90m3\u001b[39m Unaligned reads                                                         \u001b[4m1\u001b[24m\u001b[4m0\u001b[24m\u001b[4m1\u001b[24m058\n",
      "\u001b[90m4\u001b[39m Reads aligned to the XDP-SVA region +- 5kb                              \u001b[4m5\u001b[24m\u001b[4m3\u001b[24m\u001b[4m8\u001b[24m863\n",
      "\u001b[90m5\u001b[39m Reads with Q >= 12 (Phred)                                              \u001b[4m4\u001b[24m\u001b[4m5\u001b[24m\u001b[4m1\u001b[24m611\n",
      "\u001b[90m6\u001b[39m Non concatamer reads according to primer/TSD presence test              \u001b[4m3\u001b[24m\u001b[4m6\u001b[24m\u001b[4m6\u001b[24m603\n",
      "\u001b[90m7\u001b[39m Reads with good coverage of primers/TSD (>= 80%; 5' score >= …           \u001b[4m3\u001b[24m\u001b[4m5\u001b[24m291\n",
      "\u001b[90m8\u001b[39m Captured hexamer region is >95% AG (non concatamer)                      \u001b[4m3\u001b[24m\u001b[4m4\u001b[24m749\n"
     ]
    }
   ],
   "source": [
    "titles = c(\"Base called reads\",\n",
    "           \"Reads aligned to the XDP genome (only primary)\",\n",
    "           \"Unaligned reads\",\n",
    "           \"Reads aligned to the XDP-SVA region +- 5kb\",\n",
    "           \"Reads with Q >= 12 (Phred)\",\n",
    "           \"Non concatamer reads according to primer/TSD presence test\",\n",
    "           \"Reads with good coverage of primers/TSD (>= 80%; 5' score >= 85)\",\n",
    "           \"Captured hexamer region is >95% AG (non concatamer)\")\n",
    "numbers = c(basecalled_reads,\n",
    "            aligned,\n",
    "            unaligned,\n",
    "            aligned_to_roi,\n",
    "            aligned_to_roi_pass,\n",
    "            primer_presence_pass,\n",
    "            primer_coverage_pass,\n",
    "            expected_hexamer_captured)\n",
    "\n",
    "summary_tib = tibble(category = titles,\n",
    "                     number_of_reads = numbers)\n",
    "print(summary_tib)"
   ]
  },
  {
   "cell_type": "markdown",
   "id": "07b2b3fc-8039-4adf-b0c9-7be94fbad16d",
   "metadata": {},
   "source": [
    "## Checking repeat composition"
   ]
  },
  {
   "cell_type": "code",
   "execution_count": 52,
   "id": "b142b7c3-6ba6-4452-8418-9256d419f76f",
   "metadata": {
    "execution": {
     "iopub.execute_input": "2024-06-11T14:19:27.538718Z",
     "iopub.status.busy": "2024-06-11T14:19:27.536831Z",
     "iopub.status.idle": "2024-06-11T14:19:27.566943Z",
     "shell.execute_reply": "2024-06-11T14:19:27.564806Z"
    },
    "vscode": {
     "languageId": "r"
    }
   },
   "outputs": [
    {
     "data": {
      "text/html": [
       "34749"
      ],
      "text/latex": [
       "34749"
      ],
      "text/markdown": [
       "34749"
      ],
      "text/plain": [
       "[1] 34749"
      ]
     },
     "metadata": {},
     "output_type": "display_data"
    },
    {
     "data": {
      "text/html": [
       "4871"
      ],
      "text/latex": [
       "4871"
      ],
      "text/markdown": [
       "4871"
      ],
      "text/plain": [
       "[1] 4871"
      ]
     },
     "metadata": {},
     "output_type": "display_data"
    }
   ],
   "source": [
    "# checking redundancy of hexamer sequences\n",
    "bam_oligo_info_filt$hexamer_seq %>% length()\n",
    "bam_oligo_info_filt$hexamer_seq %>% unique() %>% length()"
   ]
  },
  {
   "cell_type": "code",
   "execution_count": 53,
   "id": "0fc77e15-ddb8-4233-9217-eb4a12c7fe54",
   "metadata": {
    "execution": {
     "iopub.execute_input": "2024-06-11T14:19:27.575559Z",
     "iopub.status.busy": "2024-06-11T14:19:27.573656Z",
     "iopub.status.idle": "2024-06-11T14:19:27.711201Z",
     "shell.execute_reply": "2024-06-11T14:19:27.708798Z"
    },
    "vscode": {
     "languageId": "r"
    }
   },
   "outputs": [
    {
     "name": "stderr",
     "output_type": "stream",
     "text": [
      "\u001b[1m\u001b[22m`summarise()` has grouped output by 'size_of_hexamer'. You can override using\n",
      "the `.groups` argument.\n"
     ]
    }
   ],
   "source": [
    "# creating a non redundant dataset\n",
    "bam_oligo_info_filt_nr = bam_oligo_info_filt %>%\n",
    "    select(qname, size_of_hexamer, hexamer_seq) %>%\n",
    "    group_by(size_of_hexamer, hexamer_seq) %>%\n",
    "    summarise(read_names = paste0(qname, collapse = \",\"))"
   ]
  },
  {
   "cell_type": "code",
   "execution_count": null,
   "id": "51aac969-45dc-466e-bdef-0901c8730e51",
   "metadata": {
    "execution": {
     "iopub.execute_input": "2024-06-11T14:19:27.719647Z",
     "iopub.status.busy": "2024-06-11T14:19:27.717836Z",
     "iopub.status.idle": "2024-06-11T14:19:28.065059Z",
     "shell.execute_reply": "2024-06-11T14:19:28.062806Z"
    },
    "vscode": {
     "languageId": "r"
    }
   },
   "outputs": [],
   "source": [
    "options(repr.plot.width = 10.25, repr.plot.height = 3)\n",
    "bam_oligo_info_filt_nr %>%\n",
    "    ggplot(aes(x = -size_of_hexamer)) +\n",
    "    geom_histogram(position = \"dodge\", binwidth = 1, width = 1, fill = \"#7b848f\",\n",
    "                   aes(y = log10(after_stat(count) + 1))) +\n",
    "    scale_x_continuous(breaks = seq(-330, 0, by = 6), limits = c(-330, 0),\n",
    "                       labels = abs(seq(-330, 0, by = 6)/6)) +\n",
    "    xlab(\"(AGAGGG)n\") +\n",
    "    ylab(\"log10(Frequency + 1)\") +\n",
    "    theme_pubr(x.text.angle = 45)"
   ]
  },
  {
   "cell_type": "code",
   "execution_count": 55,
   "id": "b7cdf2ad-5736-4807-961a-10f10e0081f8",
   "metadata": {
    "execution": {
     "iopub.execute_input": "2024-06-11T14:19:28.075540Z",
     "iopub.status.busy": "2024-06-11T14:19:28.073621Z",
     "iopub.status.idle": "2024-06-11T14:19:28.198808Z",
     "shell.execute_reply": "2024-06-11T14:19:28.196341Z"
    },
    "vscode": {
     "languageId": "r"
    }
   },
   "outputs": [],
   "source": [
    "# writing sequences to file\n",
    "seqs_fasta = DNAStringSet(x = bam_oligo_info_filt$hexamer_seq)\n",
    "names(seqs_fasta) = bam_oligo_info_filt$qname\n",
    "\n",
    "nr_seqs_fasta = DNAStringSet(x = bam_oligo_info_filt_nr$hexamer_seq)\n",
    "names(nr_seqs_fasta) = str_replace(string = bam_oligo_info_filt_nr$read_names, pattern = \",.*$\", replacement = \"\")\n",
    "\n",
    "writeXStringSet(x = seqs_fasta,\n",
    "                filepath = \"hexamer_seqs__q12_cov08.fa\",\n",
    "                format = \"fasta\")\n",
    "\n",
    "writeXStringSet(x = nr_seqs_fasta,\n",
    "                filepath = \"non_redundant_hexamer_seqs__q12_cov08.fa\",\n",
    "                format = \"fasta\")"
   ]
  },
  {
   "cell_type": "code",
   "execution_count": 56,
   "id": "7f5ac99d-ca10-48df-8f83-b0e7b786f59f",
   "metadata": {
    "execution": {
     "iopub.execute_input": "2024-06-11T14:19:28.206447Z",
     "iopub.status.busy": "2024-06-11T14:19:28.204592Z",
     "iopub.status.idle": "2024-06-11T14:19:28.851262Z",
     "shell.execute_reply": "2024-06-11T14:19:28.848839Z"
    },
    "vscode": {
     "languageId": "r"
    }
   },
   "outputs": [],
   "source": [
    "hex = readDNAStringSet(filepath = \"hexamer_seqs__q12_cov08.fa\",\n",
    "                       format = \"fasta\")\n",
    "hex = hex[order(width(hex))]\n",
    "\n",
    "max_length = max(width(hex))\n",
    "n_widths = max_length - width(hex)\n",
    "n_chars = lapply(n_widths, function(x){ paste0(rep(\"N\", times = x), collapse = \"\") }) %>%\n",
    "    unlist(use.names = F)\n",
    "hex_new = paste0(n_chars, as.character(hex))\n",
    "hex_new = DNAStringSet(x = hex_new)\n",
    "names(hex_new) = names(hex)"
   ]
  },
  {
   "cell_type": "code",
   "execution_count": 57,
   "id": "e56618ea-4816-4be1-b8d0-97e9b811f73a",
   "metadata": {
    "execution": {
     "iopub.execute_input": "2024-06-11T14:19:28.861325Z",
     "iopub.status.busy": "2024-06-11T14:19:28.859183Z",
     "iopub.status.idle": "2024-06-11T14:19:28.934266Z",
     "shell.execute_reply": "2024-06-11T14:19:28.931672Z"
    },
    "vscode": {
     "languageId": "r"
    }
   },
   "outputs": [
    {
     "data": {
      "text/plain": [
       "DNAStringSet object of length 34749:\n",
       "        width seq                                           names               \n",
       "    [1]   126 \u001b[47m\u001b[37mN\u001b[39m\u001b[49m\u001b[47m\u001b[37mN\u001b[39m\u001b[49m\u001b[47m\u001b[37mN\u001b[39m\u001b[49m\u001b[47m\u001b[37mN\u001b[39m\u001b[49m\u001b[47m\u001b[37mN\u001b[39m\u001b[49m\u001b[47m\u001b[37mN\u001b[39m\u001b[49m\u001b[47m\u001b[37mN\u001b[39m\u001b[49m\u001b[47m\u001b[37mN\u001b[39m\u001b[49m\u001b[47m\u001b[37mN\u001b[39m\u001b[49m\u001b[47m\u001b[37mN\u001b[39m\u001b[49m\u001b[47m\u001b[37mN\u001b[39m\u001b[49m\u001b[47m\u001b[37mN\u001b[39m\u001b[49m\u001b[47m\u001b[37mN\u001b[39m\u001b[49m\u001b[47m\u001b[37mN\u001b[39m\u001b[49m\u001b[47m\u001b[37mN\u001b[39m\u001b[49m\u001b[47m\u001b[37mN\u001b[39m\u001b[49m\u001b[47m\u001b[37mN\u001b[39m\u001b[49m\u001b[47m\u001b[37mN\u001b[39m\u001b[49m\u001b[47m\u001b[37mN\u001b[39m\u001b[49m\u001b[47m\u001b[37mN\u001b[39m\u001b[49m\u001b[47m\u001b[37mN\u001b[39m\u001b[49m...\u001b[47m\u001b[37mN\u001b[39m\u001b[49m\u001b[47m\u001b[37mN\u001b[39m\u001b[49m\u001b[47m\u001b[37mN\u001b[39m\u001b[49m\u001b[47m\u001b[37mN\u001b[39m\u001b[49m\u001b[47m\u001b[37mN\u001b[39m\u001b[49m\u001b[47m\u001b[37mN\u001b[39m\u001b[49m\u001b[47m\u001b[37mN\u001b[39m\u001b[49m\u001b[47m\u001b[37mN\u001b[39m\u001b[49m\u001b[47m\u001b[37mN\u001b[39m\u001b[49m\u001b[47m\u001b[37mN\u001b[39m\u001b[49m\u001b[47m\u001b[37mN\u001b[39m\u001b[49m\u001b[47m\u001b[37mN\u001b[39m\u001b[49m\u001b[47m\u001b[37mN\u001b[39m\u001b[49m\u001b[47m\u001b[37mN\u001b[39m\u001b[49m\u001b[47m\u001b[37mN\u001b[39m\u001b[49m\u001b[47m\u001b[37mN\u001b[39m\u001b[49m\u001b[47m\u001b[37mN\u001b[39m\u001b[49m\u001b[47m\u001b[37mN\u001b[39m\u001b[49m\u001b[47m\u001b[37mN\u001b[39m\u001b[49m\u001b[47m\u001b[37mN\u001b[39m\u001b[49m\u001b[47m\u001b[30mG\u001b[39m\u001b[49m 0a2cb636-6905-474...\n",
       "    [2]   126 \u001b[47m\u001b[37mN\u001b[39m\u001b[49m\u001b[47m\u001b[37mN\u001b[39m\u001b[49m\u001b[47m\u001b[37mN\u001b[39m\u001b[49m\u001b[47m\u001b[37mN\u001b[39m\u001b[49m\u001b[47m\u001b[37mN\u001b[39m\u001b[49m\u001b[47m\u001b[37mN\u001b[39m\u001b[49m\u001b[47m\u001b[37mN\u001b[39m\u001b[49m\u001b[47m\u001b[37mN\u001b[39m\u001b[49m\u001b[47m\u001b[37mN\u001b[39m\u001b[49m\u001b[47m\u001b[37mN\u001b[39m\u001b[49m\u001b[47m\u001b[37mN\u001b[39m\u001b[49m\u001b[47m\u001b[37mN\u001b[39m\u001b[49m\u001b[47m\u001b[37mN\u001b[39m\u001b[49m\u001b[47m\u001b[37mN\u001b[39m\u001b[49m\u001b[47m\u001b[37mN\u001b[39m\u001b[49m\u001b[47m\u001b[37mN\u001b[39m\u001b[49m\u001b[47m\u001b[37mN\u001b[39m\u001b[49m\u001b[47m\u001b[37mN\u001b[39m\u001b[49m\u001b[47m\u001b[37mN\u001b[39m\u001b[49m\u001b[47m\u001b[37mN\u001b[39m\u001b[49m\u001b[47m\u001b[37mN\u001b[39m\u001b[49m...\u001b[47m\u001b[37mN\u001b[39m\u001b[49m\u001b[47m\u001b[37mN\u001b[39m\u001b[49m\u001b[47m\u001b[37mN\u001b[39m\u001b[49m\u001b[47m\u001b[37mN\u001b[39m\u001b[49m\u001b[47m\u001b[37mN\u001b[39m\u001b[49m\u001b[47m\u001b[37mN\u001b[39m\u001b[49m\u001b[47m\u001b[37mN\u001b[39m\u001b[49m\u001b[47m\u001b[37mN\u001b[39m\u001b[49m\u001b[47m\u001b[37mN\u001b[39m\u001b[49m\u001b[47m\u001b[37mN\u001b[39m\u001b[49m\u001b[47m\u001b[37mN\u001b[39m\u001b[49m\u001b[47m\u001b[37mN\u001b[39m\u001b[49m\u001b[47m\u001b[37mN\u001b[39m\u001b[49m\u001b[47m\u001b[37mN\u001b[39m\u001b[49m\u001b[47m\u001b[37mN\u001b[39m\u001b[49m\u001b[47m\u001b[37mN\u001b[39m\u001b[49m\u001b[47m\u001b[37mN\u001b[39m\u001b[49m\u001b[47m\u001b[37mN\u001b[39m\u001b[49m\u001b[47m\u001b[37mN\u001b[39m\u001b[49m\u001b[47m\u001b[30mA\u001b[39m\u001b[49m\u001b[47m\u001b[30mG\u001b[39m\u001b[49m 8a74d912-0921-482...\n",
       "    [3]   126 \u001b[47m\u001b[37mN\u001b[39m\u001b[49m\u001b[47m\u001b[37mN\u001b[39m\u001b[49m\u001b[47m\u001b[37mN\u001b[39m\u001b[49m\u001b[47m\u001b[37mN\u001b[39m\u001b[49m\u001b[47m\u001b[37mN\u001b[39m\u001b[49m\u001b[47m\u001b[37mN\u001b[39m\u001b[49m\u001b[47m\u001b[37mN\u001b[39m\u001b[49m\u001b[47m\u001b[37mN\u001b[39m\u001b[49m\u001b[47m\u001b[37mN\u001b[39m\u001b[49m\u001b[47m\u001b[37mN\u001b[39m\u001b[49m\u001b[47m\u001b[37mN\u001b[39m\u001b[49m\u001b[47m\u001b[37mN\u001b[39m\u001b[49m\u001b[47m\u001b[37mN\u001b[39m\u001b[49m\u001b[47m\u001b[37mN\u001b[39m\u001b[49m\u001b[47m\u001b[37mN\u001b[39m\u001b[49m\u001b[47m\u001b[37mN\u001b[39m\u001b[49m\u001b[47m\u001b[37mN\u001b[39m\u001b[49m\u001b[47m\u001b[37mN\u001b[39m\u001b[49m\u001b[47m\u001b[37mN\u001b[39m\u001b[49m\u001b[47m\u001b[37mN\u001b[39m\u001b[49m\u001b[47m\u001b[37mN\u001b[39m\u001b[49m...\u001b[47m\u001b[37mN\u001b[39m\u001b[49m\u001b[47m\u001b[37mN\u001b[39m\u001b[49m\u001b[47m\u001b[37mN\u001b[39m\u001b[49m\u001b[47m\u001b[37mN\u001b[39m\u001b[49m\u001b[47m\u001b[37mN\u001b[39m\u001b[49m\u001b[47m\u001b[37mN\u001b[39m\u001b[49m\u001b[47m\u001b[37mN\u001b[39m\u001b[49m\u001b[47m\u001b[37mN\u001b[39m\u001b[49m\u001b[47m\u001b[37mN\u001b[39m\u001b[49m\u001b[47m\u001b[37mN\u001b[39m\u001b[49m\u001b[47m\u001b[37mN\u001b[39m\u001b[49m\u001b[47m\u001b[37mN\u001b[39m\u001b[49m\u001b[47m\u001b[37mN\u001b[39m\u001b[49m\u001b[47m\u001b[37mN\u001b[39m\u001b[49m\u001b[47m\u001b[37mN\u001b[39m\u001b[49m\u001b[47m\u001b[37mN\u001b[39m\u001b[49m\u001b[47m\u001b[37mN\u001b[39m\u001b[49m\u001b[47m\u001b[37mN\u001b[39m\u001b[49m\u001b[47m\u001b[37mN\u001b[39m\u001b[49m\u001b[47m\u001b[30mG\u001b[39m\u001b[49m\u001b[47m\u001b[30mG\u001b[39m\u001b[49m 76f6f660-3bff-4e8...\n",
       "    [4]   126 \u001b[47m\u001b[37mN\u001b[39m\u001b[49m\u001b[47m\u001b[37mN\u001b[39m\u001b[49m\u001b[47m\u001b[37mN\u001b[39m\u001b[49m\u001b[47m\u001b[37mN\u001b[39m\u001b[49m\u001b[47m\u001b[37mN\u001b[39m\u001b[49m\u001b[47m\u001b[37mN\u001b[39m\u001b[49m\u001b[47m\u001b[37mN\u001b[39m\u001b[49m\u001b[47m\u001b[37mN\u001b[39m\u001b[49m\u001b[47m\u001b[37mN\u001b[39m\u001b[49m\u001b[47m\u001b[37mN\u001b[39m\u001b[49m\u001b[47m\u001b[37mN\u001b[39m\u001b[49m\u001b[47m\u001b[37mN\u001b[39m\u001b[49m\u001b[47m\u001b[37mN\u001b[39m\u001b[49m\u001b[47m\u001b[37mN\u001b[39m\u001b[49m\u001b[47m\u001b[37mN\u001b[39m\u001b[49m\u001b[47m\u001b[37mN\u001b[39m\u001b[49m\u001b[47m\u001b[37mN\u001b[39m\u001b[49m\u001b[47m\u001b[37mN\u001b[39m\u001b[49m\u001b[47m\u001b[37mN\u001b[39m\u001b[49m\u001b[47m\u001b[37mN\u001b[39m\u001b[49m\u001b[47m\u001b[37mN\u001b[39m\u001b[49m...\u001b[47m\u001b[37mN\u001b[39m\u001b[49m\u001b[47m\u001b[37mN\u001b[39m\u001b[49m\u001b[47m\u001b[37mN\u001b[39m\u001b[49m\u001b[47m\u001b[37mN\u001b[39m\u001b[49m\u001b[47m\u001b[37mN\u001b[39m\u001b[49m\u001b[47m\u001b[37mN\u001b[39m\u001b[49m\u001b[47m\u001b[37mN\u001b[39m\u001b[49m\u001b[47m\u001b[37mN\u001b[39m\u001b[49m\u001b[47m\u001b[37mN\u001b[39m\u001b[49m\u001b[47m\u001b[37mN\u001b[39m\u001b[49m\u001b[47m\u001b[37mN\u001b[39m\u001b[49m\u001b[47m\u001b[37mN\u001b[39m\u001b[49m\u001b[47m\u001b[37mN\u001b[39m\u001b[49m\u001b[47m\u001b[37mN\u001b[39m\u001b[49m\u001b[47m\u001b[37mN\u001b[39m\u001b[49m\u001b[47m\u001b[37mN\u001b[39m\u001b[49m\u001b[47m\u001b[37mN\u001b[39m\u001b[49m\u001b[47m\u001b[37mN\u001b[39m\u001b[49m\u001b[47m\u001b[37mN\u001b[39m\u001b[49m\u001b[47m\u001b[30mA\u001b[39m\u001b[49m\u001b[47m\u001b[30mG\u001b[39m\u001b[49m 3378974f-9e53-4cf...\n",
       "    [5]   126 \u001b[47m\u001b[37mN\u001b[39m\u001b[49m\u001b[47m\u001b[37mN\u001b[39m\u001b[49m\u001b[47m\u001b[37mN\u001b[39m\u001b[49m\u001b[47m\u001b[37mN\u001b[39m\u001b[49m\u001b[47m\u001b[37mN\u001b[39m\u001b[49m\u001b[47m\u001b[37mN\u001b[39m\u001b[49m\u001b[47m\u001b[37mN\u001b[39m\u001b[49m\u001b[47m\u001b[37mN\u001b[39m\u001b[49m\u001b[47m\u001b[37mN\u001b[39m\u001b[49m\u001b[47m\u001b[37mN\u001b[39m\u001b[49m\u001b[47m\u001b[37mN\u001b[39m\u001b[49m\u001b[47m\u001b[37mN\u001b[39m\u001b[49m\u001b[47m\u001b[37mN\u001b[39m\u001b[49m\u001b[47m\u001b[37mN\u001b[39m\u001b[49m\u001b[47m\u001b[37mN\u001b[39m\u001b[49m\u001b[47m\u001b[37mN\u001b[39m\u001b[49m\u001b[47m\u001b[37mN\u001b[39m\u001b[49m\u001b[47m\u001b[37mN\u001b[39m\u001b[49m\u001b[47m\u001b[37mN\u001b[39m\u001b[49m\u001b[47m\u001b[37mN\u001b[39m\u001b[49m\u001b[47m\u001b[37mN\u001b[39m\u001b[49m...\u001b[47m\u001b[37mN\u001b[39m\u001b[49m\u001b[47m\u001b[37mN\u001b[39m\u001b[49m\u001b[47m\u001b[37mN\u001b[39m\u001b[49m\u001b[47m\u001b[37mN\u001b[39m\u001b[49m\u001b[47m\u001b[37mN\u001b[39m\u001b[49m\u001b[47m\u001b[37mN\u001b[39m\u001b[49m\u001b[47m\u001b[37mN\u001b[39m\u001b[49m\u001b[47m\u001b[37mN\u001b[39m\u001b[49m\u001b[47m\u001b[37mN\u001b[39m\u001b[49m\u001b[47m\u001b[37mN\u001b[39m\u001b[49m\u001b[47m\u001b[37mN\u001b[39m\u001b[49m\u001b[47m\u001b[37mN\u001b[39m\u001b[49m\u001b[47m\u001b[37mN\u001b[39m\u001b[49m\u001b[47m\u001b[37mN\u001b[39m\u001b[49m\u001b[47m\u001b[37mN\u001b[39m\u001b[49m\u001b[47m\u001b[37mN\u001b[39m\u001b[49m\u001b[47m\u001b[37mN\u001b[39m\u001b[49m\u001b[47m\u001b[37mN\u001b[39m\u001b[49m\u001b[47m\u001b[37mN\u001b[39m\u001b[49m\u001b[47m\u001b[30mG\u001b[39m\u001b[49m\u001b[47m\u001b[30mG\u001b[39m\u001b[49m 90cac0f0-f58c-4cc...\n",
       "    ...   ... ...\n",
       "[34745]   126 \u001b[47m\u001b[37mN\u001b[39m\u001b[49m\u001b[47m\u001b[37mN\u001b[39m\u001b[49m\u001b[47m\u001b[37mN\u001b[39m\u001b[49m\u001b[47m\u001b[37mN\u001b[39m\u001b[49m\u001b[47m\u001b[37mN\u001b[39m\u001b[49m\u001b[47m\u001b[37mN\u001b[39m\u001b[49m\u001b[47m\u001b[37mN\u001b[39m\u001b[49m\u001b[47m\u001b[37mN\u001b[39m\u001b[49m\u001b[47m\u001b[37mN\u001b[39m\u001b[49m\u001b[47m\u001b[37mN\u001b[39m\u001b[49m\u001b[47m\u001b[37mN\u001b[39m\u001b[49m\u001b[47m\u001b[37mN\u001b[39m\u001b[49m\u001b[47m\u001b[37mN\u001b[39m\u001b[49m\u001b[47m\u001b[37mN\u001b[39m\u001b[49m\u001b[47m\u001b[37mN\u001b[39m\u001b[49m\u001b[47m\u001b[37mN\u001b[39m\u001b[49m\u001b[47m\u001b[37mN\u001b[39m\u001b[49m\u001b[47m\u001b[37mN\u001b[39m\u001b[49m\u001b[47m\u001b[37mN\u001b[39m\u001b[49m\u001b[47m\u001b[37mN\u001b[39m\u001b[49m\u001b[47m\u001b[37mN\u001b[39m\u001b[49m...\u001b[47m\u001b[30mG\u001b[39m\u001b[49m\u001b[47m\u001b[30mG\u001b[39m\u001b[49m\u001b[47m\u001b[30mG\u001b[39m\u001b[49m\u001b[47m\u001b[30mG\u001b[39m\u001b[49m\u001b[47m\u001b[30mG\u001b[39m\u001b[49m\u001b[47m\u001b[30mA\u001b[39m\u001b[49m\u001b[47m\u001b[30mG\u001b[39m\u001b[49m\u001b[47m\u001b[30mA\u001b[39m\u001b[49m\u001b[47m\u001b[30mG\u001b[39m\u001b[49m\u001b[47m\u001b[30mG\u001b[39m\u001b[49m\u001b[47m\u001b[30mG\u001b[39m\u001b[49m\u001b[47m\u001b[30mA\u001b[39m\u001b[49m\u001b[47m\u001b[30mG\u001b[39m\u001b[49m\u001b[47m\u001b[30mA\u001b[39m\u001b[49m\u001b[47m\u001b[30mG\u001b[39m\u001b[49m\u001b[47m\u001b[30mG\u001b[39m\u001b[49m\u001b[47m\u001b[30mG\u001b[39m\u001b[49m\u001b[47m\u001b[30mA\u001b[39m\u001b[49m\u001b[47m\u001b[30mG\u001b[39m\u001b[49m\u001b[47m\u001b[30mA\u001b[39m\u001b[49m\u001b[47m\u001b[30mG\u001b[39m\u001b[49m 68c9c0d1-fcb6-49f...\n",
       "[34746]   126 \u001b[47m\u001b[37mN\u001b[39m\u001b[49m\u001b[47m\u001b[37mN\u001b[39m\u001b[49m\u001b[47m\u001b[37mN\u001b[39m\u001b[49m\u001b[47m\u001b[37mN\u001b[39m\u001b[49m\u001b[47m\u001b[37mN\u001b[39m\u001b[49m\u001b[47m\u001b[37mN\u001b[39m\u001b[49m\u001b[47m\u001b[37mN\u001b[39m\u001b[49m\u001b[47m\u001b[37mN\u001b[39m\u001b[49m\u001b[47m\u001b[37mN\u001b[39m\u001b[49m\u001b[47m\u001b[37mN\u001b[39m\u001b[49m\u001b[47m\u001b[37mN\u001b[39m\u001b[49m\u001b[47m\u001b[37mN\u001b[39m\u001b[49m\u001b[47m\u001b[37mN\u001b[39m\u001b[49m\u001b[47m\u001b[37mN\u001b[39m\u001b[49m\u001b[47m\u001b[37mN\u001b[39m\u001b[49m\u001b[47m\u001b[37mN\u001b[39m\u001b[49m\u001b[47m\u001b[37mN\u001b[39m\u001b[49m\u001b[47m\u001b[37mN\u001b[39m\u001b[49m\u001b[47m\u001b[37mN\u001b[39m\u001b[49m\u001b[47m\u001b[37mN\u001b[39m\u001b[49m\u001b[47m\u001b[37mN\u001b[39m\u001b[49m...\u001b[47m\u001b[30mG\u001b[39m\u001b[49m\u001b[47m\u001b[30mA\u001b[39m\u001b[49m\u001b[47m\u001b[30mG\u001b[39m\u001b[49m\u001b[47m\u001b[30mG\u001b[39m\u001b[49m\u001b[47m\u001b[30mG\u001b[39m\u001b[49m\u001b[47m\u001b[30mA\u001b[39m\u001b[49m\u001b[47m\u001b[30mG\u001b[39m\u001b[49m\u001b[47m\u001b[30mA\u001b[39m\u001b[49m\u001b[47m\u001b[30mG\u001b[39m\u001b[49m\u001b[47m\u001b[30mG\u001b[39m\u001b[49m\u001b[47m\u001b[30mG\u001b[39m\u001b[49m\u001b[47m\u001b[30mA\u001b[39m\u001b[49m\u001b[47m\u001b[30mG\u001b[39m\u001b[49m\u001b[47m\u001b[30mA\u001b[39m\u001b[49m\u001b[47m\u001b[30mG\u001b[39m\u001b[49m\u001b[47m\u001b[30mG\u001b[39m\u001b[49m\u001b[47m\u001b[30mG\u001b[39m\u001b[49m\u001b[47m\u001b[30mA\u001b[39m\u001b[49m\u001b[47m\u001b[30mG\u001b[39m\u001b[49m\u001b[47m\u001b[30mA\u001b[39m\u001b[49m\u001b[47m\u001b[30mG\u001b[39m\u001b[49m 6fb285ad-ccc6-48b...\n",
       "[34747]   126 \u001b[47m\u001b[37mN\u001b[39m\u001b[49m\u001b[47m\u001b[37mN\u001b[39m\u001b[49m\u001b[47m\u001b[37mN\u001b[39m\u001b[49m\u001b[47m\u001b[37mN\u001b[39m\u001b[49m\u001b[47m\u001b[37mN\u001b[39m\u001b[49m\u001b[47m\u001b[37mN\u001b[39m\u001b[49m\u001b[47m\u001b[37mN\u001b[39m\u001b[49m\u001b[47m\u001b[37mN\u001b[39m\u001b[49m\u001b[47m\u001b[37mN\u001b[39m\u001b[49m\u001b[47m\u001b[37mN\u001b[39m\u001b[49m\u001b[47m\u001b[37mN\u001b[39m\u001b[49m\u001b[47m\u001b[37mN\u001b[39m\u001b[49m\u001b[47m\u001b[37mN\u001b[39m\u001b[49m\u001b[47m\u001b[37mN\u001b[39m\u001b[49m\u001b[47m\u001b[37mN\u001b[39m\u001b[49m\u001b[47m\u001b[37mN\u001b[39m\u001b[49m\u001b[47m\u001b[37mN\u001b[39m\u001b[49m\u001b[47m\u001b[37mN\u001b[39m\u001b[49m\u001b[47m\u001b[37mN\u001b[39m\u001b[49m\u001b[47m\u001b[37mN\u001b[39m\u001b[49m\u001b[47m\u001b[37mN\u001b[39m\u001b[49m...\u001b[47m\u001b[30mG\u001b[39m\u001b[49m\u001b[47m\u001b[30mA\u001b[39m\u001b[49m\u001b[47m\u001b[30mG\u001b[39m\u001b[49m\u001b[47m\u001b[30mG\u001b[39m\u001b[49m\u001b[47m\u001b[30mG\u001b[39m\u001b[49m\u001b[47m\u001b[30mA\u001b[39m\u001b[49m\u001b[47m\u001b[30mG\u001b[39m\u001b[49m\u001b[47m\u001b[30mA\u001b[39m\u001b[49m\u001b[47m\u001b[30mG\u001b[39m\u001b[49m\u001b[47m\u001b[30mG\u001b[39m\u001b[49m\u001b[47m\u001b[30mG\u001b[39m\u001b[49m\u001b[47m\u001b[30mA\u001b[39m\u001b[49m\u001b[47m\u001b[30mG\u001b[39m\u001b[49m\u001b[47m\u001b[30mA\u001b[39m\u001b[49m\u001b[47m\u001b[30mG\u001b[39m\u001b[49m\u001b[47m\u001b[30mG\u001b[39m\u001b[49m\u001b[47m\u001b[30mG\u001b[39m\u001b[49m\u001b[47m\u001b[30mA\u001b[39m\u001b[49m\u001b[47m\u001b[30mG\u001b[39m\u001b[49m\u001b[47m\u001b[30mA\u001b[39m\u001b[49m\u001b[47m\u001b[30mG\u001b[39m\u001b[49m 3cec9388-38a3-417...\n",
       "[34748]   126 \u001b[47m\u001b[37mN\u001b[39m\u001b[49m\u001b[47m\u001b[37mN\u001b[39m\u001b[49m\u001b[47m\u001b[37mN\u001b[39m\u001b[49m\u001b[47m\u001b[37mN\u001b[39m\u001b[49m\u001b[47m\u001b[37mN\u001b[39m\u001b[49m\u001b[47m\u001b[37mN\u001b[39m\u001b[49m\u001b[47m\u001b[37mN\u001b[39m\u001b[49m\u001b[47m\u001b[37mN\u001b[39m\u001b[49m\u001b[47m\u001b[37mN\u001b[39m\u001b[49m\u001b[47m\u001b[37mN\u001b[39m\u001b[49m\u001b[47m\u001b[37mN\u001b[39m\u001b[49m\u001b[47m\u001b[37mN\u001b[39m\u001b[49m\u001b[47m\u001b[37mN\u001b[39m\u001b[49m\u001b[47m\u001b[37mN\u001b[39m\u001b[49m\u001b[47m\u001b[37mN\u001b[39m\u001b[49m\u001b[47m\u001b[37mN\u001b[39m\u001b[49m\u001b[47m\u001b[37mN\u001b[39m\u001b[49m\u001b[47m\u001b[37mN\u001b[39m\u001b[49m\u001b[47m\u001b[37mN\u001b[39m\u001b[49m\u001b[47m\u001b[37mN\u001b[39m\u001b[49m\u001b[47m\u001b[37mN\u001b[39m\u001b[49m...\u001b[47m\u001b[30mG\u001b[39m\u001b[49m\u001b[47m\u001b[30mA\u001b[39m\u001b[49m\u001b[47m\u001b[30mG\u001b[39m\u001b[49m\u001b[47m\u001b[30mG\u001b[39m\u001b[49m\u001b[47m\u001b[30mG\u001b[39m\u001b[49m\u001b[47m\u001b[30mA\u001b[39m\u001b[49m\u001b[47m\u001b[30mG\u001b[39m\u001b[49m\u001b[47m\u001b[30mA\u001b[39m\u001b[49m\u001b[47m\u001b[30mG\u001b[39m\u001b[49m\u001b[47m\u001b[30mG\u001b[39m\u001b[49m\u001b[47m\u001b[30mG\u001b[39m\u001b[49m\u001b[47m\u001b[30mA\u001b[39m\u001b[49m\u001b[47m\u001b[30mG\u001b[39m\u001b[49m\u001b[47m\u001b[30mA\u001b[39m\u001b[49m\u001b[47m\u001b[30mG\u001b[39m\u001b[49m\u001b[47m\u001b[30mG\u001b[39m\u001b[49m\u001b[47m\u001b[30mG\u001b[39m\u001b[49m\u001b[47m\u001b[30mA\u001b[39m\u001b[49m\u001b[47m\u001b[30mG\u001b[39m\u001b[49m\u001b[47m\u001b[30mA\u001b[39m\u001b[49m\u001b[47m\u001b[30mG\u001b[39m\u001b[49m 58a1b78a-b2c2-4d5...\n",
       "[34749]   126 \u001b[47m\u001b[30mG\u001b[39m\u001b[49m\u001b[47m\u001b[30mG\u001b[39m\u001b[49m\u001b[47m\u001b[30mG\u001b[39m\u001b[49m\u001b[47m\u001b[30mA\u001b[39m\u001b[49m\u001b[47m\u001b[30mG\u001b[39m\u001b[49m\u001b[47m\u001b[30mA\u001b[39m\u001b[49m\u001b[47m\u001b[30mG\u001b[39m\u001b[49m\u001b[47m\u001b[30mG\u001b[39m\u001b[49m\u001b[47m\u001b[30mG\u001b[39m\u001b[49m\u001b[47m\u001b[30mA\u001b[39m\u001b[49m\u001b[47m\u001b[30mG\u001b[39m\u001b[49m\u001b[47m\u001b[30mA\u001b[39m\u001b[49m\u001b[47m\u001b[30mG\u001b[39m\u001b[49m\u001b[47m\u001b[30mG\u001b[39m\u001b[49m\u001b[47m\u001b[30mG\u001b[39m\u001b[49m\u001b[47m\u001b[30mA\u001b[39m\u001b[49m\u001b[47m\u001b[30mG\u001b[39m\u001b[49m\u001b[47m\u001b[30mA\u001b[39m\u001b[49m\u001b[47m\u001b[30mG\u001b[39m\u001b[49m\u001b[47m\u001b[30mG\u001b[39m\u001b[49m\u001b[47m\u001b[30mG\u001b[39m\u001b[49m...\u001b[47m\u001b[30mG\u001b[39m\u001b[49m\u001b[47m\u001b[30mG\u001b[39m\u001b[49m\u001b[47m\u001b[30mG\u001b[39m\u001b[49m\u001b[47m\u001b[30mG\u001b[39m\u001b[49m\u001b[47m\u001b[30mG\u001b[39m\u001b[49m\u001b[47m\u001b[30mG\u001b[39m\u001b[49m\u001b[47m\u001b[30mG\u001b[39m\u001b[49m\u001b[47m\u001b[30mG\u001b[39m\u001b[49m\u001b[47m\u001b[30mG\u001b[39m\u001b[49m\u001b[47m\u001b[30mG\u001b[39m\u001b[49m\u001b[47m\u001b[30mG\u001b[39m\u001b[49m\u001b[47m\u001b[30mA\u001b[39m\u001b[49m\u001b[47m\u001b[30mG\u001b[39m\u001b[49m\u001b[47m\u001b[30mA\u001b[39m\u001b[49m\u001b[47m\u001b[30mG\u001b[39m\u001b[49m\u001b[47m\u001b[30mG\u001b[39m\u001b[49m\u001b[47m\u001b[30mG\u001b[39m\u001b[49m\u001b[47m\u001b[30mA\u001b[39m\u001b[49m\u001b[47m\u001b[30mG\u001b[39m\u001b[49m\u001b[47m\u001b[30mA\u001b[39m\u001b[49m\u001b[47m\u001b[30mG\u001b[39m\u001b[49m 4b80cbc0-af7a-4a3..."
      ]
     },
     "metadata": {},
     "output_type": "display_data"
    },
    {
     "data": {
      "text/html": [
       "TRUE"
      ],
      "text/latex": [
       "TRUE"
      ],
      "text/markdown": [
       "TRUE"
      ],
      "text/plain": [
       "[1] TRUE"
      ]
     },
     "metadata": {},
     "output_type": "display_data"
    }
   ],
   "source": [
    "hex_new\n",
    "all(width(hex_new) == max_length)"
   ]
  },
  {
   "cell_type": "code",
   "execution_count": 58,
   "id": "61c6b4cf-86a1-4935-a339-efec8f6332fb",
   "metadata": {
    "execution": {
     "iopub.execute_input": "2024-06-11T14:19:28.943209Z",
     "iopub.status.busy": "2024-06-11T14:19:28.941397Z",
     "iopub.status.idle": "2024-06-11T14:19:29.551899Z",
     "shell.execute_reply": "2024-06-11T14:19:29.549497Z"
    },
    "vscode": {
     "languageId": "r"
    }
   },
   "outputs": [],
   "source": [
    "hex_qual_tib = bam_oligo_info_filt %>%\n",
    "    arrange(match(bam_oligo_info_filt$qname, names(hex_new))) %>%\n",
    "    select(qname, hexamer_qual)\n",
    "hex_qual = hex_qual_tib$hexamer_qual\n",
    "hex_qual = PhredQuality(hex_qual)\n",
    "low_qual = lapply(n_widths, function(x){ paste0(rep(\"!\", times = x), collapse = \"\") }) %>%\n",
    "    unlist(use.names = F)\n",
    "hex_qual_new = paste0(low_qual, as.character(hex_qual))\n",
    "hex_qual_new = PhredQuality(x = hex_qual_new)\n",
    "names(hex_qual_new) = hex_qual_tib$qname"
   ]
  },
  {
   "cell_type": "code",
   "execution_count": 59,
   "id": "1c6cdcf1-b4fe-4247-98a0-308592fe0e36",
   "metadata": {
    "execution": {
     "iopub.execute_input": "2024-06-11T14:19:29.561221Z",
     "iopub.status.busy": "2024-06-11T14:19:29.559337Z",
     "iopub.status.idle": "2024-06-11T14:19:29.627626Z",
     "shell.execute_reply": "2024-06-11T14:19:29.625122Z"
    },
    "vscode": {
     "languageId": "r"
    }
   },
   "outputs": [
    {
     "data": {
      "text/plain": [
       "PhredQuality object of length 34749:\n",
       "        width seq                                           names               \n",
       "    [1]   126 !!!!!!!!!!!!!!!!!!!!!...!!!!!!!!!!!!!!!!!!!!+ 0a2cb636-6905-474...\n",
       "    [2]   126 !!!!!!!!!!!!!!!!!!!!!...!!!!!!!!!!!!!!!!!!!JG 8a74d912-0921-482...\n",
       "    [3]   126 !!!!!!!!!!!!!!!!!!!!!...!!!!!!!!!!!!!!!!!!!3/ 76f6f660-3bff-4e8...\n",
       "    [4]   126 !!!!!!!!!!!!!!!!!!!!!...!!!!!!!!!!!!!!!!!!!%& 3378974f-9e53-4cf...\n",
       "    [5]   126 !!!!!!!!!!!!!!!!!!!!!...!!!!!!!!!!!!!!!!!!!(0 90cac0f0-f58c-4cc...\n",
       "    ...   ... ...\n",
       "[34745]   126 !!!!!!!!!!!!!!!!!!!!!...'(((''*13379=AC???AFE 68c9c0d1-fcb6-49f...\n",
       "[34746]   126 !!!!!!!!!!!!!!!!!!!!!...;<<?>=CEGD@BDFIBCBBBG 6fb285ad-ccc6-48b...\n",
       "[34747]   126 !!!!!!!!!!!!!!!!!!!!!...+).757678B@@>=@EF<<<< 3cec9388-38a3-417...\n",
       "[34748]   126 !!!!!!!!!!!!!!!!!!!!!...849769;:@B11157<<7667 58a1b78a-b2c2-4d5...\n",
       "[34749]   126 @??@<>>=<:==@@?>CGGGC...BBBBCBA?<;+(186;@ADBD 4b80cbc0-af7a-4a3..."
      ]
     },
     "metadata": {},
     "output_type": "display_data"
    },
    {
     "data": {
      "text/html": [
       "TRUE"
      ],
      "text/latex": [
       "TRUE"
      ],
      "text/markdown": [
       "TRUE"
      ],
      "text/plain": [
       "[1] TRUE"
      ]
     },
     "metadata": {},
     "output_type": "display_data"
    }
   ],
   "source": [
    "hex_qual_new\n",
    "all(width(hex_qual_new) == max_length)"
   ]
  },
  {
   "cell_type": "code",
   "execution_count": 60,
   "id": "54ccabbf-45dd-43b7-b793-a560e8596047",
   "metadata": {
    "execution": {
     "iopub.execute_input": "2024-06-11T14:19:29.637331Z",
     "iopub.status.busy": "2024-06-11T14:19:29.635363Z",
     "iopub.status.idle": "2024-06-11T14:19:29.835925Z",
     "shell.execute_reply": "2024-06-11T14:19:29.833284Z"
    },
    "vscode": {
     "languageId": "r"
    }
   },
   "outputs": [],
   "source": [
    "hex_qual_new_int = as(PhredQuality(hex_qual_new), \"IntegerList\") %>%\n",
    "    as.matrix()\n",
    "rownames(hex_qual_new_int) = names(hex_qual_new)"
   ]
  },
  {
   "cell_type": "code",
   "execution_count": 61,
   "id": "96a41a62-ae96-4787-8ec4-7a21320ae5b3",
   "metadata": {
    "execution": {
     "iopub.execute_input": "2024-06-11T14:19:29.845255Z",
     "iopub.status.busy": "2024-06-11T14:19:29.843158Z",
     "iopub.status.idle": "2024-06-11T14:19:47.541579Z",
     "shell.execute_reply": "2024-06-11T14:19:47.538935Z"
    },
    "vscode": {
     "languageId": "r"
    }
   },
   "outputs": [
    {
     "name": "stderr",
     "output_type": "stream",
     "text": [
      "\n",
      "Applying Gaussian blur...\n",
      "\n"
     ]
    },
    {
     "name": "stderr",
     "output_type": "stream",
     "text": [
      "\n",
      "Applying Gaussian blur...\n",
      "\n"
     ]
    },
    {
     "name": "stderr",
     "output_type": "stream",
     "text": [
      "\n",
      "Applying Gaussian blur...\n",
      "\n"
     ]
    },
    {
     "name": "stderr",
     "output_type": "stream",
     "text": [
      "\n",
      "Applying Gaussian blur...\n",
      "\n"
     ]
    }
   ],
   "source": [
    "if(!file.exists(\"results_ht__q12_cov08.rds\")){\n",
    "    results_ht = list()\n",
    "    coords = c(0, max_length)\n",
    "    # AGAGAG\n",
    "    pat_ht = PatternHeatmap(hex_new, pattern = \"AGAGAG\", coords = coords)\n",
    "    pat_ht_smooth = smoothHeatmap(pat_ht,\n",
    "                                  # output.size=c(length(hex_new), 500),\n",
    "                                  algorithm=\"blur\")\n",
    "    results_ht$agagag = pat_ht_smooth\n",
    "    # plotHeatmapList(pat_ht_smooth, color = \"Reds\")\n",
    "    \n",
    "    # AGAGGG\n",
    "    pat_ht = PatternHeatmap(hex_new, pattern = \"AGAGGG\", coords = coords)\n",
    "    pat_ht_smooth = smoothHeatmap(pat_ht,\n",
    "                                  # output.size=c(length(hex_new), 500),\n",
    "                                  algorithm=\"blur\")\n",
    "    \n",
    "    results_ht$agaggg = pat_ht_smooth\n",
    "    # plotHeatmapList(pat_ht_smooth, color = \"Blues\")\n",
    "    \n",
    "    # AGGGG\n",
    "    pat_ht = PatternHeatmap(hex_new, pattern = \"AGGGG\", coords = coords)\n",
    "    pat_ht_smooth = smoothHeatmap(pat_ht,\n",
    "                                  # output.size=c(length(hex_new), 500),\n",
    "                                  algorithm=\"blur\")\n",
    "    \n",
    "    results_ht$agggg = pat_ht_smooth\n",
    "    # plotHeatmapList(pat_ht_smooth, color = \"Greens\")\n",
    "    \n",
    "    # also preparing a quality heat map\n",
    "    qual_ht = Heatmap(hex_qual_new_int)\n",
    "    qual_ht@label = \"Q (Phred)\"\n",
    "    qual_ht_smooth = smoothHeatmap(qual_ht,\n",
    "                                   # output.size=c(length(hex_new), 500),\n",
    "                                   algorithm=\"blur\")\n",
    "    \n",
    "    results_ht$qual = qual_ht_smooth\n",
    "    \n",
    "    # saving results_ht to plot in Rstudio for a test\n",
    "    saveRDS(object = results_ht, file = \"results_ht__q12_cov08.rds\")\n",
    "}else{\n",
    "    results_ht = readRDS(file = \"results_ht__q12_cov08.rds\")\n",
    "}"
   ]
  },
  {
   "cell_type": "code",
   "execution_count": 62,
   "id": "afbbf4c9-0346-44c0-98ff-0b3b6ab5727f",
   "metadata": {
    "execution": {
     "iopub.execute_input": "2024-06-11T14:19:47.551538Z",
     "iopub.status.busy": "2024-06-11T14:19:47.549335Z",
     "iopub.status.idle": "2024-06-11T14:19:51.144574Z",
     "shell.execute_reply": "2024-06-11T14:19:51.142086Z"
    },
    "vscode": {
     "languageId": "r"
    }
   },
   "outputs": [
    {
     "name": "stderr",
     "output_type": "stream",
     "text": [
      "plotting heatmap AGAGAG\n",
      "\n"
     ]
    },
    {
     "name": "stderr",
     "output_type": "stream",
     "text": [
      "plotting heatmap AGAGGG\n",
      "\n"
     ]
    },
    {
     "name": "stderr",
     "output_type": "stream",
     "text": [
      "plotting heatmap AGGGG\n",
      "\n"
     ]
    },
    {
     "name": "stderr",
     "output_type": "stream",
     "text": [
      "plotting heatmap Q (Phred)\n",
      "\n"
     ]
    },
    {
     "data": {
      "text/html": [
       "<strong>png:</strong> 2"
      ],
      "text/latex": [
       "\\textbf{png:} 2"
      ],
      "text/markdown": [
       "**png:** 2"
      ],
      "text/plain": [
       "png \n",
       "  2 "
      ]
     },
     "metadata": {},
     "output_type": "display_data"
    }
   ],
   "source": [
    "pdf(file = \"motif_heatmaps__q12_cov08.pdf\", width = 12, height = 20)\n",
    "    plotHeatmapList(heatmap_list = results_ht, color = list(\"Reds\", \"Blues\", \"Greens\", \"YlOrRd\"))\n",
    "dev.off()"
   ]
  },
  {
   "cell_type": "code",
   "execution_count": 63,
   "id": "47971baf-64f6-4982-b086-53034da7c58e",
   "metadata": {
    "execution": {
     "iopub.execute_input": "2024-06-11T14:19:51.153774Z",
     "iopub.status.busy": "2024-06-11T14:19:51.151839Z",
     "iopub.status.idle": "2024-06-11T14:19:51.169032Z",
     "shell.execute_reply": "2024-06-11T14:19:51.166607Z"
    },
    "scrolled": true,
    "vscode": {
     "languageId": "r"
    }
   },
   "outputs": [],
   "source": [
    "# # ### THERE IS SOMETHING WEIRD WITH THE BOTTOM OF THIS PLOT\n",
    "# # ### RSTUDIO DOES NOT MESS THIS UP USING THE SAME OBJECT GENERATED HERE\n",
    "# display_pdf(file = \"motif_heatmaps.pdf\")"
   ]
  },
  {
   "cell_type": "markdown",
   "id": "9055c1d3-e364-43fa-8a2b-8ee66084dbd8",
   "metadata": {
    "tags": []
   },
   "source": [
    "# Session info"
   ]
  },
  {
   "cell_type": "code",
   "execution_count": 64,
   "id": "2f4bda88-5f52-4b4c-bfae-a7f2663cbf6d",
   "metadata": {
    "execution": {
     "iopub.execute_input": "2024-06-11T14:19:51.178386Z",
     "iopub.status.busy": "2024-06-11T14:19:51.176454Z",
     "iopub.status.idle": "2024-06-11T14:19:51.666616Z",
     "shell.execute_reply": "2024-06-11T14:19:51.662193Z"
    },
    "vscode": {
     "languageId": "r"
    }
   },
   "outputs": [
    {
     "data": {
      "text/plain": [
       "R version 4.4.0 (2024-04-24)\n",
       "Platform: x86_64-pc-linux-gnu\n",
       "Running under: Arch Linux\n",
       "\n",
       "Matrix products: default\n",
       "BLAS:   /usr/lib/libblas.so.3.12.0 \n",
       "LAPACK: /usr/lib/liblapack.so.3.12.0\n",
       "\n",
       "locale:\n",
       " [1] LC_CTYPE=en_US.UTF-8       LC_NUMERIC=C              \n",
       " [3] LC_TIME=en_US.UTF-8        LC_COLLATE=en_US.UTF-8    \n",
       " [5] LC_MONETARY=en_US.UTF-8    LC_MESSAGES=en_US.UTF-8   \n",
       " [7] LC_PAPER=en_US.UTF-8       LC_NAME=C                 \n",
       " [9] LC_ADDRESS=C               LC_TELEPHONE=C            \n",
       "[11] LC_MEASUREMENT=en_US.UTF-8 LC_IDENTIFICATION=C       \n",
       "\n",
       "time zone: EST\n",
       "tzcode source: system (glibc)\n",
       "\n",
       "attached base packages:\n",
       "[1] parallel  stats4    stats     graphics  grDevices utils     datasets \n",
       "[8] methods   base     \n",
       "\n",
       "other attached packages:\n",
       " [1] IRdisplay_1.1               heatmaps_1.28.0            \n",
       " [3] scales_1.3.0                data.table_1.15.4          \n",
       " [5] pwalign_1.0.0               doParallel_1.0.17          \n",
       " [7] iterators_1.0.14            foreach_1.5.2              \n",
       " [9] GenomicAlignments_1.40.0    SummarizedExperiment_1.34.0\n",
       "[11] Biobase_2.64.0              MatrixGenerics_1.16.0      \n",
       "[13] matrixStats_1.3.0           Rsamtools_2.20.0           \n",
       "[15] Biostrings_2.72.0           XVector_0.44.0             \n",
       "[17] GenomicRanges_1.56.0        GenomeInfoDb_1.40.0        \n",
       "[19] IRanges_2.38.0              S4Vectors_0.42.0           \n",
       "[21] BiocGenerics_0.50.0         openxlsx_4.2.5.2           \n",
       "[23] lubridate_1.9.3             forcats_1.0.0              \n",
       "[25] stringr_1.5.1               dplyr_1.1.4                \n",
       "[27] purrr_1.0.2                 readr_2.1.5                \n",
       "[29] tidyr_1.3.1                 tibble_3.2.1               \n",
       "[31] ggplot2_3.5.1               tidyverse_2.0.0            \n",
       "\n",
       "loaded via a namespace (and not attached):\n",
       " [1] bitops_1.0-7            rlang_1.1.3             magrittr_2.0.3         \n",
       " [4] compiler_4.4.0          systemfonts_1.1.0       png_0.1-8              \n",
       " [7] fftwtools_0.9-11        vctrs_0.6.5             pkgconfig_2.0.3        \n",
       "[10] crayon_1.5.2            fastmap_1.2.0           labeling_0.4.3         \n",
       "[13] utf8_1.2.4              tzdb_0.4.0              UCSC.utils_1.0.0       \n",
       "[16] ragg_1.3.2              bit_4.0.5               zlibbioc_1.50.0        \n",
       "[19] jsonlite_1.8.8          DelayedArray_0.30.1     uuid_1.2-0             \n",
       "[22] BiocParallel_1.38.0     jpeg_0.1-10             tiff_0.1-12            \n",
       "[25] R6_2.5.1                stringi_1.8.4           RColorBrewer_1.1-3     \n",
       "[28] Rcpp_1.0.12             IRkernel_1.3.2          base64enc_0.1-3        \n",
       "[31] Matrix_1.7-0            timechange_0.3.0        tidyselect_1.2.1       \n",
       "[34] abind_1.4-5             EBImage_4.46.0          codetools_0.2-20       \n",
       "[37] lattice_0.22-6          withr_3.0.0             evaluate_0.23          \n",
       "[40] isoband_0.2.7           zip_2.3.1               pillar_1.9.0           \n",
       "[43] KernSmooth_2.23-22      generics_0.1.3          vroom_1.6.5            \n",
       "[46] RCurl_1.98-1.14         hms_1.1.3               munsell_0.5.1          \n",
       "[49] glue_1.7.0              tools_4.4.0             locfit_1.5-9.9         \n",
       "[52] pbdZMQ_0.3-11           grid_4.4.0              plotrix_3.8-4          \n",
       "[55] colorspace_2.1-0        GenomeInfoDbData_1.2.12 repr_1.1.7             \n",
       "[58] cli_3.6.2               textshaping_0.3.7       fansi_1.0.6            \n",
       "[61] viridisLite_0.4.2       S4Arrays_1.4.0          gtable_0.3.5           \n",
       "[64] digest_0.6.35           SparseArray_1.4.3       farver_2.1.2           \n",
       "[67] htmlwidgets_1.6.4       htmltools_0.5.8.1       lifecycle_1.0.4        \n",
       "[70] httr_1.4.7              bit64_4.0.5             MASS_7.3-60.2          "
      ]
     },
     "metadata": {},
     "output_type": "display_data"
    }
   ],
   "source": [
    "sessionInfo()"
   ]
  }
 ],
 "metadata": {
  "kernelspec": {
   "display_name": "R",
   "language": "R",
   "name": "ir"
  },
  "language_info": {
   "codemirror_mode": "r",
   "file_extension": ".r",
   "mimetype": "text/x-r-source",
   "name": "R",
   "pygments_lexer": "r",
   "version": "4.4.0"
  }
 },
 "nbformat": 4,
 "nbformat_minor": 5
}
