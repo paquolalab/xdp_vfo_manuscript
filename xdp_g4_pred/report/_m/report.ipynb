{
 "cells": [
  {
   "cell_type": "markdown",
   "id": "7a912549-0a2c-4351-b1f5-03b4eb9c4898",
   "metadata": {
    "jp-MarkdownHeadingCollapsed": true,
    "tags": []
   },
   "source": [
    "# Table of Contents\n",
    "\n",
    "* [Introduction](#Introduction)\n",
    "* [Analysis](#Analysis)\n",
    "* [Report](#Report)\n",
    "\n",
    "# Introduction\n",
    "\n",
    "Author: Alan Lorenzetti  \n",
    "Date: 01/11/2023  \n",
    "\n",
    "This script will use two predictors on provided sequences and plot them on a defined region.\n",
    "\n",
    "* PQSfinder (https://doi.org/10.1093/bioinformatics/btx413)\n",
    "* QmRLFS-finder (https://doi.org/10.1093/nar/gkv344)"
   ]
  },
  {
   "cell_type": "markdown",
   "id": "bd0a933d-447c-434c-873d-eb8655c17a57",
   "metadata": {
    "tags": []
   },
   "source": [
    "# Analysis"
   ]
  },
  {
   "cell_type": "code",
   "execution_count": 1,
   "id": "b2134235",
   "metadata": {
    "execution": {
     "iopub.execute_input": "2024-04-18T02:20:41.137193Z",
     "iopub.status.busy": "2024-04-18T02:20:41.133065Z",
     "iopub.status.idle": "2024-04-18T02:21:59.113265Z",
     "shell.execute_reply": "2024-04-18T02:21:59.109747Z"
    },
    "vscode": {
     "languageId": "r"
    }
   },
   "outputs": [
    {
     "name": "stderr",
     "output_type": "stream",
     "text": [
      "Loading required package: tidyverse\n",
      "\n",
      "── \u001b[1mAttaching packages\u001b[22m ─────────────────────────────────────── tidyverse 1.3.1 ──\n",
      "\n",
      "\u001b[32m✔\u001b[39m \u001b[34mggplot2\u001b[39m 3.3.6     \u001b[32m✔\u001b[39m \u001b[34mpurrr  \u001b[39m 0.3.4\n",
      "\u001b[32m✔\u001b[39m \u001b[34mtibble \u001b[39m 3.1.7     \u001b[32m✔\u001b[39m \u001b[34mdplyr  \u001b[39m 1.0.9\n",
      "\u001b[32m✔\u001b[39m \u001b[34mtidyr  \u001b[39m 1.2.0     \u001b[32m✔\u001b[39m \u001b[34mstringr\u001b[39m 1.4.0\n",
      "\u001b[32m✔\u001b[39m \u001b[34mreadr  \u001b[39m 2.1.2     \u001b[32m✔\u001b[39m \u001b[34mforcats\u001b[39m 0.5.1\n",
      "\n",
      "── \u001b[1mConflicts\u001b[22m ────────────────────────────────────────── tidyverse_conflicts() ──\n",
      "\u001b[31m✖\u001b[39m \u001b[34mdplyr\u001b[39m::\u001b[32mfilter()\u001b[39m masks \u001b[34mstats\u001b[39m::filter()\n",
      "\u001b[31m✖\u001b[39m \u001b[34mdplyr\u001b[39m::\u001b[32mlag()\u001b[39m    masks \u001b[34mstats\u001b[39m::lag()\n",
      "\n",
      "Loading required package: ggbeeswarm\n",
      "\n",
      "Warning message:\n",
      "“package ‘ggbeeswarm’ was built under R version 4.2.2”\n",
      "Loading required package: viridis\n",
      "\n",
      "Loading required package: viridisLite\n",
      "\n",
      "Loading required package: ggpubr\n",
      "\n",
      "Loading required package: ggthemes\n",
      "\n",
      "Warning message:\n",
      "“package ‘ggthemes’ was built under R version 4.2.1”\n",
      "Loading required package: pqsfinder\n",
      "\n",
      "Warning message:\n",
      "“package ‘pqsfinder’ was built under R version 4.2.2”\n",
      "Loading required package: Biostrings\n",
      "\n",
      "Warning message:\n",
      "“package ‘Biostrings’ was built under R version 4.2.2”\n",
      "Loading required package: BiocGenerics\n",
      "\n",
      "Warning message:\n",
      "“package ‘BiocGenerics’ was built under R version 4.2.1”\n",
      "\n",
      "Attaching package: ‘BiocGenerics’\n",
      "\n",
      "\n",
      "The following objects are masked from ‘package:dplyr’:\n",
      "\n",
      "    combine, intersect, setdiff, union\n",
      "\n",
      "\n",
      "The following objects are masked from ‘package:stats’:\n",
      "\n",
      "    IQR, mad, sd, var, xtabs\n",
      "\n",
      "\n",
      "The following objects are masked from ‘package:base’:\n",
      "\n",
      "    anyDuplicated, aperm, append, as.data.frame, basename, cbind,\n",
      "    colnames, dirname, do.call, duplicated, eval, evalq, Filter, Find,\n",
      "    get, grep, grepl, intersect, is.unsorted, lapply, Map, mapply,\n",
      "    match, mget, order, paste, pmax, pmax.int, pmin, pmin.int,\n",
      "    Position, rank, rbind, Reduce, rownames, sapply, setdiff, sort,\n",
      "    table, tapply, union, unique, unsplit, which.max, which.min\n",
      "\n",
      "\n",
      "Loading required package: S4Vectors\n",
      "\n",
      "Warning message:\n",
      "“package ‘S4Vectors’ was built under R version 4.2.1”\n",
      "Loading required package: stats4\n",
      "\n",
      "\n",
      "Attaching package: ‘S4Vectors’\n",
      "\n",
      "\n",
      "The following objects are masked from ‘package:dplyr’:\n",
      "\n",
      "    first, rename\n",
      "\n",
      "\n",
      "The following object is masked from ‘package:tidyr’:\n",
      "\n",
      "    expand\n",
      "\n",
      "\n",
      "The following objects are masked from ‘package:base’:\n",
      "\n",
      "    expand.grid, I, unname\n",
      "\n",
      "\n",
      "Loading required package: IRanges\n",
      "\n",
      "Warning message:\n",
      "“package ‘IRanges’ was built under R version 4.2.1”\n",
      "\n",
      "Attaching package: ‘IRanges’\n",
      "\n",
      "\n",
      "The following objects are masked from ‘package:dplyr’:\n",
      "\n",
      "    collapse, desc, slice\n",
      "\n",
      "\n",
      "The following object is masked from ‘package:purrr’:\n",
      "\n",
      "    reduce\n",
      "\n",
      "\n",
      "Loading required package: XVector\n",
      "\n",
      "Warning message:\n",
      "“package ‘XVector’ was built under R version 4.2.1”\n",
      "\n",
      "Attaching package: ‘XVector’\n",
      "\n",
      "\n",
      "The following object is masked from ‘package:purrr’:\n",
      "\n",
      "    compact\n",
      "\n",
      "\n",
      "Loading required package: GenomeInfoDb\n",
      "\n",
      "Warning message:\n",
      "“package ‘GenomeInfoDb’ was built under R version 4.2.2”\n",
      "\n",
      "Attaching package: ‘Biostrings’\n",
      "\n",
      "\n",
      "The following object is masked from ‘package:base’:\n",
      "\n",
      "    strsplit\n",
      "\n",
      "\n",
      "Loading required package: Gviz\n",
      "\n",
      "Warning message:\n",
      "“package ‘Gviz’ was built under R version 4.2.2”\n",
      "Loading required package: GenomicRanges\n",
      "\n",
      "Warning message:\n",
      "“package ‘GenomicRanges’ was built under R version 4.2.2”\n",
      "Loading required package: grid\n",
      "\n",
      "\n",
      "Attaching package: ‘grid’\n",
      "\n",
      "\n",
      "The following object is masked from ‘package:Biostrings’:\n",
      "\n",
      "    pattern\n",
      "\n",
      "\n",
      "Loading required package: BSgenome\n",
      "\n",
      "Warning message:\n",
      "\"package 'BSgenome' was built under R version 4.2.2\"\n",
      "Loading required package: rtracklayer\n",
      "\n",
      "Warning message:\n",
      "\"package 'rtracklayer' was built under R version 4.2.2\"\n",
      "Loading required package: plyranges\n",
      "\n",
      "Warning message:\n",
      "\"package 'plyranges' was built under R version 4.2.2\"\n",
      "\n",
      "Attaching package: 'plyranges'\n",
      "\n",
      "\n",
      "The following object is masked from 'package:XVector':\n",
      "\n",
      "    slice\n",
      "\n",
      "\n",
      "The following object is masked from 'package:IRanges':\n",
      "\n",
      "    slice\n",
      "\n",
      "\n",
      "The following objects are masked from 'package:dplyr':\n",
      "\n",
      "    between, n, n_distinct\n",
      "\n",
      "\n",
      "The following object is masked from 'package:stats':\n",
      "\n",
      "    filter\n",
      "\n",
      "\n"
     ]
    },
    {
     "data": {
      "text/html": [
       "<ol>\n",
       "\t<li>TRUE</li>\n",
       "\t<li>TRUE</li>\n",
       "\t<li>TRUE</li>\n",
       "\t<li>TRUE</li>\n",
       "\t<li>TRUE</li>\n",
       "\t<li>TRUE</li>\n",
       "\t<li>TRUE</li>\n",
       "\t<li>TRUE</li>\n",
       "\t<li>TRUE</li>\n",
       "\t<li>TRUE</li>\n",
       "\t<li>TRUE</li>\n",
       "\t<li>TRUE</li>\n",
       "</ol>\n"
      ],
      "text/latex": [
       "\\begin{enumerate}\n",
       "\\item TRUE\n",
       "\\item TRUE\n",
       "\\item TRUE\n",
       "\\item TRUE\n",
       "\\item TRUE\n",
       "\\item TRUE\n",
       "\\item TRUE\n",
       "\\item TRUE\n",
       "\\item TRUE\n",
       "\\item TRUE\n",
       "\\item TRUE\n",
       "\\item TRUE\n",
       "\\end{enumerate}\n"
      ],
      "text/markdown": [
       "1. TRUE\n",
       "2. TRUE\n",
       "3. TRUE\n",
       "4. TRUE\n",
       "5. TRUE\n",
       "6. TRUE\n",
       "7. TRUE\n",
       "8. TRUE\n",
       "9. TRUE\n",
       "10. TRUE\n",
       "11. TRUE\n",
       "12. TRUE\n",
       "\n",
       "\n"
      ],
      "text/plain": [
       "[[1]]\n",
       "[1] TRUE\n",
       "\n",
       "[[2]]\n",
       "[1] TRUE\n",
       "\n",
       "[[3]]\n",
       "[1] TRUE\n",
       "\n",
       "[[4]]\n",
       "[1] TRUE\n",
       "\n",
       "[[5]]\n",
       "[1] TRUE\n",
       "\n",
       "[[6]]\n",
       "[1] TRUE\n",
       "\n",
       "[[7]]\n",
       "[1] TRUE\n",
       "\n",
       "[[8]]\n",
       "[1] TRUE\n",
       "\n",
       "[[9]]\n",
       "[1] TRUE\n",
       "\n",
       "[[10]]\n",
       "[1] TRUE\n",
       "\n",
       "[[11]]\n",
       "[1] TRUE\n",
       "\n",
       "[[12]]\n",
       "[1] TRUE\n"
      ]
     },
     "metadata": {},
     "output_type": "display_data"
    }
   ],
   "source": [
    "# 01112023 alorenzetti\n",
    "\n",
    "# description ####\n",
    "# This script will take the repair hotspot regions\n",
    "# and SVA information and try to correlate them\n",
    "\n",
    "# QmRLFS-finder requires\n",
    "# python2.7\n",
    "\n",
    "# setting up ####\n",
    "# loading libs\n",
    "packs = c(\n",
    " \"tidyverse\",\n",
    " \"ggbeeswarm\",\n",
    " \"viridis\",\n",
    " \"ggpubr\",\n",
    " \"ggthemes\",\n",
    " \"pqsfinder\",\n",
    " \"Gviz\",\n",
    " \"BSgenome\",\n",
    " \"Biostrings\",\n",
    " \"GenomicRanges\",\n",
    " \"plyranges\",\n",
    " \"rtracklayer\"\n",
    ")\n",
    "\n",
    "lapply(packs, require, character.only = TRUE)\n",
    "\n",
    "theme_set(theme_pubr())\n",
    "\n",
    "# setting working directory relative to _h\n",
    "setwd(\"../_m/\")\n",
    "\n",
    "# setting up number of cores\n",
    "# to use in this script\n",
    "threads=14\n",
    "\n",
    "# setting up path\n",
    "# matching the bin\n",
    "# in the conda env\n",
    "# this is necessary\n",
    "# for R finding\n",
    "# the required program\n",
    "conda_env = str_replace(Sys.getenv(\"R_HOME\"), \"^.*/(.*)/lib/R$\", \"\\\\1\")\n",
    "home = str_replace(Sys.getenv(\"R_HOME\"), \"^(.*)/.*/lib/R$\", \"\\\\1\")\n",
    "conda_env_path = paste0(home, \"/\", conda_env, \"/bin\")\n",
    "old_path = Sys.getenv(\"PATH\")\n",
    "Sys.setenv(PATH = paste(old_path, conda_env_path, sep = \":\"))"
   ]
  },
  {
   "cell_type": "code",
   "execution_count": 2,
   "id": "f29cd72b",
   "metadata": {
    "execution": {
     "iopub.execute_input": "2024-04-18T02:21:59.173310Z",
     "iopub.status.busy": "2024-04-18T02:21:59.129757Z",
     "iopub.status.idle": "2024-04-18T02:21:59.187225Z",
     "shell.execute_reply": "2024-04-18T02:21:59.185405Z"
    },
    "vscode": {
     "languageId": "r"
    }
   },
   "outputs": [],
   "source": [
    "# getting started ####\n",
    "# this function will take a genome\n",
    "# location to load and parse chr names\n",
    "read_genome = function(file = file){\n",
    "    \n",
    "    genome = readDNAStringSet(filepath = file)\n",
    "    names(genome) = str_replace(string = names(genome), pattern = \" .*$\", replacement = \"\")\n",
    "    \n",
    "    return(genome)\n",
    "    \n",
    "}"
   ]
  },
  {
   "cell_type": "code",
   "execution_count": 3,
   "id": "88eaa18c",
   "metadata": {
    "execution": {
     "iopub.execute_input": "2024-04-18T02:21:59.194257Z",
     "iopub.status.busy": "2024-04-18T02:21:59.192528Z",
     "iopub.status.idle": "2024-04-18T02:21:59.207689Z",
     "shell.execute_reply": "2024-04-18T02:21:59.205904Z"
    },
    "vscode": {
     "languageId": "r"
    }
   },
   "outputs": [],
   "source": [
    "# this function will get four properties\n",
    "# of regions in a strin\n",
    "get_coords = function(regions = regions){\n",
    "    \n",
    "    res = list()\n",
    "    \n",
    "    res$chr = str_replace(string = regions,\n",
    "                          pattern = \"^(.*):.*-.*:.*$\",\n",
    "                          replacement = \"\\\\1\")\n",
    "    \n",
    "    res$start = str_replace(string = regions,\n",
    "                            pattern = \"^.*:(.*)-.*:.*$\",\n",
    "                            replacement = \"\\\\1\") %>% as.numeric()\n",
    "      \n",
    "    res$end = str_replace(string = regions,\n",
    "                          pattern = \"^.*:.*-(.*):.*$\",\n",
    "                          replacement = \"\\\\1\") %>% as.numeric()\n",
    "    \n",
    "    res$strand = str_replace(string = regions,\n",
    "                             pattern = \"^.*:.*-.*:(.*)$\",\n",
    "                             replacement = \"\\\\1\")\n",
    "        \n",
    "    return(res)\n",
    "}"
   ]
  },
  {
   "cell_type": "code",
   "execution_count": 4,
   "id": "dfbf16e0",
   "metadata": {
    "execution": {
     "iopub.execute_input": "2024-04-18T02:21:59.214456Z",
     "iopub.status.busy": "2024-04-18T02:21:59.212815Z",
     "iopub.status.idle": "2024-04-18T02:21:59.227354Z",
     "shell.execute_reply": "2024-04-18T02:21:59.225593Z"
    },
    "vscode": {
     "languageId": "r"
    }
   },
   "outputs": [],
   "source": [
    "# this will create GR objx\n",
    "# from passed regions in the\n",
    "# format chrX:start-end:strand\n",
    "to_gr = function(rois = rois){\n",
    "    \n",
    "    coordinates = get_coords(regions = rois)\n",
    "    \n",
    "    gr = GRanges(seqnames = coordinates$chr,\n",
    "                 ranges = IRanges(start = coordinates$start,\n",
    "                                  end = coordinates$end),\n",
    "                 strand = coordinates$strand)\n",
    "    \n",
    "    names(gr) = rois\n",
    "    \n",
    "    return(gr)\n",
    "    \n",
    "}"
   ]
  },
  {
   "cell_type": "code",
   "execution_count": 5,
   "id": "72fd59d9",
   "metadata": {
    "execution": {
     "iopub.execute_input": "2024-04-18T02:21:59.233823Z",
     "iopub.status.busy": "2024-04-18T02:21:59.232244Z",
     "iopub.status.idle": "2024-04-18T02:21:59.246721Z",
     "shell.execute_reply": "2024-04-18T02:21:59.244917Z"
    },
    "vscode": {
     "languageId": "r"
    }
   },
   "outputs": [],
   "source": [
    "# this function will get filenames from regions\n",
    "name_from_region = function(regions = regions){\n",
    "    \n",
    "    coordinates = get_coords(regions = regions\n",
    "                            )\n",
    "    coordinates$strand = str_replace(coordinates$strand, \"-\", \"minus\")\n",
    "    coordinates$strand = str_replace(coordinates$strand, \"\\\\+\", \"plus\")\n",
    "    \n",
    "    file_name = paste0(coordinates %>% unlist(), collapse = \"_\")\n",
    "    \n",
    "    return(file_name)\n",
    "}"
   ]
  },
  {
   "cell_type": "code",
   "execution_count": 6,
   "id": "ee155ada",
   "metadata": {
    "execution": {
     "iopub.execute_input": "2024-04-18T02:21:59.253521Z",
     "iopub.status.busy": "2024-04-18T02:21:59.251887Z",
     "iopub.status.idle": "2024-04-18T02:21:59.266806Z",
     "shell.execute_reply": "2024-04-18T02:21:59.264930Z"
    },
    "vscode": {
     "languageId": "r"
    }
   },
   "outputs": [],
   "source": [
    "# this function is a wrapper for\n",
    "# the QmRLFS-finder software\n",
    "# to predict R-loops\n",
    "# it is going to return a GRanges\n",
    "# bed obj\n",
    "run_rloop_pred = function(sequences = sequences){\n",
    "    \n",
    "    # getting coords and file name\n",
    "    coordinates = get_coords(regions = names(sequences))\n",
    "    file_name = name_from_region(regions = names(sequences))\n",
    "    \n",
    "    # writing fasta for the input seq\n",
    "    writeXStringSet(x = sequences, filepath = paste0(file_name, \".fa\"))\n",
    "    \n",
    "    # setting commandline\n",
    "    interpreter = \"python2.7\"\n",
    "    program = \"QmRLFS-finder.py\"\n",
    "    \n",
    "    infile = paste(\"--infile\", paste0(file_name, \".fa\"))\n",
    "    outfile = paste(\"--outfile\", paste0(file_name,\"_qmrlfs\"))\n",
    "    \n",
    "    model = \"--model m1,m2\"\n",
    "    coordinate = paste(\"--coordinate\", paste0(coordinates$chr, \":\",\n",
    "                                              coordinates$start, \"-\",\n",
    "                                              coordinates$end))\n",
    "    strand = paste(\"--strand\", coordinates$strand)\n",
    "    formats = paste(\"-table\", \"-bed\", \"-fa\")\n",
    "    \n",
    "    # defining call\n",
    "    args = NULL\n",
    "    args[1] = interpreter\n",
    "    args[2] = paste(program, infile, outfile, model, coordinate, strand, formats)\n",
    "    \n",
    "    # calling program\n",
    "    system2(command = args[1],\n",
    "            args = args[2],\n",
    "            stdout = paste0(file_name, \"_qmrlfs_out_out.log\"),\n",
    "            stderr = paste0(file_name, \"_qmrlfs_out_err.log\"))\n",
    "\n",
    "    \n",
    "    # reading results from bed format\n",
    "    res = rtracklayer::import(con = paste0(file_name, \"_qmrlfs.out.bed\"),\n",
    "                              format = \"bed\")\n",
    "    \n",
    "    return(res)\n",
    "    \n",
    "}"
   ]
  },
  {
   "cell_type": "code",
   "execution_count": 7,
   "id": "f8703ca4",
   "metadata": {
    "execution": {
     "iopub.execute_input": "2024-04-18T02:21:59.273509Z",
     "iopub.status.busy": "2024-04-18T02:21:59.271867Z",
     "iopub.status.idle": "2024-04-18T02:21:59.287873Z",
     "shell.execute_reply": "2024-04-18T02:21:59.285996Z"
    },
    "vscode": {
     "languageId": "r"
    }
   },
   "outputs": [],
   "source": [
    "# this function will take an object of\n",
    "# sequences with coordinates in their names\n",
    "# to pass to the pqs predictor\n",
    "# it will return a list for each sequence with\n",
    "# results and computed density from pqsfinder\n",
    "run_pred = function(sequences = sequences){\n",
    "    \n",
    "    res = list()\n",
    "    \n",
    "    for(name in names(sequences)){\n",
    "        coordinates = get_coords(regions = name)\n",
    "        \n",
    "        res[[name]][[\"results\"]][[\"plus\"]] = pqsfinder(subject = sequences[[name]],\n",
    "                                             strand = \"+\",\n",
    "                                             deep = T,\n",
    "                                             min_score = 20)\n",
    "        res[[name]][[\"results\"]][[\"minus\"]] = pqsfinder(subject = sequences[[name]],\n",
    "                                             strand = \"-\",\n",
    "                                             deep = T,\n",
    "                                             min_score = 20)\n",
    "        \n",
    "        \n",
    "        res[[name]][[\"density\"]][[\"raw\"]][[\"plus\"]] = density(res[[name]][[\"results\"]][[\"plus\"]])\n",
    "        res[[name]][[\"density\"]][[\"raw\"]][[\"minus\"]] = density(res[[name]][[\"results\"]][[\"minus\"]])\n",
    "        \n",
    "        res[[name]][[\"density\"]][[\"gr\"]][[\"plus\"]] = to_gr(rois = paste0(coordinates$chr, \":\",\n",
    "                                                                         coordinates$start + 0:(length(res[[name]][[\"density\"]][[\"raw\"]][[\"plus\"]])-1), \"-\",\n",
    "                                                                         coordinates$start + 1:length(res[[name]][[\"density\"]][[\"raw\"]][[\"plus\"]]), \":\",\n",
    "                                                                         \"+\"))\n",
    "        res[[name]][[\"density\"]][[\"gr\"]][[\"minus\"]] = to_gr(rois = paste0(coordinates$chr, \":\",\n",
    "                                                                         coordinates$start + 0:(length(res[[name]][[\"density\"]][[\"raw\"]][[\"minus\"]])-1), \"-\",\n",
    "                                                                         coordinates$start + 1:length(res[[name]][[\"density\"]][[\"raw\"]][[\"minus\"]]), \":\",\n",
    "                                                                         \"-\"))\n",
    "        \n",
    "        mcols(res[[name]][[\"density\"]][[\"gr\"]][[\"plus\"]])$score = res[[name]][[\"density\"]][[\"raw\"]][[\"plus\"]]\n",
    "        mcols(res[[name]][[\"density\"]][[\"gr\"]][[\"minus\"]])$score = res[[name]][[\"density\"]][[\"raw\"]][[\"minus\"]]\n",
    "        res[[name]][[\"pqs\"]][[\"gr\"]] = c(res[[name]][[\"density\"]][[\"gr\"]][[\"plus\"]], res[[name]][[\"density\"]][[\"gr\"]][[\"minus\"]])\n",
    "        \n",
    "        res[[name]][[\"density\"]][[\"tibble\"]][[\"plus\"]] = res[[name]][[\"density\"]][[\"gr\"]][[\"plus\"]] %>% as_tibble()\n",
    "        res[[name]][[\"density\"]][[\"tibble\"]][[\"minus\"]] = res[[name]][[\"density\"]][[\"gr\"]][[\"minus\"]] %>% as_tibble()\n",
    "        \n",
    "        res[[name]][[\"rloop\"]][[\"gr\"]] = run_rloop_pred(sequences = sequences[name])\n",
    "        \n",
    "    }\n",
    "    \n",
    "    return(res)\n",
    "}\n"
   ]
  },
  {
   "cell_type": "code",
   "execution_count": 8,
   "id": "9313c85e-a791-47ba-b49e-17b42181040b",
   "metadata": {
    "execution": {
     "iopub.execute_input": "2024-04-18T02:21:59.294389Z",
     "iopub.status.busy": "2024-04-18T02:21:59.292803Z",
     "iopub.status.idle": "2024-04-18T02:21:59.307451Z",
     "shell.execute_reply": "2024-04-18T02:21:59.305712Z"
    },
    "vscode": {
     "languageId": "r"
    }
   },
   "outputs": [],
   "source": [
    "# this function will\n",
    "# take a scored GR object of\n",
    "# variable range sizes\n",
    "# and transform into 1-sized-bin\n",
    "gr_bin_one = function(gr = gr) {\n",
    "    \n",
    "    bin_one = tile_ranges(gr, width = 1)\n",
    "    \n",
    "    scores_tib = tibble(partition = as.character(1:length(gr)),\n",
    "                        score = mcols(gr)$score)\n",
    "                        \n",
    "    bin_one_tib = mcols(bin_one) %>% \n",
    "        as_tibble() %>% \n",
    "        mutate(partition = as.character(partition))\n",
    "    \n",
    "    merged = left_join(x = bin_one_tib,\n",
    "                       y = scores_tib,\n",
    "                       by = \"partition\")\n",
    "    \n",
    "    mcols(bin_one)$score = merged$score\n",
    "    mcols(bin_one)$partition = NULL\n",
    "    \n",
    "    return(bin_one)\n",
    "}"
   ]
  },
  {
   "cell_type": "code",
   "execution_count": 9,
   "id": "1552e7ec",
   "metadata": {
    "execution": {
     "iopub.execute_input": "2024-04-18T02:21:59.314350Z",
     "iopub.status.busy": "2024-04-18T02:21:59.312817Z",
     "iopub.status.idle": "2024-04-18T02:21:59.328718Z",
     "shell.execute_reply": "2024-04-18T02:21:59.326802Z"
    },
    "vscode": {
     "languageId": "r"
    }
   },
   "outputs": [],
   "source": [
    "# this function will take the genome, an object storing\n",
    "# predictions and a compatible interval to\n",
    "# display the region using the Gviz package\n",
    "plot_gviz = function(genome = genome,\n",
    "                     data = data,\n",
    "                     plot_region = plot_region,\n",
    "                     highlight_region = highlight_region,\n",
    "                     annot_region = annot_region,\n",
    "                     annot_text = annot_text,\n",
    "                     plot_seq = plot_seq){\n",
    "    \n",
    "    coordinates = get_coords(regions = plot_region)\n",
    "    highlight_coordinates = get_coords(regions = highlight_region)\n",
    "    annot_coordinates = get_coords(regions = annot_region)\n",
    "    plot_region_gr = to_gr(rois = plot_region)\n",
    "    \n",
    "    data$rloop$gr_dens = as(object = coverage(data$rloop$gr[strand(data$rloop$gr) == coordinates$strand]),\n",
    "                            Class = \"GRanges\")\n",
    "    \n",
    "    seqlengths(data$rloop$gr_dens) = seqlengths(genome)[coordinates$chr]\n",
    "    \n",
    "    new_granges_coord = GRanges(seqnames = coordinates$chr,\n",
    "                                ranges = IRanges(start = end(data$rloop$gr_dens[length(data$rloop$gr_dens)])+1,\n",
    "                                                 end = end(data$rloop$gr_dens[length(data$rloop$gr_dens)])+width(plot_region_gr)),\n",
    "                                strand = \"*\")\n",
    "    new_granges_coord$score = 0\n",
    "    \n",
    "    data$rloop$gr_dens = c(data$rloop$gr_dens, new_granges_coord)\n",
    "    \n",
    "    data$rloop$gr_dens_bin_one = subsetByOverlaps(x = data$rloop$gr_dens,\n",
    "                                                  ranges = plot_region_gr,\n",
    "                                                  minoverlap = 1)\n",
    "    data$rloop$gr_dens_bin_one = gr_bin_one(gr = data$rloop$gr_dens_bin_one)\n",
    "    \n",
    "    data$pqs$gr = data$pqs$gr[strand(data$pqs$gr) == coordinates$strand]\n",
    "    \n",
    "    genome_axis = GenomeAxisTrack(fontcolor = \"black\")\n",
    "    \n",
    "    annot_track =  AnnotationTrack(start = annot_coordinates$start,\n",
    "                                   end = annot_coordinates$end,\n",
    "                                   strand = annot_coordinates$strand,\n",
    "                                   chromosome = annot_coordinates$chr,\n",
    "                                   id = annot_text,\n",
    "                                   name = \"\",\n",
    "                                   fill = \"lightgrey\")\n",
    "    \n",
    "    data_track_pqs = DataTrack(range = data$pqs$gr,\n",
    "                               width = 1,\n",
    "                               chromosome = coordinates$chr,\n",
    "                               genome = \"hg38\",\n",
    "                               name = paste0(\"PQS dens. (\", coordinates$strand, \")\"),\n",
    "                               type = \"l\",\n",
    "                               col = \"#7b848f\",\n",
    "                               # ylim = c(0, max(mcols(data$rloop$gr_dens_bin_one)$score)),\n",
    "                               ylim = c(0, 27500))\n",
    "    \n",
    "    data_track_rloop = DataTrack(range = data$rloop$gr_dens_bin_one,\n",
    "                                           width = 1,\n",
    "                                           chromosome = coordinates$chr,\n",
    "                                           genome = \"hg38\",\n",
    "                                           name = paste0(\"R-loop dens. (\", coordinates$strand, \")\"),\n",
    "                                           type = \"l\",\n",
    "                                           col = \"#7b848f\",\n",
    "                                           # ylim = c(0, max(mcols(data$rloop$gr_dens_bin_one)$score)),\n",
    "                                           ylim = c(0, 20))\n",
    "    \n",
    "    highlights = HighlightTrack(trackList = list(data_track_pqs, data_track_rloop),\n",
    "                                start = highlight_coordinates$start, end = highlight_coordinates$end,\n",
    "                                chromosome = highlight_coordinates$chr)\n",
    "    \n",
    "    seqTrack53 = SequenceTrack(sequence = genome,\n",
    "                               chromosome = coordinates$chr,\n",
    "                               name = \"Sequence\",\n",
    "                               fontcolor = c(A=\"#59A14F\",\n",
    "                                             C=\"#4E79A7\",\n",
    "                                             T=\"#E15759\",\n",
    "                                             G=\"#F28E2B\"),\n",
    "                               add53 = T)\n",
    "    \n",
    "    seqTrack35 = SequenceTrack(sequence = genome,\n",
    "                               chromosome = coordinates$chr,\n",
    "                               name = \"Sequence\",\n",
    "                               fontcolor = c(A=\"#59A14F\",\n",
    "                                             C=\"#4E79A7\",\n",
    "                                             T=\"#E15759\",\n",
    "                                             G=\"#F28E2B\"),\n",
    "                               add53 = T,\n",
    "                               complement = T)\n",
    "    \n",
    "    # # annotation track example\n",
    "    # AnnotationTrack(range = data$rloop$gr,\n",
    "    #                 name = \"Predicted R-loops\",\n",
    "    #                 col = \"black\",\n",
    "    #                 fill = \"#4E79A7\")\n",
    "    \n",
    "    if(plot_seq){\n",
    "        mytracks = list(genome_axis,\n",
    "                    annot_track,\n",
    "                    highlights,\n",
    "                    seqTrack53,\n",
    "                    seqTrack35)\n",
    "        \n",
    "        sizes_vec = c(0.25,0.25,1,1,0.1,0.1)\n",
    "    } else {\n",
    "        mytracks = list(genome_axis,\n",
    "                    annot_track,\n",
    "                    highlights)\n",
    "        \n",
    "        sizes_vec = c(0.25,0.25,1,1)\n",
    "    }\n",
    "    \n",
    "    \n",
    "    \n",
    "    p = plotTracks(trackList = mytracks,\n",
    "                   from = coordinates$start,\n",
    "                   to = coordinates$end,\n",
    "                   fontcolor.title = \"black\",\n",
    "                   fontface.title = \"plain\",\n",
    "                   col.axis = \"black\",\n",
    "                   # col.border.title = \"black\",\n",
    "                   fontcolor.feature = \"black\",\n",
    "                   shape = \"box\", featureAnnotation = \"id\",\n",
    "                   sizes= sizes_vec,\n",
    "                   background.title = \"white\")\n",
    "    \n",
    "    return(p)\n",
    "   \n",
    "}"
   ]
  },
  {
   "cell_type": "code",
   "execution_count": 10,
   "id": "8043190d-1a72-4472-bf76-d9d464a9ac45",
   "metadata": {
    "execution": {
     "iopub.execute_input": "2024-04-18T02:21:59.335541Z",
     "iopub.status.busy": "2024-04-18T02:21:59.333857Z",
     "iopub.status.idle": "2024-04-18T02:22:48.505023Z",
     "shell.execute_reply": "2024-04-18T02:22:48.503530Z"
    },
    "vscode": {
     "languageId": "r"
    }
   },
   "outputs": [],
   "source": [
    "# main code ####\n",
    "# obtaining the sequence of interest\n",
    "# from a known range\n",
    "# reading the genome\n",
    "xdp = list()\n",
    "\n",
    "xdp$genome = read_genome(file = \"GRCh38_with_XDP_SVA.primary_assembly.genome.fa\")"
   ]
  },
  {
   "cell_type": "code",
   "execution_count": 11,
   "id": "65ec99b1-5ad7-4c74-9bee-fdd281a5be4e",
   "metadata": {
    "execution": {
     "iopub.execute_input": "2024-04-18T02:22:48.513805Z",
     "iopub.status.busy": "2024-04-18T02:22:48.512589Z",
     "iopub.status.idle": "2024-04-18T02:23:19.300189Z",
     "shell.execute_reply": "2024-04-18T02:23:19.298288Z"
    },
    "vscode": {
     "languageId": "r"
    }
   },
   "outputs": [],
   "source": [
    "# my regions of interest to compute PQS\n",
    "# borrowing some from Taylor's Nanopore\n",
    "# experiment to test the plotting function\n",
    "rois = c(\n",
    "        \"chrX:71440000-71444000:+\",\n",
    "        # \"chrX:71440513-71443140:+\",\n",
    "        \"chrX:71453000-71457000:+\"\n",
    "        # \"chr3:133784940-133786232:+\",\n",
    "        # \"chr8:64685151-64686184:+\",\n",
    "        # \"chr1:174348481-174351069:+\",\n",
    "        # \"chr10:70686282-70687322:+\",\n",
    "        # # \"chrX:71451480-71453116:+\",\n",
    "        # \"chr12:56782661-56784730:+\",\n",
    "        # \"chr9:27546546-27573481:+\",\n",
    "        # \"chrX:147911919-147951125:+\",\n",
    "        # \"chr17:7661779-7676594:+\"\n",
    "        )\n",
    "\n",
    "xdp$gr = to_gr(rois = rois)\n",
    "\n",
    "# extract sequence\n",
    "xdp$seqs = getSeq(x = xdp$genome, xdp$gr)\n",
    "\n",
    "# predicting G4 using\n",
    "# pqsfinder\n",
    "preds = run_pred(sequences = xdp$seqs)\n",
    "\n",
    "# writing density bedgraphs\n",
    "# and also sequences used\n",
    "# to compute them\n",
    "for(name in names(preds)){\n",
    "    coordinates = get_coords(regions = name)\n",
    "    coordinates$strand = str_replace(coordinates$strand, \"-\", \"minus\")\n",
    "    coordinates$strand = str_replace(coordinates$strand, \"\\\\+\", \"plus\")\n",
    "    \n",
    "    file_name = paste0(coordinates %>% unlist(), collapse = \"_\")\n",
    "\n",
    "    rtracklayer::export.bedGraph(object = preds[[name]]$pqs$gr,\n",
    "                                 con = paste0(file_name, \".bedgraph\"))\n",
    "    \n",
    "#    writeXStringSet(x = xdp$seqs[name], filepath = paste0(file_name, \".fa\"))\n",
    "}"
   ]
  },
  {
   "cell_type": "code",
   "execution_count": 12,
   "id": "972c9cc2-81af-4bf6-a239-e27399ec92e2",
   "metadata": {
    "execution": {
     "iopub.execute_input": "2024-04-18T02:23:19.307309Z",
     "iopub.status.busy": "2024-04-18T02:23:19.305769Z",
     "iopub.status.idle": "2024-04-18T02:23:19.318717Z",
     "shell.execute_reply": "2024-04-18T02:23:19.316972Z"
    },
    "vscode": {
     "languageId": "r"
    }
   },
   "outputs": [],
   "source": [
    "#### for dev only ####\n",
    "# # testing pqs density\n",
    "# # to learn about interpretation\n",
    "# ex_seqs = lapply(1:20, function(x) {paste0(rep(\"GGGGAAA\", x), collapse = \"\")} ) %>% \n",
    "#     as.character()\n",
    "\n",
    "# ex_seqs = DNAStringSet(x = ex_seqs)\n",
    "\n",
    "# ex_seqs_res = lapply(ex_seqs, function(x) {pqsfinder(x,\n",
    "#                                                      strand = \"+\",\n",
    "#                                                      deep = T,\n",
    "#                                                      overlapping = T,\n",
    "#                                                      min_score = 20)})\n",
    "\n",
    "# ex_seqs_res_dens = lapply(ex_seqs_res, function(x) {density(x)})\n",
    "\n",
    "# # ex_seqs_res_dens[[3]]\n",
    "# # give us an example on what is density\n",
    "# ex_seqs_res[[3]]\n",
    "\n",
    "# # there is a total of 9 overlapping predictions\n",
    "# # for the string GGGGAAA GGGGAAA GGGGAAA\n",
    "# # 21 nt\n",
    "# ex_seqs_res_dens[[3]]\n",
    "\n",
    "# #  GGGGAAA GGGGAAA GGGGAAA\n",
    "# #  1234567 8911111 1111122\n",
    "# #            01234 5678901\n",
    "\n",
    "# #1 GGGGAAA GGGGAAA GG\n",
    "# #2 GGGGAAA GGGGAAA GGG\n",
    "# #3 GGGGAAA GGGGAAA GGGG\n",
    "# #4  GGGAAA GGGGAAA GG\n",
    "# #5  GGGAAA GGGGAAA GGG\n",
    "# #6  GGGAAA GGGGAAA GGGG\n",
    "# #7   GGAAA GGGGAAA GG\n",
    "# #8   GGAAA GGGGAAA GGG\n",
    "# #9   GGAAA GGGGAAA GGGG\n",
    "\n",
    "# #  3699999 9999999 9963000\n",
    "# x =  c(3,6,9,9,9,9,9,9,9,9,9,9,9,9,9,9,6,3,0,0,0)\n",
    "# # hist(x)\n",
    "# # plot(density(x))"
   ]
  },
  {
   "cell_type": "markdown",
   "id": "fef89c4d-8579-436b-8c02-84702140487e",
   "metadata": {
    "tags": []
   },
   "source": [
    "# Report\n",
    "\n",
    "## Methods\n",
    "\n",
    "### Our analysis"
   ]
  },
  {
   "cell_type": "markdown",
   "id": "0eacaf55-a7e7-450e-9003-b774b870a1e6",
   "metadata": {},
   "source": [
    "# Results"
   ]
  },
  {
   "cell_type": "markdown",
   "id": "b5569cc8-c76b-49d4-873a-564ba4d8bbc9",
   "metadata": {},
   "source": [
    "## XDP-associated SVA F"
   ]
  },
  {
   "cell_type": "markdown",
   "id": "2d97cb0a-798f-41a6-a160-226804ac0001",
   "metadata": {},
   "source": [
    "I am plotting the XDP-associated SVA F region."
   ]
  },
  {
   "cell_type": "code",
   "execution_count": 13,
   "id": "d1b0b68a-3fea-488f-a5dc-15d68b546542",
   "metadata": {
    "execution": {
     "iopub.execute_input": "2024-04-18T02:23:19.325473Z",
     "iopub.status.busy": "2024-04-18T02:23:19.323944Z",
     "iopub.status.idle": "2024-04-18T02:24:02.020407Z",
     "shell.execute_reply": "2024-04-18T02:24:02.018611Z"
    },
    "vscode": {
     "languageId": "r"
    }
   },
   "outputs": [
    {
     "data": {
      "image/png": "[encoded data removed]",
      "text/plain": [
       "plot without title"
      ]
     },
     "metadata": {
      "image/png": {
       "height": 270,
       "width": 375
      }
     },
     "output_type": "display_data"
    }
   ],
   "source": [
    "# plotting\n",
    "options(repr.plot.width = 6.25, repr.plot.height = 4.5)\n",
    "\n",
    "plots = list()\n",
    "plots[[\"chrX:71440000-71444000:+\"]] = plot_gviz(genome = xdp$genome,\n",
    "                                                data = preds$`chrX:71440000-71444000:+`,\n",
    "                                                plot_region = \"chrX:71440400-71443400:+\",\n",
    "                                                highlight_region = \"chrX:71442990-71443120:+\",\n",
    "                                                annot_region = \"chrX:71440515-71443141:-\",\n",
    "                                                annot_text = \"SVA region\",\n",
    "                                                plot_seq = F)"
   ]
  },
  {
   "cell_type": "code",
   "execution_count": 14,
   "id": "4dfc5108",
   "metadata": {
    "execution": {
     "iopub.execute_input": "2024-04-18T02:24:02.027580Z",
     "iopub.status.busy": "2024-04-18T02:24:02.026239Z",
     "iopub.status.idle": "2024-04-18T02:24:35.196319Z",
     "shell.execute_reply": "2024-04-18T02:24:35.192993Z"
    },
    "vscode": {
     "languageId": "r"
    }
   },
   "outputs": [
    {
     "data": {
      "text/plain": [
       "$Axis\n",
       "Genome axis 'Axis'\n",
       "\n",
       "[[2]]\n",
       "AnnotationTrack ''\n",
       "| genome: NA\n",
       "| active chromosome: chrX\n",
       "| annotation features: 1\n",
       "\n",
       "$`PQS dens. (+)`\n",
       "DataTrack 'PQS dens. (+)'\n",
       "| genome: hg38\n",
       "| active chromosome: chrX\n",
       "| positions: 3000\n",
       "| samples:1\n",
       "| strand: + \n",
       "\n",
       "$`R-loop dens. (+)`\n",
       "DataTrack 'R-loop dens. (+)'\n",
       "| genome: hg38\n",
       "| active chromosome: chrX\n",
       "| positions: 3001\n",
       "| samples:1\n",
       "| strand: * \n",
       "\n",
       "$titles\n",
       "An object of class \"ImageMap\"\n",
       "Slot \"coords\":\n",
       "                 x1    y1       x2    y2\n",
       "Axis              6   6.0 52.04566  37.2\n",
       "NA                6  37.2 52.04566  68.4\n",
       "PQS dens. (+)     6  68.4 52.04566 193.2\n",
       "R-loop dens. (+)  6 193.2 52.04566 318.0\n",
       "\n",
       "Slot \"tags\":\n",
       "$title\n",
       "              Axis                 NA      PQS dens. (+)   R-loop dens. (+) \n",
       "            \"Axis\"               \"NA\"    \"PQS dens. (+)\" \"R-loop dens. (+)\" \n",
       "\n",
       "\n"
      ]
     },
     "metadata": {},
     "output_type": "display_data"
    },
    {
     "data": {
      "text/html": [
       "<strong>png:</strong> 2"
      ],
      "text/latex": [
       "\\textbf{png:} 2"
      ],
      "text/markdown": [
       "**png:** 2"
      ],
      "text/plain": [
       "png \n",
       "  2 "
      ]
     },
     "metadata": {},
     "output_type": "display_data"
    }
   ],
   "source": [
    "pdf(file = \"chrX_71440400_71443400_plus.pdf\", width = 6.5, height = 4.5)\n",
    "plot_gviz(genome = xdp$genome,\n",
    "          data = preds$`chrX:71440000-71444000:+`,\n",
    "          plot_region = \"chrX:71440400-71443400:+\",\n",
    "          highlight_region = \"chrX:71442990-71443120:+\",\n",
    "          annot_region = \"chrX:71440515-71443141:-\",\n",
    "          annot_text = \"SVA region\",\n",
    "          plot_seq = F)\n",
    "dev.off()"
   ]
  },
  {
   "cell_type": "code",
   "execution_count": 15,
   "id": "ddaf7389-9125-4f84-9fd4-3f2a7b9fbb64",
   "metadata": {
    "execution": {
     "iopub.execute_input": "2024-04-18T02:24:35.209541Z",
     "iopub.status.busy": "2024-04-18T02:24:35.206720Z",
     "iopub.status.idle": "2024-04-18T02:25:07.716210Z",
     "shell.execute_reply": "2024-04-18T02:25:07.714743Z"
    },
    "vscode": {
     "languageId": "r"
    }
   },
   "outputs": [
    {
     "data": {
      "image/png": "[encoded data removed]",
      "text/plain": [
       "plot without title"
      ]
     },
     "metadata": {
      "image/png": {
       "height": 270,
       "width": 375
      }
     },
     "output_type": "display_data"
    }
   ],
   "source": [
    "# plotting\n",
    "options(repr.plot.width = 6.25, repr.plot.height = 4.5)\n",
    "\n",
    "plots = list()\n",
    "plots[[\"chrX:71440000-71444000:-\"]] = plot_gviz(genome = xdp$genome,\n",
    "                                                data = preds$`chrX:71440000-71444000:+`,\n",
    "                                                plot_region = \"chrX:71440400-71443400:-\",\n",
    "                                                highlight_region = \"chrX:71442990-71443120:+\",\n",
    "                                                annot_region = \"chrX:71440515-71443141:-\",\n",
    "                                                annot_text = \"SVA region\",\n",
    "                                                plot_seq = F)"
   ]
  },
  {
   "cell_type": "code",
   "execution_count": 16,
   "id": "260295d8",
   "metadata": {
    "execution": {
     "iopub.execute_input": "2024-04-18T02:25:07.723501Z",
     "iopub.status.busy": "2024-04-18T02:25:07.722320Z",
     "iopub.status.idle": "2024-04-18T02:25:39.004664Z",
     "shell.execute_reply": "2024-04-18T02:25:39.003025Z"
    },
    "vscode": {
     "languageId": "r"
    }
   },
   "outputs": [
    {
     "data": {
      "text/plain": [
       "$Axis\n",
       "Genome axis 'Axis'\n",
       "\n",
       "[[2]]\n",
       "AnnotationTrack ''\n",
       "| genome: NA\n",
       "| active chromosome: chrX\n",
       "| annotation features: 1\n",
       "\n",
       "$`PQS dens. (-)`\n",
       "DataTrack 'PQS dens. (-)'\n",
       "| genome: hg38\n",
       "| active chromosome: chrX\n",
       "| positions: 3000\n",
       "| samples:1\n",
       "| strand: - \n",
       "\n",
       "$`R-loop dens. (-)`\n",
       "DataTrack 'R-loop dens. (-)'\n",
       "| genome: hg38\n",
       "| active chromosome: chrX\n",
       "| positions: 3001\n",
       "| samples:1\n",
       "| strand: * \n",
       "\n",
       "$titles\n",
       "An object of class \"ImageMap\"\n",
       "Slot \"coords\":\n",
       "                 x1    y1       x2    y2\n",
       "Axis              6   6.0 52.04566  37.2\n",
       "NA                6  37.2 52.04566  68.4\n",
       "PQS dens. (-)     6  68.4 52.04566 193.2\n",
       "R-loop dens. (-)  6 193.2 52.04566 318.0\n",
       "\n",
       "Slot \"tags\":\n",
       "$title\n",
       "              Axis                 NA      PQS dens. (-)   R-loop dens. (-) \n",
       "            \"Axis\"               \"NA\"    \"PQS dens. (-)\" \"R-loop dens. (-)\" \n",
       "\n",
       "\n"
      ]
     },
     "metadata": {},
     "output_type": "display_data"
    },
    {
     "data": {
      "text/html": [
       "<strong>png:</strong> 2"
      ],
      "text/latex": [
       "\\textbf{png:} 2"
      ],
      "text/markdown": [
       "**png:** 2"
      ],
      "text/plain": [
       "png \n",
       "  2 "
      ]
     },
     "metadata": {},
     "output_type": "display_data"
    }
   ],
   "source": [
    "pdf(file = \"chrX_71440400_71443400_minus.pdf\", width = 6.5, height = 4.5)\n",
    "plot_gviz(genome = xdp$genome,\n",
    "          data = preds$`chrX:71440000-71444000:+`,\n",
    "          plot_region = \"chrX:71440400-71443400:-\",\n",
    "          highlight_region = \"chrX:71442990-71443120:+\",\n",
    "          annot_region = \"chrX:71440515-71443141:-\",\n",
    "          annot_text = \"SVA region\",\n",
    "          plot_seq = F)\n",
    "dev.off()"
   ]
  },
  {
   "cell_type": "code",
   "execution_count": 17,
   "id": "29824481-8512-4982-8a94-389b3022ad6f",
   "metadata": {
    "execution": {
     "iopub.execute_input": "2024-04-18T02:25:39.010752Z",
     "iopub.status.busy": "2024-04-18T02:25:39.009356Z",
     "iopub.status.idle": "2024-04-18T02:25:40.946541Z",
     "shell.execute_reply": "2024-04-18T02:25:40.944964Z"
    },
    "vscode": {
     "languageId": "r"
    }
   },
   "outputs": [
    {
     "data": {
      "image/png": "[encoded data removed]",
      "text/plain": [
       "plot without title"
      ]
     },
     "metadata": {
      "image/png": {
       "height": 270,
       "width": 390
      }
     },
     "output_type": "display_data"
    }
   ],
   "source": [
    "options(repr.plot.width = 6.5, repr.plot.height = 4.5)\n",
    "plots[[\"chrX:71442950-71443150:+\"]] = plot_gviz(genome = xdp$genome,\n",
    "                                                data = preds$`chrX:71440000-71444000:+`,\n",
    "                                                plot_region = \"chrX:71442950-71443150:+\",\n",
    "                                                highlight_region = \"chrX:71442990-71443120:+\",\n",
    "                                                annot_region = \"chrX:71442990-71443120:+\", \n",
    "                                                annot_text = \"Hexamer region (AGAGGG)n\",\n",
    "                                                plot_seq = T)"
   ]
  },
  {
   "cell_type": "code",
   "execution_count": 18,
   "id": "118afa0f",
   "metadata": {
    "execution": {
     "iopub.execute_input": "2024-04-18T02:25:40.952194Z",
     "iopub.status.busy": "2024-04-18T02:25:40.950980Z",
     "iopub.status.idle": "2024-04-18T02:25:41.775099Z",
     "shell.execute_reply": "2024-04-18T02:25:41.773633Z"
    },
    "vscode": {
     "languageId": "r"
    }
   },
   "outputs": [
    {
     "data": {
      "text/plain": [
       "$Axis\n",
       "Genome axis 'Axis'\n",
       "\n",
       "[[2]]\n",
       "AnnotationTrack ''\n",
       "| genome: NA\n",
       "| active chromosome: chrX\n",
       "| annotation features: 1\n",
       "\n",
       "$`PQS dens. (+)`\n",
       "DataTrack 'PQS dens. (+)'\n",
       "| genome: hg38\n",
       "| active chromosome: chrX\n",
       "| positions: 200\n",
       "| samples:1\n",
       "| strand: + \n",
       "\n",
       "$`R-loop dens. (+)`\n",
       "DataTrack 'R-loop dens. (+)'\n",
       "| genome: hg38\n",
       "| active chromosome: chrX\n",
       "| positions: 201\n",
       "| samples:1\n",
       "| strand: * \n",
       "\n",
       "$SequenceTrack\n",
       "Sequence track 'SequenceTrack':\n",
       "| genome: NA\n",
       "| chromosomes: 194\n",
       "| active chromosome: chrX (156043522 nucleotides)\n",
       "Call seqnames() to list all available chromosomes\n",
       "Call chromosome()<- to change the active chromosome\n",
       "\n",
       "$SequenceTrack\n",
       "Sequence track 'SequenceTrack':\n",
       "| genome: NA\n",
       "| chromosomes: 194\n",
       "| active chromosome: chrX (156043522 nucleotides)\n",
       "Call seqnames() to list all available chromosomes\n",
       "Call chromosome()<- to change the active chromosome\n",
       "\n",
       "$titles\n",
       "An object of class \"ImageMap\"\n",
       "Slot \"coords\":\n",
       "                 x1        y1       x2        y2\n",
       "Axis              6   6.00000 51.50847  34.88889\n",
       "NA                6  34.88889 51.50847  63.77778\n",
       "PQS dens. (+)     6  63.77778 51.50847 179.33333\n",
       "R-loop dens. (+)  6 179.33333 51.50847 294.88889\n",
       "SequenceTrack     6 294.88889 51.50847 306.44444\n",
       "SequenceTrack     6 306.44444 51.50847 318.00000\n",
       "\n",
       "Slot \"tags\":\n",
       "$title\n",
       "              Axis                 NA      PQS dens. (+)   R-loop dens. (+) \n",
       "            \"Axis\"               \"NA\"    \"PQS dens. (+)\" \"R-loop dens. (+)\" \n",
       "     SequenceTrack      SequenceTrack \n",
       "   \"SequenceTrack\"    \"SequenceTrack\" \n",
       "\n",
       "\n"
      ]
     },
     "metadata": {},
     "output_type": "display_data"
    },
    {
     "data": {
      "text/html": [
       "<strong>png:</strong> 2"
      ],
      "text/latex": [
       "\\textbf{png:} 2"
      ],
      "text/markdown": [
       "**png:** 2"
      ],
      "text/plain": [
       "png \n",
       "  2 "
      ]
     },
     "metadata": {},
     "output_type": "display_data"
    }
   ],
   "source": [
    "pdf(file = \"chrX_71442950_71443150_plus.pdf\", width = 6.5, height = 4.5)\n",
    "plot_gviz(genome = xdp$genome,\n",
    "          data = preds$`chrX:71440000-71444000:+`,\n",
    "          plot_region = \"chrX:71442950-71443150:+\",\n",
    "          highlight_region = \"chrX:71442990-71443120:+\",\n",
    "          annot_region = \"chrX:71442990-71443120:+\", \n",
    "          annot_text = \"Hexamer region (AGAGGG)n\",\n",
    "          plot_seq = T)\n",
    "dev.off()"
   ]
  },
  {
   "cell_type": "markdown",
   "id": "fdec75c1-98cb-4f23-8ff1-a95572aa562e",
   "metadata": {},
   "source": [
    "## SVA D (TAF1 intron 32)"
   ]
  },
  {
   "cell_type": "code",
   "execution_count": 19,
   "id": "23e9b1fd-a186-4c8f-94c7-e7df27c231cf",
   "metadata": {
    "execution": {
     "iopub.execute_input": "2024-04-18T02:25:41.781096Z",
     "iopub.status.busy": "2024-04-18T02:25:41.779799Z",
     "iopub.status.idle": "2024-04-18T02:26:12.417284Z",
     "shell.execute_reply": "2024-04-18T02:26:12.415785Z"
    },
    "vscode": {
     "languageId": "r"
    }
   },
   "outputs": [
    {
     "data": {
      "image/png": "[encoded data removed]",
      "text/plain": [
       "plot without title"
      ]
     },
     "metadata": {
      "image/png": {
       "height": 270,
       "width": 375
      }
     },
     "output_type": "display_data"
    }
   ],
   "source": [
    "options(repr.plot.width = 6.25, repr.plot.height = 4.5)\n",
    "plots[[\"chrX:71453000-71457000:+\"]] = plot_gviz(genome = xdp$genome,\n",
    "                                                data = preds$`chrX:71453000-71457000:+`,\n",
    "                                                plot_region = \"chrX:71454000-71455900:+\",\n",
    "                                                highlight_region = \"chrX:71455683-71455758:+\",\n",
    "                                                annot_region = \"chrX:71454107-71455758:+\", \n",
    "                                                annot_text = \"SVA D\",\n",
    "                                                plot_seq = F)"
   ]
  },
  {
   "cell_type": "code",
   "execution_count": 20,
   "id": "d0c2af3b",
   "metadata": {
    "execution": {
     "iopub.execute_input": "2024-04-18T02:26:12.424549Z",
     "iopub.status.busy": "2024-04-18T02:26:12.423158Z",
     "iopub.status.idle": "2024-04-18T02:26:44.752413Z",
     "shell.execute_reply": "2024-04-18T02:26:44.750519Z"
    },
    "vscode": {
     "languageId": "r"
    }
   },
   "outputs": [
    {
     "data": {
      "text/plain": [
       "$Axis\n",
       "Genome axis 'Axis'\n",
       "\n",
       "[[2]]\n",
       "AnnotationTrack ''\n",
       "| genome: NA\n",
       "| active chromosome: chrX\n",
       "| annotation features: 1\n",
       "\n",
       "$`PQS dens. (+)`\n",
       "DataTrack 'PQS dens. (+)'\n",
       "| genome: hg38\n",
       "| active chromosome: chrX\n",
       "| positions: 1900\n",
       "| samples:1\n",
       "| strand: + \n",
       "\n",
       "$`R-loop dens. (+)`\n",
       "DataTrack 'R-loop dens. (+)'\n",
       "| genome: hg38\n",
       "| active chromosome: chrX\n",
       "| positions: 1901\n",
       "| samples:1\n",
       "| strand: * \n",
       "\n",
       "$titles\n",
       "An object of class \"ImageMap\"\n",
       "Slot \"coords\":\n",
       "                 x1    y1       x2    y2\n",
       "Axis              6   6.0 52.04566  37.2\n",
       "NA                6  37.2 52.04566  68.4\n",
       "PQS dens. (+)     6  68.4 52.04566 193.2\n",
       "R-loop dens. (+)  6 193.2 52.04566 318.0\n",
       "\n",
       "Slot \"tags\":\n",
       "$title\n",
       "              Axis                 NA      PQS dens. (+)   R-loop dens. (+) \n",
       "            \"Axis\"               \"NA\"    \"PQS dens. (+)\" \"R-loop dens. (+)\" \n",
       "\n",
       "\n"
      ]
     },
     "metadata": {},
     "output_type": "display_data"
    },
    {
     "data": {
      "text/html": [
       "<strong>png:</strong> 2"
      ],
      "text/latex": [
       "\\textbf{png:} 2"
      ],
      "text/markdown": [
       "**png:** 2"
      ],
      "text/plain": [
       "png \n",
       "  2 "
      ]
     },
     "metadata": {},
     "output_type": "display_data"
    }
   ],
   "source": [
    "pdf(file = \"chrX_71454000_71455900_plus.pdf\", width = 6.5, height = 4.5)\n",
    "plot_gviz(genome = xdp$genome,\n",
    "          data = preds$`chrX:71453000-71457000:+`,\n",
    "          plot_region = \"chrX:71454000-71455900:+\",\n",
    "          highlight_region = \"chrX:71455683-71455758:+\",\n",
    "         annot_region = \"chrX:71454107-71455758:+\", \n",
    "          annot_text = \"SVA D\",\n",
    "          plot_seq = F)\n",
    "dev.off()"
   ]
  },
  {
   "cell_type": "code",
   "execution_count": 21,
   "id": "d28d5006-cd44-4a84-95bb-9eb5cf3d3813",
   "metadata": {
    "execution": {
     "iopub.execute_input": "2024-04-18T02:26:44.758777Z",
     "iopub.status.busy": "2024-04-18T02:26:44.757382Z",
     "iopub.status.idle": "2024-04-18T02:27:16.223248Z",
     "shell.execute_reply": "2024-04-18T02:27:16.221727Z"
    },
    "vscode": {
     "languageId": "r"
    }
   },
   "outputs": [
    {
     "data": {
      "image/png": "[encoded data removed]",
      "text/plain": [
       "plot without title"
      ]
     },
     "metadata": {
      "image/png": {
       "height": 270,
       "width": 375
      }
     },
     "output_type": "display_data"
    }
   ],
   "source": [
    "options(repr.plot.width = 6.25, repr.plot.height = 4.5)\n",
    "plots[[\"chrX:71453000-71457000:-\"]] = plot_gviz(genome = xdp$genome,\n",
    "                                                data = preds$`chrX:71453000-71457000:+`,\n",
    "                                                plot_region = \"chrX:71454000-71455900:-\",\n",
    "                                                highlight_region = \"chrX:71455683-71455758:+\",\n",
    "                                                annot_region = \"chrX:71454107-71455758:+\", \n",
    "                                                annot_text = \"SVA D\",\n",
    "                                                plot_seq = F)"
   ]
  },
  {
   "cell_type": "code",
   "execution_count": 22,
   "id": "43fca799",
   "metadata": {
    "execution": {
     "iopub.execute_input": "2024-04-18T02:27:16.230242Z",
     "iopub.status.busy": "2024-04-18T02:27:16.229049Z",
     "iopub.status.idle": "2024-04-18T02:27:48.567749Z",
     "shell.execute_reply": "2024-04-18T02:27:48.566293Z"
    },
    "vscode": {
     "languageId": "r"
    }
   },
   "outputs": [
    {
     "data": {
      "text/plain": [
       "$Axis\n",
       "Genome axis 'Axis'\n",
       "\n",
       "[[2]]\n",
       "AnnotationTrack ''\n",
       "| genome: NA\n",
       "| active chromosome: chrX\n",
       "| annotation features: 1\n",
       "\n",
       "$`PQS dens. (-)`\n",
       "DataTrack 'PQS dens. (-)'\n",
       "| genome: hg38\n",
       "| active chromosome: chrX\n",
       "| positions: 1900\n",
       "| samples:1\n",
       "| strand: - \n",
       "\n",
       "$`R-loop dens. (-)`\n",
       "DataTrack 'R-loop dens. (-)'\n",
       "| genome: hg38\n",
       "| active chromosome: chrX\n",
       "| positions: 1901\n",
       "| samples:1\n",
       "| strand: * \n",
       "\n",
       "$titles\n",
       "An object of class \"ImageMap\"\n",
       "Slot \"coords\":\n",
       "                 x1    y1       x2    y2\n",
       "Axis              6   6.0 52.04566  37.2\n",
       "NA                6  37.2 52.04566  68.4\n",
       "PQS dens. (-)     6  68.4 52.04566 193.2\n",
       "R-loop dens. (-)  6 193.2 52.04566 318.0\n",
       "\n",
       "Slot \"tags\":\n",
       "$title\n",
       "              Axis                 NA      PQS dens. (-)   R-loop dens. (-) \n",
       "            \"Axis\"               \"NA\"    \"PQS dens. (-)\" \"R-loop dens. (-)\" \n",
       "\n",
       "\n"
      ]
     },
     "metadata": {},
     "output_type": "display_data"
    },
    {
     "data": {
      "text/html": [
       "<strong>png:</strong> 2"
      ],
      "text/latex": [
       "\\textbf{png:} 2"
      ],
      "text/markdown": [
       "**png:** 2"
      ],
      "text/plain": [
       "png \n",
       "  2 "
      ]
     },
     "metadata": {},
     "output_type": "display_data"
    }
   ],
   "source": [
    "pdf(file = \"chrX_71454000_71455900_minus.pdf\", width = 6.5, height = 4.5)\n",
    "plot_gviz(genome = xdp$genome,\n",
    "          data = preds$`chrX:71453000-71457000:+`,\n",
    "          plot_region = \"chrX:71454000-71455900:-\",\n",
    "          highlight_region = \"chrX:71455683-71455758:+\",\n",
    "          annot_region = \"chrX:71454107-71455758:+\", \n",
    "          annot_text = \"SVA D\",\n",
    "          plot_seq = F)\n",
    "dev.off()"
   ]
  },
  {
   "cell_type": "code",
   "execution_count": 23,
   "id": "66528f75-9e82-48be-978d-9110368391a0",
   "metadata": {
    "execution": {
     "iopub.execute_input": "2024-04-18T02:27:48.573601Z",
     "iopub.status.busy": "2024-04-18T02:27:48.572328Z",
     "iopub.status.idle": "2024-04-18T02:27:48.582200Z",
     "shell.execute_reply": "2024-04-18T02:27:48.580912Z"
    },
    "vscode": {
     "languageId": "r"
    }
   },
   "outputs": [],
   "source": [
    "# for(region in rois){\n",
    "#     print(region)\n",
    "#     plots[[region]] = plot_gviz(genome = xdp$genome,\n",
    "#                                 data = preds[[region]],\n",
    "#                                 plot_region = region)\n",
    "# }"
   ]
  },
  {
   "cell_type": "markdown",
   "id": "a9775a44-097e-4860-9471-b987c5ecd9a0",
   "metadata": {},
   "source": [
    "# Session Info"
   ]
  },
  {
   "cell_type": "code",
   "execution_count": 24,
   "id": "c5ff36f7-d3ce-4680-89b9-2af74ca10f1c",
   "metadata": {
    "execution": {
     "iopub.execute_input": "2024-04-18T02:27:48.588300Z",
     "iopub.status.busy": "2024-04-18T02:27:48.586999Z",
     "iopub.status.idle": "2024-04-18T02:27:48.728234Z",
     "shell.execute_reply": "2024-04-18T02:27:48.726649Z"
    },
    "tags": [],
    "vscode": {
     "languageId": "r"
    }
   },
   "outputs": [
    {
     "data": {
      "text/plain": [
       "R version 4.2.0 (2022-04-22)\n",
       "Platform: x86_64-conda-linux-gnu (64-bit)\n",
       "Running under: Arch Linux\n",
       "\n",
       "Matrix products: default\n",
       "BLAS/LAPACK: /ceph/users/alorenzetti/conda/shared_envs/xdp_g4_pred_qvm2_env_r_python27/lib/libopenblasp-r0.3.21.so\n",
       "\n",
       "locale:\n",
       " [1] LC_CTYPE=en_US.UTF-8       LC_NUMERIC=C              \n",
       " [3] LC_TIME=en_US.UTF-8        LC_COLLATE=en_US.UTF-8    \n",
       " [5] LC_MONETARY=en_US.UTF-8    LC_MESSAGES=en_US.UTF-8   \n",
       " [7] LC_PAPER=en_US.UTF-8       LC_NAME=C                 \n",
       " [9] LC_ADDRESS=C               LC_TELEPHONE=C            \n",
       "[11] LC_MEASUREMENT=en_US.UTF-8 LC_IDENTIFICATION=C       \n",
       "\n",
       "attached base packages:\n",
       "[1] grid      stats4    stats     graphics  grDevices utils     datasets \n",
       "[8] methods   base     \n",
       "\n",
       "other attached packages:\n",
       " [1] plyranges_1.18.0     BSgenome_1.66.1      rtracklayer_1.58.0  \n",
       " [4] Gviz_1.42.0          GenomicRanges_1.50.0 pqsfinder_2.14.0    \n",
       " [7] Biostrings_2.66.0    GenomeInfoDb_1.34.1  XVector_0.38.0      \n",
       "[10] IRanges_2.32.0       S4Vectors_0.36.0     BiocGenerics_0.44.0 \n",
       "[13] ggthemes_4.2.4       ggpubr_0.4.0         viridis_0.6.2       \n",
       "[16] viridisLite_0.4.0    ggbeeswarm_0.7.1     forcats_0.5.1       \n",
       "[19] stringr_1.4.0        dplyr_1.0.9          purrr_0.3.4         \n",
       "[22] readr_2.1.2          tidyr_1.2.0          tibble_3.1.7        \n",
       "[25] ggplot2_3.3.6        tidyverse_1.3.1     \n",
       "\n",
       "loaded via a namespace (and not attached):\n",
       "  [1] readxl_1.4.0                uuid_1.1-0                 \n",
       "  [3] backports_1.4.1             Hmisc_4.7-0                \n",
       "  [5] BiocFileCache_2.6.0         lazyeval_0.2.2             \n",
       "  [7] repr_1.1.4                  splines_4.2.0              \n",
       "  [9] BiocParallel_1.32.5         digest_0.6.29              \n",
       " [11] ensembldb_2.22.0            htmltools_0.5.2            \n",
       " [13] fansi_1.0.3                 checkmate_2.1.0            \n",
       " [15] magrittr_2.0.3              memoise_2.0.1              \n",
       " [17] cluster_2.1.3               tzdb_0.3.0                 \n",
       " [19] modelr_0.1.8                matrixStats_0.62.0         \n",
       " [21] prettyunits_1.1.1           jpeg_0.1-9                 \n",
       " [23] colorspace_2.0-3            blob_1.2.3                 \n",
       " [25] rvest_1.0.2                 rappdirs_0.3.3             \n",
       " [27] xfun_0.31                   haven_2.5.0                \n",
       " [29] crayon_1.5.1                RCurl_1.98-1.6             \n",
       " [31] jsonlite_1.8.0              VariantAnnotation_1.44.0   \n",
       " [33] survival_3.3-1              glue_1.6.2                 \n",
       " [35] gtable_0.3.0                zlibbioc_1.44.0            \n",
       " [37] DelayedArray_0.24.0         car_3.0-13                 \n",
       " [39] abind_1.4-5                 scales_1.2.0               \n",
       " [41] DBI_1.1.2                   rstatix_0.7.0              \n",
       " [43] Rcpp_1.0.8.3                htmlTable_2.4.1            \n",
       " [45] progress_1.2.2              foreign_0.8-82             \n",
       " [47] bit_4.0.4                   Formula_1.2-4              \n",
       " [49] htmlwidgets_1.5.4           httr_1.4.3                 \n",
       " [51] RColorBrewer_1.1-3          ellipsis_0.3.2             \n",
       " [53] pkgconfig_2.0.3             XML_3.99-0.9               \n",
       " [55] nnet_7.3-17                 dbplyr_2.1.1               \n",
       " [57] utf8_1.2.2                  tidyselect_1.1.2           \n",
       " [59] rlang_1.0.2                 AnnotationDbi_1.60.0       \n",
       " [61] munsell_0.5.0               cellranger_1.1.0           \n",
       " [63] tools_4.2.0                 cachem_1.0.6               \n",
       " [65] cli_3.3.0                   generics_0.1.2             \n",
       " [67] RSQLite_2.2.14              broom_0.8.0                \n",
       " [69] evaluate_0.15               fastmap_1.1.0              \n",
       " [71] yaml_2.3.5                  knitr_1.39                 \n",
       " [73] bit64_4.0.5                 fs_1.5.2                   \n",
       " [75] AnnotationFilter_1.22.0     KEGGREST_1.38.0            \n",
       " [77] xml2_1.3.3                  biomaRt_2.54.0             \n",
       " [79] compiler_4.2.0              rstudioapi_0.13            \n",
       " [81] beeswarm_0.4.0              filelock_1.0.2             \n",
       " [83] curl_4.3.2                  png_0.1-7                  \n",
       " [85] ggsignif_0.6.3              reprex_2.0.1               \n",
       " [87] stringi_1.7.6               GenomicFeatures_1.50.2     \n",
       " [89] lattice_0.20-45             IRdisplay_1.1              \n",
       " [91] ProtGenerics_1.30.0         Matrix_1.4-1               \n",
       " [93] vctrs_0.4.1                 pillar_1.7.0               \n",
       " [95] lifecycle_1.0.1             data.table_1.14.2          \n",
       " [97] bitops_1.0-7                R6_2.5.1                   \n",
       " [99] BiocIO_1.8.0                latticeExtra_0.6-29        \n",
       "[101] gridExtra_2.3               vipor_0.4.5                \n",
       "[103] codetools_0.2-18            dichromat_2.0-0.1          \n",
       "[105] assertthat_0.2.1            SummarizedExperiment_1.28.0\n",
       "[107] rjson_0.2.21                withr_2.5.0                \n",
       "[109] GenomicAlignments_1.34.0    Rsamtools_2.14.0           \n",
       "[111] GenomeInfoDbData_1.2.9      parallel_4.2.0             \n",
       "[113] hms_1.1.1                   rpart_4.1.16               \n",
       "[115] IRkernel_1.3                MatrixGenerics_1.10.0      \n",
       "[117] carData_3.0-5               biovizBase_1.46.0          \n",
       "[119] pbdZMQ_0.3-7                Biobase_2.58.0             \n",
       "[121] lubridate_1.8.0             base64enc_0.1-3            \n",
       "[123] restfulr_0.0.15            "
      ]
     },
     "metadata": {},
     "output_type": "display_data"
    }
   ],
   "source": [
    "sessionInfo()"
   ]
  }
 ],
 "metadata": {
  "kernelspec": {
   "display_name": "R xdp_g4_pred_qvm2_env_r_python27",
   "language": "R",
   "name": "xdp_g4_pred_qvm2_env_r_python27"
  },
  "language_info": {
   "codemirror_mode": "r",
   "file_extension": ".r",
   "mimetype": "text/x-r-source",
   "name": "R",
   "pygments_lexer": "r",
   "version": "4.2.0"
  }
 },
 "nbformat": 4,
 "nbformat_minor": 5
}
